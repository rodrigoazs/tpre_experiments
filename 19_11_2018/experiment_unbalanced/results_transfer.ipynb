{
 "cells": [
  {
   "cell_type": "code",
   "execution_count": 3,
   "metadata": {
    "collapsed": false
   },
   "outputs": [],
   "source": [
    "import matplotlib.pyplot as plt\n",
    "from IPython.display import display, Markdown, Latex\n",
    "import numpy as np\n",
    "import json\n",
    "import pandas as pd\n",
    "from scipy import stats\n",
    "\n",
    "with open('transfer_experiment.json', 'r') as fp:\n",
    "    data = json.load(fp)"
   ]
  },
  {
   "cell_type": "code",
   "execution_count": 4,
   "metadata": {
    "collapsed": false,
    "scrolled": false
   },
   "outputs": [
    {
     "data": {
      "text/markdown": [
       "# Results for AUC ROC"
      ],
      "text/plain": [
       "<IPython.core.display.Markdown object>"
      ]
     },
     "metadata": {},
     "output_type": "display_data"
    },
    {
     "data": {
      "text/html": [
       "<div>\n",
       "<table border=\"1\" class=\"dataframe\">\n",
       "  <thead>\n",
       "    <tr style=\"text-align: right;\">\n",
       "      <th></th>\n",
       "      <th>Experiment</th>\n",
       "      <th>Transfer Learning</th>\n",
       "      <th>Transfer Learning with Revision Theory</th>\n",
       "      <th>Learning from scratch</th>\n",
       "    </tr>\n",
       "  </thead>\n",
       "  <tbody>\n",
       "    <tr>\n",
       "      <th>0</th>\n",
       "      <td>1_imdb_uwcse</td>\n",
       "      <td>0.936 +/- 0.003</td>\n",
       "      <td>0.947 +/- 0.013</td>\n",
       "      <td>0.934 +/- 0.032</td>\n",
       "    </tr>\n",
       "    <tr>\n",
       "      <th>1</th>\n",
       "      <td>2_uwcse_imdb</td>\n",
       "      <td>1.000 +/- 0.000</td>\n",
       "      <td>1.000 +/- 0.000</td>\n",
       "      <td>1.000 +/- 0.000</td>\n",
       "    </tr>\n",
       "    <tr>\n",
       "      <th>2</th>\n",
       "      <td>3_imdb_uwcse</td>\n",
       "      <td>0.640 +/- 0.141</td>\n",
       "      <td>0.615 +/- 0.112</td>\n",
       "      <td>0.623 +/- 0.098</td>\n",
       "    </tr>\n",
       "    <tr>\n",
       "      <th>3</th>\n",
       "      <td>4_uwcse_imdb</td>\n",
       "      <td>0.499 +/- 0.002</td>\n",
       "      <td>0.504 +/- 0.025</td>\n",
       "      <td>0.503 +/- 0.024</td>\n",
       "    </tr>\n",
       "    <tr>\n",
       "      <th>4</th>\n",
       "      <td>5_imdb_uwcse</td>\n",
       "      <td>0.500 +/- 0.000</td>\n",
       "      <td>0.500 +/- 0.000</td>\n",
       "      <td>0.500 +/- 0.000</td>\n",
       "    </tr>\n",
       "    <tr>\n",
       "      <th>5</th>\n",
       "      <td>6_uwcse_imdb</td>\n",
       "      <td>0.949 +/- 0.025</td>\n",
       "      <td>0.949 +/- 0.025</td>\n",
       "      <td>0.949 +/- 0.025</td>\n",
       "    </tr>\n",
       "    <tr>\n",
       "      <th>6</th>\n",
       "      <td>7_imdb_cora</td>\n",
       "      <td>0.527 +/- 0.082</td>\n",
       "      <td>0.552 +/- 0.027</td>\n",
       "      <td>0.556 +/- 0.023</td>\n",
       "    </tr>\n",
       "    <tr>\n",
       "      <th>7</th>\n",
       "      <td>8_imdb_cora</td>\n",
       "      <td>0.778 +/- 0.231</td>\n",
       "      <td>0.924 +/- 0.035</td>\n",
       "      <td>0.936 +/- 0.007</td>\n",
       "    </tr>\n",
       "    <tr>\n",
       "      <th>8</th>\n",
       "      <td>9_imdb_cora</td>\n",
       "      <td>0.675 +/- 0.063</td>\n",
       "      <td>0.646 +/- 0.211</td>\n",
       "      <td>0.535 +/- 0.233</td>\n",
       "    </tr>\n",
       "    <tr>\n",
       "      <th>9</th>\n",
       "      <td>10_imdb_cora</td>\n",
       "      <td>0.504 +/- 0.003</td>\n",
       "      <td>0.743 +/- 0.291</td>\n",
       "      <td>0.827 +/- 0.235</td>\n",
       "    </tr>\n",
       "    <tr>\n",
       "      <th>10</th>\n",
       "      <td>11_uwcse_cora</td>\n",
       "      <td>0.570 +/- 0.038</td>\n",
       "      <td>0.593 +/- 0.069</td>\n",
       "      <td>0.619 +/- 0.244</td>\n",
       "    </tr>\n",
       "    <tr>\n",
       "      <th>11</th>\n",
       "      <td>12_uwcse_cora</td>\n",
       "      <td>0.743 +/- 0.219</td>\n",
       "      <td>0.940 +/- 0.010</td>\n",
       "      <td>0.936 +/- 0.007</td>\n",
       "    </tr>\n",
       "    <tr>\n",
       "      <th>12</th>\n",
       "      <td>13_uwcse_cora</td>\n",
       "      <td>0.675 +/- 0.063</td>\n",
       "      <td>0.639 +/- 0.193</td>\n",
       "      <td>0.542 +/- 0.115</td>\n",
       "    </tr>\n",
       "    <tr>\n",
       "      <th>13</th>\n",
       "      <td>14_uwcse_cora</td>\n",
       "      <td>0.504 +/- 0.003</td>\n",
       "      <td>0.832 +/- 0.241</td>\n",
       "      <td>0.828 +/- 0.237</td>\n",
       "    </tr>\n",
       "  </tbody>\n",
       "</table>\n",
       "</div>"
      ],
      "text/plain": [
       "       Experiment Transfer Learning Transfer Learning with Revision Theory  \\\n",
       "0    1_imdb_uwcse   0.936 +/- 0.003                        0.947 +/- 0.013   \n",
       "1    2_uwcse_imdb   1.000 +/- 0.000                        1.000 +/- 0.000   \n",
       "2    3_imdb_uwcse   0.640 +/- 0.141                        0.615 +/- 0.112   \n",
       "3    4_uwcse_imdb   0.499 +/- 0.002                        0.504 +/- 0.025   \n",
       "4    5_imdb_uwcse   0.500 +/- 0.000                        0.500 +/- 0.000   \n",
       "5    6_uwcse_imdb   0.949 +/- 0.025                        0.949 +/- 0.025   \n",
       "6     7_imdb_cora   0.527 +/- 0.082                        0.552 +/- 0.027   \n",
       "7     8_imdb_cora   0.778 +/- 0.231                        0.924 +/- 0.035   \n",
       "8     9_imdb_cora   0.675 +/- 0.063                        0.646 +/- 0.211   \n",
       "9    10_imdb_cora   0.504 +/- 0.003                        0.743 +/- 0.291   \n",
       "10  11_uwcse_cora   0.570 +/- 0.038                        0.593 +/- 0.069   \n",
       "11  12_uwcse_cora   0.743 +/- 0.219                        0.940 +/- 0.010   \n",
       "12  13_uwcse_cora   0.675 +/- 0.063                        0.639 +/- 0.193   \n",
       "13  14_uwcse_cora   0.504 +/- 0.003                        0.832 +/- 0.241   \n",
       "\n",
       "   Learning from scratch  \n",
       "0        0.934 +/- 0.032  \n",
       "1        1.000 +/- 0.000  \n",
       "2        0.623 +/- 0.098  \n",
       "3        0.503 +/- 0.024  \n",
       "4        0.500 +/- 0.000  \n",
       "5        0.949 +/- 0.025  \n",
       "6        0.556 +/- 0.023  \n",
       "7        0.936 +/- 0.007  \n",
       "8        0.535 +/- 0.233  \n",
       "9        0.827 +/- 0.235  \n",
       "10       0.619 +/- 0.244  \n",
       "11       0.936 +/- 0.007  \n",
       "12       0.542 +/- 0.115  \n",
       "13       0.828 +/- 0.237  "
      ]
     },
     "metadata": {},
     "output_type": "display_data"
    },
    {
     "data": {
      "text/markdown": [
       "# Results for AUC PR"
      ],
      "text/plain": [
       "<IPython.core.display.Markdown object>"
      ]
     },
     "metadata": {},
     "output_type": "display_data"
    },
    {
     "data": {
      "text/html": [
       "<div>\n",
       "<table border=\"1\" class=\"dataframe\">\n",
       "  <thead>\n",
       "    <tr style=\"text-align: right;\">\n",
       "      <th></th>\n",
       "      <th>Experiment</th>\n",
       "      <th>Transfer Learning</th>\n",
       "      <th>Transfer Learning with Revision Theory</th>\n",
       "      <th>Learning from scratch</th>\n",
       "    </tr>\n",
       "  </thead>\n",
       "  <tbody>\n",
       "    <tr>\n",
       "      <th>0</th>\n",
       "      <td>1_imdb_uwcse</td>\n",
       "      <td>0.336 +/- 0.053</td>\n",
       "      <td>0.340 +/- 0.075</td>\n",
       "      <td>0.254 +/- 0.224</td>\n",
       "    </tr>\n",
       "    <tr>\n",
       "      <th>1</th>\n",
       "      <td>2_uwcse_imdb</td>\n",
       "      <td>1.000 +/- 0.000</td>\n",
       "      <td>1.000 +/- 0.000</td>\n",
       "      <td>1.000 +/- 0.000</td>\n",
       "    </tr>\n",
       "    <tr>\n",
       "      <th>2</th>\n",
       "      <td>3_imdb_uwcse</td>\n",
       "      <td>0.132 +/- 0.055</td>\n",
       "      <td>0.133 +/- 0.050</td>\n",
       "      <td>0.127 +/- 0.043</td>\n",
       "    </tr>\n",
       "    <tr>\n",
       "      <th>3</th>\n",
       "      <td>4_uwcse_imdb</td>\n",
       "      <td>0.266 +/- 0.004</td>\n",
       "      <td>0.269 +/- 0.010</td>\n",
       "      <td>0.268 +/- 0.010</td>\n",
       "    </tr>\n",
       "    <tr>\n",
       "      <th>4</th>\n",
       "      <td>5_imdb_uwcse</td>\n",
       "      <td>0.333 +/- 0.000</td>\n",
       "      <td>0.333 +/- 0.000</td>\n",
       "      <td>0.333 +/- 0.000</td>\n",
       "    </tr>\n",
       "    <tr>\n",
       "      <th>5</th>\n",
       "      <td>6_uwcse_imdb</td>\n",
       "      <td>0.170 +/- 0.067</td>\n",
       "      <td>0.170 +/- 0.067</td>\n",
       "      <td>0.170 +/- 0.067</td>\n",
       "    </tr>\n",
       "    <tr>\n",
       "      <th>6</th>\n",
       "      <td>7_imdb_cora</td>\n",
       "      <td>0.390 +/- 0.129</td>\n",
       "      <td>0.417 +/- 0.108</td>\n",
       "      <td>0.421 +/- 0.104</td>\n",
       "    </tr>\n",
       "    <tr>\n",
       "      <th>7</th>\n",
       "      <td>8_imdb_cora</td>\n",
       "      <td>0.862 +/- 0.138</td>\n",
       "      <td>0.945 +/- 0.038</td>\n",
       "      <td>0.961 +/- 0.015</td>\n",
       "    </tr>\n",
       "    <tr>\n",
       "      <th>8</th>\n",
       "      <td>9_imdb_cora</td>\n",
       "      <td>0.944 +/- 0.008</td>\n",
       "      <td>0.937 +/- 0.050</td>\n",
       "      <td>0.922 +/- 0.055</td>\n",
       "    </tr>\n",
       "    <tr>\n",
       "      <th>9</th>\n",
       "      <td>10_imdb_cora</td>\n",
       "      <td>0.498 +/- 0.063</td>\n",
       "      <td>0.718 +/- 0.293</td>\n",
       "      <td>0.795 +/- 0.271</td>\n",
       "    </tr>\n",
       "    <tr>\n",
       "      <th>10</th>\n",
       "      <td>11_uwcse_cora</td>\n",
       "      <td>0.496 +/- 0.099</td>\n",
       "      <td>0.497 +/- 0.121</td>\n",
       "      <td>0.475 +/- 0.288</td>\n",
       "    </tr>\n",
       "    <tr>\n",
       "      <th>11</th>\n",
       "      <td>12_uwcse_cora</td>\n",
       "      <td>0.832 +/- 0.146</td>\n",
       "      <td>0.967 +/- 0.008</td>\n",
       "      <td>0.961 +/- 0.015</td>\n",
       "    </tr>\n",
       "    <tr>\n",
       "      <th>12</th>\n",
       "      <td>13_uwcse_cora</td>\n",
       "      <td>0.944 +/- 0.008</td>\n",
       "      <td>0.938 +/- 0.051</td>\n",
       "      <td>0.924 +/- 0.016</td>\n",
       "    </tr>\n",
       "    <tr>\n",
       "      <th>13</th>\n",
       "      <td>14_uwcse_cora</td>\n",
       "      <td>0.498 +/- 0.063</td>\n",
       "      <td>0.805 +/- 0.293</td>\n",
       "      <td>0.797 +/- 0.277</td>\n",
       "    </tr>\n",
       "  </tbody>\n",
       "</table>\n",
       "</div>"
      ],
      "text/plain": [
       "       Experiment Transfer Learning Transfer Learning with Revision Theory  \\\n",
       "0    1_imdb_uwcse   0.336 +/- 0.053                        0.340 +/- 0.075   \n",
       "1    2_uwcse_imdb   1.000 +/- 0.000                        1.000 +/- 0.000   \n",
       "2    3_imdb_uwcse   0.132 +/- 0.055                        0.133 +/- 0.050   \n",
       "3    4_uwcse_imdb   0.266 +/- 0.004                        0.269 +/- 0.010   \n",
       "4    5_imdb_uwcse   0.333 +/- 0.000                        0.333 +/- 0.000   \n",
       "5    6_uwcse_imdb   0.170 +/- 0.067                        0.170 +/- 0.067   \n",
       "6     7_imdb_cora   0.390 +/- 0.129                        0.417 +/- 0.108   \n",
       "7     8_imdb_cora   0.862 +/- 0.138                        0.945 +/- 0.038   \n",
       "8     9_imdb_cora   0.944 +/- 0.008                        0.937 +/- 0.050   \n",
       "9    10_imdb_cora   0.498 +/- 0.063                        0.718 +/- 0.293   \n",
       "10  11_uwcse_cora   0.496 +/- 0.099                        0.497 +/- 0.121   \n",
       "11  12_uwcse_cora   0.832 +/- 0.146                        0.967 +/- 0.008   \n",
       "12  13_uwcse_cora   0.944 +/- 0.008                        0.938 +/- 0.051   \n",
       "13  14_uwcse_cora   0.498 +/- 0.063                        0.805 +/- 0.293   \n",
       "\n",
       "   Learning from scratch  \n",
       "0        0.254 +/- 0.224  \n",
       "1        1.000 +/- 0.000  \n",
       "2        0.127 +/- 0.043  \n",
       "3        0.268 +/- 0.010  \n",
       "4        0.333 +/- 0.000  \n",
       "5        0.170 +/- 0.067  \n",
       "6        0.421 +/- 0.104  \n",
       "7        0.961 +/- 0.015  \n",
       "8        0.922 +/- 0.055  \n",
       "9        0.795 +/- 0.271  \n",
       "10       0.475 +/- 0.288  \n",
       "11       0.961 +/- 0.015  \n",
       "12       0.924 +/- 0.016  \n",
       "13       0.797 +/- 0.277  "
      ]
     },
     "metadata": {},
     "output_type": "display_data"
    },
    {
     "data": {
      "text/markdown": [
       "# Results for CLL"
      ],
      "text/plain": [
       "<IPython.core.display.Markdown object>"
      ]
     },
     "metadata": {},
     "output_type": "display_data"
    },
    {
     "data": {
      "text/html": [
       "<div>\n",
       "<table border=\"1\" class=\"dataframe\">\n",
       "  <thead>\n",
       "    <tr style=\"text-align: right;\">\n",
       "      <th></th>\n",
       "      <th>Experiment</th>\n",
       "      <th>Transfer Learning</th>\n",
       "      <th>Transfer Learning with Revision Theory</th>\n",
       "      <th>Learning from scratch</th>\n",
       "    </tr>\n",
       "  </thead>\n",
       "  <tbody>\n",
       "    <tr>\n",
       "      <th>0</th>\n",
       "      <td>1_imdb_uwcse</td>\n",
       "      <td>-0.259 +/- 0.105</td>\n",
       "      <td>-0.254 +/- 0.108</td>\n",
       "      <td>-0.250 +/- 0.086</td>\n",
       "    </tr>\n",
       "    <tr>\n",
       "      <th>1</th>\n",
       "      <td>2_uwcse_imdb</td>\n",
       "      <td>-0.066 +/- 0.001</td>\n",
       "      <td>-0.066 +/- 0.004</td>\n",
       "      <td>-0.076 +/- 0.020</td>\n",
       "    </tr>\n",
       "    <tr>\n",
       "      <th>2</th>\n",
       "      <td>3_imdb_uwcse</td>\n",
       "      <td>-0.462 +/- 0.191</td>\n",
       "      <td>-0.467 +/- 0.174</td>\n",
       "      <td>-0.460 +/- 0.181</td>\n",
       "    </tr>\n",
       "    <tr>\n",
       "      <th>3</th>\n",
       "      <td>4_uwcse_imdb</td>\n",
       "      <td>-0.585 +/- 0.007</td>\n",
       "      <td>-0.586 +/- 0.006</td>\n",
       "      <td>-0.586 +/- 0.003</td>\n",
       "    </tr>\n",
       "    <tr>\n",
       "      <th>4</th>\n",
       "      <td>5_imdb_uwcse</td>\n",
       "      <td>-0.638 +/- 0.000</td>\n",
       "      <td>-0.638 +/- 0.000</td>\n",
       "      <td>-0.638 +/- 0.000</td>\n",
       "    </tr>\n",
       "    <tr>\n",
       "      <th>5</th>\n",
       "      <td>6_uwcse_imdb</td>\n",
       "      <td>-0.223 +/- 0.112</td>\n",
       "      <td>-0.220 +/- 0.115</td>\n",
       "      <td>-0.224 +/- 0.122</td>\n",
       "    </tr>\n",
       "    <tr>\n",
       "      <th>6</th>\n",
       "      <td>7_imdb_cora</td>\n",
       "      <td>-0.696 +/- 0.081</td>\n",
       "      <td>-0.693 +/- 0.083</td>\n",
       "      <td>-0.692 +/- 0.083</td>\n",
       "    </tr>\n",
       "    <tr>\n",
       "      <th>7</th>\n",
       "      <td>8_imdb_cora</td>\n",
       "      <td>-0.546 +/- 0.230</td>\n",
       "      <td>-0.349 +/- 0.165</td>\n",
       "      <td>-0.344 +/- 0.168</td>\n",
       "    </tr>\n",
       "    <tr>\n",
       "      <th>8</th>\n",
       "      <td>9_imdb_cora</td>\n",
       "      <td>-0.256 +/- 0.002</td>\n",
       "      <td>-0.305 +/- 0.155</td>\n",
       "      <td>-0.327 +/- 0.123</td>\n",
       "    </tr>\n",
       "    <tr>\n",
       "      <th>9</th>\n",
       "      <td>10_imdb_cora</td>\n",
       "      <td>-0.746 +/- 0.075</td>\n",
       "      <td>-0.566 +/- 0.349</td>\n",
       "      <td>-0.480 +/- 0.435</td>\n",
       "    </tr>\n",
       "    <tr>\n",
       "      <th>10</th>\n",
       "      <td>11_uwcse_cora</td>\n",
       "      <td>-0.660 +/- 0.086</td>\n",
       "      <td>-0.668 +/- 0.091</td>\n",
       "      <td>-0.666 +/- 0.123</td>\n",
       "    </tr>\n",
       "    <tr>\n",
       "      <th>11</th>\n",
       "      <td>12_uwcse_cora</td>\n",
       "      <td>-0.601 +/- 0.351</td>\n",
       "      <td>-0.356 +/- 0.193</td>\n",
       "      <td>-0.344 +/- 0.168</td>\n",
       "    </tr>\n",
       "    <tr>\n",
       "      <th>12</th>\n",
       "      <td>13_uwcse_cora</td>\n",
       "      <td>-0.261 +/- 0.004</td>\n",
       "      <td>-0.300 +/- 0.118</td>\n",
       "      <td>-0.322 +/- 0.110</td>\n",
       "    </tr>\n",
       "    <tr>\n",
       "      <th>13</th>\n",
       "      <td>14_uwcse_cora</td>\n",
       "      <td>-0.746 +/- 0.075</td>\n",
       "      <td>-0.521 +/- 0.319</td>\n",
       "      <td>-0.470 +/- 0.425</td>\n",
       "    </tr>\n",
       "  </tbody>\n",
       "</table>\n",
       "</div>"
      ],
      "text/plain": [
       "       Experiment Transfer Learning Transfer Learning with Revision Theory  \\\n",
       "0    1_imdb_uwcse  -0.259 +/- 0.105                       -0.254 +/- 0.108   \n",
       "1    2_uwcse_imdb  -0.066 +/- 0.001                       -0.066 +/- 0.004   \n",
       "2    3_imdb_uwcse  -0.462 +/- 0.191                       -0.467 +/- 0.174   \n",
       "3    4_uwcse_imdb  -0.585 +/- 0.007                       -0.586 +/- 0.006   \n",
       "4    5_imdb_uwcse  -0.638 +/- 0.000                       -0.638 +/- 0.000   \n",
       "5    6_uwcse_imdb  -0.223 +/- 0.112                       -0.220 +/- 0.115   \n",
       "6     7_imdb_cora  -0.696 +/- 0.081                       -0.693 +/- 0.083   \n",
       "7     8_imdb_cora  -0.546 +/- 0.230                       -0.349 +/- 0.165   \n",
       "8     9_imdb_cora  -0.256 +/- 0.002                       -0.305 +/- 0.155   \n",
       "9    10_imdb_cora  -0.746 +/- 0.075                       -0.566 +/- 0.349   \n",
       "10  11_uwcse_cora  -0.660 +/- 0.086                       -0.668 +/- 0.091   \n",
       "11  12_uwcse_cora  -0.601 +/- 0.351                       -0.356 +/- 0.193   \n",
       "12  13_uwcse_cora  -0.261 +/- 0.004                       -0.300 +/- 0.118   \n",
       "13  14_uwcse_cora  -0.746 +/- 0.075                       -0.521 +/- 0.319   \n",
       "\n",
       "   Learning from scratch  \n",
       "0       -0.250 +/- 0.086  \n",
       "1       -0.076 +/- 0.020  \n",
       "2       -0.460 +/- 0.181  \n",
       "3       -0.586 +/- 0.003  \n",
       "4       -0.638 +/- 0.000  \n",
       "5       -0.224 +/- 0.122  \n",
       "6       -0.692 +/- 0.083  \n",
       "7       -0.344 +/- 0.168  \n",
       "8       -0.327 +/- 0.123  \n",
       "9       -0.480 +/- 0.435  \n",
       "10      -0.666 +/- 0.123  \n",
       "11      -0.344 +/- 0.168  \n",
       "12      -0.322 +/- 0.110  \n",
       "13      -0.470 +/- 0.425  "
      ]
     },
     "metadata": {},
     "output_type": "display_data"
    },
    {
     "data": {
      "text/markdown": [
       "# Results for Recall"
      ],
      "text/plain": [
       "<IPython.core.display.Markdown object>"
      ]
     },
     "metadata": {},
     "output_type": "display_data"
    },
    {
     "data": {
      "text/html": [
       "<div>\n",
       "<table border=\"1\" class=\"dataframe\">\n",
       "  <thead>\n",
       "    <tr style=\"text-align: right;\">\n",
       "      <th></th>\n",
       "      <th>Experiment</th>\n",
       "      <th>Transfer Learning</th>\n",
       "      <th>Transfer Learning with Revision Theory</th>\n",
       "      <th>Learning from scratch</th>\n",
       "    </tr>\n",
       "  </thead>\n",
       "  <tbody>\n",
       "    <tr>\n",
       "      <th>0</th>\n",
       "      <td>1_imdb_uwcse</td>\n",
       "      <td>1.000 +/- 0.000</td>\n",
       "      <td>0.879 +/- 0.151</td>\n",
       "      <td>0.892 +/- 0.192</td>\n",
       "    </tr>\n",
       "    <tr>\n",
       "      <th>1</th>\n",
       "      <td>2_uwcse_imdb</td>\n",
       "      <td>1.000 +/- 0.000</td>\n",
       "      <td>1.000 +/- 0.000</td>\n",
       "      <td>1.000 +/- 0.000</td>\n",
       "    </tr>\n",
       "    <tr>\n",
       "      <th>2</th>\n",
       "      <td>3_imdb_uwcse</td>\n",
       "      <td>0.275 +/- 0.675</td>\n",
       "      <td>0.304 +/- 0.289</td>\n",
       "      <td>0.239 +/- 0.375</td>\n",
       "    </tr>\n",
       "    <tr>\n",
       "      <th>3</th>\n",
       "      <td>4_uwcse_imdb</td>\n",
       "      <td>0.000 +/- 0.000</td>\n",
       "      <td>0.000 +/- 0.000</td>\n",
       "      <td>0.000 +/- 0.000</td>\n",
       "    </tr>\n",
       "    <tr>\n",
       "      <th>4</th>\n",
       "      <td>5_imdb_uwcse</td>\n",
       "      <td>0.000 +/- 0.000</td>\n",
       "      <td>0.000 +/- 0.000</td>\n",
       "      <td>0.000 +/- 0.000</td>\n",
       "    </tr>\n",
       "    <tr>\n",
       "      <th>5</th>\n",
       "      <td>6_uwcse_imdb</td>\n",
       "      <td>1.000 +/- 0.000</td>\n",
       "      <td>1.000 +/- 0.000</td>\n",
       "      <td>0.800 +/- 0.800</td>\n",
       "    </tr>\n",
       "    <tr>\n",
       "      <th>6</th>\n",
       "      <td>7_imdb_cora</td>\n",
       "      <td>0.390 +/- 0.957</td>\n",
       "      <td>0.389 +/- 0.911</td>\n",
       "      <td>0.406 +/- 0.880</td>\n",
       "    </tr>\n",
       "    <tr>\n",
       "      <th>7</th>\n",
       "      <td>8_imdb_cora</td>\n",
       "      <td>0.612 +/- 0.520</td>\n",
       "      <td>0.900 +/- 0.075</td>\n",
       "      <td>0.899 +/- 0.078</td>\n",
       "    </tr>\n",
       "    <tr>\n",
       "      <th>8</th>\n",
       "      <td>9_imdb_cora</td>\n",
       "      <td>1.000 +/- 0.000</td>\n",
       "      <td>0.979 +/- 0.084</td>\n",
       "      <td>0.966 +/- 0.138</td>\n",
       "    </tr>\n",
       "    <tr>\n",
       "      <th>9</th>\n",
       "      <td>10_imdb_cora</td>\n",
       "      <td>0.400 +/- 0.980</td>\n",
       "      <td>0.641 +/- 0.777</td>\n",
       "      <td>0.833 +/- 0.469</td>\n",
       "    </tr>\n",
       "    <tr>\n",
       "      <th>10</th>\n",
       "      <td>11_uwcse_cora</td>\n",
       "      <td>0.267 +/- 0.748</td>\n",
       "      <td>0.423 +/- 0.861</td>\n",
       "      <td>0.402 +/- 0.894</td>\n",
       "    </tr>\n",
       "    <tr>\n",
       "      <th>11</th>\n",
       "      <td>12_uwcse_cora</td>\n",
       "      <td>0.612 +/- 0.520</td>\n",
       "      <td>0.908 +/- 0.097</td>\n",
       "      <td>0.899 +/- 0.078</td>\n",
       "    </tr>\n",
       "    <tr>\n",
       "      <th>12</th>\n",
       "      <td>13_uwcse_cora</td>\n",
       "      <td>1.000 +/- 0.000</td>\n",
       "      <td>0.963 +/- 0.147</td>\n",
       "      <td>0.966 +/- 0.138</td>\n",
       "    </tr>\n",
       "    <tr>\n",
       "      <th>13</th>\n",
       "      <td>14_uwcse_cora</td>\n",
       "      <td>0.400 +/- 0.980</td>\n",
       "      <td>0.817 +/- 0.457</td>\n",
       "      <td>0.832 +/- 0.473</td>\n",
       "    </tr>\n",
       "  </tbody>\n",
       "</table>\n",
       "</div>"
      ],
      "text/plain": [
       "       Experiment Transfer Learning Transfer Learning with Revision Theory  \\\n",
       "0    1_imdb_uwcse   1.000 +/- 0.000                        0.879 +/- 0.151   \n",
       "1    2_uwcse_imdb   1.000 +/- 0.000                        1.000 +/- 0.000   \n",
       "2    3_imdb_uwcse   0.275 +/- 0.675                        0.304 +/- 0.289   \n",
       "3    4_uwcse_imdb   0.000 +/- 0.000                        0.000 +/- 0.000   \n",
       "4    5_imdb_uwcse   0.000 +/- 0.000                        0.000 +/- 0.000   \n",
       "5    6_uwcse_imdb   1.000 +/- 0.000                        1.000 +/- 0.000   \n",
       "6     7_imdb_cora   0.390 +/- 0.957                        0.389 +/- 0.911   \n",
       "7     8_imdb_cora   0.612 +/- 0.520                        0.900 +/- 0.075   \n",
       "8     9_imdb_cora   1.000 +/- 0.000                        0.979 +/- 0.084   \n",
       "9    10_imdb_cora   0.400 +/- 0.980                        0.641 +/- 0.777   \n",
       "10  11_uwcse_cora   0.267 +/- 0.748                        0.423 +/- 0.861   \n",
       "11  12_uwcse_cora   0.612 +/- 0.520                        0.908 +/- 0.097   \n",
       "12  13_uwcse_cora   1.000 +/- 0.000                        0.963 +/- 0.147   \n",
       "13  14_uwcse_cora   0.400 +/- 0.980                        0.817 +/- 0.457   \n",
       "\n",
       "   Learning from scratch  \n",
       "0        0.892 +/- 0.192  \n",
       "1        1.000 +/- 0.000  \n",
       "2        0.239 +/- 0.375  \n",
       "3        0.000 +/- 0.000  \n",
       "4        0.000 +/- 0.000  \n",
       "5        0.800 +/- 0.800  \n",
       "6        0.406 +/- 0.880  \n",
       "7        0.899 +/- 0.078  \n",
       "8        0.966 +/- 0.138  \n",
       "9        0.833 +/- 0.469  \n",
       "10       0.402 +/- 0.894  \n",
       "11       0.899 +/- 0.078  \n",
       "12       0.966 +/- 0.138  \n",
       "13       0.832 +/- 0.473  "
      ]
     },
     "metadata": {},
     "output_type": "display_data"
    },
    {
     "data": {
      "text/markdown": [
       "# Results for F1"
      ],
      "text/plain": [
       "<IPython.core.display.Markdown object>"
      ]
     },
     "metadata": {},
     "output_type": "display_data"
    },
    {
     "data": {
      "text/html": [
       "<div>\n",
       "<table border=\"1\" class=\"dataframe\">\n",
       "  <thead>\n",
       "    <tr style=\"text-align: right;\">\n",
       "      <th></th>\n",
       "      <th>Experiment</th>\n",
       "      <th>Transfer Learning</th>\n",
       "      <th>Transfer Learning with Revision Theory</th>\n",
       "      <th>Learning from scratch</th>\n",
       "    </tr>\n",
       "  </thead>\n",
       "  <tbody>\n",
       "    <tr>\n",
       "      <th>0</th>\n",
       "      <td>1_imdb_uwcse</td>\n",
       "      <td>0.232 +/- 0.051</td>\n",
       "      <td>0.288 +/- 0.104</td>\n",
       "      <td>0.278 +/- 0.099</td>\n",
       "    </tr>\n",
       "    <tr>\n",
       "      <th>1</th>\n",
       "      <td>2_uwcse_imdb</td>\n",
       "      <td>1.000 +/- 0.000</td>\n",
       "      <td>1.000 +/- 0.000</td>\n",
       "      <td>0.940 +/- 0.147</td>\n",
       "    </tr>\n",
       "    <tr>\n",
       "      <th>2</th>\n",
       "      <td>3_imdb_uwcse</td>\n",
       "      <td>nan +/- nan</td>\n",
       "      <td>0.179 +/- 0.056</td>\n",
       "      <td>nan +/- nan</td>\n",
       "    </tr>\n",
       "    <tr>\n",
       "      <th>3</th>\n",
       "      <td>4_uwcse_imdb</td>\n",
       "      <td>nan +/- nan</td>\n",
       "      <td>nan +/- nan</td>\n",
       "      <td>nan +/- nan</td>\n",
       "    </tr>\n",
       "    <tr>\n",
       "      <th>4</th>\n",
       "      <td>5_imdb_uwcse</td>\n",
       "      <td>nan +/- nan</td>\n",
       "      <td>nan +/- nan</td>\n",
       "      <td>nan +/- nan</td>\n",
       "    </tr>\n",
       "    <tr>\n",
       "      <th>5</th>\n",
       "      <td>6_uwcse_imdb</td>\n",
       "      <td>0.289 +/- 0.096</td>\n",
       "      <td>0.289 +/- 0.096</td>\n",
       "      <td>nan +/- nan</td>\n",
       "    </tr>\n",
       "    <tr>\n",
       "      <th>6</th>\n",
       "      <td>7_imdb_cora</td>\n",
       "      <td>nan +/- nan</td>\n",
       "      <td>0.230 +/- 0.486</td>\n",
       "      <td>0.262 +/- 0.433</td>\n",
       "    </tr>\n",
       "    <tr>\n",
       "      <th>7</th>\n",
       "      <td>8_imdb_cora</td>\n",
       "      <td>0.661 +/- 0.275</td>\n",
       "      <td>0.888 +/- 0.134</td>\n",
       "      <td>0.887 +/- 0.133</td>\n",
       "    </tr>\n",
       "    <tr>\n",
       "      <th>8</th>\n",
       "      <td>9_imdb_cora</td>\n",
       "      <td>0.971 +/- 0.004</td>\n",
       "      <td>0.961 +/- 0.042</td>\n",
       "      <td>0.946 +/- 0.066</td>\n",
       "    </tr>\n",
       "    <tr>\n",
       "      <th>9</th>\n",
       "      <td>10_imdb_cora</td>\n",
       "      <td>nan +/- nan</td>\n",
       "      <td>0.576 +/- 0.638</td>\n",
       "      <td>0.767 +/- 0.364</td>\n",
       "    </tr>\n",
       "    <tr>\n",
       "      <th>10</th>\n",
       "      <td>11_uwcse_cora</td>\n",
       "      <td>nan +/- nan</td>\n",
       "      <td>nan +/- nan</td>\n",
       "      <td>0.252 +/- 0.456</td>\n",
       "    </tr>\n",
       "    <tr>\n",
       "      <th>11</th>\n",
       "      <td>12_uwcse_cora</td>\n",
       "      <td>0.661 +/- 0.275</td>\n",
       "      <td>0.877 +/- 0.182</td>\n",
       "      <td>0.887 +/- 0.133</td>\n",
       "    </tr>\n",
       "    <tr>\n",
       "      <th>12</th>\n",
       "      <td>13_uwcse_cora</td>\n",
       "      <td>0.971 +/- 0.004</td>\n",
       "      <td>0.952 +/- 0.077</td>\n",
       "      <td>0.946 +/- 0.066</td>\n",
       "    </tr>\n",
       "    <tr>\n",
       "      <th>13</th>\n",
       "      <td>14_uwcse_cora</td>\n",
       "      <td>nan +/- nan</td>\n",
       "      <td>0.752 +/- 0.334</td>\n",
       "      <td>0.766 +/- 0.367</td>\n",
       "    </tr>\n",
       "  </tbody>\n",
       "</table>\n",
       "</div>"
      ],
      "text/plain": [
       "       Experiment Transfer Learning Transfer Learning with Revision Theory  \\\n",
       "0    1_imdb_uwcse   0.232 +/- 0.051                        0.288 +/- 0.104   \n",
       "1    2_uwcse_imdb   1.000 +/- 0.000                        1.000 +/- 0.000   \n",
       "2    3_imdb_uwcse       nan +/- nan                        0.179 +/- 0.056   \n",
       "3    4_uwcse_imdb       nan +/- nan                            nan +/- nan   \n",
       "4    5_imdb_uwcse       nan +/- nan                            nan +/- nan   \n",
       "5    6_uwcse_imdb   0.289 +/- 0.096                        0.289 +/- 0.096   \n",
       "6     7_imdb_cora       nan +/- nan                        0.230 +/- 0.486   \n",
       "7     8_imdb_cora   0.661 +/- 0.275                        0.888 +/- 0.134   \n",
       "8     9_imdb_cora   0.971 +/- 0.004                        0.961 +/- 0.042   \n",
       "9    10_imdb_cora       nan +/- nan                        0.576 +/- 0.638   \n",
       "10  11_uwcse_cora       nan +/- nan                            nan +/- nan   \n",
       "11  12_uwcse_cora   0.661 +/- 0.275                        0.877 +/- 0.182   \n",
       "12  13_uwcse_cora   0.971 +/- 0.004                        0.952 +/- 0.077   \n",
       "13  14_uwcse_cora       nan +/- nan                        0.752 +/- 0.334   \n",
       "\n",
       "   Learning from scratch  \n",
       "0        0.278 +/- 0.099  \n",
       "1        0.940 +/- 0.147  \n",
       "2            nan +/- nan  \n",
       "3            nan +/- nan  \n",
       "4            nan +/- nan  \n",
       "5            nan +/- nan  \n",
       "6        0.262 +/- 0.433  \n",
       "7        0.887 +/- 0.133  \n",
       "8        0.946 +/- 0.066  \n",
       "9        0.767 +/- 0.364  \n",
       "10       0.252 +/- 0.456  \n",
       "11       0.887 +/- 0.133  \n",
       "12       0.946 +/- 0.066  \n",
       "13       0.766 +/- 0.367  "
      ]
     },
     "metadata": {},
     "output_type": "display_data"
    },
    {
     "data": {
      "text/markdown": [
       "# Results for Precision"
      ],
      "text/plain": [
       "<IPython.core.display.Markdown object>"
      ]
     },
     "metadata": {},
     "output_type": "display_data"
    },
    {
     "data": {
      "text/html": [
       "<div>\n",
       "<table border=\"1\" class=\"dataframe\">\n",
       "  <thead>\n",
       "    <tr style=\"text-align: right;\">\n",
       "      <th></th>\n",
       "      <th>Experiment</th>\n",
       "      <th>Transfer Learning</th>\n",
       "      <th>Transfer Learning with Revision Theory</th>\n",
       "      <th>Learning from scratch</th>\n",
       "    </tr>\n",
       "  </thead>\n",
       "  <tbody>\n",
       "    <tr>\n",
       "      <th>0</th>\n",
       "      <td>1_imdb_uwcse</td>\n",
       "      <td>0.131 +/- 0.033</td>\n",
       "      <td>0.174 +/- 0.078</td>\n",
       "      <td>0.166 +/- 0.073</td>\n",
       "    </tr>\n",
       "    <tr>\n",
       "      <th>1</th>\n",
       "      <td>2_uwcse_imdb</td>\n",
       "      <td>1.000 +/- 0.000</td>\n",
       "      <td>1.000 +/- 0.000</td>\n",
       "      <td>0.896 +/- 0.256</td>\n",
       "    </tr>\n",
       "    <tr>\n",
       "      <th>2</th>\n",
       "      <td>3_imdb_uwcse</td>\n",
       "      <td>nan +/- nan</td>\n",
       "      <td>0.159 +/- 0.112</td>\n",
       "      <td>nan +/- nan</td>\n",
       "    </tr>\n",
       "    <tr>\n",
       "      <th>3</th>\n",
       "      <td>4_uwcse_imdb</td>\n",
       "      <td>nan +/- nan</td>\n",
       "      <td>nan +/- nan</td>\n",
       "      <td>nan +/- nan</td>\n",
       "    </tr>\n",
       "    <tr>\n",
       "      <th>4</th>\n",
       "      <td>5_imdb_uwcse</td>\n",
       "      <td>nan +/- nan</td>\n",
       "      <td>nan +/- nan</td>\n",
       "      <td>nan +/- nan</td>\n",
       "    </tr>\n",
       "    <tr>\n",
       "      <th>5</th>\n",
       "      <td>6_uwcse_imdb</td>\n",
       "      <td>0.170 +/- 0.067</td>\n",
       "      <td>0.170 +/- 0.067</td>\n",
       "      <td>nan +/- nan</td>\n",
       "    </tr>\n",
       "    <tr>\n",
       "      <th>6</th>\n",
       "      <td>7_imdb_cora</td>\n",
       "      <td>nan +/- nan</td>\n",
       "      <td>0.511 +/- 0.536</td>\n",
       "      <td>0.492 +/- 0.218</td>\n",
       "    </tr>\n",
       "    <tr>\n",
       "      <th>7</th>\n",
       "      <td>8_imdb_cora</td>\n",
       "      <td>0.875 +/- 0.346</td>\n",
       "      <td>0.895 +/- 0.278</td>\n",
       "      <td>0.895 +/- 0.279</td>\n",
       "    </tr>\n",
       "    <tr>\n",
       "      <th>8</th>\n",
       "      <td>9_imdb_cora</td>\n",
       "      <td>0.944 +/- 0.008</td>\n",
       "      <td>0.944 +/- 0.008</td>\n",
       "      <td>0.929 +/- 0.035</td>\n",
       "    </tr>\n",
       "    <tr>\n",
       "      <th>9</th>\n",
       "      <td>10_imdb_cora</td>\n",
       "      <td>nan +/- nan</td>\n",
       "      <td>0.770 +/- 0.369</td>\n",
       "      <td>0.765 +/- 0.362</td>\n",
       "    </tr>\n",
       "    <tr>\n",
       "      <th>10</th>\n",
       "      <td>11_uwcse_cora</td>\n",
       "      <td>nan +/- nan</td>\n",
       "      <td>nan +/- nan</td>\n",
       "      <td>0.583 +/- 0.467</td>\n",
       "    </tr>\n",
       "    <tr>\n",
       "      <th>11</th>\n",
       "      <td>12_uwcse_cora</td>\n",
       "      <td>0.875 +/- 0.346</td>\n",
       "      <td>0.877 +/- 0.345</td>\n",
       "      <td>0.895 +/- 0.279</td>\n",
       "    </tr>\n",
       "    <tr>\n",
       "      <th>12</th>\n",
       "      <td>13_uwcse_cora</td>\n",
       "      <td>0.944 +/- 0.008</td>\n",
       "      <td>0.943 +/- 0.008</td>\n",
       "      <td>0.929 +/- 0.035</td>\n",
       "    </tr>\n",
       "    <tr>\n",
       "      <th>13</th>\n",
       "      <td>14_uwcse_cora</td>\n",
       "      <td>nan +/- nan</td>\n",
       "      <td>0.752 +/- 0.328</td>\n",
       "      <td>0.765 +/- 0.362</td>\n",
       "    </tr>\n",
       "  </tbody>\n",
       "</table>\n",
       "</div>"
      ],
      "text/plain": [
       "       Experiment Transfer Learning Transfer Learning with Revision Theory  \\\n",
       "0    1_imdb_uwcse   0.131 +/- 0.033                        0.174 +/- 0.078   \n",
       "1    2_uwcse_imdb   1.000 +/- 0.000                        1.000 +/- 0.000   \n",
       "2    3_imdb_uwcse       nan +/- nan                        0.159 +/- 0.112   \n",
       "3    4_uwcse_imdb       nan +/- nan                            nan +/- nan   \n",
       "4    5_imdb_uwcse       nan +/- nan                            nan +/- nan   \n",
       "5    6_uwcse_imdb   0.170 +/- 0.067                        0.170 +/- 0.067   \n",
       "6     7_imdb_cora       nan +/- nan                        0.511 +/- 0.536   \n",
       "7     8_imdb_cora   0.875 +/- 0.346                        0.895 +/- 0.278   \n",
       "8     9_imdb_cora   0.944 +/- 0.008                        0.944 +/- 0.008   \n",
       "9    10_imdb_cora       nan +/- nan                        0.770 +/- 0.369   \n",
       "10  11_uwcse_cora       nan +/- nan                            nan +/- nan   \n",
       "11  12_uwcse_cora   0.875 +/- 0.346                        0.877 +/- 0.345   \n",
       "12  13_uwcse_cora   0.944 +/- 0.008                        0.943 +/- 0.008   \n",
       "13  14_uwcse_cora       nan +/- nan                        0.752 +/- 0.328   \n",
       "\n",
       "   Learning from scratch  \n",
       "0        0.166 +/- 0.073  \n",
       "1        0.896 +/- 0.256  \n",
       "2            nan +/- nan  \n",
       "3            nan +/- nan  \n",
       "4            nan +/- nan  \n",
       "5            nan +/- nan  \n",
       "6        0.492 +/- 0.218  \n",
       "7        0.895 +/- 0.279  \n",
       "8        0.929 +/- 0.035  \n",
       "9        0.765 +/- 0.362  \n",
       "10       0.583 +/- 0.467  \n",
       "11       0.895 +/- 0.279  \n",
       "12       0.929 +/- 0.035  \n",
       "13       0.765 +/- 0.362  "
      ]
     },
     "metadata": {},
     "output_type": "display_data"
    },
    {
     "data": {
      "text/markdown": [
       "# Results for Learning and Revision time"
      ],
      "text/plain": [
       "<IPython.core.display.Markdown object>"
      ]
     },
     "metadata": {},
     "output_type": "display_data"
    },
    {
     "data": {
      "text/html": [
       "<div>\n",
       "<table border=\"1\" class=\"dataframe\">\n",
       "  <thead>\n",
       "    <tr style=\"text-align: right;\">\n",
       "      <th></th>\n",
       "      <th>Experiment</th>\n",
       "      <th>Transfer Learning</th>\n",
       "      <th>Transfer Learning with Revision Theory</th>\n",
       "      <th>Learning from scratch</th>\n",
       "    </tr>\n",
       "  </thead>\n",
       "  <tbody>\n",
       "    <tr>\n",
       "      <th>0</th>\n",
       "      <td>1_imdb_uwcse</td>\n",
       "      <td>2.927 +/- 2.630</td>\n",
       "      <td>8.962 +/- 6.394</td>\n",
       "      <td>8.643 +/- 6.028</td>\n",
       "    </tr>\n",
       "    <tr>\n",
       "      <th>1</th>\n",
       "      <td>2_uwcse_imdb</td>\n",
       "      <td>2.114 +/- 1.124</td>\n",
       "      <td>4.297 +/- 1.648</td>\n",
       "      <td>2.451 +/- 0.987</td>\n",
       "    </tr>\n",
       "    <tr>\n",
       "      <th>2</th>\n",
       "      <td>3_imdb_uwcse</td>\n",
       "      <td>5.670 +/- 5.039</td>\n",
       "      <td>19.700 +/- 20.443</td>\n",
       "      <td>18.987 +/- 22.337</td>\n",
       "    </tr>\n",
       "    <tr>\n",
       "      <th>3</th>\n",
       "      <td>4_uwcse_imdb</td>\n",
       "      <td>1.754 +/- 0.757</td>\n",
       "      <td>4.052 +/- 1.667</td>\n",
       "      <td>2.281 +/- 0.464</td>\n",
       "    </tr>\n",
       "    <tr>\n",
       "      <th>4</th>\n",
       "      <td>5_imdb_uwcse</td>\n",
       "      <td>4.199 +/- 1.052</td>\n",
       "      <td>11.266 +/- 4.413</td>\n",
       "      <td>9.156 +/- 4.641</td>\n",
       "    </tr>\n",
       "    <tr>\n",
       "      <th>5</th>\n",
       "      <td>6_uwcse_imdb</td>\n",
       "      <td>0.973 +/- 0.201</td>\n",
       "      <td>1.980 +/- 0.624</td>\n",
       "      <td>1.174 +/- 0.542</td>\n",
       "    </tr>\n",
       "    <tr>\n",
       "      <th>6</th>\n",
       "      <td>7_imdb_cora</td>\n",
       "      <td>44.151 +/- 42.220</td>\n",
       "      <td>130.724 +/- 69.938</td>\n",
       "      <td>119.968 +/- 70.928</td>\n",
       "    </tr>\n",
       "    <tr>\n",
       "      <th>7</th>\n",
       "      <td>8_imdb_cora</td>\n",
       "      <td>127.206 +/- 127.345</td>\n",
       "      <td>317.959 +/- 343.700</td>\n",
       "      <td>221.442 +/- 228.114</td>\n",
       "    </tr>\n",
       "    <tr>\n",
       "      <th>8</th>\n",
       "      <td>9_imdb_cora</td>\n",
       "      <td>3.853 +/- 1.191</td>\n",
       "      <td>11.654 +/- 5.105</td>\n",
       "      <td>8.260 +/- 3.040</td>\n",
       "    </tr>\n",
       "    <tr>\n",
       "      <th>9</th>\n",
       "      <td>10_imdb_cora</td>\n",
       "      <td>6.552 +/- 5.688</td>\n",
       "      <td>148.306 +/- 314.808</td>\n",
       "      <td>141.627 +/- 353.559</td>\n",
       "    </tr>\n",
       "    <tr>\n",
       "      <th>10</th>\n",
       "      <td>11_uwcse_cora</td>\n",
       "      <td>81.485 +/- 85.129</td>\n",
       "      <td>186.027 +/- 157.763</td>\n",
       "      <td>119.168 +/- 69.566</td>\n",
       "    </tr>\n",
       "    <tr>\n",
       "      <th>11</th>\n",
       "      <td>12_uwcse_cora</td>\n",
       "      <td>151.180 +/- 113.909</td>\n",
       "      <td>512.970 +/- 554.385</td>\n",
       "      <td>219.791 +/- 238.833</td>\n",
       "    </tr>\n",
       "    <tr>\n",
       "      <th>12</th>\n",
       "      <td>13_uwcse_cora</td>\n",
       "      <td>4.751 +/- 1.355</td>\n",
       "      <td>13.374 +/- 3.754</td>\n",
       "      <td>7.991 +/- 2.749</td>\n",
       "    </tr>\n",
       "    <tr>\n",
       "      <th>13</th>\n",
       "      <td>14_uwcse_cora</td>\n",
       "      <td>23.312 +/- 58.992</td>\n",
       "      <td>198.934 +/- 325.330</td>\n",
       "      <td>136.349 +/- 332.580</td>\n",
       "    </tr>\n",
       "  </tbody>\n",
       "</table>\n",
       "</div>"
      ],
      "text/plain": [
       "       Experiment    Transfer Learning Transfer Learning with Revision Theory  \\\n",
       "0    1_imdb_uwcse      2.927 +/- 2.630                        8.962 +/- 6.394   \n",
       "1    2_uwcse_imdb      2.114 +/- 1.124                        4.297 +/- 1.648   \n",
       "2    3_imdb_uwcse      5.670 +/- 5.039                      19.700 +/- 20.443   \n",
       "3    4_uwcse_imdb      1.754 +/- 0.757                        4.052 +/- 1.667   \n",
       "4    5_imdb_uwcse      4.199 +/- 1.052                       11.266 +/- 4.413   \n",
       "5    6_uwcse_imdb      0.973 +/- 0.201                        1.980 +/- 0.624   \n",
       "6     7_imdb_cora    44.151 +/- 42.220                     130.724 +/- 69.938   \n",
       "7     8_imdb_cora  127.206 +/- 127.345                    317.959 +/- 343.700   \n",
       "8     9_imdb_cora      3.853 +/- 1.191                       11.654 +/- 5.105   \n",
       "9    10_imdb_cora      6.552 +/- 5.688                    148.306 +/- 314.808   \n",
       "10  11_uwcse_cora    81.485 +/- 85.129                    186.027 +/- 157.763   \n",
       "11  12_uwcse_cora  151.180 +/- 113.909                    512.970 +/- 554.385   \n",
       "12  13_uwcse_cora      4.751 +/- 1.355                       13.374 +/- 3.754   \n",
       "13  14_uwcse_cora    23.312 +/- 58.992                    198.934 +/- 325.330   \n",
       "\n",
       "   Learning from scratch  \n",
       "0        8.643 +/- 6.028  \n",
       "1        2.451 +/- 0.987  \n",
       "2      18.987 +/- 22.337  \n",
       "3        2.281 +/- 0.464  \n",
       "4        9.156 +/- 4.641  \n",
       "5        1.174 +/- 0.542  \n",
       "6     119.968 +/- 70.928  \n",
       "7    221.442 +/- 228.114  \n",
       "8        8.260 +/- 3.040  \n",
       "9    141.627 +/- 353.559  \n",
       "10    119.168 +/- 69.566  \n",
       "11   219.791 +/- 238.833  \n",
       "12       7.991 +/- 2.749  \n",
       "13   136.349 +/- 332.580  "
      ]
     },
     "metadata": {},
     "output_type": "display_data"
    },
    {
     "data": {
      "text/markdown": [
       "# Results for Inference time"
      ],
      "text/plain": [
       "<IPython.core.display.Markdown object>"
      ]
     },
     "metadata": {},
     "output_type": "display_data"
    },
    {
     "data": {
      "text/html": [
       "<div>\n",
       "<table border=\"1\" class=\"dataframe\">\n",
       "  <thead>\n",
       "    <tr style=\"text-align: right;\">\n",
       "      <th></th>\n",
       "      <th>Experiment</th>\n",
       "      <th>Transfer Learning</th>\n",
       "      <th>Transfer Learning with Revision Theory</th>\n",
       "      <th>Learning from scratch</th>\n",
       "    </tr>\n",
       "  </thead>\n",
       "  <tbody>\n",
       "    <tr>\n",
       "      <th>0</th>\n",
       "      <td>1_imdb_uwcse</td>\n",
       "      <td>2.927 +/- 2.630</td>\n",
       "      <td>1.673 +/- 0.502</td>\n",
       "      <td>1.815 +/- 0.266</td>\n",
       "    </tr>\n",
       "    <tr>\n",
       "      <th>1</th>\n",
       "      <td>2_uwcse_imdb</td>\n",
       "      <td>2.114 +/- 1.124</td>\n",
       "      <td>2.026 +/- 0.370</td>\n",
       "      <td>1.995 +/- 0.460</td>\n",
       "    </tr>\n",
       "    <tr>\n",
       "      <th>2</th>\n",
       "      <td>3_imdb_uwcse</td>\n",
       "      <td>5.670 +/- 5.039</td>\n",
       "      <td>2.033 +/- 0.518</td>\n",
       "      <td>2.293 +/- 0.472</td>\n",
       "    </tr>\n",
       "    <tr>\n",
       "      <th>3</th>\n",
       "      <td>4_uwcse_imdb</td>\n",
       "      <td>1.754 +/- 0.757</td>\n",
       "      <td>1.300 +/- 0.175</td>\n",
       "      <td>0.803 +/- 0.035</td>\n",
       "    </tr>\n",
       "    <tr>\n",
       "      <th>4</th>\n",
       "      <td>5_imdb_uwcse</td>\n",
       "      <td>4.199 +/- 1.052</td>\n",
       "      <td>0.845 +/- 0.037</td>\n",
       "      <td>0.901 +/- 0.084</td>\n",
       "    </tr>\n",
       "    <tr>\n",
       "      <th>5</th>\n",
       "      <td>6_uwcse_imdb</td>\n",
       "      <td>0.973 +/- 0.201</td>\n",
       "      <td>0.904 +/- 0.122</td>\n",
       "      <td>0.861 +/- 0.162</td>\n",
       "    </tr>\n",
       "    <tr>\n",
       "      <th>6</th>\n",
       "      <td>7_imdb_cora</td>\n",
       "      <td>44.151 +/- 42.220</td>\n",
       "      <td>10.212 +/- 12.800</td>\n",
       "      <td>8.802 +/- 4.717</td>\n",
       "    </tr>\n",
       "    <tr>\n",
       "      <th>7</th>\n",
       "      <td>8_imdb_cora</td>\n",
       "      <td>127.206 +/- 127.345</td>\n",
       "      <td>5.044 +/- 2.626</td>\n",
       "      <td>4.821 +/- 1.324</td>\n",
       "    </tr>\n",
       "    <tr>\n",
       "      <th>8</th>\n",
       "      <td>9_imdb_cora</td>\n",
       "      <td>3.853 +/- 1.191</td>\n",
       "      <td>7.314 +/- 17.406</td>\n",
       "      <td>2.435 +/- 1.510</td>\n",
       "    </tr>\n",
       "    <tr>\n",
       "      <th>9</th>\n",
       "      <td>10_imdb_cora</td>\n",
       "      <td>6.552 +/- 5.688</td>\n",
       "      <td>45.754 +/- 161.088</td>\n",
       "      <td>19.632 +/- 49.360</td>\n",
       "    </tr>\n",
       "    <tr>\n",
       "      <th>10</th>\n",
       "      <td>11_uwcse_cora</td>\n",
       "      <td>81.485 +/- 85.129</td>\n",
       "      <td>18.045 +/- 23.438</td>\n",
       "      <td>8.313 +/- 3.962</td>\n",
       "    </tr>\n",
       "    <tr>\n",
       "      <th>11</th>\n",
       "      <td>12_uwcse_cora</td>\n",
       "      <td>151.180 +/- 113.909</td>\n",
       "      <td>124.643 +/- 250.102</td>\n",
       "      <td>4.741 +/- 1.898</td>\n",
       "    </tr>\n",
       "    <tr>\n",
       "      <th>12</th>\n",
       "      <td>13_uwcse_cora</td>\n",
       "      <td>4.751 +/- 1.355</td>\n",
       "      <td>10.606 +/- 19.462</td>\n",
       "      <td>2.026 +/- 1.265</td>\n",
       "    </tr>\n",
       "    <tr>\n",
       "      <th>13</th>\n",
       "      <td>14_uwcse_cora</td>\n",
       "      <td>23.312 +/- 58.992</td>\n",
       "      <td>76.643 +/- 150.692</td>\n",
       "      <td>19.782 +/- 47.490</td>\n",
       "    </tr>\n",
       "  </tbody>\n",
       "</table>\n",
       "</div>"
      ],
      "text/plain": [
       "       Experiment    Transfer Learning Transfer Learning with Revision Theory  \\\n",
       "0    1_imdb_uwcse      2.927 +/- 2.630                        1.673 +/- 0.502   \n",
       "1    2_uwcse_imdb      2.114 +/- 1.124                        2.026 +/- 0.370   \n",
       "2    3_imdb_uwcse      5.670 +/- 5.039                        2.033 +/- 0.518   \n",
       "3    4_uwcse_imdb      1.754 +/- 0.757                        1.300 +/- 0.175   \n",
       "4    5_imdb_uwcse      4.199 +/- 1.052                        0.845 +/- 0.037   \n",
       "5    6_uwcse_imdb      0.973 +/- 0.201                        0.904 +/- 0.122   \n",
       "6     7_imdb_cora    44.151 +/- 42.220                      10.212 +/- 12.800   \n",
       "7     8_imdb_cora  127.206 +/- 127.345                        5.044 +/- 2.626   \n",
       "8     9_imdb_cora      3.853 +/- 1.191                       7.314 +/- 17.406   \n",
       "9    10_imdb_cora      6.552 +/- 5.688                     45.754 +/- 161.088   \n",
       "10  11_uwcse_cora    81.485 +/- 85.129                      18.045 +/- 23.438   \n",
       "11  12_uwcse_cora  151.180 +/- 113.909                    124.643 +/- 250.102   \n",
       "12  13_uwcse_cora      4.751 +/- 1.355                      10.606 +/- 19.462   \n",
       "13  14_uwcse_cora    23.312 +/- 58.992                     76.643 +/- 150.692   \n",
       "\n",
       "   Learning from scratch  \n",
       "0        1.815 +/- 0.266  \n",
       "1        1.995 +/- 0.460  \n",
       "2        2.293 +/- 0.472  \n",
       "3        0.803 +/- 0.035  \n",
       "4        0.901 +/- 0.084  \n",
       "5        0.861 +/- 0.162  \n",
       "6        8.802 +/- 4.717  \n",
       "7        4.821 +/- 1.324  \n",
       "8        2.435 +/- 1.510  \n",
       "9      19.632 +/- 49.360  \n",
       "10       8.313 +/- 3.962  \n",
       "11       4.741 +/- 1.898  \n",
       "12       2.026 +/- 1.265  \n",
       "13     19.782 +/- 47.490  "
      ]
     },
     "metadata": {},
     "output_type": "display_data"
    }
   ],
   "source": [
    "experiments = [\n",
    "            {'id': '1', 'source':'imdb', 'target':'uwcse', 'predicate':'workedunder', 'to_predicate':'advisedby'},\n",
    "            {'id': '2', 'source':'uwcse', 'target':'imdb', 'predicate':'advisedby', 'to_predicate':'workedunder'},\n",
    "            {'id': '3', 'source':'imdb', 'target':'uwcse', 'predicate':'movie', 'to_predicate':'publication'},\n",
    "            {'id': '4', 'source':'uwcse', 'target':'imdb', 'predicate':'publication', 'to_predicate':'movie'},\n",
    "            {'id': '5', 'source':'imdb', 'target':'uwcse', 'predicate':'genre', 'to_predicate':'inphase'},\n",
    "            {'id': '6', 'source':'uwcse', 'target':'imdb', 'predicate':'inphase', 'to_predicate':'genre'},\n",
    "            {'id': '7', 'source':'imdb', 'target':'cora', 'predicate':'workedunder', 'to_predicate':'samevenue'},\n",
    "            {'id': '8', 'source':'imdb', 'target':'cora', 'predicate':'workedunder', 'to_predicate':'samebib'},\n",
    "            {'id': '9', 'source':'imdb', 'target':'cora', 'predicate':'workedunder', 'to_predicate':'sameauthor'},\n",
    "            {'id': '10', 'source':'imdb', 'target':'cora', 'predicate':'workedunder', 'to_predicate':'sametitle'},\n",
    "            {'id': '11', 'source':'uwcse', 'target':'cora', 'predicate':'advisedby', 'to_predicate':'samevenue'},\n",
    "            {'id': '12', 'source':'uwcse', 'target':'cora', 'predicate':'advisedby', 'to_predicate':'samebib'},\n",
    "            {'id': '13', 'source':'uwcse', 'target':'cora', 'predicate':'advisedby', 'to_predicate':'sameauthor'},\n",
    "            {'id': '14', 'source':'uwcse', 'target':'cora', 'predicate':'advisedby', 'to_predicate':'sametitle'},\n",
    "            {'id': '15', 'source':'yeast', 'target':'twitter', 'predicate':'proteinclass', 'to_predicate':'accounttype'},\n",
    "            {'id': '16', 'source':'yeast', 'target':'twitter', 'predicate':'interaction', 'to_predicate':'follows'},\n",
    "            {'id': '17', 'source':'yeast', 'target':'twitter', 'predicate':'location', 'to_predicate':'tweets'},\n",
    "            {'id': '18', 'source':'yeast', 'target':'twitter', 'predicate':'enzyme', 'to_predicate':'tweets'},\n",
    "            {'id': '19', 'source':'yeast', 'target':'twitter', 'predicate':'function', 'to_predicate':'tweets'},\n",
    "            {'id': '20', 'source':'yeast', 'target':'twitter', 'predicate':'phenotype', 'to_predicate':'tweets'},\n",
    "            {'id': '21', 'source':'yeast', 'target':'twitter', 'predicate':'complex', 'to_predicate':'tweets'},\n",
    "            {'id': '22', 'source':'twitter', 'target':'yeast', 'predicate':'accounttype', 'to_predicate':'proteinclass'},\n",
    "            {'id': '23', 'source':'twitter', 'target':'yeast', 'predicate':'follows', 'to_predicate':'interaction'},\n",
    "            {'id': '24', 'source':'twitter', 'target':'yeast', 'predicate':'tweets', 'to_predicate':'location'},\n",
    "            {'id': '25', 'source':'twitter', 'target':'yeast', 'predicate':'tweets', 'to_predicate':'enzyme'},\n",
    "            {'id': '26', 'source':'twitter', 'target':'yeast', 'predicate':'tweets', 'to_predicate':'function'},\n",
    "            {'id': '27', 'source':'twitter', 'target':'yeast', 'predicate':'tweets', 'to_predicate':'phenotype'},\n",
    "            {'id': '28', 'source':'twitter', 'target':'yeast', 'predicate':'tweets', 'to_predicate':'complex'},\n",
    "            {'id': '29', 'source':'nell_sports', 'target':'nell_finances', 'predicate':'teamalsoknownas', 'to_predicate':'companyalsoknownas'},\n",
    "            {'id': '30', 'source':'nell_sports', 'target':'nell_finances', 'predicate':'teamplaysagainstteam', 'to_predicate':'companyalsoknownas'},\n",
    "            {'id': '31', 'source':'nell_sports', 'target':'nell_finances', 'predicate':'teamplaysagainstteam', 'to_predicate':'acquired'},\n",
    "            {'id': '32', 'source':'nell_sports', 'target':'nell_finances', 'predicate':'teamplaysagainstteam', 'to_predicate':'bankboughtbank'},\n",
    "            {'id': '33', 'source':'nell_sports', 'target':'nell_finances', 'predicate':'athleteplayssport', 'to_predicate':'companyceo'},\n",
    "            {'id': '34', 'source':'nell_sports', 'target':'nell_finances', 'predicate':'athleteplayssport', 'to_predicate':'bankchiefexecutiveceo'},\n",
    "            {'id': '35', 'source':'nell_sports', 'target':'nell_finances', 'predicate':'athleteplaysforteam', 'to_predicate':'bankchiefexecutiveceo'},\n",
    "            {'id': '36', 'source':'nell_sports', 'target':'nell_finances', 'predicate':'athleteplaysforteam', 'to_predicate':'companyceo'},\n",
    "            {'id': '37', 'source':'nell_sports', 'target':'nell_finances', 'predicate':'teamplayssport', 'to_predicate':'companyeconomicsector'},\n",
    "            {'id': '38', 'source':'nell_finances', 'target':'nell_sports', 'predicate':'companyalsoknownas', 'to_predicate':'teamalsoknownas'},\n",
    "            {'id': '39', 'source':'nell_finances', 'target':'nell_sports', 'predicate':'companyalsoknownas', 'to_predicate':'teamplaysagainstteam'},\n",
    "            {'id': '40', 'source':'nell_finances', 'target':'nell_sports', 'predicate':'acquired', 'to_predicate':'teamplaysagainstteam'},\n",
    "            {'id': '41', 'source':'nell_finances', 'target':'nell_sports', 'predicate':'bankboughtbank', 'to_predicate':'teamplaysagainstteam'},\n",
    "            {'id': '42', 'source':'nell_finances', 'target':'nell_sports', 'predicate':'companyceo', 'to_predicate':'athleteplayssport'},\n",
    "            {'id': '43', 'source':'nell_finances', 'target':'nell_sports', 'predicate':'bankchiefexecutiveceo', 'to_predicate':'athleteplayssport'},\n",
    "            {'id': '44', 'source':'nell_finances', 'target':'nell_sports', 'predicate':'bankchiefexecutiveceo', 'to_predicate':'athleteplaysforteam'},\n",
    "            {'id': '45', 'source':'nell_finances', 'target':'nell_sports', 'predicate':'companyceo', 'to_predicate':'athleteplaysforteam'},\n",
    "            {'id': '46', 'source':'nell_finances', 'target':'nell_sports', 'predicate':'companyeconomicsector', 'to_predicate':'teamplayssport'},\n",
    "]\n",
    "\n",
    "for metric in ['AUC ROC', 'AUC PR', 'CLL', 'Recall', 'F1', 'Precision', 'Learning and Revision time', 'Inference time']:\n",
    "    display(Markdown('# Results for ' + metric))\n",
    "    table = []\n",
    "    for j in range(len(experiments)):\n",
    "        dataset = experiments[j]['id'] + '_' + experiments[j]['source'] + '_' + experiments[j]['target']\n",
    "        if dataset in data['results']: \n",
    "            #for metric in ['AUC ROC', 'AUC PR']:\n",
    "                #display(Markdown('## ' + metric))\n",
    "            if metric == 'Precision':\n",
    "                scratch = np.array([item['scratch']['Precision'][0] for sublist in data['results'][str(dataset)] for item in sublist])\n",
    "                parameter = np.array([item['transfer']['Parameter Learning results']['Precision'][0] for sublist in data['results'][str(dataset)] for item in sublist])\n",
    "                transfer = np.array([item['transfer']['Precision'][0] for sublist in data['results'][str(dataset)] for item in sublist])\n",
    "            elif metric == 'Learning and Revision time':\n",
    "                scratch = np.array([item['scratch']['Learning time'] for sublist in data['results'][str(dataset)] for item in sublist])\n",
    "                parameter = np.array([item['transfer']['Parameter Learning results']['Learning time'] for sublist in data['results'][str(dataset)] for item in sublist])\n",
    "                transfer = np.array([item['transfer']['Learning time'] for sublist in data['results'][str(dataset)] for item in sublist])\n",
    "            elif metric == 'Inference time':\n",
    "                scratch = np.array([item['scratch']['Inference time'] for sublist in data['results'][str(dataset)] for item in sublist])\n",
    "                parameter = np.array([item['transfer']['Parameter Learning results']['Learning time'] for sublist in data['results'][str(dataset)] for item in sublist])\n",
    "                transfer = np.array([item['transfer']['Inference time'] for sublist in data['results'][str(dataset)] for item in sublist])\n",
    "            else:\n",
    "                scratch = np.array([item['scratch'][metric] for sublist in data['results'][str(dataset)] for item in sublist])\n",
    "                parameter = np.array([item['transfer']['Parameter Learning results'][metric] for sublist in data['results'][str(dataset)] for item in sublist])\n",
    "                transfer = np.array([item['transfer'][metric] for sublist in data['results'][str(dataset)] for item in sublist])\n",
    "            table.append([dataset, '%.3f +/- %.3f' % (parameter.mean(), 2 * parameter.std()),\n",
    "            '%.3f +/- %.3f' % (transfer.mean(), 2 * transfer.std()),\n",
    "            '%.3f +/- %.3f' % (scratch.mean(), 2 * scratch.std())])\n",
    "    display(pd.DataFrame(table, columns=['Experiment', 'Transfer Learning', 'Transfer Learning with Revision Theory', 'Learning from scratch']))"
   ]
  },
  {
   "cell_type": "code",
   "execution_count": 5,
   "metadata": {
    "collapsed": false
   },
   "outputs": [
    {
     "data": {
      "text/markdown": [
       "# Results for 1_imdb_uwcse"
      ],
      "text/plain": [
       "<IPython.core.display.Markdown object>"
      ]
     },
     "metadata": {},
     "output_type": "display_data"
    },
    {
     "data": {
      "text/markdown": [
       "## AUC ROC"
      ],
      "text/plain": [
       "<IPython.core.display.Markdown object>"
      ]
     },
     "metadata": {},
     "output_type": "display_data"
    },
    {
     "name": "stdout",
     "output_type": "stream",
     "text": [
      "T-test for experiment 1\n",
      "Ttest_relResult(statistic=2.112124549635119, pvalue=0.10224528121736504)\n",
      "Ttest_relResult(statistic=0.26352669939450546, pvalue=0.8051633242567732)\n"
     ]
    },
    {
     "data": {
      "text/html": [
       "<div>\n",
       "<table border=\"1\" class=\"dataframe\">\n",
       "  <thead>\n",
       "    <tr style=\"text-align: right;\">\n",
       "      <th></th>\n",
       "      <th>p-value</th>\n",
       "      <th>RDN-B</th>\n",
       "    </tr>\n",
       "  </thead>\n",
       "  <tbody>\n",
       "    <tr>\n",
       "      <th>0</th>\n",
       "      <td>transferRDN-B Ref</td>\n",
       "      <td>0.102</td>\n",
       "    </tr>\n",
       "    <tr>\n",
       "      <th>1</th>\n",
       "      <td>transferRDN-B</td>\n",
       "      <td>0.805</td>\n",
       "    </tr>\n",
       "  </tbody>\n",
       "</table>\n",
       "</div>"
      ],
      "text/plain": [
       "             p-value  RDN-B\n",
       "0  transferRDN-B Ref  0.102\n",
       "1      transferRDN-B  0.805"
      ]
     },
     "metadata": {},
     "output_type": "display_data"
    },
    {
     "name": "stdout",
     "output_type": "stream",
     "text": [
      "\n",
      "\n",
      "Scratch: [0.944883 0.939482 0.90361  0.949607 0.931848]\n",
      "Transfer: [0.935982 0.932863 0.937167 0.936897 0.937621]\n",
      "Transfer & Revision: [0.951395 0.947912 0.935037 0.946215 0.953006]\n"
     ]
    },
    {
     "data": {
      "text/markdown": [
       "## AUC PR"
      ],
      "text/plain": [
       "<IPython.core.display.Markdown object>"
      ]
     },
     "metadata": {},
     "output_type": "display_data"
    },
    {
     "name": "stdout",
     "output_type": "stream",
     "text": [
      "T-test for experiment 1\n",
      "Ttest_relResult(statistic=1.7267181613189315, pvalue=0.15929289515983372)\n",
      "Ttest_relResult(statistic=1.7101897840720997, pvalue=0.16240464569629548)\n"
     ]
    },
    {
     "data": {
      "text/html": [
       "<div>\n",
       "<table border=\"1\" class=\"dataframe\">\n",
       "  <thead>\n",
       "    <tr style=\"text-align: right;\">\n",
       "      <th></th>\n",
       "      <th>p-value</th>\n",
       "      <th>RDN-B</th>\n",
       "    </tr>\n",
       "  </thead>\n",
       "  <tbody>\n",
       "    <tr>\n",
       "      <th>0</th>\n",
       "      <td>transferRDN-B Ref</td>\n",
       "      <td>0.159</td>\n",
       "    </tr>\n",
       "    <tr>\n",
       "      <th>1</th>\n",
       "      <td>transferRDN-B</td>\n",
       "      <td>0.162</td>\n",
       "    </tr>\n",
       "  </tbody>\n",
       "</table>\n",
       "</div>"
      ],
      "text/plain": [
       "             p-value  RDN-B\n",
       "0  transferRDN-B Ref  0.159\n",
       "1      transferRDN-B  0.162"
      ]
     },
     "metadata": {},
     "output_type": "display_data"
    },
    {
     "name": "stdout",
     "output_type": "stream",
     "text": [
      "\n",
      "\n",
      "Scratch: [0.323064 0.22471  0.11673  0.432295 0.173657]\n",
      "Transfer: [0.358428 0.29479  0.332468 0.369816 0.323785]\n",
      "Transfer & Revision: [0.367211 0.271822 0.327951 0.374245 0.359137]\n"
     ]
    },
    {
     "data": {
      "text/markdown": [
       "## CLL"
      ],
      "text/plain": [
       "<IPython.core.display.Markdown object>"
      ]
     },
     "metadata": {},
     "output_type": "display_data"
    },
    {
     "name": "stdout",
     "output_type": "stream",
     "text": [
      "T-test for experiment 1\n",
      "Ttest_relResult(statistic=-0.42597478754698076, pvalue=0.6920476610043196)\n",
      "Ttest_relResult(statistic=-0.9494515625013749, pvalue=0.39615466477070527)\n"
     ]
    },
    {
     "data": {
      "text/html": [
       "<div>\n",
       "<table border=\"1\" class=\"dataframe\">\n",
       "  <thead>\n",
       "    <tr style=\"text-align: right;\">\n",
       "      <th></th>\n",
       "      <th>p-value</th>\n",
       "      <th>RDN-B</th>\n",
       "    </tr>\n",
       "  </thead>\n",
       "  <tbody>\n",
       "    <tr>\n",
       "      <th>0</th>\n",
       "      <td>transferRDN-B Ref</td>\n",
       "      <td>0.692</td>\n",
       "    </tr>\n",
       "    <tr>\n",
       "      <th>1</th>\n",
       "      <td>transferRDN-B</td>\n",
       "      <td>0.396</td>\n",
       "    </tr>\n",
       "  </tbody>\n",
       "</table>\n",
       "</div>"
      ],
      "text/plain": [
       "             p-value  RDN-B\n",
       "0  transferRDN-B Ref  0.692\n",
       "1      transferRDN-B  0.396"
      ]
     },
     "metadata": {},
     "output_type": "display_data"
    },
    {
     "name": "stdout",
     "output_type": "stream",
     "text": [
      "\n",
      "\n",
      "Scratch: [-0.220544 -0.238306 -0.329814 -0.208216 -0.254265]\n",
      "Transfer: [-0.220097 -0.258687 -0.360229 -0.220169 -0.233792]\n",
      "Transfer & Revision: [-0.216508 -0.220505 -0.360005 -0.229826 -0.244141]\n"
     ]
    },
    {
     "data": {
      "text/markdown": [
       "## Recall"
      ],
      "text/plain": [
       "<IPython.core.display.Markdown object>"
      ]
     },
     "metadata": {},
     "output_type": "display_data"
    },
    {
     "name": "stdout",
     "output_type": "stream",
     "text": [
      "T-test for experiment 1\n",
      "Ttest_relResult(statistic=-0.5752614805721279, pvalue=0.5959255357531212)\n",
      "Ttest_relResult(statistic=2.2567981640592847, pvalue=0.0869880457197307)\n"
     ]
    },
    {
     "data": {
      "text/html": [
       "<div>\n",
       "<table border=\"1\" class=\"dataframe\">\n",
       "  <thead>\n",
       "    <tr style=\"text-align: right;\">\n",
       "      <th></th>\n",
       "      <th>p-value</th>\n",
       "      <th>RDN-B</th>\n",
       "    </tr>\n",
       "  </thead>\n",
       "  <tbody>\n",
       "    <tr>\n",
       "      <th>0</th>\n",
       "      <td>transferRDN-B Ref</td>\n",
       "      <td>0.596</td>\n",
       "    </tr>\n",
       "    <tr>\n",
       "      <th>1</th>\n",
       "      <td>transferRDN-B</td>\n",
       "      <td>0.087</td>\n",
       "    </tr>\n",
       "  </tbody>\n",
       "</table>\n",
       "</div>"
      ],
      "text/plain": [
       "             p-value  RDN-B\n",
       "0  transferRDN-B Ref  0.596\n",
       "1      transferRDN-B  0.087"
      ]
     },
     "metadata": {},
     "output_type": "display_data"
    },
    {
     "name": "stdout",
     "output_type": "stream",
     "text": [
      "\n",
      "\n",
      "Scratch: [0.846154 0.731183 1.       0.9125   0.969072]\n",
      "Transfer: [1. 1. 1. 1. 1.]\n",
      "Transfer & Revision: [0.846154 0.784946 1.       0.8375   0.927835]\n"
     ]
    },
    {
     "data": {
      "text/markdown": [
       "## F1"
      ],
      "text/plain": [
       "<IPython.core.display.Markdown object>"
      ]
     },
     "metadata": {},
     "output_type": "display_data"
    },
    {
     "name": "stdout",
     "output_type": "stream",
     "text": [
      "T-test for experiment 1\n",
      "Ttest_relResult(statistic=1.9744541324954767, pvalue=0.11955811488213512)\n",
      "Ttest_relResult(statistic=-3.2741382721701613, pvalue=0.030669419529290427)\n"
     ]
    },
    {
     "data": {
      "text/html": [
       "<div>\n",
       "<table border=\"1\" class=\"dataframe\">\n",
       "  <thead>\n",
       "    <tr style=\"text-align: right;\">\n",
       "      <th></th>\n",
       "      <th>p-value</th>\n",
       "      <th>RDN-B</th>\n",
       "    </tr>\n",
       "  </thead>\n",
       "  <tbody>\n",
       "    <tr>\n",
       "      <th>0</th>\n",
       "      <td>transferRDN-B Ref</td>\n",
       "      <td>0.120</td>\n",
       "    </tr>\n",
       "    <tr>\n",
       "      <th>1</th>\n",
       "      <td>transferRDN-B</td>\n",
       "      <td>0.031</td>\n",
       "    </tr>\n",
       "  </tbody>\n",
       "</table>\n",
       "</div>"
      ],
      "text/plain": [
       "             p-value  RDN-B\n",
       "0  transferRDN-B Ref  0.120\n",
       "1      transferRDN-B  0.031"
      ]
     },
     "metadata": {},
     "output_type": "display_data"
    },
    {
     "name": "stdout",
     "output_type": "stream",
     "text": [
      "\n",
      "\n",
      "Scratch: [0.358696 0.259048 0.213992 0.303534 0.252349]\n",
      "Transfer: [0.272727 0.205072 0.213992 0.25     0.216276]\n",
      "Transfer & Revision: [0.375    0.277567 0.213992 0.299107 0.27439 ]\n"
     ]
    },
    {
     "data": {
      "text/markdown": [
       "## Precision"
      ],
      "text/plain": [
       "<IPython.core.display.Markdown object>"
      ]
     },
     "metadata": {},
     "output_type": "display_data"
    },
    {
     "name": "stdout",
     "output_type": "stream",
     "text": [
      "\n",
      "\n",
      "Scratch: [0.227586 0.157407 0.119816 0.182045 0.145062]\n",
      "Transfer: [0.157895 0.114251 0.119816 0.142857 0.12125 ]\n",
      "Transfer & Revision: [0.240876 0.168591 0.119816 0.182065 0.161002]\n"
     ]
    },
    {
     "data": {
      "text/markdown": [
       "## Learning and Revision time"
      ],
      "text/plain": [
       "<IPython.core.display.Markdown object>"
      ]
     },
     "metadata": {},
     "output_type": "display_data"
    },
    {
     "name": "stdout",
     "output_type": "stream",
     "text": [
      "\n",
      "\n",
      "Scratch: [12.622  7.978  3.528 10.369  8.716]\n",
      "Transfer: [5.402 2.499 1.632 2.983 2.118]\n",
      "Transfer & Revision: [12.144  8.612  4.282 12.822  6.948]\n"
     ]
    },
    {
     "data": {
      "text/markdown": [
       "## Inference time"
      ],
      "text/plain": [
       "<IPython.core.display.Markdown object>"
      ]
     },
     "metadata": {},
     "output_type": "display_data"
    },
    {
     "name": "stdout",
     "output_type": "stream",
     "text": [
      "\n",
      "\n",
      "Scratch: [1.759 1.898 1.768 1.631 2.021]\n",
      "Transfer: [5.402 2.499 1.632 2.983 2.118]\n",
      "Transfer & Revision: [1.328 1.922 1.461 1.682 1.971]\n"
     ]
    },
    {
     "data": {
      "text/markdown": [
       "# Results for 2_uwcse_imdb"
      ],
      "text/plain": [
       "<IPython.core.display.Markdown object>"
      ]
     },
     "metadata": {},
     "output_type": "display_data"
    },
    {
     "data": {
      "text/markdown": [
       "## AUC ROC"
      ],
      "text/plain": [
       "<IPython.core.display.Markdown object>"
      ]
     },
     "metadata": {},
     "output_type": "display_data"
    },
    {
     "name": "stdout",
     "output_type": "stream",
     "text": [
      "T-test for experiment 1\n",
      "Ttest_relResult(statistic=nan, pvalue=nan)\n",
      "Ttest_relResult(statistic=nan, pvalue=nan)\n"
     ]
    },
    {
     "data": {
      "text/html": [
       "<div>\n",
       "<table border=\"1\" class=\"dataframe\">\n",
       "  <thead>\n",
       "    <tr style=\"text-align: right;\">\n",
       "      <th></th>\n",
       "      <th>p-value</th>\n",
       "      <th>RDN-B</th>\n",
       "    </tr>\n",
       "  </thead>\n",
       "  <tbody>\n",
       "    <tr>\n",
       "      <th>0</th>\n",
       "      <td>transferRDN-B Ref</td>\n",
       "      <td>nan</td>\n",
       "    </tr>\n",
       "    <tr>\n",
       "      <th>1</th>\n",
       "      <td>transferRDN-B</td>\n",
       "      <td>nan</td>\n",
       "    </tr>\n",
       "  </tbody>\n",
       "</table>\n",
       "</div>"
      ],
      "text/plain": [
       "             p-value RDN-B\n",
       "0  transferRDN-B Ref   nan\n",
       "1      transferRDN-B   nan"
      ]
     },
     "metadata": {},
     "output_type": "display_data"
    },
    {
     "name": "stdout",
     "output_type": "stream",
     "text": [
      "\n",
      "\n",
      "Scratch: [1. 1. 1. 1. 1.]\n",
      "Transfer: [1. 1. 1. 1. 1.]\n",
      "Transfer & Revision: [1. 1. 1. 1. 1.]\n"
     ]
    },
    {
     "data": {
      "text/markdown": [
       "## AUC PR"
      ],
      "text/plain": [
       "<IPython.core.display.Markdown object>"
      ]
     },
     "metadata": {},
     "output_type": "display_data"
    },
    {
     "name": "stdout",
     "output_type": "stream",
     "text": [
      "T-test for experiment 1\n",
      "Ttest_relResult(statistic=nan, pvalue=nan)\n",
      "Ttest_relResult(statistic=nan, pvalue=nan)\n"
     ]
    },
    {
     "data": {
      "text/html": [
       "<div>\n",
       "<table border=\"1\" class=\"dataframe\">\n",
       "  <thead>\n",
       "    <tr style=\"text-align: right;\">\n",
       "      <th></th>\n",
       "      <th>p-value</th>\n",
       "      <th>RDN-B</th>\n",
       "    </tr>\n",
       "  </thead>\n",
       "  <tbody>\n",
       "    <tr>\n",
       "      <th>0</th>\n",
       "      <td>transferRDN-B Ref</td>\n",
       "      <td>nan</td>\n",
       "    </tr>\n",
       "    <tr>\n",
       "      <th>1</th>\n",
       "      <td>transferRDN-B</td>\n",
       "      <td>nan</td>\n",
       "    </tr>\n",
       "  </tbody>\n",
       "</table>\n",
       "</div>"
      ],
      "text/plain": [
       "             p-value RDN-B\n",
       "0  transferRDN-B Ref   nan\n",
       "1      transferRDN-B   nan"
      ]
     },
     "metadata": {},
     "output_type": "display_data"
    },
    {
     "name": "stdout",
     "output_type": "stream",
     "text": [
      "\n",
      "\n",
      "Scratch: [1. 1. 1. 1. 1.]\n",
      "Transfer: [1. 1. 1. 1. 1.]\n",
      "Transfer & Revision: [1. 1. 1. 1. 1.]\n"
     ]
    },
    {
     "data": {
      "text/markdown": [
       "## CLL"
      ],
      "text/plain": [
       "<IPython.core.display.Markdown object>"
      ]
     },
     "metadata": {},
     "output_type": "display_data"
    },
    {
     "name": "stdout",
     "output_type": "stream",
     "text": [
      "T-test for experiment 1\n",
      "Ttest_relResult(statistic=2.2299270380694427, pvalue=0.0896181745997457)\n",
      "Ttest_relResult(statistic=2.000532536051465, pvalue=0.1160459420389319)\n"
     ]
    },
    {
     "data": {
      "text/html": [
       "<div>\n",
       "<table border=\"1\" class=\"dataframe\">\n",
       "  <thead>\n",
       "    <tr style=\"text-align: right;\">\n",
       "      <th></th>\n",
       "      <th>p-value</th>\n",
       "      <th>RDN-B</th>\n",
       "    </tr>\n",
       "  </thead>\n",
       "  <tbody>\n",
       "    <tr>\n",
       "      <th>0</th>\n",
       "      <td>transferRDN-B Ref</td>\n",
       "      <td>0.090</td>\n",
       "    </tr>\n",
       "    <tr>\n",
       "      <th>1</th>\n",
       "      <td>transferRDN-B</td>\n",
       "      <td>0.116</td>\n",
       "    </tr>\n",
       "  </tbody>\n",
       "</table>\n",
       "</div>"
      ],
      "text/plain": [
       "             p-value  RDN-B\n",
       "0  transferRDN-B Ref  0.090\n",
       "1      transferRDN-B  0.116"
      ]
     },
     "metadata": {},
     "output_type": "display_data"
    },
    {
     "name": "stdout",
     "output_type": "stream",
     "text": [
      "\n",
      "\n",
      "Scratch: [-0.081463 -0.072497 -0.063555 -0.068338 -0.092164]\n",
      "Transfer: [-0.065949 -0.065543 -0.065877 -0.065235 -0.067001]\n",
      "Transfer & Revision: [-0.066302 -0.066995 -0.063843 -0.064577 -0.069294]\n"
     ]
    },
    {
     "data": {
      "text/markdown": [
       "## Recall"
      ],
      "text/plain": [
       "<IPython.core.display.Markdown object>"
      ]
     },
     "metadata": {},
     "output_type": "display_data"
    },
    {
     "name": "stdout",
     "output_type": "stream",
     "text": [
      "T-test for experiment 1\n",
      "Ttest_relResult(statistic=nan, pvalue=nan)\n",
      "Ttest_relResult(statistic=nan, pvalue=nan)\n"
     ]
    },
    {
     "data": {
      "text/html": [
       "<div>\n",
       "<table border=\"1\" class=\"dataframe\">\n",
       "  <thead>\n",
       "    <tr style=\"text-align: right;\">\n",
       "      <th></th>\n",
       "      <th>p-value</th>\n",
       "      <th>RDN-B</th>\n",
       "    </tr>\n",
       "  </thead>\n",
       "  <tbody>\n",
       "    <tr>\n",
       "      <th>0</th>\n",
       "      <td>transferRDN-B Ref</td>\n",
       "      <td>nan</td>\n",
       "    </tr>\n",
       "    <tr>\n",
       "      <th>1</th>\n",
       "      <td>transferRDN-B</td>\n",
       "      <td>nan</td>\n",
       "    </tr>\n",
       "  </tbody>\n",
       "</table>\n",
       "</div>"
      ],
      "text/plain": [
       "             p-value RDN-B\n",
       "0  transferRDN-B Ref   nan\n",
       "1      transferRDN-B   nan"
      ]
     },
     "metadata": {},
     "output_type": "display_data"
    },
    {
     "name": "stdout",
     "output_type": "stream",
     "text": [
      "\n",
      "\n",
      "Scratch: [1. 1. 1. 1. 1.]\n",
      "Transfer: [1. 1. 1. 1. 1.]\n",
      "Transfer & Revision: [1. 1. 1. 1. 1.]\n"
     ]
    },
    {
     "data": {
      "text/markdown": [
       "## F1"
      ],
      "text/plain": [
       "<IPython.core.display.Markdown object>"
      ]
     },
     "metadata": {},
     "output_type": "display_data"
    },
    {
     "name": "stdout",
     "output_type": "stream",
     "text": [
      "T-test for experiment 1\n",
      "Ttest_relResult(statistic=1.6327225353945056, pvalue=0.1778644168529159)\n",
      "Ttest_relResult(statistic=1.6327225353945056, pvalue=0.1778644168529159)\n"
     ]
    },
    {
     "data": {
      "text/html": [
       "<div>\n",
       "<table border=\"1\" class=\"dataframe\">\n",
       "  <thead>\n",
       "    <tr style=\"text-align: right;\">\n",
       "      <th></th>\n",
       "      <th>p-value</th>\n",
       "      <th>RDN-B</th>\n",
       "    </tr>\n",
       "  </thead>\n",
       "  <tbody>\n",
       "    <tr>\n",
       "      <th>0</th>\n",
       "      <td>transferRDN-B Ref</td>\n",
       "      <td>0.178</td>\n",
       "    </tr>\n",
       "    <tr>\n",
       "      <th>1</th>\n",
       "      <td>transferRDN-B</td>\n",
       "      <td>0.178</td>\n",
       "    </tr>\n",
       "  </tbody>\n",
       "</table>\n",
       "</div>"
      ],
      "text/plain": [
       "             p-value  RDN-B\n",
       "0  transferRDN-B Ref  0.178\n",
       "1      transferRDN-B  0.178"
      ]
     },
     "metadata": {},
     "output_type": "display_data"
    },
    {
     "name": "stdout",
     "output_type": "stream",
     "text": [
      "\n",
      "\n",
      "Scratch: [0.847854 1.       1.       1.       0.852086]\n",
      "Transfer: [1. 1. 1. 1. 1.]\n",
      "Transfer & Revision: [1. 1. 1. 1. 1.]\n"
     ]
    },
    {
     "data": {
      "text/markdown": [
       "## Precision"
      ],
      "text/plain": [
       "<IPython.core.display.Markdown object>"
      ]
     },
     "metadata": {},
     "output_type": "display_data"
    },
    {
     "name": "stdout",
     "output_type": "stream",
     "text": [
      "\n",
      "\n",
      "Scratch: [0.735892 1.       1.       1.       0.742291]\n",
      "Transfer: [1. 1. 1. 1. 1.]\n",
      "Transfer & Revision: [1. 1. 1. 1. 1.]\n"
     ]
    },
    {
     "data": {
      "text/markdown": [
       "## Learning and Revision time"
      ],
      "text/plain": [
       "<IPython.core.display.Markdown object>"
      ]
     },
     "metadata": {},
     "output_type": "display_data"
    },
    {
     "name": "stdout",
     "output_type": "stream",
     "text": [
      "\n",
      "\n",
      "Scratch: [2.431 2.336 3.364 1.877 2.247]\n",
      "Transfer: [2.138 1.752 3.196 1.775 1.711]\n",
      "Transfer & Revision: [5.109 3.505 5.471 3.609 3.792]\n"
     ]
    },
    {
     "data": {
      "text/markdown": [
       "## Inference time"
      ],
      "text/plain": [
       "<IPython.core.display.Markdown object>"
      ]
     },
     "metadata": {},
     "output_type": "display_data"
    },
    {
     "name": "stdout",
     "output_type": "stream",
     "text": [
      "\n",
      "\n",
      "Scratch: [1.579 2.072 1.976 2.071 2.277]\n",
      "Transfer: [2.138 1.752 3.196 1.775 1.711]\n",
      "Transfer & Revision: [2.145 1.93  2.265 1.728 2.064]\n"
     ]
    },
    {
     "data": {
      "text/markdown": [
       "# Results for 3_imdb_uwcse"
      ],
      "text/plain": [
       "<IPython.core.display.Markdown object>"
      ]
     },
     "metadata": {},
     "output_type": "display_data"
    },
    {
     "data": {
      "text/markdown": [
       "## AUC ROC"
      ],
      "text/plain": [
       "<IPython.core.display.Markdown object>"
      ]
     },
     "metadata": {},
     "output_type": "display_data"
    },
    {
     "name": "stdout",
     "output_type": "stream",
     "text": [
      "T-test for experiment 1\n",
      "Ttest_relResult(statistic=-0.883790508832448, pvalue=0.42673057916759755)\n",
      "Ttest_relResult(statistic=0.9328441459433948, pvalue=0.4037087960884795)\n"
     ]
    },
    {
     "data": {
      "text/html": [
       "<div>\n",
       "<table border=\"1\" class=\"dataframe\">\n",
       "  <thead>\n",
       "    <tr style=\"text-align: right;\">\n",
       "      <th></th>\n",
       "      <th>p-value</th>\n",
       "      <th>RDN-B</th>\n",
       "    </tr>\n",
       "  </thead>\n",
       "  <tbody>\n",
       "    <tr>\n",
       "      <th>0</th>\n",
       "      <td>transferRDN-B Ref</td>\n",
       "      <td>0.427</td>\n",
       "    </tr>\n",
       "    <tr>\n",
       "      <th>1</th>\n",
       "      <td>transferRDN-B</td>\n",
       "      <td>0.404</td>\n",
       "    </tr>\n",
       "  </tbody>\n",
       "</table>\n",
       "</div>"
      ],
      "text/plain": [
       "             p-value  RDN-B\n",
       "0  transferRDN-B Ref  0.427\n",
       "1      transferRDN-B  0.404"
      ]
     },
     "metadata": {},
     "output_type": "display_data"
    },
    {
     "name": "stdout",
     "output_type": "stream",
     "text": [
      "\n",
      "\n",
      "Scratch: [0.624708 0.649573 0.536158 0.622061 0.68388 ]\n",
      "Transfer: [0.65529  0.679217 0.5      0.688685 0.675732]\n",
      "Transfer & Revision: [0.603263 0.645438 0.536158 0.588344 0.702976]\n"
     ]
    },
    {
     "data": {
      "text/markdown": [
       "## AUC PR"
      ],
      "text/plain": [
       "<IPython.core.display.Markdown object>"
      ]
     },
     "metadata": {},
     "output_type": "display_data"
    },
    {
     "name": "stdout",
     "output_type": "stream",
     "text": [
      "T-test for experiment 1\n",
      "Ttest_relResult(statistic=1.16279222303667, pvalue=0.3095565921187697)\n",
      "Ttest_relResult(statistic=0.45702763180442485, pvalue=0.6713706134006103)\n"
     ]
    },
    {
     "data": {
      "text/html": [
       "<div>\n",
       "<table border=\"1\" class=\"dataframe\">\n",
       "  <thead>\n",
       "    <tr style=\"text-align: right;\">\n",
       "      <th></th>\n",
       "      <th>p-value</th>\n",
       "      <th>RDN-B</th>\n",
       "    </tr>\n",
       "  </thead>\n",
       "  <tbody>\n",
       "    <tr>\n",
       "      <th>0</th>\n",
       "      <td>transferRDN-B Ref</td>\n",
       "      <td>0.310</td>\n",
       "    </tr>\n",
       "    <tr>\n",
       "      <th>1</th>\n",
       "      <td>transferRDN-B</td>\n",
       "      <td>0.671</td>\n",
       "    </tr>\n",
       "  </tbody>\n",
       "</table>\n",
       "</div>"
      ],
      "text/plain": [
       "             p-value  RDN-B\n",
       "0  transferRDN-B Ref  0.310\n",
       "1      transferRDN-B  0.671"
      ]
     },
     "metadata": {},
     "output_type": "display_data"
    },
    {
     "name": "stdout",
     "output_type": "stream",
     "text": [
      "\n",
      "\n",
      "Scratch: [0.148638 0.145871 0.090063 0.118866 0.13259 ]\n",
      "Transfer: [0.147017 0.136564 0.081568 0.163904 0.130313]\n",
      "Transfer & Revision: [0.150843 0.145295 0.090063 0.120559 0.157967]\n"
     ]
    },
    {
     "data": {
      "text/markdown": [
       "## CLL"
      ],
      "text/plain": [
       "<IPython.core.display.Markdown object>"
      ]
     },
     "metadata": {},
     "output_type": "display_data"
    },
    {
     "name": "stdout",
     "output_type": "stream",
     "text": [
      "T-test for experiment 1\n",
      "Ttest_relResult(statistic=-1.1227094162604367, pvalue=0.3243918712891475)\n",
      "Ttest_relResult(statistic=-0.24471266960702157, pvalue=0.8187198289075551)\n"
     ]
    },
    {
     "data": {
      "text/html": [
       "<div>\n",
       "<table border=\"1\" class=\"dataframe\">\n",
       "  <thead>\n",
       "    <tr style=\"text-align: right;\">\n",
       "      <th></th>\n",
       "      <th>p-value</th>\n",
       "      <th>RDN-B</th>\n",
       "    </tr>\n",
       "  </thead>\n",
       "  <tbody>\n",
       "    <tr>\n",
       "      <th>0</th>\n",
       "      <td>transferRDN-B Ref</td>\n",
       "      <td>0.324</td>\n",
       "    </tr>\n",
       "    <tr>\n",
       "      <th>1</th>\n",
       "      <td>transferRDN-B</td>\n",
       "      <td>0.819</td>\n",
       "    </tr>\n",
       "  </tbody>\n",
       "</table>\n",
       "</div>"
      ],
      "text/plain": [
       "             p-value  RDN-B\n",
       "0  transferRDN-B Ref  0.324\n",
       "1      transferRDN-B  0.819"
      ]
     },
     "metadata": {},
     "output_type": "display_data"
    },
    {
     "name": "stdout",
     "output_type": "stream",
     "text": [
      "\n",
      "\n",
      "Scratch: [-0.444502 -0.432911 -0.636009 -0.38315  -0.405885]\n",
      "Transfer: [-0.451389 -0.451556 -0.643708 -0.388976 -0.376757]\n",
      "Transfer & Revision: [-0.465164 -0.419315 -0.636009 -0.399825 -0.41698 ]\n"
     ]
    },
    {
     "data": {
      "text/markdown": [
       "## Recall"
      ],
      "text/plain": [
       "<IPython.core.display.Markdown object>"
      ]
     },
     "metadata": {},
     "output_type": "display_data"
    },
    {
     "name": "stdout",
     "output_type": "stream",
     "text": [
      "T-test for experiment 1\n",
      "Ttest_relResult(statistic=2.3900167813631716, pvalue=0.07516640354437143)\n",
      "Ttest_relResult(statistic=0.22366498643627628, pvalue=0.8339768977288547)\n"
     ]
    },
    {
     "data": {
      "text/html": [
       "<div>\n",
       "<table border=\"1\" class=\"dataframe\">\n",
       "  <thead>\n",
       "    <tr style=\"text-align: right;\">\n",
       "      <th></th>\n",
       "      <th>p-value</th>\n",
       "      <th>RDN-B</th>\n",
       "    </tr>\n",
       "  </thead>\n",
       "  <tbody>\n",
       "    <tr>\n",
       "      <th>0</th>\n",
       "      <td>transferRDN-B Ref</td>\n",
       "      <td>0.075</td>\n",
       "    </tr>\n",
       "    <tr>\n",
       "      <th>1</th>\n",
       "      <td>transferRDN-B</td>\n",
       "      <td>0.834</td>\n",
       "    </tr>\n",
       "  </tbody>\n",
       "</table>\n",
       "</div>"
      ],
      "text/plain": [
       "             p-value  RDN-B\n",
       "0  transferRDN-B Ref  0.075\n",
       "1      transferRDN-B  0.834"
      ]
     },
     "metadata": {},
     "output_type": "display_data"
    },
    {
     "name": "stdout",
     "output_type": "stream",
     "text": [
      "\n",
      "\n",
      "Scratch: [0.323529 0.319213 0.502762 0.051335 0.      ]\n",
      "Transfer: [0.68552  0.691377 0.       0.       0.      ]\n",
      "Transfer & Revision: [0.409502 0.319213 0.502762 0.172485 0.114148]\n"
     ]
    },
    {
     "data": {
      "text/markdown": [
       "## F1"
      ],
      "text/plain": [
       "<IPython.core.display.Markdown object>"
      ]
     },
     "metadata": {},
     "output_type": "display_data"
    },
    {
     "name": "stdout",
     "output_type": "stream",
     "text": [
      "T-test for experiment 1\n",
      "Ttest_relResult(statistic=nan, pvalue=nan)\n",
      "Ttest_relResult(statistic=nan, pvalue=nan)\n"
     ]
    },
    {
     "data": {
      "text/html": [
       "<div>\n",
       "<table border=\"1\" class=\"dataframe\">\n",
       "  <thead>\n",
       "    <tr style=\"text-align: right;\">\n",
       "      <th></th>\n",
       "      <th>p-value</th>\n",
       "      <th>RDN-B</th>\n",
       "    </tr>\n",
       "  </thead>\n",
       "  <tbody>\n",
       "    <tr>\n",
       "      <th>0</th>\n",
       "      <td>transferRDN-B Ref</td>\n",
       "      <td>nan</td>\n",
       "    </tr>\n",
       "    <tr>\n",
       "      <th>1</th>\n",
       "      <td>transferRDN-B</td>\n",
       "      <td>nan</td>\n",
       "    </tr>\n",
       "  </tbody>\n",
       "</table>\n",
       "</div>"
      ],
      "text/plain": [
       "             p-value RDN-B\n",
       "0  transferRDN-B Ref   nan\n",
       "1      transferRDN-B   nan"
      ]
     },
     "metadata": {},
     "output_type": "display_data"
    },
    {
     "name": "stdout",
     "output_type": "stream",
     "text": [
      "\n",
      "\n",
      "Scratch: [0.210759 0.217414 0.158364 0.060606      nan]\n",
      "Transfer: [0.259974 0.24837       nan      nan      nan]\n",
      "Transfer & Revision: [0.208525 0.217414 0.158364 0.151215 0.158837]\n"
     ]
    },
    {
     "data": {
      "text/markdown": [
       "## Precision"
      ],
      "text/plain": [
       "<IPython.core.display.Markdown object>"
      ]
     },
     "metadata": {},
     "output_type": "display_data"
    },
    {
     "name": "stdout",
     "output_type": "stream",
     "text": [
      "\n",
      "\n",
      "Scratch: [0.156284 0.164844 0.093984 0.073964      nan]\n",
      "Transfer: [0.160402 0.151375      nan      nan      nan]\n",
      "Transfer & Revision: [0.139876 0.164844 0.093984 0.134615 0.261029]\n"
     ]
    },
    {
     "data": {
      "text/markdown": [
       "## Learning and Revision time"
      ],
      "text/plain": [
       "<IPython.core.display.Markdown object>"
      ]
     },
     "metadata": {},
     "output_type": "display_data"
    },
    {
     "name": "stdout",
     "output_type": "stream",
     "text": [
      "\n",
      "\n",
      "Scratch: [32.911 13.226  2.391 29.746 16.659]\n",
      "Transfer: [8.752 3.765 1.905 6.226 7.702]\n",
      "Transfer & Revision: [33.934 13.651  4.005 25.538 21.37 ]\n"
     ]
    },
    {
     "data": {
      "text/markdown": [
       "## Inference time"
      ],
      "text/plain": [
       "<IPython.core.display.Markdown object>"
      ]
     },
     "metadata": {},
     "output_type": "display_data"
    },
    {
     "name": "stdout",
     "output_type": "stream",
     "text": [
      "\n",
      "\n",
      "Scratch: [2.324 2.289 1.886 2.625 2.339]\n",
      "Transfer: [8.752 3.765 1.905 6.226 7.702]\n",
      "Transfer & Revision: [1.618 1.951 2.246 1.987 2.364]\n"
     ]
    },
    {
     "data": {
      "text/markdown": [
       "# Results for 4_uwcse_imdb"
      ],
      "text/plain": [
       "<IPython.core.display.Markdown object>"
      ]
     },
     "metadata": {},
     "output_type": "display_data"
    },
    {
     "data": {
      "text/markdown": [
       "## AUC ROC"
      ],
      "text/plain": [
       "<IPython.core.display.Markdown object>"
      ]
     },
     "metadata": {},
     "output_type": "display_data"
    },
    {
     "name": "stdout",
     "output_type": "stream",
     "text": [
      "T-test for experiment 1\n",
      "Ttest_relResult(statistic=1.6927438679430253, pvalue=0.1657587670037845)\n",
      "Ttest_relResult(statistic=-0.6197834734958552, pvalue=0.5689611125740978)\n"
     ]
    },
    {
     "data": {
      "text/html": [
       "<div>\n",
       "<table border=\"1\" class=\"dataframe\">\n",
       "  <thead>\n",
       "    <tr style=\"text-align: right;\">\n",
       "      <th></th>\n",
       "      <th>p-value</th>\n",
       "      <th>RDN-B</th>\n",
       "    </tr>\n",
       "  </thead>\n",
       "  <tbody>\n",
       "    <tr>\n",
       "      <th>0</th>\n",
       "      <td>transferRDN-B Ref</td>\n",
       "      <td>0.166</td>\n",
       "    </tr>\n",
       "    <tr>\n",
       "      <th>1</th>\n",
       "      <td>transferRDN-B</td>\n",
       "      <td>0.569</td>\n",
       "    </tr>\n",
       "  </tbody>\n",
       "</table>\n",
       "</div>"
      ],
      "text/plain": [
       "             p-value  RDN-B\n",
       "0  transferRDN-B Ref  0.166\n",
       "1      transferRDN-B  0.569"
      ]
     },
     "metadata": {},
     "output_type": "display_data"
    },
    {
     "name": "stdout",
     "output_type": "stream",
     "text": [
      "\n",
      "\n",
      "Scratch: [0.505394 0.509002 0.479349 0.511909 0.508828]\n",
      "Transfer: [0.500671 0.500263 0.497428 0.499129 0.49987 ]\n",
      "Transfer & Revision: [0.508076 0.512911 0.479319 0.512114 0.508918]\n"
     ]
    },
    {
     "data": {
      "text/markdown": [
       "## AUC PR"
      ],
      "text/plain": [
       "<IPython.core.display.Markdown object>"
      ]
     },
     "metadata": {},
     "output_type": "display_data"
    },
    {
     "name": "stdout",
     "output_type": "stream",
     "text": [
      "T-test for experiment 1\n",
      "Ttest_relResult(statistic=1.8344001971575843, pvalue=0.14050821514436487)\n",
      "Ttest_relResult(statistic=-0.6606654611524285, pvalue=0.5449361610968385)\n"
     ]
    },
    {
     "data": {
      "text/html": [
       "<div>\n",
       "<table border=\"1\" class=\"dataframe\">\n",
       "  <thead>\n",
       "    <tr style=\"text-align: right;\">\n",
       "      <th></th>\n",
       "      <th>p-value</th>\n",
       "      <th>RDN-B</th>\n",
       "    </tr>\n",
       "  </thead>\n",
       "  <tbody>\n",
       "    <tr>\n",
       "      <th>0</th>\n",
       "      <td>transferRDN-B Ref</td>\n",
       "      <td>0.141</td>\n",
       "    </tr>\n",
       "    <tr>\n",
       "      <th>1</th>\n",
       "      <td>transferRDN-B</td>\n",
       "      <td>0.545</td>\n",
       "    </tr>\n",
       "  </tbody>\n",
       "</table>\n",
       "</div>"
      ],
      "text/plain": [
       "             p-value  RDN-B\n",
       "0  transferRDN-B Ref  0.141\n",
       "1      transferRDN-B  0.545"
      ]
     },
     "metadata": {},
     "output_type": "display_data"
    },
    {
     "name": "stdout",
     "output_type": "stream",
     "text": [
      "\n",
      "\n",
      "Scratch: [0.26558  0.274073 0.260125 0.27273  0.269308]\n",
      "Transfer: [0.264098 0.268004 0.269476 0.264104 0.265912]\n",
      "Transfer & Revision: [0.267525 0.275278 0.260119 0.272772 0.269611]\n"
     ]
    },
    {
     "data": {
      "text/markdown": [
       "## CLL"
      ],
      "text/plain": [
       "<IPython.core.display.Markdown object>"
      ]
     },
     "metadata": {},
     "output_type": "display_data"
    },
    {
     "name": "stdout",
     "output_type": "stream",
     "text": [
      "T-test for experiment 1\n",
      "Ttest_relResult(statistic=-0.5105690311354509, pvalue=0.6365392340383387)\n",
      "Ttest_relResult(statistic=0.32072117236638736, pvalue=0.7644783638301946)\n"
     ]
    },
    {
     "data": {
      "text/html": [
       "<div>\n",
       "<table border=\"1\" class=\"dataframe\">\n",
       "  <thead>\n",
       "    <tr style=\"text-align: right;\">\n",
       "      <th></th>\n",
       "      <th>p-value</th>\n",
       "      <th>RDN-B</th>\n",
       "    </tr>\n",
       "  </thead>\n",
       "  <tbody>\n",
       "    <tr>\n",
       "      <th>0</th>\n",
       "      <td>transferRDN-B Ref</td>\n",
       "      <td>0.637</td>\n",
       "    </tr>\n",
       "    <tr>\n",
       "      <th>1</th>\n",
       "      <td>transferRDN-B</td>\n",
       "      <td>0.764</td>\n",
       "    </tr>\n",
       "  </tbody>\n",
       "</table>\n",
       "</div>"
      ],
      "text/plain": [
       "             p-value  RDN-B\n",
       "0  transferRDN-B Ref  0.637\n",
       "1      transferRDN-B  0.764"
      ]
     },
     "metadata": {},
     "output_type": "display_data"
    },
    {
     "name": "stdout",
     "output_type": "stream",
     "text": [
      "\n",
      "\n",
      "Scratch: [-0.585261 -0.58669  -0.588056 -0.582953 -0.585327]\n",
      "Transfer: [-0.582218 -0.585117 -0.5876   -0.581085 -0.590083]\n",
      "Transfer & Revision: [-0.584754 -0.585147 -0.587602 -0.582568 -0.592062]\n"
     ]
    },
    {
     "data": {
      "text/markdown": [
       "## Recall"
      ],
      "text/plain": [
       "<IPython.core.display.Markdown object>"
      ]
     },
     "metadata": {},
     "output_type": "display_data"
    },
    {
     "name": "stdout",
     "output_type": "stream",
     "text": [
      "T-test for experiment 1\n",
      "Ttest_relResult(statistic=nan, pvalue=nan)\n",
      "Ttest_relResult(statistic=nan, pvalue=nan)\n"
     ]
    },
    {
     "data": {
      "text/html": [
       "<div>\n",
       "<table border=\"1\" class=\"dataframe\">\n",
       "  <thead>\n",
       "    <tr style=\"text-align: right;\">\n",
       "      <th></th>\n",
       "      <th>p-value</th>\n",
       "      <th>RDN-B</th>\n",
       "    </tr>\n",
       "  </thead>\n",
       "  <tbody>\n",
       "    <tr>\n",
       "      <th>0</th>\n",
       "      <td>transferRDN-B Ref</td>\n",
       "      <td>nan</td>\n",
       "    </tr>\n",
       "    <tr>\n",
       "      <th>1</th>\n",
       "      <td>transferRDN-B</td>\n",
       "      <td>nan</td>\n",
       "    </tr>\n",
       "  </tbody>\n",
       "</table>\n",
       "</div>"
      ],
      "text/plain": [
       "             p-value RDN-B\n",
       "0  transferRDN-B Ref   nan\n",
       "1      transferRDN-B   nan"
      ]
     },
     "metadata": {},
     "output_type": "display_data"
    },
    {
     "name": "stdout",
     "output_type": "stream",
     "text": [
      "\n",
      "\n",
      "Scratch: [0. 0. 0. 0. 0.]\n",
      "Transfer: [0. 0. 0. 0. 0.]\n",
      "Transfer & Revision: [0. 0. 0. 0. 0.]\n"
     ]
    },
    {
     "data": {
      "text/markdown": [
       "## F1"
      ],
      "text/plain": [
       "<IPython.core.display.Markdown object>"
      ]
     },
     "metadata": {},
     "output_type": "display_data"
    },
    {
     "name": "stdout",
     "output_type": "stream",
     "text": [
      "T-test for experiment 1\n",
      "Ttest_relResult(statistic=nan, pvalue=nan)\n",
      "Ttest_relResult(statistic=nan, pvalue=nan)\n"
     ]
    },
    {
     "data": {
      "text/html": [
       "<div>\n",
       "<table border=\"1\" class=\"dataframe\">\n",
       "  <thead>\n",
       "    <tr style=\"text-align: right;\">\n",
       "      <th></th>\n",
       "      <th>p-value</th>\n",
       "      <th>RDN-B</th>\n",
       "    </tr>\n",
       "  </thead>\n",
       "  <tbody>\n",
       "    <tr>\n",
       "      <th>0</th>\n",
       "      <td>transferRDN-B Ref</td>\n",
       "      <td>nan</td>\n",
       "    </tr>\n",
       "    <tr>\n",
       "      <th>1</th>\n",
       "      <td>transferRDN-B</td>\n",
       "      <td>nan</td>\n",
       "    </tr>\n",
       "  </tbody>\n",
       "</table>\n",
       "</div>"
      ],
      "text/plain": [
       "             p-value RDN-B\n",
       "0  transferRDN-B Ref   nan\n",
       "1      transferRDN-B   nan"
      ]
     },
     "metadata": {},
     "output_type": "display_data"
    },
    {
     "name": "stdout",
     "output_type": "stream",
     "text": [
      "\n",
      "\n",
      "Scratch: [nan nan nan nan nan]\n",
      "Transfer: [nan nan nan nan nan]\n",
      "Transfer & Revision: [nan nan nan nan nan]\n"
     ]
    },
    {
     "data": {
      "text/markdown": [
       "## Precision"
      ],
      "text/plain": [
       "<IPython.core.display.Markdown object>"
      ]
     },
     "metadata": {},
     "output_type": "display_data"
    },
    {
     "name": "stdout",
     "output_type": "stream",
     "text": [
      "\n",
      "\n",
      "Scratch: [nan nan nan nan nan]\n",
      "Transfer: [nan nan nan nan nan]\n",
      "Transfer & Revision: [nan nan nan nan nan]\n"
     ]
    },
    {
     "data": {
      "text/markdown": [
       "## Learning and Revision time"
      ],
      "text/plain": [
       "<IPython.core.display.Markdown object>"
      ]
     },
     "metadata": {},
     "output_type": "display_data"
    },
    {
     "name": "stdout",
     "output_type": "stream",
     "text": [
      "\n",
      "\n",
      "Scratch: [2.345 2.148 2.699 2.029 2.184]\n",
      "Transfer: [2.105 1.694 2.268 1.343 1.358]\n",
      "Transfer & Revision: [4.5   4.187 5.304 3.107 3.161]\n"
     ]
    },
    {
     "data": {
      "text/markdown": [
       "## Inference time"
      ],
      "text/plain": [
       "<IPython.core.display.Markdown object>"
      ]
     },
     "metadata": {},
     "output_type": "display_data"
    },
    {
     "name": "stdout",
     "output_type": "stream",
     "text": [
      "\n",
      "\n",
      "Scratch: [0.775 0.826 0.804 0.796 0.816]\n",
      "Transfer: [2.105 1.694 2.268 1.343 1.358]\n",
      "Transfer & Revision: [1.265 1.278 1.171 1.43  1.355]\n"
     ]
    },
    {
     "data": {
      "text/markdown": [
       "# Results for 5_imdb_uwcse"
      ],
      "text/plain": [
       "<IPython.core.display.Markdown object>"
      ]
     },
     "metadata": {},
     "output_type": "display_data"
    },
    {
     "data": {
      "text/markdown": [
       "## AUC ROC"
      ],
      "text/plain": [
       "<IPython.core.display.Markdown object>"
      ]
     },
     "metadata": {},
     "output_type": "display_data"
    },
    {
     "name": "stdout",
     "output_type": "stream",
     "text": [
      "T-test for experiment 1\n",
      "Ttest_relResult(statistic=nan, pvalue=nan)\n",
      "Ttest_relResult(statistic=nan, pvalue=nan)\n"
     ]
    },
    {
     "data": {
      "text/html": [
       "<div>\n",
       "<table border=\"1\" class=\"dataframe\">\n",
       "  <thead>\n",
       "    <tr style=\"text-align: right;\">\n",
       "      <th></th>\n",
       "      <th>p-value</th>\n",
       "      <th>RDN-B</th>\n",
       "    </tr>\n",
       "  </thead>\n",
       "  <tbody>\n",
       "    <tr>\n",
       "      <th>0</th>\n",
       "      <td>transferRDN-B Ref</td>\n",
       "      <td>nan</td>\n",
       "    </tr>\n",
       "    <tr>\n",
       "      <th>1</th>\n",
       "      <td>transferRDN-B</td>\n",
       "      <td>nan</td>\n",
       "    </tr>\n",
       "  </tbody>\n",
       "</table>\n",
       "</div>"
      ],
      "text/plain": [
       "             p-value RDN-B\n",
       "0  transferRDN-B Ref   nan\n",
       "1      transferRDN-B   nan"
      ]
     },
     "metadata": {},
     "output_type": "display_data"
    },
    {
     "name": "stdout",
     "output_type": "stream",
     "text": [
      "\n",
      "\n",
      "Scratch: [0.5 0.5 0.5 0.5 0.5]\n",
      "Transfer: [0.5 0.5 0.5 0.5 0.5]\n",
      "Transfer & Revision: [0.5 0.5 0.5 0.5 0.5]\n"
     ]
    },
    {
     "data": {
      "text/markdown": [
       "## AUC PR"
      ],
      "text/plain": [
       "<IPython.core.display.Markdown object>"
      ]
     },
     "metadata": {},
     "output_type": "display_data"
    },
    {
     "name": "stdout",
     "output_type": "stream",
     "text": [
      "T-test for experiment 1\n",
      "Ttest_relResult(statistic=nan, pvalue=nan)\n",
      "Ttest_relResult(statistic=nan, pvalue=nan)\n"
     ]
    },
    {
     "data": {
      "text/html": [
       "<div>\n",
       "<table border=\"1\" class=\"dataframe\">\n",
       "  <thead>\n",
       "    <tr style=\"text-align: right;\">\n",
       "      <th></th>\n",
       "      <th>p-value</th>\n",
       "      <th>RDN-B</th>\n",
       "    </tr>\n",
       "  </thead>\n",
       "  <tbody>\n",
       "    <tr>\n",
       "      <th>0</th>\n",
       "      <td>transferRDN-B Ref</td>\n",
       "      <td>nan</td>\n",
       "    </tr>\n",
       "    <tr>\n",
       "      <th>1</th>\n",
       "      <td>transferRDN-B</td>\n",
       "      <td>nan</td>\n",
       "    </tr>\n",
       "  </tbody>\n",
       "</table>\n",
       "</div>"
      ],
      "text/plain": [
       "             p-value RDN-B\n",
       "0  transferRDN-B Ref   nan\n",
       "1      transferRDN-B   nan"
      ]
     },
     "metadata": {},
     "output_type": "display_data"
    },
    {
     "name": "stdout",
     "output_type": "stream",
     "text": [
      "\n",
      "\n",
      "Scratch: [0.333333 0.333333 0.333333 0.333333 0.333333]\n",
      "Transfer: [0.333333 0.333333 0.333333 0.333333 0.333333]\n",
      "Transfer & Revision: [0.333333 0.333333 0.333333 0.333333 0.333333]\n"
     ]
    },
    {
     "data": {
      "text/markdown": [
       "## CLL"
      ],
      "text/plain": [
       "<IPython.core.display.Markdown object>"
      ]
     },
     "metadata": {},
     "output_type": "display_data"
    },
    {
     "name": "stdout",
     "output_type": "stream",
     "text": [
      "T-test for experiment 1\n",
      "Ttest_relResult(statistic=nan, pvalue=nan)\n",
      "Ttest_relResult(statistic=nan, pvalue=nan)\n"
     ]
    },
    {
     "data": {
      "text/html": [
       "<div>\n",
       "<table border=\"1\" class=\"dataframe\">\n",
       "  <thead>\n",
       "    <tr style=\"text-align: right;\">\n",
       "      <th></th>\n",
       "      <th>p-value</th>\n",
       "      <th>RDN-B</th>\n",
       "    </tr>\n",
       "  </thead>\n",
       "  <tbody>\n",
       "    <tr>\n",
       "      <th>0</th>\n",
       "      <td>transferRDN-B Ref</td>\n",
       "      <td>nan</td>\n",
       "    </tr>\n",
       "    <tr>\n",
       "      <th>1</th>\n",
       "      <td>transferRDN-B</td>\n",
       "      <td>nan</td>\n",
       "    </tr>\n",
       "  </tbody>\n",
       "</table>\n",
       "</div>"
      ],
      "text/plain": [
       "             p-value RDN-B\n",
       "0  transferRDN-B Ref   nan\n",
       "1      transferRDN-B   nan"
      ]
     },
     "metadata": {},
     "output_type": "display_data"
    },
    {
     "name": "stdout",
     "output_type": "stream",
     "text": [
      "\n",
      "\n",
      "Scratch: [-0.638048 -0.638048 -0.638048 -0.638048 -0.638048]\n",
      "Transfer: [-0.638048 -0.638048 -0.638048 -0.638048 -0.638048]\n",
      "Transfer & Revision: [-0.638048 -0.638048 -0.638048 -0.638048 -0.638048]\n"
     ]
    },
    {
     "data": {
      "text/markdown": [
       "## Recall"
      ],
      "text/plain": [
       "<IPython.core.display.Markdown object>"
      ]
     },
     "metadata": {},
     "output_type": "display_data"
    },
    {
     "name": "stdout",
     "output_type": "stream",
     "text": [
      "T-test for experiment 1\n",
      "Ttest_relResult(statistic=nan, pvalue=nan)\n",
      "Ttest_relResult(statistic=nan, pvalue=nan)\n"
     ]
    },
    {
     "data": {
      "text/html": [
       "<div>\n",
       "<table border=\"1\" class=\"dataframe\">\n",
       "  <thead>\n",
       "    <tr style=\"text-align: right;\">\n",
       "      <th></th>\n",
       "      <th>p-value</th>\n",
       "      <th>RDN-B</th>\n",
       "    </tr>\n",
       "  </thead>\n",
       "  <tbody>\n",
       "    <tr>\n",
       "      <th>0</th>\n",
       "      <td>transferRDN-B Ref</td>\n",
       "      <td>nan</td>\n",
       "    </tr>\n",
       "    <tr>\n",
       "      <th>1</th>\n",
       "      <td>transferRDN-B</td>\n",
       "      <td>nan</td>\n",
       "    </tr>\n",
       "  </tbody>\n",
       "</table>\n",
       "</div>"
      ],
      "text/plain": [
       "             p-value RDN-B\n",
       "0  transferRDN-B Ref   nan\n",
       "1      transferRDN-B   nan"
      ]
     },
     "metadata": {},
     "output_type": "display_data"
    },
    {
     "name": "stdout",
     "output_type": "stream",
     "text": [
      "\n",
      "\n",
      "Scratch: [0. 0. 0. 0. 0.]\n",
      "Transfer: [0. 0. 0. 0. 0.]\n",
      "Transfer & Revision: [0. 0. 0. 0. 0.]\n"
     ]
    },
    {
     "data": {
      "text/markdown": [
       "## F1"
      ],
      "text/plain": [
       "<IPython.core.display.Markdown object>"
      ]
     },
     "metadata": {},
     "output_type": "display_data"
    },
    {
     "name": "stdout",
     "output_type": "stream",
     "text": [
      "T-test for experiment 1\n",
      "Ttest_relResult(statistic=nan, pvalue=nan)\n",
      "Ttest_relResult(statistic=nan, pvalue=nan)\n"
     ]
    },
    {
     "data": {
      "text/html": [
       "<div>\n",
       "<table border=\"1\" class=\"dataframe\">\n",
       "  <thead>\n",
       "    <tr style=\"text-align: right;\">\n",
       "      <th></th>\n",
       "      <th>p-value</th>\n",
       "      <th>RDN-B</th>\n",
       "    </tr>\n",
       "  </thead>\n",
       "  <tbody>\n",
       "    <tr>\n",
       "      <th>0</th>\n",
       "      <td>transferRDN-B Ref</td>\n",
       "      <td>nan</td>\n",
       "    </tr>\n",
       "    <tr>\n",
       "      <th>1</th>\n",
       "      <td>transferRDN-B</td>\n",
       "      <td>nan</td>\n",
       "    </tr>\n",
       "  </tbody>\n",
       "</table>\n",
       "</div>"
      ],
      "text/plain": [
       "             p-value RDN-B\n",
       "0  transferRDN-B Ref   nan\n",
       "1      transferRDN-B   nan"
      ]
     },
     "metadata": {},
     "output_type": "display_data"
    },
    {
     "name": "stdout",
     "output_type": "stream",
     "text": [
      "\n",
      "\n",
      "Scratch: [nan nan nan nan nan]\n",
      "Transfer: [nan nan nan nan nan]\n",
      "Transfer & Revision: [nan nan nan nan nan]\n"
     ]
    },
    {
     "data": {
      "text/markdown": [
       "## Precision"
      ],
      "text/plain": [
       "<IPython.core.display.Markdown object>"
      ]
     },
     "metadata": {},
     "output_type": "display_data"
    },
    {
     "name": "stdout",
     "output_type": "stream",
     "text": [
      "\n",
      "\n",
      "Scratch: [nan nan nan nan nan]\n",
      "Transfer: [nan nan nan nan nan]\n",
      "Transfer & Revision: [nan nan nan nan nan]\n"
     ]
    },
    {
     "data": {
      "text/markdown": [
       "## Learning and Revision time"
      ],
      "text/plain": [
       "<IPython.core.display.Markdown object>"
      ]
     },
     "metadata": {},
     "output_type": "display_data"
    },
    {
     "name": "stdout",
     "output_type": "stream",
     "text": [
      "\n",
      "\n",
      "Scratch: [ 9.593  8.5    5.274 12.396 10.015]\n",
      "Transfer: [4.427 4.383 3.329 3.963 4.895]\n",
      "Transfer & Revision: [12.792 11.721  6.921 12.193 12.703]\n"
     ]
    },
    {
     "data": {
      "text/markdown": [
       "## Inference time"
      ],
      "text/plain": [
       "<IPython.core.display.Markdown object>"
      ]
     },
     "metadata": {},
     "output_type": "display_data"
    },
    {
     "name": "stdout",
     "output_type": "stream",
     "text": [
      "\n",
      "\n",
      "Scratch: [0.849 0.956 0.86  0.903 0.938]\n",
      "Transfer: [4.427 4.383 3.329 3.963 4.895]\n",
      "Transfer & Revision: [0.849 0.872 0.824 0.825 0.856]\n"
     ]
    },
    {
     "data": {
      "text/markdown": [
       "# Results for 6_uwcse_imdb"
      ],
      "text/plain": [
       "<IPython.core.display.Markdown object>"
      ]
     },
     "metadata": {},
     "output_type": "display_data"
    },
    {
     "data": {
      "text/markdown": [
       "## AUC ROC"
      ],
      "text/plain": [
       "<IPython.core.display.Markdown object>"
      ]
     },
     "metadata": {},
     "output_type": "display_data"
    },
    {
     "name": "stdout",
     "output_type": "stream",
     "text": [
      "T-test for experiment 1\n",
      "Ttest_relResult(statistic=nan, pvalue=nan)\n",
      "Ttest_relResult(statistic=nan, pvalue=nan)\n"
     ]
    },
    {
     "data": {
      "text/html": [
       "<div>\n",
       "<table border=\"1\" class=\"dataframe\">\n",
       "  <thead>\n",
       "    <tr style=\"text-align: right;\">\n",
       "      <th></th>\n",
       "      <th>p-value</th>\n",
       "      <th>RDN-B</th>\n",
       "    </tr>\n",
       "  </thead>\n",
       "  <tbody>\n",
       "    <tr>\n",
       "      <th>0</th>\n",
       "      <td>transferRDN-B Ref</td>\n",
       "      <td>nan</td>\n",
       "    </tr>\n",
       "    <tr>\n",
       "      <th>1</th>\n",
       "      <td>transferRDN-B</td>\n",
       "      <td>nan</td>\n",
       "    </tr>\n",
       "  </tbody>\n",
       "</table>\n",
       "</div>"
      ],
      "text/plain": [
       "             p-value RDN-B\n",
       "0  transferRDN-B Ref   nan\n",
       "1      transferRDN-B   nan"
      ]
     },
     "metadata": {},
     "output_type": "display_data"
    },
    {
     "name": "stdout",
     "output_type": "stream",
     "text": [
      "\n",
      "\n",
      "Scratch: [0.93932  0.941224 0.973555 0.947035 0.9447  ]\n",
      "Transfer: [0.93932  0.941224 0.973555 0.947035 0.9447  ]\n",
      "Transfer & Revision: [0.93932  0.941224 0.973555 0.947035 0.9447  ]\n"
     ]
    },
    {
     "data": {
      "text/markdown": [
       "## AUC PR"
      ],
      "text/plain": [
       "<IPython.core.display.Markdown object>"
      ]
     },
     "metadata": {},
     "output_type": "display_data"
    },
    {
     "name": "stdout",
     "output_type": "stream",
     "text": [
      "T-test for experiment 1\n",
      "Ttest_relResult(statistic=nan, pvalue=nan)\n",
      "Ttest_relResult(statistic=nan, pvalue=nan)\n"
     ]
    },
    {
     "data": {
      "text/html": [
       "<div>\n",
       "<table border=\"1\" class=\"dataframe\">\n",
       "  <thead>\n",
       "    <tr style=\"text-align: right;\">\n",
       "      <th></th>\n",
       "      <th>p-value</th>\n",
       "      <th>RDN-B</th>\n",
       "    </tr>\n",
       "  </thead>\n",
       "  <tbody>\n",
       "    <tr>\n",
       "      <th>0</th>\n",
       "      <td>transferRDN-B Ref</td>\n",
       "      <td>nan</td>\n",
       "    </tr>\n",
       "    <tr>\n",
       "      <th>1</th>\n",
       "      <td>transferRDN-B</td>\n",
       "      <td>nan</td>\n",
       "    </tr>\n",
       "  </tbody>\n",
       "</table>\n",
       "</div>"
      ],
      "text/plain": [
       "             p-value RDN-B\n",
       "0  transferRDN-B Ref   nan\n",
       "1      transferRDN-B   nan"
      ]
     },
     "metadata": {},
     "output_type": "display_data"
    },
    {
     "name": "stdout",
     "output_type": "stream",
     "text": [
      "\n",
      "\n",
      "Scratch: [0.137931 0.138889 0.230159 0.170635 0.172414]\n",
      "Transfer: [0.137931 0.138889 0.230159 0.170635 0.172414]\n",
      "Transfer & Revision: [0.137931 0.138889 0.230159 0.170635 0.172414]\n"
     ]
    },
    {
     "data": {
      "text/markdown": [
       "## CLL"
      ],
      "text/plain": [
       "<IPython.core.display.Markdown object>"
      ]
     },
     "metadata": {},
     "output_type": "display_data"
    },
    {
     "name": "stdout",
     "output_type": "stream",
     "text": [
      "T-test for experiment 1\n",
      "Ttest_relResult(statistic=1.2092308552532676, pvalue=0.29315805917481386)\n",
      "Ttest_relResult(statistic=0.02566042686770966, pvalue=0.9807573194399641)\n"
     ]
    },
    {
     "data": {
      "text/html": [
       "<div>\n",
       "<table border=\"1\" class=\"dataframe\">\n",
       "  <thead>\n",
       "    <tr style=\"text-align: right;\">\n",
       "      <th></th>\n",
       "      <th>p-value</th>\n",
       "      <th>RDN-B</th>\n",
       "    </tr>\n",
       "  </thead>\n",
       "  <tbody>\n",
       "    <tr>\n",
       "      <th>0</th>\n",
       "      <td>transferRDN-B Ref</td>\n",
       "      <td>0.293</td>\n",
       "    </tr>\n",
       "    <tr>\n",
       "      <th>1</th>\n",
       "      <td>transferRDN-B</td>\n",
       "      <td>0.981</td>\n",
       "    </tr>\n",
       "  </tbody>\n",
       "</table>\n",
       "</div>"
      ],
      "text/plain": [
       "             p-value  RDN-B\n",
       "0  transferRDN-B Ref  0.293\n",
       "1      transferRDN-B  0.981"
      ]
     },
     "metadata": {},
     "output_type": "display_data"
    },
    {
     "name": "stdout",
     "output_type": "stream",
     "text": [
      "\n",
      "\n",
      "Scratch: [-0.282839 -0.269669 -0.114545 -0.250341 -0.201206]\n",
      "Transfer: [-0.27892  -0.244955 -0.127278 -0.195834 -0.268991]\n",
      "Transfer & Revision: [-0.276615 -0.266696 -0.116586 -0.237859 -0.20389 ]\n"
     ]
    },
    {
     "data": {
      "text/markdown": [
       "## Recall"
      ],
      "text/plain": [
       "<IPython.core.display.Markdown object>"
      ]
     },
     "metadata": {},
     "output_type": "display_data"
    },
    {
     "name": "stdout",
     "output_type": "stream",
     "text": [
      "T-test for experiment 1\n",
      "Ttest_relResult(statistic=1.0, pvalue=0.373900966300059)\n",
      "Ttest_relResult(statistic=1.0, pvalue=0.373900966300059)\n"
     ]
    },
    {
     "data": {
      "text/html": [
       "<div>\n",
       "<table border=\"1\" class=\"dataframe\">\n",
       "  <thead>\n",
       "    <tr style=\"text-align: right;\">\n",
       "      <th></th>\n",
       "      <th>p-value</th>\n",
       "      <th>RDN-B</th>\n",
       "    </tr>\n",
       "  </thead>\n",
       "  <tbody>\n",
       "    <tr>\n",
       "      <th>0</th>\n",
       "      <td>transferRDN-B Ref</td>\n",
       "      <td>0.374</td>\n",
       "    </tr>\n",
       "    <tr>\n",
       "      <th>1</th>\n",
       "      <td>transferRDN-B</td>\n",
       "      <td>0.374</td>\n",
       "    </tr>\n",
       "  </tbody>\n",
       "</table>\n",
       "</div>"
      ],
      "text/plain": [
       "             p-value  RDN-B\n",
       "0  transferRDN-B Ref  0.374\n",
       "1      transferRDN-B  0.374"
      ]
     },
     "metadata": {},
     "output_type": "display_data"
    },
    {
     "name": "stdout",
     "output_type": "stream",
     "text": [
      "\n",
      "\n",
      "Scratch: [1. 1. 1. 1. 0.]\n",
      "Transfer: [1. 1. 1. 1. 1.]\n",
      "Transfer & Revision: [1. 1. 1. 1. 1.]\n"
     ]
    },
    {
     "data": {
      "text/markdown": [
       "## F1"
      ],
      "text/plain": [
       "<IPython.core.display.Markdown object>"
      ]
     },
     "metadata": {},
     "output_type": "display_data"
    },
    {
     "name": "stdout",
     "output_type": "stream",
     "text": [
      "T-test for experiment 1\n",
      "Ttest_relResult(statistic=nan, pvalue=nan)\n",
      "Ttest_relResult(statistic=nan, pvalue=nan)\n"
     ]
    },
    {
     "data": {
      "text/html": [
       "<div>\n",
       "<table border=\"1\" class=\"dataframe\">\n",
       "  <thead>\n",
       "    <tr style=\"text-align: right;\">\n",
       "      <th></th>\n",
       "      <th>p-value</th>\n",
       "      <th>RDN-B</th>\n",
       "    </tr>\n",
       "  </thead>\n",
       "  <tbody>\n",
       "    <tr>\n",
       "      <th>0</th>\n",
       "      <td>transferRDN-B Ref</td>\n",
       "      <td>nan</td>\n",
       "    </tr>\n",
       "    <tr>\n",
       "      <th>1</th>\n",
       "      <td>transferRDN-B</td>\n",
       "      <td>nan</td>\n",
       "    </tr>\n",
       "  </tbody>\n",
       "</table>\n",
       "</div>"
      ],
      "text/plain": [
       "             p-value RDN-B\n",
       "0  transferRDN-B Ref   nan\n",
       "1      transferRDN-B   nan"
      ]
     },
     "metadata": {},
     "output_type": "display_data"
    },
    {
     "name": "stdout",
     "output_type": "stream",
     "text": [
      "\n",
      "\n",
      "Scratch: [0.242424 0.243902 0.374194 0.291525      nan]\n",
      "Transfer: [0.242424 0.243902 0.374194 0.291525 0.294118]\n",
      "Transfer & Revision: [0.242424 0.243902 0.374194 0.291525 0.294118]\n"
     ]
    },
    {
     "data": {
      "text/markdown": [
       "## Precision"
      ],
      "text/plain": [
       "<IPython.core.display.Markdown object>"
      ]
     },
     "metadata": {},
     "output_type": "display_data"
    },
    {
     "name": "stdout",
     "output_type": "stream",
     "text": [
      "\n",
      "\n",
      "Scratch: [0.137931 0.138889 0.230159 0.170635      nan]\n",
      "Transfer: [0.137931 0.138889 0.230159 0.170635 0.172414]\n",
      "Transfer & Revision: [0.137931 0.138889 0.230159 0.170635 0.172414]\n"
     ]
    },
    {
     "data": {
      "text/markdown": [
       "## Learning and Revision time"
      ],
      "text/plain": [
       "<IPython.core.display.Markdown object>"
      ]
     },
     "metadata": {},
     "output_type": "display_data"
    },
    {
     "name": "stdout",
     "output_type": "stream",
     "text": [
      "\n",
      "\n",
      "Scratch: [1.147 1.399 1.556 0.871 0.895]\n",
      "Transfer: [1.008 1.128 0.989 0.912 0.828]\n",
      "Transfer & Revision: [2.229 2.109 2.333 1.709 1.521]\n"
     ]
    },
    {
     "data": {
      "text/markdown": [
       "## Inference time"
      ],
      "text/plain": [
       "<IPython.core.display.Markdown object>"
      ]
     },
     "metadata": {},
     "output_type": "display_data"
    },
    {
     "name": "stdout",
     "output_type": "stream",
     "text": [
      "\n",
      "\n",
      "Scratch: [0.752 0.94  0.953 0.785 0.877]\n",
      "Transfer: [1.008 1.128 0.989 0.912 0.828]\n",
      "Transfer & Revision: [0.922 0.897 0.961 0.79  0.949]\n"
     ]
    },
    {
     "data": {
      "text/markdown": [
       "# Results for 7_imdb_cora"
      ],
      "text/plain": [
       "<IPython.core.display.Markdown object>"
      ]
     },
     "metadata": {},
     "output_type": "display_data"
    },
    {
     "data": {
      "text/markdown": [
       "## AUC ROC"
      ],
      "text/plain": [
       "<IPython.core.display.Markdown object>"
      ]
     },
     "metadata": {},
     "output_type": "display_data"
    },
    {
     "name": "stdout",
     "output_type": "stream",
     "text": [
      "T-test for experiment 1\n",
      "Ttest_relResult(statistic=-0.9343348439716911, pvalue=0.4030257905123325)\n",
      "Ttest_relResult(statistic=-1.789902721988582, pvalue=0.1479673893753392)\n"
     ]
    },
    {
     "data": {
      "text/html": [
       "<div>\n",
       "<table border=\"1\" class=\"dataframe\">\n",
       "  <thead>\n",
       "    <tr style=\"text-align: right;\">\n",
       "      <th></th>\n",
       "      <th>p-value</th>\n",
       "      <th>RDN-B</th>\n",
       "    </tr>\n",
       "  </thead>\n",
       "  <tbody>\n",
       "    <tr>\n",
       "      <th>0</th>\n",
       "      <td>transferRDN-B Ref</td>\n",
       "      <td>0.403</td>\n",
       "    </tr>\n",
       "    <tr>\n",
       "      <th>1</th>\n",
       "      <td>transferRDN-B</td>\n",
       "      <td>0.148</td>\n",
       "    </tr>\n",
       "  </tbody>\n",
       "</table>\n",
       "</div>"
      ],
      "text/plain": [
       "             p-value  RDN-B\n",
       "0  transferRDN-B Ref  0.403\n",
       "1      transferRDN-B  0.148"
      ]
     },
     "metadata": {},
     "output_type": "display_data"
    },
    {
     "name": "stdout",
     "output_type": "stream",
     "text": [
      "\n",
      "\n",
      "Scratch: [0.557679 0.537233 0.564204 0.569424 0.550172]\n",
      "Transfer: [0.544977 0.445862 0.547853 0.554206 0.543975]\n",
      "Transfer & Revision: [0.55736  0.524891 0.55874  0.560167 0.559651]\n"
     ]
    },
    {
     "data": {
      "text/markdown": [
       "## AUC PR"
      ],
      "text/plain": [
       "<IPython.core.display.Markdown object>"
      ]
     },
     "metadata": {},
     "output_type": "display_data"
    },
    {
     "name": "stdout",
     "output_type": "stream",
     "text": [
      "T-test for experiment 1\n",
      "Ttest_relResult(statistic=-0.9765827772861456, pvalue=0.3840726387154234)\n",
      "Ttest_relResult(statistic=-4.439060580375913, pvalue=0.011342191812793688)\n"
     ]
    },
    {
     "data": {
      "text/html": [
       "<div>\n",
       "<table border=\"1\" class=\"dataframe\">\n",
       "  <thead>\n",
       "    <tr style=\"text-align: right;\">\n",
       "      <th></th>\n",
       "      <th>p-value</th>\n",
       "      <th>RDN-B</th>\n",
       "    </tr>\n",
       "  </thead>\n",
       "  <tbody>\n",
       "    <tr>\n",
       "      <th>0</th>\n",
       "      <td>transferRDN-B Ref</td>\n",
       "      <td>0.384</td>\n",
       "    </tr>\n",
       "    <tr>\n",
       "      <th>1</th>\n",
       "      <td>transferRDN-B</td>\n",
       "      <td>0.011</td>\n",
       "    </tr>\n",
       "  </tbody>\n",
       "</table>\n",
       "</div>"
      ],
      "text/plain": [
       "             p-value  RDN-B\n",
       "0  transferRDN-B Ref  0.384\n",
       "1      transferRDN-B  0.011"
      ]
     },
     "metadata": {},
     "output_type": "display_data"
    },
    {
     "name": "stdout",
     "output_type": "stream",
     "text": [
      "\n",
      "\n",
      "Scratch: [0.428525 0.345606 0.506617 0.427559 0.399068]\n",
      "Transfer: [0.4025   0.288412 0.49112  0.39269  0.374863]\n",
      "Transfer & Revision: [0.432268 0.331781 0.499931 0.41171  0.408029]\n"
     ]
    },
    {
     "data": {
      "text/markdown": [
       "## CLL"
      ],
      "text/plain": [
       "<IPython.core.display.Markdown object>"
      ]
     },
     "metadata": {},
     "output_type": "display_data"
    },
    {
     "name": "stdout",
     "output_type": "stream",
     "text": [
      "T-test for experiment 1\n",
      "Ttest_relResult(statistic=-0.18168571507230502, pvalue=0.8646647572244255)\n",
      "Ttest_relResult(statistic=-0.7495613897586952, pvalue=0.495196222094803)\n"
     ]
    },
    {
     "data": {
      "text/html": [
       "<div>\n",
       "<table border=\"1\" class=\"dataframe\">\n",
       "  <thead>\n",
       "    <tr style=\"text-align: right;\">\n",
       "      <th></th>\n",
       "      <th>p-value</th>\n",
       "      <th>RDN-B</th>\n",
       "    </tr>\n",
       "  </thead>\n",
       "  <tbody>\n",
       "    <tr>\n",
       "      <th>0</th>\n",
       "      <td>transferRDN-B Ref</td>\n",
       "      <td>0.865</td>\n",
       "    </tr>\n",
       "    <tr>\n",
       "      <th>1</th>\n",
       "      <td>transferRDN-B</td>\n",
       "      <td>0.495</td>\n",
       "    </tr>\n",
       "  </tbody>\n",
       "</table>\n",
       "</div>"
      ],
      "text/plain": [
       "             p-value  RDN-B\n",
       "0  transferRDN-B Ref  0.865\n",
       "1      transferRDN-B  0.495"
      ]
     },
     "metadata": {},
     "output_type": "display_data"
    },
    {
     "name": "stdout",
     "output_type": "stream",
     "text": [
      "\n",
      "\n",
      "Scratch: [-0.651875 -0.756061 -0.705525 -0.64152  -0.70664 ]\n",
      "Transfer: [-0.657894 -0.749493 -0.728366 -0.643296 -0.702177]\n",
      "Transfer & Revision: [-0.650345 -0.757218 -0.709095 -0.644266 -0.702054]\n"
     ]
    },
    {
     "data": {
      "text/markdown": [
       "## Recall"
      ],
      "text/plain": [
       "<IPython.core.display.Markdown object>"
      ]
     },
     "metadata": {},
     "output_type": "display_data"
    },
    {
     "name": "stdout",
     "output_type": "stream",
     "text": [
      "T-test for experiment 1\n",
      "Ttest_relResult(statistic=-1.6503040609733746, pvalue=0.17422552341772035)\n",
      "Ttest_relResult(statistic=-0.7535559037730496, pvalue=0.49304288930425205)\n"
     ]
    },
    {
     "data": {
      "text/html": [
       "<div>\n",
       "<table border=\"1\" class=\"dataframe\">\n",
       "  <thead>\n",
       "    <tr style=\"text-align: right;\">\n",
       "      <th></th>\n",
       "      <th>p-value</th>\n",
       "      <th>RDN-B</th>\n",
       "    </tr>\n",
       "  </thead>\n",
       "  <tbody>\n",
       "    <tr>\n",
       "      <th>0</th>\n",
       "      <td>transferRDN-B Ref</td>\n",
       "      <td>0.174</td>\n",
       "    </tr>\n",
       "    <tr>\n",
       "      <th>1</th>\n",
       "      <td>transferRDN-B</td>\n",
       "      <td>0.493</td>\n",
       "    </tr>\n",
       "  </tbody>\n",
       "</table>\n",
       "</div>"
      ],
      "text/plain": [
       "             p-value  RDN-B\n",
       "0  transferRDN-B Ref  0.174\n",
       "1      transferRDN-B  0.493"
      ]
     },
     "metadata": {},
     "output_type": "display_data"
    },
    {
     "name": "stdout",
     "output_type": "stream",
     "text": [
      "\n",
      "\n",
      "Scratch: [0.041148 0.956367 0.034072 0.065198 0.931901]\n",
      "Transfer: [0.       1.       0.       0.       0.952169]\n",
      "Transfer & Revision: [3.35980e-02 9.58593e-01 8.21000e-04 1.58590e-02 9.34333e-01]\n"
     ]
    },
    {
     "data": {
      "text/markdown": [
       "## F1"
      ],
      "text/plain": [
       "<IPython.core.display.Markdown object>"
      ]
     },
     "metadata": {},
     "output_type": "display_data"
    },
    {
     "name": "stdout",
     "output_type": "stream",
     "text": [
      "T-test for experiment 1\n",
      "Ttest_relResult(statistic=-1.8306774889725312, pvalue=0.1411165488007652)\n",
      "Ttest_relResult(statistic=nan, pvalue=nan)\n"
     ]
    },
    {
     "data": {
      "text/html": [
       "<div>\n",
       "<table border=\"1\" class=\"dataframe\">\n",
       "  <thead>\n",
       "    <tr style=\"text-align: right;\">\n",
       "      <th></th>\n",
       "      <th>p-value</th>\n",
       "      <th>RDN-B</th>\n",
       "    </tr>\n",
       "  </thead>\n",
       "  <tbody>\n",
       "    <tr>\n",
       "      <th>0</th>\n",
       "      <td>transferRDN-B Ref</td>\n",
       "      <td>0.141</td>\n",
       "    </tr>\n",
       "    <tr>\n",
       "      <th>1</th>\n",
       "      <td>transferRDN-B</td>\n",
       "      <td>nan</td>\n",
       "    </tr>\n",
       "  </tbody>\n",
       "</table>\n",
       "</div>"
      ],
      "text/plain": [
       "             p-value  RDN-B\n",
       "0  transferRDN-B Ref  0.141\n",
       "1      transferRDN-B    nan"
      ]
     },
     "metadata": {},
     "output_type": "display_data"
    },
    {
     "name": "stdout",
     "output_type": "stream",
     "text": [
      "\n",
      "\n",
      "Scratch: [0.077305 0.516595 0.064142 0.11649  0.535523]\n",
      "Transfer: [     nan 0.50078       nan      nan 0.538514]\n",
      "Transfer & Revision: [0.064029 0.516741 0.001635 0.031196 0.535548]\n"
     ]
    },
    {
     "data": {
      "text/markdown": [
       "## Precision"
      ],
      "text/plain": [
       "<IPython.core.display.Markdown object>"
      ]
     },
     "metadata": {},
     "output_type": "display_data"
    },
    {
     "name": "stdout",
     "output_type": "stream",
     "text": [
      "\n",
      "\n",
      "Scratch: [0.637427 0.353871 0.546053 0.546125 0.375715]\n",
      "Transfer: [     nan 0.334027      nan      nan 0.37542 ]\n",
      "Transfer & Revision: [0.679389 0.353705 0.2      0.947368 0.375346]\n"
     ]
    },
    {
     "data": {
      "text/markdown": [
       "## Learning and Revision time"
      ],
      "text/plain": [
       "<IPython.core.display.Markdown object>"
      ]
     },
     "metadata": {},
     "output_type": "display_data"
    },
    {
     "name": "stdout",
     "output_type": "stream",
     "text": [
      "\n",
      "\n",
      "Scratch: [130.007 141.108  77.933 169.64   81.154]\n",
      "Transfer: [45.178 49.051 11.64  77.352 37.534]\n",
      "Transfer & Revision: [156.098 139.841  71.664 171.269 114.747]\n"
     ]
    },
    {
     "data": {
      "text/markdown": [
       "## Inference time"
      ],
      "text/plain": [
       "<IPython.core.display.Markdown object>"
      ]
     },
     "metadata": {},
     "output_type": "display_data"
    },
    {
     "name": "stdout",
     "output_type": "stream",
     "text": [
      "\n",
      "\n",
      "Scratch: [ 8.919  7.219  6.698  7.894 13.279]\n",
      "Transfer: [45.178 49.051 11.64  77.352 37.534]\n",
      "Transfer & Revision: [ 9.148  7.224  5.673  6.225 22.791]\n"
     ]
    },
    {
     "data": {
      "text/markdown": [
       "# Results for 8_imdb_cora"
      ],
      "text/plain": [
       "<IPython.core.display.Markdown object>"
      ]
     },
     "metadata": {},
     "output_type": "display_data"
    },
    {
     "data": {
      "text/markdown": [
       "## AUC ROC"
      ],
      "text/plain": [
       "<IPython.core.display.Markdown object>"
      ]
     },
     "metadata": {},
     "output_type": "display_data"
    },
    {
     "name": "stdout",
     "output_type": "stream",
     "text": [
      "T-test for experiment 1\n",
      "Ttest_relResult(statistic=-1.5340657806707048, pvalue=0.19979714883269045)\n",
      "Ttest_relResult(statistic=-2.823528429990193, pvalue=0.04765702592292105)\n"
     ]
    },
    {
     "data": {
      "text/html": [
       "<div>\n",
       "<table border=\"1\" class=\"dataframe\">\n",
       "  <thead>\n",
       "    <tr style=\"text-align: right;\">\n",
       "      <th></th>\n",
       "      <th>p-value</th>\n",
       "      <th>RDN-B</th>\n",
       "    </tr>\n",
       "  </thead>\n",
       "  <tbody>\n",
       "    <tr>\n",
       "      <th>0</th>\n",
       "      <td>transferRDN-B Ref</td>\n",
       "      <td>0.200</td>\n",
       "    </tr>\n",
       "    <tr>\n",
       "      <th>1</th>\n",
       "      <td>transferRDN-B</td>\n",
       "      <td>0.048</td>\n",
       "    </tr>\n",
       "  </tbody>\n",
       "</table>\n",
       "</div>"
      ],
      "text/plain": [
       "             p-value  RDN-B\n",
       "0  transferRDN-B Ref  0.200\n",
       "1      transferRDN-B  0.048"
      ]
     },
     "metadata": {},
     "output_type": "display_data"
    },
    {
     "name": "stdout",
     "output_type": "stream",
     "text": [
      "\n",
      "\n",
      "Scratch: [0.934034 0.939905 0.936098 0.931733 0.940318]\n",
      "Transfer: [0.671263 0.920688 0.689632 0.690512 0.916942]\n",
      "Transfer & Revision: [0.933997 0.939905 0.897693 0.91036  0.940319]\n"
     ]
    },
    {
     "data": {
      "text/markdown": [
       "## AUC PR"
      ],
      "text/plain": [
       "<IPython.core.display.Markdown object>"
      ]
     },
     "metadata": {},
     "output_type": "display_data"
    },
    {
     "name": "stdout",
     "output_type": "stream",
     "text": [
      "T-test for experiment 1\n",
      "Ttest_relResult(statistic=-1.5956529769468775, pvalue=0.18579820820777812)\n",
      "Ttest_relResult(statistic=-2.81032743250355, pvalue=0.0483008381362382)\n"
     ]
    },
    {
     "data": {
      "text/html": [
       "<div>\n",
       "<table border=\"1\" class=\"dataframe\">\n",
       "  <thead>\n",
       "    <tr style=\"text-align: right;\">\n",
       "      <th></th>\n",
       "      <th>p-value</th>\n",
       "      <th>RDN-B</th>\n",
       "    </tr>\n",
       "  </thead>\n",
       "  <tbody>\n",
       "    <tr>\n",
       "      <th>0</th>\n",
       "      <td>transferRDN-B Ref</td>\n",
       "      <td>0.186</td>\n",
       "    </tr>\n",
       "    <tr>\n",
       "      <th>1</th>\n",
       "      <td>transferRDN-B</td>\n",
       "      <td>0.048</td>\n",
       "    </tr>\n",
       "  </tbody>\n",
       "</table>\n",
       "</div>"
      ],
      "text/plain": [
       "             p-value  RDN-B\n",
       "0  transferRDN-B Ref  0.186\n",
       "1      transferRDN-B  0.048"
      ]
     },
     "metadata": {},
     "output_type": "display_data"
    },
    {
     "name": "stdout",
     "output_type": "stream",
     "text": [
      "\n",
      "\n",
      "Scratch: [0.963192 0.951739 0.972305 0.953501 0.965717]\n",
      "Transfer: [0.793755 0.94088  0.830756 0.795634 0.949701]\n",
      "Transfer & Revision: [0.963164 0.951739 0.925073 0.9198   0.965763]\n"
     ]
    },
    {
     "data": {
      "text/markdown": [
       "## CLL"
      ],
      "text/plain": [
       "<IPython.core.display.Markdown object>"
      ]
     },
     "metadata": {},
     "output_type": "display_data"
    },
    {
     "name": "stdout",
     "output_type": "stream",
     "text": [
      "T-test for experiment 1\n",
      "Ttest_relResult(statistic=-1.6447231440061822, pvalue=0.175372132936627)\n",
      "Ttest_relResult(statistic=-3.0431440908092577, pvalue=0.03828418072495122)\n"
     ]
    },
    {
     "data": {
      "text/html": [
       "<div>\n",
       "<table border=\"1\" class=\"dataframe\">\n",
       "  <thead>\n",
       "    <tr style=\"text-align: right;\">\n",
       "      <th></th>\n",
       "      <th>p-value</th>\n",
       "      <th>RDN-B</th>\n",
       "    </tr>\n",
       "  </thead>\n",
       "  <tbody>\n",
       "    <tr>\n",
       "      <th>0</th>\n",
       "      <td>transferRDN-B Ref</td>\n",
       "      <td>0.175</td>\n",
       "    </tr>\n",
       "    <tr>\n",
       "      <th>1</th>\n",
       "      <td>transferRDN-B</td>\n",
       "      <td>0.038</td>\n",
       "    </tr>\n",
       "  </tbody>\n",
       "</table>\n",
       "</div>"
      ],
      "text/plain": [
       "             p-value  RDN-B\n",
       "0  transferRDN-B Ref  0.175\n",
       "1      transferRDN-B  0.038"
      ]
     },
     "metadata": {},
     "output_type": "display_data"
    },
    {
     "name": "stdout",
     "output_type": "stream",
     "text": [
      "\n",
      "\n",
      "Scratch: [-0.293428 -0.512176 -0.311366 -0.302445 -0.301872]\n",
      "Transfer: [-0.635276 -0.577891 -0.621963 -0.574645 -0.321484]\n",
      "Transfer & Revision: [-0.291782 -0.512668 -0.323897 -0.310635 -0.303899]\n"
     ]
    },
    {
     "data": {
      "text/markdown": [
       "## Recall"
      ],
      "text/plain": [
       "<IPython.core.display.Markdown object>"
      ]
     },
     "metadata": {},
     "output_type": "display_data"
    },
    {
     "name": "stdout",
     "output_type": "stream",
     "text": [
      "T-test for experiment 1\n",
      "Ttest_relResult(statistic=1.0000000000000002, pvalue=0.3739009663000589)\n",
      "Ttest_relResult(statistic=-2.4353405849668124, pvalue=0.07156720446982338)\n"
     ]
    },
    {
     "data": {
      "text/html": [
       "<div>\n",
       "<table border=\"1\" class=\"dataframe\">\n",
       "  <thead>\n",
       "    <tr style=\"text-align: right;\">\n",
       "      <th></th>\n",
       "      <th>p-value</th>\n",
       "      <th>RDN-B</th>\n",
       "    </tr>\n",
       "  </thead>\n",
       "  <tbody>\n",
       "    <tr>\n",
       "      <th>0</th>\n",
       "      <td>transferRDN-B Ref</td>\n",
       "      <td>0.374</td>\n",
       "    </tr>\n",
       "    <tr>\n",
       "      <th>1</th>\n",
       "      <td>transferRDN-B</td>\n",
       "      <td>0.072</td>\n",
       "    </tr>\n",
       "  </tbody>\n",
       "</table>\n",
       "</div>"
      ],
      "text/plain": [
       "             p-value  RDN-B\n",
       "0  transferRDN-B Ref  0.374\n",
       "1      transferRDN-B  0.072"
      ]
     },
     "metadata": {},
     "output_type": "display_data"
    },
    {
     "name": "stdout",
     "output_type": "stream",
     "text": [
      "\n",
      "\n",
      "Scratch: [0.856255 0.970547 0.901744 0.892022 0.872641]\n",
      "Transfer: [0.351904 1.       0.439311 0.422749 0.843695]\n",
      "Transfer & Revision: [0.865035 0.970547 0.901744 0.892022 0.872641]\n"
     ]
    },
    {
     "data": {
      "text/markdown": [
       "## F1"
      ],
      "text/plain": [
       "<IPython.core.display.Markdown object>"
      ]
     },
     "metadata": {},
     "output_type": "display_data"
    },
    {
     "name": "stdout",
     "output_type": "stream",
     "text": [
      "T-test for experiment 1\n",
      "Ttest_relResult(statistic=1.0000000000000002, pvalue=0.3739009663000589)\n",
      "Ttest_relResult(statistic=-2.836772153975171, pvalue=0.04702112239911123)\n"
     ]
    },
    {
     "data": {
      "text/html": [
       "<div>\n",
       "<table border=\"1\" class=\"dataframe\">\n",
       "  <thead>\n",
       "    <tr style=\"text-align: right;\">\n",
       "      <th></th>\n",
       "      <th>p-value</th>\n",
       "      <th>RDN-B</th>\n",
       "    </tr>\n",
       "  </thead>\n",
       "  <tbody>\n",
       "    <tr>\n",
       "      <th>0</th>\n",
       "      <td>transferRDN-B Ref</td>\n",
       "      <td>0.374</td>\n",
       "    </tr>\n",
       "    <tr>\n",
       "      <th>1</th>\n",
       "      <td>transferRDN-B</td>\n",
       "      <td>0.047</td>\n",
       "    </tr>\n",
       "  </tbody>\n",
       "</table>\n",
       "</div>"
      ],
      "text/plain": [
       "             p-value  RDN-B\n",
       "0  transferRDN-B Ref  0.374\n",
       "1      transferRDN-B  0.047"
      ]
     },
     "metadata": {},
     "output_type": "display_data"
    },
    {
     "name": "stdout",
     "output_type": "stream",
     "text": [
      "\n",
      "\n",
      "Scratch: [0.914523 0.754873 0.927613 0.920412 0.919854]\n",
      "Transfer: [0.518103 0.695322 0.597804 0.582499 0.911473]\n",
      "Transfer & Revision: [0.918375 0.754873 0.927613 0.920412 0.919854]\n"
     ]
    },
    {
     "data": {
      "text/markdown": [
       "## Precision"
      ],
      "text/plain": [
       "<IPython.core.display.Markdown object>"
      ]
     },
     "metadata": {},
     "output_type": "display_data"
    },
    {
     "name": "stdout",
     "output_type": "stream",
     "text": [
      "\n",
      "\n",
      "Scratch: [0.9813   0.617626 0.95501  0.950669 0.972468]\n",
      "Transfer: [0.981791 0.532946 0.935202 0.936319 0.991092]\n",
      "Transfer & Revision: [0.978725 0.617626 0.95501  0.950669 0.972468]\n"
     ]
    },
    {
     "data": {
      "text/markdown": [
       "## Learning and Revision time"
      ],
      "text/plain": [
       "<IPython.core.display.Markdown object>"
      ]
     },
     "metadata": {},
     "output_type": "display_data"
    },
    {
     "name": "stdout",
     "output_type": "stream",
     "text": [
      "\n",
      "\n",
      "Scratch: [200.93   63.989 410.159 170.454 261.68 ]\n",
      "Transfer: [106.228  29.494 226.547 126.221 147.542]\n",
      "Transfer & Revision: [278.854  83.206 615.136 271.387 341.211]\n"
     ]
    },
    {
     "data": {
      "text/markdown": [
       "## Inference time"
      ],
      "text/plain": [
       "<IPython.core.display.Markdown object>"
      ]
     },
     "metadata": {},
     "output_type": "display_data"
    },
    {
     "name": "stdout",
     "output_type": "stream",
     "text": [
      "\n",
      "\n",
      "Scratch: [5.836 4.064 4.574 4.302 5.328]\n",
      "Transfer: [106.228  29.494 226.547 126.221 147.542]\n",
      "Transfer & Revision: [6.634 4.199 4.022 3.718 6.648]\n"
     ]
    },
    {
     "data": {
      "text/markdown": [
       "# Results for 9_imdb_cora"
      ],
      "text/plain": [
       "<IPython.core.display.Markdown object>"
      ]
     },
     "metadata": {},
     "output_type": "display_data"
    },
    {
     "data": {
      "text/markdown": [
       "## AUC ROC"
      ],
      "text/plain": [
       "<IPython.core.display.Markdown object>"
      ]
     },
     "metadata": {},
     "output_type": "display_data"
    },
    {
     "name": "stdout",
     "output_type": "stream",
     "text": [
      "T-test for experiment 1\n",
      "Ttest_relResult(statistic=1.1009878145023737, pvalue=0.33270120728932323)\n",
      "Ttest_relResult(statistic=1.9570816236832613, pvalue=0.12196214494114442)\n"
     ]
    },
    {
     "data": {
      "text/html": [
       "<div>\n",
       "<table border=\"1\" class=\"dataframe\">\n",
       "  <thead>\n",
       "    <tr style=\"text-align: right;\">\n",
       "      <th></th>\n",
       "      <th>p-value</th>\n",
       "      <th>RDN-B</th>\n",
       "    </tr>\n",
       "  </thead>\n",
       "  <tbody>\n",
       "    <tr>\n",
       "      <th>0</th>\n",
       "      <td>transferRDN-B Ref</td>\n",
       "      <td>0.333</td>\n",
       "    </tr>\n",
       "    <tr>\n",
       "      <th>1</th>\n",
       "      <td>transferRDN-B</td>\n",
       "      <td>0.122</td>\n",
       "    </tr>\n",
       "  </tbody>\n",
       "</table>\n",
       "</div>"
      ],
      "text/plain": [
       "             p-value  RDN-B\n",
       "0  transferRDN-B Ref  0.333\n",
       "1      transferRDN-B  0.122"
      ]
     },
     "metadata": {},
     "output_type": "display_data"
    },
    {
     "name": "stdout",
     "output_type": "stream",
     "text": [
      "\n",
      "\n",
      "Scratch: [0.360897 0.569243 0.4807   0.717916 0.547098]\n",
      "Transfer: [0.724138 0.62963  0.685714 0.655172 0.678571]\n",
      "Transfer & Revision: [0.812146 0.569243 0.704841 0.632342 0.509849]\n"
     ]
    },
    {
     "data": {
      "text/markdown": [
       "## AUC PR"
      ],
      "text/plain": [
       "<IPython.core.display.Markdown object>"
      ]
     },
     "metadata": {},
     "output_type": "display_data"
    },
    {
     "name": "stdout",
     "output_type": "stream",
     "text": [
      "T-test for experiment 1\n",
      "Ttest_relResult(statistic=0.6831435646936783, pvalue=0.5320325044966996)\n",
      "Ttest_relResult(statistic=1.4908357103255783, pvalue=0.21026463816273266)\n"
     ]
    },
    {
     "data": {
      "text/html": [
       "<div>\n",
       "<table border=\"1\" class=\"dataframe\">\n",
       "  <thead>\n",
       "    <tr style=\"text-align: right;\">\n",
       "      <th></th>\n",
       "      <th>p-value</th>\n",
       "      <th>RDN-B</th>\n",
       "    </tr>\n",
       "  </thead>\n",
       "  <tbody>\n",
       "    <tr>\n",
       "      <th>0</th>\n",
       "      <td>transferRDN-B Ref</td>\n",
       "      <td>0.532</td>\n",
       "    </tr>\n",
       "    <tr>\n",
       "      <th>1</th>\n",
       "      <td>transferRDN-B</td>\n",
       "      <td>0.210</td>\n",
       "    </tr>\n",
       "  </tbody>\n",
       "</table>\n",
       "</div>"
      ],
      "text/plain": [
       "             p-value  RDN-B\n",
       "0  transferRDN-B Ref  0.532\n",
       "1      transferRDN-B  0.210"
      ]
     },
     "metadata": {},
     "output_type": "display_data"
    },
    {
     "name": "stdout",
     "output_type": "stream",
     "text": [
      "\n",
      "\n",
      "Scratch: [0.87404  0.934792 0.925184 0.957639 0.917606]\n",
      "Transfer: [0.949606 0.945205 0.937589 0.942363 0.946746]\n",
      "Transfer & Revision: [0.968828 0.934792 0.956982 0.928822 0.896564]\n"
     ]
    },
    {
     "data": {
      "text/markdown": [
       "## CLL"
      ],
      "text/plain": [
       "<IPython.core.display.Markdown object>"
      ]
     },
     "metadata": {},
     "output_type": "display_data"
    },
    {
     "name": "stdout",
     "output_type": "stream",
     "text": [
      "T-test for experiment 1\n",
      "Ttest_relResult(statistic=0.8927900418186795, pvalue=0.4224272373700715)\n",
      "Ttest_relResult(statistic=2.267164272004072, pvalue=0.0859966370306882)\n"
     ]
    },
    {
     "data": {
      "text/html": [
       "<div>\n",
       "<table border=\"1\" class=\"dataframe\">\n",
       "  <thead>\n",
       "    <tr style=\"text-align: right;\">\n",
       "      <th></th>\n",
       "      <th>p-value</th>\n",
       "      <th>RDN-B</th>\n",
       "    </tr>\n",
       "  </thead>\n",
       "  <tbody>\n",
       "    <tr>\n",
       "      <th>0</th>\n",
       "      <td>transferRDN-B Ref</td>\n",
       "      <td>0.422</td>\n",
       "    </tr>\n",
       "    <tr>\n",
       "      <th>1</th>\n",
       "      <td>transferRDN-B</td>\n",
       "      <td>0.086</td>\n",
       "    </tr>\n",
       "  </tbody>\n",
       "</table>\n",
       "</div>"
      ],
      "text/plain": [
       "             p-value  RDN-B\n",
       "0  transferRDN-B Ref  0.422\n",
       "1      transferRDN-B  0.086"
      ]
     },
     "metadata": {},
     "output_type": "display_data"
    },
    {
     "name": "stdout",
     "output_type": "stream",
     "text": [
      "\n",
      "\n",
      "Scratch: [-0.37065  -0.253596 -0.334713 -0.262547 -0.413262]\n",
      "Transfer: [-0.255665 -0.258457 -0.256513 -0.255786 -0.255769]\n",
      "Transfer & Revision: [-0.284659 -0.25356  -0.26711  -0.262036 -0.459249]\n"
     ]
    },
    {
     "data": {
      "text/markdown": [
       "## Recall"
      ],
      "text/plain": [
       "<IPython.core.display.Markdown object>"
      ]
     },
     "metadata": {},
     "output_type": "display_data"
    },
    {
     "name": "stdout",
     "output_type": "stream",
     "text": [
      "T-test for experiment 1\n",
      "Ttest_relResult(statistic=1.0, pvalue=0.373900966300059)\n",
      "Ttest_relResult(statistic=1.0, pvalue=0.373900966300059)\n"
     ]
    },
    {
     "data": {
      "text/html": [
       "<div>\n",
       "<table border=\"1\" class=\"dataframe\">\n",
       "  <thead>\n",
       "    <tr style=\"text-align: right;\">\n",
       "      <th></th>\n",
       "      <th>p-value</th>\n",
       "      <th>RDN-B</th>\n",
       "    </tr>\n",
       "  </thead>\n",
       "  <tbody>\n",
       "    <tr>\n",
       "      <th>0</th>\n",
       "      <td>transferRDN-B Ref</td>\n",
       "      <td>0.374</td>\n",
       "    </tr>\n",
       "    <tr>\n",
       "      <th>1</th>\n",
       "      <td>transferRDN-B</td>\n",
       "      <td>0.374</td>\n",
       "    </tr>\n",
       "  </tbody>\n",
       "</table>\n",
       "</div>"
      ],
      "text/plain": [
       "             p-value  RDN-B\n",
       "0  transferRDN-B Ref  0.374\n",
       "1      transferRDN-B  0.374"
      ]
     },
     "metadata": {},
     "output_type": "display_data"
    },
    {
     "name": "stdout",
     "output_type": "stream",
     "text": [
      "\n",
      "\n",
      "Scratch: [1.       1.       1.       1.       0.828125]\n",
      "Transfer: [1. 1. 1. 1. 1.]\n",
      "Transfer & Revision: [1.       1.       1.       1.       0.895313]\n"
     ]
    },
    {
     "data": {
      "text/markdown": [
       "## F1"
      ],
      "text/plain": [
       "<IPython.core.display.Markdown object>"
      ]
     },
     "metadata": {},
     "output_type": "display_data"
    },
    {
     "name": "stdout",
     "output_type": "stream",
     "text": [
      "T-test for experiment 1\n",
      "Ttest_relResult(statistic=2.155569004025432, pvalue=0.09737150599181156)\n",
      "Ttest_relResult(statistic=1.5342160789943686, pvalue=0.19976169871443775)\n"
     ]
    },
    {
     "data": {
      "text/html": [
       "<div>\n",
       "<table border=\"1\" class=\"dataframe\">\n",
       "  <thead>\n",
       "    <tr style=\"text-align: right;\">\n",
       "      <th></th>\n",
       "      <th>p-value</th>\n",
       "      <th>RDN-B</th>\n",
       "    </tr>\n",
       "  </thead>\n",
       "  <tbody>\n",
       "    <tr>\n",
       "      <th>0</th>\n",
       "      <td>transferRDN-B Ref</td>\n",
       "      <td>0.097</td>\n",
       "    </tr>\n",
       "    <tr>\n",
       "      <th>1</th>\n",
       "      <td>transferRDN-B</td>\n",
       "      <td>0.200</td>\n",
       "    </tr>\n",
       "  </tbody>\n",
       "</table>\n",
       "</div>"
      ],
      "text/plain": [
       "             p-value  RDN-B\n",
       "0  transferRDN-B Ref  0.097\n",
       "1      transferRDN-B  0.200"
      ]
     },
     "metadata": {},
     "output_type": "display_data"
    },
    {
     "name": "stdout",
     "output_type": "stream",
     "text": [
      "\n",
      "\n",
      "Scratch: [0.954114 0.971831 0.949713 0.970326 0.881864]\n",
      "Transfer: [0.974152 0.971831 0.967789 0.970326 0.972644]\n",
      "Transfer & Revision: [0.974152 0.971831 0.967789 0.970326 0.919006]\n"
     ]
    },
    {
     "data": {
      "text/markdown": [
       "## Precision"
      ],
      "text/plain": [
       "<IPython.core.display.Markdown object>"
      ]
     },
     "metadata": {},
     "output_type": "display_data"
    },
    {
     "name": "stdout",
     "output_type": "stream",
     "text": [
      "\n",
      "\n",
      "Scratch: [0.912254 0.945205 0.904241 0.942363 0.94306 ]\n",
      "Transfer: [0.949606 0.945205 0.937589 0.942363 0.946746]\n",
      "Transfer & Revision: [0.949606 0.945205 0.937589 0.942363 0.943987]\n"
     ]
    },
    {
     "data": {
      "text/markdown": [
       "## Learning and Revision time"
      ],
      "text/plain": [
       "<IPython.core.display.Markdown object>"
      ]
     },
     "metadata": {},
     "output_type": "display_data"
    },
    {
     "name": "stdout",
     "output_type": "stream",
     "text": [
      "\n",
      "\n",
      "Scratch: [ 8.085  5.968  8.891 10.625  7.731]\n",
      "Transfer: [4.243 2.901 3.65  4.672 3.8  ]\n",
      "Transfer & Revision: [11.548  6.955 12.045 13.316 14.405]\n"
     ]
    },
    {
     "data": {
      "text/markdown": [
       "## Inference time"
      ],
      "text/plain": [
       "<IPython.core.display.Markdown object>"
      ]
     },
     "metadata": {},
     "output_type": "display_data"
    },
    {
     "name": "stdout",
     "output_type": "stream",
     "text": [
      "\n",
      "\n",
      "Scratch: [3.559 1.4   1.988 2.969 2.258]\n",
      "Transfer: [4.243 2.901 3.65  4.672 3.8  ]\n",
      "Transfer & Revision: [24.65   1.648  4.093  3.057  3.124]\n"
     ]
    },
    {
     "data": {
      "text/markdown": [
       "# Results for 10_imdb_cora"
      ],
      "text/plain": [
       "<IPython.core.display.Markdown object>"
      ]
     },
     "metadata": {},
     "output_type": "display_data"
    },
    {
     "data": {
      "text/markdown": [
       "## AUC ROC"
      ],
      "text/plain": [
       "<IPython.core.display.Markdown object>"
      ]
     },
     "metadata": {},
     "output_type": "display_data"
    },
    {
     "name": "stdout",
     "output_type": "stream",
     "text": [
      "T-test for experiment 1\n",
      "Ttest_relResult(statistic=-0.9126657619845843, pvalue=0.41305025015645164)\n",
      "Ttest_relResult(statistic=-5.481986779157906, pvalue=0.005391558939774794)\n"
     ]
    },
    {
     "data": {
      "text/html": [
       "<div>\n",
       "<table border=\"1\" class=\"dataframe\">\n",
       "  <thead>\n",
       "    <tr style=\"text-align: right;\">\n",
       "      <th></th>\n",
       "      <th>p-value</th>\n",
       "      <th>RDN-B</th>\n",
       "    </tr>\n",
       "  </thead>\n",
       "  <tbody>\n",
       "    <tr>\n",
       "      <th>0</th>\n",
       "      <td>transferRDN-B Ref</td>\n",
       "      <td>0.413</td>\n",
       "    </tr>\n",
       "    <tr>\n",
       "      <th>1</th>\n",
       "      <td>transferRDN-B</td>\n",
       "      <td>0.005</td>\n",
       "    </tr>\n",
       "  </tbody>\n",
       "</table>\n",
       "</div>"
      ],
      "text/plain": [
       "             p-value  RDN-B\n",
       "0  transferRDN-B Ref  0.413\n",
       "1      transferRDN-B  0.005"
      ]
     },
     "metadata": {},
     "output_type": "display_data"
    },
    {
     "name": "stdout",
     "output_type": "stream",
     "text": [
      "\n",
      "\n",
      "Scratch: [0.960829 0.709121 0.979616 0.746454 0.73954 ]\n",
      "Transfer: [0.50625  0.504518 0.501976 0.504644 0.503521]\n",
      "Transfer & Revision: [0.985619 0.711529 0.528486 0.748521 0.741971]\n"
     ]
    },
    {
     "data": {
      "text/markdown": [
       "## AUC PR"
      ],
      "text/plain": [
       "<IPython.core.display.Markdown object>"
      ]
     },
     "metadata": {},
     "output_type": "display_data"
    },
    {
     "name": "stdout",
     "output_type": "stream",
     "text": [
      "T-test for experiment 1\n",
      "Ttest_relResult(statistic=-0.889484657001919, pvalue=0.4240036131122313)\n",
      "Ttest_relResult(statistic=-5.620224911385863, pvalue=0.0049273771255060024)\n"
     ]
    },
    {
     "data": {
      "text/html": [
       "<div>\n",
       "<table border=\"1\" class=\"dataframe\">\n",
       "  <thead>\n",
       "    <tr style=\"text-align: right;\">\n",
       "      <th></th>\n",
       "      <th>p-value</th>\n",
       "      <th>RDN-B</th>\n",
       "    </tr>\n",
       "  </thead>\n",
       "  <tbody>\n",
       "    <tr>\n",
       "      <th>0</th>\n",
       "      <td>transferRDN-B Ref</td>\n",
       "      <td>0.424</td>\n",
       "    </tr>\n",
       "    <tr>\n",
       "      <th>1</th>\n",
       "      <td>transferRDN-B</td>\n",
       "      <td>0.005</td>\n",
       "    </tr>\n",
       "  </tbody>\n",
       "</table>\n",
       "</div>"
      ],
      "text/plain": [
       "             p-value  RDN-B\n",
       "0  transferRDN-B Ref  0.424\n",
       "1      transferRDN-B  0.005"
      ]
     },
     "metadata": {},
     "output_type": "display_data"
    },
    {
     "name": "stdout",
     "output_type": "stream",
     "text": [
      "\n",
      "\n",
      "Scratch: [0.956155 0.662421 0.964003 0.6958   0.695161]\n",
      "Transfer: [0.530693 0.458882 0.53719  0.470637 0.490975]\n",
      "Transfer & Revision: [0.989401 0.663662 0.545226 0.696952 0.69657 ]\n"
     ]
    },
    {
     "data": {
      "text/markdown": [
       "## CLL"
      ],
      "text/plain": [
       "<IPython.core.display.Markdown object>"
      ]
     },
     "metadata": {},
     "output_type": "display_data"
    },
    {
     "name": "stdout",
     "output_type": "stream",
     "text": [
      "T-test for experiment 1\n",
      "Ttest_relResult(statistic=-0.8374727483071351, pvalue=0.44944802313616944)\n",
      "Ttest_relResult(statistic=-2.3554800267658402, pvalue=0.07804691119837401)\n"
     ]
    },
    {
     "data": {
      "text/html": [
       "<div>\n",
       "<table border=\"1\" class=\"dataframe\">\n",
       "  <thead>\n",
       "    <tr style=\"text-align: right;\">\n",
       "      <th></th>\n",
       "      <th>p-value</th>\n",
       "      <th>RDN-B</th>\n",
       "    </tr>\n",
       "  </thead>\n",
       "  <tbody>\n",
       "    <tr>\n",
       "      <th>0</th>\n",
       "      <td>transferRDN-B Ref</td>\n",
       "      <td>0.449</td>\n",
       "    </tr>\n",
       "    <tr>\n",
       "      <th>1</th>\n",
       "      <td>transferRDN-B</td>\n",
       "      <td>0.078</td>\n",
       "    </tr>\n",
       "  </tbody>\n",
       "</table>\n",
       "</div>"
      ],
      "text/plain": [
       "             p-value  RDN-B\n",
       "0  transferRDN-B Ref  0.449\n",
       "1      transferRDN-B  0.078"
      ]
     },
     "metadata": {},
     "output_type": "display_data"
    },
    {
     "name": "stdout",
     "output_type": "stream",
     "text": [
      "\n",
      "\n",
      "Scratch: [-0.257863 -0.735036 -0.183255 -0.606555 -0.615083]\n",
      "Transfer: [-0.735133 -0.792991 -0.781831 -0.728227 -0.690866]\n",
      "Transfer & Revision: [-0.224657 -0.703502 -0.680334 -0.611466 -0.609012]\n"
     ]
    },
    {
     "data": {
      "text/markdown": [
       "## Recall"
      ],
      "text/plain": [
       "<IPython.core.display.Markdown object>"
      ]
     },
     "metadata": {},
     "output_type": "display_data"
    },
    {
     "name": "stdout",
     "output_type": "stream",
     "text": [
      "T-test for experiment 1\n",
      "Ttest_relResult(statistic=-1.0000000000000002, pvalue=0.3739009663000589)\n",
      "Ttest_relResult(statistic=-1.8470631159348758, pvalue=0.1384599360932998)\n"
     ]
    },
    {
     "data": {
      "text/html": [
       "<div>\n",
       "<table border=\"1\" class=\"dataframe\">\n",
       "  <thead>\n",
       "    <tr style=\"text-align: right;\">\n",
       "      <th></th>\n",
       "      <th>p-value</th>\n",
       "      <th>RDN-B</th>\n",
       "    </tr>\n",
       "  </thead>\n",
       "  <tbody>\n",
       "    <tr>\n",
       "      <th>0</th>\n",
       "      <td>transferRDN-B Ref</td>\n",
       "      <td>0.374</td>\n",
       "    </tr>\n",
       "    <tr>\n",
       "      <th>1</th>\n",
       "      <td>transferRDN-B</td>\n",
       "      <td>0.138</td>\n",
       "    </tr>\n",
       "  </tbody>\n",
       "</table>\n",
       "</div>"
      ],
      "text/plain": [
       "             p-value  RDN-B\n",
       "0  transferRDN-B Ref  0.374\n",
       "1      transferRDN-B  0.138"
      ]
     },
     "metadata": {},
     "output_type": "display_data"
    },
    {
     "name": "stdout",
     "output_type": "stream",
     "text": [
      "\n",
      "\n",
      "Scratch: [0.977612 0.910394 0.965812 0.943761 0.365809]\n",
      "Transfer: [0. 1. 0. 1. 0.]\n",
      "Transfer & Revision: [0.977612 0.910394 0.006838 0.943761 0.365809]\n"
     ]
    },
    {
     "data": {
      "text/markdown": [
       "## F1"
      ],
      "text/plain": [
       "<IPython.core.display.Markdown object>"
      ]
     },
     "metadata": {},
     "output_type": "display_data"
    },
    {
     "name": "stdout",
     "output_type": "stream",
     "text": [
      "T-test for experiment 1\n",
      "Ttest_relResult(statistic=-0.9904866312881894, pvalue=0.37800474606628326)\n",
      "Ttest_relResult(statistic=nan, pvalue=nan)\n"
     ]
    },
    {
     "data": {
      "text/html": [
       "<div>\n",
       "<table border=\"1\" class=\"dataframe\">\n",
       "  <thead>\n",
       "    <tr style=\"text-align: right;\">\n",
       "      <th></th>\n",
       "      <th>p-value</th>\n",
       "      <th>RDN-B</th>\n",
       "    </tr>\n",
       "  </thead>\n",
       "  <tbody>\n",
       "    <tr>\n",
       "      <th>0</th>\n",
       "      <td>transferRDN-B Ref</td>\n",
       "      <td>0.378</td>\n",
       "    </tr>\n",
       "    <tr>\n",
       "      <th>1</th>\n",
       "      <td>transferRDN-B</td>\n",
       "      <td>nan</td>\n",
       "    </tr>\n",
       "  </tbody>\n",
       "</table>\n",
       "</div>"
      ],
      "text/plain": [
       "             p-value  RDN-B\n",
       "0  transferRDN-B Ref  0.378\n",
       "1      transferRDN-B    nan"
      ]
     },
     "metadata": {},
     "output_type": "display_data"
    },
    {
     "name": "stdout",
     "output_type": "stream",
     "text": [
      "\n",
      "\n",
      "Scratch: [0.963235 0.684636 0.97582  0.718876 0.493797]\n",
      "Transfer: [     nan 0.629087      nan 0.640045      nan]\n",
      "Transfer & Revision: [0.96679  0.686486 0.013582 0.720805 0.493797]\n"
     ]
    },
    {
     "data": {
      "text/markdown": [
       "## Precision"
      ],
      "text/plain": [
       "<IPython.core.display.Markdown object>"
      ]
     },
     "metadata": {},
     "output_type": "display_data"
    },
    {
     "name": "stdout",
     "output_type": "stream",
     "text": [
      "\n",
      "\n",
      "Scratch: [0.949275 0.548596 0.986038 0.580541 0.759542]\n",
      "Transfer: [     nan 0.458882      nan 0.470637      nan]\n",
      "Transfer & Revision: [0.956204 0.550976 1.       0.583062 0.759542]\n"
     ]
    },
    {
     "data": {
      "text/markdown": [
       "## Learning and Revision time"
      ],
      "text/plain": [
       "<IPython.core.display.Markdown object>"
      ]
     },
     "metadata": {},
     "output_type": "display_data"
    },
    {
     "name": "stdout",
     "output_type": "stream",
     "text": [
      "\n",
      "\n",
      "Scratch: [461.332  18.231 207.749   8.19   12.631]\n",
      "Transfer: [ 7.836 10.121  8.397  3.533  2.873]\n",
      "Transfer & Revision: [370.107 308.846  31.054  12.072  19.451]\n"
     ]
    },
    {
     "data": {
      "text/markdown": [
       "## Inference time"
      ],
      "text/plain": [
       "<IPython.core.display.Markdown object>"
      ]
     },
     "metadata": {},
     "output_type": "display_data"
    },
    {
     "name": "stdout",
     "output_type": "stream",
     "text": [
      "\n",
      "\n",
      "Scratch: [65.095  2.301 26.872  1.662  2.229]\n",
      "Transfer: [ 7.836 10.121  8.397  3.533  2.873]\n",
      "Transfer & Revision: [206.75   10.572   3.486   2.867   5.095]\n"
     ]
    },
    {
     "data": {
      "text/markdown": [
       "# Results for 11_uwcse_cora"
      ],
      "text/plain": [
       "<IPython.core.display.Markdown object>"
      ]
     },
     "metadata": {},
     "output_type": "display_data"
    },
    {
     "data": {
      "text/markdown": [
       "## AUC ROC"
      ],
      "text/plain": [
       "<IPython.core.display.Markdown object>"
      ]
     },
     "metadata": {},
     "output_type": "display_data"
    },
    {
     "name": "stdout",
     "output_type": "stream",
     "text": [
      "T-test for experiment 1\n",
      "Ttest_relResult(statistic=-0.3502222174260639, pvalue=0.7438360919629777)\n",
      "Ttest_relResult(statistic=-0.735064095843113, pvalue=0.5030707355621137)\n"
     ]
    },
    {
     "data": {
      "text/html": [
       "<div>\n",
       "<table border=\"1\" class=\"dataframe\">\n",
       "  <thead>\n",
       "    <tr style=\"text-align: right;\">\n",
       "      <th></th>\n",
       "      <th>p-value</th>\n",
       "      <th>RDN-B</th>\n",
       "    </tr>\n",
       "  </thead>\n",
       "  <tbody>\n",
       "    <tr>\n",
       "      <th>0</th>\n",
       "      <td>transferRDN-B Ref</td>\n",
       "      <td>0.744</td>\n",
       "    </tr>\n",
       "    <tr>\n",
       "      <th>1</th>\n",
       "      <td>transferRDN-B</td>\n",
       "      <td>0.503</td>\n",
       "    </tr>\n",
       "  </tbody>\n",
       "</table>\n",
       "</div>"
      ],
      "text/plain": [
       "             p-value  RDN-B\n",
       "0  transferRDN-B Ref  0.744\n",
       "1      transferRDN-B  0.503"
      ]
     },
     "metadata": {},
     "output_type": "display_data"
    },
    {
     "name": "stdout",
     "output_type": "stream",
     "text": [
      "\n",
      "\n",
      "Scratch: [0.557449 0.537    0.86194  0.56789  0.569326]\n",
      "Transfer: [0.544977 0.587266 0.547853 0.5837   0.583705]\n",
      "Transfer & Revision: [0.557516 0.605834 0.548893 0.637123 0.616464]\n"
     ]
    },
    {
     "data": {
      "text/markdown": [
       "## AUC PR"
      ],
      "text/plain": [
       "<IPython.core.display.Markdown object>"
      ]
     },
     "metadata": {},
     "output_type": "display_data"
    },
    {
     "name": "stdout",
     "output_type": "stream",
     "text": [
      "T-test for experiment 1\n",
      "Ttest_relResult(statistic=0.2960511728823049, pvalue=0.7819248232363387)\n",
      "Ttest_relResult(statistic=0.2749163480151189, pvalue=0.7969961544875679)\n"
     ]
    },
    {
     "data": {
      "text/html": [
       "<div>\n",
       "<table border=\"1\" class=\"dataframe\">\n",
       "  <thead>\n",
       "    <tr style=\"text-align: right;\">\n",
       "      <th></th>\n",
       "      <th>p-value</th>\n",
       "      <th>RDN-B</th>\n",
       "    </tr>\n",
       "  </thead>\n",
       "  <tbody>\n",
       "    <tr>\n",
       "      <th>0</th>\n",
       "      <td>transferRDN-B Ref</td>\n",
       "      <td>0.782</td>\n",
       "    </tr>\n",
       "    <tr>\n",
       "      <th>1</th>\n",
       "      <td>transferRDN-B</td>\n",
       "      <td>0.797</td>\n",
       "    </tr>\n",
       "  </tbody>\n",
       "</table>\n",
       "</div>"
      ],
      "text/plain": [
       "             p-value  RDN-B\n",
       "0  transferRDN-B Ref  0.782\n",
       "1      transferRDN-B  0.797"
      ]
     },
     "metadata": {},
     "output_type": "display_data"
    },
    {
     "name": "stdout",
     "output_type": "stream",
     "text": [
      "\n",
      "\n",
      "Scratch: [0.428532 0.34359  0.755139 0.427107 0.4184  ]\n",
      "Transfer: [0.4025   0.518945 0.49112  0.539088 0.529179]\n",
      "Transfer & Revision: [0.433886 0.429579 0.4907   0.579425 0.551821]\n"
     ]
    },
    {
     "data": {
      "text/markdown": [
       "## CLL"
      ],
      "text/plain": [
       "<IPython.core.display.Markdown object>"
      ]
     },
     "metadata": {},
     "output_type": "display_data"
    },
    {
     "name": "stdout",
     "output_type": "stream",
     "text": [
      "T-test for experiment 1\n",
      "Ttest_relResult(statistic=-0.043724293391103355, pvalue=0.9672198347659381)\n",
      "Ttest_relResult(statistic=0.14026528637663385, pvalue=0.8952300119335495)\n"
     ]
    },
    {
     "data": {
      "text/html": [
       "<div>\n",
       "<table border=\"1\" class=\"dataframe\">\n",
       "  <thead>\n",
       "    <tr style=\"text-align: right;\">\n",
       "      <th></th>\n",
       "      <th>p-value</th>\n",
       "      <th>RDN-B</th>\n",
       "    </tr>\n",
       "  </thead>\n",
       "  <tbody>\n",
       "    <tr>\n",
       "      <th>0</th>\n",
       "      <td>transferRDN-B Ref</td>\n",
       "      <td>0.967</td>\n",
       "    </tr>\n",
       "    <tr>\n",
       "      <th>1</th>\n",
       "      <td>transferRDN-B</td>\n",
       "      <td>0.895</td>\n",
       "    </tr>\n",
       "  </tbody>\n",
       "</table>\n",
       "</div>"
      ],
      "text/plain": [
       "             p-value  RDN-B\n",
       "0  transferRDN-B Ref  0.967\n",
       "1      transferRDN-B  0.895"
      ]
     },
     "metadata": {},
     "output_type": "display_data"
    },
    {
     "name": "stdout",
     "output_type": "stream",
     "text": [
      "\n",
      "\n",
      "Scratch: [-0.653658 -0.755936 -0.572976 -0.642481 -0.70472 ]\n",
      "Transfer: [-0.657879 -0.678336 -0.728903 -0.601296 -0.633199]\n",
      "Transfer & Revision: [-0.653702 -0.711777 -0.717618 -0.592832 -0.661898]\n"
     ]
    },
    {
     "data": {
      "text/markdown": [
       "## Recall"
      ],
      "text/plain": [
       "<IPython.core.display.Markdown object>"
      ]
     },
     "metadata": {},
     "output_type": "display_data"
    },
    {
     "name": "stdout",
     "output_type": "stream",
     "text": [
      "T-test for experiment 1\n",
      "Ttest_relResult(statistic=0.781746336819615, pvalue=0.47804783425169567)\n",
      "Ttest_relResult(statistic=-0.8357409040807259, pvalue=0.4503159756983991)\n"
     ]
    },
    {
     "data": {
      "text/html": [
       "<div>\n",
       "<table border=\"1\" class=\"dataframe\">\n",
       "  <thead>\n",
       "    <tr style=\"text-align: right;\">\n",
       "      <th></th>\n",
       "      <th>p-value</th>\n",
       "      <th>RDN-B</th>\n",
       "    </tr>\n",
       "  </thead>\n",
       "  <tbody>\n",
       "    <tr>\n",
       "      <th>0</th>\n",
       "      <td>transferRDN-B Ref</td>\n",
       "      <td>0.478</td>\n",
       "    </tr>\n",
       "    <tr>\n",
       "      <th>1</th>\n",
       "      <td>transferRDN-B</td>\n",
       "      <td>0.450</td>\n",
       "    </tr>\n",
       "  </tbody>\n",
       "</table>\n",
       "</div>"
      ],
      "text/plain": [
       "             p-value  RDN-B\n",
       "0  transferRDN-B Ref  0.478\n",
       "1      transferRDN-B  0.450"
      ]
     },
     "metadata": {},
     "output_type": "display_data"
    },
    {
     "name": "stdout",
     "output_type": "stream",
     "text": [
      "\n",
      "\n",
      "Scratch: [0.041148 0.956367 0.005747 0.065198 0.94163 ]\n",
      "Transfer: [0.       1.       0.       0.167401 0.16741 ]\n",
      "Transfer & Revision: [0.033598 0.957257 0.       0.19207  0.93109 ]\n"
     ]
    },
    {
     "data": {
      "text/markdown": [
       "## F1"
      ],
      "text/plain": [
       "<IPython.core.display.Markdown object>"
      ]
     },
     "metadata": {},
     "output_type": "display_data"
    },
    {
     "name": "stdout",
     "output_type": "stream",
     "text": [
      "T-test for experiment 1\n",
      "Ttest_relResult(statistic=nan, pvalue=nan)\n",
      "Ttest_relResult(statistic=nan, pvalue=nan)\n"
     ]
    },
    {
     "data": {
      "text/html": [
       "<div>\n",
       "<table border=\"1\" class=\"dataframe\">\n",
       "  <thead>\n",
       "    <tr style=\"text-align: right;\">\n",
       "      <th></th>\n",
       "      <th>p-value</th>\n",
       "      <th>RDN-B</th>\n",
       "    </tr>\n",
       "  </thead>\n",
       "  <tbody>\n",
       "    <tr>\n",
       "      <th>0</th>\n",
       "      <td>transferRDN-B Ref</td>\n",
       "      <td>nan</td>\n",
       "    </tr>\n",
       "    <tr>\n",
       "      <th>1</th>\n",
       "      <td>transferRDN-B</td>\n",
       "      <td>nan</td>\n",
       "    </tr>\n",
       "  </tbody>\n",
       "</table>\n",
       "</div>"
      ],
      "text/plain": [
       "             p-value RDN-B\n",
       "0  transferRDN-B Ref   nan\n",
       "1      transferRDN-B   nan"
      ]
     },
     "metadata": {},
     "output_type": "display_data"
    },
    {
     "name": "stdout",
     "output_type": "stream",
     "text": [
      "\n",
      "\n",
      "Scratch: [0.077305 0.516532 0.011429 0.11649  0.540044]\n",
      "Transfer: [     nan 0.50078       nan 0.286792 0.286806]\n",
      "Transfer & Revision: [0.064029 0.517511      nan 0.31663  0.535119]\n"
     ]
    },
    {
     "data": {
      "text/markdown": [
       "## Precision"
      ],
      "text/plain": [
       "<IPython.core.display.Markdown object>"
      ]
     },
     "metadata": {},
     "output_type": "display_data"
    },
    {
     "name": "stdout",
     "output_type": "stream",
     "text": [
      "\n",
      "\n",
      "Scratch: [0.637427 0.353813 1.       0.546125 0.378585]\n",
      "Transfer: [     nan 0.334027      nan 1.       1.      ]\n",
      "Transfer & Revision: [0.679389 0.35461       nan 0.900826 0.375449]\n"
     ]
    },
    {
     "data": {
      "text/markdown": [
       "## Learning and Revision time"
      ],
      "text/plain": [
       "<IPython.core.display.Markdown object>"
      ]
     },
     "metadata": {},
     "output_type": "display_data"
    },
    {
     "name": "stdout",
     "output_type": "stream",
     "text": [
      "\n",
      "\n",
      "Scratch: [105.825 147.185 101.28  169.566  71.984]\n",
      "Transfer: [ 54.593 127.689  27.662 135.54   61.942]\n",
      "Transfer & Revision: [158.714 253.676  85.938 299.528 132.28 ]\n"
     ]
    },
    {
     "data": {
      "text/markdown": [
       "## Inference time"
      ],
      "text/plain": [
       "<IPython.core.display.Markdown object>"
      ]
     },
     "metadata": {},
     "output_type": "display_data"
    },
    {
     "name": "stdout",
     "output_type": "stream",
     "text": [
      "\n",
      "\n",
      "Scratch: [ 8.779  7.48  11.466  8.485  5.357]\n",
      "Transfer: [ 54.593 127.689  27.662 135.54   61.942]\n",
      "Transfer & Revision: [38.183 11.205 24.314  9.612  6.913]\n"
     ]
    },
    {
     "data": {
      "text/markdown": [
       "# Results for 12_uwcse_cora"
      ],
      "text/plain": [
       "<IPython.core.display.Markdown object>"
      ]
     },
     "metadata": {},
     "output_type": "display_data"
    },
    {
     "data": {
      "text/markdown": [
       "## AUC ROC"
      ],
      "text/plain": [
       "<IPython.core.display.Markdown object>"
      ]
     },
     "metadata": {},
     "output_type": "display_data"
    },
    {
     "name": "stdout",
     "output_type": "stream",
     "text": [
      "T-test for experiment 1\n",
      "Ttest_relResult(statistic=2.4538242445594403, pvalue=0.07015590289206895)\n",
      "Ttest_relResult(statistic=-3.5858853323135658, pvalue=0.023046261483997285)\n"
     ]
    },
    {
     "data": {
      "text/html": [
       "<div>\n",
       "<table border=\"1\" class=\"dataframe\">\n",
       "  <thead>\n",
       "    <tr style=\"text-align: right;\">\n",
       "      <th></th>\n",
       "      <th>p-value</th>\n",
       "      <th>RDN-B</th>\n",
       "    </tr>\n",
       "  </thead>\n",
       "  <tbody>\n",
       "    <tr>\n",
       "      <th>0</th>\n",
       "      <td>transferRDN-B Ref</td>\n",
       "      <td>0.070</td>\n",
       "    </tr>\n",
       "    <tr>\n",
       "      <th>1</th>\n",
       "      <td>transferRDN-B</td>\n",
       "      <td>0.023</td>\n",
       "    </tr>\n",
       "  </tbody>\n",
       "</table>\n",
       "</div>"
      ],
      "text/plain": [
       "             p-value  RDN-B\n",
       "0  transferRDN-B Ref  0.070\n",
       "1      transferRDN-B  0.023"
      ]
     },
     "metadata": {},
     "output_type": "display_data"
    },
    {
     "name": "stdout",
     "output_type": "stream",
     "text": [
      "\n",
      "\n",
      "Scratch: [0.934034 0.939905 0.935975 0.931733 0.940318]\n",
      "Transfer: [0.633942 0.703807 0.706065 0.718583 0.954361]\n",
      "Transfer & Revision: [0.938433 0.941266 0.936004 0.936357 0.949668]\n"
     ]
    },
    {
     "data": {
      "text/markdown": [
       "## AUC PR"
      ],
      "text/plain": [
       "<IPython.core.display.Markdown object>"
      ]
     },
     "metadata": {},
     "output_type": "display_data"
    },
    {
     "name": "stdout",
     "output_type": "stream",
     "text": [
      "T-test for experiment 1\n",
      "Ttest_relResult(statistic=2.7032577849146713, pvalue=0.053912120392902635)\n",
      "Ttest_relResult(statistic=-3.704600778679353, pvalue=0.020751738469482722)\n"
     ]
    },
    {
     "data": {
      "text/html": [
       "<div>\n",
       "<table border=\"1\" class=\"dataframe\">\n",
       "  <thead>\n",
       "    <tr style=\"text-align: right;\">\n",
       "      <th></th>\n",
       "      <th>p-value</th>\n",
       "      <th>RDN-B</th>\n",
       "    </tr>\n",
       "  </thead>\n",
       "  <tbody>\n",
       "    <tr>\n",
       "      <th>0</th>\n",
       "      <td>transferRDN-B Ref</td>\n",
       "      <td>0.054</td>\n",
       "    </tr>\n",
       "    <tr>\n",
       "      <th>1</th>\n",
       "      <td>transferRDN-B</td>\n",
       "      <td>0.021</td>\n",
       "    </tr>\n",
       "  </tbody>\n",
       "</table>\n",
       "</div>"
      ],
      "text/plain": [
       "             p-value  RDN-B\n",
       "0  transferRDN-B Ref  0.054\n",
       "1      transferRDN-B  0.021"
      ]
     },
     "metadata": {},
     "output_type": "display_data"
    },
    {
     "name": "stdout",
     "output_type": "stream",
     "text": [
      "\n",
      "\n",
      "Scratch: [0.963192 0.951739 0.972238 0.953501 0.965717]\n",
      "Transfer: [0.776195 0.767727 0.837571 0.810251 0.969515]\n",
      "Transfer & Revision: [0.965708 0.961185 0.972212 0.964507 0.970726]\n"
     ]
    },
    {
     "data": {
      "text/markdown": [
       "## CLL"
      ],
      "text/plain": [
       "<IPython.core.display.Markdown object>"
      ]
     },
     "metadata": {},
     "output_type": "display_data"
    },
    {
     "name": "stdout",
     "output_type": "stream",
     "text": [
      "T-test for experiment 1\n",
      "Ttest_relResult(statistic=-1.7883020007031016, pvalue=0.14824348657453248)\n",
      "Ttest_relResult(statistic=-4.071539367762673, pvalue=0.01520369996553771)\n"
     ]
    },
    {
     "data": {
      "text/html": [
       "<div>\n",
       "<table border=\"1\" class=\"dataframe\">\n",
       "  <thead>\n",
       "    <tr style=\"text-align: right;\">\n",
       "      <th></th>\n",
       "      <th>p-value</th>\n",
       "      <th>RDN-B</th>\n",
       "    </tr>\n",
       "  </thead>\n",
       "  <tbody>\n",
       "    <tr>\n",
       "      <th>0</th>\n",
       "      <td>transferRDN-B Ref</td>\n",
       "      <td>0.148</td>\n",
       "    </tr>\n",
       "    <tr>\n",
       "      <th>1</th>\n",
       "      <td>transferRDN-B</td>\n",
       "      <td>0.015</td>\n",
       "    </tr>\n",
       "  </tbody>\n",
       "</table>\n",
       "</div>"
      ],
      "text/plain": [
       "             p-value  RDN-B\n",
       "0  transferRDN-B Ref  0.148\n",
       "1      transferRDN-B  0.015"
      ]
     },
     "metadata": {},
     "output_type": "display_data"
    },
    {
     "name": "stdout",
     "output_type": "stream",
     "text": [
      "\n",
      "\n",
      "Scratch: [-0.293301 -0.512176 -0.312204 -0.30107  -0.301844]\n",
      "Transfer: [-0.633854 -0.86216  -0.620228 -0.575675 -0.311991]\n",
      "Transfer & Revision: [-0.305734 -0.548754 -0.314916 -0.305913 -0.303503]\n"
     ]
    },
    {
     "data": {
      "text/markdown": [
       "## Recall"
      ],
      "text/plain": [
       "<IPython.core.display.Markdown object>"
      ]
     },
     "metadata": {},
     "output_type": "display_data"
    },
    {
     "name": "stdout",
     "output_type": "stream",
     "text": [
      "T-test for experiment 1\n",
      "Ttest_relResult(statistic=1.5629484268621836, pvalue=0.19310172421258076)\n",
      "Ttest_relResult(statistic=-2.4353405849668124, pvalue=0.07156720446982338)\n"
     ]
    },
    {
     "data": {
      "text/html": [
       "<div>\n",
       "<table border=\"1\" class=\"dataframe\">\n",
       "  <thead>\n",
       "    <tr style=\"text-align: right;\">\n",
       "      <th></th>\n",
       "      <th>p-value</th>\n",
       "      <th>RDN-B</th>\n",
       "    </tr>\n",
       "  </thead>\n",
       "  <tbody>\n",
       "    <tr>\n",
       "      <th>0</th>\n",
       "      <td>transferRDN-B Ref</td>\n",
       "      <td>0.193</td>\n",
       "    </tr>\n",
       "    <tr>\n",
       "      <th>1</th>\n",
       "      <td>transferRDN-B</td>\n",
       "      <td>0.072</td>\n",
       "    </tr>\n",
       "  </tbody>\n",
       "</table>\n",
       "</div>"
      ],
      "text/plain": [
       "             p-value  RDN-B\n",
       "0  transferRDN-B Ref  0.193\n",
       "1      transferRDN-B  0.072"
      ]
     },
     "metadata": {},
     "output_type": "display_data"
    },
    {
     "name": "stdout",
     "output_type": "stream",
     "text": [
      "\n",
      "\n",
      "Scratch: [0.856255 0.970547 0.901744 0.892022 0.872641]\n",
      "Transfer: [0.351904 1.       0.439311 0.422749 0.843695]\n",
      "Transfer & Revision: [0.856255 1.       0.901744 0.892022 0.890905]\n"
     ]
    },
    {
     "data": {
      "text/markdown": [
       "## F1"
      ],
      "text/plain": [
       "<IPython.core.display.Markdown object>"
      ]
     },
     "metadata": {},
     "output_type": "display_data"
    },
    {
     "name": "stdout",
     "output_type": "stream",
     "text": [
      "T-test for experiment 1\n",
      "Ttest_relResult(statistic=-0.8490712999181168, pvalue=0.44366962363997153)\n",
      "Ttest_relResult(statistic=-2.836772153975171, pvalue=0.04702112239911123)\n"
     ]
    },
    {
     "data": {
      "text/html": [
       "<div>\n",
       "<table border=\"1\" class=\"dataframe\">\n",
       "  <thead>\n",
       "    <tr style=\"text-align: right;\">\n",
       "      <th></th>\n",
       "      <th>p-value</th>\n",
       "      <th>RDN-B</th>\n",
       "    </tr>\n",
       "  </thead>\n",
       "  <tbody>\n",
       "    <tr>\n",
       "      <th>0</th>\n",
       "      <td>transferRDN-B Ref</td>\n",
       "      <td>0.444</td>\n",
       "    </tr>\n",
       "    <tr>\n",
       "      <th>1</th>\n",
       "      <td>transferRDN-B</td>\n",
       "      <td>0.047</td>\n",
       "    </tr>\n",
       "  </tbody>\n",
       "</table>\n",
       "</div>"
      ],
      "text/plain": [
       "             p-value  RDN-B\n",
       "0  transferRDN-B Ref  0.444\n",
       "1      transferRDN-B  0.047"
      ]
     },
     "metadata": {},
     "output_type": "display_data"
    },
    {
     "name": "stdout",
     "output_type": "stream",
     "text": [
      "\n",
      "\n",
      "Scratch: [0.914523 0.754873 0.927613 0.920412 0.919854]\n",
      "Transfer: [0.518103 0.695322 0.597804 0.582499 0.911473]\n",
      "Transfer & Revision: [0.914523 0.695322 0.927613 0.920412 0.926996]\n"
     ]
    },
    {
     "data": {
      "text/markdown": [
       "## Precision"
      ],
      "text/plain": [
       "<IPython.core.display.Markdown object>"
      ]
     },
     "metadata": {},
     "output_type": "display_data"
    },
    {
     "name": "stdout",
     "output_type": "stream",
     "text": [
      "\n",
      "\n",
      "Scratch: [0.9813   0.617626 0.95501  0.950669 0.972468]\n",
      "Transfer: [0.981791 0.532946 0.935202 0.936319 0.991092]\n",
      "Transfer & Revision: [0.9813   0.532946 0.95501  0.950669 0.966135]\n"
     ]
    },
    {
     "data": {
      "text/markdown": [
       "## Learning and Revision time"
      ],
      "text/plain": [
       "<IPython.core.display.Markdown object>"
      ]
     },
     "metadata": {},
     "output_type": "display_data"
    },
    {
     "name": "stdout",
     "output_type": "stream",
     "text": [
      "\n",
      "\n",
      "Scratch: [185.295  63.493 424.486 169.911 255.771]\n",
      "Transfer: [123.643  80.801 252.425 160.728 138.301]\n",
      "Transfer & Revision: [ 372.42   205.661 1022.38   416.651  547.739]\n"
     ]
    },
    {
     "data": {
      "text/markdown": [
       "## Inference time"
      ],
      "text/plain": [
       "<IPython.core.display.Markdown object>"
      ]
     },
     "metadata": {},
     "output_type": "display_data"
    },
    {
     "name": "stdout",
     "output_type": "stream",
     "text": [
      "\n",
      "\n",
      "Scratch: [6.031 4.35  3.883 3.734 5.708]\n",
      "Transfer: [123.643  80.801 252.425 160.728 138.301]\n",
      "Transfer & Revision: [ 24.344  26.038 363.292  86.568 122.971]\n"
     ]
    },
    {
     "data": {
      "text/markdown": [
       "# Results for 13_uwcse_cora"
      ],
      "text/plain": [
       "<IPython.core.display.Markdown object>"
      ]
     },
     "metadata": {},
     "output_type": "display_data"
    },
    {
     "data": {
      "text/markdown": [
       "## AUC ROC"
      ],
      "text/plain": [
       "<IPython.core.display.Markdown object>"
      ]
     },
     "metadata": {},
     "output_type": "display_data"
    },
    {
     "name": "stdout",
     "output_type": "stream",
     "text": [
      "T-test for experiment 1\n",
      "Ttest_relResult(statistic=1.3890192197485614, pvalue=0.2371592774165049)\n",
      "Ttest_relResult(statistic=3.153548348128996, pvalue=0.034396510861150184)\n"
     ]
    },
    {
     "data": {
      "text/html": [
       "<div>\n",
       "<table border=\"1\" class=\"dataframe\">\n",
       "  <thead>\n",
       "    <tr style=\"text-align: right;\">\n",
       "      <th></th>\n",
       "      <th>p-value</th>\n",
       "      <th>RDN-B</th>\n",
       "    </tr>\n",
       "  </thead>\n",
       "  <tbody>\n",
       "    <tr>\n",
       "      <th>0</th>\n",
       "      <td>transferRDN-B Ref</td>\n",
       "      <td>0.237</td>\n",
       "    </tr>\n",
       "    <tr>\n",
       "      <th>1</th>\n",
       "      <td>transferRDN-B</td>\n",
       "      <td>0.034</td>\n",
       "    </tr>\n",
       "  </tbody>\n",
       "</table>\n",
       "</div>"
      ],
      "text/plain": [
       "             p-value  RDN-B\n",
       "0  transferRDN-B Ref  0.237\n",
       "1      transferRDN-B  0.034"
      ]
     },
     "metadata": {},
     "output_type": "display_data"
    },
    {
     "name": "stdout",
     "output_type": "stream",
     "text": [
      "\n",
      "\n",
      "Scratch: [0.473638 0.569243 0.486049 0.630457 0.551563]\n",
      "Transfer: [0.724138 0.62963  0.685714 0.655172 0.678571]\n",
      "Transfer & Revision: [0.786584 0.569243 0.696801 0.631736 0.510658]\n"
     ]
    },
    {
     "data": {
      "text/markdown": [
       "## AUC PR"
      ],
      "text/plain": [
       "<IPython.core.display.Markdown object>"
      ]
     },
     "metadata": {},
     "output_type": "display_data"
    },
    {
     "name": "stdout",
     "output_type": "stream",
     "text": [
      "T-test for experiment 1\n",
      "Ttest_relResult(statistic=0.9734892490635191, pvalue=0.38543408310398863)\n",
      "Ttest_relResult(statistic=3.826426297039862, pvalue=0.018675159541960466)\n"
     ]
    },
    {
     "data": {
      "text/html": [
       "<div>\n",
       "<table border=\"1\" class=\"dataframe\">\n",
       "  <thead>\n",
       "    <tr style=\"text-align: right;\">\n",
       "      <th></th>\n",
       "      <th>p-value</th>\n",
       "      <th>RDN-B</th>\n",
       "    </tr>\n",
       "  </thead>\n",
       "  <tbody>\n",
       "    <tr>\n",
       "      <th>0</th>\n",
       "      <td>transferRDN-B Ref</td>\n",
       "      <td>0.385</td>\n",
       "    </tr>\n",
       "    <tr>\n",
       "      <th>1</th>\n",
       "      <td>transferRDN-B</td>\n",
       "      <td>0.019</td>\n",
       "    </tr>\n",
       "  </tbody>\n",
       "</table>\n",
       "</div>"
      ],
      "text/plain": [
       "             p-value  RDN-B\n",
       "0  transferRDN-B Ref  0.385\n",
       "1      transferRDN-B  0.019"
      ]
     },
     "metadata": {},
     "output_type": "display_data"
    },
    {
     "name": "stdout",
     "output_type": "stream",
     "text": [
      "\n",
      "\n",
      "Scratch: [0.912787 0.934792 0.92601  0.928594 0.917948]\n",
      "Transfer: [0.949606 0.945205 0.937589 0.942363 0.946746]\n",
      "Transfer & Revision: [0.97123  0.934792 0.956592 0.928719 0.896635]\n"
     ]
    },
    {
     "data": {
      "text/markdown": [
       "## CLL"
      ],
      "text/plain": [
       "<IPython.core.display.Markdown object>"
      ]
     },
     "metadata": {},
     "output_type": "display_data"
    },
    {
     "name": "stdout",
     "output_type": "stream",
     "text": [
      "T-test for experiment 1\n",
      "Ttest_relResult(statistic=1.1649354792412994, pvalue=0.30878128806952804)\n",
      "Ttest_relResult(statistic=2.217843693284126, pvalue=0.09082980715952527)\n"
     ]
    },
    {
     "data": {
      "text/html": [
       "<div>\n",
       "<table border=\"1\" class=\"dataframe\">\n",
       "  <thead>\n",
       "    <tr style=\"text-align: right;\">\n",
       "      <th></th>\n",
       "      <th>p-value</th>\n",
       "      <th>RDN-B</th>\n",
       "    </tr>\n",
       "  </thead>\n",
       "  <tbody>\n",
       "    <tr>\n",
       "      <th>0</th>\n",
       "      <td>transferRDN-B Ref</td>\n",
       "      <td>0.309</td>\n",
       "    </tr>\n",
       "    <tr>\n",
       "      <th>1</th>\n",
       "      <td>transferRDN-B</td>\n",
       "      <td>0.091</td>\n",
       "    </tr>\n",
       "  </tbody>\n",
       "</table>\n",
       "</div>"
      ],
      "text/plain": [
       "             p-value  RDN-B\n",
       "0  transferRDN-B Ref  0.309\n",
       "1      transferRDN-B  0.091"
      ]
     },
     "metadata": {},
     "output_type": "display_data"
    },
    {
     "name": "stdout",
     "output_type": "stream",
     "text": [
      "\n",
      "\n",
      "Scratch: [-0.367902 -0.253573 -0.336582 -0.261852 -0.390077]\n",
      "Transfer: [-0.262073 -0.261935 -0.262718 -0.258251 -0.258058]\n",
      "Transfer & Revision: [-0.290355 -0.25356  -0.279606 -0.26032  -0.414421]\n"
     ]
    },
    {
     "data": {
      "text/markdown": [
       "## Recall"
      ],
      "text/plain": [
       "<IPython.core.display.Markdown object>"
      ]
     },
     "metadata": {},
     "output_type": "display_data"
    },
    {
     "name": "stdout",
     "output_type": "stream",
     "text": [
      "T-test for experiment 1\n",
      "Ttest_relResult(statistic=-1.0, pvalue=0.373900966300059)\n",
      "Ttest_relResult(statistic=1.0, pvalue=0.373900966300059)\n"
     ]
    },
    {
     "data": {
      "text/html": [
       "<div>\n",
       "<table border=\"1\" class=\"dataframe\">\n",
       "  <thead>\n",
       "    <tr style=\"text-align: right;\">\n",
       "      <th></th>\n",
       "      <th>p-value</th>\n",
       "      <th>RDN-B</th>\n",
       "    </tr>\n",
       "  </thead>\n",
       "  <tbody>\n",
       "    <tr>\n",
       "      <th>0</th>\n",
       "      <td>transferRDN-B Ref</td>\n",
       "      <td>0.374</td>\n",
       "    </tr>\n",
       "    <tr>\n",
       "      <th>1</th>\n",
       "      <td>transferRDN-B</td>\n",
       "      <td>0.374</td>\n",
       "    </tr>\n",
       "  </tbody>\n",
       "</table>\n",
       "</div>"
      ],
      "text/plain": [
       "             p-value  RDN-B\n",
       "0  transferRDN-B Ref  0.374\n",
       "1      transferRDN-B  0.374"
      ]
     },
     "metadata": {},
     "output_type": "display_data"
    },
    {
     "name": "stdout",
     "output_type": "stream",
     "text": [
      "\n",
      "\n",
      "Scratch: [1.       1.       1.       1.       0.828125]\n",
      "Transfer: [1. 1. 1. 1. 1.]\n",
      "Transfer & Revision: [1.       1.       1.       1.       0.815625]\n"
     ]
    },
    {
     "data": {
      "text/markdown": [
       "## F1"
      ],
      "text/plain": [
       "<IPython.core.display.Markdown object>"
      ]
     },
     "metadata": {},
     "output_type": "display_data"
    },
    {
     "name": "stdout",
     "output_type": "stream",
     "text": [
      "T-test for experiment 1\n",
      "Ttest_relResult(statistic=1.1211023235483577, pvalue=0.3250000928813628)\n",
      "Ttest_relResult(statistic=1.5342160789943686, pvalue=0.19976169871443775)\n"
     ]
    },
    {
     "data": {
      "text/html": [
       "<div>\n",
       "<table border=\"1\" class=\"dataframe\">\n",
       "  <thead>\n",
       "    <tr style=\"text-align: right;\">\n",
       "      <th></th>\n",
       "      <th>p-value</th>\n",
       "      <th>RDN-B</th>\n",
       "    </tr>\n",
       "  </thead>\n",
       "  <tbody>\n",
       "    <tr>\n",
       "      <th>0</th>\n",
       "      <td>transferRDN-B Ref</td>\n",
       "      <td>0.325</td>\n",
       "    </tr>\n",
       "    <tr>\n",
       "      <th>1</th>\n",
       "      <td>transferRDN-B</td>\n",
       "      <td>0.200</td>\n",
       "    </tr>\n",
       "  </tbody>\n",
       "</table>\n",
       "</div>"
      ],
      "text/plain": [
       "             p-value  RDN-B\n",
       "0  transferRDN-B Ref  0.325\n",
       "1      transferRDN-B  0.200"
      ]
     },
     "metadata": {},
     "output_type": "display_data"
    },
    {
     "name": "stdout",
     "output_type": "stream",
     "text": [
      "\n",
      "\n",
      "Scratch: [0.954114 0.971831 0.949713 0.970326 0.881864]\n",
      "Transfer: [0.974152 0.971831 0.967789 0.970326 0.972644]\n",
      "Transfer & Revision: [0.974152 0.971831 0.967789 0.970326 0.874372]\n"
     ]
    },
    {
     "data": {
      "text/markdown": [
       "## Precision"
      ],
      "text/plain": [
       "<IPython.core.display.Markdown object>"
      ]
     },
     "metadata": {},
     "output_type": "display_data"
    },
    {
     "name": "stdout",
     "output_type": "stream",
     "text": [
      "\n",
      "\n",
      "Scratch: [0.912254 0.945205 0.904241 0.942363 0.94306 ]\n",
      "Transfer: [0.949606 0.945205 0.937589 0.942363 0.946746]\n",
      "Transfer & Revision: [0.949606 0.945205 0.937589 0.942363 0.942238]\n"
     ]
    },
    {
     "data": {
      "text/markdown": [
       "## Learning and Revision time"
      ],
      "text/plain": [
       "<IPython.core.display.Markdown object>"
      ]
     },
     "metadata": {},
     "output_type": "display_data"
    },
    {
     "name": "stdout",
     "output_type": "stream",
     "text": [
      "\n",
      "\n",
      "Scratch: [8.625 5.937 8.527 9.873 6.993]\n",
      "Transfer: [4.509 5.32  3.772 4.468 5.686]\n",
      "Transfer & Revision: [14.357 10.206 12.285 14.828 15.194]\n"
     ]
    },
    {
     "data": {
      "text/markdown": [
       "## Inference time"
      ],
      "text/plain": [
       "<IPython.core.display.Markdown object>"
      ]
     },
     "metadata": {},
     "output_type": "display_data"
    },
    {
     "name": "stdout",
     "output_type": "stream",
     "text": [
      "\n",
      "\n",
      "Scratch: [2.72  1.413 1.651 2.865 1.48 ]\n",
      "Transfer: [4.509 5.32  3.772 4.468 5.686]\n",
      "Transfer & Revision: [27.742  2.393 15.115  4.835  2.943]\n"
     ]
    },
    {
     "data": {
      "text/markdown": [
       "# Results for 14_uwcse_cora"
      ],
      "text/plain": [
       "<IPython.core.display.Markdown object>"
      ]
     },
     "metadata": {},
     "output_type": "display_data"
    },
    {
     "data": {
      "text/markdown": [
       "## AUC ROC"
      ],
      "text/plain": [
       "<IPython.core.display.Markdown object>"
      ]
     },
     "metadata": {},
     "output_type": "display_data"
    },
    {
     "name": "stdout",
     "output_type": "stream",
     "text": [
      "T-test for experiment 1\n",
      "Ttest_relResult(statistic=0.7348665531474988, pvalue=0.5031786776880509)\n",
      "Ttest_relResult(statistic=-5.466612567034746, pvalue=0.005446428793747859)\n"
     ]
    },
    {
     "data": {
      "text/html": [
       "<div>\n",
       "<table border=\"1\" class=\"dataframe\">\n",
       "  <thead>\n",
       "    <tr style=\"text-align: right;\">\n",
       "      <th></th>\n",
       "      <th>p-value</th>\n",
       "      <th>RDN-B</th>\n",
       "    </tr>\n",
       "  </thead>\n",
       "  <tbody>\n",
       "    <tr>\n",
       "      <th>0</th>\n",
       "      <td>transferRDN-B Ref</td>\n",
       "      <td>0.503</td>\n",
       "    </tr>\n",
       "    <tr>\n",
       "      <th>1</th>\n",
       "      <td>transferRDN-B</td>\n",
       "      <td>0.005</td>\n",
       "    </tr>\n",
       "  </tbody>\n",
       "</table>\n",
       "</div>"
      ],
      "text/plain": [
       "             p-value  RDN-B\n",
       "0  transferRDN-B Ref  0.503\n",
       "1      transferRDN-B  0.005"
      ]
     },
     "metadata": {},
     "output_type": "display_data"
    },
    {
     "name": "stdout",
     "output_type": "stream",
     "text": [
      "\n",
      "\n",
      "Scratch: [0.960665 0.710468 0.983068 0.746149 0.73954 ]\n",
      "Transfer: [0.50625  0.504518 0.501976 0.504644 0.503521]\n",
      "Transfer & Revision: [0.981584 0.711529 0.974389 0.74826  0.741773]\n"
     ]
    },
    {
     "data": {
      "text/markdown": [
       "## AUC PR"
      ],
      "text/plain": [
       "<IPython.core.display.Markdown object>"
      ]
     },
     "metadata": {},
     "output_type": "display_data"
    },
    {
     "name": "stdout",
     "output_type": "stream",
     "text": [
      "T-test for experiment 1\n",
      "Ttest_relResult(statistic=1.372324358798515, pvalue=0.2418855527268435)\n",
      "Ttest_relResult(statistic=-5.522405030205505, pvalue=0.005250502126364981)\n"
     ]
    },
    {
     "data": {
      "text/html": [
       "<div>\n",
       "<table border=\"1\" class=\"dataframe\">\n",
       "  <thead>\n",
       "    <tr style=\"text-align: right;\">\n",
       "      <th></th>\n",
       "      <th>p-value</th>\n",
       "      <th>RDN-B</th>\n",
       "    </tr>\n",
       "  </thead>\n",
       "  <tbody>\n",
       "    <tr>\n",
       "      <th>0</th>\n",
       "      <td>transferRDN-B Ref</td>\n",
       "      <td>0.242</td>\n",
       "    </tr>\n",
       "    <tr>\n",
       "      <th>1</th>\n",
       "      <td>transferRDN-B</td>\n",
       "      <td>0.005</td>\n",
       "    </tr>\n",
       "  </tbody>\n",
       "</table>\n",
       "</div>"
      ],
      "text/plain": [
       "             p-value  RDN-B\n",
       "0  transferRDN-B Ref  0.242\n",
       "1      transferRDN-B  0.005"
      ]
     },
     "metadata": {},
     "output_type": "display_data"
    },
    {
     "name": "stdout",
     "output_type": "stream",
     "text": [
      "\n",
      "\n",
      "Scratch: [0.955806 0.662841 0.975305 0.695718 0.695161]\n",
      "Transfer: [0.530693 0.458882 0.53719  0.470637 0.490975]\n",
      "Transfer & Revision: [0.985857 0.663662 0.980653 0.696881 0.696471]\n"
     ]
    },
    {
     "data": {
      "text/markdown": [
       "## CLL"
      ],
      "text/plain": [
       "<IPython.core.display.Markdown object>"
      ]
     },
     "metadata": {},
     "output_type": "display_data"
    },
    {
     "name": "stdout",
     "output_type": "stream",
     "text": [
      "T-test for experiment 1\n",
      "Ttest_relResult(statistic=-1.8942645211937388, pvalue=0.1311035717218667)\n",
      "Ttest_relResult(statistic=-2.477260264220073, pvalue=0.06841177514850241)\n"
     ]
    },
    {
     "data": {
      "text/html": [
       "<div>\n",
       "<table border=\"1\" class=\"dataframe\">\n",
       "  <thead>\n",
       "    <tr style=\"text-align: right;\">\n",
       "      <th></th>\n",
       "      <th>p-value</th>\n",
       "      <th>RDN-B</th>\n",
       "    </tr>\n",
       "  </thead>\n",
       "  <tbody>\n",
       "    <tr>\n",
       "      <th>0</th>\n",
       "      <td>transferRDN-B Ref</td>\n",
       "      <td>0.131</td>\n",
       "    </tr>\n",
       "    <tr>\n",
       "      <th>1</th>\n",
       "      <td>transferRDN-B</td>\n",
       "      <td>0.068</td>\n",
       "    </tr>\n",
       "  </tbody>\n",
       "</table>\n",
       "</div>"
      ],
      "text/plain": [
       "             p-value  RDN-B\n",
       "0  transferRDN-B Ref  0.131\n",
       "1      transferRDN-B  0.068"
      ]
     },
     "metadata": {},
     "output_type": "display_data"
    },
    {
     "name": "stdout",
     "output_type": "stream",
     "text": [
      "\n",
      "\n",
      "Scratch: [-0.258762 -0.700968 -0.172397 -0.594204 -0.622793]\n",
      "Transfer: [-0.735399 -0.793386 -0.782859 -0.72857  -0.691062]\n",
      "Transfer & Revision: [-0.375781 -0.700175 -0.28802  -0.61993  -0.621257]\n"
     ]
    },
    {
     "data": {
      "text/markdown": [
       "## Recall"
      ],
      "text/plain": [
       "<IPython.core.display.Markdown object>"
      ]
     },
     "metadata": {},
     "output_type": "display_data"
    },
    {
     "name": "stdout",
     "output_type": "stream",
     "text": [
      "T-test for experiment 1\n",
      "Ttest_relResult(statistic=-1.6329722065553942, pvalue=0.1778121910269808)\n",
      "Ttest_relResult(statistic=-1.8417153356892928, pvalue=0.1393210217749075)\n"
     ]
    },
    {
     "data": {
      "text/html": [
       "<div>\n",
       "<table border=\"1\" class=\"dataframe\">\n",
       "  <thead>\n",
       "    <tr style=\"text-align: right;\">\n",
       "      <th></th>\n",
       "      <th>p-value</th>\n",
       "      <th>RDN-B</th>\n",
       "    </tr>\n",
       "  </thead>\n",
       "  <tbody>\n",
       "    <tr>\n",
       "      <th>0</th>\n",
       "      <td>transferRDN-B Ref</td>\n",
       "      <td>0.178</td>\n",
       "    </tr>\n",
       "    <tr>\n",
       "      <th>1</th>\n",
       "      <td>transferRDN-B</td>\n",
       "      <td>0.139</td>\n",
       "    </tr>\n",
       "  </tbody>\n",
       "</table>\n",
       "</div>"
      ],
      "text/plain": [
       "             p-value  RDN-B\n",
       "0  transferRDN-B Ref  0.178\n",
       "1      transferRDN-B  0.139"
      ]
     },
     "metadata": {},
     "output_type": "display_data"
    },
    {
     "name": "stdout",
     "output_type": "stream",
     "text": [
      "\n",
      "\n",
      "Scratch: [0.977612 0.910394 0.965812 0.943761 0.360294]\n",
      "Transfer: [0. 1. 0. 1. 0.]\n",
      "Transfer & Revision: [0.940299 0.910394 0.928205 0.943761 0.360294]\n"
     ]
    },
    {
     "data": {
      "text/markdown": [
       "## F1"
      ],
      "text/plain": [
       "<IPython.core.display.Markdown object>"
      ]
     },
     "metadata": {},
     "output_type": "display_data"
    },
    {
     "name": "stdout",
     "output_type": "stream",
     "text": [
      "T-test for experiment 1\n",
      "Ttest_relResult(statistic=-1.4836422722395086, pvalue=0.21205974898322638)\n",
      "Ttest_relResult(statistic=nan, pvalue=nan)\n"
     ]
    },
    {
     "data": {
      "text/html": [
       "<div>\n",
       "<table border=\"1\" class=\"dataframe\">\n",
       "  <thead>\n",
       "    <tr style=\"text-align: right;\">\n",
       "      <th></th>\n",
       "      <th>p-value</th>\n",
       "      <th>RDN-B</th>\n",
       "    </tr>\n",
       "  </thead>\n",
       "  <tbody>\n",
       "    <tr>\n",
       "      <th>0</th>\n",
       "      <td>transferRDN-B Ref</td>\n",
       "      <td>0.212</td>\n",
       "    </tr>\n",
       "    <tr>\n",
       "      <th>1</th>\n",
       "      <td>transferRDN-B</td>\n",
       "      <td>nan</td>\n",
       "    </tr>\n",
       "  </tbody>\n",
       "</table>\n",
       "</div>"
      ],
      "text/plain": [
       "             p-value  RDN-B\n",
       "0  transferRDN-B Ref  0.212\n",
       "1      transferRDN-B    nan"
      ]
     },
     "metadata": {},
     "output_type": "display_data"
    },
    {
     "name": "stdout",
     "output_type": "stream",
     "text": [
      "\n",
      "\n",
      "Scratch: [0.963235 0.684636 0.97582  0.718876 0.489388]\n",
      "Transfer: [     nan 0.629087      nan 0.640045      nan]\n",
      "Transfer & Revision: [0.921389 0.686486 0.942708 0.720805 0.489388]\n"
     ]
    },
    {
     "data": {
      "text/markdown": [
       "## Precision"
      ],
      "text/plain": [
       "<IPython.core.display.Markdown object>"
      ]
     },
     "metadata": {},
     "output_type": "display_data"
    },
    {
     "name": "stdout",
     "output_type": "stream",
     "text": [
      "\n",
      "\n",
      "Scratch: [0.949275 0.548596 0.986038 0.580541 0.762646]\n",
      "Transfer: [     nan 0.458882      nan 0.470637      nan]\n",
      "Transfer & Revision: [0.903226 0.550976 0.957672 0.583062 0.762646]\n"
     ]
    },
    {
     "data": {
      "text/markdown": [
       "## Learning and Revision time"
      ],
      "text/plain": [
       "<IPython.core.display.Markdown object>"
      ]
     },
     "metadata": {},
     "output_type": "display_data"
    },
    {
     "name": "stdout",
     "output_type": "stream",
     "text": [
      "\n",
      "\n",
      "Scratch: [434.983  22.605 203.114   7.371  13.674]\n",
      "Transfer: [12.053  9.209 82.119  4.743  8.435]\n",
      "Transfer & Revision: [447.195 241.249 266.786  15.466  23.975]\n"
     ]
    },
    {
     "data": {
      "text/markdown": [
       "## Inference time"
      ],
      "text/plain": [
       "<IPython.core.display.Markdown object>"
      ]
     },
     "metadata": {},
     "output_type": "display_data"
    },
    {
     "name": "stdout",
     "output_type": "stream",
     "text": [
      "\n",
      "\n",
      "Scratch: [61.41   2.378 31.502  1.773  1.846]\n",
      "Transfer: [12.053  9.209 82.119  4.743  8.435]\n",
      "Transfer & Revision: [159.631 175.577  37.246   6.166   4.595]\n"
     ]
    },
    {
     "data": {
      "text/markdown": [
       "# Results for 15_yeast_twitter"
      ],
      "text/plain": [
       "<IPython.core.display.Markdown object>"
      ]
     },
     "metadata": {},
     "output_type": "display_data"
    },
    {
     "data": {
      "text/markdown": [
       "# Results for 16_yeast_twitter"
      ],
      "text/plain": [
       "<IPython.core.display.Markdown object>"
      ]
     },
     "metadata": {},
     "output_type": "display_data"
    },
    {
     "data": {
      "text/markdown": [
       "# Results for 17_yeast_twitter"
      ],
      "text/plain": [
       "<IPython.core.display.Markdown object>"
      ]
     },
     "metadata": {},
     "output_type": "display_data"
    },
    {
     "data": {
      "text/markdown": [
       "# Results for 18_yeast_twitter"
      ],
      "text/plain": [
       "<IPython.core.display.Markdown object>"
      ]
     },
     "metadata": {},
     "output_type": "display_data"
    },
    {
     "data": {
      "text/markdown": [
       "# Results for 19_yeast_twitter"
      ],
      "text/plain": [
       "<IPython.core.display.Markdown object>"
      ]
     },
     "metadata": {},
     "output_type": "display_data"
    },
    {
     "data": {
      "text/markdown": [
       "# Results for 20_yeast_twitter"
      ],
      "text/plain": [
       "<IPython.core.display.Markdown object>"
      ]
     },
     "metadata": {},
     "output_type": "display_data"
    },
    {
     "data": {
      "text/markdown": [
       "# Results for 21_yeast_twitter"
      ],
      "text/plain": [
       "<IPython.core.display.Markdown object>"
      ]
     },
     "metadata": {},
     "output_type": "display_data"
    },
    {
     "data": {
      "text/markdown": [
       "# Results for 22_twitter_yeast"
      ],
      "text/plain": [
       "<IPython.core.display.Markdown object>"
      ]
     },
     "metadata": {},
     "output_type": "display_data"
    },
    {
     "data": {
      "text/markdown": [
       "# Results for 23_twitter_yeast"
      ],
      "text/plain": [
       "<IPython.core.display.Markdown object>"
      ]
     },
     "metadata": {},
     "output_type": "display_data"
    },
    {
     "data": {
      "text/markdown": [
       "# Results for 24_twitter_yeast"
      ],
      "text/plain": [
       "<IPython.core.display.Markdown object>"
      ]
     },
     "metadata": {},
     "output_type": "display_data"
    },
    {
     "data": {
      "text/markdown": [
       "# Results for 25_twitter_yeast"
      ],
      "text/plain": [
       "<IPython.core.display.Markdown object>"
      ]
     },
     "metadata": {},
     "output_type": "display_data"
    },
    {
     "data": {
      "text/markdown": [
       "# Results for 26_twitter_yeast"
      ],
      "text/plain": [
       "<IPython.core.display.Markdown object>"
      ]
     },
     "metadata": {},
     "output_type": "display_data"
    },
    {
     "data": {
      "text/markdown": [
       "# Results for 27_twitter_yeast"
      ],
      "text/plain": [
       "<IPython.core.display.Markdown object>"
      ]
     },
     "metadata": {},
     "output_type": "display_data"
    },
    {
     "data": {
      "text/markdown": [
       "# Results for 28_twitter_yeast"
      ],
      "text/plain": [
       "<IPython.core.display.Markdown object>"
      ]
     },
     "metadata": {},
     "output_type": "display_data"
    },
    {
     "data": {
      "text/markdown": [
       "# Results for 29_nell_sports_nell_finances"
      ],
      "text/plain": [
       "<IPython.core.display.Markdown object>"
      ]
     },
     "metadata": {},
     "output_type": "display_data"
    },
    {
     "data": {
      "text/markdown": [
       "# Results for 30_nell_sports_nell_finances"
      ],
      "text/plain": [
       "<IPython.core.display.Markdown object>"
      ]
     },
     "metadata": {},
     "output_type": "display_data"
    },
    {
     "data": {
      "text/markdown": [
       "# Results for 31_nell_sports_nell_finances"
      ],
      "text/plain": [
       "<IPython.core.display.Markdown object>"
      ]
     },
     "metadata": {},
     "output_type": "display_data"
    },
    {
     "data": {
      "text/markdown": [
       "# Results for 32_nell_sports_nell_finances"
      ],
      "text/plain": [
       "<IPython.core.display.Markdown object>"
      ]
     },
     "metadata": {},
     "output_type": "display_data"
    },
    {
     "data": {
      "text/markdown": [
       "# Results for 33_nell_sports_nell_finances"
      ],
      "text/plain": [
       "<IPython.core.display.Markdown object>"
      ]
     },
     "metadata": {},
     "output_type": "display_data"
    },
    {
     "data": {
      "text/markdown": [
       "# Results for 34_nell_sports_nell_finances"
      ],
      "text/plain": [
       "<IPython.core.display.Markdown object>"
      ]
     },
     "metadata": {},
     "output_type": "display_data"
    },
    {
     "data": {
      "text/markdown": [
       "# Results for 35_nell_sports_nell_finances"
      ],
      "text/plain": [
       "<IPython.core.display.Markdown object>"
      ]
     },
     "metadata": {},
     "output_type": "display_data"
    },
    {
     "data": {
      "text/markdown": [
       "# Results for 36_nell_sports_nell_finances"
      ],
      "text/plain": [
       "<IPython.core.display.Markdown object>"
      ]
     },
     "metadata": {},
     "output_type": "display_data"
    },
    {
     "data": {
      "text/markdown": [
       "# Results for 37_nell_sports_nell_finances"
      ],
      "text/plain": [
       "<IPython.core.display.Markdown object>"
      ]
     },
     "metadata": {},
     "output_type": "display_data"
    },
    {
     "data": {
      "text/markdown": [
       "# Results for 38_nell_finances_nell_sports"
      ],
      "text/plain": [
       "<IPython.core.display.Markdown object>"
      ]
     },
     "metadata": {},
     "output_type": "display_data"
    },
    {
     "data": {
      "text/markdown": [
       "# Results for 39_nell_finances_nell_sports"
      ],
      "text/plain": [
       "<IPython.core.display.Markdown object>"
      ]
     },
     "metadata": {},
     "output_type": "display_data"
    },
    {
     "data": {
      "text/markdown": [
       "# Results for 40_nell_finances_nell_sports"
      ],
      "text/plain": [
       "<IPython.core.display.Markdown object>"
      ]
     },
     "metadata": {},
     "output_type": "display_data"
    },
    {
     "data": {
      "text/markdown": [
       "# Results for 41_nell_finances_nell_sports"
      ],
      "text/plain": [
       "<IPython.core.display.Markdown object>"
      ]
     },
     "metadata": {},
     "output_type": "display_data"
    },
    {
     "data": {
      "text/markdown": [
       "# Results for 42_nell_finances_nell_sports"
      ],
      "text/plain": [
       "<IPython.core.display.Markdown object>"
      ]
     },
     "metadata": {},
     "output_type": "display_data"
    },
    {
     "data": {
      "text/markdown": [
       "# Results for 43_nell_finances_nell_sports"
      ],
      "text/plain": [
       "<IPython.core.display.Markdown object>"
      ]
     },
     "metadata": {},
     "output_type": "display_data"
    },
    {
     "data": {
      "text/markdown": [
       "# Results for 44_nell_finances_nell_sports"
      ],
      "text/plain": [
       "<IPython.core.display.Markdown object>"
      ]
     },
     "metadata": {},
     "output_type": "display_data"
    },
    {
     "data": {
      "text/markdown": [
       "# Results for 45_nell_finances_nell_sports"
      ],
      "text/plain": [
       "<IPython.core.display.Markdown object>"
      ]
     },
     "metadata": {},
     "output_type": "display_data"
    },
    {
     "data": {
      "text/markdown": [
       "# Results for 46_nell_finances_nell_sports"
      ],
      "text/plain": [
       "<IPython.core.display.Markdown object>"
      ]
     },
     "metadata": {},
     "output_type": "display_data"
    }
   ],
   "source": [
    "for j in range(len(experiments)):\n",
    "    dataset = experiments[j]['id'] + '_' + experiments[j]['source'] + '_' + experiments[j]['target']\n",
    "    display(Markdown('# Results for ' + dataset))\n",
    "    table = []\n",
    "    for metric in ['AUC ROC', 'AUC PR', 'CLL', 'Recall', 'F1', 'Precision', 'Learning and Revision time', 'Inference time']:\n",
    "    #for metric in ['AUC ROC', 'AUC PR']:\n",
    "        if dataset in data['results']: \n",
    "            #for metric in ['AUC ROC', 'AUC PR']:\n",
    "            display(Markdown('## ' + metric))\n",
    "            if metric == 'Precision':\n",
    "                scratch = np.array([item['scratch']['Precision'][0] for sublist in data['results'][str(dataset)] for item in sublist])\n",
    "                parameter = np.array([item['transfer']['Parameter Learning results']['Precision'][0] for sublist in data['results'][str(dataset)] for item in sublist])\n",
    "                transfer = np.array([item['transfer']['Precision'][0] for sublist in data['results'][str(dataset)] for item in sublist])\n",
    "            elif metric == 'Learning and Revision time':\n",
    "                scratch = np.array([item['scratch']['Learning time'] for sublist in data['results'][str(dataset)] for item in sublist])\n",
    "                parameter = np.array([item['transfer']['Parameter Learning results']['Learning time'] for sublist in data['results'][str(dataset)] for item in sublist])\n",
    "                transfer = np.array([item['transfer']['Learning time'] for sublist in data['results'][str(dataset)] for item in sublist])\n",
    "            elif metric == 'Inference time':\n",
    "                scratch = np.array([item['scratch']['Inference time'] for sublist in data['results'][str(dataset)] for item in sublist])\n",
    "                parameter = np.array([item['transfer']['Parameter Learning results']['Learning time'] for sublist in data['results'][str(dataset)] for item in sublist])\n",
    "                transfer = np.array([item['transfer']['Inference time'] for sublist in data['results'][str(dataset)] for item in sublist])\n",
    "            else:\n",
    "                scratch = np.array([item['scratch'][metric] for sublist in data['results'][str(dataset)] for item in sublist])\n",
    "                parameter = np.array([item['transfer']['Parameter Learning results'][metric] for sublist in data['results'][str(dataset)] for item in sublist])\n",
    "                transfer = np.array([item['transfer'][metric] for sublist in data['results'][str(dataset)] for item in sublist])\n",
    "                for m in range(len(data['results'][str(dataset)])):\n",
    "                    print('T-test for experiment %s' % (m+1))\n",
    "                    pvalue = stats.ttest_rel([item['transfer'][metric] for item in data['results'][str(dataset)][m]],[item['scratch'][metric] for item in data['results'][str(dataset)][m]])\n",
    "                    print(pvalue)\n",
    "                    pvalue_table = []\n",
    "                    pvalue_table.append(['transferRDN-B Ref', '%.3f' % (pvalue[1])])\n",
    "                    pvalue = stats.ttest_rel([item['transfer']['Parameter Learning results'][metric] for item in data['results'][str(dataset)][m]],[item['scratch'][metric] for item in data['results'][str(dataset)][m]])\n",
    "                    print(pvalue)\n",
    "                    pvalue_table.append(['transferRDN-B', '%.3f' % (pvalue[1])])\n",
    "                    display(pd.DataFrame(pvalue_table, columns=['p-value', 'RDN-B']))\n",
    "            print('\\n')\n",
    "            print('Scratch: %s' % scratch)\n",
    "            print('Transfer: %s' % parameter)\n",
    "            print('Transfer & Revision: %s' % transfer)"
   ]
  },
  {
   "cell_type": "code",
   "execution_count": 6,
   "metadata": {
    "collapsed": false
   },
   "outputs": [],
   "source": [
    "def paired_ttest_kfold_cv(estimator1, estimator2):\n",
    "    score_diff = []\n",
    "    cv = len(estimator1)\n",
    "    for i in range(len(estimator1)):\n",
    "        score_diff.append(estimator1[i] - estimator2[i])\n",
    "\n",
    "    avg_diff = np.mean(score_diff)\n",
    "\n",
    "    numerator = avg_diff * np.sqrt(cv)\n",
    "    denominator = np.sqrt(sum([(diff - avg_diff)**2 for diff in score_diff])\n",
    "                          / (cv - 1))\n",
    "    t_stat = numerator / denominator\n",
    "\n",
    "    pvalue = stats.t.sf(np.abs(t_stat), cv - 1)*2.\n",
    "    return float(t_stat), float(pvalue)"
   ]
  },
  {
   "cell_type": "code",
   "execution_count": 7,
   "metadata": {
    "collapsed": false
   },
   "outputs": [
    {
     "data": {
      "text/plain": [
       "(26.497231209975535, 0.00011793614005630308)"
      ]
     },
     "execution_count": 7,
     "metadata": {},
     "output_type": "execute_result"
    }
   ],
   "source": [
    "paired_ttest_kfold_cv([0.693686, 0.694682, 0.68722,  0.660296],\n",
    "[0.636807, 0.636639, 0.634388, 0.611234])"
   ]
  },
  {
   "cell_type": "code",
   "execution_count": null,
   "metadata": {
    "collapsed": true
   },
   "outputs": [],
   "source": []
  }
 ],
 "metadata": {
  "anaconda-cloud": {},
  "kernelspec": {
   "display_name": "Python [conda env:anaconda3]",
   "language": "python",
   "name": "conda-env-anaconda3-py"
  },
  "language_info": {
   "codemirror_mode": {
    "name": "ipython",
    "version": 3
   },
   "file_extension": ".py",
   "mimetype": "text/x-python",
   "name": "python",
   "nbconvert_exporter": "python",
   "pygments_lexer": "ipython3",
   "version": "3.5.2"
  }
 },
 "nbformat": 4,
 "nbformat_minor": 1
}
