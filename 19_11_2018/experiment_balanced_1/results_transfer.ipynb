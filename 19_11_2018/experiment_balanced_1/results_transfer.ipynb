{
 "cells": [
  {
   "cell_type": "code",
   "execution_count": 3,
   "metadata": {
    "collapsed": false
   },
   "outputs": [],
   "source": [
    "import matplotlib.pyplot as plt\n",
    "from IPython.display import display, Markdown, Latex\n",
    "import numpy as np\n",
    "import json\n",
    "import pandas as pd\n",
    "from scipy import stats\n",
    "\n",
    "with open('transfer_experiment.json', 'r') as fp:\n",
    "    data = json.load(fp)"
   ]
  },
  {
   "cell_type": "code",
   "execution_count": 4,
   "metadata": {
    "collapsed": false,
    "scrolled": false
   },
   "outputs": [
    {
     "data": {
      "text/markdown": [
       "# Results for AUC ROC"
      ],
      "text/plain": [
       "<IPython.core.display.Markdown object>"
      ]
     },
     "metadata": {},
     "output_type": "display_data"
    },
    {
     "data": {
      "text/html": [
       "<div>\n",
       "<table border=\"1\" class=\"dataframe\">\n",
       "  <thead>\n",
       "    <tr style=\"text-align: right;\">\n",
       "      <th></th>\n",
       "      <th>Experiment</th>\n",
       "      <th>Transfer Learning</th>\n",
       "      <th>Transfer Learning with Revision Theory</th>\n",
       "      <th>Learning from scratch</th>\n",
       "    </tr>\n",
       "  </thead>\n",
       "  <tbody>\n",
       "    <tr>\n",
       "      <th>0</th>\n",
       "      <td>1_imdb_uwcse</td>\n",
       "      <td>0.956 +/- 0.007</td>\n",
       "      <td>0.948 +/- 0.023</td>\n",
       "      <td>0.934 +/- 0.072</td>\n",
       "    </tr>\n",
       "    <tr>\n",
       "      <th>1</th>\n",
       "      <td>2_uwcse_imdb</td>\n",
       "      <td>1.000 +/- 0.000</td>\n",
       "      <td>1.000 +/- 0.000</td>\n",
       "      <td>0.981 +/- 0.077</td>\n",
       "    </tr>\n",
       "    <tr>\n",
       "      <th>2</th>\n",
       "      <td>3_imdb_uwcse</td>\n",
       "      <td>0.625 +/- 0.130</td>\n",
       "      <td>0.624 +/- 0.126</td>\n",
       "      <td>0.604 +/- 0.118</td>\n",
       "    </tr>\n",
       "    <tr>\n",
       "      <th>3</th>\n",
       "      <td>4_uwcse_imdb</td>\n",
       "      <td>0.497 +/- 0.003</td>\n",
       "      <td>0.495 +/- 0.014</td>\n",
       "      <td>0.490 +/- 0.014</td>\n",
       "    </tr>\n",
       "    <tr>\n",
       "      <th>4</th>\n",
       "      <td>5_imdb_uwcse</td>\n",
       "      <td>0.500 +/- 0.000</td>\n",
       "      <td>0.499 +/- 0.014</td>\n",
       "      <td>0.501 +/- 0.025</td>\n",
       "    </tr>\n",
       "    <tr>\n",
       "      <th>5</th>\n",
       "      <td>6_uwcse_imdb</td>\n",
       "      <td>0.907 +/- 0.063</td>\n",
       "      <td>0.907 +/- 0.063</td>\n",
       "      <td>0.827 +/- 0.333</td>\n",
       "    </tr>\n",
       "    <tr>\n",
       "      <th>6</th>\n",
       "      <td>7_imdb_cora</td>\n",
       "      <td>0.525 +/- 0.089</td>\n",
       "      <td>0.613 +/- 0.248</td>\n",
       "      <td>0.678 +/- 0.291</td>\n",
       "    </tr>\n",
       "    <tr>\n",
       "      <th>7</th>\n",
       "      <td>8_imdb_cora</td>\n",
       "      <td>0.655 +/- 0.309</td>\n",
       "      <td>0.928 +/- 0.031</td>\n",
       "      <td>0.936 +/- 0.007</td>\n",
       "    </tr>\n",
       "    <tr>\n",
       "      <th>8</th>\n",
       "      <td>9_imdb_cora</td>\n",
       "      <td>0.675 +/- 0.063</td>\n",
       "      <td>0.659 +/- 0.198</td>\n",
       "      <td>0.533 +/- 0.241</td>\n",
       "    </tr>\n",
       "    <tr>\n",
       "      <th>9</th>\n",
       "      <td>10_imdb_cora</td>\n",
       "      <td>0.506 +/- 0.004</td>\n",
       "      <td>0.688 +/- 0.176</td>\n",
       "      <td>0.763 +/- 0.139</td>\n",
       "    </tr>\n",
       "    <tr>\n",
       "      <th>10</th>\n",
       "      <td>11_uwcse_cora</td>\n",
       "      <td>0.525 +/- 0.089</td>\n",
       "      <td>0.610 +/- 0.233</td>\n",
       "      <td>0.676 +/- 0.292</td>\n",
       "    </tr>\n",
       "    <tr>\n",
       "      <th>11</th>\n",
       "      <td>12_uwcse_cora</td>\n",
       "      <td>0.934 +/- 0.009</td>\n",
       "      <td>0.946 +/- 0.020</td>\n",
       "      <td>0.936 +/- 0.007</td>\n",
       "    </tr>\n",
       "    <tr>\n",
       "      <th>12</th>\n",
       "      <td>13_uwcse_cora</td>\n",
       "      <td>0.675 +/- 0.063</td>\n",
       "      <td>0.639 +/- 0.193</td>\n",
       "      <td>0.525 +/- 0.128</td>\n",
       "    </tr>\n",
       "    <tr>\n",
       "      <th>13</th>\n",
       "      <td>14_uwcse_cora</td>\n",
       "      <td>0.506 +/- 0.004</td>\n",
       "      <td>0.765 +/- 0.137</td>\n",
       "      <td>0.768 +/- 0.160</td>\n",
       "    </tr>\n",
       "    <tr>\n",
       "      <th>14</th>\n",
       "      <td>15_yeast_twitter</td>\n",
       "      <td>0.693 +/- 0.018</td>\n",
       "      <td>0.745 +/- 0.025</td>\n",
       "      <td>0.763 +/- 0.062</td>\n",
       "    </tr>\n",
       "    <tr>\n",
       "      <th>15</th>\n",
       "      <td>16_yeast_twitter</td>\n",
       "      <td>0.717 +/- 0.031</td>\n",
       "      <td>0.710 +/- 0.034</td>\n",
       "      <td>0.710 +/- 0.035</td>\n",
       "    </tr>\n",
       "    <tr>\n",
       "      <th>16</th>\n",
       "      <td>17_yeast_twitter</td>\n",
       "      <td>0.500 +/- 0.000</td>\n",
       "      <td>0.500 +/- 0.000</td>\n",
       "      <td>0.500 +/- 0.000</td>\n",
       "    </tr>\n",
       "    <tr>\n",
       "      <th>17</th>\n",
       "      <td>18_yeast_twitter</td>\n",
       "      <td>0.500 +/- 0.000</td>\n",
       "      <td>0.500 +/- 0.000</td>\n",
       "      <td>0.500 +/- 0.000</td>\n",
       "    </tr>\n",
       "    <tr>\n",
       "      <th>18</th>\n",
       "      <td>19_yeast_twitter</td>\n",
       "      <td>0.500 +/- 0.000</td>\n",
       "      <td>0.500 +/- 0.000</td>\n",
       "      <td>0.500 +/- 0.000</td>\n",
       "    </tr>\n",
       "    <tr>\n",
       "      <th>19</th>\n",
       "      <td>20_yeast_twitter</td>\n",
       "      <td>0.500 +/- 0.000</td>\n",
       "      <td>0.500 +/- 0.000</td>\n",
       "      <td>0.500 +/- 0.000</td>\n",
       "    </tr>\n",
       "    <tr>\n",
       "      <th>20</th>\n",
       "      <td>21_yeast_twitter</td>\n",
       "      <td>0.500 +/- 0.000</td>\n",
       "      <td>0.500 +/- 0.000</td>\n",
       "      <td>0.500 +/- 0.000</td>\n",
       "    </tr>\n",
       "    <tr>\n",
       "      <th>21</th>\n",
       "      <td>22_twitter_yeast</td>\n",
       "      <td>0.878 +/- 0.023</td>\n",
       "      <td>0.883 +/- 0.044</td>\n",
       "      <td>0.854 +/- 0.144</td>\n",
       "    </tr>\n",
       "    <tr>\n",
       "      <th>22</th>\n",
       "      <td>23_twitter_yeast</td>\n",
       "      <td>0.645 +/- 0.029</td>\n",
       "      <td>0.649 +/- 0.024</td>\n",
       "      <td>0.658 +/- 0.046</td>\n",
       "    </tr>\n",
       "    <tr>\n",
       "      <th>23</th>\n",
       "      <td>24_twitter_yeast</td>\n",
       "      <td>0.500 +/- 0.000</td>\n",
       "      <td>0.500 +/- 0.000</td>\n",
       "      <td>0.500 +/- 0.000</td>\n",
       "    </tr>\n",
       "    <tr>\n",
       "      <th>24</th>\n",
       "      <td>25_twitter_yeast</td>\n",
       "      <td>0.500 +/- 0.000</td>\n",
       "      <td>0.500 +/- 0.000</td>\n",
       "      <td>0.500 +/- 0.000</td>\n",
       "    </tr>\n",
       "    <tr>\n",
       "      <th>25</th>\n",
       "      <td>26_twitter_yeast</td>\n",
       "      <td>0.500 +/- 0.000</td>\n",
       "      <td>0.500 +/- 0.000</td>\n",
       "      <td>0.500 +/- 0.000</td>\n",
       "    </tr>\n",
       "    <tr>\n",
       "      <th>26</th>\n",
       "      <td>27_twitter_yeast</td>\n",
       "      <td>0.500 +/- 0.000</td>\n",
       "      <td>0.500 +/- 0.000</td>\n",
       "      <td>0.500 +/- 0.000</td>\n",
       "    </tr>\n",
       "    <tr>\n",
       "      <th>27</th>\n",
       "      <td>28_twitter_yeast</td>\n",
       "      <td>0.500 +/- 0.000</td>\n",
       "      <td>0.500 +/- 0.000</td>\n",
       "      <td>0.500 +/- 0.000</td>\n",
       "    </tr>\n",
       "  </tbody>\n",
       "</table>\n",
       "</div>"
      ],
      "text/plain": [
       "          Experiment Transfer Learning Transfer Learning with Revision Theory  \\\n",
       "0       1_imdb_uwcse   0.956 +/- 0.007                        0.948 +/- 0.023   \n",
       "1       2_uwcse_imdb   1.000 +/- 0.000                        1.000 +/- 0.000   \n",
       "2       3_imdb_uwcse   0.625 +/- 0.130                        0.624 +/- 0.126   \n",
       "3       4_uwcse_imdb   0.497 +/- 0.003                        0.495 +/- 0.014   \n",
       "4       5_imdb_uwcse   0.500 +/- 0.000                        0.499 +/- 0.014   \n",
       "5       6_uwcse_imdb   0.907 +/- 0.063                        0.907 +/- 0.063   \n",
       "6        7_imdb_cora   0.525 +/- 0.089                        0.613 +/- 0.248   \n",
       "7        8_imdb_cora   0.655 +/- 0.309                        0.928 +/- 0.031   \n",
       "8        9_imdb_cora   0.675 +/- 0.063                        0.659 +/- 0.198   \n",
       "9       10_imdb_cora   0.506 +/- 0.004                        0.688 +/- 0.176   \n",
       "10     11_uwcse_cora   0.525 +/- 0.089                        0.610 +/- 0.233   \n",
       "11     12_uwcse_cora   0.934 +/- 0.009                        0.946 +/- 0.020   \n",
       "12     13_uwcse_cora   0.675 +/- 0.063                        0.639 +/- 0.193   \n",
       "13     14_uwcse_cora   0.506 +/- 0.004                        0.765 +/- 0.137   \n",
       "14  15_yeast_twitter   0.693 +/- 0.018                        0.745 +/- 0.025   \n",
       "15  16_yeast_twitter   0.717 +/- 0.031                        0.710 +/- 0.034   \n",
       "16  17_yeast_twitter   0.500 +/- 0.000                        0.500 +/- 0.000   \n",
       "17  18_yeast_twitter   0.500 +/- 0.000                        0.500 +/- 0.000   \n",
       "18  19_yeast_twitter   0.500 +/- 0.000                        0.500 +/- 0.000   \n",
       "19  20_yeast_twitter   0.500 +/- 0.000                        0.500 +/- 0.000   \n",
       "20  21_yeast_twitter   0.500 +/- 0.000                        0.500 +/- 0.000   \n",
       "21  22_twitter_yeast   0.878 +/- 0.023                        0.883 +/- 0.044   \n",
       "22  23_twitter_yeast   0.645 +/- 0.029                        0.649 +/- 0.024   \n",
       "23  24_twitter_yeast   0.500 +/- 0.000                        0.500 +/- 0.000   \n",
       "24  25_twitter_yeast   0.500 +/- 0.000                        0.500 +/- 0.000   \n",
       "25  26_twitter_yeast   0.500 +/- 0.000                        0.500 +/- 0.000   \n",
       "26  27_twitter_yeast   0.500 +/- 0.000                        0.500 +/- 0.000   \n",
       "27  28_twitter_yeast   0.500 +/- 0.000                        0.500 +/- 0.000   \n",
       "\n",
       "   Learning from scratch  \n",
       "0        0.934 +/- 0.072  \n",
       "1        0.981 +/- 0.077  \n",
       "2        0.604 +/- 0.118  \n",
       "3        0.490 +/- 0.014  \n",
       "4        0.501 +/- 0.025  \n",
       "5        0.827 +/- 0.333  \n",
       "6        0.678 +/- 0.291  \n",
       "7        0.936 +/- 0.007  \n",
       "8        0.533 +/- 0.241  \n",
       "9        0.763 +/- 0.139  \n",
       "10       0.676 +/- 0.292  \n",
       "11       0.936 +/- 0.007  \n",
       "12       0.525 +/- 0.128  \n",
       "13       0.768 +/- 0.160  \n",
       "14       0.763 +/- 0.062  \n",
       "15       0.710 +/- 0.035  \n",
       "16       0.500 +/- 0.000  \n",
       "17       0.500 +/- 0.000  \n",
       "18       0.500 +/- 0.000  \n",
       "19       0.500 +/- 0.000  \n",
       "20       0.500 +/- 0.000  \n",
       "21       0.854 +/- 0.144  \n",
       "22       0.658 +/- 0.046  \n",
       "23       0.500 +/- 0.000  \n",
       "24       0.500 +/- 0.000  \n",
       "25       0.500 +/- 0.000  \n",
       "26       0.500 +/- 0.000  \n",
       "27       0.500 +/- 0.000  "
      ]
     },
     "metadata": {},
     "output_type": "display_data"
    },
    {
     "data": {
      "text/markdown": [
       "# Results for AUC PR"
      ],
      "text/plain": [
       "<IPython.core.display.Markdown object>"
      ]
     },
     "metadata": {},
     "output_type": "display_data"
    },
    {
     "data": {
      "text/html": [
       "<div>\n",
       "<table border=\"1\" class=\"dataframe\">\n",
       "  <thead>\n",
       "    <tr style=\"text-align: right;\">\n",
       "      <th></th>\n",
       "      <th>Experiment</th>\n",
       "      <th>Transfer Learning</th>\n",
       "      <th>Transfer Learning with Revision Theory</th>\n",
       "      <th>Learning from scratch</th>\n",
       "    </tr>\n",
       "  </thead>\n",
       "  <tbody>\n",
       "    <tr>\n",
       "      <th>0</th>\n",
       "      <td>1_imdb_uwcse</td>\n",
       "      <td>0.939 +/- 0.015</td>\n",
       "      <td>0.911 +/- 0.042</td>\n",
       "      <td>0.888 +/- 0.121</td>\n",
       "    </tr>\n",
       "    <tr>\n",
       "      <th>1</th>\n",
       "      <td>2_uwcse_imdb</td>\n",
       "      <td>1.000 +/- 0.000</td>\n",
       "      <td>1.000 +/- 0.000</td>\n",
       "      <td>0.968 +/- 0.130</td>\n",
       "    </tr>\n",
       "    <tr>\n",
       "      <th>2</th>\n",
       "      <td>3_imdb_uwcse</td>\n",
       "      <td>0.597 +/- 0.103</td>\n",
       "      <td>0.603 +/- 0.113</td>\n",
       "      <td>0.595 +/- 0.109</td>\n",
       "    </tr>\n",
       "    <tr>\n",
       "      <th>3</th>\n",
       "      <td>4_uwcse_imdb</td>\n",
       "      <td>0.497 +/- 0.009</td>\n",
       "      <td>0.494 +/- 0.005</td>\n",
       "      <td>0.493 +/- 0.008</td>\n",
       "    </tr>\n",
       "    <tr>\n",
       "      <th>4</th>\n",
       "      <td>5_imdb_uwcse</td>\n",
       "      <td>0.500 +/- 0.000</td>\n",
       "      <td>0.503 +/- 0.012</td>\n",
       "      <td>0.505 +/- 0.016</td>\n",
       "    </tr>\n",
       "    <tr>\n",
       "      <th>5</th>\n",
       "      <td>6_uwcse_imdb</td>\n",
       "      <td>0.845 +/- 0.095</td>\n",
       "      <td>0.845 +/- 0.095</td>\n",
       "      <td>0.779 +/- 0.294</td>\n",
       "    </tr>\n",
       "    <tr>\n",
       "      <th>6</th>\n",
       "      <td>7_imdb_cora</td>\n",
       "      <td>0.532 +/- 0.089</td>\n",
       "      <td>0.606 +/- 0.221</td>\n",
       "      <td>0.662 +/- 0.244</td>\n",
       "    </tr>\n",
       "    <tr>\n",
       "      <th>7</th>\n",
       "      <td>8_imdb_cora</td>\n",
       "      <td>0.760 +/- 0.284</td>\n",
       "      <td>0.955 +/- 0.032</td>\n",
       "      <td>0.965 +/- 0.013</td>\n",
       "    </tr>\n",
       "    <tr>\n",
       "      <th>8</th>\n",
       "      <td>9_imdb_cora</td>\n",
       "      <td>0.944 +/- 0.008</td>\n",
       "      <td>0.942 +/- 0.038</td>\n",
       "      <td>0.919 +/- 0.066</td>\n",
       "    </tr>\n",
       "    <tr>\n",
       "      <th>9</th>\n",
       "      <td>10_imdb_cora</td>\n",
       "      <td>0.565 +/- 0.041</td>\n",
       "      <td>0.724 +/- 0.151</td>\n",
       "      <td>0.781 +/- 0.089</td>\n",
       "    </tr>\n",
       "    <tr>\n",
       "      <th>10</th>\n",
       "      <td>11_uwcse_cora</td>\n",
       "      <td>0.532 +/- 0.089</td>\n",
       "      <td>0.610 +/- 0.210</td>\n",
       "      <td>0.658 +/- 0.244</td>\n",
       "    </tr>\n",
       "    <tr>\n",
       "      <th>11</th>\n",
       "      <td>12_uwcse_cora</td>\n",
       "      <td>0.961 +/- 0.008</td>\n",
       "      <td>0.969 +/- 0.019</td>\n",
       "      <td>0.965 +/- 0.013</td>\n",
       "    </tr>\n",
       "    <tr>\n",
       "      <th>12</th>\n",
       "      <td>13_uwcse_cora</td>\n",
       "      <td>0.944 +/- 0.008</td>\n",
       "      <td>0.938 +/- 0.051</td>\n",
       "      <td>0.919 +/- 0.026</td>\n",
       "    </tr>\n",
       "    <tr>\n",
       "      <th>13</th>\n",
       "      <td>14_uwcse_cora</td>\n",
       "      <td>0.565 +/- 0.041</td>\n",
       "      <td>0.782 +/- 0.088</td>\n",
       "      <td>0.798 +/- 0.156</td>\n",
       "    </tr>\n",
       "    <tr>\n",
       "      <th>14</th>\n",
       "      <td>15_yeast_twitter</td>\n",
       "      <td>0.653 +/- 0.035</td>\n",
       "      <td>0.709 +/- 0.023</td>\n",
       "      <td>0.737 +/- 0.091</td>\n",
       "    </tr>\n",
       "    <tr>\n",
       "      <th>15</th>\n",
       "      <td>16_yeast_twitter</td>\n",
       "      <td>0.692 +/- 0.012</td>\n",
       "      <td>0.679 +/- 0.033</td>\n",
       "      <td>0.678 +/- 0.035</td>\n",
       "    </tr>\n",
       "    <tr>\n",
       "      <th>16</th>\n",
       "      <td>17_yeast_twitter</td>\n",
       "      <td>0.500 +/- 0.000</td>\n",
       "      <td>0.500 +/- 0.000</td>\n",
       "      <td>0.500 +/- 0.000</td>\n",
       "    </tr>\n",
       "    <tr>\n",
       "      <th>17</th>\n",
       "      <td>18_yeast_twitter</td>\n",
       "      <td>0.500 +/- 0.000</td>\n",
       "      <td>0.500 +/- 0.000</td>\n",
       "      <td>0.500 +/- 0.000</td>\n",
       "    </tr>\n",
       "    <tr>\n",
       "      <th>18</th>\n",
       "      <td>19_yeast_twitter</td>\n",
       "      <td>0.500 +/- 0.000</td>\n",
       "      <td>0.500 +/- 0.000</td>\n",
       "      <td>0.500 +/- 0.000</td>\n",
       "    </tr>\n",
       "    <tr>\n",
       "      <th>19</th>\n",
       "      <td>20_yeast_twitter</td>\n",
       "      <td>0.500 +/- 0.000</td>\n",
       "      <td>0.500 +/- 0.000</td>\n",
       "      <td>0.500 +/- 0.000</td>\n",
       "    </tr>\n",
       "    <tr>\n",
       "      <th>20</th>\n",
       "      <td>21_yeast_twitter</td>\n",
       "      <td>0.500 +/- 0.000</td>\n",
       "      <td>0.500 +/- 0.000</td>\n",
       "      <td>0.500 +/- 0.000</td>\n",
       "    </tr>\n",
       "    <tr>\n",
       "      <th>21</th>\n",
       "      <td>22_twitter_yeast</td>\n",
       "      <td>0.880 +/- 0.025</td>\n",
       "      <td>0.881 +/- 0.040</td>\n",
       "      <td>0.865 +/- 0.124</td>\n",
       "    </tr>\n",
       "    <tr>\n",
       "      <th>22</th>\n",
       "      <td>23_twitter_yeast</td>\n",
       "      <td>0.630 +/- 0.021</td>\n",
       "      <td>0.648 +/- 0.048</td>\n",
       "      <td>0.684 +/- 0.028</td>\n",
       "    </tr>\n",
       "    <tr>\n",
       "      <th>23</th>\n",
       "      <td>24_twitter_yeast</td>\n",
       "      <td>0.500 +/- 0.000</td>\n",
       "      <td>0.500 +/- 0.000</td>\n",
       "      <td>0.500 +/- 0.000</td>\n",
       "    </tr>\n",
       "    <tr>\n",
       "      <th>24</th>\n",
       "      <td>25_twitter_yeast</td>\n",
       "      <td>0.500 +/- 0.000</td>\n",
       "      <td>0.500 +/- 0.000</td>\n",
       "      <td>0.500 +/- 0.000</td>\n",
       "    </tr>\n",
       "    <tr>\n",
       "      <th>25</th>\n",
       "      <td>26_twitter_yeast</td>\n",
       "      <td>0.500 +/- 0.000</td>\n",
       "      <td>0.500 +/- 0.000</td>\n",
       "      <td>0.500 +/- 0.000</td>\n",
       "    </tr>\n",
       "    <tr>\n",
       "      <th>26</th>\n",
       "      <td>27_twitter_yeast</td>\n",
       "      <td>0.500 +/- 0.000</td>\n",
       "      <td>0.500 +/- 0.000</td>\n",
       "      <td>0.500 +/- 0.000</td>\n",
       "    </tr>\n",
       "    <tr>\n",
       "      <th>27</th>\n",
       "      <td>28_twitter_yeast</td>\n",
       "      <td>0.500 +/- 0.000</td>\n",
       "      <td>0.500 +/- 0.000</td>\n",
       "      <td>0.500 +/- 0.000</td>\n",
       "    </tr>\n",
       "  </tbody>\n",
       "</table>\n",
       "</div>"
      ],
      "text/plain": [
       "          Experiment Transfer Learning Transfer Learning with Revision Theory  \\\n",
       "0       1_imdb_uwcse   0.939 +/- 0.015                        0.911 +/- 0.042   \n",
       "1       2_uwcse_imdb   1.000 +/- 0.000                        1.000 +/- 0.000   \n",
       "2       3_imdb_uwcse   0.597 +/- 0.103                        0.603 +/- 0.113   \n",
       "3       4_uwcse_imdb   0.497 +/- 0.009                        0.494 +/- 0.005   \n",
       "4       5_imdb_uwcse   0.500 +/- 0.000                        0.503 +/- 0.012   \n",
       "5       6_uwcse_imdb   0.845 +/- 0.095                        0.845 +/- 0.095   \n",
       "6        7_imdb_cora   0.532 +/- 0.089                        0.606 +/- 0.221   \n",
       "7        8_imdb_cora   0.760 +/- 0.284                        0.955 +/- 0.032   \n",
       "8        9_imdb_cora   0.944 +/- 0.008                        0.942 +/- 0.038   \n",
       "9       10_imdb_cora   0.565 +/- 0.041                        0.724 +/- 0.151   \n",
       "10     11_uwcse_cora   0.532 +/- 0.089                        0.610 +/- 0.210   \n",
       "11     12_uwcse_cora   0.961 +/- 0.008                        0.969 +/- 0.019   \n",
       "12     13_uwcse_cora   0.944 +/- 0.008                        0.938 +/- 0.051   \n",
       "13     14_uwcse_cora   0.565 +/- 0.041                        0.782 +/- 0.088   \n",
       "14  15_yeast_twitter   0.653 +/- 0.035                        0.709 +/- 0.023   \n",
       "15  16_yeast_twitter   0.692 +/- 0.012                        0.679 +/- 0.033   \n",
       "16  17_yeast_twitter   0.500 +/- 0.000                        0.500 +/- 0.000   \n",
       "17  18_yeast_twitter   0.500 +/- 0.000                        0.500 +/- 0.000   \n",
       "18  19_yeast_twitter   0.500 +/- 0.000                        0.500 +/- 0.000   \n",
       "19  20_yeast_twitter   0.500 +/- 0.000                        0.500 +/- 0.000   \n",
       "20  21_yeast_twitter   0.500 +/- 0.000                        0.500 +/- 0.000   \n",
       "21  22_twitter_yeast   0.880 +/- 0.025                        0.881 +/- 0.040   \n",
       "22  23_twitter_yeast   0.630 +/- 0.021                        0.648 +/- 0.048   \n",
       "23  24_twitter_yeast   0.500 +/- 0.000                        0.500 +/- 0.000   \n",
       "24  25_twitter_yeast   0.500 +/- 0.000                        0.500 +/- 0.000   \n",
       "25  26_twitter_yeast   0.500 +/- 0.000                        0.500 +/- 0.000   \n",
       "26  27_twitter_yeast   0.500 +/- 0.000                        0.500 +/- 0.000   \n",
       "27  28_twitter_yeast   0.500 +/- 0.000                        0.500 +/- 0.000   \n",
       "\n",
       "   Learning from scratch  \n",
       "0        0.888 +/- 0.121  \n",
       "1        0.968 +/- 0.130  \n",
       "2        0.595 +/- 0.109  \n",
       "3        0.493 +/- 0.008  \n",
       "4        0.505 +/- 0.016  \n",
       "5        0.779 +/- 0.294  \n",
       "6        0.662 +/- 0.244  \n",
       "7        0.965 +/- 0.013  \n",
       "8        0.919 +/- 0.066  \n",
       "9        0.781 +/- 0.089  \n",
       "10       0.658 +/- 0.244  \n",
       "11       0.965 +/- 0.013  \n",
       "12       0.919 +/- 0.026  \n",
       "13       0.798 +/- 0.156  \n",
       "14       0.737 +/- 0.091  \n",
       "15       0.678 +/- 0.035  \n",
       "16       0.500 +/- 0.000  \n",
       "17       0.500 +/- 0.000  \n",
       "18       0.500 +/- 0.000  \n",
       "19       0.500 +/- 0.000  \n",
       "20       0.500 +/- 0.000  \n",
       "21       0.865 +/- 0.124  \n",
       "22       0.684 +/- 0.028  \n",
       "23       0.500 +/- 0.000  \n",
       "24       0.500 +/- 0.000  \n",
       "25       0.500 +/- 0.000  \n",
       "26       0.500 +/- 0.000  \n",
       "27       0.500 +/- 0.000  "
      ]
     },
     "metadata": {},
     "output_type": "display_data"
    },
    {
     "data": {
      "text/markdown": [
       "# Results for CLL"
      ],
      "text/plain": [
       "<IPython.core.display.Markdown object>"
      ]
     },
     "metadata": {},
     "output_type": "display_data"
    },
    {
     "data": {
      "text/html": [
       "<div>\n",
       "<table border=\"1\" class=\"dataframe\">\n",
       "  <thead>\n",
       "    <tr style=\"text-align: right;\">\n",
       "      <th></th>\n",
       "      <th>Experiment</th>\n",
       "      <th>Transfer Learning</th>\n",
       "      <th>Transfer Learning with Revision Theory</th>\n",
       "      <th>Learning from scratch</th>\n",
       "    </tr>\n",
       "  </thead>\n",
       "  <tbody>\n",
       "    <tr>\n",
       "      <th>0</th>\n",
       "      <td>1_imdb_uwcse</td>\n",
       "      <td>-0.229 +/- 0.007</td>\n",
       "      <td>-0.242 +/- 0.045</td>\n",
       "      <td>-0.257 +/- 0.098</td>\n",
       "    </tr>\n",
       "    <tr>\n",
       "      <th>1</th>\n",
       "      <td>2_uwcse_imdb</td>\n",
       "      <td>-0.116 +/- 0.021</td>\n",
       "      <td>-0.112 +/- 0.031</td>\n",
       "      <td>-0.174 +/- 0.148</td>\n",
       "    </tr>\n",
       "    <tr>\n",
       "      <th>2</th>\n",
       "      <td>3_imdb_uwcse</td>\n",
       "      <td>-0.660 +/- 0.042</td>\n",
       "      <td>-0.692 +/- 0.069</td>\n",
       "      <td>-0.701 +/- 0.059</td>\n",
       "    </tr>\n",
       "    <tr>\n",
       "      <th>3</th>\n",
       "      <td>4_uwcse_imdb</td>\n",
       "      <td>-0.701 +/- 0.020</td>\n",
       "      <td>-0.708 +/- 0.020</td>\n",
       "      <td>-0.707 +/- 0.017</td>\n",
       "    </tr>\n",
       "    <tr>\n",
       "      <th>4</th>\n",
       "      <td>5_imdb_uwcse</td>\n",
       "      <td>-0.695 +/- 0.000</td>\n",
       "      <td>-0.715 +/- 0.020</td>\n",
       "      <td>-0.718 +/- 0.025</td>\n",
       "    </tr>\n",
       "    <tr>\n",
       "      <th>5</th>\n",
       "      <td>6_uwcse_imdb</td>\n",
       "      <td>-0.312 +/- 0.052</td>\n",
       "      <td>-0.307 +/- 0.058</td>\n",
       "      <td>-0.458 +/- 0.598</td>\n",
       "    </tr>\n",
       "    <tr>\n",
       "      <th>6</th>\n",
       "      <td>7_imdb_cora</td>\n",
       "      <td>-0.690 +/- 0.020</td>\n",
       "      <td>-0.640 +/- 0.193</td>\n",
       "      <td>-0.603 +/- 0.215</td>\n",
       "    </tr>\n",
       "    <tr>\n",
       "      <th>7</th>\n",
       "      <td>8_imdb_cora</td>\n",
       "      <td>-0.622 +/- 0.354</td>\n",
       "      <td>-0.348 +/- 0.145</td>\n",
       "      <td>-0.344 +/- 0.146</td>\n",
       "    </tr>\n",
       "    <tr>\n",
       "      <th>8</th>\n",
       "      <td>9_imdb_cora</td>\n",
       "      <td>-0.256 +/- 0.002</td>\n",
       "      <td>-0.310 +/- 0.170</td>\n",
       "      <td>-0.315 +/- 0.095</td>\n",
       "    </tr>\n",
       "    <tr>\n",
       "      <th>9</th>\n",
       "      <td>10_imdb_cora</td>\n",
       "      <td>-0.705 +/- 0.030</td>\n",
       "      <td>-0.625 +/- 0.074</td>\n",
       "      <td>-0.584 +/- 0.177</td>\n",
       "    </tr>\n",
       "    <tr>\n",
       "      <th>10</th>\n",
       "      <td>11_uwcse_cora</td>\n",
       "      <td>-0.690 +/- 0.019</td>\n",
       "      <td>-0.649 +/- 0.166</td>\n",
       "      <td>-0.602 +/- 0.219</td>\n",
       "    </tr>\n",
       "    <tr>\n",
       "      <th>11</th>\n",
       "      <td>12_uwcse_cora</td>\n",
       "      <td>-0.373 +/- 0.178</td>\n",
       "      <td>-0.345 +/- 0.146</td>\n",
       "      <td>-0.345 +/- 0.146</td>\n",
       "    </tr>\n",
       "    <tr>\n",
       "      <th>12</th>\n",
       "      <td>13_uwcse_cora</td>\n",
       "      <td>-0.259 +/- 0.003</td>\n",
       "      <td>-0.303 +/- 0.139</td>\n",
       "      <td>-0.330 +/- 0.129</td>\n",
       "    </tr>\n",
       "    <tr>\n",
       "      <th>13</th>\n",
       "      <td>14_uwcse_cora</td>\n",
       "      <td>-0.706 +/- 0.030</td>\n",
       "      <td>-0.595 +/- 0.104</td>\n",
       "      <td>-0.571 +/- 0.220</td>\n",
       "    </tr>\n",
       "    <tr>\n",
       "      <th>14</th>\n",
       "      <td>15_yeast_twitter</td>\n",
       "      <td>-0.643 +/- 0.009</td>\n",
       "      <td>-0.591 +/- 0.018</td>\n",
       "      <td>-0.576 +/- 0.035</td>\n",
       "    </tr>\n",
       "    <tr>\n",
       "      <th>15</th>\n",
       "      <td>16_yeast_twitter</td>\n",
       "      <td>-0.624 +/- 0.011</td>\n",
       "      <td>-0.623 +/- 0.024</td>\n",
       "      <td>-0.627 +/- 0.039</td>\n",
       "    </tr>\n",
       "    <tr>\n",
       "      <th>16</th>\n",
       "      <td>17_yeast_twitter</td>\n",
       "      <td>-0.695 +/- 0.001</td>\n",
       "      <td>-0.695 +/- 0.001</td>\n",
       "      <td>-0.695 +/- 0.000</td>\n",
       "    </tr>\n",
       "    <tr>\n",
       "      <th>17</th>\n",
       "      <td>18_yeast_twitter</td>\n",
       "      <td>-0.695 +/- 0.000</td>\n",
       "      <td>-0.695 +/- 0.000</td>\n",
       "      <td>-0.695 +/- 0.000</td>\n",
       "    </tr>\n",
       "    <tr>\n",
       "      <th>18</th>\n",
       "      <td>19_yeast_twitter</td>\n",
       "      <td>-0.695 +/- 0.000</td>\n",
       "      <td>-0.695 +/- 0.000</td>\n",
       "      <td>-0.695 +/- 0.000</td>\n",
       "    </tr>\n",
       "    <tr>\n",
       "      <th>19</th>\n",
       "      <td>20_yeast_twitter</td>\n",
       "      <td>-0.695 +/- 0.000</td>\n",
       "      <td>-0.695 +/- 0.000</td>\n",
       "      <td>-0.695 +/- 0.000</td>\n",
       "    </tr>\n",
       "    <tr>\n",
       "      <th>20</th>\n",
       "      <td>21_yeast_twitter</td>\n",
       "      <td>-0.695 +/- 0.001</td>\n",
       "      <td>-0.695 +/- 0.001</td>\n",
       "      <td>-0.695 +/- 0.000</td>\n",
       "    </tr>\n",
       "    <tr>\n",
       "      <th>21</th>\n",
       "      <td>22_twitter_yeast</td>\n",
       "      <td>-0.461 +/- 0.005</td>\n",
       "      <td>-0.456 +/- 0.005</td>\n",
       "      <td>-0.509 +/- 0.153</td>\n",
       "    </tr>\n",
       "    <tr>\n",
       "      <th>22</th>\n",
       "      <td>23_twitter_yeast</td>\n",
       "      <td>-0.660 +/- 0.010</td>\n",
       "      <td>-0.657 +/- 0.008</td>\n",
       "      <td>-0.653 +/- 0.024</td>\n",
       "    </tr>\n",
       "    <tr>\n",
       "      <th>23</th>\n",
       "      <td>24_twitter_yeast</td>\n",
       "      <td>-0.695 +/- 0.001</td>\n",
       "      <td>-0.695 +/- 0.000</td>\n",
       "      <td>-0.695 +/- 0.000</td>\n",
       "    </tr>\n",
       "    <tr>\n",
       "      <th>24</th>\n",
       "      <td>25_twitter_yeast</td>\n",
       "      <td>-0.698 +/- 0.008</td>\n",
       "      <td>-0.697 +/- 0.005</td>\n",
       "      <td>-0.695 +/- 0.000</td>\n",
       "    </tr>\n",
       "    <tr>\n",
       "      <th>25</th>\n",
       "      <td>26_twitter_yeast</td>\n",
       "      <td>-0.695 +/- 0.000</td>\n",
       "      <td>-0.695 +/- 0.000</td>\n",
       "      <td>-0.695 +/- 0.000</td>\n",
       "    </tr>\n",
       "    <tr>\n",
       "      <th>26</th>\n",
       "      <td>27_twitter_yeast</td>\n",
       "      <td>-0.696 +/- 0.001</td>\n",
       "      <td>-0.695 +/- 0.000</td>\n",
       "      <td>-0.695 +/- 0.000</td>\n",
       "    </tr>\n",
       "    <tr>\n",
       "      <th>27</th>\n",
       "      <td>28_twitter_yeast</td>\n",
       "      <td>-0.695 +/- 0.001</td>\n",
       "      <td>-0.695 +/- 0.000</td>\n",
       "      <td>-0.695 +/- 0.000</td>\n",
       "    </tr>\n",
       "  </tbody>\n",
       "</table>\n",
       "</div>"
      ],
      "text/plain": [
       "          Experiment Transfer Learning Transfer Learning with Revision Theory  \\\n",
       "0       1_imdb_uwcse  -0.229 +/- 0.007                       -0.242 +/- 0.045   \n",
       "1       2_uwcse_imdb  -0.116 +/- 0.021                       -0.112 +/- 0.031   \n",
       "2       3_imdb_uwcse  -0.660 +/- 0.042                       -0.692 +/- 0.069   \n",
       "3       4_uwcse_imdb  -0.701 +/- 0.020                       -0.708 +/- 0.020   \n",
       "4       5_imdb_uwcse  -0.695 +/- 0.000                       -0.715 +/- 0.020   \n",
       "5       6_uwcse_imdb  -0.312 +/- 0.052                       -0.307 +/- 0.058   \n",
       "6        7_imdb_cora  -0.690 +/- 0.020                       -0.640 +/- 0.193   \n",
       "7        8_imdb_cora  -0.622 +/- 0.354                       -0.348 +/- 0.145   \n",
       "8        9_imdb_cora  -0.256 +/- 0.002                       -0.310 +/- 0.170   \n",
       "9       10_imdb_cora  -0.705 +/- 0.030                       -0.625 +/- 0.074   \n",
       "10     11_uwcse_cora  -0.690 +/- 0.019                       -0.649 +/- 0.166   \n",
       "11     12_uwcse_cora  -0.373 +/- 0.178                       -0.345 +/- 0.146   \n",
       "12     13_uwcse_cora  -0.259 +/- 0.003                       -0.303 +/- 0.139   \n",
       "13     14_uwcse_cora  -0.706 +/- 0.030                       -0.595 +/- 0.104   \n",
       "14  15_yeast_twitter  -0.643 +/- 0.009                       -0.591 +/- 0.018   \n",
       "15  16_yeast_twitter  -0.624 +/- 0.011                       -0.623 +/- 0.024   \n",
       "16  17_yeast_twitter  -0.695 +/- 0.001                       -0.695 +/- 0.001   \n",
       "17  18_yeast_twitter  -0.695 +/- 0.000                       -0.695 +/- 0.000   \n",
       "18  19_yeast_twitter  -0.695 +/- 0.000                       -0.695 +/- 0.000   \n",
       "19  20_yeast_twitter  -0.695 +/- 0.000                       -0.695 +/- 0.000   \n",
       "20  21_yeast_twitter  -0.695 +/- 0.001                       -0.695 +/- 0.001   \n",
       "21  22_twitter_yeast  -0.461 +/- 0.005                       -0.456 +/- 0.005   \n",
       "22  23_twitter_yeast  -0.660 +/- 0.010                       -0.657 +/- 0.008   \n",
       "23  24_twitter_yeast  -0.695 +/- 0.001                       -0.695 +/- 0.000   \n",
       "24  25_twitter_yeast  -0.698 +/- 0.008                       -0.697 +/- 0.005   \n",
       "25  26_twitter_yeast  -0.695 +/- 0.000                       -0.695 +/- 0.000   \n",
       "26  27_twitter_yeast  -0.696 +/- 0.001                       -0.695 +/- 0.000   \n",
       "27  28_twitter_yeast  -0.695 +/- 0.001                       -0.695 +/- 0.000   \n",
       "\n",
       "   Learning from scratch  \n",
       "0       -0.257 +/- 0.098  \n",
       "1       -0.174 +/- 0.148  \n",
       "2       -0.701 +/- 0.059  \n",
       "3       -0.707 +/- 0.017  \n",
       "4       -0.718 +/- 0.025  \n",
       "5       -0.458 +/- 0.598  \n",
       "6       -0.603 +/- 0.215  \n",
       "7       -0.344 +/- 0.146  \n",
       "8       -0.315 +/- 0.095  \n",
       "9       -0.584 +/- 0.177  \n",
       "10      -0.602 +/- 0.219  \n",
       "11      -0.345 +/- 0.146  \n",
       "12      -0.330 +/- 0.129  \n",
       "13      -0.571 +/- 0.220  \n",
       "14      -0.576 +/- 0.035  \n",
       "15      -0.627 +/- 0.039  \n",
       "16      -0.695 +/- 0.000  \n",
       "17      -0.695 +/- 0.000  \n",
       "18      -0.695 +/- 0.000  \n",
       "19      -0.695 +/- 0.000  \n",
       "20      -0.695 +/- 0.000  \n",
       "21      -0.509 +/- 0.153  \n",
       "22      -0.653 +/- 0.024  \n",
       "23      -0.695 +/- 0.000  \n",
       "24      -0.695 +/- 0.000  \n",
       "25      -0.695 +/- 0.000  \n",
       "26      -0.695 +/- 0.000  \n",
       "27      -0.695 +/- 0.000  "
      ]
     },
     "metadata": {},
     "output_type": "display_data"
    },
    {
     "data": {
      "text/markdown": [
       "# Results for Recall"
      ],
      "text/plain": [
       "<IPython.core.display.Markdown object>"
      ]
     },
     "metadata": {},
     "output_type": "display_data"
    },
    {
     "data": {
      "text/html": [
       "<div>\n",
       "<table border=\"1\" class=\"dataframe\">\n",
       "  <thead>\n",
       "    <tr style=\"text-align: right;\">\n",
       "      <th></th>\n",
       "      <th>Experiment</th>\n",
       "      <th>Transfer Learning</th>\n",
       "      <th>Transfer Learning with Revision Theory</th>\n",
       "      <th>Learning from scratch</th>\n",
       "    </tr>\n",
       "  </thead>\n",
       "  <tbody>\n",
       "    <tr>\n",
       "      <th>0</th>\n",
       "      <td>1_imdb_uwcse</td>\n",
       "      <td>1.000 +/- 0.000</td>\n",
       "      <td>0.992 +/- 0.020</td>\n",
       "      <td>0.984 +/- 0.043</td>\n",
       "    </tr>\n",
       "    <tr>\n",
       "      <th>1</th>\n",
       "      <td>2_uwcse_imdb</td>\n",
       "      <td>1.000 +/- 0.000</td>\n",
       "      <td>1.000 +/- 0.000</td>\n",
       "      <td>1.000 +/- 0.000</td>\n",
       "    </tr>\n",
       "    <tr>\n",
       "      <th>2</th>\n",
       "      <td>3_imdb_uwcse</td>\n",
       "      <td>0.543 +/- 0.543</td>\n",
       "      <td>0.508 +/- 0.133</td>\n",
       "      <td>0.494 +/- 0.126</td>\n",
       "    </tr>\n",
       "    <tr>\n",
       "      <th>3</th>\n",
       "      <td>4_uwcse_imdb</td>\n",
       "      <td>0.039 +/- 0.102</td>\n",
       "      <td>0.298 +/- 0.432</td>\n",
       "      <td>0.285 +/- 0.394</td>\n",
       "    </tr>\n",
       "    <tr>\n",
       "      <th>4</th>\n",
       "      <td>5_imdb_uwcse</td>\n",
       "      <td>0.000 +/- 0.000</td>\n",
       "      <td>0.451 +/- 0.169</td>\n",
       "      <td>0.407 +/- 0.163</td>\n",
       "    </tr>\n",
       "    <tr>\n",
       "      <th>5</th>\n",
       "      <td>6_uwcse_imdb</td>\n",
       "      <td>1.000 +/- 0.000</td>\n",
       "      <td>1.000 +/- 0.000</td>\n",
       "      <td>0.800 +/- 0.800</td>\n",
       "    </tr>\n",
       "    <tr>\n",
       "      <th>6</th>\n",
       "      <td>7_imdb_cora</td>\n",
       "      <td>0.768 +/- 0.769</td>\n",
       "      <td>0.758 +/- 0.706</td>\n",
       "      <td>0.773 +/- 0.670</td>\n",
       "    </tr>\n",
       "    <tr>\n",
       "      <th>7</th>\n",
       "      <td>8_imdb_cora</td>\n",
       "      <td>0.727 +/- 0.556</td>\n",
       "      <td>0.894 +/- 0.082</td>\n",
       "      <td>0.899 +/- 0.078</td>\n",
       "    </tr>\n",
       "    <tr>\n",
       "      <th>8</th>\n",
       "      <td>9_imdb_cora</td>\n",
       "      <td>1.000 +/- 0.000</td>\n",
       "      <td>0.979 +/- 0.084</td>\n",
       "      <td>0.978 +/- 0.088</td>\n",
       "    </tr>\n",
       "    <tr>\n",
       "      <th>9</th>\n",
       "      <td>10_imdb_cora</td>\n",
       "      <td>0.400 +/- 0.980</td>\n",
       "      <td>0.702 +/- 0.554</td>\n",
       "      <td>0.701 +/- 0.552</td>\n",
       "    </tr>\n",
       "    <tr>\n",
       "      <th>10</th>\n",
       "      <td>11_uwcse_cora</td>\n",
       "      <td>0.579 +/- 0.947</td>\n",
       "      <td>0.753 +/- 0.681</td>\n",
       "      <td>0.761 +/- 0.688</td>\n",
       "    </tr>\n",
       "    <tr>\n",
       "      <th>11</th>\n",
       "      <td>12_uwcse_cora</td>\n",
       "      <td>0.879 +/- 0.122</td>\n",
       "      <td>0.895 +/- 0.081</td>\n",
       "      <td>0.899 +/- 0.078</td>\n",
       "    </tr>\n",
       "    <tr>\n",
       "      <th>12</th>\n",
       "      <td>13_uwcse_cora</td>\n",
       "      <td>1.000 +/- 0.000</td>\n",
       "      <td>0.967 +/- 0.131</td>\n",
       "      <td>0.963 +/- 0.147</td>\n",
       "    </tr>\n",
       "    <tr>\n",
       "      <th>13</th>\n",
       "      <td>14_uwcse_cora</td>\n",
       "      <td>0.400 +/- 0.980</td>\n",
       "      <td>0.700 +/- 0.555</td>\n",
       "      <td>0.702 +/- 0.551</td>\n",
       "    </tr>\n",
       "    <tr>\n",
       "      <th>14</th>\n",
       "      <td>15_yeast_twitter</td>\n",
       "      <td>0.435 +/- 0.092</td>\n",
       "      <td>0.788 +/- 0.154</td>\n",
       "      <td>0.764 +/- 0.155</td>\n",
       "    </tr>\n",
       "    <tr>\n",
       "      <th>15</th>\n",
       "      <td>16_yeast_twitter</td>\n",
       "      <td>0.513 +/- 0.034</td>\n",
       "      <td>0.513 +/- 0.034</td>\n",
       "      <td>0.514 +/- 0.031</td>\n",
       "    </tr>\n",
       "    <tr>\n",
       "      <th>16</th>\n",
       "      <td>17_yeast_twitter</td>\n",
       "      <td>0.000 +/- 0.000</td>\n",
       "      <td>0.000 +/- 0.000</td>\n",
       "      <td>0.000 +/- 0.000</td>\n",
       "    </tr>\n",
       "    <tr>\n",
       "      <th>17</th>\n",
       "      <td>18_yeast_twitter</td>\n",
       "      <td>0.000 +/- 0.000</td>\n",
       "      <td>0.000 +/- 0.000</td>\n",
       "      <td>0.000 +/- 0.000</td>\n",
       "    </tr>\n",
       "    <tr>\n",
       "      <th>18</th>\n",
       "      <td>19_yeast_twitter</td>\n",
       "      <td>0.000 +/- 0.000</td>\n",
       "      <td>0.000 +/- 0.000</td>\n",
       "      <td>0.000 +/- 0.000</td>\n",
       "    </tr>\n",
       "    <tr>\n",
       "      <th>19</th>\n",
       "      <td>20_yeast_twitter</td>\n",
       "      <td>0.000 +/- 0.000</td>\n",
       "      <td>0.000 +/- 0.000</td>\n",
       "      <td>0.000 +/- 0.000</td>\n",
       "    </tr>\n",
       "    <tr>\n",
       "      <th>20</th>\n",
       "      <td>21_yeast_twitter</td>\n",
       "      <td>0.000 +/- 0.000</td>\n",
       "      <td>0.000 +/- 0.000</td>\n",
       "      <td>0.000 +/- 0.000</td>\n",
       "    </tr>\n",
       "    <tr>\n",
       "      <th>21</th>\n",
       "      <td>22_twitter_yeast</td>\n",
       "      <td>0.583 +/- 0.027</td>\n",
       "      <td>0.587 +/- 0.047</td>\n",
       "      <td>0.561 +/- 0.267</td>\n",
       "    </tr>\n",
       "    <tr>\n",
       "      <th>22</th>\n",
       "      <td>23_twitter_yeast</td>\n",
       "      <td>0.519 +/- 0.173</td>\n",
       "      <td>0.520 +/- 0.179</td>\n",
       "      <td>0.466 +/- 0.184</td>\n",
       "    </tr>\n",
       "    <tr>\n",
       "      <th>23</th>\n",
       "      <td>24_twitter_yeast</td>\n",
       "      <td>0.000 +/- 0.000</td>\n",
       "      <td>0.000 +/- 0.000</td>\n",
       "      <td>0.000 +/- 0.000</td>\n",
       "    </tr>\n",
       "    <tr>\n",
       "      <th>24</th>\n",
       "      <td>25_twitter_yeast</td>\n",
       "      <td>0.000 +/- 0.000</td>\n",
       "      <td>0.000 +/- 0.000</td>\n",
       "      <td>0.000 +/- 0.000</td>\n",
       "    </tr>\n",
       "    <tr>\n",
       "      <th>25</th>\n",
       "      <td>26_twitter_yeast</td>\n",
       "      <td>0.000 +/- 0.000</td>\n",
       "      <td>0.000 +/- 0.000</td>\n",
       "      <td>0.000 +/- 0.000</td>\n",
       "    </tr>\n",
       "    <tr>\n",
       "      <th>26</th>\n",
       "      <td>27_twitter_yeast</td>\n",
       "      <td>0.000 +/- 0.000</td>\n",
       "      <td>0.000 +/- 0.000</td>\n",
       "      <td>0.000 +/- 0.000</td>\n",
       "    </tr>\n",
       "    <tr>\n",
       "      <th>27</th>\n",
       "      <td>28_twitter_yeast</td>\n",
       "      <td>0.000 +/- 0.000</td>\n",
       "      <td>0.000 +/- 0.000</td>\n",
       "      <td>0.000 +/- 0.000</td>\n",
       "    </tr>\n",
       "  </tbody>\n",
       "</table>\n",
       "</div>"
      ],
      "text/plain": [
       "          Experiment Transfer Learning Transfer Learning with Revision Theory  \\\n",
       "0       1_imdb_uwcse   1.000 +/- 0.000                        0.992 +/- 0.020   \n",
       "1       2_uwcse_imdb   1.000 +/- 0.000                        1.000 +/- 0.000   \n",
       "2       3_imdb_uwcse   0.543 +/- 0.543                        0.508 +/- 0.133   \n",
       "3       4_uwcse_imdb   0.039 +/- 0.102                        0.298 +/- 0.432   \n",
       "4       5_imdb_uwcse   0.000 +/- 0.000                        0.451 +/- 0.169   \n",
       "5       6_uwcse_imdb   1.000 +/- 0.000                        1.000 +/- 0.000   \n",
       "6        7_imdb_cora   0.768 +/- 0.769                        0.758 +/- 0.706   \n",
       "7        8_imdb_cora   0.727 +/- 0.556                        0.894 +/- 0.082   \n",
       "8        9_imdb_cora   1.000 +/- 0.000                        0.979 +/- 0.084   \n",
       "9       10_imdb_cora   0.400 +/- 0.980                        0.702 +/- 0.554   \n",
       "10     11_uwcse_cora   0.579 +/- 0.947                        0.753 +/- 0.681   \n",
       "11     12_uwcse_cora   0.879 +/- 0.122                        0.895 +/- 0.081   \n",
       "12     13_uwcse_cora   1.000 +/- 0.000                        0.967 +/- 0.131   \n",
       "13     14_uwcse_cora   0.400 +/- 0.980                        0.700 +/- 0.555   \n",
       "14  15_yeast_twitter   0.435 +/- 0.092                        0.788 +/- 0.154   \n",
       "15  16_yeast_twitter   0.513 +/- 0.034                        0.513 +/- 0.034   \n",
       "16  17_yeast_twitter   0.000 +/- 0.000                        0.000 +/- 0.000   \n",
       "17  18_yeast_twitter   0.000 +/- 0.000                        0.000 +/- 0.000   \n",
       "18  19_yeast_twitter   0.000 +/- 0.000                        0.000 +/- 0.000   \n",
       "19  20_yeast_twitter   0.000 +/- 0.000                        0.000 +/- 0.000   \n",
       "20  21_yeast_twitter   0.000 +/- 0.000                        0.000 +/- 0.000   \n",
       "21  22_twitter_yeast   0.583 +/- 0.027                        0.587 +/- 0.047   \n",
       "22  23_twitter_yeast   0.519 +/- 0.173                        0.520 +/- 0.179   \n",
       "23  24_twitter_yeast   0.000 +/- 0.000                        0.000 +/- 0.000   \n",
       "24  25_twitter_yeast   0.000 +/- 0.000                        0.000 +/- 0.000   \n",
       "25  26_twitter_yeast   0.000 +/- 0.000                        0.000 +/- 0.000   \n",
       "26  27_twitter_yeast   0.000 +/- 0.000                        0.000 +/- 0.000   \n",
       "27  28_twitter_yeast   0.000 +/- 0.000                        0.000 +/- 0.000   \n",
       "\n",
       "   Learning from scratch  \n",
       "0        0.984 +/- 0.043  \n",
       "1        1.000 +/- 0.000  \n",
       "2        0.494 +/- 0.126  \n",
       "3        0.285 +/- 0.394  \n",
       "4        0.407 +/- 0.163  \n",
       "5        0.800 +/- 0.800  \n",
       "6        0.773 +/- 0.670  \n",
       "7        0.899 +/- 0.078  \n",
       "8        0.978 +/- 0.088  \n",
       "9        0.701 +/- 0.552  \n",
       "10       0.761 +/- 0.688  \n",
       "11       0.899 +/- 0.078  \n",
       "12       0.963 +/- 0.147  \n",
       "13       0.702 +/- 0.551  \n",
       "14       0.764 +/- 0.155  \n",
       "15       0.514 +/- 0.031  \n",
       "16       0.000 +/- 0.000  \n",
       "17       0.000 +/- 0.000  \n",
       "18       0.000 +/- 0.000  \n",
       "19       0.000 +/- 0.000  \n",
       "20       0.000 +/- 0.000  \n",
       "21       0.561 +/- 0.267  \n",
       "22       0.466 +/- 0.184  \n",
       "23       0.000 +/- 0.000  \n",
       "24       0.000 +/- 0.000  \n",
       "25       0.000 +/- 0.000  \n",
       "26       0.000 +/- 0.000  \n",
       "27       0.000 +/- 0.000  "
      ]
     },
     "metadata": {},
     "output_type": "display_data"
    },
    {
     "data": {
      "text/markdown": [
       "# Results for F1"
      ],
      "text/plain": [
       "<IPython.core.display.Markdown object>"
      ]
     },
     "metadata": {},
     "output_type": "display_data"
    },
    {
     "data": {
      "text/html": [
       "<div>\n",
       "<table border=\"1\" class=\"dataframe\">\n",
       "  <thead>\n",
       "    <tr style=\"text-align: right;\">\n",
       "      <th></th>\n",
       "      <th>Experiment</th>\n",
       "      <th>Transfer Learning</th>\n",
       "      <th>Transfer Learning with Revision Theory</th>\n",
       "      <th>Learning from scratch</th>\n",
       "    </tr>\n",
       "  </thead>\n",
       "  <tbody>\n",
       "    <tr>\n",
       "      <th>0</th>\n",
       "      <td>1_imdb_uwcse</td>\n",
       "      <td>0.942 +/- 0.004</td>\n",
       "      <td>0.941 +/- 0.008</td>\n",
       "      <td>0.930 +/- 0.024</td>\n",
       "    </tr>\n",
       "    <tr>\n",
       "      <th>1</th>\n",
       "      <td>2_uwcse_imdb</td>\n",
       "      <td>1.000 +/- 0.000</td>\n",
       "      <td>1.000 +/- 0.000</td>\n",
       "      <td>0.949 +/- 0.084</td>\n",
       "    </tr>\n",
       "    <tr>\n",
       "      <th>2</th>\n",
       "      <td>3_imdb_uwcse</td>\n",
       "      <td>nan +/- nan</td>\n",
       "      <td>0.554 +/- 0.102</td>\n",
       "      <td>0.546 +/- 0.097</td>\n",
       "    </tr>\n",
       "    <tr>\n",
       "      <th>3</th>\n",
       "      <td>4_uwcse_imdb</td>\n",
       "      <td>nan +/- nan</td>\n",
       "      <td>nan +/- nan</td>\n",
       "      <td>nan +/- nan</td>\n",
       "    </tr>\n",
       "    <tr>\n",
       "      <th>4</th>\n",
       "      <td>5_imdb_uwcse</td>\n",
       "      <td>nan +/- nan</td>\n",
       "      <td>0.469 +/- 0.108</td>\n",
       "      <td>0.443 +/- 0.102</td>\n",
       "    </tr>\n",
       "    <tr>\n",
       "      <th>5</th>\n",
       "      <td>6_uwcse_imdb</td>\n",
       "      <td>0.915 +/- 0.054</td>\n",
       "      <td>0.915 +/- 0.054</td>\n",
       "      <td>nan +/- nan</td>\n",
       "    </tr>\n",
       "    <tr>\n",
       "      <th>6</th>\n",
       "      <td>7_imdb_cora</td>\n",
       "      <td>nan +/- nan</td>\n",
       "      <td>0.608 +/- 0.532</td>\n",
       "      <td>0.660 +/- 0.508</td>\n",
       "    </tr>\n",
       "    <tr>\n",
       "      <th>7</th>\n",
       "      <td>8_imdb_cora</td>\n",
       "      <td>0.706 +/- 0.275</td>\n",
       "      <td>0.891 +/- 0.115</td>\n",
       "      <td>0.892 +/- 0.116</td>\n",
       "    </tr>\n",
       "    <tr>\n",
       "      <th>8</th>\n",
       "      <td>9_imdb_cora</td>\n",
       "      <td>0.971 +/- 0.004</td>\n",
       "      <td>0.961 +/- 0.042</td>\n",
       "      <td>0.952 +/- 0.040</td>\n",
       "    </tr>\n",
       "    <tr>\n",
       "      <th>9</th>\n",
       "      <td>10_imdb_cora</td>\n",
       "      <td>nan +/- nan</td>\n",
       "      <td>0.656 +/- 0.240</td>\n",
       "      <td>0.690 +/- 0.329</td>\n",
       "    </tr>\n",
       "    <tr>\n",
       "      <th>10</th>\n",
       "      <td>11_uwcse_cora</td>\n",
       "      <td>nan +/- nan</td>\n",
       "      <td>0.612 +/- 0.502</td>\n",
       "      <td>0.649 +/- 0.542</td>\n",
       "    </tr>\n",
       "    <tr>\n",
       "      <th>11</th>\n",
       "      <td>12_uwcse_cora</td>\n",
       "      <td>0.875 +/- 0.151</td>\n",
       "      <td>0.891 +/- 0.115</td>\n",
       "      <td>0.892 +/- 0.116</td>\n",
       "    </tr>\n",
       "    <tr>\n",
       "      <th>12</th>\n",
       "      <td>13_uwcse_cora</td>\n",
       "      <td>0.971 +/- 0.004</td>\n",
       "      <td>0.954 +/- 0.068</td>\n",
       "      <td>0.944 +/- 0.072</td>\n",
       "    </tr>\n",
       "    <tr>\n",
       "      <th>13</th>\n",
       "      <td>14_uwcse_cora</td>\n",
       "      <td>nan +/- nan</td>\n",
       "      <td>0.655 +/- 0.244</td>\n",
       "      <td>0.691 +/- 0.327</td>\n",
       "    </tr>\n",
       "    <tr>\n",
       "      <th>14</th>\n",
       "      <td>15_yeast_twitter</td>\n",
       "      <td>0.523 +/- 0.077</td>\n",
       "      <td>0.714 +/- 0.031</td>\n",
       "      <td>0.715 +/- 0.008</td>\n",
       "    </tr>\n",
       "    <tr>\n",
       "      <th>15</th>\n",
       "      <td>16_yeast_twitter</td>\n",
       "      <td>0.612 +/- 0.032</td>\n",
       "      <td>0.612 +/- 0.032</td>\n",
       "      <td>0.612 +/- 0.031</td>\n",
       "    </tr>\n",
       "    <tr>\n",
       "      <th>16</th>\n",
       "      <td>17_yeast_twitter</td>\n",
       "      <td>nan +/- nan</td>\n",
       "      <td>nan +/- nan</td>\n",
       "      <td>nan +/- nan</td>\n",
       "    </tr>\n",
       "    <tr>\n",
       "      <th>17</th>\n",
       "      <td>18_yeast_twitter</td>\n",
       "      <td>nan +/- nan</td>\n",
       "      <td>nan +/- nan</td>\n",
       "      <td>nan +/- nan</td>\n",
       "    </tr>\n",
       "    <tr>\n",
       "      <th>18</th>\n",
       "      <td>19_yeast_twitter</td>\n",
       "      <td>nan +/- nan</td>\n",
       "      <td>nan +/- nan</td>\n",
       "      <td>nan +/- nan</td>\n",
       "    </tr>\n",
       "    <tr>\n",
       "      <th>19</th>\n",
       "      <td>20_yeast_twitter</td>\n",
       "      <td>nan +/- nan</td>\n",
       "      <td>nan +/- nan</td>\n",
       "      <td>nan +/- nan</td>\n",
       "    </tr>\n",
       "    <tr>\n",
       "      <th>20</th>\n",
       "      <td>21_yeast_twitter</td>\n",
       "      <td>nan +/- nan</td>\n",
       "      <td>nan +/- nan</td>\n",
       "      <td>nan +/- nan</td>\n",
       "    </tr>\n",
       "    <tr>\n",
       "      <th>21</th>\n",
       "      <td>22_twitter_yeast</td>\n",
       "      <td>0.715 +/- 0.030</td>\n",
       "      <td>0.718 +/- 0.050</td>\n",
       "      <td>0.689 +/- 0.212</td>\n",
       "    </tr>\n",
       "    <tr>\n",
       "      <th>22</th>\n",
       "      <td>23_twitter_yeast</td>\n",
       "      <td>0.578 +/- 0.071</td>\n",
       "      <td>0.579 +/- 0.073</td>\n",
       "      <td>0.548 +/- 0.126</td>\n",
       "    </tr>\n",
       "    <tr>\n",
       "      <th>23</th>\n",
       "      <td>24_twitter_yeast</td>\n",
       "      <td>nan +/- nan</td>\n",
       "      <td>nan +/- nan</td>\n",
       "      <td>nan +/- nan</td>\n",
       "    </tr>\n",
       "    <tr>\n",
       "      <th>24</th>\n",
       "      <td>25_twitter_yeast</td>\n",
       "      <td>nan +/- nan</td>\n",
       "      <td>nan +/- nan</td>\n",
       "      <td>nan +/- nan</td>\n",
       "    </tr>\n",
       "    <tr>\n",
       "      <th>25</th>\n",
       "      <td>26_twitter_yeast</td>\n",
       "      <td>nan +/- nan</td>\n",
       "      <td>nan +/- nan</td>\n",
       "      <td>nan +/- nan</td>\n",
       "    </tr>\n",
       "    <tr>\n",
       "      <th>26</th>\n",
       "      <td>27_twitter_yeast</td>\n",
       "      <td>nan +/- nan</td>\n",
       "      <td>nan +/- nan</td>\n",
       "      <td>nan +/- nan</td>\n",
       "    </tr>\n",
       "    <tr>\n",
       "      <th>27</th>\n",
       "      <td>28_twitter_yeast</td>\n",
       "      <td>nan +/- nan</td>\n",
       "      <td>nan +/- nan</td>\n",
       "      <td>nan +/- nan</td>\n",
       "    </tr>\n",
       "  </tbody>\n",
       "</table>\n",
       "</div>"
      ],
      "text/plain": [
       "          Experiment Transfer Learning Transfer Learning with Revision Theory  \\\n",
       "0       1_imdb_uwcse   0.942 +/- 0.004                        0.941 +/- 0.008   \n",
       "1       2_uwcse_imdb   1.000 +/- 0.000                        1.000 +/- 0.000   \n",
       "2       3_imdb_uwcse       nan +/- nan                        0.554 +/- 0.102   \n",
       "3       4_uwcse_imdb       nan +/- nan                            nan +/- nan   \n",
       "4       5_imdb_uwcse       nan +/- nan                        0.469 +/- 0.108   \n",
       "5       6_uwcse_imdb   0.915 +/- 0.054                        0.915 +/- 0.054   \n",
       "6        7_imdb_cora       nan +/- nan                        0.608 +/- 0.532   \n",
       "7        8_imdb_cora   0.706 +/- 0.275                        0.891 +/- 0.115   \n",
       "8        9_imdb_cora   0.971 +/- 0.004                        0.961 +/- 0.042   \n",
       "9       10_imdb_cora       nan +/- nan                        0.656 +/- 0.240   \n",
       "10     11_uwcse_cora       nan +/- nan                        0.612 +/- 0.502   \n",
       "11     12_uwcse_cora   0.875 +/- 0.151                        0.891 +/- 0.115   \n",
       "12     13_uwcse_cora   0.971 +/- 0.004                        0.954 +/- 0.068   \n",
       "13     14_uwcse_cora       nan +/- nan                        0.655 +/- 0.244   \n",
       "14  15_yeast_twitter   0.523 +/- 0.077                        0.714 +/- 0.031   \n",
       "15  16_yeast_twitter   0.612 +/- 0.032                        0.612 +/- 0.032   \n",
       "16  17_yeast_twitter       nan +/- nan                            nan +/- nan   \n",
       "17  18_yeast_twitter       nan +/- nan                            nan +/- nan   \n",
       "18  19_yeast_twitter       nan +/- nan                            nan +/- nan   \n",
       "19  20_yeast_twitter       nan +/- nan                            nan +/- nan   \n",
       "20  21_yeast_twitter       nan +/- nan                            nan +/- nan   \n",
       "21  22_twitter_yeast   0.715 +/- 0.030                        0.718 +/- 0.050   \n",
       "22  23_twitter_yeast   0.578 +/- 0.071                        0.579 +/- 0.073   \n",
       "23  24_twitter_yeast       nan +/- nan                            nan +/- nan   \n",
       "24  25_twitter_yeast       nan +/- nan                            nan +/- nan   \n",
       "25  26_twitter_yeast       nan +/- nan                            nan +/- nan   \n",
       "26  27_twitter_yeast       nan +/- nan                            nan +/- nan   \n",
       "27  28_twitter_yeast       nan +/- nan                            nan +/- nan   \n",
       "\n",
       "   Learning from scratch  \n",
       "0        0.930 +/- 0.024  \n",
       "1        0.949 +/- 0.084  \n",
       "2        0.546 +/- 0.097  \n",
       "3            nan +/- nan  \n",
       "4        0.443 +/- 0.102  \n",
       "5            nan +/- nan  \n",
       "6        0.660 +/- 0.508  \n",
       "7        0.892 +/- 0.116  \n",
       "8        0.952 +/- 0.040  \n",
       "9        0.690 +/- 0.329  \n",
       "10       0.649 +/- 0.542  \n",
       "11       0.892 +/- 0.116  \n",
       "12       0.944 +/- 0.072  \n",
       "13       0.691 +/- 0.327  \n",
       "14       0.715 +/- 0.008  \n",
       "15       0.612 +/- 0.031  \n",
       "16           nan +/- nan  \n",
       "17           nan +/- nan  \n",
       "18           nan +/- nan  \n",
       "19           nan +/- nan  \n",
       "20           nan +/- nan  \n",
       "21       0.689 +/- 0.212  \n",
       "22       0.548 +/- 0.126  \n",
       "23           nan +/- nan  \n",
       "24           nan +/- nan  \n",
       "25           nan +/- nan  \n",
       "26           nan +/- nan  \n",
       "27           nan +/- nan  "
      ]
     },
     "metadata": {},
     "output_type": "display_data"
    },
    {
     "data": {
      "text/markdown": [
       "# Results for Precision"
      ],
      "text/plain": [
       "<IPython.core.display.Markdown object>"
      ]
     },
     "metadata": {},
     "output_type": "display_data"
    },
    {
     "data": {
      "text/html": [
       "<div>\n",
       "<table border=\"1\" class=\"dataframe\">\n",
       "  <thead>\n",
       "    <tr style=\"text-align: right;\">\n",
       "      <th></th>\n",
       "      <th>Experiment</th>\n",
       "      <th>Transfer Learning</th>\n",
       "      <th>Transfer Learning with Revision Theory</th>\n",
       "      <th>Learning from scratch</th>\n",
       "    </tr>\n",
       "  </thead>\n",
       "  <tbody>\n",
       "    <tr>\n",
       "      <th>0</th>\n",
       "      <td>1_imdb_uwcse</td>\n",
       "      <td>0.889 +/- 0.008</td>\n",
       "      <td>0.895 +/- 0.014</td>\n",
       "      <td>0.882 +/- 0.052</td>\n",
       "    </tr>\n",
       "    <tr>\n",
       "      <th>1</th>\n",
       "      <td>2_uwcse_imdb</td>\n",
       "      <td>1.000 +/- 0.000</td>\n",
       "      <td>1.000 +/- 0.000</td>\n",
       "      <td>0.905 +/- 0.155</td>\n",
       "    </tr>\n",
       "    <tr>\n",
       "      <th>2</th>\n",
       "      <td>3_imdb_uwcse</td>\n",
       "      <td>nan +/- nan</td>\n",
       "      <td>0.618 +/- 0.114</td>\n",
       "      <td>0.618 +/- 0.111</td>\n",
       "    </tr>\n",
       "    <tr>\n",
       "      <th>3</th>\n",
       "      <td>4_uwcse_imdb</td>\n",
       "      <td>nan +/- nan</td>\n",
       "      <td>nan +/- nan</td>\n",
       "      <td>nan +/- nan</td>\n",
       "    </tr>\n",
       "    <tr>\n",
       "      <th>4</th>\n",
       "      <td>5_imdb_uwcse</td>\n",
       "      <td>nan +/- nan</td>\n",
       "      <td>0.500 +/- 0.009</td>\n",
       "      <td>0.499 +/- 0.019</td>\n",
       "    </tr>\n",
       "    <tr>\n",
       "      <th>5</th>\n",
       "      <td>6_uwcse_imdb</td>\n",
       "      <td>0.845 +/- 0.095</td>\n",
       "      <td>0.845 +/- 0.095</td>\n",
       "      <td>nan +/- nan</td>\n",
       "    </tr>\n",
       "    <tr>\n",
       "      <th>6</th>\n",
       "      <td>7_imdb_cora</td>\n",
       "      <td>nan +/- nan</td>\n",
       "      <td>0.603 +/- 0.233</td>\n",
       "      <td>0.674 +/- 0.251</td>\n",
       "    </tr>\n",
       "    <tr>\n",
       "      <th>7</th>\n",
       "      <td>8_imdb_cora</td>\n",
       "      <td>0.822 +/- 0.367</td>\n",
       "      <td>0.906 +/- 0.260</td>\n",
       "      <td>0.903 +/- 0.257</td>\n",
       "    </tr>\n",
       "    <tr>\n",
       "      <th>8</th>\n",
       "      <td>9_imdb_cora</td>\n",
       "      <td>0.944 +/- 0.008</td>\n",
       "      <td>0.944 +/- 0.008</td>\n",
       "      <td>0.930 +/- 0.035</td>\n",
       "    </tr>\n",
       "    <tr>\n",
       "      <th>9</th>\n",
       "      <td>10_imdb_cora</td>\n",
       "      <td>nan +/- nan</td>\n",
       "      <td>0.722 +/- 0.218</td>\n",
       "      <td>0.783 +/- 0.272</td>\n",
       "    </tr>\n",
       "    <tr>\n",
       "      <th>10</th>\n",
       "      <td>11_uwcse_cora</td>\n",
       "      <td>nan +/- nan</td>\n",
       "      <td>0.610 +/- 0.224</td>\n",
       "      <td>0.674 +/- 0.251</td>\n",
       "    </tr>\n",
       "    <tr>\n",
       "      <th>11</th>\n",
       "      <td>12_uwcse_cora</td>\n",
       "      <td>0.902 +/- 0.335</td>\n",
       "      <td>0.904 +/- 0.258</td>\n",
       "      <td>0.903 +/- 0.257</td>\n",
       "    </tr>\n",
       "    <tr>\n",
       "      <th>12</th>\n",
       "      <td>13_uwcse_cora</td>\n",
       "      <td>0.944 +/- 0.008</td>\n",
       "      <td>0.944 +/- 0.008</td>\n",
       "      <td>0.929 +/- 0.035</td>\n",
       "    </tr>\n",
       "    <tr>\n",
       "      <th>13</th>\n",
       "      <td>14_uwcse_cora</td>\n",
       "      <td>nan +/- nan</td>\n",
       "      <td>0.724 +/- 0.217</td>\n",
       "      <td>0.782 +/- 0.271</td>\n",
       "    </tr>\n",
       "    <tr>\n",
       "      <th>14</th>\n",
       "      <td>15_yeast_twitter</td>\n",
       "      <td>0.660 +/- 0.031</td>\n",
       "      <td>0.658 +/- 0.055</td>\n",
       "      <td>0.683 +/- 0.111</td>\n",
       "    </tr>\n",
       "    <tr>\n",
       "      <th>15</th>\n",
       "      <td>16_yeast_twitter</td>\n",
       "      <td>0.757 +/- 0.026</td>\n",
       "      <td>0.757 +/- 0.026</td>\n",
       "      <td>0.756 +/- 0.028</td>\n",
       "    </tr>\n",
       "    <tr>\n",
       "      <th>16</th>\n",
       "      <td>17_yeast_twitter</td>\n",
       "      <td>nan +/- nan</td>\n",
       "      <td>nan +/- nan</td>\n",
       "      <td>nan +/- nan</td>\n",
       "    </tr>\n",
       "    <tr>\n",
       "      <th>17</th>\n",
       "      <td>18_yeast_twitter</td>\n",
       "      <td>nan +/- nan</td>\n",
       "      <td>nan +/- nan</td>\n",
       "      <td>nan +/- nan</td>\n",
       "    </tr>\n",
       "    <tr>\n",
       "      <th>18</th>\n",
       "      <td>19_yeast_twitter</td>\n",
       "      <td>nan +/- nan</td>\n",
       "      <td>nan +/- nan</td>\n",
       "      <td>nan +/- nan</td>\n",
       "    </tr>\n",
       "    <tr>\n",
       "      <th>19</th>\n",
       "      <td>20_yeast_twitter</td>\n",
       "      <td>nan +/- nan</td>\n",
       "      <td>nan +/- nan</td>\n",
       "      <td>nan +/- nan</td>\n",
       "    </tr>\n",
       "    <tr>\n",
       "      <th>20</th>\n",
       "      <td>21_yeast_twitter</td>\n",
       "      <td>nan +/- nan</td>\n",
       "      <td>nan +/- nan</td>\n",
       "      <td>nan +/- nan</td>\n",
       "    </tr>\n",
       "    <tr>\n",
       "      <th>21</th>\n",
       "      <td>22_twitter_yeast</td>\n",
       "      <td>0.926 +/- 0.036</td>\n",
       "      <td>0.925 +/- 0.048</td>\n",
       "      <td>0.923 +/- 0.059</td>\n",
       "    </tr>\n",
       "    <tr>\n",
       "      <th>22</th>\n",
       "      <td>23_twitter_yeast</td>\n",
       "      <td>0.669 +/- 0.069</td>\n",
       "      <td>0.672 +/- 0.074</td>\n",
       "      <td>0.682 +/- 0.029</td>\n",
       "    </tr>\n",
       "    <tr>\n",
       "      <th>23</th>\n",
       "      <td>24_twitter_yeast</td>\n",
       "      <td>nan +/- nan</td>\n",
       "      <td>nan +/- nan</td>\n",
       "      <td>nan +/- nan</td>\n",
       "    </tr>\n",
       "    <tr>\n",
       "      <th>24</th>\n",
       "      <td>25_twitter_yeast</td>\n",
       "      <td>nan +/- nan</td>\n",
       "      <td>nan +/- nan</td>\n",
       "      <td>nan +/- nan</td>\n",
       "    </tr>\n",
       "    <tr>\n",
       "      <th>25</th>\n",
       "      <td>26_twitter_yeast</td>\n",
       "      <td>nan +/- nan</td>\n",
       "      <td>nan +/- nan</td>\n",
       "      <td>nan +/- nan</td>\n",
       "    </tr>\n",
       "    <tr>\n",
       "      <th>26</th>\n",
       "      <td>27_twitter_yeast</td>\n",
       "      <td>nan +/- nan</td>\n",
       "      <td>nan +/- nan</td>\n",
       "      <td>nan +/- nan</td>\n",
       "    </tr>\n",
       "    <tr>\n",
       "      <th>27</th>\n",
       "      <td>28_twitter_yeast</td>\n",
       "      <td>nan +/- nan</td>\n",
       "      <td>nan +/- nan</td>\n",
       "      <td>nan +/- nan</td>\n",
       "    </tr>\n",
       "  </tbody>\n",
       "</table>\n",
       "</div>"
      ],
      "text/plain": [
       "          Experiment Transfer Learning Transfer Learning with Revision Theory  \\\n",
       "0       1_imdb_uwcse   0.889 +/- 0.008                        0.895 +/- 0.014   \n",
       "1       2_uwcse_imdb   1.000 +/- 0.000                        1.000 +/- 0.000   \n",
       "2       3_imdb_uwcse       nan +/- nan                        0.618 +/- 0.114   \n",
       "3       4_uwcse_imdb       nan +/- nan                            nan +/- nan   \n",
       "4       5_imdb_uwcse       nan +/- nan                        0.500 +/- 0.009   \n",
       "5       6_uwcse_imdb   0.845 +/- 0.095                        0.845 +/- 0.095   \n",
       "6        7_imdb_cora       nan +/- nan                        0.603 +/- 0.233   \n",
       "7        8_imdb_cora   0.822 +/- 0.367                        0.906 +/- 0.260   \n",
       "8        9_imdb_cora   0.944 +/- 0.008                        0.944 +/- 0.008   \n",
       "9       10_imdb_cora       nan +/- nan                        0.722 +/- 0.218   \n",
       "10     11_uwcse_cora       nan +/- nan                        0.610 +/- 0.224   \n",
       "11     12_uwcse_cora   0.902 +/- 0.335                        0.904 +/- 0.258   \n",
       "12     13_uwcse_cora   0.944 +/- 0.008                        0.944 +/- 0.008   \n",
       "13     14_uwcse_cora       nan +/- nan                        0.724 +/- 0.217   \n",
       "14  15_yeast_twitter   0.660 +/- 0.031                        0.658 +/- 0.055   \n",
       "15  16_yeast_twitter   0.757 +/- 0.026                        0.757 +/- 0.026   \n",
       "16  17_yeast_twitter       nan +/- nan                            nan +/- nan   \n",
       "17  18_yeast_twitter       nan +/- nan                            nan +/- nan   \n",
       "18  19_yeast_twitter       nan +/- nan                            nan +/- nan   \n",
       "19  20_yeast_twitter       nan +/- nan                            nan +/- nan   \n",
       "20  21_yeast_twitter       nan +/- nan                            nan +/- nan   \n",
       "21  22_twitter_yeast   0.926 +/- 0.036                        0.925 +/- 0.048   \n",
       "22  23_twitter_yeast   0.669 +/- 0.069                        0.672 +/- 0.074   \n",
       "23  24_twitter_yeast       nan +/- nan                            nan +/- nan   \n",
       "24  25_twitter_yeast       nan +/- nan                            nan +/- nan   \n",
       "25  26_twitter_yeast       nan +/- nan                            nan +/- nan   \n",
       "26  27_twitter_yeast       nan +/- nan                            nan +/- nan   \n",
       "27  28_twitter_yeast       nan +/- nan                            nan +/- nan   \n",
       "\n",
       "   Learning from scratch  \n",
       "0        0.882 +/- 0.052  \n",
       "1        0.905 +/- 0.155  \n",
       "2        0.618 +/- 0.111  \n",
       "3            nan +/- nan  \n",
       "4        0.499 +/- 0.019  \n",
       "5            nan +/- nan  \n",
       "6        0.674 +/- 0.251  \n",
       "7        0.903 +/- 0.257  \n",
       "8        0.930 +/- 0.035  \n",
       "9        0.783 +/- 0.272  \n",
       "10       0.674 +/- 0.251  \n",
       "11       0.903 +/- 0.257  \n",
       "12       0.929 +/- 0.035  \n",
       "13       0.782 +/- 0.271  \n",
       "14       0.683 +/- 0.111  \n",
       "15       0.756 +/- 0.028  \n",
       "16           nan +/- nan  \n",
       "17           nan +/- nan  \n",
       "18           nan +/- nan  \n",
       "19           nan +/- nan  \n",
       "20           nan +/- nan  \n",
       "21       0.923 +/- 0.059  \n",
       "22       0.682 +/- 0.029  \n",
       "23           nan +/- nan  \n",
       "24           nan +/- nan  \n",
       "25           nan +/- nan  \n",
       "26           nan +/- nan  \n",
       "27           nan +/- nan  "
      ]
     },
     "metadata": {},
     "output_type": "display_data"
    },
    {
     "data": {
      "text/markdown": [
       "# Results for Learning and Revision time"
      ],
      "text/plain": [
       "<IPython.core.display.Markdown object>"
      ]
     },
     "metadata": {},
     "output_type": "display_data"
    },
    {
     "data": {
      "text/html": [
       "<div>\n",
       "<table border=\"1\" class=\"dataframe\">\n",
       "  <thead>\n",
       "    <tr style=\"text-align: right;\">\n",
       "      <th></th>\n",
       "      <th>Experiment</th>\n",
       "      <th>Transfer Learning</th>\n",
       "      <th>Transfer Learning with Revision Theory</th>\n",
       "      <th>Learning from scratch</th>\n",
       "    </tr>\n",
       "  </thead>\n",
       "  <tbody>\n",
       "    <tr>\n",
       "      <th>0</th>\n",
       "      <td>1_imdb_uwcse</td>\n",
       "      <td>3.491 +/- 2.285</td>\n",
       "      <td>8.312 +/- 6.245</td>\n",
       "      <td>5.540 +/- 4.090</td>\n",
       "    </tr>\n",
       "    <tr>\n",
       "      <th>1</th>\n",
       "      <td>2_uwcse_imdb</td>\n",
       "      <td>2.135 +/- 2.042</td>\n",
       "      <td>4.392 +/- 3.867</td>\n",
       "      <td>2.479 +/- 1.407</td>\n",
       "    </tr>\n",
       "    <tr>\n",
       "      <th>2</th>\n",
       "      <td>3_imdb_uwcse</td>\n",
       "      <td>9.211 +/- 16.222</td>\n",
       "      <td>25.251 +/- 42.025</td>\n",
       "      <td>18.635 +/- 27.361</td>\n",
       "    </tr>\n",
       "    <tr>\n",
       "      <th>3</th>\n",
       "      <td>4_uwcse_imdb</td>\n",
       "      <td>1.521 +/- 0.452</td>\n",
       "      <td>4.563 +/- 2.177</td>\n",
       "      <td>1.890 +/- 0.479</td>\n",
       "    </tr>\n",
       "    <tr>\n",
       "      <th>4</th>\n",
       "      <td>5_imdb_uwcse</td>\n",
       "      <td>4.063 +/- 3.638</td>\n",
       "      <td>15.342 +/- 9.945</td>\n",
       "      <td>10.989 +/- 7.418</td>\n",
       "    </tr>\n",
       "    <tr>\n",
       "      <th>5</th>\n",
       "      <td>6_uwcse_imdb</td>\n",
       "      <td>1.041 +/- 0.409</td>\n",
       "      <td>2.107 +/- 1.146</td>\n",
       "      <td>1.192 +/- 0.604</td>\n",
       "    </tr>\n",
       "    <tr>\n",
       "      <th>6</th>\n",
       "      <td>7_imdb_cora</td>\n",
       "      <td>67.706 +/- 102.821</td>\n",
       "      <td>197.865 +/- 259.196</td>\n",
       "      <td>162.324 +/- 123.765</td>\n",
       "    </tr>\n",
       "    <tr>\n",
       "      <th>7</th>\n",
       "      <td>8_imdb_cora</td>\n",
       "      <td>121.834 +/- 98.690</td>\n",
       "      <td>330.410 +/- 321.972</td>\n",
       "      <td>225.673 +/- 195.755</td>\n",
       "    </tr>\n",
       "    <tr>\n",
       "      <th>8</th>\n",
       "      <td>9_imdb_cora</td>\n",
       "      <td>3.910 +/- 1.723</td>\n",
       "      <td>12.307 +/- 6.040</td>\n",
       "      <td>8.387 +/- 3.911</td>\n",
       "    </tr>\n",
       "    <tr>\n",
       "      <th>9</th>\n",
       "      <td>10_imdb_cora</td>\n",
       "      <td>5.638 +/- 4.162</td>\n",
       "      <td>85.507 +/- 247.698</td>\n",
       "      <td>27.506 +/- 56.096</td>\n",
       "    </tr>\n",
       "    <tr>\n",
       "      <th>10</th>\n",
       "      <td>11_uwcse_cora</td>\n",
       "      <td>74.707 +/- 103.921</td>\n",
       "      <td>277.941 +/- 252.899</td>\n",
       "      <td>154.122 +/- 127.889</td>\n",
       "    </tr>\n",
       "    <tr>\n",
       "      <th>11</th>\n",
       "      <td>12_uwcse_cora</td>\n",
       "      <td>154.624 +/- 71.955</td>\n",
       "      <td>396.853 +/- 309.125</td>\n",
       "      <td>222.182 +/- 212.034</td>\n",
       "    </tr>\n",
       "    <tr>\n",
       "      <th>12</th>\n",
       "      <td>13_uwcse_cora</td>\n",
       "      <td>4.694 +/- 2.067</td>\n",
       "      <td>13.074 +/- 5.624</td>\n",
       "      <td>8.428 +/- 4.264</td>\n",
       "    </tr>\n",
       "    <tr>\n",
       "      <th>13</th>\n",
       "      <td>14_uwcse_cora</td>\n",
       "      <td>7.943 +/- 4.756</td>\n",
       "      <td>128.440 +/- 262.706</td>\n",
       "      <td>32.012 +/- 67.738</td>\n",
       "    </tr>\n",
       "    <tr>\n",
       "      <th>14</th>\n",
       "      <td>15_yeast_twitter</td>\n",
       "      <td>13.999 +/- 4.212</td>\n",
       "      <td>42.308 +/- 6.398</td>\n",
       "      <td>36.581 +/- 6.607</td>\n",
       "    </tr>\n",
       "    <tr>\n",
       "      <th>15</th>\n",
       "      <td>16_yeast_twitter</td>\n",
       "      <td>28.658 +/- 5.712</td>\n",
       "      <td>56.361 +/- 0.034</td>\n",
       "      <td>46.660 +/- 5.107</td>\n",
       "    </tr>\n",
       "    <tr>\n",
       "      <th>16</th>\n",
       "      <td>17_yeast_twitter</td>\n",
       "      <td>131.528 +/- 58.100</td>\n",
       "      <td>276.586 +/- 121.549</td>\n",
       "      <td>192.596 +/- 30.664</td>\n",
       "    </tr>\n",
       "    <tr>\n",
       "      <th>17</th>\n",
       "      <td>18_yeast_twitter</td>\n",
       "      <td>134.750 +/- 60.091</td>\n",
       "      <td>238.853 +/- 46.522</td>\n",
       "      <td>197.652 +/- 39.621</td>\n",
       "    </tr>\n",
       "    <tr>\n",
       "      <th>18</th>\n",
       "      <td>19_yeast_twitter</td>\n",
       "      <td>98.121 +/- 6.977</td>\n",
       "      <td>246.567 +/- 46.799</td>\n",
       "      <td>207.609 +/- 50.185</td>\n",
       "    </tr>\n",
       "    <tr>\n",
       "      <th>19</th>\n",
       "      <td>20_yeast_twitter</td>\n",
       "      <td>127.461 +/- 49.391</td>\n",
       "      <td>279.547 +/- 95.828</td>\n",
       "      <td>172.172 +/- 2.160</td>\n",
       "    </tr>\n",
       "    <tr>\n",
       "      <th>20</th>\n",
       "      <td>21_yeast_twitter</td>\n",
       "      <td>136.519 +/- 63.605</td>\n",
       "      <td>244.166 +/- 60.667</td>\n",
       "      <td>166.758 +/- 18.546</td>\n",
       "    </tr>\n",
       "    <tr>\n",
       "      <th>21</th>\n",
       "      <td>22_twitter_yeast</td>\n",
       "      <td>5.402 +/- 1.793</td>\n",
       "      <td>14.445 +/- 6.322</td>\n",
       "      <td>11.097 +/- 7.012</td>\n",
       "    </tr>\n",
       "    <tr>\n",
       "      <th>22</th>\n",
       "      <td>23_twitter_yeast</td>\n",
       "      <td>25.936 +/- 21.398</td>\n",
       "      <td>59.637 +/- 50.907</td>\n",
       "      <td>48.241 +/- 36.007</td>\n",
       "    </tr>\n",
       "    <tr>\n",
       "      <th>23</th>\n",
       "      <td>24_twitter_yeast</td>\n",
       "      <td>22.790 +/- 16.576</td>\n",
       "      <td>61.585 +/- 68.397</td>\n",
       "      <td>41.032 +/- 47.043</td>\n",
       "    </tr>\n",
       "    <tr>\n",
       "      <th>24</th>\n",
       "      <td>25_twitter_yeast</td>\n",
       "      <td>4.931 +/- 3.515</td>\n",
       "      <td>11.459 +/- 9.940</td>\n",
       "      <td>9.052 +/- 1.374</td>\n",
       "    </tr>\n",
       "    <tr>\n",
       "      <th>25</th>\n",
       "      <td>26_twitter_yeast</td>\n",
       "      <td>38.848 +/- 40.022</td>\n",
       "      <td>82.951 +/- 80.541</td>\n",
       "      <td>61.511 +/- 37.836</td>\n",
       "    </tr>\n",
       "    <tr>\n",
       "      <th>26</th>\n",
       "      <td>27_twitter_yeast</td>\n",
       "      <td>23.535 +/- 44.509</td>\n",
       "      <td>48.494 +/- 87.919</td>\n",
       "      <td>34.415 +/- 39.590</td>\n",
       "    </tr>\n",
       "    <tr>\n",
       "      <th>27</th>\n",
       "      <td>28_twitter_yeast</td>\n",
       "      <td>6.402 +/- 2.303</td>\n",
       "      <td>13.918 +/- 4.003</td>\n",
       "      <td>12.302 +/- 3.192</td>\n",
       "    </tr>\n",
       "  </tbody>\n",
       "</table>\n",
       "</div>"
      ],
      "text/plain": [
       "          Experiment   Transfer Learning  \\\n",
       "0       1_imdb_uwcse     3.491 +/- 2.285   \n",
       "1       2_uwcse_imdb     2.135 +/- 2.042   \n",
       "2       3_imdb_uwcse    9.211 +/- 16.222   \n",
       "3       4_uwcse_imdb     1.521 +/- 0.452   \n",
       "4       5_imdb_uwcse     4.063 +/- 3.638   \n",
       "5       6_uwcse_imdb     1.041 +/- 0.409   \n",
       "6        7_imdb_cora  67.706 +/- 102.821   \n",
       "7        8_imdb_cora  121.834 +/- 98.690   \n",
       "8        9_imdb_cora     3.910 +/- 1.723   \n",
       "9       10_imdb_cora     5.638 +/- 4.162   \n",
       "10     11_uwcse_cora  74.707 +/- 103.921   \n",
       "11     12_uwcse_cora  154.624 +/- 71.955   \n",
       "12     13_uwcse_cora     4.694 +/- 2.067   \n",
       "13     14_uwcse_cora     7.943 +/- 4.756   \n",
       "14  15_yeast_twitter    13.999 +/- 4.212   \n",
       "15  16_yeast_twitter    28.658 +/- 5.712   \n",
       "16  17_yeast_twitter  131.528 +/- 58.100   \n",
       "17  18_yeast_twitter  134.750 +/- 60.091   \n",
       "18  19_yeast_twitter    98.121 +/- 6.977   \n",
       "19  20_yeast_twitter  127.461 +/- 49.391   \n",
       "20  21_yeast_twitter  136.519 +/- 63.605   \n",
       "21  22_twitter_yeast     5.402 +/- 1.793   \n",
       "22  23_twitter_yeast   25.936 +/- 21.398   \n",
       "23  24_twitter_yeast   22.790 +/- 16.576   \n",
       "24  25_twitter_yeast     4.931 +/- 3.515   \n",
       "25  26_twitter_yeast   38.848 +/- 40.022   \n",
       "26  27_twitter_yeast   23.535 +/- 44.509   \n",
       "27  28_twitter_yeast     6.402 +/- 2.303   \n",
       "\n",
       "   Transfer Learning with Revision Theory Learning from scratch  \n",
       "0                         8.312 +/- 6.245       5.540 +/- 4.090  \n",
       "1                         4.392 +/- 3.867       2.479 +/- 1.407  \n",
       "2                       25.251 +/- 42.025     18.635 +/- 27.361  \n",
       "3                         4.563 +/- 2.177       1.890 +/- 0.479  \n",
       "4                        15.342 +/- 9.945      10.989 +/- 7.418  \n",
       "5                         2.107 +/- 1.146       1.192 +/- 0.604  \n",
       "6                     197.865 +/- 259.196   162.324 +/- 123.765  \n",
       "7                     330.410 +/- 321.972   225.673 +/- 195.755  \n",
       "8                        12.307 +/- 6.040       8.387 +/- 3.911  \n",
       "9                      85.507 +/- 247.698     27.506 +/- 56.096  \n",
       "10                    277.941 +/- 252.899   154.122 +/- 127.889  \n",
       "11                    396.853 +/- 309.125   222.182 +/- 212.034  \n",
       "12                       13.074 +/- 5.624       8.428 +/- 4.264  \n",
       "13                    128.440 +/- 262.706     32.012 +/- 67.738  \n",
       "14                       42.308 +/- 6.398      36.581 +/- 6.607  \n",
       "15                       56.361 +/- 0.034      46.660 +/- 5.107  \n",
       "16                    276.586 +/- 121.549    192.596 +/- 30.664  \n",
       "17                     238.853 +/- 46.522    197.652 +/- 39.621  \n",
       "18                     246.567 +/- 46.799    207.609 +/- 50.185  \n",
       "19                     279.547 +/- 95.828     172.172 +/- 2.160  \n",
       "20                     244.166 +/- 60.667    166.758 +/- 18.546  \n",
       "21                       14.445 +/- 6.322      11.097 +/- 7.012  \n",
       "22                      59.637 +/- 50.907     48.241 +/- 36.007  \n",
       "23                      61.585 +/- 68.397     41.032 +/- 47.043  \n",
       "24                       11.459 +/- 9.940       9.052 +/- 1.374  \n",
       "25                      82.951 +/- 80.541     61.511 +/- 37.836  \n",
       "26                      48.494 +/- 87.919     34.415 +/- 39.590  \n",
       "27                       13.918 +/- 4.003      12.302 +/- 3.192  "
      ]
     },
     "metadata": {},
     "output_type": "display_data"
    },
    {
     "data": {
      "text/markdown": [
       "# Results for Inference time"
      ],
      "text/plain": [
       "<IPython.core.display.Markdown object>"
      ]
     },
     "metadata": {},
     "output_type": "display_data"
    },
    {
     "data": {
      "text/html": [
       "<div>\n",
       "<table border=\"1\" class=\"dataframe\">\n",
       "  <thead>\n",
       "    <tr style=\"text-align: right;\">\n",
       "      <th></th>\n",
       "      <th>Experiment</th>\n",
       "      <th>Transfer Learning</th>\n",
       "      <th>Transfer Learning with Revision Theory</th>\n",
       "      <th>Learning from scratch</th>\n",
       "    </tr>\n",
       "  </thead>\n",
       "  <tbody>\n",
       "    <tr>\n",
       "      <th>0</th>\n",
       "      <td>1_imdb_uwcse</td>\n",
       "      <td>3.491 +/- 2.285</td>\n",
       "      <td>0.776 +/- 0.047</td>\n",
       "      <td>0.780 +/- 0.071</td>\n",
       "    </tr>\n",
       "    <tr>\n",
       "      <th>1</th>\n",
       "      <td>2_uwcse_imdb</td>\n",
       "      <td>2.135 +/- 2.042</td>\n",
       "      <td>0.854 +/- 0.068</td>\n",
       "      <td>0.785 +/- 0.024</td>\n",
       "    </tr>\n",
       "    <tr>\n",
       "      <th>2</th>\n",
       "      <td>3_imdb_uwcse</td>\n",
       "      <td>9.211 +/- 16.222</td>\n",
       "      <td>1.217 +/- 0.069</td>\n",
       "      <td>1.195 +/- 0.230</td>\n",
       "    </tr>\n",
       "    <tr>\n",
       "      <th>3</th>\n",
       "      <td>4_uwcse_imdb</td>\n",
       "      <td>1.521 +/- 0.452</td>\n",
       "      <td>1.564 +/- 0.875</td>\n",
       "      <td>0.719 +/- 0.067</td>\n",
       "    </tr>\n",
       "    <tr>\n",
       "      <th>4</th>\n",
       "      <td>5_imdb_uwcse</td>\n",
       "      <td>4.063 +/- 3.638</td>\n",
       "      <td>0.881 +/- 0.101</td>\n",
       "      <td>0.939 +/- 0.203</td>\n",
       "    </tr>\n",
       "    <tr>\n",
       "      <th>5</th>\n",
       "      <td>6_uwcse_imdb</td>\n",
       "      <td>1.041 +/- 0.409</td>\n",
       "      <td>0.550 +/- 0.019</td>\n",
       "      <td>0.523 +/- 0.018</td>\n",
       "    </tr>\n",
       "    <tr>\n",
       "      <th>6</th>\n",
       "      <td>7_imdb_cora</td>\n",
       "      <td>67.706 +/- 102.821</td>\n",
       "      <td>29.422 +/- 70.333</td>\n",
       "      <td>16.017 +/- 26.629</td>\n",
       "    </tr>\n",
       "    <tr>\n",
       "      <th>7</th>\n",
       "      <td>8_imdb_cora</td>\n",
       "      <td>121.834 +/- 98.690</td>\n",
       "      <td>6.224 +/- 1.988</td>\n",
       "      <td>5.357 +/- 1.249</td>\n",
       "    </tr>\n",
       "    <tr>\n",
       "      <th>8</th>\n",
       "      <td>9_imdb_cora</td>\n",
       "      <td>3.910 +/- 1.723</td>\n",
       "      <td>6.538 +/- 11.322</td>\n",
       "      <td>2.370 +/- 1.108</td>\n",
       "    </tr>\n",
       "    <tr>\n",
       "      <th>9</th>\n",
       "      <td>10_imdb_cora</td>\n",
       "      <td>5.638 +/- 4.162</td>\n",
       "      <td>5.766 +/- 5.287</td>\n",
       "      <td>4.450 +/- 8.920</td>\n",
       "    </tr>\n",
       "    <tr>\n",
       "      <th>10</th>\n",
       "      <td>11_uwcse_cora</td>\n",
       "      <td>74.707 +/- 103.921</td>\n",
       "      <td>231.249 +/- 90.986</td>\n",
       "      <td>18.762 +/- 29.951</td>\n",
       "    </tr>\n",
       "    <tr>\n",
       "      <th>11</th>\n",
       "      <td>12_uwcse_cora</td>\n",
       "      <td>154.624 +/- 71.955</td>\n",
       "      <td>63.959 +/- 106.567</td>\n",
       "      <td>4.789 +/- 1.320</td>\n",
       "    </tr>\n",
       "    <tr>\n",
       "      <th>12</th>\n",
       "      <td>13_uwcse_cora</td>\n",
       "      <td>4.694 +/- 2.067</td>\n",
       "      <td>10.549 +/- 19.030</td>\n",
       "      <td>2.375 +/- 1.191</td>\n",
       "    </tr>\n",
       "    <tr>\n",
       "      <th>13</th>\n",
       "      <td>14_uwcse_cora</td>\n",
       "      <td>7.943 +/- 4.756</td>\n",
       "      <td>82.673 +/- 123.729</td>\n",
       "      <td>5.232 +/- 12.969</td>\n",
       "    </tr>\n",
       "    <tr>\n",
       "      <th>14</th>\n",
       "      <td>15_yeast_twitter</td>\n",
       "      <td>13.999 +/- 4.212</td>\n",
       "      <td>1.203 +/- 0.366</td>\n",
       "      <td>0.897 +/- 0.181</td>\n",
       "    </tr>\n",
       "    <tr>\n",
       "      <th>15</th>\n",
       "      <td>16_yeast_twitter</td>\n",
       "      <td>28.658 +/- 5.712</td>\n",
       "      <td>1.238 +/- 0.154</td>\n",
       "      <td>1.083 +/- 0.143</td>\n",
       "    </tr>\n",
       "    <tr>\n",
       "      <th>16</th>\n",
       "      <td>17_yeast_twitter</td>\n",
       "      <td>131.528 +/- 58.100</td>\n",
       "      <td>1.306 +/- 0.090</td>\n",
       "      <td>1.345 +/- 0.348</td>\n",
       "    </tr>\n",
       "    <tr>\n",
       "      <th>17</th>\n",
       "      <td>18_yeast_twitter</td>\n",
       "      <td>134.750 +/- 60.091</td>\n",
       "      <td>1.406 +/- 0.199</td>\n",
       "      <td>1.179 +/- 0.266</td>\n",
       "    </tr>\n",
       "    <tr>\n",
       "      <th>18</th>\n",
       "      <td>19_yeast_twitter</td>\n",
       "      <td>98.121 +/- 6.977</td>\n",
       "      <td>1.124 +/- 0.118</td>\n",
       "      <td>1.190 +/- 0.165</td>\n",
       "    </tr>\n",
       "    <tr>\n",
       "      <th>19</th>\n",
       "      <td>20_yeast_twitter</td>\n",
       "      <td>127.461 +/- 49.391</td>\n",
       "      <td>1.135 +/- 0.010</td>\n",
       "      <td>1.389 +/- 0.060</td>\n",
       "    </tr>\n",
       "    <tr>\n",
       "      <th>20</th>\n",
       "      <td>21_yeast_twitter</td>\n",
       "      <td>136.519 +/- 63.605</td>\n",
       "      <td>1.335 +/- 0.089</td>\n",
       "      <td>1.300 +/- 0.225</td>\n",
       "    </tr>\n",
       "    <tr>\n",
       "      <th>21</th>\n",
       "      <td>22_twitter_yeast</td>\n",
       "      <td>5.402 +/- 1.793</td>\n",
       "      <td>1.476 +/- 0.460</td>\n",
       "      <td>1.545 +/- 0.286</td>\n",
       "    </tr>\n",
       "    <tr>\n",
       "      <th>22</th>\n",
       "      <td>23_twitter_yeast</td>\n",
       "      <td>25.936 +/- 21.398</td>\n",
       "      <td>2.626 +/- 0.294</td>\n",
       "      <td>2.670 +/- 0.726</td>\n",
       "    </tr>\n",
       "    <tr>\n",
       "      <th>23</th>\n",
       "      <td>24_twitter_yeast</td>\n",
       "      <td>22.790 +/- 16.576</td>\n",
       "      <td>2.557 +/- 0.120</td>\n",
       "      <td>2.224 +/- 0.310</td>\n",
       "    </tr>\n",
       "    <tr>\n",
       "      <th>24</th>\n",
       "      <td>25_twitter_yeast</td>\n",
       "      <td>4.931 +/- 3.515</td>\n",
       "      <td>1.255 +/- 0.114</td>\n",
       "      <td>1.150 +/- 0.154</td>\n",
       "    </tr>\n",
       "    <tr>\n",
       "      <th>25</th>\n",
       "      <td>26_twitter_yeast</td>\n",
       "      <td>38.848 +/- 40.022</td>\n",
       "      <td>3.019 +/- 0.365</td>\n",
       "      <td>2.175 +/- 0.703</td>\n",
       "    </tr>\n",
       "    <tr>\n",
       "      <th>26</th>\n",
       "      <td>27_twitter_yeast</td>\n",
       "      <td>23.535 +/- 44.509</td>\n",
       "      <td>1.736 +/- 0.411</td>\n",
       "      <td>1.549 +/- 0.239</td>\n",
       "    </tr>\n",
       "    <tr>\n",
       "      <th>27</th>\n",
       "      <td>28_twitter_yeast</td>\n",
       "      <td>6.402 +/- 2.303</td>\n",
       "      <td>1.430 +/- 0.408</td>\n",
       "      <td>1.275 +/- 0.368</td>\n",
       "    </tr>\n",
       "  </tbody>\n",
       "</table>\n",
       "</div>"
      ],
      "text/plain": [
       "          Experiment   Transfer Learning  \\\n",
       "0       1_imdb_uwcse     3.491 +/- 2.285   \n",
       "1       2_uwcse_imdb     2.135 +/- 2.042   \n",
       "2       3_imdb_uwcse    9.211 +/- 16.222   \n",
       "3       4_uwcse_imdb     1.521 +/- 0.452   \n",
       "4       5_imdb_uwcse     4.063 +/- 3.638   \n",
       "5       6_uwcse_imdb     1.041 +/- 0.409   \n",
       "6        7_imdb_cora  67.706 +/- 102.821   \n",
       "7        8_imdb_cora  121.834 +/- 98.690   \n",
       "8        9_imdb_cora     3.910 +/- 1.723   \n",
       "9       10_imdb_cora     5.638 +/- 4.162   \n",
       "10     11_uwcse_cora  74.707 +/- 103.921   \n",
       "11     12_uwcse_cora  154.624 +/- 71.955   \n",
       "12     13_uwcse_cora     4.694 +/- 2.067   \n",
       "13     14_uwcse_cora     7.943 +/- 4.756   \n",
       "14  15_yeast_twitter    13.999 +/- 4.212   \n",
       "15  16_yeast_twitter    28.658 +/- 5.712   \n",
       "16  17_yeast_twitter  131.528 +/- 58.100   \n",
       "17  18_yeast_twitter  134.750 +/- 60.091   \n",
       "18  19_yeast_twitter    98.121 +/- 6.977   \n",
       "19  20_yeast_twitter  127.461 +/- 49.391   \n",
       "20  21_yeast_twitter  136.519 +/- 63.605   \n",
       "21  22_twitter_yeast     5.402 +/- 1.793   \n",
       "22  23_twitter_yeast   25.936 +/- 21.398   \n",
       "23  24_twitter_yeast   22.790 +/- 16.576   \n",
       "24  25_twitter_yeast     4.931 +/- 3.515   \n",
       "25  26_twitter_yeast   38.848 +/- 40.022   \n",
       "26  27_twitter_yeast   23.535 +/- 44.509   \n",
       "27  28_twitter_yeast     6.402 +/- 2.303   \n",
       "\n",
       "   Transfer Learning with Revision Theory Learning from scratch  \n",
       "0                         0.776 +/- 0.047       0.780 +/- 0.071  \n",
       "1                         0.854 +/- 0.068       0.785 +/- 0.024  \n",
       "2                         1.217 +/- 0.069       1.195 +/- 0.230  \n",
       "3                         1.564 +/- 0.875       0.719 +/- 0.067  \n",
       "4                         0.881 +/- 0.101       0.939 +/- 0.203  \n",
       "5                         0.550 +/- 0.019       0.523 +/- 0.018  \n",
       "6                       29.422 +/- 70.333     16.017 +/- 26.629  \n",
       "7                         6.224 +/- 1.988       5.357 +/- 1.249  \n",
       "8                        6.538 +/- 11.322       2.370 +/- 1.108  \n",
       "9                         5.766 +/- 5.287       4.450 +/- 8.920  \n",
       "10                     231.249 +/- 90.986     18.762 +/- 29.951  \n",
       "11                     63.959 +/- 106.567       4.789 +/- 1.320  \n",
       "12                      10.549 +/- 19.030       2.375 +/- 1.191  \n",
       "13                     82.673 +/- 123.729      5.232 +/- 12.969  \n",
       "14                        1.203 +/- 0.366       0.897 +/- 0.181  \n",
       "15                        1.238 +/- 0.154       1.083 +/- 0.143  \n",
       "16                        1.306 +/- 0.090       1.345 +/- 0.348  \n",
       "17                        1.406 +/- 0.199       1.179 +/- 0.266  \n",
       "18                        1.124 +/- 0.118       1.190 +/- 0.165  \n",
       "19                        1.135 +/- 0.010       1.389 +/- 0.060  \n",
       "20                        1.335 +/- 0.089       1.300 +/- 0.225  \n",
       "21                        1.476 +/- 0.460       1.545 +/- 0.286  \n",
       "22                        2.626 +/- 0.294       2.670 +/- 0.726  \n",
       "23                        2.557 +/- 0.120       2.224 +/- 0.310  \n",
       "24                        1.255 +/- 0.114       1.150 +/- 0.154  \n",
       "25                        3.019 +/- 0.365       2.175 +/- 0.703  \n",
       "26                        1.736 +/- 0.411       1.549 +/- 0.239  \n",
       "27                        1.430 +/- 0.408       1.275 +/- 0.368  "
      ]
     },
     "metadata": {},
     "output_type": "display_data"
    }
   ],
   "source": [
    "experiments = [\n",
    "            {'id': '1', 'source':'imdb', 'target':'uwcse', 'predicate':'workedunder', 'to_predicate':'advisedby'},\n",
    "            {'id': '2', 'source':'uwcse', 'target':'imdb', 'predicate':'advisedby', 'to_predicate':'workedunder'},\n",
    "            {'id': '3', 'source':'imdb', 'target':'uwcse', 'predicate':'movie', 'to_predicate':'publication'},\n",
    "            {'id': '4', 'source':'uwcse', 'target':'imdb', 'predicate':'publication', 'to_predicate':'movie'},\n",
    "            {'id': '5', 'source':'imdb', 'target':'uwcse', 'predicate':'genre', 'to_predicate':'inphase'},\n",
    "            {'id': '6', 'source':'uwcse', 'target':'imdb', 'predicate':'inphase', 'to_predicate':'genre'},\n",
    "            {'id': '7', 'source':'imdb', 'target':'cora', 'predicate':'workedunder', 'to_predicate':'samevenue'},\n",
    "            {'id': '8', 'source':'imdb', 'target':'cora', 'predicate':'workedunder', 'to_predicate':'samebib'},\n",
    "            {'id': '9', 'source':'imdb', 'target':'cora', 'predicate':'workedunder', 'to_predicate':'sameauthor'},\n",
    "            {'id': '10', 'source':'imdb', 'target':'cora', 'predicate':'workedunder', 'to_predicate':'sametitle'},\n",
    "            {'id': '11', 'source':'uwcse', 'target':'cora', 'predicate':'advisedby', 'to_predicate':'samevenue'},\n",
    "            {'id': '12', 'source':'uwcse', 'target':'cora', 'predicate':'advisedby', 'to_predicate':'samebib'},\n",
    "            {'id': '13', 'source':'uwcse', 'target':'cora', 'predicate':'advisedby', 'to_predicate':'sameauthor'},\n",
    "            {'id': '14', 'source':'uwcse', 'target':'cora', 'predicate':'advisedby', 'to_predicate':'sametitle'},\n",
    "            {'id': '15', 'source':'yeast', 'target':'twitter', 'predicate':'proteinclass', 'to_predicate':'accounttype'},\n",
    "            {'id': '16', 'source':'yeast', 'target':'twitter', 'predicate':'interaction', 'to_predicate':'follows'},\n",
    "            {'id': '17', 'source':'yeast', 'target':'twitter', 'predicate':'location', 'to_predicate':'tweets'},\n",
    "            {'id': '18', 'source':'yeast', 'target':'twitter', 'predicate':'enzyme', 'to_predicate':'tweets'},\n",
    "            {'id': '19', 'source':'yeast', 'target':'twitter', 'predicate':'function', 'to_predicate':'tweets'},\n",
    "            {'id': '20', 'source':'yeast', 'target':'twitter', 'predicate':'phenotype', 'to_predicate':'tweets'},\n",
    "            {'id': '21', 'source':'yeast', 'target':'twitter', 'predicate':'complex', 'to_predicate':'tweets'},\n",
    "            {'id': '22', 'source':'twitter', 'target':'yeast', 'predicate':'accounttype', 'to_predicate':'proteinclass'},\n",
    "            {'id': '23', 'source':'twitter', 'target':'yeast', 'predicate':'follows', 'to_predicate':'interaction'},\n",
    "            {'id': '24', 'source':'twitter', 'target':'yeast', 'predicate':'tweets', 'to_predicate':'location'},\n",
    "            {'id': '25', 'source':'twitter', 'target':'yeast', 'predicate':'tweets', 'to_predicate':'enzyme'},\n",
    "            {'id': '26', 'source':'twitter', 'target':'yeast', 'predicate':'tweets', 'to_predicate':'function'},\n",
    "            {'id': '27', 'source':'twitter', 'target':'yeast', 'predicate':'tweets', 'to_predicate':'phenotype'},\n",
    "            {'id': '28', 'source':'twitter', 'target':'yeast', 'predicate':'tweets', 'to_predicate':'complex'},\n",
    "            ]\n",
    "\n",
    "for metric in ['AUC ROC', 'AUC PR', 'CLL', 'Recall', 'F1', 'Precision', 'Learning and Revision time', 'Inference time']:\n",
    "    display(Markdown('# Results for ' + metric))\n",
    "    table = []\n",
    "    for j in range(len(experiments)):\n",
    "        dataset = experiments[j]['id'] + '_' + experiments[j]['source'] + '_' + experiments[j]['target']\n",
    "        if dataset in data['results']: \n",
    "            #for metric in ['AUC ROC', 'AUC PR']:\n",
    "                #display(Markdown('## ' + metric))\n",
    "            if metric == 'Precision':\n",
    "                scratch = np.array([item['scratch']['Precision'][0] for sublist in data['results'][str(dataset)] for item in sublist])\n",
    "                parameter = np.array([item['transfer']['Parameter Learning results']['Precision'][0] for sublist in data['results'][str(dataset)] for item in sublist])\n",
    "                transfer = np.array([item['transfer']['Precision'][0] for sublist in data['results'][str(dataset)] for item in sublist])\n",
    "            elif metric == 'Learning and Revision time':\n",
    "                scratch = np.array([item['scratch']['Learning time'] for sublist in data['results'][str(dataset)] for item in sublist])\n",
    "                parameter = np.array([item['transfer']['Parameter Learning results']['Learning time'] for sublist in data['results'][str(dataset)] for item in sublist])\n",
    "                transfer = np.array([item['transfer']['Learning time'] for sublist in data['results'][str(dataset)] for item in sublist])\n",
    "            elif metric == 'Inference time':\n",
    "                scratch = np.array([item['scratch']['Inference time'] for sublist in data['results'][str(dataset)] for item in sublist])\n",
    "                parameter = np.array([item['transfer']['Parameter Learning results']['Learning time'] for sublist in data['results'][str(dataset)] for item in sublist])\n",
    "                transfer = np.array([item['transfer']['Inference time'] for sublist in data['results'][str(dataset)] for item in sublist])\n",
    "            else:\n",
    "                scratch = np.array([item['scratch'][metric] for sublist in data['results'][str(dataset)] for item in sublist])\n",
    "                parameter = np.array([item['transfer']['Parameter Learning results'][metric] for sublist in data['results'][str(dataset)] for item in sublist])\n",
    "                transfer = np.array([item['transfer'][metric] for sublist in data['results'][str(dataset)] for item in sublist])\n",
    "            table.append([dataset, '%.3f +/- %.3f' % (parameter.mean(), 2 * parameter.std()),\n",
    "            '%.3f +/- %.3f' % (transfer.mean(), 2 * transfer.std()),\n",
    "            '%.3f +/- %.3f' % (scratch.mean(), 2 * scratch.std())])\n",
    "    display(pd.DataFrame(table, columns=['Experiment', 'Transfer Learning', 'Transfer Learning with Revision Theory', 'Learning from scratch']))"
   ]
  },
  {
   "cell_type": "code",
   "execution_count": 20,
   "metadata": {
    "collapsed": false
   },
   "outputs": [
    {
     "data": {
      "text/markdown": [
       "# Results for 1_imdb_uwcse"
      ],
      "text/plain": [
       "<IPython.core.display.Markdown object>"
      ]
     },
     "metadata": {},
     "output_type": "display_data"
    },
    {
     "data": {
      "text/markdown": [
       "## AUC ROC"
      ],
      "text/plain": [
       "<IPython.core.display.Markdown object>"
      ]
     },
     "metadata": {},
     "output_type": "display_data"
    },
    {
     "name": "stdout",
     "output_type": "stream",
     "text": [
      "T-test for experiment 1\n",
      "Ttest_relResult(statistic=1.0624844844094459, pvalue=0.3479054985886356)\n",
      "Ttest_relResult(statistic=1.13205162363113, pvalue=0.32087681773382676)\n"
     ]
    },
    {
     "data": {
      "text/html": [
       "<div>\n",
       "<table border=\"1\" class=\"dataframe\">\n",
       "  <thead>\n",
       "    <tr style=\"text-align: right;\">\n",
       "      <th></th>\n",
       "      <th>p-value</th>\n",
       "      <th>RDN-B</th>\n",
       "    </tr>\n",
       "  </thead>\n",
       "  <tbody>\n",
       "    <tr>\n",
       "      <th>0</th>\n",
       "      <td>transferRDN-B Ref</td>\n",
       "      <td>0.348</td>\n",
       "    </tr>\n",
       "    <tr>\n",
       "      <th>1</th>\n",
       "      <td>transferRDN-B</td>\n",
       "      <td>0.321</td>\n",
       "    </tr>\n",
       "  </tbody>\n",
       "</table>\n",
       "</div>"
      ],
      "text/plain": [
       "             p-value  RDN-B\n",
       "0  transferRDN-B Ref  0.348\n",
       "1      transferRDN-B  0.321"
      ]
     },
     "metadata": {},
     "output_type": "display_data"
    },
    {
     "name": "stdout",
     "output_type": "stream",
     "text": [
      "\n",
      "\n",
      "Scratch: [0.963429 0.96225  0.866355 0.948125 0.930758]\n",
      "Transfer: [0.951677 0.952307 0.959689 0.959375 0.956584]\n",
      "Transfer & Revision: [0.9631   0.959591 0.933617 0.945703 0.94027 ]\n"
     ]
    },
    {
     "data": {
      "text/markdown": [
       "## AUC PR"
      ],
      "text/plain": [
       "<IPython.core.display.Markdown object>"
      ]
     },
     "metadata": {},
     "output_type": "display_data"
    },
    {
     "name": "stdout",
     "output_type": "stream",
     "text": [
      "T-test for experiment 1\n",
      "Ttest_relResult(statistic=1.130816092033762, pvalue=0.32133967916366135)\n",
      "Ttest_relResult(statistic=1.6052330498212557, pvalue=0.18371329486082824)\n"
     ]
    },
    {
     "data": {
      "text/html": [
       "<div>\n",
       "<table border=\"1\" class=\"dataframe\">\n",
       "  <thead>\n",
       "    <tr style=\"text-align: right;\">\n",
       "      <th></th>\n",
       "      <th>p-value</th>\n",
       "      <th>RDN-B</th>\n",
       "    </tr>\n",
       "  </thead>\n",
       "  <tbody>\n",
       "    <tr>\n",
       "      <th>0</th>\n",
       "      <td>transferRDN-B Ref</td>\n",
       "      <td>0.321</td>\n",
       "    </tr>\n",
       "    <tr>\n",
       "      <th>1</th>\n",
       "      <td>transferRDN-B</td>\n",
       "      <td>0.184</td>\n",
       "    </tr>\n",
       "  </tbody>\n",
       "</table>\n",
       "</div>"
      ],
      "text/plain": [
       "             p-value  RDN-B\n",
       "0  transferRDN-B Ref  0.321\n",
       "1      transferRDN-B  0.184"
      ]
     },
     "metadata": {},
     "output_type": "display_data"
    },
    {
     "name": "stdout",
     "output_type": "stream",
     "text": [
      "\n",
      "\n",
      "Scratch: [0.937107 0.929803 0.774746 0.922869 0.873466]\n",
      "Transfer: [0.929498 0.931984 0.943146 0.95045  0.939   ]\n",
      "Transfer & Revision: [0.936386 0.927045 0.880096 0.918773 0.893929]\n"
     ]
    },
    {
     "data": {
      "text/markdown": [
       "## CLL"
      ],
      "text/plain": [
       "<IPython.core.display.Markdown object>"
      ]
     },
     "metadata": {},
     "output_type": "display_data"
    },
    {
     "name": "stdout",
     "output_type": "stream",
     "text": [
      "T-test for experiment 1\n",
      "Ttest_relResult(statistic=0.957348796631256, pvalue=0.392604812907962)\n",
      "Ttest_relResult(statistic=1.1063332870232803, pvalue=0.33063856646008066)\n"
     ]
    },
    {
     "data": {
      "text/html": [
       "<div>\n",
       "<table border=\"1\" class=\"dataframe\">\n",
       "  <thead>\n",
       "    <tr style=\"text-align: right;\">\n",
       "      <th></th>\n",
       "      <th>p-value</th>\n",
       "      <th>RDN-B</th>\n",
       "    </tr>\n",
       "  </thead>\n",
       "  <tbody>\n",
       "    <tr>\n",
       "      <th>0</th>\n",
       "      <td>transferRDN-B Ref</td>\n",
       "      <td>0.393</td>\n",
       "    </tr>\n",
       "    <tr>\n",
       "      <th>1</th>\n",
       "      <td>transferRDN-B</td>\n",
       "      <td>0.331</td>\n",
       "    </tr>\n",
       "  </tbody>\n",
       "</table>\n",
       "</div>"
      ],
      "text/plain": [
       "             p-value  RDN-B\n",
       "0  transferRDN-B Ref  0.393\n",
       "1      transferRDN-B  0.331"
      ]
     },
     "metadata": {},
     "output_type": "display_data"
    },
    {
     "name": "stdout",
     "output_type": "stream",
     "text": [
      "\n",
      "\n",
      "Scratch: [-0.210682 -0.238293 -0.351726 -0.236094 -0.250571]\n",
      "Transfer: [-0.232353 -0.231667 -0.225631 -0.231815 -0.224265]\n",
      "Transfer & Revision: [-0.211256 -0.223627 -0.271719 -0.239393 -0.262004]\n"
     ]
    },
    {
     "data": {
      "text/markdown": [
       "## Recall"
      ],
      "text/plain": [
       "<IPython.core.display.Markdown object>"
      ]
     },
     "metadata": {},
     "output_type": "display_data"
    },
    {
     "name": "stdout",
     "output_type": "stream",
     "text": [
      "T-test for experiment 1\n",
      "Ttest_relResult(statistic=0.7022025956586048, pvalue=0.5212637710319327)\n",
      "Ttest_relResult(statistic=1.4770715691245175, pvalue=0.21371301193650816)\n"
     ]
    },
    {
     "data": {
      "text/html": [
       "<div>\n",
       "<table border=\"1\" class=\"dataframe\">\n",
       "  <thead>\n",
       "    <tr style=\"text-align: right;\">\n",
       "      <th></th>\n",
       "      <th>p-value</th>\n",
       "      <th>RDN-B</th>\n",
       "    </tr>\n",
       "  </thead>\n",
       "  <tbody>\n",
       "    <tr>\n",
       "      <th>0</th>\n",
       "      <td>transferRDN-B Ref</td>\n",
       "      <td>0.521</td>\n",
       "    </tr>\n",
       "    <tr>\n",
       "      <th>1</th>\n",
       "      <td>transferRDN-B</td>\n",
       "      <td>0.214</td>\n",
       "    </tr>\n",
       "  </tbody>\n",
       "</table>\n",
       "</div>"
      ],
      "text/plain": [
       "             p-value  RDN-B\n",
       "0  transferRDN-B Ref  0.521\n",
       "1      transferRDN-B  0.214"
      ]
     },
     "metadata": {},
     "output_type": "display_data"
    },
    {
     "name": "stdout",
     "output_type": "stream",
     "text": [
      "\n",
      "\n",
      "Scratch: [1.       0.946237 1.       0.975    1.      ]\n",
      "Transfer: [1. 1. 1. 1. 1.]\n",
      "Transfer & Revision: [0.987179 1.       1.       0.975    1.      ]\n"
     ]
    },
    {
     "data": {
      "text/markdown": [
       "## F1"
      ],
      "text/plain": [
       "<IPython.core.display.Markdown object>"
      ]
     },
     "metadata": {},
     "output_type": "display_data"
    },
    {
     "name": "stdout",
     "output_type": "stream",
     "text": [
      "T-test for experiment 1\n",
      "Ttest_relResult(statistic=1.5901219601064347, pvalue=0.18701305773992652)\n",
      "Ttest_relResult(statistic=1.666453494750265, pvalue=0.17095151215029408)\n"
     ]
    },
    {
     "data": {
      "text/html": [
       "<div>\n",
       "<table border=\"1\" class=\"dataframe\">\n",
       "  <thead>\n",
       "    <tr style=\"text-align: right;\">\n",
       "      <th></th>\n",
       "      <th>p-value</th>\n",
       "      <th>RDN-B</th>\n",
       "    </tr>\n",
       "  </thead>\n",
       "  <tbody>\n",
       "    <tr>\n",
       "      <th>0</th>\n",
       "      <td>transferRDN-B Ref</td>\n",
       "      <td>0.187</td>\n",
       "    </tr>\n",
       "    <tr>\n",
       "      <th>1</th>\n",
       "      <td>transferRDN-B</td>\n",
       "      <td>0.171</td>\n",
       "    </tr>\n",
       "  </tbody>\n",
       "</table>\n",
       "</div>"
      ],
      "text/plain": [
       "             p-value  RDN-B\n",
       "0  transferRDN-B Ref  0.187\n",
       "1      transferRDN-B  0.171"
      ]
     },
     "metadata": {},
     "output_type": "display_data"
    },
    {
     "name": "stdout",
     "output_type": "stream",
     "text": [
      "\n",
      "\n",
      "Scratch: [0.939759 0.926316 0.908297 0.934132 0.941748]\n",
      "Transfer: [0.939759 0.939394 0.945455 0.941176 0.941748]\n",
      "Transfer & Revision: [0.944785 0.939394 0.945455 0.934132 0.941748]\n"
     ]
    },
    {
     "data": {
      "text/markdown": [
       "## Precision"
      ],
      "text/plain": [
       "<IPython.core.display.Markdown object>"
      ]
     },
     "metadata": {},
     "output_type": "display_data"
    },
    {
     "name": "stdout",
     "output_type": "stream",
     "text": [
      "\n",
      "\n",
      "Scratch: [0.886364 0.907216 0.832    0.896552 0.889908]\n",
      "Transfer: [0.886364 0.885714 0.896552 0.888889 0.889908]\n",
      "Transfer & Revision: [0.905882 0.885714 0.896552 0.896552 0.889908]\n"
     ]
    },
    {
     "data": {
      "text/markdown": [
       "## Learning and Revision time"
      ],
      "text/plain": [
       "<IPython.core.display.Markdown object>"
      ]
     },
     "metadata": {},
     "output_type": "display_data"
    },
    {
     "name": "stdout",
     "output_type": "stream",
     "text": [
      "\n",
      "\n",
      "Scratch: [6.145 5.745 3.3   8.944 3.566]\n",
      "Transfer: [3.381 3.62  2.13  5.53  2.793]\n",
      "Transfer & Revision: [ 7.741  8.719  5.258 14.029  5.814]\n"
     ]
    },
    {
     "data": {
      "text/markdown": [
       "## Inference time"
      ],
      "text/plain": [
       "<IPython.core.display.Markdown object>"
      ]
     },
     "metadata": {},
     "output_type": "display_data"
    },
    {
     "name": "stdout",
     "output_type": "stream",
     "text": [
      "\n",
      "\n",
      "Scratch: [0.8   0.79  0.729 0.828 0.751]\n",
      "Transfer: [3.381 3.62  2.13  5.53  2.793]\n",
      "Transfer & Revision: [0.773 0.772 0.76  0.821 0.755]\n"
     ]
    },
    {
     "data": {
      "text/markdown": [
       "# Results for 2_uwcse_imdb"
      ],
      "text/plain": [
       "<IPython.core.display.Markdown object>"
      ]
     },
     "metadata": {},
     "output_type": "display_data"
    },
    {
     "data": {
      "text/markdown": [
       "## AUC ROC"
      ],
      "text/plain": [
       "<IPython.core.display.Markdown object>"
      ]
     },
     "metadata": {},
     "output_type": "display_data"
    },
    {
     "name": "stdout",
     "output_type": "stream",
     "text": [
      "T-test for experiment 1\n",
      "Ttest_relResult(statistic=0.9999999999999998, pvalue=0.373900966300059)\n",
      "Ttest_relResult(statistic=0.9999999999999998, pvalue=0.373900966300059)\n"
     ]
    },
    {
     "data": {
      "text/html": [
       "<div>\n",
       "<table border=\"1\" class=\"dataframe\">\n",
       "  <thead>\n",
       "    <tr style=\"text-align: right;\">\n",
       "      <th></th>\n",
       "      <th>p-value</th>\n",
       "      <th>RDN-B</th>\n",
       "    </tr>\n",
       "  </thead>\n",
       "  <tbody>\n",
       "    <tr>\n",
       "      <th>0</th>\n",
       "      <td>transferRDN-B Ref</td>\n",
       "      <td>0.374</td>\n",
       "    </tr>\n",
       "    <tr>\n",
       "      <th>1</th>\n",
       "      <td>transferRDN-B</td>\n",
       "      <td>0.374</td>\n",
       "    </tr>\n",
       "  </tbody>\n",
       "</table>\n",
       "</div>"
      ],
      "text/plain": [
       "             p-value  RDN-B\n",
       "0  transferRDN-B Ref  0.374\n",
       "1      transferRDN-B  0.374"
      ]
     },
     "metadata": {},
     "output_type": "display_data"
    },
    {
     "name": "stdout",
     "output_type": "stream",
     "text": [
      "\n",
      "\n",
      "Scratch: [0.903675 1.       1.       1.       1.      ]\n",
      "Transfer: [1. 1. 1. 1. 1.]\n",
      "Transfer & Revision: [1. 1. 1. 1. 1.]\n"
     ]
    },
    {
     "data": {
      "text/markdown": [
       "## AUC PR"
      ],
      "text/plain": [
       "<IPython.core.display.Markdown object>"
      ]
     },
     "metadata": {},
     "output_type": "display_data"
    },
    {
     "name": "stdout",
     "output_type": "stream",
     "text": [
      "T-test for experiment 1\n",
      "Ttest_relResult(statistic=0.9999999999999998, pvalue=0.373900966300059)\n",
      "Ttest_relResult(statistic=0.9999999999999998, pvalue=0.373900966300059)\n"
     ]
    },
    {
     "data": {
      "text/html": [
       "<div>\n",
       "<table border=\"1\" class=\"dataframe\">\n",
       "  <thead>\n",
       "    <tr style=\"text-align: right;\">\n",
       "      <th></th>\n",
       "      <th>p-value</th>\n",
       "      <th>RDN-B</th>\n",
       "    </tr>\n",
       "  </thead>\n",
       "  <tbody>\n",
       "    <tr>\n",
       "      <th>0</th>\n",
       "      <td>transferRDN-B Ref</td>\n",
       "      <td>0.374</td>\n",
       "    </tr>\n",
       "    <tr>\n",
       "      <th>1</th>\n",
       "      <td>transferRDN-B</td>\n",
       "      <td>0.374</td>\n",
       "    </tr>\n",
       "  </tbody>\n",
       "</table>\n",
       "</div>"
      ],
      "text/plain": [
       "             p-value  RDN-B\n",
       "0  transferRDN-B Ref  0.374\n",
       "1      transferRDN-B  0.374"
      ]
     },
     "metadata": {},
     "output_type": "display_data"
    },
    {
     "name": "stdout",
     "output_type": "stream",
     "text": [
      "\n",
      "\n",
      "Scratch: [0.837662 1.       1.       1.       1.      ]\n",
      "Transfer: [1. 1. 1. 1. 1.]\n",
      "Transfer & Revision: [1. 1. 1. 1. 1.]\n"
     ]
    },
    {
     "data": {
      "text/markdown": [
       "## CLL"
      ],
      "text/plain": [
       "<IPython.core.display.Markdown object>"
      ]
     },
     "metadata": {},
     "output_type": "display_data"
    },
    {
     "name": "stdout",
     "output_type": "stream",
     "text": [
      "T-test for experiment 1\n",
      "Ttest_relResult(statistic=1.9242268029265577, pvalue=0.12665381637307352)\n",
      "Ttest_relResult(statistic=1.678277318502083, pvalue=0.1685953211390529)\n"
     ]
    },
    {
     "data": {
      "text/html": [
       "<div>\n",
       "<table border=\"1\" class=\"dataframe\">\n",
       "  <thead>\n",
       "    <tr style=\"text-align: right;\">\n",
       "      <th></th>\n",
       "      <th>p-value</th>\n",
       "      <th>RDN-B</th>\n",
       "    </tr>\n",
       "  </thead>\n",
       "  <tbody>\n",
       "    <tr>\n",
       "      <th>0</th>\n",
       "      <td>transferRDN-B Ref</td>\n",
       "      <td>0.127</td>\n",
       "    </tr>\n",
       "    <tr>\n",
       "      <th>1</th>\n",
       "      <td>transferRDN-B</td>\n",
       "      <td>0.169</td>\n",
       "    </tr>\n",
       "  </tbody>\n",
       "</table>\n",
       "</div>"
      ],
      "text/plain": [
       "             p-value  RDN-B\n",
       "0  transferRDN-B Ref  0.127\n",
       "1      transferRDN-B  0.169"
      ]
     },
     "metadata": {},
     "output_type": "display_data"
    },
    {
     "name": "stdout",
     "output_type": "stream",
     "text": [
      "\n",
      "\n",
      "Scratch: [-0.289355 -0.179521 -0.094637 -0.094637 -0.213649]\n",
      "Transfer: [-0.120488 -0.120865 -0.094991 -0.121892 -0.122481]\n",
      "Transfer & Revision: [-0.131448 -0.131246 -0.097349 -0.100829 -0.099876]\n"
     ]
    },
    {
     "data": {
      "text/markdown": [
       "## Recall"
      ],
      "text/plain": [
       "<IPython.core.display.Markdown object>"
      ]
     },
     "metadata": {},
     "output_type": "display_data"
    },
    {
     "name": "stdout",
     "output_type": "stream",
     "text": [
      "T-test for experiment 1\n",
      "Ttest_relResult(statistic=nan, pvalue=nan)\n",
      "Ttest_relResult(statistic=nan, pvalue=nan)\n"
     ]
    },
    {
     "data": {
      "text/html": [
       "<div>\n",
       "<table border=\"1\" class=\"dataframe\">\n",
       "  <thead>\n",
       "    <tr style=\"text-align: right;\">\n",
       "      <th></th>\n",
       "      <th>p-value</th>\n",
       "      <th>RDN-B</th>\n",
       "    </tr>\n",
       "  </thead>\n",
       "  <tbody>\n",
       "    <tr>\n",
       "      <th>0</th>\n",
       "      <td>transferRDN-B Ref</td>\n",
       "      <td>nan</td>\n",
       "    </tr>\n",
       "    <tr>\n",
       "      <th>1</th>\n",
       "      <td>transferRDN-B</td>\n",
       "      <td>nan</td>\n",
       "    </tr>\n",
       "  </tbody>\n",
       "</table>\n",
       "</div>"
      ],
      "text/plain": [
       "             p-value RDN-B\n",
       "0  transferRDN-B Ref   nan\n",
       "1      transferRDN-B   nan"
      ]
     },
     "metadata": {},
     "output_type": "display_data"
    },
    {
     "name": "stdout",
     "output_type": "stream",
     "text": [
      "\n",
      "\n",
      "Scratch: [1. 1. 1. 1. 1.]\n",
      "Transfer: [1. 1. 1. 1. 1.]\n",
      "Transfer & Revision: [1. 1. 1. 1. 1.]\n"
     ]
    },
    {
     "data": {
      "text/markdown": [
       "## F1"
      ],
      "text/plain": [
       "<IPython.core.display.Markdown object>"
      ]
     },
     "metadata": {},
     "output_type": "display_data"
    },
    {
     "name": "stdout",
     "output_type": "stream",
     "text": [
      "T-test for experiment 1\n",
      "Ttest_relResult(statistic=2.4489985172744877, pvalue=0.0705212895221997)\n",
      "Ttest_relResult(statistic=2.4489985172744877, pvalue=0.0705212895221997)\n"
     ]
    },
    {
     "data": {
      "text/html": [
       "<div>\n",
       "<table border=\"1\" class=\"dataframe\">\n",
       "  <thead>\n",
       "    <tr style=\"text-align: right;\">\n",
       "      <th></th>\n",
       "      <th>p-value</th>\n",
       "      <th>RDN-B</th>\n",
       "    </tr>\n",
       "  </thead>\n",
       "  <tbody>\n",
       "    <tr>\n",
       "      <th>0</th>\n",
       "      <td>transferRDN-B Ref</td>\n",
       "      <td>0.071</td>\n",
       "    </tr>\n",
       "    <tr>\n",
       "      <th>1</th>\n",
       "      <td>transferRDN-B</td>\n",
       "      <td>0.071</td>\n",
       "    </tr>\n",
       "  </tbody>\n",
       "</table>\n",
       "</div>"
      ],
      "text/plain": [
       "             p-value  RDN-B\n",
       "0  transferRDN-B Ref  0.071\n",
       "1      transferRDN-B  0.071"
      ]
     },
     "metadata": {},
     "output_type": "display_data"
    },
    {
     "name": "stdout",
     "output_type": "stream",
     "text": [
      "\n",
      "\n",
      "Scratch: [0.913165 0.913963 1.       1.       0.915761]\n",
      "Transfer: [1. 1. 1. 1. 1.]\n",
      "Transfer & Revision: [1. 1. 1. 1. 1.]\n"
     ]
    },
    {
     "data": {
      "text/markdown": [
       "## Precision"
      ],
      "text/plain": [
       "<IPython.core.display.Markdown object>"
      ]
     },
     "metadata": {},
     "output_type": "display_data"
    },
    {
     "name": "stdout",
     "output_type": "stream",
     "text": [
      "\n",
      "\n",
      "Scratch: [0.840206 0.841558 1.       1.       0.844612]\n",
      "Transfer: [1. 1. 1. 1. 1.]\n",
      "Transfer & Revision: [1. 1. 1. 1. 1.]\n"
     ]
    },
    {
     "data": {
      "text/markdown": [
       "## Learning and Revision time"
      ],
      "text/plain": [
       "<IPython.core.display.Markdown object>"
      ]
     },
     "metadata": {},
     "output_type": "display_data"
    },
    {
     "name": "stdout",
     "output_type": "stream",
     "text": [
      "\n",
      "\n",
      "Scratch: [2.131 2.256 3.878 2.024 2.104]\n",
      "Transfer: [1.412 1.532 4.151 1.678 1.904]\n",
      "Transfer & Revision: [3.244 3.289 8.248 3.598 3.583]\n"
     ]
    },
    {
     "data": {
      "text/markdown": [
       "## Inference time"
      ],
      "text/plain": [
       "<IPython.core.display.Markdown object>"
      ]
     },
     "metadata": {},
     "output_type": "display_data"
    },
    {
     "name": "stdout",
     "output_type": "stream",
     "text": [
      "\n",
      "\n",
      "Scratch: [0.777 0.777 0.776 0.787 0.808]\n",
      "Transfer: [1.412 1.532 4.151 1.678 1.904]\n",
      "Transfer & Revision: [0.834 0.875 0.8   0.899 0.86 ]\n"
     ]
    },
    {
     "data": {
      "text/markdown": [
       "# Results for 3_imdb_uwcse"
      ],
      "text/plain": [
       "<IPython.core.display.Markdown object>"
      ]
     },
     "metadata": {},
     "output_type": "display_data"
    },
    {
     "data": {
      "text/markdown": [
       "## AUC ROC"
      ],
      "text/plain": [
       "<IPython.core.display.Markdown object>"
      ]
     },
     "metadata": {},
     "output_type": "display_data"
    },
    {
     "name": "stdout",
     "output_type": "stream",
     "text": [
      "T-test for experiment 1\n",
      "Ttest_relResult(statistic=1.4520439837491346, pvalue=0.22013029574648438)\n",
      "Ttest_relResult(statistic=1.0257060565890388, pvalue=0.36300606242011335)\n"
     ]
    },
    {
     "data": {
      "text/html": [
       "<div>\n",
       "<table border=\"1\" class=\"dataframe\">\n",
       "  <thead>\n",
       "    <tr style=\"text-align: right;\">\n",
       "      <th></th>\n",
       "      <th>p-value</th>\n",
       "      <th>RDN-B</th>\n",
       "    </tr>\n",
       "  </thead>\n",
       "  <tbody>\n",
       "    <tr>\n",
       "      <th>0</th>\n",
       "      <td>transferRDN-B Ref</td>\n",
       "      <td>0.220</td>\n",
       "    </tr>\n",
       "    <tr>\n",
       "      <th>1</th>\n",
       "      <td>transferRDN-B</td>\n",
       "      <td>0.363</td>\n",
       "    </tr>\n",
       "  </tbody>\n",
       "</table>\n",
       "</div>"
      ],
      "text/plain": [
       "             p-value  RDN-B\n",
       "0  transferRDN-B Ref  0.220\n",
       "1      transferRDN-B  0.363"
      ]
     },
     "metadata": {},
     "output_type": "display_data"
    },
    {
     "name": "stdout",
     "output_type": "stream",
     "text": [
      "\n",
      "\n",
      "Scratch: [0.608518 0.59946  0.513122 0.601276 0.699091]\n",
      "Transfer: [0.625566 0.659607 0.5      0.674538 0.666399]\n",
      "Transfer & Revision: [0.604264 0.660124 0.513122 0.642957 0.697868]\n"
     ]
    },
    {
     "data": {
      "text/markdown": [
       "## AUC PR"
      ],
      "text/plain": [
       "<IPython.core.display.Markdown object>"
      ]
     },
     "metadata": {},
     "output_type": "display_data"
    },
    {
     "name": "stdout",
     "output_type": "stream",
     "text": [
      "T-test for experiment 1\n",
      "Ttest_relResult(statistic=1.6029638229984553, pvalue=0.18420494755472522)\n",
      "Ttest_relResult(statistic=0.11002014816801431, pvalue=0.9176923128936462)\n"
     ]
    },
    {
     "data": {
      "text/html": [
       "<div>\n",
       "<table border=\"1\" class=\"dataframe\">\n",
       "  <thead>\n",
       "    <tr style=\"text-align: right;\">\n",
       "      <th></th>\n",
       "      <th>p-value</th>\n",
       "      <th>RDN-B</th>\n",
       "    </tr>\n",
       "  </thead>\n",
       "  <tbody>\n",
       "    <tr>\n",
       "      <th>0</th>\n",
       "      <td>transferRDN-B Ref</td>\n",
       "      <td>0.184</td>\n",
       "    </tr>\n",
       "    <tr>\n",
       "      <th>1</th>\n",
       "      <td>transferRDN-B</td>\n",
       "      <td>0.918</td>\n",
       "    </tr>\n",
       "  </tbody>\n",
       "</table>\n",
       "</div>"
      ],
      "text/plain": [
       "             p-value  RDN-B\n",
       "0  transferRDN-B Ref  0.184\n",
       "1      transferRDN-B  0.918"
      ]
     },
     "metadata": {},
     "output_type": "display_data"
    },
    {
     "name": "stdout",
     "output_type": "stream",
     "text": [
      "\n",
      "\n",
      "Scratch: [0.590933 0.617461 0.509288 0.581197 0.677573]\n",
      "Transfer: [0.591121 0.622102 0.5      0.640797 0.631753]\n",
      "Transfer & Revision: [0.595975 0.643038 0.509288 0.591847 0.675766]\n"
     ]
    },
    {
     "data": {
      "text/markdown": [
       "## CLL"
      ],
      "text/plain": [
       "<IPython.core.display.Markdown object>"
      ]
     },
     "metadata": {},
     "output_type": "display_data"
    },
    {
     "name": "stdout",
     "output_type": "stream",
     "text": [
      "T-test for experiment 1\n",
      "Ttest_relResult(statistic=0.8428792747000576, pvalue=0.4467470277222079)\n",
      "Ttest_relResult(statistic=2.579960472833085, pvalue=0.061329988742134314)\n"
     ]
    },
    {
     "data": {
      "text/html": [
       "<div>\n",
       "<table border=\"1\" class=\"dataframe\">\n",
       "  <thead>\n",
       "    <tr style=\"text-align: right;\">\n",
       "      <th></th>\n",
       "      <th>p-value</th>\n",
       "      <th>RDN-B</th>\n",
       "    </tr>\n",
       "  </thead>\n",
       "  <tbody>\n",
       "    <tr>\n",
       "      <th>0</th>\n",
       "      <td>transferRDN-B Ref</td>\n",
       "      <td>0.447</td>\n",
       "    </tr>\n",
       "    <tr>\n",
       "      <th>1</th>\n",
       "      <td>transferRDN-B</td>\n",
       "      <td>0.061</td>\n",
       "    </tr>\n",
       "  </tbody>\n",
       "</table>\n",
       "</div>"
      ],
      "text/plain": [
       "             p-value  RDN-B\n",
       "0  transferRDN-B Ref  0.447\n",
       "1      transferRDN-B  0.061"
      ]
     },
     "metadata": {},
     "output_type": "display_data"
    },
    {
     "name": "stdout",
     "output_type": "stream",
     "text": [
      "\n",
      "\n",
      "Scratch: [-0.723354 -0.708331 -0.709482 -0.720718 -0.642895]\n",
      "Transfer: [-0.672444 -0.641436 -0.695026 -0.641755 -0.648465]\n",
      "Transfer & Revision: [-0.745315 -0.681802 -0.709482 -0.683896 -0.640451]\n"
     ]
    },
    {
     "data": {
      "text/markdown": [
       "## Recall"
      ],
      "text/plain": [
       "<IPython.core.display.Markdown object>"
      ]
     },
     "metadata": {},
     "output_type": "display_data"
    },
    {
     "name": "stdout",
     "output_type": "stream",
     "text": [
      "T-test for experiment 1\n",
      "Ttest_relResult(statistic=1.541215846608618, pvalue=0.19811780685432764)\n",
      "Ttest_relResult(statistic=0.3419494891334526, pvalue=0.7495994413800513)\n"
     ]
    },
    {
     "data": {
      "text/html": [
       "<div>\n",
       "<table border=\"1\" class=\"dataframe\">\n",
       "  <thead>\n",
       "    <tr style=\"text-align: right;\">\n",
       "      <th></th>\n",
       "      <th>p-value</th>\n",
       "      <th>RDN-B</th>\n",
       "    </tr>\n",
       "  </thead>\n",
       "  <tbody>\n",
       "    <tr>\n",
       "      <th>0</th>\n",
       "      <td>transferRDN-B Ref</td>\n",
       "      <td>0.198</td>\n",
       "    </tr>\n",
       "    <tr>\n",
       "      <th>1</th>\n",
       "      <td>transferRDN-B</td>\n",
       "      <td>0.750</td>\n",
       "    </tr>\n",
       "  </tbody>\n",
       "</table>\n",
       "</div>"
      ],
      "text/plain": [
       "             p-value  RDN-B\n",
       "0  transferRDN-B Ref  0.198\n",
       "1      transferRDN-B  0.750"
      ]
     },
     "metadata": {},
     "output_type": "display_data"
    },
    {
     "name": "stdout",
     "output_type": "stream",
     "text": [
      "\n",
      "\n",
      "Scratch: [0.504525 0.388805 0.502762 0.488706 0.586817]\n",
      "Transfer: [0.68552  0.691377 0.       0.667351 0.670418]\n",
      "Transfer & Revision: [0.547511 0.388805 0.502762 0.513347 0.586817]\n"
     ]
    },
    {
     "data": {
      "text/markdown": [
       "## F1"
      ],
      "text/plain": [
       "<IPython.core.display.Markdown object>"
      ]
     },
     "metadata": {},
     "output_type": "display_data"
    },
    {
     "name": "stdout",
     "output_type": "stream",
     "text": [
      "T-test for experiment 1\n",
      "Ttest_relResult(statistic=1.6291679838866016, pvalue=0.1786096868735445)\n",
      "Ttest_relResult(statistic=nan, pvalue=nan)\n"
     ]
    },
    {
     "data": {
      "text/html": [
       "<div>\n",
       "<table border=\"1\" class=\"dataframe\">\n",
       "  <thead>\n",
       "    <tr style=\"text-align: right;\">\n",
       "      <th></th>\n",
       "      <th>p-value</th>\n",
       "      <th>RDN-B</th>\n",
       "    </tr>\n",
       "  </thead>\n",
       "  <tbody>\n",
       "    <tr>\n",
       "      <th>0</th>\n",
       "      <td>transferRDN-B Ref</td>\n",
       "      <td>0.179</td>\n",
       "    </tr>\n",
       "    <tr>\n",
       "      <th>1</th>\n",
       "      <td>transferRDN-B</td>\n",
       "      <td>nan</td>\n",
       "    </tr>\n",
       "  </tbody>\n",
       "</table>\n",
       "</div>"
      ],
      "text/plain": [
       "             p-value  RDN-B\n",
       "0  transferRDN-B Ref  0.179\n",
       "1      transferRDN-B    nan"
      ]
     },
     "metadata": {},
     "output_type": "display_data"
    },
    {
     "name": "stdout",
     "output_type": "stream",
     "text": [
      "\n",
      "\n",
      "Scratch: [0.55335  0.483992 0.508025 0.559342 0.625536]\n",
      "Transfer: [0.646745 0.670088      nan 0.672182 0.667734]\n",
      "Transfer & Revision: [0.57414  0.483992 0.508025 0.578035 0.625536]\n"
     ]
    },
    {
     "data": {
      "text/markdown": [
       "## Precision"
      ],
      "text/plain": [
       "<IPython.core.display.Markdown object>"
      ]
     },
     "metadata": {},
     "output_type": "display_data"
    },
    {
     "name": "stdout",
     "output_type": "stream",
     "text": [
      "\n",
      "\n",
      "Scratch: [0.612637 0.640898 0.513399 0.653846 0.669725]\n",
      "Transfer: [0.612121 0.650071      nan 0.677083 0.665072]\n",
      "Transfer & Revision: [0.603491 0.640898 0.513399 0.661376 0.669725]\n"
     ]
    },
    {
     "data": {
      "text/markdown": [
       "## Learning and Revision time"
      ],
      "text/plain": [
       "<IPython.core.display.Markdown object>"
      ]
     },
     "metadata": {},
     "output_type": "display_data"
    },
    {
     "name": "stdout",
     "output_type": "stream",
     "text": [
      "\n",
      "\n",
      "Scratch: [41.302 11.536  2.695 26.485 11.158]\n",
      "Transfer: [24.781  6.07   1.614  8.704  4.888]\n",
      "Transfer & Revision: [63.451 14.686  3.443 30.83  13.847]\n"
     ]
    },
    {
     "data": {
      "text/markdown": [
       "## Inference time"
      ],
      "text/plain": [
       "<IPython.core.display.Markdown object>"
      ]
     },
     "metadata": {},
     "output_type": "display_data"
    },
    {
     "name": "stdout",
     "output_type": "stream",
     "text": [
      "\n",
      "\n",
      "Scratch: [1.211 1.331 1.029 1.103 1.301]\n",
      "Transfer: [24.781  6.07   1.614  8.704  4.888]\n",
      "Transfer & Revision: [1.173 1.243 1.249 1.244 1.178]\n"
     ]
    },
    {
     "data": {
      "text/markdown": [
       "# Results for 4_uwcse_imdb"
      ],
      "text/plain": [
       "<IPython.core.display.Markdown object>"
      ]
     },
     "metadata": {},
     "output_type": "display_data"
    },
    {
     "data": {
      "text/markdown": [
       "## AUC ROC"
      ],
      "text/plain": [
       "<IPython.core.display.Markdown object>"
      ]
     },
     "metadata": {},
     "output_type": "display_data"
    },
    {
     "name": "stdout",
     "output_type": "stream",
     "text": [
      "T-test for experiment 1\n",
      "Ttest_relResult(statistic=2.021458999083978, pvalue=0.11330925401556155)\n",
      "Ttest_relResult(statistic=1.7054907676405802, pvalue=0.1633009769323901)\n"
     ]
    },
    {
     "data": {
      "text/html": [
       "<div>\n",
       "<table border=\"1\" class=\"dataframe\">\n",
       "  <thead>\n",
       "    <tr style=\"text-align: right;\">\n",
       "      <th></th>\n",
       "      <th>p-value</th>\n",
       "      <th>RDN-B</th>\n",
       "    </tr>\n",
       "  </thead>\n",
       "  <tbody>\n",
       "    <tr>\n",
       "      <th>0</th>\n",
       "      <td>transferRDN-B Ref</td>\n",
       "      <td>0.113</td>\n",
       "    </tr>\n",
       "    <tr>\n",
       "      <th>1</th>\n",
       "      <td>transferRDN-B</td>\n",
       "      <td>0.163</td>\n",
       "    </tr>\n",
       "  </tbody>\n",
       "</table>\n",
       "</div>"
      ],
      "text/plain": [
       "             p-value  RDN-B\n",
       "0  transferRDN-B Ref  0.113\n",
       "1      transferRDN-B  0.163"
      ]
     },
     "metadata": {},
     "output_type": "display_data"
    },
    {
     "name": "stdout",
     "output_type": "stream",
     "text": [
      "\n",
      "\n",
      "Scratch: [0.491661 0.484614 0.480489 0.493003 0.500828]\n",
      "Transfer: [0.495009 0.49719  0.50014  0.497258 0.49635 ]\n",
      "Transfer & Revision: [0.493426 0.495735 0.483937 0.504647 0.499288]\n"
     ]
    },
    {
     "data": {
      "text/markdown": [
       "## AUC PR"
      ],
      "text/plain": [
       "<IPython.core.display.Markdown object>"
      ]
     },
     "metadata": {},
     "output_type": "display_data"
    },
    {
     "name": "stdout",
     "output_type": "stream",
     "text": [
      "T-test for experiment 1\n",
      "Ttest_relResult(statistic=0.49343147501913087, pvalue=0.6475716911775729)\n",
      "Ttest_relResult(statistic=0.9239409678809691, pvalue=0.40780837033732437)\n"
     ]
    },
    {
     "data": {
      "text/html": [
       "<div>\n",
       "<table border=\"1\" class=\"dataframe\">\n",
       "  <thead>\n",
       "    <tr style=\"text-align: right;\">\n",
       "      <th></th>\n",
       "      <th>p-value</th>\n",
       "      <th>RDN-B</th>\n",
       "    </tr>\n",
       "  </thead>\n",
       "  <tbody>\n",
       "    <tr>\n",
       "      <th>0</th>\n",
       "      <td>transferRDN-B Ref</td>\n",
       "      <td>0.648</td>\n",
       "    </tr>\n",
       "    <tr>\n",
       "      <th>1</th>\n",
       "      <td>transferRDN-B</td>\n",
       "      <td>0.408</td>\n",
       "    </tr>\n",
       "  </tbody>\n",
       "</table>\n",
       "</div>"
      ],
      "text/plain": [
       "             p-value  RDN-B\n",
       "0  transferRDN-B Ref  0.648\n",
       "1      transferRDN-B  0.408"
      ]
     },
     "metadata": {},
     "output_type": "display_data"
    },
    {
     "name": "stdout",
     "output_type": "stream",
     "text": [
      "\n",
      "\n",
      "Scratch: [0.495022 0.489343 0.487267 0.494273 0.499097]\n",
      "Transfer: [0.496868 0.498056 0.502391 0.498147 0.488913]\n",
      "Transfer & Revision: [0.495492 0.493126 0.493919 0.498581 0.490479]\n"
     ]
    },
    {
     "data": {
      "text/markdown": [
       "## CLL"
      ],
      "text/plain": [
       "<IPython.core.display.Markdown object>"
      ]
     },
     "metadata": {},
     "output_type": "display_data"
    },
    {
     "name": "stdout",
     "output_type": "stream",
     "text": [
      "T-test for experiment 1\n",
      "Ttest_relResult(statistic=-0.3396733792342669, pvalue=0.7511886311248439)\n",
      "Ttest_relResult(statistic=1.3366284862150515, pvalue=0.2523045054548756)\n"
     ]
    },
    {
     "data": {
      "text/html": [
       "<div>\n",
       "<table border=\"1\" class=\"dataframe\">\n",
       "  <thead>\n",
       "    <tr style=\"text-align: right;\">\n",
       "      <th></th>\n",
       "      <th>p-value</th>\n",
       "      <th>RDN-B</th>\n",
       "    </tr>\n",
       "  </thead>\n",
       "  <tbody>\n",
       "    <tr>\n",
       "      <th>0</th>\n",
       "      <td>transferRDN-B Ref</td>\n",
       "      <td>0.751</td>\n",
       "    </tr>\n",
       "    <tr>\n",
       "      <th>1</th>\n",
       "      <td>transferRDN-B</td>\n",
       "      <td>0.252</td>\n",
       "    </tr>\n",
       "  </tbody>\n",
       "</table>\n",
       "</div>"
      ],
      "text/plain": [
       "             p-value  RDN-B\n",
       "0  transferRDN-B Ref  0.751\n",
       "1      transferRDN-B  0.252"
      ]
     },
     "metadata": {},
     "output_type": "display_data"
    },
    {
     "name": "stdout",
     "output_type": "stream",
     "text": [
      "\n",
      "\n",
      "Scratch: [-0.699092 -0.69806  -0.703178 -0.718411 -0.716119]\n",
      "Transfer: [-0.697378 -0.694501 -0.696145 -0.69453  -0.720515]\n",
      "Transfer & Revision: [-0.699609 -0.697473 -0.704065 -0.712621 -0.725125]\n"
     ]
    },
    {
     "data": {
      "text/markdown": [
       "## Recall"
      ],
      "text/plain": [
       "<IPython.core.display.Markdown object>"
      ]
     },
     "metadata": {},
     "output_type": "display_data"
    },
    {
     "name": "stdout",
     "output_type": "stream",
     "text": [
      "T-test for experiment 1\n",
      "Ttest_relResult(statistic=1.0, pvalue=0.373900966300059)\n",
      "Ttest_relResult(statistic=-2.3919951042919996, pvalue=0.07500508356631337)\n"
     ]
    },
    {
     "data": {
      "text/html": [
       "<div>\n",
       "<table border=\"1\" class=\"dataframe\">\n",
       "  <thead>\n",
       "    <tr style=\"text-align: right;\">\n",
       "      <th></th>\n",
       "      <th>p-value</th>\n",
       "      <th>RDN-B</th>\n",
       "    </tr>\n",
       "  </thead>\n",
       "  <tbody>\n",
       "    <tr>\n",
       "      <th>0</th>\n",
       "      <td>transferRDN-B Ref</td>\n",
       "      <td>0.374</td>\n",
       "    </tr>\n",
       "    <tr>\n",
       "      <th>1</th>\n",
       "      <td>transferRDN-B</td>\n",
       "      <td>0.075</td>\n",
       "    </tr>\n",
       "  </tbody>\n",
       "</table>\n",
       "</div>"
      ],
      "text/plain": [
       "             p-value  RDN-B\n",
       "0  transferRDN-B Ref  0.374\n",
       "1      transferRDN-B  0.075"
      ]
     },
     "metadata": {},
     "output_type": "display_data"
    },
    {
     "name": "stdout",
     "output_type": "stream",
     "text": [
      "\n",
      "\n",
      "Scratch: [0.342342 0.       0.549107 0.405063 0.126582]\n",
      "Transfer: [0.       0.       0.066964 0.       0.126582]\n",
      "Transfer & Revision: [0.342342 0.       0.616071 0.405063 0.126582]\n"
     ]
    },
    {
     "data": {
      "text/markdown": [
       "## F1"
      ],
      "text/plain": [
       "<IPython.core.display.Markdown object>"
      ]
     },
     "metadata": {},
     "output_type": "display_data"
    },
    {
     "name": "stdout",
     "output_type": "stream",
     "text": [
      "T-test for experiment 1\n",
      "Ttest_relResult(statistic=nan, pvalue=nan)\n",
      "Ttest_relResult(statistic=nan, pvalue=nan)\n"
     ]
    },
    {
     "data": {
      "text/html": [
       "<div>\n",
       "<table border=\"1\" class=\"dataframe\">\n",
       "  <thead>\n",
       "    <tr style=\"text-align: right;\">\n",
       "      <th></th>\n",
       "      <th>p-value</th>\n",
       "      <th>RDN-B</th>\n",
       "    </tr>\n",
       "  </thead>\n",
       "  <tbody>\n",
       "    <tr>\n",
       "      <th>0</th>\n",
       "      <td>transferRDN-B Ref</td>\n",
       "      <td>nan</td>\n",
       "    </tr>\n",
       "    <tr>\n",
       "      <th>1</th>\n",
       "      <td>transferRDN-B</td>\n",
       "      <td>nan</td>\n",
       "    </tr>\n",
       "  </tbody>\n",
       "</table>\n",
       "</div>"
      ],
      "text/plain": [
       "             p-value RDN-B\n",
       "0  transferRDN-B Ref   nan\n",
       "1      transferRDN-B   nan"
      ]
     },
     "metadata": {},
     "output_type": "display_data"
    },
    {
     "name": "stdout",
     "output_type": "stream",
     "text": [
      "\n",
      "\n",
      "Scratch: [0.404255      nan 0.51357  0.443418 0.201342]\n",
      "Transfer: [     nan      nan 0.118577      nan 0.201342]\n",
      "Transfer & Revision: [0.404255      nan 0.543307 0.443418 0.201342]\n"
     ]
    },
    {
     "data": {
      "text/markdown": [
       "## Precision"
      ],
      "text/plain": [
       "<IPython.core.display.Markdown object>"
      ]
     },
     "metadata": {},
     "output_type": "display_data"
    },
    {
     "name": "stdout",
     "output_type": "stream",
     "text": [
      "\n",
      "\n",
      "Scratch: [0.493506      nan 0.482353 0.489796 0.491803]\n",
      "Transfer: [     nan      nan 0.517241      nan 0.491803]\n",
      "Transfer & Revision: [0.493506      nan 0.485915 0.489796 0.491803]\n"
     ]
    },
    {
     "data": {
      "text/markdown": [
       "## Learning and Revision time"
      ],
      "text/plain": [
       "<IPython.core.display.Markdown object>"
      ]
     },
     "metadata": {},
     "output_type": "display_data"
    },
    {
     "name": "stdout",
     "output_type": "stream",
     "text": [
      "\n",
      "\n",
      "Scratch: [1.752 1.813 2.365 1.725 1.794]\n",
      "Transfer: [1.758 1.157 1.678 1.649 1.362]\n",
      "Transfer & Revision: [4.996 3.867 6.332 4.515 3.106]\n"
     ]
    },
    {
     "data": {
      "text/markdown": [
       "## Inference time"
      ],
      "text/plain": [
       "<IPython.core.display.Markdown object>"
      ]
     },
     "metadata": {},
     "output_type": "display_data"
    },
    {
     "name": "stdout",
     "output_type": "stream",
     "text": [
      "\n",
      "\n",
      "Scratch: [0.744 0.743 0.673 0.683 0.751]\n",
      "Transfer: [1.758 1.157 1.678 1.649 1.362]\n",
      "Transfer & Revision: [1.975 1.972 1.413 1.662 0.797]\n"
     ]
    },
    {
     "data": {
      "text/markdown": [
       "# Results for 5_imdb_uwcse"
      ],
      "text/plain": [
       "<IPython.core.display.Markdown object>"
      ]
     },
     "metadata": {},
     "output_type": "display_data"
    },
    {
     "data": {
      "text/markdown": [
       "## AUC ROC"
      ],
      "text/plain": [
       "<IPython.core.display.Markdown object>"
      ]
     },
     "metadata": {},
     "output_type": "display_data"
    },
    {
     "name": "stdout",
     "output_type": "stream",
     "text": [
      "T-test for experiment 1\n",
      "Ttest_relResult(statistic=-0.45510204754833655, pvalue=0.6726429020204927)\n",
      "Ttest_relResult(statistic=-0.10044487723784788, pvalue=0.9248242684937348)\n"
     ]
    },
    {
     "data": {
      "text/html": [
       "<div>\n",
       "<table border=\"1\" class=\"dataframe\">\n",
       "  <thead>\n",
       "    <tr style=\"text-align: right;\">\n",
       "      <th></th>\n",
       "      <th>p-value</th>\n",
       "      <th>RDN-B</th>\n",
       "    </tr>\n",
       "  </thead>\n",
       "  <tbody>\n",
       "    <tr>\n",
       "      <th>0</th>\n",
       "      <td>transferRDN-B Ref</td>\n",
       "      <td>0.673</td>\n",
       "    </tr>\n",
       "    <tr>\n",
       "      <th>1</th>\n",
       "      <td>transferRDN-B</td>\n",
       "      <td>0.925</td>\n",
       "    </tr>\n",
       "  </tbody>\n",
       "</table>\n",
       "</div>"
      ],
      "text/plain": [
       "             p-value  RDN-B\n",
       "0  transferRDN-B Ref  0.673\n",
       "1      transferRDN-B  0.925"
      ]
     },
     "metadata": {},
     "output_type": "display_data"
    },
    {
     "name": "stdout",
     "output_type": "stream",
     "text": [
      "\n",
      "\n",
      "Scratch: [0.483293 0.518781 0.500118 0.50925  0.491703]\n",
      "Transfer: [0.5 0.5 0.5 0.5 0.5]\n",
      "Transfer & Revision: [0.493294 0.511096 0.500947 0.49835  0.491173]\n"
     ]
    },
    {
     "data": {
      "text/markdown": [
       "## AUC PR"
      ],
      "text/plain": [
       "<IPython.core.display.Markdown object>"
      ]
     },
     "metadata": {},
     "output_type": "display_data"
    },
    {
     "name": "stdout",
     "output_type": "stream",
     "text": [
      "T-test for experiment 1\n",
      "Ttest_relResult(statistic=-0.7550711961393666, pvalue=0.4922278896841665)\n",
      "Ttest_relResult(statistic=-1.2009895266780846, pvalue=0.29600751522811575)\n"
     ]
    },
    {
     "data": {
      "text/html": [
       "<div>\n",
       "<table border=\"1\" class=\"dataframe\">\n",
       "  <thead>\n",
       "    <tr style=\"text-align: right;\">\n",
       "      <th></th>\n",
       "      <th>p-value</th>\n",
       "      <th>RDN-B</th>\n",
       "    </tr>\n",
       "  </thead>\n",
       "  <tbody>\n",
       "    <tr>\n",
       "      <th>0</th>\n",
       "      <td>transferRDN-B Ref</td>\n",
       "      <td>0.492</td>\n",
       "    </tr>\n",
       "    <tr>\n",
       "      <th>1</th>\n",
       "      <td>transferRDN-B</td>\n",
       "      <td>0.296</td>\n",
       "    </tr>\n",
       "  </tbody>\n",
       "</table>\n",
       "</div>"
      ],
      "text/plain": [
       "             p-value  RDN-B\n",
       "0  transferRDN-B Ref  0.492\n",
       "1      transferRDN-B  0.296"
      ]
     },
     "metadata": {},
     "output_type": "display_data"
    },
    {
     "name": "stdout",
     "output_type": "stream",
     "text": [
      "\n",
      "\n",
      "Scratch: [0.491081 0.50829  0.508873 0.514292 0.501426]\n",
      "Transfer: [0.5 0.5 0.5 0.5 0.5]\n",
      "Transfer & Revision: [0.492195 0.5032   0.509704 0.504048 0.505231]\n"
     ]
    },
    {
     "data": {
      "text/markdown": [
       "## CLL"
      ],
      "text/plain": [
       "<IPython.core.display.Markdown object>"
      ]
     },
     "metadata": {},
     "output_type": "display_data"
    },
    {
     "name": "stdout",
     "output_type": "stream",
     "text": [
      "T-test for experiment 1\n",
      "Ttest_relResult(statistic=2.294453932932237, pvalue=0.08344678590612374)\n",
      "Ttest_relResult(statistic=3.649848546592138, pvalue=0.021774379433886725)\n"
     ]
    },
    {
     "data": {
      "text/html": [
       "<div>\n",
       "<table border=\"1\" class=\"dataframe\">\n",
       "  <thead>\n",
       "    <tr style=\"text-align: right;\">\n",
       "      <th></th>\n",
       "      <th>p-value</th>\n",
       "      <th>RDN-B</th>\n",
       "    </tr>\n",
       "  </thead>\n",
       "  <tbody>\n",
       "    <tr>\n",
       "      <th>0</th>\n",
       "      <td>transferRDN-B Ref</td>\n",
       "      <td>0.083</td>\n",
       "    </tr>\n",
       "    <tr>\n",
       "      <th>1</th>\n",
       "      <td>transferRDN-B</td>\n",
       "      <td>0.022</td>\n",
       "    </tr>\n",
       "  </tbody>\n",
       "</table>\n",
       "</div>"
      ],
      "text/plain": [
       "             p-value  RDN-B\n",
       "0  transferRDN-B Ref  0.083\n",
       "1      transferRDN-B  0.022"
      ]
     },
     "metadata": {},
     "output_type": "display_data"
    },
    {
     "name": "stdout",
     "output_type": "stream",
     "text": [
      "\n",
      "\n",
      "Scratch: [-0.715178 -0.705998 -0.714844 -0.710959 -0.741741]\n",
      "Transfer: [-0.695026 -0.695026 -0.695026 -0.695026 -0.695026]\n",
      "Transfer & Revision: [-0.711561 -0.705846 -0.71281  -0.709257 -0.733649]\n"
     ]
    },
    {
     "data": {
      "text/markdown": [
       "## Recall"
      ],
      "text/plain": [
       "<IPython.core.display.Markdown object>"
      ]
     },
     "metadata": {},
     "output_type": "display_data"
    },
    {
     "name": "stdout",
     "output_type": "stream",
     "text": [
      "T-test for experiment 1\n",
      "Ttest_relResult(statistic=1.5525419762174137, pvalue=0.1954871628573297)\n",
      "Ttest_relResult(statistic=-9.964326356846813, pvalue=0.0005698326722106213)\n"
     ]
    },
    {
     "data": {
      "text/html": [
       "<div>\n",
       "<table border=\"1\" class=\"dataframe\">\n",
       "  <thead>\n",
       "    <tr style=\"text-align: right;\">\n",
       "      <th></th>\n",
       "      <th>p-value</th>\n",
       "      <th>RDN-B</th>\n",
       "    </tr>\n",
       "  </thead>\n",
       "  <tbody>\n",
       "    <tr>\n",
       "      <th>0</th>\n",
       "      <td>transferRDN-B Ref</td>\n",
       "      <td>0.195</td>\n",
       "    </tr>\n",
       "    <tr>\n",
       "      <th>1</th>\n",
       "      <td>transferRDN-B</td>\n",
       "      <td>0.001</td>\n",
       "    </tr>\n",
       "  </tbody>\n",
       "</table>\n",
       "</div>"
      ],
      "text/plain": [
       "             p-value  RDN-B\n",
       "0  transferRDN-B Ref  0.195\n",
       "1      transferRDN-B  0.001"
      ]
     },
     "metadata": {},
     "output_type": "display_data"
    },
    {
     "name": "stdout",
     "output_type": "stream",
     "text": [
      "\n",
      "\n",
      "Scratch: [0.505376 0.347458 0.415385 0.48     0.285714]\n",
      "Transfer: [0. 0. 0. 0. 0.]\n",
      "Transfer & Revision: [0.516129 0.5      0.461538 0.49     0.285714]\n"
     ]
    },
    {
     "data": {
      "text/markdown": [
       "## F1"
      ],
      "text/plain": [
       "<IPython.core.display.Markdown object>"
      ]
     },
     "metadata": {},
     "output_type": "display_data"
    },
    {
     "name": "stdout",
     "output_type": "stream",
     "text": [
      "T-test for experiment 1\n",
      "Ttest_relResult(statistic=1.5739913401498271, pvalue=0.19060310531380512)\n",
      "Ttest_relResult(statistic=nan, pvalue=nan)\n"
     ]
    },
    {
     "data": {
      "text/html": [
       "<div>\n",
       "<table border=\"1\" class=\"dataframe\">\n",
       "  <thead>\n",
       "    <tr style=\"text-align: right;\">\n",
       "      <th></th>\n",
       "      <th>p-value</th>\n",
       "      <th>RDN-B</th>\n",
       "    </tr>\n",
       "  </thead>\n",
       "  <tbody>\n",
       "    <tr>\n",
       "      <th>0</th>\n",
       "      <td>transferRDN-B Ref</td>\n",
       "      <td>0.191</td>\n",
       "    </tr>\n",
       "    <tr>\n",
       "      <th>1</th>\n",
       "      <td>transferRDN-B</td>\n",
       "      <td>nan</td>\n",
       "    </tr>\n",
       "  </tbody>\n",
       "</table>\n",
       "</div>"
      ],
      "text/plain": [
       "             p-value  RDN-B\n",
       "0  transferRDN-B Ref  0.191\n",
       "1      transferRDN-B    nan"
      ]
     },
     "metadata": {},
     "output_type": "display_data"
    },
    {
     "name": "stdout",
     "output_type": "stream",
     "text": [
      "\n",
      "\n",
      "Scratch: [0.497354 0.41206  0.448133 0.494845 0.363636]\n",
      "Transfer: [nan nan nan nan nan]\n",
      "Transfer & Revision: [0.507937 0.502128 0.47619  0.497462 0.363636]\n"
     ]
    },
    {
     "data": {
      "text/markdown": [
       "## Precision"
      ],
      "text/plain": [
       "<IPython.core.display.Markdown object>"
      ]
     },
     "metadata": {},
     "output_type": "display_data"
    },
    {
     "name": "stdout",
     "output_type": "stream",
     "text": [
      "\n",
      "\n",
      "Scratch: [0.489583 0.506173 0.486486 0.510638 0.5     ]\n",
      "Transfer: [nan nan nan nan nan]\n",
      "Transfer & Revision: [0.5      0.504274 0.491803 0.505155 0.5     ]\n"
     ]
    },
    {
     "data": {
      "text/markdown": [
       "## Learning and Revision time"
      ],
      "text/plain": [
       "<IPython.core.display.Markdown object>"
      ]
     },
     "metadata": {},
     "output_type": "display_data"
    },
    {
     "name": "stdout",
     "output_type": "stream",
     "text": [
      "\n",
      "\n",
      "Scratch: [11.395 12.695  3.807 12.721 14.326]\n",
      "Transfer: [3.381 2.738 2.103 4.9   7.191]\n",
      "Transfer & Revision: [19.983 17.591  5.725 16.068 17.345]\n"
     ]
    },
    {
     "data": {
      "text/markdown": [
       "## Inference time"
      ],
      "text/plain": [
       "<IPython.core.display.Markdown object>"
      ]
     },
     "metadata": {},
     "output_type": "display_data"
    },
    {
     "name": "stdout",
     "output_type": "stream",
     "text": [
      "\n",
      "\n",
      "Scratch: [0.855 1.046 0.823 0.896 1.073]\n",
      "Transfer: [3.381 2.738 2.103 4.9   7.191]\n",
      "Transfer & Revision: [0.855 0.928 0.8   0.885 0.938]\n"
     ]
    },
    {
     "data": {
      "text/markdown": [
       "# Results for 6_uwcse_imdb"
      ],
      "text/plain": [
       "<IPython.core.display.Markdown object>"
      ]
     },
     "metadata": {},
     "output_type": "display_data"
    },
    {
     "data": {
      "text/markdown": [
       "## AUC ROC"
      ],
      "text/plain": [
       "<IPython.core.display.Markdown object>"
      ]
     },
     "metadata": {},
     "output_type": "display_data"
    },
    {
     "name": "stdout",
     "output_type": "stream",
     "text": [
      "T-test for experiment 1\n",
      "Ttest_relResult(statistic=1.0, pvalue=0.373900966300059)\n",
      "Ttest_relResult(statistic=1.0, pvalue=0.373900966300059)\n"
     ]
    },
    {
     "data": {
      "text/html": [
       "<div>\n",
       "<table border=\"1\" class=\"dataframe\">\n",
       "  <thead>\n",
       "    <tr style=\"text-align: right;\">\n",
       "      <th></th>\n",
       "      <th>p-value</th>\n",
       "      <th>RDN-B</th>\n",
       "    </tr>\n",
       "  </thead>\n",
       "  <tbody>\n",
       "    <tr>\n",
       "      <th>0</th>\n",
       "      <td>transferRDN-B Ref</td>\n",
       "      <td>0.374</td>\n",
       "    </tr>\n",
       "    <tr>\n",
       "      <th>1</th>\n",
       "      <td>transferRDN-B</td>\n",
       "      <td>0.374</td>\n",
       "    </tr>\n",
       "  </tbody>\n",
       "</table>\n",
       "</div>"
      ],
      "text/plain": [
       "             p-value  RDN-B\n",
       "0  transferRDN-B Ref  0.374\n",
       "1      transferRDN-B  0.374"
      ]
     },
     "metadata": {},
     "output_type": "display_data"
    },
    {
     "name": "stdout",
     "output_type": "stream",
     "text": [
      "\n",
      "\n",
      "Scratch: [0.875    0.885714 0.965517 0.906977 0.5     ]\n",
      "Transfer: [0.875    0.885714 0.965517 0.906977 0.9     ]\n",
      "Transfer & Revision: [0.875    0.885714 0.965517 0.906977 0.9     ]\n"
     ]
    },
    {
     "data": {
      "text/markdown": [
       "## AUC PR"
      ],
      "text/plain": [
       "<IPython.core.display.Markdown object>"
      ]
     },
     "metadata": {},
     "output_type": "display_data"
    },
    {
     "name": "stdout",
     "output_type": "stream",
     "text": [
      "T-test for experiment 1\n",
      "Ttest_relResult(statistic=1.0, pvalue=0.373900966300059)\n",
      "Ttest_relResult(statistic=1.0, pvalue=0.373900966300059)\n"
     ]
    },
    {
     "data": {
      "text/html": [
       "<div>\n",
       "<table border=\"1\" class=\"dataframe\">\n",
       "  <thead>\n",
       "    <tr style=\"text-align: right;\">\n",
       "      <th></th>\n",
       "      <th>p-value</th>\n",
       "      <th>RDN-B</th>\n",
       "    </tr>\n",
       "  </thead>\n",
       "  <tbody>\n",
       "    <tr>\n",
       "      <th>0</th>\n",
       "      <td>transferRDN-B Ref</td>\n",
       "      <td>0.374</td>\n",
       "    </tr>\n",
       "    <tr>\n",
       "      <th>1</th>\n",
       "      <td>transferRDN-B</td>\n",
       "      <td>0.374</td>\n",
       "    </tr>\n",
       "  </tbody>\n",
       "</table>\n",
       "</div>"
      ],
      "text/plain": [
       "             p-value  RDN-B\n",
       "0  transferRDN-B Ref  0.374\n",
       "1      transferRDN-B  0.374"
      ]
     },
     "metadata": {},
     "output_type": "display_data"
    },
    {
     "name": "stdout",
     "output_type": "stream",
     "text": [
      "\n",
      "\n",
      "Scratch: [0.8      0.813953 0.935484 0.843137 0.5     ]\n",
      "Transfer: [0.8      0.813953 0.935484 0.843137 0.833333]\n",
      "Transfer & Revision: [0.8      0.813953 0.935484 0.843137 0.833333]\n"
     ]
    },
    {
     "data": {
      "text/markdown": [
       "## CLL"
      ],
      "text/plain": [
       "<IPython.core.display.Markdown object>"
      ]
     },
     "metadata": {},
     "output_type": "display_data"
    },
    {
     "name": "stdout",
     "output_type": "stream",
     "text": [
      "T-test for experiment 1\n",
      "Ttest_relResult(statistic=1.0, pvalue=0.373900966300059)\n",
      "Ttest_relResult(statistic=0.9691008965145538, pvalue=0.3873724919655238)\n"
     ]
    },
    {
     "data": {
      "text/html": [
       "<div>\n",
       "<table border=\"1\" class=\"dataframe\">\n",
       "  <thead>\n",
       "    <tr style=\"text-align: right;\">\n",
       "      <th></th>\n",
       "      <th>p-value</th>\n",
       "      <th>RDN-B</th>\n",
       "    </tr>\n",
       "  </thead>\n",
       "  <tbody>\n",
       "    <tr>\n",
       "      <th>0</th>\n",
       "      <td>transferRDN-B Ref</td>\n",
       "      <td>0.374</td>\n",
       "    </tr>\n",
       "    <tr>\n",
       "      <th>1</th>\n",
       "      <td>transferRDN-B</td>\n",
       "      <td>0.387</td>\n",
       "    </tr>\n",
       "  </tbody>\n",
       "</table>\n",
       "</div>"
      ],
      "text/plain": [
       "             p-value  RDN-B\n",
       "0  transferRDN-B Ref  0.374\n",
       "1      transferRDN-B  0.387"
      ]
     },
     "metadata": {},
     "output_type": "display_data"
    },
    {
     "name": "stdout",
     "output_type": "stream",
     "text": [
      "\n",
      "\n",
      "Scratch: [-0.352709 -0.320018 -0.264596 -0.300536 -1.052978]\n",
      "Transfer: [-0.35253  -0.323511 -0.273236 -0.307206 -0.303054]\n",
      "Transfer & Revision: [-0.352709 -0.320018 -0.264596 -0.300536 -0.299463]\n"
     ]
    },
    {
     "data": {
      "text/markdown": [
       "## Recall"
      ],
      "text/plain": [
       "<IPython.core.display.Markdown object>"
      ]
     },
     "metadata": {},
     "output_type": "display_data"
    },
    {
     "name": "stdout",
     "output_type": "stream",
     "text": [
      "T-test for experiment 1\n",
      "Ttest_relResult(statistic=1.0, pvalue=0.373900966300059)\n",
      "Ttest_relResult(statistic=1.0, pvalue=0.373900966300059)\n"
     ]
    },
    {
     "data": {
      "text/html": [
       "<div>\n",
       "<table border=\"1\" class=\"dataframe\">\n",
       "  <thead>\n",
       "    <tr style=\"text-align: right;\">\n",
       "      <th></th>\n",
       "      <th>p-value</th>\n",
       "      <th>RDN-B</th>\n",
       "    </tr>\n",
       "  </thead>\n",
       "  <tbody>\n",
       "    <tr>\n",
       "      <th>0</th>\n",
       "      <td>transferRDN-B Ref</td>\n",
       "      <td>0.374</td>\n",
       "    </tr>\n",
       "    <tr>\n",
       "      <th>1</th>\n",
       "      <td>transferRDN-B</td>\n",
       "      <td>0.374</td>\n",
       "    </tr>\n",
       "  </tbody>\n",
       "</table>\n",
       "</div>"
      ],
      "text/plain": [
       "             p-value  RDN-B\n",
       "0  transferRDN-B Ref  0.374\n",
       "1      transferRDN-B  0.374"
      ]
     },
     "metadata": {},
     "output_type": "display_data"
    },
    {
     "name": "stdout",
     "output_type": "stream",
     "text": [
      "\n",
      "\n",
      "Scratch: [1. 1. 1. 1. 0.]\n",
      "Transfer: [1. 1. 1. 1. 1.]\n",
      "Transfer & Revision: [1. 1. 1. 1. 1.]\n"
     ]
    },
    {
     "data": {
      "text/markdown": [
       "## F1"
      ],
      "text/plain": [
       "<IPython.core.display.Markdown object>"
      ]
     },
     "metadata": {},
     "output_type": "display_data"
    },
    {
     "name": "stdout",
     "output_type": "stream",
     "text": [
      "T-test for experiment 1\n",
      "Ttest_relResult(statistic=nan, pvalue=nan)\n",
      "Ttest_relResult(statistic=nan, pvalue=nan)\n"
     ]
    },
    {
     "data": {
      "text/html": [
       "<div>\n",
       "<table border=\"1\" class=\"dataframe\">\n",
       "  <thead>\n",
       "    <tr style=\"text-align: right;\">\n",
       "      <th></th>\n",
       "      <th>p-value</th>\n",
       "      <th>RDN-B</th>\n",
       "    </tr>\n",
       "  </thead>\n",
       "  <tbody>\n",
       "    <tr>\n",
       "      <th>0</th>\n",
       "      <td>transferRDN-B Ref</td>\n",
       "      <td>nan</td>\n",
       "    </tr>\n",
       "    <tr>\n",
       "      <th>1</th>\n",
       "      <td>transferRDN-B</td>\n",
       "      <td>nan</td>\n",
       "    </tr>\n",
       "  </tbody>\n",
       "</table>\n",
       "</div>"
      ],
      "text/plain": [
       "             p-value RDN-B\n",
       "0  transferRDN-B Ref   nan\n",
       "1      transferRDN-B   nan"
      ]
     },
     "metadata": {},
     "output_type": "display_data"
    },
    {
     "name": "stdout",
     "output_type": "stream",
     "text": [
      "\n",
      "\n",
      "Scratch: [0.888889 0.897436 0.966667 0.914894      nan]\n",
      "Transfer: [0.888889 0.897436 0.966667 0.914894 0.909091]\n",
      "Transfer & Revision: [0.888889 0.897436 0.966667 0.914894 0.909091]\n"
     ]
    },
    {
     "data": {
      "text/markdown": [
       "## Precision"
      ],
      "text/plain": [
       "<IPython.core.display.Markdown object>"
      ]
     },
     "metadata": {},
     "output_type": "display_data"
    },
    {
     "name": "stdout",
     "output_type": "stream",
     "text": [
      "\n",
      "\n",
      "Scratch: [0.8      0.813953 0.935484 0.843137      nan]\n",
      "Transfer: [0.8      0.813953 0.935484 0.843137 0.833333]\n",
      "Transfer & Revision: [0.8      0.813953 0.935484 0.843137 0.833333]\n"
     ]
    },
    {
     "data": {
      "text/markdown": [
       "## Learning and Revision time"
      ],
      "text/plain": [
       "<IPython.core.display.Markdown object>"
      ]
     },
     "metadata": {},
     "output_type": "display_data"
    },
    {
     "name": "stdout",
     "output_type": "stream",
     "text": [
      "\n",
      "\n",
      "Scratch: [1.211 1.357 1.624 1.044 0.723]\n",
      "Transfer: [1.074 1.059 1.393 0.877 0.803]\n",
      "Transfer & Revision: [1.933 2.39  3.073 1.667 1.472]\n"
     ]
    },
    {
     "data": {
      "text/markdown": [
       "## Inference time"
      ],
      "text/plain": [
       "<IPython.core.display.Markdown object>"
      ]
     },
     "metadata": {},
     "output_type": "display_data"
    },
    {
     "name": "stdout",
     "output_type": "stream",
     "text": [
      "\n",
      "\n",
      "Scratch: [0.509 0.524 0.522 0.538 0.523]\n",
      "Transfer: [1.074 1.059 1.393 0.877 0.803]\n",
      "Transfer & Revision: [0.539 0.562 0.551 0.56  0.54 ]\n"
     ]
    },
    {
     "data": {
      "text/markdown": [
       "# Results for 7_imdb_cora"
      ],
      "text/plain": [
       "<IPython.core.display.Markdown object>"
      ]
     },
     "metadata": {},
     "output_type": "display_data"
    },
    {
     "data": {
      "text/markdown": [
       "## AUC ROC"
      ],
      "text/plain": [
       "<IPython.core.display.Markdown object>"
      ]
     },
     "metadata": {},
     "output_type": "display_data"
    },
    {
     "name": "stdout",
     "output_type": "stream",
     "text": [
      "T-test for experiment 1\n",
      "Ttest_relResult(statistic=-1.0924589889945526, pvalue=0.33601639375602715)\n",
      "Ttest_relResult(statistic=-2.3200314458120386, pvalue=0.08113388824597977)\n"
     ]
    },
    {
     "data": {
      "text/html": [
       "<div>\n",
       "<table border=\"1\" class=\"dataframe\">\n",
       "  <thead>\n",
       "    <tr style=\"text-align: right;\">\n",
       "      <th></th>\n",
       "      <th>p-value</th>\n",
       "      <th>RDN-B</th>\n",
       "    </tr>\n",
       "  </thead>\n",
       "  <tbody>\n",
       "    <tr>\n",
       "      <th>0</th>\n",
       "      <td>transferRDN-B Ref</td>\n",
       "      <td>0.336</td>\n",
       "    </tr>\n",
       "    <tr>\n",
       "      <th>1</th>\n",
       "      <td>transferRDN-B</td>\n",
       "      <td>0.081</td>\n",
       "    </tr>\n",
       "  </tbody>\n",
       "</table>\n",
       "</div>"
      ],
      "text/plain": [
       "             p-value  RDN-B\n",
       "0  transferRDN-B Ref  0.336\n",
       "1      transferRDN-B  0.081"
      ]
     },
     "metadata": {},
     "output_type": "display_data"
    },
    {
     "name": "stdout",
     "output_type": "stream",
     "text": [
      "\n",
      "\n",
      "Scratch: [0.853829 0.554561 0.858227 0.58278  0.542732]\n",
      "Transfer: [0.546475 0.437142 0.547299 0.558035 0.535236]\n",
      "Transfer & Revision: [0.861173 0.546298 0.555388 0.562968 0.540767]\n"
     ]
    },
    {
     "data": {
      "text/markdown": [
       "## AUC PR"
      ],
      "text/plain": [
       "<IPython.core.display.Markdown object>"
      ]
     },
     "metadata": {},
     "output_type": "display_data"
    },
    {
     "name": "stdout",
     "output_type": "stream",
     "text": [
      "T-test for experiment 1\n",
      "Ttest_relResult(statistic=-1.1390907300496613, pvalue=0.3182514610040248)\n",
      "Ttest_relResult(statistic=-2.4926045881213668, pvalue=0.0672966038535355)\n"
     ]
    },
    {
     "data": {
      "text/html": [
       "<div>\n",
       "<table border=\"1\" class=\"dataframe\">\n",
       "  <thead>\n",
       "    <tr style=\"text-align: right;\">\n",
       "      <th></th>\n",
       "      <th>p-value</th>\n",
       "      <th>RDN-B</th>\n",
       "    </tr>\n",
       "  </thead>\n",
       "  <tbody>\n",
       "    <tr>\n",
       "      <th>0</th>\n",
       "      <td>transferRDN-B Ref</td>\n",
       "      <td>0.318</td>\n",
       "    </tr>\n",
       "    <tr>\n",
       "      <th>1</th>\n",
       "      <td>transferRDN-B</td>\n",
       "      <td>0.067</td>\n",
       "    </tr>\n",
       "  </tbody>\n",
       "</table>\n",
       "</div>"
      ],
      "text/plain": [
       "             p-value  RDN-B\n",
       "0  transferRDN-B Ref  0.318\n",
       "1      transferRDN-B  0.067"
      ]
     },
     "metadata": {},
     "output_type": "display_data"
    },
    {
     "name": "stdout",
     "output_type": "stream",
     "text": [
      "\n",
      "\n",
      "Scratch: [0.806379 0.528199 0.8113   0.596506 0.56526 ]\n",
      "Transfer: [0.552575 0.443375 0.555563 0.56414  0.542776]\n",
      "Transfer & Revision: [0.823759 0.516014 0.564292 0.563819 0.563018]\n"
     ]
    },
    {
     "data": {
      "text/markdown": [
       "## CLL"
      ],
      "text/plain": [
       "<IPython.core.display.Markdown object>"
      ]
     },
     "metadata": {},
     "output_type": "display_data"
    },
    {
     "name": "stdout",
     "output_type": "stream",
     "text": [
      "T-test for experiment 1\n",
      "Ttest_relResult(statistic=-0.9661334850677126, pvalue=0.3886879861450788)\n",
      "Ttest_relResult(statistic=-1.709185963999658, pvalue=0.16259568652669815)\n"
     ]
    },
    {
     "data": {
      "text/html": [
       "<div>\n",
       "<table border=\"1\" class=\"dataframe\">\n",
       "  <thead>\n",
       "    <tr style=\"text-align: right;\">\n",
       "      <th></th>\n",
       "      <th>p-value</th>\n",
       "      <th>RDN-B</th>\n",
       "    </tr>\n",
       "  </thead>\n",
       "  <tbody>\n",
       "    <tr>\n",
       "      <th>0</th>\n",
       "      <td>transferRDN-B Ref</td>\n",
       "      <td>0.389</td>\n",
       "    </tr>\n",
       "    <tr>\n",
       "      <th>1</th>\n",
       "      <td>transferRDN-B</td>\n",
       "      <td>0.163</td>\n",
       "    </tr>\n",
       "  </tbody>\n",
       "</table>\n",
       "</div>"
      ],
      "text/plain": [
       "             p-value  RDN-B\n",
       "0  transferRDN-B Ref  0.389\n",
       "1      transferRDN-B  0.163"
      ]
     },
     "metadata": {},
     "output_type": "display_data"
    },
    {
     "name": "stdout",
     "output_type": "stream",
     "text": [
      "\n",
      "\n",
      "Scratch: [-0.461551 -0.704582 -0.482109 -0.675534 -0.689584]\n",
      "Transfer: [-0.684943 -0.710286 -0.684914 -0.686242 -0.685676]\n",
      "Transfer & Revision: [-0.448797 -0.707285 -0.673539 -0.679388 -0.691016]\n"
     ]
    },
    {
     "data": {
      "text/markdown": [
       "## Recall"
      ],
      "text/plain": [
       "<IPython.core.display.Markdown object>"
      ]
     },
     "metadata": {},
     "output_type": "display_data"
    },
    {
     "name": "stdout",
     "output_type": "stream",
     "text": [
      "T-test for experiment 1\n",
      "Ttest_relResult(statistic=-1.6664307302499766, pvalue=0.1709560816741884)\n",
      "Ttest_relResult(statistic=-0.2024973862120045, pvalue=0.849410560025724)\n"
     ]
    },
    {
     "data": {
      "text/html": [
       "<div>\n",
       "<table border=\"1\" class=\"dataframe\">\n",
       "  <thead>\n",
       "    <tr style=\"text-align: right;\">\n",
       "      <th></th>\n",
       "      <th>p-value</th>\n",
       "      <th>RDN-B</th>\n",
       "    </tr>\n",
       "  </thead>\n",
       "  <tbody>\n",
       "    <tr>\n",
       "      <th>0</th>\n",
       "      <td>transferRDN-B Ref</td>\n",
       "      <td>0.171</td>\n",
       "    </tr>\n",
       "    <tr>\n",
       "      <th>1</th>\n",
       "      <td>transferRDN-B</td>\n",
       "      <td>0.849</td>\n",
       "    </tr>\n",
       "  </tbody>\n",
       "</table>\n",
       "</div>"
      ],
      "text/plain": [
       "             p-value  RDN-B\n",
       "0  transferRDN-B Ref  0.171\n",
       "1      transferRDN-B  0.849"
      ]
     },
     "metadata": {},
     "output_type": "display_data"
    },
    {
     "name": "stdout",
     "output_type": "stream",
     "text": [
      "\n",
      "\n",
      "Scratch: [0.919215 0.956812 0.945813 0.104405 0.941224]\n",
      "Transfer: [0.94413  1.       0.944992 0.       0.952169]\n",
      "Transfer & Revision: [0.9094   0.954586 0.945402 0.051982 0.927037]\n"
     ]
    },
    {
     "data": {
      "text/markdown": [
       "## F1"
      ],
      "text/plain": [
       "<IPython.core.display.Markdown object>"
      ]
     },
     "metadata": {},
     "output_type": "display_data"
    },
    {
     "name": "stdout",
     "output_type": "stream",
     "text": [
      "T-test for experiment 1\n",
      "Ttest_relResult(statistic=-1.5350177170980004, pvalue=0.19957272893964093)\n",
      "Ttest_relResult(statistic=nan, pvalue=nan)\n"
     ]
    },
    {
     "data": {
      "text/html": [
       "<div>\n",
       "<table border=\"1\" class=\"dataframe\">\n",
       "  <thead>\n",
       "    <tr style=\"text-align: right;\">\n",
       "      <th></th>\n",
       "      <th>p-value</th>\n",
       "      <th>RDN-B</th>\n",
       "    </tr>\n",
       "  </thead>\n",
       "  <tbody>\n",
       "    <tr>\n",
       "      <th>0</th>\n",
       "      <td>transferRDN-B Ref</td>\n",
       "      <td>0.200</td>\n",
       "    </tr>\n",
       "    <tr>\n",
       "      <th>1</th>\n",
       "      <td>transferRDN-B</td>\n",
       "      <td>nan</td>\n",
       "    </tr>\n",
       "  </tbody>\n",
       "</table>\n",
       "</div>"
      ],
      "text/plain": [
       "             p-value  RDN-B\n",
       "0  transferRDN-B Ref  0.200\n",
       "1      transferRDN-B    nan"
      ]
     },
     "metadata": {},
     "output_type": "display_data"
    },
    {
     "name": "stdout",
     "output_type": "stream",
     "text": [
      "\n",
      "\n",
      "Scratch: [0.869488 0.68702  0.874549 0.179954 0.689737]\n",
      "Transfer: [0.697726 0.671651 0.700335      nan 0.691798]\n",
      "Transfer & Revision: [0.871248 0.687179 0.701706 0.094893 0.683298]\n"
     ]
    },
    {
     "data": {
      "text/markdown": [
       "## Precision"
      ],
      "text/plain": [
       "<IPython.core.display.Markdown object>"
      ]
     },
     "metadata": {},
     "output_type": "display_data"
    },
    {
     "name": "stdout",
     "output_type": "stream",
     "text": [
      "\n",
      "\n",
      "Scratch: [0.824864 0.53591  0.813272 0.651099 0.544304]\n",
      "Transfer: [0.553319 0.505628 0.556307      nan 0.543247]\n",
      "Transfer & Revision: [0.836168 0.536805 0.557897 0.543779 0.541046]\n"
     ]
    },
    {
     "data": {
      "text/markdown": [
       "## Learning and Revision time"
      ],
      "text/plain": [
       "<IPython.core.display.Markdown object>"
      ]
     },
     "metadata": {},
     "output_type": "display_data"
    },
    {
     "name": "stdout",
     "output_type": "stream",
     "text": [
      "\n",
      "\n",
      "Scratch: [269.387 150.995 111.778 184.341  95.117]\n",
      "Transfer: [163.855  51.02   12.692  69.021  41.941]\n",
      "Transfer & Revision: [435.206 199.211  46.544 175.758 132.605]\n"
     ]
    },
    {
     "data": {
      "text/markdown": [
       "## Inference time"
      ],
      "text/plain": [
       "<IPython.core.display.Markdown object>"
      ]
     },
     "metadata": {},
     "output_type": "display_data"
    },
    {
     "name": "stdout",
     "output_type": "stream",
     "text": [
      "\n",
      "\n",
      "Scratch: [40.527  5.953 19.929  7.364  6.312]\n",
      "Transfer: [163.855  51.02   12.692  69.021  41.941]\n",
      "Transfer & Revision: [96.125  6.374  4.559  5.739 34.311]\n"
     ]
    },
    {
     "data": {
      "text/markdown": [
       "# Results for 8_imdb_cora"
      ],
      "text/plain": [
       "<IPython.core.display.Markdown object>"
      ]
     },
     "metadata": {},
     "output_type": "display_data"
    },
    {
     "data": {
      "text/markdown": [
       "## AUC ROC"
      ],
      "text/plain": [
       "<IPython.core.display.Markdown object>"
      ]
     },
     "metadata": {},
     "output_type": "display_data"
    },
    {
     "name": "stdout",
     "output_type": "stream",
     "text": [
      "T-test for experiment 1\n",
      "Ttest_relResult(statistic=-0.9887900150370271, pvalue=0.3787407088154089)\n",
      "Ttest_relResult(statistic=-3.670924150975854, pvalue=0.02137376519436861)\n"
     ]
    },
    {
     "data": {
      "text/html": [
       "<div>\n",
       "<table border=\"1\" class=\"dataframe\">\n",
       "  <thead>\n",
       "    <tr style=\"text-align: right;\">\n",
       "      <th></th>\n",
       "      <th>p-value</th>\n",
       "      <th>RDN-B</th>\n",
       "    </tr>\n",
       "  </thead>\n",
       "  <tbody>\n",
       "    <tr>\n",
       "      <th>0</th>\n",
       "      <td>transferRDN-B Ref</td>\n",
       "      <td>0.379</td>\n",
       "    </tr>\n",
       "    <tr>\n",
       "      <th>1</th>\n",
       "      <td>transferRDN-B</td>\n",
       "      <td>0.021</td>\n",
       "    </tr>\n",
       "  </tbody>\n",
       "</table>\n",
       "</div>"
      ],
      "text/plain": [
       "             p-value  RDN-B\n",
       "0  transferRDN-B Ref  0.379\n",
       "1      transferRDN-B  0.021"
      ]
     },
     "metadata": {},
     "output_type": "display_data"
    },
    {
     "name": "stdout",
     "output_type": "stream",
     "text": [
      "\n",
      "\n",
      "Scratch: [0.93372  0.938989 0.935975 0.929973 0.939901]\n",
      "Transfer: [0.670404 0.487921 0.689632 0.508853 0.917677]\n",
      "Transfer & Revision: [0.933676 0.937655 0.897693 0.931628 0.93991 ]\n"
     ]
    },
    {
     "data": {
      "text/markdown": [
       "## AUC PR"
      ],
      "text/plain": [
       "<IPython.core.display.Markdown object>"
      ]
     },
     "metadata": {},
     "output_type": "display_data"
    },
    {
     "name": "stdout",
     "output_type": "stream",
     "text": [
      "T-test for experiment 1\n",
      "Ttest_relResult(statistic=-0.9738875854181517, pvalue=0.385258544843635)\n",
      "Ttest_relResult(statistic=-2.9977751410447593, pvalue=0.04002971117003192)\n"
     ]
    },
    {
     "data": {
      "text/html": [
       "<div>\n",
       "<table border=\"1\" class=\"dataframe\">\n",
       "  <thead>\n",
       "    <tr style=\"text-align: right;\">\n",
       "      <th></th>\n",
       "      <th>p-value</th>\n",
       "      <th>RDN-B</th>\n",
       "    </tr>\n",
       "  </thead>\n",
       "  <tbody>\n",
       "    <tr>\n",
       "      <th>0</th>\n",
       "      <td>transferRDN-B Ref</td>\n",
       "      <td>0.385</td>\n",
       "    </tr>\n",
       "    <tr>\n",
       "      <th>1</th>\n",
       "      <td>transferRDN-B</td>\n",
       "      <td>0.040</td>\n",
       "    </tr>\n",
       "  </tbody>\n",
       "</table>\n",
       "</div>"
      ],
      "text/plain": [
       "             p-value  RDN-B\n",
       "0  transferRDN-B Ref  0.385\n",
       "1      transferRDN-B  0.040"
      ]
     },
     "metadata": {},
     "output_type": "display_data"
    },
    {
     "name": "stdout",
     "output_type": "stream",
     "text": [
      "\n",
      "\n",
      "Scratch: [0.967303 0.956127 0.972238 0.958421 0.969509]\n",
      "Transfer: [0.814931 0.560189 0.830756 0.639862 0.956233]\n",
      "Transfer & Revision: [0.967275 0.953337 0.925073 0.961983 0.969546]\n"
     ]
    },
    {
     "data": {
      "text/markdown": [
       "## CLL"
      ],
      "text/plain": [
       "<IPython.core.display.Markdown object>"
      ]
     },
     "metadata": {},
     "output_type": "display_data"
    },
    {
     "name": "stdout",
     "output_type": "stream",
     "text": [
      "T-test for experiment 1\n",
      "Ttest_relResult(statistic=-1.8166311028160869, pvalue=0.14343744708023745)\n",
      "Ttest_relResult(statistic=-4.091351974732125, pvalue=0.014958551193727245)\n"
     ]
    },
    {
     "data": {
      "text/html": [
       "<div>\n",
       "<table border=\"1\" class=\"dataframe\">\n",
       "  <thead>\n",
       "    <tr style=\"text-align: right;\">\n",
       "      <th></th>\n",
       "      <th>p-value</th>\n",
       "      <th>RDN-B</th>\n",
       "    </tr>\n",
       "  </thead>\n",
       "  <tbody>\n",
       "    <tr>\n",
       "      <th>0</th>\n",
       "      <td>transferRDN-B Ref</td>\n",
       "      <td>0.143</td>\n",
       "    </tr>\n",
       "    <tr>\n",
       "      <th>1</th>\n",
       "      <td>transferRDN-B</td>\n",
       "      <td>0.015</td>\n",
       "    </tr>\n",
       "  </tbody>\n",
       "</table>\n",
       "</div>"
      ],
      "text/plain": [
       "             p-value  RDN-B\n",
       "0  transferRDN-B Ref  0.143\n",
       "1      transferRDN-B  0.015"
      ]
     },
     "metadata": {},
     "output_type": "display_data"
    },
    {
     "name": "stdout",
     "output_type": "stream",
     "text": [
      "\n",
      "\n",
      "Scratch: [-0.301199 -0.490456 -0.309712 -0.311294 -0.308245]\n",
      "Transfer: [-0.649561 -0.873465 -0.581526 -0.681965 -0.32566 ]\n",
      "Transfer & Revision: [-0.299776 -0.492231 -0.317679 -0.320256 -0.309395]\n"
     ]
    },
    {
     "data": {
      "text/markdown": [
       "## Recall"
      ],
      "text/plain": [
       "<IPython.core.display.Markdown object>"
      ]
     },
     "metadata": {},
     "output_type": "display_data"
    },
    {
     "name": "stdout",
     "output_type": "stream",
     "text": [
      "T-test for experiment 1\n",
      "Ttest_relResult(statistic=-0.6652374140074286, pvalue=0.5422938948534285)\n",
      "Ttest_relResult(statistic=-1.3278597179566516, pvalue=0.2549305063740208)\n"
     ]
    },
    {
     "data": {
      "text/html": [
       "<div>\n",
       "<table border=\"1\" class=\"dataframe\">\n",
       "  <thead>\n",
       "    <tr style=\"text-align: right;\">\n",
       "      <th></th>\n",
       "      <th>p-value</th>\n",
       "      <th>RDN-B</th>\n",
       "    </tr>\n",
       "  </thead>\n",
       "  <tbody>\n",
       "    <tr>\n",
       "      <th>0</th>\n",
       "      <td>transferRDN-B Ref</td>\n",
       "      <td>0.542</td>\n",
       "    </tr>\n",
       "    <tr>\n",
       "      <th>1</th>\n",
       "      <td>transferRDN-B</td>\n",
       "      <td>0.255</td>\n",
       "    </tr>\n",
       "  </tbody>\n",
       "</table>\n",
       "</div>"
      ],
      "text/plain": [
       "             p-value  RDN-B\n",
       "0  transferRDN-B Ref  0.542\n",
       "1      transferRDN-B  0.255"
      ]
     },
     "metadata": {},
     "output_type": "display_data"
    },
    {
     "name": "stdout",
     "output_type": "stream",
     "text": [
      "\n",
      "\n",
      "Scratch: [0.856255 0.970547 0.901744 0.892022 0.872641]\n",
      "Transfer: [0.351904 1.       0.439311 1.       0.843695]\n",
      "Transfer & Revision: [0.865035 0.970547 0.901744 0.8594   0.872641]\n"
     ]
    },
    {
     "data": {
      "text/markdown": [
       "## F1"
      ],
      "text/plain": [
       "<IPython.core.display.Markdown object>"
      ]
     },
     "metadata": {},
     "output_type": "display_data"
    },
    {
     "name": "stdout",
     "output_type": "stream",
     "text": [
      "T-test for experiment 1\n",
      "Ttest_relResult(statistic=-0.4730816616544083, pvalue=0.6608153463032489)\n",
      "Ttest_relResult(statistic=-2.4482066295992486, pvalue=0.07058145491356153)\n"
     ]
    },
    {
     "data": {
      "text/html": [
       "<div>\n",
       "<table border=\"1\" class=\"dataframe\">\n",
       "  <thead>\n",
       "    <tr style=\"text-align: right;\">\n",
       "      <th></th>\n",
       "      <th>p-value</th>\n",
       "      <th>RDN-B</th>\n",
       "    </tr>\n",
       "  </thead>\n",
       "  <tbody>\n",
       "    <tr>\n",
       "      <th>0</th>\n",
       "      <td>transferRDN-B Ref</td>\n",
       "      <td>0.661</td>\n",
       "    </tr>\n",
       "    <tr>\n",
       "      <th>1</th>\n",
       "      <td>transferRDN-B</td>\n",
       "      <td>0.071</td>\n",
       "    </tr>\n",
       "  </tbody>\n",
       "</table>\n",
       "</div>"
      ],
      "text/plain": [
       "             p-value  RDN-B\n",
       "0  transferRDN-B Ref  0.661\n",
       "1      transferRDN-B  0.071"
      ]
     },
     "metadata": {},
     "output_type": "display_data"
    },
    {
     "name": "stdout",
     "output_type": "stream",
     "text": [
      "\n",
      "\n",
      "Scratch: [0.915491 0.776221 0.927613 0.92137  0.920863]\n",
      "Transfer: [0.518103 0.723963 0.597804 0.775331 0.912498]\n",
      "Transfer & Revision: [0.919342 0.776221 0.927613 0.912579 0.920863]\n"
     ]
    },
    {
     "data": {
      "text/markdown": [
       "## Precision"
      ],
      "text/plain": [
       "<IPython.core.display.Markdown object>"
      ]
     },
     "metadata": {},
     "output_type": "display_data"
    },
    {
     "name": "stdout",
     "output_type": "stream",
     "text": [
      "\n",
      "\n",
      "Scratch: [0.983533 0.646731 0.95501  0.952714 0.974727]\n",
      "Transfer: [0.981791 0.567352 0.935202 0.633095 0.993519]\n",
      "Transfer & Revision: [0.980924 0.646731 0.95501  0.972775 0.974727]\n"
     ]
    },
    {
     "data": {
      "text/markdown": [
       "## Learning and Revision time"
      ],
      "text/plain": [
       "<IPython.core.display.Markdown object>"
      ]
     },
     "metadata": {},
     "output_type": "display_data"
    },
    {
     "name": "stdout",
     "output_type": "stream",
     "text": [
      "\n",
      "\n",
      "Scratch: [223.596  75.993 370.64  181.883 276.254]\n",
      "Transfer: [124.936  37.879 187.499 110.86  147.994]\n",
      "Transfer & Revision: [307.999 106.457 605.764 279.274 352.554]\n"
     ]
    },
    {
     "data": {
      "text/markdown": [
       "## Inference time"
      ],
      "text/plain": [
       "<IPython.core.display.Markdown object>"
      ]
     },
     "metadata": {},
     "output_type": "display_data"
    },
    {
     "name": "stdout",
     "output_type": "stream",
     "text": [
      "\n",
      "\n",
      "Scratch: [6.272 5.241 5.351 4.334 5.585]\n",
      "Transfer: [124.936  37.879 187.499 110.86  147.994]\n",
      "Transfer & Revision: [6.931 7.064 4.853 5.178 7.095]\n"
     ]
    },
    {
     "data": {
      "text/markdown": [
       "# Results for 9_imdb_cora"
      ],
      "text/plain": [
       "<IPython.core.display.Markdown object>"
      ]
     },
     "metadata": {},
     "output_type": "display_data"
    },
    {
     "data": {
      "text/markdown": [
       "## AUC ROC"
      ],
      "text/plain": [
       "<IPython.core.display.Markdown object>"
      ]
     },
     "metadata": {},
     "output_type": "display_data"
    },
    {
     "name": "stdout",
     "output_type": "stream",
     "text": [
      "T-test for experiment 1\n",
      "Ttest_relResult(statistic=1.378231231419704, pvalue=0.24020278077624602)\n",
      "Ttest_relResult(statistic=1.9332688620691554, pvalue=0.1253433435575535)\n"
     ]
    },
    {
     "data": {
      "text/html": [
       "<div>\n",
       "<table border=\"1\" class=\"dataframe\">\n",
       "  <thead>\n",
       "    <tr style=\"text-align: right;\">\n",
       "      <th></th>\n",
       "      <th>p-value</th>\n",
       "      <th>RDN-B</th>\n",
       "    </tr>\n",
       "  </thead>\n",
       "  <tbody>\n",
       "    <tr>\n",
       "      <th>0</th>\n",
       "      <td>transferRDN-B Ref</td>\n",
       "      <td>0.240</td>\n",
       "    </tr>\n",
       "    <tr>\n",
       "      <th>1</th>\n",
       "      <td>transferRDN-B</td>\n",
       "      <td>0.125</td>\n",
       "    </tr>\n",
       "  </tbody>\n",
       "</table>\n",
       "</div>"
      ],
      "text/plain": [
       "             p-value  RDN-B\n",
       "0  transferRDN-B Ref  0.240\n",
       "1      transferRDN-B  0.125"
      ]
     },
     "metadata": {},
     "output_type": "display_data"
    },
    {
     "name": "stdout",
     "output_type": "stream",
     "text": [
      "\n",
      "\n",
      "Scratch: [0.351718 0.569243 0.473892 0.719024 0.551563]\n",
      "Transfer: [0.724138 0.62963  0.685714 0.655172 0.678571]\n",
      "Transfer & Revision: [0.787757 0.569243 0.706613 0.71064  0.519699]\n"
     ]
    },
    {
     "data": {
      "text/markdown": [
       "## AUC PR"
      ],
      "text/plain": [
       "<IPython.core.display.Markdown object>"
      ]
     },
     "metadata": {},
     "output_type": "display_data"
    },
    {
     "name": "stdout",
     "output_type": "stream",
     "text": [
      "T-test for experiment 1\n",
      "Ttest_relResult(statistic=1.1647418808931675, pvalue=0.30885124638566513)\n",
      "Ttest_relResult(statistic=1.445427386174756, pvalue=0.22185903563599466)\n"
     ]
    },
    {
     "data": {
      "text/html": [
       "<div>\n",
       "<table border=\"1\" class=\"dataframe\">\n",
       "  <thead>\n",
       "    <tr style=\"text-align: right;\">\n",
       "      <th></th>\n",
       "      <th>p-value</th>\n",
       "      <th>RDN-B</th>\n",
       "    </tr>\n",
       "  </thead>\n",
       "  <tbody>\n",
       "    <tr>\n",
       "      <th>0</th>\n",
       "      <td>transferRDN-B Ref</td>\n",
       "      <td>0.309</td>\n",
       "    </tr>\n",
       "    <tr>\n",
       "      <th>1</th>\n",
       "      <td>transferRDN-B</td>\n",
       "      <td>0.222</td>\n",
       "    </tr>\n",
       "  </tbody>\n",
       "</table>\n",
       "</div>"
      ],
      "text/plain": [
       "             p-value  RDN-B\n",
       "0  transferRDN-B Ref  0.309\n",
       "1      transferRDN-B  0.222"
      ]
     },
     "metadata": {},
     "output_type": "display_data"
    },
    {
     "name": "stdout",
     "output_type": "stream",
     "text": [
      "\n",
      "\n",
      "Scratch: [0.858756 0.934792 0.923825 0.95774  0.917948]\n",
      "Transfer: [0.949606 0.945205 0.937589 0.942363 0.946746]\n",
      "Transfer & Revision: [0.958058 0.934792 0.957456 0.952533 0.908795]\n"
     ]
    },
    {
     "data": {
      "text/markdown": [
       "## CLL"
      ],
      "text/plain": [
       "<IPython.core.display.Markdown object>"
      ]
     },
     "metadata": {},
     "output_type": "display_data"
    },
    {
     "name": "stdout",
     "output_type": "stream",
     "text": [
      "T-test for experiment 1\n",
      "Ttest_relResult(statistic=0.1283002968803277, pvalue=0.904103349398901)\n",
      "Ttest_relResult(statistic=2.4079983699042007, pvalue=0.07371444544953824)\n"
     ]
    },
    {
     "data": {
      "text/html": [
       "<div>\n",
       "<table border=\"1\" class=\"dataframe\">\n",
       "  <thead>\n",
       "    <tr style=\"text-align: right;\">\n",
       "      <th></th>\n",
       "      <th>p-value</th>\n",
       "      <th>RDN-B</th>\n",
       "    </tr>\n",
       "  </thead>\n",
       "  <tbody>\n",
       "    <tr>\n",
       "      <th>0</th>\n",
       "      <td>transferRDN-B Ref</td>\n",
       "      <td>0.904</td>\n",
       "    </tr>\n",
       "    <tr>\n",
       "      <th>1</th>\n",
       "      <td>transferRDN-B</td>\n",
       "      <td>0.074</td>\n",
       "    </tr>\n",
       "  </tbody>\n",
       "</table>\n",
       "</div>"
      ],
      "text/plain": [
       "             p-value  RDN-B\n",
       "0  transferRDN-B Ref  0.904\n",
       "1      transferRDN-B  0.074"
      ]
     },
     "metadata": {},
     "output_type": "display_data"
    },
    {
     "name": "stdout",
     "output_type": "stream",
     "text": [
      "\n",
      "\n",
      "Scratch: [-0.368326 -0.253519 -0.335232 -0.262024 -0.353659]\n",
      "Transfer: [-0.255665 -0.258457 -0.256513 -0.255786 -0.255769]\n",
      "Transfer & Revision: [-0.283575 -0.253571 -0.271583 -0.262241 -0.478362]\n"
     ]
    },
    {
     "data": {
      "text/markdown": [
       "## Recall"
      ],
      "text/plain": [
       "<IPython.core.display.Markdown object>"
      ]
     },
     "metadata": {},
     "output_type": "display_data"
    },
    {
     "name": "stdout",
     "output_type": "stream",
     "text": [
      "T-test for experiment 1\n",
      "Ttest_relResult(statistic=1.0, pvalue=0.373900966300059)\n",
      "Ttest_relResult(statistic=1.0, pvalue=0.373900966300059)\n"
     ]
    },
    {
     "data": {
      "text/html": [
       "<div>\n",
       "<table border=\"1\" class=\"dataframe\">\n",
       "  <thead>\n",
       "    <tr style=\"text-align: right;\">\n",
       "      <th></th>\n",
       "      <th>p-value</th>\n",
       "      <th>RDN-B</th>\n",
       "    </tr>\n",
       "  </thead>\n",
       "  <tbody>\n",
       "    <tr>\n",
       "      <th>0</th>\n",
       "      <td>transferRDN-B Ref</td>\n",
       "      <td>0.374</td>\n",
       "    </tr>\n",
       "    <tr>\n",
       "      <th>1</th>\n",
       "      <td>transferRDN-B</td>\n",
       "      <td>0.374</td>\n",
       "    </tr>\n",
       "  </tbody>\n",
       "</table>\n",
       "</div>"
      ],
      "text/plain": [
       "             p-value  RDN-B\n",
       "0  transferRDN-B Ref  0.374\n",
       "1      transferRDN-B  0.374"
      ]
     },
     "metadata": {},
     "output_type": "display_data"
    },
    {
     "name": "stdout",
     "output_type": "stream",
     "text": [
      "\n",
      "\n",
      "Scratch: [1.       1.       1.       1.       0.890625]\n",
      "Transfer: [1. 1. 1. 1. 1.]\n",
      "Transfer & Revision: [1.       1.       1.       1.       0.895313]\n"
     ]
    },
    {
     "data": {
      "text/markdown": [
       "## F1"
      ],
      "text/plain": [
       "<IPython.core.display.Markdown object>"
      ]
     },
     "metadata": {},
     "output_type": "display_data"
    },
    {
     "name": "stdout",
     "output_type": "stream",
     "text": [
      "T-test for experiment 1\n",
      "Ttest_relResult(statistic=1.8133635281843405, pvalue=0.1439831931354671)\n",
      "Ttest_relResult(statistic=1.83687747144693, pvalue=0.14010495979035115)\n"
     ]
    },
    {
     "data": {
      "text/html": [
       "<div>\n",
       "<table border=\"1\" class=\"dataframe\">\n",
       "  <thead>\n",
       "    <tr style=\"text-align: right;\">\n",
       "      <th></th>\n",
       "      <th>p-value</th>\n",
       "      <th>RDN-B</th>\n",
       "    </tr>\n",
       "  </thead>\n",
       "  <tbody>\n",
       "    <tr>\n",
       "      <th>0</th>\n",
       "      <td>transferRDN-B Ref</td>\n",
       "      <td>0.144</td>\n",
       "    </tr>\n",
       "    <tr>\n",
       "      <th>1</th>\n",
       "      <td>transferRDN-B</td>\n",
       "      <td>0.140</td>\n",
       "    </tr>\n",
       "  </tbody>\n",
       "</table>\n",
       "</div>"
      ],
      "text/plain": [
       "             p-value  RDN-B\n",
       "0  transferRDN-B Ref  0.144\n",
       "1      transferRDN-B  0.140"
      ]
     },
     "metadata": {},
     "output_type": "display_data"
    },
    {
     "name": "stdout",
     "output_type": "stream",
     "text": [
      "\n",
      "\n",
      "Scratch: [0.954114 0.971831 0.949713 0.970326 0.916399]\n",
      "Transfer: [0.974152 0.971831 0.967789 0.970326 0.972644]\n",
      "Transfer & Revision: [0.974152 0.971831 0.967789 0.970326 0.919006]\n"
     ]
    },
    {
     "data": {
      "text/markdown": [
       "## Precision"
      ],
      "text/plain": [
       "<IPython.core.display.Markdown object>"
      ]
     },
     "metadata": {},
     "output_type": "display_data"
    },
    {
     "name": "stdout",
     "output_type": "stream",
     "text": [
      "\n",
      "\n",
      "Scratch: [0.912254 0.945205 0.904241 0.942363 0.943709]\n",
      "Transfer: [0.949606 0.945205 0.937589 0.942363 0.946746]\n",
      "Transfer & Revision: [0.949606 0.945205 0.937589 0.942363 0.943987]\n"
     ]
    },
    {
     "data": {
      "text/markdown": [
       "## Learning and Revision time"
      ],
      "text/plain": [
       "<IPython.core.display.Markdown object>"
      ]
     },
     "metadata": {},
     "output_type": "display_data"
    },
    {
     "name": "stdout",
     "output_type": "stream",
     "text": [
      "\n",
      "\n",
      "Scratch: [ 9.886  5.21   8.782 10.731  7.326]\n",
      "Transfer: [3.471 2.656 3.797 5.201 4.424]\n",
      "Transfer & Revision: [12.922  6.959 11.585 14.256 15.814]\n"
     ]
    },
    {
     "data": {
      "text/markdown": [
       "## Inference time"
      ],
      "text/plain": [
       "<IPython.core.display.Markdown object>"
      ]
     },
     "metadata": {},
     "output_type": "display_data"
    },
    {
     "name": "stdout",
     "output_type": "stream",
     "text": [
      "\n",
      "\n",
      "Scratch: [2.901 1.886 1.945 3.178 1.941]\n",
      "Transfer: [3.471 2.656 3.797 5.201 4.424]\n",
      "Transfer & Revision: [17.555  1.89   4.142  3.204  5.897]\n"
     ]
    },
    {
     "data": {
      "text/markdown": [
       "# Results for 10_imdb_cora"
      ],
      "text/plain": [
       "<IPython.core.display.Markdown object>"
      ]
     },
     "metadata": {},
     "output_type": "display_data"
    },
    {
     "data": {
      "text/markdown": [
       "## AUC ROC"
      ],
      "text/plain": [
       "<IPython.core.display.Markdown object>"
      ]
     },
     "metadata": {},
     "output_type": "display_data"
    },
    {
     "name": "stdout",
     "output_type": "stream",
     "text": [
      "T-test for experiment 1\n",
      "Ttest_relResult(statistic=-0.9678521124754943, pvalue=0.3879256288089912)\n",
      "Ttest_relResult(statistic=-7.243758285528877, pvalue=0.0019276932125085165)\n"
     ]
    },
    {
     "data": {
      "text/html": [
       "<div>\n",
       "<table border=\"1\" class=\"dataframe\">\n",
       "  <thead>\n",
       "    <tr style=\"text-align: right;\">\n",
       "      <th></th>\n",
       "      <th>p-value</th>\n",
       "      <th>RDN-B</th>\n",
       "    </tr>\n",
       "  </thead>\n",
       "  <tbody>\n",
       "    <tr>\n",
       "      <th>0</th>\n",
       "      <td>transferRDN-B Ref</td>\n",
       "      <td>0.388</td>\n",
       "    </tr>\n",
       "    <tr>\n",
       "      <th>1</th>\n",
       "      <td>transferRDN-B</td>\n",
       "      <td>0.002</td>\n",
       "    </tr>\n",
       "  </tbody>\n",
       "</table>\n",
       "</div>"
      ],
      "text/plain": [
       "             p-value  RDN-B\n",
       "0  transferRDN-B Ref  0.388\n",
       "1      transferRDN-B  0.002"
      ]
     },
     "metadata": {},
     "output_type": "display_data"
    },
    {
     "name": "stdout",
     "output_type": "stream",
     "text": [
      "\n",
      "\n",
      "Scratch: [0.722334 0.704719 0.898384 0.744299 0.744261]\n",
      "Transfer: [0.507833 0.506085 0.502315 0.506316 0.505038]\n",
      "Transfer & Revision: [0.724151 0.706689 0.514291 0.746993 0.74772 ]\n"
     ]
    },
    {
     "data": {
      "text/markdown": [
       "## AUC PR"
      ],
      "text/plain": [
       "<IPython.core.display.Markdown object>"
      ]
     },
     "metadata": {},
     "output_type": "display_data"
    },
    {
     "name": "stdout",
     "output_type": "stream",
     "text": [
      "T-test for experiment 1\n",
      "Ttest_relResult(statistic=-0.9776652842106912, pvalue=0.3835972127650432)\n",
      "Ttest_relResult(statistic=-11.435790596138556, pvalue=0.00033363028003664146)\n"
     ]
    },
    {
     "data": {
      "text/html": [
       "<div>\n",
       "<table border=\"1\" class=\"dataframe\">\n",
       "  <thead>\n",
       "    <tr style=\"text-align: right;\">\n",
       "      <th></th>\n",
       "      <th>p-value</th>\n",
       "      <th>RDN-B</th>\n",
       "    </tr>\n",
       "  </thead>\n",
       "  <tbody>\n",
       "    <tr>\n",
       "      <th>0</th>\n",
       "      <td>transferRDN-B Ref</td>\n",
       "      <td>0.384</td>\n",
       "    </tr>\n",
       "    <tr>\n",
       "      <th>1</th>\n",
       "      <td>transferRDN-B</td>\n",
       "      <td>0.000</td>\n",
       "    </tr>\n",
       "  </tbody>\n",
       "</table>\n",
       "</div>"
      ],
      "text/plain": [
       "             p-value  RDN-B\n",
       "0  transferRDN-B Ref  0.384\n",
       "1      transferRDN-B  0.000"
      ]
     },
     "metadata": {},
     "output_type": "display_data"
    },
    {
     "name": "stdout",
     "output_type": "stream",
     "text": [
      "\n",
      "\n",
      "Scratch: [0.770556 0.731724 0.864788 0.7632   0.774641]\n",
      "Transfer: [0.587076 0.533971 0.576355 0.54817  0.580576]\n",
      "Transfer & Revision: [0.771462 0.732902 0.576198 0.764574 0.776362]\n"
     ]
    },
    {
     "data": {
      "text/markdown": [
       "## CLL"
      ],
      "text/plain": [
       "<IPython.core.display.Markdown object>"
      ]
     },
     "metadata": {},
     "output_type": "display_data"
    },
    {
     "name": "stdout",
     "output_type": "stream",
     "text": [
      "T-test for experiment 1\n",
      "Ttest_relResult(statistic=-0.8623170166490476, pvalue=0.4371439343860824)\n",
      "Ttest_relResult(statistic=-2.9891284135099414, pvalue=0.04037286542569887)\n"
     ]
    },
    {
     "data": {
      "text/html": [
       "<div>\n",
       "<table border=\"1\" class=\"dataframe\">\n",
       "  <thead>\n",
       "    <tr style=\"text-align: right;\">\n",
       "      <th></th>\n",
       "      <th>p-value</th>\n",
       "      <th>RDN-B</th>\n",
       "    </tr>\n",
       "  </thead>\n",
       "  <tbody>\n",
       "    <tr>\n",
       "      <th>0</th>\n",
       "      <td>transferRDN-B Ref</td>\n",
       "      <td>0.437</td>\n",
       "    </tr>\n",
       "    <tr>\n",
       "      <th>1</th>\n",
       "      <td>transferRDN-B</td>\n",
       "      <td>0.040</td>\n",
       "    </tr>\n",
       "  </tbody>\n",
       "</table>\n",
       "</div>"
      ],
      "text/plain": [
       "             p-value  RDN-B\n",
       "0  transferRDN-B Ref  0.437\n",
       "1      transferRDN-B  0.040"
      ]
     },
     "metadata": {},
     "output_type": "display_data"
    },
    {
     "name": "stdout",
     "output_type": "stream",
     "text": [
      "\n",
      "\n",
      "Scratch: [-0.599849 -0.690292 -0.424647 -0.576661 -0.630317]\n",
      "Transfer: [-0.702097 -0.735325 -0.699543 -0.69328  -0.696777]\n",
      "Transfer & Revision: [-0.595674 -0.67914  -0.651967 -0.576617 -0.620097]\n"
     ]
    },
    {
     "data": {
      "text/markdown": [
       "## Recall"
      ],
      "text/plain": [
       "<IPython.core.display.Markdown object>"
      ]
     },
     "metadata": {},
     "output_type": "display_data"
    },
    {
     "name": "stdout",
     "output_type": "stream",
     "text": [
      "T-test for experiment 1\n",
      "Ttest_relResult(statistic=0.9999999999999999, pvalue=0.373900966300059)\n",
      "Ttest_relResult(statistic=-1.6358342364551084, pvalue=0.1772146555699774)\n"
     ]
    },
    {
     "data": {
      "text/html": [
       "<div>\n",
       "<table border=\"1\" class=\"dataframe\">\n",
       "  <thead>\n",
       "    <tr style=\"text-align: right;\">\n",
       "      <th></th>\n",
       "      <th>p-value</th>\n",
       "      <th>RDN-B</th>\n",
       "    </tr>\n",
       "  </thead>\n",
       "  <tbody>\n",
       "    <tr>\n",
       "      <th>0</th>\n",
       "      <td>transferRDN-B Ref</td>\n",
       "      <td>0.374</td>\n",
       "    </tr>\n",
       "    <tr>\n",
       "      <th>1</th>\n",
       "      <td>transferRDN-B</td>\n",
       "      <td>0.177</td>\n",
       "    </tr>\n",
       "  </tbody>\n",
       "</table>\n",
       "</div>"
      ],
      "text/plain": [
       "             p-value  RDN-B\n",
       "0  transferRDN-B Ref  0.374\n",
       "1      transferRDN-B  0.177"
      ]
     },
     "metadata": {},
     "output_type": "display_data"
    },
    {
     "name": "stdout",
     "output_type": "stream",
     "text": [
      "\n",
      "\n",
      "Scratch: [0.360075 0.910394 0.924786 0.943761 0.365809]\n",
      "Transfer: [0. 1. 0. 1. 0.]\n",
      "Transfer & Revision: [0.360075 0.910394 0.928205 0.943761 0.365809]\n"
     ]
    },
    {
     "data": {
      "text/markdown": [
       "## F1"
      ],
      "text/plain": [
       "<IPython.core.display.Markdown object>"
      ]
     },
     "metadata": {},
     "output_type": "display_data"
    },
    {
     "name": "stdout",
     "output_type": "stream",
     "text": [
      "T-test for experiment 1\n",
      "Ttest_relResult(statistic=-0.9700482376687517, pvalue=0.38695332810624206)\n",
      "Ttest_relResult(statistic=nan, pvalue=nan)\n"
     ]
    },
    {
     "data": {
      "text/html": [
       "<div>\n",
       "<table border=\"1\" class=\"dataframe\">\n",
       "  <thead>\n",
       "    <tr style=\"text-align: right;\">\n",
       "      <th></th>\n",
       "      <th>p-value</th>\n",
       "      <th>RDN-B</th>\n",
       "    </tr>\n",
       "  </thead>\n",
       "  <tbody>\n",
       "    <tr>\n",
       "      <th>0</th>\n",
       "      <td>transferRDN-B Ref</td>\n",
       "      <td>0.387</td>\n",
       "    </tr>\n",
       "    <tr>\n",
       "      <th>1</th>\n",
       "      <td>transferRDN-B</td>\n",
       "      <td>nan</td>\n",
       "    </tr>\n",
       "  </tbody>\n",
       "</table>\n",
       "</div>"
      ],
      "text/plain": [
       "             p-value  RDN-B\n",
       "0  transferRDN-B Ref  0.387\n",
       "1      transferRDN-B    nan"
      ]
     },
     "metadata": {},
     "output_type": "display_data"
    },
    {
     "name": "stdout",
     "output_type": "stream",
     "text": [
      "\n",
      "\n",
      "Scratch: [0.508564 0.727794 0.94087  0.763869 0.510256]\n",
      "Transfer: [     nan 0.696195      nan 0.708152      nan]\n",
      "Transfer & Revision: [0.508564 0.729885 0.763176 0.766049 0.510256]\n"
     ]
    },
    {
     "data": {
      "text/markdown": [
       "## Precision"
      ],
      "text/plain": [
       "<IPython.core.display.Markdown object>"
      ]
     },
     "metadata": {},
     "output_type": "display_data"
    },
    {
     "name": "stdout",
     "output_type": "stream",
     "text": [
      "\n",
      "\n",
      "Scratch: [0.865471 0.606205 0.957522 0.641577 0.84322 ]\n",
      "Transfer: [     nan 0.533971      nan 0.54817       nan]\n",
      "Transfer & Revision: [0.865471 0.609113 0.647971 0.644658 0.84322 ]\n"
     ]
    },
    {
     "data": {
      "text/markdown": [
       "## Learning and Revision time"
      ],
      "text/plain": [
       "<IPython.core.display.Markdown object>"
      ]
     },
     "metadata": {},
     "output_type": "display_data"
    },
    {
     "name": "stdout",
     "output_type": "stream",
     "text": [
      "\n",
      "\n",
      "Scratch: [16.435 20.746 82.832  7.97   9.547]\n",
      "Transfer: [7.981 6.678 6.955 4.363 2.214]\n",
      "Transfer & Revision: [ 30.17  332.951  28.561  14.374  21.48 ]\n"
     ]
    },
    {
     "data": {
      "text/markdown": [
       "## Inference time"
      ],
      "text/plain": [
       "<IPython.core.display.Markdown object>"
      ]
     },
     "metadata": {},
     "output_type": "display_data"
    },
    {
     "name": "stdout",
     "output_type": "stream",
     "text": [
      "\n",
      "\n",
      "Scratch: [ 2.283  2.253 13.365  1.956  2.394]\n",
      "Transfer: [7.981 6.678 6.955 4.363 2.214]\n",
      "Transfer & Revision: [ 7.248 10.082  3.401  2.902  5.196]\n"
     ]
    },
    {
     "data": {
      "text/markdown": [
       "# Results for 11_uwcse_cora"
      ],
      "text/plain": [
       "<IPython.core.display.Markdown object>"
      ]
     },
     "metadata": {},
     "output_type": "display_data"
    },
    {
     "data": {
      "text/markdown": [
       "## AUC ROC"
      ],
      "text/plain": [
       "<IPython.core.display.Markdown object>"
      ]
     },
     "metadata": {},
     "output_type": "display_data"
    },
    {
     "name": "stdout",
     "output_type": "stream",
     "text": [
      "T-test for experiment 1\n",
      "Ttest_relResult(statistic=-1.1020848859615544, pvalue=0.33227693249419066)\n",
      "Ttest_relResult(statistic=-2.264004947337958, pvalue=0.08629744349830157)\n"
     ]
    },
    {
     "data": {
      "text/html": [
       "<div>\n",
       "<table border=\"1\" class=\"dataframe\">\n",
       "  <thead>\n",
       "    <tr style=\"text-align: right;\">\n",
       "      <th></th>\n",
       "      <th>p-value</th>\n",
       "      <th>RDN-B</th>\n",
       "    </tr>\n",
       "  </thead>\n",
       "  <tbody>\n",
       "    <tr>\n",
       "      <th>0</th>\n",
       "      <td>transferRDN-B Ref</td>\n",
       "      <td>0.332</td>\n",
       "    </tr>\n",
       "    <tr>\n",
       "      <th>1</th>\n",
       "      <td>transferRDN-B</td>\n",
       "      <td>0.086</td>\n",
       "    </tr>\n",
       "  </tbody>\n",
       "</table>\n",
       "</div>"
      ],
      "text/plain": [
       "             p-value  RDN-B\n",
       "0  transferRDN-B Ref  0.332\n",
       "1      transferRDN-B  0.086"
      ]
     },
     "metadata": {},
     "output_type": "display_data"
    },
    {
     "name": "stdout",
     "output_type": "stream",
     "text": [
      "\n",
      "\n",
      "Scratch: [0.849353 0.554674 0.859749 0.573596 0.542745]\n",
      "Transfer: [0.546475 0.437142 0.547299 0.558035 0.535236]\n",
      "Transfer & Revision: [0.842693 0.550249 0.555278 0.562388 0.540589]\n"
     ]
    },
    {
     "data": {
      "text/markdown": [
       "## AUC PR"
      ],
      "text/plain": [
       "<IPython.core.display.Markdown object>"
      ]
     },
     "metadata": {},
     "output_type": "display_data"
    },
    {
     "name": "stdout",
     "output_type": "stream",
     "text": [
      "T-test for experiment 1\n",
      "Ttest_relResult(statistic=-0.9672484053441888, pvalue=0.38819327798321873)\n",
      "Ttest_relResult(statistic=-2.4286721147148556, pvalue=0.07208426899715485)\n"
     ]
    },
    {
     "data": {
      "text/html": [
       "<div>\n",
       "<table border=\"1\" class=\"dataframe\">\n",
       "  <thead>\n",
       "    <tr style=\"text-align: right;\">\n",
       "      <th></th>\n",
       "      <th>p-value</th>\n",
       "      <th>RDN-B</th>\n",
       "    </tr>\n",
       "  </thead>\n",
       "  <tbody>\n",
       "    <tr>\n",
       "      <th>0</th>\n",
       "      <td>transferRDN-B Ref</td>\n",
       "      <td>0.388</td>\n",
       "    </tr>\n",
       "    <tr>\n",
       "      <th>1</th>\n",
       "      <td>transferRDN-B</td>\n",
       "      <td>0.072</td>\n",
       "    </tr>\n",
       "  </tbody>\n",
       "</table>\n",
       "</div>"
      ],
      "text/plain": [
       "             p-value  RDN-B\n",
       "0  transferRDN-B Ref  0.388\n",
       "1      transferRDN-B  0.072"
      ]
     },
     "metadata": {},
     "output_type": "display_data"
    },
    {
     "name": "stdout",
     "output_type": "stream",
     "text": [
      "\n",
      "\n",
      "Scratch: [0.794396 0.527424 0.816793 0.589845 0.563931]\n",
      "Transfer: [0.552575 0.443375 0.555563 0.56414  0.542776]\n",
      "Transfer & Revision: [0.816213 0.524516 0.566989 0.577761 0.562486]\n"
     ]
    },
    {
     "data": {
      "text/markdown": [
       "## CLL"
      ],
      "text/plain": [
       "<IPython.core.display.Markdown object>"
      ]
     },
     "metadata": {},
     "output_type": "display_data"
    },
    {
     "name": "stdout",
     "output_type": "stream",
     "text": [
      "T-test for experiment 1\n",
      "Ttest_relResult(statistic=-1.231218772834519, pvalue=0.28568188181553045)\n",
      "Ttest_relResult(statistic=-1.674963181038643, pvalue=0.16925229182777496)\n"
     ]
    },
    {
     "data": {
      "text/html": [
       "<div>\n",
       "<table border=\"1\" class=\"dataframe\">\n",
       "  <thead>\n",
       "    <tr style=\"text-align: right;\">\n",
       "      <th></th>\n",
       "      <th>p-value</th>\n",
       "      <th>RDN-B</th>\n",
       "    </tr>\n",
       "  </thead>\n",
       "  <tbody>\n",
       "    <tr>\n",
       "      <th>0</th>\n",
       "      <td>transferRDN-B Ref</td>\n",
       "      <td>0.286</td>\n",
       "    </tr>\n",
       "    <tr>\n",
       "      <th>1</th>\n",
       "      <td>transferRDN-B</td>\n",
       "      <td>0.169</td>\n",
       "    </tr>\n",
       "  </tbody>\n",
       "</table>\n",
       "</div>"
      ],
      "text/plain": [
       "             p-value  RDN-B\n",
       "0  transferRDN-B Ref  0.286\n",
       "1      transferRDN-B  0.169"
      ]
     },
     "metadata": {},
     "output_type": "display_data"
    },
    {
     "name": "stdout",
     "output_type": "stream",
     "text": [
      "\n",
      "\n",
      "Scratch: [-0.456217 -0.705291 -0.480884 -0.674934 -0.691898]\n",
      "Transfer: [-0.684375 -0.70901  -0.684918 -0.68648  -0.684357]\n",
      "Transfer & Revision: [-0.484222 -0.705353 -0.680355 -0.685856 -0.689915]\n"
     ]
    },
    {
     "data": {
      "text/markdown": [
       "## Recall"
      ],
      "text/plain": [
       "<IPython.core.display.Markdown object>"
      ]
     },
     "metadata": {},
     "output_type": "display_data"
    },
    {
     "name": "stdout",
     "output_type": "stream",
     "text": [
      "T-test for experiment 1\n",
      "Ttest_relResult(statistic=-1.1214208086945323, pvalue=0.3248794758882646)\n",
      "Ttest_relResult(statistic=-0.9542305276621602, pvalue=0.39400324049116614)\n"
     ]
    },
    {
     "data": {
      "text/html": [
       "<div>\n",
       "<table border=\"1\" class=\"dataframe\">\n",
       "  <thead>\n",
       "    <tr style=\"text-align: right;\">\n",
       "      <th></th>\n",
       "      <th>p-value</th>\n",
       "      <th>RDN-B</th>\n",
       "    </tr>\n",
       "  </thead>\n",
       "  <tbody>\n",
       "    <tr>\n",
       "      <th>0</th>\n",
       "      <td>transferRDN-B Ref</td>\n",
       "      <td>0.325</td>\n",
       "    </tr>\n",
       "    <tr>\n",
       "      <th>1</th>\n",
       "      <td>transferRDN-B</td>\n",
       "      <td>0.394</td>\n",
       "    </tr>\n",
       "  </tbody>\n",
       "</table>\n",
       "</div>"
      ],
      "text/plain": [
       "             p-value  RDN-B\n",
       "0  transferRDN-B Ref  0.325\n",
       "1      transferRDN-B  0.394"
      ]
     },
     "metadata": {},
     "output_type": "display_data"
    },
    {
     "name": "stdout",
     "output_type": "stream",
     "text": [
      "\n",
      "\n",
      "Scratch: [0.919215 0.957257 0.939245 0.074009 0.915687]\n",
      "Transfer: [0.94413  1.       0.       0.       0.952169]\n",
      "Transfer & Revision: [0.909777 0.957257 0.904762 0.073128 0.920957]\n"
     ]
    },
    {
     "data": {
      "text/markdown": [
       "## F1"
      ],
      "text/plain": [
       "<IPython.core.display.Markdown object>"
      ]
     },
     "metadata": {},
     "output_type": "display_data"
    },
    {
     "name": "stdout",
     "output_type": "stream",
     "text": [
      "T-test for experiment 1\n",
      "Ttest_relResult(statistic=-1.0297111225282705, pvalue=0.36133395695195436)\n",
      "Ttest_relResult(statistic=nan, pvalue=nan)\n"
     ]
    },
    {
     "data": {
      "text/html": [
       "<div>\n",
       "<table border=\"1\" class=\"dataframe\">\n",
       "  <thead>\n",
       "    <tr style=\"text-align: right;\">\n",
       "      <th></th>\n",
       "      <th>p-value</th>\n",
       "      <th>RDN-B</th>\n",
       "    </tr>\n",
       "  </thead>\n",
       "  <tbody>\n",
       "    <tr>\n",
       "      <th>0</th>\n",
       "      <td>transferRDN-B Ref</td>\n",
       "      <td>0.361</td>\n",
       "    </tr>\n",
       "    <tr>\n",
       "      <th>1</th>\n",
       "      <td>transferRDN-B</td>\n",
       "      <td>nan</td>\n",
       "    </tr>\n",
       "  </tbody>\n",
       "</table>\n",
       "</div>"
      ],
      "text/plain": [
       "             p-value  RDN-B\n",
       "0  transferRDN-B Ref  0.361\n",
       "1      transferRDN-B    nan"
      ]
     },
     "metadata": {},
     "output_type": "display_data"
    },
    {
     "name": "stdout",
     "output_type": "stream",
     "text": [
      "\n",
      "\n",
      "Scratch: [0.869488 0.688441 0.871785 0.132964 0.680934]\n",
      "Transfer: [0.697726 0.671651      nan      nan 0.691798]\n",
      "Transfer & Revision: [0.869095 0.686462 0.690801 0.129992 0.681975]\n"
     ]
    },
    {
     "data": {
      "text/markdown": [
       "## Precision"
      ],
      "text/plain": [
       "<IPython.core.display.Markdown object>"
      ]
     },
     "metadata": {},
     "output_type": "display_data"
    },
    {
     "name": "stdout",
     "output_type": "stream",
     "text": [
      "\n",
      "\n",
      "Scratch: [0.824864 0.5375   0.813367 0.653696 0.541987]\n",
      "Transfer: [0.553319 0.505628      nan      nan 0.543247]\n",
      "Transfer & Revision: [0.831895 0.535092 0.558682 0.584507 0.541468]\n"
     ]
    },
    {
     "data": {
      "text/markdown": [
       "## Learning and Revision time"
      ],
      "text/plain": [
       "<IPython.core.display.Markdown object>"
      ]
     },
     "metadata": {},
     "output_type": "display_data"
    },
    {
     "name": "stdout",
     "output_type": "stream",
     "text": [
      "\n",
      "\n",
      "Scratch: [264.542 151.567  82.837 171.153 100.513]\n",
      "Transfer: [166.532  84.312  15.225  70.424  37.04 ]\n",
      "Transfer & Revision: [503.815 270.553 130.25  290.268 194.821]\n"
     ]
    },
    {
     "data": {
      "text/markdown": [
       "## Inference time"
      ],
      "text/plain": [
       "<IPython.core.display.Markdown object>"
      ]
     },
     "metadata": {},
     "output_type": "display_data"
    },
    {
     "name": "stdout",
     "output_type": "stream",
     "text": [
      "\n",
      "\n",
      "Scratch: [47.166  5.917 15.119  7.091 18.519]\n",
      "Transfer: [166.532  84.312  15.225  70.424  37.04 ]\n",
      "Transfer & Revision: [248.961 174.483 309.082 210.854 212.865]\n"
     ]
    },
    {
     "data": {
      "text/markdown": [
       "# Results for 12_uwcse_cora"
      ],
      "text/plain": [
       "<IPython.core.display.Markdown object>"
      ]
     },
     "metadata": {},
     "output_type": "display_data"
    },
    {
     "data": {
      "text/markdown": [
       "## AUC ROC"
      ],
      "text/plain": [
       "<IPython.core.display.Markdown object>"
      ]
     },
     "metadata": {},
     "output_type": "display_data"
    },
    {
     "name": "stdout",
     "output_type": "stream",
     "text": [
      "T-test for experiment 1\n",
      "Ttest_relResult(statistic=2.408715938650661, pvalue=0.07365716727388139)\n",
      "Ttest_relResult(statistic=-1.6574768530056303, pvalue=0.172763347099864)\n"
     ]
    },
    {
     "data": {
      "text/html": [
       "<div>\n",
       "<table border=\"1\" class=\"dataframe\">\n",
       "  <thead>\n",
       "    <tr style=\"text-align: right;\">\n",
       "      <th></th>\n",
       "      <th>p-value</th>\n",
       "      <th>RDN-B</th>\n",
       "    </tr>\n",
       "  </thead>\n",
       "  <tbody>\n",
       "    <tr>\n",
       "      <th>0</th>\n",
       "      <td>transferRDN-B Ref</td>\n",
       "      <td>0.074</td>\n",
       "    </tr>\n",
       "    <tr>\n",
       "      <th>1</th>\n",
       "      <td>transferRDN-B</td>\n",
       "      <td>0.173</td>\n",
       "    </tr>\n",
       "  </tbody>\n",
       "</table>\n",
       "</div>"
      ],
      "text/plain": [
       "             p-value  RDN-B\n",
       "0  transferRDN-B Ref  0.074\n",
       "1      transferRDN-B  0.173"
      ]
     },
     "metadata": {},
     "output_type": "display_data"
    },
    {
     "name": "stdout",
     "output_type": "stream",
     "text": [
      "\n",
      "\n",
      "Scratch: [0.93372  0.938989 0.935975 0.929808 0.939901]\n",
      "Transfer: [0.935072 0.938673 0.93414  0.925552 0.936595]\n",
      "Transfer & Revision: [0.952961 0.938989 0.954744 0.929808 0.954572]\n"
     ]
    },
    {
     "data": {
      "text/markdown": [
       "## AUC PR"
      ],
      "text/plain": [
       "<IPython.core.display.Markdown object>"
      ]
     },
     "metadata": {},
     "output_type": "display_data"
    },
    {
     "name": "stdout",
     "output_type": "stream",
     "text": [
      "T-test for experiment 1\n",
      "Ttest_relResult(statistic=2.4162094252648036, pvalue=0.07306202511035786)\n",
      "Ttest_relResult(statistic=-3.35381056305406, pvalue=0.0284679052014475)\n"
     ]
    },
    {
     "data": {
      "text/html": [
       "<div>\n",
       "<table border=\"1\" class=\"dataframe\">\n",
       "  <thead>\n",
       "    <tr style=\"text-align: right;\">\n",
       "      <th></th>\n",
       "      <th>p-value</th>\n",
       "      <th>RDN-B</th>\n",
       "    </tr>\n",
       "  </thead>\n",
       "  <tbody>\n",
       "    <tr>\n",
       "      <th>0</th>\n",
       "      <td>transferRDN-B Ref</td>\n",
       "      <td>0.073</td>\n",
       "    </tr>\n",
       "    <tr>\n",
       "      <th>1</th>\n",
       "      <td>transferRDN-B</td>\n",
       "      <td>0.028</td>\n",
       "    </tr>\n",
       "  </tbody>\n",
       "</table>\n",
       "</div>"
      ],
      "text/plain": [
       "             p-value  RDN-B\n",
       "0  transferRDN-B Ref  0.073\n",
       "1      transferRDN-B  0.028"
      ]
     },
     "metadata": {},
     "output_type": "display_data"
    },
    {
     "name": "stdout",
     "output_type": "stream",
     "text": [
      "\n",
      "\n",
      "Scratch: [0.967303 0.956127 0.972238 0.958318 0.969509]\n",
      "Transfer: [0.961277 0.955587 0.965468 0.956309 0.965038]\n",
      "Transfer & Revision: [0.975605 0.956127 0.978863 0.958318 0.976266]\n"
     ]
    },
    {
     "data": {
      "text/markdown": [
       "## CLL"
      ],
      "text/plain": [
       "<IPython.core.display.Markdown object>"
      ]
     },
     "metadata": {},
     "output_type": "display_data"
    },
    {
     "name": "stdout",
     "output_type": "stream",
     "text": [
      "T-test for experiment 1\n",
      "Ttest_relResult(statistic=-0.12516306166114358, pvalue=0.9064328207749405)\n",
      "Ttest_relResult(statistic=-3.6227013387678486, pvalue=0.02230369314944458)\n"
     ]
    },
    {
     "data": {
      "text/html": [
       "<div>\n",
       "<table border=\"1\" class=\"dataframe\">\n",
       "  <thead>\n",
       "    <tr style=\"text-align: right;\">\n",
       "      <th></th>\n",
       "      <th>p-value</th>\n",
       "      <th>RDN-B</th>\n",
       "    </tr>\n",
       "  </thead>\n",
       "  <tbody>\n",
       "    <tr>\n",
       "      <th>0</th>\n",
       "      <td>transferRDN-B Ref</td>\n",
       "      <td>0.906</td>\n",
       "    </tr>\n",
       "    <tr>\n",
       "      <th>1</th>\n",
       "      <td>transferRDN-B</td>\n",
       "      <td>0.022</td>\n",
       "    </tr>\n",
       "  </tbody>\n",
       "</table>\n",
       "</div>"
      ],
      "text/plain": [
       "             p-value  RDN-B\n",
       "0  transferRDN-B Ref  0.906\n",
       "1      transferRDN-B  0.022"
      ]
     },
     "metadata": {},
     "output_type": "display_data"
    },
    {
     "name": "stdout",
     "output_type": "stream",
     "text": [
      "\n",
      "\n",
      "Scratch: [-0.301259 -0.490456 -0.310235 -0.313549 -0.30781 ]\n",
      "Transfer: [-0.320212 -0.550582 -0.333694 -0.336915 -0.325572]\n",
      "Transfer & Revision: [-0.30766  -0.490911 -0.304781 -0.312912 -0.308226]\n"
     ]
    },
    {
     "data": {
      "text/markdown": [
       "## Recall"
      ],
      "text/plain": [
       "<IPython.core.display.Markdown object>"
      ]
     },
     "metadata": {},
     "output_type": "display_data"
    },
    {
     "name": "stdout",
     "output_type": "stream",
     "text": [
      "T-test for experiment 1\n",
      "Ttest_relResult(statistic=-1.0, pvalue=0.373900966300059)\n",
      "Ttest_relResult(statistic=-1.2926107075512192, pvalue=0.26575763354057275)\n"
     ]
    },
    {
     "data": {
      "text/html": [
       "<div>\n",
       "<table border=\"1\" class=\"dataframe\">\n",
       "  <thead>\n",
       "    <tr style=\"text-align: right;\">\n",
       "      <th></th>\n",
       "      <th>p-value</th>\n",
       "      <th>RDN-B</th>\n",
       "    </tr>\n",
       "  </thead>\n",
       "  <tbody>\n",
       "    <tr>\n",
       "      <th>0</th>\n",
       "      <td>transferRDN-B Ref</td>\n",
       "      <td>0.374</td>\n",
       "    </tr>\n",
       "    <tr>\n",
       "      <th>1</th>\n",
       "      <td>transferRDN-B</td>\n",
       "      <td>0.266</td>\n",
       "    </tr>\n",
       "  </tbody>\n",
       "</table>\n",
       "</div>"
      ],
      "text/plain": [
       "             p-value  RDN-B\n",
       "0  transferRDN-B Ref  0.374\n",
       "1      transferRDN-B  0.266"
      ]
     },
     "metadata": {},
     "output_type": "display_data"
    },
    {
     "name": "stdout",
     "output_type": "stream",
     "text": [
      "\n",
      "\n",
      "Scratch: [0.856255 0.970547 0.901744 0.892022 0.872641]\n",
      "Transfer: [0.856255 1.       0.853159 0.840916 0.843695]\n",
      "Transfer & Revision: [0.856255 0.970547 0.901744 0.873539 0.872641]\n"
     ]
    },
    {
     "data": {
      "text/markdown": [
       "## F1"
      ],
      "text/plain": [
       "<IPython.core.display.Markdown object>"
      ]
     },
     "metadata": {},
     "output_type": "display_data"
    },
    {
     "name": "stdout",
     "output_type": "stream",
     "text": [
      "T-test for experiment 1\n",
      "Ttest_relResult(statistic=-1.0, pvalue=0.373900966300059)\n",
      "Ttest_relResult(statistic=-1.971920688425652, pvalue=0.11990545347039895)\n"
     ]
    },
    {
     "data": {
      "text/html": [
       "<div>\n",
       "<table border=\"1\" class=\"dataframe\">\n",
       "  <thead>\n",
       "    <tr style=\"text-align: right;\">\n",
       "      <th></th>\n",
       "      <th>p-value</th>\n",
       "      <th>RDN-B</th>\n",
       "    </tr>\n",
       "  </thead>\n",
       "  <tbody>\n",
       "    <tr>\n",
       "      <th>0</th>\n",
       "      <td>transferRDN-B Ref</td>\n",
       "      <td>0.374</td>\n",
       "    </tr>\n",
       "    <tr>\n",
       "      <th>1</th>\n",
       "      <td>transferRDN-B</td>\n",
       "      <td>0.120</td>\n",
       "    </tr>\n",
       "  </tbody>\n",
       "</table>\n",
       "</div>"
      ],
      "text/plain": [
       "             p-value  RDN-B\n",
       "0  transferRDN-B Ref  0.374\n",
       "1      transferRDN-B  0.120"
      ]
     },
     "metadata": {},
     "output_type": "display_data"
    },
    {
     "name": "stdout",
     "output_type": "stream",
     "text": [
      "\n",
      "\n",
      "Scratch: [0.915491 0.776221 0.927613 0.92137  0.920863]\n",
      "Transfer: [0.915491 0.723963 0.914817 0.905946 0.912498]\n",
      "Transfer & Revision: [0.915491 0.776221 0.927613 0.915045 0.920863]\n"
     ]
    },
    {
     "data": {
      "text/markdown": [
       "## Precision"
      ],
      "text/plain": [
       "<IPython.core.display.Markdown object>"
      ]
     },
     "metadata": {},
     "output_type": "display_data"
    },
    {
     "name": "stdout",
     "output_type": "stream",
     "text": [
      "\n",
      "\n",
      "Scratch: [0.983533 0.646731 0.95501  0.952714 0.974727]\n",
      "Transfer: [0.983533 0.567352 0.986082 0.981877 0.993519]\n",
      "Transfer & Revision: [0.983533 0.646731 0.95501  0.960691 0.974727]\n"
     ]
    },
    {
     "data": {
      "text/markdown": [
       "## Learning and Revision time"
      ],
      "text/plain": [
       "<IPython.core.display.Markdown object>"
      ]
     },
     "metadata": {},
     "output_type": "display_data"
    },
    {
     "name": "stdout",
     "output_type": "stream",
     "text": [
      "\n",
      "\n",
      "Scratch: [203.131  64.514 381.546 178.761 282.957]\n",
      "Transfer: [116.675 149.709 221.94  132.986 151.808]\n",
      "Transfer & Revision: [359.79  204.205 643.899 288.74  487.63 ]\n"
     ]
    },
    {
     "data": {
      "text/markdown": [
       "## Inference time"
      ],
      "text/plain": [
       "<IPython.core.display.Markdown object>"
      ]
     },
     "metadata": {},
     "output_type": "display_data"
    },
    {
     "name": "stdout",
     "output_type": "stream",
     "text": [
      "\n",
      "\n",
      "Scratch: [5.568 4.87  4.688 3.613 5.205]\n",
      "Transfer: [116.675 149.709 221.94  132.986 151.808]\n",
      "Transfer & Revision: [101.224   4.747  71.739   3.439 138.644]\n"
     ]
    },
    {
     "data": {
      "text/markdown": [
       "# Results for 13_uwcse_cora"
      ],
      "text/plain": [
       "<IPython.core.display.Markdown object>"
      ]
     },
     "metadata": {},
     "output_type": "display_data"
    },
    {
     "data": {
      "text/markdown": [
       "## AUC ROC"
      ],
      "text/plain": [
       "<IPython.core.display.Markdown object>"
      ]
     },
     "metadata": {},
     "output_type": "display_data"
    },
    {
     "name": "stdout",
     "output_type": "stream",
     "text": [
      "T-test for experiment 1\n",
      "Ttest_relResult(statistic=1.6605435943358773, pvalue=0.17214211069405103)\n",
      "Ttest_relResult(statistic=3.332967996497164, pvalue=0.02902524340094085)\n"
     ]
    },
    {
     "data": {
      "text/html": [
       "<div>\n",
       "<table border=\"1\" class=\"dataframe\">\n",
       "  <thead>\n",
       "    <tr style=\"text-align: right;\">\n",
       "      <th></th>\n",
       "      <th>p-value</th>\n",
       "      <th>RDN-B</th>\n",
       "    </tr>\n",
       "  </thead>\n",
       "  <tbody>\n",
       "    <tr>\n",
       "      <th>0</th>\n",
       "      <td>transferRDN-B Ref</td>\n",
       "      <td>0.172</td>\n",
       "    </tr>\n",
       "    <tr>\n",
       "      <th>1</th>\n",
       "      <td>transferRDN-B</td>\n",
       "      <td>0.029</td>\n",
       "    </tr>\n",
       "  </tbody>\n",
       "</table>\n",
       "</div>"
      ],
      "text/plain": [
       "             p-value  RDN-B\n",
       "0  transferRDN-B Ref  0.172\n",
       "1      transferRDN-B  0.029"
      ]
     },
     "metadata": {},
     "output_type": "display_data"
    },
    {
     "name": "stdout",
     "output_type": "stream",
     "text": [
      "\n",
      "\n",
      "Scratch: [0.468891 0.569243 0.456051 0.625224 0.504325]\n",
      "Transfer: [0.724138 0.62963  0.685714 0.655172 0.678571]\n",
      "Transfer & Revision: [0.783611 0.569243 0.703739 0.629165 0.510128]\n"
     ]
    },
    {
     "data": {
      "text/markdown": [
       "## AUC PR"
      ],
      "text/plain": [
       "<IPython.core.display.Markdown object>"
      ]
     },
     "metadata": {},
     "output_type": "display_data"
    },
    {
     "name": "stdout",
     "output_type": "stream",
     "text": [
      "T-test for experiment 1\n",
      "Ttest_relResult(statistic=1.6487804306436227, pvalue=0.17453777729984166)\n",
      "Ttest_relResult(statistic=3.502380699833061, pvalue=0.024842555914562525)\n"
     ]
    },
    {
     "data": {
      "text/html": [
       "<div>\n",
       "<table border=\"1\" class=\"dataframe\">\n",
       "  <thead>\n",
       "    <tr style=\"text-align: right;\">\n",
       "      <th></th>\n",
       "      <th>p-value</th>\n",
       "      <th>RDN-B</th>\n",
       "    </tr>\n",
       "  </thead>\n",
       "  <tbody>\n",
       "    <tr>\n",
       "      <th>0</th>\n",
       "      <td>transferRDN-B Ref</td>\n",
       "      <td>0.175</td>\n",
       "    </tr>\n",
       "    <tr>\n",
       "      <th>1</th>\n",
       "      <td>transferRDN-B</td>\n",
       "      <td>0.025</td>\n",
       "    </tr>\n",
       "  </tbody>\n",
       "</table>\n",
       "</div>"
      ],
      "text/plain": [
       "             p-value  RDN-B\n",
       "0  transferRDN-B Ref  0.175\n",
       "1      transferRDN-B  0.025"
      ]
     },
     "metadata": {},
     "output_type": "display_data"
    },
    {
     "name": "stdout",
     "output_type": "stream",
     "text": [
      "\n",
      "\n",
      "Scratch: [0.920251 0.934792 0.917295 0.927906 0.89613 ]\n",
      "Transfer: [0.949606 0.945205 0.937589 0.942363 0.946746]\n",
      "Transfer & Revision: [0.970512 0.934792 0.958278 0.928452 0.896589]\n"
     ]
    },
    {
     "data": {
      "text/markdown": [
       "## CLL"
      ],
      "text/plain": [
       "<IPython.core.display.Markdown object>"
      ]
     },
     "metadata": {},
     "output_type": "display_data"
    },
    {
     "name": "stdout",
     "output_type": "stream",
     "text": [
      "T-test for experiment 1\n",
      "Ttest_relResult(statistic=1.3134592105799152, pvalue=0.2593009940776626)\n",
      "Ttest_relResult(statistic=2.1331096116014168, pvalue=0.09985810684504949)\n"
     ]
    },
    {
     "data": {
      "text/html": [
       "<div>\n",
       "<table border=\"1\" class=\"dataframe\">\n",
       "  <thead>\n",
       "    <tr style=\"text-align: right;\">\n",
       "      <th></th>\n",
       "      <th>p-value</th>\n",
       "      <th>RDN-B</th>\n",
       "    </tr>\n",
       "  </thead>\n",
       "  <tbody>\n",
       "    <tr>\n",
       "      <th>0</th>\n",
       "      <td>transferRDN-B Ref</td>\n",
       "      <td>0.259</td>\n",
       "    </tr>\n",
       "    <tr>\n",
       "      <th>1</th>\n",
       "      <td>transferRDN-B</td>\n",
       "      <td>0.100</td>\n",
       "    </tr>\n",
       "  </tbody>\n",
       "</table>\n",
       "</div>"
      ],
      "text/plain": [
       "             p-value  RDN-B\n",
       "0  transferRDN-B Ref  0.259\n",
       "1      transferRDN-B  0.100"
      ]
     },
     "metadata": {},
     "output_type": "display_data"
    },
    {
     "name": "stdout",
     "output_type": "stream",
     "text": [
      "\n",
      "\n",
      "Scratch: [-0.369803 -0.253562 -0.342259 -0.260129 -0.422218]\n",
      "Transfer: [-0.258413 -0.262487 -0.259232 -0.258596 -0.257775]\n",
      "Transfer & Revision: [-0.290311 -0.253562 -0.26875  -0.26129  -0.439475]\n"
     ]
    },
    {
     "data": {
      "text/markdown": [
       "## Recall"
      ],
      "text/plain": [
       "<IPython.core.display.Markdown object>"
      ]
     },
     "metadata": {},
     "output_type": "display_data"
    },
    {
     "name": "stdout",
     "output_type": "stream",
     "text": [
      "T-test for experiment 1\n",
      "Ttest_relResult(statistic=1.0, pvalue=0.373900966300059)\n",
      "Ttest_relResult(statistic=1.0, pvalue=0.373900966300059)\n"
     ]
    },
    {
     "data": {
      "text/html": [
       "<div>\n",
       "<table border=\"1\" class=\"dataframe\">\n",
       "  <thead>\n",
       "    <tr style=\"text-align: right;\">\n",
       "      <th></th>\n",
       "      <th>p-value</th>\n",
       "      <th>RDN-B</th>\n",
       "    </tr>\n",
       "  </thead>\n",
       "  <tbody>\n",
       "    <tr>\n",
       "      <th>0</th>\n",
       "      <td>transferRDN-B Ref</td>\n",
       "      <td>0.374</td>\n",
       "    </tr>\n",
       "    <tr>\n",
       "      <th>1</th>\n",
       "      <td>transferRDN-B</td>\n",
       "      <td>0.374</td>\n",
       "    </tr>\n",
       "  </tbody>\n",
       "</table>\n",
       "</div>"
      ],
      "text/plain": [
       "             p-value  RDN-B\n",
       "0  transferRDN-B Ref  0.374\n",
       "1      transferRDN-B  0.374"
      ]
     },
     "metadata": {},
     "output_type": "display_data"
    },
    {
     "name": "stdout",
     "output_type": "stream",
     "text": [
      "\n",
      "\n",
      "Scratch: [1.       1.       1.       1.       0.815625]\n",
      "Transfer: [1. 1. 1. 1. 1.]\n",
      "Transfer & Revision: [1.       1.       1.       1.       0.835938]\n"
     ]
    },
    {
     "data": {
      "text/markdown": [
       "## F1"
      ],
      "text/plain": [
       "<IPython.core.display.Markdown object>"
      ]
     },
     "metadata": {},
     "output_type": "display_data"
    },
    {
     "name": "stdout",
     "output_type": "stream",
     "text": [
      "T-test for experiment 1\n",
      "Ttest_relResult(statistic=2.3344620855929765, pvalue=0.07986088995251518)\n",
      "Ttest_relResult(statistic=1.49417337368883, pvalue=0.2094369676068718)\n"
     ]
    },
    {
     "data": {
      "text/html": [
       "<div>\n",
       "<table border=\"1\" class=\"dataframe\">\n",
       "  <thead>\n",
       "    <tr style=\"text-align: right;\">\n",
       "      <th></th>\n",
       "      <th>p-value</th>\n",
       "      <th>RDN-B</th>\n",
       "    </tr>\n",
       "  </thead>\n",
       "  <tbody>\n",
       "    <tr>\n",
       "      <th>0</th>\n",
       "      <td>transferRDN-B Ref</td>\n",
       "      <td>0.080</td>\n",
       "    </tr>\n",
       "    <tr>\n",
       "      <th>1</th>\n",
       "      <td>transferRDN-B</td>\n",
       "      <td>0.209</td>\n",
       "    </tr>\n",
       "  </tbody>\n",
       "</table>\n",
       "</div>"
      ],
      "text/plain": [
       "             p-value  RDN-B\n",
       "0  transferRDN-B Ref  0.080\n",
       "1      transferRDN-B  0.209"
      ]
     },
     "metadata": {},
     "output_type": "display_data"
    },
    {
     "name": "stdout",
     "output_type": "stream",
     "text": [
      "\n",
      "\n",
      "Scratch: [0.954114 0.971831 0.949713 0.970326 0.874372]\n",
      "Transfer: [0.974152 0.971831 0.967789 0.970326 0.972644]\n",
      "Transfer & Revision: [0.974152 0.971831 0.967789 0.970326 0.886495]\n"
     ]
    },
    {
     "data": {
      "text/markdown": [
       "## Precision"
      ],
      "text/plain": [
       "<IPython.core.display.Markdown object>"
      ]
     },
     "metadata": {},
     "output_type": "display_data"
    },
    {
     "name": "stdout",
     "output_type": "stream",
     "text": [
      "\n",
      "\n",
      "Scratch: [0.912254 0.945205 0.904241 0.942363 0.942238]\n",
      "Transfer: [0.949606 0.945205 0.937589 0.942363 0.946746]\n",
      "Transfer & Revision: [0.949606 0.945205 0.937589 0.942363 0.943563]\n"
     ]
    },
    {
     "data": {
      "text/markdown": [
       "## Learning and Revision time"
      ],
      "text/plain": [
       "<IPython.core.display.Markdown object>"
      ]
     },
     "metadata": {},
     "output_type": "display_data"
    },
    {
     "name": "stdout",
     "output_type": "stream",
     "text": [
      "\n",
      "\n",
      "Scratch: [ 8.27   5.321  8.626 12.     7.924]\n",
      "Transfer: [3.514 4.358 3.782 5.732 6.082]\n",
      "Transfer & Revision: [11.264  9.18  12.406 15.841 16.679]\n"
     ]
    },
    {
     "data": {
      "text/markdown": [
       "## Inference time"
      ],
      "text/plain": [
       "<IPython.core.display.Markdown object>"
      ]
     },
     "metadata": {},
     "output_type": "display_data"
    },
    {
     "name": "stdout",
     "output_type": "stream",
     "text": [
      "\n",
      "\n",
      "Scratch: [3.28  1.864 1.771 2.871 2.091]\n",
      "Transfer: [3.514 4.358 3.782 5.732 6.082]\n",
      "Transfer & Revision: [20.551  2.038 23.697  3.518  2.94 ]\n"
     ]
    },
    {
     "data": {
      "text/markdown": [
       "# Results for 14_uwcse_cora"
      ],
      "text/plain": [
       "<IPython.core.display.Markdown object>"
      ]
     },
     "metadata": {},
     "output_type": "display_data"
    },
    {
     "data": {
      "text/markdown": [
       "## AUC ROC"
      ],
      "text/plain": [
       "<IPython.core.display.Markdown object>"
      ]
     },
     "metadata": {},
     "output_type": "display_data"
    },
    {
     "name": "stdout",
     "output_type": "stream",
     "text": [
      "T-test for experiment 1\n",
      "Ttest_relResult(statistic=-0.5365880431012329, pvalue=0.6200053956566662)\n",
      "Ttest_relResult(statistic=-6.434116228378403, pvalue=0.003001265017763418)\n"
     ]
    },
    {
     "data": {
      "text/html": [
       "<div>\n",
       "<table border=\"1\" class=\"dataframe\">\n",
       "  <thead>\n",
       "    <tr style=\"text-align: right;\">\n",
       "      <th></th>\n",
       "      <th>p-value</th>\n",
       "      <th>RDN-B</th>\n",
       "    </tr>\n",
       "  </thead>\n",
       "  <tbody>\n",
       "    <tr>\n",
       "      <th>0</th>\n",
       "      <td>transferRDN-B Ref</td>\n",
       "      <td>0.620</td>\n",
       "    </tr>\n",
       "    <tr>\n",
       "      <th>1</th>\n",
       "      <td>transferRDN-B</td>\n",
       "      <td>0.003</td>\n",
       "    </tr>\n",
       "  </tbody>\n",
       "</table>\n",
       "</div>"
      ],
      "text/plain": [
       "             p-value  RDN-B\n",
       "0  transferRDN-B Ref  0.620\n",
       "1      transferRDN-B  0.003"
      ]
     },
     "metadata": {},
     "output_type": "display_data"
    },
    {
     "name": "stdout",
     "output_type": "stream",
     "text": [
      "\n",
      "\n",
      "Scratch: [0.722334 0.704446 0.925275 0.744299 0.744173]\n",
      "Transfer: [0.507833 0.506085 0.502315 0.506316 0.505038]\n",
      "Transfer & Revision: [0.724151 0.707144 0.898625 0.747111 0.74772 ]\n"
     ]
    },
    {
     "data": {
      "text/markdown": [
       "## AUC PR"
      ],
      "text/plain": [
       "<IPython.core.display.Markdown object>"
      ]
     },
     "metadata": {},
     "output_type": "display_data"
    },
    {
     "name": "stdout",
     "output_type": "stream",
     "text": [
      "T-test for experiment 1\n",
      "Ttest_relResult(statistic=-0.9227052703112972, pvalue=0.4083801172875044)\n",
      "Ttest_relResult(statistic=-6.493413481488847, pvalue=0.002900898763192382)\n"
     ]
    },
    {
     "data": {
      "text/html": [
       "<div>\n",
       "<table border=\"1\" class=\"dataframe\">\n",
       "  <thead>\n",
       "    <tr style=\"text-align: right;\">\n",
       "      <th></th>\n",
       "      <th>p-value</th>\n",
       "      <th>RDN-B</th>\n",
       "    </tr>\n",
       "  </thead>\n",
       "  <tbody>\n",
       "    <tr>\n",
       "      <th>0</th>\n",
       "      <td>transferRDN-B Ref</td>\n",
       "      <td>0.408</td>\n",
       "    </tr>\n",
       "    <tr>\n",
       "      <th>1</th>\n",
       "      <td>transferRDN-B</td>\n",
       "      <td>0.003</td>\n",
       "    </tr>\n",
       "  </tbody>\n",
       "</table>\n",
       "</div>"
      ],
      "text/plain": [
       "             p-value  RDN-B\n",
       "0  transferRDN-B Ref  0.408\n",
       "1      transferRDN-B  0.003"
      ]
     },
     "metadata": {},
     "output_type": "display_data"
    },
    {
     "name": "stdout",
     "output_type": "stream",
     "text": [
      "\n",
      "\n",
      "Scratch: [0.770556 0.731652 0.951591 0.7632   0.774614]\n",
      "Transfer: [0.587076 0.533971 0.576355 0.54817  0.580576]\n",
      "Transfer & Revision: [0.771462 0.733037 0.864866 0.764606 0.776362]\n"
     ]
    },
    {
     "data": {
      "text/markdown": [
       "## CLL"
      ],
      "text/plain": [
       "<IPython.core.display.Markdown object>"
      ]
     },
     "metadata": {},
     "output_type": "display_data"
    },
    {
     "name": "stdout",
     "output_type": "stream",
     "text": [
      "T-test for experiment 1\n",
      "Ttest_relResult(statistic=-0.8184195522378521, pvalue=0.45907058230476083)\n",
      "Ttest_relResult(statistic=-2.61412642901131, pvalue=0.05916298806249495)\n"
     ]
    },
    {
     "data": {
      "text/html": [
       "<div>\n",
       "<table border=\"1\" class=\"dataframe\">\n",
       "  <thead>\n",
       "    <tr style=\"text-align: right;\">\n",
       "      <th></th>\n",
       "      <th>p-value</th>\n",
       "      <th>RDN-B</th>\n",
       "    </tr>\n",
       "  </thead>\n",
       "  <tbody>\n",
       "    <tr>\n",
       "      <th>0</th>\n",
       "      <td>transferRDN-B Ref</td>\n",
       "      <td>0.459</td>\n",
       "    </tr>\n",
       "    <tr>\n",
       "      <th>1</th>\n",
       "      <td>transferRDN-B</td>\n",
       "      <td>0.059</td>\n",
       "    </tr>\n",
       "  </tbody>\n",
       "</table>\n",
       "</div>"
      ],
      "text/plain": [
       "             p-value  RDN-B\n",
       "0  transferRDN-B Ref  0.459\n",
       "1      transferRDN-B  0.059"
      ]
     },
     "metadata": {},
     "output_type": "display_data"
    },
    {
     "name": "stdout",
     "output_type": "stream",
     "text": [
      "\n",
      "\n",
      "Scratch: [-0.599766 -0.689576 -0.364998 -0.57459  -0.625131]\n",
      "Transfer: [-0.702218 -0.735476 -0.699681 -0.693416 -0.696929]\n",
      "Transfer & Revision: [-0.598223 -0.664351 -0.507019 -0.583563 -0.623312]\n"
     ]
    },
    {
     "data": {
      "text/markdown": [
       "## Recall"
      ],
      "text/plain": [
       "<IPython.core.display.Markdown object>"
      ]
     },
     "metadata": {},
     "output_type": "display_data"
    },
    {
     "name": "stdout",
     "output_type": "stream",
     "text": [
      "T-test for experiment 1\n",
      "Ttest_relResult(statistic=-1.584572845255108, pvalue=0.18824013343239232)\n",
      "Ttest_relResult(statistic=-1.6393426248739105, pvalue=0.1764850259566966)\n"
     ]
    },
    {
     "data": {
      "text/html": [
       "<div>\n",
       "<table border=\"1\" class=\"dataframe\">\n",
       "  <thead>\n",
       "    <tr style=\"text-align: right;\">\n",
       "      <th></th>\n",
       "      <th>p-value</th>\n",
       "      <th>RDN-B</th>\n",
       "    </tr>\n",
       "  </thead>\n",
       "  <tbody>\n",
       "    <tr>\n",
       "      <th>0</th>\n",
       "      <td>transferRDN-B Ref</td>\n",
       "      <td>0.188</td>\n",
       "    </tr>\n",
       "    <tr>\n",
       "      <th>1</th>\n",
       "      <td>transferRDN-B</td>\n",
       "      <td>0.176</td>\n",
       "    </tr>\n",
       "  </tbody>\n",
       "</table>\n",
       "</div>"
      ],
      "text/plain": [
       "             p-value  RDN-B\n",
       "0  transferRDN-B Ref  0.188\n",
       "1      transferRDN-B  0.176"
      ]
     },
     "metadata": {},
     "output_type": "display_data"
    },
    {
     "name": "stdout",
     "output_type": "stream",
     "text": [
      "\n",
      "\n",
      "Scratch: [0.363806 0.910394 0.924786 0.943761 0.365809]\n",
      "Transfer: [0. 1. 0. 1. 0.]\n",
      "Transfer & Revision: [0.360075 0.910394 0.924786 0.943761 0.360294]\n"
     ]
    },
    {
     "data": {
      "text/markdown": [
       "## F1"
      ],
      "text/plain": [
       "<IPython.core.display.Markdown object>"
      ]
     },
     "metadata": {},
     "output_type": "display_data"
    },
    {
     "name": "stdout",
     "output_type": "stream",
     "text": [
      "T-test for experiment 1\n",
      "Ttest_relResult(statistic=-1.0286505923317326, pvalue=0.361776063378928)\n",
      "Ttest_relResult(statistic=nan, pvalue=nan)\n"
     ]
    },
    {
     "data": {
      "text/html": [
       "<div>\n",
       "<table border=\"1\" class=\"dataframe\">\n",
       "  <thead>\n",
       "    <tr style=\"text-align: right;\">\n",
       "      <th></th>\n",
       "      <th>p-value</th>\n",
       "      <th>RDN-B</th>\n",
       "    </tr>\n",
       "  </thead>\n",
       "  <tbody>\n",
       "    <tr>\n",
       "      <th>0</th>\n",
       "      <td>transferRDN-B Ref</td>\n",
       "      <td>0.362</td>\n",
       "    </tr>\n",
       "    <tr>\n",
       "      <th>1</th>\n",
       "      <td>transferRDN-B</td>\n",
       "      <td>nan</td>\n",
       "    </tr>\n",
       "  </tbody>\n",
       "</table>\n",
       "</div>"
      ],
      "text/plain": [
       "             p-value  RDN-B\n",
       "0  transferRDN-B Ref  0.362\n",
       "1      transferRDN-B    nan"
      ]
     },
     "metadata": {},
     "output_type": "display_data"
    },
    {
     "name": "stdout",
     "output_type": "stream",
     "text": [
      "\n",
      "\n",
      "Scratch: [0.511811 0.727794 0.94087  0.763869 0.510256]\n",
      "Transfer: [     nan 0.696195      nan 0.708152      nan]\n",
      "Transfer & Revision: [0.508564 0.729885 0.767376 0.766049 0.505155]\n"
     ]
    },
    {
     "data": {
      "text/markdown": [
       "## Precision"
      ],
      "text/plain": [
       "<IPython.core.display.Markdown object>"
      ]
     },
     "metadata": {},
     "output_type": "display_data"
    },
    {
     "name": "stdout",
     "output_type": "stream",
     "text": [
      "\n",
      "\n",
      "Scratch: [0.862832 0.606205 0.957522 0.641577 0.84322 ]\n",
      "Transfer: [     nan 0.533971      nan 0.54817       nan]\n",
      "Transfer & Revision: [0.865471 0.609113 0.655758 0.644658 0.844828]\n"
     ]
    },
    {
     "data": {
      "text/markdown": [
       "## Learning and Revision time"
      ],
      "text/plain": [
       "<IPython.core.display.Markdown object>"
      ]
     },
     "metadata": {},
     "output_type": "display_data"
    },
    {
     "name": "stdout",
     "output_type": "stream",
     "text": [
      "\n",
      "\n",
      "Scratch: [16.034 24.13  98.924  7.82  13.152]\n",
      "Transfer: [10.048 11.046  7.393  4.377  6.85 ]\n",
      "Transfer & Revision: [ 92.023 387.173  67.017  73.319  22.666]\n"
     ]
    },
    {
     "data": {
      "text/markdown": [
       "## Inference time"
      ],
      "text/plain": [
       "<IPython.core.display.Markdown object>"
      ]
     },
     "metadata": {},
     "output_type": "display_data"
    },
    {
     "name": "stdout",
     "output_type": "stream",
     "text": [
      "\n",
      "\n",
      "Scratch: [ 2.454  2.005 18.183  1.409  2.108]\n",
      "Transfer: [10.048 11.046  7.393  4.377  6.85 ]\n",
      "Transfer & Revision: [116.855 137.032  11.001 144.      4.475]\n"
     ]
    },
    {
     "data": {
      "text/markdown": [
       "# Results for 15_yeast_twitter"
      ],
      "text/plain": [
       "<IPython.core.display.Markdown object>"
      ]
     },
     "metadata": {},
     "output_type": "display_data"
    },
    {
     "data": {
      "text/markdown": [
       "## AUC ROC"
      ],
      "text/plain": [
       "<IPython.core.display.Markdown object>"
      ]
     },
     "metadata": {},
     "output_type": "display_data"
    },
    {
     "name": "stdout",
     "output_type": "stream",
     "text": [
      "T-test for experiment 1\n",
      "Ttest_relResult(statistic=-0.9268543028469577, pvalue=0.5241552505068416)\n",
      "Ttest_relResult(statistic=-3.131891746692628, pvalue=0.19675629182621873)\n"
     ]
    },
    {
     "data": {
      "text/html": [
       "<div>\n",
       "<table border=\"1\" class=\"dataframe\">\n",
       "  <thead>\n",
       "    <tr style=\"text-align: right;\">\n",
       "      <th></th>\n",
       "      <th>p-value</th>\n",
       "      <th>RDN-B</th>\n",
       "    </tr>\n",
       "  </thead>\n",
       "  <tbody>\n",
       "    <tr>\n",
       "      <th>0</th>\n",
       "      <td>transferRDN-B Ref</td>\n",
       "      <td>0.524</td>\n",
       "    </tr>\n",
       "    <tr>\n",
       "      <th>1</th>\n",
       "      <td>transferRDN-B</td>\n",
       "      <td>0.197</td>\n",
       "    </tr>\n",
       "  </tbody>\n",
       "</table>\n",
       "</div>"
      ],
      "text/plain": [
       "             p-value  RDN-B\n",
       "0  transferRDN-B Ref  0.524\n",
       "1      transferRDN-B  0.197"
      ]
     },
     "metadata": {},
     "output_type": "display_data"
    },
    {
     "name": "stdout",
     "output_type": "stream",
     "text": [
      "\n",
      "\n",
      "Scratch: [0.793845 0.731387]\n",
      "Transfer: [0.701553 0.683768]\n",
      "Transfer & Revision: [0.758177 0.732741]\n"
     ]
    },
    {
     "data": {
      "text/markdown": [
       "## AUC PR"
      ],
      "text/plain": [
       "<IPython.core.display.Markdown object>"
      ]
     },
     "metadata": {},
     "output_type": "display_data"
    },
    {
     "name": "stdout",
     "output_type": "stream",
     "text": [
      "T-test for experiment 1\n",
      "Ttest_relResult(statistic=-0.8431806446854003, pvalue=0.5540340153968504)\n",
      "Ttest_relResult(statistic=-2.975779346646985, pvalue=0.20638598230562955)\n"
     ]
    },
    {
     "data": {
      "text/html": [
       "<div>\n",
       "<table border=\"1\" class=\"dataframe\">\n",
       "  <thead>\n",
       "    <tr style=\"text-align: right;\">\n",
       "      <th></th>\n",
       "      <th>p-value</th>\n",
       "      <th>RDN-B</th>\n",
       "    </tr>\n",
       "  </thead>\n",
       "  <tbody>\n",
       "    <tr>\n",
       "      <th>0</th>\n",
       "      <td>transferRDN-B Ref</td>\n",
       "      <td>0.554</td>\n",
       "    </tr>\n",
       "    <tr>\n",
       "      <th>1</th>\n",
       "      <td>transferRDN-B</td>\n",
       "      <td>0.206</td>\n",
       "    </tr>\n",
       "  </tbody>\n",
       "</table>\n",
       "</div>"
      ],
      "text/plain": [
       "             p-value  RDN-B\n",
       "0  transferRDN-B Ref  0.554\n",
       "1      transferRDN-B  0.206"
      ]
     },
     "metadata": {},
     "output_type": "display_data"
    },
    {
     "name": "stdout",
     "output_type": "stream",
     "text": [
      "\n",
      "\n",
      "Scratch: [0.782611 0.691665]\n",
      "Transfer: [0.670826 0.636113]\n",
      "Transfer & Revision: [0.720141 0.69698 ]\n"
     ]
    },
    {
     "data": {
      "text/markdown": [
       "## CLL"
      ],
      "text/plain": [
       "<IPython.core.display.Markdown object>"
      ]
     },
     "metadata": {},
     "output_type": "display_data"
    },
    {
     "name": "stdout",
     "output_type": "stream",
     "text": [
      "T-test for experiment 1\n",
      "Ttest_relResult(statistic=-1.7889394469723414, pvalue=0.3244974649517089)\n",
      "Ttest_relResult(statistic=-5.22878917489695, pvalue=0.12030014295448987)\n"
     ]
    },
    {
     "data": {
      "text/html": [
       "<div>\n",
       "<table border=\"1\" class=\"dataframe\">\n",
       "  <thead>\n",
       "    <tr style=\"text-align: right;\">\n",
       "      <th></th>\n",
       "      <th>p-value</th>\n",
       "      <th>RDN-B</th>\n",
       "    </tr>\n",
       "  </thead>\n",
       "  <tbody>\n",
       "    <tr>\n",
       "      <th>0</th>\n",
       "      <td>transferRDN-B Ref</td>\n",
       "      <td>0.324</td>\n",
       "    </tr>\n",
       "    <tr>\n",
       "      <th>1</th>\n",
       "      <td>transferRDN-B</td>\n",
       "      <td>0.120</td>\n",
       "    </tr>\n",
       "  </tbody>\n",
       "</table>\n",
       "</div>"
      ],
      "text/plain": [
       "             p-value  RDN-B\n",
       "0  transferRDN-B Ref  0.324\n",
       "1      transferRDN-B  0.120"
      ]
     },
     "metadata": {},
     "output_type": "display_data"
    },
    {
     "name": "stdout",
     "output_type": "stream",
     "text": [
      "\n",
      "\n",
      "Scratch: [-0.558721 -0.593373]\n",
      "Transfer: [-0.638817 -0.647751]\n",
      "Transfer & Revision: [-0.582625 -0.600135]\n"
     ]
    },
    {
     "data": {
      "text/markdown": [
       "## Recall"
      ],
      "text/plain": [
       "<IPython.core.display.Markdown object>"
      ]
     },
     "metadata": {},
     "output_type": "display_data"
    },
    {
     "name": "stdout",
     "output_type": "stream",
     "text": [
      "T-test for experiment 1\n",
      "Ttest_relResult(statistic=26.99235807860349, pvalue=0.023574404006056475)\n",
      "Ttest_relResult(statistic=-2.6592559038717423, pvalue=0.22898357415746173)\n"
     ]
    },
    {
     "data": {
      "text/html": [
       "<div>\n",
       "<table border=\"1\" class=\"dataframe\">\n",
       "  <thead>\n",
       "    <tr style=\"text-align: right;\">\n",
       "      <th></th>\n",
       "      <th>p-value</th>\n",
       "      <th>RDN-B</th>\n",
       "    </tr>\n",
       "  </thead>\n",
       "  <tbody>\n",
       "    <tr>\n",
       "      <th>0</th>\n",
       "      <td>transferRDN-B Ref</td>\n",
       "      <td>0.024</td>\n",
       "    </tr>\n",
       "    <tr>\n",
       "      <th>1</th>\n",
       "      <td>transferRDN-B</td>\n",
       "      <td>0.229</td>\n",
       "    </tr>\n",
       "  </tbody>\n",
       "</table>\n",
       "</div>"
      ],
      "text/plain": [
       "             p-value  RDN-B\n",
       "0  transferRDN-B Ref  0.024\n",
       "1      transferRDN-B  0.229"
      ]
     },
     "metadata": {},
     "output_type": "display_data"
    },
    {
     "name": "stdout",
     "output_type": "stream",
     "text": [
      "\n",
      "\n",
      "Scratch: [0.685897 0.84127 ]\n",
      "Transfer: [0.480769 0.388889]\n",
      "Transfer & Revision: [0.711538 0.865079]\n"
     ]
    },
    {
     "data": {
      "text/markdown": [
       "## F1"
      ],
      "text/plain": [
       "<IPython.core.display.Markdown object>"
      ]
     },
     "metadata": {},
     "output_type": "display_data"
    },
    {
     "name": "stdout",
     "output_type": "stream",
     "text": [
      "T-test for experiment 1\n",
      "Ttest_relResult(statistic=-0.10286229240870166, pvalue=0.9347453306702234)\n",
      "Ttest_relResult(statistic=-4.537649709474684, pvalue=0.13808996569067272)\n"
     ]
    },
    {
     "data": {
      "text/html": [
       "<div>\n",
       "<table border=\"1\" class=\"dataframe\">\n",
       "  <thead>\n",
       "    <tr style=\"text-align: right;\">\n",
       "      <th></th>\n",
       "      <th>p-value</th>\n",
       "      <th>RDN-B</th>\n",
       "    </tr>\n",
       "  </thead>\n",
       "  <tbody>\n",
       "    <tr>\n",
       "      <th>0</th>\n",
       "      <td>transferRDN-B Ref</td>\n",
       "      <td>0.935</td>\n",
       "    </tr>\n",
       "    <tr>\n",
       "      <th>1</th>\n",
       "      <td>transferRDN-B</td>\n",
       "      <td>0.138</td>\n",
       "    </tr>\n",
       "  </tbody>\n",
       "</table>\n",
       "</div>"
      ],
      "text/plain": [
       "             p-value  RDN-B\n",
       "0  transferRDN-B Ref  0.935\n",
       "1      transferRDN-B  0.138"
      ]
     },
     "metadata": {},
     "output_type": "display_data"
    },
    {
     "name": "stdout",
     "output_type": "stream",
     "text": [
      "\n",
      "\n",
      "Scratch: [0.710963 0.718644]\n",
      "Transfer: [0.561798 0.485149]\n",
      "Transfer & Revision: [0.698113 0.729097]\n"
     ]
    },
    {
     "data": {
      "text/markdown": [
       "## Precision"
      ],
      "text/plain": [
       "<IPython.core.display.Markdown object>"
      ]
     },
     "metadata": {},
     "output_type": "display_data"
    },
    {
     "name": "stdout",
     "output_type": "stream",
     "text": [
      "\n",
      "\n",
      "Scratch: [0.737931 0.627219]\n",
      "Transfer: [0.675676 0.644737]\n",
      "Transfer & Revision: [0.685185 0.630058]\n"
     ]
    },
    {
     "data": {
      "text/markdown": [
       "## Learning and Revision time"
      ],
      "text/plain": [
       "<IPython.core.display.Markdown object>"
      ]
     },
     "metadata": {},
     "output_type": "display_data"
    },
    {
     "name": "stdout",
     "output_type": "stream",
     "text": [
      "\n",
      "\n",
      "Scratch: [39.885 33.278]\n",
      "Transfer: [16.105 11.893]\n",
      "Transfer & Revision: [45.507 39.109]\n"
     ]
    },
    {
     "data": {
      "text/markdown": [
       "## Inference time"
      ],
      "text/plain": [
       "<IPython.core.display.Markdown object>"
      ]
     },
     "metadata": {},
     "output_type": "display_data"
    },
    {
     "name": "stdout",
     "output_type": "stream",
     "text": [
      "\n",
      "\n",
      "Scratch: [0.987 0.806]\n",
      "Transfer: [16.105 11.893]\n",
      "Transfer & Revision: [1.386 1.02 ]\n"
     ]
    },
    {
     "data": {
      "text/markdown": [
       "# Results for 16_yeast_twitter"
      ],
      "text/plain": [
       "<IPython.core.display.Markdown object>"
      ]
     },
     "metadata": {},
     "output_type": "display_data"
    },
    {
     "data": {
      "text/markdown": [
       "## AUC ROC"
      ],
      "text/plain": [
       "<IPython.core.display.Markdown object>"
      ]
     },
     "metadata": {},
     "output_type": "display_data"
    },
    {
     "name": "stdout",
     "output_type": "stream",
     "text": [
      "T-test for experiment 1\n",
      "Ttest_relResult(statistic=1.0, pvalue=0.49999999999999956)\n",
      "Ttest_relResult(statistic=3.715246033880039, pvalue=0.1673863367771245)\n"
     ]
    },
    {
     "data": {
      "text/html": [
       "<div>\n",
       "<table border=\"1\" class=\"dataframe\">\n",
       "  <thead>\n",
       "    <tr style=\"text-align: right;\">\n",
       "      <th></th>\n",
       "      <th>p-value</th>\n",
       "      <th>RDN-B</th>\n",
       "    </tr>\n",
       "  </thead>\n",
       "  <tbody>\n",
       "    <tr>\n",
       "      <th>0</th>\n",
       "      <td>transferRDN-B Ref</td>\n",
       "      <td>0.500</td>\n",
       "    </tr>\n",
       "    <tr>\n",
       "      <th>1</th>\n",
       "      <td>transferRDN-B</td>\n",
       "      <td>0.167</td>\n",
       "    </tr>\n",
       "  </tbody>\n",
       "</table>\n",
       "</div>"
      ],
      "text/plain": [
       "             p-value  RDN-B\n",
       "0  transferRDN-B Ref  0.500\n",
       "1      transferRDN-B  0.167"
      ]
     },
     "metadata": {},
     "output_type": "display_data"
    },
    {
     "name": "stdout",
     "output_type": "stream",
     "text": [
      "\n",
      "\n",
      "Scratch: [0.727468 0.692724]\n",
      "Transfer: [0.732517 0.701492]\n",
      "Transfer & Revision: [0.727468 0.693504]\n"
     ]
    },
    {
     "data": {
      "text/markdown": [
       "## AUC PR"
      ],
      "text/plain": [
       "<IPython.core.display.Markdown object>"
      ]
     },
     "metadata": {},
     "output_type": "display_data"
    },
    {
     "name": "stdout",
     "output_type": "stream",
     "text": [
      "T-test for experiment 1\n",
      "Ttest_relResult(statistic=1.0, pvalue=0.49999999999999956)\n",
      "Ttest_relResult(statistic=1.1515552331783083, pvalue=0.4552305447334345)\n"
     ]
    },
    {
     "data": {
      "text/html": [
       "<div>\n",
       "<table border=\"1\" class=\"dataframe\">\n",
       "  <thead>\n",
       "    <tr style=\"text-align: right;\">\n",
       "      <th></th>\n",
       "      <th>p-value</th>\n",
       "      <th>RDN-B</th>\n",
       "    </tr>\n",
       "  </thead>\n",
       "  <tbody>\n",
       "    <tr>\n",
       "      <th>0</th>\n",
       "      <td>transferRDN-B Ref</td>\n",
       "      <td>0.500</td>\n",
       "    </tr>\n",
       "    <tr>\n",
       "      <th>1</th>\n",
       "      <td>transferRDN-B</td>\n",
       "      <td>0.455</td>\n",
       "    </tr>\n",
       "  </tbody>\n",
       "</table>\n",
       "</div>"
      ],
      "text/plain": [
       "             p-value  RDN-B\n",
       "0  transferRDN-B Ref  0.500\n",
       "1      transferRDN-B  0.455"
      ]
     },
     "metadata": {},
     "output_type": "display_data"
    },
    {
     "name": "stdout",
     "output_type": "stream",
     "text": [
      "\n",
      "\n",
      "Scratch: [0.695837 0.660425]\n",
      "Transfer: [0.697613 0.685638]\n",
      "Transfer & Revision: [0.695837 0.662559]\n"
     ]
    },
    {
     "data": {
      "text/markdown": [
       "## CLL"
      ],
      "text/plain": [
       "<IPython.core.display.Markdown object>"
      ]
     },
     "metadata": {},
     "output_type": "display_data"
    },
    {
     "name": "stdout",
     "output_type": "stream",
     "text": [
      "T-test for experiment 1\n",
      "Ttest_relResult(statistic=0.51112646855563, pvalue=0.6991913567033277)\n",
      "Ttest_relResult(statistic=0.22465654374547858, pvalue=0.8593149806023673)\n"
     ]
    },
    {
     "data": {
      "text/html": [
       "<div>\n",
       "<table border=\"1\" class=\"dataframe\">\n",
       "  <thead>\n",
       "    <tr style=\"text-align: right;\">\n",
       "      <th></th>\n",
       "      <th>p-value</th>\n",
       "      <th>RDN-B</th>\n",
       "    </tr>\n",
       "  </thead>\n",
       "  <tbody>\n",
       "    <tr>\n",
       "      <th>0</th>\n",
       "      <td>transferRDN-B Ref</td>\n",
       "      <td>0.699</td>\n",
       "    </tr>\n",
       "    <tr>\n",
       "      <th>1</th>\n",
       "      <td>transferRDN-B</td>\n",
       "      <td>0.859</td>\n",
       "    </tr>\n",
       "  </tbody>\n",
       "</table>\n",
       "</div>"
      ],
      "text/plain": [
       "             p-value  RDN-B\n",
       "0  transferRDN-B Ref  0.699\n",
       "1      transferRDN-B  0.859"
      ]
     },
     "metadata": {},
     "output_type": "display_data"
    },
    {
     "name": "stdout",
     "output_type": "stream",
     "text": [
      "\n",
      "\n",
      "Scratch: [-0.607391 -0.646203]\n",
      "Transfer: [-0.618114 -0.629266]\n",
      "Transfer & Revision: [-0.610928 -0.63527 ]\n"
     ]
    },
    {
     "data": {
      "text/markdown": [
       "## Recall"
      ],
      "text/plain": [
       "<IPython.core.display.Markdown object>"
      ]
     },
     "metadata": {},
     "output_type": "display_data"
    },
    {
     "name": "stdout",
     "output_type": "stream",
     "text": [
      "T-test for experiment 1\n",
      "Ttest_relResult(statistic=-1.0, pvalue=0.49999999999999956)\n",
      "Ttest_relResult(statistic=-1.0, pvalue=0.49999999999999956)\n"
     ]
    },
    {
     "data": {
      "text/html": [
       "<div>\n",
       "<table border=\"1\" class=\"dataframe\">\n",
       "  <thead>\n",
       "    <tr style=\"text-align: right;\">\n",
       "      <th></th>\n",
       "      <th>p-value</th>\n",
       "      <th>RDN-B</th>\n",
       "    </tr>\n",
       "  </thead>\n",
       "  <tbody>\n",
       "    <tr>\n",
       "      <th>0</th>\n",
       "      <td>transferRDN-B Ref</td>\n",
       "      <td>0.500</td>\n",
       "    </tr>\n",
       "    <tr>\n",
       "      <th>1</th>\n",
       "      <td>transferRDN-B</td>\n",
       "      <td>0.500</td>\n",
       "    </tr>\n",
       "  </tbody>\n",
       "</table>\n",
       "</div>"
      ],
      "text/plain": [
       "             p-value  RDN-B\n",
       "0  transferRDN-B Ref  0.500\n",
       "1      transferRDN-B  0.500"
      ]
     },
     "metadata": {},
     "output_type": "display_data"
    },
    {
     "name": "stdout",
     "output_type": "stream",
     "text": [
      "\n",
      "\n",
      "Scratch: [0.529661 0.498718]\n",
      "Transfer: [0.529661 0.496154]\n",
      "Transfer & Revision: [0.529661 0.496154]\n"
     ]
    },
    {
     "data": {
      "text/markdown": [
       "## F1"
      ],
      "text/plain": [
       "<IPython.core.display.Markdown object>"
      ]
     },
     "metadata": {},
     "output_type": "display_data"
    },
    {
     "name": "stdout",
     "output_type": "stream",
     "text": [
      "T-test for experiment 1\n",
      "Ttest_relResult(statistic=-1.0, pvalue=0.49999999999999956)\n",
      "Ttest_relResult(statistic=-1.0, pvalue=0.49999999999999956)\n"
     ]
    },
    {
     "data": {
      "text/html": [
       "<div>\n",
       "<table border=\"1\" class=\"dataframe\">\n",
       "  <thead>\n",
       "    <tr style=\"text-align: right;\">\n",
       "      <th></th>\n",
       "      <th>p-value</th>\n",
       "      <th>RDN-B</th>\n",
       "    </tr>\n",
       "  </thead>\n",
       "  <tbody>\n",
       "    <tr>\n",
       "      <th>0</th>\n",
       "      <td>transferRDN-B Ref</td>\n",
       "      <td>0.500</td>\n",
       "    </tr>\n",
       "    <tr>\n",
       "      <th>1</th>\n",
       "      <td>transferRDN-B</td>\n",
       "      <td>0.500</td>\n",
       "    </tr>\n",
       "  </tbody>\n",
       "</table>\n",
       "</div>"
      ],
      "text/plain": [
       "             p-value  RDN-B\n",
       "0  transferRDN-B Ref  0.500\n",
       "1      transferRDN-B  0.500"
      ]
     },
     "metadata": {},
     "output_type": "display_data"
    },
    {
     "name": "stdout",
     "output_type": "stream",
     "text": [
      "\n",
      "\n",
      "Scratch: [0.627615 0.596626]\n",
      "Transfer: [0.627615 0.595385]\n",
      "Transfer & Revision: [0.627615 0.595385]\n"
     ]
    },
    {
     "data": {
      "text/markdown": [
       "## Precision"
      ],
      "text/plain": [
       "<IPython.core.display.Markdown object>"
      ]
     },
     "metadata": {},
     "output_type": "display_data"
    },
    {
     "name": "stdout",
     "output_type": "stream",
     "text": [
      "\n",
      "\n",
      "Scratch: [0.770021 0.742366]\n",
      "Transfer: [0.770021 0.744231]\n",
      "Transfer & Revision: [0.770021 0.744231]\n"
     ]
    },
    {
     "data": {
      "text/markdown": [
       "## Learning and Revision time"
      ],
      "text/plain": [
       "<IPython.core.display.Markdown object>"
      ]
     },
     "metadata": {},
     "output_type": "display_data"
    },
    {
     "name": "stdout",
     "output_type": "stream",
     "text": [
      "\n",
      "\n",
      "Scratch: [44.106 49.213]\n",
      "Transfer: [31.514 25.802]\n",
      "Transfer & Revision: [56.378 56.344]\n"
     ]
    },
    {
     "data": {
      "text/markdown": [
       "## Inference time"
      ],
      "text/plain": [
       "<IPython.core.display.Markdown object>"
      ]
     },
     "metadata": {},
     "output_type": "display_data"
    },
    {
     "name": "stdout",
     "output_type": "stream",
     "text": [
      "\n",
      "\n",
      "Scratch: [1.012 1.155]\n",
      "Transfer: [31.514 25.802]\n",
      "Transfer & Revision: [1.315 1.161]\n"
     ]
    },
    {
     "data": {
      "text/markdown": [
       "# Results for 17_yeast_twitter"
      ],
      "text/plain": [
       "<IPython.core.display.Markdown object>"
      ]
     },
     "metadata": {},
     "output_type": "display_data"
    },
    {
     "data": {
      "text/markdown": [
       "## AUC ROC"
      ],
      "text/plain": [
       "<IPython.core.display.Markdown object>"
      ]
     },
     "metadata": {},
     "output_type": "display_data"
    },
    {
     "name": "stdout",
     "output_type": "stream",
     "text": [
      "T-test for experiment 1\n",
      "Ttest_relResult(statistic=nan, pvalue=nan)\n",
      "Ttest_relResult(statistic=nan, pvalue=nan)\n"
     ]
    },
    {
     "data": {
      "text/html": [
       "<div>\n",
       "<table border=\"1\" class=\"dataframe\">\n",
       "  <thead>\n",
       "    <tr style=\"text-align: right;\">\n",
       "      <th></th>\n",
       "      <th>p-value</th>\n",
       "      <th>RDN-B</th>\n",
       "    </tr>\n",
       "  </thead>\n",
       "  <tbody>\n",
       "    <tr>\n",
       "      <th>0</th>\n",
       "      <td>transferRDN-B Ref</td>\n",
       "      <td>nan</td>\n",
       "    </tr>\n",
       "    <tr>\n",
       "      <th>1</th>\n",
       "      <td>transferRDN-B</td>\n",
       "      <td>nan</td>\n",
       "    </tr>\n",
       "  </tbody>\n",
       "</table>\n",
       "</div>"
      ],
      "text/plain": [
       "             p-value RDN-B\n",
       "0  transferRDN-B Ref   nan\n",
       "1      transferRDN-B   nan"
      ]
     },
     "metadata": {},
     "output_type": "display_data"
    },
    {
     "name": "stdout",
     "output_type": "stream",
     "text": [
      "\n",
      "\n",
      "Scratch: [0.5 0.5]\n",
      "Transfer: [0.5 0.5]\n",
      "Transfer & Revision: [0.5 0.5]\n"
     ]
    },
    {
     "data": {
      "text/markdown": [
       "## AUC PR"
      ],
      "text/plain": [
       "<IPython.core.display.Markdown object>"
      ]
     },
     "metadata": {},
     "output_type": "display_data"
    },
    {
     "name": "stdout",
     "output_type": "stream",
     "text": [
      "T-test for experiment 1\n",
      "Ttest_relResult(statistic=nan, pvalue=nan)\n",
      "Ttest_relResult(statistic=nan, pvalue=nan)\n"
     ]
    },
    {
     "data": {
      "text/html": [
       "<div>\n",
       "<table border=\"1\" class=\"dataframe\">\n",
       "  <thead>\n",
       "    <tr style=\"text-align: right;\">\n",
       "      <th></th>\n",
       "      <th>p-value</th>\n",
       "      <th>RDN-B</th>\n",
       "    </tr>\n",
       "  </thead>\n",
       "  <tbody>\n",
       "    <tr>\n",
       "      <th>0</th>\n",
       "      <td>transferRDN-B Ref</td>\n",
       "      <td>nan</td>\n",
       "    </tr>\n",
       "    <tr>\n",
       "      <th>1</th>\n",
       "      <td>transferRDN-B</td>\n",
       "      <td>nan</td>\n",
       "    </tr>\n",
       "  </tbody>\n",
       "</table>\n",
       "</div>"
      ],
      "text/plain": [
       "             p-value RDN-B\n",
       "0  transferRDN-B Ref   nan\n",
       "1      transferRDN-B   nan"
      ]
     },
     "metadata": {},
     "output_type": "display_data"
    },
    {
     "name": "stdout",
     "output_type": "stream",
     "text": [
      "\n",
      "\n",
      "Scratch: [0.5 0.5]\n",
      "Transfer: [0.5 0.5]\n",
      "Transfer & Revision: [0.5 0.5]\n"
     ]
    },
    {
     "data": {
      "text/markdown": [
       "## CLL"
      ],
      "text/plain": [
       "<IPython.core.display.Markdown object>"
      ]
     },
     "metadata": {},
     "output_type": "display_data"
    },
    {
     "name": "stdout",
     "output_type": "stream",
     "text": [
      "T-test for experiment 1\n",
      "Ttest_relResult(statistic=-1.0, pvalue=0.49999999999999956)\n",
      "Ttest_relResult(statistic=-1.0, pvalue=0.49999999999999956)\n"
     ]
    },
    {
     "data": {
      "text/html": [
       "<div>\n",
       "<table border=\"1\" class=\"dataframe\">\n",
       "  <thead>\n",
       "    <tr style=\"text-align: right;\">\n",
       "      <th></th>\n",
       "      <th>p-value</th>\n",
       "      <th>RDN-B</th>\n",
       "    </tr>\n",
       "  </thead>\n",
       "  <tbody>\n",
       "    <tr>\n",
       "      <th>0</th>\n",
       "      <td>transferRDN-B Ref</td>\n",
       "      <td>0.500</td>\n",
       "    </tr>\n",
       "    <tr>\n",
       "      <th>1</th>\n",
       "      <td>transferRDN-B</td>\n",
       "      <td>0.500</td>\n",
       "    </tr>\n",
       "  </tbody>\n",
       "</table>\n",
       "</div>"
      ],
      "text/plain": [
       "             p-value  RDN-B\n",
       "0  transferRDN-B Ref  0.500\n",
       "1      transferRDN-B  0.500"
      ]
     },
     "metadata": {},
     "output_type": "display_data"
    },
    {
     "name": "stdout",
     "output_type": "stream",
     "text": [
      "\n",
      "\n",
      "Scratch: [-0.695026 -0.695026]\n",
      "Transfer: [-0.695579 -0.695026]\n",
      "Transfer & Revision: [-0.695579 -0.695026]\n"
     ]
    },
    {
     "data": {
      "text/markdown": [
       "## Recall"
      ],
      "text/plain": [
       "<IPython.core.display.Markdown object>"
      ]
     },
     "metadata": {},
     "output_type": "display_data"
    },
    {
     "name": "stdout",
     "output_type": "stream",
     "text": [
      "T-test for experiment 1\n",
      "Ttest_relResult(statistic=nan, pvalue=nan)\n",
      "Ttest_relResult(statistic=nan, pvalue=nan)\n"
     ]
    },
    {
     "data": {
      "text/html": [
       "<div>\n",
       "<table border=\"1\" class=\"dataframe\">\n",
       "  <thead>\n",
       "    <tr style=\"text-align: right;\">\n",
       "      <th></th>\n",
       "      <th>p-value</th>\n",
       "      <th>RDN-B</th>\n",
       "    </tr>\n",
       "  </thead>\n",
       "  <tbody>\n",
       "    <tr>\n",
       "      <th>0</th>\n",
       "      <td>transferRDN-B Ref</td>\n",
       "      <td>nan</td>\n",
       "    </tr>\n",
       "    <tr>\n",
       "      <th>1</th>\n",
       "      <td>transferRDN-B</td>\n",
       "      <td>nan</td>\n",
       "    </tr>\n",
       "  </tbody>\n",
       "</table>\n",
       "</div>"
      ],
      "text/plain": [
       "             p-value RDN-B\n",
       "0  transferRDN-B Ref   nan\n",
       "1      transferRDN-B   nan"
      ]
     },
     "metadata": {},
     "output_type": "display_data"
    },
    {
     "name": "stdout",
     "output_type": "stream",
     "text": [
      "\n",
      "\n",
      "Scratch: [0. 0.]\n",
      "Transfer: [0. 0.]\n",
      "Transfer & Revision: [0. 0.]\n"
     ]
    },
    {
     "data": {
      "text/markdown": [
       "## F1"
      ],
      "text/plain": [
       "<IPython.core.display.Markdown object>"
      ]
     },
     "metadata": {},
     "output_type": "display_data"
    },
    {
     "name": "stdout",
     "output_type": "stream",
     "text": [
      "T-test for experiment 1\n",
      "Ttest_relResult(statistic=nan, pvalue=nan)\n",
      "Ttest_relResult(statistic=nan, pvalue=nan)\n"
     ]
    },
    {
     "data": {
      "text/html": [
       "<div>\n",
       "<table border=\"1\" class=\"dataframe\">\n",
       "  <thead>\n",
       "    <tr style=\"text-align: right;\">\n",
       "      <th></th>\n",
       "      <th>p-value</th>\n",
       "      <th>RDN-B</th>\n",
       "    </tr>\n",
       "  </thead>\n",
       "  <tbody>\n",
       "    <tr>\n",
       "      <th>0</th>\n",
       "      <td>transferRDN-B Ref</td>\n",
       "      <td>nan</td>\n",
       "    </tr>\n",
       "    <tr>\n",
       "      <th>1</th>\n",
       "      <td>transferRDN-B</td>\n",
       "      <td>nan</td>\n",
       "    </tr>\n",
       "  </tbody>\n",
       "</table>\n",
       "</div>"
      ],
      "text/plain": [
       "             p-value RDN-B\n",
       "0  transferRDN-B Ref   nan\n",
       "1      transferRDN-B   nan"
      ]
     },
     "metadata": {},
     "output_type": "display_data"
    },
    {
     "name": "stdout",
     "output_type": "stream",
     "text": [
      "\n",
      "\n",
      "Scratch: [nan nan]\n",
      "Transfer: [nan nan]\n",
      "Transfer & Revision: [nan nan]\n"
     ]
    },
    {
     "data": {
      "text/markdown": [
       "## Precision"
      ],
      "text/plain": [
       "<IPython.core.display.Markdown object>"
      ]
     },
     "metadata": {},
     "output_type": "display_data"
    },
    {
     "name": "stdout",
     "output_type": "stream",
     "text": [
      "\n",
      "\n",
      "Scratch: [nan nan]\n",
      "Transfer: [nan nan]\n",
      "Transfer & Revision: [nan nan]\n"
     ]
    },
    {
     "data": {
      "text/markdown": [
       "## Learning and Revision time"
      ],
      "text/plain": [
       "<IPython.core.display.Markdown object>"
      ]
     },
     "metadata": {},
     "output_type": "display_data"
    },
    {
     "name": "stdout",
     "output_type": "stream",
     "text": [
      "\n",
      "\n",
      "Scratch: [177.264 207.928]\n",
      "Transfer: [102.478 160.578]\n",
      "Transfer & Revision: [215.811 337.36 ]\n"
     ]
    },
    {
     "data": {
      "text/markdown": [
       "## Inference time"
      ],
      "text/plain": [
       "<IPython.core.display.Markdown object>"
      ]
     },
     "metadata": {},
     "output_type": "display_data"
    },
    {
     "name": "stdout",
     "output_type": "stream",
     "text": [
      "\n",
      "\n",
      "Scratch: [1.171 1.519]\n",
      "Transfer: [102.478 160.578]\n",
      "Transfer & Revision: [1.351 1.261]\n"
     ]
    },
    {
     "data": {
      "text/markdown": [
       "# Results for 18_yeast_twitter"
      ],
      "text/plain": [
       "<IPython.core.display.Markdown object>"
      ]
     },
     "metadata": {},
     "output_type": "display_data"
    },
    {
     "data": {
      "text/markdown": [
       "## AUC ROC"
      ],
      "text/plain": [
       "<IPython.core.display.Markdown object>"
      ]
     },
     "metadata": {},
     "output_type": "display_data"
    },
    {
     "name": "stdout",
     "output_type": "stream",
     "text": [
      "T-test for experiment 1\n",
      "Ttest_relResult(statistic=nan, pvalue=nan)\n",
      "Ttest_relResult(statistic=nan, pvalue=nan)\n"
     ]
    },
    {
     "data": {
      "text/html": [
       "<div>\n",
       "<table border=\"1\" class=\"dataframe\">\n",
       "  <thead>\n",
       "    <tr style=\"text-align: right;\">\n",
       "      <th></th>\n",
       "      <th>p-value</th>\n",
       "      <th>RDN-B</th>\n",
       "    </tr>\n",
       "  </thead>\n",
       "  <tbody>\n",
       "    <tr>\n",
       "      <th>0</th>\n",
       "      <td>transferRDN-B Ref</td>\n",
       "      <td>nan</td>\n",
       "    </tr>\n",
       "    <tr>\n",
       "      <th>1</th>\n",
       "      <td>transferRDN-B</td>\n",
       "      <td>nan</td>\n",
       "    </tr>\n",
       "  </tbody>\n",
       "</table>\n",
       "</div>"
      ],
      "text/plain": [
       "             p-value RDN-B\n",
       "0  transferRDN-B Ref   nan\n",
       "1      transferRDN-B   nan"
      ]
     },
     "metadata": {},
     "output_type": "display_data"
    },
    {
     "name": "stdout",
     "output_type": "stream",
     "text": [
      "\n",
      "\n",
      "Scratch: [0.5 0.5]\n",
      "Transfer: [0.5 0.5]\n",
      "Transfer & Revision: [0.5 0.5]\n"
     ]
    },
    {
     "data": {
      "text/markdown": [
       "## AUC PR"
      ],
      "text/plain": [
       "<IPython.core.display.Markdown object>"
      ]
     },
     "metadata": {},
     "output_type": "display_data"
    },
    {
     "name": "stdout",
     "output_type": "stream",
     "text": [
      "T-test for experiment 1\n",
      "Ttest_relResult(statistic=nan, pvalue=nan)\n",
      "Ttest_relResult(statistic=nan, pvalue=nan)\n"
     ]
    },
    {
     "data": {
      "text/html": [
       "<div>\n",
       "<table border=\"1\" class=\"dataframe\">\n",
       "  <thead>\n",
       "    <tr style=\"text-align: right;\">\n",
       "      <th></th>\n",
       "      <th>p-value</th>\n",
       "      <th>RDN-B</th>\n",
       "    </tr>\n",
       "  </thead>\n",
       "  <tbody>\n",
       "    <tr>\n",
       "      <th>0</th>\n",
       "      <td>transferRDN-B Ref</td>\n",
       "      <td>nan</td>\n",
       "    </tr>\n",
       "    <tr>\n",
       "      <th>1</th>\n",
       "      <td>transferRDN-B</td>\n",
       "      <td>nan</td>\n",
       "    </tr>\n",
       "  </tbody>\n",
       "</table>\n",
       "</div>"
      ],
      "text/plain": [
       "             p-value RDN-B\n",
       "0  transferRDN-B Ref   nan\n",
       "1      transferRDN-B   nan"
      ]
     },
     "metadata": {},
     "output_type": "display_data"
    },
    {
     "name": "stdout",
     "output_type": "stream",
     "text": [
      "\n",
      "\n",
      "Scratch: [0.5 0.5]\n",
      "Transfer: [0.5 0.5]\n",
      "Transfer & Revision: [0.5 0.5]\n"
     ]
    },
    {
     "data": {
      "text/markdown": [
       "## CLL"
      ],
      "text/plain": [
       "<IPython.core.display.Markdown object>"
      ]
     },
     "metadata": {},
     "output_type": "display_data"
    },
    {
     "name": "stdout",
     "output_type": "stream",
     "text": [
      "T-test for experiment 1\n",
      "Ttest_relResult(statistic=-1.0, pvalue=0.49999999999999956)\n",
      "Ttest_relResult(statistic=-1.0, pvalue=0.49999999999999956)\n"
     ]
    },
    {
     "data": {
      "text/html": [
       "<div>\n",
       "<table border=\"1\" class=\"dataframe\">\n",
       "  <thead>\n",
       "    <tr style=\"text-align: right;\">\n",
       "      <th></th>\n",
       "      <th>p-value</th>\n",
       "      <th>RDN-B</th>\n",
       "    </tr>\n",
       "  </thead>\n",
       "  <tbody>\n",
       "    <tr>\n",
       "      <th>0</th>\n",
       "      <td>transferRDN-B Ref</td>\n",
       "      <td>0.500</td>\n",
       "    </tr>\n",
       "    <tr>\n",
       "      <th>1</th>\n",
       "      <td>transferRDN-B</td>\n",
       "      <td>0.500</td>\n",
       "    </tr>\n",
       "  </tbody>\n",
       "</table>\n",
       "</div>"
      ],
      "text/plain": [
       "             p-value  RDN-B\n",
       "0  transferRDN-B Ref  0.500\n",
       "1      transferRDN-B  0.500"
      ]
     },
     "metadata": {},
     "output_type": "display_data"
    },
    {
     "name": "stdout",
     "output_type": "stream",
     "text": [
      "\n",
      "\n",
      "Scratch: [-0.695026 -0.695026]\n",
      "Transfer: [-0.695325 -0.695026]\n",
      "Transfer & Revision: [-0.695325 -0.695026]\n"
     ]
    },
    {
     "data": {
      "text/markdown": [
       "## Recall"
      ],
      "text/plain": [
       "<IPython.core.display.Markdown object>"
      ]
     },
     "metadata": {},
     "output_type": "display_data"
    },
    {
     "name": "stdout",
     "output_type": "stream",
     "text": [
      "T-test for experiment 1\n",
      "Ttest_relResult(statistic=nan, pvalue=nan)\n",
      "Ttest_relResult(statistic=nan, pvalue=nan)\n"
     ]
    },
    {
     "data": {
      "text/html": [
       "<div>\n",
       "<table border=\"1\" class=\"dataframe\">\n",
       "  <thead>\n",
       "    <tr style=\"text-align: right;\">\n",
       "      <th></th>\n",
       "      <th>p-value</th>\n",
       "      <th>RDN-B</th>\n",
       "    </tr>\n",
       "  </thead>\n",
       "  <tbody>\n",
       "    <tr>\n",
       "      <th>0</th>\n",
       "      <td>transferRDN-B Ref</td>\n",
       "      <td>nan</td>\n",
       "    </tr>\n",
       "    <tr>\n",
       "      <th>1</th>\n",
       "      <td>transferRDN-B</td>\n",
       "      <td>nan</td>\n",
       "    </tr>\n",
       "  </tbody>\n",
       "</table>\n",
       "</div>"
      ],
      "text/plain": [
       "             p-value RDN-B\n",
       "0  transferRDN-B Ref   nan\n",
       "1      transferRDN-B   nan"
      ]
     },
     "metadata": {},
     "output_type": "display_data"
    },
    {
     "name": "stdout",
     "output_type": "stream",
     "text": [
      "\n",
      "\n",
      "Scratch: [0. 0.]\n",
      "Transfer: [0. 0.]\n",
      "Transfer & Revision: [0. 0.]\n"
     ]
    },
    {
     "data": {
      "text/markdown": [
       "## F1"
      ],
      "text/plain": [
       "<IPython.core.display.Markdown object>"
      ]
     },
     "metadata": {},
     "output_type": "display_data"
    },
    {
     "name": "stdout",
     "output_type": "stream",
     "text": [
      "T-test for experiment 1\n",
      "Ttest_relResult(statistic=nan, pvalue=nan)\n",
      "Ttest_relResult(statistic=nan, pvalue=nan)\n"
     ]
    },
    {
     "data": {
      "text/html": [
       "<div>\n",
       "<table border=\"1\" class=\"dataframe\">\n",
       "  <thead>\n",
       "    <tr style=\"text-align: right;\">\n",
       "      <th></th>\n",
       "      <th>p-value</th>\n",
       "      <th>RDN-B</th>\n",
       "    </tr>\n",
       "  </thead>\n",
       "  <tbody>\n",
       "    <tr>\n",
       "      <th>0</th>\n",
       "      <td>transferRDN-B Ref</td>\n",
       "      <td>nan</td>\n",
       "    </tr>\n",
       "    <tr>\n",
       "      <th>1</th>\n",
       "      <td>transferRDN-B</td>\n",
       "      <td>nan</td>\n",
       "    </tr>\n",
       "  </tbody>\n",
       "</table>\n",
       "</div>"
      ],
      "text/plain": [
       "             p-value RDN-B\n",
       "0  transferRDN-B Ref   nan\n",
       "1      transferRDN-B   nan"
      ]
     },
     "metadata": {},
     "output_type": "display_data"
    },
    {
     "name": "stdout",
     "output_type": "stream",
     "text": [
      "\n",
      "\n",
      "Scratch: [nan nan]\n",
      "Transfer: [nan nan]\n",
      "Transfer & Revision: [nan nan]\n"
     ]
    },
    {
     "data": {
      "text/markdown": [
       "## Precision"
      ],
      "text/plain": [
       "<IPython.core.display.Markdown object>"
      ]
     },
     "metadata": {},
     "output_type": "display_data"
    },
    {
     "name": "stdout",
     "output_type": "stream",
     "text": [
      "\n",
      "\n",
      "Scratch: [nan nan]\n",
      "Transfer: [nan nan]\n",
      "Transfer & Revision: [nan nan]\n"
     ]
    },
    {
     "data": {
      "text/markdown": [
       "## Learning and Revision time"
      ],
      "text/plain": [
       "<IPython.core.display.Markdown object>"
      ]
     },
     "metadata": {},
     "output_type": "display_data"
    },
    {
     "name": "stdout",
     "output_type": "stream",
     "text": [
      "\n",
      "\n",
      "Scratch: [177.842 217.463]\n",
      "Transfer: [104.705 164.796]\n",
      "Transfer & Revision: [215.592 262.114]\n"
     ]
    },
    {
     "data": {
      "text/markdown": [
       "## Inference time"
      ],
      "text/plain": [
       "<IPython.core.display.Markdown object>"
      ]
     },
     "metadata": {},
     "output_type": "display_data"
    },
    {
     "name": "stdout",
     "output_type": "stream",
     "text": [
      "\n",
      "\n",
      "Scratch: [1.312 1.046]\n",
      "Transfer: [104.705 164.796]\n",
      "Transfer & Revision: [1.307 1.506]\n"
     ]
    },
    {
     "data": {
      "text/markdown": [
       "# Results for 19_yeast_twitter"
      ],
      "text/plain": [
       "<IPython.core.display.Markdown object>"
      ]
     },
     "metadata": {},
     "output_type": "display_data"
    },
    {
     "data": {
      "text/markdown": [
       "## AUC ROC"
      ],
      "text/plain": [
       "<IPython.core.display.Markdown object>"
      ]
     },
     "metadata": {},
     "output_type": "display_data"
    },
    {
     "name": "stdout",
     "output_type": "stream",
     "text": [
      "T-test for experiment 1\n",
      "Ttest_relResult(statistic=nan, pvalue=nan)\n",
      "Ttest_relResult(statistic=nan, pvalue=nan)\n"
     ]
    },
    {
     "data": {
      "text/html": [
       "<div>\n",
       "<table border=\"1\" class=\"dataframe\">\n",
       "  <thead>\n",
       "    <tr style=\"text-align: right;\">\n",
       "      <th></th>\n",
       "      <th>p-value</th>\n",
       "      <th>RDN-B</th>\n",
       "    </tr>\n",
       "  </thead>\n",
       "  <tbody>\n",
       "    <tr>\n",
       "      <th>0</th>\n",
       "      <td>transferRDN-B Ref</td>\n",
       "      <td>nan</td>\n",
       "    </tr>\n",
       "    <tr>\n",
       "      <th>1</th>\n",
       "      <td>transferRDN-B</td>\n",
       "      <td>nan</td>\n",
       "    </tr>\n",
       "  </tbody>\n",
       "</table>\n",
       "</div>"
      ],
      "text/plain": [
       "             p-value RDN-B\n",
       "0  transferRDN-B Ref   nan\n",
       "1      transferRDN-B   nan"
      ]
     },
     "metadata": {},
     "output_type": "display_data"
    },
    {
     "name": "stdout",
     "output_type": "stream",
     "text": [
      "\n",
      "\n",
      "Scratch: [0.5 0.5]\n",
      "Transfer: [0.5 0.5]\n",
      "Transfer & Revision: [0.5 0.5]\n"
     ]
    },
    {
     "data": {
      "text/markdown": [
       "## AUC PR"
      ],
      "text/plain": [
       "<IPython.core.display.Markdown object>"
      ]
     },
     "metadata": {},
     "output_type": "display_data"
    },
    {
     "name": "stdout",
     "output_type": "stream",
     "text": [
      "T-test for experiment 1\n",
      "Ttest_relResult(statistic=nan, pvalue=nan)\n",
      "Ttest_relResult(statistic=nan, pvalue=nan)\n"
     ]
    },
    {
     "data": {
      "text/html": [
       "<div>\n",
       "<table border=\"1\" class=\"dataframe\">\n",
       "  <thead>\n",
       "    <tr style=\"text-align: right;\">\n",
       "      <th></th>\n",
       "      <th>p-value</th>\n",
       "      <th>RDN-B</th>\n",
       "    </tr>\n",
       "  </thead>\n",
       "  <tbody>\n",
       "    <tr>\n",
       "      <th>0</th>\n",
       "      <td>transferRDN-B Ref</td>\n",
       "      <td>nan</td>\n",
       "    </tr>\n",
       "    <tr>\n",
       "      <th>1</th>\n",
       "      <td>transferRDN-B</td>\n",
       "      <td>nan</td>\n",
       "    </tr>\n",
       "  </tbody>\n",
       "</table>\n",
       "</div>"
      ],
      "text/plain": [
       "             p-value RDN-B\n",
       "0  transferRDN-B Ref   nan\n",
       "1      transferRDN-B   nan"
      ]
     },
     "metadata": {},
     "output_type": "display_data"
    },
    {
     "name": "stdout",
     "output_type": "stream",
     "text": [
      "\n",
      "\n",
      "Scratch: [0.5 0.5]\n",
      "Transfer: [0.5 0.5]\n",
      "Transfer & Revision: [0.5 0.5]\n"
     ]
    },
    {
     "data": {
      "text/markdown": [
       "## CLL"
      ],
      "text/plain": [
       "<IPython.core.display.Markdown object>"
      ]
     },
     "metadata": {},
     "output_type": "display_data"
    },
    {
     "name": "stdout",
     "output_type": "stream",
     "text": [
      "T-test for experiment 1\n",
      "Ttest_relResult(statistic=nan, pvalue=nan)\n",
      "Ttest_relResult(statistic=nan, pvalue=nan)\n"
     ]
    },
    {
     "data": {
      "text/html": [
       "<div>\n",
       "<table border=\"1\" class=\"dataframe\">\n",
       "  <thead>\n",
       "    <tr style=\"text-align: right;\">\n",
       "      <th></th>\n",
       "      <th>p-value</th>\n",
       "      <th>RDN-B</th>\n",
       "    </tr>\n",
       "  </thead>\n",
       "  <tbody>\n",
       "    <tr>\n",
       "      <th>0</th>\n",
       "      <td>transferRDN-B Ref</td>\n",
       "      <td>nan</td>\n",
       "    </tr>\n",
       "    <tr>\n",
       "      <th>1</th>\n",
       "      <td>transferRDN-B</td>\n",
       "      <td>nan</td>\n",
       "    </tr>\n",
       "  </tbody>\n",
       "</table>\n",
       "</div>"
      ],
      "text/plain": [
       "             p-value RDN-B\n",
       "0  transferRDN-B Ref   nan\n",
       "1      transferRDN-B   nan"
      ]
     },
     "metadata": {},
     "output_type": "display_data"
    },
    {
     "name": "stdout",
     "output_type": "stream",
     "text": [
      "\n",
      "\n",
      "Scratch: [-0.695026 -0.695026]\n",
      "Transfer: [-0.695026 -0.695026]\n",
      "Transfer & Revision: [-0.695026 -0.695026]\n"
     ]
    },
    {
     "data": {
      "text/markdown": [
       "## Recall"
      ],
      "text/plain": [
       "<IPython.core.display.Markdown object>"
      ]
     },
     "metadata": {},
     "output_type": "display_data"
    },
    {
     "name": "stdout",
     "output_type": "stream",
     "text": [
      "T-test for experiment 1\n",
      "Ttest_relResult(statistic=nan, pvalue=nan)\n",
      "Ttest_relResult(statistic=nan, pvalue=nan)\n"
     ]
    },
    {
     "data": {
      "text/html": [
       "<div>\n",
       "<table border=\"1\" class=\"dataframe\">\n",
       "  <thead>\n",
       "    <tr style=\"text-align: right;\">\n",
       "      <th></th>\n",
       "      <th>p-value</th>\n",
       "      <th>RDN-B</th>\n",
       "    </tr>\n",
       "  </thead>\n",
       "  <tbody>\n",
       "    <tr>\n",
       "      <th>0</th>\n",
       "      <td>transferRDN-B Ref</td>\n",
       "      <td>nan</td>\n",
       "    </tr>\n",
       "    <tr>\n",
       "      <th>1</th>\n",
       "      <td>transferRDN-B</td>\n",
       "      <td>nan</td>\n",
       "    </tr>\n",
       "  </tbody>\n",
       "</table>\n",
       "</div>"
      ],
      "text/plain": [
       "             p-value RDN-B\n",
       "0  transferRDN-B Ref   nan\n",
       "1      transferRDN-B   nan"
      ]
     },
     "metadata": {},
     "output_type": "display_data"
    },
    {
     "name": "stdout",
     "output_type": "stream",
     "text": [
      "\n",
      "\n",
      "Scratch: [0. 0.]\n",
      "Transfer: [0. 0.]\n",
      "Transfer & Revision: [0. 0.]\n"
     ]
    },
    {
     "data": {
      "text/markdown": [
       "## F1"
      ],
      "text/plain": [
       "<IPython.core.display.Markdown object>"
      ]
     },
     "metadata": {},
     "output_type": "display_data"
    },
    {
     "name": "stdout",
     "output_type": "stream",
     "text": [
      "T-test for experiment 1\n",
      "Ttest_relResult(statistic=nan, pvalue=nan)\n",
      "Ttest_relResult(statistic=nan, pvalue=nan)\n"
     ]
    },
    {
     "data": {
      "text/html": [
       "<div>\n",
       "<table border=\"1\" class=\"dataframe\">\n",
       "  <thead>\n",
       "    <tr style=\"text-align: right;\">\n",
       "      <th></th>\n",
       "      <th>p-value</th>\n",
       "      <th>RDN-B</th>\n",
       "    </tr>\n",
       "  </thead>\n",
       "  <tbody>\n",
       "    <tr>\n",
       "      <th>0</th>\n",
       "      <td>transferRDN-B Ref</td>\n",
       "      <td>nan</td>\n",
       "    </tr>\n",
       "    <tr>\n",
       "      <th>1</th>\n",
       "      <td>transferRDN-B</td>\n",
       "      <td>nan</td>\n",
       "    </tr>\n",
       "  </tbody>\n",
       "</table>\n",
       "</div>"
      ],
      "text/plain": [
       "             p-value RDN-B\n",
       "0  transferRDN-B Ref   nan\n",
       "1      transferRDN-B   nan"
      ]
     },
     "metadata": {},
     "output_type": "display_data"
    },
    {
     "name": "stdout",
     "output_type": "stream",
     "text": [
      "\n",
      "\n",
      "Scratch: [nan nan]\n",
      "Transfer: [nan nan]\n",
      "Transfer & Revision: [nan nan]\n"
     ]
    },
    {
     "data": {
      "text/markdown": [
       "## Precision"
      ],
      "text/plain": [
       "<IPython.core.display.Markdown object>"
      ]
     },
     "metadata": {},
     "output_type": "display_data"
    },
    {
     "name": "stdout",
     "output_type": "stream",
     "text": [
      "\n",
      "\n",
      "Scratch: [nan nan]\n",
      "Transfer: [nan nan]\n",
      "Transfer & Revision: [nan nan]\n"
     ]
    },
    {
     "data": {
      "text/markdown": [
       "## Learning and Revision time"
      ],
      "text/plain": [
       "<IPython.core.display.Markdown object>"
      ]
     },
     "metadata": {},
     "output_type": "display_data"
    },
    {
     "name": "stdout",
     "output_type": "stream",
     "text": [
      "\n",
      "\n",
      "Scratch: [182.517 232.702]\n",
      "Transfer: [101.609  94.632]\n",
      "Transfer & Revision: [223.168 269.967]\n"
     ]
    },
    {
     "data": {
      "text/markdown": [
       "## Inference time"
      ],
      "text/plain": [
       "<IPython.core.display.Markdown object>"
      ]
     },
     "metadata": {},
     "output_type": "display_data"
    },
    {
     "name": "stdout",
     "output_type": "stream",
     "text": [
      "\n",
      "\n",
      "Scratch: [1.107 1.272]\n",
      "Transfer: [101.609  94.632]\n",
      "Transfer & Revision: [1.065 1.183]\n"
     ]
    },
    {
     "data": {
      "text/markdown": [
       "# Results for 20_yeast_twitter"
      ],
      "text/plain": [
       "<IPython.core.display.Markdown object>"
      ]
     },
     "metadata": {},
     "output_type": "display_data"
    },
    {
     "data": {
      "text/markdown": [
       "## AUC ROC"
      ],
      "text/plain": [
       "<IPython.core.display.Markdown object>"
      ]
     },
     "metadata": {},
     "output_type": "display_data"
    },
    {
     "name": "stdout",
     "output_type": "stream",
     "text": [
      "T-test for experiment 1\n",
      "Ttest_relResult(statistic=nan, pvalue=nan)\n",
      "Ttest_relResult(statistic=nan, pvalue=nan)\n"
     ]
    },
    {
     "data": {
      "text/html": [
       "<div>\n",
       "<table border=\"1\" class=\"dataframe\">\n",
       "  <thead>\n",
       "    <tr style=\"text-align: right;\">\n",
       "      <th></th>\n",
       "      <th>p-value</th>\n",
       "      <th>RDN-B</th>\n",
       "    </tr>\n",
       "  </thead>\n",
       "  <tbody>\n",
       "    <tr>\n",
       "      <th>0</th>\n",
       "      <td>transferRDN-B Ref</td>\n",
       "      <td>nan</td>\n",
       "    </tr>\n",
       "    <tr>\n",
       "      <th>1</th>\n",
       "      <td>transferRDN-B</td>\n",
       "      <td>nan</td>\n",
       "    </tr>\n",
       "  </tbody>\n",
       "</table>\n",
       "</div>"
      ],
      "text/plain": [
       "             p-value RDN-B\n",
       "0  transferRDN-B Ref   nan\n",
       "1      transferRDN-B   nan"
      ]
     },
     "metadata": {},
     "output_type": "display_data"
    },
    {
     "name": "stdout",
     "output_type": "stream",
     "text": [
      "\n",
      "\n",
      "Scratch: [0.5 0.5]\n",
      "Transfer: [0.5 0.5]\n",
      "Transfer & Revision: [0.5 0.5]\n"
     ]
    },
    {
     "data": {
      "text/markdown": [
       "## AUC PR"
      ],
      "text/plain": [
       "<IPython.core.display.Markdown object>"
      ]
     },
     "metadata": {},
     "output_type": "display_data"
    },
    {
     "name": "stdout",
     "output_type": "stream",
     "text": [
      "T-test for experiment 1\n",
      "Ttest_relResult(statistic=nan, pvalue=nan)\n",
      "Ttest_relResult(statistic=nan, pvalue=nan)\n"
     ]
    },
    {
     "data": {
      "text/html": [
       "<div>\n",
       "<table border=\"1\" class=\"dataframe\">\n",
       "  <thead>\n",
       "    <tr style=\"text-align: right;\">\n",
       "      <th></th>\n",
       "      <th>p-value</th>\n",
       "      <th>RDN-B</th>\n",
       "    </tr>\n",
       "  </thead>\n",
       "  <tbody>\n",
       "    <tr>\n",
       "      <th>0</th>\n",
       "      <td>transferRDN-B Ref</td>\n",
       "      <td>nan</td>\n",
       "    </tr>\n",
       "    <tr>\n",
       "      <th>1</th>\n",
       "      <td>transferRDN-B</td>\n",
       "      <td>nan</td>\n",
       "    </tr>\n",
       "  </tbody>\n",
       "</table>\n",
       "</div>"
      ],
      "text/plain": [
       "             p-value RDN-B\n",
       "0  transferRDN-B Ref   nan\n",
       "1      transferRDN-B   nan"
      ]
     },
     "metadata": {},
     "output_type": "display_data"
    },
    {
     "name": "stdout",
     "output_type": "stream",
     "text": [
      "\n",
      "\n",
      "Scratch: [0.5 0.5]\n",
      "Transfer: [0.5 0.5]\n",
      "Transfer & Revision: [0.5 0.5]\n"
     ]
    },
    {
     "data": {
      "text/markdown": [
       "## CLL"
      ],
      "text/plain": [
       "<IPython.core.display.Markdown object>"
      ]
     },
     "metadata": {},
     "output_type": "display_data"
    },
    {
     "name": "stdout",
     "output_type": "stream",
     "text": [
      "T-test for experiment 1\n",
      "Ttest_relResult(statistic=nan, pvalue=nan)\n",
      "Ttest_relResult(statistic=nan, pvalue=nan)\n"
     ]
    },
    {
     "data": {
      "text/html": [
       "<div>\n",
       "<table border=\"1\" class=\"dataframe\">\n",
       "  <thead>\n",
       "    <tr style=\"text-align: right;\">\n",
       "      <th></th>\n",
       "      <th>p-value</th>\n",
       "      <th>RDN-B</th>\n",
       "    </tr>\n",
       "  </thead>\n",
       "  <tbody>\n",
       "    <tr>\n",
       "      <th>0</th>\n",
       "      <td>transferRDN-B Ref</td>\n",
       "      <td>nan</td>\n",
       "    </tr>\n",
       "    <tr>\n",
       "      <th>1</th>\n",
       "      <td>transferRDN-B</td>\n",
       "      <td>nan</td>\n",
       "    </tr>\n",
       "  </tbody>\n",
       "</table>\n",
       "</div>"
      ],
      "text/plain": [
       "             p-value RDN-B\n",
       "0  transferRDN-B Ref   nan\n",
       "1      transferRDN-B   nan"
      ]
     },
     "metadata": {},
     "output_type": "display_data"
    },
    {
     "name": "stdout",
     "output_type": "stream",
     "text": [
      "\n",
      "\n",
      "Scratch: [-0.695026 -0.695026]\n",
      "Transfer: [-0.695026 -0.695026]\n",
      "Transfer & Revision: [-0.695026 -0.695026]\n"
     ]
    },
    {
     "data": {
      "text/markdown": [
       "## Recall"
      ],
      "text/plain": [
       "<IPython.core.display.Markdown object>"
      ]
     },
     "metadata": {},
     "output_type": "display_data"
    },
    {
     "name": "stdout",
     "output_type": "stream",
     "text": [
      "T-test for experiment 1\n",
      "Ttest_relResult(statistic=nan, pvalue=nan)\n",
      "Ttest_relResult(statistic=nan, pvalue=nan)\n"
     ]
    },
    {
     "data": {
      "text/html": [
       "<div>\n",
       "<table border=\"1\" class=\"dataframe\">\n",
       "  <thead>\n",
       "    <tr style=\"text-align: right;\">\n",
       "      <th></th>\n",
       "      <th>p-value</th>\n",
       "      <th>RDN-B</th>\n",
       "    </tr>\n",
       "  </thead>\n",
       "  <tbody>\n",
       "    <tr>\n",
       "      <th>0</th>\n",
       "      <td>transferRDN-B Ref</td>\n",
       "      <td>nan</td>\n",
       "    </tr>\n",
       "    <tr>\n",
       "      <th>1</th>\n",
       "      <td>transferRDN-B</td>\n",
       "      <td>nan</td>\n",
       "    </tr>\n",
       "  </tbody>\n",
       "</table>\n",
       "</div>"
      ],
      "text/plain": [
       "             p-value RDN-B\n",
       "0  transferRDN-B Ref   nan\n",
       "1      transferRDN-B   nan"
      ]
     },
     "metadata": {},
     "output_type": "display_data"
    },
    {
     "name": "stdout",
     "output_type": "stream",
     "text": [
      "\n",
      "\n",
      "Scratch: [0. 0.]\n",
      "Transfer: [0. 0.]\n",
      "Transfer & Revision: [0. 0.]\n"
     ]
    },
    {
     "data": {
      "text/markdown": [
       "## F1"
      ],
      "text/plain": [
       "<IPython.core.display.Markdown object>"
      ]
     },
     "metadata": {},
     "output_type": "display_data"
    },
    {
     "name": "stdout",
     "output_type": "stream",
     "text": [
      "T-test for experiment 1\n",
      "Ttest_relResult(statistic=nan, pvalue=nan)\n",
      "Ttest_relResult(statistic=nan, pvalue=nan)\n"
     ]
    },
    {
     "data": {
      "text/html": [
       "<div>\n",
       "<table border=\"1\" class=\"dataframe\">\n",
       "  <thead>\n",
       "    <tr style=\"text-align: right;\">\n",
       "      <th></th>\n",
       "      <th>p-value</th>\n",
       "      <th>RDN-B</th>\n",
       "    </tr>\n",
       "  </thead>\n",
       "  <tbody>\n",
       "    <tr>\n",
       "      <th>0</th>\n",
       "      <td>transferRDN-B Ref</td>\n",
       "      <td>nan</td>\n",
       "    </tr>\n",
       "    <tr>\n",
       "      <th>1</th>\n",
       "      <td>transferRDN-B</td>\n",
       "      <td>nan</td>\n",
       "    </tr>\n",
       "  </tbody>\n",
       "</table>\n",
       "</div>"
      ],
      "text/plain": [
       "             p-value RDN-B\n",
       "0  transferRDN-B Ref   nan\n",
       "1      transferRDN-B   nan"
      ]
     },
     "metadata": {},
     "output_type": "display_data"
    },
    {
     "name": "stdout",
     "output_type": "stream",
     "text": [
      "\n",
      "\n",
      "Scratch: [nan nan]\n",
      "Transfer: [nan nan]\n",
      "Transfer & Revision: [nan nan]\n"
     ]
    },
    {
     "data": {
      "text/markdown": [
       "## Precision"
      ],
      "text/plain": [
       "<IPython.core.display.Markdown object>"
      ]
     },
     "metadata": {},
     "output_type": "display_data"
    },
    {
     "name": "stdout",
     "output_type": "stream",
     "text": [
      "\n",
      "\n",
      "Scratch: [nan nan]\n",
      "Transfer: [nan nan]\n",
      "Transfer & Revision: [nan nan]\n"
     ]
    },
    {
     "data": {
      "text/markdown": [
       "## Learning and Revision time"
      ],
      "text/plain": [
       "<IPython.core.display.Markdown object>"
      ]
     },
     "metadata": {},
     "output_type": "display_data"
    },
    {
     "name": "stdout",
     "output_type": "stream",
     "text": [
      "\n",
      "\n",
      "Scratch: [173.252 171.092]\n",
      "Transfer: [102.766 152.157]\n",
      "Transfer & Revision: [231.633 327.461]\n"
     ]
    },
    {
     "data": {
      "text/markdown": [
       "## Inference time"
      ],
      "text/plain": [
       "<IPython.core.display.Markdown object>"
      ]
     },
     "metadata": {},
     "output_type": "display_data"
    },
    {
     "name": "stdout",
     "output_type": "stream",
     "text": [
      "\n",
      "\n",
      "Scratch: [1.419 1.359]\n",
      "Transfer: [102.766 152.157]\n",
      "Transfer & Revision: [1.13 1.14]\n"
     ]
    },
    {
     "data": {
      "text/markdown": [
       "# Results for 21_yeast_twitter"
      ],
      "text/plain": [
       "<IPython.core.display.Markdown object>"
      ]
     },
     "metadata": {},
     "output_type": "display_data"
    },
    {
     "data": {
      "text/markdown": [
       "## AUC ROC"
      ],
      "text/plain": [
       "<IPython.core.display.Markdown object>"
      ]
     },
     "metadata": {},
     "output_type": "display_data"
    },
    {
     "name": "stdout",
     "output_type": "stream",
     "text": [
      "T-test for experiment 1\n",
      "Ttest_relResult(statistic=nan, pvalue=nan)\n",
      "Ttest_relResult(statistic=nan, pvalue=nan)\n"
     ]
    },
    {
     "data": {
      "text/html": [
       "<div>\n",
       "<table border=\"1\" class=\"dataframe\">\n",
       "  <thead>\n",
       "    <tr style=\"text-align: right;\">\n",
       "      <th></th>\n",
       "      <th>p-value</th>\n",
       "      <th>RDN-B</th>\n",
       "    </tr>\n",
       "  </thead>\n",
       "  <tbody>\n",
       "    <tr>\n",
       "      <th>0</th>\n",
       "      <td>transferRDN-B Ref</td>\n",
       "      <td>nan</td>\n",
       "    </tr>\n",
       "    <tr>\n",
       "      <th>1</th>\n",
       "      <td>transferRDN-B</td>\n",
       "      <td>nan</td>\n",
       "    </tr>\n",
       "  </tbody>\n",
       "</table>\n",
       "</div>"
      ],
      "text/plain": [
       "             p-value RDN-B\n",
       "0  transferRDN-B Ref   nan\n",
       "1      transferRDN-B   nan"
      ]
     },
     "metadata": {},
     "output_type": "display_data"
    },
    {
     "name": "stdout",
     "output_type": "stream",
     "text": [
      "\n",
      "\n",
      "Scratch: [0.5 0.5]\n",
      "Transfer: [0.5 0.5]\n",
      "Transfer & Revision: [0.5 0.5]\n"
     ]
    },
    {
     "data": {
      "text/markdown": [
       "## AUC PR"
      ],
      "text/plain": [
       "<IPython.core.display.Markdown object>"
      ]
     },
     "metadata": {},
     "output_type": "display_data"
    },
    {
     "name": "stdout",
     "output_type": "stream",
     "text": [
      "T-test for experiment 1\n",
      "Ttest_relResult(statistic=nan, pvalue=nan)\n",
      "Ttest_relResult(statistic=nan, pvalue=nan)\n"
     ]
    },
    {
     "data": {
      "text/html": [
       "<div>\n",
       "<table border=\"1\" class=\"dataframe\">\n",
       "  <thead>\n",
       "    <tr style=\"text-align: right;\">\n",
       "      <th></th>\n",
       "      <th>p-value</th>\n",
       "      <th>RDN-B</th>\n",
       "    </tr>\n",
       "  </thead>\n",
       "  <tbody>\n",
       "    <tr>\n",
       "      <th>0</th>\n",
       "      <td>transferRDN-B Ref</td>\n",
       "      <td>nan</td>\n",
       "    </tr>\n",
       "    <tr>\n",
       "      <th>1</th>\n",
       "      <td>transferRDN-B</td>\n",
       "      <td>nan</td>\n",
       "    </tr>\n",
       "  </tbody>\n",
       "</table>\n",
       "</div>"
      ],
      "text/plain": [
       "             p-value RDN-B\n",
       "0  transferRDN-B Ref   nan\n",
       "1      transferRDN-B   nan"
      ]
     },
     "metadata": {},
     "output_type": "display_data"
    },
    {
     "name": "stdout",
     "output_type": "stream",
     "text": [
      "\n",
      "\n",
      "Scratch: [0.5 0.5]\n",
      "Transfer: [0.5 0.5]\n",
      "Transfer & Revision: [0.5 0.5]\n"
     ]
    },
    {
     "data": {
      "text/markdown": [
       "## CLL"
      ],
      "text/plain": [
       "<IPython.core.display.Markdown object>"
      ]
     },
     "metadata": {},
     "output_type": "display_data"
    },
    {
     "name": "stdout",
     "output_type": "stream",
     "text": [
      "T-test for experiment 1\n",
      "Ttest_relResult(statistic=-1.0, pvalue=0.49999999999999956)\n",
      "Ttest_relResult(statistic=-1.0, pvalue=0.49999999999999956)\n"
     ]
    },
    {
     "data": {
      "text/html": [
       "<div>\n",
       "<table border=\"1\" class=\"dataframe\">\n",
       "  <thead>\n",
       "    <tr style=\"text-align: right;\">\n",
       "      <th></th>\n",
       "      <th>p-value</th>\n",
       "      <th>RDN-B</th>\n",
       "    </tr>\n",
       "  </thead>\n",
       "  <tbody>\n",
       "    <tr>\n",
       "      <th>0</th>\n",
       "      <td>transferRDN-B Ref</td>\n",
       "      <td>0.500</td>\n",
       "    </tr>\n",
       "    <tr>\n",
       "      <th>1</th>\n",
       "      <td>transferRDN-B</td>\n",
       "      <td>0.500</td>\n",
       "    </tr>\n",
       "  </tbody>\n",
       "</table>\n",
       "</div>"
      ],
      "text/plain": [
       "             p-value  RDN-B\n",
       "0  transferRDN-B Ref  0.500\n",
       "1      transferRDN-B  0.500"
      ]
     },
     "metadata": {},
     "output_type": "display_data"
    },
    {
     "name": "stdout",
     "output_type": "stream",
     "text": [
      "\n",
      "\n",
      "Scratch: [-0.695026 -0.695026]\n",
      "Transfer: [-0.695708 -0.695026]\n",
      "Transfer & Revision: [-0.695708 -0.695026]\n"
     ]
    },
    {
     "data": {
      "text/markdown": [
       "## Recall"
      ],
      "text/plain": [
       "<IPython.core.display.Markdown object>"
      ]
     },
     "metadata": {},
     "output_type": "display_data"
    },
    {
     "name": "stdout",
     "output_type": "stream",
     "text": [
      "T-test for experiment 1\n",
      "Ttest_relResult(statistic=nan, pvalue=nan)\n",
      "Ttest_relResult(statistic=nan, pvalue=nan)\n"
     ]
    },
    {
     "data": {
      "text/html": [
       "<div>\n",
       "<table border=\"1\" class=\"dataframe\">\n",
       "  <thead>\n",
       "    <tr style=\"text-align: right;\">\n",
       "      <th></th>\n",
       "      <th>p-value</th>\n",
       "      <th>RDN-B</th>\n",
       "    </tr>\n",
       "  </thead>\n",
       "  <tbody>\n",
       "    <tr>\n",
       "      <th>0</th>\n",
       "      <td>transferRDN-B Ref</td>\n",
       "      <td>nan</td>\n",
       "    </tr>\n",
       "    <tr>\n",
       "      <th>1</th>\n",
       "      <td>transferRDN-B</td>\n",
       "      <td>nan</td>\n",
       "    </tr>\n",
       "  </tbody>\n",
       "</table>\n",
       "</div>"
      ],
      "text/plain": [
       "             p-value RDN-B\n",
       "0  transferRDN-B Ref   nan\n",
       "1      transferRDN-B   nan"
      ]
     },
     "metadata": {},
     "output_type": "display_data"
    },
    {
     "name": "stdout",
     "output_type": "stream",
     "text": [
      "\n",
      "\n",
      "Scratch: [0. 0.]\n",
      "Transfer: [0. 0.]\n",
      "Transfer & Revision: [0. 0.]\n"
     ]
    },
    {
     "data": {
      "text/markdown": [
       "## F1"
      ],
      "text/plain": [
       "<IPython.core.display.Markdown object>"
      ]
     },
     "metadata": {},
     "output_type": "display_data"
    },
    {
     "name": "stdout",
     "output_type": "stream",
     "text": [
      "T-test for experiment 1\n",
      "Ttest_relResult(statistic=nan, pvalue=nan)\n",
      "Ttest_relResult(statistic=nan, pvalue=nan)\n"
     ]
    },
    {
     "data": {
      "text/html": [
       "<div>\n",
       "<table border=\"1\" class=\"dataframe\">\n",
       "  <thead>\n",
       "    <tr style=\"text-align: right;\">\n",
       "      <th></th>\n",
       "      <th>p-value</th>\n",
       "      <th>RDN-B</th>\n",
       "    </tr>\n",
       "  </thead>\n",
       "  <tbody>\n",
       "    <tr>\n",
       "      <th>0</th>\n",
       "      <td>transferRDN-B Ref</td>\n",
       "      <td>nan</td>\n",
       "    </tr>\n",
       "    <tr>\n",
       "      <th>1</th>\n",
       "      <td>transferRDN-B</td>\n",
       "      <td>nan</td>\n",
       "    </tr>\n",
       "  </tbody>\n",
       "</table>\n",
       "</div>"
      ],
      "text/plain": [
       "             p-value RDN-B\n",
       "0  transferRDN-B Ref   nan\n",
       "1      transferRDN-B   nan"
      ]
     },
     "metadata": {},
     "output_type": "display_data"
    },
    {
     "name": "stdout",
     "output_type": "stream",
     "text": [
      "\n",
      "\n",
      "Scratch: [nan nan]\n",
      "Transfer: [nan nan]\n",
      "Transfer & Revision: [nan nan]\n"
     ]
    },
    {
     "data": {
      "text/markdown": [
       "## Precision"
      ],
      "text/plain": [
       "<IPython.core.display.Markdown object>"
      ]
     },
     "metadata": {},
     "output_type": "display_data"
    },
    {
     "name": "stdout",
     "output_type": "stream",
     "text": [
      "\n",
      "\n",
      "Scratch: [nan nan]\n",
      "Transfer: [nan nan]\n",
      "Transfer & Revision: [nan nan]\n"
     ]
    },
    {
     "data": {
      "text/markdown": [
       "## Learning and Revision time"
      ],
      "text/plain": [
       "<IPython.core.display.Markdown object>"
      ]
     },
     "metadata": {},
     "output_type": "display_data"
    },
    {
     "name": "stdout",
     "output_type": "stream",
     "text": [
      "\n",
      "\n",
      "Scratch: [176.031 157.485]\n",
      "Transfer: [104.717 168.322]\n",
      "Transfer & Revision: [213.832 274.499]\n"
     ]
    },
    {
     "data": {
      "text/markdown": [
       "## Inference time"
      ],
      "text/plain": [
       "<IPython.core.display.Markdown object>"
      ]
     },
     "metadata": {},
     "output_type": "display_data"
    },
    {
     "name": "stdout",
     "output_type": "stream",
     "text": [
      "\n",
      "\n",
      "Scratch: [1.413 1.188]\n",
      "Transfer: [104.717 168.322]\n",
      "Transfer & Revision: [1.379 1.29 ]\n"
     ]
    },
    {
     "data": {
      "text/markdown": [
       "# Results for 22_twitter_yeast"
      ],
      "text/plain": [
       "<IPython.core.display.Markdown object>"
      ]
     },
     "metadata": {},
     "output_type": "display_data"
    },
    {
     "data": {
      "text/markdown": [
       "## AUC ROC"
      ],
      "text/plain": [
       "<IPython.core.display.Markdown object>"
      ]
     },
     "metadata": {},
     "output_type": "display_data"
    },
    {
     "name": "stdout",
     "output_type": "stream",
     "text": [
      "T-test for experiment 1\n",
      "Ttest_relResult(statistic=0.8061045972045814, pvalue=0.4791589103798751)\n",
      "Ttest_relResult(statistic=0.5608642923851089, pvalue=0.6140534763073372)\n"
     ]
    },
    {
     "data": {
      "text/html": [
       "<div>\n",
       "<table border=\"1\" class=\"dataframe\">\n",
       "  <thead>\n",
       "    <tr style=\"text-align: right;\">\n",
       "      <th></th>\n",
       "      <th>p-value</th>\n",
       "      <th>RDN-B</th>\n",
       "    </tr>\n",
       "  </thead>\n",
       "  <tbody>\n",
       "    <tr>\n",
       "      <th>0</th>\n",
       "      <td>transferRDN-B Ref</td>\n",
       "      <td>0.479</td>\n",
       "    </tr>\n",
       "    <tr>\n",
       "      <th>1</th>\n",
       "      <td>transferRDN-B</td>\n",
       "      <td>0.614</td>\n",
       "    </tr>\n",
       "  </tbody>\n",
       "</table>\n",
       "</div>"
      ],
      "text/plain": [
       "             p-value  RDN-B\n",
       "0  transferRDN-B Ref  0.479\n",
       "1      transferRDN-B  0.614"
      ]
     },
     "metadata": {},
     "output_type": "display_data"
    },
    {
     "name": "stdout",
     "output_type": "stream",
     "text": [
      "\n",
      "\n",
      "Scratch: [0.756765 0.93073  0.813532 0.914195]\n",
      "Transfer: [0.88799  0.890117 0.866797 0.865855]\n",
      "Transfer & Revision: [0.872887 0.921153 0.869964 0.867391]\n"
     ]
    },
    {
     "data": {
      "text/markdown": [
       "## AUC PR"
      ],
      "text/plain": [
       "<IPython.core.display.Markdown object>"
      ]
     },
     "metadata": {},
     "output_type": "display_data"
    },
    {
     "name": "stdout",
     "output_type": "stream",
     "text": [
      "T-test for experiment 1\n",
      "Ttest_relResult(statistic=0.562463282537272, pvalue=0.6130910919539665)\n",
      "Ttest_relResult(statistic=0.3996897590912757, pvalue=0.71614071984038)\n"
     ]
    },
    {
     "data": {
      "text/html": [
       "<div>\n",
       "<table border=\"1\" class=\"dataframe\">\n",
       "  <thead>\n",
       "    <tr style=\"text-align: right;\">\n",
       "      <th></th>\n",
       "      <th>p-value</th>\n",
       "      <th>RDN-B</th>\n",
       "    </tr>\n",
       "  </thead>\n",
       "  <tbody>\n",
       "    <tr>\n",
       "      <th>0</th>\n",
       "      <td>transferRDN-B Ref</td>\n",
       "      <td>0.613</td>\n",
       "    </tr>\n",
       "    <tr>\n",
       "      <th>1</th>\n",
       "      <td>transferRDN-B</td>\n",
       "      <td>0.716</td>\n",
       "    </tr>\n",
       "  </tbody>\n",
       "</table>\n",
       "</div>"
      ],
      "text/plain": [
       "             p-value  RDN-B\n",
       "0  transferRDN-B Ref  0.613\n",
       "1      transferRDN-B  0.716"
      ]
     },
     "metadata": {},
     "output_type": "display_data"
    },
    {
     "name": "stdout",
     "output_type": "stream",
     "text": [
      "\n",
      "\n",
      "Scratch: [0.773845 0.925721 0.840411 0.918127]\n",
      "Transfer: [0.894597 0.88929  0.863289 0.872167]\n",
      "Transfer & Revision: [0.870617 0.914168 0.86214  0.877719]\n"
     ]
    },
    {
     "data": {
      "text/markdown": [
       "## CLL"
      ],
      "text/plain": [
       "<IPython.core.display.Markdown object>"
      ]
     },
     "metadata": {},
     "output_type": "display_data"
    },
    {
     "name": "stdout",
     "output_type": "stream",
     "text": [
      "T-test for experiment 1\n",
      "Ttest_relResult(statistic=1.2431508998067222, pvalue=0.3021144592802256)\n",
      "Ttest_relResult(statistic=1.079133663126484, pvalue=0.3595573730394843)\n"
     ]
    },
    {
     "data": {
      "text/html": [
       "<div>\n",
       "<table border=\"1\" class=\"dataframe\">\n",
       "  <thead>\n",
       "    <tr style=\"text-align: right;\">\n",
       "      <th></th>\n",
       "      <th>p-value</th>\n",
       "      <th>RDN-B</th>\n",
       "    </tr>\n",
       "  </thead>\n",
       "  <tbody>\n",
       "    <tr>\n",
       "      <th>0</th>\n",
       "      <td>transferRDN-B Ref</td>\n",
       "      <td>0.302</td>\n",
       "    </tr>\n",
       "    <tr>\n",
       "      <th>1</th>\n",
       "      <td>transferRDN-B</td>\n",
       "      <td>0.360</td>\n",
       "    </tr>\n",
       "  </tbody>\n",
       "</table>\n",
       "</div>"
      ],
      "text/plain": [
       "             p-value  RDN-B\n",
       "0  transferRDN-B Ref  0.302\n",
       "1      transferRDN-B  0.360"
      ]
     },
     "metadata": {},
     "output_type": "display_data"
    },
    {
     "name": "stdout",
     "output_type": "stream",
     "text": [
      "\n",
      "\n",
      "Scratch: [-0.59517  -0.4161   -0.573953 -0.452212]\n",
      "Transfer: [-0.456889 -0.460598 -0.460877 -0.463983]\n",
      "Transfer & Revision: [-0.46005  -0.453272 -0.453668 -0.455046]\n"
     ]
    },
    {
     "data": {
      "text/markdown": [
       "## Recall"
      ],
      "text/plain": [
       "<IPython.core.display.Markdown object>"
      ]
     },
     "metadata": {},
     "output_type": "display_data"
    },
    {
     "name": "stdout",
     "output_type": "stream",
     "text": [
      "T-test for experiment 1\n",
      "Ttest_relResult(statistic=0.35956866943279864, pvalue=0.7429904599936132)\n",
      "Ttest_relResult(statistic=0.28252524407636326, pvalue=0.7959120970757056)\n"
     ]
    },
    {
     "data": {
      "text/html": [
       "<div>\n",
       "<table border=\"1\" class=\"dataframe\">\n",
       "  <thead>\n",
       "    <tr style=\"text-align: right;\">\n",
       "      <th></th>\n",
       "      <th>p-value</th>\n",
       "      <th>RDN-B</th>\n",
       "    </tr>\n",
       "  </thead>\n",
       "  <tbody>\n",
       "    <tr>\n",
       "      <th>0</th>\n",
       "      <td>transferRDN-B Ref</td>\n",
       "      <td>0.743</td>\n",
       "    </tr>\n",
       "    <tr>\n",
       "      <th>1</th>\n",
       "      <td>transferRDN-B</td>\n",
       "      <td>0.796</td>\n",
       "    </tr>\n",
       "  </tbody>\n",
       "</table>\n",
       "</div>"
      ],
      "text/plain": [
       "             p-value  RDN-B\n",
       "0  transferRDN-B Ref  0.743\n",
       "1      transferRDN-B  0.796"
      ]
     },
     "metadata": {},
     "output_type": "display_data"
    },
    {
     "name": "stdout",
     "output_type": "stream",
     "text": [
      "\n",
      "\n",
      "Scratch: [0.411348 0.690566 0.444043 0.696113]\n",
      "Transfer: [0.595745 0.596226 0.574007 0.565371]\n",
      "Transfer & Revision: [0.58156  0.626415 0.574007 0.565371]\n"
     ]
    },
    {
     "data": {
      "text/markdown": [
       "## F1"
      ],
      "text/plain": [
       "<IPython.core.display.Markdown object>"
      ]
     },
     "metadata": {},
     "output_type": "display_data"
    },
    {
     "name": "stdout",
     "output_type": "stream",
     "text": [
      "T-test for experiment 1\n",
      "Ttest_relResult(statistic=0.5106765759879371, pvalue=0.6447826173174591)\n",
      "Ttest_relResult(statistic=0.42582893787311377, pvalue=0.6989357706642916)\n"
     ]
    },
    {
     "data": {
      "text/html": [
       "<div>\n",
       "<table border=\"1\" class=\"dataframe\">\n",
       "  <thead>\n",
       "    <tr style=\"text-align: right;\">\n",
       "      <th></th>\n",
       "      <th>p-value</th>\n",
       "      <th>RDN-B</th>\n",
       "    </tr>\n",
       "  </thead>\n",
       "  <tbody>\n",
       "    <tr>\n",
       "      <th>0</th>\n",
       "      <td>transferRDN-B Ref</td>\n",
       "      <td>0.645</td>\n",
       "    </tr>\n",
       "    <tr>\n",
       "      <th>1</th>\n",
       "      <td>transferRDN-B</td>\n",
       "      <td>0.699</td>\n",
       "    </tr>\n",
       "  </tbody>\n",
       "</table>\n",
       "</div>"
      ],
      "text/plain": [
       "             p-value  RDN-B\n",
       "0  transferRDN-B Ref  0.645\n",
       "1      transferRDN-B  0.699"
      ]
     },
     "metadata": {},
     "output_type": "display_data"
    },
    {
     "name": "stdout",
     "output_type": "stream",
     "text": [
      "\n",
      "\n",
      "Scratch: [0.560386 0.793926 0.607407 0.792757]\n",
      "Transfer: [0.727273 0.733179 0.70354  0.697168]\n",
      "Transfer & Revision: [0.713043 0.759725 0.70354  0.695652]\n"
     ]
    },
    {
     "data": {
      "text/markdown": [
       "## Precision"
      ],
      "text/plain": [
       "<IPython.core.display.Markdown object>"
      ]
     },
     "metadata": {},
     "output_type": "display_data"
    },
    {
     "name": "stdout",
     "output_type": "stream",
     "text": [
      "\n",
      "\n",
      "Scratch: [0.878788 0.933673 0.960938 0.920561]\n",
      "Transfer: [0.933333 0.951807 0.908571 0.909091]\n",
      "Transfer & Revision: [0.921348 0.965116 0.908571 0.903955]\n"
     ]
    },
    {
     "data": {
      "text/markdown": [
       "## Learning and Revision time"
      ],
      "text/plain": [
       "<IPython.core.display.Markdown object>"
      ]
     },
     "metadata": {},
     "output_type": "display_data"
    },
    {
     "name": "stdout",
     "output_type": "stream",
     "text": [
      "\n",
      "\n",
      "Scratch: [10.367 17.021  8.644  8.355]\n",
      "Transfer: [4.975 6.174 4.14  6.32 ]\n",
      "Transfer & Revision: [18.679 15.741 10.088 13.27 ]\n"
     ]
    },
    {
     "data": {
      "text/markdown": [
       "## Inference time"
      ],
      "text/plain": [
       "<IPython.core.display.Markdown object>"
      ]
     },
     "metadata": {},
     "output_type": "display_data"
    },
    {
     "name": "stdout",
     "output_type": "stream",
     "text": [
      "\n",
      "\n",
      "Scratch: [1.391 1.725 1.644 1.42 ]\n",
      "Transfer: [4.975 6.174 4.14  6.32 ]\n",
      "Transfer & Revision: [1.104 1.508 1.558 1.732]\n"
     ]
    },
    {
     "data": {
      "text/markdown": [
       "# Results for 23_twitter_yeast"
      ],
      "text/plain": [
       "<IPython.core.display.Markdown object>"
      ]
     },
     "metadata": {},
     "output_type": "display_data"
    },
    {
     "data": {
      "text/markdown": [
       "## AUC ROC"
      ],
      "text/plain": [
       "<IPython.core.display.Markdown object>"
      ]
     },
     "metadata": {},
     "output_type": "display_data"
    },
    {
     "name": "stdout",
     "output_type": "stream",
     "text": [
      "T-test for experiment 1\n",
      "Ttest_relResult(statistic=-1.4118560854382152, pvalue=0.2528402066742256)\n",
      "Ttest_relResult(statistic=-2.450951822690574, pvalue=0.09160178801462107)\n"
     ]
    },
    {
     "data": {
      "text/html": [
       "<div>\n",
       "<table border=\"1\" class=\"dataframe\">\n",
       "  <thead>\n",
       "    <tr style=\"text-align: right;\">\n",
       "      <th></th>\n",
       "      <th>p-value</th>\n",
       "      <th>RDN-B</th>\n",
       "    </tr>\n",
       "  </thead>\n",
       "  <tbody>\n",
       "    <tr>\n",
       "      <th>0</th>\n",
       "      <td>transferRDN-B Ref</td>\n",
       "      <td>0.253</td>\n",
       "    </tr>\n",
       "    <tr>\n",
       "      <th>1</th>\n",
       "      <td>transferRDN-B</td>\n",
       "      <td>0.092</td>\n",
       "    </tr>\n",
       "  </tbody>\n",
       "</table>\n",
       "</div>"
      ],
      "text/plain": [
       "             p-value  RDN-B\n",
       "0  transferRDN-B Ref  0.253\n",
       "1      transferRDN-B  0.092"
      ]
     },
     "metadata": {},
     "output_type": "display_data"
    },
    {
     "name": "stdout",
     "output_type": "stream",
     "text": [
      "\n",
      "\n",
      "Scratch: [0.680476 0.667396 0.664019 0.61978 ]\n",
      "Transfer: [0.655458 0.64933  0.654077 0.619852]\n",
      "Transfer & Revision: [0.658686 0.657984 0.649313 0.628662]\n"
     ]
    },
    {
     "data": {
      "text/markdown": [
       "## AUC PR"
      ],
      "text/plain": [
       "<IPython.core.display.Markdown object>"
      ]
     },
     "metadata": {},
     "output_type": "display_data"
    },
    {
     "name": "stdout",
     "output_type": "stream",
     "text": [
      "T-test for experiment 1\n",
      "Ttest_relResult(statistic=-3.0833491502677464, pvalue=0.05399403736628111)\n",
      "Ttest_relResult(statistic=-26.497231209975535, pvalue=0.00011793614005630308)\n"
     ]
    },
    {
     "data": {
      "text/html": [
       "<div>\n",
       "<table border=\"1\" class=\"dataframe\">\n",
       "  <thead>\n",
       "    <tr style=\"text-align: right;\">\n",
       "      <th></th>\n",
       "      <th>p-value</th>\n",
       "      <th>RDN-B</th>\n",
       "    </tr>\n",
       "  </thead>\n",
       "  <tbody>\n",
       "    <tr>\n",
       "      <th>0</th>\n",
       "      <td>transferRDN-B Ref</td>\n",
       "      <td>0.054</td>\n",
       "    </tr>\n",
       "    <tr>\n",
       "      <th>1</th>\n",
       "      <td>transferRDN-B</td>\n",
       "      <td>0.000</td>\n",
       "    </tr>\n",
       "  </tbody>\n",
       "</table>\n",
       "</div>"
      ],
      "text/plain": [
       "             p-value  RDN-B\n",
       "0  transferRDN-B Ref  0.054\n",
       "1      transferRDN-B  0.000"
      ]
     },
     "metadata": {},
     "output_type": "display_data"
    },
    {
     "name": "stdout",
     "output_type": "stream",
     "text": [
      "\n",
      "\n",
      "Scratch: [0.693686 0.694682 0.68722  0.660296]\n",
      "Transfer: [0.636807 0.636639 0.634388 0.611234]\n",
      "Transfer & Revision: [0.638216 0.688862 0.632936 0.630635]\n"
     ]
    },
    {
     "data": {
      "text/markdown": [
       "## CLL"
      ],
      "text/plain": [
       "<IPython.core.display.Markdown object>"
      ]
     },
     "metadata": {},
     "output_type": "display_data"
    },
    {
     "name": "stdout",
     "output_type": "stream",
     "text": [
      "T-test for experiment 1\n",
      "Ttest_relResult(statistic=-0.863853384952654, pvalue=0.4512077449569254)\n",
      "Ttest_relResult(statistic=-1.3027943773208746, pvalue=0.28362832195954285)\n"
     ]
    },
    {
     "data": {
      "text/html": [
       "<div>\n",
       "<table border=\"1\" class=\"dataframe\">\n",
       "  <thead>\n",
       "    <tr style=\"text-align: right;\">\n",
       "      <th></th>\n",
       "      <th>p-value</th>\n",
       "      <th>RDN-B</th>\n",
       "    </tr>\n",
       "  </thead>\n",
       "  <tbody>\n",
       "    <tr>\n",
       "      <th>0</th>\n",
       "      <td>transferRDN-B Ref</td>\n",
       "      <td>0.451</td>\n",
       "    </tr>\n",
       "    <tr>\n",
       "      <th>1</th>\n",
       "      <td>transferRDN-B</td>\n",
       "      <td>0.284</td>\n",
       "    </tr>\n",
       "  </tbody>\n",
       "</table>\n",
       "</div>"
      ],
      "text/plain": [
       "             p-value  RDN-B\n",
       "0  transferRDN-B Ref  0.451\n",
       "1      transferRDN-B  0.284"
      ]
     },
     "metadata": {},
     "output_type": "display_data"
    },
    {
     "name": "stdout",
     "output_type": "stream",
     "text": [
      "\n",
      "\n",
      "Scratch: [-0.636809 -0.649035 -0.655431 -0.670048]\n",
      "Transfer: [-0.650952 -0.66387  -0.661897 -0.662137]\n",
      "Transfer & Revision: [-0.652173 -0.654213 -0.6617   -0.660809]\n"
     ]
    },
    {
     "data": {
      "text/markdown": [
       "## Recall"
      ],
      "text/plain": [
       "<IPython.core.display.Markdown object>"
      ]
     },
     "metadata": {},
     "output_type": "display_data"
    },
    {
     "name": "stdout",
     "output_type": "stream",
     "text": [
      "T-test for experiment 1\n",
      "Ttest_relResult(statistic=2.0799583220922155, pvalue=0.12900770728485186)\n",
      "Ttest_relResult(statistic=1.3788938574797343, pvalue=0.26175135884814815)\n"
     ]
    },
    {
     "data": {
      "text/html": [
       "<div>\n",
       "<table border=\"1\" class=\"dataframe\">\n",
       "  <thead>\n",
       "    <tr style=\"text-align: right;\">\n",
       "      <th></th>\n",
       "      <th>p-value</th>\n",
       "      <th>RDN-B</th>\n",
       "    </tr>\n",
       "  </thead>\n",
       "  <tbody>\n",
       "    <tr>\n",
       "      <th>0</th>\n",
       "      <td>transferRDN-B Ref</td>\n",
       "      <td>0.129</td>\n",
       "    </tr>\n",
       "    <tr>\n",
       "      <th>1</th>\n",
       "      <td>transferRDN-B</td>\n",
       "      <td>0.262</td>\n",
       "    </tr>\n",
       "  </tbody>\n",
       "</table>\n",
       "</div>"
      ],
      "text/plain": [
       "             p-value  RDN-B\n",
       "0  transferRDN-B Ref  0.129\n",
       "1      transferRDN-B  0.262"
      ]
     },
     "metadata": {},
     "output_type": "display_data"
    },
    {
     "name": "stdout",
     "output_type": "stream",
     "text": [
      "\n",
      "\n",
      "Scratch: [0.591247 0.504843 0.427666 0.342084]\n",
      "Transfer: [0.667839 0.456416 0.475713 0.475471]\n",
      "Transfer & Revision: [0.671747 0.502724 0.452746 0.453991]\n"
     ]
    },
    {
     "data": {
      "text/markdown": [
       "## F1"
      ],
      "text/plain": [
       "<IPython.core.display.Markdown object>"
      ]
     },
     "metadata": {},
     "output_type": "display_data"
    },
    {
     "name": "stdout",
     "output_type": "stream",
     "text": [
      "T-test for experiment 1\n",
      "Ttest_relResult(statistic=1.3755208040213216, pvalue=0.2626820561332705)\n",
      "Ttest_relResult(statistic=1.0030816510771763, pvalue=0.38972992888242336)\n"
     ]
    },
    {
     "data": {
      "text/html": [
       "<div>\n",
       "<table border=\"1\" class=\"dataframe\">\n",
       "  <thead>\n",
       "    <tr style=\"text-align: right;\">\n",
       "      <th></th>\n",
       "      <th>p-value</th>\n",
       "      <th>RDN-B</th>\n",
       "    </tr>\n",
       "  </thead>\n",
       "  <tbody>\n",
       "    <tr>\n",
       "      <th>0</th>\n",
       "      <td>transferRDN-B Ref</td>\n",
       "      <td>0.263</td>\n",
       "    </tr>\n",
       "    <tr>\n",
       "      <th>1</th>\n",
       "      <td>transferRDN-B</td>\n",
       "      <td>0.390</td>\n",
       "    </tr>\n",
       "  </tbody>\n",
       "</table>\n",
       "</div>"
      ],
      "text/plain": [
       "             p-value  RDN-B\n",
       "0  transferRDN-B Ref  0.263\n",
       "1      transferRDN-B  0.390"
      ]
     },
     "metadata": {},
     "output_type": "display_data"
    },
    {
     "name": "stdout",
     "output_type": "stream",
     "text": [
      "\n",
      "\n",
      "Scratch: [0.624948 0.579871 0.531845 0.455026]\n",
      "Transfer: [0.638163 0.546674 0.561371 0.56633 ]\n",
      "Transfer & Revision: [0.640343 0.576036 0.547486 0.553956]\n"
     ]
    },
    {
     "data": {
      "text/markdown": [
       "## Precision"
      ],
      "text/plain": [
       "<IPython.core.display.Markdown object>"
      ]
     },
     "metadata": {},
     "output_type": "display_data"
    },
    {
     "name": "stdout",
     "output_type": "stream",
     "text": [
      "\n",
      "\n",
      "Scratch: [0.662724 0.681094 0.703125 0.679305]\n",
      "Transfer: [0.611012 0.681428 0.68465  0.700117]\n",
      "Transfer & Revision: [0.611744 0.674381 0.69237  0.710373]\n"
     ]
    },
    {
     "data": {
      "text/markdown": [
       "## Learning and Revision time"
      ],
      "text/plain": [
       "<IPython.core.display.Markdown object>"
      ]
     },
     "metadata": {},
     "output_type": "display_data"
    },
    {
     "name": "stdout",
     "output_type": "stream",
     "text": [
      "\n",
      "\n",
      "Scratch: [75.664 53.002 30.741 33.559]\n",
      "Transfer: [41.58  29.83  14.282 18.053]\n",
      "Transfer & Revision: [83.932 86.123 31.951 36.544]\n"
     ]
    },
    {
     "data": {
      "text/markdown": [
       "## Inference time"
      ],
      "text/plain": [
       "<IPython.core.display.Markdown object>"
      ]
     },
     "metadata": {},
     "output_type": "display_data"
    },
    {
     "name": "stdout",
     "output_type": "stream",
     "text": [
      "\n",
      "\n",
      "Scratch: [2.228 3.192 2.797 2.464]\n",
      "Transfer: [41.58  29.83  14.282 18.053]\n",
      "Transfer & Revision: [2.502 2.775 2.77  2.459]\n"
     ]
    },
    {
     "data": {
      "text/markdown": [
       "# Results for 24_twitter_yeast"
      ],
      "text/plain": [
       "<IPython.core.display.Markdown object>"
      ]
     },
     "metadata": {},
     "output_type": "display_data"
    },
    {
     "data": {
      "text/markdown": [
       "## AUC ROC"
      ],
      "text/plain": [
       "<IPython.core.display.Markdown object>"
      ]
     },
     "metadata": {},
     "output_type": "display_data"
    },
    {
     "name": "stdout",
     "output_type": "stream",
     "text": [
      "T-test for experiment 1\n",
      "Ttest_relResult(statistic=nan, pvalue=nan)\n",
      "Ttest_relResult(statistic=nan, pvalue=nan)\n"
     ]
    },
    {
     "data": {
      "text/html": [
       "<div>\n",
       "<table border=\"1\" class=\"dataframe\">\n",
       "  <thead>\n",
       "    <tr style=\"text-align: right;\">\n",
       "      <th></th>\n",
       "      <th>p-value</th>\n",
       "      <th>RDN-B</th>\n",
       "    </tr>\n",
       "  </thead>\n",
       "  <tbody>\n",
       "    <tr>\n",
       "      <th>0</th>\n",
       "      <td>transferRDN-B Ref</td>\n",
       "      <td>nan</td>\n",
       "    </tr>\n",
       "    <tr>\n",
       "      <th>1</th>\n",
       "      <td>transferRDN-B</td>\n",
       "      <td>nan</td>\n",
       "    </tr>\n",
       "  </tbody>\n",
       "</table>\n",
       "</div>"
      ],
      "text/plain": [
       "             p-value RDN-B\n",
       "0  transferRDN-B Ref   nan\n",
       "1      transferRDN-B   nan"
      ]
     },
     "metadata": {},
     "output_type": "display_data"
    },
    {
     "name": "stdout",
     "output_type": "stream",
     "text": [
      "\n",
      "\n",
      "Scratch: [0.5 0.5 0.5 0.5]\n",
      "Transfer: [0.5 0.5 0.5 0.5]\n",
      "Transfer & Revision: [0.5 0.5 0.5 0.5]\n"
     ]
    },
    {
     "data": {
      "text/markdown": [
       "## AUC PR"
      ],
      "text/plain": [
       "<IPython.core.display.Markdown object>"
      ]
     },
     "metadata": {},
     "output_type": "display_data"
    },
    {
     "name": "stdout",
     "output_type": "stream",
     "text": [
      "T-test for experiment 1\n",
      "Ttest_relResult(statistic=nan, pvalue=nan)\n",
      "Ttest_relResult(statistic=nan, pvalue=nan)\n"
     ]
    },
    {
     "data": {
      "text/html": [
       "<div>\n",
       "<table border=\"1\" class=\"dataframe\">\n",
       "  <thead>\n",
       "    <tr style=\"text-align: right;\">\n",
       "      <th></th>\n",
       "      <th>p-value</th>\n",
       "      <th>RDN-B</th>\n",
       "    </tr>\n",
       "  </thead>\n",
       "  <tbody>\n",
       "    <tr>\n",
       "      <th>0</th>\n",
       "      <td>transferRDN-B Ref</td>\n",
       "      <td>nan</td>\n",
       "    </tr>\n",
       "    <tr>\n",
       "      <th>1</th>\n",
       "      <td>transferRDN-B</td>\n",
       "      <td>nan</td>\n",
       "    </tr>\n",
       "  </tbody>\n",
       "</table>\n",
       "</div>"
      ],
      "text/plain": [
       "             p-value RDN-B\n",
       "0  transferRDN-B Ref   nan\n",
       "1      transferRDN-B   nan"
      ]
     },
     "metadata": {},
     "output_type": "display_data"
    },
    {
     "name": "stdout",
     "output_type": "stream",
     "text": [
      "\n",
      "\n",
      "Scratch: [0.5 0.5 0.5 0.5]\n",
      "Transfer: [0.5 0.5 0.5 0.5]\n",
      "Transfer & Revision: [0.5 0.5 0.5 0.5]\n"
     ]
    },
    {
     "data": {
      "text/markdown": [
       "## CLL"
      ],
      "text/plain": [
       "<IPython.core.display.Markdown object>"
      ]
     },
     "metadata": {},
     "output_type": "display_data"
    },
    {
     "name": "stdout",
     "output_type": "stream",
     "text": [
      "T-test for experiment 1\n",
      "Ttest_relResult(statistic=-1.1121281331500008, pvalue=0.34718469241041816)\n",
      "Ttest_relResult(statistic=-1.6628818000983112, pvalue=0.19492308886388054)\n"
     ]
    },
    {
     "data": {
      "text/html": [
       "<div>\n",
       "<table border=\"1\" class=\"dataframe\">\n",
       "  <thead>\n",
       "    <tr style=\"text-align: right;\">\n",
       "      <th></th>\n",
       "      <th>p-value</th>\n",
       "      <th>RDN-B</th>\n",
       "    </tr>\n",
       "  </thead>\n",
       "  <tbody>\n",
       "    <tr>\n",
       "      <th>0</th>\n",
       "      <td>transferRDN-B Ref</td>\n",
       "      <td>0.347</td>\n",
       "    </tr>\n",
       "    <tr>\n",
       "      <th>1</th>\n",
       "      <td>transferRDN-B</td>\n",
       "      <td>0.195</td>\n",
       "    </tr>\n",
       "  </tbody>\n",
       "</table>\n",
       "</div>"
      ],
      "text/plain": [
       "             p-value  RDN-B\n",
       "0  transferRDN-B Ref  0.347\n",
       "1      transferRDN-B  0.195"
      ]
     },
     "metadata": {},
     "output_type": "display_data"
    },
    {
     "name": "stdout",
     "output_type": "stream",
     "text": [
      "\n",
      "\n",
      "Scratch: [-0.695026 -0.695026 -0.695026 -0.695026]\n",
      "Transfer: [-0.695026 -0.69555  -0.695822 -0.695026]\n",
      "Transfer & Revision: [-0.695026 -0.695064 -0.695476 -0.695026]\n"
     ]
    },
    {
     "data": {
      "text/markdown": [
       "## Recall"
      ],
      "text/plain": [
       "<IPython.core.display.Markdown object>"
      ]
     },
     "metadata": {},
     "output_type": "display_data"
    },
    {
     "name": "stdout",
     "output_type": "stream",
     "text": [
      "T-test for experiment 1\n",
      "Ttest_relResult(statistic=nan, pvalue=nan)\n",
      "Ttest_relResult(statistic=nan, pvalue=nan)\n"
     ]
    },
    {
     "data": {
      "text/html": [
       "<div>\n",
       "<table border=\"1\" class=\"dataframe\">\n",
       "  <thead>\n",
       "    <tr style=\"text-align: right;\">\n",
       "      <th></th>\n",
       "      <th>p-value</th>\n",
       "      <th>RDN-B</th>\n",
       "    </tr>\n",
       "  </thead>\n",
       "  <tbody>\n",
       "    <tr>\n",
       "      <th>0</th>\n",
       "      <td>transferRDN-B Ref</td>\n",
       "      <td>nan</td>\n",
       "    </tr>\n",
       "    <tr>\n",
       "      <th>1</th>\n",
       "      <td>transferRDN-B</td>\n",
       "      <td>nan</td>\n",
       "    </tr>\n",
       "  </tbody>\n",
       "</table>\n",
       "</div>"
      ],
      "text/plain": [
       "             p-value RDN-B\n",
       "0  transferRDN-B Ref   nan\n",
       "1      transferRDN-B   nan"
      ]
     },
     "metadata": {},
     "output_type": "display_data"
    },
    {
     "name": "stdout",
     "output_type": "stream",
     "text": [
      "\n",
      "\n",
      "Scratch: [0. 0. 0. 0.]\n",
      "Transfer: [0. 0. 0. 0.]\n",
      "Transfer & Revision: [0. 0. 0. 0.]\n"
     ]
    },
    {
     "data": {
      "text/markdown": [
       "## F1"
      ],
      "text/plain": [
       "<IPython.core.display.Markdown object>"
      ]
     },
     "metadata": {},
     "output_type": "display_data"
    },
    {
     "name": "stdout",
     "output_type": "stream",
     "text": [
      "T-test for experiment 1\n",
      "Ttest_relResult(statistic=nan, pvalue=nan)\n",
      "Ttest_relResult(statistic=nan, pvalue=nan)\n"
     ]
    },
    {
     "data": {
      "text/html": [
       "<div>\n",
       "<table border=\"1\" class=\"dataframe\">\n",
       "  <thead>\n",
       "    <tr style=\"text-align: right;\">\n",
       "      <th></th>\n",
       "      <th>p-value</th>\n",
       "      <th>RDN-B</th>\n",
       "    </tr>\n",
       "  </thead>\n",
       "  <tbody>\n",
       "    <tr>\n",
       "      <th>0</th>\n",
       "      <td>transferRDN-B Ref</td>\n",
       "      <td>nan</td>\n",
       "    </tr>\n",
       "    <tr>\n",
       "      <th>1</th>\n",
       "      <td>transferRDN-B</td>\n",
       "      <td>nan</td>\n",
       "    </tr>\n",
       "  </tbody>\n",
       "</table>\n",
       "</div>"
      ],
      "text/plain": [
       "             p-value RDN-B\n",
       "0  transferRDN-B Ref   nan\n",
       "1      transferRDN-B   nan"
      ]
     },
     "metadata": {},
     "output_type": "display_data"
    },
    {
     "name": "stdout",
     "output_type": "stream",
     "text": [
      "\n",
      "\n",
      "Scratch: [nan nan nan nan]\n",
      "Transfer: [nan nan nan nan]\n",
      "Transfer & Revision: [nan nan nan nan]\n"
     ]
    },
    {
     "data": {
      "text/markdown": [
       "## Precision"
      ],
      "text/plain": [
       "<IPython.core.display.Markdown object>"
      ]
     },
     "metadata": {},
     "output_type": "display_data"
    },
    {
     "name": "stdout",
     "output_type": "stream",
     "text": [
      "\n",
      "\n",
      "Scratch: [nan nan nan nan]\n",
      "Transfer: [nan nan nan nan]\n",
      "Transfer & Revision: [nan nan nan nan]\n"
     ]
    },
    {
     "data": {
      "text/markdown": [
       "## Learning and Revision time"
      ],
      "text/plain": [
       "<IPython.core.display.Markdown object>"
      ]
     },
     "metadata": {},
     "output_type": "display_data"
    },
    {
     "name": "stdout",
     "output_type": "stream",
     "text": [
      "\n",
      "\n",
      "Scratch: [80.341 37.398 26.218 20.171]\n",
      "Transfer: [37.048 19.308 18.203 16.601]\n",
      "Transfer & Revision: [119.434  53.782  39.59   33.532]\n"
     ]
    },
    {
     "data": {
      "text/markdown": [
       "## Inference time"
      ],
      "text/plain": [
       "<IPython.core.display.Markdown object>"
      ]
     },
     "metadata": {},
     "output_type": "display_data"
    },
    {
     "name": "stdout",
     "output_type": "stream",
     "text": [
      "\n",
      "\n",
      "Scratch: [1.988 2.324 2.188 2.395]\n",
      "Transfer: [37.048 19.308 18.203 16.601]\n",
      "Transfer & Revision: [2.589 2.481 2.521 2.637]\n"
     ]
    },
    {
     "data": {
      "text/markdown": [
       "# Results for 25_twitter_yeast"
      ],
      "text/plain": [
       "<IPython.core.display.Markdown object>"
      ]
     },
     "metadata": {},
     "output_type": "display_data"
    },
    {
     "data": {
      "text/markdown": [
       "## AUC ROC"
      ],
      "text/plain": [
       "<IPython.core.display.Markdown object>"
      ]
     },
     "metadata": {},
     "output_type": "display_data"
    },
    {
     "name": "stdout",
     "output_type": "stream",
     "text": [
      "T-test for experiment 1\n",
      "Ttest_relResult(statistic=nan, pvalue=nan)\n",
      "Ttest_relResult(statistic=nan, pvalue=nan)\n"
     ]
    },
    {
     "data": {
      "text/html": [
       "<div>\n",
       "<table border=\"1\" class=\"dataframe\">\n",
       "  <thead>\n",
       "    <tr style=\"text-align: right;\">\n",
       "      <th></th>\n",
       "      <th>p-value</th>\n",
       "      <th>RDN-B</th>\n",
       "    </tr>\n",
       "  </thead>\n",
       "  <tbody>\n",
       "    <tr>\n",
       "      <th>0</th>\n",
       "      <td>transferRDN-B Ref</td>\n",
       "      <td>nan</td>\n",
       "    </tr>\n",
       "    <tr>\n",
       "      <th>1</th>\n",
       "      <td>transferRDN-B</td>\n",
       "      <td>nan</td>\n",
       "    </tr>\n",
       "  </tbody>\n",
       "</table>\n",
       "</div>"
      ],
      "text/plain": [
       "             p-value RDN-B\n",
       "0  transferRDN-B Ref   nan\n",
       "1      transferRDN-B   nan"
      ]
     },
     "metadata": {},
     "output_type": "display_data"
    },
    {
     "name": "stdout",
     "output_type": "stream",
     "text": [
      "\n",
      "\n",
      "Scratch: [0.5 0.5 0.5 0.5]\n",
      "Transfer: [0.5 0.5 0.5 0.5]\n",
      "Transfer & Revision: [0.5 0.5 0.5 0.5]\n"
     ]
    },
    {
     "data": {
      "text/markdown": [
       "## AUC PR"
      ],
      "text/plain": [
       "<IPython.core.display.Markdown object>"
      ]
     },
     "metadata": {},
     "output_type": "display_data"
    },
    {
     "name": "stdout",
     "output_type": "stream",
     "text": [
      "T-test for experiment 1\n",
      "Ttest_relResult(statistic=nan, pvalue=nan)\n",
      "Ttest_relResult(statistic=nan, pvalue=nan)\n"
     ]
    },
    {
     "data": {
      "text/html": [
       "<div>\n",
       "<table border=\"1\" class=\"dataframe\">\n",
       "  <thead>\n",
       "    <tr style=\"text-align: right;\">\n",
       "      <th></th>\n",
       "      <th>p-value</th>\n",
       "      <th>RDN-B</th>\n",
       "    </tr>\n",
       "  </thead>\n",
       "  <tbody>\n",
       "    <tr>\n",
       "      <th>0</th>\n",
       "      <td>transferRDN-B Ref</td>\n",
       "      <td>nan</td>\n",
       "    </tr>\n",
       "    <tr>\n",
       "      <th>1</th>\n",
       "      <td>transferRDN-B</td>\n",
       "      <td>nan</td>\n",
       "    </tr>\n",
       "  </tbody>\n",
       "</table>\n",
       "</div>"
      ],
      "text/plain": [
       "             p-value RDN-B\n",
       "0  transferRDN-B Ref   nan\n",
       "1      transferRDN-B   nan"
      ]
     },
     "metadata": {},
     "output_type": "display_data"
    },
    {
     "name": "stdout",
     "output_type": "stream",
     "text": [
      "\n",
      "\n",
      "Scratch: [0.5 0.5 0.5 0.5]\n",
      "Transfer: [0.5 0.5 0.5 0.5]\n",
      "Transfer & Revision: [0.5 0.5 0.5 0.5]\n"
     ]
    },
    {
     "data": {
      "text/markdown": [
       "## CLL"
      ],
      "text/plain": [
       "<IPython.core.display.Markdown object>"
      ]
     },
     "metadata": {},
     "output_type": "display_data"
    },
    {
     "name": "stdout",
     "output_type": "stream",
     "text": [
      "T-test for experiment 1\n",
      "Ttest_relResult(statistic=-1.3337428570579364, pvalue=0.2745063328332894)\n",
      "Ttest_relResult(statistic=-1.298714511459091, pvalue=0.28485443126575644)\n"
     ]
    },
    {
     "data": {
      "text/html": [
       "<div>\n",
       "<table border=\"1\" class=\"dataframe\">\n",
       "  <thead>\n",
       "    <tr style=\"text-align: right;\">\n",
       "      <th></th>\n",
       "      <th>p-value</th>\n",
       "      <th>RDN-B</th>\n",
       "    </tr>\n",
       "  </thead>\n",
       "  <tbody>\n",
       "    <tr>\n",
       "      <th>0</th>\n",
       "      <td>transferRDN-B Ref</td>\n",
       "      <td>0.275</td>\n",
       "    </tr>\n",
       "    <tr>\n",
       "      <th>1</th>\n",
       "      <td>transferRDN-B</td>\n",
       "      <td>0.285</td>\n",
       "    </tr>\n",
       "  </tbody>\n",
       "</table>\n",
       "</div>"
      ],
      "text/plain": [
       "             p-value  RDN-B\n",
       "0  transferRDN-B Ref  0.275\n",
       "1      transferRDN-B  0.285"
      ]
     },
     "metadata": {},
     "output_type": "display_data"
    },
    {
     "name": "stdout",
     "output_type": "stream",
     "text": [
      "\n",
      "\n",
      "Scratch: [-0.695026 -0.695026 -0.695026 -0.695026]\n",
      "Transfer: [-0.695399 -0.704926 -0.696383 -0.695402]\n",
      "Transfer & Revision: [-0.695336 -0.700956 -0.695866 -0.69527 ]\n"
     ]
    },
    {
     "data": {
      "text/markdown": [
       "## Recall"
      ],
      "text/plain": [
       "<IPython.core.display.Markdown object>"
      ]
     },
     "metadata": {},
     "output_type": "display_data"
    },
    {
     "name": "stdout",
     "output_type": "stream",
     "text": [
      "T-test for experiment 1\n",
      "Ttest_relResult(statistic=nan, pvalue=nan)\n",
      "Ttest_relResult(statistic=nan, pvalue=nan)\n"
     ]
    },
    {
     "data": {
      "text/html": [
       "<div>\n",
       "<table border=\"1\" class=\"dataframe\">\n",
       "  <thead>\n",
       "    <tr style=\"text-align: right;\">\n",
       "      <th></th>\n",
       "      <th>p-value</th>\n",
       "      <th>RDN-B</th>\n",
       "    </tr>\n",
       "  </thead>\n",
       "  <tbody>\n",
       "    <tr>\n",
       "      <th>0</th>\n",
       "      <td>transferRDN-B Ref</td>\n",
       "      <td>nan</td>\n",
       "    </tr>\n",
       "    <tr>\n",
       "      <th>1</th>\n",
       "      <td>transferRDN-B</td>\n",
       "      <td>nan</td>\n",
       "    </tr>\n",
       "  </tbody>\n",
       "</table>\n",
       "</div>"
      ],
      "text/plain": [
       "             p-value RDN-B\n",
       "0  transferRDN-B Ref   nan\n",
       "1      transferRDN-B   nan"
      ]
     },
     "metadata": {},
     "output_type": "display_data"
    },
    {
     "name": "stdout",
     "output_type": "stream",
     "text": [
      "\n",
      "\n",
      "Scratch: [0. 0. 0. 0.]\n",
      "Transfer: [0. 0. 0. 0.]\n",
      "Transfer & Revision: [0. 0. 0. 0.]\n"
     ]
    },
    {
     "data": {
      "text/markdown": [
       "## F1"
      ],
      "text/plain": [
       "<IPython.core.display.Markdown object>"
      ]
     },
     "metadata": {},
     "output_type": "display_data"
    },
    {
     "name": "stdout",
     "output_type": "stream",
     "text": [
      "T-test for experiment 1\n",
      "Ttest_relResult(statistic=nan, pvalue=nan)\n",
      "Ttest_relResult(statistic=nan, pvalue=nan)\n"
     ]
    },
    {
     "data": {
      "text/html": [
       "<div>\n",
       "<table border=\"1\" class=\"dataframe\">\n",
       "  <thead>\n",
       "    <tr style=\"text-align: right;\">\n",
       "      <th></th>\n",
       "      <th>p-value</th>\n",
       "      <th>RDN-B</th>\n",
       "    </tr>\n",
       "  </thead>\n",
       "  <tbody>\n",
       "    <tr>\n",
       "      <th>0</th>\n",
       "      <td>transferRDN-B Ref</td>\n",
       "      <td>nan</td>\n",
       "    </tr>\n",
       "    <tr>\n",
       "      <th>1</th>\n",
       "      <td>transferRDN-B</td>\n",
       "      <td>nan</td>\n",
       "    </tr>\n",
       "  </tbody>\n",
       "</table>\n",
       "</div>"
      ],
      "text/plain": [
       "             p-value RDN-B\n",
       "0  transferRDN-B Ref   nan\n",
       "1      transferRDN-B   nan"
      ]
     },
     "metadata": {},
     "output_type": "display_data"
    },
    {
     "name": "stdout",
     "output_type": "stream",
     "text": [
      "\n",
      "\n",
      "Scratch: [nan nan nan nan]\n",
      "Transfer: [nan nan nan nan]\n",
      "Transfer & Revision: [nan nan nan nan]\n"
     ]
    },
    {
     "data": {
      "text/markdown": [
       "## Precision"
      ],
      "text/plain": [
       "<IPython.core.display.Markdown object>"
      ]
     },
     "metadata": {},
     "output_type": "display_data"
    },
    {
     "name": "stdout",
     "output_type": "stream",
     "text": [
      "\n",
      "\n",
      "Scratch: [nan nan nan nan]\n",
      "Transfer: [nan nan nan nan]\n",
      "Transfer & Revision: [nan nan nan nan]\n"
     ]
    },
    {
     "data": {
      "text/markdown": [
       "## Learning and Revision time"
      ],
      "text/plain": [
       "<IPython.core.display.Markdown object>"
      ]
     },
     "metadata": {},
     "output_type": "display_data"
    },
    {
     "name": "stdout",
     "output_type": "stream",
     "text": [
      "\n",
      "\n",
      "Scratch: [9.916 9.527 8.287 8.478]\n",
      "Transfer: [7.951 4.272 3.855 3.648]\n",
      "Transfer & Revision: [20.061  8.416  8.909  8.451]\n"
     ]
    },
    {
     "data": {
      "text/markdown": [
       "## Inference time"
      ],
      "text/plain": [
       "<IPython.core.display.Markdown object>"
      ]
     },
     "metadata": {},
     "output_type": "display_data"
    },
    {
     "name": "stdout",
     "output_type": "stream",
     "text": [
      "\n",
      "\n",
      "Scratch: [1.053 1.129 1.152 1.268]\n",
      "Transfer: [7.951 4.272 3.855 3.648]\n",
      "Transfer & Revision: [1.167 1.249 1.321 1.284]\n"
     ]
    },
    {
     "data": {
      "text/markdown": [
       "# Results for 26_twitter_yeast"
      ],
      "text/plain": [
       "<IPython.core.display.Markdown object>"
      ]
     },
     "metadata": {},
     "output_type": "display_data"
    },
    {
     "data": {
      "text/markdown": [
       "## AUC ROC"
      ],
      "text/plain": [
       "<IPython.core.display.Markdown object>"
      ]
     },
     "metadata": {},
     "output_type": "display_data"
    },
    {
     "name": "stdout",
     "output_type": "stream",
     "text": [
      "T-test for experiment 1\n",
      "Ttest_relResult(statistic=nan, pvalue=nan)\n",
      "Ttest_relResult(statistic=nan, pvalue=nan)\n"
     ]
    },
    {
     "data": {
      "text/html": [
       "<div>\n",
       "<table border=\"1\" class=\"dataframe\">\n",
       "  <thead>\n",
       "    <tr style=\"text-align: right;\">\n",
       "      <th></th>\n",
       "      <th>p-value</th>\n",
       "      <th>RDN-B</th>\n",
       "    </tr>\n",
       "  </thead>\n",
       "  <tbody>\n",
       "    <tr>\n",
       "      <th>0</th>\n",
       "      <td>transferRDN-B Ref</td>\n",
       "      <td>nan</td>\n",
       "    </tr>\n",
       "    <tr>\n",
       "      <th>1</th>\n",
       "      <td>transferRDN-B</td>\n",
       "      <td>nan</td>\n",
       "    </tr>\n",
       "  </tbody>\n",
       "</table>\n",
       "</div>"
      ],
      "text/plain": [
       "             p-value RDN-B\n",
       "0  transferRDN-B Ref   nan\n",
       "1      transferRDN-B   nan"
      ]
     },
     "metadata": {},
     "output_type": "display_data"
    },
    {
     "name": "stdout",
     "output_type": "stream",
     "text": [
      "\n",
      "\n",
      "Scratch: [0.5 0.5 0.5 0.5]\n",
      "Transfer: [0.5 0.5 0.5 0.5]\n",
      "Transfer & Revision: [0.5 0.5 0.5 0.5]\n"
     ]
    },
    {
     "data": {
      "text/markdown": [
       "## AUC PR"
      ],
      "text/plain": [
       "<IPython.core.display.Markdown object>"
      ]
     },
     "metadata": {},
     "output_type": "display_data"
    },
    {
     "name": "stdout",
     "output_type": "stream",
     "text": [
      "T-test for experiment 1\n",
      "Ttest_relResult(statistic=nan, pvalue=nan)\n",
      "Ttest_relResult(statistic=nan, pvalue=nan)\n"
     ]
    },
    {
     "data": {
      "text/html": [
       "<div>\n",
       "<table border=\"1\" class=\"dataframe\">\n",
       "  <thead>\n",
       "    <tr style=\"text-align: right;\">\n",
       "      <th></th>\n",
       "      <th>p-value</th>\n",
       "      <th>RDN-B</th>\n",
       "    </tr>\n",
       "  </thead>\n",
       "  <tbody>\n",
       "    <tr>\n",
       "      <th>0</th>\n",
       "      <td>transferRDN-B Ref</td>\n",
       "      <td>nan</td>\n",
       "    </tr>\n",
       "    <tr>\n",
       "      <th>1</th>\n",
       "      <td>transferRDN-B</td>\n",
       "      <td>nan</td>\n",
       "    </tr>\n",
       "  </tbody>\n",
       "</table>\n",
       "</div>"
      ],
      "text/plain": [
       "             p-value RDN-B\n",
       "0  transferRDN-B Ref   nan\n",
       "1      transferRDN-B   nan"
      ]
     },
     "metadata": {},
     "output_type": "display_data"
    },
    {
     "name": "stdout",
     "output_type": "stream",
     "text": [
      "\n",
      "\n",
      "Scratch: [0.5 0.5 0.5 0.5]\n",
      "Transfer: [0.5 0.5 0.5 0.5]\n",
      "Transfer & Revision: [0.5 0.5 0.5 0.5]\n"
     ]
    },
    {
     "data": {
      "text/markdown": [
       "## CLL"
      ],
      "text/plain": [
       "<IPython.core.display.Markdown object>"
      ]
     },
     "metadata": {},
     "output_type": "display_data"
    },
    {
     "name": "stdout",
     "output_type": "stream",
     "text": [
      "T-test for experiment 1\n",
      "Ttest_relResult(statistic=nan, pvalue=nan)\n",
      "Ttest_relResult(statistic=nan, pvalue=nan)\n"
     ]
    },
    {
     "data": {
      "text/html": [
       "<div>\n",
       "<table border=\"1\" class=\"dataframe\">\n",
       "  <thead>\n",
       "    <tr style=\"text-align: right;\">\n",
       "      <th></th>\n",
       "      <th>p-value</th>\n",
       "      <th>RDN-B</th>\n",
       "    </tr>\n",
       "  </thead>\n",
       "  <tbody>\n",
       "    <tr>\n",
       "      <th>0</th>\n",
       "      <td>transferRDN-B Ref</td>\n",
       "      <td>nan</td>\n",
       "    </tr>\n",
       "    <tr>\n",
       "      <th>1</th>\n",
       "      <td>transferRDN-B</td>\n",
       "      <td>nan</td>\n",
       "    </tr>\n",
       "  </tbody>\n",
       "</table>\n",
       "</div>"
      ],
      "text/plain": [
       "             p-value RDN-B\n",
       "0  transferRDN-B Ref   nan\n",
       "1      transferRDN-B   nan"
      ]
     },
     "metadata": {},
     "output_type": "display_data"
    },
    {
     "name": "stdout",
     "output_type": "stream",
     "text": [
      "\n",
      "\n",
      "Scratch: [-0.695026 -0.695026 -0.695026 -0.695026]\n",
      "Transfer: [-0.695026 -0.695026 -0.695026 -0.695026]\n",
      "Transfer & Revision: [-0.695026 -0.695026 -0.695026 -0.695026]\n"
     ]
    },
    {
     "data": {
      "text/markdown": [
       "## Recall"
      ],
      "text/plain": [
       "<IPython.core.display.Markdown object>"
      ]
     },
     "metadata": {},
     "output_type": "display_data"
    },
    {
     "name": "stdout",
     "output_type": "stream",
     "text": [
      "T-test for experiment 1\n",
      "Ttest_relResult(statistic=nan, pvalue=nan)\n",
      "Ttest_relResult(statistic=nan, pvalue=nan)\n"
     ]
    },
    {
     "data": {
      "text/html": [
       "<div>\n",
       "<table border=\"1\" class=\"dataframe\">\n",
       "  <thead>\n",
       "    <tr style=\"text-align: right;\">\n",
       "      <th></th>\n",
       "      <th>p-value</th>\n",
       "      <th>RDN-B</th>\n",
       "    </tr>\n",
       "  </thead>\n",
       "  <tbody>\n",
       "    <tr>\n",
       "      <th>0</th>\n",
       "      <td>transferRDN-B Ref</td>\n",
       "      <td>nan</td>\n",
       "    </tr>\n",
       "    <tr>\n",
       "      <th>1</th>\n",
       "      <td>transferRDN-B</td>\n",
       "      <td>nan</td>\n",
       "    </tr>\n",
       "  </tbody>\n",
       "</table>\n",
       "</div>"
      ],
      "text/plain": [
       "             p-value RDN-B\n",
       "0  transferRDN-B Ref   nan\n",
       "1      transferRDN-B   nan"
      ]
     },
     "metadata": {},
     "output_type": "display_data"
    },
    {
     "name": "stdout",
     "output_type": "stream",
     "text": [
      "\n",
      "\n",
      "Scratch: [0. 0. 0. 0.]\n",
      "Transfer: [0. 0. 0. 0.]\n",
      "Transfer & Revision: [0. 0. 0. 0.]\n"
     ]
    },
    {
     "data": {
      "text/markdown": [
       "## F1"
      ],
      "text/plain": [
       "<IPython.core.display.Markdown object>"
      ]
     },
     "metadata": {},
     "output_type": "display_data"
    },
    {
     "name": "stdout",
     "output_type": "stream",
     "text": [
      "T-test for experiment 1\n",
      "Ttest_relResult(statistic=nan, pvalue=nan)\n",
      "Ttest_relResult(statistic=nan, pvalue=nan)\n"
     ]
    },
    {
     "data": {
      "text/html": [
       "<div>\n",
       "<table border=\"1\" class=\"dataframe\">\n",
       "  <thead>\n",
       "    <tr style=\"text-align: right;\">\n",
       "      <th></th>\n",
       "      <th>p-value</th>\n",
       "      <th>RDN-B</th>\n",
       "    </tr>\n",
       "  </thead>\n",
       "  <tbody>\n",
       "    <tr>\n",
       "      <th>0</th>\n",
       "      <td>transferRDN-B Ref</td>\n",
       "      <td>nan</td>\n",
       "    </tr>\n",
       "    <tr>\n",
       "      <th>1</th>\n",
       "      <td>transferRDN-B</td>\n",
       "      <td>nan</td>\n",
       "    </tr>\n",
       "  </tbody>\n",
       "</table>\n",
       "</div>"
      ],
      "text/plain": [
       "             p-value RDN-B\n",
       "0  transferRDN-B Ref   nan\n",
       "1      transferRDN-B   nan"
      ]
     },
     "metadata": {},
     "output_type": "display_data"
    },
    {
     "name": "stdout",
     "output_type": "stream",
     "text": [
      "\n",
      "\n",
      "Scratch: [nan nan nan nan]\n",
      "Transfer: [nan nan nan nan]\n",
      "Transfer & Revision: [nan nan nan nan]\n"
     ]
    },
    {
     "data": {
      "text/markdown": [
       "## Precision"
      ],
      "text/plain": [
       "<IPython.core.display.Markdown object>"
      ]
     },
     "metadata": {},
     "output_type": "display_data"
    },
    {
     "name": "stdout",
     "output_type": "stream",
     "text": [
      "\n",
      "\n",
      "Scratch: [nan nan nan nan]\n",
      "Transfer: [nan nan nan nan]\n",
      "Transfer & Revision: [nan nan nan nan]\n"
     ]
    },
    {
     "data": {
      "text/markdown": [
       "## Learning and Revision time"
      ],
      "text/plain": [
       "<IPython.core.display.Markdown object>"
      ]
     },
     "metadata": {},
     "output_type": "display_data"
    },
    {
     "name": "stdout",
     "output_type": "stream",
     "text": [
      "\n",
      "\n",
      "Scratch: [60.862 92.154 51.115 41.913]\n",
      "Transfer: [38.404 71.581 20.597 24.811]\n",
      "Transfer & Revision: [ 96.053 143.014  42.432  50.305]\n"
     ]
    },
    {
     "data": {
      "text/markdown": [
       "## Inference time"
      ],
      "text/plain": [
       "<IPython.core.display.Markdown object>"
      ]
     },
     "metadata": {},
     "output_type": "display_data"
    },
    {
     "name": "stdout",
     "output_type": "stream",
     "text": [
      "\n",
      "\n",
      "Scratch: [2.622 2.103 1.657 2.318]\n",
      "Transfer: [38.404 71.581 20.597 24.811]\n",
      "Transfer & Revision: [2.795 3.041 3.296 2.943]\n"
     ]
    },
    {
     "data": {
      "text/markdown": [
       "# Results for 27_twitter_yeast"
      ],
      "text/plain": [
       "<IPython.core.display.Markdown object>"
      ]
     },
     "metadata": {},
     "output_type": "display_data"
    },
    {
     "data": {
      "text/markdown": [
       "## AUC ROC"
      ],
      "text/plain": [
       "<IPython.core.display.Markdown object>"
      ]
     },
     "metadata": {},
     "output_type": "display_data"
    },
    {
     "name": "stdout",
     "output_type": "stream",
     "text": [
      "T-test for experiment 1\n",
      "Ttest_relResult(statistic=nan, pvalue=nan)\n",
      "Ttest_relResult(statistic=nan, pvalue=nan)\n"
     ]
    },
    {
     "data": {
      "text/html": [
       "<div>\n",
       "<table border=\"1\" class=\"dataframe\">\n",
       "  <thead>\n",
       "    <tr style=\"text-align: right;\">\n",
       "      <th></th>\n",
       "      <th>p-value</th>\n",
       "      <th>RDN-B</th>\n",
       "    </tr>\n",
       "  </thead>\n",
       "  <tbody>\n",
       "    <tr>\n",
       "      <th>0</th>\n",
       "      <td>transferRDN-B Ref</td>\n",
       "      <td>nan</td>\n",
       "    </tr>\n",
       "    <tr>\n",
       "      <th>1</th>\n",
       "      <td>transferRDN-B</td>\n",
       "      <td>nan</td>\n",
       "    </tr>\n",
       "  </tbody>\n",
       "</table>\n",
       "</div>"
      ],
      "text/plain": [
       "             p-value RDN-B\n",
       "0  transferRDN-B Ref   nan\n",
       "1      transferRDN-B   nan"
      ]
     },
     "metadata": {},
     "output_type": "display_data"
    },
    {
     "name": "stdout",
     "output_type": "stream",
     "text": [
      "\n",
      "\n",
      "Scratch: [0.5 0.5 0.5 0.5]\n",
      "Transfer: [0.5 0.5 0.5 0.5]\n",
      "Transfer & Revision: [0.5 0.5 0.5 0.5]\n"
     ]
    },
    {
     "data": {
      "text/markdown": [
       "## AUC PR"
      ],
      "text/plain": [
       "<IPython.core.display.Markdown object>"
      ]
     },
     "metadata": {},
     "output_type": "display_data"
    },
    {
     "name": "stdout",
     "output_type": "stream",
     "text": [
      "T-test for experiment 1\n",
      "Ttest_relResult(statistic=nan, pvalue=nan)\n",
      "Ttest_relResult(statistic=nan, pvalue=nan)\n"
     ]
    },
    {
     "data": {
      "text/html": [
       "<div>\n",
       "<table border=\"1\" class=\"dataframe\">\n",
       "  <thead>\n",
       "    <tr style=\"text-align: right;\">\n",
       "      <th></th>\n",
       "      <th>p-value</th>\n",
       "      <th>RDN-B</th>\n",
       "    </tr>\n",
       "  </thead>\n",
       "  <tbody>\n",
       "    <tr>\n",
       "      <th>0</th>\n",
       "      <td>transferRDN-B Ref</td>\n",
       "      <td>nan</td>\n",
       "    </tr>\n",
       "    <tr>\n",
       "      <th>1</th>\n",
       "      <td>transferRDN-B</td>\n",
       "      <td>nan</td>\n",
       "    </tr>\n",
       "  </tbody>\n",
       "</table>\n",
       "</div>"
      ],
      "text/plain": [
       "             p-value RDN-B\n",
       "0  transferRDN-B Ref   nan\n",
       "1      transferRDN-B   nan"
      ]
     },
     "metadata": {},
     "output_type": "display_data"
    },
    {
     "name": "stdout",
     "output_type": "stream",
     "text": [
      "\n",
      "\n",
      "Scratch: [0.5 0.5 0.5 0.5]\n",
      "Transfer: [0.5 0.5 0.5 0.5]\n",
      "Transfer & Revision: [0.5 0.5 0.5 0.5]\n"
     ]
    },
    {
     "data": {
      "text/markdown": [
       "## CLL"
      ],
      "text/plain": [
       "<IPython.core.display.Markdown object>"
      ]
     },
     "metadata": {},
     "output_type": "display_data"
    },
    {
     "name": "stdout",
     "output_type": "stream",
     "text": [
      "T-test for experiment 1\n",
      "Ttest_relResult(statistic=-2.272473898055763, pvalue=0.10767918407150433)\n",
      "Ttest_relResult(statistic=-1.7043152970156488, pvalue=0.18686974069894624)\n"
     ]
    },
    {
     "data": {
      "text/html": [
       "<div>\n",
       "<table border=\"1\" class=\"dataframe\">\n",
       "  <thead>\n",
       "    <tr style=\"text-align: right;\">\n",
       "      <th></th>\n",
       "      <th>p-value</th>\n",
       "      <th>RDN-B</th>\n",
       "    </tr>\n",
       "  </thead>\n",
       "  <tbody>\n",
       "    <tr>\n",
       "      <th>0</th>\n",
       "      <td>transferRDN-B Ref</td>\n",
       "      <td>0.108</td>\n",
       "    </tr>\n",
       "    <tr>\n",
       "      <th>1</th>\n",
       "      <td>transferRDN-B</td>\n",
       "      <td>0.187</td>\n",
       "    </tr>\n",
       "  </tbody>\n",
       "</table>\n",
       "</div>"
      ],
      "text/plain": [
       "             p-value  RDN-B\n",
       "0  transferRDN-B Ref  0.108\n",
       "1      transferRDN-B  0.187"
      ]
     },
     "metadata": {},
     "output_type": "display_data"
    },
    {
     "name": "stdout",
     "output_type": "stream",
     "text": [
      "\n",
      "\n",
      "Scratch: [-0.695026 -0.695026 -0.695026 -0.695026]\n",
      "Transfer: [-0.695026 -0.696985 -0.695679 -0.695345]\n",
      "Transfer & Revision: [-0.695026 -0.695585 -0.69525  -0.695287]\n"
     ]
    },
    {
     "data": {
      "text/markdown": [
       "## Recall"
      ],
      "text/plain": [
       "<IPython.core.display.Markdown object>"
      ]
     },
     "metadata": {},
     "output_type": "display_data"
    },
    {
     "name": "stdout",
     "output_type": "stream",
     "text": [
      "T-test for experiment 1\n",
      "Ttest_relResult(statistic=nan, pvalue=nan)\n",
      "Ttest_relResult(statistic=nan, pvalue=nan)\n"
     ]
    },
    {
     "data": {
      "text/html": [
       "<div>\n",
       "<table border=\"1\" class=\"dataframe\">\n",
       "  <thead>\n",
       "    <tr style=\"text-align: right;\">\n",
       "      <th></th>\n",
       "      <th>p-value</th>\n",
       "      <th>RDN-B</th>\n",
       "    </tr>\n",
       "  </thead>\n",
       "  <tbody>\n",
       "    <tr>\n",
       "      <th>0</th>\n",
       "      <td>transferRDN-B Ref</td>\n",
       "      <td>nan</td>\n",
       "    </tr>\n",
       "    <tr>\n",
       "      <th>1</th>\n",
       "      <td>transferRDN-B</td>\n",
       "      <td>nan</td>\n",
       "    </tr>\n",
       "  </tbody>\n",
       "</table>\n",
       "</div>"
      ],
      "text/plain": [
       "             p-value RDN-B\n",
       "0  transferRDN-B Ref   nan\n",
       "1      transferRDN-B   nan"
      ]
     },
     "metadata": {},
     "output_type": "display_data"
    },
    {
     "name": "stdout",
     "output_type": "stream",
     "text": [
      "\n",
      "\n",
      "Scratch: [0. 0. 0. 0.]\n",
      "Transfer: [0. 0. 0. 0.]\n",
      "Transfer & Revision: [0. 0. 0. 0.]\n"
     ]
    },
    {
     "data": {
      "text/markdown": [
       "## F1"
      ],
      "text/plain": [
       "<IPython.core.display.Markdown object>"
      ]
     },
     "metadata": {},
     "output_type": "display_data"
    },
    {
     "name": "stdout",
     "output_type": "stream",
     "text": [
      "T-test for experiment 1\n",
      "Ttest_relResult(statistic=nan, pvalue=nan)\n",
      "Ttest_relResult(statistic=nan, pvalue=nan)\n"
     ]
    },
    {
     "data": {
      "text/html": [
       "<div>\n",
       "<table border=\"1\" class=\"dataframe\">\n",
       "  <thead>\n",
       "    <tr style=\"text-align: right;\">\n",
       "      <th></th>\n",
       "      <th>p-value</th>\n",
       "      <th>RDN-B</th>\n",
       "    </tr>\n",
       "  </thead>\n",
       "  <tbody>\n",
       "    <tr>\n",
       "      <th>0</th>\n",
       "      <td>transferRDN-B Ref</td>\n",
       "      <td>nan</td>\n",
       "    </tr>\n",
       "    <tr>\n",
       "      <th>1</th>\n",
       "      <td>transferRDN-B</td>\n",
       "      <td>nan</td>\n",
       "    </tr>\n",
       "  </tbody>\n",
       "</table>\n",
       "</div>"
      ],
      "text/plain": [
       "             p-value RDN-B\n",
       "0  transferRDN-B Ref   nan\n",
       "1      transferRDN-B   nan"
      ]
     },
     "metadata": {},
     "output_type": "display_data"
    },
    {
     "name": "stdout",
     "output_type": "stream",
     "text": [
      "\n",
      "\n",
      "Scratch: [nan nan nan nan]\n",
      "Transfer: [nan nan nan nan]\n",
      "Transfer & Revision: [nan nan nan nan]\n"
     ]
    },
    {
     "data": {
      "text/markdown": [
       "## Precision"
      ],
      "text/plain": [
       "<IPython.core.display.Markdown object>"
      ]
     },
     "metadata": {},
     "output_type": "display_data"
    },
    {
     "name": "stdout",
     "output_type": "stream",
     "text": [
      "\n",
      "\n",
      "Scratch: [nan nan nan nan]\n",
      "Transfer: [nan nan nan nan]\n",
      "Transfer & Revision: [nan nan nan nan]\n"
     ]
    },
    {
     "data": {
      "text/markdown": [
       "## Learning and Revision time"
      ],
      "text/plain": [
       "<IPython.core.display.Markdown object>"
      ]
     },
     "metadata": {},
     "output_type": "display_data"
    },
    {
     "name": "stdout",
     "output_type": "stream",
     "text": [
      "\n",
      "\n",
      "Scratch: [28.003 67.802 16.043 25.812]\n",
      "Transfer: [12.767 62.002 10.61   8.76 ]\n",
      "Transfer & Revision: [ 30.382 124.247  20.664  18.682]\n"
     ]
    },
    {
     "data": {
      "text/markdown": [
       "## Inference time"
      ],
      "text/plain": [
       "<IPython.core.display.Markdown object>"
      ]
     },
     "metadata": {},
     "output_type": "display_data"
    },
    {
     "name": "stdout",
     "output_type": "stream",
     "text": [
      "\n",
      "\n",
      "Scratch: [1.387 1.485 1.69  1.633]\n",
      "Transfer: [12.767 62.002 10.61   8.76 ]\n",
      "Transfer & Revision: [1.514 1.976 1.552 1.903]\n"
     ]
    },
    {
     "data": {
      "text/markdown": [
       "# Results for 28_twitter_yeast"
      ],
      "text/plain": [
       "<IPython.core.display.Markdown object>"
      ]
     },
     "metadata": {},
     "output_type": "display_data"
    },
    {
     "data": {
      "text/markdown": [
       "## AUC ROC"
      ],
      "text/plain": [
       "<IPython.core.display.Markdown object>"
      ]
     },
     "metadata": {},
     "output_type": "display_data"
    },
    {
     "name": "stdout",
     "output_type": "stream",
     "text": [
      "T-test for experiment 1\n",
      "Ttest_relResult(statistic=nan, pvalue=nan)\n",
      "Ttest_relResult(statistic=nan, pvalue=nan)\n"
     ]
    },
    {
     "data": {
      "text/html": [
       "<div>\n",
       "<table border=\"1\" class=\"dataframe\">\n",
       "  <thead>\n",
       "    <tr style=\"text-align: right;\">\n",
       "      <th></th>\n",
       "      <th>p-value</th>\n",
       "      <th>RDN-B</th>\n",
       "    </tr>\n",
       "  </thead>\n",
       "  <tbody>\n",
       "    <tr>\n",
       "      <th>0</th>\n",
       "      <td>transferRDN-B Ref</td>\n",
       "      <td>nan</td>\n",
       "    </tr>\n",
       "    <tr>\n",
       "      <th>1</th>\n",
       "      <td>transferRDN-B</td>\n",
       "      <td>nan</td>\n",
       "    </tr>\n",
       "  </tbody>\n",
       "</table>\n",
       "</div>"
      ],
      "text/plain": [
       "             p-value RDN-B\n",
       "0  transferRDN-B Ref   nan\n",
       "1      transferRDN-B   nan"
      ]
     },
     "metadata": {},
     "output_type": "display_data"
    },
    {
     "name": "stdout",
     "output_type": "stream",
     "text": [
      "\n",
      "\n",
      "Scratch: [0.5 0.5 0.5 0.5]\n",
      "Transfer: [0.5 0.5 0.5 0.5]\n",
      "Transfer & Revision: [0.5 0.5 0.5 0.5]\n"
     ]
    },
    {
     "data": {
      "text/markdown": [
       "## AUC PR"
      ],
      "text/plain": [
       "<IPython.core.display.Markdown object>"
      ]
     },
     "metadata": {},
     "output_type": "display_data"
    },
    {
     "name": "stdout",
     "output_type": "stream",
     "text": [
      "T-test for experiment 1\n",
      "Ttest_relResult(statistic=nan, pvalue=nan)\n",
      "Ttest_relResult(statistic=nan, pvalue=nan)\n"
     ]
    },
    {
     "data": {
      "text/html": [
       "<div>\n",
       "<table border=\"1\" class=\"dataframe\">\n",
       "  <thead>\n",
       "    <tr style=\"text-align: right;\">\n",
       "      <th></th>\n",
       "      <th>p-value</th>\n",
       "      <th>RDN-B</th>\n",
       "    </tr>\n",
       "  </thead>\n",
       "  <tbody>\n",
       "    <tr>\n",
       "      <th>0</th>\n",
       "      <td>transferRDN-B Ref</td>\n",
       "      <td>nan</td>\n",
       "    </tr>\n",
       "    <tr>\n",
       "      <th>1</th>\n",
       "      <td>transferRDN-B</td>\n",
       "      <td>nan</td>\n",
       "    </tr>\n",
       "  </tbody>\n",
       "</table>\n",
       "</div>"
      ],
      "text/plain": [
       "             p-value RDN-B\n",
       "0  transferRDN-B Ref   nan\n",
       "1      transferRDN-B   nan"
      ]
     },
     "metadata": {},
     "output_type": "display_data"
    },
    {
     "name": "stdout",
     "output_type": "stream",
     "text": [
      "\n",
      "\n",
      "Scratch: [0.5 0.5 0.5 0.5]\n",
      "Transfer: [0.5 0.5 0.5 0.5]\n",
      "Transfer & Revision: [0.5 0.5 0.5 0.5]\n"
     ]
    },
    {
     "data": {
      "text/markdown": [
       "## CLL"
      ],
      "text/plain": [
       "<IPython.core.display.Markdown object>"
      ]
     },
     "metadata": {},
     "output_type": "display_data"
    },
    {
     "name": "stdout",
     "output_type": "stream",
     "text": [
      "T-test for experiment 1\n",
      "Ttest_relResult(statistic=-1.6685740387587018, pvalue=0.19379374913279981)\n",
      "Ttest_relResult(statistic=-1.713934954035557, pvalue=0.18505444349487804)\n"
     ]
    },
    {
     "data": {
      "text/html": [
       "<div>\n",
       "<table border=\"1\" class=\"dataframe\">\n",
       "  <thead>\n",
       "    <tr style=\"text-align: right;\">\n",
       "      <th></th>\n",
       "      <th>p-value</th>\n",
       "      <th>RDN-B</th>\n",
       "    </tr>\n",
       "  </thead>\n",
       "  <tbody>\n",
       "    <tr>\n",
       "      <th>0</th>\n",
       "      <td>transferRDN-B Ref</td>\n",
       "      <td>0.194</td>\n",
       "    </tr>\n",
       "    <tr>\n",
       "      <th>1</th>\n",
       "      <td>transferRDN-B</td>\n",
       "      <td>0.185</td>\n",
       "    </tr>\n",
       "  </tbody>\n",
       "</table>\n",
       "</div>"
      ],
      "text/plain": [
       "             p-value  RDN-B\n",
       "0  transferRDN-B Ref  0.194\n",
       "1      transferRDN-B  0.185"
      ]
     },
     "metadata": {},
     "output_type": "display_data"
    },
    {
     "name": "stdout",
     "output_type": "stream",
     "text": [
      "\n",
      "\n",
      "Scratch: [-0.695026 -0.695026 -0.695026 -0.695026]\n",
      "Transfer: [-0.695026 -0.695026 -0.695957 -0.695783]\n",
      "Transfer & Revision: [-0.695026 -0.695026 -0.695257 -0.695181]\n"
     ]
    },
    {
     "data": {
      "text/markdown": [
       "## Recall"
      ],
      "text/plain": [
       "<IPython.core.display.Markdown object>"
      ]
     },
     "metadata": {},
     "output_type": "display_data"
    },
    {
     "name": "stdout",
     "output_type": "stream",
     "text": [
      "T-test for experiment 1\n",
      "Ttest_relResult(statistic=nan, pvalue=nan)\n",
      "Ttest_relResult(statistic=nan, pvalue=nan)\n"
     ]
    },
    {
     "data": {
      "text/html": [
       "<div>\n",
       "<table border=\"1\" class=\"dataframe\">\n",
       "  <thead>\n",
       "    <tr style=\"text-align: right;\">\n",
       "      <th></th>\n",
       "      <th>p-value</th>\n",
       "      <th>RDN-B</th>\n",
       "    </tr>\n",
       "  </thead>\n",
       "  <tbody>\n",
       "    <tr>\n",
       "      <th>0</th>\n",
       "      <td>transferRDN-B Ref</td>\n",
       "      <td>nan</td>\n",
       "    </tr>\n",
       "    <tr>\n",
       "      <th>1</th>\n",
       "      <td>transferRDN-B</td>\n",
       "      <td>nan</td>\n",
       "    </tr>\n",
       "  </tbody>\n",
       "</table>\n",
       "</div>"
      ],
      "text/plain": [
       "             p-value RDN-B\n",
       "0  transferRDN-B Ref   nan\n",
       "1      transferRDN-B   nan"
      ]
     },
     "metadata": {},
     "output_type": "display_data"
    },
    {
     "name": "stdout",
     "output_type": "stream",
     "text": [
      "\n",
      "\n",
      "Scratch: [0. 0. 0. 0.]\n",
      "Transfer: [0. 0. 0. 0.]\n",
      "Transfer & Revision: [0. 0. 0. 0.]\n"
     ]
    },
    {
     "data": {
      "text/markdown": [
       "## F1"
      ],
      "text/plain": [
       "<IPython.core.display.Markdown object>"
      ]
     },
     "metadata": {},
     "output_type": "display_data"
    },
    {
     "name": "stdout",
     "output_type": "stream",
     "text": [
      "T-test for experiment 1\n",
      "Ttest_relResult(statistic=nan, pvalue=nan)\n",
      "Ttest_relResult(statistic=nan, pvalue=nan)\n"
     ]
    },
    {
     "data": {
      "text/html": [
       "<div>\n",
       "<table border=\"1\" class=\"dataframe\">\n",
       "  <thead>\n",
       "    <tr style=\"text-align: right;\">\n",
       "      <th></th>\n",
       "      <th>p-value</th>\n",
       "      <th>RDN-B</th>\n",
       "    </tr>\n",
       "  </thead>\n",
       "  <tbody>\n",
       "    <tr>\n",
       "      <th>0</th>\n",
       "      <td>transferRDN-B Ref</td>\n",
       "      <td>nan</td>\n",
       "    </tr>\n",
       "    <tr>\n",
       "      <th>1</th>\n",
       "      <td>transferRDN-B</td>\n",
       "      <td>nan</td>\n",
       "    </tr>\n",
       "  </tbody>\n",
       "</table>\n",
       "</div>"
      ],
      "text/plain": [
       "             p-value RDN-B\n",
       "0  transferRDN-B Ref   nan\n",
       "1      transferRDN-B   nan"
      ]
     },
     "metadata": {},
     "output_type": "display_data"
    },
    {
     "name": "stdout",
     "output_type": "stream",
     "text": [
      "\n",
      "\n",
      "Scratch: [nan nan nan nan]\n",
      "Transfer: [nan nan nan nan]\n",
      "Transfer & Revision: [nan nan nan nan]\n"
     ]
    },
    {
     "data": {
      "text/markdown": [
       "## Precision"
      ],
      "text/plain": [
       "<IPython.core.display.Markdown object>"
      ]
     },
     "metadata": {},
     "output_type": "display_data"
    },
    {
     "name": "stdout",
     "output_type": "stream",
     "text": [
      "\n",
      "\n",
      "Scratch: [nan nan nan nan]\n",
      "Transfer: [nan nan nan nan]\n",
      "Transfer & Revision: [nan nan nan nan]\n"
     ]
    },
    {
     "data": {
      "text/markdown": [
       "## Learning and Revision time"
      ],
      "text/plain": [
       "<IPython.core.display.Markdown object>"
      ]
     },
     "metadata": {},
     "output_type": "display_data"
    },
    {
     "name": "stdout",
     "output_type": "stream",
     "text": [
      "\n",
      "\n",
      "Scratch: [13.982 13.162  9.728 12.337]\n",
      "Transfer: [5.964 8.301 6.139 5.204]\n",
      "Transfer & Revision: [13.078 17.368 12.524 12.703]\n"
     ]
    },
    {
     "data": {
      "text/markdown": [
       "## Inference time"
      ],
      "text/plain": [
       "<IPython.core.display.Markdown object>"
      ]
     },
     "metadata": {},
     "output_type": "display_data"
    },
    {
     "name": "stdout",
     "output_type": "stream",
     "text": [
      "\n",
      "\n",
      "Scratch: [1.523 1.292 1.28  1.004]\n",
      "Transfer: [5.964 8.301 6.139 5.204]\n",
      "Transfer & Revision: [1.304 1.179 1.527 1.71 ]\n"
     ]
    }
   ],
   "source": [
    "for j in range(len(experiments)):\n",
    "    dataset = experiments[j]['id'] + '_' + experiments[j]['source'] + '_' + experiments[j]['target']\n",
    "    display(Markdown('# Results for ' + dataset))\n",
    "    table = []\n",
    "    for metric in ['AUC ROC', 'AUC PR', 'CLL', 'Recall', 'F1', 'Precision', 'Learning and Revision time', 'Inference time']:\n",
    "    #for metric in ['AUC ROC', 'AUC PR']:\n",
    "        if dataset in data['results']: \n",
    "            #for metric in ['AUC ROC', 'AUC PR']:\n",
    "            display(Markdown('## ' + metric))\n",
    "            if metric == 'Precision':\n",
    "                scratch = np.array([item['scratch']['Precision'][0] for sublist in data['results'][str(dataset)] for item in sublist])\n",
    "                parameter = np.array([item['transfer']['Parameter Learning results']['Precision'][0] for sublist in data['results'][str(dataset)] for item in sublist])\n",
    "                transfer = np.array([item['transfer']['Precision'][0] for sublist in data['results'][str(dataset)] for item in sublist])\n",
    "            elif metric == 'Learning and Revision time':\n",
    "                scratch = np.array([item['scratch']['Learning time'] for sublist in data['results'][str(dataset)] for item in sublist])\n",
    "                parameter = np.array([item['transfer']['Parameter Learning results']['Learning time'] for sublist in data['results'][str(dataset)] for item in sublist])\n",
    "                transfer = np.array([item['transfer']['Learning time'] for sublist in data['results'][str(dataset)] for item in sublist])\n",
    "            elif metric == 'Inference time':\n",
    "                scratch = np.array([item['scratch']['Inference time'] for sublist in data['results'][str(dataset)] for item in sublist])\n",
    "                parameter = np.array([item['transfer']['Parameter Learning results']['Learning time'] for sublist in data['results'][str(dataset)] for item in sublist])\n",
    "                transfer = np.array([item['transfer']['Inference time'] for sublist in data['results'][str(dataset)] for item in sublist])\n",
    "            else:\n",
    "                scratch = np.array([item['scratch'][metric] for sublist in data['results'][str(dataset)] for item in sublist])\n",
    "                parameter = np.array([item['transfer']['Parameter Learning results'][metric] for sublist in data['results'][str(dataset)] for item in sublist])\n",
    "                transfer = np.array([item['transfer'][metric] for sublist in data['results'][str(dataset)] for item in sublist])\n",
    "                for m in range(len(data['results'][str(dataset)])):\n",
    "                    print('T-test for experiment %s' % (m+1))\n",
    "                    pvalue = stats.ttest_rel([item['transfer'][metric] for item in data['results'][str(dataset)][m]],[item['scratch'][metric] for item in data['results'][str(dataset)][m]])\n",
    "                    print(pvalue)\n",
    "                    pvalue_table = []\n",
    "                    pvalue_table.append(['transferRDN-B Ref', '%.3f' % (pvalue[1])])\n",
    "                    pvalue = stats.ttest_rel([item['transfer']['Parameter Learning results'][metric] for item in data['results'][str(dataset)][m]],[item['scratch'][metric] for item in data['results'][str(dataset)][m]])\n",
    "                    print(pvalue)\n",
    "                    pvalue_table.append(['transferRDN-B', '%.3f' % (pvalue[1])])\n",
    "                    display(pd.DataFrame(pvalue_table, columns=['p-value', 'RDN-B']))\n",
    "            print('\\n')\n",
    "            print('Scratch: %s' % scratch)\n",
    "            print('Transfer: %s' % parameter)\n",
    "            print('Transfer & Revision: %s' % transfer)"
   ]
  },
  {
   "cell_type": "code",
   "execution_count": 17,
   "metadata": {
    "collapsed": false
   },
   "outputs": [],
   "source": [
    "def paired_ttest_kfold_cv(estimator1, estimator2):\n",
    "    score_diff = []\n",
    "    cv = len(estimator1)\n",
    "    for i in range(len(estimator1)):\n",
    "        score_diff.append(estimator1[i] - estimator2[i])\n",
    "\n",
    "    avg_diff = np.mean(score_diff)\n",
    "\n",
    "    numerator = avg_diff * np.sqrt(cv)\n",
    "    denominator = np.sqrt(sum([(diff - avg_diff)**2 for diff in score_diff])\n",
    "                          / (cv - 1))\n",
    "    t_stat = numerator / denominator\n",
    "\n",
    "    pvalue = stats.t.sf(np.abs(t_stat), cv - 1)*2.\n",
    "    return float(t_stat), float(pvalue)"
   ]
  },
  {
   "cell_type": "code",
   "execution_count": 18,
   "metadata": {
    "collapsed": false
   },
   "outputs": [
    {
     "data": {
      "text/plain": [
       "(26.497231209975535, 0.00011793614005630308)"
      ]
     },
     "execution_count": 18,
     "metadata": {},
     "output_type": "execute_result"
    }
   ],
   "source": [
    "paired_ttest_kfold_cv([0.693686, 0.694682, 0.68722,  0.660296],\n",
    "[0.636807, 0.636639, 0.634388, 0.611234])"
   ]
  },
  {
   "cell_type": "code",
   "execution_count": null,
   "metadata": {
    "collapsed": true
   },
   "outputs": [],
   "source": []
  }
 ],
 "metadata": {
  "anaconda-cloud": {},
  "kernelspec": {
   "display_name": "Python [conda env:anaconda3]",
   "language": "python",
   "name": "conda-env-anaconda3-py"
  },
  "language_info": {
   "codemirror_mode": {
    "name": "ipython",
    "version": 3
   },
   "file_extension": ".py",
   "mimetype": "text/x-python",
   "name": "python",
   "nbconvert_exporter": "python",
   "pygments_lexer": "ipython3",
   "version": "3.5.2"
  }
 },
 "nbformat": 4,
 "nbformat_minor": 1
}
