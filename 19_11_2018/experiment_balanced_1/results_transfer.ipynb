{
 "cells": [
  {
   "cell_type": "code",
   "execution_count": 3,
   "metadata": {
    "collapsed": false
   },
   "outputs": [],
   "source": [
    "import matplotlib.pyplot as plt\n",
    "from IPython.display import display, Markdown, Latex\n",
    "import numpy as np\n",
    "import json\n",
    "import pandas as pd\n",
    "from scipy import stats\n",
    "\n",
    "with open('transfer_experiment.json', 'r') as fp:\n",
    "    data = json.load(fp)"
   ]
  },
  {
   "cell_type": "code",
   "execution_count": 4,
   "metadata": {
    "collapsed": false,
    "scrolled": false
   },
   "outputs": [
    {
     "data": {
      "text/markdown": [
       "# Results for AUC ROC"
      ],
      "text/plain": [
       "<IPython.core.display.Markdown object>"
      ]
     },
     "metadata": {},
     "output_type": "display_data"
    },
    {
     "data": {
      "text/html": [
       "<div>\n",
       "<table border=\"1\" class=\"dataframe\">\n",
       "  <thead>\n",
       "    <tr style=\"text-align: right;\">\n",
       "      <th></th>\n",
       "      <th>Experiment</th>\n",
       "      <th>Transfer Learning</th>\n",
       "      <th>Transfer Learning with Revision Theory</th>\n",
       "      <th>Learning from scratch</th>\n",
       "    </tr>\n",
       "  </thead>\n",
       "  <tbody>\n",
       "    <tr>\n",
       "      <th>0</th>\n",
       "      <td>1_imdb_uwcse</td>\n",
       "      <td>0.956 +/- 0.007</td>\n",
       "      <td>0.948 +/- 0.023</td>\n",
       "      <td>0.934 +/- 0.072</td>\n",
       "    </tr>\n",
       "    <tr>\n",
       "      <th>1</th>\n",
       "      <td>2_uwcse_imdb</td>\n",
       "      <td>1.000 +/- 0.000</td>\n",
       "      <td>1.000 +/- 0.000</td>\n",
       "      <td>0.981 +/- 0.077</td>\n",
       "    </tr>\n",
       "    <tr>\n",
       "      <th>2</th>\n",
       "      <td>3_imdb_uwcse</td>\n",
       "      <td>0.625 +/- 0.130</td>\n",
       "      <td>0.624 +/- 0.126</td>\n",
       "      <td>0.604 +/- 0.118</td>\n",
       "    </tr>\n",
       "    <tr>\n",
       "      <th>3</th>\n",
       "      <td>4_uwcse_imdb</td>\n",
       "      <td>0.497 +/- 0.003</td>\n",
       "      <td>0.495 +/- 0.014</td>\n",
       "      <td>0.490 +/- 0.014</td>\n",
       "    </tr>\n",
       "    <tr>\n",
       "      <th>4</th>\n",
       "      <td>5_imdb_uwcse</td>\n",
       "      <td>0.500 +/- 0.000</td>\n",
       "      <td>0.499 +/- 0.014</td>\n",
       "      <td>0.501 +/- 0.025</td>\n",
       "    </tr>\n",
       "    <tr>\n",
       "      <th>5</th>\n",
       "      <td>6_uwcse_imdb</td>\n",
       "      <td>0.907 +/- 0.063</td>\n",
       "      <td>0.907 +/- 0.063</td>\n",
       "      <td>0.827 +/- 0.333</td>\n",
       "    </tr>\n",
       "    <tr>\n",
       "      <th>6</th>\n",
       "      <td>7_imdb_cora</td>\n",
       "      <td>0.525 +/- 0.089</td>\n",
       "      <td>0.613 +/- 0.248</td>\n",
       "      <td>0.678 +/- 0.291</td>\n",
       "    </tr>\n",
       "    <tr>\n",
       "      <th>7</th>\n",
       "      <td>8_imdb_cora</td>\n",
       "      <td>0.655 +/- 0.309</td>\n",
       "      <td>0.928 +/- 0.031</td>\n",
       "      <td>0.936 +/- 0.007</td>\n",
       "    </tr>\n",
       "    <tr>\n",
       "      <th>8</th>\n",
       "      <td>9_imdb_cora</td>\n",
       "      <td>0.675 +/- 0.063</td>\n",
       "      <td>0.659 +/- 0.198</td>\n",
       "      <td>0.533 +/- 0.241</td>\n",
       "    </tr>\n",
       "    <tr>\n",
       "      <th>9</th>\n",
       "      <td>10_imdb_cora</td>\n",
       "      <td>0.506 +/- 0.004</td>\n",
       "      <td>0.688 +/- 0.176</td>\n",
       "      <td>0.763 +/- 0.139</td>\n",
       "    </tr>\n",
       "    <tr>\n",
       "      <th>10</th>\n",
       "      <td>11_uwcse_cora</td>\n",
       "      <td>0.525 +/- 0.089</td>\n",
       "      <td>0.610 +/- 0.233</td>\n",
       "      <td>0.676 +/- 0.292</td>\n",
       "    </tr>\n",
       "    <tr>\n",
       "      <th>11</th>\n",
       "      <td>12_uwcse_cora</td>\n",
       "      <td>0.934 +/- 0.009</td>\n",
       "      <td>0.946 +/- 0.020</td>\n",
       "      <td>0.936 +/- 0.007</td>\n",
       "    </tr>\n",
       "    <tr>\n",
       "      <th>12</th>\n",
       "      <td>13_uwcse_cora</td>\n",
       "      <td>0.675 +/- 0.063</td>\n",
       "      <td>0.639 +/- 0.193</td>\n",
       "      <td>0.525 +/- 0.128</td>\n",
       "    </tr>\n",
       "    <tr>\n",
       "      <th>13</th>\n",
       "      <td>14_uwcse_cora</td>\n",
       "      <td>0.506 +/- 0.004</td>\n",
       "      <td>0.765 +/- 0.137</td>\n",
       "      <td>0.768 +/- 0.160</td>\n",
       "    </tr>\n",
       "    <tr>\n",
       "      <th>14</th>\n",
       "      <td>15_yeast_twitter</td>\n",
       "      <td>0.693 +/- 0.018</td>\n",
       "      <td>0.745 +/- 0.025</td>\n",
       "      <td>0.763 +/- 0.062</td>\n",
       "    </tr>\n",
       "    <tr>\n",
       "      <th>15</th>\n",
       "      <td>16_yeast_twitter</td>\n",
       "      <td>0.717 +/- 0.031</td>\n",
       "      <td>0.710 +/- 0.034</td>\n",
       "      <td>0.710 +/- 0.035</td>\n",
       "    </tr>\n",
       "    <tr>\n",
       "      <th>16</th>\n",
       "      <td>17_yeast_twitter</td>\n",
       "      <td>0.500 +/- 0.000</td>\n",
       "      <td>0.500 +/- 0.000</td>\n",
       "      <td>0.500 +/- 0.000</td>\n",
       "    </tr>\n",
       "    <tr>\n",
       "      <th>17</th>\n",
       "      <td>18_yeast_twitter</td>\n",
       "      <td>0.500 +/- 0.000</td>\n",
       "      <td>0.500 +/- 0.000</td>\n",
       "      <td>0.500 +/- 0.000</td>\n",
       "    </tr>\n",
       "    <tr>\n",
       "      <th>18</th>\n",
       "      <td>19_yeast_twitter</td>\n",
       "      <td>0.500 +/- 0.000</td>\n",
       "      <td>0.500 +/- 0.000</td>\n",
       "      <td>0.500 +/- 0.000</td>\n",
       "    </tr>\n",
       "    <tr>\n",
       "      <th>19</th>\n",
       "      <td>20_yeast_twitter</td>\n",
       "      <td>0.500 +/- 0.000</td>\n",
       "      <td>0.500 +/- 0.000</td>\n",
       "      <td>0.500 +/- 0.000</td>\n",
       "    </tr>\n",
       "    <tr>\n",
       "      <th>20</th>\n",
       "      <td>21_yeast_twitter</td>\n",
       "      <td>0.500 +/- 0.000</td>\n",
       "      <td>0.500 +/- 0.000</td>\n",
       "      <td>0.500 +/- 0.000</td>\n",
       "    </tr>\n",
       "    <tr>\n",
       "      <th>21</th>\n",
       "      <td>22_twitter_yeast</td>\n",
       "      <td>0.878 +/- 0.023</td>\n",
       "      <td>0.883 +/- 0.044</td>\n",
       "      <td>0.854 +/- 0.144</td>\n",
       "    </tr>\n",
       "    <tr>\n",
       "      <th>22</th>\n",
       "      <td>23_twitter_yeast</td>\n",
       "      <td>0.645 +/- 0.029</td>\n",
       "      <td>0.649 +/- 0.024</td>\n",
       "      <td>0.658 +/- 0.046</td>\n",
       "    </tr>\n",
       "    <tr>\n",
       "      <th>23</th>\n",
       "      <td>24_twitter_yeast</td>\n",
       "      <td>0.500 +/- 0.000</td>\n",
       "      <td>0.500 +/- 0.000</td>\n",
       "      <td>0.500 +/- 0.000</td>\n",
       "    </tr>\n",
       "    <tr>\n",
       "      <th>24</th>\n",
       "      <td>25_twitter_yeast</td>\n",
       "      <td>0.500 +/- 0.000</td>\n",
       "      <td>0.500 +/- 0.000</td>\n",
       "      <td>0.500 +/- 0.000</td>\n",
       "    </tr>\n",
       "    <tr>\n",
       "      <th>25</th>\n",
       "      <td>26_twitter_yeast</td>\n",
       "      <td>0.500 +/- 0.000</td>\n",
       "      <td>0.500 +/- 0.000</td>\n",
       "      <td>0.500 +/- 0.000</td>\n",
       "    </tr>\n",
       "    <tr>\n",
       "      <th>26</th>\n",
       "      <td>27_twitter_yeast</td>\n",
       "      <td>0.500 +/- 0.000</td>\n",
       "      <td>0.500 +/- 0.000</td>\n",
       "      <td>0.500 +/- 0.000</td>\n",
       "    </tr>\n",
       "    <tr>\n",
       "      <th>27</th>\n",
       "      <td>28_twitter_yeast</td>\n",
       "      <td>0.500 +/- 0.000</td>\n",
       "      <td>0.500 +/- 0.000</td>\n",
       "      <td>0.500 +/- 0.000</td>\n",
       "    </tr>\n",
       "    <tr>\n",
       "      <th>28</th>\n",
       "      <td>29_nell_sports_nell_finances</td>\n",
       "      <td>0.596 +/- 0.032</td>\n",
       "      <td>0.606 +/- 0.017</td>\n",
       "      <td>0.604 +/- 0.039</td>\n",
       "    </tr>\n",
       "    <tr>\n",
       "      <th>29</th>\n",
       "      <td>30_nell_sports_nell_finances</td>\n",
       "      <td>0.603 +/- 0.015</td>\n",
       "      <td>0.621 +/- 0.020</td>\n",
       "      <td>0.624 +/- 0.024</td>\n",
       "    </tr>\n",
       "    <tr>\n",
       "      <th>30</th>\n",
       "      <td>31_nell_sports_nell_finances</td>\n",
       "      <td>0.545 +/- 0.010</td>\n",
       "      <td>0.562 +/- 0.043</td>\n",
       "      <td>0.582 +/- 0.032</td>\n",
       "    </tr>\n",
       "    <tr>\n",
       "      <th>31</th>\n",
       "      <td>32_nell_sports_nell_finances</td>\n",
       "      <td>0.594 +/- 0.065</td>\n",
       "      <td>0.829 +/- 0.032</td>\n",
       "      <td>0.860 +/- 0.007</td>\n",
       "    </tr>\n",
       "    <tr>\n",
       "      <th>32</th>\n",
       "      <td>33_nell_sports_nell_finances</td>\n",
       "      <td>0.507 +/- 0.017</td>\n",
       "      <td>0.512 +/- 0.015</td>\n",
       "      <td>0.518 +/- 0.024</td>\n",
       "    </tr>\n",
       "    <tr>\n",
       "      <th>33</th>\n",
       "      <td>34_nell_sports_nell_finances</td>\n",
       "      <td>0.526 +/- 0.180</td>\n",
       "      <td>0.625 +/- 0.079</td>\n",
       "      <td>0.672 +/- 0.160</td>\n",
       "    </tr>\n",
       "    <tr>\n",
       "      <th>34</th>\n",
       "      <td>35_nell_sports_nell_finances</td>\n",
       "      <td>0.732 +/- 0.037</td>\n",
       "      <td>0.726 +/- 0.027</td>\n",
       "      <td>0.659 +/- 0.173</td>\n",
       "    </tr>\n",
       "    <tr>\n",
       "      <th>35</th>\n",
       "      <td>36_nell_sports_nell_finances</td>\n",
       "      <td>0.524 +/- 0.015</td>\n",
       "      <td>0.533 +/- 0.021</td>\n",
       "      <td>0.509 +/- 0.007</td>\n",
       "    </tr>\n",
       "    <tr>\n",
       "      <th>36</th>\n",
       "      <td>37_nell_sports_nell_finances</td>\n",
       "      <td>0.818 +/- 0.015</td>\n",
       "      <td>0.843 +/- 0.045</td>\n",
       "      <td>0.703 +/- 0.119</td>\n",
       "    </tr>\n",
       "    <tr>\n",
       "      <th>37</th>\n",
       "      <td>38_nell_finances_nell_sports</td>\n",
       "      <td>0.776 +/- 0.032</td>\n",
       "      <td>0.899 +/- 0.020</td>\n",
       "      <td>0.906 +/- 0.029</td>\n",
       "    </tr>\n",
       "    <tr>\n",
       "      <th>38</th>\n",
       "      <td>39_nell_finances_nell_sports</td>\n",
       "      <td>0.819 +/- 0.043</td>\n",
       "      <td>0.920 +/- 0.015</td>\n",
       "      <td>0.925 +/- 0.012</td>\n",
       "    </tr>\n",
       "    <tr>\n",
       "      <th>39</th>\n",
       "      <td>40_nell_finances_nell_sports</td>\n",
       "      <td>0.879 +/- 0.024</td>\n",
       "      <td>0.925 +/- 0.008</td>\n",
       "      <td>0.928 +/- 0.010</td>\n",
       "    </tr>\n",
       "    <tr>\n",
       "      <th>40</th>\n",
       "      <td>41_nell_finances_nell_sports</td>\n",
       "      <td>0.716 +/- 0.037</td>\n",
       "      <td>0.921 +/- 0.009</td>\n",
       "      <td>0.928 +/- 0.007</td>\n",
       "    </tr>\n",
       "    <tr>\n",
       "      <th>41</th>\n",
       "      <td>42_nell_finances_nell_sports</td>\n",
       "      <td>0.500 +/- 0.000</td>\n",
       "      <td>0.963 +/- 0.005</td>\n",
       "      <td>0.974 +/- 0.004</td>\n",
       "    </tr>\n",
       "    <tr>\n",
       "      <th>42</th>\n",
       "      <td>43_nell_finances_nell_sports</td>\n",
       "      <td>0.972 +/- 0.002</td>\n",
       "      <td>0.974 +/- 0.002</td>\n",
       "      <td>0.974 +/- 0.002</td>\n",
       "    </tr>\n",
       "    <tr>\n",
       "      <th>43</th>\n",
       "      <td>44_nell_finances_nell_sports</td>\n",
       "      <td>0.741 +/- 0.012</td>\n",
       "      <td>0.839 +/- 0.013</td>\n",
       "      <td>0.845 +/- 0.004</td>\n",
       "    </tr>\n",
       "    <tr>\n",
       "      <th>44</th>\n",
       "      <td>45_nell_finances_nell_sports</td>\n",
       "      <td>0.725 +/- 0.024</td>\n",
       "      <td>0.842 +/- 0.006</td>\n",
       "      <td>0.841 +/- 0.005</td>\n",
       "    </tr>\n",
       "    <tr>\n",
       "      <th>45</th>\n",
       "      <td>46_nell_finances_nell_sports</td>\n",
       "      <td>0.500 +/- 0.000</td>\n",
       "      <td>0.866 +/- 0.020</td>\n",
       "      <td>0.933 +/- 0.016</td>\n",
       "    </tr>\n",
       "  </tbody>\n",
       "</table>\n",
       "</div>"
      ],
      "text/plain": [
       "                      Experiment Transfer Learning  \\\n",
       "0                   1_imdb_uwcse   0.956 +/- 0.007   \n",
       "1                   2_uwcse_imdb   1.000 +/- 0.000   \n",
       "2                   3_imdb_uwcse   0.625 +/- 0.130   \n",
       "3                   4_uwcse_imdb   0.497 +/- 0.003   \n",
       "4                   5_imdb_uwcse   0.500 +/- 0.000   \n",
       "5                   6_uwcse_imdb   0.907 +/- 0.063   \n",
       "6                    7_imdb_cora   0.525 +/- 0.089   \n",
       "7                    8_imdb_cora   0.655 +/- 0.309   \n",
       "8                    9_imdb_cora   0.675 +/- 0.063   \n",
       "9                   10_imdb_cora   0.506 +/- 0.004   \n",
       "10                 11_uwcse_cora   0.525 +/- 0.089   \n",
       "11                 12_uwcse_cora   0.934 +/- 0.009   \n",
       "12                 13_uwcse_cora   0.675 +/- 0.063   \n",
       "13                 14_uwcse_cora   0.506 +/- 0.004   \n",
       "14              15_yeast_twitter   0.693 +/- 0.018   \n",
       "15              16_yeast_twitter   0.717 +/- 0.031   \n",
       "16              17_yeast_twitter   0.500 +/- 0.000   \n",
       "17              18_yeast_twitter   0.500 +/- 0.000   \n",
       "18              19_yeast_twitter   0.500 +/- 0.000   \n",
       "19              20_yeast_twitter   0.500 +/- 0.000   \n",
       "20              21_yeast_twitter   0.500 +/- 0.000   \n",
       "21              22_twitter_yeast   0.878 +/- 0.023   \n",
       "22              23_twitter_yeast   0.645 +/- 0.029   \n",
       "23              24_twitter_yeast   0.500 +/- 0.000   \n",
       "24              25_twitter_yeast   0.500 +/- 0.000   \n",
       "25              26_twitter_yeast   0.500 +/- 0.000   \n",
       "26              27_twitter_yeast   0.500 +/- 0.000   \n",
       "27              28_twitter_yeast   0.500 +/- 0.000   \n",
       "28  29_nell_sports_nell_finances   0.596 +/- 0.032   \n",
       "29  30_nell_sports_nell_finances   0.603 +/- 0.015   \n",
       "30  31_nell_sports_nell_finances   0.545 +/- 0.010   \n",
       "31  32_nell_sports_nell_finances   0.594 +/- 0.065   \n",
       "32  33_nell_sports_nell_finances   0.507 +/- 0.017   \n",
       "33  34_nell_sports_nell_finances   0.526 +/- 0.180   \n",
       "34  35_nell_sports_nell_finances   0.732 +/- 0.037   \n",
       "35  36_nell_sports_nell_finances   0.524 +/- 0.015   \n",
       "36  37_nell_sports_nell_finances   0.818 +/- 0.015   \n",
       "37  38_nell_finances_nell_sports   0.776 +/- 0.032   \n",
       "38  39_nell_finances_nell_sports   0.819 +/- 0.043   \n",
       "39  40_nell_finances_nell_sports   0.879 +/- 0.024   \n",
       "40  41_nell_finances_nell_sports   0.716 +/- 0.037   \n",
       "41  42_nell_finances_nell_sports   0.500 +/- 0.000   \n",
       "42  43_nell_finances_nell_sports   0.972 +/- 0.002   \n",
       "43  44_nell_finances_nell_sports   0.741 +/- 0.012   \n",
       "44  45_nell_finances_nell_sports   0.725 +/- 0.024   \n",
       "45  46_nell_finances_nell_sports   0.500 +/- 0.000   \n",
       "\n",
       "   Transfer Learning with Revision Theory Learning from scratch  \n",
       "0                         0.948 +/- 0.023       0.934 +/- 0.072  \n",
       "1                         1.000 +/- 0.000       0.981 +/- 0.077  \n",
       "2                         0.624 +/- 0.126       0.604 +/- 0.118  \n",
       "3                         0.495 +/- 0.014       0.490 +/- 0.014  \n",
       "4                         0.499 +/- 0.014       0.501 +/- 0.025  \n",
       "5                         0.907 +/- 0.063       0.827 +/- 0.333  \n",
       "6                         0.613 +/- 0.248       0.678 +/- 0.291  \n",
       "7                         0.928 +/- 0.031       0.936 +/- 0.007  \n",
       "8                         0.659 +/- 0.198       0.533 +/- 0.241  \n",
       "9                         0.688 +/- 0.176       0.763 +/- 0.139  \n",
       "10                        0.610 +/- 0.233       0.676 +/- 0.292  \n",
       "11                        0.946 +/- 0.020       0.936 +/- 0.007  \n",
       "12                        0.639 +/- 0.193       0.525 +/- 0.128  \n",
       "13                        0.765 +/- 0.137       0.768 +/- 0.160  \n",
       "14                        0.745 +/- 0.025       0.763 +/- 0.062  \n",
       "15                        0.710 +/- 0.034       0.710 +/- 0.035  \n",
       "16                        0.500 +/- 0.000       0.500 +/- 0.000  \n",
       "17                        0.500 +/- 0.000       0.500 +/- 0.000  \n",
       "18                        0.500 +/- 0.000       0.500 +/- 0.000  \n",
       "19                        0.500 +/- 0.000       0.500 +/- 0.000  \n",
       "20                        0.500 +/- 0.000       0.500 +/- 0.000  \n",
       "21                        0.883 +/- 0.044       0.854 +/- 0.144  \n",
       "22                        0.649 +/- 0.024       0.658 +/- 0.046  \n",
       "23                        0.500 +/- 0.000       0.500 +/- 0.000  \n",
       "24                        0.500 +/- 0.000       0.500 +/- 0.000  \n",
       "25                        0.500 +/- 0.000       0.500 +/- 0.000  \n",
       "26                        0.500 +/- 0.000       0.500 +/- 0.000  \n",
       "27                        0.500 +/- 0.000       0.500 +/- 0.000  \n",
       "28                        0.606 +/- 0.017       0.604 +/- 0.039  \n",
       "29                        0.621 +/- 0.020       0.624 +/- 0.024  \n",
       "30                        0.562 +/- 0.043       0.582 +/- 0.032  \n",
       "31                        0.829 +/- 0.032       0.860 +/- 0.007  \n",
       "32                        0.512 +/- 0.015       0.518 +/- 0.024  \n",
       "33                        0.625 +/- 0.079       0.672 +/- 0.160  \n",
       "34                        0.726 +/- 0.027       0.659 +/- 0.173  \n",
       "35                        0.533 +/- 0.021       0.509 +/- 0.007  \n",
       "36                        0.843 +/- 0.045       0.703 +/- 0.119  \n",
       "37                        0.899 +/- 0.020       0.906 +/- 0.029  \n",
       "38                        0.920 +/- 0.015       0.925 +/- 0.012  \n",
       "39                        0.925 +/- 0.008       0.928 +/- 0.010  \n",
       "40                        0.921 +/- 0.009       0.928 +/- 0.007  \n",
       "41                        0.963 +/- 0.005       0.974 +/- 0.004  \n",
       "42                        0.974 +/- 0.002       0.974 +/- 0.002  \n",
       "43                        0.839 +/- 0.013       0.845 +/- 0.004  \n",
       "44                        0.842 +/- 0.006       0.841 +/- 0.005  \n",
       "45                        0.866 +/- 0.020       0.933 +/- 0.016  "
      ]
     },
     "metadata": {},
     "output_type": "display_data"
    },
    {
     "data": {
      "text/markdown": [
       "# Results for AUC PR"
      ],
      "text/plain": [
       "<IPython.core.display.Markdown object>"
      ]
     },
     "metadata": {},
     "output_type": "display_data"
    },
    {
     "data": {
      "text/html": [
       "<div>\n",
       "<table border=\"1\" class=\"dataframe\">\n",
       "  <thead>\n",
       "    <tr style=\"text-align: right;\">\n",
       "      <th></th>\n",
       "      <th>Experiment</th>\n",
       "      <th>Transfer Learning</th>\n",
       "      <th>Transfer Learning with Revision Theory</th>\n",
       "      <th>Learning from scratch</th>\n",
       "    </tr>\n",
       "  </thead>\n",
       "  <tbody>\n",
       "    <tr>\n",
       "      <th>0</th>\n",
       "      <td>1_imdb_uwcse</td>\n",
       "      <td>0.939 +/- 0.015</td>\n",
       "      <td>0.911 +/- 0.042</td>\n",
       "      <td>0.888 +/- 0.121</td>\n",
       "    </tr>\n",
       "    <tr>\n",
       "      <th>1</th>\n",
       "      <td>2_uwcse_imdb</td>\n",
       "      <td>1.000 +/- 0.000</td>\n",
       "      <td>1.000 +/- 0.000</td>\n",
       "      <td>0.968 +/- 0.130</td>\n",
       "    </tr>\n",
       "    <tr>\n",
       "      <th>2</th>\n",
       "      <td>3_imdb_uwcse</td>\n",
       "      <td>0.597 +/- 0.103</td>\n",
       "      <td>0.603 +/- 0.113</td>\n",
       "      <td>0.595 +/- 0.109</td>\n",
       "    </tr>\n",
       "    <tr>\n",
       "      <th>3</th>\n",
       "      <td>4_uwcse_imdb</td>\n",
       "      <td>0.497 +/- 0.009</td>\n",
       "      <td>0.494 +/- 0.005</td>\n",
       "      <td>0.493 +/- 0.008</td>\n",
       "    </tr>\n",
       "    <tr>\n",
       "      <th>4</th>\n",
       "      <td>5_imdb_uwcse</td>\n",
       "      <td>0.500 +/- 0.000</td>\n",
       "      <td>0.503 +/- 0.012</td>\n",
       "      <td>0.505 +/- 0.016</td>\n",
       "    </tr>\n",
       "    <tr>\n",
       "      <th>5</th>\n",
       "      <td>6_uwcse_imdb</td>\n",
       "      <td>0.845 +/- 0.095</td>\n",
       "      <td>0.845 +/- 0.095</td>\n",
       "      <td>0.779 +/- 0.294</td>\n",
       "    </tr>\n",
       "    <tr>\n",
       "      <th>6</th>\n",
       "      <td>7_imdb_cora</td>\n",
       "      <td>0.532 +/- 0.089</td>\n",
       "      <td>0.606 +/- 0.221</td>\n",
       "      <td>0.662 +/- 0.244</td>\n",
       "    </tr>\n",
       "    <tr>\n",
       "      <th>7</th>\n",
       "      <td>8_imdb_cora</td>\n",
       "      <td>0.760 +/- 0.284</td>\n",
       "      <td>0.955 +/- 0.032</td>\n",
       "      <td>0.965 +/- 0.013</td>\n",
       "    </tr>\n",
       "    <tr>\n",
       "      <th>8</th>\n",
       "      <td>9_imdb_cora</td>\n",
       "      <td>0.944 +/- 0.008</td>\n",
       "      <td>0.942 +/- 0.038</td>\n",
       "      <td>0.919 +/- 0.066</td>\n",
       "    </tr>\n",
       "    <tr>\n",
       "      <th>9</th>\n",
       "      <td>10_imdb_cora</td>\n",
       "      <td>0.565 +/- 0.041</td>\n",
       "      <td>0.724 +/- 0.151</td>\n",
       "      <td>0.781 +/- 0.089</td>\n",
       "    </tr>\n",
       "    <tr>\n",
       "      <th>10</th>\n",
       "      <td>11_uwcse_cora</td>\n",
       "      <td>0.532 +/- 0.089</td>\n",
       "      <td>0.610 +/- 0.210</td>\n",
       "      <td>0.658 +/- 0.244</td>\n",
       "    </tr>\n",
       "    <tr>\n",
       "      <th>11</th>\n",
       "      <td>12_uwcse_cora</td>\n",
       "      <td>0.961 +/- 0.008</td>\n",
       "      <td>0.969 +/- 0.019</td>\n",
       "      <td>0.965 +/- 0.013</td>\n",
       "    </tr>\n",
       "    <tr>\n",
       "      <th>12</th>\n",
       "      <td>13_uwcse_cora</td>\n",
       "      <td>0.944 +/- 0.008</td>\n",
       "      <td>0.938 +/- 0.051</td>\n",
       "      <td>0.919 +/- 0.026</td>\n",
       "    </tr>\n",
       "    <tr>\n",
       "      <th>13</th>\n",
       "      <td>14_uwcse_cora</td>\n",
       "      <td>0.565 +/- 0.041</td>\n",
       "      <td>0.782 +/- 0.088</td>\n",
       "      <td>0.798 +/- 0.156</td>\n",
       "    </tr>\n",
       "    <tr>\n",
       "      <th>14</th>\n",
       "      <td>15_yeast_twitter</td>\n",
       "      <td>0.653 +/- 0.035</td>\n",
       "      <td>0.709 +/- 0.023</td>\n",
       "      <td>0.737 +/- 0.091</td>\n",
       "    </tr>\n",
       "    <tr>\n",
       "      <th>15</th>\n",
       "      <td>16_yeast_twitter</td>\n",
       "      <td>0.692 +/- 0.012</td>\n",
       "      <td>0.679 +/- 0.033</td>\n",
       "      <td>0.678 +/- 0.035</td>\n",
       "    </tr>\n",
       "    <tr>\n",
       "      <th>16</th>\n",
       "      <td>17_yeast_twitter</td>\n",
       "      <td>0.500 +/- 0.000</td>\n",
       "      <td>0.500 +/- 0.000</td>\n",
       "      <td>0.500 +/- 0.000</td>\n",
       "    </tr>\n",
       "    <tr>\n",
       "      <th>17</th>\n",
       "      <td>18_yeast_twitter</td>\n",
       "      <td>0.500 +/- 0.000</td>\n",
       "      <td>0.500 +/- 0.000</td>\n",
       "      <td>0.500 +/- 0.000</td>\n",
       "    </tr>\n",
       "    <tr>\n",
       "      <th>18</th>\n",
       "      <td>19_yeast_twitter</td>\n",
       "      <td>0.500 +/- 0.000</td>\n",
       "      <td>0.500 +/- 0.000</td>\n",
       "      <td>0.500 +/- 0.000</td>\n",
       "    </tr>\n",
       "    <tr>\n",
       "      <th>19</th>\n",
       "      <td>20_yeast_twitter</td>\n",
       "      <td>0.500 +/- 0.000</td>\n",
       "      <td>0.500 +/- 0.000</td>\n",
       "      <td>0.500 +/- 0.000</td>\n",
       "    </tr>\n",
       "    <tr>\n",
       "      <th>20</th>\n",
       "      <td>21_yeast_twitter</td>\n",
       "      <td>0.500 +/- 0.000</td>\n",
       "      <td>0.500 +/- 0.000</td>\n",
       "      <td>0.500 +/- 0.000</td>\n",
       "    </tr>\n",
       "    <tr>\n",
       "      <th>21</th>\n",
       "      <td>22_twitter_yeast</td>\n",
       "      <td>0.880 +/- 0.025</td>\n",
       "      <td>0.881 +/- 0.040</td>\n",
       "      <td>0.865 +/- 0.124</td>\n",
       "    </tr>\n",
       "    <tr>\n",
       "      <th>22</th>\n",
       "      <td>23_twitter_yeast</td>\n",
       "      <td>0.630 +/- 0.021</td>\n",
       "      <td>0.648 +/- 0.048</td>\n",
       "      <td>0.684 +/- 0.028</td>\n",
       "    </tr>\n",
       "    <tr>\n",
       "      <th>23</th>\n",
       "      <td>24_twitter_yeast</td>\n",
       "      <td>0.500 +/- 0.000</td>\n",
       "      <td>0.500 +/- 0.000</td>\n",
       "      <td>0.500 +/- 0.000</td>\n",
       "    </tr>\n",
       "    <tr>\n",
       "      <th>24</th>\n",
       "      <td>25_twitter_yeast</td>\n",
       "      <td>0.500 +/- 0.000</td>\n",
       "      <td>0.500 +/- 0.000</td>\n",
       "      <td>0.500 +/- 0.000</td>\n",
       "    </tr>\n",
       "    <tr>\n",
       "      <th>25</th>\n",
       "      <td>26_twitter_yeast</td>\n",
       "      <td>0.500 +/- 0.000</td>\n",
       "      <td>0.500 +/- 0.000</td>\n",
       "      <td>0.500 +/- 0.000</td>\n",
       "    </tr>\n",
       "    <tr>\n",
       "      <th>26</th>\n",
       "      <td>27_twitter_yeast</td>\n",
       "      <td>0.500 +/- 0.000</td>\n",
       "      <td>0.500 +/- 0.000</td>\n",
       "      <td>0.500 +/- 0.000</td>\n",
       "    </tr>\n",
       "    <tr>\n",
       "      <th>27</th>\n",
       "      <td>28_twitter_yeast</td>\n",
       "      <td>0.500 +/- 0.000</td>\n",
       "      <td>0.500 +/- 0.000</td>\n",
       "      <td>0.500 +/- 0.000</td>\n",
       "    </tr>\n",
       "    <tr>\n",
       "      <th>28</th>\n",
       "      <td>29_nell_sports_nell_finances</td>\n",
       "      <td>0.622 +/- 0.020</td>\n",
       "      <td>0.651 +/- 0.023</td>\n",
       "      <td>0.654 +/- 0.039</td>\n",
       "    </tr>\n",
       "    <tr>\n",
       "      <th>29</th>\n",
       "      <td>30_nell_sports_nell_finances</td>\n",
       "      <td>0.643 +/- 0.025</td>\n",
       "      <td>0.664 +/- 0.019</td>\n",
       "      <td>0.667 +/- 0.017</td>\n",
       "    </tr>\n",
       "    <tr>\n",
       "      <th>30</th>\n",
       "      <td>31_nell_sports_nell_finances</td>\n",
       "      <td>0.570 +/- 0.028</td>\n",
       "      <td>0.583 +/- 0.030</td>\n",
       "      <td>0.602 +/- 0.021</td>\n",
       "    </tr>\n",
       "    <tr>\n",
       "      <th>31</th>\n",
       "      <td>32_nell_sports_nell_finances</td>\n",
       "      <td>0.589 +/- 0.066</td>\n",
       "      <td>0.817 +/- 0.053</td>\n",
       "      <td>0.854 +/- 0.037</td>\n",
       "    </tr>\n",
       "    <tr>\n",
       "      <th>32</th>\n",
       "      <td>33_nell_sports_nell_finances</td>\n",
       "      <td>0.505 +/- 0.016</td>\n",
       "      <td>0.504 +/- 0.011</td>\n",
       "      <td>0.523 +/- 0.028</td>\n",
       "    </tr>\n",
       "    <tr>\n",
       "      <th>33</th>\n",
       "      <td>34_nell_sports_nell_finances</td>\n",
       "      <td>0.555 +/- 0.189</td>\n",
       "      <td>0.626 +/- 0.157</td>\n",
       "      <td>0.692 +/- 0.237</td>\n",
       "    </tr>\n",
       "    <tr>\n",
       "      <th>34</th>\n",
       "      <td>35_nell_sports_nell_finances</td>\n",
       "      <td>0.791 +/- 0.071</td>\n",
       "      <td>0.737 +/- 0.113</td>\n",
       "      <td>0.686 +/- 0.240</td>\n",
       "    </tr>\n",
       "    <tr>\n",
       "      <th>35</th>\n",
       "      <td>36_nell_sports_nell_finances</td>\n",
       "      <td>0.541 +/- 0.027</td>\n",
       "      <td>0.542 +/- 0.032</td>\n",
       "      <td>0.513 +/- 0.012</td>\n",
       "    </tr>\n",
       "    <tr>\n",
       "      <th>36</th>\n",
       "      <td>37_nell_sports_nell_finances</td>\n",
       "      <td>0.825 +/- 0.027</td>\n",
       "      <td>0.841 +/- 0.066</td>\n",
       "      <td>0.727 +/- 0.102</td>\n",
       "    </tr>\n",
       "    <tr>\n",
       "      <th>37</th>\n",
       "      <td>38_nell_finances_nell_sports</td>\n",
       "      <td>0.733 +/- 0.071</td>\n",
       "      <td>0.882 +/- 0.039</td>\n",
       "      <td>0.879 +/- 0.028</td>\n",
       "    </tr>\n",
       "    <tr>\n",
       "      <th>38</th>\n",
       "      <td>39_nell_finances_nell_sports</td>\n",
       "      <td>0.816 +/- 0.039</td>\n",
       "      <td>0.909 +/- 0.015</td>\n",
       "      <td>0.909 +/- 0.011</td>\n",
       "    </tr>\n",
       "    <tr>\n",
       "      <th>39</th>\n",
       "      <td>40_nell_finances_nell_sports</td>\n",
       "      <td>0.876 +/- 0.022</td>\n",
       "      <td>0.915 +/- 0.008</td>\n",
       "      <td>0.915 +/- 0.012</td>\n",
       "    </tr>\n",
       "    <tr>\n",
       "      <th>40</th>\n",
       "      <td>41_nell_finances_nell_sports</td>\n",
       "      <td>0.695 +/- 0.050</td>\n",
       "      <td>0.914 +/- 0.006</td>\n",
       "      <td>0.914 +/- 0.012</td>\n",
       "    </tr>\n",
       "    <tr>\n",
       "      <th>41</th>\n",
       "      <td>42_nell_finances_nell_sports</td>\n",
       "      <td>0.500 +/- 0.000</td>\n",
       "      <td>0.966 +/- 0.012</td>\n",
       "      <td>0.975 +/- 0.008</td>\n",
       "    </tr>\n",
       "    <tr>\n",
       "      <th>42</th>\n",
       "      <td>43_nell_finances_nell_sports</td>\n",
       "      <td>0.977 +/- 0.002</td>\n",
       "      <td>0.977 +/- 0.003</td>\n",
       "      <td>0.977 +/- 0.004</td>\n",
       "    </tr>\n",
       "    <tr>\n",
       "      <th>43</th>\n",
       "      <td>44_nell_finances_nell_sports</td>\n",
       "      <td>0.767 +/- 0.013</td>\n",
       "      <td>0.849 +/- 0.011</td>\n",
       "      <td>0.853 +/- 0.008</td>\n",
       "    </tr>\n",
       "    <tr>\n",
       "      <th>44</th>\n",
       "      <td>45_nell_finances_nell_sports</td>\n",
       "      <td>0.745 +/- 0.024</td>\n",
       "      <td>0.850 +/- 0.002</td>\n",
       "      <td>0.848 +/- 0.007</td>\n",
       "    </tr>\n",
       "    <tr>\n",
       "      <th>45</th>\n",
       "      <td>46_nell_finances_nell_sports</td>\n",
       "      <td>0.500 +/- 0.000</td>\n",
       "      <td>0.859 +/- 0.030</td>\n",
       "      <td>0.925 +/- 0.027</td>\n",
       "    </tr>\n",
       "  </tbody>\n",
       "</table>\n",
       "</div>"
      ],
      "text/plain": [
       "                      Experiment Transfer Learning  \\\n",
       "0                   1_imdb_uwcse   0.939 +/- 0.015   \n",
       "1                   2_uwcse_imdb   1.000 +/- 0.000   \n",
       "2                   3_imdb_uwcse   0.597 +/- 0.103   \n",
       "3                   4_uwcse_imdb   0.497 +/- 0.009   \n",
       "4                   5_imdb_uwcse   0.500 +/- 0.000   \n",
       "5                   6_uwcse_imdb   0.845 +/- 0.095   \n",
       "6                    7_imdb_cora   0.532 +/- 0.089   \n",
       "7                    8_imdb_cora   0.760 +/- 0.284   \n",
       "8                    9_imdb_cora   0.944 +/- 0.008   \n",
       "9                   10_imdb_cora   0.565 +/- 0.041   \n",
       "10                 11_uwcse_cora   0.532 +/- 0.089   \n",
       "11                 12_uwcse_cora   0.961 +/- 0.008   \n",
       "12                 13_uwcse_cora   0.944 +/- 0.008   \n",
       "13                 14_uwcse_cora   0.565 +/- 0.041   \n",
       "14              15_yeast_twitter   0.653 +/- 0.035   \n",
       "15              16_yeast_twitter   0.692 +/- 0.012   \n",
       "16              17_yeast_twitter   0.500 +/- 0.000   \n",
       "17              18_yeast_twitter   0.500 +/- 0.000   \n",
       "18              19_yeast_twitter   0.500 +/- 0.000   \n",
       "19              20_yeast_twitter   0.500 +/- 0.000   \n",
       "20              21_yeast_twitter   0.500 +/- 0.000   \n",
       "21              22_twitter_yeast   0.880 +/- 0.025   \n",
       "22              23_twitter_yeast   0.630 +/- 0.021   \n",
       "23              24_twitter_yeast   0.500 +/- 0.000   \n",
       "24              25_twitter_yeast   0.500 +/- 0.000   \n",
       "25              26_twitter_yeast   0.500 +/- 0.000   \n",
       "26              27_twitter_yeast   0.500 +/- 0.000   \n",
       "27              28_twitter_yeast   0.500 +/- 0.000   \n",
       "28  29_nell_sports_nell_finances   0.622 +/- 0.020   \n",
       "29  30_nell_sports_nell_finances   0.643 +/- 0.025   \n",
       "30  31_nell_sports_nell_finances   0.570 +/- 0.028   \n",
       "31  32_nell_sports_nell_finances   0.589 +/- 0.066   \n",
       "32  33_nell_sports_nell_finances   0.505 +/- 0.016   \n",
       "33  34_nell_sports_nell_finances   0.555 +/- 0.189   \n",
       "34  35_nell_sports_nell_finances   0.791 +/- 0.071   \n",
       "35  36_nell_sports_nell_finances   0.541 +/- 0.027   \n",
       "36  37_nell_sports_nell_finances   0.825 +/- 0.027   \n",
       "37  38_nell_finances_nell_sports   0.733 +/- 0.071   \n",
       "38  39_nell_finances_nell_sports   0.816 +/- 0.039   \n",
       "39  40_nell_finances_nell_sports   0.876 +/- 0.022   \n",
       "40  41_nell_finances_nell_sports   0.695 +/- 0.050   \n",
       "41  42_nell_finances_nell_sports   0.500 +/- 0.000   \n",
       "42  43_nell_finances_nell_sports   0.977 +/- 0.002   \n",
       "43  44_nell_finances_nell_sports   0.767 +/- 0.013   \n",
       "44  45_nell_finances_nell_sports   0.745 +/- 0.024   \n",
       "45  46_nell_finances_nell_sports   0.500 +/- 0.000   \n",
       "\n",
       "   Transfer Learning with Revision Theory Learning from scratch  \n",
       "0                         0.911 +/- 0.042       0.888 +/- 0.121  \n",
       "1                         1.000 +/- 0.000       0.968 +/- 0.130  \n",
       "2                         0.603 +/- 0.113       0.595 +/- 0.109  \n",
       "3                         0.494 +/- 0.005       0.493 +/- 0.008  \n",
       "4                         0.503 +/- 0.012       0.505 +/- 0.016  \n",
       "5                         0.845 +/- 0.095       0.779 +/- 0.294  \n",
       "6                         0.606 +/- 0.221       0.662 +/- 0.244  \n",
       "7                         0.955 +/- 0.032       0.965 +/- 0.013  \n",
       "8                         0.942 +/- 0.038       0.919 +/- 0.066  \n",
       "9                         0.724 +/- 0.151       0.781 +/- 0.089  \n",
       "10                        0.610 +/- 0.210       0.658 +/- 0.244  \n",
       "11                        0.969 +/- 0.019       0.965 +/- 0.013  \n",
       "12                        0.938 +/- 0.051       0.919 +/- 0.026  \n",
       "13                        0.782 +/- 0.088       0.798 +/- 0.156  \n",
       "14                        0.709 +/- 0.023       0.737 +/- 0.091  \n",
       "15                        0.679 +/- 0.033       0.678 +/- 0.035  \n",
       "16                        0.500 +/- 0.000       0.500 +/- 0.000  \n",
       "17                        0.500 +/- 0.000       0.500 +/- 0.000  \n",
       "18                        0.500 +/- 0.000       0.500 +/- 0.000  \n",
       "19                        0.500 +/- 0.000       0.500 +/- 0.000  \n",
       "20                        0.500 +/- 0.000       0.500 +/- 0.000  \n",
       "21                        0.881 +/- 0.040       0.865 +/- 0.124  \n",
       "22                        0.648 +/- 0.048       0.684 +/- 0.028  \n",
       "23                        0.500 +/- 0.000       0.500 +/- 0.000  \n",
       "24                        0.500 +/- 0.000       0.500 +/- 0.000  \n",
       "25                        0.500 +/- 0.000       0.500 +/- 0.000  \n",
       "26                        0.500 +/- 0.000       0.500 +/- 0.000  \n",
       "27                        0.500 +/- 0.000       0.500 +/- 0.000  \n",
       "28                        0.651 +/- 0.023       0.654 +/- 0.039  \n",
       "29                        0.664 +/- 0.019       0.667 +/- 0.017  \n",
       "30                        0.583 +/- 0.030       0.602 +/- 0.021  \n",
       "31                        0.817 +/- 0.053       0.854 +/- 0.037  \n",
       "32                        0.504 +/- 0.011       0.523 +/- 0.028  \n",
       "33                        0.626 +/- 0.157       0.692 +/- 0.237  \n",
       "34                        0.737 +/- 0.113       0.686 +/- 0.240  \n",
       "35                        0.542 +/- 0.032       0.513 +/- 0.012  \n",
       "36                        0.841 +/- 0.066       0.727 +/- 0.102  \n",
       "37                        0.882 +/- 0.039       0.879 +/- 0.028  \n",
       "38                        0.909 +/- 0.015       0.909 +/- 0.011  \n",
       "39                        0.915 +/- 0.008       0.915 +/- 0.012  \n",
       "40                        0.914 +/- 0.006       0.914 +/- 0.012  \n",
       "41                        0.966 +/- 0.012       0.975 +/- 0.008  \n",
       "42                        0.977 +/- 0.003       0.977 +/- 0.004  \n",
       "43                        0.849 +/- 0.011       0.853 +/- 0.008  \n",
       "44                        0.850 +/- 0.002       0.848 +/- 0.007  \n",
       "45                        0.859 +/- 0.030       0.925 +/- 0.027  "
      ]
     },
     "metadata": {},
     "output_type": "display_data"
    },
    {
     "data": {
      "text/markdown": [
       "# Results for CLL"
      ],
      "text/plain": [
       "<IPython.core.display.Markdown object>"
      ]
     },
     "metadata": {},
     "output_type": "display_data"
    },
    {
     "data": {
      "text/html": [
       "<div>\n",
       "<table border=\"1\" class=\"dataframe\">\n",
       "  <thead>\n",
       "    <tr style=\"text-align: right;\">\n",
       "      <th></th>\n",
       "      <th>Experiment</th>\n",
       "      <th>Transfer Learning</th>\n",
       "      <th>Transfer Learning with Revision Theory</th>\n",
       "      <th>Learning from scratch</th>\n",
       "    </tr>\n",
       "  </thead>\n",
       "  <tbody>\n",
       "    <tr>\n",
       "      <th>0</th>\n",
       "      <td>1_imdb_uwcse</td>\n",
       "      <td>-0.229 +/- 0.007</td>\n",
       "      <td>-0.242 +/- 0.045</td>\n",
       "      <td>-0.257 +/- 0.098</td>\n",
       "    </tr>\n",
       "    <tr>\n",
       "      <th>1</th>\n",
       "      <td>2_uwcse_imdb</td>\n",
       "      <td>-0.116 +/- 0.021</td>\n",
       "      <td>-0.112 +/- 0.031</td>\n",
       "      <td>-0.174 +/- 0.148</td>\n",
       "    </tr>\n",
       "    <tr>\n",
       "      <th>2</th>\n",
       "      <td>3_imdb_uwcse</td>\n",
       "      <td>-0.660 +/- 0.042</td>\n",
       "      <td>-0.692 +/- 0.069</td>\n",
       "      <td>-0.701 +/- 0.059</td>\n",
       "    </tr>\n",
       "    <tr>\n",
       "      <th>3</th>\n",
       "      <td>4_uwcse_imdb</td>\n",
       "      <td>-0.701 +/- 0.020</td>\n",
       "      <td>-0.708 +/- 0.020</td>\n",
       "      <td>-0.707 +/- 0.017</td>\n",
       "    </tr>\n",
       "    <tr>\n",
       "      <th>4</th>\n",
       "      <td>5_imdb_uwcse</td>\n",
       "      <td>-0.695 +/- 0.000</td>\n",
       "      <td>-0.715 +/- 0.020</td>\n",
       "      <td>-0.718 +/- 0.025</td>\n",
       "    </tr>\n",
       "    <tr>\n",
       "      <th>5</th>\n",
       "      <td>6_uwcse_imdb</td>\n",
       "      <td>-0.312 +/- 0.052</td>\n",
       "      <td>-0.307 +/- 0.058</td>\n",
       "      <td>-0.458 +/- 0.598</td>\n",
       "    </tr>\n",
       "    <tr>\n",
       "      <th>6</th>\n",
       "      <td>7_imdb_cora</td>\n",
       "      <td>-0.690 +/- 0.020</td>\n",
       "      <td>-0.640 +/- 0.193</td>\n",
       "      <td>-0.603 +/- 0.215</td>\n",
       "    </tr>\n",
       "    <tr>\n",
       "      <th>7</th>\n",
       "      <td>8_imdb_cora</td>\n",
       "      <td>-0.622 +/- 0.354</td>\n",
       "      <td>-0.348 +/- 0.145</td>\n",
       "      <td>-0.344 +/- 0.146</td>\n",
       "    </tr>\n",
       "    <tr>\n",
       "      <th>8</th>\n",
       "      <td>9_imdb_cora</td>\n",
       "      <td>-0.256 +/- 0.002</td>\n",
       "      <td>-0.310 +/- 0.170</td>\n",
       "      <td>-0.315 +/- 0.095</td>\n",
       "    </tr>\n",
       "    <tr>\n",
       "      <th>9</th>\n",
       "      <td>10_imdb_cora</td>\n",
       "      <td>-0.705 +/- 0.030</td>\n",
       "      <td>-0.625 +/- 0.074</td>\n",
       "      <td>-0.584 +/- 0.177</td>\n",
       "    </tr>\n",
       "    <tr>\n",
       "      <th>10</th>\n",
       "      <td>11_uwcse_cora</td>\n",
       "      <td>-0.690 +/- 0.019</td>\n",
       "      <td>-0.649 +/- 0.166</td>\n",
       "      <td>-0.602 +/- 0.219</td>\n",
       "    </tr>\n",
       "    <tr>\n",
       "      <th>11</th>\n",
       "      <td>12_uwcse_cora</td>\n",
       "      <td>-0.373 +/- 0.178</td>\n",
       "      <td>-0.345 +/- 0.146</td>\n",
       "      <td>-0.345 +/- 0.146</td>\n",
       "    </tr>\n",
       "    <tr>\n",
       "      <th>12</th>\n",
       "      <td>13_uwcse_cora</td>\n",
       "      <td>-0.259 +/- 0.003</td>\n",
       "      <td>-0.303 +/- 0.139</td>\n",
       "      <td>-0.330 +/- 0.129</td>\n",
       "    </tr>\n",
       "    <tr>\n",
       "      <th>13</th>\n",
       "      <td>14_uwcse_cora</td>\n",
       "      <td>-0.706 +/- 0.030</td>\n",
       "      <td>-0.595 +/- 0.104</td>\n",
       "      <td>-0.571 +/- 0.220</td>\n",
       "    </tr>\n",
       "    <tr>\n",
       "      <th>14</th>\n",
       "      <td>15_yeast_twitter</td>\n",
       "      <td>-0.643 +/- 0.009</td>\n",
       "      <td>-0.591 +/- 0.018</td>\n",
       "      <td>-0.576 +/- 0.035</td>\n",
       "    </tr>\n",
       "    <tr>\n",
       "      <th>15</th>\n",
       "      <td>16_yeast_twitter</td>\n",
       "      <td>-0.624 +/- 0.011</td>\n",
       "      <td>-0.623 +/- 0.024</td>\n",
       "      <td>-0.627 +/- 0.039</td>\n",
       "    </tr>\n",
       "    <tr>\n",
       "      <th>16</th>\n",
       "      <td>17_yeast_twitter</td>\n",
       "      <td>-0.695 +/- 0.001</td>\n",
       "      <td>-0.695 +/- 0.001</td>\n",
       "      <td>-0.695 +/- 0.000</td>\n",
       "    </tr>\n",
       "    <tr>\n",
       "      <th>17</th>\n",
       "      <td>18_yeast_twitter</td>\n",
       "      <td>-0.695 +/- 0.000</td>\n",
       "      <td>-0.695 +/- 0.000</td>\n",
       "      <td>-0.695 +/- 0.000</td>\n",
       "    </tr>\n",
       "    <tr>\n",
       "      <th>18</th>\n",
       "      <td>19_yeast_twitter</td>\n",
       "      <td>-0.695 +/- 0.000</td>\n",
       "      <td>-0.695 +/- 0.000</td>\n",
       "      <td>-0.695 +/- 0.000</td>\n",
       "    </tr>\n",
       "    <tr>\n",
       "      <th>19</th>\n",
       "      <td>20_yeast_twitter</td>\n",
       "      <td>-0.695 +/- 0.000</td>\n",
       "      <td>-0.695 +/- 0.000</td>\n",
       "      <td>-0.695 +/- 0.000</td>\n",
       "    </tr>\n",
       "    <tr>\n",
       "      <th>20</th>\n",
       "      <td>21_yeast_twitter</td>\n",
       "      <td>-0.695 +/- 0.001</td>\n",
       "      <td>-0.695 +/- 0.001</td>\n",
       "      <td>-0.695 +/- 0.000</td>\n",
       "    </tr>\n",
       "    <tr>\n",
       "      <th>21</th>\n",
       "      <td>22_twitter_yeast</td>\n",
       "      <td>-0.461 +/- 0.005</td>\n",
       "      <td>-0.456 +/- 0.005</td>\n",
       "      <td>-0.509 +/- 0.153</td>\n",
       "    </tr>\n",
       "    <tr>\n",
       "      <th>22</th>\n",
       "      <td>23_twitter_yeast</td>\n",
       "      <td>-0.660 +/- 0.010</td>\n",
       "      <td>-0.657 +/- 0.008</td>\n",
       "      <td>-0.653 +/- 0.024</td>\n",
       "    </tr>\n",
       "    <tr>\n",
       "      <th>23</th>\n",
       "      <td>24_twitter_yeast</td>\n",
       "      <td>-0.695 +/- 0.001</td>\n",
       "      <td>-0.695 +/- 0.000</td>\n",
       "      <td>-0.695 +/- 0.000</td>\n",
       "    </tr>\n",
       "    <tr>\n",
       "      <th>24</th>\n",
       "      <td>25_twitter_yeast</td>\n",
       "      <td>-0.698 +/- 0.008</td>\n",
       "      <td>-0.697 +/- 0.005</td>\n",
       "      <td>-0.695 +/- 0.000</td>\n",
       "    </tr>\n",
       "    <tr>\n",
       "      <th>25</th>\n",
       "      <td>26_twitter_yeast</td>\n",
       "      <td>-0.695 +/- 0.000</td>\n",
       "      <td>-0.695 +/- 0.000</td>\n",
       "      <td>-0.695 +/- 0.000</td>\n",
       "    </tr>\n",
       "    <tr>\n",
       "      <th>26</th>\n",
       "      <td>27_twitter_yeast</td>\n",
       "      <td>-0.696 +/- 0.001</td>\n",
       "      <td>-0.695 +/- 0.000</td>\n",
       "      <td>-0.695 +/- 0.000</td>\n",
       "    </tr>\n",
       "    <tr>\n",
       "      <th>27</th>\n",
       "      <td>28_twitter_yeast</td>\n",
       "      <td>-0.695 +/- 0.001</td>\n",
       "      <td>-0.695 +/- 0.000</td>\n",
       "      <td>-0.695 +/- 0.000</td>\n",
       "    </tr>\n",
       "    <tr>\n",
       "      <th>28</th>\n",
       "      <td>29_nell_sports_nell_finances</td>\n",
       "      <td>-0.672 +/- 0.005</td>\n",
       "      <td>-0.662 +/- 0.011</td>\n",
       "      <td>-0.663 +/- 0.015</td>\n",
       "    </tr>\n",
       "    <tr>\n",
       "      <th>29</th>\n",
       "      <td>30_nell_sports_nell_finances</td>\n",
       "      <td>-0.667 +/- 0.012</td>\n",
       "      <td>-0.659 +/- 0.012</td>\n",
       "      <td>-0.659 +/- 0.011</td>\n",
       "    </tr>\n",
       "    <tr>\n",
       "      <th>30</th>\n",
       "      <td>31_nell_sports_nell_finances</td>\n",
       "      <td>-0.684 +/- 0.008</td>\n",
       "      <td>-0.684 +/- 0.020</td>\n",
       "      <td>-0.682 +/- 0.020</td>\n",
       "    </tr>\n",
       "    <tr>\n",
       "      <th>31</th>\n",
       "      <td>32_nell_sports_nell_finances</td>\n",
       "      <td>-0.682 +/- 0.009</td>\n",
       "      <td>-0.494 +/- 0.066</td>\n",
       "      <td>-0.469 +/- 0.025</td>\n",
       "    </tr>\n",
       "    <tr>\n",
       "      <th>32</th>\n",
       "      <td>33_nell_sports_nell_finances</td>\n",
       "      <td>-0.702 +/- 0.013</td>\n",
       "      <td>-0.710 +/- 0.024</td>\n",
       "      <td>-0.693 +/- 0.011</td>\n",
       "    </tr>\n",
       "    <tr>\n",
       "      <th>33</th>\n",
       "      <td>34_nell_sports_nell_finances</td>\n",
       "      <td>-0.817 +/- 0.208</td>\n",
       "      <td>-0.767 +/- 0.045</td>\n",
       "      <td>-0.688 +/- 0.115</td>\n",
       "    </tr>\n",
       "    <tr>\n",
       "      <th>34</th>\n",
       "      <td>35_nell_sports_nell_finances</td>\n",
       "      <td>-0.604 +/- 0.118</td>\n",
       "      <td>-0.660 +/- 0.036</td>\n",
       "      <td>-0.694 +/- 0.123</td>\n",
       "    </tr>\n",
       "    <tr>\n",
       "      <th>35</th>\n",
       "      <td>36_nell_sports_nell_finances</td>\n",
       "      <td>-0.686 +/- 0.004</td>\n",
       "      <td>-0.685 +/- 0.005</td>\n",
       "      <td>-0.694 +/- 0.018</td>\n",
       "    </tr>\n",
       "    <tr>\n",
       "      <th>36</th>\n",
       "      <td>37_nell_sports_nell_finances</td>\n",
       "      <td>-0.536 +/- 0.025</td>\n",
       "      <td>-0.515 +/- 0.090</td>\n",
       "      <td>-0.617 +/- 0.062</td>\n",
       "    </tr>\n",
       "    <tr>\n",
       "      <th>37</th>\n",
       "      <td>38_nell_finances_nell_sports</td>\n",
       "      <td>-0.573 +/- 0.020</td>\n",
       "      <td>-0.422 +/- 0.034</td>\n",
       "      <td>-0.392 +/- 0.042</td>\n",
       "    </tr>\n",
       "    <tr>\n",
       "      <th>38</th>\n",
       "      <td>39_nell_finances_nell_sports</td>\n",
       "      <td>-0.562 +/- 0.019</td>\n",
       "      <td>-0.371 +/- 0.031</td>\n",
       "      <td>-0.360 +/- 0.022</td>\n",
       "    </tr>\n",
       "    <tr>\n",
       "      <th>39</th>\n",
       "      <td>40_nell_finances_nell_sports</td>\n",
       "      <td>-0.467 +/- 0.051</td>\n",
       "      <td>-0.368 +/- 0.009</td>\n",
       "      <td>-0.352 +/- 0.015</td>\n",
       "    </tr>\n",
       "    <tr>\n",
       "      <th>40</th>\n",
       "      <td>41_nell_finances_nell_sports</td>\n",
       "      <td>-0.630 +/- 0.021</td>\n",
       "      <td>-0.371 +/- 0.016</td>\n",
       "      <td>-0.355 +/- 0.017</td>\n",
       "    </tr>\n",
       "    <tr>\n",
       "      <th>41</th>\n",
       "      <td>42_nell_finances_nell_sports</td>\n",
       "      <td>-0.695 +/- 0.000</td>\n",
       "      <td>-0.298 +/- 0.005</td>\n",
       "      <td>-0.239 +/- 0.004</td>\n",
       "    </tr>\n",
       "    <tr>\n",
       "      <th>42</th>\n",
       "      <td>43_nell_finances_nell_sports</td>\n",
       "      <td>-0.425 +/- 0.002</td>\n",
       "      <td>-0.239 +/- 0.004</td>\n",
       "      <td>-0.237 +/- 0.001</td>\n",
       "    </tr>\n",
       "    <tr>\n",
       "      <th>43</th>\n",
       "      <td>44_nell_finances_nell_sports</td>\n",
       "      <td>-0.591 +/- 0.008</td>\n",
       "      <td>-0.507 +/- 0.013</td>\n",
       "      <td>-0.499 +/- 0.004</td>\n",
       "    </tr>\n",
       "    <tr>\n",
       "      <th>44</th>\n",
       "      <td>45_nell_finances_nell_sports</td>\n",
       "      <td>-0.605 +/- 0.008</td>\n",
       "      <td>-0.506 +/- 0.009</td>\n",
       "      <td>-0.503 +/- 0.009</td>\n",
       "    </tr>\n",
       "    <tr>\n",
       "      <th>45</th>\n",
       "      <td>46_nell_finances_nell_sports</td>\n",
       "      <td>-0.696 +/- 0.001</td>\n",
       "      <td>-0.491 +/- 0.016</td>\n",
       "      <td>-0.353 +/- 0.006</td>\n",
       "    </tr>\n",
       "  </tbody>\n",
       "</table>\n",
       "</div>"
      ],
      "text/plain": [
       "                      Experiment Transfer Learning  \\\n",
       "0                   1_imdb_uwcse  -0.229 +/- 0.007   \n",
       "1                   2_uwcse_imdb  -0.116 +/- 0.021   \n",
       "2                   3_imdb_uwcse  -0.660 +/- 0.042   \n",
       "3                   4_uwcse_imdb  -0.701 +/- 0.020   \n",
       "4                   5_imdb_uwcse  -0.695 +/- 0.000   \n",
       "5                   6_uwcse_imdb  -0.312 +/- 0.052   \n",
       "6                    7_imdb_cora  -0.690 +/- 0.020   \n",
       "7                    8_imdb_cora  -0.622 +/- 0.354   \n",
       "8                    9_imdb_cora  -0.256 +/- 0.002   \n",
       "9                   10_imdb_cora  -0.705 +/- 0.030   \n",
       "10                 11_uwcse_cora  -0.690 +/- 0.019   \n",
       "11                 12_uwcse_cora  -0.373 +/- 0.178   \n",
       "12                 13_uwcse_cora  -0.259 +/- 0.003   \n",
       "13                 14_uwcse_cora  -0.706 +/- 0.030   \n",
       "14              15_yeast_twitter  -0.643 +/- 0.009   \n",
       "15              16_yeast_twitter  -0.624 +/- 0.011   \n",
       "16              17_yeast_twitter  -0.695 +/- 0.001   \n",
       "17              18_yeast_twitter  -0.695 +/- 0.000   \n",
       "18              19_yeast_twitter  -0.695 +/- 0.000   \n",
       "19              20_yeast_twitter  -0.695 +/- 0.000   \n",
       "20              21_yeast_twitter  -0.695 +/- 0.001   \n",
       "21              22_twitter_yeast  -0.461 +/- 0.005   \n",
       "22              23_twitter_yeast  -0.660 +/- 0.010   \n",
       "23              24_twitter_yeast  -0.695 +/- 0.001   \n",
       "24              25_twitter_yeast  -0.698 +/- 0.008   \n",
       "25              26_twitter_yeast  -0.695 +/- 0.000   \n",
       "26              27_twitter_yeast  -0.696 +/- 0.001   \n",
       "27              28_twitter_yeast  -0.695 +/- 0.001   \n",
       "28  29_nell_sports_nell_finances  -0.672 +/- 0.005   \n",
       "29  30_nell_sports_nell_finances  -0.667 +/- 0.012   \n",
       "30  31_nell_sports_nell_finances  -0.684 +/- 0.008   \n",
       "31  32_nell_sports_nell_finances  -0.682 +/- 0.009   \n",
       "32  33_nell_sports_nell_finances  -0.702 +/- 0.013   \n",
       "33  34_nell_sports_nell_finances  -0.817 +/- 0.208   \n",
       "34  35_nell_sports_nell_finances  -0.604 +/- 0.118   \n",
       "35  36_nell_sports_nell_finances  -0.686 +/- 0.004   \n",
       "36  37_nell_sports_nell_finances  -0.536 +/- 0.025   \n",
       "37  38_nell_finances_nell_sports  -0.573 +/- 0.020   \n",
       "38  39_nell_finances_nell_sports  -0.562 +/- 0.019   \n",
       "39  40_nell_finances_nell_sports  -0.467 +/- 0.051   \n",
       "40  41_nell_finances_nell_sports  -0.630 +/- 0.021   \n",
       "41  42_nell_finances_nell_sports  -0.695 +/- 0.000   \n",
       "42  43_nell_finances_nell_sports  -0.425 +/- 0.002   \n",
       "43  44_nell_finances_nell_sports  -0.591 +/- 0.008   \n",
       "44  45_nell_finances_nell_sports  -0.605 +/- 0.008   \n",
       "45  46_nell_finances_nell_sports  -0.696 +/- 0.001   \n",
       "\n",
       "   Transfer Learning with Revision Theory Learning from scratch  \n",
       "0                        -0.242 +/- 0.045      -0.257 +/- 0.098  \n",
       "1                        -0.112 +/- 0.031      -0.174 +/- 0.148  \n",
       "2                        -0.692 +/- 0.069      -0.701 +/- 0.059  \n",
       "3                        -0.708 +/- 0.020      -0.707 +/- 0.017  \n",
       "4                        -0.715 +/- 0.020      -0.718 +/- 0.025  \n",
       "5                        -0.307 +/- 0.058      -0.458 +/- 0.598  \n",
       "6                        -0.640 +/- 0.193      -0.603 +/- 0.215  \n",
       "7                        -0.348 +/- 0.145      -0.344 +/- 0.146  \n",
       "8                        -0.310 +/- 0.170      -0.315 +/- 0.095  \n",
       "9                        -0.625 +/- 0.074      -0.584 +/- 0.177  \n",
       "10                       -0.649 +/- 0.166      -0.602 +/- 0.219  \n",
       "11                       -0.345 +/- 0.146      -0.345 +/- 0.146  \n",
       "12                       -0.303 +/- 0.139      -0.330 +/- 0.129  \n",
       "13                       -0.595 +/- 0.104      -0.571 +/- 0.220  \n",
       "14                       -0.591 +/- 0.018      -0.576 +/- 0.035  \n",
       "15                       -0.623 +/- 0.024      -0.627 +/- 0.039  \n",
       "16                       -0.695 +/- 0.001      -0.695 +/- 0.000  \n",
       "17                       -0.695 +/- 0.000      -0.695 +/- 0.000  \n",
       "18                       -0.695 +/- 0.000      -0.695 +/- 0.000  \n",
       "19                       -0.695 +/- 0.000      -0.695 +/- 0.000  \n",
       "20                       -0.695 +/- 0.001      -0.695 +/- 0.000  \n",
       "21                       -0.456 +/- 0.005      -0.509 +/- 0.153  \n",
       "22                       -0.657 +/- 0.008      -0.653 +/- 0.024  \n",
       "23                       -0.695 +/- 0.000      -0.695 +/- 0.000  \n",
       "24                       -0.697 +/- 0.005      -0.695 +/- 0.000  \n",
       "25                       -0.695 +/- 0.000      -0.695 +/- 0.000  \n",
       "26                       -0.695 +/- 0.000      -0.695 +/- 0.000  \n",
       "27                       -0.695 +/- 0.000      -0.695 +/- 0.000  \n",
       "28                       -0.662 +/- 0.011      -0.663 +/- 0.015  \n",
       "29                       -0.659 +/- 0.012      -0.659 +/- 0.011  \n",
       "30                       -0.684 +/- 0.020      -0.682 +/- 0.020  \n",
       "31                       -0.494 +/- 0.066      -0.469 +/- 0.025  \n",
       "32                       -0.710 +/- 0.024      -0.693 +/- 0.011  \n",
       "33                       -0.767 +/- 0.045      -0.688 +/- 0.115  \n",
       "34                       -0.660 +/- 0.036      -0.694 +/- 0.123  \n",
       "35                       -0.685 +/- 0.005      -0.694 +/- 0.018  \n",
       "36                       -0.515 +/- 0.090      -0.617 +/- 0.062  \n",
       "37                       -0.422 +/- 0.034      -0.392 +/- 0.042  \n",
       "38                       -0.371 +/- 0.031      -0.360 +/- 0.022  \n",
       "39                       -0.368 +/- 0.009      -0.352 +/- 0.015  \n",
       "40                       -0.371 +/- 0.016      -0.355 +/- 0.017  \n",
       "41                       -0.298 +/- 0.005      -0.239 +/- 0.004  \n",
       "42                       -0.239 +/- 0.004      -0.237 +/- 0.001  \n",
       "43                       -0.507 +/- 0.013      -0.499 +/- 0.004  \n",
       "44                       -0.506 +/- 0.009      -0.503 +/- 0.009  \n",
       "45                       -0.491 +/- 0.016      -0.353 +/- 0.006  "
      ]
     },
     "metadata": {},
     "output_type": "display_data"
    },
    {
     "data": {
      "text/markdown": [
       "# Results for Recall"
      ],
      "text/plain": [
       "<IPython.core.display.Markdown object>"
      ]
     },
     "metadata": {},
     "output_type": "display_data"
    },
    {
     "data": {
      "text/html": [
       "<div>\n",
       "<table border=\"1\" class=\"dataframe\">\n",
       "  <thead>\n",
       "    <tr style=\"text-align: right;\">\n",
       "      <th></th>\n",
       "      <th>Experiment</th>\n",
       "      <th>Transfer Learning</th>\n",
       "      <th>Transfer Learning with Revision Theory</th>\n",
       "      <th>Learning from scratch</th>\n",
       "    </tr>\n",
       "  </thead>\n",
       "  <tbody>\n",
       "    <tr>\n",
       "      <th>0</th>\n",
       "      <td>1_imdb_uwcse</td>\n",
       "      <td>1.000 +/- 0.000</td>\n",
       "      <td>0.992 +/- 0.020</td>\n",
       "      <td>0.984 +/- 0.043</td>\n",
       "    </tr>\n",
       "    <tr>\n",
       "      <th>1</th>\n",
       "      <td>2_uwcse_imdb</td>\n",
       "      <td>1.000 +/- 0.000</td>\n",
       "      <td>1.000 +/- 0.000</td>\n",
       "      <td>1.000 +/- 0.000</td>\n",
       "    </tr>\n",
       "    <tr>\n",
       "      <th>2</th>\n",
       "      <td>3_imdb_uwcse</td>\n",
       "      <td>0.543 +/- 0.543</td>\n",
       "      <td>0.508 +/- 0.133</td>\n",
       "      <td>0.494 +/- 0.126</td>\n",
       "    </tr>\n",
       "    <tr>\n",
       "      <th>3</th>\n",
       "      <td>4_uwcse_imdb</td>\n",
       "      <td>0.039 +/- 0.102</td>\n",
       "      <td>0.298 +/- 0.432</td>\n",
       "      <td>0.285 +/- 0.394</td>\n",
       "    </tr>\n",
       "    <tr>\n",
       "      <th>4</th>\n",
       "      <td>5_imdb_uwcse</td>\n",
       "      <td>0.000 +/- 0.000</td>\n",
       "      <td>0.451 +/- 0.169</td>\n",
       "      <td>0.407 +/- 0.163</td>\n",
       "    </tr>\n",
       "    <tr>\n",
       "      <th>5</th>\n",
       "      <td>6_uwcse_imdb</td>\n",
       "      <td>1.000 +/- 0.000</td>\n",
       "      <td>1.000 +/- 0.000</td>\n",
       "      <td>0.800 +/- 0.800</td>\n",
       "    </tr>\n",
       "    <tr>\n",
       "      <th>6</th>\n",
       "      <td>7_imdb_cora</td>\n",
       "      <td>0.768 +/- 0.769</td>\n",
       "      <td>0.758 +/- 0.706</td>\n",
       "      <td>0.773 +/- 0.670</td>\n",
       "    </tr>\n",
       "    <tr>\n",
       "      <th>7</th>\n",
       "      <td>8_imdb_cora</td>\n",
       "      <td>0.727 +/- 0.556</td>\n",
       "      <td>0.894 +/- 0.082</td>\n",
       "      <td>0.899 +/- 0.078</td>\n",
       "    </tr>\n",
       "    <tr>\n",
       "      <th>8</th>\n",
       "      <td>9_imdb_cora</td>\n",
       "      <td>1.000 +/- 0.000</td>\n",
       "      <td>0.979 +/- 0.084</td>\n",
       "      <td>0.978 +/- 0.088</td>\n",
       "    </tr>\n",
       "    <tr>\n",
       "      <th>9</th>\n",
       "      <td>10_imdb_cora</td>\n",
       "      <td>0.400 +/- 0.980</td>\n",
       "      <td>0.702 +/- 0.554</td>\n",
       "      <td>0.701 +/- 0.552</td>\n",
       "    </tr>\n",
       "    <tr>\n",
       "      <th>10</th>\n",
       "      <td>11_uwcse_cora</td>\n",
       "      <td>0.579 +/- 0.947</td>\n",
       "      <td>0.753 +/- 0.681</td>\n",
       "      <td>0.761 +/- 0.688</td>\n",
       "    </tr>\n",
       "    <tr>\n",
       "      <th>11</th>\n",
       "      <td>12_uwcse_cora</td>\n",
       "      <td>0.879 +/- 0.122</td>\n",
       "      <td>0.895 +/- 0.081</td>\n",
       "      <td>0.899 +/- 0.078</td>\n",
       "    </tr>\n",
       "    <tr>\n",
       "      <th>12</th>\n",
       "      <td>13_uwcse_cora</td>\n",
       "      <td>1.000 +/- 0.000</td>\n",
       "      <td>0.967 +/- 0.131</td>\n",
       "      <td>0.963 +/- 0.147</td>\n",
       "    </tr>\n",
       "    <tr>\n",
       "      <th>13</th>\n",
       "      <td>14_uwcse_cora</td>\n",
       "      <td>0.400 +/- 0.980</td>\n",
       "      <td>0.700 +/- 0.555</td>\n",
       "      <td>0.702 +/- 0.551</td>\n",
       "    </tr>\n",
       "    <tr>\n",
       "      <th>14</th>\n",
       "      <td>15_yeast_twitter</td>\n",
       "      <td>0.435 +/- 0.092</td>\n",
       "      <td>0.788 +/- 0.154</td>\n",
       "      <td>0.764 +/- 0.155</td>\n",
       "    </tr>\n",
       "    <tr>\n",
       "      <th>15</th>\n",
       "      <td>16_yeast_twitter</td>\n",
       "      <td>0.513 +/- 0.034</td>\n",
       "      <td>0.513 +/- 0.034</td>\n",
       "      <td>0.514 +/- 0.031</td>\n",
       "    </tr>\n",
       "    <tr>\n",
       "      <th>16</th>\n",
       "      <td>17_yeast_twitter</td>\n",
       "      <td>0.000 +/- 0.000</td>\n",
       "      <td>0.000 +/- 0.000</td>\n",
       "      <td>0.000 +/- 0.000</td>\n",
       "    </tr>\n",
       "    <tr>\n",
       "      <th>17</th>\n",
       "      <td>18_yeast_twitter</td>\n",
       "      <td>0.000 +/- 0.000</td>\n",
       "      <td>0.000 +/- 0.000</td>\n",
       "      <td>0.000 +/- 0.000</td>\n",
       "    </tr>\n",
       "    <tr>\n",
       "      <th>18</th>\n",
       "      <td>19_yeast_twitter</td>\n",
       "      <td>0.000 +/- 0.000</td>\n",
       "      <td>0.000 +/- 0.000</td>\n",
       "      <td>0.000 +/- 0.000</td>\n",
       "    </tr>\n",
       "    <tr>\n",
       "      <th>19</th>\n",
       "      <td>20_yeast_twitter</td>\n",
       "      <td>0.000 +/- 0.000</td>\n",
       "      <td>0.000 +/- 0.000</td>\n",
       "      <td>0.000 +/- 0.000</td>\n",
       "    </tr>\n",
       "    <tr>\n",
       "      <th>20</th>\n",
       "      <td>21_yeast_twitter</td>\n",
       "      <td>0.000 +/- 0.000</td>\n",
       "      <td>0.000 +/- 0.000</td>\n",
       "      <td>0.000 +/- 0.000</td>\n",
       "    </tr>\n",
       "    <tr>\n",
       "      <th>21</th>\n",
       "      <td>22_twitter_yeast</td>\n",
       "      <td>0.583 +/- 0.027</td>\n",
       "      <td>0.587 +/- 0.047</td>\n",
       "      <td>0.561 +/- 0.267</td>\n",
       "    </tr>\n",
       "    <tr>\n",
       "      <th>22</th>\n",
       "      <td>23_twitter_yeast</td>\n",
       "      <td>0.519 +/- 0.173</td>\n",
       "      <td>0.520 +/- 0.179</td>\n",
       "      <td>0.466 +/- 0.184</td>\n",
       "    </tr>\n",
       "    <tr>\n",
       "      <th>23</th>\n",
       "      <td>24_twitter_yeast</td>\n",
       "      <td>0.000 +/- 0.000</td>\n",
       "      <td>0.000 +/- 0.000</td>\n",
       "      <td>0.000 +/- 0.000</td>\n",
       "    </tr>\n",
       "    <tr>\n",
       "      <th>24</th>\n",
       "      <td>25_twitter_yeast</td>\n",
       "      <td>0.000 +/- 0.000</td>\n",
       "      <td>0.000 +/- 0.000</td>\n",
       "      <td>0.000 +/- 0.000</td>\n",
       "    </tr>\n",
       "    <tr>\n",
       "      <th>25</th>\n",
       "      <td>26_twitter_yeast</td>\n",
       "      <td>0.000 +/- 0.000</td>\n",
       "      <td>0.000 +/- 0.000</td>\n",
       "      <td>0.000 +/- 0.000</td>\n",
       "    </tr>\n",
       "    <tr>\n",
       "      <th>26</th>\n",
       "      <td>27_twitter_yeast</td>\n",
       "      <td>0.000 +/- 0.000</td>\n",
       "      <td>0.000 +/- 0.000</td>\n",
       "      <td>0.000 +/- 0.000</td>\n",
       "    </tr>\n",
       "    <tr>\n",
       "      <th>27</th>\n",
       "      <td>28_twitter_yeast</td>\n",
       "      <td>0.000 +/- 0.000</td>\n",
       "      <td>0.000 +/- 0.000</td>\n",
       "      <td>0.000 +/- 0.000</td>\n",
       "    </tr>\n",
       "    <tr>\n",
       "      <th>28</th>\n",
       "      <td>29_nell_sports_nell_finances</td>\n",
       "      <td>0.281 +/- 0.057</td>\n",
       "      <td>0.273 +/- 0.045</td>\n",
       "      <td>0.276 +/- 0.010</td>\n",
       "    </tr>\n",
       "    <tr>\n",
       "      <th>29</th>\n",
       "      <td>30_nell_sports_nell_finances</td>\n",
       "      <td>0.322 +/- 0.005</td>\n",
       "      <td>0.276 +/- 0.017</td>\n",
       "      <td>0.304 +/- 0.037</td>\n",
       "    </tr>\n",
       "    <tr>\n",
       "      <th>30</th>\n",
       "      <td>31_nell_sports_nell_finances</td>\n",
       "      <td>0.087 +/- 0.007</td>\n",
       "      <td>0.170 +/- 0.034</td>\n",
       "      <td>0.204 +/- 0.062</td>\n",
       "    </tr>\n",
       "    <tr>\n",
       "      <th>31</th>\n",
       "      <td>32_nell_sports_nell_finances</td>\n",
       "      <td>0.572 +/- 0.494</td>\n",
       "      <td>0.836 +/- 0.099</td>\n",
       "      <td>0.863 +/- 0.077</td>\n",
       "    </tr>\n",
       "    <tr>\n",
       "      <th>32</th>\n",
       "      <td>33_nell_sports_nell_finances</td>\n",
       "      <td>0.035 +/- 0.088</td>\n",
       "      <td>0.066 +/- 0.093</td>\n",
       "      <td>0.062 +/- 0.083</td>\n",
       "    </tr>\n",
       "    <tr>\n",
       "      <th>33</th>\n",
       "      <td>34_nell_sports_nell_finances</td>\n",
       "      <td>0.539 +/- 0.566</td>\n",
       "      <td>0.583 +/- 0.263</td>\n",
       "      <td>0.628 +/- 0.391</td>\n",
       "    </tr>\n",
       "    <tr>\n",
       "      <th>34</th>\n",
       "      <td>35_nell_sports_nell_finances</td>\n",
       "      <td>0.521 +/- 0.241</td>\n",
       "      <td>0.652 +/- 0.417</td>\n",
       "      <td>0.628 +/- 0.391</td>\n",
       "    </tr>\n",
       "    <tr>\n",
       "      <th>35</th>\n",
       "      <td>36_nell_sports_nell_finances</td>\n",
       "      <td>0.031 +/- 0.011</td>\n",
       "      <td>0.051 +/- 0.042</td>\n",
       "      <td>0.066 +/- 0.079</td>\n",
       "    </tr>\n",
       "    <tr>\n",
       "      <th>36</th>\n",
       "      <td>37_nell_sports_nell_finances</td>\n",
       "      <td>0.693 +/- 0.083</td>\n",
       "      <td>0.516 +/- 0.255</td>\n",
       "      <td>0.268 +/- 0.175</td>\n",
       "    </tr>\n",
       "    <tr>\n",
       "      <th>37</th>\n",
       "      <td>38_nell_finances_nell_sports</td>\n",
       "      <td>0.854 +/- 0.019</td>\n",
       "      <td>0.790 +/- 0.147</td>\n",
       "      <td>0.834 +/- 0.134</td>\n",
       "    </tr>\n",
       "    <tr>\n",
       "      <th>38</th>\n",
       "      <td>39_nell_finances_nell_sports</td>\n",
       "      <td>0.732 +/- 0.031</td>\n",
       "      <td>0.839 +/- 0.033</td>\n",
       "      <td>0.843 +/- 0.021</td>\n",
       "    </tr>\n",
       "    <tr>\n",
       "      <th>39</th>\n",
       "      <td>40_nell_finances_nell_sports</td>\n",
       "      <td>0.757 +/- 0.081</td>\n",
       "      <td>0.835 +/- 0.033</td>\n",
       "      <td>0.844 +/- 0.014</td>\n",
       "    </tr>\n",
       "    <tr>\n",
       "      <th>40</th>\n",
       "      <td>41_nell_finances_nell_sports</td>\n",
       "      <td>0.653 +/- 0.064</td>\n",
       "      <td>0.829 +/- 0.014</td>\n",
       "      <td>0.844 +/- 0.020</td>\n",
       "    </tr>\n",
       "    <tr>\n",
       "      <th>41</th>\n",
       "      <td>42_nell_finances_nell_sports</td>\n",
       "      <td>0.000 +/- 0.000</td>\n",
       "      <td>0.865 +/- 0.007</td>\n",
       "      <td>0.882 +/- 0.062</td>\n",
       "    </tr>\n",
       "    <tr>\n",
       "      <th>42</th>\n",
       "      <td>43_nell_finances_nell_sports</td>\n",
       "      <td>0.875 +/- 0.075</td>\n",
       "      <td>0.906 +/- 0.061</td>\n",
       "      <td>0.882 +/- 0.062</td>\n",
       "    </tr>\n",
       "    <tr>\n",
       "      <th>43</th>\n",
       "      <td>44_nell_finances_nell_sports</td>\n",
       "      <td>0.567 +/- 0.249</td>\n",
       "      <td>0.591 +/- 0.122</td>\n",
       "      <td>0.628 +/- 0.111</td>\n",
       "    </tr>\n",
       "    <tr>\n",
       "      <th>44</th>\n",
       "      <td>45_nell_finances_nell_sports</td>\n",
       "      <td>0.513 +/- 0.268</td>\n",
       "      <td>0.648 +/- 0.147</td>\n",
       "      <td>0.681 +/- 0.095</td>\n",
       "    </tr>\n",
       "    <tr>\n",
       "      <th>45</th>\n",
       "      <td>46_nell_finances_nell_sports</td>\n",
       "      <td>0.000 +/- 0.000</td>\n",
       "      <td>0.809 +/- 0.030</td>\n",
       "      <td>0.888 +/- 0.091</td>\n",
       "    </tr>\n",
       "  </tbody>\n",
       "</table>\n",
       "</div>"
      ],
      "text/plain": [
       "                      Experiment Transfer Learning  \\\n",
       "0                   1_imdb_uwcse   1.000 +/- 0.000   \n",
       "1                   2_uwcse_imdb   1.000 +/- 0.000   \n",
       "2                   3_imdb_uwcse   0.543 +/- 0.543   \n",
       "3                   4_uwcse_imdb   0.039 +/- 0.102   \n",
       "4                   5_imdb_uwcse   0.000 +/- 0.000   \n",
       "5                   6_uwcse_imdb   1.000 +/- 0.000   \n",
       "6                    7_imdb_cora   0.768 +/- 0.769   \n",
       "7                    8_imdb_cora   0.727 +/- 0.556   \n",
       "8                    9_imdb_cora   1.000 +/- 0.000   \n",
       "9                   10_imdb_cora   0.400 +/- 0.980   \n",
       "10                 11_uwcse_cora   0.579 +/- 0.947   \n",
       "11                 12_uwcse_cora   0.879 +/- 0.122   \n",
       "12                 13_uwcse_cora   1.000 +/- 0.000   \n",
       "13                 14_uwcse_cora   0.400 +/- 0.980   \n",
       "14              15_yeast_twitter   0.435 +/- 0.092   \n",
       "15              16_yeast_twitter   0.513 +/- 0.034   \n",
       "16              17_yeast_twitter   0.000 +/- 0.000   \n",
       "17              18_yeast_twitter   0.000 +/- 0.000   \n",
       "18              19_yeast_twitter   0.000 +/- 0.000   \n",
       "19              20_yeast_twitter   0.000 +/- 0.000   \n",
       "20              21_yeast_twitter   0.000 +/- 0.000   \n",
       "21              22_twitter_yeast   0.583 +/- 0.027   \n",
       "22              23_twitter_yeast   0.519 +/- 0.173   \n",
       "23              24_twitter_yeast   0.000 +/- 0.000   \n",
       "24              25_twitter_yeast   0.000 +/- 0.000   \n",
       "25              26_twitter_yeast   0.000 +/- 0.000   \n",
       "26              27_twitter_yeast   0.000 +/- 0.000   \n",
       "27              28_twitter_yeast   0.000 +/- 0.000   \n",
       "28  29_nell_sports_nell_finances   0.281 +/- 0.057   \n",
       "29  30_nell_sports_nell_finances   0.322 +/- 0.005   \n",
       "30  31_nell_sports_nell_finances   0.087 +/- 0.007   \n",
       "31  32_nell_sports_nell_finances   0.572 +/- 0.494   \n",
       "32  33_nell_sports_nell_finances   0.035 +/- 0.088   \n",
       "33  34_nell_sports_nell_finances   0.539 +/- 0.566   \n",
       "34  35_nell_sports_nell_finances   0.521 +/- 0.241   \n",
       "35  36_nell_sports_nell_finances   0.031 +/- 0.011   \n",
       "36  37_nell_sports_nell_finances   0.693 +/- 0.083   \n",
       "37  38_nell_finances_nell_sports   0.854 +/- 0.019   \n",
       "38  39_nell_finances_nell_sports   0.732 +/- 0.031   \n",
       "39  40_nell_finances_nell_sports   0.757 +/- 0.081   \n",
       "40  41_nell_finances_nell_sports   0.653 +/- 0.064   \n",
       "41  42_nell_finances_nell_sports   0.000 +/- 0.000   \n",
       "42  43_nell_finances_nell_sports   0.875 +/- 0.075   \n",
       "43  44_nell_finances_nell_sports   0.567 +/- 0.249   \n",
       "44  45_nell_finances_nell_sports   0.513 +/- 0.268   \n",
       "45  46_nell_finances_nell_sports   0.000 +/- 0.000   \n",
       "\n",
       "   Transfer Learning with Revision Theory Learning from scratch  \n",
       "0                         0.992 +/- 0.020       0.984 +/- 0.043  \n",
       "1                         1.000 +/- 0.000       1.000 +/- 0.000  \n",
       "2                         0.508 +/- 0.133       0.494 +/- 0.126  \n",
       "3                         0.298 +/- 0.432       0.285 +/- 0.394  \n",
       "4                         0.451 +/- 0.169       0.407 +/- 0.163  \n",
       "5                         1.000 +/- 0.000       0.800 +/- 0.800  \n",
       "6                         0.758 +/- 0.706       0.773 +/- 0.670  \n",
       "7                         0.894 +/- 0.082       0.899 +/- 0.078  \n",
       "8                         0.979 +/- 0.084       0.978 +/- 0.088  \n",
       "9                         0.702 +/- 0.554       0.701 +/- 0.552  \n",
       "10                        0.753 +/- 0.681       0.761 +/- 0.688  \n",
       "11                        0.895 +/- 0.081       0.899 +/- 0.078  \n",
       "12                        0.967 +/- 0.131       0.963 +/- 0.147  \n",
       "13                        0.700 +/- 0.555       0.702 +/- 0.551  \n",
       "14                        0.788 +/- 0.154       0.764 +/- 0.155  \n",
       "15                        0.513 +/- 0.034       0.514 +/- 0.031  \n",
       "16                        0.000 +/- 0.000       0.000 +/- 0.000  \n",
       "17                        0.000 +/- 0.000       0.000 +/- 0.000  \n",
       "18                        0.000 +/- 0.000       0.000 +/- 0.000  \n",
       "19                        0.000 +/- 0.000       0.000 +/- 0.000  \n",
       "20                        0.000 +/- 0.000       0.000 +/- 0.000  \n",
       "21                        0.587 +/- 0.047       0.561 +/- 0.267  \n",
       "22                        0.520 +/- 0.179       0.466 +/- 0.184  \n",
       "23                        0.000 +/- 0.000       0.000 +/- 0.000  \n",
       "24                        0.000 +/- 0.000       0.000 +/- 0.000  \n",
       "25                        0.000 +/- 0.000       0.000 +/- 0.000  \n",
       "26                        0.000 +/- 0.000       0.000 +/- 0.000  \n",
       "27                        0.000 +/- 0.000       0.000 +/- 0.000  \n",
       "28                        0.273 +/- 0.045       0.276 +/- 0.010  \n",
       "29                        0.276 +/- 0.017       0.304 +/- 0.037  \n",
       "30                        0.170 +/- 0.034       0.204 +/- 0.062  \n",
       "31                        0.836 +/- 0.099       0.863 +/- 0.077  \n",
       "32                        0.066 +/- 0.093       0.062 +/- 0.083  \n",
       "33                        0.583 +/- 0.263       0.628 +/- 0.391  \n",
       "34                        0.652 +/- 0.417       0.628 +/- 0.391  \n",
       "35                        0.051 +/- 0.042       0.066 +/- 0.079  \n",
       "36                        0.516 +/- 0.255       0.268 +/- 0.175  \n",
       "37                        0.790 +/- 0.147       0.834 +/- 0.134  \n",
       "38                        0.839 +/- 0.033       0.843 +/- 0.021  \n",
       "39                        0.835 +/- 0.033       0.844 +/- 0.014  \n",
       "40                        0.829 +/- 0.014       0.844 +/- 0.020  \n",
       "41                        0.865 +/- 0.007       0.882 +/- 0.062  \n",
       "42                        0.906 +/- 0.061       0.882 +/- 0.062  \n",
       "43                        0.591 +/- 0.122       0.628 +/- 0.111  \n",
       "44                        0.648 +/- 0.147       0.681 +/- 0.095  \n",
       "45                        0.809 +/- 0.030       0.888 +/- 0.091  "
      ]
     },
     "metadata": {},
     "output_type": "display_data"
    },
    {
     "data": {
      "text/markdown": [
       "# Results for F1"
      ],
      "text/plain": [
       "<IPython.core.display.Markdown object>"
      ]
     },
     "metadata": {},
     "output_type": "display_data"
    },
    {
     "data": {
      "text/html": [
       "<div>\n",
       "<table border=\"1\" class=\"dataframe\">\n",
       "  <thead>\n",
       "    <tr style=\"text-align: right;\">\n",
       "      <th></th>\n",
       "      <th>Experiment</th>\n",
       "      <th>Transfer Learning</th>\n",
       "      <th>Transfer Learning with Revision Theory</th>\n",
       "      <th>Learning from scratch</th>\n",
       "    </tr>\n",
       "  </thead>\n",
       "  <tbody>\n",
       "    <tr>\n",
       "      <th>0</th>\n",
       "      <td>1_imdb_uwcse</td>\n",
       "      <td>0.942 +/- 0.004</td>\n",
       "      <td>0.941 +/- 0.008</td>\n",
       "      <td>0.930 +/- 0.024</td>\n",
       "    </tr>\n",
       "    <tr>\n",
       "      <th>1</th>\n",
       "      <td>2_uwcse_imdb</td>\n",
       "      <td>1.000 +/- 0.000</td>\n",
       "      <td>1.000 +/- 0.000</td>\n",
       "      <td>0.949 +/- 0.084</td>\n",
       "    </tr>\n",
       "    <tr>\n",
       "      <th>2</th>\n",
       "      <td>3_imdb_uwcse</td>\n",
       "      <td>nan +/- nan</td>\n",
       "      <td>0.554 +/- 0.102</td>\n",
       "      <td>0.546 +/- 0.097</td>\n",
       "    </tr>\n",
       "    <tr>\n",
       "      <th>3</th>\n",
       "      <td>4_uwcse_imdb</td>\n",
       "      <td>nan +/- nan</td>\n",
       "      <td>nan +/- nan</td>\n",
       "      <td>nan +/- nan</td>\n",
       "    </tr>\n",
       "    <tr>\n",
       "      <th>4</th>\n",
       "      <td>5_imdb_uwcse</td>\n",
       "      <td>nan +/- nan</td>\n",
       "      <td>0.469 +/- 0.108</td>\n",
       "      <td>0.443 +/- 0.102</td>\n",
       "    </tr>\n",
       "    <tr>\n",
       "      <th>5</th>\n",
       "      <td>6_uwcse_imdb</td>\n",
       "      <td>0.915 +/- 0.054</td>\n",
       "      <td>0.915 +/- 0.054</td>\n",
       "      <td>nan +/- nan</td>\n",
       "    </tr>\n",
       "    <tr>\n",
       "      <th>6</th>\n",
       "      <td>7_imdb_cora</td>\n",
       "      <td>nan +/- nan</td>\n",
       "      <td>0.608 +/- 0.532</td>\n",
       "      <td>0.660 +/- 0.508</td>\n",
       "    </tr>\n",
       "    <tr>\n",
       "      <th>7</th>\n",
       "      <td>8_imdb_cora</td>\n",
       "      <td>0.706 +/- 0.275</td>\n",
       "      <td>0.891 +/- 0.115</td>\n",
       "      <td>0.892 +/- 0.116</td>\n",
       "    </tr>\n",
       "    <tr>\n",
       "      <th>8</th>\n",
       "      <td>9_imdb_cora</td>\n",
       "      <td>0.971 +/- 0.004</td>\n",
       "      <td>0.961 +/- 0.042</td>\n",
       "      <td>0.952 +/- 0.040</td>\n",
       "    </tr>\n",
       "    <tr>\n",
       "      <th>9</th>\n",
       "      <td>10_imdb_cora</td>\n",
       "      <td>nan +/- nan</td>\n",
       "      <td>0.656 +/- 0.240</td>\n",
       "      <td>0.690 +/- 0.329</td>\n",
       "    </tr>\n",
       "    <tr>\n",
       "      <th>10</th>\n",
       "      <td>11_uwcse_cora</td>\n",
       "      <td>nan +/- nan</td>\n",
       "      <td>0.612 +/- 0.502</td>\n",
       "      <td>0.649 +/- 0.542</td>\n",
       "    </tr>\n",
       "    <tr>\n",
       "      <th>11</th>\n",
       "      <td>12_uwcse_cora</td>\n",
       "      <td>0.875 +/- 0.151</td>\n",
       "      <td>0.891 +/- 0.115</td>\n",
       "      <td>0.892 +/- 0.116</td>\n",
       "    </tr>\n",
       "    <tr>\n",
       "      <th>12</th>\n",
       "      <td>13_uwcse_cora</td>\n",
       "      <td>0.971 +/- 0.004</td>\n",
       "      <td>0.954 +/- 0.068</td>\n",
       "      <td>0.944 +/- 0.072</td>\n",
       "    </tr>\n",
       "    <tr>\n",
       "      <th>13</th>\n",
       "      <td>14_uwcse_cora</td>\n",
       "      <td>nan +/- nan</td>\n",
       "      <td>0.655 +/- 0.244</td>\n",
       "      <td>0.691 +/- 0.327</td>\n",
       "    </tr>\n",
       "    <tr>\n",
       "      <th>14</th>\n",
       "      <td>15_yeast_twitter</td>\n",
       "      <td>0.523 +/- 0.077</td>\n",
       "      <td>0.714 +/- 0.031</td>\n",
       "      <td>0.715 +/- 0.008</td>\n",
       "    </tr>\n",
       "    <tr>\n",
       "      <th>15</th>\n",
       "      <td>16_yeast_twitter</td>\n",
       "      <td>0.612 +/- 0.032</td>\n",
       "      <td>0.612 +/- 0.032</td>\n",
       "      <td>0.612 +/- 0.031</td>\n",
       "    </tr>\n",
       "    <tr>\n",
       "      <th>16</th>\n",
       "      <td>17_yeast_twitter</td>\n",
       "      <td>nan +/- nan</td>\n",
       "      <td>nan +/- nan</td>\n",
       "      <td>nan +/- nan</td>\n",
       "    </tr>\n",
       "    <tr>\n",
       "      <th>17</th>\n",
       "      <td>18_yeast_twitter</td>\n",
       "      <td>nan +/- nan</td>\n",
       "      <td>nan +/- nan</td>\n",
       "      <td>nan +/- nan</td>\n",
       "    </tr>\n",
       "    <tr>\n",
       "      <th>18</th>\n",
       "      <td>19_yeast_twitter</td>\n",
       "      <td>nan +/- nan</td>\n",
       "      <td>nan +/- nan</td>\n",
       "      <td>nan +/- nan</td>\n",
       "    </tr>\n",
       "    <tr>\n",
       "      <th>19</th>\n",
       "      <td>20_yeast_twitter</td>\n",
       "      <td>nan +/- nan</td>\n",
       "      <td>nan +/- nan</td>\n",
       "      <td>nan +/- nan</td>\n",
       "    </tr>\n",
       "    <tr>\n",
       "      <th>20</th>\n",
       "      <td>21_yeast_twitter</td>\n",
       "      <td>nan +/- nan</td>\n",
       "      <td>nan +/- nan</td>\n",
       "      <td>nan +/- nan</td>\n",
       "    </tr>\n",
       "    <tr>\n",
       "      <th>21</th>\n",
       "      <td>22_twitter_yeast</td>\n",
       "      <td>0.715 +/- 0.030</td>\n",
       "      <td>0.718 +/- 0.050</td>\n",
       "      <td>0.689 +/- 0.212</td>\n",
       "    </tr>\n",
       "    <tr>\n",
       "      <th>22</th>\n",
       "      <td>23_twitter_yeast</td>\n",
       "      <td>0.578 +/- 0.071</td>\n",
       "      <td>0.579 +/- 0.073</td>\n",
       "      <td>0.548 +/- 0.126</td>\n",
       "    </tr>\n",
       "    <tr>\n",
       "      <th>23</th>\n",
       "      <td>24_twitter_yeast</td>\n",
       "      <td>nan +/- nan</td>\n",
       "      <td>nan +/- nan</td>\n",
       "      <td>nan +/- nan</td>\n",
       "    </tr>\n",
       "    <tr>\n",
       "      <th>24</th>\n",
       "      <td>25_twitter_yeast</td>\n",
       "      <td>nan +/- nan</td>\n",
       "      <td>nan +/- nan</td>\n",
       "      <td>nan +/- nan</td>\n",
       "    </tr>\n",
       "    <tr>\n",
       "      <th>25</th>\n",
       "      <td>26_twitter_yeast</td>\n",
       "      <td>nan +/- nan</td>\n",
       "      <td>nan +/- nan</td>\n",
       "      <td>nan +/- nan</td>\n",
       "    </tr>\n",
       "    <tr>\n",
       "      <th>26</th>\n",
       "      <td>27_twitter_yeast</td>\n",
       "      <td>nan +/- nan</td>\n",
       "      <td>nan +/- nan</td>\n",
       "      <td>nan +/- nan</td>\n",
       "    </tr>\n",
       "    <tr>\n",
       "      <th>27</th>\n",
       "      <td>28_twitter_yeast</td>\n",
       "      <td>nan +/- nan</td>\n",
       "      <td>nan +/- nan</td>\n",
       "      <td>nan +/- nan</td>\n",
       "    </tr>\n",
       "    <tr>\n",
       "      <th>28</th>\n",
       "      <td>29_nell_sports_nell_finances</td>\n",
       "      <td>0.397 +/- 0.044</td>\n",
       "      <td>0.398 +/- 0.049</td>\n",
       "      <td>0.401 +/- 0.019</td>\n",
       "    </tr>\n",
       "    <tr>\n",
       "      <th>29</th>\n",
       "      <td>30_nell_sports_nell_finances</td>\n",
       "      <td>0.431 +/- 0.010</td>\n",
       "      <td>0.401 +/- 0.032</td>\n",
       "      <td>0.428 +/- 0.042</td>\n",
       "    </tr>\n",
       "    <tr>\n",
       "      <th>30</th>\n",
       "      <td>31_nell_sports_nell_finances</td>\n",
       "      <td>0.156 +/- 0.008</td>\n",
       "      <td>0.268 +/- 0.040</td>\n",
       "      <td>0.311 +/- 0.076</td>\n",
       "    </tr>\n",
       "    <tr>\n",
       "      <th>31</th>\n",
       "      <td>32_nell_sports_nell_finances</td>\n",
       "      <td>0.543 +/- 0.293</td>\n",
       "      <td>0.800 +/- 0.017</td>\n",
       "      <td>0.808 +/- 0.014</td>\n",
       "    </tr>\n",
       "    <tr>\n",
       "      <th>32</th>\n",
       "      <td>33_nell_sports_nell_finances</td>\n",
       "      <td>nan +/- nan</td>\n",
       "      <td>0.112 +/- 0.144</td>\n",
       "      <td>0.106 +/- 0.126</td>\n",
       "    </tr>\n",
       "    <tr>\n",
       "      <th>33</th>\n",
       "      <td>34_nell_sports_nell_finances</td>\n",
       "      <td>0.474 +/- 0.379</td>\n",
       "      <td>0.577 +/- 0.080</td>\n",
       "      <td>0.577 +/- 0.174</td>\n",
       "    </tr>\n",
       "    <tr>\n",
       "      <th>34</th>\n",
       "      <td>35_nell_sports_nell_finances</td>\n",
       "      <td>0.573 +/- 0.136</td>\n",
       "      <td>0.618 +/- 0.203</td>\n",
       "      <td>0.570 +/- 0.167</td>\n",
       "    </tr>\n",
       "    <tr>\n",
       "      <th>35</th>\n",
       "      <td>36_nell_sports_nell_finances</td>\n",
       "      <td>0.059 +/- 0.021</td>\n",
       "      <td>0.093 +/- 0.071</td>\n",
       "      <td>0.113 +/- 0.119</td>\n",
       "    </tr>\n",
       "    <tr>\n",
       "      <th>36</th>\n",
       "      <td>37_nell_sports_nell_finances</td>\n",
       "      <td>0.722 +/- 0.028</td>\n",
       "      <td>0.645 +/- 0.228</td>\n",
       "      <td>0.405 +/- 0.208</td>\n",
       "    </tr>\n",
       "    <tr>\n",
       "      <th>37</th>\n",
       "      <td>38_nell_finances_nell_sports</td>\n",
       "      <td>0.759 +/- 0.007</td>\n",
       "      <td>0.806 +/- 0.060</td>\n",
       "      <td>0.835 +/- 0.071</td>\n",
       "    </tr>\n",
       "    <tr>\n",
       "      <th>38</th>\n",
       "      <td>39_nell_finances_nell_sports</td>\n",
       "      <td>0.737 +/- 0.038</td>\n",
       "      <td>0.865 +/- 0.019</td>\n",
       "      <td>0.866 +/- 0.014</td>\n",
       "    </tr>\n",
       "    <tr>\n",
       "      <th>39</th>\n",
       "      <td>40_nell_finances_nell_sports</td>\n",
       "      <td>0.809 +/- 0.066</td>\n",
       "      <td>0.863 +/- 0.016</td>\n",
       "      <td>0.868 +/- 0.011</td>\n",
       "    </tr>\n",
       "    <tr>\n",
       "      <th>40</th>\n",
       "      <td>41_nell_finances_nell_sports</td>\n",
       "      <td>0.663 +/- 0.046</td>\n",
       "      <td>0.860 +/- 0.013</td>\n",
       "      <td>0.867 +/- 0.013</td>\n",
       "    </tr>\n",
       "    <tr>\n",
       "      <th>41</th>\n",
       "      <td>42_nell_finances_nell_sports</td>\n",
       "      <td>nan +/- nan</td>\n",
       "      <td>0.909 +/- 0.006</td>\n",
       "      <td>0.922 +/- 0.018</td>\n",
       "    </tr>\n",
       "    <tr>\n",
       "      <th>42</th>\n",
       "      <td>43_nell_finances_nell_sports</td>\n",
       "      <td>0.917 +/- 0.011</td>\n",
       "      <td>0.929 +/- 0.016</td>\n",
       "      <td>0.923 +/- 0.018</td>\n",
       "    </tr>\n",
       "    <tr>\n",
       "      <th>43</th>\n",
       "      <td>44_nell_finances_nell_sports</td>\n",
       "      <td>0.610 +/- 0.120</td>\n",
       "      <td>0.685 +/- 0.065</td>\n",
       "      <td>0.707 +/- 0.056</td>\n",
       "    </tr>\n",
       "    <tr>\n",
       "      <th>44</th>\n",
       "      <td>45_nell_finances_nell_sports</td>\n",
       "      <td>0.572 +/- 0.160</td>\n",
       "      <td>0.707 +/- 0.056</td>\n",
       "      <td>0.726 +/- 0.035</td>\n",
       "    </tr>\n",
       "    <tr>\n",
       "      <th>45</th>\n",
       "      <td>46_nell_finances_nell_sports</td>\n",
       "      <td>nan +/- nan</td>\n",
       "      <td>0.791 +/- 0.005</td>\n",
       "      <td>0.860 +/- 0.004</td>\n",
       "    </tr>\n",
       "  </tbody>\n",
       "</table>\n",
       "</div>"
      ],
      "text/plain": [
       "                      Experiment Transfer Learning  \\\n",
       "0                   1_imdb_uwcse   0.942 +/- 0.004   \n",
       "1                   2_uwcse_imdb   1.000 +/- 0.000   \n",
       "2                   3_imdb_uwcse       nan +/- nan   \n",
       "3                   4_uwcse_imdb       nan +/- nan   \n",
       "4                   5_imdb_uwcse       nan +/- nan   \n",
       "5                   6_uwcse_imdb   0.915 +/- 0.054   \n",
       "6                    7_imdb_cora       nan +/- nan   \n",
       "7                    8_imdb_cora   0.706 +/- 0.275   \n",
       "8                    9_imdb_cora   0.971 +/- 0.004   \n",
       "9                   10_imdb_cora       nan +/- nan   \n",
       "10                 11_uwcse_cora       nan +/- nan   \n",
       "11                 12_uwcse_cora   0.875 +/- 0.151   \n",
       "12                 13_uwcse_cora   0.971 +/- 0.004   \n",
       "13                 14_uwcse_cora       nan +/- nan   \n",
       "14              15_yeast_twitter   0.523 +/- 0.077   \n",
       "15              16_yeast_twitter   0.612 +/- 0.032   \n",
       "16              17_yeast_twitter       nan +/- nan   \n",
       "17              18_yeast_twitter       nan +/- nan   \n",
       "18              19_yeast_twitter       nan +/- nan   \n",
       "19              20_yeast_twitter       nan +/- nan   \n",
       "20              21_yeast_twitter       nan +/- nan   \n",
       "21              22_twitter_yeast   0.715 +/- 0.030   \n",
       "22              23_twitter_yeast   0.578 +/- 0.071   \n",
       "23              24_twitter_yeast       nan +/- nan   \n",
       "24              25_twitter_yeast       nan +/- nan   \n",
       "25              26_twitter_yeast       nan +/- nan   \n",
       "26              27_twitter_yeast       nan +/- nan   \n",
       "27              28_twitter_yeast       nan +/- nan   \n",
       "28  29_nell_sports_nell_finances   0.397 +/- 0.044   \n",
       "29  30_nell_sports_nell_finances   0.431 +/- 0.010   \n",
       "30  31_nell_sports_nell_finances   0.156 +/- 0.008   \n",
       "31  32_nell_sports_nell_finances   0.543 +/- 0.293   \n",
       "32  33_nell_sports_nell_finances       nan +/- nan   \n",
       "33  34_nell_sports_nell_finances   0.474 +/- 0.379   \n",
       "34  35_nell_sports_nell_finances   0.573 +/- 0.136   \n",
       "35  36_nell_sports_nell_finances   0.059 +/- 0.021   \n",
       "36  37_nell_sports_nell_finances   0.722 +/- 0.028   \n",
       "37  38_nell_finances_nell_sports   0.759 +/- 0.007   \n",
       "38  39_nell_finances_nell_sports   0.737 +/- 0.038   \n",
       "39  40_nell_finances_nell_sports   0.809 +/- 0.066   \n",
       "40  41_nell_finances_nell_sports   0.663 +/- 0.046   \n",
       "41  42_nell_finances_nell_sports       nan +/- nan   \n",
       "42  43_nell_finances_nell_sports   0.917 +/- 0.011   \n",
       "43  44_nell_finances_nell_sports   0.610 +/- 0.120   \n",
       "44  45_nell_finances_nell_sports   0.572 +/- 0.160   \n",
       "45  46_nell_finances_nell_sports       nan +/- nan   \n",
       "\n",
       "   Transfer Learning with Revision Theory Learning from scratch  \n",
       "0                         0.941 +/- 0.008       0.930 +/- 0.024  \n",
       "1                         1.000 +/- 0.000       0.949 +/- 0.084  \n",
       "2                         0.554 +/- 0.102       0.546 +/- 0.097  \n",
       "3                             nan +/- nan           nan +/- nan  \n",
       "4                         0.469 +/- 0.108       0.443 +/- 0.102  \n",
       "5                         0.915 +/- 0.054           nan +/- nan  \n",
       "6                         0.608 +/- 0.532       0.660 +/- 0.508  \n",
       "7                         0.891 +/- 0.115       0.892 +/- 0.116  \n",
       "8                         0.961 +/- 0.042       0.952 +/- 0.040  \n",
       "9                         0.656 +/- 0.240       0.690 +/- 0.329  \n",
       "10                        0.612 +/- 0.502       0.649 +/- 0.542  \n",
       "11                        0.891 +/- 0.115       0.892 +/- 0.116  \n",
       "12                        0.954 +/- 0.068       0.944 +/- 0.072  \n",
       "13                        0.655 +/- 0.244       0.691 +/- 0.327  \n",
       "14                        0.714 +/- 0.031       0.715 +/- 0.008  \n",
       "15                        0.612 +/- 0.032       0.612 +/- 0.031  \n",
       "16                            nan +/- nan           nan +/- nan  \n",
       "17                            nan +/- nan           nan +/- nan  \n",
       "18                            nan +/- nan           nan +/- nan  \n",
       "19                            nan +/- nan           nan +/- nan  \n",
       "20                            nan +/- nan           nan +/- nan  \n",
       "21                        0.718 +/- 0.050       0.689 +/- 0.212  \n",
       "22                        0.579 +/- 0.073       0.548 +/- 0.126  \n",
       "23                            nan +/- nan           nan +/- nan  \n",
       "24                            nan +/- nan           nan +/- nan  \n",
       "25                            nan +/- nan           nan +/- nan  \n",
       "26                            nan +/- nan           nan +/- nan  \n",
       "27                            nan +/- nan           nan +/- nan  \n",
       "28                        0.398 +/- 0.049       0.401 +/- 0.019  \n",
       "29                        0.401 +/- 0.032       0.428 +/- 0.042  \n",
       "30                        0.268 +/- 0.040       0.311 +/- 0.076  \n",
       "31                        0.800 +/- 0.017       0.808 +/- 0.014  \n",
       "32                        0.112 +/- 0.144       0.106 +/- 0.126  \n",
       "33                        0.577 +/- 0.080       0.577 +/- 0.174  \n",
       "34                        0.618 +/- 0.203       0.570 +/- 0.167  \n",
       "35                        0.093 +/- 0.071       0.113 +/- 0.119  \n",
       "36                        0.645 +/- 0.228       0.405 +/- 0.208  \n",
       "37                        0.806 +/- 0.060       0.835 +/- 0.071  \n",
       "38                        0.865 +/- 0.019       0.866 +/- 0.014  \n",
       "39                        0.863 +/- 0.016       0.868 +/- 0.011  \n",
       "40                        0.860 +/- 0.013       0.867 +/- 0.013  \n",
       "41                        0.909 +/- 0.006       0.922 +/- 0.018  \n",
       "42                        0.929 +/- 0.016       0.923 +/- 0.018  \n",
       "43                        0.685 +/- 0.065       0.707 +/- 0.056  \n",
       "44                        0.707 +/- 0.056       0.726 +/- 0.035  \n",
       "45                        0.791 +/- 0.005       0.860 +/- 0.004  "
      ]
     },
     "metadata": {},
     "output_type": "display_data"
    },
    {
     "data": {
      "text/markdown": [
       "# Results for Precision"
      ],
      "text/plain": [
       "<IPython.core.display.Markdown object>"
      ]
     },
     "metadata": {},
     "output_type": "display_data"
    },
    {
     "data": {
      "text/html": [
       "<div>\n",
       "<table border=\"1\" class=\"dataframe\">\n",
       "  <thead>\n",
       "    <tr style=\"text-align: right;\">\n",
       "      <th></th>\n",
       "      <th>Experiment</th>\n",
       "      <th>Transfer Learning</th>\n",
       "      <th>Transfer Learning with Revision Theory</th>\n",
       "      <th>Learning from scratch</th>\n",
       "    </tr>\n",
       "  </thead>\n",
       "  <tbody>\n",
       "    <tr>\n",
       "      <th>0</th>\n",
       "      <td>1_imdb_uwcse</td>\n",
       "      <td>0.889 +/- 0.008</td>\n",
       "      <td>0.895 +/- 0.014</td>\n",
       "      <td>0.882 +/- 0.052</td>\n",
       "    </tr>\n",
       "    <tr>\n",
       "      <th>1</th>\n",
       "      <td>2_uwcse_imdb</td>\n",
       "      <td>1.000 +/- 0.000</td>\n",
       "      <td>1.000 +/- 0.000</td>\n",
       "      <td>0.905 +/- 0.155</td>\n",
       "    </tr>\n",
       "    <tr>\n",
       "      <th>2</th>\n",
       "      <td>3_imdb_uwcse</td>\n",
       "      <td>nan +/- nan</td>\n",
       "      <td>0.618 +/- 0.114</td>\n",
       "      <td>0.618 +/- 0.111</td>\n",
       "    </tr>\n",
       "    <tr>\n",
       "      <th>3</th>\n",
       "      <td>4_uwcse_imdb</td>\n",
       "      <td>nan +/- nan</td>\n",
       "      <td>nan +/- nan</td>\n",
       "      <td>nan +/- nan</td>\n",
       "    </tr>\n",
       "    <tr>\n",
       "      <th>4</th>\n",
       "      <td>5_imdb_uwcse</td>\n",
       "      <td>nan +/- nan</td>\n",
       "      <td>0.500 +/- 0.009</td>\n",
       "      <td>0.499 +/- 0.019</td>\n",
       "    </tr>\n",
       "    <tr>\n",
       "      <th>5</th>\n",
       "      <td>6_uwcse_imdb</td>\n",
       "      <td>0.845 +/- 0.095</td>\n",
       "      <td>0.845 +/- 0.095</td>\n",
       "      <td>nan +/- nan</td>\n",
       "    </tr>\n",
       "    <tr>\n",
       "      <th>6</th>\n",
       "      <td>7_imdb_cora</td>\n",
       "      <td>nan +/- nan</td>\n",
       "      <td>0.603 +/- 0.233</td>\n",
       "      <td>0.674 +/- 0.251</td>\n",
       "    </tr>\n",
       "    <tr>\n",
       "      <th>7</th>\n",
       "      <td>8_imdb_cora</td>\n",
       "      <td>0.822 +/- 0.367</td>\n",
       "      <td>0.906 +/- 0.260</td>\n",
       "      <td>0.903 +/- 0.257</td>\n",
       "    </tr>\n",
       "    <tr>\n",
       "      <th>8</th>\n",
       "      <td>9_imdb_cora</td>\n",
       "      <td>0.944 +/- 0.008</td>\n",
       "      <td>0.944 +/- 0.008</td>\n",
       "      <td>0.930 +/- 0.035</td>\n",
       "    </tr>\n",
       "    <tr>\n",
       "      <th>9</th>\n",
       "      <td>10_imdb_cora</td>\n",
       "      <td>nan +/- nan</td>\n",
       "      <td>0.722 +/- 0.218</td>\n",
       "      <td>0.783 +/- 0.272</td>\n",
       "    </tr>\n",
       "    <tr>\n",
       "      <th>10</th>\n",
       "      <td>11_uwcse_cora</td>\n",
       "      <td>nan +/- nan</td>\n",
       "      <td>0.610 +/- 0.224</td>\n",
       "      <td>0.674 +/- 0.251</td>\n",
       "    </tr>\n",
       "    <tr>\n",
       "      <th>11</th>\n",
       "      <td>12_uwcse_cora</td>\n",
       "      <td>0.902 +/- 0.335</td>\n",
       "      <td>0.904 +/- 0.258</td>\n",
       "      <td>0.903 +/- 0.257</td>\n",
       "    </tr>\n",
       "    <tr>\n",
       "      <th>12</th>\n",
       "      <td>13_uwcse_cora</td>\n",
       "      <td>0.944 +/- 0.008</td>\n",
       "      <td>0.944 +/- 0.008</td>\n",
       "      <td>0.929 +/- 0.035</td>\n",
       "    </tr>\n",
       "    <tr>\n",
       "      <th>13</th>\n",
       "      <td>14_uwcse_cora</td>\n",
       "      <td>nan +/- nan</td>\n",
       "      <td>0.724 +/- 0.217</td>\n",
       "      <td>0.782 +/- 0.271</td>\n",
       "    </tr>\n",
       "    <tr>\n",
       "      <th>14</th>\n",
       "      <td>15_yeast_twitter</td>\n",
       "      <td>0.660 +/- 0.031</td>\n",
       "      <td>0.658 +/- 0.055</td>\n",
       "      <td>0.683 +/- 0.111</td>\n",
       "    </tr>\n",
       "    <tr>\n",
       "      <th>15</th>\n",
       "      <td>16_yeast_twitter</td>\n",
       "      <td>0.757 +/- 0.026</td>\n",
       "      <td>0.757 +/- 0.026</td>\n",
       "      <td>0.756 +/- 0.028</td>\n",
       "    </tr>\n",
       "    <tr>\n",
       "      <th>16</th>\n",
       "      <td>17_yeast_twitter</td>\n",
       "      <td>nan +/- nan</td>\n",
       "      <td>nan +/- nan</td>\n",
       "      <td>nan +/- nan</td>\n",
       "    </tr>\n",
       "    <tr>\n",
       "      <th>17</th>\n",
       "      <td>18_yeast_twitter</td>\n",
       "      <td>nan +/- nan</td>\n",
       "      <td>nan +/- nan</td>\n",
       "      <td>nan +/- nan</td>\n",
       "    </tr>\n",
       "    <tr>\n",
       "      <th>18</th>\n",
       "      <td>19_yeast_twitter</td>\n",
       "      <td>nan +/- nan</td>\n",
       "      <td>nan +/- nan</td>\n",
       "      <td>nan +/- nan</td>\n",
       "    </tr>\n",
       "    <tr>\n",
       "      <th>19</th>\n",
       "      <td>20_yeast_twitter</td>\n",
       "      <td>nan +/- nan</td>\n",
       "      <td>nan +/- nan</td>\n",
       "      <td>nan +/- nan</td>\n",
       "    </tr>\n",
       "    <tr>\n",
       "      <th>20</th>\n",
       "      <td>21_yeast_twitter</td>\n",
       "      <td>nan +/- nan</td>\n",
       "      <td>nan +/- nan</td>\n",
       "      <td>nan +/- nan</td>\n",
       "    </tr>\n",
       "    <tr>\n",
       "      <th>21</th>\n",
       "      <td>22_twitter_yeast</td>\n",
       "      <td>0.926 +/- 0.036</td>\n",
       "      <td>0.925 +/- 0.048</td>\n",
       "      <td>0.923 +/- 0.059</td>\n",
       "    </tr>\n",
       "    <tr>\n",
       "      <th>22</th>\n",
       "      <td>23_twitter_yeast</td>\n",
       "      <td>0.669 +/- 0.069</td>\n",
       "      <td>0.672 +/- 0.074</td>\n",
       "      <td>0.682 +/- 0.029</td>\n",
       "    </tr>\n",
       "    <tr>\n",
       "      <th>23</th>\n",
       "      <td>24_twitter_yeast</td>\n",
       "      <td>nan +/- nan</td>\n",
       "      <td>nan +/- nan</td>\n",
       "      <td>nan +/- nan</td>\n",
       "    </tr>\n",
       "    <tr>\n",
       "      <th>24</th>\n",
       "      <td>25_twitter_yeast</td>\n",
       "      <td>nan +/- nan</td>\n",
       "      <td>nan +/- nan</td>\n",
       "      <td>nan +/- nan</td>\n",
       "    </tr>\n",
       "    <tr>\n",
       "      <th>25</th>\n",
       "      <td>26_twitter_yeast</td>\n",
       "      <td>nan +/- nan</td>\n",
       "      <td>nan +/- nan</td>\n",
       "      <td>nan +/- nan</td>\n",
       "    </tr>\n",
       "    <tr>\n",
       "      <th>26</th>\n",
       "      <td>27_twitter_yeast</td>\n",
       "      <td>nan +/- nan</td>\n",
       "      <td>nan +/- nan</td>\n",
       "      <td>nan +/- nan</td>\n",
       "    </tr>\n",
       "    <tr>\n",
       "      <th>27</th>\n",
       "      <td>28_twitter_yeast</td>\n",
       "      <td>nan +/- nan</td>\n",
       "      <td>nan +/- nan</td>\n",
       "      <td>nan +/- nan</td>\n",
       "    </tr>\n",
       "    <tr>\n",
       "      <th>28</th>\n",
       "      <td>29_nell_sports_nell_finances</td>\n",
       "      <td>0.690 +/- 0.085</td>\n",
       "      <td>0.738 +/- 0.034</td>\n",
       "      <td>0.731 +/- 0.067</td>\n",
       "    </tr>\n",
       "    <tr>\n",
       "      <th>29</th>\n",
       "      <td>30_nell_sports_nell_finances</td>\n",
       "      <td>0.655 +/- 0.058</td>\n",
       "      <td>0.734 +/- 0.094</td>\n",
       "      <td>0.724 +/- 0.045</td>\n",
       "    </tr>\n",
       "    <tr>\n",
       "      <th>30</th>\n",
       "      <td>31_nell_sports_nell_finances</td>\n",
       "      <td>0.812 +/- 0.301</td>\n",
       "      <td>0.642 +/- 0.078</td>\n",
       "      <td>0.655 +/- 0.071</td>\n",
       "    </tr>\n",
       "    <tr>\n",
       "      <th>31</th>\n",
       "      <td>32_nell_sports_nell_finances</td>\n",
       "      <td>0.606 +/- 0.112</td>\n",
       "      <td>0.771 +/- 0.054</td>\n",
       "      <td>0.762 +/- 0.073</td>\n",
       "    </tr>\n",
       "    <tr>\n",
       "      <th>32</th>\n",
       "      <td>33_nell_sports_nell_finances</td>\n",
       "      <td>nan +/- nan</td>\n",
       "      <td>0.469 +/- 0.106</td>\n",
       "      <td>0.549 +/- 0.221</td>\n",
       "    </tr>\n",
       "    <tr>\n",
       "      <th>33</th>\n",
       "      <td>34_nell_sports_nell_finances</td>\n",
       "      <td>0.476 +/- 0.123</td>\n",
       "      <td>0.601 +/- 0.120</td>\n",
       "      <td>0.574 +/- 0.073</td>\n",
       "    </tr>\n",
       "    <tr>\n",
       "      <th>34</th>\n",
       "      <td>35_nell_sports_nell_finances</td>\n",
       "      <td>0.669 +/- 0.099</td>\n",
       "      <td>0.642 +/- 0.122</td>\n",
       "      <td>0.564 +/- 0.087</td>\n",
       "    </tr>\n",
       "    <tr>\n",
       "      <th>35</th>\n",
       "      <td>36_nell_sports_nell_finances</td>\n",
       "      <td>0.846 +/- 0.435</td>\n",
       "      <td>0.633 +/- 0.288</td>\n",
       "      <td>0.541 +/- 0.085</td>\n",
       "    </tr>\n",
       "    <tr>\n",
       "      <th>36</th>\n",
       "      <td>37_nell_sports_nell_finances</td>\n",
       "      <td>0.757 +/- 0.047</td>\n",
       "      <td>0.891 +/- 0.046</td>\n",
       "      <td>0.913 +/- 0.086</td>\n",
       "    </tr>\n",
       "    <tr>\n",
       "      <th>37</th>\n",
       "      <td>38_nell_finances_nell_sports</td>\n",
       "      <td>0.684 +/- 0.013</td>\n",
       "      <td>0.828 +/- 0.044</td>\n",
       "      <td>0.838 +/- 0.022</td>\n",
       "    </tr>\n",
       "    <tr>\n",
       "      <th>38</th>\n",
       "      <td>39_nell_finances_nell_sports</td>\n",
       "      <td>0.742 +/- 0.054</td>\n",
       "      <td>0.893 +/- 0.004</td>\n",
       "      <td>0.891 +/- 0.010</td>\n",
       "    </tr>\n",
       "    <tr>\n",
       "      <th>39</th>\n",
       "      <td>40_nell_finances_nell_sports</td>\n",
       "      <td>0.868 +/- 0.045</td>\n",
       "      <td>0.893 +/- 0.012</td>\n",
       "      <td>0.892 +/- 0.010</td>\n",
       "    </tr>\n",
       "    <tr>\n",
       "      <th>40</th>\n",
       "      <td>41_nell_finances_nell_sports</td>\n",
       "      <td>0.675 +/- 0.039</td>\n",
       "      <td>0.893 +/- 0.014</td>\n",
       "      <td>0.892 +/- 0.010</td>\n",
       "    </tr>\n",
       "    <tr>\n",
       "      <th>41</th>\n",
       "      <td>42_nell_finances_nell_sports</td>\n",
       "      <td>nan +/- nan</td>\n",
       "      <td>0.958 +/- 0.011</td>\n",
       "      <td>0.968 +/- 0.034</td>\n",
       "    </tr>\n",
       "    <tr>\n",
       "      <th>42</th>\n",
       "      <td>43_nell_finances_nell_sports</td>\n",
       "      <td>0.965 +/- 0.066</td>\n",
       "      <td>0.955 +/- 0.036</td>\n",
       "      <td>0.969 +/- 0.036</td>\n",
       "    </tr>\n",
       "    <tr>\n",
       "      <th>43</th>\n",
       "      <td>44_nell_finances_nell_sports</td>\n",
       "      <td>0.701 +/- 0.143</td>\n",
       "      <td>0.823 +/- 0.042</td>\n",
       "      <td>0.815 +/- 0.044</td>\n",
       "    </tr>\n",
       "    <tr>\n",
       "      <th>44</th>\n",
       "      <td>45_nell_finances_nell_sports</td>\n",
       "      <td>0.695 +/- 0.136</td>\n",
       "      <td>0.786 +/- 0.068</td>\n",
       "      <td>0.781 +/- 0.047</td>\n",
       "    </tr>\n",
       "    <tr>\n",
       "      <th>45</th>\n",
       "      <td>46_nell_finances_nell_sports</td>\n",
       "      <td>nan +/- nan</td>\n",
       "      <td>0.775 +/- 0.026</td>\n",
       "      <td>0.838 +/- 0.072</td>\n",
       "    </tr>\n",
       "  </tbody>\n",
       "</table>\n",
       "</div>"
      ],
      "text/plain": [
       "                      Experiment Transfer Learning  \\\n",
       "0                   1_imdb_uwcse   0.889 +/- 0.008   \n",
       "1                   2_uwcse_imdb   1.000 +/- 0.000   \n",
       "2                   3_imdb_uwcse       nan +/- nan   \n",
       "3                   4_uwcse_imdb       nan +/- nan   \n",
       "4                   5_imdb_uwcse       nan +/- nan   \n",
       "5                   6_uwcse_imdb   0.845 +/- 0.095   \n",
       "6                    7_imdb_cora       nan +/- nan   \n",
       "7                    8_imdb_cora   0.822 +/- 0.367   \n",
       "8                    9_imdb_cora   0.944 +/- 0.008   \n",
       "9                   10_imdb_cora       nan +/- nan   \n",
       "10                 11_uwcse_cora       nan +/- nan   \n",
       "11                 12_uwcse_cora   0.902 +/- 0.335   \n",
       "12                 13_uwcse_cora   0.944 +/- 0.008   \n",
       "13                 14_uwcse_cora       nan +/- nan   \n",
       "14              15_yeast_twitter   0.660 +/- 0.031   \n",
       "15              16_yeast_twitter   0.757 +/- 0.026   \n",
       "16              17_yeast_twitter       nan +/- nan   \n",
       "17              18_yeast_twitter       nan +/- nan   \n",
       "18              19_yeast_twitter       nan +/- nan   \n",
       "19              20_yeast_twitter       nan +/- nan   \n",
       "20              21_yeast_twitter       nan +/- nan   \n",
       "21              22_twitter_yeast   0.926 +/- 0.036   \n",
       "22              23_twitter_yeast   0.669 +/- 0.069   \n",
       "23              24_twitter_yeast       nan +/- nan   \n",
       "24              25_twitter_yeast       nan +/- nan   \n",
       "25              26_twitter_yeast       nan +/- nan   \n",
       "26              27_twitter_yeast       nan +/- nan   \n",
       "27              28_twitter_yeast       nan +/- nan   \n",
       "28  29_nell_sports_nell_finances   0.690 +/- 0.085   \n",
       "29  30_nell_sports_nell_finances   0.655 +/- 0.058   \n",
       "30  31_nell_sports_nell_finances   0.812 +/- 0.301   \n",
       "31  32_nell_sports_nell_finances   0.606 +/- 0.112   \n",
       "32  33_nell_sports_nell_finances       nan +/- nan   \n",
       "33  34_nell_sports_nell_finances   0.476 +/- 0.123   \n",
       "34  35_nell_sports_nell_finances   0.669 +/- 0.099   \n",
       "35  36_nell_sports_nell_finances   0.846 +/- 0.435   \n",
       "36  37_nell_sports_nell_finances   0.757 +/- 0.047   \n",
       "37  38_nell_finances_nell_sports   0.684 +/- 0.013   \n",
       "38  39_nell_finances_nell_sports   0.742 +/- 0.054   \n",
       "39  40_nell_finances_nell_sports   0.868 +/- 0.045   \n",
       "40  41_nell_finances_nell_sports   0.675 +/- 0.039   \n",
       "41  42_nell_finances_nell_sports       nan +/- nan   \n",
       "42  43_nell_finances_nell_sports   0.965 +/- 0.066   \n",
       "43  44_nell_finances_nell_sports   0.701 +/- 0.143   \n",
       "44  45_nell_finances_nell_sports   0.695 +/- 0.136   \n",
       "45  46_nell_finances_nell_sports       nan +/- nan   \n",
       "\n",
       "   Transfer Learning with Revision Theory Learning from scratch  \n",
       "0                         0.895 +/- 0.014       0.882 +/- 0.052  \n",
       "1                         1.000 +/- 0.000       0.905 +/- 0.155  \n",
       "2                         0.618 +/- 0.114       0.618 +/- 0.111  \n",
       "3                             nan +/- nan           nan +/- nan  \n",
       "4                         0.500 +/- 0.009       0.499 +/- 0.019  \n",
       "5                         0.845 +/- 0.095           nan +/- nan  \n",
       "6                         0.603 +/- 0.233       0.674 +/- 0.251  \n",
       "7                         0.906 +/- 0.260       0.903 +/- 0.257  \n",
       "8                         0.944 +/- 0.008       0.930 +/- 0.035  \n",
       "9                         0.722 +/- 0.218       0.783 +/- 0.272  \n",
       "10                        0.610 +/- 0.224       0.674 +/- 0.251  \n",
       "11                        0.904 +/- 0.258       0.903 +/- 0.257  \n",
       "12                        0.944 +/- 0.008       0.929 +/- 0.035  \n",
       "13                        0.724 +/- 0.217       0.782 +/- 0.271  \n",
       "14                        0.658 +/- 0.055       0.683 +/- 0.111  \n",
       "15                        0.757 +/- 0.026       0.756 +/- 0.028  \n",
       "16                            nan +/- nan           nan +/- nan  \n",
       "17                            nan +/- nan           nan +/- nan  \n",
       "18                            nan +/- nan           nan +/- nan  \n",
       "19                            nan +/- nan           nan +/- nan  \n",
       "20                            nan +/- nan           nan +/- nan  \n",
       "21                        0.925 +/- 0.048       0.923 +/- 0.059  \n",
       "22                        0.672 +/- 0.074       0.682 +/- 0.029  \n",
       "23                            nan +/- nan           nan +/- nan  \n",
       "24                            nan +/- nan           nan +/- nan  \n",
       "25                            nan +/- nan           nan +/- nan  \n",
       "26                            nan +/- nan           nan +/- nan  \n",
       "27                            nan +/- nan           nan +/- nan  \n",
       "28                        0.738 +/- 0.034       0.731 +/- 0.067  \n",
       "29                        0.734 +/- 0.094       0.724 +/- 0.045  \n",
       "30                        0.642 +/- 0.078       0.655 +/- 0.071  \n",
       "31                        0.771 +/- 0.054       0.762 +/- 0.073  \n",
       "32                        0.469 +/- 0.106       0.549 +/- 0.221  \n",
       "33                        0.601 +/- 0.120       0.574 +/- 0.073  \n",
       "34                        0.642 +/- 0.122       0.564 +/- 0.087  \n",
       "35                        0.633 +/- 0.288       0.541 +/- 0.085  \n",
       "36                        0.891 +/- 0.046       0.913 +/- 0.086  \n",
       "37                        0.828 +/- 0.044       0.838 +/- 0.022  \n",
       "38                        0.893 +/- 0.004       0.891 +/- 0.010  \n",
       "39                        0.893 +/- 0.012       0.892 +/- 0.010  \n",
       "40                        0.893 +/- 0.014       0.892 +/- 0.010  \n",
       "41                        0.958 +/- 0.011       0.968 +/- 0.034  \n",
       "42                        0.955 +/- 0.036       0.969 +/- 0.036  \n",
       "43                        0.823 +/- 0.042       0.815 +/- 0.044  \n",
       "44                        0.786 +/- 0.068       0.781 +/- 0.047  \n",
       "45                        0.775 +/- 0.026       0.838 +/- 0.072  "
      ]
     },
     "metadata": {},
     "output_type": "display_data"
    },
    {
     "data": {
      "text/markdown": [
       "# Results for Learning and Revision time"
      ],
      "text/plain": [
       "<IPython.core.display.Markdown object>"
      ]
     },
     "metadata": {},
     "output_type": "display_data"
    },
    {
     "data": {
      "text/html": [
       "<div>\n",
       "<table border=\"1\" class=\"dataframe\">\n",
       "  <thead>\n",
       "    <tr style=\"text-align: right;\">\n",
       "      <th></th>\n",
       "      <th>Experiment</th>\n",
       "      <th>Transfer Learning</th>\n",
       "      <th>Transfer Learning with Revision Theory</th>\n",
       "      <th>Learning from scratch</th>\n",
       "    </tr>\n",
       "  </thead>\n",
       "  <tbody>\n",
       "    <tr>\n",
       "      <th>0</th>\n",
       "      <td>1_imdb_uwcse</td>\n",
       "      <td>3.491 +/- 2.285</td>\n",
       "      <td>8.312 +/- 6.245</td>\n",
       "      <td>5.540 +/- 4.090</td>\n",
       "    </tr>\n",
       "    <tr>\n",
       "      <th>1</th>\n",
       "      <td>2_uwcse_imdb</td>\n",
       "      <td>2.135 +/- 2.042</td>\n",
       "      <td>4.392 +/- 3.867</td>\n",
       "      <td>2.479 +/- 1.407</td>\n",
       "    </tr>\n",
       "    <tr>\n",
       "      <th>2</th>\n",
       "      <td>3_imdb_uwcse</td>\n",
       "      <td>9.211 +/- 16.222</td>\n",
       "      <td>25.251 +/- 42.025</td>\n",
       "      <td>18.635 +/- 27.361</td>\n",
       "    </tr>\n",
       "    <tr>\n",
       "      <th>3</th>\n",
       "      <td>4_uwcse_imdb</td>\n",
       "      <td>1.521 +/- 0.452</td>\n",
       "      <td>4.563 +/- 2.177</td>\n",
       "      <td>1.890 +/- 0.479</td>\n",
       "    </tr>\n",
       "    <tr>\n",
       "      <th>4</th>\n",
       "      <td>5_imdb_uwcse</td>\n",
       "      <td>4.063 +/- 3.638</td>\n",
       "      <td>15.342 +/- 9.945</td>\n",
       "      <td>10.989 +/- 7.418</td>\n",
       "    </tr>\n",
       "    <tr>\n",
       "      <th>5</th>\n",
       "      <td>6_uwcse_imdb</td>\n",
       "      <td>1.041 +/- 0.409</td>\n",
       "      <td>2.107 +/- 1.146</td>\n",
       "      <td>1.192 +/- 0.604</td>\n",
       "    </tr>\n",
       "    <tr>\n",
       "      <th>6</th>\n",
       "      <td>7_imdb_cora</td>\n",
       "      <td>67.706 +/- 102.821</td>\n",
       "      <td>197.865 +/- 259.196</td>\n",
       "      <td>162.324 +/- 123.765</td>\n",
       "    </tr>\n",
       "    <tr>\n",
       "      <th>7</th>\n",
       "      <td>8_imdb_cora</td>\n",
       "      <td>121.834 +/- 98.690</td>\n",
       "      <td>330.410 +/- 321.972</td>\n",
       "      <td>225.673 +/- 195.755</td>\n",
       "    </tr>\n",
       "    <tr>\n",
       "      <th>8</th>\n",
       "      <td>9_imdb_cora</td>\n",
       "      <td>3.910 +/- 1.723</td>\n",
       "      <td>12.307 +/- 6.040</td>\n",
       "      <td>8.387 +/- 3.911</td>\n",
       "    </tr>\n",
       "    <tr>\n",
       "      <th>9</th>\n",
       "      <td>10_imdb_cora</td>\n",
       "      <td>5.638 +/- 4.162</td>\n",
       "      <td>85.507 +/- 247.698</td>\n",
       "      <td>27.506 +/- 56.096</td>\n",
       "    </tr>\n",
       "    <tr>\n",
       "      <th>10</th>\n",
       "      <td>11_uwcse_cora</td>\n",
       "      <td>74.707 +/- 103.921</td>\n",
       "      <td>277.941 +/- 252.899</td>\n",
       "      <td>154.122 +/- 127.889</td>\n",
       "    </tr>\n",
       "    <tr>\n",
       "      <th>11</th>\n",
       "      <td>12_uwcse_cora</td>\n",
       "      <td>154.624 +/- 71.955</td>\n",
       "      <td>396.853 +/- 309.125</td>\n",
       "      <td>222.182 +/- 212.034</td>\n",
       "    </tr>\n",
       "    <tr>\n",
       "      <th>12</th>\n",
       "      <td>13_uwcse_cora</td>\n",
       "      <td>4.694 +/- 2.067</td>\n",
       "      <td>13.074 +/- 5.624</td>\n",
       "      <td>8.428 +/- 4.264</td>\n",
       "    </tr>\n",
       "    <tr>\n",
       "      <th>13</th>\n",
       "      <td>14_uwcse_cora</td>\n",
       "      <td>7.943 +/- 4.756</td>\n",
       "      <td>128.440 +/- 262.706</td>\n",
       "      <td>32.012 +/- 67.738</td>\n",
       "    </tr>\n",
       "    <tr>\n",
       "      <th>14</th>\n",
       "      <td>15_yeast_twitter</td>\n",
       "      <td>13.999 +/- 4.212</td>\n",
       "      <td>42.308 +/- 6.398</td>\n",
       "      <td>36.581 +/- 6.607</td>\n",
       "    </tr>\n",
       "    <tr>\n",
       "      <th>15</th>\n",
       "      <td>16_yeast_twitter</td>\n",
       "      <td>28.658 +/- 5.712</td>\n",
       "      <td>56.361 +/- 0.034</td>\n",
       "      <td>46.660 +/- 5.107</td>\n",
       "    </tr>\n",
       "    <tr>\n",
       "      <th>16</th>\n",
       "      <td>17_yeast_twitter</td>\n",
       "      <td>131.528 +/- 58.100</td>\n",
       "      <td>276.586 +/- 121.549</td>\n",
       "      <td>192.596 +/- 30.664</td>\n",
       "    </tr>\n",
       "    <tr>\n",
       "      <th>17</th>\n",
       "      <td>18_yeast_twitter</td>\n",
       "      <td>134.750 +/- 60.091</td>\n",
       "      <td>238.853 +/- 46.522</td>\n",
       "      <td>197.652 +/- 39.621</td>\n",
       "    </tr>\n",
       "    <tr>\n",
       "      <th>18</th>\n",
       "      <td>19_yeast_twitter</td>\n",
       "      <td>98.121 +/- 6.977</td>\n",
       "      <td>246.567 +/- 46.799</td>\n",
       "      <td>207.609 +/- 50.185</td>\n",
       "    </tr>\n",
       "    <tr>\n",
       "      <th>19</th>\n",
       "      <td>20_yeast_twitter</td>\n",
       "      <td>127.461 +/- 49.391</td>\n",
       "      <td>279.547 +/- 95.828</td>\n",
       "      <td>172.172 +/- 2.160</td>\n",
       "    </tr>\n",
       "    <tr>\n",
       "      <th>20</th>\n",
       "      <td>21_yeast_twitter</td>\n",
       "      <td>136.519 +/- 63.605</td>\n",
       "      <td>244.166 +/- 60.667</td>\n",
       "      <td>166.758 +/- 18.546</td>\n",
       "    </tr>\n",
       "    <tr>\n",
       "      <th>21</th>\n",
       "      <td>22_twitter_yeast</td>\n",
       "      <td>5.402 +/- 1.793</td>\n",
       "      <td>14.445 +/- 6.322</td>\n",
       "      <td>11.097 +/- 7.012</td>\n",
       "    </tr>\n",
       "    <tr>\n",
       "      <th>22</th>\n",
       "      <td>23_twitter_yeast</td>\n",
       "      <td>25.936 +/- 21.398</td>\n",
       "      <td>59.637 +/- 50.907</td>\n",
       "      <td>48.241 +/- 36.007</td>\n",
       "    </tr>\n",
       "    <tr>\n",
       "      <th>23</th>\n",
       "      <td>24_twitter_yeast</td>\n",
       "      <td>22.790 +/- 16.576</td>\n",
       "      <td>61.585 +/- 68.397</td>\n",
       "      <td>41.032 +/- 47.043</td>\n",
       "    </tr>\n",
       "    <tr>\n",
       "      <th>24</th>\n",
       "      <td>25_twitter_yeast</td>\n",
       "      <td>4.931 +/- 3.515</td>\n",
       "      <td>11.459 +/- 9.940</td>\n",
       "      <td>9.052 +/- 1.374</td>\n",
       "    </tr>\n",
       "    <tr>\n",
       "      <th>25</th>\n",
       "      <td>26_twitter_yeast</td>\n",
       "      <td>38.848 +/- 40.022</td>\n",
       "      <td>82.951 +/- 80.541</td>\n",
       "      <td>61.511 +/- 37.836</td>\n",
       "    </tr>\n",
       "    <tr>\n",
       "      <th>26</th>\n",
       "      <td>27_twitter_yeast</td>\n",
       "      <td>23.535 +/- 44.509</td>\n",
       "      <td>48.494 +/- 87.919</td>\n",
       "      <td>34.415 +/- 39.590</td>\n",
       "    </tr>\n",
       "    <tr>\n",
       "      <th>27</th>\n",
       "      <td>28_twitter_yeast</td>\n",
       "      <td>6.402 +/- 2.303</td>\n",
       "      <td>13.918 +/- 4.003</td>\n",
       "      <td>12.302 +/- 3.192</td>\n",
       "    </tr>\n",
       "    <tr>\n",
       "      <th>28</th>\n",
       "      <td>29_nell_sports_nell_finances</td>\n",
       "      <td>4.898 +/- 1.095</td>\n",
       "      <td>13.401 +/- 1.146</td>\n",
       "      <td>9.397 +/- 1.387</td>\n",
       "    </tr>\n",
       "    <tr>\n",
       "      <th>29</th>\n",
       "      <td>30_nell_sports_nell_finances</td>\n",
       "      <td>2.797 +/- 2.036</td>\n",
       "      <td>10.821 +/- 2.456</td>\n",
       "      <td>8.709 +/- 0.123</td>\n",
       "    </tr>\n",
       "    <tr>\n",
       "      <th>30</th>\n",
       "      <td>31_nell_sports_nell_finances</td>\n",
       "      <td>5.984 +/- 1.840</td>\n",
       "      <td>15.381 +/- 2.139</td>\n",
       "      <td>11.156 +/- 1.482</td>\n",
       "    </tr>\n",
       "    <tr>\n",
       "      <th>31</th>\n",
       "      <td>32_nell_sports_nell_finances</td>\n",
       "      <td>154.758 +/- 406.298</td>\n",
       "      <td>270.954 +/- 379.045</td>\n",
       "      <td>140.821 +/- 51.129</td>\n",
       "    </tr>\n",
       "    <tr>\n",
       "      <th>32</th>\n",
       "      <td>33_nell_sports_nell_finances</td>\n",
       "      <td>2.892 +/- 1.702</td>\n",
       "      <td>46.576 +/- 101.612</td>\n",
       "      <td>18.699 +/- 28.396</td>\n",
       "    </tr>\n",
       "    <tr>\n",
       "      <th>33</th>\n",
       "      <td>34_nell_sports_nell_finances</td>\n",
       "      <td>1.683 +/- 0.485</td>\n",
       "      <td>13.156 +/- 24.831</td>\n",
       "      <td>2.523 +/- 0.433</td>\n",
       "    </tr>\n",
       "    <tr>\n",
       "      <th>34</th>\n",
       "      <td>35_nell_sports_nell_finances</td>\n",
       "      <td>1.740 +/- 0.517</td>\n",
       "      <td>4.160 +/- 0.907</td>\n",
       "      <td>2.835 +/- 0.772</td>\n",
       "    </tr>\n",
       "    <tr>\n",
       "      <th>35</th>\n",
       "      <td>36_nell_sports_nell_finances</td>\n",
       "      <td>2.937 +/- 3.275</td>\n",
       "      <td>13.126 +/- 6.969</td>\n",
       "      <td>8.358 +/- 1.429</td>\n",
       "    </tr>\n",
       "    <tr>\n",
       "      <th>36</th>\n",
       "      <td>37_nell_sports_nell_finances</td>\n",
       "      <td>11.053 +/- 3.386</td>\n",
       "      <td>25.089 +/- 6.589</td>\n",
       "      <td>9.459 +/- 4.859</td>\n",
       "    </tr>\n",
       "    <tr>\n",
       "      <th>37</th>\n",
       "      <td>38_nell_finances_nell_sports</td>\n",
       "      <td>60.176 +/- 72.569</td>\n",
       "      <td>122.970 +/- 138.569</td>\n",
       "      <td>166.168 +/- 356.755</td>\n",
       "    </tr>\n",
       "    <tr>\n",
       "      <th>38</th>\n",
       "      <td>39_nell_finances_nell_sports</td>\n",
       "      <td>490.958 +/- 454.825</td>\n",
       "      <td>797.801 +/- 457.415</td>\n",
       "      <td>344.991 +/- 294.008</td>\n",
       "    </tr>\n",
       "    <tr>\n",
       "      <th>39</th>\n",
       "      <td>40_nell_finances_nell_sports</td>\n",
       "      <td>327.499 +/- 181.429</td>\n",
       "      <td>674.787 +/- 395.361</td>\n",
       "      <td>307.235 +/- 352.400</td>\n",
       "    </tr>\n",
       "    <tr>\n",
       "      <th>40</th>\n",
       "      <td>41_nell_finances_nell_sports</td>\n",
       "      <td>458.879 +/- 677.834</td>\n",
       "      <td>818.714 +/- 755.369</td>\n",
       "      <td>299.591 +/- 164.663</td>\n",
       "    </tr>\n",
       "    <tr>\n",
       "      <th>41</th>\n",
       "      <td>42_nell_finances_nell_sports</td>\n",
       "      <td>376.368 +/- 368.451</td>\n",
       "      <td>8010.384 +/- 3202.756</td>\n",
       "      <td>328.896 +/- 44.502</td>\n",
       "    </tr>\n",
       "    <tr>\n",
       "      <th>42</th>\n",
       "      <td>43_nell_finances_nell_sports</td>\n",
       "      <td>192.208 +/- 12.789</td>\n",
       "      <td>546.597 +/- 150.818</td>\n",
       "      <td>320.319 +/- 17.873</td>\n",
       "    </tr>\n",
       "    <tr>\n",
       "      <th>43</th>\n",
       "      <td>44_nell_finances_nell_sports</td>\n",
       "      <td>36.175 +/- 25.586</td>\n",
       "      <td>155.302 +/- 79.564</td>\n",
       "      <td>95.452 +/- 24.868</td>\n",
       "    </tr>\n",
       "    <tr>\n",
       "      <th>44</th>\n",
       "      <td>45_nell_finances_nell_sports</td>\n",
       "      <td>36.994 +/- 4.839</td>\n",
       "      <td>217.116 +/- 150.384</td>\n",
       "      <td>91.359 +/- 15.569</td>\n",
       "    </tr>\n",
       "    <tr>\n",
       "      <th>45</th>\n",
       "      <td>46_nell_finances_nell_sports</td>\n",
       "      <td>95.007 +/- 44.808</td>\n",
       "      <td>234.399 +/- 116.915</td>\n",
       "      <td>381.563 +/- 206.357</td>\n",
       "    </tr>\n",
       "  </tbody>\n",
       "</table>\n",
       "</div>"
      ],
      "text/plain": [
       "                      Experiment    Transfer Learning  \\\n",
       "0                   1_imdb_uwcse      3.491 +/- 2.285   \n",
       "1                   2_uwcse_imdb      2.135 +/- 2.042   \n",
       "2                   3_imdb_uwcse     9.211 +/- 16.222   \n",
       "3                   4_uwcse_imdb      1.521 +/- 0.452   \n",
       "4                   5_imdb_uwcse      4.063 +/- 3.638   \n",
       "5                   6_uwcse_imdb      1.041 +/- 0.409   \n",
       "6                    7_imdb_cora   67.706 +/- 102.821   \n",
       "7                    8_imdb_cora   121.834 +/- 98.690   \n",
       "8                    9_imdb_cora      3.910 +/- 1.723   \n",
       "9                   10_imdb_cora      5.638 +/- 4.162   \n",
       "10                 11_uwcse_cora   74.707 +/- 103.921   \n",
       "11                 12_uwcse_cora   154.624 +/- 71.955   \n",
       "12                 13_uwcse_cora      4.694 +/- 2.067   \n",
       "13                 14_uwcse_cora      7.943 +/- 4.756   \n",
       "14              15_yeast_twitter     13.999 +/- 4.212   \n",
       "15              16_yeast_twitter     28.658 +/- 5.712   \n",
       "16              17_yeast_twitter   131.528 +/- 58.100   \n",
       "17              18_yeast_twitter   134.750 +/- 60.091   \n",
       "18              19_yeast_twitter     98.121 +/- 6.977   \n",
       "19              20_yeast_twitter   127.461 +/- 49.391   \n",
       "20              21_yeast_twitter   136.519 +/- 63.605   \n",
       "21              22_twitter_yeast      5.402 +/- 1.793   \n",
       "22              23_twitter_yeast    25.936 +/- 21.398   \n",
       "23              24_twitter_yeast    22.790 +/- 16.576   \n",
       "24              25_twitter_yeast      4.931 +/- 3.515   \n",
       "25              26_twitter_yeast    38.848 +/- 40.022   \n",
       "26              27_twitter_yeast    23.535 +/- 44.509   \n",
       "27              28_twitter_yeast      6.402 +/- 2.303   \n",
       "28  29_nell_sports_nell_finances      4.898 +/- 1.095   \n",
       "29  30_nell_sports_nell_finances      2.797 +/- 2.036   \n",
       "30  31_nell_sports_nell_finances      5.984 +/- 1.840   \n",
       "31  32_nell_sports_nell_finances  154.758 +/- 406.298   \n",
       "32  33_nell_sports_nell_finances      2.892 +/- 1.702   \n",
       "33  34_nell_sports_nell_finances      1.683 +/- 0.485   \n",
       "34  35_nell_sports_nell_finances      1.740 +/- 0.517   \n",
       "35  36_nell_sports_nell_finances      2.937 +/- 3.275   \n",
       "36  37_nell_sports_nell_finances     11.053 +/- 3.386   \n",
       "37  38_nell_finances_nell_sports    60.176 +/- 72.569   \n",
       "38  39_nell_finances_nell_sports  490.958 +/- 454.825   \n",
       "39  40_nell_finances_nell_sports  327.499 +/- 181.429   \n",
       "40  41_nell_finances_nell_sports  458.879 +/- 677.834   \n",
       "41  42_nell_finances_nell_sports  376.368 +/- 368.451   \n",
       "42  43_nell_finances_nell_sports   192.208 +/- 12.789   \n",
       "43  44_nell_finances_nell_sports    36.175 +/- 25.586   \n",
       "44  45_nell_finances_nell_sports     36.994 +/- 4.839   \n",
       "45  46_nell_finances_nell_sports    95.007 +/- 44.808   \n",
       "\n",
       "   Transfer Learning with Revision Theory Learning from scratch  \n",
       "0                         8.312 +/- 6.245       5.540 +/- 4.090  \n",
       "1                         4.392 +/- 3.867       2.479 +/- 1.407  \n",
       "2                       25.251 +/- 42.025     18.635 +/- 27.361  \n",
       "3                         4.563 +/- 2.177       1.890 +/- 0.479  \n",
       "4                        15.342 +/- 9.945      10.989 +/- 7.418  \n",
       "5                         2.107 +/- 1.146       1.192 +/- 0.604  \n",
       "6                     197.865 +/- 259.196   162.324 +/- 123.765  \n",
       "7                     330.410 +/- 321.972   225.673 +/- 195.755  \n",
       "8                        12.307 +/- 6.040       8.387 +/- 3.911  \n",
       "9                      85.507 +/- 247.698     27.506 +/- 56.096  \n",
       "10                    277.941 +/- 252.899   154.122 +/- 127.889  \n",
       "11                    396.853 +/- 309.125   222.182 +/- 212.034  \n",
       "12                       13.074 +/- 5.624       8.428 +/- 4.264  \n",
       "13                    128.440 +/- 262.706     32.012 +/- 67.738  \n",
       "14                       42.308 +/- 6.398      36.581 +/- 6.607  \n",
       "15                       56.361 +/- 0.034      46.660 +/- 5.107  \n",
       "16                    276.586 +/- 121.549    192.596 +/- 30.664  \n",
       "17                     238.853 +/- 46.522    197.652 +/- 39.621  \n",
       "18                     246.567 +/- 46.799    207.609 +/- 50.185  \n",
       "19                     279.547 +/- 95.828     172.172 +/- 2.160  \n",
       "20                     244.166 +/- 60.667    166.758 +/- 18.546  \n",
       "21                       14.445 +/- 6.322      11.097 +/- 7.012  \n",
       "22                      59.637 +/- 50.907     48.241 +/- 36.007  \n",
       "23                      61.585 +/- 68.397     41.032 +/- 47.043  \n",
       "24                       11.459 +/- 9.940       9.052 +/- 1.374  \n",
       "25                      82.951 +/- 80.541     61.511 +/- 37.836  \n",
       "26                      48.494 +/- 87.919     34.415 +/- 39.590  \n",
       "27                       13.918 +/- 4.003      12.302 +/- 3.192  \n",
       "28                       13.401 +/- 1.146       9.397 +/- 1.387  \n",
       "29                       10.821 +/- 2.456       8.709 +/- 0.123  \n",
       "30                       15.381 +/- 2.139      11.156 +/- 1.482  \n",
       "31                    270.954 +/- 379.045    140.821 +/- 51.129  \n",
       "32                     46.576 +/- 101.612     18.699 +/- 28.396  \n",
       "33                      13.156 +/- 24.831       2.523 +/- 0.433  \n",
       "34                        4.160 +/- 0.907       2.835 +/- 0.772  \n",
       "35                       13.126 +/- 6.969       8.358 +/- 1.429  \n",
       "36                       25.089 +/- 6.589       9.459 +/- 4.859  \n",
       "37                    122.970 +/- 138.569   166.168 +/- 356.755  \n",
       "38                    797.801 +/- 457.415   344.991 +/- 294.008  \n",
       "39                    674.787 +/- 395.361   307.235 +/- 352.400  \n",
       "40                    818.714 +/- 755.369   299.591 +/- 164.663  \n",
       "41                  8010.384 +/- 3202.756    328.896 +/- 44.502  \n",
       "42                    546.597 +/- 150.818    320.319 +/- 17.873  \n",
       "43                     155.302 +/- 79.564     95.452 +/- 24.868  \n",
       "44                    217.116 +/- 150.384     91.359 +/- 15.569  \n",
       "45                    234.399 +/- 116.915   381.563 +/- 206.357  "
      ]
     },
     "metadata": {},
     "output_type": "display_data"
    },
    {
     "data": {
      "text/markdown": [
       "# Results for Inference time"
      ],
      "text/plain": [
       "<IPython.core.display.Markdown object>"
      ]
     },
     "metadata": {},
     "output_type": "display_data"
    },
    {
     "data": {
      "text/html": [
       "<div>\n",
       "<table border=\"1\" class=\"dataframe\">\n",
       "  <thead>\n",
       "    <tr style=\"text-align: right;\">\n",
       "      <th></th>\n",
       "      <th>Experiment</th>\n",
       "      <th>Transfer Learning</th>\n",
       "      <th>Transfer Learning with Revision Theory</th>\n",
       "      <th>Learning from scratch</th>\n",
       "    </tr>\n",
       "  </thead>\n",
       "  <tbody>\n",
       "    <tr>\n",
       "      <th>0</th>\n",
       "      <td>1_imdb_uwcse</td>\n",
       "      <td>3.491 +/- 2.285</td>\n",
       "      <td>0.776 +/- 0.047</td>\n",
       "      <td>0.780 +/- 0.071</td>\n",
       "    </tr>\n",
       "    <tr>\n",
       "      <th>1</th>\n",
       "      <td>2_uwcse_imdb</td>\n",
       "      <td>2.135 +/- 2.042</td>\n",
       "      <td>0.854 +/- 0.068</td>\n",
       "      <td>0.785 +/- 0.024</td>\n",
       "    </tr>\n",
       "    <tr>\n",
       "      <th>2</th>\n",
       "      <td>3_imdb_uwcse</td>\n",
       "      <td>9.211 +/- 16.222</td>\n",
       "      <td>1.217 +/- 0.069</td>\n",
       "      <td>1.195 +/- 0.230</td>\n",
       "    </tr>\n",
       "    <tr>\n",
       "      <th>3</th>\n",
       "      <td>4_uwcse_imdb</td>\n",
       "      <td>1.521 +/- 0.452</td>\n",
       "      <td>1.564 +/- 0.875</td>\n",
       "      <td>0.719 +/- 0.067</td>\n",
       "    </tr>\n",
       "    <tr>\n",
       "      <th>4</th>\n",
       "      <td>5_imdb_uwcse</td>\n",
       "      <td>4.063 +/- 3.638</td>\n",
       "      <td>0.881 +/- 0.101</td>\n",
       "      <td>0.939 +/- 0.203</td>\n",
       "    </tr>\n",
       "    <tr>\n",
       "      <th>5</th>\n",
       "      <td>6_uwcse_imdb</td>\n",
       "      <td>1.041 +/- 0.409</td>\n",
       "      <td>0.550 +/- 0.019</td>\n",
       "      <td>0.523 +/- 0.018</td>\n",
       "    </tr>\n",
       "    <tr>\n",
       "      <th>6</th>\n",
       "      <td>7_imdb_cora</td>\n",
       "      <td>67.706 +/- 102.821</td>\n",
       "      <td>29.422 +/- 70.333</td>\n",
       "      <td>16.017 +/- 26.629</td>\n",
       "    </tr>\n",
       "    <tr>\n",
       "      <th>7</th>\n",
       "      <td>8_imdb_cora</td>\n",
       "      <td>121.834 +/- 98.690</td>\n",
       "      <td>6.224 +/- 1.988</td>\n",
       "      <td>5.357 +/- 1.249</td>\n",
       "    </tr>\n",
       "    <tr>\n",
       "      <th>8</th>\n",
       "      <td>9_imdb_cora</td>\n",
       "      <td>3.910 +/- 1.723</td>\n",
       "      <td>6.538 +/- 11.322</td>\n",
       "      <td>2.370 +/- 1.108</td>\n",
       "    </tr>\n",
       "    <tr>\n",
       "      <th>9</th>\n",
       "      <td>10_imdb_cora</td>\n",
       "      <td>5.638 +/- 4.162</td>\n",
       "      <td>5.766 +/- 5.287</td>\n",
       "      <td>4.450 +/- 8.920</td>\n",
       "    </tr>\n",
       "    <tr>\n",
       "      <th>10</th>\n",
       "      <td>11_uwcse_cora</td>\n",
       "      <td>74.707 +/- 103.921</td>\n",
       "      <td>231.249 +/- 90.986</td>\n",
       "      <td>18.762 +/- 29.951</td>\n",
       "    </tr>\n",
       "    <tr>\n",
       "      <th>11</th>\n",
       "      <td>12_uwcse_cora</td>\n",
       "      <td>154.624 +/- 71.955</td>\n",
       "      <td>63.959 +/- 106.567</td>\n",
       "      <td>4.789 +/- 1.320</td>\n",
       "    </tr>\n",
       "    <tr>\n",
       "      <th>12</th>\n",
       "      <td>13_uwcse_cora</td>\n",
       "      <td>4.694 +/- 2.067</td>\n",
       "      <td>10.549 +/- 19.030</td>\n",
       "      <td>2.375 +/- 1.191</td>\n",
       "    </tr>\n",
       "    <tr>\n",
       "      <th>13</th>\n",
       "      <td>14_uwcse_cora</td>\n",
       "      <td>7.943 +/- 4.756</td>\n",
       "      <td>82.673 +/- 123.729</td>\n",
       "      <td>5.232 +/- 12.969</td>\n",
       "    </tr>\n",
       "    <tr>\n",
       "      <th>14</th>\n",
       "      <td>15_yeast_twitter</td>\n",
       "      <td>13.999 +/- 4.212</td>\n",
       "      <td>1.203 +/- 0.366</td>\n",
       "      <td>0.897 +/- 0.181</td>\n",
       "    </tr>\n",
       "    <tr>\n",
       "      <th>15</th>\n",
       "      <td>16_yeast_twitter</td>\n",
       "      <td>28.658 +/- 5.712</td>\n",
       "      <td>1.238 +/- 0.154</td>\n",
       "      <td>1.083 +/- 0.143</td>\n",
       "    </tr>\n",
       "    <tr>\n",
       "      <th>16</th>\n",
       "      <td>17_yeast_twitter</td>\n",
       "      <td>131.528 +/- 58.100</td>\n",
       "      <td>1.306 +/- 0.090</td>\n",
       "      <td>1.345 +/- 0.348</td>\n",
       "    </tr>\n",
       "    <tr>\n",
       "      <th>17</th>\n",
       "      <td>18_yeast_twitter</td>\n",
       "      <td>134.750 +/- 60.091</td>\n",
       "      <td>1.406 +/- 0.199</td>\n",
       "      <td>1.179 +/- 0.266</td>\n",
       "    </tr>\n",
       "    <tr>\n",
       "      <th>18</th>\n",
       "      <td>19_yeast_twitter</td>\n",
       "      <td>98.121 +/- 6.977</td>\n",
       "      <td>1.124 +/- 0.118</td>\n",
       "      <td>1.190 +/- 0.165</td>\n",
       "    </tr>\n",
       "    <tr>\n",
       "      <th>19</th>\n",
       "      <td>20_yeast_twitter</td>\n",
       "      <td>127.461 +/- 49.391</td>\n",
       "      <td>1.135 +/- 0.010</td>\n",
       "      <td>1.389 +/- 0.060</td>\n",
       "    </tr>\n",
       "    <tr>\n",
       "      <th>20</th>\n",
       "      <td>21_yeast_twitter</td>\n",
       "      <td>136.519 +/- 63.605</td>\n",
       "      <td>1.335 +/- 0.089</td>\n",
       "      <td>1.300 +/- 0.225</td>\n",
       "    </tr>\n",
       "    <tr>\n",
       "      <th>21</th>\n",
       "      <td>22_twitter_yeast</td>\n",
       "      <td>5.402 +/- 1.793</td>\n",
       "      <td>1.476 +/- 0.460</td>\n",
       "      <td>1.545 +/- 0.286</td>\n",
       "    </tr>\n",
       "    <tr>\n",
       "      <th>22</th>\n",
       "      <td>23_twitter_yeast</td>\n",
       "      <td>25.936 +/- 21.398</td>\n",
       "      <td>2.626 +/- 0.294</td>\n",
       "      <td>2.670 +/- 0.726</td>\n",
       "    </tr>\n",
       "    <tr>\n",
       "      <th>23</th>\n",
       "      <td>24_twitter_yeast</td>\n",
       "      <td>22.790 +/- 16.576</td>\n",
       "      <td>2.557 +/- 0.120</td>\n",
       "      <td>2.224 +/- 0.310</td>\n",
       "    </tr>\n",
       "    <tr>\n",
       "      <th>24</th>\n",
       "      <td>25_twitter_yeast</td>\n",
       "      <td>4.931 +/- 3.515</td>\n",
       "      <td>1.255 +/- 0.114</td>\n",
       "      <td>1.150 +/- 0.154</td>\n",
       "    </tr>\n",
       "    <tr>\n",
       "      <th>25</th>\n",
       "      <td>26_twitter_yeast</td>\n",
       "      <td>38.848 +/- 40.022</td>\n",
       "      <td>3.019 +/- 0.365</td>\n",
       "      <td>2.175 +/- 0.703</td>\n",
       "    </tr>\n",
       "    <tr>\n",
       "      <th>26</th>\n",
       "      <td>27_twitter_yeast</td>\n",
       "      <td>23.535 +/- 44.509</td>\n",
       "      <td>1.736 +/- 0.411</td>\n",
       "      <td>1.549 +/- 0.239</td>\n",
       "    </tr>\n",
       "    <tr>\n",
       "      <th>27</th>\n",
       "      <td>28_twitter_yeast</td>\n",
       "      <td>6.402 +/- 2.303</td>\n",
       "      <td>1.430 +/- 0.408</td>\n",
       "      <td>1.275 +/- 0.368</td>\n",
       "    </tr>\n",
       "    <tr>\n",
       "      <th>28</th>\n",
       "      <td>29_nell_sports_nell_finances</td>\n",
       "      <td>4.898 +/- 1.095</td>\n",
       "      <td>1.084 +/- 0.183</td>\n",
       "      <td>1.281 +/- 0.054</td>\n",
       "    </tr>\n",
       "    <tr>\n",
       "      <th>29</th>\n",
       "      <td>30_nell_sports_nell_finances</td>\n",
       "      <td>2.797 +/- 2.036</td>\n",
       "      <td>1.308 +/- 0.131</td>\n",
       "      <td>1.214 +/- 0.124</td>\n",
       "    </tr>\n",
       "    <tr>\n",
       "      <th>30</th>\n",
       "      <td>31_nell_sports_nell_finances</td>\n",
       "      <td>5.984 +/- 1.840</td>\n",
       "      <td>1.243 +/- 0.106</td>\n",
       "      <td>1.249 +/- 0.049</td>\n",
       "    </tr>\n",
       "    <tr>\n",
       "      <th>31</th>\n",
       "      <td>32_nell_sports_nell_finances</td>\n",
       "      <td>154.758 +/- 406.298</td>\n",
       "      <td>1.751 +/- 0.656</td>\n",
       "      <td>1.457 +/- 0.241</td>\n",
       "    </tr>\n",
       "    <tr>\n",
       "      <th>32</th>\n",
       "      <td>33_nell_sports_nell_finances</td>\n",
       "      <td>2.892 +/- 1.702</td>\n",
       "      <td>1.069 +/- 0.070</td>\n",
       "      <td>1.091 +/- 0.091</td>\n",
       "    </tr>\n",
       "    <tr>\n",
       "      <th>33</th>\n",
       "      <td>34_nell_sports_nell_finances</td>\n",
       "      <td>1.683 +/- 0.485</td>\n",
       "      <td>0.751 +/- 0.028</td>\n",
       "      <td>0.722 +/- 0.073</td>\n",
       "    </tr>\n",
       "    <tr>\n",
       "      <th>34</th>\n",
       "      <td>35_nell_sports_nell_finances</td>\n",
       "      <td>1.740 +/- 0.517</td>\n",
       "      <td>0.715 +/- 0.038</td>\n",
       "      <td>0.730 +/- 0.045</td>\n",
       "    </tr>\n",
       "    <tr>\n",
       "      <th>35</th>\n",
       "      <td>36_nell_sports_nell_finances</td>\n",
       "      <td>2.937 +/- 3.275</td>\n",
       "      <td>1.079 +/- 0.053</td>\n",
       "      <td>1.109 +/- 0.036</td>\n",
       "    </tr>\n",
       "    <tr>\n",
       "      <th>36</th>\n",
       "      <td>37_nell_sports_nell_finances</td>\n",
       "      <td>11.053 +/- 3.386</td>\n",
       "      <td>2.198 +/- 0.726</td>\n",
       "      <td>1.427 +/- 0.163</td>\n",
       "    </tr>\n",
       "    <tr>\n",
       "      <th>37</th>\n",
       "      <td>38_nell_finances_nell_sports</td>\n",
       "      <td>60.176 +/- 72.569</td>\n",
       "      <td>2.957 +/- 1.792</td>\n",
       "      <td>1.695 +/- 0.331</td>\n",
       "    </tr>\n",
       "    <tr>\n",
       "      <th>38</th>\n",
       "      <td>39_nell_finances_nell_sports</td>\n",
       "      <td>490.958 +/- 454.825</td>\n",
       "      <td>4.824 +/- 1.004</td>\n",
       "      <td>5.024 +/- 1.266</td>\n",
       "    </tr>\n",
       "    <tr>\n",
       "      <th>39</th>\n",
       "      <td>40_nell_finances_nell_sports</td>\n",
       "      <td>327.499 +/- 181.429</td>\n",
       "      <td>4.695 +/- 0.533</td>\n",
       "      <td>4.470 +/- 2.093</td>\n",
       "    </tr>\n",
       "    <tr>\n",
       "      <th>40</th>\n",
       "      <td>41_nell_finances_nell_sports</td>\n",
       "      <td>458.879 +/- 677.834</td>\n",
       "      <td>4.193 +/- 1.501</td>\n",
       "      <td>5.020 +/- 2.652</td>\n",
       "    </tr>\n",
       "    <tr>\n",
       "      <th>41</th>\n",
       "      <td>42_nell_finances_nell_sports</td>\n",
       "      <td>376.368 +/- 368.451</td>\n",
       "      <td>1162.272 +/- 332.371</td>\n",
       "      <td>5.119 +/- 0.096</td>\n",
       "    </tr>\n",
       "    <tr>\n",
       "      <th>42</th>\n",
       "      <td>43_nell_finances_nell_sports</td>\n",
       "      <td>192.208 +/- 12.789</td>\n",
       "      <td>7.127 +/- 3.210</td>\n",
       "      <td>5.165 +/- 0.370</td>\n",
       "    </tr>\n",
       "    <tr>\n",
       "      <th>43</th>\n",
       "      <td>44_nell_finances_nell_sports</td>\n",
       "      <td>36.175 +/- 25.586</td>\n",
       "      <td>2.744 +/- 2.695</td>\n",
       "      <td>2.022 +/- 0.290</td>\n",
       "    </tr>\n",
       "    <tr>\n",
       "      <th>44</th>\n",
       "      <td>45_nell_finances_nell_sports</td>\n",
       "      <td>36.994 +/- 4.839</td>\n",
       "      <td>17.639 +/- 22.656</td>\n",
       "      <td>1.915 +/- 0.262</td>\n",
       "    </tr>\n",
       "    <tr>\n",
       "      <th>45</th>\n",
       "      <td>46_nell_finances_nell_sports</td>\n",
       "      <td>95.007 +/- 44.808</td>\n",
       "      <td>2.701 +/- 1.536</td>\n",
       "      <td>4.047 +/- 0.428</td>\n",
       "    </tr>\n",
       "  </tbody>\n",
       "</table>\n",
       "</div>"
      ],
      "text/plain": [
       "                      Experiment    Transfer Learning  \\\n",
       "0                   1_imdb_uwcse      3.491 +/- 2.285   \n",
       "1                   2_uwcse_imdb      2.135 +/- 2.042   \n",
       "2                   3_imdb_uwcse     9.211 +/- 16.222   \n",
       "3                   4_uwcse_imdb      1.521 +/- 0.452   \n",
       "4                   5_imdb_uwcse      4.063 +/- 3.638   \n",
       "5                   6_uwcse_imdb      1.041 +/- 0.409   \n",
       "6                    7_imdb_cora   67.706 +/- 102.821   \n",
       "7                    8_imdb_cora   121.834 +/- 98.690   \n",
       "8                    9_imdb_cora      3.910 +/- 1.723   \n",
       "9                   10_imdb_cora      5.638 +/- 4.162   \n",
       "10                 11_uwcse_cora   74.707 +/- 103.921   \n",
       "11                 12_uwcse_cora   154.624 +/- 71.955   \n",
       "12                 13_uwcse_cora      4.694 +/- 2.067   \n",
       "13                 14_uwcse_cora      7.943 +/- 4.756   \n",
       "14              15_yeast_twitter     13.999 +/- 4.212   \n",
       "15              16_yeast_twitter     28.658 +/- 5.712   \n",
       "16              17_yeast_twitter   131.528 +/- 58.100   \n",
       "17              18_yeast_twitter   134.750 +/- 60.091   \n",
       "18              19_yeast_twitter     98.121 +/- 6.977   \n",
       "19              20_yeast_twitter   127.461 +/- 49.391   \n",
       "20              21_yeast_twitter   136.519 +/- 63.605   \n",
       "21              22_twitter_yeast      5.402 +/- 1.793   \n",
       "22              23_twitter_yeast    25.936 +/- 21.398   \n",
       "23              24_twitter_yeast    22.790 +/- 16.576   \n",
       "24              25_twitter_yeast      4.931 +/- 3.515   \n",
       "25              26_twitter_yeast    38.848 +/- 40.022   \n",
       "26              27_twitter_yeast    23.535 +/- 44.509   \n",
       "27              28_twitter_yeast      6.402 +/- 2.303   \n",
       "28  29_nell_sports_nell_finances      4.898 +/- 1.095   \n",
       "29  30_nell_sports_nell_finances      2.797 +/- 2.036   \n",
       "30  31_nell_sports_nell_finances      5.984 +/- 1.840   \n",
       "31  32_nell_sports_nell_finances  154.758 +/- 406.298   \n",
       "32  33_nell_sports_nell_finances      2.892 +/- 1.702   \n",
       "33  34_nell_sports_nell_finances      1.683 +/- 0.485   \n",
       "34  35_nell_sports_nell_finances      1.740 +/- 0.517   \n",
       "35  36_nell_sports_nell_finances      2.937 +/- 3.275   \n",
       "36  37_nell_sports_nell_finances     11.053 +/- 3.386   \n",
       "37  38_nell_finances_nell_sports    60.176 +/- 72.569   \n",
       "38  39_nell_finances_nell_sports  490.958 +/- 454.825   \n",
       "39  40_nell_finances_nell_sports  327.499 +/- 181.429   \n",
       "40  41_nell_finances_nell_sports  458.879 +/- 677.834   \n",
       "41  42_nell_finances_nell_sports  376.368 +/- 368.451   \n",
       "42  43_nell_finances_nell_sports   192.208 +/- 12.789   \n",
       "43  44_nell_finances_nell_sports    36.175 +/- 25.586   \n",
       "44  45_nell_finances_nell_sports     36.994 +/- 4.839   \n",
       "45  46_nell_finances_nell_sports    95.007 +/- 44.808   \n",
       "\n",
       "   Transfer Learning with Revision Theory Learning from scratch  \n",
       "0                         0.776 +/- 0.047       0.780 +/- 0.071  \n",
       "1                         0.854 +/- 0.068       0.785 +/- 0.024  \n",
       "2                         1.217 +/- 0.069       1.195 +/- 0.230  \n",
       "3                         1.564 +/- 0.875       0.719 +/- 0.067  \n",
       "4                         0.881 +/- 0.101       0.939 +/- 0.203  \n",
       "5                         0.550 +/- 0.019       0.523 +/- 0.018  \n",
       "6                       29.422 +/- 70.333     16.017 +/- 26.629  \n",
       "7                         6.224 +/- 1.988       5.357 +/- 1.249  \n",
       "8                        6.538 +/- 11.322       2.370 +/- 1.108  \n",
       "9                         5.766 +/- 5.287       4.450 +/- 8.920  \n",
       "10                     231.249 +/- 90.986     18.762 +/- 29.951  \n",
       "11                     63.959 +/- 106.567       4.789 +/- 1.320  \n",
       "12                      10.549 +/- 19.030       2.375 +/- 1.191  \n",
       "13                     82.673 +/- 123.729      5.232 +/- 12.969  \n",
       "14                        1.203 +/- 0.366       0.897 +/- 0.181  \n",
       "15                        1.238 +/- 0.154       1.083 +/- 0.143  \n",
       "16                        1.306 +/- 0.090       1.345 +/- 0.348  \n",
       "17                        1.406 +/- 0.199       1.179 +/- 0.266  \n",
       "18                        1.124 +/- 0.118       1.190 +/- 0.165  \n",
       "19                        1.135 +/- 0.010       1.389 +/- 0.060  \n",
       "20                        1.335 +/- 0.089       1.300 +/- 0.225  \n",
       "21                        1.476 +/- 0.460       1.545 +/- 0.286  \n",
       "22                        2.626 +/- 0.294       2.670 +/- 0.726  \n",
       "23                        2.557 +/- 0.120       2.224 +/- 0.310  \n",
       "24                        1.255 +/- 0.114       1.150 +/- 0.154  \n",
       "25                        3.019 +/- 0.365       2.175 +/- 0.703  \n",
       "26                        1.736 +/- 0.411       1.549 +/- 0.239  \n",
       "27                        1.430 +/- 0.408       1.275 +/- 0.368  \n",
       "28                        1.084 +/- 0.183       1.281 +/- 0.054  \n",
       "29                        1.308 +/- 0.131       1.214 +/- 0.124  \n",
       "30                        1.243 +/- 0.106       1.249 +/- 0.049  \n",
       "31                        1.751 +/- 0.656       1.457 +/- 0.241  \n",
       "32                        1.069 +/- 0.070       1.091 +/- 0.091  \n",
       "33                        0.751 +/- 0.028       0.722 +/- 0.073  \n",
       "34                        0.715 +/- 0.038       0.730 +/- 0.045  \n",
       "35                        1.079 +/- 0.053       1.109 +/- 0.036  \n",
       "36                        2.198 +/- 0.726       1.427 +/- 0.163  \n",
       "37                        2.957 +/- 1.792       1.695 +/- 0.331  \n",
       "38                        4.824 +/- 1.004       5.024 +/- 1.266  \n",
       "39                        4.695 +/- 0.533       4.470 +/- 2.093  \n",
       "40                        4.193 +/- 1.501       5.020 +/- 2.652  \n",
       "41                   1162.272 +/- 332.371       5.119 +/- 0.096  \n",
       "42                        7.127 +/- 3.210       5.165 +/- 0.370  \n",
       "43                        2.744 +/- 2.695       2.022 +/- 0.290  \n",
       "44                      17.639 +/- 22.656       1.915 +/- 0.262  \n",
       "45                        2.701 +/- 1.536       4.047 +/- 0.428  "
      ]
     },
     "metadata": {},
     "output_type": "display_data"
    }
   ],
   "source": [
    "experiments = [\n",
    "            {'id': '1', 'source':'imdb', 'target':'uwcse', 'predicate':'workedunder', 'to_predicate':'advisedby'},\n",
    "            {'id': '2', 'source':'uwcse', 'target':'imdb', 'predicate':'advisedby', 'to_predicate':'workedunder'},\n",
    "            {'id': '3', 'source':'imdb', 'target':'uwcse', 'predicate':'movie', 'to_predicate':'publication'},\n",
    "            {'id': '4', 'source':'uwcse', 'target':'imdb', 'predicate':'publication', 'to_predicate':'movie'},\n",
    "            {'id': '5', 'source':'imdb', 'target':'uwcse', 'predicate':'genre', 'to_predicate':'inphase'},\n",
    "            {'id': '6', 'source':'uwcse', 'target':'imdb', 'predicate':'inphase', 'to_predicate':'genre'},\n",
    "            {'id': '7', 'source':'imdb', 'target':'cora', 'predicate':'workedunder', 'to_predicate':'samevenue'},\n",
    "            {'id': '8', 'source':'imdb', 'target':'cora', 'predicate':'workedunder', 'to_predicate':'samebib'},\n",
    "            {'id': '9', 'source':'imdb', 'target':'cora', 'predicate':'workedunder', 'to_predicate':'sameauthor'},\n",
    "            {'id': '10', 'source':'imdb', 'target':'cora', 'predicate':'workedunder', 'to_predicate':'sametitle'},\n",
    "            {'id': '11', 'source':'uwcse', 'target':'cora', 'predicate':'advisedby', 'to_predicate':'samevenue'},\n",
    "            {'id': '12', 'source':'uwcse', 'target':'cora', 'predicate':'advisedby', 'to_predicate':'samebib'},\n",
    "            {'id': '13', 'source':'uwcse', 'target':'cora', 'predicate':'advisedby', 'to_predicate':'sameauthor'},\n",
    "            {'id': '14', 'source':'uwcse', 'target':'cora', 'predicate':'advisedby', 'to_predicate':'sametitle'},\n",
    "            {'id': '15', 'source':'yeast', 'target':'twitter', 'predicate':'proteinclass', 'to_predicate':'accounttype'},\n",
    "            {'id': '16', 'source':'yeast', 'target':'twitter', 'predicate':'interaction', 'to_predicate':'follows'},\n",
    "            {'id': '17', 'source':'yeast', 'target':'twitter', 'predicate':'location', 'to_predicate':'tweets'},\n",
    "            {'id': '18', 'source':'yeast', 'target':'twitter', 'predicate':'enzyme', 'to_predicate':'tweets'},\n",
    "            {'id': '19', 'source':'yeast', 'target':'twitter', 'predicate':'function', 'to_predicate':'tweets'},\n",
    "            {'id': '20', 'source':'yeast', 'target':'twitter', 'predicate':'phenotype', 'to_predicate':'tweets'},\n",
    "            {'id': '21', 'source':'yeast', 'target':'twitter', 'predicate':'complex', 'to_predicate':'tweets'},\n",
    "            {'id': '22', 'source':'twitter', 'target':'yeast', 'predicate':'accounttype', 'to_predicate':'proteinclass'},\n",
    "            {'id': '23', 'source':'twitter', 'target':'yeast', 'predicate':'follows', 'to_predicate':'interaction'},\n",
    "            {'id': '24', 'source':'twitter', 'target':'yeast', 'predicate':'tweets', 'to_predicate':'location'},\n",
    "            {'id': '25', 'source':'twitter', 'target':'yeast', 'predicate':'tweets', 'to_predicate':'enzyme'},\n",
    "            {'id': '26', 'source':'twitter', 'target':'yeast', 'predicate':'tweets', 'to_predicate':'function'},\n",
    "            {'id': '27', 'source':'twitter', 'target':'yeast', 'predicate':'tweets', 'to_predicate':'phenotype'},\n",
    "            {'id': '28', 'source':'twitter', 'target':'yeast', 'predicate':'tweets', 'to_predicate':'complex'},\n",
    "            {'id': '29', 'source':'nell_sports', 'target':'nell_finances', 'predicate':'teamalsoknownas', 'to_predicate':'companyalsoknownas'},\n",
    "            {'id': '30', 'source':'nell_sports', 'target':'nell_finances', 'predicate':'teamplaysagainstteam', 'to_predicate':'companyalsoknownas'},\n",
    "            {'id': '31', 'source':'nell_sports', 'target':'nell_finances', 'predicate':'teamplaysagainstteam', 'to_predicate':'acquired'},\n",
    "            {'id': '32', 'source':'nell_sports', 'target':'nell_finances', 'predicate':'teamplaysagainstteam', 'to_predicate':'bankboughtbank'},\n",
    "            {'id': '33', 'source':'nell_sports', 'target':'nell_finances', 'predicate':'athleteplayssport', 'to_predicate':'companyceo'},\n",
    "            {'id': '34', 'source':'nell_sports', 'target':'nell_finances', 'predicate':'athleteplayssport', 'to_predicate':'bankchiefexecutiveceo'},\n",
    "            {'id': '35', 'source':'nell_sports', 'target':'nell_finances', 'predicate':'athleteplaysforteam', 'to_predicate':'bankchiefexecutiveceo'},\n",
    "            {'id': '36', 'source':'nell_sports', 'target':'nell_finances', 'predicate':'athleteplaysforteam', 'to_predicate':'companyceo'},\n",
    "            {'id': '37', 'source':'nell_sports', 'target':'nell_finances', 'predicate':'teamplayssport', 'to_predicate':'companyeconomicsector'},\n",
    "            {'id': '38', 'source':'nell_finances', 'target':'nell_sports', 'predicate':'companyalsoknownas', 'to_predicate':'teamalsoknownas'},\n",
    "            {'id': '39', 'source':'nell_finances', 'target':'nell_sports', 'predicate':'companyalsoknownas', 'to_predicate':'teamplaysagainstteam'},\n",
    "            {'id': '40', 'source':'nell_finances', 'target':'nell_sports', 'predicate':'acquired', 'to_predicate':'teamplaysagainstteam'},\n",
    "            {'id': '41', 'source':'nell_finances', 'target':'nell_sports', 'predicate':'bankboughtbank', 'to_predicate':'teamplaysagainstteam'},\n",
    "            {'id': '42', 'source':'nell_finances', 'target':'nell_sports', 'predicate':'companyceo', 'to_predicate':'athleteplayssport'},\n",
    "            {'id': '43', 'source':'nell_finances', 'target':'nell_sports', 'predicate':'bankchiefexecutiveceo', 'to_predicate':'athleteplayssport'},\n",
    "            {'id': '44', 'source':'nell_finances', 'target':'nell_sports', 'predicate':'bankchiefexecutiveceo', 'to_predicate':'athleteplaysforteam'},\n",
    "            {'id': '45', 'source':'nell_finances', 'target':'nell_sports', 'predicate':'companyceo', 'to_predicate':'athleteplaysforteam'},\n",
    "            {'id': '46', 'source':'nell_finances', 'target':'nell_sports', 'predicate':'companyeconomicsector', 'to_predicate':'teamplayssport'},\n",
    "]\n",
    "\n",
    "for metric in ['AUC ROC', 'AUC PR', 'CLL', 'Recall', 'F1', 'Precision', 'Learning and Revision time', 'Inference time']:\n",
    "    display(Markdown('# Results for ' + metric))\n",
    "    table = []\n",
    "    for j in range(len(experiments)):\n",
    "        dataset = experiments[j]['id'] + '_' + experiments[j]['source'] + '_' + experiments[j]['target']\n",
    "        if dataset in data['results']: \n",
    "            #for metric in ['AUC ROC', 'AUC PR']:\n",
    "                #display(Markdown('## ' + metric))\n",
    "            if metric == 'Precision':\n",
    "                scratch = np.array([item['scratch']['Precision'][0] for sublist in data['results'][str(dataset)] for item in sublist])\n",
    "                parameter = np.array([item['transfer']['Parameter Learning results']['Precision'][0] for sublist in data['results'][str(dataset)] for item in sublist])\n",
    "                transfer = np.array([item['transfer']['Precision'][0] for sublist in data['results'][str(dataset)] for item in sublist])\n",
    "            elif metric == 'Learning and Revision time':\n",
    "                scratch = np.array([item['scratch']['Learning time'] for sublist in data['results'][str(dataset)] for item in sublist])\n",
    "                parameter = np.array([item['transfer']['Parameter Learning results']['Learning time'] for sublist in data['results'][str(dataset)] for item in sublist])\n",
    "                transfer = np.array([item['transfer']['Learning time'] for sublist in data['results'][str(dataset)] for item in sublist])\n",
    "            elif metric == 'Inference time':\n",
    "                scratch = np.array([item['scratch']['Inference time'] for sublist in data['results'][str(dataset)] for item in sublist])\n",
    "                parameter = np.array([item['transfer']['Parameter Learning results']['Learning time'] for sublist in data['results'][str(dataset)] for item in sublist])\n",
    "                transfer = np.array([item['transfer']['Inference time'] for sublist in data['results'][str(dataset)] for item in sublist])\n",
    "            else:\n",
    "                scratch = np.array([item['scratch'][metric] for sublist in data['results'][str(dataset)] for item in sublist])\n",
    "                parameter = np.array([item['transfer']['Parameter Learning results'][metric] for sublist in data['results'][str(dataset)] for item in sublist])\n",
    "                transfer = np.array([item['transfer'][metric] for sublist in data['results'][str(dataset)] for item in sublist])\n",
    "            table.append([dataset, '%.3f +/- %.3f' % (parameter.mean(), 2 * parameter.std()),\n",
    "            '%.3f +/- %.3f' % (transfer.mean(), 2 * transfer.std()),\n",
    "            '%.3f +/- %.3f' % (scratch.mean(), 2 * scratch.std())])\n",
    "    display(pd.DataFrame(table, columns=['Experiment', 'Transfer Learning', 'Transfer Learning with Revision Theory', 'Learning from scratch']))"
   ]
  },
  {
   "cell_type": "code",
   "execution_count": 5,
   "metadata": {
    "collapsed": false
   },
   "outputs": [
    {
     "data": {
      "text/markdown": [
       "# Results for 1_imdb_uwcse"
      ],
      "text/plain": [
       "<IPython.core.display.Markdown object>"
      ]
     },
     "metadata": {},
     "output_type": "display_data"
    },
    {
     "data": {
      "text/markdown": [
       "## AUC ROC"
      ],
      "text/plain": [
       "<IPython.core.display.Markdown object>"
      ]
     },
     "metadata": {},
     "output_type": "display_data"
    },
    {
     "name": "stdout",
     "output_type": "stream",
     "text": [
      "T-test for experiment 1\n",
      "Ttest_relResult(statistic=1.0624844844094459, pvalue=0.3479054985886356)\n",
      "Ttest_relResult(statistic=1.13205162363113, pvalue=0.32087681773382676)\n"
     ]
    },
    {
     "data": {
      "text/html": [
       "<div>\n",
       "<table border=\"1\" class=\"dataframe\">\n",
       "  <thead>\n",
       "    <tr style=\"text-align: right;\">\n",
       "      <th></th>\n",
       "      <th>p-value</th>\n",
       "      <th>RDN-B</th>\n",
       "    </tr>\n",
       "  </thead>\n",
       "  <tbody>\n",
       "    <tr>\n",
       "      <th>0</th>\n",
       "      <td>transferRDN-B Ref</td>\n",
       "      <td>0.348</td>\n",
       "    </tr>\n",
       "    <tr>\n",
       "      <th>1</th>\n",
       "      <td>transferRDN-B</td>\n",
       "      <td>0.321</td>\n",
       "    </tr>\n",
       "  </tbody>\n",
       "</table>\n",
       "</div>"
      ],
      "text/plain": [
       "             p-value  RDN-B\n",
       "0  transferRDN-B Ref  0.348\n",
       "1      transferRDN-B  0.321"
      ]
     },
     "metadata": {},
     "output_type": "display_data"
    },
    {
     "name": "stdout",
     "output_type": "stream",
     "text": [
      "\n",
      "\n",
      "Scratch: [0.963429 0.96225  0.866355 0.948125 0.930758]\n",
      "Transfer: [0.951677 0.952307 0.959689 0.959375 0.956584]\n",
      "Transfer & Revision: [0.9631   0.959591 0.933617 0.945703 0.94027 ]\n"
     ]
    },
    {
     "data": {
      "text/markdown": [
       "## AUC PR"
      ],
      "text/plain": [
       "<IPython.core.display.Markdown object>"
      ]
     },
     "metadata": {},
     "output_type": "display_data"
    },
    {
     "name": "stdout",
     "output_type": "stream",
     "text": [
      "T-test for experiment 1\n",
      "Ttest_relResult(statistic=1.130816092033762, pvalue=0.32133967916366135)\n",
      "Ttest_relResult(statistic=1.6052330498212557, pvalue=0.18371329486082824)\n"
     ]
    },
    {
     "data": {
      "text/html": [
       "<div>\n",
       "<table border=\"1\" class=\"dataframe\">\n",
       "  <thead>\n",
       "    <tr style=\"text-align: right;\">\n",
       "      <th></th>\n",
       "      <th>p-value</th>\n",
       "      <th>RDN-B</th>\n",
       "    </tr>\n",
       "  </thead>\n",
       "  <tbody>\n",
       "    <tr>\n",
       "      <th>0</th>\n",
       "      <td>transferRDN-B Ref</td>\n",
       "      <td>0.321</td>\n",
       "    </tr>\n",
       "    <tr>\n",
       "      <th>1</th>\n",
       "      <td>transferRDN-B</td>\n",
       "      <td>0.184</td>\n",
       "    </tr>\n",
       "  </tbody>\n",
       "</table>\n",
       "</div>"
      ],
      "text/plain": [
       "             p-value  RDN-B\n",
       "0  transferRDN-B Ref  0.321\n",
       "1      transferRDN-B  0.184"
      ]
     },
     "metadata": {},
     "output_type": "display_data"
    },
    {
     "name": "stdout",
     "output_type": "stream",
     "text": [
      "\n",
      "\n",
      "Scratch: [0.937107 0.929803 0.774746 0.922869 0.873466]\n",
      "Transfer: [0.929498 0.931984 0.943146 0.95045  0.939   ]\n",
      "Transfer & Revision: [0.936386 0.927045 0.880096 0.918773 0.893929]\n"
     ]
    },
    {
     "data": {
      "text/markdown": [
       "## CLL"
      ],
      "text/plain": [
       "<IPython.core.display.Markdown object>"
      ]
     },
     "metadata": {},
     "output_type": "display_data"
    },
    {
     "name": "stdout",
     "output_type": "stream",
     "text": [
      "T-test for experiment 1\n",
      "Ttest_relResult(statistic=0.957348796631256, pvalue=0.392604812907962)\n",
      "Ttest_relResult(statistic=1.1063332870232803, pvalue=0.33063856646008066)\n"
     ]
    },
    {
     "data": {
      "text/html": [
       "<div>\n",
       "<table border=\"1\" class=\"dataframe\">\n",
       "  <thead>\n",
       "    <tr style=\"text-align: right;\">\n",
       "      <th></th>\n",
       "      <th>p-value</th>\n",
       "      <th>RDN-B</th>\n",
       "    </tr>\n",
       "  </thead>\n",
       "  <tbody>\n",
       "    <tr>\n",
       "      <th>0</th>\n",
       "      <td>transferRDN-B Ref</td>\n",
       "      <td>0.393</td>\n",
       "    </tr>\n",
       "    <tr>\n",
       "      <th>1</th>\n",
       "      <td>transferRDN-B</td>\n",
       "      <td>0.331</td>\n",
       "    </tr>\n",
       "  </tbody>\n",
       "</table>\n",
       "</div>"
      ],
      "text/plain": [
       "             p-value  RDN-B\n",
       "0  transferRDN-B Ref  0.393\n",
       "1      transferRDN-B  0.331"
      ]
     },
     "metadata": {},
     "output_type": "display_data"
    },
    {
     "name": "stdout",
     "output_type": "stream",
     "text": [
      "\n",
      "\n",
      "Scratch: [-0.210682 -0.238293 -0.351726 -0.236094 -0.250571]\n",
      "Transfer: [-0.232353 -0.231667 -0.225631 -0.231815 -0.224265]\n",
      "Transfer & Revision: [-0.211256 -0.223627 -0.271719 -0.239393 -0.262004]\n"
     ]
    },
    {
     "data": {
      "text/markdown": [
       "## Recall"
      ],
      "text/plain": [
       "<IPython.core.display.Markdown object>"
      ]
     },
     "metadata": {},
     "output_type": "display_data"
    },
    {
     "name": "stdout",
     "output_type": "stream",
     "text": [
      "T-test for experiment 1\n",
      "Ttest_relResult(statistic=0.7022025956586048, pvalue=0.5212637710319327)\n",
      "Ttest_relResult(statistic=1.4770715691245175, pvalue=0.21371301193650816)\n"
     ]
    },
    {
     "data": {
      "text/html": [
       "<div>\n",
       "<table border=\"1\" class=\"dataframe\">\n",
       "  <thead>\n",
       "    <tr style=\"text-align: right;\">\n",
       "      <th></th>\n",
       "      <th>p-value</th>\n",
       "      <th>RDN-B</th>\n",
       "    </tr>\n",
       "  </thead>\n",
       "  <tbody>\n",
       "    <tr>\n",
       "      <th>0</th>\n",
       "      <td>transferRDN-B Ref</td>\n",
       "      <td>0.521</td>\n",
       "    </tr>\n",
       "    <tr>\n",
       "      <th>1</th>\n",
       "      <td>transferRDN-B</td>\n",
       "      <td>0.214</td>\n",
       "    </tr>\n",
       "  </tbody>\n",
       "</table>\n",
       "</div>"
      ],
      "text/plain": [
       "             p-value  RDN-B\n",
       "0  transferRDN-B Ref  0.521\n",
       "1      transferRDN-B  0.214"
      ]
     },
     "metadata": {},
     "output_type": "display_data"
    },
    {
     "name": "stdout",
     "output_type": "stream",
     "text": [
      "\n",
      "\n",
      "Scratch: [1.       0.946237 1.       0.975    1.      ]\n",
      "Transfer: [1. 1. 1. 1. 1.]\n",
      "Transfer & Revision: [0.987179 1.       1.       0.975    1.      ]\n"
     ]
    },
    {
     "data": {
      "text/markdown": [
       "## F1"
      ],
      "text/plain": [
       "<IPython.core.display.Markdown object>"
      ]
     },
     "metadata": {},
     "output_type": "display_data"
    },
    {
     "name": "stdout",
     "output_type": "stream",
     "text": [
      "T-test for experiment 1\n",
      "Ttest_relResult(statistic=1.5901219601064347, pvalue=0.18701305773992652)\n",
      "Ttest_relResult(statistic=1.666453494750265, pvalue=0.17095151215029408)\n"
     ]
    },
    {
     "data": {
      "text/html": [
       "<div>\n",
       "<table border=\"1\" class=\"dataframe\">\n",
       "  <thead>\n",
       "    <tr style=\"text-align: right;\">\n",
       "      <th></th>\n",
       "      <th>p-value</th>\n",
       "      <th>RDN-B</th>\n",
       "    </tr>\n",
       "  </thead>\n",
       "  <tbody>\n",
       "    <tr>\n",
       "      <th>0</th>\n",
       "      <td>transferRDN-B Ref</td>\n",
       "      <td>0.187</td>\n",
       "    </tr>\n",
       "    <tr>\n",
       "      <th>1</th>\n",
       "      <td>transferRDN-B</td>\n",
       "      <td>0.171</td>\n",
       "    </tr>\n",
       "  </tbody>\n",
       "</table>\n",
       "</div>"
      ],
      "text/plain": [
       "             p-value  RDN-B\n",
       "0  transferRDN-B Ref  0.187\n",
       "1      transferRDN-B  0.171"
      ]
     },
     "metadata": {},
     "output_type": "display_data"
    },
    {
     "name": "stdout",
     "output_type": "stream",
     "text": [
      "\n",
      "\n",
      "Scratch: [0.939759 0.926316 0.908297 0.934132 0.941748]\n",
      "Transfer: [0.939759 0.939394 0.945455 0.941176 0.941748]\n",
      "Transfer & Revision: [0.944785 0.939394 0.945455 0.934132 0.941748]\n"
     ]
    },
    {
     "data": {
      "text/markdown": [
       "## Precision"
      ],
      "text/plain": [
       "<IPython.core.display.Markdown object>"
      ]
     },
     "metadata": {},
     "output_type": "display_data"
    },
    {
     "name": "stdout",
     "output_type": "stream",
     "text": [
      "\n",
      "\n",
      "Scratch: [0.886364 0.907216 0.832    0.896552 0.889908]\n",
      "Transfer: [0.886364 0.885714 0.896552 0.888889 0.889908]\n",
      "Transfer & Revision: [0.905882 0.885714 0.896552 0.896552 0.889908]\n"
     ]
    },
    {
     "data": {
      "text/markdown": [
       "## Learning and Revision time"
      ],
      "text/plain": [
       "<IPython.core.display.Markdown object>"
      ]
     },
     "metadata": {},
     "output_type": "display_data"
    },
    {
     "name": "stdout",
     "output_type": "stream",
     "text": [
      "\n",
      "\n",
      "Scratch: [6.145 5.745 3.3   8.944 3.566]\n",
      "Transfer: [3.381 3.62  2.13  5.53  2.793]\n",
      "Transfer & Revision: [ 7.741  8.719  5.258 14.029  5.814]\n"
     ]
    },
    {
     "data": {
      "text/markdown": [
       "## Inference time"
      ],
      "text/plain": [
       "<IPython.core.display.Markdown object>"
      ]
     },
     "metadata": {},
     "output_type": "display_data"
    },
    {
     "name": "stdout",
     "output_type": "stream",
     "text": [
      "\n",
      "\n",
      "Scratch: [0.8   0.79  0.729 0.828 0.751]\n",
      "Transfer: [3.381 3.62  2.13  5.53  2.793]\n",
      "Transfer & Revision: [0.773 0.772 0.76  0.821 0.755]\n"
     ]
    },
    {
     "data": {
      "text/markdown": [
       "# Results for 2_uwcse_imdb"
      ],
      "text/plain": [
       "<IPython.core.display.Markdown object>"
      ]
     },
     "metadata": {},
     "output_type": "display_data"
    },
    {
     "data": {
      "text/markdown": [
       "## AUC ROC"
      ],
      "text/plain": [
       "<IPython.core.display.Markdown object>"
      ]
     },
     "metadata": {},
     "output_type": "display_data"
    },
    {
     "name": "stdout",
     "output_type": "stream",
     "text": [
      "T-test for experiment 1\n",
      "Ttest_relResult(statistic=0.9999999999999998, pvalue=0.373900966300059)\n",
      "Ttest_relResult(statistic=0.9999999999999998, pvalue=0.373900966300059)\n"
     ]
    },
    {
     "data": {
      "text/html": [
       "<div>\n",
       "<table border=\"1\" class=\"dataframe\">\n",
       "  <thead>\n",
       "    <tr style=\"text-align: right;\">\n",
       "      <th></th>\n",
       "      <th>p-value</th>\n",
       "      <th>RDN-B</th>\n",
       "    </tr>\n",
       "  </thead>\n",
       "  <tbody>\n",
       "    <tr>\n",
       "      <th>0</th>\n",
       "      <td>transferRDN-B Ref</td>\n",
       "      <td>0.374</td>\n",
       "    </tr>\n",
       "    <tr>\n",
       "      <th>1</th>\n",
       "      <td>transferRDN-B</td>\n",
       "      <td>0.374</td>\n",
       "    </tr>\n",
       "  </tbody>\n",
       "</table>\n",
       "</div>"
      ],
      "text/plain": [
       "             p-value  RDN-B\n",
       "0  transferRDN-B Ref  0.374\n",
       "1      transferRDN-B  0.374"
      ]
     },
     "metadata": {},
     "output_type": "display_data"
    },
    {
     "name": "stdout",
     "output_type": "stream",
     "text": [
      "\n",
      "\n",
      "Scratch: [0.903675 1.       1.       1.       1.      ]\n",
      "Transfer: [1. 1. 1. 1. 1.]\n",
      "Transfer & Revision: [1. 1. 1. 1. 1.]\n"
     ]
    },
    {
     "data": {
      "text/markdown": [
       "## AUC PR"
      ],
      "text/plain": [
       "<IPython.core.display.Markdown object>"
      ]
     },
     "metadata": {},
     "output_type": "display_data"
    },
    {
     "name": "stdout",
     "output_type": "stream",
     "text": [
      "T-test for experiment 1\n",
      "Ttest_relResult(statistic=0.9999999999999998, pvalue=0.373900966300059)\n",
      "Ttest_relResult(statistic=0.9999999999999998, pvalue=0.373900966300059)\n"
     ]
    },
    {
     "data": {
      "text/html": [
       "<div>\n",
       "<table border=\"1\" class=\"dataframe\">\n",
       "  <thead>\n",
       "    <tr style=\"text-align: right;\">\n",
       "      <th></th>\n",
       "      <th>p-value</th>\n",
       "      <th>RDN-B</th>\n",
       "    </tr>\n",
       "  </thead>\n",
       "  <tbody>\n",
       "    <tr>\n",
       "      <th>0</th>\n",
       "      <td>transferRDN-B Ref</td>\n",
       "      <td>0.374</td>\n",
       "    </tr>\n",
       "    <tr>\n",
       "      <th>1</th>\n",
       "      <td>transferRDN-B</td>\n",
       "      <td>0.374</td>\n",
       "    </tr>\n",
       "  </tbody>\n",
       "</table>\n",
       "</div>"
      ],
      "text/plain": [
       "             p-value  RDN-B\n",
       "0  transferRDN-B Ref  0.374\n",
       "1      transferRDN-B  0.374"
      ]
     },
     "metadata": {},
     "output_type": "display_data"
    },
    {
     "name": "stdout",
     "output_type": "stream",
     "text": [
      "\n",
      "\n",
      "Scratch: [0.837662 1.       1.       1.       1.      ]\n",
      "Transfer: [1. 1. 1. 1. 1.]\n",
      "Transfer & Revision: [1. 1. 1. 1. 1.]\n"
     ]
    },
    {
     "data": {
      "text/markdown": [
       "## CLL"
      ],
      "text/plain": [
       "<IPython.core.display.Markdown object>"
      ]
     },
     "metadata": {},
     "output_type": "display_data"
    },
    {
     "name": "stdout",
     "output_type": "stream",
     "text": [
      "T-test for experiment 1\n",
      "Ttest_relResult(statistic=1.9242268029265577, pvalue=0.12665381637307352)\n",
      "Ttest_relResult(statistic=1.678277318502083, pvalue=0.1685953211390529)\n"
     ]
    },
    {
     "data": {
      "text/html": [
       "<div>\n",
       "<table border=\"1\" class=\"dataframe\">\n",
       "  <thead>\n",
       "    <tr style=\"text-align: right;\">\n",
       "      <th></th>\n",
       "      <th>p-value</th>\n",
       "      <th>RDN-B</th>\n",
       "    </tr>\n",
       "  </thead>\n",
       "  <tbody>\n",
       "    <tr>\n",
       "      <th>0</th>\n",
       "      <td>transferRDN-B Ref</td>\n",
       "      <td>0.127</td>\n",
       "    </tr>\n",
       "    <tr>\n",
       "      <th>1</th>\n",
       "      <td>transferRDN-B</td>\n",
       "      <td>0.169</td>\n",
       "    </tr>\n",
       "  </tbody>\n",
       "</table>\n",
       "</div>"
      ],
      "text/plain": [
       "             p-value  RDN-B\n",
       "0  transferRDN-B Ref  0.127\n",
       "1      transferRDN-B  0.169"
      ]
     },
     "metadata": {},
     "output_type": "display_data"
    },
    {
     "name": "stdout",
     "output_type": "stream",
     "text": [
      "\n",
      "\n",
      "Scratch: [-0.289355 -0.179521 -0.094637 -0.094637 -0.213649]\n",
      "Transfer: [-0.120488 -0.120865 -0.094991 -0.121892 -0.122481]\n",
      "Transfer & Revision: [-0.131448 -0.131246 -0.097349 -0.100829 -0.099876]\n"
     ]
    },
    {
     "data": {
      "text/markdown": [
       "## Recall"
      ],
      "text/plain": [
       "<IPython.core.display.Markdown object>"
      ]
     },
     "metadata": {},
     "output_type": "display_data"
    },
    {
     "name": "stdout",
     "output_type": "stream",
     "text": [
      "T-test for experiment 1\n",
      "Ttest_relResult(statistic=nan, pvalue=nan)\n",
      "Ttest_relResult(statistic=nan, pvalue=nan)\n"
     ]
    },
    {
     "data": {
      "text/html": [
       "<div>\n",
       "<table border=\"1\" class=\"dataframe\">\n",
       "  <thead>\n",
       "    <tr style=\"text-align: right;\">\n",
       "      <th></th>\n",
       "      <th>p-value</th>\n",
       "      <th>RDN-B</th>\n",
       "    </tr>\n",
       "  </thead>\n",
       "  <tbody>\n",
       "    <tr>\n",
       "      <th>0</th>\n",
       "      <td>transferRDN-B Ref</td>\n",
       "      <td>nan</td>\n",
       "    </tr>\n",
       "    <tr>\n",
       "      <th>1</th>\n",
       "      <td>transferRDN-B</td>\n",
       "      <td>nan</td>\n",
       "    </tr>\n",
       "  </tbody>\n",
       "</table>\n",
       "</div>"
      ],
      "text/plain": [
       "             p-value RDN-B\n",
       "0  transferRDN-B Ref   nan\n",
       "1      transferRDN-B   nan"
      ]
     },
     "metadata": {},
     "output_type": "display_data"
    },
    {
     "name": "stdout",
     "output_type": "stream",
     "text": [
      "\n",
      "\n",
      "Scratch: [1. 1. 1. 1. 1.]\n",
      "Transfer: [1. 1. 1. 1. 1.]\n",
      "Transfer & Revision: [1. 1. 1. 1. 1.]\n"
     ]
    },
    {
     "data": {
      "text/markdown": [
       "## F1"
      ],
      "text/plain": [
       "<IPython.core.display.Markdown object>"
      ]
     },
     "metadata": {},
     "output_type": "display_data"
    },
    {
     "name": "stdout",
     "output_type": "stream",
     "text": [
      "T-test for experiment 1\n",
      "Ttest_relResult(statistic=2.4489985172744877, pvalue=0.0705212895221997)\n",
      "Ttest_relResult(statistic=2.4489985172744877, pvalue=0.0705212895221997)\n"
     ]
    },
    {
     "data": {
      "text/html": [
       "<div>\n",
       "<table border=\"1\" class=\"dataframe\">\n",
       "  <thead>\n",
       "    <tr style=\"text-align: right;\">\n",
       "      <th></th>\n",
       "      <th>p-value</th>\n",
       "      <th>RDN-B</th>\n",
       "    </tr>\n",
       "  </thead>\n",
       "  <tbody>\n",
       "    <tr>\n",
       "      <th>0</th>\n",
       "      <td>transferRDN-B Ref</td>\n",
       "      <td>0.071</td>\n",
       "    </tr>\n",
       "    <tr>\n",
       "      <th>1</th>\n",
       "      <td>transferRDN-B</td>\n",
       "      <td>0.071</td>\n",
       "    </tr>\n",
       "  </tbody>\n",
       "</table>\n",
       "</div>"
      ],
      "text/plain": [
       "             p-value  RDN-B\n",
       "0  transferRDN-B Ref  0.071\n",
       "1      transferRDN-B  0.071"
      ]
     },
     "metadata": {},
     "output_type": "display_data"
    },
    {
     "name": "stdout",
     "output_type": "stream",
     "text": [
      "\n",
      "\n",
      "Scratch: [0.913165 0.913963 1.       1.       0.915761]\n",
      "Transfer: [1. 1. 1. 1. 1.]\n",
      "Transfer & Revision: [1. 1. 1. 1. 1.]\n"
     ]
    },
    {
     "data": {
      "text/markdown": [
       "## Precision"
      ],
      "text/plain": [
       "<IPython.core.display.Markdown object>"
      ]
     },
     "metadata": {},
     "output_type": "display_data"
    },
    {
     "name": "stdout",
     "output_type": "stream",
     "text": [
      "\n",
      "\n",
      "Scratch: [0.840206 0.841558 1.       1.       0.844612]\n",
      "Transfer: [1. 1. 1. 1. 1.]\n",
      "Transfer & Revision: [1. 1. 1. 1. 1.]\n"
     ]
    },
    {
     "data": {
      "text/markdown": [
       "## Learning and Revision time"
      ],
      "text/plain": [
       "<IPython.core.display.Markdown object>"
      ]
     },
     "metadata": {},
     "output_type": "display_data"
    },
    {
     "name": "stdout",
     "output_type": "stream",
     "text": [
      "\n",
      "\n",
      "Scratch: [2.131 2.256 3.878 2.024 2.104]\n",
      "Transfer: [1.412 1.532 4.151 1.678 1.904]\n",
      "Transfer & Revision: [3.244 3.289 8.248 3.598 3.583]\n"
     ]
    },
    {
     "data": {
      "text/markdown": [
       "## Inference time"
      ],
      "text/plain": [
       "<IPython.core.display.Markdown object>"
      ]
     },
     "metadata": {},
     "output_type": "display_data"
    },
    {
     "name": "stdout",
     "output_type": "stream",
     "text": [
      "\n",
      "\n",
      "Scratch: [0.777 0.777 0.776 0.787 0.808]\n",
      "Transfer: [1.412 1.532 4.151 1.678 1.904]\n",
      "Transfer & Revision: [0.834 0.875 0.8   0.899 0.86 ]\n"
     ]
    },
    {
     "data": {
      "text/markdown": [
       "# Results for 3_imdb_uwcse"
      ],
      "text/plain": [
       "<IPython.core.display.Markdown object>"
      ]
     },
     "metadata": {},
     "output_type": "display_data"
    },
    {
     "data": {
      "text/markdown": [
       "## AUC ROC"
      ],
      "text/plain": [
       "<IPython.core.display.Markdown object>"
      ]
     },
     "metadata": {},
     "output_type": "display_data"
    },
    {
     "name": "stdout",
     "output_type": "stream",
     "text": [
      "T-test for experiment 1\n",
      "Ttest_relResult(statistic=1.4520439837491346, pvalue=0.22013029574648438)\n",
      "Ttest_relResult(statistic=1.0257060565890388, pvalue=0.36300606242011335)\n"
     ]
    },
    {
     "data": {
      "text/html": [
       "<div>\n",
       "<table border=\"1\" class=\"dataframe\">\n",
       "  <thead>\n",
       "    <tr style=\"text-align: right;\">\n",
       "      <th></th>\n",
       "      <th>p-value</th>\n",
       "      <th>RDN-B</th>\n",
       "    </tr>\n",
       "  </thead>\n",
       "  <tbody>\n",
       "    <tr>\n",
       "      <th>0</th>\n",
       "      <td>transferRDN-B Ref</td>\n",
       "      <td>0.220</td>\n",
       "    </tr>\n",
       "    <tr>\n",
       "      <th>1</th>\n",
       "      <td>transferRDN-B</td>\n",
       "      <td>0.363</td>\n",
       "    </tr>\n",
       "  </tbody>\n",
       "</table>\n",
       "</div>"
      ],
      "text/plain": [
       "             p-value  RDN-B\n",
       "0  transferRDN-B Ref  0.220\n",
       "1      transferRDN-B  0.363"
      ]
     },
     "metadata": {},
     "output_type": "display_data"
    },
    {
     "name": "stdout",
     "output_type": "stream",
     "text": [
      "\n",
      "\n",
      "Scratch: [0.608518 0.59946  0.513122 0.601276 0.699091]\n",
      "Transfer: [0.625566 0.659607 0.5      0.674538 0.666399]\n",
      "Transfer & Revision: [0.604264 0.660124 0.513122 0.642957 0.697868]\n"
     ]
    },
    {
     "data": {
      "text/markdown": [
       "## AUC PR"
      ],
      "text/plain": [
       "<IPython.core.display.Markdown object>"
      ]
     },
     "metadata": {},
     "output_type": "display_data"
    },
    {
     "name": "stdout",
     "output_type": "stream",
     "text": [
      "T-test for experiment 1\n",
      "Ttest_relResult(statistic=1.6029638229984553, pvalue=0.18420494755472522)\n",
      "Ttest_relResult(statistic=0.11002014816801431, pvalue=0.9176923128936462)\n"
     ]
    },
    {
     "data": {
      "text/html": [
       "<div>\n",
       "<table border=\"1\" class=\"dataframe\">\n",
       "  <thead>\n",
       "    <tr style=\"text-align: right;\">\n",
       "      <th></th>\n",
       "      <th>p-value</th>\n",
       "      <th>RDN-B</th>\n",
       "    </tr>\n",
       "  </thead>\n",
       "  <tbody>\n",
       "    <tr>\n",
       "      <th>0</th>\n",
       "      <td>transferRDN-B Ref</td>\n",
       "      <td>0.184</td>\n",
       "    </tr>\n",
       "    <tr>\n",
       "      <th>1</th>\n",
       "      <td>transferRDN-B</td>\n",
       "      <td>0.918</td>\n",
       "    </tr>\n",
       "  </tbody>\n",
       "</table>\n",
       "</div>"
      ],
      "text/plain": [
       "             p-value  RDN-B\n",
       "0  transferRDN-B Ref  0.184\n",
       "1      transferRDN-B  0.918"
      ]
     },
     "metadata": {},
     "output_type": "display_data"
    },
    {
     "name": "stdout",
     "output_type": "stream",
     "text": [
      "\n",
      "\n",
      "Scratch: [0.590933 0.617461 0.509288 0.581197 0.677573]\n",
      "Transfer: [0.591121 0.622102 0.5      0.640797 0.631753]\n",
      "Transfer & Revision: [0.595975 0.643038 0.509288 0.591847 0.675766]\n"
     ]
    },
    {
     "data": {
      "text/markdown": [
       "## CLL"
      ],
      "text/plain": [
       "<IPython.core.display.Markdown object>"
      ]
     },
     "metadata": {},
     "output_type": "display_data"
    },
    {
     "name": "stdout",
     "output_type": "stream",
     "text": [
      "T-test for experiment 1\n",
      "Ttest_relResult(statistic=0.8428792747000576, pvalue=0.4467470277222079)\n",
      "Ttest_relResult(statistic=2.579960472833085, pvalue=0.061329988742134314)\n"
     ]
    },
    {
     "data": {
      "text/html": [
       "<div>\n",
       "<table border=\"1\" class=\"dataframe\">\n",
       "  <thead>\n",
       "    <tr style=\"text-align: right;\">\n",
       "      <th></th>\n",
       "      <th>p-value</th>\n",
       "      <th>RDN-B</th>\n",
       "    </tr>\n",
       "  </thead>\n",
       "  <tbody>\n",
       "    <tr>\n",
       "      <th>0</th>\n",
       "      <td>transferRDN-B Ref</td>\n",
       "      <td>0.447</td>\n",
       "    </tr>\n",
       "    <tr>\n",
       "      <th>1</th>\n",
       "      <td>transferRDN-B</td>\n",
       "      <td>0.061</td>\n",
       "    </tr>\n",
       "  </tbody>\n",
       "</table>\n",
       "</div>"
      ],
      "text/plain": [
       "             p-value  RDN-B\n",
       "0  transferRDN-B Ref  0.447\n",
       "1      transferRDN-B  0.061"
      ]
     },
     "metadata": {},
     "output_type": "display_data"
    },
    {
     "name": "stdout",
     "output_type": "stream",
     "text": [
      "\n",
      "\n",
      "Scratch: [-0.723354 -0.708331 -0.709482 -0.720718 -0.642895]\n",
      "Transfer: [-0.672444 -0.641436 -0.695026 -0.641755 -0.648465]\n",
      "Transfer & Revision: [-0.745315 -0.681802 -0.709482 -0.683896 -0.640451]\n"
     ]
    },
    {
     "data": {
      "text/markdown": [
       "## Recall"
      ],
      "text/plain": [
       "<IPython.core.display.Markdown object>"
      ]
     },
     "metadata": {},
     "output_type": "display_data"
    },
    {
     "name": "stdout",
     "output_type": "stream",
     "text": [
      "T-test for experiment 1\n",
      "Ttest_relResult(statistic=1.541215846608618, pvalue=0.19811780685432764)\n",
      "Ttest_relResult(statistic=0.3419494891334526, pvalue=0.7495994413800513)\n"
     ]
    },
    {
     "data": {
      "text/html": [
       "<div>\n",
       "<table border=\"1\" class=\"dataframe\">\n",
       "  <thead>\n",
       "    <tr style=\"text-align: right;\">\n",
       "      <th></th>\n",
       "      <th>p-value</th>\n",
       "      <th>RDN-B</th>\n",
       "    </tr>\n",
       "  </thead>\n",
       "  <tbody>\n",
       "    <tr>\n",
       "      <th>0</th>\n",
       "      <td>transferRDN-B Ref</td>\n",
       "      <td>0.198</td>\n",
       "    </tr>\n",
       "    <tr>\n",
       "      <th>1</th>\n",
       "      <td>transferRDN-B</td>\n",
       "      <td>0.750</td>\n",
       "    </tr>\n",
       "  </tbody>\n",
       "</table>\n",
       "</div>"
      ],
      "text/plain": [
       "             p-value  RDN-B\n",
       "0  transferRDN-B Ref  0.198\n",
       "1      transferRDN-B  0.750"
      ]
     },
     "metadata": {},
     "output_type": "display_data"
    },
    {
     "name": "stdout",
     "output_type": "stream",
     "text": [
      "\n",
      "\n",
      "Scratch: [0.504525 0.388805 0.502762 0.488706 0.586817]\n",
      "Transfer: [0.68552  0.691377 0.       0.667351 0.670418]\n",
      "Transfer & Revision: [0.547511 0.388805 0.502762 0.513347 0.586817]\n"
     ]
    },
    {
     "data": {
      "text/markdown": [
       "## F1"
      ],
      "text/plain": [
       "<IPython.core.display.Markdown object>"
      ]
     },
     "metadata": {},
     "output_type": "display_data"
    },
    {
     "name": "stdout",
     "output_type": "stream",
     "text": [
      "T-test for experiment 1\n",
      "Ttest_relResult(statistic=1.6291679838866016, pvalue=0.1786096868735445)\n",
      "Ttest_relResult(statistic=nan, pvalue=nan)\n"
     ]
    },
    {
     "data": {
      "text/html": [
       "<div>\n",
       "<table border=\"1\" class=\"dataframe\">\n",
       "  <thead>\n",
       "    <tr style=\"text-align: right;\">\n",
       "      <th></th>\n",
       "      <th>p-value</th>\n",
       "      <th>RDN-B</th>\n",
       "    </tr>\n",
       "  </thead>\n",
       "  <tbody>\n",
       "    <tr>\n",
       "      <th>0</th>\n",
       "      <td>transferRDN-B Ref</td>\n",
       "      <td>0.179</td>\n",
       "    </tr>\n",
       "    <tr>\n",
       "      <th>1</th>\n",
       "      <td>transferRDN-B</td>\n",
       "      <td>nan</td>\n",
       "    </tr>\n",
       "  </tbody>\n",
       "</table>\n",
       "</div>"
      ],
      "text/plain": [
       "             p-value  RDN-B\n",
       "0  transferRDN-B Ref  0.179\n",
       "1      transferRDN-B    nan"
      ]
     },
     "metadata": {},
     "output_type": "display_data"
    },
    {
     "name": "stdout",
     "output_type": "stream",
     "text": [
      "\n",
      "\n",
      "Scratch: [0.55335  0.483992 0.508025 0.559342 0.625536]\n",
      "Transfer: [0.646745 0.670088      nan 0.672182 0.667734]\n",
      "Transfer & Revision: [0.57414  0.483992 0.508025 0.578035 0.625536]\n"
     ]
    },
    {
     "data": {
      "text/markdown": [
       "## Precision"
      ],
      "text/plain": [
       "<IPython.core.display.Markdown object>"
      ]
     },
     "metadata": {},
     "output_type": "display_data"
    },
    {
     "name": "stdout",
     "output_type": "stream",
     "text": [
      "\n",
      "\n",
      "Scratch: [0.612637 0.640898 0.513399 0.653846 0.669725]\n",
      "Transfer: [0.612121 0.650071      nan 0.677083 0.665072]\n",
      "Transfer & Revision: [0.603491 0.640898 0.513399 0.661376 0.669725]\n"
     ]
    },
    {
     "data": {
      "text/markdown": [
       "## Learning and Revision time"
      ],
      "text/plain": [
       "<IPython.core.display.Markdown object>"
      ]
     },
     "metadata": {},
     "output_type": "display_data"
    },
    {
     "name": "stdout",
     "output_type": "stream",
     "text": [
      "\n",
      "\n",
      "Scratch: [41.302 11.536  2.695 26.485 11.158]\n",
      "Transfer: [24.781  6.07   1.614  8.704  4.888]\n",
      "Transfer & Revision: [63.451 14.686  3.443 30.83  13.847]\n"
     ]
    },
    {
     "data": {
      "text/markdown": [
       "## Inference time"
      ],
      "text/plain": [
       "<IPython.core.display.Markdown object>"
      ]
     },
     "metadata": {},
     "output_type": "display_data"
    },
    {
     "name": "stdout",
     "output_type": "stream",
     "text": [
      "\n",
      "\n",
      "Scratch: [1.211 1.331 1.029 1.103 1.301]\n",
      "Transfer: [24.781  6.07   1.614  8.704  4.888]\n",
      "Transfer & Revision: [1.173 1.243 1.249 1.244 1.178]\n"
     ]
    },
    {
     "data": {
      "text/markdown": [
       "# Results for 4_uwcse_imdb"
      ],
      "text/plain": [
       "<IPython.core.display.Markdown object>"
      ]
     },
     "metadata": {},
     "output_type": "display_data"
    },
    {
     "data": {
      "text/markdown": [
       "## AUC ROC"
      ],
      "text/plain": [
       "<IPython.core.display.Markdown object>"
      ]
     },
     "metadata": {},
     "output_type": "display_data"
    },
    {
     "name": "stdout",
     "output_type": "stream",
     "text": [
      "T-test for experiment 1\n",
      "Ttest_relResult(statistic=2.021458999083978, pvalue=0.11330925401556155)\n",
      "Ttest_relResult(statistic=1.7054907676405802, pvalue=0.1633009769323901)\n"
     ]
    },
    {
     "data": {
      "text/html": [
       "<div>\n",
       "<table border=\"1\" class=\"dataframe\">\n",
       "  <thead>\n",
       "    <tr style=\"text-align: right;\">\n",
       "      <th></th>\n",
       "      <th>p-value</th>\n",
       "      <th>RDN-B</th>\n",
       "    </tr>\n",
       "  </thead>\n",
       "  <tbody>\n",
       "    <tr>\n",
       "      <th>0</th>\n",
       "      <td>transferRDN-B Ref</td>\n",
       "      <td>0.113</td>\n",
       "    </tr>\n",
       "    <tr>\n",
       "      <th>1</th>\n",
       "      <td>transferRDN-B</td>\n",
       "      <td>0.163</td>\n",
       "    </tr>\n",
       "  </tbody>\n",
       "</table>\n",
       "</div>"
      ],
      "text/plain": [
       "             p-value  RDN-B\n",
       "0  transferRDN-B Ref  0.113\n",
       "1      transferRDN-B  0.163"
      ]
     },
     "metadata": {},
     "output_type": "display_data"
    },
    {
     "name": "stdout",
     "output_type": "stream",
     "text": [
      "\n",
      "\n",
      "Scratch: [0.491661 0.484614 0.480489 0.493003 0.500828]\n",
      "Transfer: [0.495009 0.49719  0.50014  0.497258 0.49635 ]\n",
      "Transfer & Revision: [0.493426 0.495735 0.483937 0.504647 0.499288]\n"
     ]
    },
    {
     "data": {
      "text/markdown": [
       "## AUC PR"
      ],
      "text/plain": [
       "<IPython.core.display.Markdown object>"
      ]
     },
     "metadata": {},
     "output_type": "display_data"
    },
    {
     "name": "stdout",
     "output_type": "stream",
     "text": [
      "T-test for experiment 1\n",
      "Ttest_relResult(statistic=0.49343147501913087, pvalue=0.6475716911775729)\n",
      "Ttest_relResult(statistic=0.9239409678809691, pvalue=0.40780837033732437)\n"
     ]
    },
    {
     "data": {
      "text/html": [
       "<div>\n",
       "<table border=\"1\" class=\"dataframe\">\n",
       "  <thead>\n",
       "    <tr style=\"text-align: right;\">\n",
       "      <th></th>\n",
       "      <th>p-value</th>\n",
       "      <th>RDN-B</th>\n",
       "    </tr>\n",
       "  </thead>\n",
       "  <tbody>\n",
       "    <tr>\n",
       "      <th>0</th>\n",
       "      <td>transferRDN-B Ref</td>\n",
       "      <td>0.648</td>\n",
       "    </tr>\n",
       "    <tr>\n",
       "      <th>1</th>\n",
       "      <td>transferRDN-B</td>\n",
       "      <td>0.408</td>\n",
       "    </tr>\n",
       "  </tbody>\n",
       "</table>\n",
       "</div>"
      ],
      "text/plain": [
       "             p-value  RDN-B\n",
       "0  transferRDN-B Ref  0.648\n",
       "1      transferRDN-B  0.408"
      ]
     },
     "metadata": {},
     "output_type": "display_data"
    },
    {
     "name": "stdout",
     "output_type": "stream",
     "text": [
      "\n",
      "\n",
      "Scratch: [0.495022 0.489343 0.487267 0.494273 0.499097]\n",
      "Transfer: [0.496868 0.498056 0.502391 0.498147 0.488913]\n",
      "Transfer & Revision: [0.495492 0.493126 0.493919 0.498581 0.490479]\n"
     ]
    },
    {
     "data": {
      "text/markdown": [
       "## CLL"
      ],
      "text/plain": [
       "<IPython.core.display.Markdown object>"
      ]
     },
     "metadata": {},
     "output_type": "display_data"
    },
    {
     "name": "stdout",
     "output_type": "stream",
     "text": [
      "T-test for experiment 1\n",
      "Ttest_relResult(statistic=-0.3396733792342669, pvalue=0.7511886311248439)\n",
      "Ttest_relResult(statistic=1.3366284862150515, pvalue=0.2523045054548756)\n"
     ]
    },
    {
     "data": {
      "text/html": [
       "<div>\n",
       "<table border=\"1\" class=\"dataframe\">\n",
       "  <thead>\n",
       "    <tr style=\"text-align: right;\">\n",
       "      <th></th>\n",
       "      <th>p-value</th>\n",
       "      <th>RDN-B</th>\n",
       "    </tr>\n",
       "  </thead>\n",
       "  <tbody>\n",
       "    <tr>\n",
       "      <th>0</th>\n",
       "      <td>transferRDN-B Ref</td>\n",
       "      <td>0.751</td>\n",
       "    </tr>\n",
       "    <tr>\n",
       "      <th>1</th>\n",
       "      <td>transferRDN-B</td>\n",
       "      <td>0.252</td>\n",
       "    </tr>\n",
       "  </tbody>\n",
       "</table>\n",
       "</div>"
      ],
      "text/plain": [
       "             p-value  RDN-B\n",
       "0  transferRDN-B Ref  0.751\n",
       "1      transferRDN-B  0.252"
      ]
     },
     "metadata": {},
     "output_type": "display_data"
    },
    {
     "name": "stdout",
     "output_type": "stream",
     "text": [
      "\n",
      "\n",
      "Scratch: [-0.699092 -0.69806  -0.703178 -0.718411 -0.716119]\n",
      "Transfer: [-0.697378 -0.694501 -0.696145 -0.69453  -0.720515]\n",
      "Transfer & Revision: [-0.699609 -0.697473 -0.704065 -0.712621 -0.725125]\n"
     ]
    },
    {
     "data": {
      "text/markdown": [
       "## Recall"
      ],
      "text/plain": [
       "<IPython.core.display.Markdown object>"
      ]
     },
     "metadata": {},
     "output_type": "display_data"
    },
    {
     "name": "stdout",
     "output_type": "stream",
     "text": [
      "T-test for experiment 1\n",
      "Ttest_relResult(statistic=1.0, pvalue=0.373900966300059)\n",
      "Ttest_relResult(statistic=-2.3919951042919996, pvalue=0.07500508356631337)\n"
     ]
    },
    {
     "data": {
      "text/html": [
       "<div>\n",
       "<table border=\"1\" class=\"dataframe\">\n",
       "  <thead>\n",
       "    <tr style=\"text-align: right;\">\n",
       "      <th></th>\n",
       "      <th>p-value</th>\n",
       "      <th>RDN-B</th>\n",
       "    </tr>\n",
       "  </thead>\n",
       "  <tbody>\n",
       "    <tr>\n",
       "      <th>0</th>\n",
       "      <td>transferRDN-B Ref</td>\n",
       "      <td>0.374</td>\n",
       "    </tr>\n",
       "    <tr>\n",
       "      <th>1</th>\n",
       "      <td>transferRDN-B</td>\n",
       "      <td>0.075</td>\n",
       "    </tr>\n",
       "  </tbody>\n",
       "</table>\n",
       "</div>"
      ],
      "text/plain": [
       "             p-value  RDN-B\n",
       "0  transferRDN-B Ref  0.374\n",
       "1      transferRDN-B  0.075"
      ]
     },
     "metadata": {},
     "output_type": "display_data"
    },
    {
     "name": "stdout",
     "output_type": "stream",
     "text": [
      "\n",
      "\n",
      "Scratch: [0.342342 0.       0.549107 0.405063 0.126582]\n",
      "Transfer: [0.       0.       0.066964 0.       0.126582]\n",
      "Transfer & Revision: [0.342342 0.       0.616071 0.405063 0.126582]\n"
     ]
    },
    {
     "data": {
      "text/markdown": [
       "## F1"
      ],
      "text/plain": [
       "<IPython.core.display.Markdown object>"
      ]
     },
     "metadata": {},
     "output_type": "display_data"
    },
    {
     "name": "stdout",
     "output_type": "stream",
     "text": [
      "T-test for experiment 1\n",
      "Ttest_relResult(statistic=nan, pvalue=nan)\n",
      "Ttest_relResult(statistic=nan, pvalue=nan)\n"
     ]
    },
    {
     "data": {
      "text/html": [
       "<div>\n",
       "<table border=\"1\" class=\"dataframe\">\n",
       "  <thead>\n",
       "    <tr style=\"text-align: right;\">\n",
       "      <th></th>\n",
       "      <th>p-value</th>\n",
       "      <th>RDN-B</th>\n",
       "    </tr>\n",
       "  </thead>\n",
       "  <tbody>\n",
       "    <tr>\n",
       "      <th>0</th>\n",
       "      <td>transferRDN-B Ref</td>\n",
       "      <td>nan</td>\n",
       "    </tr>\n",
       "    <tr>\n",
       "      <th>1</th>\n",
       "      <td>transferRDN-B</td>\n",
       "      <td>nan</td>\n",
       "    </tr>\n",
       "  </tbody>\n",
       "</table>\n",
       "</div>"
      ],
      "text/plain": [
       "             p-value RDN-B\n",
       "0  transferRDN-B Ref   nan\n",
       "1      transferRDN-B   nan"
      ]
     },
     "metadata": {},
     "output_type": "display_data"
    },
    {
     "name": "stdout",
     "output_type": "stream",
     "text": [
      "\n",
      "\n",
      "Scratch: [0.404255      nan 0.51357  0.443418 0.201342]\n",
      "Transfer: [     nan      nan 0.118577      nan 0.201342]\n",
      "Transfer & Revision: [0.404255      nan 0.543307 0.443418 0.201342]\n"
     ]
    },
    {
     "data": {
      "text/markdown": [
       "## Precision"
      ],
      "text/plain": [
       "<IPython.core.display.Markdown object>"
      ]
     },
     "metadata": {},
     "output_type": "display_data"
    },
    {
     "name": "stdout",
     "output_type": "stream",
     "text": [
      "\n",
      "\n",
      "Scratch: [0.493506      nan 0.482353 0.489796 0.491803]\n",
      "Transfer: [     nan      nan 0.517241      nan 0.491803]\n",
      "Transfer & Revision: [0.493506      nan 0.485915 0.489796 0.491803]\n"
     ]
    },
    {
     "data": {
      "text/markdown": [
       "## Learning and Revision time"
      ],
      "text/plain": [
       "<IPython.core.display.Markdown object>"
      ]
     },
     "metadata": {},
     "output_type": "display_data"
    },
    {
     "name": "stdout",
     "output_type": "stream",
     "text": [
      "\n",
      "\n",
      "Scratch: [1.752 1.813 2.365 1.725 1.794]\n",
      "Transfer: [1.758 1.157 1.678 1.649 1.362]\n",
      "Transfer & Revision: [4.996 3.867 6.332 4.515 3.106]\n"
     ]
    },
    {
     "data": {
      "text/markdown": [
       "## Inference time"
      ],
      "text/plain": [
       "<IPython.core.display.Markdown object>"
      ]
     },
     "metadata": {},
     "output_type": "display_data"
    },
    {
     "name": "stdout",
     "output_type": "stream",
     "text": [
      "\n",
      "\n",
      "Scratch: [0.744 0.743 0.673 0.683 0.751]\n",
      "Transfer: [1.758 1.157 1.678 1.649 1.362]\n",
      "Transfer & Revision: [1.975 1.972 1.413 1.662 0.797]\n"
     ]
    },
    {
     "data": {
      "text/markdown": [
       "# Results for 5_imdb_uwcse"
      ],
      "text/plain": [
       "<IPython.core.display.Markdown object>"
      ]
     },
     "metadata": {},
     "output_type": "display_data"
    },
    {
     "data": {
      "text/markdown": [
       "## AUC ROC"
      ],
      "text/plain": [
       "<IPython.core.display.Markdown object>"
      ]
     },
     "metadata": {},
     "output_type": "display_data"
    },
    {
     "name": "stdout",
     "output_type": "stream",
     "text": [
      "T-test for experiment 1\n",
      "Ttest_relResult(statistic=-0.45510204754833655, pvalue=0.6726429020204927)\n",
      "Ttest_relResult(statistic=-0.10044487723784788, pvalue=0.9248242684937348)\n"
     ]
    },
    {
     "data": {
      "text/html": [
       "<div>\n",
       "<table border=\"1\" class=\"dataframe\">\n",
       "  <thead>\n",
       "    <tr style=\"text-align: right;\">\n",
       "      <th></th>\n",
       "      <th>p-value</th>\n",
       "      <th>RDN-B</th>\n",
       "    </tr>\n",
       "  </thead>\n",
       "  <tbody>\n",
       "    <tr>\n",
       "      <th>0</th>\n",
       "      <td>transferRDN-B Ref</td>\n",
       "      <td>0.673</td>\n",
       "    </tr>\n",
       "    <tr>\n",
       "      <th>1</th>\n",
       "      <td>transferRDN-B</td>\n",
       "      <td>0.925</td>\n",
       "    </tr>\n",
       "  </tbody>\n",
       "</table>\n",
       "</div>"
      ],
      "text/plain": [
       "             p-value  RDN-B\n",
       "0  transferRDN-B Ref  0.673\n",
       "1      transferRDN-B  0.925"
      ]
     },
     "metadata": {},
     "output_type": "display_data"
    },
    {
     "name": "stdout",
     "output_type": "stream",
     "text": [
      "\n",
      "\n",
      "Scratch: [0.483293 0.518781 0.500118 0.50925  0.491703]\n",
      "Transfer: [0.5 0.5 0.5 0.5 0.5]\n",
      "Transfer & Revision: [0.493294 0.511096 0.500947 0.49835  0.491173]\n"
     ]
    },
    {
     "data": {
      "text/markdown": [
       "## AUC PR"
      ],
      "text/plain": [
       "<IPython.core.display.Markdown object>"
      ]
     },
     "metadata": {},
     "output_type": "display_data"
    },
    {
     "name": "stdout",
     "output_type": "stream",
     "text": [
      "T-test for experiment 1\n",
      "Ttest_relResult(statistic=-0.7550711961393666, pvalue=0.4922278896841665)\n",
      "Ttest_relResult(statistic=-1.2009895266780846, pvalue=0.29600751522811575)\n"
     ]
    },
    {
     "data": {
      "text/html": [
       "<div>\n",
       "<table border=\"1\" class=\"dataframe\">\n",
       "  <thead>\n",
       "    <tr style=\"text-align: right;\">\n",
       "      <th></th>\n",
       "      <th>p-value</th>\n",
       "      <th>RDN-B</th>\n",
       "    </tr>\n",
       "  </thead>\n",
       "  <tbody>\n",
       "    <tr>\n",
       "      <th>0</th>\n",
       "      <td>transferRDN-B Ref</td>\n",
       "      <td>0.492</td>\n",
       "    </tr>\n",
       "    <tr>\n",
       "      <th>1</th>\n",
       "      <td>transferRDN-B</td>\n",
       "      <td>0.296</td>\n",
       "    </tr>\n",
       "  </tbody>\n",
       "</table>\n",
       "</div>"
      ],
      "text/plain": [
       "             p-value  RDN-B\n",
       "0  transferRDN-B Ref  0.492\n",
       "1      transferRDN-B  0.296"
      ]
     },
     "metadata": {},
     "output_type": "display_data"
    },
    {
     "name": "stdout",
     "output_type": "stream",
     "text": [
      "\n",
      "\n",
      "Scratch: [0.491081 0.50829  0.508873 0.514292 0.501426]\n",
      "Transfer: [0.5 0.5 0.5 0.5 0.5]\n",
      "Transfer & Revision: [0.492195 0.5032   0.509704 0.504048 0.505231]\n"
     ]
    },
    {
     "data": {
      "text/markdown": [
       "## CLL"
      ],
      "text/plain": [
       "<IPython.core.display.Markdown object>"
      ]
     },
     "metadata": {},
     "output_type": "display_data"
    },
    {
     "name": "stdout",
     "output_type": "stream",
     "text": [
      "T-test for experiment 1\n",
      "Ttest_relResult(statistic=2.294453932932237, pvalue=0.08344678590612374)\n",
      "Ttest_relResult(statistic=3.649848546592138, pvalue=0.021774379433886725)\n"
     ]
    },
    {
     "data": {
      "text/html": [
       "<div>\n",
       "<table border=\"1\" class=\"dataframe\">\n",
       "  <thead>\n",
       "    <tr style=\"text-align: right;\">\n",
       "      <th></th>\n",
       "      <th>p-value</th>\n",
       "      <th>RDN-B</th>\n",
       "    </tr>\n",
       "  </thead>\n",
       "  <tbody>\n",
       "    <tr>\n",
       "      <th>0</th>\n",
       "      <td>transferRDN-B Ref</td>\n",
       "      <td>0.083</td>\n",
       "    </tr>\n",
       "    <tr>\n",
       "      <th>1</th>\n",
       "      <td>transferRDN-B</td>\n",
       "      <td>0.022</td>\n",
       "    </tr>\n",
       "  </tbody>\n",
       "</table>\n",
       "</div>"
      ],
      "text/plain": [
       "             p-value  RDN-B\n",
       "0  transferRDN-B Ref  0.083\n",
       "1      transferRDN-B  0.022"
      ]
     },
     "metadata": {},
     "output_type": "display_data"
    },
    {
     "name": "stdout",
     "output_type": "stream",
     "text": [
      "\n",
      "\n",
      "Scratch: [-0.715178 -0.705998 -0.714844 -0.710959 -0.741741]\n",
      "Transfer: [-0.695026 -0.695026 -0.695026 -0.695026 -0.695026]\n",
      "Transfer & Revision: [-0.711561 -0.705846 -0.71281  -0.709257 -0.733649]\n"
     ]
    },
    {
     "data": {
      "text/markdown": [
       "## Recall"
      ],
      "text/plain": [
       "<IPython.core.display.Markdown object>"
      ]
     },
     "metadata": {},
     "output_type": "display_data"
    },
    {
     "name": "stdout",
     "output_type": "stream",
     "text": [
      "T-test for experiment 1\n",
      "Ttest_relResult(statistic=1.5525419762174137, pvalue=0.1954871628573297)\n",
      "Ttest_relResult(statistic=-9.964326356846813, pvalue=0.0005698326722106213)\n"
     ]
    },
    {
     "data": {
      "text/html": [
       "<div>\n",
       "<table border=\"1\" class=\"dataframe\">\n",
       "  <thead>\n",
       "    <tr style=\"text-align: right;\">\n",
       "      <th></th>\n",
       "      <th>p-value</th>\n",
       "      <th>RDN-B</th>\n",
       "    </tr>\n",
       "  </thead>\n",
       "  <tbody>\n",
       "    <tr>\n",
       "      <th>0</th>\n",
       "      <td>transferRDN-B Ref</td>\n",
       "      <td>0.195</td>\n",
       "    </tr>\n",
       "    <tr>\n",
       "      <th>1</th>\n",
       "      <td>transferRDN-B</td>\n",
       "      <td>0.001</td>\n",
       "    </tr>\n",
       "  </tbody>\n",
       "</table>\n",
       "</div>"
      ],
      "text/plain": [
       "             p-value  RDN-B\n",
       "0  transferRDN-B Ref  0.195\n",
       "1      transferRDN-B  0.001"
      ]
     },
     "metadata": {},
     "output_type": "display_data"
    },
    {
     "name": "stdout",
     "output_type": "stream",
     "text": [
      "\n",
      "\n",
      "Scratch: [0.505376 0.347458 0.415385 0.48     0.285714]\n",
      "Transfer: [0. 0. 0. 0. 0.]\n",
      "Transfer & Revision: [0.516129 0.5      0.461538 0.49     0.285714]\n"
     ]
    },
    {
     "data": {
      "text/markdown": [
       "## F1"
      ],
      "text/plain": [
       "<IPython.core.display.Markdown object>"
      ]
     },
     "metadata": {},
     "output_type": "display_data"
    },
    {
     "name": "stdout",
     "output_type": "stream",
     "text": [
      "T-test for experiment 1\n",
      "Ttest_relResult(statistic=1.5739913401498271, pvalue=0.19060310531380512)\n",
      "Ttest_relResult(statistic=nan, pvalue=nan)\n"
     ]
    },
    {
     "data": {
      "text/html": [
       "<div>\n",
       "<table border=\"1\" class=\"dataframe\">\n",
       "  <thead>\n",
       "    <tr style=\"text-align: right;\">\n",
       "      <th></th>\n",
       "      <th>p-value</th>\n",
       "      <th>RDN-B</th>\n",
       "    </tr>\n",
       "  </thead>\n",
       "  <tbody>\n",
       "    <tr>\n",
       "      <th>0</th>\n",
       "      <td>transferRDN-B Ref</td>\n",
       "      <td>0.191</td>\n",
       "    </tr>\n",
       "    <tr>\n",
       "      <th>1</th>\n",
       "      <td>transferRDN-B</td>\n",
       "      <td>nan</td>\n",
       "    </tr>\n",
       "  </tbody>\n",
       "</table>\n",
       "</div>"
      ],
      "text/plain": [
       "             p-value  RDN-B\n",
       "0  transferRDN-B Ref  0.191\n",
       "1      transferRDN-B    nan"
      ]
     },
     "metadata": {},
     "output_type": "display_data"
    },
    {
     "name": "stdout",
     "output_type": "stream",
     "text": [
      "\n",
      "\n",
      "Scratch: [0.497354 0.41206  0.448133 0.494845 0.363636]\n",
      "Transfer: [nan nan nan nan nan]\n",
      "Transfer & Revision: [0.507937 0.502128 0.47619  0.497462 0.363636]\n"
     ]
    },
    {
     "data": {
      "text/markdown": [
       "## Precision"
      ],
      "text/plain": [
       "<IPython.core.display.Markdown object>"
      ]
     },
     "metadata": {},
     "output_type": "display_data"
    },
    {
     "name": "stdout",
     "output_type": "stream",
     "text": [
      "\n",
      "\n",
      "Scratch: [0.489583 0.506173 0.486486 0.510638 0.5     ]\n",
      "Transfer: [nan nan nan nan nan]\n",
      "Transfer & Revision: [0.5      0.504274 0.491803 0.505155 0.5     ]\n"
     ]
    },
    {
     "data": {
      "text/markdown": [
       "## Learning and Revision time"
      ],
      "text/plain": [
       "<IPython.core.display.Markdown object>"
      ]
     },
     "metadata": {},
     "output_type": "display_data"
    },
    {
     "name": "stdout",
     "output_type": "stream",
     "text": [
      "\n",
      "\n",
      "Scratch: [11.395 12.695  3.807 12.721 14.326]\n",
      "Transfer: [3.381 2.738 2.103 4.9   7.191]\n",
      "Transfer & Revision: [19.983 17.591  5.725 16.068 17.345]\n"
     ]
    },
    {
     "data": {
      "text/markdown": [
       "## Inference time"
      ],
      "text/plain": [
       "<IPython.core.display.Markdown object>"
      ]
     },
     "metadata": {},
     "output_type": "display_data"
    },
    {
     "name": "stdout",
     "output_type": "stream",
     "text": [
      "\n",
      "\n",
      "Scratch: [0.855 1.046 0.823 0.896 1.073]\n",
      "Transfer: [3.381 2.738 2.103 4.9   7.191]\n",
      "Transfer & Revision: [0.855 0.928 0.8   0.885 0.938]\n"
     ]
    },
    {
     "data": {
      "text/markdown": [
       "# Results for 6_uwcse_imdb"
      ],
      "text/plain": [
       "<IPython.core.display.Markdown object>"
      ]
     },
     "metadata": {},
     "output_type": "display_data"
    },
    {
     "data": {
      "text/markdown": [
       "## AUC ROC"
      ],
      "text/plain": [
       "<IPython.core.display.Markdown object>"
      ]
     },
     "metadata": {},
     "output_type": "display_data"
    },
    {
     "name": "stdout",
     "output_type": "stream",
     "text": [
      "T-test for experiment 1\n",
      "Ttest_relResult(statistic=1.0, pvalue=0.373900966300059)\n",
      "Ttest_relResult(statistic=1.0, pvalue=0.373900966300059)\n"
     ]
    },
    {
     "data": {
      "text/html": [
       "<div>\n",
       "<table border=\"1\" class=\"dataframe\">\n",
       "  <thead>\n",
       "    <tr style=\"text-align: right;\">\n",
       "      <th></th>\n",
       "      <th>p-value</th>\n",
       "      <th>RDN-B</th>\n",
       "    </tr>\n",
       "  </thead>\n",
       "  <tbody>\n",
       "    <tr>\n",
       "      <th>0</th>\n",
       "      <td>transferRDN-B Ref</td>\n",
       "      <td>0.374</td>\n",
       "    </tr>\n",
       "    <tr>\n",
       "      <th>1</th>\n",
       "      <td>transferRDN-B</td>\n",
       "      <td>0.374</td>\n",
       "    </tr>\n",
       "  </tbody>\n",
       "</table>\n",
       "</div>"
      ],
      "text/plain": [
       "             p-value  RDN-B\n",
       "0  transferRDN-B Ref  0.374\n",
       "1      transferRDN-B  0.374"
      ]
     },
     "metadata": {},
     "output_type": "display_data"
    },
    {
     "name": "stdout",
     "output_type": "stream",
     "text": [
      "\n",
      "\n",
      "Scratch: [0.875    0.885714 0.965517 0.906977 0.5     ]\n",
      "Transfer: [0.875    0.885714 0.965517 0.906977 0.9     ]\n",
      "Transfer & Revision: [0.875    0.885714 0.965517 0.906977 0.9     ]\n"
     ]
    },
    {
     "data": {
      "text/markdown": [
       "## AUC PR"
      ],
      "text/plain": [
       "<IPython.core.display.Markdown object>"
      ]
     },
     "metadata": {},
     "output_type": "display_data"
    },
    {
     "name": "stdout",
     "output_type": "stream",
     "text": [
      "T-test for experiment 1\n",
      "Ttest_relResult(statistic=1.0, pvalue=0.373900966300059)\n",
      "Ttest_relResult(statistic=1.0, pvalue=0.373900966300059)\n"
     ]
    },
    {
     "data": {
      "text/html": [
       "<div>\n",
       "<table border=\"1\" class=\"dataframe\">\n",
       "  <thead>\n",
       "    <tr style=\"text-align: right;\">\n",
       "      <th></th>\n",
       "      <th>p-value</th>\n",
       "      <th>RDN-B</th>\n",
       "    </tr>\n",
       "  </thead>\n",
       "  <tbody>\n",
       "    <tr>\n",
       "      <th>0</th>\n",
       "      <td>transferRDN-B Ref</td>\n",
       "      <td>0.374</td>\n",
       "    </tr>\n",
       "    <tr>\n",
       "      <th>1</th>\n",
       "      <td>transferRDN-B</td>\n",
       "      <td>0.374</td>\n",
       "    </tr>\n",
       "  </tbody>\n",
       "</table>\n",
       "</div>"
      ],
      "text/plain": [
       "             p-value  RDN-B\n",
       "0  transferRDN-B Ref  0.374\n",
       "1      transferRDN-B  0.374"
      ]
     },
     "metadata": {},
     "output_type": "display_data"
    },
    {
     "name": "stdout",
     "output_type": "stream",
     "text": [
      "\n",
      "\n",
      "Scratch: [0.8      0.813953 0.935484 0.843137 0.5     ]\n",
      "Transfer: [0.8      0.813953 0.935484 0.843137 0.833333]\n",
      "Transfer & Revision: [0.8      0.813953 0.935484 0.843137 0.833333]\n"
     ]
    },
    {
     "data": {
      "text/markdown": [
       "## CLL"
      ],
      "text/plain": [
       "<IPython.core.display.Markdown object>"
      ]
     },
     "metadata": {},
     "output_type": "display_data"
    },
    {
     "name": "stdout",
     "output_type": "stream",
     "text": [
      "T-test for experiment 1\n",
      "Ttest_relResult(statistic=1.0, pvalue=0.373900966300059)\n",
      "Ttest_relResult(statistic=0.9691008965145538, pvalue=0.3873724919655238)\n"
     ]
    },
    {
     "data": {
      "text/html": [
       "<div>\n",
       "<table border=\"1\" class=\"dataframe\">\n",
       "  <thead>\n",
       "    <tr style=\"text-align: right;\">\n",
       "      <th></th>\n",
       "      <th>p-value</th>\n",
       "      <th>RDN-B</th>\n",
       "    </tr>\n",
       "  </thead>\n",
       "  <tbody>\n",
       "    <tr>\n",
       "      <th>0</th>\n",
       "      <td>transferRDN-B Ref</td>\n",
       "      <td>0.374</td>\n",
       "    </tr>\n",
       "    <tr>\n",
       "      <th>1</th>\n",
       "      <td>transferRDN-B</td>\n",
       "      <td>0.387</td>\n",
       "    </tr>\n",
       "  </tbody>\n",
       "</table>\n",
       "</div>"
      ],
      "text/plain": [
       "             p-value  RDN-B\n",
       "0  transferRDN-B Ref  0.374\n",
       "1      transferRDN-B  0.387"
      ]
     },
     "metadata": {},
     "output_type": "display_data"
    },
    {
     "name": "stdout",
     "output_type": "stream",
     "text": [
      "\n",
      "\n",
      "Scratch: [-0.352709 -0.320018 -0.264596 -0.300536 -1.052978]\n",
      "Transfer: [-0.35253  -0.323511 -0.273236 -0.307206 -0.303054]\n",
      "Transfer & Revision: [-0.352709 -0.320018 -0.264596 -0.300536 -0.299463]\n"
     ]
    },
    {
     "data": {
      "text/markdown": [
       "## Recall"
      ],
      "text/plain": [
       "<IPython.core.display.Markdown object>"
      ]
     },
     "metadata": {},
     "output_type": "display_data"
    },
    {
     "name": "stdout",
     "output_type": "stream",
     "text": [
      "T-test for experiment 1\n",
      "Ttest_relResult(statistic=1.0, pvalue=0.373900966300059)\n",
      "Ttest_relResult(statistic=1.0, pvalue=0.373900966300059)\n"
     ]
    },
    {
     "data": {
      "text/html": [
       "<div>\n",
       "<table border=\"1\" class=\"dataframe\">\n",
       "  <thead>\n",
       "    <tr style=\"text-align: right;\">\n",
       "      <th></th>\n",
       "      <th>p-value</th>\n",
       "      <th>RDN-B</th>\n",
       "    </tr>\n",
       "  </thead>\n",
       "  <tbody>\n",
       "    <tr>\n",
       "      <th>0</th>\n",
       "      <td>transferRDN-B Ref</td>\n",
       "      <td>0.374</td>\n",
       "    </tr>\n",
       "    <tr>\n",
       "      <th>1</th>\n",
       "      <td>transferRDN-B</td>\n",
       "      <td>0.374</td>\n",
       "    </tr>\n",
       "  </tbody>\n",
       "</table>\n",
       "</div>"
      ],
      "text/plain": [
       "             p-value  RDN-B\n",
       "0  transferRDN-B Ref  0.374\n",
       "1      transferRDN-B  0.374"
      ]
     },
     "metadata": {},
     "output_type": "display_data"
    },
    {
     "name": "stdout",
     "output_type": "stream",
     "text": [
      "\n",
      "\n",
      "Scratch: [1. 1. 1. 1. 0.]\n",
      "Transfer: [1. 1. 1. 1. 1.]\n",
      "Transfer & Revision: [1. 1. 1. 1. 1.]\n"
     ]
    },
    {
     "data": {
      "text/markdown": [
       "## F1"
      ],
      "text/plain": [
       "<IPython.core.display.Markdown object>"
      ]
     },
     "metadata": {},
     "output_type": "display_data"
    },
    {
     "name": "stdout",
     "output_type": "stream",
     "text": [
      "T-test for experiment 1\n",
      "Ttest_relResult(statistic=nan, pvalue=nan)\n",
      "Ttest_relResult(statistic=nan, pvalue=nan)\n"
     ]
    },
    {
     "data": {
      "text/html": [
       "<div>\n",
       "<table border=\"1\" class=\"dataframe\">\n",
       "  <thead>\n",
       "    <tr style=\"text-align: right;\">\n",
       "      <th></th>\n",
       "      <th>p-value</th>\n",
       "      <th>RDN-B</th>\n",
       "    </tr>\n",
       "  </thead>\n",
       "  <tbody>\n",
       "    <tr>\n",
       "      <th>0</th>\n",
       "      <td>transferRDN-B Ref</td>\n",
       "      <td>nan</td>\n",
       "    </tr>\n",
       "    <tr>\n",
       "      <th>1</th>\n",
       "      <td>transferRDN-B</td>\n",
       "      <td>nan</td>\n",
       "    </tr>\n",
       "  </tbody>\n",
       "</table>\n",
       "</div>"
      ],
      "text/plain": [
       "             p-value RDN-B\n",
       "0  transferRDN-B Ref   nan\n",
       "1      transferRDN-B   nan"
      ]
     },
     "metadata": {},
     "output_type": "display_data"
    },
    {
     "name": "stdout",
     "output_type": "stream",
     "text": [
      "\n",
      "\n",
      "Scratch: [0.888889 0.897436 0.966667 0.914894      nan]\n",
      "Transfer: [0.888889 0.897436 0.966667 0.914894 0.909091]\n",
      "Transfer & Revision: [0.888889 0.897436 0.966667 0.914894 0.909091]\n"
     ]
    },
    {
     "data": {
      "text/markdown": [
       "## Precision"
      ],
      "text/plain": [
       "<IPython.core.display.Markdown object>"
      ]
     },
     "metadata": {},
     "output_type": "display_data"
    },
    {
     "name": "stdout",
     "output_type": "stream",
     "text": [
      "\n",
      "\n",
      "Scratch: [0.8      0.813953 0.935484 0.843137      nan]\n",
      "Transfer: [0.8      0.813953 0.935484 0.843137 0.833333]\n",
      "Transfer & Revision: [0.8      0.813953 0.935484 0.843137 0.833333]\n"
     ]
    },
    {
     "data": {
      "text/markdown": [
       "## Learning and Revision time"
      ],
      "text/plain": [
       "<IPython.core.display.Markdown object>"
      ]
     },
     "metadata": {},
     "output_type": "display_data"
    },
    {
     "name": "stdout",
     "output_type": "stream",
     "text": [
      "\n",
      "\n",
      "Scratch: [1.211 1.357 1.624 1.044 0.723]\n",
      "Transfer: [1.074 1.059 1.393 0.877 0.803]\n",
      "Transfer & Revision: [1.933 2.39  3.073 1.667 1.472]\n"
     ]
    },
    {
     "data": {
      "text/markdown": [
       "## Inference time"
      ],
      "text/plain": [
       "<IPython.core.display.Markdown object>"
      ]
     },
     "metadata": {},
     "output_type": "display_data"
    },
    {
     "name": "stdout",
     "output_type": "stream",
     "text": [
      "\n",
      "\n",
      "Scratch: [0.509 0.524 0.522 0.538 0.523]\n",
      "Transfer: [1.074 1.059 1.393 0.877 0.803]\n",
      "Transfer & Revision: [0.539 0.562 0.551 0.56  0.54 ]\n"
     ]
    },
    {
     "data": {
      "text/markdown": [
       "# Results for 7_imdb_cora"
      ],
      "text/plain": [
       "<IPython.core.display.Markdown object>"
      ]
     },
     "metadata": {},
     "output_type": "display_data"
    },
    {
     "data": {
      "text/markdown": [
       "## AUC ROC"
      ],
      "text/plain": [
       "<IPython.core.display.Markdown object>"
      ]
     },
     "metadata": {},
     "output_type": "display_data"
    },
    {
     "name": "stdout",
     "output_type": "stream",
     "text": [
      "T-test for experiment 1\n",
      "Ttest_relResult(statistic=-1.0924589889945526, pvalue=0.33601639375602715)\n",
      "Ttest_relResult(statistic=-2.3200314458120386, pvalue=0.08113388824597977)\n"
     ]
    },
    {
     "data": {
      "text/html": [
       "<div>\n",
       "<table border=\"1\" class=\"dataframe\">\n",
       "  <thead>\n",
       "    <tr style=\"text-align: right;\">\n",
       "      <th></th>\n",
       "      <th>p-value</th>\n",
       "      <th>RDN-B</th>\n",
       "    </tr>\n",
       "  </thead>\n",
       "  <tbody>\n",
       "    <tr>\n",
       "      <th>0</th>\n",
       "      <td>transferRDN-B Ref</td>\n",
       "      <td>0.336</td>\n",
       "    </tr>\n",
       "    <tr>\n",
       "      <th>1</th>\n",
       "      <td>transferRDN-B</td>\n",
       "      <td>0.081</td>\n",
       "    </tr>\n",
       "  </tbody>\n",
       "</table>\n",
       "</div>"
      ],
      "text/plain": [
       "             p-value  RDN-B\n",
       "0  transferRDN-B Ref  0.336\n",
       "1      transferRDN-B  0.081"
      ]
     },
     "metadata": {},
     "output_type": "display_data"
    },
    {
     "name": "stdout",
     "output_type": "stream",
     "text": [
      "\n",
      "\n",
      "Scratch: [0.853829 0.554561 0.858227 0.58278  0.542732]\n",
      "Transfer: [0.546475 0.437142 0.547299 0.558035 0.535236]\n",
      "Transfer & Revision: [0.861173 0.546298 0.555388 0.562968 0.540767]\n"
     ]
    },
    {
     "data": {
      "text/markdown": [
       "## AUC PR"
      ],
      "text/plain": [
       "<IPython.core.display.Markdown object>"
      ]
     },
     "metadata": {},
     "output_type": "display_data"
    },
    {
     "name": "stdout",
     "output_type": "stream",
     "text": [
      "T-test for experiment 1\n",
      "Ttest_relResult(statistic=-1.1390907300496613, pvalue=0.3182514610040248)\n",
      "Ttest_relResult(statistic=-2.4926045881213668, pvalue=0.0672966038535355)\n"
     ]
    },
    {
     "data": {
      "text/html": [
       "<div>\n",
       "<table border=\"1\" class=\"dataframe\">\n",
       "  <thead>\n",
       "    <tr style=\"text-align: right;\">\n",
       "      <th></th>\n",
       "      <th>p-value</th>\n",
       "      <th>RDN-B</th>\n",
       "    </tr>\n",
       "  </thead>\n",
       "  <tbody>\n",
       "    <tr>\n",
       "      <th>0</th>\n",
       "      <td>transferRDN-B Ref</td>\n",
       "      <td>0.318</td>\n",
       "    </tr>\n",
       "    <tr>\n",
       "      <th>1</th>\n",
       "      <td>transferRDN-B</td>\n",
       "      <td>0.067</td>\n",
       "    </tr>\n",
       "  </tbody>\n",
       "</table>\n",
       "</div>"
      ],
      "text/plain": [
       "             p-value  RDN-B\n",
       "0  transferRDN-B Ref  0.318\n",
       "1      transferRDN-B  0.067"
      ]
     },
     "metadata": {},
     "output_type": "display_data"
    },
    {
     "name": "stdout",
     "output_type": "stream",
     "text": [
      "\n",
      "\n",
      "Scratch: [0.806379 0.528199 0.8113   0.596506 0.56526 ]\n",
      "Transfer: [0.552575 0.443375 0.555563 0.56414  0.542776]\n",
      "Transfer & Revision: [0.823759 0.516014 0.564292 0.563819 0.563018]\n"
     ]
    },
    {
     "data": {
      "text/markdown": [
       "## CLL"
      ],
      "text/plain": [
       "<IPython.core.display.Markdown object>"
      ]
     },
     "metadata": {},
     "output_type": "display_data"
    },
    {
     "name": "stdout",
     "output_type": "stream",
     "text": [
      "T-test for experiment 1\n",
      "Ttest_relResult(statistic=-0.9661334850677126, pvalue=0.3886879861450788)\n",
      "Ttest_relResult(statistic=-1.709185963999658, pvalue=0.16259568652669815)\n"
     ]
    },
    {
     "data": {
      "text/html": [
       "<div>\n",
       "<table border=\"1\" class=\"dataframe\">\n",
       "  <thead>\n",
       "    <tr style=\"text-align: right;\">\n",
       "      <th></th>\n",
       "      <th>p-value</th>\n",
       "      <th>RDN-B</th>\n",
       "    </tr>\n",
       "  </thead>\n",
       "  <tbody>\n",
       "    <tr>\n",
       "      <th>0</th>\n",
       "      <td>transferRDN-B Ref</td>\n",
       "      <td>0.389</td>\n",
       "    </tr>\n",
       "    <tr>\n",
       "      <th>1</th>\n",
       "      <td>transferRDN-B</td>\n",
       "      <td>0.163</td>\n",
       "    </tr>\n",
       "  </tbody>\n",
       "</table>\n",
       "</div>"
      ],
      "text/plain": [
       "             p-value  RDN-B\n",
       "0  transferRDN-B Ref  0.389\n",
       "1      transferRDN-B  0.163"
      ]
     },
     "metadata": {},
     "output_type": "display_data"
    },
    {
     "name": "stdout",
     "output_type": "stream",
     "text": [
      "\n",
      "\n",
      "Scratch: [-0.461551 -0.704582 -0.482109 -0.675534 -0.689584]\n",
      "Transfer: [-0.684943 -0.710286 -0.684914 -0.686242 -0.685676]\n",
      "Transfer & Revision: [-0.448797 -0.707285 -0.673539 -0.679388 -0.691016]\n"
     ]
    },
    {
     "data": {
      "text/markdown": [
       "## Recall"
      ],
      "text/plain": [
       "<IPython.core.display.Markdown object>"
      ]
     },
     "metadata": {},
     "output_type": "display_data"
    },
    {
     "name": "stdout",
     "output_type": "stream",
     "text": [
      "T-test for experiment 1\n",
      "Ttest_relResult(statistic=-1.6664307302499766, pvalue=0.1709560816741884)\n",
      "Ttest_relResult(statistic=-0.2024973862120045, pvalue=0.849410560025724)\n"
     ]
    },
    {
     "data": {
      "text/html": [
       "<div>\n",
       "<table border=\"1\" class=\"dataframe\">\n",
       "  <thead>\n",
       "    <tr style=\"text-align: right;\">\n",
       "      <th></th>\n",
       "      <th>p-value</th>\n",
       "      <th>RDN-B</th>\n",
       "    </tr>\n",
       "  </thead>\n",
       "  <tbody>\n",
       "    <tr>\n",
       "      <th>0</th>\n",
       "      <td>transferRDN-B Ref</td>\n",
       "      <td>0.171</td>\n",
       "    </tr>\n",
       "    <tr>\n",
       "      <th>1</th>\n",
       "      <td>transferRDN-B</td>\n",
       "      <td>0.849</td>\n",
       "    </tr>\n",
       "  </tbody>\n",
       "</table>\n",
       "</div>"
      ],
      "text/plain": [
       "             p-value  RDN-B\n",
       "0  transferRDN-B Ref  0.171\n",
       "1      transferRDN-B  0.849"
      ]
     },
     "metadata": {},
     "output_type": "display_data"
    },
    {
     "name": "stdout",
     "output_type": "stream",
     "text": [
      "\n",
      "\n",
      "Scratch: [0.919215 0.956812 0.945813 0.104405 0.941224]\n",
      "Transfer: [0.94413  1.       0.944992 0.       0.952169]\n",
      "Transfer & Revision: [0.9094   0.954586 0.945402 0.051982 0.927037]\n"
     ]
    },
    {
     "data": {
      "text/markdown": [
       "## F1"
      ],
      "text/plain": [
       "<IPython.core.display.Markdown object>"
      ]
     },
     "metadata": {},
     "output_type": "display_data"
    },
    {
     "name": "stdout",
     "output_type": "stream",
     "text": [
      "T-test for experiment 1\n",
      "Ttest_relResult(statistic=-1.5350177170980004, pvalue=0.19957272893964093)\n",
      "Ttest_relResult(statistic=nan, pvalue=nan)\n"
     ]
    },
    {
     "data": {
      "text/html": [
       "<div>\n",
       "<table border=\"1\" class=\"dataframe\">\n",
       "  <thead>\n",
       "    <tr style=\"text-align: right;\">\n",
       "      <th></th>\n",
       "      <th>p-value</th>\n",
       "      <th>RDN-B</th>\n",
       "    </tr>\n",
       "  </thead>\n",
       "  <tbody>\n",
       "    <tr>\n",
       "      <th>0</th>\n",
       "      <td>transferRDN-B Ref</td>\n",
       "      <td>0.200</td>\n",
       "    </tr>\n",
       "    <tr>\n",
       "      <th>1</th>\n",
       "      <td>transferRDN-B</td>\n",
       "      <td>nan</td>\n",
       "    </tr>\n",
       "  </tbody>\n",
       "</table>\n",
       "</div>"
      ],
      "text/plain": [
       "             p-value  RDN-B\n",
       "0  transferRDN-B Ref  0.200\n",
       "1      transferRDN-B    nan"
      ]
     },
     "metadata": {},
     "output_type": "display_data"
    },
    {
     "name": "stdout",
     "output_type": "stream",
     "text": [
      "\n",
      "\n",
      "Scratch: [0.869488 0.68702  0.874549 0.179954 0.689737]\n",
      "Transfer: [0.697726 0.671651 0.700335      nan 0.691798]\n",
      "Transfer & Revision: [0.871248 0.687179 0.701706 0.094893 0.683298]\n"
     ]
    },
    {
     "data": {
      "text/markdown": [
       "## Precision"
      ],
      "text/plain": [
       "<IPython.core.display.Markdown object>"
      ]
     },
     "metadata": {},
     "output_type": "display_data"
    },
    {
     "name": "stdout",
     "output_type": "stream",
     "text": [
      "\n",
      "\n",
      "Scratch: [0.824864 0.53591  0.813272 0.651099 0.544304]\n",
      "Transfer: [0.553319 0.505628 0.556307      nan 0.543247]\n",
      "Transfer & Revision: [0.836168 0.536805 0.557897 0.543779 0.541046]\n"
     ]
    },
    {
     "data": {
      "text/markdown": [
       "## Learning and Revision time"
      ],
      "text/plain": [
       "<IPython.core.display.Markdown object>"
      ]
     },
     "metadata": {},
     "output_type": "display_data"
    },
    {
     "name": "stdout",
     "output_type": "stream",
     "text": [
      "\n",
      "\n",
      "Scratch: [269.387 150.995 111.778 184.341  95.117]\n",
      "Transfer: [163.855  51.02   12.692  69.021  41.941]\n",
      "Transfer & Revision: [435.206 199.211  46.544 175.758 132.605]\n"
     ]
    },
    {
     "data": {
      "text/markdown": [
       "## Inference time"
      ],
      "text/plain": [
       "<IPython.core.display.Markdown object>"
      ]
     },
     "metadata": {},
     "output_type": "display_data"
    },
    {
     "name": "stdout",
     "output_type": "stream",
     "text": [
      "\n",
      "\n",
      "Scratch: [40.527  5.953 19.929  7.364  6.312]\n",
      "Transfer: [163.855  51.02   12.692  69.021  41.941]\n",
      "Transfer & Revision: [96.125  6.374  4.559  5.739 34.311]\n"
     ]
    },
    {
     "data": {
      "text/markdown": [
       "# Results for 8_imdb_cora"
      ],
      "text/plain": [
       "<IPython.core.display.Markdown object>"
      ]
     },
     "metadata": {},
     "output_type": "display_data"
    },
    {
     "data": {
      "text/markdown": [
       "## AUC ROC"
      ],
      "text/plain": [
       "<IPython.core.display.Markdown object>"
      ]
     },
     "metadata": {},
     "output_type": "display_data"
    },
    {
     "name": "stdout",
     "output_type": "stream",
     "text": [
      "T-test for experiment 1\n",
      "Ttest_relResult(statistic=-0.9887900150370271, pvalue=0.3787407088154089)\n",
      "Ttest_relResult(statistic=-3.670924150975854, pvalue=0.02137376519436861)\n"
     ]
    },
    {
     "data": {
      "text/html": [
       "<div>\n",
       "<table border=\"1\" class=\"dataframe\">\n",
       "  <thead>\n",
       "    <tr style=\"text-align: right;\">\n",
       "      <th></th>\n",
       "      <th>p-value</th>\n",
       "      <th>RDN-B</th>\n",
       "    </tr>\n",
       "  </thead>\n",
       "  <tbody>\n",
       "    <tr>\n",
       "      <th>0</th>\n",
       "      <td>transferRDN-B Ref</td>\n",
       "      <td>0.379</td>\n",
       "    </tr>\n",
       "    <tr>\n",
       "      <th>1</th>\n",
       "      <td>transferRDN-B</td>\n",
       "      <td>0.021</td>\n",
       "    </tr>\n",
       "  </tbody>\n",
       "</table>\n",
       "</div>"
      ],
      "text/plain": [
       "             p-value  RDN-B\n",
       "0  transferRDN-B Ref  0.379\n",
       "1      transferRDN-B  0.021"
      ]
     },
     "metadata": {},
     "output_type": "display_data"
    },
    {
     "name": "stdout",
     "output_type": "stream",
     "text": [
      "\n",
      "\n",
      "Scratch: [0.93372  0.938989 0.935975 0.929973 0.939901]\n",
      "Transfer: [0.670404 0.487921 0.689632 0.508853 0.917677]\n",
      "Transfer & Revision: [0.933676 0.937655 0.897693 0.931628 0.93991 ]\n"
     ]
    },
    {
     "data": {
      "text/markdown": [
       "## AUC PR"
      ],
      "text/plain": [
       "<IPython.core.display.Markdown object>"
      ]
     },
     "metadata": {},
     "output_type": "display_data"
    },
    {
     "name": "stdout",
     "output_type": "stream",
     "text": [
      "T-test for experiment 1\n",
      "Ttest_relResult(statistic=-0.9738875854181517, pvalue=0.385258544843635)\n",
      "Ttest_relResult(statistic=-2.9977751410447593, pvalue=0.04002971117003192)\n"
     ]
    },
    {
     "data": {
      "text/html": [
       "<div>\n",
       "<table border=\"1\" class=\"dataframe\">\n",
       "  <thead>\n",
       "    <tr style=\"text-align: right;\">\n",
       "      <th></th>\n",
       "      <th>p-value</th>\n",
       "      <th>RDN-B</th>\n",
       "    </tr>\n",
       "  </thead>\n",
       "  <tbody>\n",
       "    <tr>\n",
       "      <th>0</th>\n",
       "      <td>transferRDN-B Ref</td>\n",
       "      <td>0.385</td>\n",
       "    </tr>\n",
       "    <tr>\n",
       "      <th>1</th>\n",
       "      <td>transferRDN-B</td>\n",
       "      <td>0.040</td>\n",
       "    </tr>\n",
       "  </tbody>\n",
       "</table>\n",
       "</div>"
      ],
      "text/plain": [
       "             p-value  RDN-B\n",
       "0  transferRDN-B Ref  0.385\n",
       "1      transferRDN-B  0.040"
      ]
     },
     "metadata": {},
     "output_type": "display_data"
    },
    {
     "name": "stdout",
     "output_type": "stream",
     "text": [
      "\n",
      "\n",
      "Scratch: [0.967303 0.956127 0.972238 0.958421 0.969509]\n",
      "Transfer: [0.814931 0.560189 0.830756 0.639862 0.956233]\n",
      "Transfer & Revision: [0.967275 0.953337 0.925073 0.961983 0.969546]\n"
     ]
    },
    {
     "data": {
      "text/markdown": [
       "## CLL"
      ],
      "text/plain": [
       "<IPython.core.display.Markdown object>"
      ]
     },
     "metadata": {},
     "output_type": "display_data"
    },
    {
     "name": "stdout",
     "output_type": "stream",
     "text": [
      "T-test for experiment 1\n",
      "Ttest_relResult(statistic=-1.8166311028160869, pvalue=0.14343744708023745)\n",
      "Ttest_relResult(statistic=-4.091351974732125, pvalue=0.014958551193727245)\n"
     ]
    },
    {
     "data": {
      "text/html": [
       "<div>\n",
       "<table border=\"1\" class=\"dataframe\">\n",
       "  <thead>\n",
       "    <tr style=\"text-align: right;\">\n",
       "      <th></th>\n",
       "      <th>p-value</th>\n",
       "      <th>RDN-B</th>\n",
       "    </tr>\n",
       "  </thead>\n",
       "  <tbody>\n",
       "    <tr>\n",
       "      <th>0</th>\n",
       "      <td>transferRDN-B Ref</td>\n",
       "      <td>0.143</td>\n",
       "    </tr>\n",
       "    <tr>\n",
       "      <th>1</th>\n",
       "      <td>transferRDN-B</td>\n",
       "      <td>0.015</td>\n",
       "    </tr>\n",
       "  </tbody>\n",
       "</table>\n",
       "</div>"
      ],
      "text/plain": [
       "             p-value  RDN-B\n",
       "0  transferRDN-B Ref  0.143\n",
       "1      transferRDN-B  0.015"
      ]
     },
     "metadata": {},
     "output_type": "display_data"
    },
    {
     "name": "stdout",
     "output_type": "stream",
     "text": [
      "\n",
      "\n",
      "Scratch: [-0.301199 -0.490456 -0.309712 -0.311294 -0.308245]\n",
      "Transfer: [-0.649561 -0.873465 -0.581526 -0.681965 -0.32566 ]\n",
      "Transfer & Revision: [-0.299776 -0.492231 -0.317679 -0.320256 -0.309395]\n"
     ]
    },
    {
     "data": {
      "text/markdown": [
       "## Recall"
      ],
      "text/plain": [
       "<IPython.core.display.Markdown object>"
      ]
     },
     "metadata": {},
     "output_type": "display_data"
    },
    {
     "name": "stdout",
     "output_type": "stream",
     "text": [
      "T-test for experiment 1\n",
      "Ttest_relResult(statistic=-0.6652374140074286, pvalue=0.5422938948534285)\n",
      "Ttest_relResult(statistic=-1.3278597179566516, pvalue=0.2549305063740208)\n"
     ]
    },
    {
     "data": {
      "text/html": [
       "<div>\n",
       "<table border=\"1\" class=\"dataframe\">\n",
       "  <thead>\n",
       "    <tr style=\"text-align: right;\">\n",
       "      <th></th>\n",
       "      <th>p-value</th>\n",
       "      <th>RDN-B</th>\n",
       "    </tr>\n",
       "  </thead>\n",
       "  <tbody>\n",
       "    <tr>\n",
       "      <th>0</th>\n",
       "      <td>transferRDN-B Ref</td>\n",
       "      <td>0.542</td>\n",
       "    </tr>\n",
       "    <tr>\n",
       "      <th>1</th>\n",
       "      <td>transferRDN-B</td>\n",
       "      <td>0.255</td>\n",
       "    </tr>\n",
       "  </tbody>\n",
       "</table>\n",
       "</div>"
      ],
      "text/plain": [
       "             p-value  RDN-B\n",
       "0  transferRDN-B Ref  0.542\n",
       "1      transferRDN-B  0.255"
      ]
     },
     "metadata": {},
     "output_type": "display_data"
    },
    {
     "name": "stdout",
     "output_type": "stream",
     "text": [
      "\n",
      "\n",
      "Scratch: [0.856255 0.970547 0.901744 0.892022 0.872641]\n",
      "Transfer: [0.351904 1.       0.439311 1.       0.843695]\n",
      "Transfer & Revision: [0.865035 0.970547 0.901744 0.8594   0.872641]\n"
     ]
    },
    {
     "data": {
      "text/markdown": [
       "## F1"
      ],
      "text/plain": [
       "<IPython.core.display.Markdown object>"
      ]
     },
     "metadata": {},
     "output_type": "display_data"
    },
    {
     "name": "stdout",
     "output_type": "stream",
     "text": [
      "T-test for experiment 1\n",
      "Ttest_relResult(statistic=-0.4730816616544083, pvalue=0.6608153463032489)\n",
      "Ttest_relResult(statistic=-2.4482066295992486, pvalue=0.07058145491356153)\n"
     ]
    },
    {
     "data": {
      "text/html": [
       "<div>\n",
       "<table border=\"1\" class=\"dataframe\">\n",
       "  <thead>\n",
       "    <tr style=\"text-align: right;\">\n",
       "      <th></th>\n",
       "      <th>p-value</th>\n",
       "      <th>RDN-B</th>\n",
       "    </tr>\n",
       "  </thead>\n",
       "  <tbody>\n",
       "    <tr>\n",
       "      <th>0</th>\n",
       "      <td>transferRDN-B Ref</td>\n",
       "      <td>0.661</td>\n",
       "    </tr>\n",
       "    <tr>\n",
       "      <th>1</th>\n",
       "      <td>transferRDN-B</td>\n",
       "      <td>0.071</td>\n",
       "    </tr>\n",
       "  </tbody>\n",
       "</table>\n",
       "</div>"
      ],
      "text/plain": [
       "             p-value  RDN-B\n",
       "0  transferRDN-B Ref  0.661\n",
       "1      transferRDN-B  0.071"
      ]
     },
     "metadata": {},
     "output_type": "display_data"
    },
    {
     "name": "stdout",
     "output_type": "stream",
     "text": [
      "\n",
      "\n",
      "Scratch: [0.915491 0.776221 0.927613 0.92137  0.920863]\n",
      "Transfer: [0.518103 0.723963 0.597804 0.775331 0.912498]\n",
      "Transfer & Revision: [0.919342 0.776221 0.927613 0.912579 0.920863]\n"
     ]
    },
    {
     "data": {
      "text/markdown": [
       "## Precision"
      ],
      "text/plain": [
       "<IPython.core.display.Markdown object>"
      ]
     },
     "metadata": {},
     "output_type": "display_data"
    },
    {
     "name": "stdout",
     "output_type": "stream",
     "text": [
      "\n",
      "\n",
      "Scratch: [0.983533 0.646731 0.95501  0.952714 0.974727]\n",
      "Transfer: [0.981791 0.567352 0.935202 0.633095 0.993519]\n",
      "Transfer & Revision: [0.980924 0.646731 0.95501  0.972775 0.974727]\n"
     ]
    },
    {
     "data": {
      "text/markdown": [
       "## Learning and Revision time"
      ],
      "text/plain": [
       "<IPython.core.display.Markdown object>"
      ]
     },
     "metadata": {},
     "output_type": "display_data"
    },
    {
     "name": "stdout",
     "output_type": "stream",
     "text": [
      "\n",
      "\n",
      "Scratch: [223.596  75.993 370.64  181.883 276.254]\n",
      "Transfer: [124.936  37.879 187.499 110.86  147.994]\n",
      "Transfer & Revision: [307.999 106.457 605.764 279.274 352.554]\n"
     ]
    },
    {
     "data": {
      "text/markdown": [
       "## Inference time"
      ],
      "text/plain": [
       "<IPython.core.display.Markdown object>"
      ]
     },
     "metadata": {},
     "output_type": "display_data"
    },
    {
     "name": "stdout",
     "output_type": "stream",
     "text": [
      "\n",
      "\n",
      "Scratch: [6.272 5.241 5.351 4.334 5.585]\n",
      "Transfer: [124.936  37.879 187.499 110.86  147.994]\n",
      "Transfer & Revision: [6.931 7.064 4.853 5.178 7.095]\n"
     ]
    },
    {
     "data": {
      "text/markdown": [
       "# Results for 9_imdb_cora"
      ],
      "text/plain": [
       "<IPython.core.display.Markdown object>"
      ]
     },
     "metadata": {},
     "output_type": "display_data"
    },
    {
     "data": {
      "text/markdown": [
       "## AUC ROC"
      ],
      "text/plain": [
       "<IPython.core.display.Markdown object>"
      ]
     },
     "metadata": {},
     "output_type": "display_data"
    },
    {
     "name": "stdout",
     "output_type": "stream",
     "text": [
      "T-test for experiment 1\n",
      "Ttest_relResult(statistic=1.378231231419704, pvalue=0.24020278077624602)\n",
      "Ttest_relResult(statistic=1.9332688620691554, pvalue=0.1253433435575535)\n"
     ]
    },
    {
     "data": {
      "text/html": [
       "<div>\n",
       "<table border=\"1\" class=\"dataframe\">\n",
       "  <thead>\n",
       "    <tr style=\"text-align: right;\">\n",
       "      <th></th>\n",
       "      <th>p-value</th>\n",
       "      <th>RDN-B</th>\n",
       "    </tr>\n",
       "  </thead>\n",
       "  <tbody>\n",
       "    <tr>\n",
       "      <th>0</th>\n",
       "      <td>transferRDN-B Ref</td>\n",
       "      <td>0.240</td>\n",
       "    </tr>\n",
       "    <tr>\n",
       "      <th>1</th>\n",
       "      <td>transferRDN-B</td>\n",
       "      <td>0.125</td>\n",
       "    </tr>\n",
       "  </tbody>\n",
       "</table>\n",
       "</div>"
      ],
      "text/plain": [
       "             p-value  RDN-B\n",
       "0  transferRDN-B Ref  0.240\n",
       "1      transferRDN-B  0.125"
      ]
     },
     "metadata": {},
     "output_type": "display_data"
    },
    {
     "name": "stdout",
     "output_type": "stream",
     "text": [
      "\n",
      "\n",
      "Scratch: [0.351718 0.569243 0.473892 0.719024 0.551563]\n",
      "Transfer: [0.724138 0.62963  0.685714 0.655172 0.678571]\n",
      "Transfer & Revision: [0.787757 0.569243 0.706613 0.71064  0.519699]\n"
     ]
    },
    {
     "data": {
      "text/markdown": [
       "## AUC PR"
      ],
      "text/plain": [
       "<IPython.core.display.Markdown object>"
      ]
     },
     "metadata": {},
     "output_type": "display_data"
    },
    {
     "name": "stdout",
     "output_type": "stream",
     "text": [
      "T-test for experiment 1\n",
      "Ttest_relResult(statistic=1.1647418808931675, pvalue=0.30885124638566513)\n",
      "Ttest_relResult(statistic=1.445427386174756, pvalue=0.22185903563599466)\n"
     ]
    },
    {
     "data": {
      "text/html": [
       "<div>\n",
       "<table border=\"1\" class=\"dataframe\">\n",
       "  <thead>\n",
       "    <tr style=\"text-align: right;\">\n",
       "      <th></th>\n",
       "      <th>p-value</th>\n",
       "      <th>RDN-B</th>\n",
       "    </tr>\n",
       "  </thead>\n",
       "  <tbody>\n",
       "    <tr>\n",
       "      <th>0</th>\n",
       "      <td>transferRDN-B Ref</td>\n",
       "      <td>0.309</td>\n",
       "    </tr>\n",
       "    <tr>\n",
       "      <th>1</th>\n",
       "      <td>transferRDN-B</td>\n",
       "      <td>0.222</td>\n",
       "    </tr>\n",
       "  </tbody>\n",
       "</table>\n",
       "</div>"
      ],
      "text/plain": [
       "             p-value  RDN-B\n",
       "0  transferRDN-B Ref  0.309\n",
       "1      transferRDN-B  0.222"
      ]
     },
     "metadata": {},
     "output_type": "display_data"
    },
    {
     "name": "stdout",
     "output_type": "stream",
     "text": [
      "\n",
      "\n",
      "Scratch: [0.858756 0.934792 0.923825 0.95774  0.917948]\n",
      "Transfer: [0.949606 0.945205 0.937589 0.942363 0.946746]\n",
      "Transfer & Revision: [0.958058 0.934792 0.957456 0.952533 0.908795]\n"
     ]
    },
    {
     "data": {
      "text/markdown": [
       "## CLL"
      ],
      "text/plain": [
       "<IPython.core.display.Markdown object>"
      ]
     },
     "metadata": {},
     "output_type": "display_data"
    },
    {
     "name": "stdout",
     "output_type": "stream",
     "text": [
      "T-test for experiment 1\n",
      "Ttest_relResult(statistic=0.1283002968803277, pvalue=0.904103349398901)\n",
      "Ttest_relResult(statistic=2.4079983699042007, pvalue=0.07371444544953824)\n"
     ]
    },
    {
     "data": {
      "text/html": [
       "<div>\n",
       "<table border=\"1\" class=\"dataframe\">\n",
       "  <thead>\n",
       "    <tr style=\"text-align: right;\">\n",
       "      <th></th>\n",
       "      <th>p-value</th>\n",
       "      <th>RDN-B</th>\n",
       "    </tr>\n",
       "  </thead>\n",
       "  <tbody>\n",
       "    <tr>\n",
       "      <th>0</th>\n",
       "      <td>transferRDN-B Ref</td>\n",
       "      <td>0.904</td>\n",
       "    </tr>\n",
       "    <tr>\n",
       "      <th>1</th>\n",
       "      <td>transferRDN-B</td>\n",
       "      <td>0.074</td>\n",
       "    </tr>\n",
       "  </tbody>\n",
       "</table>\n",
       "</div>"
      ],
      "text/plain": [
       "             p-value  RDN-B\n",
       "0  transferRDN-B Ref  0.904\n",
       "1      transferRDN-B  0.074"
      ]
     },
     "metadata": {},
     "output_type": "display_data"
    },
    {
     "name": "stdout",
     "output_type": "stream",
     "text": [
      "\n",
      "\n",
      "Scratch: [-0.368326 -0.253519 -0.335232 -0.262024 -0.353659]\n",
      "Transfer: [-0.255665 -0.258457 -0.256513 -0.255786 -0.255769]\n",
      "Transfer & Revision: [-0.283575 -0.253571 -0.271583 -0.262241 -0.478362]\n"
     ]
    },
    {
     "data": {
      "text/markdown": [
       "## Recall"
      ],
      "text/plain": [
       "<IPython.core.display.Markdown object>"
      ]
     },
     "metadata": {},
     "output_type": "display_data"
    },
    {
     "name": "stdout",
     "output_type": "stream",
     "text": [
      "T-test for experiment 1\n",
      "Ttest_relResult(statistic=1.0, pvalue=0.373900966300059)\n",
      "Ttest_relResult(statistic=1.0, pvalue=0.373900966300059)\n"
     ]
    },
    {
     "data": {
      "text/html": [
       "<div>\n",
       "<table border=\"1\" class=\"dataframe\">\n",
       "  <thead>\n",
       "    <tr style=\"text-align: right;\">\n",
       "      <th></th>\n",
       "      <th>p-value</th>\n",
       "      <th>RDN-B</th>\n",
       "    </tr>\n",
       "  </thead>\n",
       "  <tbody>\n",
       "    <tr>\n",
       "      <th>0</th>\n",
       "      <td>transferRDN-B Ref</td>\n",
       "      <td>0.374</td>\n",
       "    </tr>\n",
       "    <tr>\n",
       "      <th>1</th>\n",
       "      <td>transferRDN-B</td>\n",
       "      <td>0.374</td>\n",
       "    </tr>\n",
       "  </tbody>\n",
       "</table>\n",
       "</div>"
      ],
      "text/plain": [
       "             p-value  RDN-B\n",
       "0  transferRDN-B Ref  0.374\n",
       "1      transferRDN-B  0.374"
      ]
     },
     "metadata": {},
     "output_type": "display_data"
    },
    {
     "name": "stdout",
     "output_type": "stream",
     "text": [
      "\n",
      "\n",
      "Scratch: [1.       1.       1.       1.       0.890625]\n",
      "Transfer: [1. 1. 1. 1. 1.]\n",
      "Transfer & Revision: [1.       1.       1.       1.       0.895313]\n"
     ]
    },
    {
     "data": {
      "text/markdown": [
       "## F1"
      ],
      "text/plain": [
       "<IPython.core.display.Markdown object>"
      ]
     },
     "metadata": {},
     "output_type": "display_data"
    },
    {
     "name": "stdout",
     "output_type": "stream",
     "text": [
      "T-test for experiment 1\n",
      "Ttest_relResult(statistic=1.8133635281843405, pvalue=0.1439831931354671)\n",
      "Ttest_relResult(statistic=1.83687747144693, pvalue=0.14010495979035115)\n"
     ]
    },
    {
     "data": {
      "text/html": [
       "<div>\n",
       "<table border=\"1\" class=\"dataframe\">\n",
       "  <thead>\n",
       "    <tr style=\"text-align: right;\">\n",
       "      <th></th>\n",
       "      <th>p-value</th>\n",
       "      <th>RDN-B</th>\n",
       "    </tr>\n",
       "  </thead>\n",
       "  <tbody>\n",
       "    <tr>\n",
       "      <th>0</th>\n",
       "      <td>transferRDN-B Ref</td>\n",
       "      <td>0.144</td>\n",
       "    </tr>\n",
       "    <tr>\n",
       "      <th>1</th>\n",
       "      <td>transferRDN-B</td>\n",
       "      <td>0.140</td>\n",
       "    </tr>\n",
       "  </tbody>\n",
       "</table>\n",
       "</div>"
      ],
      "text/plain": [
       "             p-value  RDN-B\n",
       "0  transferRDN-B Ref  0.144\n",
       "1      transferRDN-B  0.140"
      ]
     },
     "metadata": {},
     "output_type": "display_data"
    },
    {
     "name": "stdout",
     "output_type": "stream",
     "text": [
      "\n",
      "\n",
      "Scratch: [0.954114 0.971831 0.949713 0.970326 0.916399]\n",
      "Transfer: [0.974152 0.971831 0.967789 0.970326 0.972644]\n",
      "Transfer & Revision: [0.974152 0.971831 0.967789 0.970326 0.919006]\n"
     ]
    },
    {
     "data": {
      "text/markdown": [
       "## Precision"
      ],
      "text/plain": [
       "<IPython.core.display.Markdown object>"
      ]
     },
     "metadata": {},
     "output_type": "display_data"
    },
    {
     "name": "stdout",
     "output_type": "stream",
     "text": [
      "\n",
      "\n",
      "Scratch: [0.912254 0.945205 0.904241 0.942363 0.943709]\n",
      "Transfer: [0.949606 0.945205 0.937589 0.942363 0.946746]\n",
      "Transfer & Revision: [0.949606 0.945205 0.937589 0.942363 0.943987]\n"
     ]
    },
    {
     "data": {
      "text/markdown": [
       "## Learning and Revision time"
      ],
      "text/plain": [
       "<IPython.core.display.Markdown object>"
      ]
     },
     "metadata": {},
     "output_type": "display_data"
    },
    {
     "name": "stdout",
     "output_type": "stream",
     "text": [
      "\n",
      "\n",
      "Scratch: [ 9.886  5.21   8.782 10.731  7.326]\n",
      "Transfer: [3.471 2.656 3.797 5.201 4.424]\n",
      "Transfer & Revision: [12.922  6.959 11.585 14.256 15.814]\n"
     ]
    },
    {
     "data": {
      "text/markdown": [
       "## Inference time"
      ],
      "text/plain": [
       "<IPython.core.display.Markdown object>"
      ]
     },
     "metadata": {},
     "output_type": "display_data"
    },
    {
     "name": "stdout",
     "output_type": "stream",
     "text": [
      "\n",
      "\n",
      "Scratch: [2.901 1.886 1.945 3.178 1.941]\n",
      "Transfer: [3.471 2.656 3.797 5.201 4.424]\n",
      "Transfer & Revision: [17.555  1.89   4.142  3.204  5.897]\n"
     ]
    },
    {
     "data": {
      "text/markdown": [
       "# Results for 10_imdb_cora"
      ],
      "text/plain": [
       "<IPython.core.display.Markdown object>"
      ]
     },
     "metadata": {},
     "output_type": "display_data"
    },
    {
     "data": {
      "text/markdown": [
       "## AUC ROC"
      ],
      "text/plain": [
       "<IPython.core.display.Markdown object>"
      ]
     },
     "metadata": {},
     "output_type": "display_data"
    },
    {
     "name": "stdout",
     "output_type": "stream",
     "text": [
      "T-test for experiment 1\n",
      "Ttest_relResult(statistic=-0.9678521124754943, pvalue=0.3879256288089912)\n",
      "Ttest_relResult(statistic=-7.243758285528877, pvalue=0.0019276932125085165)\n"
     ]
    },
    {
     "data": {
      "text/html": [
       "<div>\n",
       "<table border=\"1\" class=\"dataframe\">\n",
       "  <thead>\n",
       "    <tr style=\"text-align: right;\">\n",
       "      <th></th>\n",
       "      <th>p-value</th>\n",
       "      <th>RDN-B</th>\n",
       "    </tr>\n",
       "  </thead>\n",
       "  <tbody>\n",
       "    <tr>\n",
       "      <th>0</th>\n",
       "      <td>transferRDN-B Ref</td>\n",
       "      <td>0.388</td>\n",
       "    </tr>\n",
       "    <tr>\n",
       "      <th>1</th>\n",
       "      <td>transferRDN-B</td>\n",
       "      <td>0.002</td>\n",
       "    </tr>\n",
       "  </tbody>\n",
       "</table>\n",
       "</div>"
      ],
      "text/plain": [
       "             p-value  RDN-B\n",
       "0  transferRDN-B Ref  0.388\n",
       "1      transferRDN-B  0.002"
      ]
     },
     "metadata": {},
     "output_type": "display_data"
    },
    {
     "name": "stdout",
     "output_type": "stream",
     "text": [
      "\n",
      "\n",
      "Scratch: [0.722334 0.704719 0.898384 0.744299 0.744261]\n",
      "Transfer: [0.507833 0.506085 0.502315 0.506316 0.505038]\n",
      "Transfer & Revision: [0.724151 0.706689 0.514291 0.746993 0.74772 ]\n"
     ]
    },
    {
     "data": {
      "text/markdown": [
       "## AUC PR"
      ],
      "text/plain": [
       "<IPython.core.display.Markdown object>"
      ]
     },
     "metadata": {},
     "output_type": "display_data"
    },
    {
     "name": "stdout",
     "output_type": "stream",
     "text": [
      "T-test for experiment 1\n",
      "Ttest_relResult(statistic=-0.9776652842106912, pvalue=0.3835972127650432)\n",
      "Ttest_relResult(statistic=-11.435790596138556, pvalue=0.00033363028003664146)\n"
     ]
    },
    {
     "data": {
      "text/html": [
       "<div>\n",
       "<table border=\"1\" class=\"dataframe\">\n",
       "  <thead>\n",
       "    <tr style=\"text-align: right;\">\n",
       "      <th></th>\n",
       "      <th>p-value</th>\n",
       "      <th>RDN-B</th>\n",
       "    </tr>\n",
       "  </thead>\n",
       "  <tbody>\n",
       "    <tr>\n",
       "      <th>0</th>\n",
       "      <td>transferRDN-B Ref</td>\n",
       "      <td>0.384</td>\n",
       "    </tr>\n",
       "    <tr>\n",
       "      <th>1</th>\n",
       "      <td>transferRDN-B</td>\n",
       "      <td>0.000</td>\n",
       "    </tr>\n",
       "  </tbody>\n",
       "</table>\n",
       "</div>"
      ],
      "text/plain": [
       "             p-value  RDN-B\n",
       "0  transferRDN-B Ref  0.384\n",
       "1      transferRDN-B  0.000"
      ]
     },
     "metadata": {},
     "output_type": "display_data"
    },
    {
     "name": "stdout",
     "output_type": "stream",
     "text": [
      "\n",
      "\n",
      "Scratch: [0.770556 0.731724 0.864788 0.7632   0.774641]\n",
      "Transfer: [0.587076 0.533971 0.576355 0.54817  0.580576]\n",
      "Transfer & Revision: [0.771462 0.732902 0.576198 0.764574 0.776362]\n"
     ]
    },
    {
     "data": {
      "text/markdown": [
       "## CLL"
      ],
      "text/plain": [
       "<IPython.core.display.Markdown object>"
      ]
     },
     "metadata": {},
     "output_type": "display_data"
    },
    {
     "name": "stdout",
     "output_type": "stream",
     "text": [
      "T-test for experiment 1\n",
      "Ttest_relResult(statistic=-0.8623170166490476, pvalue=0.4371439343860824)\n",
      "Ttest_relResult(statistic=-2.9891284135099414, pvalue=0.04037286542569887)\n"
     ]
    },
    {
     "data": {
      "text/html": [
       "<div>\n",
       "<table border=\"1\" class=\"dataframe\">\n",
       "  <thead>\n",
       "    <tr style=\"text-align: right;\">\n",
       "      <th></th>\n",
       "      <th>p-value</th>\n",
       "      <th>RDN-B</th>\n",
       "    </tr>\n",
       "  </thead>\n",
       "  <tbody>\n",
       "    <tr>\n",
       "      <th>0</th>\n",
       "      <td>transferRDN-B Ref</td>\n",
       "      <td>0.437</td>\n",
       "    </tr>\n",
       "    <tr>\n",
       "      <th>1</th>\n",
       "      <td>transferRDN-B</td>\n",
       "      <td>0.040</td>\n",
       "    </tr>\n",
       "  </tbody>\n",
       "</table>\n",
       "</div>"
      ],
      "text/plain": [
       "             p-value  RDN-B\n",
       "0  transferRDN-B Ref  0.437\n",
       "1      transferRDN-B  0.040"
      ]
     },
     "metadata": {},
     "output_type": "display_data"
    },
    {
     "name": "stdout",
     "output_type": "stream",
     "text": [
      "\n",
      "\n",
      "Scratch: [-0.599849 -0.690292 -0.424647 -0.576661 -0.630317]\n",
      "Transfer: [-0.702097 -0.735325 -0.699543 -0.69328  -0.696777]\n",
      "Transfer & Revision: [-0.595674 -0.67914  -0.651967 -0.576617 -0.620097]\n"
     ]
    },
    {
     "data": {
      "text/markdown": [
       "## Recall"
      ],
      "text/plain": [
       "<IPython.core.display.Markdown object>"
      ]
     },
     "metadata": {},
     "output_type": "display_data"
    },
    {
     "name": "stdout",
     "output_type": "stream",
     "text": [
      "T-test for experiment 1\n",
      "Ttest_relResult(statistic=0.9999999999999999, pvalue=0.373900966300059)\n",
      "Ttest_relResult(statistic=-1.6358342364551084, pvalue=0.1772146555699774)\n"
     ]
    },
    {
     "data": {
      "text/html": [
       "<div>\n",
       "<table border=\"1\" class=\"dataframe\">\n",
       "  <thead>\n",
       "    <tr style=\"text-align: right;\">\n",
       "      <th></th>\n",
       "      <th>p-value</th>\n",
       "      <th>RDN-B</th>\n",
       "    </tr>\n",
       "  </thead>\n",
       "  <tbody>\n",
       "    <tr>\n",
       "      <th>0</th>\n",
       "      <td>transferRDN-B Ref</td>\n",
       "      <td>0.374</td>\n",
       "    </tr>\n",
       "    <tr>\n",
       "      <th>1</th>\n",
       "      <td>transferRDN-B</td>\n",
       "      <td>0.177</td>\n",
       "    </tr>\n",
       "  </tbody>\n",
       "</table>\n",
       "</div>"
      ],
      "text/plain": [
       "             p-value  RDN-B\n",
       "0  transferRDN-B Ref  0.374\n",
       "1      transferRDN-B  0.177"
      ]
     },
     "metadata": {},
     "output_type": "display_data"
    },
    {
     "name": "stdout",
     "output_type": "stream",
     "text": [
      "\n",
      "\n",
      "Scratch: [0.360075 0.910394 0.924786 0.943761 0.365809]\n",
      "Transfer: [0. 1. 0. 1. 0.]\n",
      "Transfer & Revision: [0.360075 0.910394 0.928205 0.943761 0.365809]\n"
     ]
    },
    {
     "data": {
      "text/markdown": [
       "## F1"
      ],
      "text/plain": [
       "<IPython.core.display.Markdown object>"
      ]
     },
     "metadata": {},
     "output_type": "display_data"
    },
    {
     "name": "stdout",
     "output_type": "stream",
     "text": [
      "T-test for experiment 1\n",
      "Ttest_relResult(statistic=-0.9700482376687517, pvalue=0.38695332810624206)\n",
      "Ttest_relResult(statistic=nan, pvalue=nan)\n"
     ]
    },
    {
     "data": {
      "text/html": [
       "<div>\n",
       "<table border=\"1\" class=\"dataframe\">\n",
       "  <thead>\n",
       "    <tr style=\"text-align: right;\">\n",
       "      <th></th>\n",
       "      <th>p-value</th>\n",
       "      <th>RDN-B</th>\n",
       "    </tr>\n",
       "  </thead>\n",
       "  <tbody>\n",
       "    <tr>\n",
       "      <th>0</th>\n",
       "      <td>transferRDN-B Ref</td>\n",
       "      <td>0.387</td>\n",
       "    </tr>\n",
       "    <tr>\n",
       "      <th>1</th>\n",
       "      <td>transferRDN-B</td>\n",
       "      <td>nan</td>\n",
       "    </tr>\n",
       "  </tbody>\n",
       "</table>\n",
       "</div>"
      ],
      "text/plain": [
       "             p-value  RDN-B\n",
       "0  transferRDN-B Ref  0.387\n",
       "1      transferRDN-B    nan"
      ]
     },
     "metadata": {},
     "output_type": "display_data"
    },
    {
     "name": "stdout",
     "output_type": "stream",
     "text": [
      "\n",
      "\n",
      "Scratch: [0.508564 0.727794 0.94087  0.763869 0.510256]\n",
      "Transfer: [     nan 0.696195      nan 0.708152      nan]\n",
      "Transfer & Revision: [0.508564 0.729885 0.763176 0.766049 0.510256]\n"
     ]
    },
    {
     "data": {
      "text/markdown": [
       "## Precision"
      ],
      "text/plain": [
       "<IPython.core.display.Markdown object>"
      ]
     },
     "metadata": {},
     "output_type": "display_data"
    },
    {
     "name": "stdout",
     "output_type": "stream",
     "text": [
      "\n",
      "\n",
      "Scratch: [0.865471 0.606205 0.957522 0.641577 0.84322 ]\n",
      "Transfer: [     nan 0.533971      nan 0.54817       nan]\n",
      "Transfer & Revision: [0.865471 0.609113 0.647971 0.644658 0.84322 ]\n"
     ]
    },
    {
     "data": {
      "text/markdown": [
       "## Learning and Revision time"
      ],
      "text/plain": [
       "<IPython.core.display.Markdown object>"
      ]
     },
     "metadata": {},
     "output_type": "display_data"
    },
    {
     "name": "stdout",
     "output_type": "stream",
     "text": [
      "\n",
      "\n",
      "Scratch: [16.435 20.746 82.832  7.97   9.547]\n",
      "Transfer: [7.981 6.678 6.955 4.363 2.214]\n",
      "Transfer & Revision: [ 30.17  332.951  28.561  14.374  21.48 ]\n"
     ]
    },
    {
     "data": {
      "text/markdown": [
       "## Inference time"
      ],
      "text/plain": [
       "<IPython.core.display.Markdown object>"
      ]
     },
     "metadata": {},
     "output_type": "display_data"
    },
    {
     "name": "stdout",
     "output_type": "stream",
     "text": [
      "\n",
      "\n",
      "Scratch: [ 2.283  2.253 13.365  1.956  2.394]\n",
      "Transfer: [7.981 6.678 6.955 4.363 2.214]\n",
      "Transfer & Revision: [ 7.248 10.082  3.401  2.902  5.196]\n"
     ]
    },
    {
     "data": {
      "text/markdown": [
       "# Results for 11_uwcse_cora"
      ],
      "text/plain": [
       "<IPython.core.display.Markdown object>"
      ]
     },
     "metadata": {},
     "output_type": "display_data"
    },
    {
     "data": {
      "text/markdown": [
       "## AUC ROC"
      ],
      "text/plain": [
       "<IPython.core.display.Markdown object>"
      ]
     },
     "metadata": {},
     "output_type": "display_data"
    },
    {
     "name": "stdout",
     "output_type": "stream",
     "text": [
      "T-test for experiment 1\n",
      "Ttest_relResult(statistic=-1.1020848859615544, pvalue=0.33227693249419066)\n",
      "Ttest_relResult(statistic=-2.264004947337958, pvalue=0.08629744349830157)\n"
     ]
    },
    {
     "data": {
      "text/html": [
       "<div>\n",
       "<table border=\"1\" class=\"dataframe\">\n",
       "  <thead>\n",
       "    <tr style=\"text-align: right;\">\n",
       "      <th></th>\n",
       "      <th>p-value</th>\n",
       "      <th>RDN-B</th>\n",
       "    </tr>\n",
       "  </thead>\n",
       "  <tbody>\n",
       "    <tr>\n",
       "      <th>0</th>\n",
       "      <td>transferRDN-B Ref</td>\n",
       "      <td>0.332</td>\n",
       "    </tr>\n",
       "    <tr>\n",
       "      <th>1</th>\n",
       "      <td>transferRDN-B</td>\n",
       "      <td>0.086</td>\n",
       "    </tr>\n",
       "  </tbody>\n",
       "</table>\n",
       "</div>"
      ],
      "text/plain": [
       "             p-value  RDN-B\n",
       "0  transferRDN-B Ref  0.332\n",
       "1      transferRDN-B  0.086"
      ]
     },
     "metadata": {},
     "output_type": "display_data"
    },
    {
     "name": "stdout",
     "output_type": "stream",
     "text": [
      "\n",
      "\n",
      "Scratch: [0.849353 0.554674 0.859749 0.573596 0.542745]\n",
      "Transfer: [0.546475 0.437142 0.547299 0.558035 0.535236]\n",
      "Transfer & Revision: [0.842693 0.550249 0.555278 0.562388 0.540589]\n"
     ]
    },
    {
     "data": {
      "text/markdown": [
       "## AUC PR"
      ],
      "text/plain": [
       "<IPython.core.display.Markdown object>"
      ]
     },
     "metadata": {},
     "output_type": "display_data"
    },
    {
     "name": "stdout",
     "output_type": "stream",
     "text": [
      "T-test for experiment 1\n",
      "Ttest_relResult(statistic=-0.9672484053441888, pvalue=0.38819327798321873)\n",
      "Ttest_relResult(statistic=-2.4286721147148556, pvalue=0.07208426899715485)\n"
     ]
    },
    {
     "data": {
      "text/html": [
       "<div>\n",
       "<table border=\"1\" class=\"dataframe\">\n",
       "  <thead>\n",
       "    <tr style=\"text-align: right;\">\n",
       "      <th></th>\n",
       "      <th>p-value</th>\n",
       "      <th>RDN-B</th>\n",
       "    </tr>\n",
       "  </thead>\n",
       "  <tbody>\n",
       "    <tr>\n",
       "      <th>0</th>\n",
       "      <td>transferRDN-B Ref</td>\n",
       "      <td>0.388</td>\n",
       "    </tr>\n",
       "    <tr>\n",
       "      <th>1</th>\n",
       "      <td>transferRDN-B</td>\n",
       "      <td>0.072</td>\n",
       "    </tr>\n",
       "  </tbody>\n",
       "</table>\n",
       "</div>"
      ],
      "text/plain": [
       "             p-value  RDN-B\n",
       "0  transferRDN-B Ref  0.388\n",
       "1      transferRDN-B  0.072"
      ]
     },
     "metadata": {},
     "output_type": "display_data"
    },
    {
     "name": "stdout",
     "output_type": "stream",
     "text": [
      "\n",
      "\n",
      "Scratch: [0.794396 0.527424 0.816793 0.589845 0.563931]\n",
      "Transfer: [0.552575 0.443375 0.555563 0.56414  0.542776]\n",
      "Transfer & Revision: [0.816213 0.524516 0.566989 0.577761 0.562486]\n"
     ]
    },
    {
     "data": {
      "text/markdown": [
       "## CLL"
      ],
      "text/plain": [
       "<IPython.core.display.Markdown object>"
      ]
     },
     "metadata": {},
     "output_type": "display_data"
    },
    {
     "name": "stdout",
     "output_type": "stream",
     "text": [
      "T-test for experiment 1\n",
      "Ttest_relResult(statistic=-1.231218772834519, pvalue=0.28568188181553045)\n",
      "Ttest_relResult(statistic=-1.674963181038643, pvalue=0.16925229182777496)\n"
     ]
    },
    {
     "data": {
      "text/html": [
       "<div>\n",
       "<table border=\"1\" class=\"dataframe\">\n",
       "  <thead>\n",
       "    <tr style=\"text-align: right;\">\n",
       "      <th></th>\n",
       "      <th>p-value</th>\n",
       "      <th>RDN-B</th>\n",
       "    </tr>\n",
       "  </thead>\n",
       "  <tbody>\n",
       "    <tr>\n",
       "      <th>0</th>\n",
       "      <td>transferRDN-B Ref</td>\n",
       "      <td>0.286</td>\n",
       "    </tr>\n",
       "    <tr>\n",
       "      <th>1</th>\n",
       "      <td>transferRDN-B</td>\n",
       "      <td>0.169</td>\n",
       "    </tr>\n",
       "  </tbody>\n",
       "</table>\n",
       "</div>"
      ],
      "text/plain": [
       "             p-value  RDN-B\n",
       "0  transferRDN-B Ref  0.286\n",
       "1      transferRDN-B  0.169"
      ]
     },
     "metadata": {},
     "output_type": "display_data"
    },
    {
     "name": "stdout",
     "output_type": "stream",
     "text": [
      "\n",
      "\n",
      "Scratch: [-0.456217 -0.705291 -0.480884 -0.674934 -0.691898]\n",
      "Transfer: [-0.684375 -0.70901  -0.684918 -0.68648  -0.684357]\n",
      "Transfer & Revision: [-0.484222 -0.705353 -0.680355 -0.685856 -0.689915]\n"
     ]
    },
    {
     "data": {
      "text/markdown": [
       "## Recall"
      ],
      "text/plain": [
       "<IPython.core.display.Markdown object>"
      ]
     },
     "metadata": {},
     "output_type": "display_data"
    },
    {
     "name": "stdout",
     "output_type": "stream",
     "text": [
      "T-test for experiment 1\n",
      "Ttest_relResult(statistic=-1.1214208086945323, pvalue=0.3248794758882646)\n",
      "Ttest_relResult(statistic=-0.9542305276621602, pvalue=0.39400324049116614)\n"
     ]
    },
    {
     "data": {
      "text/html": [
       "<div>\n",
       "<table border=\"1\" class=\"dataframe\">\n",
       "  <thead>\n",
       "    <tr style=\"text-align: right;\">\n",
       "      <th></th>\n",
       "      <th>p-value</th>\n",
       "      <th>RDN-B</th>\n",
       "    </tr>\n",
       "  </thead>\n",
       "  <tbody>\n",
       "    <tr>\n",
       "      <th>0</th>\n",
       "      <td>transferRDN-B Ref</td>\n",
       "      <td>0.325</td>\n",
       "    </tr>\n",
       "    <tr>\n",
       "      <th>1</th>\n",
       "      <td>transferRDN-B</td>\n",
       "      <td>0.394</td>\n",
       "    </tr>\n",
       "  </tbody>\n",
       "</table>\n",
       "</div>"
      ],
      "text/plain": [
       "             p-value  RDN-B\n",
       "0  transferRDN-B Ref  0.325\n",
       "1      transferRDN-B  0.394"
      ]
     },
     "metadata": {},
     "output_type": "display_data"
    },
    {
     "name": "stdout",
     "output_type": "stream",
     "text": [
      "\n",
      "\n",
      "Scratch: [0.919215 0.957257 0.939245 0.074009 0.915687]\n",
      "Transfer: [0.94413  1.       0.       0.       0.952169]\n",
      "Transfer & Revision: [0.909777 0.957257 0.904762 0.073128 0.920957]\n"
     ]
    },
    {
     "data": {
      "text/markdown": [
       "## F1"
      ],
      "text/plain": [
       "<IPython.core.display.Markdown object>"
      ]
     },
     "metadata": {},
     "output_type": "display_data"
    },
    {
     "name": "stdout",
     "output_type": "stream",
     "text": [
      "T-test for experiment 1\n",
      "Ttest_relResult(statistic=-1.0297111225282705, pvalue=0.36133395695195436)\n",
      "Ttest_relResult(statistic=nan, pvalue=nan)\n"
     ]
    },
    {
     "data": {
      "text/html": [
       "<div>\n",
       "<table border=\"1\" class=\"dataframe\">\n",
       "  <thead>\n",
       "    <tr style=\"text-align: right;\">\n",
       "      <th></th>\n",
       "      <th>p-value</th>\n",
       "      <th>RDN-B</th>\n",
       "    </tr>\n",
       "  </thead>\n",
       "  <tbody>\n",
       "    <tr>\n",
       "      <th>0</th>\n",
       "      <td>transferRDN-B Ref</td>\n",
       "      <td>0.361</td>\n",
       "    </tr>\n",
       "    <tr>\n",
       "      <th>1</th>\n",
       "      <td>transferRDN-B</td>\n",
       "      <td>nan</td>\n",
       "    </tr>\n",
       "  </tbody>\n",
       "</table>\n",
       "</div>"
      ],
      "text/plain": [
       "             p-value  RDN-B\n",
       "0  transferRDN-B Ref  0.361\n",
       "1      transferRDN-B    nan"
      ]
     },
     "metadata": {},
     "output_type": "display_data"
    },
    {
     "name": "stdout",
     "output_type": "stream",
     "text": [
      "\n",
      "\n",
      "Scratch: [0.869488 0.688441 0.871785 0.132964 0.680934]\n",
      "Transfer: [0.697726 0.671651      nan      nan 0.691798]\n",
      "Transfer & Revision: [0.869095 0.686462 0.690801 0.129992 0.681975]\n"
     ]
    },
    {
     "data": {
      "text/markdown": [
       "## Precision"
      ],
      "text/plain": [
       "<IPython.core.display.Markdown object>"
      ]
     },
     "metadata": {},
     "output_type": "display_data"
    },
    {
     "name": "stdout",
     "output_type": "stream",
     "text": [
      "\n",
      "\n",
      "Scratch: [0.824864 0.5375   0.813367 0.653696 0.541987]\n",
      "Transfer: [0.553319 0.505628      nan      nan 0.543247]\n",
      "Transfer & Revision: [0.831895 0.535092 0.558682 0.584507 0.541468]\n"
     ]
    },
    {
     "data": {
      "text/markdown": [
       "## Learning and Revision time"
      ],
      "text/plain": [
       "<IPython.core.display.Markdown object>"
      ]
     },
     "metadata": {},
     "output_type": "display_data"
    },
    {
     "name": "stdout",
     "output_type": "stream",
     "text": [
      "\n",
      "\n",
      "Scratch: [264.542 151.567  82.837 171.153 100.513]\n",
      "Transfer: [166.532  84.312  15.225  70.424  37.04 ]\n",
      "Transfer & Revision: [503.815 270.553 130.25  290.268 194.821]\n"
     ]
    },
    {
     "data": {
      "text/markdown": [
       "## Inference time"
      ],
      "text/plain": [
       "<IPython.core.display.Markdown object>"
      ]
     },
     "metadata": {},
     "output_type": "display_data"
    },
    {
     "name": "stdout",
     "output_type": "stream",
     "text": [
      "\n",
      "\n",
      "Scratch: [47.166  5.917 15.119  7.091 18.519]\n",
      "Transfer: [166.532  84.312  15.225  70.424  37.04 ]\n",
      "Transfer & Revision: [248.961 174.483 309.082 210.854 212.865]\n"
     ]
    },
    {
     "data": {
      "text/markdown": [
       "# Results for 12_uwcse_cora"
      ],
      "text/plain": [
       "<IPython.core.display.Markdown object>"
      ]
     },
     "metadata": {},
     "output_type": "display_data"
    },
    {
     "data": {
      "text/markdown": [
       "## AUC ROC"
      ],
      "text/plain": [
       "<IPython.core.display.Markdown object>"
      ]
     },
     "metadata": {},
     "output_type": "display_data"
    },
    {
     "name": "stdout",
     "output_type": "stream",
     "text": [
      "T-test for experiment 1\n",
      "Ttest_relResult(statistic=2.408715938650661, pvalue=0.07365716727388139)\n",
      "Ttest_relResult(statistic=-1.6574768530056303, pvalue=0.172763347099864)\n"
     ]
    },
    {
     "data": {
      "text/html": [
       "<div>\n",
       "<table border=\"1\" class=\"dataframe\">\n",
       "  <thead>\n",
       "    <tr style=\"text-align: right;\">\n",
       "      <th></th>\n",
       "      <th>p-value</th>\n",
       "      <th>RDN-B</th>\n",
       "    </tr>\n",
       "  </thead>\n",
       "  <tbody>\n",
       "    <tr>\n",
       "      <th>0</th>\n",
       "      <td>transferRDN-B Ref</td>\n",
       "      <td>0.074</td>\n",
       "    </tr>\n",
       "    <tr>\n",
       "      <th>1</th>\n",
       "      <td>transferRDN-B</td>\n",
       "      <td>0.173</td>\n",
       "    </tr>\n",
       "  </tbody>\n",
       "</table>\n",
       "</div>"
      ],
      "text/plain": [
       "             p-value  RDN-B\n",
       "0  transferRDN-B Ref  0.074\n",
       "1      transferRDN-B  0.173"
      ]
     },
     "metadata": {},
     "output_type": "display_data"
    },
    {
     "name": "stdout",
     "output_type": "stream",
     "text": [
      "\n",
      "\n",
      "Scratch: [0.93372  0.938989 0.935975 0.929808 0.939901]\n",
      "Transfer: [0.935072 0.938673 0.93414  0.925552 0.936595]\n",
      "Transfer & Revision: [0.952961 0.938989 0.954744 0.929808 0.954572]\n"
     ]
    },
    {
     "data": {
      "text/markdown": [
       "## AUC PR"
      ],
      "text/plain": [
       "<IPython.core.display.Markdown object>"
      ]
     },
     "metadata": {},
     "output_type": "display_data"
    },
    {
     "name": "stdout",
     "output_type": "stream",
     "text": [
      "T-test for experiment 1\n",
      "Ttest_relResult(statistic=2.4162094252648036, pvalue=0.07306202511035786)\n",
      "Ttest_relResult(statistic=-3.35381056305406, pvalue=0.0284679052014475)\n"
     ]
    },
    {
     "data": {
      "text/html": [
       "<div>\n",
       "<table border=\"1\" class=\"dataframe\">\n",
       "  <thead>\n",
       "    <tr style=\"text-align: right;\">\n",
       "      <th></th>\n",
       "      <th>p-value</th>\n",
       "      <th>RDN-B</th>\n",
       "    </tr>\n",
       "  </thead>\n",
       "  <tbody>\n",
       "    <tr>\n",
       "      <th>0</th>\n",
       "      <td>transferRDN-B Ref</td>\n",
       "      <td>0.073</td>\n",
       "    </tr>\n",
       "    <tr>\n",
       "      <th>1</th>\n",
       "      <td>transferRDN-B</td>\n",
       "      <td>0.028</td>\n",
       "    </tr>\n",
       "  </tbody>\n",
       "</table>\n",
       "</div>"
      ],
      "text/plain": [
       "             p-value  RDN-B\n",
       "0  transferRDN-B Ref  0.073\n",
       "1      transferRDN-B  0.028"
      ]
     },
     "metadata": {},
     "output_type": "display_data"
    },
    {
     "name": "stdout",
     "output_type": "stream",
     "text": [
      "\n",
      "\n",
      "Scratch: [0.967303 0.956127 0.972238 0.958318 0.969509]\n",
      "Transfer: [0.961277 0.955587 0.965468 0.956309 0.965038]\n",
      "Transfer & Revision: [0.975605 0.956127 0.978863 0.958318 0.976266]\n"
     ]
    },
    {
     "data": {
      "text/markdown": [
       "## CLL"
      ],
      "text/plain": [
       "<IPython.core.display.Markdown object>"
      ]
     },
     "metadata": {},
     "output_type": "display_data"
    },
    {
     "name": "stdout",
     "output_type": "stream",
     "text": [
      "T-test for experiment 1\n",
      "Ttest_relResult(statistic=-0.12516306166114358, pvalue=0.9064328207749405)\n",
      "Ttest_relResult(statistic=-3.6227013387678486, pvalue=0.02230369314944458)\n"
     ]
    },
    {
     "data": {
      "text/html": [
       "<div>\n",
       "<table border=\"1\" class=\"dataframe\">\n",
       "  <thead>\n",
       "    <tr style=\"text-align: right;\">\n",
       "      <th></th>\n",
       "      <th>p-value</th>\n",
       "      <th>RDN-B</th>\n",
       "    </tr>\n",
       "  </thead>\n",
       "  <tbody>\n",
       "    <tr>\n",
       "      <th>0</th>\n",
       "      <td>transferRDN-B Ref</td>\n",
       "      <td>0.906</td>\n",
       "    </tr>\n",
       "    <tr>\n",
       "      <th>1</th>\n",
       "      <td>transferRDN-B</td>\n",
       "      <td>0.022</td>\n",
       "    </tr>\n",
       "  </tbody>\n",
       "</table>\n",
       "</div>"
      ],
      "text/plain": [
       "             p-value  RDN-B\n",
       "0  transferRDN-B Ref  0.906\n",
       "1      transferRDN-B  0.022"
      ]
     },
     "metadata": {},
     "output_type": "display_data"
    },
    {
     "name": "stdout",
     "output_type": "stream",
     "text": [
      "\n",
      "\n",
      "Scratch: [-0.301259 -0.490456 -0.310235 -0.313549 -0.30781 ]\n",
      "Transfer: [-0.320212 -0.550582 -0.333694 -0.336915 -0.325572]\n",
      "Transfer & Revision: [-0.30766  -0.490911 -0.304781 -0.312912 -0.308226]\n"
     ]
    },
    {
     "data": {
      "text/markdown": [
       "## Recall"
      ],
      "text/plain": [
       "<IPython.core.display.Markdown object>"
      ]
     },
     "metadata": {},
     "output_type": "display_data"
    },
    {
     "name": "stdout",
     "output_type": "stream",
     "text": [
      "T-test for experiment 1\n",
      "Ttest_relResult(statistic=-1.0, pvalue=0.373900966300059)\n",
      "Ttest_relResult(statistic=-1.2926107075512192, pvalue=0.26575763354057275)\n"
     ]
    },
    {
     "data": {
      "text/html": [
       "<div>\n",
       "<table border=\"1\" class=\"dataframe\">\n",
       "  <thead>\n",
       "    <tr style=\"text-align: right;\">\n",
       "      <th></th>\n",
       "      <th>p-value</th>\n",
       "      <th>RDN-B</th>\n",
       "    </tr>\n",
       "  </thead>\n",
       "  <tbody>\n",
       "    <tr>\n",
       "      <th>0</th>\n",
       "      <td>transferRDN-B Ref</td>\n",
       "      <td>0.374</td>\n",
       "    </tr>\n",
       "    <tr>\n",
       "      <th>1</th>\n",
       "      <td>transferRDN-B</td>\n",
       "      <td>0.266</td>\n",
       "    </tr>\n",
       "  </tbody>\n",
       "</table>\n",
       "</div>"
      ],
      "text/plain": [
       "             p-value  RDN-B\n",
       "0  transferRDN-B Ref  0.374\n",
       "1      transferRDN-B  0.266"
      ]
     },
     "metadata": {},
     "output_type": "display_data"
    },
    {
     "name": "stdout",
     "output_type": "stream",
     "text": [
      "\n",
      "\n",
      "Scratch: [0.856255 0.970547 0.901744 0.892022 0.872641]\n",
      "Transfer: [0.856255 1.       0.853159 0.840916 0.843695]\n",
      "Transfer & Revision: [0.856255 0.970547 0.901744 0.873539 0.872641]\n"
     ]
    },
    {
     "data": {
      "text/markdown": [
       "## F1"
      ],
      "text/plain": [
       "<IPython.core.display.Markdown object>"
      ]
     },
     "metadata": {},
     "output_type": "display_data"
    },
    {
     "name": "stdout",
     "output_type": "stream",
     "text": [
      "T-test for experiment 1\n",
      "Ttest_relResult(statistic=-1.0, pvalue=0.373900966300059)\n",
      "Ttest_relResult(statistic=-1.971920688425652, pvalue=0.11990545347039895)\n"
     ]
    },
    {
     "data": {
      "text/html": [
       "<div>\n",
       "<table border=\"1\" class=\"dataframe\">\n",
       "  <thead>\n",
       "    <tr style=\"text-align: right;\">\n",
       "      <th></th>\n",
       "      <th>p-value</th>\n",
       "      <th>RDN-B</th>\n",
       "    </tr>\n",
       "  </thead>\n",
       "  <tbody>\n",
       "    <tr>\n",
       "      <th>0</th>\n",
       "      <td>transferRDN-B Ref</td>\n",
       "      <td>0.374</td>\n",
       "    </tr>\n",
       "    <tr>\n",
       "      <th>1</th>\n",
       "      <td>transferRDN-B</td>\n",
       "      <td>0.120</td>\n",
       "    </tr>\n",
       "  </tbody>\n",
       "</table>\n",
       "</div>"
      ],
      "text/plain": [
       "             p-value  RDN-B\n",
       "0  transferRDN-B Ref  0.374\n",
       "1      transferRDN-B  0.120"
      ]
     },
     "metadata": {},
     "output_type": "display_data"
    },
    {
     "name": "stdout",
     "output_type": "stream",
     "text": [
      "\n",
      "\n",
      "Scratch: [0.915491 0.776221 0.927613 0.92137  0.920863]\n",
      "Transfer: [0.915491 0.723963 0.914817 0.905946 0.912498]\n",
      "Transfer & Revision: [0.915491 0.776221 0.927613 0.915045 0.920863]\n"
     ]
    },
    {
     "data": {
      "text/markdown": [
       "## Precision"
      ],
      "text/plain": [
       "<IPython.core.display.Markdown object>"
      ]
     },
     "metadata": {},
     "output_type": "display_data"
    },
    {
     "name": "stdout",
     "output_type": "stream",
     "text": [
      "\n",
      "\n",
      "Scratch: [0.983533 0.646731 0.95501  0.952714 0.974727]\n",
      "Transfer: [0.983533 0.567352 0.986082 0.981877 0.993519]\n",
      "Transfer & Revision: [0.983533 0.646731 0.95501  0.960691 0.974727]\n"
     ]
    },
    {
     "data": {
      "text/markdown": [
       "## Learning and Revision time"
      ],
      "text/plain": [
       "<IPython.core.display.Markdown object>"
      ]
     },
     "metadata": {},
     "output_type": "display_data"
    },
    {
     "name": "stdout",
     "output_type": "stream",
     "text": [
      "\n",
      "\n",
      "Scratch: [203.131  64.514 381.546 178.761 282.957]\n",
      "Transfer: [116.675 149.709 221.94  132.986 151.808]\n",
      "Transfer & Revision: [359.79  204.205 643.899 288.74  487.63 ]\n"
     ]
    },
    {
     "data": {
      "text/markdown": [
       "## Inference time"
      ],
      "text/plain": [
       "<IPython.core.display.Markdown object>"
      ]
     },
     "metadata": {},
     "output_type": "display_data"
    },
    {
     "name": "stdout",
     "output_type": "stream",
     "text": [
      "\n",
      "\n",
      "Scratch: [5.568 4.87  4.688 3.613 5.205]\n",
      "Transfer: [116.675 149.709 221.94  132.986 151.808]\n",
      "Transfer & Revision: [101.224   4.747  71.739   3.439 138.644]\n"
     ]
    },
    {
     "data": {
      "text/markdown": [
       "# Results for 13_uwcse_cora"
      ],
      "text/plain": [
       "<IPython.core.display.Markdown object>"
      ]
     },
     "metadata": {},
     "output_type": "display_data"
    },
    {
     "data": {
      "text/markdown": [
       "## AUC ROC"
      ],
      "text/plain": [
       "<IPython.core.display.Markdown object>"
      ]
     },
     "metadata": {},
     "output_type": "display_data"
    },
    {
     "name": "stdout",
     "output_type": "stream",
     "text": [
      "T-test for experiment 1\n",
      "Ttest_relResult(statistic=1.6605435943358773, pvalue=0.17214211069405103)\n",
      "Ttest_relResult(statistic=3.332967996497164, pvalue=0.02902524340094085)\n"
     ]
    },
    {
     "data": {
      "text/html": [
       "<div>\n",
       "<table border=\"1\" class=\"dataframe\">\n",
       "  <thead>\n",
       "    <tr style=\"text-align: right;\">\n",
       "      <th></th>\n",
       "      <th>p-value</th>\n",
       "      <th>RDN-B</th>\n",
       "    </tr>\n",
       "  </thead>\n",
       "  <tbody>\n",
       "    <tr>\n",
       "      <th>0</th>\n",
       "      <td>transferRDN-B Ref</td>\n",
       "      <td>0.172</td>\n",
       "    </tr>\n",
       "    <tr>\n",
       "      <th>1</th>\n",
       "      <td>transferRDN-B</td>\n",
       "      <td>0.029</td>\n",
       "    </tr>\n",
       "  </tbody>\n",
       "</table>\n",
       "</div>"
      ],
      "text/plain": [
       "             p-value  RDN-B\n",
       "0  transferRDN-B Ref  0.172\n",
       "1      transferRDN-B  0.029"
      ]
     },
     "metadata": {},
     "output_type": "display_data"
    },
    {
     "name": "stdout",
     "output_type": "stream",
     "text": [
      "\n",
      "\n",
      "Scratch: [0.468891 0.569243 0.456051 0.625224 0.504325]\n",
      "Transfer: [0.724138 0.62963  0.685714 0.655172 0.678571]\n",
      "Transfer & Revision: [0.783611 0.569243 0.703739 0.629165 0.510128]\n"
     ]
    },
    {
     "data": {
      "text/markdown": [
       "## AUC PR"
      ],
      "text/plain": [
       "<IPython.core.display.Markdown object>"
      ]
     },
     "metadata": {},
     "output_type": "display_data"
    },
    {
     "name": "stdout",
     "output_type": "stream",
     "text": [
      "T-test for experiment 1\n",
      "Ttest_relResult(statistic=1.6487804306436227, pvalue=0.17453777729984166)\n",
      "Ttest_relResult(statistic=3.502380699833061, pvalue=0.024842555914562525)\n"
     ]
    },
    {
     "data": {
      "text/html": [
       "<div>\n",
       "<table border=\"1\" class=\"dataframe\">\n",
       "  <thead>\n",
       "    <tr style=\"text-align: right;\">\n",
       "      <th></th>\n",
       "      <th>p-value</th>\n",
       "      <th>RDN-B</th>\n",
       "    </tr>\n",
       "  </thead>\n",
       "  <tbody>\n",
       "    <tr>\n",
       "      <th>0</th>\n",
       "      <td>transferRDN-B Ref</td>\n",
       "      <td>0.175</td>\n",
       "    </tr>\n",
       "    <tr>\n",
       "      <th>1</th>\n",
       "      <td>transferRDN-B</td>\n",
       "      <td>0.025</td>\n",
       "    </tr>\n",
       "  </tbody>\n",
       "</table>\n",
       "</div>"
      ],
      "text/plain": [
       "             p-value  RDN-B\n",
       "0  transferRDN-B Ref  0.175\n",
       "1      transferRDN-B  0.025"
      ]
     },
     "metadata": {},
     "output_type": "display_data"
    },
    {
     "name": "stdout",
     "output_type": "stream",
     "text": [
      "\n",
      "\n",
      "Scratch: [0.920251 0.934792 0.917295 0.927906 0.89613 ]\n",
      "Transfer: [0.949606 0.945205 0.937589 0.942363 0.946746]\n",
      "Transfer & Revision: [0.970512 0.934792 0.958278 0.928452 0.896589]\n"
     ]
    },
    {
     "data": {
      "text/markdown": [
       "## CLL"
      ],
      "text/plain": [
       "<IPython.core.display.Markdown object>"
      ]
     },
     "metadata": {},
     "output_type": "display_data"
    },
    {
     "name": "stdout",
     "output_type": "stream",
     "text": [
      "T-test for experiment 1\n",
      "Ttest_relResult(statistic=1.3134592105799152, pvalue=0.2593009940776626)\n",
      "Ttest_relResult(statistic=2.1331096116014168, pvalue=0.09985810684504949)\n"
     ]
    },
    {
     "data": {
      "text/html": [
       "<div>\n",
       "<table border=\"1\" class=\"dataframe\">\n",
       "  <thead>\n",
       "    <tr style=\"text-align: right;\">\n",
       "      <th></th>\n",
       "      <th>p-value</th>\n",
       "      <th>RDN-B</th>\n",
       "    </tr>\n",
       "  </thead>\n",
       "  <tbody>\n",
       "    <tr>\n",
       "      <th>0</th>\n",
       "      <td>transferRDN-B Ref</td>\n",
       "      <td>0.259</td>\n",
       "    </tr>\n",
       "    <tr>\n",
       "      <th>1</th>\n",
       "      <td>transferRDN-B</td>\n",
       "      <td>0.100</td>\n",
       "    </tr>\n",
       "  </tbody>\n",
       "</table>\n",
       "</div>"
      ],
      "text/plain": [
       "             p-value  RDN-B\n",
       "0  transferRDN-B Ref  0.259\n",
       "1      transferRDN-B  0.100"
      ]
     },
     "metadata": {},
     "output_type": "display_data"
    },
    {
     "name": "stdout",
     "output_type": "stream",
     "text": [
      "\n",
      "\n",
      "Scratch: [-0.369803 -0.253562 -0.342259 -0.260129 -0.422218]\n",
      "Transfer: [-0.258413 -0.262487 -0.259232 -0.258596 -0.257775]\n",
      "Transfer & Revision: [-0.290311 -0.253562 -0.26875  -0.26129  -0.439475]\n"
     ]
    },
    {
     "data": {
      "text/markdown": [
       "## Recall"
      ],
      "text/plain": [
       "<IPython.core.display.Markdown object>"
      ]
     },
     "metadata": {},
     "output_type": "display_data"
    },
    {
     "name": "stdout",
     "output_type": "stream",
     "text": [
      "T-test for experiment 1\n",
      "Ttest_relResult(statistic=1.0, pvalue=0.373900966300059)\n",
      "Ttest_relResult(statistic=1.0, pvalue=0.373900966300059)\n"
     ]
    },
    {
     "data": {
      "text/html": [
       "<div>\n",
       "<table border=\"1\" class=\"dataframe\">\n",
       "  <thead>\n",
       "    <tr style=\"text-align: right;\">\n",
       "      <th></th>\n",
       "      <th>p-value</th>\n",
       "      <th>RDN-B</th>\n",
       "    </tr>\n",
       "  </thead>\n",
       "  <tbody>\n",
       "    <tr>\n",
       "      <th>0</th>\n",
       "      <td>transferRDN-B Ref</td>\n",
       "      <td>0.374</td>\n",
       "    </tr>\n",
       "    <tr>\n",
       "      <th>1</th>\n",
       "      <td>transferRDN-B</td>\n",
       "      <td>0.374</td>\n",
       "    </tr>\n",
       "  </tbody>\n",
       "</table>\n",
       "</div>"
      ],
      "text/plain": [
       "             p-value  RDN-B\n",
       "0  transferRDN-B Ref  0.374\n",
       "1      transferRDN-B  0.374"
      ]
     },
     "metadata": {},
     "output_type": "display_data"
    },
    {
     "name": "stdout",
     "output_type": "stream",
     "text": [
      "\n",
      "\n",
      "Scratch: [1.       1.       1.       1.       0.815625]\n",
      "Transfer: [1. 1. 1. 1. 1.]\n",
      "Transfer & Revision: [1.       1.       1.       1.       0.835938]\n"
     ]
    },
    {
     "data": {
      "text/markdown": [
       "## F1"
      ],
      "text/plain": [
       "<IPython.core.display.Markdown object>"
      ]
     },
     "metadata": {},
     "output_type": "display_data"
    },
    {
     "name": "stdout",
     "output_type": "stream",
     "text": [
      "T-test for experiment 1\n",
      "Ttest_relResult(statistic=2.3344620855929765, pvalue=0.07986088995251518)\n",
      "Ttest_relResult(statistic=1.49417337368883, pvalue=0.2094369676068718)\n"
     ]
    },
    {
     "data": {
      "text/html": [
       "<div>\n",
       "<table border=\"1\" class=\"dataframe\">\n",
       "  <thead>\n",
       "    <tr style=\"text-align: right;\">\n",
       "      <th></th>\n",
       "      <th>p-value</th>\n",
       "      <th>RDN-B</th>\n",
       "    </tr>\n",
       "  </thead>\n",
       "  <tbody>\n",
       "    <tr>\n",
       "      <th>0</th>\n",
       "      <td>transferRDN-B Ref</td>\n",
       "      <td>0.080</td>\n",
       "    </tr>\n",
       "    <tr>\n",
       "      <th>1</th>\n",
       "      <td>transferRDN-B</td>\n",
       "      <td>0.209</td>\n",
       "    </tr>\n",
       "  </tbody>\n",
       "</table>\n",
       "</div>"
      ],
      "text/plain": [
       "             p-value  RDN-B\n",
       "0  transferRDN-B Ref  0.080\n",
       "1      transferRDN-B  0.209"
      ]
     },
     "metadata": {},
     "output_type": "display_data"
    },
    {
     "name": "stdout",
     "output_type": "stream",
     "text": [
      "\n",
      "\n",
      "Scratch: [0.954114 0.971831 0.949713 0.970326 0.874372]\n",
      "Transfer: [0.974152 0.971831 0.967789 0.970326 0.972644]\n",
      "Transfer & Revision: [0.974152 0.971831 0.967789 0.970326 0.886495]\n"
     ]
    },
    {
     "data": {
      "text/markdown": [
       "## Precision"
      ],
      "text/plain": [
       "<IPython.core.display.Markdown object>"
      ]
     },
     "metadata": {},
     "output_type": "display_data"
    },
    {
     "name": "stdout",
     "output_type": "stream",
     "text": [
      "\n",
      "\n",
      "Scratch: [0.912254 0.945205 0.904241 0.942363 0.942238]\n",
      "Transfer: [0.949606 0.945205 0.937589 0.942363 0.946746]\n",
      "Transfer & Revision: [0.949606 0.945205 0.937589 0.942363 0.943563]\n"
     ]
    },
    {
     "data": {
      "text/markdown": [
       "## Learning and Revision time"
      ],
      "text/plain": [
       "<IPython.core.display.Markdown object>"
      ]
     },
     "metadata": {},
     "output_type": "display_data"
    },
    {
     "name": "stdout",
     "output_type": "stream",
     "text": [
      "\n",
      "\n",
      "Scratch: [ 8.27   5.321  8.626 12.     7.924]\n",
      "Transfer: [3.514 4.358 3.782 5.732 6.082]\n",
      "Transfer & Revision: [11.264  9.18  12.406 15.841 16.679]\n"
     ]
    },
    {
     "data": {
      "text/markdown": [
       "## Inference time"
      ],
      "text/plain": [
       "<IPython.core.display.Markdown object>"
      ]
     },
     "metadata": {},
     "output_type": "display_data"
    },
    {
     "name": "stdout",
     "output_type": "stream",
     "text": [
      "\n",
      "\n",
      "Scratch: [3.28  1.864 1.771 2.871 2.091]\n",
      "Transfer: [3.514 4.358 3.782 5.732 6.082]\n",
      "Transfer & Revision: [20.551  2.038 23.697  3.518  2.94 ]\n"
     ]
    },
    {
     "data": {
      "text/markdown": [
       "# Results for 14_uwcse_cora"
      ],
      "text/plain": [
       "<IPython.core.display.Markdown object>"
      ]
     },
     "metadata": {},
     "output_type": "display_data"
    },
    {
     "data": {
      "text/markdown": [
       "## AUC ROC"
      ],
      "text/plain": [
       "<IPython.core.display.Markdown object>"
      ]
     },
     "metadata": {},
     "output_type": "display_data"
    },
    {
     "name": "stdout",
     "output_type": "stream",
     "text": [
      "T-test for experiment 1\n",
      "Ttest_relResult(statistic=-0.5365880431012329, pvalue=0.6200053956566662)\n",
      "Ttest_relResult(statistic=-6.434116228378403, pvalue=0.003001265017763418)\n"
     ]
    },
    {
     "data": {
      "text/html": [
       "<div>\n",
       "<table border=\"1\" class=\"dataframe\">\n",
       "  <thead>\n",
       "    <tr style=\"text-align: right;\">\n",
       "      <th></th>\n",
       "      <th>p-value</th>\n",
       "      <th>RDN-B</th>\n",
       "    </tr>\n",
       "  </thead>\n",
       "  <tbody>\n",
       "    <tr>\n",
       "      <th>0</th>\n",
       "      <td>transferRDN-B Ref</td>\n",
       "      <td>0.620</td>\n",
       "    </tr>\n",
       "    <tr>\n",
       "      <th>1</th>\n",
       "      <td>transferRDN-B</td>\n",
       "      <td>0.003</td>\n",
       "    </tr>\n",
       "  </tbody>\n",
       "</table>\n",
       "</div>"
      ],
      "text/plain": [
       "             p-value  RDN-B\n",
       "0  transferRDN-B Ref  0.620\n",
       "1      transferRDN-B  0.003"
      ]
     },
     "metadata": {},
     "output_type": "display_data"
    },
    {
     "name": "stdout",
     "output_type": "stream",
     "text": [
      "\n",
      "\n",
      "Scratch: [0.722334 0.704446 0.925275 0.744299 0.744173]\n",
      "Transfer: [0.507833 0.506085 0.502315 0.506316 0.505038]\n",
      "Transfer & Revision: [0.724151 0.707144 0.898625 0.747111 0.74772 ]\n"
     ]
    },
    {
     "data": {
      "text/markdown": [
       "## AUC PR"
      ],
      "text/plain": [
       "<IPython.core.display.Markdown object>"
      ]
     },
     "metadata": {},
     "output_type": "display_data"
    },
    {
     "name": "stdout",
     "output_type": "stream",
     "text": [
      "T-test for experiment 1\n",
      "Ttest_relResult(statistic=-0.9227052703112972, pvalue=0.4083801172875044)\n",
      "Ttest_relResult(statistic=-6.493413481488847, pvalue=0.002900898763192382)\n"
     ]
    },
    {
     "data": {
      "text/html": [
       "<div>\n",
       "<table border=\"1\" class=\"dataframe\">\n",
       "  <thead>\n",
       "    <tr style=\"text-align: right;\">\n",
       "      <th></th>\n",
       "      <th>p-value</th>\n",
       "      <th>RDN-B</th>\n",
       "    </tr>\n",
       "  </thead>\n",
       "  <tbody>\n",
       "    <tr>\n",
       "      <th>0</th>\n",
       "      <td>transferRDN-B Ref</td>\n",
       "      <td>0.408</td>\n",
       "    </tr>\n",
       "    <tr>\n",
       "      <th>1</th>\n",
       "      <td>transferRDN-B</td>\n",
       "      <td>0.003</td>\n",
       "    </tr>\n",
       "  </tbody>\n",
       "</table>\n",
       "</div>"
      ],
      "text/plain": [
       "             p-value  RDN-B\n",
       "0  transferRDN-B Ref  0.408\n",
       "1      transferRDN-B  0.003"
      ]
     },
     "metadata": {},
     "output_type": "display_data"
    },
    {
     "name": "stdout",
     "output_type": "stream",
     "text": [
      "\n",
      "\n",
      "Scratch: [0.770556 0.731652 0.951591 0.7632   0.774614]\n",
      "Transfer: [0.587076 0.533971 0.576355 0.54817  0.580576]\n",
      "Transfer & Revision: [0.771462 0.733037 0.864866 0.764606 0.776362]\n"
     ]
    },
    {
     "data": {
      "text/markdown": [
       "## CLL"
      ],
      "text/plain": [
       "<IPython.core.display.Markdown object>"
      ]
     },
     "metadata": {},
     "output_type": "display_data"
    },
    {
     "name": "stdout",
     "output_type": "stream",
     "text": [
      "T-test for experiment 1\n",
      "Ttest_relResult(statistic=-0.8184195522378521, pvalue=0.45907058230476083)\n",
      "Ttest_relResult(statistic=-2.61412642901131, pvalue=0.05916298806249495)\n"
     ]
    },
    {
     "data": {
      "text/html": [
       "<div>\n",
       "<table border=\"1\" class=\"dataframe\">\n",
       "  <thead>\n",
       "    <tr style=\"text-align: right;\">\n",
       "      <th></th>\n",
       "      <th>p-value</th>\n",
       "      <th>RDN-B</th>\n",
       "    </tr>\n",
       "  </thead>\n",
       "  <tbody>\n",
       "    <tr>\n",
       "      <th>0</th>\n",
       "      <td>transferRDN-B Ref</td>\n",
       "      <td>0.459</td>\n",
       "    </tr>\n",
       "    <tr>\n",
       "      <th>1</th>\n",
       "      <td>transferRDN-B</td>\n",
       "      <td>0.059</td>\n",
       "    </tr>\n",
       "  </tbody>\n",
       "</table>\n",
       "</div>"
      ],
      "text/plain": [
       "             p-value  RDN-B\n",
       "0  transferRDN-B Ref  0.459\n",
       "1      transferRDN-B  0.059"
      ]
     },
     "metadata": {},
     "output_type": "display_data"
    },
    {
     "name": "stdout",
     "output_type": "stream",
     "text": [
      "\n",
      "\n",
      "Scratch: [-0.599766 -0.689576 -0.364998 -0.57459  -0.625131]\n",
      "Transfer: [-0.702218 -0.735476 -0.699681 -0.693416 -0.696929]\n",
      "Transfer & Revision: [-0.598223 -0.664351 -0.507019 -0.583563 -0.623312]\n"
     ]
    },
    {
     "data": {
      "text/markdown": [
       "## Recall"
      ],
      "text/plain": [
       "<IPython.core.display.Markdown object>"
      ]
     },
     "metadata": {},
     "output_type": "display_data"
    },
    {
     "name": "stdout",
     "output_type": "stream",
     "text": [
      "T-test for experiment 1\n",
      "Ttest_relResult(statistic=-1.584572845255108, pvalue=0.18824013343239232)\n",
      "Ttest_relResult(statistic=-1.6393426248739105, pvalue=0.1764850259566966)\n"
     ]
    },
    {
     "data": {
      "text/html": [
       "<div>\n",
       "<table border=\"1\" class=\"dataframe\">\n",
       "  <thead>\n",
       "    <tr style=\"text-align: right;\">\n",
       "      <th></th>\n",
       "      <th>p-value</th>\n",
       "      <th>RDN-B</th>\n",
       "    </tr>\n",
       "  </thead>\n",
       "  <tbody>\n",
       "    <tr>\n",
       "      <th>0</th>\n",
       "      <td>transferRDN-B Ref</td>\n",
       "      <td>0.188</td>\n",
       "    </tr>\n",
       "    <tr>\n",
       "      <th>1</th>\n",
       "      <td>transferRDN-B</td>\n",
       "      <td>0.176</td>\n",
       "    </tr>\n",
       "  </tbody>\n",
       "</table>\n",
       "</div>"
      ],
      "text/plain": [
       "             p-value  RDN-B\n",
       "0  transferRDN-B Ref  0.188\n",
       "1      transferRDN-B  0.176"
      ]
     },
     "metadata": {},
     "output_type": "display_data"
    },
    {
     "name": "stdout",
     "output_type": "stream",
     "text": [
      "\n",
      "\n",
      "Scratch: [0.363806 0.910394 0.924786 0.943761 0.365809]\n",
      "Transfer: [0. 1. 0. 1. 0.]\n",
      "Transfer & Revision: [0.360075 0.910394 0.924786 0.943761 0.360294]\n"
     ]
    },
    {
     "data": {
      "text/markdown": [
       "## F1"
      ],
      "text/plain": [
       "<IPython.core.display.Markdown object>"
      ]
     },
     "metadata": {},
     "output_type": "display_data"
    },
    {
     "name": "stdout",
     "output_type": "stream",
     "text": [
      "T-test for experiment 1\n",
      "Ttest_relResult(statistic=-1.0286505923317326, pvalue=0.361776063378928)\n",
      "Ttest_relResult(statistic=nan, pvalue=nan)\n"
     ]
    },
    {
     "data": {
      "text/html": [
       "<div>\n",
       "<table border=\"1\" class=\"dataframe\">\n",
       "  <thead>\n",
       "    <tr style=\"text-align: right;\">\n",
       "      <th></th>\n",
       "      <th>p-value</th>\n",
       "      <th>RDN-B</th>\n",
       "    </tr>\n",
       "  </thead>\n",
       "  <tbody>\n",
       "    <tr>\n",
       "      <th>0</th>\n",
       "      <td>transferRDN-B Ref</td>\n",
       "      <td>0.362</td>\n",
       "    </tr>\n",
       "    <tr>\n",
       "      <th>1</th>\n",
       "      <td>transferRDN-B</td>\n",
       "      <td>nan</td>\n",
       "    </tr>\n",
       "  </tbody>\n",
       "</table>\n",
       "</div>"
      ],
      "text/plain": [
       "             p-value  RDN-B\n",
       "0  transferRDN-B Ref  0.362\n",
       "1      transferRDN-B    nan"
      ]
     },
     "metadata": {},
     "output_type": "display_data"
    },
    {
     "name": "stdout",
     "output_type": "stream",
     "text": [
      "\n",
      "\n",
      "Scratch: [0.511811 0.727794 0.94087  0.763869 0.510256]\n",
      "Transfer: [     nan 0.696195      nan 0.708152      nan]\n",
      "Transfer & Revision: [0.508564 0.729885 0.767376 0.766049 0.505155]\n"
     ]
    },
    {
     "data": {
      "text/markdown": [
       "## Precision"
      ],
      "text/plain": [
       "<IPython.core.display.Markdown object>"
      ]
     },
     "metadata": {},
     "output_type": "display_data"
    },
    {
     "name": "stdout",
     "output_type": "stream",
     "text": [
      "\n",
      "\n",
      "Scratch: [0.862832 0.606205 0.957522 0.641577 0.84322 ]\n",
      "Transfer: [     nan 0.533971      nan 0.54817       nan]\n",
      "Transfer & Revision: [0.865471 0.609113 0.655758 0.644658 0.844828]\n"
     ]
    },
    {
     "data": {
      "text/markdown": [
       "## Learning and Revision time"
      ],
      "text/plain": [
       "<IPython.core.display.Markdown object>"
      ]
     },
     "metadata": {},
     "output_type": "display_data"
    },
    {
     "name": "stdout",
     "output_type": "stream",
     "text": [
      "\n",
      "\n",
      "Scratch: [16.034 24.13  98.924  7.82  13.152]\n",
      "Transfer: [10.048 11.046  7.393  4.377  6.85 ]\n",
      "Transfer & Revision: [ 92.023 387.173  67.017  73.319  22.666]\n"
     ]
    },
    {
     "data": {
      "text/markdown": [
       "## Inference time"
      ],
      "text/plain": [
       "<IPython.core.display.Markdown object>"
      ]
     },
     "metadata": {},
     "output_type": "display_data"
    },
    {
     "name": "stdout",
     "output_type": "stream",
     "text": [
      "\n",
      "\n",
      "Scratch: [ 2.454  2.005 18.183  1.409  2.108]\n",
      "Transfer: [10.048 11.046  7.393  4.377  6.85 ]\n",
      "Transfer & Revision: [116.855 137.032  11.001 144.      4.475]\n"
     ]
    },
    {
     "data": {
      "text/markdown": [
       "# Results for 15_yeast_twitter"
      ],
      "text/plain": [
       "<IPython.core.display.Markdown object>"
      ]
     },
     "metadata": {},
     "output_type": "display_data"
    },
    {
     "data": {
      "text/markdown": [
       "## AUC ROC"
      ],
      "text/plain": [
       "<IPython.core.display.Markdown object>"
      ]
     },
     "metadata": {},
     "output_type": "display_data"
    },
    {
     "name": "stdout",
     "output_type": "stream",
     "text": [
      "T-test for experiment 1\n",
      "Ttest_relResult(statistic=-0.9268543028469577, pvalue=0.5241552505068416)\n",
      "Ttest_relResult(statistic=-3.131891746692628, pvalue=0.19675629182621873)\n"
     ]
    },
    {
     "data": {
      "text/html": [
       "<div>\n",
       "<table border=\"1\" class=\"dataframe\">\n",
       "  <thead>\n",
       "    <tr style=\"text-align: right;\">\n",
       "      <th></th>\n",
       "      <th>p-value</th>\n",
       "      <th>RDN-B</th>\n",
       "    </tr>\n",
       "  </thead>\n",
       "  <tbody>\n",
       "    <tr>\n",
       "      <th>0</th>\n",
       "      <td>transferRDN-B Ref</td>\n",
       "      <td>0.524</td>\n",
       "    </tr>\n",
       "    <tr>\n",
       "      <th>1</th>\n",
       "      <td>transferRDN-B</td>\n",
       "      <td>0.197</td>\n",
       "    </tr>\n",
       "  </tbody>\n",
       "</table>\n",
       "</div>"
      ],
      "text/plain": [
       "             p-value  RDN-B\n",
       "0  transferRDN-B Ref  0.524\n",
       "1      transferRDN-B  0.197"
      ]
     },
     "metadata": {},
     "output_type": "display_data"
    },
    {
     "name": "stdout",
     "output_type": "stream",
     "text": [
      "\n",
      "\n",
      "Scratch: [0.793845 0.731387]\n",
      "Transfer: [0.701553 0.683768]\n",
      "Transfer & Revision: [0.758177 0.732741]\n"
     ]
    },
    {
     "data": {
      "text/markdown": [
       "## AUC PR"
      ],
      "text/plain": [
       "<IPython.core.display.Markdown object>"
      ]
     },
     "metadata": {},
     "output_type": "display_data"
    },
    {
     "name": "stdout",
     "output_type": "stream",
     "text": [
      "T-test for experiment 1\n",
      "Ttest_relResult(statistic=-0.8431806446854003, pvalue=0.5540340153968504)\n",
      "Ttest_relResult(statistic=-2.975779346646985, pvalue=0.20638598230562955)\n"
     ]
    },
    {
     "data": {
      "text/html": [
       "<div>\n",
       "<table border=\"1\" class=\"dataframe\">\n",
       "  <thead>\n",
       "    <tr style=\"text-align: right;\">\n",
       "      <th></th>\n",
       "      <th>p-value</th>\n",
       "      <th>RDN-B</th>\n",
       "    </tr>\n",
       "  </thead>\n",
       "  <tbody>\n",
       "    <tr>\n",
       "      <th>0</th>\n",
       "      <td>transferRDN-B Ref</td>\n",
       "      <td>0.554</td>\n",
       "    </tr>\n",
       "    <tr>\n",
       "      <th>1</th>\n",
       "      <td>transferRDN-B</td>\n",
       "      <td>0.206</td>\n",
       "    </tr>\n",
       "  </tbody>\n",
       "</table>\n",
       "</div>"
      ],
      "text/plain": [
       "             p-value  RDN-B\n",
       "0  transferRDN-B Ref  0.554\n",
       "1      transferRDN-B  0.206"
      ]
     },
     "metadata": {},
     "output_type": "display_data"
    },
    {
     "name": "stdout",
     "output_type": "stream",
     "text": [
      "\n",
      "\n",
      "Scratch: [0.782611 0.691665]\n",
      "Transfer: [0.670826 0.636113]\n",
      "Transfer & Revision: [0.720141 0.69698 ]\n"
     ]
    },
    {
     "data": {
      "text/markdown": [
       "## CLL"
      ],
      "text/plain": [
       "<IPython.core.display.Markdown object>"
      ]
     },
     "metadata": {},
     "output_type": "display_data"
    },
    {
     "name": "stdout",
     "output_type": "stream",
     "text": [
      "T-test for experiment 1\n",
      "Ttest_relResult(statistic=-1.7889394469723414, pvalue=0.3244974649517089)\n",
      "Ttest_relResult(statistic=-5.22878917489695, pvalue=0.12030014295448987)\n"
     ]
    },
    {
     "data": {
      "text/html": [
       "<div>\n",
       "<table border=\"1\" class=\"dataframe\">\n",
       "  <thead>\n",
       "    <tr style=\"text-align: right;\">\n",
       "      <th></th>\n",
       "      <th>p-value</th>\n",
       "      <th>RDN-B</th>\n",
       "    </tr>\n",
       "  </thead>\n",
       "  <tbody>\n",
       "    <tr>\n",
       "      <th>0</th>\n",
       "      <td>transferRDN-B Ref</td>\n",
       "      <td>0.324</td>\n",
       "    </tr>\n",
       "    <tr>\n",
       "      <th>1</th>\n",
       "      <td>transferRDN-B</td>\n",
       "      <td>0.120</td>\n",
       "    </tr>\n",
       "  </tbody>\n",
       "</table>\n",
       "</div>"
      ],
      "text/plain": [
       "             p-value  RDN-B\n",
       "0  transferRDN-B Ref  0.324\n",
       "1      transferRDN-B  0.120"
      ]
     },
     "metadata": {},
     "output_type": "display_data"
    },
    {
     "name": "stdout",
     "output_type": "stream",
     "text": [
      "\n",
      "\n",
      "Scratch: [-0.558721 -0.593373]\n",
      "Transfer: [-0.638817 -0.647751]\n",
      "Transfer & Revision: [-0.582625 -0.600135]\n"
     ]
    },
    {
     "data": {
      "text/markdown": [
       "## Recall"
      ],
      "text/plain": [
       "<IPython.core.display.Markdown object>"
      ]
     },
     "metadata": {},
     "output_type": "display_data"
    },
    {
     "name": "stdout",
     "output_type": "stream",
     "text": [
      "T-test for experiment 1\n",
      "Ttest_relResult(statistic=26.99235807860349, pvalue=0.023574404006056475)\n",
      "Ttest_relResult(statistic=-2.6592559038717423, pvalue=0.22898357415746173)\n"
     ]
    },
    {
     "data": {
      "text/html": [
       "<div>\n",
       "<table border=\"1\" class=\"dataframe\">\n",
       "  <thead>\n",
       "    <tr style=\"text-align: right;\">\n",
       "      <th></th>\n",
       "      <th>p-value</th>\n",
       "      <th>RDN-B</th>\n",
       "    </tr>\n",
       "  </thead>\n",
       "  <tbody>\n",
       "    <tr>\n",
       "      <th>0</th>\n",
       "      <td>transferRDN-B Ref</td>\n",
       "      <td>0.024</td>\n",
       "    </tr>\n",
       "    <tr>\n",
       "      <th>1</th>\n",
       "      <td>transferRDN-B</td>\n",
       "      <td>0.229</td>\n",
       "    </tr>\n",
       "  </tbody>\n",
       "</table>\n",
       "</div>"
      ],
      "text/plain": [
       "             p-value  RDN-B\n",
       "0  transferRDN-B Ref  0.024\n",
       "1      transferRDN-B  0.229"
      ]
     },
     "metadata": {},
     "output_type": "display_data"
    },
    {
     "name": "stdout",
     "output_type": "stream",
     "text": [
      "\n",
      "\n",
      "Scratch: [0.685897 0.84127 ]\n",
      "Transfer: [0.480769 0.388889]\n",
      "Transfer & Revision: [0.711538 0.865079]\n"
     ]
    },
    {
     "data": {
      "text/markdown": [
       "## F1"
      ],
      "text/plain": [
       "<IPython.core.display.Markdown object>"
      ]
     },
     "metadata": {},
     "output_type": "display_data"
    },
    {
     "name": "stdout",
     "output_type": "stream",
     "text": [
      "T-test for experiment 1\n",
      "Ttest_relResult(statistic=-0.10286229240870166, pvalue=0.9347453306702234)\n",
      "Ttest_relResult(statistic=-4.537649709474684, pvalue=0.13808996569067272)\n"
     ]
    },
    {
     "data": {
      "text/html": [
       "<div>\n",
       "<table border=\"1\" class=\"dataframe\">\n",
       "  <thead>\n",
       "    <tr style=\"text-align: right;\">\n",
       "      <th></th>\n",
       "      <th>p-value</th>\n",
       "      <th>RDN-B</th>\n",
       "    </tr>\n",
       "  </thead>\n",
       "  <tbody>\n",
       "    <tr>\n",
       "      <th>0</th>\n",
       "      <td>transferRDN-B Ref</td>\n",
       "      <td>0.935</td>\n",
       "    </tr>\n",
       "    <tr>\n",
       "      <th>1</th>\n",
       "      <td>transferRDN-B</td>\n",
       "      <td>0.138</td>\n",
       "    </tr>\n",
       "  </tbody>\n",
       "</table>\n",
       "</div>"
      ],
      "text/plain": [
       "             p-value  RDN-B\n",
       "0  transferRDN-B Ref  0.935\n",
       "1      transferRDN-B  0.138"
      ]
     },
     "metadata": {},
     "output_type": "display_data"
    },
    {
     "name": "stdout",
     "output_type": "stream",
     "text": [
      "\n",
      "\n",
      "Scratch: [0.710963 0.718644]\n",
      "Transfer: [0.561798 0.485149]\n",
      "Transfer & Revision: [0.698113 0.729097]\n"
     ]
    },
    {
     "data": {
      "text/markdown": [
       "## Precision"
      ],
      "text/plain": [
       "<IPython.core.display.Markdown object>"
      ]
     },
     "metadata": {},
     "output_type": "display_data"
    },
    {
     "name": "stdout",
     "output_type": "stream",
     "text": [
      "\n",
      "\n",
      "Scratch: [0.737931 0.627219]\n",
      "Transfer: [0.675676 0.644737]\n",
      "Transfer & Revision: [0.685185 0.630058]\n"
     ]
    },
    {
     "data": {
      "text/markdown": [
       "## Learning and Revision time"
      ],
      "text/plain": [
       "<IPython.core.display.Markdown object>"
      ]
     },
     "metadata": {},
     "output_type": "display_data"
    },
    {
     "name": "stdout",
     "output_type": "stream",
     "text": [
      "\n",
      "\n",
      "Scratch: [39.885 33.278]\n",
      "Transfer: [16.105 11.893]\n",
      "Transfer & Revision: [45.507 39.109]\n"
     ]
    },
    {
     "data": {
      "text/markdown": [
       "## Inference time"
      ],
      "text/plain": [
       "<IPython.core.display.Markdown object>"
      ]
     },
     "metadata": {},
     "output_type": "display_data"
    },
    {
     "name": "stdout",
     "output_type": "stream",
     "text": [
      "\n",
      "\n",
      "Scratch: [0.987 0.806]\n",
      "Transfer: [16.105 11.893]\n",
      "Transfer & Revision: [1.386 1.02 ]\n"
     ]
    },
    {
     "data": {
      "text/markdown": [
       "# Results for 16_yeast_twitter"
      ],
      "text/plain": [
       "<IPython.core.display.Markdown object>"
      ]
     },
     "metadata": {},
     "output_type": "display_data"
    },
    {
     "data": {
      "text/markdown": [
       "## AUC ROC"
      ],
      "text/plain": [
       "<IPython.core.display.Markdown object>"
      ]
     },
     "metadata": {},
     "output_type": "display_data"
    },
    {
     "name": "stdout",
     "output_type": "stream",
     "text": [
      "T-test for experiment 1\n",
      "Ttest_relResult(statistic=1.0, pvalue=0.49999999999999956)\n",
      "Ttest_relResult(statistic=3.715246033880039, pvalue=0.1673863367771245)\n"
     ]
    },
    {
     "data": {
      "text/html": [
       "<div>\n",
       "<table border=\"1\" class=\"dataframe\">\n",
       "  <thead>\n",
       "    <tr style=\"text-align: right;\">\n",
       "      <th></th>\n",
       "      <th>p-value</th>\n",
       "      <th>RDN-B</th>\n",
       "    </tr>\n",
       "  </thead>\n",
       "  <tbody>\n",
       "    <tr>\n",
       "      <th>0</th>\n",
       "      <td>transferRDN-B Ref</td>\n",
       "      <td>0.500</td>\n",
       "    </tr>\n",
       "    <tr>\n",
       "      <th>1</th>\n",
       "      <td>transferRDN-B</td>\n",
       "      <td>0.167</td>\n",
       "    </tr>\n",
       "  </tbody>\n",
       "</table>\n",
       "</div>"
      ],
      "text/plain": [
       "             p-value  RDN-B\n",
       "0  transferRDN-B Ref  0.500\n",
       "1      transferRDN-B  0.167"
      ]
     },
     "metadata": {},
     "output_type": "display_data"
    },
    {
     "name": "stdout",
     "output_type": "stream",
     "text": [
      "\n",
      "\n",
      "Scratch: [0.727468 0.692724]\n",
      "Transfer: [0.732517 0.701492]\n",
      "Transfer & Revision: [0.727468 0.693504]\n"
     ]
    },
    {
     "data": {
      "text/markdown": [
       "## AUC PR"
      ],
      "text/plain": [
       "<IPython.core.display.Markdown object>"
      ]
     },
     "metadata": {},
     "output_type": "display_data"
    },
    {
     "name": "stdout",
     "output_type": "stream",
     "text": [
      "T-test for experiment 1\n",
      "Ttest_relResult(statistic=1.0, pvalue=0.49999999999999956)\n",
      "Ttest_relResult(statistic=1.1515552331783083, pvalue=0.4552305447334345)\n"
     ]
    },
    {
     "data": {
      "text/html": [
       "<div>\n",
       "<table border=\"1\" class=\"dataframe\">\n",
       "  <thead>\n",
       "    <tr style=\"text-align: right;\">\n",
       "      <th></th>\n",
       "      <th>p-value</th>\n",
       "      <th>RDN-B</th>\n",
       "    </tr>\n",
       "  </thead>\n",
       "  <tbody>\n",
       "    <tr>\n",
       "      <th>0</th>\n",
       "      <td>transferRDN-B Ref</td>\n",
       "      <td>0.500</td>\n",
       "    </tr>\n",
       "    <tr>\n",
       "      <th>1</th>\n",
       "      <td>transferRDN-B</td>\n",
       "      <td>0.455</td>\n",
       "    </tr>\n",
       "  </tbody>\n",
       "</table>\n",
       "</div>"
      ],
      "text/plain": [
       "             p-value  RDN-B\n",
       "0  transferRDN-B Ref  0.500\n",
       "1      transferRDN-B  0.455"
      ]
     },
     "metadata": {},
     "output_type": "display_data"
    },
    {
     "name": "stdout",
     "output_type": "stream",
     "text": [
      "\n",
      "\n",
      "Scratch: [0.695837 0.660425]\n",
      "Transfer: [0.697613 0.685638]\n",
      "Transfer & Revision: [0.695837 0.662559]\n"
     ]
    },
    {
     "data": {
      "text/markdown": [
       "## CLL"
      ],
      "text/plain": [
       "<IPython.core.display.Markdown object>"
      ]
     },
     "metadata": {},
     "output_type": "display_data"
    },
    {
     "name": "stdout",
     "output_type": "stream",
     "text": [
      "T-test for experiment 1\n",
      "Ttest_relResult(statistic=0.51112646855563, pvalue=0.6991913567033277)\n",
      "Ttest_relResult(statistic=0.22465654374547858, pvalue=0.8593149806023673)\n"
     ]
    },
    {
     "data": {
      "text/html": [
       "<div>\n",
       "<table border=\"1\" class=\"dataframe\">\n",
       "  <thead>\n",
       "    <tr style=\"text-align: right;\">\n",
       "      <th></th>\n",
       "      <th>p-value</th>\n",
       "      <th>RDN-B</th>\n",
       "    </tr>\n",
       "  </thead>\n",
       "  <tbody>\n",
       "    <tr>\n",
       "      <th>0</th>\n",
       "      <td>transferRDN-B Ref</td>\n",
       "      <td>0.699</td>\n",
       "    </tr>\n",
       "    <tr>\n",
       "      <th>1</th>\n",
       "      <td>transferRDN-B</td>\n",
       "      <td>0.859</td>\n",
       "    </tr>\n",
       "  </tbody>\n",
       "</table>\n",
       "</div>"
      ],
      "text/plain": [
       "             p-value  RDN-B\n",
       "0  transferRDN-B Ref  0.699\n",
       "1      transferRDN-B  0.859"
      ]
     },
     "metadata": {},
     "output_type": "display_data"
    },
    {
     "name": "stdout",
     "output_type": "stream",
     "text": [
      "\n",
      "\n",
      "Scratch: [-0.607391 -0.646203]\n",
      "Transfer: [-0.618114 -0.629266]\n",
      "Transfer & Revision: [-0.610928 -0.63527 ]\n"
     ]
    },
    {
     "data": {
      "text/markdown": [
       "## Recall"
      ],
      "text/plain": [
       "<IPython.core.display.Markdown object>"
      ]
     },
     "metadata": {},
     "output_type": "display_data"
    },
    {
     "name": "stdout",
     "output_type": "stream",
     "text": [
      "T-test for experiment 1\n",
      "Ttest_relResult(statistic=-1.0, pvalue=0.49999999999999956)\n",
      "Ttest_relResult(statistic=-1.0, pvalue=0.49999999999999956)\n"
     ]
    },
    {
     "data": {
      "text/html": [
       "<div>\n",
       "<table border=\"1\" class=\"dataframe\">\n",
       "  <thead>\n",
       "    <tr style=\"text-align: right;\">\n",
       "      <th></th>\n",
       "      <th>p-value</th>\n",
       "      <th>RDN-B</th>\n",
       "    </tr>\n",
       "  </thead>\n",
       "  <tbody>\n",
       "    <tr>\n",
       "      <th>0</th>\n",
       "      <td>transferRDN-B Ref</td>\n",
       "      <td>0.500</td>\n",
       "    </tr>\n",
       "    <tr>\n",
       "      <th>1</th>\n",
       "      <td>transferRDN-B</td>\n",
       "      <td>0.500</td>\n",
       "    </tr>\n",
       "  </tbody>\n",
       "</table>\n",
       "</div>"
      ],
      "text/plain": [
       "             p-value  RDN-B\n",
       "0  transferRDN-B Ref  0.500\n",
       "1      transferRDN-B  0.500"
      ]
     },
     "metadata": {},
     "output_type": "display_data"
    },
    {
     "name": "stdout",
     "output_type": "stream",
     "text": [
      "\n",
      "\n",
      "Scratch: [0.529661 0.498718]\n",
      "Transfer: [0.529661 0.496154]\n",
      "Transfer & Revision: [0.529661 0.496154]\n"
     ]
    },
    {
     "data": {
      "text/markdown": [
       "## F1"
      ],
      "text/plain": [
       "<IPython.core.display.Markdown object>"
      ]
     },
     "metadata": {},
     "output_type": "display_data"
    },
    {
     "name": "stdout",
     "output_type": "stream",
     "text": [
      "T-test for experiment 1\n",
      "Ttest_relResult(statistic=-1.0, pvalue=0.49999999999999956)\n",
      "Ttest_relResult(statistic=-1.0, pvalue=0.49999999999999956)\n"
     ]
    },
    {
     "data": {
      "text/html": [
       "<div>\n",
       "<table border=\"1\" class=\"dataframe\">\n",
       "  <thead>\n",
       "    <tr style=\"text-align: right;\">\n",
       "      <th></th>\n",
       "      <th>p-value</th>\n",
       "      <th>RDN-B</th>\n",
       "    </tr>\n",
       "  </thead>\n",
       "  <tbody>\n",
       "    <tr>\n",
       "      <th>0</th>\n",
       "      <td>transferRDN-B Ref</td>\n",
       "      <td>0.500</td>\n",
       "    </tr>\n",
       "    <tr>\n",
       "      <th>1</th>\n",
       "      <td>transferRDN-B</td>\n",
       "      <td>0.500</td>\n",
       "    </tr>\n",
       "  </tbody>\n",
       "</table>\n",
       "</div>"
      ],
      "text/plain": [
       "             p-value  RDN-B\n",
       "0  transferRDN-B Ref  0.500\n",
       "1      transferRDN-B  0.500"
      ]
     },
     "metadata": {},
     "output_type": "display_data"
    },
    {
     "name": "stdout",
     "output_type": "stream",
     "text": [
      "\n",
      "\n",
      "Scratch: [0.627615 0.596626]\n",
      "Transfer: [0.627615 0.595385]\n",
      "Transfer & Revision: [0.627615 0.595385]\n"
     ]
    },
    {
     "data": {
      "text/markdown": [
       "## Precision"
      ],
      "text/plain": [
       "<IPython.core.display.Markdown object>"
      ]
     },
     "metadata": {},
     "output_type": "display_data"
    },
    {
     "name": "stdout",
     "output_type": "stream",
     "text": [
      "\n",
      "\n",
      "Scratch: [0.770021 0.742366]\n",
      "Transfer: [0.770021 0.744231]\n",
      "Transfer & Revision: [0.770021 0.744231]\n"
     ]
    },
    {
     "data": {
      "text/markdown": [
       "## Learning and Revision time"
      ],
      "text/plain": [
       "<IPython.core.display.Markdown object>"
      ]
     },
     "metadata": {},
     "output_type": "display_data"
    },
    {
     "name": "stdout",
     "output_type": "stream",
     "text": [
      "\n",
      "\n",
      "Scratch: [44.106 49.213]\n",
      "Transfer: [31.514 25.802]\n",
      "Transfer & Revision: [56.378 56.344]\n"
     ]
    },
    {
     "data": {
      "text/markdown": [
       "## Inference time"
      ],
      "text/plain": [
       "<IPython.core.display.Markdown object>"
      ]
     },
     "metadata": {},
     "output_type": "display_data"
    },
    {
     "name": "stdout",
     "output_type": "stream",
     "text": [
      "\n",
      "\n",
      "Scratch: [1.012 1.155]\n",
      "Transfer: [31.514 25.802]\n",
      "Transfer & Revision: [1.315 1.161]\n"
     ]
    },
    {
     "data": {
      "text/markdown": [
       "# Results for 17_yeast_twitter"
      ],
      "text/plain": [
       "<IPython.core.display.Markdown object>"
      ]
     },
     "metadata": {},
     "output_type": "display_data"
    },
    {
     "data": {
      "text/markdown": [
       "## AUC ROC"
      ],
      "text/plain": [
       "<IPython.core.display.Markdown object>"
      ]
     },
     "metadata": {},
     "output_type": "display_data"
    },
    {
     "name": "stdout",
     "output_type": "stream",
     "text": [
      "T-test for experiment 1\n",
      "Ttest_relResult(statistic=nan, pvalue=nan)\n",
      "Ttest_relResult(statistic=nan, pvalue=nan)\n"
     ]
    },
    {
     "data": {
      "text/html": [
       "<div>\n",
       "<table border=\"1\" class=\"dataframe\">\n",
       "  <thead>\n",
       "    <tr style=\"text-align: right;\">\n",
       "      <th></th>\n",
       "      <th>p-value</th>\n",
       "      <th>RDN-B</th>\n",
       "    </tr>\n",
       "  </thead>\n",
       "  <tbody>\n",
       "    <tr>\n",
       "      <th>0</th>\n",
       "      <td>transferRDN-B Ref</td>\n",
       "      <td>nan</td>\n",
       "    </tr>\n",
       "    <tr>\n",
       "      <th>1</th>\n",
       "      <td>transferRDN-B</td>\n",
       "      <td>nan</td>\n",
       "    </tr>\n",
       "  </tbody>\n",
       "</table>\n",
       "</div>"
      ],
      "text/plain": [
       "             p-value RDN-B\n",
       "0  transferRDN-B Ref   nan\n",
       "1      transferRDN-B   nan"
      ]
     },
     "metadata": {},
     "output_type": "display_data"
    },
    {
     "name": "stdout",
     "output_type": "stream",
     "text": [
      "\n",
      "\n",
      "Scratch: [0.5 0.5]\n",
      "Transfer: [0.5 0.5]\n",
      "Transfer & Revision: [0.5 0.5]\n"
     ]
    },
    {
     "data": {
      "text/markdown": [
       "## AUC PR"
      ],
      "text/plain": [
       "<IPython.core.display.Markdown object>"
      ]
     },
     "metadata": {},
     "output_type": "display_data"
    },
    {
     "name": "stdout",
     "output_type": "stream",
     "text": [
      "T-test for experiment 1\n",
      "Ttest_relResult(statistic=nan, pvalue=nan)\n",
      "Ttest_relResult(statistic=nan, pvalue=nan)\n"
     ]
    },
    {
     "data": {
      "text/html": [
       "<div>\n",
       "<table border=\"1\" class=\"dataframe\">\n",
       "  <thead>\n",
       "    <tr style=\"text-align: right;\">\n",
       "      <th></th>\n",
       "      <th>p-value</th>\n",
       "      <th>RDN-B</th>\n",
       "    </tr>\n",
       "  </thead>\n",
       "  <tbody>\n",
       "    <tr>\n",
       "      <th>0</th>\n",
       "      <td>transferRDN-B Ref</td>\n",
       "      <td>nan</td>\n",
       "    </tr>\n",
       "    <tr>\n",
       "      <th>1</th>\n",
       "      <td>transferRDN-B</td>\n",
       "      <td>nan</td>\n",
       "    </tr>\n",
       "  </tbody>\n",
       "</table>\n",
       "</div>"
      ],
      "text/plain": [
       "             p-value RDN-B\n",
       "0  transferRDN-B Ref   nan\n",
       "1      transferRDN-B   nan"
      ]
     },
     "metadata": {},
     "output_type": "display_data"
    },
    {
     "name": "stdout",
     "output_type": "stream",
     "text": [
      "\n",
      "\n",
      "Scratch: [0.5 0.5]\n",
      "Transfer: [0.5 0.5]\n",
      "Transfer & Revision: [0.5 0.5]\n"
     ]
    },
    {
     "data": {
      "text/markdown": [
       "## CLL"
      ],
      "text/plain": [
       "<IPython.core.display.Markdown object>"
      ]
     },
     "metadata": {},
     "output_type": "display_data"
    },
    {
     "name": "stdout",
     "output_type": "stream",
     "text": [
      "T-test for experiment 1\n",
      "Ttest_relResult(statistic=-1.0, pvalue=0.49999999999999956)\n",
      "Ttest_relResult(statistic=-1.0, pvalue=0.49999999999999956)\n"
     ]
    },
    {
     "data": {
      "text/html": [
       "<div>\n",
       "<table border=\"1\" class=\"dataframe\">\n",
       "  <thead>\n",
       "    <tr style=\"text-align: right;\">\n",
       "      <th></th>\n",
       "      <th>p-value</th>\n",
       "      <th>RDN-B</th>\n",
       "    </tr>\n",
       "  </thead>\n",
       "  <tbody>\n",
       "    <tr>\n",
       "      <th>0</th>\n",
       "      <td>transferRDN-B Ref</td>\n",
       "      <td>0.500</td>\n",
       "    </tr>\n",
       "    <tr>\n",
       "      <th>1</th>\n",
       "      <td>transferRDN-B</td>\n",
       "      <td>0.500</td>\n",
       "    </tr>\n",
       "  </tbody>\n",
       "</table>\n",
       "</div>"
      ],
      "text/plain": [
       "             p-value  RDN-B\n",
       "0  transferRDN-B Ref  0.500\n",
       "1      transferRDN-B  0.500"
      ]
     },
     "metadata": {},
     "output_type": "display_data"
    },
    {
     "name": "stdout",
     "output_type": "stream",
     "text": [
      "\n",
      "\n",
      "Scratch: [-0.695026 -0.695026]\n",
      "Transfer: [-0.695579 -0.695026]\n",
      "Transfer & Revision: [-0.695579 -0.695026]\n"
     ]
    },
    {
     "data": {
      "text/markdown": [
       "## Recall"
      ],
      "text/plain": [
       "<IPython.core.display.Markdown object>"
      ]
     },
     "metadata": {},
     "output_type": "display_data"
    },
    {
     "name": "stdout",
     "output_type": "stream",
     "text": [
      "T-test for experiment 1\n",
      "Ttest_relResult(statistic=nan, pvalue=nan)\n",
      "Ttest_relResult(statistic=nan, pvalue=nan)\n"
     ]
    },
    {
     "data": {
      "text/html": [
       "<div>\n",
       "<table border=\"1\" class=\"dataframe\">\n",
       "  <thead>\n",
       "    <tr style=\"text-align: right;\">\n",
       "      <th></th>\n",
       "      <th>p-value</th>\n",
       "      <th>RDN-B</th>\n",
       "    </tr>\n",
       "  </thead>\n",
       "  <tbody>\n",
       "    <tr>\n",
       "      <th>0</th>\n",
       "      <td>transferRDN-B Ref</td>\n",
       "      <td>nan</td>\n",
       "    </tr>\n",
       "    <tr>\n",
       "      <th>1</th>\n",
       "      <td>transferRDN-B</td>\n",
       "      <td>nan</td>\n",
       "    </tr>\n",
       "  </tbody>\n",
       "</table>\n",
       "</div>"
      ],
      "text/plain": [
       "             p-value RDN-B\n",
       "0  transferRDN-B Ref   nan\n",
       "1      transferRDN-B   nan"
      ]
     },
     "metadata": {},
     "output_type": "display_data"
    },
    {
     "name": "stdout",
     "output_type": "stream",
     "text": [
      "\n",
      "\n",
      "Scratch: [0. 0.]\n",
      "Transfer: [0. 0.]\n",
      "Transfer & Revision: [0. 0.]\n"
     ]
    },
    {
     "data": {
      "text/markdown": [
       "## F1"
      ],
      "text/plain": [
       "<IPython.core.display.Markdown object>"
      ]
     },
     "metadata": {},
     "output_type": "display_data"
    },
    {
     "name": "stdout",
     "output_type": "stream",
     "text": [
      "T-test for experiment 1\n",
      "Ttest_relResult(statistic=nan, pvalue=nan)\n",
      "Ttest_relResult(statistic=nan, pvalue=nan)\n"
     ]
    },
    {
     "data": {
      "text/html": [
       "<div>\n",
       "<table border=\"1\" class=\"dataframe\">\n",
       "  <thead>\n",
       "    <tr style=\"text-align: right;\">\n",
       "      <th></th>\n",
       "      <th>p-value</th>\n",
       "      <th>RDN-B</th>\n",
       "    </tr>\n",
       "  </thead>\n",
       "  <tbody>\n",
       "    <tr>\n",
       "      <th>0</th>\n",
       "      <td>transferRDN-B Ref</td>\n",
       "      <td>nan</td>\n",
       "    </tr>\n",
       "    <tr>\n",
       "      <th>1</th>\n",
       "      <td>transferRDN-B</td>\n",
       "      <td>nan</td>\n",
       "    </tr>\n",
       "  </tbody>\n",
       "</table>\n",
       "</div>"
      ],
      "text/plain": [
       "             p-value RDN-B\n",
       "0  transferRDN-B Ref   nan\n",
       "1      transferRDN-B   nan"
      ]
     },
     "metadata": {},
     "output_type": "display_data"
    },
    {
     "name": "stdout",
     "output_type": "stream",
     "text": [
      "\n",
      "\n",
      "Scratch: [nan nan]\n",
      "Transfer: [nan nan]\n",
      "Transfer & Revision: [nan nan]\n"
     ]
    },
    {
     "data": {
      "text/markdown": [
       "## Precision"
      ],
      "text/plain": [
       "<IPython.core.display.Markdown object>"
      ]
     },
     "metadata": {},
     "output_type": "display_data"
    },
    {
     "name": "stdout",
     "output_type": "stream",
     "text": [
      "\n",
      "\n",
      "Scratch: [nan nan]\n",
      "Transfer: [nan nan]\n",
      "Transfer & Revision: [nan nan]\n"
     ]
    },
    {
     "data": {
      "text/markdown": [
       "## Learning and Revision time"
      ],
      "text/plain": [
       "<IPython.core.display.Markdown object>"
      ]
     },
     "metadata": {},
     "output_type": "display_data"
    },
    {
     "name": "stdout",
     "output_type": "stream",
     "text": [
      "\n",
      "\n",
      "Scratch: [177.264 207.928]\n",
      "Transfer: [102.478 160.578]\n",
      "Transfer & Revision: [215.811 337.36 ]\n"
     ]
    },
    {
     "data": {
      "text/markdown": [
       "## Inference time"
      ],
      "text/plain": [
       "<IPython.core.display.Markdown object>"
      ]
     },
     "metadata": {},
     "output_type": "display_data"
    },
    {
     "name": "stdout",
     "output_type": "stream",
     "text": [
      "\n",
      "\n",
      "Scratch: [1.171 1.519]\n",
      "Transfer: [102.478 160.578]\n",
      "Transfer & Revision: [1.351 1.261]\n"
     ]
    },
    {
     "data": {
      "text/markdown": [
       "# Results for 18_yeast_twitter"
      ],
      "text/plain": [
       "<IPython.core.display.Markdown object>"
      ]
     },
     "metadata": {},
     "output_type": "display_data"
    },
    {
     "data": {
      "text/markdown": [
       "## AUC ROC"
      ],
      "text/plain": [
       "<IPython.core.display.Markdown object>"
      ]
     },
     "metadata": {},
     "output_type": "display_data"
    },
    {
     "name": "stdout",
     "output_type": "stream",
     "text": [
      "T-test for experiment 1\n",
      "Ttest_relResult(statistic=nan, pvalue=nan)\n",
      "Ttest_relResult(statistic=nan, pvalue=nan)\n"
     ]
    },
    {
     "data": {
      "text/html": [
       "<div>\n",
       "<table border=\"1\" class=\"dataframe\">\n",
       "  <thead>\n",
       "    <tr style=\"text-align: right;\">\n",
       "      <th></th>\n",
       "      <th>p-value</th>\n",
       "      <th>RDN-B</th>\n",
       "    </tr>\n",
       "  </thead>\n",
       "  <tbody>\n",
       "    <tr>\n",
       "      <th>0</th>\n",
       "      <td>transferRDN-B Ref</td>\n",
       "      <td>nan</td>\n",
       "    </tr>\n",
       "    <tr>\n",
       "      <th>1</th>\n",
       "      <td>transferRDN-B</td>\n",
       "      <td>nan</td>\n",
       "    </tr>\n",
       "  </tbody>\n",
       "</table>\n",
       "</div>"
      ],
      "text/plain": [
       "             p-value RDN-B\n",
       "0  transferRDN-B Ref   nan\n",
       "1      transferRDN-B   nan"
      ]
     },
     "metadata": {},
     "output_type": "display_data"
    },
    {
     "name": "stdout",
     "output_type": "stream",
     "text": [
      "\n",
      "\n",
      "Scratch: [0.5 0.5]\n",
      "Transfer: [0.5 0.5]\n",
      "Transfer & Revision: [0.5 0.5]\n"
     ]
    },
    {
     "data": {
      "text/markdown": [
       "## AUC PR"
      ],
      "text/plain": [
       "<IPython.core.display.Markdown object>"
      ]
     },
     "metadata": {},
     "output_type": "display_data"
    },
    {
     "name": "stdout",
     "output_type": "stream",
     "text": [
      "T-test for experiment 1\n",
      "Ttest_relResult(statistic=nan, pvalue=nan)\n",
      "Ttest_relResult(statistic=nan, pvalue=nan)\n"
     ]
    },
    {
     "data": {
      "text/html": [
       "<div>\n",
       "<table border=\"1\" class=\"dataframe\">\n",
       "  <thead>\n",
       "    <tr style=\"text-align: right;\">\n",
       "      <th></th>\n",
       "      <th>p-value</th>\n",
       "      <th>RDN-B</th>\n",
       "    </tr>\n",
       "  </thead>\n",
       "  <tbody>\n",
       "    <tr>\n",
       "      <th>0</th>\n",
       "      <td>transferRDN-B Ref</td>\n",
       "      <td>nan</td>\n",
       "    </tr>\n",
       "    <tr>\n",
       "      <th>1</th>\n",
       "      <td>transferRDN-B</td>\n",
       "      <td>nan</td>\n",
       "    </tr>\n",
       "  </tbody>\n",
       "</table>\n",
       "</div>"
      ],
      "text/plain": [
       "             p-value RDN-B\n",
       "0  transferRDN-B Ref   nan\n",
       "1      transferRDN-B   nan"
      ]
     },
     "metadata": {},
     "output_type": "display_data"
    },
    {
     "name": "stdout",
     "output_type": "stream",
     "text": [
      "\n",
      "\n",
      "Scratch: [0.5 0.5]\n",
      "Transfer: [0.5 0.5]\n",
      "Transfer & Revision: [0.5 0.5]\n"
     ]
    },
    {
     "data": {
      "text/markdown": [
       "## CLL"
      ],
      "text/plain": [
       "<IPython.core.display.Markdown object>"
      ]
     },
     "metadata": {},
     "output_type": "display_data"
    },
    {
     "name": "stdout",
     "output_type": "stream",
     "text": [
      "T-test for experiment 1\n",
      "Ttest_relResult(statistic=-1.0, pvalue=0.49999999999999956)\n",
      "Ttest_relResult(statistic=-1.0, pvalue=0.49999999999999956)\n"
     ]
    },
    {
     "data": {
      "text/html": [
       "<div>\n",
       "<table border=\"1\" class=\"dataframe\">\n",
       "  <thead>\n",
       "    <tr style=\"text-align: right;\">\n",
       "      <th></th>\n",
       "      <th>p-value</th>\n",
       "      <th>RDN-B</th>\n",
       "    </tr>\n",
       "  </thead>\n",
       "  <tbody>\n",
       "    <tr>\n",
       "      <th>0</th>\n",
       "      <td>transferRDN-B Ref</td>\n",
       "      <td>0.500</td>\n",
       "    </tr>\n",
       "    <tr>\n",
       "      <th>1</th>\n",
       "      <td>transferRDN-B</td>\n",
       "      <td>0.500</td>\n",
       "    </tr>\n",
       "  </tbody>\n",
       "</table>\n",
       "</div>"
      ],
      "text/plain": [
       "             p-value  RDN-B\n",
       "0  transferRDN-B Ref  0.500\n",
       "1      transferRDN-B  0.500"
      ]
     },
     "metadata": {},
     "output_type": "display_data"
    },
    {
     "name": "stdout",
     "output_type": "stream",
     "text": [
      "\n",
      "\n",
      "Scratch: [-0.695026 -0.695026]\n",
      "Transfer: [-0.695325 -0.695026]\n",
      "Transfer & Revision: [-0.695325 -0.695026]\n"
     ]
    },
    {
     "data": {
      "text/markdown": [
       "## Recall"
      ],
      "text/plain": [
       "<IPython.core.display.Markdown object>"
      ]
     },
     "metadata": {},
     "output_type": "display_data"
    },
    {
     "name": "stdout",
     "output_type": "stream",
     "text": [
      "T-test for experiment 1\n",
      "Ttest_relResult(statistic=nan, pvalue=nan)\n",
      "Ttest_relResult(statistic=nan, pvalue=nan)\n"
     ]
    },
    {
     "data": {
      "text/html": [
       "<div>\n",
       "<table border=\"1\" class=\"dataframe\">\n",
       "  <thead>\n",
       "    <tr style=\"text-align: right;\">\n",
       "      <th></th>\n",
       "      <th>p-value</th>\n",
       "      <th>RDN-B</th>\n",
       "    </tr>\n",
       "  </thead>\n",
       "  <tbody>\n",
       "    <tr>\n",
       "      <th>0</th>\n",
       "      <td>transferRDN-B Ref</td>\n",
       "      <td>nan</td>\n",
       "    </tr>\n",
       "    <tr>\n",
       "      <th>1</th>\n",
       "      <td>transferRDN-B</td>\n",
       "      <td>nan</td>\n",
       "    </tr>\n",
       "  </tbody>\n",
       "</table>\n",
       "</div>"
      ],
      "text/plain": [
       "             p-value RDN-B\n",
       "0  transferRDN-B Ref   nan\n",
       "1      transferRDN-B   nan"
      ]
     },
     "metadata": {},
     "output_type": "display_data"
    },
    {
     "name": "stdout",
     "output_type": "stream",
     "text": [
      "\n",
      "\n",
      "Scratch: [0. 0.]\n",
      "Transfer: [0. 0.]\n",
      "Transfer & Revision: [0. 0.]\n"
     ]
    },
    {
     "data": {
      "text/markdown": [
       "## F1"
      ],
      "text/plain": [
       "<IPython.core.display.Markdown object>"
      ]
     },
     "metadata": {},
     "output_type": "display_data"
    },
    {
     "name": "stdout",
     "output_type": "stream",
     "text": [
      "T-test for experiment 1\n",
      "Ttest_relResult(statistic=nan, pvalue=nan)\n",
      "Ttest_relResult(statistic=nan, pvalue=nan)\n"
     ]
    },
    {
     "data": {
      "text/html": [
       "<div>\n",
       "<table border=\"1\" class=\"dataframe\">\n",
       "  <thead>\n",
       "    <tr style=\"text-align: right;\">\n",
       "      <th></th>\n",
       "      <th>p-value</th>\n",
       "      <th>RDN-B</th>\n",
       "    </tr>\n",
       "  </thead>\n",
       "  <tbody>\n",
       "    <tr>\n",
       "      <th>0</th>\n",
       "      <td>transferRDN-B Ref</td>\n",
       "      <td>nan</td>\n",
       "    </tr>\n",
       "    <tr>\n",
       "      <th>1</th>\n",
       "      <td>transferRDN-B</td>\n",
       "      <td>nan</td>\n",
       "    </tr>\n",
       "  </tbody>\n",
       "</table>\n",
       "</div>"
      ],
      "text/plain": [
       "             p-value RDN-B\n",
       "0  transferRDN-B Ref   nan\n",
       "1      transferRDN-B   nan"
      ]
     },
     "metadata": {},
     "output_type": "display_data"
    },
    {
     "name": "stdout",
     "output_type": "stream",
     "text": [
      "\n",
      "\n",
      "Scratch: [nan nan]\n",
      "Transfer: [nan nan]\n",
      "Transfer & Revision: [nan nan]\n"
     ]
    },
    {
     "data": {
      "text/markdown": [
       "## Precision"
      ],
      "text/plain": [
       "<IPython.core.display.Markdown object>"
      ]
     },
     "metadata": {},
     "output_type": "display_data"
    },
    {
     "name": "stdout",
     "output_type": "stream",
     "text": [
      "\n",
      "\n",
      "Scratch: [nan nan]\n",
      "Transfer: [nan nan]\n",
      "Transfer & Revision: [nan nan]\n"
     ]
    },
    {
     "data": {
      "text/markdown": [
       "## Learning and Revision time"
      ],
      "text/plain": [
       "<IPython.core.display.Markdown object>"
      ]
     },
     "metadata": {},
     "output_type": "display_data"
    },
    {
     "name": "stdout",
     "output_type": "stream",
     "text": [
      "\n",
      "\n",
      "Scratch: [177.842 217.463]\n",
      "Transfer: [104.705 164.796]\n",
      "Transfer & Revision: [215.592 262.114]\n"
     ]
    },
    {
     "data": {
      "text/markdown": [
       "## Inference time"
      ],
      "text/plain": [
       "<IPython.core.display.Markdown object>"
      ]
     },
     "metadata": {},
     "output_type": "display_data"
    },
    {
     "name": "stdout",
     "output_type": "stream",
     "text": [
      "\n",
      "\n",
      "Scratch: [1.312 1.046]\n",
      "Transfer: [104.705 164.796]\n",
      "Transfer & Revision: [1.307 1.506]\n"
     ]
    },
    {
     "data": {
      "text/markdown": [
       "# Results for 19_yeast_twitter"
      ],
      "text/plain": [
       "<IPython.core.display.Markdown object>"
      ]
     },
     "metadata": {},
     "output_type": "display_data"
    },
    {
     "data": {
      "text/markdown": [
       "## AUC ROC"
      ],
      "text/plain": [
       "<IPython.core.display.Markdown object>"
      ]
     },
     "metadata": {},
     "output_type": "display_data"
    },
    {
     "name": "stdout",
     "output_type": "stream",
     "text": [
      "T-test for experiment 1\n",
      "Ttest_relResult(statistic=nan, pvalue=nan)\n",
      "Ttest_relResult(statistic=nan, pvalue=nan)\n"
     ]
    },
    {
     "data": {
      "text/html": [
       "<div>\n",
       "<table border=\"1\" class=\"dataframe\">\n",
       "  <thead>\n",
       "    <tr style=\"text-align: right;\">\n",
       "      <th></th>\n",
       "      <th>p-value</th>\n",
       "      <th>RDN-B</th>\n",
       "    </tr>\n",
       "  </thead>\n",
       "  <tbody>\n",
       "    <tr>\n",
       "      <th>0</th>\n",
       "      <td>transferRDN-B Ref</td>\n",
       "      <td>nan</td>\n",
       "    </tr>\n",
       "    <tr>\n",
       "      <th>1</th>\n",
       "      <td>transferRDN-B</td>\n",
       "      <td>nan</td>\n",
       "    </tr>\n",
       "  </tbody>\n",
       "</table>\n",
       "</div>"
      ],
      "text/plain": [
       "             p-value RDN-B\n",
       "0  transferRDN-B Ref   nan\n",
       "1      transferRDN-B   nan"
      ]
     },
     "metadata": {},
     "output_type": "display_data"
    },
    {
     "name": "stdout",
     "output_type": "stream",
     "text": [
      "\n",
      "\n",
      "Scratch: [0.5 0.5]\n",
      "Transfer: [0.5 0.5]\n",
      "Transfer & Revision: [0.5 0.5]\n"
     ]
    },
    {
     "data": {
      "text/markdown": [
       "## AUC PR"
      ],
      "text/plain": [
       "<IPython.core.display.Markdown object>"
      ]
     },
     "metadata": {},
     "output_type": "display_data"
    },
    {
     "name": "stdout",
     "output_type": "stream",
     "text": [
      "T-test for experiment 1\n",
      "Ttest_relResult(statistic=nan, pvalue=nan)\n",
      "Ttest_relResult(statistic=nan, pvalue=nan)\n"
     ]
    },
    {
     "data": {
      "text/html": [
       "<div>\n",
       "<table border=\"1\" class=\"dataframe\">\n",
       "  <thead>\n",
       "    <tr style=\"text-align: right;\">\n",
       "      <th></th>\n",
       "      <th>p-value</th>\n",
       "      <th>RDN-B</th>\n",
       "    </tr>\n",
       "  </thead>\n",
       "  <tbody>\n",
       "    <tr>\n",
       "      <th>0</th>\n",
       "      <td>transferRDN-B Ref</td>\n",
       "      <td>nan</td>\n",
       "    </tr>\n",
       "    <tr>\n",
       "      <th>1</th>\n",
       "      <td>transferRDN-B</td>\n",
       "      <td>nan</td>\n",
       "    </tr>\n",
       "  </tbody>\n",
       "</table>\n",
       "</div>"
      ],
      "text/plain": [
       "             p-value RDN-B\n",
       "0  transferRDN-B Ref   nan\n",
       "1      transferRDN-B   nan"
      ]
     },
     "metadata": {},
     "output_type": "display_data"
    },
    {
     "name": "stdout",
     "output_type": "stream",
     "text": [
      "\n",
      "\n",
      "Scratch: [0.5 0.5]\n",
      "Transfer: [0.5 0.5]\n",
      "Transfer & Revision: [0.5 0.5]\n"
     ]
    },
    {
     "data": {
      "text/markdown": [
       "## CLL"
      ],
      "text/plain": [
       "<IPython.core.display.Markdown object>"
      ]
     },
     "metadata": {},
     "output_type": "display_data"
    },
    {
     "name": "stdout",
     "output_type": "stream",
     "text": [
      "T-test for experiment 1\n",
      "Ttest_relResult(statistic=nan, pvalue=nan)\n",
      "Ttest_relResult(statistic=nan, pvalue=nan)\n"
     ]
    },
    {
     "data": {
      "text/html": [
       "<div>\n",
       "<table border=\"1\" class=\"dataframe\">\n",
       "  <thead>\n",
       "    <tr style=\"text-align: right;\">\n",
       "      <th></th>\n",
       "      <th>p-value</th>\n",
       "      <th>RDN-B</th>\n",
       "    </tr>\n",
       "  </thead>\n",
       "  <tbody>\n",
       "    <tr>\n",
       "      <th>0</th>\n",
       "      <td>transferRDN-B Ref</td>\n",
       "      <td>nan</td>\n",
       "    </tr>\n",
       "    <tr>\n",
       "      <th>1</th>\n",
       "      <td>transferRDN-B</td>\n",
       "      <td>nan</td>\n",
       "    </tr>\n",
       "  </tbody>\n",
       "</table>\n",
       "</div>"
      ],
      "text/plain": [
       "             p-value RDN-B\n",
       "0  transferRDN-B Ref   nan\n",
       "1      transferRDN-B   nan"
      ]
     },
     "metadata": {},
     "output_type": "display_data"
    },
    {
     "name": "stdout",
     "output_type": "stream",
     "text": [
      "\n",
      "\n",
      "Scratch: [-0.695026 -0.695026]\n",
      "Transfer: [-0.695026 -0.695026]\n",
      "Transfer & Revision: [-0.695026 -0.695026]\n"
     ]
    },
    {
     "data": {
      "text/markdown": [
       "## Recall"
      ],
      "text/plain": [
       "<IPython.core.display.Markdown object>"
      ]
     },
     "metadata": {},
     "output_type": "display_data"
    },
    {
     "name": "stdout",
     "output_type": "stream",
     "text": [
      "T-test for experiment 1\n",
      "Ttest_relResult(statistic=nan, pvalue=nan)\n",
      "Ttest_relResult(statistic=nan, pvalue=nan)\n"
     ]
    },
    {
     "data": {
      "text/html": [
       "<div>\n",
       "<table border=\"1\" class=\"dataframe\">\n",
       "  <thead>\n",
       "    <tr style=\"text-align: right;\">\n",
       "      <th></th>\n",
       "      <th>p-value</th>\n",
       "      <th>RDN-B</th>\n",
       "    </tr>\n",
       "  </thead>\n",
       "  <tbody>\n",
       "    <tr>\n",
       "      <th>0</th>\n",
       "      <td>transferRDN-B Ref</td>\n",
       "      <td>nan</td>\n",
       "    </tr>\n",
       "    <tr>\n",
       "      <th>1</th>\n",
       "      <td>transferRDN-B</td>\n",
       "      <td>nan</td>\n",
       "    </tr>\n",
       "  </tbody>\n",
       "</table>\n",
       "</div>"
      ],
      "text/plain": [
       "             p-value RDN-B\n",
       "0  transferRDN-B Ref   nan\n",
       "1      transferRDN-B   nan"
      ]
     },
     "metadata": {},
     "output_type": "display_data"
    },
    {
     "name": "stdout",
     "output_type": "stream",
     "text": [
      "\n",
      "\n",
      "Scratch: [0. 0.]\n",
      "Transfer: [0. 0.]\n",
      "Transfer & Revision: [0. 0.]\n"
     ]
    },
    {
     "data": {
      "text/markdown": [
       "## F1"
      ],
      "text/plain": [
       "<IPython.core.display.Markdown object>"
      ]
     },
     "metadata": {},
     "output_type": "display_data"
    },
    {
     "name": "stdout",
     "output_type": "stream",
     "text": [
      "T-test for experiment 1\n",
      "Ttest_relResult(statistic=nan, pvalue=nan)\n",
      "Ttest_relResult(statistic=nan, pvalue=nan)\n"
     ]
    },
    {
     "data": {
      "text/html": [
       "<div>\n",
       "<table border=\"1\" class=\"dataframe\">\n",
       "  <thead>\n",
       "    <tr style=\"text-align: right;\">\n",
       "      <th></th>\n",
       "      <th>p-value</th>\n",
       "      <th>RDN-B</th>\n",
       "    </tr>\n",
       "  </thead>\n",
       "  <tbody>\n",
       "    <tr>\n",
       "      <th>0</th>\n",
       "      <td>transferRDN-B Ref</td>\n",
       "      <td>nan</td>\n",
       "    </tr>\n",
       "    <tr>\n",
       "      <th>1</th>\n",
       "      <td>transferRDN-B</td>\n",
       "      <td>nan</td>\n",
       "    </tr>\n",
       "  </tbody>\n",
       "</table>\n",
       "</div>"
      ],
      "text/plain": [
       "             p-value RDN-B\n",
       "0  transferRDN-B Ref   nan\n",
       "1      transferRDN-B   nan"
      ]
     },
     "metadata": {},
     "output_type": "display_data"
    },
    {
     "name": "stdout",
     "output_type": "stream",
     "text": [
      "\n",
      "\n",
      "Scratch: [nan nan]\n",
      "Transfer: [nan nan]\n",
      "Transfer & Revision: [nan nan]\n"
     ]
    },
    {
     "data": {
      "text/markdown": [
       "## Precision"
      ],
      "text/plain": [
       "<IPython.core.display.Markdown object>"
      ]
     },
     "metadata": {},
     "output_type": "display_data"
    },
    {
     "name": "stdout",
     "output_type": "stream",
     "text": [
      "\n",
      "\n",
      "Scratch: [nan nan]\n",
      "Transfer: [nan nan]\n",
      "Transfer & Revision: [nan nan]\n"
     ]
    },
    {
     "data": {
      "text/markdown": [
       "## Learning and Revision time"
      ],
      "text/plain": [
       "<IPython.core.display.Markdown object>"
      ]
     },
     "metadata": {},
     "output_type": "display_data"
    },
    {
     "name": "stdout",
     "output_type": "stream",
     "text": [
      "\n",
      "\n",
      "Scratch: [182.517 232.702]\n",
      "Transfer: [101.609  94.632]\n",
      "Transfer & Revision: [223.168 269.967]\n"
     ]
    },
    {
     "data": {
      "text/markdown": [
       "## Inference time"
      ],
      "text/plain": [
       "<IPython.core.display.Markdown object>"
      ]
     },
     "metadata": {},
     "output_type": "display_data"
    },
    {
     "name": "stdout",
     "output_type": "stream",
     "text": [
      "\n",
      "\n",
      "Scratch: [1.107 1.272]\n",
      "Transfer: [101.609  94.632]\n",
      "Transfer & Revision: [1.065 1.183]\n"
     ]
    },
    {
     "data": {
      "text/markdown": [
       "# Results for 20_yeast_twitter"
      ],
      "text/plain": [
       "<IPython.core.display.Markdown object>"
      ]
     },
     "metadata": {},
     "output_type": "display_data"
    },
    {
     "data": {
      "text/markdown": [
       "## AUC ROC"
      ],
      "text/plain": [
       "<IPython.core.display.Markdown object>"
      ]
     },
     "metadata": {},
     "output_type": "display_data"
    },
    {
     "name": "stdout",
     "output_type": "stream",
     "text": [
      "T-test for experiment 1\n",
      "Ttest_relResult(statistic=nan, pvalue=nan)\n",
      "Ttest_relResult(statistic=nan, pvalue=nan)\n"
     ]
    },
    {
     "data": {
      "text/html": [
       "<div>\n",
       "<table border=\"1\" class=\"dataframe\">\n",
       "  <thead>\n",
       "    <tr style=\"text-align: right;\">\n",
       "      <th></th>\n",
       "      <th>p-value</th>\n",
       "      <th>RDN-B</th>\n",
       "    </tr>\n",
       "  </thead>\n",
       "  <tbody>\n",
       "    <tr>\n",
       "      <th>0</th>\n",
       "      <td>transferRDN-B Ref</td>\n",
       "      <td>nan</td>\n",
       "    </tr>\n",
       "    <tr>\n",
       "      <th>1</th>\n",
       "      <td>transferRDN-B</td>\n",
       "      <td>nan</td>\n",
       "    </tr>\n",
       "  </tbody>\n",
       "</table>\n",
       "</div>"
      ],
      "text/plain": [
       "             p-value RDN-B\n",
       "0  transferRDN-B Ref   nan\n",
       "1      transferRDN-B   nan"
      ]
     },
     "metadata": {},
     "output_type": "display_data"
    },
    {
     "name": "stdout",
     "output_type": "stream",
     "text": [
      "\n",
      "\n",
      "Scratch: [0.5 0.5]\n",
      "Transfer: [0.5 0.5]\n",
      "Transfer & Revision: [0.5 0.5]\n"
     ]
    },
    {
     "data": {
      "text/markdown": [
       "## AUC PR"
      ],
      "text/plain": [
       "<IPython.core.display.Markdown object>"
      ]
     },
     "metadata": {},
     "output_type": "display_data"
    },
    {
     "name": "stdout",
     "output_type": "stream",
     "text": [
      "T-test for experiment 1\n",
      "Ttest_relResult(statistic=nan, pvalue=nan)\n",
      "Ttest_relResult(statistic=nan, pvalue=nan)\n"
     ]
    },
    {
     "data": {
      "text/html": [
       "<div>\n",
       "<table border=\"1\" class=\"dataframe\">\n",
       "  <thead>\n",
       "    <tr style=\"text-align: right;\">\n",
       "      <th></th>\n",
       "      <th>p-value</th>\n",
       "      <th>RDN-B</th>\n",
       "    </tr>\n",
       "  </thead>\n",
       "  <tbody>\n",
       "    <tr>\n",
       "      <th>0</th>\n",
       "      <td>transferRDN-B Ref</td>\n",
       "      <td>nan</td>\n",
       "    </tr>\n",
       "    <tr>\n",
       "      <th>1</th>\n",
       "      <td>transferRDN-B</td>\n",
       "      <td>nan</td>\n",
       "    </tr>\n",
       "  </tbody>\n",
       "</table>\n",
       "</div>"
      ],
      "text/plain": [
       "             p-value RDN-B\n",
       "0  transferRDN-B Ref   nan\n",
       "1      transferRDN-B   nan"
      ]
     },
     "metadata": {},
     "output_type": "display_data"
    },
    {
     "name": "stdout",
     "output_type": "stream",
     "text": [
      "\n",
      "\n",
      "Scratch: [0.5 0.5]\n",
      "Transfer: [0.5 0.5]\n",
      "Transfer & Revision: [0.5 0.5]\n"
     ]
    },
    {
     "data": {
      "text/markdown": [
       "## CLL"
      ],
      "text/plain": [
       "<IPython.core.display.Markdown object>"
      ]
     },
     "metadata": {},
     "output_type": "display_data"
    },
    {
     "name": "stdout",
     "output_type": "stream",
     "text": [
      "T-test for experiment 1\n",
      "Ttest_relResult(statistic=nan, pvalue=nan)\n",
      "Ttest_relResult(statistic=nan, pvalue=nan)\n"
     ]
    },
    {
     "data": {
      "text/html": [
       "<div>\n",
       "<table border=\"1\" class=\"dataframe\">\n",
       "  <thead>\n",
       "    <tr style=\"text-align: right;\">\n",
       "      <th></th>\n",
       "      <th>p-value</th>\n",
       "      <th>RDN-B</th>\n",
       "    </tr>\n",
       "  </thead>\n",
       "  <tbody>\n",
       "    <tr>\n",
       "      <th>0</th>\n",
       "      <td>transferRDN-B Ref</td>\n",
       "      <td>nan</td>\n",
       "    </tr>\n",
       "    <tr>\n",
       "      <th>1</th>\n",
       "      <td>transferRDN-B</td>\n",
       "      <td>nan</td>\n",
       "    </tr>\n",
       "  </tbody>\n",
       "</table>\n",
       "</div>"
      ],
      "text/plain": [
       "             p-value RDN-B\n",
       "0  transferRDN-B Ref   nan\n",
       "1      transferRDN-B   nan"
      ]
     },
     "metadata": {},
     "output_type": "display_data"
    },
    {
     "name": "stdout",
     "output_type": "stream",
     "text": [
      "\n",
      "\n",
      "Scratch: [-0.695026 -0.695026]\n",
      "Transfer: [-0.695026 -0.695026]\n",
      "Transfer & Revision: [-0.695026 -0.695026]\n"
     ]
    },
    {
     "data": {
      "text/markdown": [
       "## Recall"
      ],
      "text/plain": [
       "<IPython.core.display.Markdown object>"
      ]
     },
     "metadata": {},
     "output_type": "display_data"
    },
    {
     "name": "stdout",
     "output_type": "stream",
     "text": [
      "T-test for experiment 1\n",
      "Ttest_relResult(statistic=nan, pvalue=nan)\n",
      "Ttest_relResult(statistic=nan, pvalue=nan)\n"
     ]
    },
    {
     "data": {
      "text/html": [
       "<div>\n",
       "<table border=\"1\" class=\"dataframe\">\n",
       "  <thead>\n",
       "    <tr style=\"text-align: right;\">\n",
       "      <th></th>\n",
       "      <th>p-value</th>\n",
       "      <th>RDN-B</th>\n",
       "    </tr>\n",
       "  </thead>\n",
       "  <tbody>\n",
       "    <tr>\n",
       "      <th>0</th>\n",
       "      <td>transferRDN-B Ref</td>\n",
       "      <td>nan</td>\n",
       "    </tr>\n",
       "    <tr>\n",
       "      <th>1</th>\n",
       "      <td>transferRDN-B</td>\n",
       "      <td>nan</td>\n",
       "    </tr>\n",
       "  </tbody>\n",
       "</table>\n",
       "</div>"
      ],
      "text/plain": [
       "             p-value RDN-B\n",
       "0  transferRDN-B Ref   nan\n",
       "1      transferRDN-B   nan"
      ]
     },
     "metadata": {},
     "output_type": "display_data"
    },
    {
     "name": "stdout",
     "output_type": "stream",
     "text": [
      "\n",
      "\n",
      "Scratch: [0. 0.]\n",
      "Transfer: [0. 0.]\n",
      "Transfer & Revision: [0. 0.]\n"
     ]
    },
    {
     "data": {
      "text/markdown": [
       "## F1"
      ],
      "text/plain": [
       "<IPython.core.display.Markdown object>"
      ]
     },
     "metadata": {},
     "output_type": "display_data"
    },
    {
     "name": "stdout",
     "output_type": "stream",
     "text": [
      "T-test for experiment 1\n",
      "Ttest_relResult(statistic=nan, pvalue=nan)\n",
      "Ttest_relResult(statistic=nan, pvalue=nan)\n"
     ]
    },
    {
     "data": {
      "text/html": [
       "<div>\n",
       "<table border=\"1\" class=\"dataframe\">\n",
       "  <thead>\n",
       "    <tr style=\"text-align: right;\">\n",
       "      <th></th>\n",
       "      <th>p-value</th>\n",
       "      <th>RDN-B</th>\n",
       "    </tr>\n",
       "  </thead>\n",
       "  <tbody>\n",
       "    <tr>\n",
       "      <th>0</th>\n",
       "      <td>transferRDN-B Ref</td>\n",
       "      <td>nan</td>\n",
       "    </tr>\n",
       "    <tr>\n",
       "      <th>1</th>\n",
       "      <td>transferRDN-B</td>\n",
       "      <td>nan</td>\n",
       "    </tr>\n",
       "  </tbody>\n",
       "</table>\n",
       "</div>"
      ],
      "text/plain": [
       "             p-value RDN-B\n",
       "0  transferRDN-B Ref   nan\n",
       "1      transferRDN-B   nan"
      ]
     },
     "metadata": {},
     "output_type": "display_data"
    },
    {
     "name": "stdout",
     "output_type": "stream",
     "text": [
      "\n",
      "\n",
      "Scratch: [nan nan]\n",
      "Transfer: [nan nan]\n",
      "Transfer & Revision: [nan nan]\n"
     ]
    },
    {
     "data": {
      "text/markdown": [
       "## Precision"
      ],
      "text/plain": [
       "<IPython.core.display.Markdown object>"
      ]
     },
     "metadata": {},
     "output_type": "display_data"
    },
    {
     "name": "stdout",
     "output_type": "stream",
     "text": [
      "\n",
      "\n",
      "Scratch: [nan nan]\n",
      "Transfer: [nan nan]\n",
      "Transfer & Revision: [nan nan]\n"
     ]
    },
    {
     "data": {
      "text/markdown": [
       "## Learning and Revision time"
      ],
      "text/plain": [
       "<IPython.core.display.Markdown object>"
      ]
     },
     "metadata": {},
     "output_type": "display_data"
    },
    {
     "name": "stdout",
     "output_type": "stream",
     "text": [
      "\n",
      "\n",
      "Scratch: [173.252 171.092]\n",
      "Transfer: [102.766 152.157]\n",
      "Transfer & Revision: [231.633 327.461]\n"
     ]
    },
    {
     "data": {
      "text/markdown": [
       "## Inference time"
      ],
      "text/plain": [
       "<IPython.core.display.Markdown object>"
      ]
     },
     "metadata": {},
     "output_type": "display_data"
    },
    {
     "name": "stdout",
     "output_type": "stream",
     "text": [
      "\n",
      "\n",
      "Scratch: [1.419 1.359]\n",
      "Transfer: [102.766 152.157]\n",
      "Transfer & Revision: [1.13 1.14]\n"
     ]
    },
    {
     "data": {
      "text/markdown": [
       "# Results for 21_yeast_twitter"
      ],
      "text/plain": [
       "<IPython.core.display.Markdown object>"
      ]
     },
     "metadata": {},
     "output_type": "display_data"
    },
    {
     "data": {
      "text/markdown": [
       "## AUC ROC"
      ],
      "text/plain": [
       "<IPython.core.display.Markdown object>"
      ]
     },
     "metadata": {},
     "output_type": "display_data"
    },
    {
     "name": "stdout",
     "output_type": "stream",
     "text": [
      "T-test for experiment 1\n",
      "Ttest_relResult(statistic=nan, pvalue=nan)\n",
      "Ttest_relResult(statistic=nan, pvalue=nan)\n"
     ]
    },
    {
     "data": {
      "text/html": [
       "<div>\n",
       "<table border=\"1\" class=\"dataframe\">\n",
       "  <thead>\n",
       "    <tr style=\"text-align: right;\">\n",
       "      <th></th>\n",
       "      <th>p-value</th>\n",
       "      <th>RDN-B</th>\n",
       "    </tr>\n",
       "  </thead>\n",
       "  <tbody>\n",
       "    <tr>\n",
       "      <th>0</th>\n",
       "      <td>transferRDN-B Ref</td>\n",
       "      <td>nan</td>\n",
       "    </tr>\n",
       "    <tr>\n",
       "      <th>1</th>\n",
       "      <td>transferRDN-B</td>\n",
       "      <td>nan</td>\n",
       "    </tr>\n",
       "  </tbody>\n",
       "</table>\n",
       "</div>"
      ],
      "text/plain": [
       "             p-value RDN-B\n",
       "0  transferRDN-B Ref   nan\n",
       "1      transferRDN-B   nan"
      ]
     },
     "metadata": {},
     "output_type": "display_data"
    },
    {
     "name": "stdout",
     "output_type": "stream",
     "text": [
      "\n",
      "\n",
      "Scratch: [0.5 0.5]\n",
      "Transfer: [0.5 0.5]\n",
      "Transfer & Revision: [0.5 0.5]\n"
     ]
    },
    {
     "data": {
      "text/markdown": [
       "## AUC PR"
      ],
      "text/plain": [
       "<IPython.core.display.Markdown object>"
      ]
     },
     "metadata": {},
     "output_type": "display_data"
    },
    {
     "name": "stdout",
     "output_type": "stream",
     "text": [
      "T-test for experiment 1\n",
      "Ttest_relResult(statistic=nan, pvalue=nan)\n",
      "Ttest_relResult(statistic=nan, pvalue=nan)\n"
     ]
    },
    {
     "data": {
      "text/html": [
       "<div>\n",
       "<table border=\"1\" class=\"dataframe\">\n",
       "  <thead>\n",
       "    <tr style=\"text-align: right;\">\n",
       "      <th></th>\n",
       "      <th>p-value</th>\n",
       "      <th>RDN-B</th>\n",
       "    </tr>\n",
       "  </thead>\n",
       "  <tbody>\n",
       "    <tr>\n",
       "      <th>0</th>\n",
       "      <td>transferRDN-B Ref</td>\n",
       "      <td>nan</td>\n",
       "    </tr>\n",
       "    <tr>\n",
       "      <th>1</th>\n",
       "      <td>transferRDN-B</td>\n",
       "      <td>nan</td>\n",
       "    </tr>\n",
       "  </tbody>\n",
       "</table>\n",
       "</div>"
      ],
      "text/plain": [
       "             p-value RDN-B\n",
       "0  transferRDN-B Ref   nan\n",
       "1      transferRDN-B   nan"
      ]
     },
     "metadata": {},
     "output_type": "display_data"
    },
    {
     "name": "stdout",
     "output_type": "stream",
     "text": [
      "\n",
      "\n",
      "Scratch: [0.5 0.5]\n",
      "Transfer: [0.5 0.5]\n",
      "Transfer & Revision: [0.5 0.5]\n"
     ]
    },
    {
     "data": {
      "text/markdown": [
       "## CLL"
      ],
      "text/plain": [
       "<IPython.core.display.Markdown object>"
      ]
     },
     "metadata": {},
     "output_type": "display_data"
    },
    {
     "name": "stdout",
     "output_type": "stream",
     "text": [
      "T-test for experiment 1\n",
      "Ttest_relResult(statistic=-1.0, pvalue=0.49999999999999956)\n",
      "Ttest_relResult(statistic=-1.0, pvalue=0.49999999999999956)\n"
     ]
    },
    {
     "data": {
      "text/html": [
       "<div>\n",
       "<table border=\"1\" class=\"dataframe\">\n",
       "  <thead>\n",
       "    <tr style=\"text-align: right;\">\n",
       "      <th></th>\n",
       "      <th>p-value</th>\n",
       "      <th>RDN-B</th>\n",
       "    </tr>\n",
       "  </thead>\n",
       "  <tbody>\n",
       "    <tr>\n",
       "      <th>0</th>\n",
       "      <td>transferRDN-B Ref</td>\n",
       "      <td>0.500</td>\n",
       "    </tr>\n",
       "    <tr>\n",
       "      <th>1</th>\n",
       "      <td>transferRDN-B</td>\n",
       "      <td>0.500</td>\n",
       "    </tr>\n",
       "  </tbody>\n",
       "</table>\n",
       "</div>"
      ],
      "text/plain": [
       "             p-value  RDN-B\n",
       "0  transferRDN-B Ref  0.500\n",
       "1      transferRDN-B  0.500"
      ]
     },
     "metadata": {},
     "output_type": "display_data"
    },
    {
     "name": "stdout",
     "output_type": "stream",
     "text": [
      "\n",
      "\n",
      "Scratch: [-0.695026 -0.695026]\n",
      "Transfer: [-0.695708 -0.695026]\n",
      "Transfer & Revision: [-0.695708 -0.695026]\n"
     ]
    },
    {
     "data": {
      "text/markdown": [
       "## Recall"
      ],
      "text/plain": [
       "<IPython.core.display.Markdown object>"
      ]
     },
     "metadata": {},
     "output_type": "display_data"
    },
    {
     "name": "stdout",
     "output_type": "stream",
     "text": [
      "T-test for experiment 1\n",
      "Ttest_relResult(statistic=nan, pvalue=nan)\n",
      "Ttest_relResult(statistic=nan, pvalue=nan)\n"
     ]
    },
    {
     "data": {
      "text/html": [
       "<div>\n",
       "<table border=\"1\" class=\"dataframe\">\n",
       "  <thead>\n",
       "    <tr style=\"text-align: right;\">\n",
       "      <th></th>\n",
       "      <th>p-value</th>\n",
       "      <th>RDN-B</th>\n",
       "    </tr>\n",
       "  </thead>\n",
       "  <tbody>\n",
       "    <tr>\n",
       "      <th>0</th>\n",
       "      <td>transferRDN-B Ref</td>\n",
       "      <td>nan</td>\n",
       "    </tr>\n",
       "    <tr>\n",
       "      <th>1</th>\n",
       "      <td>transferRDN-B</td>\n",
       "      <td>nan</td>\n",
       "    </tr>\n",
       "  </tbody>\n",
       "</table>\n",
       "</div>"
      ],
      "text/plain": [
       "             p-value RDN-B\n",
       "0  transferRDN-B Ref   nan\n",
       "1      transferRDN-B   nan"
      ]
     },
     "metadata": {},
     "output_type": "display_data"
    },
    {
     "name": "stdout",
     "output_type": "stream",
     "text": [
      "\n",
      "\n",
      "Scratch: [0. 0.]\n",
      "Transfer: [0. 0.]\n",
      "Transfer & Revision: [0. 0.]\n"
     ]
    },
    {
     "data": {
      "text/markdown": [
       "## F1"
      ],
      "text/plain": [
       "<IPython.core.display.Markdown object>"
      ]
     },
     "metadata": {},
     "output_type": "display_data"
    },
    {
     "name": "stdout",
     "output_type": "stream",
     "text": [
      "T-test for experiment 1\n",
      "Ttest_relResult(statistic=nan, pvalue=nan)\n",
      "Ttest_relResult(statistic=nan, pvalue=nan)\n"
     ]
    },
    {
     "data": {
      "text/html": [
       "<div>\n",
       "<table border=\"1\" class=\"dataframe\">\n",
       "  <thead>\n",
       "    <tr style=\"text-align: right;\">\n",
       "      <th></th>\n",
       "      <th>p-value</th>\n",
       "      <th>RDN-B</th>\n",
       "    </tr>\n",
       "  </thead>\n",
       "  <tbody>\n",
       "    <tr>\n",
       "      <th>0</th>\n",
       "      <td>transferRDN-B Ref</td>\n",
       "      <td>nan</td>\n",
       "    </tr>\n",
       "    <tr>\n",
       "      <th>1</th>\n",
       "      <td>transferRDN-B</td>\n",
       "      <td>nan</td>\n",
       "    </tr>\n",
       "  </tbody>\n",
       "</table>\n",
       "</div>"
      ],
      "text/plain": [
       "             p-value RDN-B\n",
       "0  transferRDN-B Ref   nan\n",
       "1      transferRDN-B   nan"
      ]
     },
     "metadata": {},
     "output_type": "display_data"
    },
    {
     "name": "stdout",
     "output_type": "stream",
     "text": [
      "\n",
      "\n",
      "Scratch: [nan nan]\n",
      "Transfer: [nan nan]\n",
      "Transfer & Revision: [nan nan]\n"
     ]
    },
    {
     "data": {
      "text/markdown": [
       "## Precision"
      ],
      "text/plain": [
       "<IPython.core.display.Markdown object>"
      ]
     },
     "metadata": {},
     "output_type": "display_data"
    },
    {
     "name": "stdout",
     "output_type": "stream",
     "text": [
      "\n",
      "\n",
      "Scratch: [nan nan]\n",
      "Transfer: [nan nan]\n",
      "Transfer & Revision: [nan nan]\n"
     ]
    },
    {
     "data": {
      "text/markdown": [
       "## Learning and Revision time"
      ],
      "text/plain": [
       "<IPython.core.display.Markdown object>"
      ]
     },
     "metadata": {},
     "output_type": "display_data"
    },
    {
     "name": "stdout",
     "output_type": "stream",
     "text": [
      "\n",
      "\n",
      "Scratch: [176.031 157.485]\n",
      "Transfer: [104.717 168.322]\n",
      "Transfer & Revision: [213.832 274.499]\n"
     ]
    },
    {
     "data": {
      "text/markdown": [
       "## Inference time"
      ],
      "text/plain": [
       "<IPython.core.display.Markdown object>"
      ]
     },
     "metadata": {},
     "output_type": "display_data"
    },
    {
     "name": "stdout",
     "output_type": "stream",
     "text": [
      "\n",
      "\n",
      "Scratch: [1.413 1.188]\n",
      "Transfer: [104.717 168.322]\n",
      "Transfer & Revision: [1.379 1.29 ]\n"
     ]
    },
    {
     "data": {
      "text/markdown": [
       "# Results for 22_twitter_yeast"
      ],
      "text/plain": [
       "<IPython.core.display.Markdown object>"
      ]
     },
     "metadata": {},
     "output_type": "display_data"
    },
    {
     "data": {
      "text/markdown": [
       "## AUC ROC"
      ],
      "text/plain": [
       "<IPython.core.display.Markdown object>"
      ]
     },
     "metadata": {},
     "output_type": "display_data"
    },
    {
     "name": "stdout",
     "output_type": "stream",
     "text": [
      "T-test for experiment 1\n",
      "Ttest_relResult(statistic=0.8061045972045814, pvalue=0.4791589103798751)\n",
      "Ttest_relResult(statistic=0.5608642923851089, pvalue=0.6140534763073372)\n"
     ]
    },
    {
     "data": {
      "text/html": [
       "<div>\n",
       "<table border=\"1\" class=\"dataframe\">\n",
       "  <thead>\n",
       "    <tr style=\"text-align: right;\">\n",
       "      <th></th>\n",
       "      <th>p-value</th>\n",
       "      <th>RDN-B</th>\n",
       "    </tr>\n",
       "  </thead>\n",
       "  <tbody>\n",
       "    <tr>\n",
       "      <th>0</th>\n",
       "      <td>transferRDN-B Ref</td>\n",
       "      <td>0.479</td>\n",
       "    </tr>\n",
       "    <tr>\n",
       "      <th>1</th>\n",
       "      <td>transferRDN-B</td>\n",
       "      <td>0.614</td>\n",
       "    </tr>\n",
       "  </tbody>\n",
       "</table>\n",
       "</div>"
      ],
      "text/plain": [
       "             p-value  RDN-B\n",
       "0  transferRDN-B Ref  0.479\n",
       "1      transferRDN-B  0.614"
      ]
     },
     "metadata": {},
     "output_type": "display_data"
    },
    {
     "name": "stdout",
     "output_type": "stream",
     "text": [
      "\n",
      "\n",
      "Scratch: [0.756765 0.93073  0.813532 0.914195]\n",
      "Transfer: [0.88799  0.890117 0.866797 0.865855]\n",
      "Transfer & Revision: [0.872887 0.921153 0.869964 0.867391]\n"
     ]
    },
    {
     "data": {
      "text/markdown": [
       "## AUC PR"
      ],
      "text/plain": [
       "<IPython.core.display.Markdown object>"
      ]
     },
     "metadata": {},
     "output_type": "display_data"
    },
    {
     "name": "stdout",
     "output_type": "stream",
     "text": [
      "T-test for experiment 1\n",
      "Ttest_relResult(statistic=0.562463282537272, pvalue=0.6130910919539665)\n",
      "Ttest_relResult(statistic=0.3996897590912757, pvalue=0.71614071984038)\n"
     ]
    },
    {
     "data": {
      "text/html": [
       "<div>\n",
       "<table border=\"1\" class=\"dataframe\">\n",
       "  <thead>\n",
       "    <tr style=\"text-align: right;\">\n",
       "      <th></th>\n",
       "      <th>p-value</th>\n",
       "      <th>RDN-B</th>\n",
       "    </tr>\n",
       "  </thead>\n",
       "  <tbody>\n",
       "    <tr>\n",
       "      <th>0</th>\n",
       "      <td>transferRDN-B Ref</td>\n",
       "      <td>0.613</td>\n",
       "    </tr>\n",
       "    <tr>\n",
       "      <th>1</th>\n",
       "      <td>transferRDN-B</td>\n",
       "      <td>0.716</td>\n",
       "    </tr>\n",
       "  </tbody>\n",
       "</table>\n",
       "</div>"
      ],
      "text/plain": [
       "             p-value  RDN-B\n",
       "0  transferRDN-B Ref  0.613\n",
       "1      transferRDN-B  0.716"
      ]
     },
     "metadata": {},
     "output_type": "display_data"
    },
    {
     "name": "stdout",
     "output_type": "stream",
     "text": [
      "\n",
      "\n",
      "Scratch: [0.773845 0.925721 0.840411 0.918127]\n",
      "Transfer: [0.894597 0.88929  0.863289 0.872167]\n",
      "Transfer & Revision: [0.870617 0.914168 0.86214  0.877719]\n"
     ]
    },
    {
     "data": {
      "text/markdown": [
       "## CLL"
      ],
      "text/plain": [
       "<IPython.core.display.Markdown object>"
      ]
     },
     "metadata": {},
     "output_type": "display_data"
    },
    {
     "name": "stdout",
     "output_type": "stream",
     "text": [
      "T-test for experiment 1\n",
      "Ttest_relResult(statistic=1.2431508998067222, pvalue=0.3021144592802256)\n",
      "Ttest_relResult(statistic=1.079133663126484, pvalue=0.3595573730394843)\n"
     ]
    },
    {
     "data": {
      "text/html": [
       "<div>\n",
       "<table border=\"1\" class=\"dataframe\">\n",
       "  <thead>\n",
       "    <tr style=\"text-align: right;\">\n",
       "      <th></th>\n",
       "      <th>p-value</th>\n",
       "      <th>RDN-B</th>\n",
       "    </tr>\n",
       "  </thead>\n",
       "  <tbody>\n",
       "    <tr>\n",
       "      <th>0</th>\n",
       "      <td>transferRDN-B Ref</td>\n",
       "      <td>0.302</td>\n",
       "    </tr>\n",
       "    <tr>\n",
       "      <th>1</th>\n",
       "      <td>transferRDN-B</td>\n",
       "      <td>0.360</td>\n",
       "    </tr>\n",
       "  </tbody>\n",
       "</table>\n",
       "</div>"
      ],
      "text/plain": [
       "             p-value  RDN-B\n",
       "0  transferRDN-B Ref  0.302\n",
       "1      transferRDN-B  0.360"
      ]
     },
     "metadata": {},
     "output_type": "display_data"
    },
    {
     "name": "stdout",
     "output_type": "stream",
     "text": [
      "\n",
      "\n",
      "Scratch: [-0.59517  -0.4161   -0.573953 -0.452212]\n",
      "Transfer: [-0.456889 -0.460598 -0.460877 -0.463983]\n",
      "Transfer & Revision: [-0.46005  -0.453272 -0.453668 -0.455046]\n"
     ]
    },
    {
     "data": {
      "text/markdown": [
       "## Recall"
      ],
      "text/plain": [
       "<IPython.core.display.Markdown object>"
      ]
     },
     "metadata": {},
     "output_type": "display_data"
    },
    {
     "name": "stdout",
     "output_type": "stream",
     "text": [
      "T-test for experiment 1\n",
      "Ttest_relResult(statistic=0.35956866943279864, pvalue=0.7429904599936132)\n",
      "Ttest_relResult(statistic=0.28252524407636326, pvalue=0.7959120970757056)\n"
     ]
    },
    {
     "data": {
      "text/html": [
       "<div>\n",
       "<table border=\"1\" class=\"dataframe\">\n",
       "  <thead>\n",
       "    <tr style=\"text-align: right;\">\n",
       "      <th></th>\n",
       "      <th>p-value</th>\n",
       "      <th>RDN-B</th>\n",
       "    </tr>\n",
       "  </thead>\n",
       "  <tbody>\n",
       "    <tr>\n",
       "      <th>0</th>\n",
       "      <td>transferRDN-B Ref</td>\n",
       "      <td>0.743</td>\n",
       "    </tr>\n",
       "    <tr>\n",
       "      <th>1</th>\n",
       "      <td>transferRDN-B</td>\n",
       "      <td>0.796</td>\n",
       "    </tr>\n",
       "  </tbody>\n",
       "</table>\n",
       "</div>"
      ],
      "text/plain": [
       "             p-value  RDN-B\n",
       "0  transferRDN-B Ref  0.743\n",
       "1      transferRDN-B  0.796"
      ]
     },
     "metadata": {},
     "output_type": "display_data"
    },
    {
     "name": "stdout",
     "output_type": "stream",
     "text": [
      "\n",
      "\n",
      "Scratch: [0.411348 0.690566 0.444043 0.696113]\n",
      "Transfer: [0.595745 0.596226 0.574007 0.565371]\n",
      "Transfer & Revision: [0.58156  0.626415 0.574007 0.565371]\n"
     ]
    },
    {
     "data": {
      "text/markdown": [
       "## F1"
      ],
      "text/plain": [
       "<IPython.core.display.Markdown object>"
      ]
     },
     "metadata": {},
     "output_type": "display_data"
    },
    {
     "name": "stdout",
     "output_type": "stream",
     "text": [
      "T-test for experiment 1\n",
      "Ttest_relResult(statistic=0.5106765759879371, pvalue=0.6447826173174591)\n",
      "Ttest_relResult(statistic=0.42582893787311377, pvalue=0.6989357706642916)\n"
     ]
    },
    {
     "data": {
      "text/html": [
       "<div>\n",
       "<table border=\"1\" class=\"dataframe\">\n",
       "  <thead>\n",
       "    <tr style=\"text-align: right;\">\n",
       "      <th></th>\n",
       "      <th>p-value</th>\n",
       "      <th>RDN-B</th>\n",
       "    </tr>\n",
       "  </thead>\n",
       "  <tbody>\n",
       "    <tr>\n",
       "      <th>0</th>\n",
       "      <td>transferRDN-B Ref</td>\n",
       "      <td>0.645</td>\n",
       "    </tr>\n",
       "    <tr>\n",
       "      <th>1</th>\n",
       "      <td>transferRDN-B</td>\n",
       "      <td>0.699</td>\n",
       "    </tr>\n",
       "  </tbody>\n",
       "</table>\n",
       "</div>"
      ],
      "text/plain": [
       "             p-value  RDN-B\n",
       "0  transferRDN-B Ref  0.645\n",
       "1      transferRDN-B  0.699"
      ]
     },
     "metadata": {},
     "output_type": "display_data"
    },
    {
     "name": "stdout",
     "output_type": "stream",
     "text": [
      "\n",
      "\n",
      "Scratch: [0.560386 0.793926 0.607407 0.792757]\n",
      "Transfer: [0.727273 0.733179 0.70354  0.697168]\n",
      "Transfer & Revision: [0.713043 0.759725 0.70354  0.695652]\n"
     ]
    },
    {
     "data": {
      "text/markdown": [
       "## Precision"
      ],
      "text/plain": [
       "<IPython.core.display.Markdown object>"
      ]
     },
     "metadata": {},
     "output_type": "display_data"
    },
    {
     "name": "stdout",
     "output_type": "stream",
     "text": [
      "\n",
      "\n",
      "Scratch: [0.878788 0.933673 0.960938 0.920561]\n",
      "Transfer: [0.933333 0.951807 0.908571 0.909091]\n",
      "Transfer & Revision: [0.921348 0.965116 0.908571 0.903955]\n"
     ]
    },
    {
     "data": {
      "text/markdown": [
       "## Learning and Revision time"
      ],
      "text/plain": [
       "<IPython.core.display.Markdown object>"
      ]
     },
     "metadata": {},
     "output_type": "display_data"
    },
    {
     "name": "stdout",
     "output_type": "stream",
     "text": [
      "\n",
      "\n",
      "Scratch: [10.367 17.021  8.644  8.355]\n",
      "Transfer: [4.975 6.174 4.14  6.32 ]\n",
      "Transfer & Revision: [18.679 15.741 10.088 13.27 ]\n"
     ]
    },
    {
     "data": {
      "text/markdown": [
       "## Inference time"
      ],
      "text/plain": [
       "<IPython.core.display.Markdown object>"
      ]
     },
     "metadata": {},
     "output_type": "display_data"
    },
    {
     "name": "stdout",
     "output_type": "stream",
     "text": [
      "\n",
      "\n",
      "Scratch: [1.391 1.725 1.644 1.42 ]\n",
      "Transfer: [4.975 6.174 4.14  6.32 ]\n",
      "Transfer & Revision: [1.104 1.508 1.558 1.732]\n"
     ]
    },
    {
     "data": {
      "text/markdown": [
       "# Results for 23_twitter_yeast"
      ],
      "text/plain": [
       "<IPython.core.display.Markdown object>"
      ]
     },
     "metadata": {},
     "output_type": "display_data"
    },
    {
     "data": {
      "text/markdown": [
       "## AUC ROC"
      ],
      "text/plain": [
       "<IPython.core.display.Markdown object>"
      ]
     },
     "metadata": {},
     "output_type": "display_data"
    },
    {
     "name": "stdout",
     "output_type": "stream",
     "text": [
      "T-test for experiment 1\n",
      "Ttest_relResult(statistic=-1.4118560854382152, pvalue=0.2528402066742256)\n",
      "Ttest_relResult(statistic=-2.450951822690574, pvalue=0.09160178801462107)\n"
     ]
    },
    {
     "data": {
      "text/html": [
       "<div>\n",
       "<table border=\"1\" class=\"dataframe\">\n",
       "  <thead>\n",
       "    <tr style=\"text-align: right;\">\n",
       "      <th></th>\n",
       "      <th>p-value</th>\n",
       "      <th>RDN-B</th>\n",
       "    </tr>\n",
       "  </thead>\n",
       "  <tbody>\n",
       "    <tr>\n",
       "      <th>0</th>\n",
       "      <td>transferRDN-B Ref</td>\n",
       "      <td>0.253</td>\n",
       "    </tr>\n",
       "    <tr>\n",
       "      <th>1</th>\n",
       "      <td>transferRDN-B</td>\n",
       "      <td>0.092</td>\n",
       "    </tr>\n",
       "  </tbody>\n",
       "</table>\n",
       "</div>"
      ],
      "text/plain": [
       "             p-value  RDN-B\n",
       "0  transferRDN-B Ref  0.253\n",
       "1      transferRDN-B  0.092"
      ]
     },
     "metadata": {},
     "output_type": "display_data"
    },
    {
     "name": "stdout",
     "output_type": "stream",
     "text": [
      "\n",
      "\n",
      "Scratch: [0.680476 0.667396 0.664019 0.61978 ]\n",
      "Transfer: [0.655458 0.64933  0.654077 0.619852]\n",
      "Transfer & Revision: [0.658686 0.657984 0.649313 0.628662]\n"
     ]
    },
    {
     "data": {
      "text/markdown": [
       "## AUC PR"
      ],
      "text/plain": [
       "<IPython.core.display.Markdown object>"
      ]
     },
     "metadata": {},
     "output_type": "display_data"
    },
    {
     "name": "stdout",
     "output_type": "stream",
     "text": [
      "T-test for experiment 1\n",
      "Ttest_relResult(statistic=-3.0833491502677464, pvalue=0.05399403736628111)\n",
      "Ttest_relResult(statistic=-26.497231209975535, pvalue=0.00011793614005630308)\n"
     ]
    },
    {
     "data": {
      "text/html": [
       "<div>\n",
       "<table border=\"1\" class=\"dataframe\">\n",
       "  <thead>\n",
       "    <tr style=\"text-align: right;\">\n",
       "      <th></th>\n",
       "      <th>p-value</th>\n",
       "      <th>RDN-B</th>\n",
       "    </tr>\n",
       "  </thead>\n",
       "  <tbody>\n",
       "    <tr>\n",
       "      <th>0</th>\n",
       "      <td>transferRDN-B Ref</td>\n",
       "      <td>0.054</td>\n",
       "    </tr>\n",
       "    <tr>\n",
       "      <th>1</th>\n",
       "      <td>transferRDN-B</td>\n",
       "      <td>0.000</td>\n",
       "    </tr>\n",
       "  </tbody>\n",
       "</table>\n",
       "</div>"
      ],
      "text/plain": [
       "             p-value  RDN-B\n",
       "0  transferRDN-B Ref  0.054\n",
       "1      transferRDN-B  0.000"
      ]
     },
     "metadata": {},
     "output_type": "display_data"
    },
    {
     "name": "stdout",
     "output_type": "stream",
     "text": [
      "\n",
      "\n",
      "Scratch: [0.693686 0.694682 0.68722  0.660296]\n",
      "Transfer: [0.636807 0.636639 0.634388 0.611234]\n",
      "Transfer & Revision: [0.638216 0.688862 0.632936 0.630635]\n"
     ]
    },
    {
     "data": {
      "text/markdown": [
       "## CLL"
      ],
      "text/plain": [
       "<IPython.core.display.Markdown object>"
      ]
     },
     "metadata": {},
     "output_type": "display_data"
    },
    {
     "name": "stdout",
     "output_type": "stream",
     "text": [
      "T-test for experiment 1\n",
      "Ttest_relResult(statistic=-0.863853384952654, pvalue=0.4512077449569254)\n",
      "Ttest_relResult(statistic=-1.3027943773208746, pvalue=0.28362832195954285)\n"
     ]
    },
    {
     "data": {
      "text/html": [
       "<div>\n",
       "<table border=\"1\" class=\"dataframe\">\n",
       "  <thead>\n",
       "    <tr style=\"text-align: right;\">\n",
       "      <th></th>\n",
       "      <th>p-value</th>\n",
       "      <th>RDN-B</th>\n",
       "    </tr>\n",
       "  </thead>\n",
       "  <tbody>\n",
       "    <tr>\n",
       "      <th>0</th>\n",
       "      <td>transferRDN-B Ref</td>\n",
       "      <td>0.451</td>\n",
       "    </tr>\n",
       "    <tr>\n",
       "      <th>1</th>\n",
       "      <td>transferRDN-B</td>\n",
       "      <td>0.284</td>\n",
       "    </tr>\n",
       "  </tbody>\n",
       "</table>\n",
       "</div>"
      ],
      "text/plain": [
       "             p-value  RDN-B\n",
       "0  transferRDN-B Ref  0.451\n",
       "1      transferRDN-B  0.284"
      ]
     },
     "metadata": {},
     "output_type": "display_data"
    },
    {
     "name": "stdout",
     "output_type": "stream",
     "text": [
      "\n",
      "\n",
      "Scratch: [-0.636809 -0.649035 -0.655431 -0.670048]\n",
      "Transfer: [-0.650952 -0.66387  -0.661897 -0.662137]\n",
      "Transfer & Revision: [-0.652173 -0.654213 -0.6617   -0.660809]\n"
     ]
    },
    {
     "data": {
      "text/markdown": [
       "## Recall"
      ],
      "text/plain": [
       "<IPython.core.display.Markdown object>"
      ]
     },
     "metadata": {},
     "output_type": "display_data"
    },
    {
     "name": "stdout",
     "output_type": "stream",
     "text": [
      "T-test for experiment 1\n",
      "Ttest_relResult(statistic=2.0799583220922155, pvalue=0.12900770728485186)\n",
      "Ttest_relResult(statistic=1.3788938574797343, pvalue=0.26175135884814815)\n"
     ]
    },
    {
     "data": {
      "text/html": [
       "<div>\n",
       "<table border=\"1\" class=\"dataframe\">\n",
       "  <thead>\n",
       "    <tr style=\"text-align: right;\">\n",
       "      <th></th>\n",
       "      <th>p-value</th>\n",
       "      <th>RDN-B</th>\n",
       "    </tr>\n",
       "  </thead>\n",
       "  <tbody>\n",
       "    <tr>\n",
       "      <th>0</th>\n",
       "      <td>transferRDN-B Ref</td>\n",
       "      <td>0.129</td>\n",
       "    </tr>\n",
       "    <tr>\n",
       "      <th>1</th>\n",
       "      <td>transferRDN-B</td>\n",
       "      <td>0.262</td>\n",
       "    </tr>\n",
       "  </tbody>\n",
       "</table>\n",
       "</div>"
      ],
      "text/plain": [
       "             p-value  RDN-B\n",
       "0  transferRDN-B Ref  0.129\n",
       "1      transferRDN-B  0.262"
      ]
     },
     "metadata": {},
     "output_type": "display_data"
    },
    {
     "name": "stdout",
     "output_type": "stream",
     "text": [
      "\n",
      "\n",
      "Scratch: [0.591247 0.504843 0.427666 0.342084]\n",
      "Transfer: [0.667839 0.456416 0.475713 0.475471]\n",
      "Transfer & Revision: [0.671747 0.502724 0.452746 0.453991]\n"
     ]
    },
    {
     "data": {
      "text/markdown": [
       "## F1"
      ],
      "text/plain": [
       "<IPython.core.display.Markdown object>"
      ]
     },
     "metadata": {},
     "output_type": "display_data"
    },
    {
     "name": "stdout",
     "output_type": "stream",
     "text": [
      "T-test for experiment 1\n",
      "Ttest_relResult(statistic=1.3755208040213216, pvalue=0.2626820561332705)\n",
      "Ttest_relResult(statistic=1.0030816510771763, pvalue=0.38972992888242336)\n"
     ]
    },
    {
     "data": {
      "text/html": [
       "<div>\n",
       "<table border=\"1\" class=\"dataframe\">\n",
       "  <thead>\n",
       "    <tr style=\"text-align: right;\">\n",
       "      <th></th>\n",
       "      <th>p-value</th>\n",
       "      <th>RDN-B</th>\n",
       "    </tr>\n",
       "  </thead>\n",
       "  <tbody>\n",
       "    <tr>\n",
       "      <th>0</th>\n",
       "      <td>transferRDN-B Ref</td>\n",
       "      <td>0.263</td>\n",
       "    </tr>\n",
       "    <tr>\n",
       "      <th>1</th>\n",
       "      <td>transferRDN-B</td>\n",
       "      <td>0.390</td>\n",
       "    </tr>\n",
       "  </tbody>\n",
       "</table>\n",
       "</div>"
      ],
      "text/plain": [
       "             p-value  RDN-B\n",
       "0  transferRDN-B Ref  0.263\n",
       "1      transferRDN-B  0.390"
      ]
     },
     "metadata": {},
     "output_type": "display_data"
    },
    {
     "name": "stdout",
     "output_type": "stream",
     "text": [
      "\n",
      "\n",
      "Scratch: [0.624948 0.579871 0.531845 0.455026]\n",
      "Transfer: [0.638163 0.546674 0.561371 0.56633 ]\n",
      "Transfer & Revision: [0.640343 0.576036 0.547486 0.553956]\n"
     ]
    },
    {
     "data": {
      "text/markdown": [
       "## Precision"
      ],
      "text/plain": [
       "<IPython.core.display.Markdown object>"
      ]
     },
     "metadata": {},
     "output_type": "display_data"
    },
    {
     "name": "stdout",
     "output_type": "stream",
     "text": [
      "\n",
      "\n",
      "Scratch: [0.662724 0.681094 0.703125 0.679305]\n",
      "Transfer: [0.611012 0.681428 0.68465  0.700117]\n",
      "Transfer & Revision: [0.611744 0.674381 0.69237  0.710373]\n"
     ]
    },
    {
     "data": {
      "text/markdown": [
       "## Learning and Revision time"
      ],
      "text/plain": [
       "<IPython.core.display.Markdown object>"
      ]
     },
     "metadata": {},
     "output_type": "display_data"
    },
    {
     "name": "stdout",
     "output_type": "stream",
     "text": [
      "\n",
      "\n",
      "Scratch: [75.664 53.002 30.741 33.559]\n",
      "Transfer: [41.58  29.83  14.282 18.053]\n",
      "Transfer & Revision: [83.932 86.123 31.951 36.544]\n"
     ]
    },
    {
     "data": {
      "text/markdown": [
       "## Inference time"
      ],
      "text/plain": [
       "<IPython.core.display.Markdown object>"
      ]
     },
     "metadata": {},
     "output_type": "display_data"
    },
    {
     "name": "stdout",
     "output_type": "stream",
     "text": [
      "\n",
      "\n",
      "Scratch: [2.228 3.192 2.797 2.464]\n",
      "Transfer: [41.58  29.83  14.282 18.053]\n",
      "Transfer & Revision: [2.502 2.775 2.77  2.459]\n"
     ]
    },
    {
     "data": {
      "text/markdown": [
       "# Results for 24_twitter_yeast"
      ],
      "text/plain": [
       "<IPython.core.display.Markdown object>"
      ]
     },
     "metadata": {},
     "output_type": "display_data"
    },
    {
     "data": {
      "text/markdown": [
       "## AUC ROC"
      ],
      "text/plain": [
       "<IPython.core.display.Markdown object>"
      ]
     },
     "metadata": {},
     "output_type": "display_data"
    },
    {
     "name": "stdout",
     "output_type": "stream",
     "text": [
      "T-test for experiment 1\n",
      "Ttest_relResult(statistic=nan, pvalue=nan)\n",
      "Ttest_relResult(statistic=nan, pvalue=nan)\n"
     ]
    },
    {
     "data": {
      "text/html": [
       "<div>\n",
       "<table border=\"1\" class=\"dataframe\">\n",
       "  <thead>\n",
       "    <tr style=\"text-align: right;\">\n",
       "      <th></th>\n",
       "      <th>p-value</th>\n",
       "      <th>RDN-B</th>\n",
       "    </tr>\n",
       "  </thead>\n",
       "  <tbody>\n",
       "    <tr>\n",
       "      <th>0</th>\n",
       "      <td>transferRDN-B Ref</td>\n",
       "      <td>nan</td>\n",
       "    </tr>\n",
       "    <tr>\n",
       "      <th>1</th>\n",
       "      <td>transferRDN-B</td>\n",
       "      <td>nan</td>\n",
       "    </tr>\n",
       "  </tbody>\n",
       "</table>\n",
       "</div>"
      ],
      "text/plain": [
       "             p-value RDN-B\n",
       "0  transferRDN-B Ref   nan\n",
       "1      transferRDN-B   nan"
      ]
     },
     "metadata": {},
     "output_type": "display_data"
    },
    {
     "name": "stdout",
     "output_type": "stream",
     "text": [
      "\n",
      "\n",
      "Scratch: [0.5 0.5 0.5 0.5]\n",
      "Transfer: [0.5 0.5 0.5 0.5]\n",
      "Transfer & Revision: [0.5 0.5 0.5 0.5]\n"
     ]
    },
    {
     "data": {
      "text/markdown": [
       "## AUC PR"
      ],
      "text/plain": [
       "<IPython.core.display.Markdown object>"
      ]
     },
     "metadata": {},
     "output_type": "display_data"
    },
    {
     "name": "stdout",
     "output_type": "stream",
     "text": [
      "T-test for experiment 1\n",
      "Ttest_relResult(statistic=nan, pvalue=nan)\n",
      "Ttest_relResult(statistic=nan, pvalue=nan)\n"
     ]
    },
    {
     "data": {
      "text/html": [
       "<div>\n",
       "<table border=\"1\" class=\"dataframe\">\n",
       "  <thead>\n",
       "    <tr style=\"text-align: right;\">\n",
       "      <th></th>\n",
       "      <th>p-value</th>\n",
       "      <th>RDN-B</th>\n",
       "    </tr>\n",
       "  </thead>\n",
       "  <tbody>\n",
       "    <tr>\n",
       "      <th>0</th>\n",
       "      <td>transferRDN-B Ref</td>\n",
       "      <td>nan</td>\n",
       "    </tr>\n",
       "    <tr>\n",
       "      <th>1</th>\n",
       "      <td>transferRDN-B</td>\n",
       "      <td>nan</td>\n",
       "    </tr>\n",
       "  </tbody>\n",
       "</table>\n",
       "</div>"
      ],
      "text/plain": [
       "             p-value RDN-B\n",
       "0  transferRDN-B Ref   nan\n",
       "1      transferRDN-B   nan"
      ]
     },
     "metadata": {},
     "output_type": "display_data"
    },
    {
     "name": "stdout",
     "output_type": "stream",
     "text": [
      "\n",
      "\n",
      "Scratch: [0.5 0.5 0.5 0.5]\n",
      "Transfer: [0.5 0.5 0.5 0.5]\n",
      "Transfer & Revision: [0.5 0.5 0.5 0.5]\n"
     ]
    },
    {
     "data": {
      "text/markdown": [
       "## CLL"
      ],
      "text/plain": [
       "<IPython.core.display.Markdown object>"
      ]
     },
     "metadata": {},
     "output_type": "display_data"
    },
    {
     "name": "stdout",
     "output_type": "stream",
     "text": [
      "T-test for experiment 1\n",
      "Ttest_relResult(statistic=-1.1121281331500008, pvalue=0.34718469241041816)\n",
      "Ttest_relResult(statistic=-1.6628818000983112, pvalue=0.19492308886388054)\n"
     ]
    },
    {
     "data": {
      "text/html": [
       "<div>\n",
       "<table border=\"1\" class=\"dataframe\">\n",
       "  <thead>\n",
       "    <tr style=\"text-align: right;\">\n",
       "      <th></th>\n",
       "      <th>p-value</th>\n",
       "      <th>RDN-B</th>\n",
       "    </tr>\n",
       "  </thead>\n",
       "  <tbody>\n",
       "    <tr>\n",
       "      <th>0</th>\n",
       "      <td>transferRDN-B Ref</td>\n",
       "      <td>0.347</td>\n",
       "    </tr>\n",
       "    <tr>\n",
       "      <th>1</th>\n",
       "      <td>transferRDN-B</td>\n",
       "      <td>0.195</td>\n",
       "    </tr>\n",
       "  </tbody>\n",
       "</table>\n",
       "</div>"
      ],
      "text/plain": [
       "             p-value  RDN-B\n",
       "0  transferRDN-B Ref  0.347\n",
       "1      transferRDN-B  0.195"
      ]
     },
     "metadata": {},
     "output_type": "display_data"
    },
    {
     "name": "stdout",
     "output_type": "stream",
     "text": [
      "\n",
      "\n",
      "Scratch: [-0.695026 -0.695026 -0.695026 -0.695026]\n",
      "Transfer: [-0.695026 -0.69555  -0.695822 -0.695026]\n",
      "Transfer & Revision: [-0.695026 -0.695064 -0.695476 -0.695026]\n"
     ]
    },
    {
     "data": {
      "text/markdown": [
       "## Recall"
      ],
      "text/plain": [
       "<IPython.core.display.Markdown object>"
      ]
     },
     "metadata": {},
     "output_type": "display_data"
    },
    {
     "name": "stdout",
     "output_type": "stream",
     "text": [
      "T-test for experiment 1\n",
      "Ttest_relResult(statistic=nan, pvalue=nan)\n",
      "Ttest_relResult(statistic=nan, pvalue=nan)\n"
     ]
    },
    {
     "data": {
      "text/html": [
       "<div>\n",
       "<table border=\"1\" class=\"dataframe\">\n",
       "  <thead>\n",
       "    <tr style=\"text-align: right;\">\n",
       "      <th></th>\n",
       "      <th>p-value</th>\n",
       "      <th>RDN-B</th>\n",
       "    </tr>\n",
       "  </thead>\n",
       "  <tbody>\n",
       "    <tr>\n",
       "      <th>0</th>\n",
       "      <td>transferRDN-B Ref</td>\n",
       "      <td>nan</td>\n",
       "    </tr>\n",
       "    <tr>\n",
       "      <th>1</th>\n",
       "      <td>transferRDN-B</td>\n",
       "      <td>nan</td>\n",
       "    </tr>\n",
       "  </tbody>\n",
       "</table>\n",
       "</div>"
      ],
      "text/plain": [
       "             p-value RDN-B\n",
       "0  transferRDN-B Ref   nan\n",
       "1      transferRDN-B   nan"
      ]
     },
     "metadata": {},
     "output_type": "display_data"
    },
    {
     "name": "stdout",
     "output_type": "stream",
     "text": [
      "\n",
      "\n",
      "Scratch: [0. 0. 0. 0.]\n",
      "Transfer: [0. 0. 0. 0.]\n",
      "Transfer & Revision: [0. 0. 0. 0.]\n"
     ]
    },
    {
     "data": {
      "text/markdown": [
       "## F1"
      ],
      "text/plain": [
       "<IPython.core.display.Markdown object>"
      ]
     },
     "metadata": {},
     "output_type": "display_data"
    },
    {
     "name": "stdout",
     "output_type": "stream",
     "text": [
      "T-test for experiment 1\n",
      "Ttest_relResult(statistic=nan, pvalue=nan)\n",
      "Ttest_relResult(statistic=nan, pvalue=nan)\n"
     ]
    },
    {
     "data": {
      "text/html": [
       "<div>\n",
       "<table border=\"1\" class=\"dataframe\">\n",
       "  <thead>\n",
       "    <tr style=\"text-align: right;\">\n",
       "      <th></th>\n",
       "      <th>p-value</th>\n",
       "      <th>RDN-B</th>\n",
       "    </tr>\n",
       "  </thead>\n",
       "  <tbody>\n",
       "    <tr>\n",
       "      <th>0</th>\n",
       "      <td>transferRDN-B Ref</td>\n",
       "      <td>nan</td>\n",
       "    </tr>\n",
       "    <tr>\n",
       "      <th>1</th>\n",
       "      <td>transferRDN-B</td>\n",
       "      <td>nan</td>\n",
       "    </tr>\n",
       "  </tbody>\n",
       "</table>\n",
       "</div>"
      ],
      "text/plain": [
       "             p-value RDN-B\n",
       "0  transferRDN-B Ref   nan\n",
       "1      transferRDN-B   nan"
      ]
     },
     "metadata": {},
     "output_type": "display_data"
    },
    {
     "name": "stdout",
     "output_type": "stream",
     "text": [
      "\n",
      "\n",
      "Scratch: [nan nan nan nan]\n",
      "Transfer: [nan nan nan nan]\n",
      "Transfer & Revision: [nan nan nan nan]\n"
     ]
    },
    {
     "data": {
      "text/markdown": [
       "## Precision"
      ],
      "text/plain": [
       "<IPython.core.display.Markdown object>"
      ]
     },
     "metadata": {},
     "output_type": "display_data"
    },
    {
     "name": "stdout",
     "output_type": "stream",
     "text": [
      "\n",
      "\n",
      "Scratch: [nan nan nan nan]\n",
      "Transfer: [nan nan nan nan]\n",
      "Transfer & Revision: [nan nan nan nan]\n"
     ]
    },
    {
     "data": {
      "text/markdown": [
       "## Learning and Revision time"
      ],
      "text/plain": [
       "<IPython.core.display.Markdown object>"
      ]
     },
     "metadata": {},
     "output_type": "display_data"
    },
    {
     "name": "stdout",
     "output_type": "stream",
     "text": [
      "\n",
      "\n",
      "Scratch: [80.341 37.398 26.218 20.171]\n",
      "Transfer: [37.048 19.308 18.203 16.601]\n",
      "Transfer & Revision: [119.434  53.782  39.59   33.532]\n"
     ]
    },
    {
     "data": {
      "text/markdown": [
       "## Inference time"
      ],
      "text/plain": [
       "<IPython.core.display.Markdown object>"
      ]
     },
     "metadata": {},
     "output_type": "display_data"
    },
    {
     "name": "stdout",
     "output_type": "stream",
     "text": [
      "\n",
      "\n",
      "Scratch: [1.988 2.324 2.188 2.395]\n",
      "Transfer: [37.048 19.308 18.203 16.601]\n",
      "Transfer & Revision: [2.589 2.481 2.521 2.637]\n"
     ]
    },
    {
     "data": {
      "text/markdown": [
       "# Results for 25_twitter_yeast"
      ],
      "text/plain": [
       "<IPython.core.display.Markdown object>"
      ]
     },
     "metadata": {},
     "output_type": "display_data"
    },
    {
     "data": {
      "text/markdown": [
       "## AUC ROC"
      ],
      "text/plain": [
       "<IPython.core.display.Markdown object>"
      ]
     },
     "metadata": {},
     "output_type": "display_data"
    },
    {
     "name": "stdout",
     "output_type": "stream",
     "text": [
      "T-test for experiment 1\n",
      "Ttest_relResult(statistic=nan, pvalue=nan)\n",
      "Ttest_relResult(statistic=nan, pvalue=nan)\n"
     ]
    },
    {
     "data": {
      "text/html": [
       "<div>\n",
       "<table border=\"1\" class=\"dataframe\">\n",
       "  <thead>\n",
       "    <tr style=\"text-align: right;\">\n",
       "      <th></th>\n",
       "      <th>p-value</th>\n",
       "      <th>RDN-B</th>\n",
       "    </tr>\n",
       "  </thead>\n",
       "  <tbody>\n",
       "    <tr>\n",
       "      <th>0</th>\n",
       "      <td>transferRDN-B Ref</td>\n",
       "      <td>nan</td>\n",
       "    </tr>\n",
       "    <tr>\n",
       "      <th>1</th>\n",
       "      <td>transferRDN-B</td>\n",
       "      <td>nan</td>\n",
       "    </tr>\n",
       "  </tbody>\n",
       "</table>\n",
       "</div>"
      ],
      "text/plain": [
       "             p-value RDN-B\n",
       "0  transferRDN-B Ref   nan\n",
       "1      transferRDN-B   nan"
      ]
     },
     "metadata": {},
     "output_type": "display_data"
    },
    {
     "name": "stdout",
     "output_type": "stream",
     "text": [
      "\n",
      "\n",
      "Scratch: [0.5 0.5 0.5 0.5]\n",
      "Transfer: [0.5 0.5 0.5 0.5]\n",
      "Transfer & Revision: [0.5 0.5 0.5 0.5]\n"
     ]
    },
    {
     "data": {
      "text/markdown": [
       "## AUC PR"
      ],
      "text/plain": [
       "<IPython.core.display.Markdown object>"
      ]
     },
     "metadata": {},
     "output_type": "display_data"
    },
    {
     "name": "stdout",
     "output_type": "stream",
     "text": [
      "T-test for experiment 1\n",
      "Ttest_relResult(statistic=nan, pvalue=nan)\n",
      "Ttest_relResult(statistic=nan, pvalue=nan)\n"
     ]
    },
    {
     "data": {
      "text/html": [
       "<div>\n",
       "<table border=\"1\" class=\"dataframe\">\n",
       "  <thead>\n",
       "    <tr style=\"text-align: right;\">\n",
       "      <th></th>\n",
       "      <th>p-value</th>\n",
       "      <th>RDN-B</th>\n",
       "    </tr>\n",
       "  </thead>\n",
       "  <tbody>\n",
       "    <tr>\n",
       "      <th>0</th>\n",
       "      <td>transferRDN-B Ref</td>\n",
       "      <td>nan</td>\n",
       "    </tr>\n",
       "    <tr>\n",
       "      <th>1</th>\n",
       "      <td>transferRDN-B</td>\n",
       "      <td>nan</td>\n",
       "    </tr>\n",
       "  </tbody>\n",
       "</table>\n",
       "</div>"
      ],
      "text/plain": [
       "             p-value RDN-B\n",
       "0  transferRDN-B Ref   nan\n",
       "1      transferRDN-B   nan"
      ]
     },
     "metadata": {},
     "output_type": "display_data"
    },
    {
     "name": "stdout",
     "output_type": "stream",
     "text": [
      "\n",
      "\n",
      "Scratch: [0.5 0.5 0.5 0.5]\n",
      "Transfer: [0.5 0.5 0.5 0.5]\n",
      "Transfer & Revision: [0.5 0.5 0.5 0.5]\n"
     ]
    },
    {
     "data": {
      "text/markdown": [
       "## CLL"
      ],
      "text/plain": [
       "<IPython.core.display.Markdown object>"
      ]
     },
     "metadata": {},
     "output_type": "display_data"
    },
    {
     "name": "stdout",
     "output_type": "stream",
     "text": [
      "T-test for experiment 1\n",
      "Ttest_relResult(statistic=-1.3337428570579364, pvalue=0.2745063328332894)\n",
      "Ttest_relResult(statistic=-1.298714511459091, pvalue=0.28485443126575644)\n"
     ]
    },
    {
     "data": {
      "text/html": [
       "<div>\n",
       "<table border=\"1\" class=\"dataframe\">\n",
       "  <thead>\n",
       "    <tr style=\"text-align: right;\">\n",
       "      <th></th>\n",
       "      <th>p-value</th>\n",
       "      <th>RDN-B</th>\n",
       "    </tr>\n",
       "  </thead>\n",
       "  <tbody>\n",
       "    <tr>\n",
       "      <th>0</th>\n",
       "      <td>transferRDN-B Ref</td>\n",
       "      <td>0.275</td>\n",
       "    </tr>\n",
       "    <tr>\n",
       "      <th>1</th>\n",
       "      <td>transferRDN-B</td>\n",
       "      <td>0.285</td>\n",
       "    </tr>\n",
       "  </tbody>\n",
       "</table>\n",
       "</div>"
      ],
      "text/plain": [
       "             p-value  RDN-B\n",
       "0  transferRDN-B Ref  0.275\n",
       "1      transferRDN-B  0.285"
      ]
     },
     "metadata": {},
     "output_type": "display_data"
    },
    {
     "name": "stdout",
     "output_type": "stream",
     "text": [
      "\n",
      "\n",
      "Scratch: [-0.695026 -0.695026 -0.695026 -0.695026]\n",
      "Transfer: [-0.695399 -0.704926 -0.696383 -0.695402]\n",
      "Transfer & Revision: [-0.695336 -0.700956 -0.695866 -0.69527 ]\n"
     ]
    },
    {
     "data": {
      "text/markdown": [
       "## Recall"
      ],
      "text/plain": [
       "<IPython.core.display.Markdown object>"
      ]
     },
     "metadata": {},
     "output_type": "display_data"
    },
    {
     "name": "stdout",
     "output_type": "stream",
     "text": [
      "T-test for experiment 1\n",
      "Ttest_relResult(statistic=nan, pvalue=nan)\n",
      "Ttest_relResult(statistic=nan, pvalue=nan)\n"
     ]
    },
    {
     "data": {
      "text/html": [
       "<div>\n",
       "<table border=\"1\" class=\"dataframe\">\n",
       "  <thead>\n",
       "    <tr style=\"text-align: right;\">\n",
       "      <th></th>\n",
       "      <th>p-value</th>\n",
       "      <th>RDN-B</th>\n",
       "    </tr>\n",
       "  </thead>\n",
       "  <tbody>\n",
       "    <tr>\n",
       "      <th>0</th>\n",
       "      <td>transferRDN-B Ref</td>\n",
       "      <td>nan</td>\n",
       "    </tr>\n",
       "    <tr>\n",
       "      <th>1</th>\n",
       "      <td>transferRDN-B</td>\n",
       "      <td>nan</td>\n",
       "    </tr>\n",
       "  </tbody>\n",
       "</table>\n",
       "</div>"
      ],
      "text/plain": [
       "             p-value RDN-B\n",
       "0  transferRDN-B Ref   nan\n",
       "1      transferRDN-B   nan"
      ]
     },
     "metadata": {},
     "output_type": "display_data"
    },
    {
     "name": "stdout",
     "output_type": "stream",
     "text": [
      "\n",
      "\n",
      "Scratch: [0. 0. 0. 0.]\n",
      "Transfer: [0. 0. 0. 0.]\n",
      "Transfer & Revision: [0. 0. 0. 0.]\n"
     ]
    },
    {
     "data": {
      "text/markdown": [
       "## F1"
      ],
      "text/plain": [
       "<IPython.core.display.Markdown object>"
      ]
     },
     "metadata": {},
     "output_type": "display_data"
    },
    {
     "name": "stdout",
     "output_type": "stream",
     "text": [
      "T-test for experiment 1\n",
      "Ttest_relResult(statistic=nan, pvalue=nan)\n",
      "Ttest_relResult(statistic=nan, pvalue=nan)\n"
     ]
    },
    {
     "data": {
      "text/html": [
       "<div>\n",
       "<table border=\"1\" class=\"dataframe\">\n",
       "  <thead>\n",
       "    <tr style=\"text-align: right;\">\n",
       "      <th></th>\n",
       "      <th>p-value</th>\n",
       "      <th>RDN-B</th>\n",
       "    </tr>\n",
       "  </thead>\n",
       "  <tbody>\n",
       "    <tr>\n",
       "      <th>0</th>\n",
       "      <td>transferRDN-B Ref</td>\n",
       "      <td>nan</td>\n",
       "    </tr>\n",
       "    <tr>\n",
       "      <th>1</th>\n",
       "      <td>transferRDN-B</td>\n",
       "      <td>nan</td>\n",
       "    </tr>\n",
       "  </tbody>\n",
       "</table>\n",
       "</div>"
      ],
      "text/plain": [
       "             p-value RDN-B\n",
       "0  transferRDN-B Ref   nan\n",
       "1      transferRDN-B   nan"
      ]
     },
     "metadata": {},
     "output_type": "display_data"
    },
    {
     "name": "stdout",
     "output_type": "stream",
     "text": [
      "\n",
      "\n",
      "Scratch: [nan nan nan nan]\n",
      "Transfer: [nan nan nan nan]\n",
      "Transfer & Revision: [nan nan nan nan]\n"
     ]
    },
    {
     "data": {
      "text/markdown": [
       "## Precision"
      ],
      "text/plain": [
       "<IPython.core.display.Markdown object>"
      ]
     },
     "metadata": {},
     "output_type": "display_data"
    },
    {
     "name": "stdout",
     "output_type": "stream",
     "text": [
      "\n",
      "\n",
      "Scratch: [nan nan nan nan]\n",
      "Transfer: [nan nan nan nan]\n",
      "Transfer & Revision: [nan nan nan nan]\n"
     ]
    },
    {
     "data": {
      "text/markdown": [
       "## Learning and Revision time"
      ],
      "text/plain": [
       "<IPython.core.display.Markdown object>"
      ]
     },
     "metadata": {},
     "output_type": "display_data"
    },
    {
     "name": "stdout",
     "output_type": "stream",
     "text": [
      "\n",
      "\n",
      "Scratch: [9.916 9.527 8.287 8.478]\n",
      "Transfer: [7.951 4.272 3.855 3.648]\n",
      "Transfer & Revision: [20.061  8.416  8.909  8.451]\n"
     ]
    },
    {
     "data": {
      "text/markdown": [
       "## Inference time"
      ],
      "text/plain": [
       "<IPython.core.display.Markdown object>"
      ]
     },
     "metadata": {},
     "output_type": "display_data"
    },
    {
     "name": "stdout",
     "output_type": "stream",
     "text": [
      "\n",
      "\n",
      "Scratch: [1.053 1.129 1.152 1.268]\n",
      "Transfer: [7.951 4.272 3.855 3.648]\n",
      "Transfer & Revision: [1.167 1.249 1.321 1.284]\n"
     ]
    },
    {
     "data": {
      "text/markdown": [
       "# Results for 26_twitter_yeast"
      ],
      "text/plain": [
       "<IPython.core.display.Markdown object>"
      ]
     },
     "metadata": {},
     "output_type": "display_data"
    },
    {
     "data": {
      "text/markdown": [
       "## AUC ROC"
      ],
      "text/plain": [
       "<IPython.core.display.Markdown object>"
      ]
     },
     "metadata": {},
     "output_type": "display_data"
    },
    {
     "name": "stdout",
     "output_type": "stream",
     "text": [
      "T-test for experiment 1\n",
      "Ttest_relResult(statistic=nan, pvalue=nan)\n",
      "Ttest_relResult(statistic=nan, pvalue=nan)\n"
     ]
    },
    {
     "data": {
      "text/html": [
       "<div>\n",
       "<table border=\"1\" class=\"dataframe\">\n",
       "  <thead>\n",
       "    <tr style=\"text-align: right;\">\n",
       "      <th></th>\n",
       "      <th>p-value</th>\n",
       "      <th>RDN-B</th>\n",
       "    </tr>\n",
       "  </thead>\n",
       "  <tbody>\n",
       "    <tr>\n",
       "      <th>0</th>\n",
       "      <td>transferRDN-B Ref</td>\n",
       "      <td>nan</td>\n",
       "    </tr>\n",
       "    <tr>\n",
       "      <th>1</th>\n",
       "      <td>transferRDN-B</td>\n",
       "      <td>nan</td>\n",
       "    </tr>\n",
       "  </tbody>\n",
       "</table>\n",
       "</div>"
      ],
      "text/plain": [
       "             p-value RDN-B\n",
       "0  transferRDN-B Ref   nan\n",
       "1      transferRDN-B   nan"
      ]
     },
     "metadata": {},
     "output_type": "display_data"
    },
    {
     "name": "stdout",
     "output_type": "stream",
     "text": [
      "\n",
      "\n",
      "Scratch: [0.5 0.5 0.5 0.5]\n",
      "Transfer: [0.5 0.5 0.5 0.5]\n",
      "Transfer & Revision: [0.5 0.5 0.5 0.5]\n"
     ]
    },
    {
     "data": {
      "text/markdown": [
       "## AUC PR"
      ],
      "text/plain": [
       "<IPython.core.display.Markdown object>"
      ]
     },
     "metadata": {},
     "output_type": "display_data"
    },
    {
     "name": "stdout",
     "output_type": "stream",
     "text": [
      "T-test for experiment 1\n",
      "Ttest_relResult(statistic=nan, pvalue=nan)\n",
      "Ttest_relResult(statistic=nan, pvalue=nan)\n"
     ]
    },
    {
     "data": {
      "text/html": [
       "<div>\n",
       "<table border=\"1\" class=\"dataframe\">\n",
       "  <thead>\n",
       "    <tr style=\"text-align: right;\">\n",
       "      <th></th>\n",
       "      <th>p-value</th>\n",
       "      <th>RDN-B</th>\n",
       "    </tr>\n",
       "  </thead>\n",
       "  <tbody>\n",
       "    <tr>\n",
       "      <th>0</th>\n",
       "      <td>transferRDN-B Ref</td>\n",
       "      <td>nan</td>\n",
       "    </tr>\n",
       "    <tr>\n",
       "      <th>1</th>\n",
       "      <td>transferRDN-B</td>\n",
       "      <td>nan</td>\n",
       "    </tr>\n",
       "  </tbody>\n",
       "</table>\n",
       "</div>"
      ],
      "text/plain": [
       "             p-value RDN-B\n",
       "0  transferRDN-B Ref   nan\n",
       "1      transferRDN-B   nan"
      ]
     },
     "metadata": {},
     "output_type": "display_data"
    },
    {
     "name": "stdout",
     "output_type": "stream",
     "text": [
      "\n",
      "\n",
      "Scratch: [0.5 0.5 0.5 0.5]\n",
      "Transfer: [0.5 0.5 0.5 0.5]\n",
      "Transfer & Revision: [0.5 0.5 0.5 0.5]\n"
     ]
    },
    {
     "data": {
      "text/markdown": [
       "## CLL"
      ],
      "text/plain": [
       "<IPython.core.display.Markdown object>"
      ]
     },
     "metadata": {},
     "output_type": "display_data"
    },
    {
     "name": "stdout",
     "output_type": "stream",
     "text": [
      "T-test for experiment 1\n",
      "Ttest_relResult(statistic=nan, pvalue=nan)\n",
      "Ttest_relResult(statistic=nan, pvalue=nan)\n"
     ]
    },
    {
     "data": {
      "text/html": [
       "<div>\n",
       "<table border=\"1\" class=\"dataframe\">\n",
       "  <thead>\n",
       "    <tr style=\"text-align: right;\">\n",
       "      <th></th>\n",
       "      <th>p-value</th>\n",
       "      <th>RDN-B</th>\n",
       "    </tr>\n",
       "  </thead>\n",
       "  <tbody>\n",
       "    <tr>\n",
       "      <th>0</th>\n",
       "      <td>transferRDN-B Ref</td>\n",
       "      <td>nan</td>\n",
       "    </tr>\n",
       "    <tr>\n",
       "      <th>1</th>\n",
       "      <td>transferRDN-B</td>\n",
       "      <td>nan</td>\n",
       "    </tr>\n",
       "  </tbody>\n",
       "</table>\n",
       "</div>"
      ],
      "text/plain": [
       "             p-value RDN-B\n",
       "0  transferRDN-B Ref   nan\n",
       "1      transferRDN-B   nan"
      ]
     },
     "metadata": {},
     "output_type": "display_data"
    },
    {
     "name": "stdout",
     "output_type": "stream",
     "text": [
      "\n",
      "\n",
      "Scratch: [-0.695026 -0.695026 -0.695026 -0.695026]\n",
      "Transfer: [-0.695026 -0.695026 -0.695026 -0.695026]\n",
      "Transfer & Revision: [-0.695026 -0.695026 -0.695026 -0.695026]\n"
     ]
    },
    {
     "data": {
      "text/markdown": [
       "## Recall"
      ],
      "text/plain": [
       "<IPython.core.display.Markdown object>"
      ]
     },
     "metadata": {},
     "output_type": "display_data"
    },
    {
     "name": "stdout",
     "output_type": "stream",
     "text": [
      "T-test for experiment 1\n",
      "Ttest_relResult(statistic=nan, pvalue=nan)\n",
      "Ttest_relResult(statistic=nan, pvalue=nan)\n"
     ]
    },
    {
     "data": {
      "text/html": [
       "<div>\n",
       "<table border=\"1\" class=\"dataframe\">\n",
       "  <thead>\n",
       "    <tr style=\"text-align: right;\">\n",
       "      <th></th>\n",
       "      <th>p-value</th>\n",
       "      <th>RDN-B</th>\n",
       "    </tr>\n",
       "  </thead>\n",
       "  <tbody>\n",
       "    <tr>\n",
       "      <th>0</th>\n",
       "      <td>transferRDN-B Ref</td>\n",
       "      <td>nan</td>\n",
       "    </tr>\n",
       "    <tr>\n",
       "      <th>1</th>\n",
       "      <td>transferRDN-B</td>\n",
       "      <td>nan</td>\n",
       "    </tr>\n",
       "  </tbody>\n",
       "</table>\n",
       "</div>"
      ],
      "text/plain": [
       "             p-value RDN-B\n",
       "0  transferRDN-B Ref   nan\n",
       "1      transferRDN-B   nan"
      ]
     },
     "metadata": {},
     "output_type": "display_data"
    },
    {
     "name": "stdout",
     "output_type": "stream",
     "text": [
      "\n",
      "\n",
      "Scratch: [0. 0. 0. 0.]\n",
      "Transfer: [0. 0. 0. 0.]\n",
      "Transfer & Revision: [0. 0. 0. 0.]\n"
     ]
    },
    {
     "data": {
      "text/markdown": [
       "## F1"
      ],
      "text/plain": [
       "<IPython.core.display.Markdown object>"
      ]
     },
     "metadata": {},
     "output_type": "display_data"
    },
    {
     "name": "stdout",
     "output_type": "stream",
     "text": [
      "T-test for experiment 1\n",
      "Ttest_relResult(statistic=nan, pvalue=nan)\n",
      "Ttest_relResult(statistic=nan, pvalue=nan)\n"
     ]
    },
    {
     "data": {
      "text/html": [
       "<div>\n",
       "<table border=\"1\" class=\"dataframe\">\n",
       "  <thead>\n",
       "    <tr style=\"text-align: right;\">\n",
       "      <th></th>\n",
       "      <th>p-value</th>\n",
       "      <th>RDN-B</th>\n",
       "    </tr>\n",
       "  </thead>\n",
       "  <tbody>\n",
       "    <tr>\n",
       "      <th>0</th>\n",
       "      <td>transferRDN-B Ref</td>\n",
       "      <td>nan</td>\n",
       "    </tr>\n",
       "    <tr>\n",
       "      <th>1</th>\n",
       "      <td>transferRDN-B</td>\n",
       "      <td>nan</td>\n",
       "    </tr>\n",
       "  </tbody>\n",
       "</table>\n",
       "</div>"
      ],
      "text/plain": [
       "             p-value RDN-B\n",
       "0  transferRDN-B Ref   nan\n",
       "1      transferRDN-B   nan"
      ]
     },
     "metadata": {},
     "output_type": "display_data"
    },
    {
     "name": "stdout",
     "output_type": "stream",
     "text": [
      "\n",
      "\n",
      "Scratch: [nan nan nan nan]\n",
      "Transfer: [nan nan nan nan]\n",
      "Transfer & Revision: [nan nan nan nan]\n"
     ]
    },
    {
     "data": {
      "text/markdown": [
       "## Precision"
      ],
      "text/plain": [
       "<IPython.core.display.Markdown object>"
      ]
     },
     "metadata": {},
     "output_type": "display_data"
    },
    {
     "name": "stdout",
     "output_type": "stream",
     "text": [
      "\n",
      "\n",
      "Scratch: [nan nan nan nan]\n",
      "Transfer: [nan nan nan nan]\n",
      "Transfer & Revision: [nan nan nan nan]\n"
     ]
    },
    {
     "data": {
      "text/markdown": [
       "## Learning and Revision time"
      ],
      "text/plain": [
       "<IPython.core.display.Markdown object>"
      ]
     },
     "metadata": {},
     "output_type": "display_data"
    },
    {
     "name": "stdout",
     "output_type": "stream",
     "text": [
      "\n",
      "\n",
      "Scratch: [60.862 92.154 51.115 41.913]\n",
      "Transfer: [38.404 71.581 20.597 24.811]\n",
      "Transfer & Revision: [ 96.053 143.014  42.432  50.305]\n"
     ]
    },
    {
     "data": {
      "text/markdown": [
       "## Inference time"
      ],
      "text/plain": [
       "<IPython.core.display.Markdown object>"
      ]
     },
     "metadata": {},
     "output_type": "display_data"
    },
    {
     "name": "stdout",
     "output_type": "stream",
     "text": [
      "\n",
      "\n",
      "Scratch: [2.622 2.103 1.657 2.318]\n",
      "Transfer: [38.404 71.581 20.597 24.811]\n",
      "Transfer & Revision: [2.795 3.041 3.296 2.943]\n"
     ]
    },
    {
     "data": {
      "text/markdown": [
       "# Results for 27_twitter_yeast"
      ],
      "text/plain": [
       "<IPython.core.display.Markdown object>"
      ]
     },
     "metadata": {},
     "output_type": "display_data"
    },
    {
     "data": {
      "text/markdown": [
       "## AUC ROC"
      ],
      "text/plain": [
       "<IPython.core.display.Markdown object>"
      ]
     },
     "metadata": {},
     "output_type": "display_data"
    },
    {
     "name": "stdout",
     "output_type": "stream",
     "text": [
      "T-test for experiment 1\n",
      "Ttest_relResult(statistic=nan, pvalue=nan)\n",
      "Ttest_relResult(statistic=nan, pvalue=nan)\n"
     ]
    },
    {
     "data": {
      "text/html": [
       "<div>\n",
       "<table border=\"1\" class=\"dataframe\">\n",
       "  <thead>\n",
       "    <tr style=\"text-align: right;\">\n",
       "      <th></th>\n",
       "      <th>p-value</th>\n",
       "      <th>RDN-B</th>\n",
       "    </tr>\n",
       "  </thead>\n",
       "  <tbody>\n",
       "    <tr>\n",
       "      <th>0</th>\n",
       "      <td>transferRDN-B Ref</td>\n",
       "      <td>nan</td>\n",
       "    </tr>\n",
       "    <tr>\n",
       "      <th>1</th>\n",
       "      <td>transferRDN-B</td>\n",
       "      <td>nan</td>\n",
       "    </tr>\n",
       "  </tbody>\n",
       "</table>\n",
       "</div>"
      ],
      "text/plain": [
       "             p-value RDN-B\n",
       "0  transferRDN-B Ref   nan\n",
       "1      transferRDN-B   nan"
      ]
     },
     "metadata": {},
     "output_type": "display_data"
    },
    {
     "name": "stdout",
     "output_type": "stream",
     "text": [
      "\n",
      "\n",
      "Scratch: [0.5 0.5 0.5 0.5]\n",
      "Transfer: [0.5 0.5 0.5 0.5]\n",
      "Transfer & Revision: [0.5 0.5 0.5 0.5]\n"
     ]
    },
    {
     "data": {
      "text/markdown": [
       "## AUC PR"
      ],
      "text/plain": [
       "<IPython.core.display.Markdown object>"
      ]
     },
     "metadata": {},
     "output_type": "display_data"
    },
    {
     "name": "stdout",
     "output_type": "stream",
     "text": [
      "T-test for experiment 1\n",
      "Ttest_relResult(statistic=nan, pvalue=nan)\n",
      "Ttest_relResult(statistic=nan, pvalue=nan)\n"
     ]
    },
    {
     "data": {
      "text/html": [
       "<div>\n",
       "<table border=\"1\" class=\"dataframe\">\n",
       "  <thead>\n",
       "    <tr style=\"text-align: right;\">\n",
       "      <th></th>\n",
       "      <th>p-value</th>\n",
       "      <th>RDN-B</th>\n",
       "    </tr>\n",
       "  </thead>\n",
       "  <tbody>\n",
       "    <tr>\n",
       "      <th>0</th>\n",
       "      <td>transferRDN-B Ref</td>\n",
       "      <td>nan</td>\n",
       "    </tr>\n",
       "    <tr>\n",
       "      <th>1</th>\n",
       "      <td>transferRDN-B</td>\n",
       "      <td>nan</td>\n",
       "    </tr>\n",
       "  </tbody>\n",
       "</table>\n",
       "</div>"
      ],
      "text/plain": [
       "             p-value RDN-B\n",
       "0  transferRDN-B Ref   nan\n",
       "1      transferRDN-B   nan"
      ]
     },
     "metadata": {},
     "output_type": "display_data"
    },
    {
     "name": "stdout",
     "output_type": "stream",
     "text": [
      "\n",
      "\n",
      "Scratch: [0.5 0.5 0.5 0.5]\n",
      "Transfer: [0.5 0.5 0.5 0.5]\n",
      "Transfer & Revision: [0.5 0.5 0.5 0.5]\n"
     ]
    },
    {
     "data": {
      "text/markdown": [
       "## CLL"
      ],
      "text/plain": [
       "<IPython.core.display.Markdown object>"
      ]
     },
     "metadata": {},
     "output_type": "display_data"
    },
    {
     "name": "stdout",
     "output_type": "stream",
     "text": [
      "T-test for experiment 1\n",
      "Ttest_relResult(statistic=-2.272473898055763, pvalue=0.10767918407150433)\n",
      "Ttest_relResult(statistic=-1.7043152970156488, pvalue=0.18686974069894624)\n"
     ]
    },
    {
     "data": {
      "text/html": [
       "<div>\n",
       "<table border=\"1\" class=\"dataframe\">\n",
       "  <thead>\n",
       "    <tr style=\"text-align: right;\">\n",
       "      <th></th>\n",
       "      <th>p-value</th>\n",
       "      <th>RDN-B</th>\n",
       "    </tr>\n",
       "  </thead>\n",
       "  <tbody>\n",
       "    <tr>\n",
       "      <th>0</th>\n",
       "      <td>transferRDN-B Ref</td>\n",
       "      <td>0.108</td>\n",
       "    </tr>\n",
       "    <tr>\n",
       "      <th>1</th>\n",
       "      <td>transferRDN-B</td>\n",
       "      <td>0.187</td>\n",
       "    </tr>\n",
       "  </tbody>\n",
       "</table>\n",
       "</div>"
      ],
      "text/plain": [
       "             p-value  RDN-B\n",
       "0  transferRDN-B Ref  0.108\n",
       "1      transferRDN-B  0.187"
      ]
     },
     "metadata": {},
     "output_type": "display_data"
    },
    {
     "name": "stdout",
     "output_type": "stream",
     "text": [
      "\n",
      "\n",
      "Scratch: [-0.695026 -0.695026 -0.695026 -0.695026]\n",
      "Transfer: [-0.695026 -0.696985 -0.695679 -0.695345]\n",
      "Transfer & Revision: [-0.695026 -0.695585 -0.69525  -0.695287]\n"
     ]
    },
    {
     "data": {
      "text/markdown": [
       "## Recall"
      ],
      "text/plain": [
       "<IPython.core.display.Markdown object>"
      ]
     },
     "metadata": {},
     "output_type": "display_data"
    },
    {
     "name": "stdout",
     "output_type": "stream",
     "text": [
      "T-test for experiment 1\n",
      "Ttest_relResult(statistic=nan, pvalue=nan)\n",
      "Ttest_relResult(statistic=nan, pvalue=nan)\n"
     ]
    },
    {
     "data": {
      "text/html": [
       "<div>\n",
       "<table border=\"1\" class=\"dataframe\">\n",
       "  <thead>\n",
       "    <tr style=\"text-align: right;\">\n",
       "      <th></th>\n",
       "      <th>p-value</th>\n",
       "      <th>RDN-B</th>\n",
       "    </tr>\n",
       "  </thead>\n",
       "  <tbody>\n",
       "    <tr>\n",
       "      <th>0</th>\n",
       "      <td>transferRDN-B Ref</td>\n",
       "      <td>nan</td>\n",
       "    </tr>\n",
       "    <tr>\n",
       "      <th>1</th>\n",
       "      <td>transferRDN-B</td>\n",
       "      <td>nan</td>\n",
       "    </tr>\n",
       "  </tbody>\n",
       "</table>\n",
       "</div>"
      ],
      "text/plain": [
       "             p-value RDN-B\n",
       "0  transferRDN-B Ref   nan\n",
       "1      transferRDN-B   nan"
      ]
     },
     "metadata": {},
     "output_type": "display_data"
    },
    {
     "name": "stdout",
     "output_type": "stream",
     "text": [
      "\n",
      "\n",
      "Scratch: [0. 0. 0. 0.]\n",
      "Transfer: [0. 0. 0. 0.]\n",
      "Transfer & Revision: [0. 0. 0. 0.]\n"
     ]
    },
    {
     "data": {
      "text/markdown": [
       "## F1"
      ],
      "text/plain": [
       "<IPython.core.display.Markdown object>"
      ]
     },
     "metadata": {},
     "output_type": "display_data"
    },
    {
     "name": "stdout",
     "output_type": "stream",
     "text": [
      "T-test for experiment 1\n",
      "Ttest_relResult(statistic=nan, pvalue=nan)\n",
      "Ttest_relResult(statistic=nan, pvalue=nan)\n"
     ]
    },
    {
     "data": {
      "text/html": [
       "<div>\n",
       "<table border=\"1\" class=\"dataframe\">\n",
       "  <thead>\n",
       "    <tr style=\"text-align: right;\">\n",
       "      <th></th>\n",
       "      <th>p-value</th>\n",
       "      <th>RDN-B</th>\n",
       "    </tr>\n",
       "  </thead>\n",
       "  <tbody>\n",
       "    <tr>\n",
       "      <th>0</th>\n",
       "      <td>transferRDN-B Ref</td>\n",
       "      <td>nan</td>\n",
       "    </tr>\n",
       "    <tr>\n",
       "      <th>1</th>\n",
       "      <td>transferRDN-B</td>\n",
       "      <td>nan</td>\n",
       "    </tr>\n",
       "  </tbody>\n",
       "</table>\n",
       "</div>"
      ],
      "text/plain": [
       "             p-value RDN-B\n",
       "0  transferRDN-B Ref   nan\n",
       "1      transferRDN-B   nan"
      ]
     },
     "metadata": {},
     "output_type": "display_data"
    },
    {
     "name": "stdout",
     "output_type": "stream",
     "text": [
      "\n",
      "\n",
      "Scratch: [nan nan nan nan]\n",
      "Transfer: [nan nan nan nan]\n",
      "Transfer & Revision: [nan nan nan nan]\n"
     ]
    },
    {
     "data": {
      "text/markdown": [
       "## Precision"
      ],
      "text/plain": [
       "<IPython.core.display.Markdown object>"
      ]
     },
     "metadata": {},
     "output_type": "display_data"
    },
    {
     "name": "stdout",
     "output_type": "stream",
     "text": [
      "\n",
      "\n",
      "Scratch: [nan nan nan nan]\n",
      "Transfer: [nan nan nan nan]\n",
      "Transfer & Revision: [nan nan nan nan]\n"
     ]
    },
    {
     "data": {
      "text/markdown": [
       "## Learning and Revision time"
      ],
      "text/plain": [
       "<IPython.core.display.Markdown object>"
      ]
     },
     "metadata": {},
     "output_type": "display_data"
    },
    {
     "name": "stdout",
     "output_type": "stream",
     "text": [
      "\n",
      "\n",
      "Scratch: [28.003 67.802 16.043 25.812]\n",
      "Transfer: [12.767 62.002 10.61   8.76 ]\n",
      "Transfer & Revision: [ 30.382 124.247  20.664  18.682]\n"
     ]
    },
    {
     "data": {
      "text/markdown": [
       "## Inference time"
      ],
      "text/plain": [
       "<IPython.core.display.Markdown object>"
      ]
     },
     "metadata": {},
     "output_type": "display_data"
    },
    {
     "name": "stdout",
     "output_type": "stream",
     "text": [
      "\n",
      "\n",
      "Scratch: [1.387 1.485 1.69  1.633]\n",
      "Transfer: [12.767 62.002 10.61   8.76 ]\n",
      "Transfer & Revision: [1.514 1.976 1.552 1.903]\n"
     ]
    },
    {
     "data": {
      "text/markdown": [
       "# Results for 28_twitter_yeast"
      ],
      "text/plain": [
       "<IPython.core.display.Markdown object>"
      ]
     },
     "metadata": {},
     "output_type": "display_data"
    },
    {
     "data": {
      "text/markdown": [
       "## AUC ROC"
      ],
      "text/plain": [
       "<IPython.core.display.Markdown object>"
      ]
     },
     "metadata": {},
     "output_type": "display_data"
    },
    {
     "name": "stdout",
     "output_type": "stream",
     "text": [
      "T-test for experiment 1\n",
      "Ttest_relResult(statistic=nan, pvalue=nan)\n",
      "Ttest_relResult(statistic=nan, pvalue=nan)\n"
     ]
    },
    {
     "data": {
      "text/html": [
       "<div>\n",
       "<table border=\"1\" class=\"dataframe\">\n",
       "  <thead>\n",
       "    <tr style=\"text-align: right;\">\n",
       "      <th></th>\n",
       "      <th>p-value</th>\n",
       "      <th>RDN-B</th>\n",
       "    </tr>\n",
       "  </thead>\n",
       "  <tbody>\n",
       "    <tr>\n",
       "      <th>0</th>\n",
       "      <td>transferRDN-B Ref</td>\n",
       "      <td>nan</td>\n",
       "    </tr>\n",
       "    <tr>\n",
       "      <th>1</th>\n",
       "      <td>transferRDN-B</td>\n",
       "      <td>nan</td>\n",
       "    </tr>\n",
       "  </tbody>\n",
       "</table>\n",
       "</div>"
      ],
      "text/plain": [
       "             p-value RDN-B\n",
       "0  transferRDN-B Ref   nan\n",
       "1      transferRDN-B   nan"
      ]
     },
     "metadata": {},
     "output_type": "display_data"
    },
    {
     "name": "stdout",
     "output_type": "stream",
     "text": [
      "\n",
      "\n",
      "Scratch: [0.5 0.5 0.5 0.5]\n",
      "Transfer: [0.5 0.5 0.5 0.5]\n",
      "Transfer & Revision: [0.5 0.5 0.5 0.5]\n"
     ]
    },
    {
     "data": {
      "text/markdown": [
       "## AUC PR"
      ],
      "text/plain": [
       "<IPython.core.display.Markdown object>"
      ]
     },
     "metadata": {},
     "output_type": "display_data"
    },
    {
     "name": "stdout",
     "output_type": "stream",
     "text": [
      "T-test for experiment 1\n",
      "Ttest_relResult(statistic=nan, pvalue=nan)\n",
      "Ttest_relResult(statistic=nan, pvalue=nan)\n"
     ]
    },
    {
     "data": {
      "text/html": [
       "<div>\n",
       "<table border=\"1\" class=\"dataframe\">\n",
       "  <thead>\n",
       "    <tr style=\"text-align: right;\">\n",
       "      <th></th>\n",
       "      <th>p-value</th>\n",
       "      <th>RDN-B</th>\n",
       "    </tr>\n",
       "  </thead>\n",
       "  <tbody>\n",
       "    <tr>\n",
       "      <th>0</th>\n",
       "      <td>transferRDN-B Ref</td>\n",
       "      <td>nan</td>\n",
       "    </tr>\n",
       "    <tr>\n",
       "      <th>1</th>\n",
       "      <td>transferRDN-B</td>\n",
       "      <td>nan</td>\n",
       "    </tr>\n",
       "  </tbody>\n",
       "</table>\n",
       "</div>"
      ],
      "text/plain": [
       "             p-value RDN-B\n",
       "0  transferRDN-B Ref   nan\n",
       "1      transferRDN-B   nan"
      ]
     },
     "metadata": {},
     "output_type": "display_data"
    },
    {
     "name": "stdout",
     "output_type": "stream",
     "text": [
      "\n",
      "\n",
      "Scratch: [0.5 0.5 0.5 0.5]\n",
      "Transfer: [0.5 0.5 0.5 0.5]\n",
      "Transfer & Revision: [0.5 0.5 0.5 0.5]\n"
     ]
    },
    {
     "data": {
      "text/markdown": [
       "## CLL"
      ],
      "text/plain": [
       "<IPython.core.display.Markdown object>"
      ]
     },
     "metadata": {},
     "output_type": "display_data"
    },
    {
     "name": "stdout",
     "output_type": "stream",
     "text": [
      "T-test for experiment 1\n",
      "Ttest_relResult(statistic=-1.6685740387587018, pvalue=0.19379374913279981)\n",
      "Ttest_relResult(statistic=-1.713934954035557, pvalue=0.18505444349487804)\n"
     ]
    },
    {
     "data": {
      "text/html": [
       "<div>\n",
       "<table border=\"1\" class=\"dataframe\">\n",
       "  <thead>\n",
       "    <tr style=\"text-align: right;\">\n",
       "      <th></th>\n",
       "      <th>p-value</th>\n",
       "      <th>RDN-B</th>\n",
       "    </tr>\n",
       "  </thead>\n",
       "  <tbody>\n",
       "    <tr>\n",
       "      <th>0</th>\n",
       "      <td>transferRDN-B Ref</td>\n",
       "      <td>0.194</td>\n",
       "    </tr>\n",
       "    <tr>\n",
       "      <th>1</th>\n",
       "      <td>transferRDN-B</td>\n",
       "      <td>0.185</td>\n",
       "    </tr>\n",
       "  </tbody>\n",
       "</table>\n",
       "</div>"
      ],
      "text/plain": [
       "             p-value  RDN-B\n",
       "0  transferRDN-B Ref  0.194\n",
       "1      transferRDN-B  0.185"
      ]
     },
     "metadata": {},
     "output_type": "display_data"
    },
    {
     "name": "stdout",
     "output_type": "stream",
     "text": [
      "\n",
      "\n",
      "Scratch: [-0.695026 -0.695026 -0.695026 -0.695026]\n",
      "Transfer: [-0.695026 -0.695026 -0.695957 -0.695783]\n",
      "Transfer & Revision: [-0.695026 -0.695026 -0.695257 -0.695181]\n"
     ]
    },
    {
     "data": {
      "text/markdown": [
       "## Recall"
      ],
      "text/plain": [
       "<IPython.core.display.Markdown object>"
      ]
     },
     "metadata": {},
     "output_type": "display_data"
    },
    {
     "name": "stdout",
     "output_type": "stream",
     "text": [
      "T-test for experiment 1\n",
      "Ttest_relResult(statistic=nan, pvalue=nan)\n",
      "Ttest_relResult(statistic=nan, pvalue=nan)\n"
     ]
    },
    {
     "data": {
      "text/html": [
       "<div>\n",
       "<table border=\"1\" class=\"dataframe\">\n",
       "  <thead>\n",
       "    <tr style=\"text-align: right;\">\n",
       "      <th></th>\n",
       "      <th>p-value</th>\n",
       "      <th>RDN-B</th>\n",
       "    </tr>\n",
       "  </thead>\n",
       "  <tbody>\n",
       "    <tr>\n",
       "      <th>0</th>\n",
       "      <td>transferRDN-B Ref</td>\n",
       "      <td>nan</td>\n",
       "    </tr>\n",
       "    <tr>\n",
       "      <th>1</th>\n",
       "      <td>transferRDN-B</td>\n",
       "      <td>nan</td>\n",
       "    </tr>\n",
       "  </tbody>\n",
       "</table>\n",
       "</div>"
      ],
      "text/plain": [
       "             p-value RDN-B\n",
       "0  transferRDN-B Ref   nan\n",
       "1      transferRDN-B   nan"
      ]
     },
     "metadata": {},
     "output_type": "display_data"
    },
    {
     "name": "stdout",
     "output_type": "stream",
     "text": [
      "\n",
      "\n",
      "Scratch: [0. 0. 0. 0.]\n",
      "Transfer: [0. 0. 0. 0.]\n",
      "Transfer & Revision: [0. 0. 0. 0.]\n"
     ]
    },
    {
     "data": {
      "text/markdown": [
       "## F1"
      ],
      "text/plain": [
       "<IPython.core.display.Markdown object>"
      ]
     },
     "metadata": {},
     "output_type": "display_data"
    },
    {
     "name": "stdout",
     "output_type": "stream",
     "text": [
      "T-test for experiment 1\n",
      "Ttest_relResult(statistic=nan, pvalue=nan)\n",
      "Ttest_relResult(statistic=nan, pvalue=nan)\n"
     ]
    },
    {
     "data": {
      "text/html": [
       "<div>\n",
       "<table border=\"1\" class=\"dataframe\">\n",
       "  <thead>\n",
       "    <tr style=\"text-align: right;\">\n",
       "      <th></th>\n",
       "      <th>p-value</th>\n",
       "      <th>RDN-B</th>\n",
       "    </tr>\n",
       "  </thead>\n",
       "  <tbody>\n",
       "    <tr>\n",
       "      <th>0</th>\n",
       "      <td>transferRDN-B Ref</td>\n",
       "      <td>nan</td>\n",
       "    </tr>\n",
       "    <tr>\n",
       "      <th>1</th>\n",
       "      <td>transferRDN-B</td>\n",
       "      <td>nan</td>\n",
       "    </tr>\n",
       "  </tbody>\n",
       "</table>\n",
       "</div>"
      ],
      "text/plain": [
       "             p-value RDN-B\n",
       "0  transferRDN-B Ref   nan\n",
       "1      transferRDN-B   nan"
      ]
     },
     "metadata": {},
     "output_type": "display_data"
    },
    {
     "name": "stdout",
     "output_type": "stream",
     "text": [
      "\n",
      "\n",
      "Scratch: [nan nan nan nan]\n",
      "Transfer: [nan nan nan nan]\n",
      "Transfer & Revision: [nan nan nan nan]\n"
     ]
    },
    {
     "data": {
      "text/markdown": [
       "## Precision"
      ],
      "text/plain": [
       "<IPython.core.display.Markdown object>"
      ]
     },
     "metadata": {},
     "output_type": "display_data"
    },
    {
     "name": "stdout",
     "output_type": "stream",
     "text": [
      "\n",
      "\n",
      "Scratch: [nan nan nan nan]\n",
      "Transfer: [nan nan nan nan]\n",
      "Transfer & Revision: [nan nan nan nan]\n"
     ]
    },
    {
     "data": {
      "text/markdown": [
       "## Learning and Revision time"
      ],
      "text/plain": [
       "<IPython.core.display.Markdown object>"
      ]
     },
     "metadata": {},
     "output_type": "display_data"
    },
    {
     "name": "stdout",
     "output_type": "stream",
     "text": [
      "\n",
      "\n",
      "Scratch: [13.982 13.162  9.728 12.337]\n",
      "Transfer: [5.964 8.301 6.139 5.204]\n",
      "Transfer & Revision: [13.078 17.368 12.524 12.703]\n"
     ]
    },
    {
     "data": {
      "text/markdown": [
       "## Inference time"
      ],
      "text/plain": [
       "<IPython.core.display.Markdown object>"
      ]
     },
     "metadata": {},
     "output_type": "display_data"
    },
    {
     "name": "stdout",
     "output_type": "stream",
     "text": [
      "\n",
      "\n",
      "Scratch: [1.523 1.292 1.28  1.004]\n",
      "Transfer: [5.964 8.301 6.139 5.204]\n",
      "Transfer & Revision: [1.304 1.179 1.527 1.71 ]\n"
     ]
    },
    {
     "data": {
      "text/markdown": [
       "# Results for 29_nell_sports_nell_finances"
      ],
      "text/plain": [
       "<IPython.core.display.Markdown object>"
      ]
     },
     "metadata": {},
     "output_type": "display_data"
    },
    {
     "data": {
      "text/markdown": [
       "## AUC ROC"
      ],
      "text/plain": [
       "<IPython.core.display.Markdown object>"
      ]
     },
     "metadata": {},
     "output_type": "display_data"
    },
    {
     "name": "stdout",
     "output_type": "stream",
     "text": [
      "T-test for experiment 1\n",
      "Ttest_relResult(statistic=0.11580438861594325, pvalue=0.9183870950278691)\n",
      "Ttest_relResult(statistic=-3.0580747073419134, pvalue=0.0923564510940786)\n"
     ]
    },
    {
     "data": {
      "text/html": [
       "<div>\n",
       "<table border=\"1\" class=\"dataframe\">\n",
       "  <thead>\n",
       "    <tr style=\"text-align: right;\">\n",
       "      <th></th>\n",
       "      <th>p-value</th>\n",
       "      <th>RDN-B</th>\n",
       "    </tr>\n",
       "  </thead>\n",
       "  <tbody>\n",
       "    <tr>\n",
       "      <th>0</th>\n",
       "      <td>transferRDN-B Ref</td>\n",
       "      <td>0.918</td>\n",
       "    </tr>\n",
       "    <tr>\n",
       "      <th>1</th>\n",
       "      <td>transferRDN-B</td>\n",
       "      <td>0.092</td>\n",
       "    </tr>\n",
       "  </tbody>\n",
       "</table>\n",
       "</div>"
      ],
      "text/plain": [
       "             p-value  RDN-B\n",
       "0  transferRDN-B Ref  0.918\n",
       "1      transferRDN-B  0.092"
      ]
     },
     "metadata": {},
     "output_type": "display_data"
    },
    {
     "name": "stdout",
     "output_type": "stream",
     "text": [
      "\n",
      "\n",
      "Scratch: [0.620314 0.615769 0.576634]\n",
      "Transfer: [0.60993  0.605358 0.573923]\n",
      "Transfer & Revision: [0.611612 0.594279 0.612912]\n"
     ]
    },
    {
     "data": {
      "text/markdown": [
       "## AUC PR"
      ],
      "text/plain": [
       "<IPython.core.display.Markdown object>"
      ]
     },
     "metadata": {},
     "output_type": "display_data"
    },
    {
     "name": "stdout",
     "output_type": "stream",
     "text": [
      "T-test for experiment 1\n",
      "Ttest_relResult(statistic=-0.22592264322699815, pvalue=0.8422488313593051)\n",
      "Ttest_relResult(statistic=-3.8373538623956644, pvalue=0.06169271003044671)\n"
     ]
    },
    {
     "data": {
      "text/html": [
       "<div>\n",
       "<table border=\"1\" class=\"dataframe\">\n",
       "  <thead>\n",
       "    <tr style=\"text-align: right;\">\n",
       "      <th></th>\n",
       "      <th>p-value</th>\n",
       "      <th>RDN-B</th>\n",
       "    </tr>\n",
       "  </thead>\n",
       "  <tbody>\n",
       "    <tr>\n",
       "      <th>0</th>\n",
       "      <td>transferRDN-B Ref</td>\n",
       "      <td>0.842</td>\n",
       "    </tr>\n",
       "    <tr>\n",
       "      <th>1</th>\n",
       "      <td>transferRDN-B</td>\n",
       "      <td>0.062</td>\n",
       "    </tr>\n",
       "  </tbody>\n",
       "</table>\n",
       "</div>"
      ],
      "text/plain": [
       "             p-value  RDN-B\n",
       "0  transferRDN-B Ref  0.842\n",
       "1      transferRDN-B  0.062"
      ]
     },
     "metadata": {},
     "output_type": "display_data"
    },
    {
     "name": "stdout",
     "output_type": "stream",
     "text": [
      "\n",
      "\n",
      "Scratch: [0.680309 0.650357 0.632793]\n",
      "Transfer: [0.630586 0.627015 0.607741]\n",
      "Transfer & Revision: [0.6556   0.634989 0.661669]\n"
     ]
    },
    {
     "data": {
      "text/markdown": [
       "## CLL"
      ],
      "text/plain": [
       "<IPython.core.display.Markdown object>"
      ]
     },
     "metadata": {},
     "output_type": "display_data"
    },
    {
     "name": "stdout",
     "output_type": "stream",
     "text": [
      "T-test for experiment 1\n",
      "Ttest_relResult(statistic=0.25051707051023103, pvalue=0.8255732455510081)\n",
      "Ttest_relResult(statistic=-2.134182561310813, pvalue=0.16640713073035235)\n"
     ]
    },
    {
     "data": {
      "text/html": [
       "<div>\n",
       "<table border=\"1\" class=\"dataframe\">\n",
       "  <thead>\n",
       "    <tr style=\"text-align: right;\">\n",
       "      <th></th>\n",
       "      <th>p-value</th>\n",
       "      <th>RDN-B</th>\n",
       "    </tr>\n",
       "  </thead>\n",
       "  <tbody>\n",
       "    <tr>\n",
       "      <th>0</th>\n",
       "      <td>transferRDN-B Ref</td>\n",
       "      <td>0.826</td>\n",
       "    </tr>\n",
       "    <tr>\n",
       "      <th>1</th>\n",
       "      <td>transferRDN-B</td>\n",
       "      <td>0.166</td>\n",
       "    </tr>\n",
       "  </tbody>\n",
       "</table>\n",
       "</div>"
      ],
      "text/plain": [
       "             p-value  RDN-B\n",
       "0  transferRDN-B Ref  0.826\n",
       "1      transferRDN-B  0.166"
      ]
     },
     "metadata": {},
     "output_type": "display_data"
    },
    {
     "name": "stdout",
     "output_type": "stream",
     "text": [
      "\n",
      "\n",
      "Scratch: [-0.654782 -0.662086 -0.673011]\n",
      "Transfer: [-0.66836  -0.673095 -0.673681]\n",
      "Transfer & Revision: [-0.654577 -0.666837 -0.665874]\n"
     ]
    },
    {
     "data": {
      "text/markdown": [
       "## Recall"
      ],
      "text/plain": [
       "<IPython.core.display.Markdown object>"
      ]
     },
     "metadata": {},
     "output_type": "display_data"
    },
    {
     "name": "stdout",
     "output_type": "stream",
     "text": [
      "T-test for experiment 1\n",
      "Ttest_relResult(statistic=-0.19932242869613434, pvalue=0.8604371308354737)\n",
      "Ttest_relResult(statistic=0.27449786512326296, pvalue=0.8094568270300875)\n"
     ]
    },
    {
     "data": {
      "text/html": [
       "<div>\n",
       "<table border=\"1\" class=\"dataframe\">\n",
       "  <thead>\n",
       "    <tr style=\"text-align: right;\">\n",
       "      <th></th>\n",
       "      <th>p-value</th>\n",
       "      <th>RDN-B</th>\n",
       "    </tr>\n",
       "  </thead>\n",
       "  <tbody>\n",
       "    <tr>\n",
       "      <th>0</th>\n",
       "      <td>transferRDN-B Ref</td>\n",
       "      <td>0.860</td>\n",
       "    </tr>\n",
       "    <tr>\n",
       "      <th>1</th>\n",
       "      <td>transferRDN-B</td>\n",
       "      <td>0.809</td>\n",
       "    </tr>\n",
       "  </tbody>\n",
       "</table>\n",
       "</div>"
      ],
      "text/plain": [
       "             p-value  RDN-B\n",
       "0  transferRDN-B Ref  0.860\n",
       "1      transferRDN-B  0.809"
      ]
     },
     "metadata": {},
     "output_type": "display_data"
    },
    {
     "name": "stdout",
     "output_type": "stream",
     "text": [
      "\n",
      "\n",
      "Scratch: [0.282282 0.276276 0.269461]\n",
      "Transfer: [0.318318 0.249249 0.275449]\n",
      "Transfer & Revision: [0.297297 0.243243 0.278443]\n"
     ]
    },
    {
     "data": {
      "text/markdown": [
       "## F1"
      ],
      "text/plain": [
       "<IPython.core.display.Markdown object>"
      ]
     },
     "metadata": {},
     "output_type": "display_data"
    },
    {
     "name": "stdout",
     "output_type": "stream",
     "text": [
      "T-test for experiment 1\n",
      "Ttest_relResult(statistic=-0.1963069414926289, pvalue=0.8625083196306522)\n",
      "Ttest_relResult(statistic=-0.3347747903499657, pvalue=0.7696447232508744)\n"
     ]
    },
    {
     "data": {
      "text/html": [
       "<div>\n",
       "<table border=\"1\" class=\"dataframe\">\n",
       "  <thead>\n",
       "    <tr style=\"text-align: right;\">\n",
       "      <th></th>\n",
       "      <th>p-value</th>\n",
       "      <th>RDN-B</th>\n",
       "    </tr>\n",
       "  </thead>\n",
       "  <tbody>\n",
       "    <tr>\n",
       "      <th>0</th>\n",
       "      <td>transferRDN-B Ref</td>\n",
       "      <td>0.863</td>\n",
       "    </tr>\n",
       "    <tr>\n",
       "      <th>1</th>\n",
       "      <td>transferRDN-B</td>\n",
       "      <td>0.770</td>\n",
       "    </tr>\n",
       "  </tbody>\n",
       "</table>\n",
       "</div>"
      ],
      "text/plain": [
       "             p-value  RDN-B\n",
       "0  transferRDN-B Ref  0.863\n",
       "1      transferRDN-B  0.770"
      ]
     },
     "metadata": {},
     "output_type": "display_data"
    },
    {
     "name": "stdout",
     "output_type": "stream",
     "text": [
      "\n",
      "\n",
      "Scratch: [0.414097 0.395699 0.392157]\n",
      "Transfer: [0.426559 0.373874 0.391489]\n",
      "Transfer & Revision: [0.426724 0.366516 0.400862]\n"
     ]
    },
    {
     "data": {
      "text/markdown": [
       "## Precision"
      ],
      "text/plain": [
       "<IPython.core.display.Markdown object>"
      ]
     },
     "metadata": {},
     "output_type": "display_data"
    },
    {
     "name": "stdout",
     "output_type": "stream",
     "text": [
      "\n",
      "\n",
      "Scratch: [0.77686 0.69697 0.72   ]\n",
      "Transfer: [0.646341 0.747748 0.676471]\n",
      "Transfer & Revision: [0.755725 0.743119 0.715385]\n"
     ]
    },
    {
     "data": {
      "text/markdown": [
       "## Learning and Revision time"
      ],
      "text/plain": [
       "<IPython.core.display.Markdown object>"
      ]
     },
     "metadata": {},
     "output_type": "display_data"
    },
    {
     "name": "stdout",
     "output_type": "stream",
     "text": [
      "\n",
      "\n",
      "Scratch: [ 8.441 10.064  9.687]\n",
      "Transfer: [4.983 5.522 4.189]\n",
      "Transfer & Revision: [12.701 13.399 14.104]\n"
     ]
    },
    {
     "data": {
      "text/markdown": [
       "## Inference time"
      ],
      "text/plain": [
       "<IPython.core.display.Markdown object>"
      ]
     },
     "metadata": {},
     "output_type": "display_data"
    },
    {
     "name": "stdout",
     "output_type": "stream",
     "text": [
      "\n",
      "\n",
      "Scratch: [1.303 1.243 1.298]\n",
      "Transfer: [4.983 5.522 4.189]\n",
      "Transfer & Revision: [1.058 0.988 1.207]\n"
     ]
    },
    {
     "data": {
      "text/markdown": [
       "# Results for 30_nell_sports_nell_finances"
      ],
      "text/plain": [
       "<IPython.core.display.Markdown object>"
      ]
     },
     "metadata": {},
     "output_type": "display_data"
    },
    {
     "data": {
      "text/markdown": [
       "## AUC ROC"
      ],
      "text/plain": [
       "<IPython.core.display.Markdown object>"
      ]
     },
     "metadata": {},
     "output_type": "display_data"
    },
    {
     "name": "stdout",
     "output_type": "stream",
     "text": [
      "T-test for experiment 1\n",
      "Ttest_relResult(statistic=-0.9981147291632618, pvalue=0.4233760561950931)\n",
      "Ttest_relResult(statistic=-1.4977321181292462, pvalue=0.2729114336909011)\n"
     ]
    },
    {
     "data": {
      "text/html": [
       "<div>\n",
       "<table border=\"1\" class=\"dataframe\">\n",
       "  <thead>\n",
       "    <tr style=\"text-align: right;\">\n",
       "      <th></th>\n",
       "      <th>p-value</th>\n",
       "      <th>RDN-B</th>\n",
       "    </tr>\n",
       "  </thead>\n",
       "  <tbody>\n",
       "    <tr>\n",
       "      <th>0</th>\n",
       "      <td>transferRDN-B Ref</td>\n",
       "      <td>0.423</td>\n",
       "    </tr>\n",
       "    <tr>\n",
       "      <th>1</th>\n",
       "      <td>transferRDN-B</td>\n",
       "      <td>0.273</td>\n",
       "    </tr>\n",
       "  </tbody>\n",
       "</table>\n",
       "</div>"
      ],
      "text/plain": [
       "             p-value  RDN-B\n",
       "0  transferRDN-B Ref  0.423\n",
       "1      transferRDN-B  0.273"
      ]
     },
     "metadata": {},
     "output_type": "display_data"
    },
    {
     "name": "stdout",
     "output_type": "stream",
     "text": [
      "\n",
      "\n",
      "Scratch: [0.629747 0.607531 0.634623]\n",
      "Transfer: [0.601142 0.613726 0.595306]\n",
      "Transfer & Revision: [0.621175 0.6085   0.633543]\n"
     ]
    },
    {
     "data": {
      "text/markdown": [
       "## AUC PR"
      ],
      "text/plain": [
       "<IPython.core.display.Markdown object>"
      ]
     },
     "metadata": {},
     "output_type": "display_data"
    },
    {
     "name": "stdout",
     "output_type": "stream",
     "text": [
      "T-test for experiment 1\n",
      "Ttest_relResult(statistic=-0.4533088570817773, pvalue=0.6947597753129979)\n",
      "Ttest_relResult(statistic=-1.7311891462658353, pvalue=0.22555753845404852)\n"
     ]
    },
    {
     "data": {
      "text/html": [
       "<div>\n",
       "<table border=\"1\" class=\"dataframe\">\n",
       "  <thead>\n",
       "    <tr style=\"text-align: right;\">\n",
       "      <th></th>\n",
       "      <th>p-value</th>\n",
       "      <th>RDN-B</th>\n",
       "    </tr>\n",
       "  </thead>\n",
       "  <tbody>\n",
       "    <tr>\n",
       "      <th>0</th>\n",
       "      <td>transferRDN-B Ref</td>\n",
       "      <td>0.695</td>\n",
       "    </tr>\n",
       "    <tr>\n",
       "      <th>1</th>\n",
       "      <td>transferRDN-B</td>\n",
       "      <td>0.226</td>\n",
       "    </tr>\n",
       "  </tbody>\n",
       "</table>\n",
       "</div>"
      ],
      "text/plain": [
       "             p-value  RDN-B\n",
       "0  transferRDN-B Ref  0.695\n",
       "1      transferRDN-B  0.226"
      ]
     },
     "metadata": {},
     "output_type": "display_data"
    },
    {
     "name": "stdout",
     "output_type": "stream",
     "text": [
      "\n",
      "\n",
      "Scratch: [0.676617 0.655699 0.667832]\n",
      "Transfer: [0.639812 0.659383 0.629505]\n",
      "Transfer & Revision: [0.66687  0.651812 0.674805]\n"
     ]
    },
    {
     "data": {
      "text/markdown": [
       "## CLL"
      ],
      "text/plain": [
       "<IPython.core.display.Markdown object>"
      ]
     },
     "metadata": {},
     "output_type": "display_data"
    },
    {
     "name": "stdout",
     "output_type": "stream",
     "text": [
      "T-test for experiment 1\n",
      "Ttest_relResult(statistic=-0.8990621773334404, pvalue=0.46350338260747914)\n",
      "Ttest_relResult(statistic=-2.812176258716598, pvalue=0.10660773122608778)\n"
     ]
    },
    {
     "data": {
      "text/html": [
       "<div>\n",
       "<table border=\"1\" class=\"dataframe\">\n",
       "  <thead>\n",
       "    <tr style=\"text-align: right;\">\n",
       "      <th></th>\n",
       "      <th>p-value</th>\n",
       "      <th>RDN-B</th>\n",
       "    </tr>\n",
       "  </thead>\n",
       "  <tbody>\n",
       "    <tr>\n",
       "      <th>0</th>\n",
       "      <td>transferRDN-B Ref</td>\n",
       "      <td>0.464</td>\n",
       "    </tr>\n",
       "    <tr>\n",
       "      <th>1</th>\n",
       "      <td>transferRDN-B</td>\n",
       "      <td>0.107</td>\n",
       "    </tr>\n",
       "  </tbody>\n",
       "</table>\n",
       "</div>"
      ],
      "text/plain": [
       "             p-value  RDN-B\n",
       "0  transferRDN-B Ref  0.464\n",
       "1      transferRDN-B  0.107"
      ]
     },
     "metadata": {},
     "output_type": "display_data"
    },
    {
     "name": "stdout",
     "output_type": "stream",
     "text": [
      "\n",
      "\n",
      "Scratch: [-0.650817 -0.662462 -0.663099]\n",
      "Transfer: [-0.660535 -0.664878 -0.67482 ]\n",
      "Transfer & Revision: [-0.650857 -0.663953 -0.66296 ]\n"
     ]
    },
    {
     "data": {
      "text/markdown": [
       "## Recall"
      ],
      "text/plain": [
       "<IPython.core.display.Markdown object>"
      ]
     },
     "metadata": {},
     "output_type": "display_data"
    },
    {
     "name": "stdout",
     "output_type": "stream",
     "text": [
      "T-test for experiment 1\n",
      "Ttest_relResult(statistic=-3.4143923332176973, pvalue=0.07611338360274025)\n",
      "Ttest_relResult(statistic=1.3773401421501732, pvalue=0.30229420210691615)\n"
     ]
    },
    {
     "data": {
      "text/html": [
       "<div>\n",
       "<table border=\"1\" class=\"dataframe\">\n",
       "  <thead>\n",
       "    <tr style=\"text-align: right;\">\n",
       "      <th></th>\n",
       "      <th>p-value</th>\n",
       "      <th>RDN-B</th>\n",
       "    </tr>\n",
       "  </thead>\n",
       "  <tbody>\n",
       "    <tr>\n",
       "      <th>0</th>\n",
       "      <td>transferRDN-B Ref</td>\n",
       "      <td>0.076</td>\n",
       "    </tr>\n",
       "    <tr>\n",
       "      <th>1</th>\n",
       "      <td>transferRDN-B</td>\n",
       "      <td>0.302</td>\n",
       "    </tr>\n",
       "  </tbody>\n",
       "</table>\n",
       "</div>"
      ],
      "text/plain": [
       "             p-value  RDN-B\n",
       "0  transferRDN-B Ref  0.076\n",
       "1      transferRDN-B  0.302"
      ]
     },
     "metadata": {},
     "output_type": "display_data"
    },
    {
     "name": "stdout",
     "output_type": "stream",
     "text": [
      "\n",
      "\n",
      "Scratch: [0.327327 0.303303 0.281437]\n",
      "Transfer: [0.324324 0.318318 0.323353]\n",
      "Transfer & Revision: [0.288288 0.27027  0.269461]\n"
     ]
    },
    {
     "data": {
      "text/markdown": [
       "## F1"
      ],
      "text/plain": [
       "<IPython.core.display.Markdown object>"
      ]
     },
     "metadata": {},
     "output_type": "display_data"
    },
    {
     "name": "stdout",
     "output_type": "stream",
     "text": [
      "T-test for experiment 1\n",
      "Ttest_relResult(statistic=-4.73579482421044, pvalue=0.041811129961436266)\n",
      "Ttest_relResult(statistic=0.2763262833445144, pvalue=0.8082341522784885)\n"
     ]
    },
    {
     "data": {
      "text/html": [
       "<div>\n",
       "<table border=\"1\" class=\"dataframe\">\n",
       "  <thead>\n",
       "    <tr style=\"text-align: right;\">\n",
       "      <th></th>\n",
       "      <th>p-value</th>\n",
       "      <th>RDN-B</th>\n",
       "    </tr>\n",
       "  </thead>\n",
       "  <tbody>\n",
       "    <tr>\n",
       "      <th>0</th>\n",
       "      <td>transferRDN-B Ref</td>\n",
       "      <td>0.042</td>\n",
       "    </tr>\n",
       "    <tr>\n",
       "      <th>1</th>\n",
       "      <td>transferRDN-B</td>\n",
       "      <td>0.808</td>\n",
       "    </tr>\n",
       "  </tbody>\n",
       "</table>\n",
       "</div>"
      ],
      "text/plain": [
       "             p-value  RDN-B\n",
       "0  transferRDN-B Ref  0.042\n",
       "1      transferRDN-B  0.808"
      ]
     },
     "metadata": {},
     "output_type": "display_data"
    },
    {
     "name": "stdout",
     "output_type": "stream",
     "text": [
      "\n",
      "\n",
      "Scratch: [0.456067 0.422594 0.405172]\n",
      "Transfer: [0.434608 0.435318 0.424361]\n",
      "Transfer & Revision: [0.423841 0.38961  0.38961 ]\n"
     ]
    },
    {
     "data": {
      "text/markdown": [
       "## Precision"
      ],
      "text/plain": [
       "<IPython.core.display.Markdown object>"
      ]
     },
     "metadata": {},
     "output_type": "display_data"
    },
    {
     "name": "stdout",
     "output_type": "stream",
     "text": [
      "\n",
      "\n",
      "Scratch: [0.751724 0.696552 0.723077]\n",
      "Transfer: [0.658537 0.688312 0.617143]\n",
      "Transfer & Revision: [0.8      0.697674 0.703125]\n"
     ]
    },
    {
     "data": {
      "text/markdown": [
       "## Learning and Revision time"
      ],
      "text/plain": [
       "<IPython.core.display.Markdown object>"
      ]
     },
     "metadata": {},
     "output_type": "display_data"
    },
    {
     "name": "stdout",
     "output_type": "stream",
     "text": [
      "\n",
      "\n",
      "Scratch: [8.761 8.622 8.743]\n",
      "Transfer: [2.454 1.757 4.179]\n",
      "Transfer & Revision: [ 9.521 10.475 12.468]\n"
     ]
    },
    {
     "data": {
      "text/markdown": [
       "## Inference time"
      ],
      "text/plain": [
       "<IPython.core.display.Markdown object>"
      ]
     },
     "metadata": {},
     "output_type": "display_data"
    },
    {
     "name": "stdout",
     "output_type": "stream",
     "text": [
      "\n",
      "\n",
      "Scratch: [1.265 1.251 1.127]\n",
      "Transfer: [2.454 1.757 4.179]\n",
      "Transfer & Revision: [1.347 1.362 1.216]\n"
     ]
    },
    {
     "data": {
      "text/markdown": [
       "# Results for 31_nell_sports_nell_finances"
      ],
      "text/plain": [
       "<IPython.core.display.Markdown object>"
      ]
     },
     "metadata": {},
     "output_type": "display_data"
    },
    {
     "data": {
      "text/markdown": [
       "## AUC ROC"
      ],
      "text/plain": [
       "<IPython.core.display.Markdown object>"
      ]
     },
     "metadata": {},
     "output_type": "display_data"
    },
    {
     "name": "stdout",
     "output_type": "stream",
     "text": [
      "T-test for experiment 1\n",
      "Ttest_relResult(statistic=-2.362174617780583, pvalue=0.14201212445452888)\n",
      "Ttest_relResult(statistic=-2.57323391758242, pvalue=0.12363096337834502)\n"
     ]
    },
    {
     "data": {
      "text/html": [
       "<div>\n",
       "<table border=\"1\" class=\"dataframe\">\n",
       "  <thead>\n",
       "    <tr style=\"text-align: right;\">\n",
       "      <th></th>\n",
       "      <th>p-value</th>\n",
       "      <th>RDN-B</th>\n",
       "    </tr>\n",
       "  </thead>\n",
       "  <tbody>\n",
       "    <tr>\n",
       "      <th>0</th>\n",
       "      <td>transferRDN-B Ref</td>\n",
       "      <td>0.142</td>\n",
       "    </tr>\n",
       "    <tr>\n",
       "      <th>1</th>\n",
       "      <td>transferRDN-B</td>\n",
       "      <td>0.124</td>\n",
       "    </tr>\n",
       "  </tbody>\n",
       "</table>\n",
       "</div>"
      ],
      "text/plain": [
       "             p-value  RDN-B\n",
       "0  transferRDN-B Ref  0.142\n",
       "1      transferRDN-B  0.124"
      ]
     },
     "metadata": {},
     "output_type": "display_data"
    },
    {
     "name": "stdout",
     "output_type": "stream",
     "text": [
      "\n",
      "\n",
      "Scratch: [0.561548 0.583231 0.600661]\n",
      "Transfer: [0.548558 0.548438 0.538398]\n",
      "Transfer & Revision: [0.531296 0.580034 0.573893]\n"
     ]
    },
    {
     "data": {
      "text/markdown": [
       "## AUC PR"
      ],
      "text/plain": [
       "<IPython.core.display.Markdown object>"
      ]
     },
     "metadata": {},
     "output_type": "display_data"
    },
    {
     "name": "stdout",
     "output_type": "stream",
     "text": [
      "T-test for experiment 1\n",
      "Ttest_relResult(statistic=-1.7117687050243553, pvalue=0.22907004054653354)\n",
      "Ttest_relResult(statistic=-1.8551179537709939, pvalue=0.20473164163437263)\n"
     ]
    },
    {
     "data": {
      "text/html": [
       "<div>\n",
       "<table border=\"1\" class=\"dataframe\">\n",
       "  <thead>\n",
       "    <tr style=\"text-align: right;\">\n",
       "      <th></th>\n",
       "      <th>p-value</th>\n",
       "      <th>RDN-B</th>\n",
       "    </tr>\n",
       "  </thead>\n",
       "  <tbody>\n",
       "    <tr>\n",
       "      <th>0</th>\n",
       "      <td>transferRDN-B Ref</td>\n",
       "      <td>0.229</td>\n",
       "    </tr>\n",
       "    <tr>\n",
       "      <th>1</th>\n",
       "      <td>transferRDN-B</td>\n",
       "      <td>0.205</td>\n",
       "    </tr>\n",
       "  </tbody>\n",
       "</table>\n",
       "</div>"
      ],
      "text/plain": [
       "             p-value  RDN-B\n",
       "0  transferRDN-B Ref  0.229\n",
       "1      transferRDN-B  0.205"
      ]
     },
     "metadata": {},
     "output_type": "display_data"
    },
    {
     "name": "stdout",
     "output_type": "stream",
     "text": [
      "\n",
      "\n",
      "Scratch: [0.58973  0.599796 0.614991]\n",
      "Transfer: [0.580608 0.579552 0.55081 ]\n",
      "Transfer & Revision: [0.565758 0.602144 0.581149]\n"
     ]
    },
    {
     "data": {
      "text/markdown": [
       "## CLL"
      ],
      "text/plain": [
       "<IPython.core.display.Markdown object>"
      ]
     },
     "metadata": {},
     "output_type": "display_data"
    },
    {
     "name": "stdout",
     "output_type": "stream",
     "text": [
      "T-test for experiment 1\n",
      "Ttest_relResult(statistic=-0.5091268056937762, pvalue=0.6612746871918855)\n",
      "Ttest_relResult(statistic=-0.14364329289603406, pvalue=0.8989487734808355)\n"
     ]
    },
    {
     "data": {
      "text/html": [
       "<div>\n",
       "<table border=\"1\" class=\"dataframe\">\n",
       "  <thead>\n",
       "    <tr style=\"text-align: right;\">\n",
       "      <th></th>\n",
       "      <th>p-value</th>\n",
       "      <th>RDN-B</th>\n",
       "    </tr>\n",
       "  </thead>\n",
       "  <tbody>\n",
       "    <tr>\n",
       "      <th>0</th>\n",
       "      <td>transferRDN-B Ref</td>\n",
       "      <td>0.661</td>\n",
       "    </tr>\n",
       "    <tr>\n",
       "      <th>1</th>\n",
       "      <td>transferRDN-B</td>\n",
       "      <td>0.899</td>\n",
       "    </tr>\n",
       "  </tbody>\n",
       "</table>\n",
       "</div>"
      ],
      "text/plain": [
       "             p-value  RDN-B\n",
       "0  transferRDN-B Ref  0.661\n",
       "1      transferRDN-B  0.899"
      ]
     },
     "metadata": {},
     "output_type": "display_data"
    },
    {
     "name": "stdout",
     "output_type": "stream",
     "text": [
      "\n",
      "\n",
      "Scratch: [-0.696647 -0.673983 -0.676316]\n",
      "Transfer: [-0.678545 -0.684144 -0.688467]\n",
      "Transfer & Revision: [-0.695705 -0.671042 -0.686369]\n"
     ]
    },
    {
     "data": {
      "text/markdown": [
       "## Recall"
      ],
      "text/plain": [
       "<IPython.core.display.Markdown object>"
      ]
     },
     "metadata": {},
     "output_type": "display_data"
    },
    {
     "name": "stdout",
     "output_type": "stream",
     "text": [
      "T-test for experiment 1\n",
      "Ttest_relResult(statistic=-1.4451435977823697, pvalue=0.28528616671739593)\n",
      "Ttest_relResult(statistic=-5.768658492475074, pvalue=0.02876032158166012)\n"
     ]
    },
    {
     "data": {
      "text/html": [
       "<div>\n",
       "<table border=\"1\" class=\"dataframe\">\n",
       "  <thead>\n",
       "    <tr style=\"text-align: right;\">\n",
       "      <th></th>\n",
       "      <th>p-value</th>\n",
       "      <th>RDN-B</th>\n",
       "    </tr>\n",
       "  </thead>\n",
       "  <tbody>\n",
       "    <tr>\n",
       "      <th>0</th>\n",
       "      <td>transferRDN-B Ref</td>\n",
       "      <td>0.285</td>\n",
       "    </tr>\n",
       "    <tr>\n",
       "      <th>1</th>\n",
       "      <td>transferRDN-B</td>\n",
       "      <td>0.029</td>\n",
       "    </tr>\n",
       "  </tbody>\n",
       "</table>\n",
       "</div>"
      ],
      "text/plain": [
       "             p-value  RDN-B\n",
       "0  transferRDN-B Ref  0.285\n",
       "1      transferRDN-B  0.029"
      ]
     },
     "metadata": {},
     "output_type": "display_data"
    },
    {
     "name": "stdout",
     "output_type": "stream",
     "text": [
      "\n",
      "\n",
      "Scratch: [0.167173 0.243161 0.20303 ]\n",
      "Transfer: [0.082067 0.088146 0.090909]\n",
      "Transfer & Revision: [0.155015 0.161094 0.193939]\n"
     ]
    },
    {
     "data": {
      "text/markdown": [
       "## F1"
      ],
      "text/plain": [
       "<IPython.core.display.Markdown object>"
      ]
     },
     "metadata": {},
     "output_type": "display_data"
    },
    {
     "name": "stdout",
     "output_type": "stream",
     "text": [
      "T-test for experiment 1\n",
      "Ttest_relResult(statistic=-1.68236941325485, pvalue=0.23452447962398712)\n",
      "Ttest_relResult(statistic=-6.470748791366239, pvalue=0.02306020037452616)\n"
     ]
    },
    {
     "data": {
      "text/html": [
       "<div>\n",
       "<table border=\"1\" class=\"dataframe\">\n",
       "  <thead>\n",
       "    <tr style=\"text-align: right;\">\n",
       "      <th></th>\n",
       "      <th>p-value</th>\n",
       "      <th>RDN-B</th>\n",
       "    </tr>\n",
       "  </thead>\n",
       "  <tbody>\n",
       "    <tr>\n",
       "      <th>0</th>\n",
       "      <td>transferRDN-B Ref</td>\n",
       "      <td>0.235</td>\n",
       "    </tr>\n",
       "    <tr>\n",
       "      <th>1</th>\n",
       "      <td>transferRDN-B</td>\n",
       "      <td>0.023</td>\n",
       "    </tr>\n",
       "  </tbody>\n",
       "</table>\n",
       "</div>"
      ],
      "text/plain": [
       "             p-value  RDN-B\n",
       "0  transferRDN-B Ref  0.235\n",
       "1      transferRDN-B  0.023"
      ]
     },
     "metadata": {},
     "output_type": "display_data"
    },
    {
     "name": "stdout",
     "output_type": "stream",
     "text": [
      "\n",
      "\n",
      "Scratch: [0.26253  0.354767 0.314554]\n",
      "Transfer: [0.150838 0.160665 0.157895]\n",
      "Transfer & Revision: [0.247573 0.261728 0.294931]\n"
     ]
    },
    {
     "data": {
      "text/markdown": [
       "## Precision"
      ],
      "text/plain": [
       "<IPython.core.display.Markdown object>"
      ]
     },
     "metadata": {},
     "output_type": "display_data"
    },
    {
     "name": "stdout",
     "output_type": "stream",
     "text": [
      "\n",
      "\n",
      "Scratch: [0.611111 0.655738 0.697917]\n",
      "Transfer: [0.931034 0.90625  0.6     ]\n",
      "Transfer & Revision: [0.614458 0.697368 0.615385]\n"
     ]
    },
    {
     "data": {
      "text/markdown": [
       "## Learning and Revision time"
      ],
      "text/plain": [
       "<IPython.core.display.Markdown object>"
      ]
     },
     "metadata": {},
     "output_type": "display_data"
    },
    {
     "name": "stdout",
     "output_type": "stream",
     "text": [
      "\n",
      "\n",
      "Scratch: [11.836 10.125 11.506]\n",
      "Transfer: [4.704 6.423 6.826]\n",
      "Transfer & Revision: [13.989 16.589 15.566]\n"
     ]
    },
    {
     "data": {
      "text/markdown": [
       "## Inference time"
      ],
      "text/plain": [
       "<IPython.core.display.Markdown object>"
      ]
     },
     "metadata": {},
     "output_type": "display_data"
    },
    {
     "name": "stdout",
     "output_type": "stream",
     "text": [
      "\n",
      "\n",
      "Scratch: [1.215 1.273 1.259]\n",
      "Transfer: [4.704 6.423 6.826]\n",
      "Transfer & Revision: [1.254 1.302 1.173]\n"
     ]
    },
    {
     "data": {
      "text/markdown": [
       "# Results for 32_nell_sports_nell_finances"
      ],
      "text/plain": [
       "<IPython.core.display.Markdown object>"
      ]
     },
     "metadata": {},
     "output_type": "display_data"
    },
    {
     "data": {
      "text/markdown": [
       "## AUC ROC"
      ],
      "text/plain": [
       "<IPython.core.display.Markdown object>"
      ]
     },
     "metadata": {},
     "output_type": "display_data"
    },
    {
     "name": "stdout",
     "output_type": "stream",
     "text": [
      "T-test for experiment 1\n",
      "Ttest_relResult(statistic=-2.945724805306193, pvalue=0.09850866133566254)\n",
      "Ttest_relResult(statistic=-12.850443343159535, pvalue=0.006001234239334363)\n"
     ]
    },
    {
     "data": {
      "text/html": [
       "<div>\n",
       "<table border=\"1\" class=\"dataframe\">\n",
       "  <thead>\n",
       "    <tr style=\"text-align: right;\">\n",
       "      <th></th>\n",
       "      <th>p-value</th>\n",
       "      <th>RDN-B</th>\n",
       "    </tr>\n",
       "  </thead>\n",
       "  <tbody>\n",
       "    <tr>\n",
       "      <th>0</th>\n",
       "      <td>transferRDN-B Ref</td>\n",
       "      <td>0.099</td>\n",
       "    </tr>\n",
       "    <tr>\n",
       "      <th>1</th>\n",
       "      <td>transferRDN-B</td>\n",
       "      <td>0.006</td>\n",
       "    </tr>\n",
       "  </tbody>\n",
       "</table>\n",
       "</div>"
      ],
      "text/plain": [
       "             p-value  RDN-B\n",
       "0  transferRDN-B Ref  0.099\n",
       "1      transferRDN-B  0.006"
      ]
     },
     "metadata": {},
     "output_type": "display_data"
    },
    {
     "name": "stdout",
     "output_type": "stream",
     "text": [
      "\n",
      "\n",
      "Scratch: [0.861408 0.855587 0.864218]\n",
      "Transfer: [0.618779 0.547418 0.614492]\n",
      "Transfer & Revision: [0.851268 0.81493  0.820815]\n"
     ]
    },
    {
     "data": {
      "text/markdown": [
       "## AUC PR"
      ],
      "text/plain": [
       "<IPython.core.display.Markdown object>"
      ]
     },
     "metadata": {},
     "output_type": "display_data"
    },
    {
     "name": "stdout",
     "output_type": "stream",
     "text": [
      "T-test for experiment 1\n",
      "Ttest_relResult(statistic=-2.9244288661987934, pvalue=0.09974027293107723)\n",
      "Ttest_relResult(statistic=-25.2036828524297, pvalue=0.0015705361478684685)\n"
     ]
    },
    {
     "data": {
      "text/html": [
       "<div>\n",
       "<table border=\"1\" class=\"dataframe\">\n",
       "  <thead>\n",
       "    <tr style=\"text-align: right;\">\n",
       "      <th></th>\n",
       "      <th>p-value</th>\n",
       "      <th>RDN-B</th>\n",
       "    </tr>\n",
       "  </thead>\n",
       "  <tbody>\n",
       "    <tr>\n",
       "      <th>0</th>\n",
       "      <td>transferRDN-B Ref</td>\n",
       "      <td>0.100</td>\n",
       "    </tr>\n",
       "    <tr>\n",
       "      <th>1</th>\n",
       "      <td>transferRDN-B</td>\n",
       "      <td>0.002</td>\n",
       "    </tr>\n",
       "  </tbody>\n",
       "</table>\n",
       "</div>"
      ],
      "text/plain": [
       "             p-value  RDN-B\n",
       "0  transferRDN-B Ref  0.100\n",
       "1      transferRDN-B  0.002"
      ]
     },
     "metadata": {},
     "output_type": "display_data"
    },
    {
     "name": "stdout",
     "output_type": "stream",
     "text": [
      "\n",
      "\n",
      "Scratch: [0.864527 0.827929 0.868985]\n",
      "Transfer: [0.603596 0.543555 0.620415]\n",
      "Transfer & Revision: [0.851193 0.787135 0.812515]\n"
     ]
    },
    {
     "data": {
      "text/markdown": [
       "## CLL"
      ],
      "text/plain": [
       "<IPython.core.display.Markdown object>"
      ]
     },
     "metadata": {},
     "output_type": "display_data"
    },
    {
     "name": "stdout",
     "output_type": "stream",
     "text": [
      "T-test for experiment 1\n",
      "Ttest_relResult(statistic=-1.4917618945105013, pvalue=0.274281853837765)\n",
      "Ttest_relResult(statistic=-23.856096717474525, pvalue=0.001752501527433037)\n"
     ]
    },
    {
     "data": {
      "text/html": [
       "<div>\n",
       "<table border=\"1\" class=\"dataframe\">\n",
       "  <thead>\n",
       "    <tr style=\"text-align: right;\">\n",
       "      <th></th>\n",
       "      <th>p-value</th>\n",
       "      <th>RDN-B</th>\n",
       "    </tr>\n",
       "  </thead>\n",
       "  <tbody>\n",
       "    <tr>\n",
       "      <th>0</th>\n",
       "      <td>transferRDN-B Ref</td>\n",
       "      <td>0.274</td>\n",
       "    </tr>\n",
       "    <tr>\n",
       "      <th>1</th>\n",
       "      <td>transferRDN-B</td>\n",
       "      <td>0.002</td>\n",
       "    </tr>\n",
       "  </tbody>\n",
       "</table>\n",
       "</div>"
      ],
      "text/plain": [
       "             p-value  RDN-B\n",
       "0  transferRDN-B Ref  0.274\n",
       "1      transferRDN-B  0.002"
      ]
     },
     "metadata": {},
     "output_type": "display_data"
    },
    {
     "name": "stdout",
     "output_type": "stream",
     "text": [
      "\n",
      "\n",
      "Scratch: [-0.469835 -0.483494 -0.453141]\n",
      "Transfer: [-0.675387 -0.686213 -0.683953]\n",
      "Transfer & Revision: [-0.470484 -0.540801 -0.47043 ]\n"
     ]
    },
    {
     "data": {
      "text/markdown": [
       "## Recall"
      ],
      "text/plain": [
       "<IPython.core.display.Markdown object>"
      ]
     },
     "metadata": {},
     "output_type": "display_data"
    },
    {
     "name": "stdout",
     "output_type": "stream",
     "text": [
      "T-test for experiment 1\n",
      "Ttest_relResult(statistic=-3.4339210943268332, pvalue=0.07534522968271641)\n",
      "Ttest_relResult(statistic=-1.4727478653718324, pvalue=0.278704588815718)\n"
     ]
    },
    {
     "data": {
      "text/html": [
       "<div>\n",
       "<table border=\"1\" class=\"dataframe\">\n",
       "  <thead>\n",
       "    <tr style=\"text-align: right;\">\n",
       "      <th></th>\n",
       "      <th>p-value</th>\n",
       "      <th>RDN-B</th>\n",
       "    </tr>\n",
       "  </thead>\n",
       "  <tbody>\n",
       "    <tr>\n",
       "      <th>0</th>\n",
       "      <td>transferRDN-B Ref</td>\n",
       "      <td>0.075</td>\n",
       "    </tr>\n",
       "    <tr>\n",
       "      <th>1</th>\n",
       "      <td>transferRDN-B</td>\n",
       "      <td>0.279</td>\n",
       "    </tr>\n",
       "  </tbody>\n",
       "</table>\n",
       "</div>"
      ],
      "text/plain": [
       "             p-value  RDN-B\n",
       "0  transferRDN-B Ref  0.075\n",
       "1      transferRDN-B  0.279"
      ]
     },
     "metadata": {},
     "output_type": "display_data"
    },
    {
     "name": "stdout",
     "output_type": "stream",
     "text": [
      "\n",
      "\n",
      "Scratch: [0.866667 0.813333 0.907895]\n",
      "Transfer: [0.76     0.733333 0.223684]\n",
      "Transfer & Revision: [0.84     0.773333 0.894737]\n"
     ]
    },
    {
     "data": {
      "text/markdown": [
       "## F1"
      ],
      "text/plain": [
       "<IPython.core.display.Markdown object>"
      ]
     },
     "metadata": {},
     "output_type": "display_data"
    },
    {
     "name": "stdout",
     "output_type": "stream",
     "text": [
      "T-test for experiment 1\n",
      "Ttest_relResult(statistic=-0.8141197930479407, pvalue=0.5010928014364333)\n",
      "Ttest_relResult(statistic=-2.486797436035861, pvalue=0.1307327537547345)\n"
     ]
    },
    {
     "data": {
      "text/html": [
       "<div>\n",
       "<table border=\"1\" class=\"dataframe\">\n",
       "  <thead>\n",
       "    <tr style=\"text-align: right;\">\n",
       "      <th></th>\n",
       "      <th>p-value</th>\n",
       "      <th>RDN-B</th>\n",
       "    </tr>\n",
       "  </thead>\n",
       "  <tbody>\n",
       "    <tr>\n",
       "      <th>0</th>\n",
       "      <td>transferRDN-B Ref</td>\n",
       "      <td>0.501</td>\n",
       "    </tr>\n",
       "    <tr>\n",
       "      <th>1</th>\n",
       "      <td>transferRDN-B</td>\n",
       "      <td>0.131</td>\n",
       "    </tr>\n",
       "  </tbody>\n",
       "</table>\n",
       "</div>"
      ],
      "text/plain": [
       "             p-value  RDN-B\n",
       "0  transferRDN-B Ref  0.501\n",
       "1      transferRDN-B  0.131"
      ]
     },
     "metadata": {},
     "output_type": "display_data"
    },
    {
     "name": "stdout",
     "output_type": "stream",
     "text": [
      "\n",
      "\n",
      "Scratch: [0.797546 0.813333 0.811765]\n",
      "Transfer: [0.666667 0.625    0.336634]\n",
      "Transfer & Revision: [0.802548 0.789116 0.809524]\n"
     ]
    },
    {
     "data": {
      "text/markdown": [
       "## Precision"
      ],
      "text/plain": [
       "<IPython.core.display.Markdown object>"
      ]
     },
     "metadata": {},
     "output_type": "display_data"
    },
    {
     "name": "stdout",
     "output_type": "stream",
     "text": [
      "\n",
      "\n",
      "Scratch: [0.738636 0.813333 0.734043]\n",
      "Transfer: [0.59375  0.544554 0.68    ]\n",
      "Transfer & Revision: [0.768293 0.805556 0.73913 ]\n"
     ]
    },
    {
     "data": {
      "text/markdown": [
       "## Learning and Revision time"
      ],
      "text/plain": [
       "<IPython.core.display.Markdown object>"
      ]
     },
     "metadata": {},
     "output_type": "display_data"
    },
    {
     "name": "stdout",
     "output_type": "stream",
     "text": [
      "\n",
      "\n",
      "Scratch: [155.172 162.383 104.908]\n",
      "Transfer: [441.988   5.819  16.467]\n",
      "Transfer & Revision: [537.585 113.995 161.281]\n"
     ]
    },
    {
     "data": {
      "text/markdown": [
       "## Inference time"
      ],
      "text/plain": [
       "<IPython.core.display.Markdown object>"
      ]
     },
     "metadata": {},
     "output_type": "display_data"
    },
    {
     "name": "stdout",
     "output_type": "stream",
     "text": [
      "\n",
      "\n",
      "Scratch: [1.386 1.627 1.359]\n",
      "Transfer: [441.988   5.819  16.467]\n",
      "Transfer & Revision: [1.347 1.755 2.151]\n"
     ]
    },
    {
     "data": {
      "text/markdown": [
       "# Results for 33_nell_sports_nell_finances"
      ],
      "text/plain": [
       "<IPython.core.display.Markdown object>"
      ]
     },
     "metadata": {},
     "output_type": "display_data"
    },
    {
     "data": {
      "text/markdown": [
       "## AUC ROC"
      ],
      "text/plain": [
       "<IPython.core.display.Markdown object>"
      ]
     },
     "metadata": {},
     "output_type": "display_data"
    },
    {
     "name": "stdout",
     "output_type": "stream",
     "text": [
      "T-test for experiment 1\n",
      "Ttest_relResult(statistic=-0.4861459141572441, pvalue=0.6749142499062245)\n",
      "Ttest_relResult(statistic=-1.1512879974255088, pvalue=0.36866793392948716)\n"
     ]
    },
    {
     "data": {
      "text/html": [
       "<div>\n",
       "<table border=\"1\" class=\"dataframe\">\n",
       "  <thead>\n",
       "    <tr style=\"text-align: right;\">\n",
       "      <th></th>\n",
       "      <th>p-value</th>\n",
       "      <th>RDN-B</th>\n",
       "    </tr>\n",
       "  </thead>\n",
       "  <tbody>\n",
       "    <tr>\n",
       "      <th>0</th>\n",
       "      <td>transferRDN-B Ref</td>\n",
       "      <td>0.675</td>\n",
       "    </tr>\n",
       "    <tr>\n",
       "      <th>1</th>\n",
       "      <td>transferRDN-B</td>\n",
       "      <td>0.369</td>\n",
       "    </tr>\n",
       "  </tbody>\n",
       "</table>\n",
       "</div>"
      ],
      "text/plain": [
       "             p-value  RDN-B\n",
       "0  transferRDN-B Ref  0.675\n",
       "1      transferRDN-B  0.369"
      ]
     },
     "metadata": {},
     "output_type": "display_data"
    },
    {
     "name": "stdout",
     "output_type": "stream",
     "text": [
      "\n",
      "\n",
      "Scratch: [0.50987  0.508348 0.534509]\n",
      "Transfer: [0.515936 0.496121 0.509858]\n",
      "Transfer & Revision: [0.522666 0.506044 0.506765]\n"
     ]
    },
    {
     "data": {
      "text/markdown": [
       "## AUC PR"
      ],
      "text/plain": [
       "<IPython.core.display.Markdown object>"
      ]
     },
     "metadata": {},
     "output_type": "display_data"
    },
    {
     "name": "stdout",
     "output_type": "stream",
     "text": [
      "T-test for experiment 1\n",
      "Ttest_relResult(statistic=-1.392795992543979, pvalue=0.2983088904600957)\n",
      "Ttest_relResult(statistic=-1.6284897055096443, pvalue=0.24496661032677508)\n"
     ]
    },
    {
     "data": {
      "text/html": [
       "<div>\n",
       "<table border=\"1\" class=\"dataframe\">\n",
       "  <thead>\n",
       "    <tr style=\"text-align: right;\">\n",
       "      <th></th>\n",
       "      <th>p-value</th>\n",
       "      <th>RDN-B</th>\n",
       "    </tr>\n",
       "  </thead>\n",
       "  <tbody>\n",
       "    <tr>\n",
       "      <th>0</th>\n",
       "      <td>transferRDN-B Ref</td>\n",
       "      <td>0.298</td>\n",
       "    </tr>\n",
       "    <tr>\n",
       "      <th>1</th>\n",
       "      <td>transferRDN-B</td>\n",
       "      <td>0.245</td>\n",
       "    </tr>\n",
       "  </tbody>\n",
       "</table>\n",
       "</div>"
      ],
      "text/plain": [
       "             p-value  RDN-B\n",
       "0  transferRDN-B Ref  0.298\n",
       "1      transferRDN-B  0.245"
      ]
     },
     "metadata": {},
     "output_type": "display_data"
    },
    {
     "name": "stdout",
     "output_type": "stream",
     "text": [
      "\n",
      "\n",
      "Scratch: [0.512903 0.513895 0.542917]\n",
      "Transfer: [0.514531 0.494962 0.506478]\n",
      "Transfer & Revision: [0.510318 0.505582 0.496923]\n"
     ]
    },
    {
     "data": {
      "text/markdown": [
       "## CLL"
      ],
      "text/plain": [
       "<IPython.core.display.Markdown object>"
      ]
     },
     "metadata": {},
     "output_type": "display_data"
    },
    {
     "name": "stdout",
     "output_type": "stream",
     "text": [
      "T-test for experiment 1\n",
      "Ttest_relResult(statistic=-1.4517804067857663, pvalue=0.283686146057732)\n",
      "Ttest_relResult(statistic=-1.3491962287153565, pvalue=0.3097210134890924)\n"
     ]
    },
    {
     "data": {
      "text/html": [
       "<div>\n",
       "<table border=\"1\" class=\"dataframe\">\n",
       "  <thead>\n",
       "    <tr style=\"text-align: right;\">\n",
       "      <th></th>\n",
       "      <th>p-value</th>\n",
       "      <th>RDN-B</th>\n",
       "    </tr>\n",
       "  </thead>\n",
       "  <tbody>\n",
       "    <tr>\n",
       "      <th>0</th>\n",
       "      <td>transferRDN-B Ref</td>\n",
       "      <td>0.284</td>\n",
       "    </tr>\n",
       "    <tr>\n",
       "      <th>1</th>\n",
       "      <td>transferRDN-B</td>\n",
       "      <td>0.310</td>\n",
       "    </tr>\n",
       "  </tbody>\n",
       "</table>\n",
       "</div>"
      ],
      "text/plain": [
       "             p-value  RDN-B\n",
       "0  transferRDN-B Ref  0.284\n",
       "1      transferRDN-B  0.310"
      ]
     },
     "metadata": {},
     "output_type": "display_data"
    },
    {
     "name": "stdout",
     "output_type": "stream",
     "text": [
      "\n",
      "\n",
      "Scratch: [-0.697374 -0.695466 -0.684946]\n",
      "Transfer: [-0.693152 -0.709576 -0.701989]\n",
      "Transfer & Revision: [-0.692748 -0.715534 -0.72075 ]\n"
     ]
    },
    {
     "data": {
      "text/markdown": [
       "## Recall"
      ],
      "text/plain": [
       "<IPython.core.display.Markdown object>"
      ]
     },
     "metadata": {},
     "output_type": "display_data"
    },
    {
     "name": "stdout",
     "output_type": "stream",
     "text": [
      "T-test for experiment 1\n",
      "Ttest_relResult(statistic=0.48691020952483094, pvalue=0.6744572913361038)\n",
      "Ttest_relResult(statistic=-0.4891990632538901, pvalue=0.6730901909170652)\n"
     ]
    },
    {
     "data": {
      "text/html": [
       "<div>\n",
       "<table border=\"1\" class=\"dataframe\">\n",
       "  <thead>\n",
       "    <tr style=\"text-align: right;\">\n",
       "      <th></th>\n",
       "      <th>p-value</th>\n",
       "      <th>RDN-B</th>\n",
       "    </tr>\n",
       "  </thead>\n",
       "  <tbody>\n",
       "    <tr>\n",
       "      <th>0</th>\n",
       "      <td>transferRDN-B Ref</td>\n",
       "      <td>0.674</td>\n",
       "    </tr>\n",
       "    <tr>\n",
       "      <th>1</th>\n",
       "      <td>transferRDN-B</td>\n",
       "      <td>0.673</td>\n",
       "    </tr>\n",
       "  </tbody>\n",
       "</table>\n",
       "</div>"
      ],
      "text/plain": [
       "             p-value  RDN-B\n",
       "0  transferRDN-B Ref  0.674\n",
       "1      transferRDN-B  0.673"
      ]
     },
     "metadata": {},
     "output_type": "display_data"
    },
    {
     "name": "stdout",
     "output_type": "stream",
     "text": [
      "\n",
      "\n",
      "Scratch: [0.032407 0.12037  0.03211 ]\n",
      "Transfer: [0.097222 0.       0.009174]\n",
      "Transfer & Revision: [0.050926 0.12963  0.018349]\n"
     ]
    },
    {
     "data": {
      "text/markdown": [
       "## F1"
      ],
      "text/plain": [
       "<IPython.core.display.Markdown object>"
      ]
     },
     "metadata": {},
     "output_type": "display_data"
    },
    {
     "name": "stdout",
     "output_type": "stream",
     "text": [
      "T-test for experiment 1\n",
      "Ttest_relResult(statistic=0.3660970930624535, pvalue=0.7493911998522621)\n",
      "Ttest_relResult(statistic=nan, pvalue=nan)\n"
     ]
    },
    {
     "data": {
      "text/html": [
       "<div>\n",
       "<table border=\"1\" class=\"dataframe\">\n",
       "  <thead>\n",
       "    <tr style=\"text-align: right;\">\n",
       "      <th></th>\n",
       "      <th>p-value</th>\n",
       "      <th>RDN-B</th>\n",
       "    </tr>\n",
       "  </thead>\n",
       "  <tbody>\n",
       "    <tr>\n",
       "      <th>0</th>\n",
       "      <td>transferRDN-B Ref</td>\n",
       "      <td>0.749</td>\n",
       "    </tr>\n",
       "    <tr>\n",
       "      <th>1</th>\n",
       "      <td>transferRDN-B</td>\n",
       "      <td>nan</td>\n",
       "    </tr>\n",
       "  </tbody>\n",
       "</table>\n",
       "</div>"
      ],
      "text/plain": [
       "             p-value  RDN-B\n",
       "0  transferRDN-B Ref  0.749\n",
       "1      transferRDN-B    nan"
      ]
     },
     "metadata": {},
     "output_type": "display_data"
    },
    {
     "name": "stdout",
     "output_type": "stream",
     "text": [
      "\n",
      "\n",
      "Scratch: [0.060345 0.194757 0.061404]\n",
      "Transfer: [0.163424      nan 0.018018]\n",
      "Transfer & Revision: [0.09205  0.208178 0.035088]\n"
     ]
    },
    {
     "data": {
      "text/markdown": [
       "## Precision"
      ],
      "text/plain": [
       "<IPython.core.display.Markdown object>"
      ]
     },
     "metadata": {},
     "output_type": "display_data"
    },
    {
     "name": "stdout",
     "output_type": "stream",
     "text": [
      "\n",
      "\n",
      "Scratch: [0.4375   0.509804 0.7     ]\n",
      "Transfer: [0.512195      nan 0.5     ]\n",
      "Transfer & Revision: [0.478261 0.528302 0.4     ]\n"
     ]
    },
    {
     "data": {
      "text/markdown": [
       "## Learning and Revision time"
      ],
      "text/plain": [
       "<IPython.core.display.Markdown object>"
      ]
     },
     "metadata": {},
     "output_type": "display_data"
    },
    {
     "name": "stdout",
     "output_type": "stream",
     "text": [
      "\n",
      "\n",
      "Scratch: [ 9.448  7.891 38.758]\n",
      "Transfer: [3.84  3.059 1.776]\n",
      "Transfer & Revision: [118.426  10.445  10.857]\n"
     ]
    },
    {
     "data": {
      "text/markdown": [
       "## Inference time"
      ],
      "text/plain": [
       "<IPython.core.display.Markdown object>"
      ]
     },
     "metadata": {},
     "output_type": "display_data"
    },
    {
     "name": "stdout",
     "output_type": "stream",
     "text": [
      "\n",
      "\n",
      "Scratch: [1.044 1.152 1.076]\n",
      "Transfer: [3.84  3.059 1.776]\n",
      "Transfer & Revision: [1.091 1.096 1.019]\n"
     ]
    },
    {
     "data": {
      "text/markdown": [
       "# Results for 34_nell_sports_nell_finances"
      ],
      "text/plain": [
       "<IPython.core.display.Markdown object>"
      ]
     },
     "metadata": {},
     "output_type": "display_data"
    },
    {
     "data": {
      "text/markdown": [
       "## AUC ROC"
      ],
      "text/plain": [
       "<IPython.core.display.Markdown object>"
      ]
     },
     "metadata": {},
     "output_type": "display_data"
    },
    {
     "name": "stdout",
     "output_type": "stream",
     "text": [
      "T-test for experiment 1\n",
      "Ttest_relResult(statistic=-0.6506592719184292, pvalue=0.582030222135779)\n",
      "Ttest_relResult(statistic=-1.2194212120985932, pvalue=0.34697694664635603)\n"
     ]
    },
    {
     "data": {
      "text/html": [
       "<div>\n",
       "<table border=\"1\" class=\"dataframe\">\n",
       "  <thead>\n",
       "    <tr style=\"text-align: right;\">\n",
       "      <th></th>\n",
       "      <th>p-value</th>\n",
       "      <th>RDN-B</th>\n",
       "    </tr>\n",
       "  </thead>\n",
       "  <tbody>\n",
       "    <tr>\n",
       "      <th>0</th>\n",
       "      <td>transferRDN-B Ref</td>\n",
       "      <td>0.582</td>\n",
       "    </tr>\n",
       "    <tr>\n",
       "      <th>1</th>\n",
       "      <td>transferRDN-B</td>\n",
       "      <td>0.347</td>\n",
       "    </tr>\n",
       "  </tbody>\n",
       "</table>\n",
       "</div>"
      ],
      "text/plain": [
       "             p-value  RDN-B\n",
       "0  transferRDN-B Ref  0.582\n",
       "1      transferRDN-B  0.347"
      ]
     },
     "metadata": {},
     "output_type": "display_data"
    },
    {
     "name": "stdout",
     "output_type": "stream",
     "text": [
      "\n",
      "\n",
      "Scratch: [0.561224 0.709184 0.746094]\n",
      "Transfer: [0.653061 0.469388 0.455078]\n",
      "Transfer & Revision: [0.658163 0.568878 0.646484]\n"
     ]
    },
    {
     "data": {
      "text/markdown": [
       "## AUC PR"
      ],
      "text/plain": [
       "<IPython.core.display.Markdown object>"
      ]
     },
     "metadata": {},
     "output_type": "display_data"
    },
    {
     "name": "stdout",
     "output_type": "stream",
     "text": [
      "T-test for experiment 1\n",
      "Ttest_relResult(statistic=-0.9360802393175469, pvalue=0.44804960646264713)\n",
      "Ttest_relResult(statistic=-0.9080944245587274, pvalue=0.45968154188368826)\n"
     ]
    },
    {
     "data": {
      "text/html": [
       "<div>\n",
       "<table border=\"1\" class=\"dataframe\">\n",
       "  <thead>\n",
       "    <tr style=\"text-align: right;\">\n",
       "      <th></th>\n",
       "      <th>p-value</th>\n",
       "      <th>RDN-B</th>\n",
       "    </tr>\n",
       "  </thead>\n",
       "  <tbody>\n",
       "    <tr>\n",
       "      <th>0</th>\n",
       "      <td>transferRDN-B Ref</td>\n",
       "      <td>0.448</td>\n",
       "    </tr>\n",
       "    <tr>\n",
       "      <th>1</th>\n",
       "      <td>transferRDN-B</td>\n",
       "      <td>0.460</td>\n",
       "    </tr>\n",
       "  </tbody>\n",
       "</table>\n",
       "</div>"
      ],
      "text/plain": [
       "             p-value  RDN-B\n",
       "0  transferRDN-B Ref  0.448\n",
       "1      transferRDN-B  0.460"
      ]
     },
     "metadata": {},
     "output_type": "display_data"
    },
    {
     "name": "stdout",
     "output_type": "stream",
     "text": [
      "\n",
      "\n",
      "Scratch: [0.527946 0.744545 0.803619]\n",
      "Transfer: [0.688655 0.499255 0.478339]\n",
      "Transfer & Revision: [0.584381 0.558436 0.73666 ]\n"
     ]
    },
    {
     "data": {
      "text/markdown": [
       "## CLL"
      ],
      "text/plain": [
       "<IPython.core.display.Markdown object>"
      ]
     },
     "metadata": {},
     "output_type": "display_data"
    },
    {
     "name": "stdout",
     "output_type": "stream",
     "text": [
      "T-test for experiment 1\n",
      "Ttest_relResult(statistic=-2.0540871728560153, pvalue=0.1763380168369375)\n",
      "Ttest_relResult(statistic=-1.1694350006328242, pvalue=0.3627391450680144)\n"
     ]
    },
    {
     "data": {
      "text/html": [
       "<div>\n",
       "<table border=\"1\" class=\"dataframe\">\n",
       "  <thead>\n",
       "    <tr style=\"text-align: right;\">\n",
       "      <th></th>\n",
       "      <th>p-value</th>\n",
       "      <th>RDN-B</th>\n",
       "    </tr>\n",
       "  </thead>\n",
       "  <tbody>\n",
       "    <tr>\n",
       "      <th>0</th>\n",
       "      <td>transferRDN-B Ref</td>\n",
       "      <td>0.176</td>\n",
       "    </tr>\n",
       "    <tr>\n",
       "      <th>1</th>\n",
       "      <td>transferRDN-B</td>\n",
       "      <td>0.363</td>\n",
       "    </tr>\n",
       "  </tbody>\n",
       "</table>\n",
       "</div>"
      ],
      "text/plain": [
       "             p-value  RDN-B\n",
       "0  transferRDN-B Ref  0.176\n",
       "1      transferRDN-B  0.363"
      ]
     },
     "metadata": {},
     "output_type": "display_data"
    },
    {
     "name": "stdout",
     "output_type": "stream",
     "text": [
      "\n",
      "\n",
      "Scratch: [-0.747886 -0.61045  -0.706177]\n",
      "Transfer: [-0.672413 -0.912123 -0.865789]\n",
      "Transfer & Revision: [-0.754429 -0.748354 -0.799328]\n"
     ]
    },
    {
     "data": {
      "text/markdown": [
       "## Recall"
      ],
      "text/plain": [
       "<IPython.core.display.Markdown object>"
      ]
     },
     "metadata": {},
     "output_type": "display_data"
    },
    {
     "name": "stdout",
     "output_type": "stream",
     "text": [
      "T-test for experiment 1\n",
      "Ttest_relResult(statistic=-0.7142904489956698, pvalue=0.5491628016687231)\n",
      "Ttest_relResult(statistic=-1.058023199088155, pvalue=0.40095596863262006)\n"
     ]
    },
    {
     "data": {
      "text/html": [
       "<div>\n",
       "<table border=\"1\" class=\"dataframe\">\n",
       "  <thead>\n",
       "    <tr style=\"text-align: right;\">\n",
       "      <th></th>\n",
       "      <th>p-value</th>\n",
       "      <th>RDN-B</th>\n",
       "    </tr>\n",
       "  </thead>\n",
       "  <tbody>\n",
       "    <tr>\n",
       "      <th>0</th>\n",
       "      <td>transferRDN-B Ref</td>\n",
       "      <td>0.549</td>\n",
       "    </tr>\n",
       "    <tr>\n",
       "      <th>1</th>\n",
       "      <td>transferRDN-B</td>\n",
       "      <td>0.401</td>\n",
       "    </tr>\n",
       "  </tbody>\n",
       "</table>\n",
       "</div>"
      ],
      "text/plain": [
       "             p-value  RDN-B\n",
       "0  transferRDN-B Ref  0.549\n",
       "1      transferRDN-B  0.401"
      ]
     },
     "metadata": {},
     "output_type": "display_data"
    },
    {
     "name": "stdout",
     "output_type": "stream",
     "text": [
      "\n",
      "\n",
      "Scratch: [0.714286 0.357143 0.8125  ]\n",
      "Transfer: [0.785714 0.142857 0.6875  ]\n",
      "Transfer & Revision: [0.571429 0.428571 0.75    ]\n"
     ]
    },
    {
     "data": {
      "text/markdown": [
       "## F1"
      ],
      "text/plain": [
       "<IPython.core.display.Markdown object>"
      ]
     },
     "metadata": {},
     "output_type": "display_data"
    },
    {
     "name": "stdout",
     "output_type": "stream",
     "text": [
      "T-test for experiment 1\n",
      "Ttest_relResult(statistic=0.0017076510765592437, pvalue=0.9987925092241468)\n",
      "Ttest_relResult(statistic=-1.3281636552589844, pvalue=0.31541763749326845)\n"
     ]
    },
    {
     "data": {
      "text/html": [
       "<div>\n",
       "<table border=\"1\" class=\"dataframe\">\n",
       "  <thead>\n",
       "    <tr style=\"text-align: right;\">\n",
       "      <th></th>\n",
       "      <th>p-value</th>\n",
       "      <th>RDN-B</th>\n",
       "    </tr>\n",
       "  </thead>\n",
       "  <tbody>\n",
       "    <tr>\n",
       "      <th>0</th>\n",
       "      <td>transferRDN-B Ref</td>\n",
       "      <td>0.999</td>\n",
       "    </tr>\n",
       "    <tr>\n",
       "      <th>1</th>\n",
       "      <td>transferRDN-B</td>\n",
       "      <td>0.315</td>\n",
       "    </tr>\n",
       "  </tbody>\n",
       "</table>\n",
       "</div>"
      ],
      "text/plain": [
       "             p-value  RDN-B\n",
       "0  transferRDN-B Ref  0.999\n",
       "1      transferRDN-B  0.315"
      ]
     },
     "metadata": {},
     "output_type": "display_data"
    },
    {
     "name": "stdout",
     "output_type": "stream",
     "text": [
      "\n",
      "\n",
      "Scratch: [0.625    0.454545 0.65    ]\n",
      "Transfer: [0.647059 0.210526 0.564103]\n",
      "Transfer & Revision: [0.592593 0.521739 0.615385]\n"
     ]
    },
    {
     "data": {
      "text/markdown": [
       "## Precision"
      ],
      "text/plain": [
       "<IPython.core.display.Markdown object>"
      ]
     },
     "metadata": {},
     "output_type": "display_data"
    },
    {
     "name": "stdout",
     "output_type": "stream",
     "text": [
      "\n",
      "\n",
      "Scratch: [0.555556 0.625    0.541667]\n",
      "Transfer: [0.55     0.4      0.478261]\n",
      "Transfer & Revision: [0.615385 0.666667 0.521739]\n"
     ]
    },
    {
     "data": {
      "text/markdown": [
       "## Learning and Revision time"
      ],
      "text/plain": [
       "<IPython.core.display.Markdown object>"
      ]
     },
     "metadata": {},
     "output_type": "display_data"
    },
    {
     "name": "stdout",
     "output_type": "stream",
     "text": [
      "\n",
      "\n",
      "Scratch: [2.519 2.79  2.26 ]\n",
      "Transfer: [1.353 1.765 1.93 ]\n",
      "Transfer & Revision: [30.714  4.314  4.44 ]\n"
     ]
    },
    {
     "data": {
      "text/markdown": [
       "## Inference time"
      ],
      "text/plain": [
       "<IPython.core.display.Markdown object>"
      ]
     },
     "metadata": {},
     "output_type": "display_data"
    },
    {
     "name": "stdout",
     "output_type": "stream",
     "text": [
      "\n",
      "\n",
      "Scratch: [0.72  0.678 0.767]\n",
      "Transfer: [1.353 1.765 1.93 ]\n",
      "Transfer & Revision: [0.768 0.75  0.734]\n"
     ]
    },
    {
     "data": {
      "text/markdown": [
       "# Results for 35_nell_sports_nell_finances"
      ],
      "text/plain": [
       "<IPython.core.display.Markdown object>"
      ]
     },
     "metadata": {},
     "output_type": "display_data"
    },
    {
     "data": {
      "text/markdown": [
       "## AUC ROC"
      ],
      "text/plain": [
       "<IPython.core.display.Markdown object>"
      ]
     },
     "metadata": {},
     "output_type": "display_data"
    },
    {
     "name": "stdout",
     "output_type": "stream",
     "text": [
      "T-test for experiment 1\n",
      "Ttest_relResult(statistic=1.157467437497399, pvalue=0.36663647840056535)\n",
      "Ttest_relResult(statistic=1.0101362663444093, pvalue=0.4187680084225043)\n"
     ]
    },
    {
     "data": {
      "text/html": [
       "<div>\n",
       "<table border=\"1\" class=\"dataframe\">\n",
       "  <thead>\n",
       "    <tr style=\"text-align: right;\">\n",
       "      <th></th>\n",
       "      <th>p-value</th>\n",
       "      <th>RDN-B</th>\n",
       "    </tr>\n",
       "  </thead>\n",
       "  <tbody>\n",
       "    <tr>\n",
       "      <th>0</th>\n",
       "      <td>transferRDN-B Ref</td>\n",
       "      <td>0.367</td>\n",
       "    </tr>\n",
       "    <tr>\n",
       "      <th>1</th>\n",
       "      <td>transferRDN-B</td>\n",
       "      <td>0.419</td>\n",
       "    </tr>\n",
       "  </tbody>\n",
       "</table>\n",
       "</div>"
      ],
      "text/plain": [
       "             p-value  RDN-B\n",
       "0  transferRDN-B Ref  0.367\n",
       "1      transferRDN-B  0.419"
      ]
     },
     "metadata": {},
     "output_type": "display_data"
    },
    {
     "name": "stdout",
     "output_type": "stream",
     "text": [
      "\n",
      "\n",
      "Scratch: [0.540816 0.688776 0.746094]\n",
      "Transfer: [0.757653 0.714286 0.724609]\n",
      "Transfer & Revision: [0.714286 0.744898 0.71875 ]\n"
     ]
    },
    {
     "data": {
      "text/markdown": [
       "## AUC PR"
      ],
      "text/plain": [
       "<IPython.core.display.Markdown object>"
      ]
     },
     "metadata": {},
     "output_type": "display_data"
    },
    {
     "name": "stdout",
     "output_type": "stream",
     "text": [
      "T-test for experiment 1\n",
      "Ttest_relResult(statistic=1.0888440567305167, pvalue=0.38994171030767344)\n",
      "Ttest_relResult(statistic=0.976770220126151, pvalue=0.43169525844355183)\n"
     ]
    },
    {
     "data": {
      "text/html": [
       "<div>\n",
       "<table border=\"1\" class=\"dataframe\">\n",
       "  <thead>\n",
       "    <tr style=\"text-align: right;\">\n",
       "      <th></th>\n",
       "      <th>p-value</th>\n",
       "      <th>RDN-B</th>\n",
       "    </tr>\n",
       "  </thead>\n",
       "  <tbody>\n",
       "    <tr>\n",
       "      <th>0</th>\n",
       "      <td>transferRDN-B Ref</td>\n",
       "      <td>0.390</td>\n",
       "    </tr>\n",
       "    <tr>\n",
       "      <th>1</th>\n",
       "      <td>transferRDN-B</td>\n",
       "      <td>0.432</td>\n",
       "    </tr>\n",
       "  </tbody>\n",
       "</table>\n",
       "</div>"
      ],
      "text/plain": [
       "             p-value  RDN-B\n",
       "0  transferRDN-B Ref  0.390\n",
       "1      transferRDN-B  0.432"
      ]
     },
     "metadata": {},
     "output_type": "display_data"
    },
    {
     "name": "stdout",
     "output_type": "stream",
     "text": [
      "\n",
      "\n",
      "Scratch: [0.521555 0.733977 0.803619]\n",
      "Transfer: [0.83912  0.755147 0.779096]\n",
      "Transfer & Revision: [0.657023 0.77674  0.777928]\n"
     ]
    },
    {
     "data": {
      "text/markdown": [
       "## CLL"
      ],
      "text/plain": [
       "<IPython.core.display.Markdown object>"
      ]
     },
     "metadata": {},
     "output_type": "display_data"
    },
    {
     "name": "stdout",
     "output_type": "stream",
     "text": [
      "T-test for experiment 1\n",
      "Ttest_relResult(statistic=0.9553543569817393, pvalue=0.4402211758926755)\n",
      "Ttest_relResult(statistic=1.0460272346170039, pvalue=0.40533730090549935)\n"
     ]
    },
    {
     "data": {
      "text/html": [
       "<div>\n",
       "<table border=\"1\" class=\"dataframe\">\n",
       "  <thead>\n",
       "    <tr style=\"text-align: right;\">\n",
       "      <th></th>\n",
       "      <th>p-value</th>\n",
       "      <th>RDN-B</th>\n",
       "    </tr>\n",
       "  </thead>\n",
       "  <tbody>\n",
       "    <tr>\n",
       "      <th>0</th>\n",
       "      <td>transferRDN-B Ref</td>\n",
       "      <td>0.440</td>\n",
       "    </tr>\n",
       "    <tr>\n",
       "      <th>1</th>\n",
       "      <td>transferRDN-B</td>\n",
       "      <td>0.405</td>\n",
       "    </tr>\n",
       "  </tbody>\n",
       "</table>\n",
       "</div>"
      ],
      "text/plain": [
       "             p-value  RDN-B\n",
       "0  transferRDN-B Ref  0.440\n",
       "1      transferRDN-B  0.405"
      ]
     },
     "metadata": {},
     "output_type": "display_data"
    },
    {
     "name": "stdout",
     "output_type": "stream",
     "text": [
      "\n",
      "\n",
      "Scratch: [-0.761814 -0.612907 -0.706177]\n",
      "Transfer: [-0.539635 -0.68264  -0.591075]\n",
      "Transfer & Revision: [-0.664424 -0.636472 -0.679456]\n"
     ]
    },
    {
     "data": {
      "text/markdown": [
       "## Recall"
      ],
      "text/plain": [
       "<IPython.core.display.Markdown object>"
      ]
     },
     "metadata": {},
     "output_type": "display_data"
    },
    {
     "name": "stdout",
     "output_type": "stream",
     "text": [
      "T-test for experiment 1\n",
      "Ttest_relResult(statistic=1.0, pvalue=0.42264973081037427)\n",
      "Ttest_relResult(statistic=-1.4411559709300321, pvalue=0.2862529443988776)\n"
     ]
    },
    {
     "data": {
      "text/html": [
       "<div>\n",
       "<table border=\"1\" class=\"dataframe\">\n",
       "  <thead>\n",
       "    <tr style=\"text-align: right;\">\n",
       "      <th></th>\n",
       "      <th>p-value</th>\n",
       "      <th>RDN-B</th>\n",
       "    </tr>\n",
       "  </thead>\n",
       "  <tbody>\n",
       "    <tr>\n",
       "      <th>0</th>\n",
       "      <td>transferRDN-B Ref</td>\n",
       "      <td>0.423</td>\n",
       "    </tr>\n",
       "    <tr>\n",
       "      <th>1</th>\n",
       "      <td>transferRDN-B</td>\n",
       "      <td>0.286</td>\n",
       "    </tr>\n",
       "  </tbody>\n",
       "</table>\n",
       "</div>"
      ],
      "text/plain": [
       "             p-value  RDN-B\n",
       "0  transferRDN-B Ref  0.423\n",
       "1      transferRDN-B  0.286"
      ]
     },
     "metadata": {},
     "output_type": "display_data"
    },
    {
     "name": "stdout",
     "output_type": "stream",
     "text": [
      "\n",
      "\n",
      "Scratch: [0.714286 0.357143 0.8125  ]\n",
      "Transfer: [0.642857 0.357143 0.5625  ]\n",
      "Transfer & Revision: [0.785714 0.357143 0.8125  ]\n"
     ]
    },
    {
     "data": {
      "text/markdown": [
       "## F1"
      ],
      "text/plain": [
       "<IPython.core.display.Markdown object>"
      ]
     },
     "metadata": {},
     "output_type": "display_data"
    },
    {
     "name": "stdout",
     "output_type": "stream",
     "text": [
      "T-test for experiment 1\n",
      "Ttest_relResult(statistic=1.6782319824063425, pvalue=0.23530562126036886)\n",
      "Ttest_relResult(statistic=0.14558540713569185, pvalue=0.8975967533884599)\n"
     ]
    },
    {
     "data": {
      "text/html": [
       "<div>\n",
       "<table border=\"1\" class=\"dataframe\">\n",
       "  <thead>\n",
       "    <tr style=\"text-align: right;\">\n",
       "      <th></th>\n",
       "      <th>p-value</th>\n",
       "      <th>RDN-B</th>\n",
       "    </tr>\n",
       "  </thead>\n",
       "  <tbody>\n",
       "    <tr>\n",
       "      <th>0</th>\n",
       "      <td>transferRDN-B Ref</td>\n",
       "      <td>0.235</td>\n",
       "    </tr>\n",
       "    <tr>\n",
       "      <th>1</th>\n",
       "      <td>transferRDN-B</td>\n",
       "      <td>0.898</td>\n",
       "    </tr>\n",
       "  </tbody>\n",
       "</table>\n",
       "</div>"
      ],
      "text/plain": [
       "             p-value  RDN-B\n",
       "0  transferRDN-B Ref  0.235\n",
       "1      transferRDN-B  0.898"
      ]
     },
     "metadata": {},
     "output_type": "display_data"
    },
    {
     "name": "stdout",
     "output_type": "stream",
     "text": [
      "\n",
      "\n",
      "Scratch: [0.606061 0.454545 0.65    ]\n",
      "Transfer: [0.62069 0.47619 0.62069]\n",
      "Transfer & Revision: [0.709677 0.47619  0.666667]\n"
     ]
    },
    {
     "data": {
      "text/markdown": [
       "## Precision"
      ],
      "text/plain": [
       "<IPython.core.display.Markdown object>"
      ]
     },
     "metadata": {},
     "output_type": "display_data"
    },
    {
     "name": "stdout",
     "output_type": "stream",
     "text": [
      "\n",
      "\n",
      "Scratch: [0.526316 0.625    0.541667]\n",
      "Transfer: [0.6      0.714286 0.692308]\n",
      "Transfer & Revision: [0.647059 0.714286 0.565217]\n"
     ]
    },
    {
     "data": {
      "text/markdown": [
       "## Learning and Revision time"
      ],
      "text/plain": [
       "<IPython.core.display.Markdown object>"
      ]
     },
     "metadata": {},
     "output_type": "display_data"
    },
    {
     "name": "stdout",
     "output_type": "stream",
     "text": [
      "\n",
      "\n",
      "Scratch: [2.963 3.231 2.312]\n",
      "Transfer: [1.841 1.994 1.385]\n",
      "Transfer & Revision: [4.475 4.487 3.519]\n"
     ]
    },
    {
     "data": {
      "text/markdown": [
       "## Inference time"
      ],
      "text/plain": [
       "<IPython.core.display.Markdown object>"
      ]
     },
     "metadata": {},
     "output_type": "display_data"
    },
    {
     "name": "stdout",
     "output_type": "stream",
     "text": [
      "\n",
      "\n",
      "Scratch: [0.761 0.709 0.72 ]\n",
      "Transfer: [1.841 1.994 1.385]\n",
      "Transfer & Revision: [0.689 0.732 0.725]\n"
     ]
    },
    {
     "data": {
      "text/markdown": [
       "# Results for 36_nell_sports_nell_finances"
      ],
      "text/plain": [
       "<IPython.core.display.Markdown object>"
      ]
     },
     "metadata": {},
     "output_type": "display_data"
    },
    {
     "data": {
      "text/markdown": [
       "## AUC ROC"
      ],
      "text/plain": [
       "<IPython.core.display.Markdown object>"
      ]
     },
     "metadata": {},
     "output_type": "display_data"
    },
    {
     "name": "stdout",
     "output_type": "stream",
     "text": [
      "T-test for experiment 1\n",
      "Ttest_relResult(statistic=3.1664824966906346, pvalue=0.08692710131501229)\n",
      "Ttest_relResult(statistic=2.8827280558457558, pvalue=0.10221614154123215)\n"
     ]
    },
    {
     "data": {
      "text/html": [
       "<div>\n",
       "<table border=\"1\" class=\"dataframe\">\n",
       "  <thead>\n",
       "    <tr style=\"text-align: right;\">\n",
       "      <th></th>\n",
       "      <th>p-value</th>\n",
       "      <th>RDN-B</th>\n",
       "    </tr>\n",
       "  </thead>\n",
       "  <tbody>\n",
       "    <tr>\n",
       "      <th>0</th>\n",
       "      <td>transferRDN-B Ref</td>\n",
       "      <td>0.087</td>\n",
       "    </tr>\n",
       "    <tr>\n",
       "      <th>1</th>\n",
       "      <td>transferRDN-B</td>\n",
       "      <td>0.102</td>\n",
       "    </tr>\n",
       "  </tbody>\n",
       "</table>\n",
       "</div>"
      ],
      "text/plain": [
       "             p-value  RDN-B\n",
       "0  transferRDN-B Ref  0.087\n",
       "1      transferRDN-B  0.102"
      ]
     },
     "metadata": {},
     "output_type": "display_data"
    },
    {
     "name": "stdout",
     "output_type": "stream",
     "text": [
      "\n",
      "\n",
      "Scratch: [0.514017 0.506784 0.507049]\n",
      "Transfer: [0.527992 0.530082 0.513036]\n",
      "Transfer & Revision: [0.535847 0.543478 0.518391]\n"
     ]
    },
    {
     "data": {
      "text/markdown": [
       "## AUC PR"
      ],
      "text/plain": [
       "<IPython.core.display.Markdown object>"
      ]
     },
     "metadata": {},
     "output_type": "display_data"
    },
    {
     "name": "stdout",
     "output_type": "stream",
     "text": [
      "T-test for experiment 1\n",
      "Ttest_relResult(statistic=2.113698222506023, pvalue=0.16887303798710335)\n",
      "Ttest_relResult(statistic=2.4405490800363254, pvalue=0.1347681024851529)\n"
     ]
    },
    {
     "data": {
      "text/html": [
       "<div>\n",
       "<table border=\"1\" class=\"dataframe\">\n",
       "  <thead>\n",
       "    <tr style=\"text-align: right;\">\n",
       "      <th></th>\n",
       "      <th>p-value</th>\n",
       "      <th>RDN-B</th>\n",
       "    </tr>\n",
       "  </thead>\n",
       "  <tbody>\n",
       "    <tr>\n",
       "      <th>0</th>\n",
       "      <td>transferRDN-B Ref</td>\n",
       "      <td>0.169</td>\n",
       "    </tr>\n",
       "    <tr>\n",
       "      <th>1</th>\n",
       "      <td>transferRDN-B</td>\n",
       "      <td>0.135</td>\n",
       "    </tr>\n",
       "  </tbody>\n",
       "</table>\n",
       "</div>"
      ],
      "text/plain": [
       "             p-value  RDN-B\n",
       "0  transferRDN-B Ref  0.169\n",
       "1      transferRDN-B  0.135"
      ]
     },
     "metadata": {},
     "output_type": "display_data"
    },
    {
     "name": "stdout",
     "output_type": "stream",
     "text": [
      "\n",
      "\n",
      "Scratch: [0.520668 0.505933 0.512667]\n",
      "Transfer: [0.544265 0.554987 0.523069]\n",
      "Transfer & Revision: [0.543648 0.560054 0.521068]\n"
     ]
    },
    {
     "data": {
      "text/markdown": [
       "## CLL"
      ],
      "text/plain": [
       "<IPython.core.display.Markdown object>"
      ]
     },
     "metadata": {},
     "output_type": "display_data"
    },
    {
     "name": "stdout",
     "output_type": "stream",
     "text": [
      "T-test for experiment 1\n",
      "Ttest_relResult(statistic=1.6598982313979682, pvalue=0.23880797284144814)\n",
      "Ttest_relResult(statistic=1.1221347360105702, pvalue=0.37842947942452765)\n"
     ]
    },
    {
     "data": {
      "text/html": [
       "<div>\n",
       "<table border=\"1\" class=\"dataframe\">\n",
       "  <thead>\n",
       "    <tr style=\"text-align: right;\">\n",
       "      <th></th>\n",
       "      <th>p-value</th>\n",
       "      <th>RDN-B</th>\n",
       "    </tr>\n",
       "  </thead>\n",
       "  <tbody>\n",
       "    <tr>\n",
       "      <th>0</th>\n",
       "      <td>transferRDN-B Ref</td>\n",
       "      <td>0.239</td>\n",
       "    </tr>\n",
       "    <tr>\n",
       "      <th>1</th>\n",
       "      <td>transferRDN-B</td>\n",
       "      <td>0.378</td>\n",
       "    </tr>\n",
       "  </tbody>\n",
       "</table>\n",
       "</div>"
      ],
      "text/plain": [
       "             p-value  RDN-B\n",
       "0  transferRDN-B Ref  0.239\n",
       "1      transferRDN-B  0.378"
      ]
     },
     "metadata": {},
     "output_type": "display_data"
    },
    {
     "name": "stdout",
     "output_type": "stream",
     "text": [
      "\n",
      "\n",
      "Scratch: [-0.688985 -0.707082 -0.686741]\n",
      "Transfer: [-0.684796 -0.684696 -0.688706]\n",
      "Transfer & Revision: [-0.681071 -0.686504 -0.686155]\n"
     ]
    },
    {
     "data": {
      "text/markdown": [
       "## Recall"
      ],
      "text/plain": [
       "<IPython.core.display.Markdown object>"
      ]
     },
     "metadata": {},
     "output_type": "display_data"
    },
    {
     "name": "stdout",
     "output_type": "stream",
     "text": [
      "T-test for experiment 1\n",
      "Ttest_relResult(statistic=-0.5076693519573084, pvalue=0.6621335101878116)\n",
      "Ttest_relResult(statistic=-1.383091666114743, pvalue=0.30080352798964727)\n"
     ]
    },
    {
     "data": {
      "text/html": [
       "<div>\n",
       "<table border=\"1\" class=\"dataframe\">\n",
       "  <thead>\n",
       "    <tr style=\"text-align: right;\">\n",
       "      <th></th>\n",
       "      <th>p-value</th>\n",
       "      <th>RDN-B</th>\n",
       "    </tr>\n",
       "  </thead>\n",
       "  <tbody>\n",
       "    <tr>\n",
       "      <th>0</th>\n",
       "      <td>transferRDN-B Ref</td>\n",
       "      <td>0.662</td>\n",
       "    </tr>\n",
       "    <tr>\n",
       "      <th>1</th>\n",
       "      <td>transferRDN-B</td>\n",
       "      <td>0.301</td>\n",
       "    </tr>\n",
       "  </tbody>\n",
       "</table>\n",
       "</div>"
      ],
      "text/plain": [
       "             p-value  RDN-B\n",
       "0  transferRDN-B Ref  0.662\n",
       "1      transferRDN-B  0.301"
      ]
     },
     "metadata": {},
     "output_type": "display_data"
    },
    {
     "name": "stdout",
     "output_type": "stream",
     "text": [
      "\n",
      "\n",
      "Scratch: [0.050926 0.12037  0.027523]\n",
      "Transfer: [0.023148 0.037037 0.03211 ]\n",
      "Transfer & Revision: [0.078704 0.046296 0.027523]\n"
     ]
    },
    {
     "data": {
      "text/markdown": [
       "## F1"
      ],
      "text/plain": [
       "<IPython.core.display.Markdown object>"
      ]
     },
     "metadata": {},
     "output_type": "display_data"
    },
    {
     "name": "stdout",
     "output_type": "stream",
     "text": [
      "T-test for experiment 1\n",
      "Ttest_relResult(statistic=-0.4555310370154689, pvalue=0.6934037930882798)\n",
      "Ttest_relResult(statistic=-1.4291243271473888, pvalue=0.28919484976011883)\n"
     ]
    },
    {
     "data": {
      "text/html": [
       "<div>\n",
       "<table border=\"1\" class=\"dataframe\">\n",
       "  <thead>\n",
       "    <tr style=\"text-align: right;\">\n",
       "      <th></th>\n",
       "      <th>p-value</th>\n",
       "      <th>RDN-B</th>\n",
       "    </tr>\n",
       "  </thead>\n",
       "  <tbody>\n",
       "    <tr>\n",
       "      <th>0</th>\n",
       "      <td>transferRDN-B Ref</td>\n",
       "      <td>0.693</td>\n",
       "    </tr>\n",
       "    <tr>\n",
       "      <th>1</th>\n",
       "      <td>transferRDN-B</td>\n",
       "      <td>0.289</td>\n",
       "    </tr>\n",
       "  </tbody>\n",
       "</table>\n",
       "</div>"
      ],
      "text/plain": [
       "             p-value  RDN-B\n",
       "0  transferRDN-B Ref  0.693\n",
       "1      transferRDN-B  0.289"
      ]
     },
     "metadata": {},
     "output_type": "display_data"
    },
    {
     "name": "stdout",
     "output_type": "stream",
     "text": [
      "\n",
      "\n",
      "Scratch: [0.092827 0.19403  0.052632]\n",
      "Transfer: [0.045249 0.071429 0.060606]\n",
      "Transfer & Revision: [0.138211 0.087719 0.052174]\n"
     ]
    },
    {
     "data": {
      "text/markdown": [
       "## Precision"
      ],
      "text/plain": [
       "<IPython.core.display.Markdown object>"
      ]
     },
     "metadata": {},
     "output_type": "display_data"
    },
    {
     "name": "stdout",
     "output_type": "stream",
     "text": [
      "\n",
      "\n",
      "Scratch: [0.52381 0.5     0.6    ]\n",
      "Transfer: [1.       1.       0.538462]\n",
      "Transfer & Revision: [0.566667 0.833333 0.5     ]\n"
     ]
    },
    {
     "data": {
      "text/markdown": [
       "## Learning and Revision time"
      ],
      "text/plain": [
       "<IPython.core.display.Markdown object>"
      ]
     },
     "metadata": {},
     "output_type": "display_data"
    },
    {
     "name": "stdout",
     "output_type": "stream",
     "text": [
      "\n",
      "\n",
      "Scratch: [7.355 8.968 8.75 ]\n",
      "Transfer: [1.803 1.756 5.253]\n",
      "Transfer & Revision: [ 8.563 17.018 13.798]\n"
     ]
    },
    {
     "data": {
      "text/markdown": [
       "## Inference time"
      ],
      "text/plain": [
       "<IPython.core.display.Markdown object>"
      ]
     },
     "metadata": {},
     "output_type": "display_data"
    },
    {
     "name": "stdout",
     "output_type": "stream",
     "text": [
      "\n",
      "\n",
      "Scratch: [1.133 1.09  1.105]\n",
      "Transfer: [1.803 1.756 5.253]\n",
      "Transfer & Revision: [1.041 1.097 1.098]\n"
     ]
    },
    {
     "data": {
      "text/markdown": [
       "# Results for 37_nell_sports_nell_finances"
      ],
      "text/plain": [
       "<IPython.core.display.Markdown object>"
      ]
     },
     "metadata": {},
     "output_type": "display_data"
    },
    {
     "data": {
      "text/markdown": [
       "## AUC ROC"
      ],
      "text/plain": [
       "<IPython.core.display.Markdown object>"
      ]
     },
     "metadata": {},
     "output_type": "display_data"
    },
    {
     "name": "stdout",
     "output_type": "stream",
     "text": [
      "T-test for experiment 1\n",
      "Ttest_relResult(statistic=2.42951317681219, pvalue=0.1357566136886079)\n",
      "Ttest_relResult(statistic=2.591896785177675, pvalue=0.12216874345318234)\n"
     ]
    },
    {
     "data": {
      "text/html": [
       "<div>\n",
       "<table border=\"1\" class=\"dataframe\">\n",
       "  <thead>\n",
       "    <tr style=\"text-align: right;\">\n",
       "      <th></th>\n",
       "      <th>p-value</th>\n",
       "      <th>RDN-B</th>\n",
       "    </tr>\n",
       "  </thead>\n",
       "  <tbody>\n",
       "    <tr>\n",
       "      <th>0</th>\n",
       "      <td>transferRDN-B Ref</td>\n",
       "      <td>0.136</td>\n",
       "    </tr>\n",
       "    <tr>\n",
       "      <th>1</th>\n",
       "      <td>transferRDN-B</td>\n",
       "      <td>0.122</td>\n",
       "    </tr>\n",
       "  </tbody>\n",
       "</table>\n",
       "</div>"
      ],
      "text/plain": [
       "             p-value  RDN-B\n",
       "0  transferRDN-B Ref  0.136\n",
       "1      transferRDN-B  0.122"
      ]
     },
     "metadata": {},
     "output_type": "display_data"
    },
    {
     "name": "stdout",
     "output_type": "stream",
     "text": [
      "\n",
      "\n",
      "Scratch: [0.781999 0.637841 0.689882]\n",
      "Transfer: [0.818054 0.826823 0.808473]\n",
      "Transfer & Revision: [0.816569 0.87115  0.842648]\n"
     ]
    },
    {
     "data": {
      "text/markdown": [
       "## AUC PR"
      ],
      "text/plain": [
       "<IPython.core.display.Markdown object>"
      ]
     },
     "metadata": {},
     "output_type": "display_data"
    },
    {
     "name": "stdout",
     "output_type": "stream",
     "text": [
      "T-test for experiment 1\n",
      "Ttest_relResult(statistic=1.9362313207456057, pvalue=0.19246491690240097)\n",
      "Ttest_relResult(statistic=2.902817539369593, pvalue=0.10101261893879113)\n"
     ]
    },
    {
     "data": {
      "text/html": [
       "<div>\n",
       "<table border=\"1\" class=\"dataframe\">\n",
       "  <thead>\n",
       "    <tr style=\"text-align: right;\">\n",
       "      <th></th>\n",
       "      <th>p-value</th>\n",
       "      <th>RDN-B</th>\n",
       "    </tr>\n",
       "  </thead>\n",
       "  <tbody>\n",
       "    <tr>\n",
       "      <th>0</th>\n",
       "      <td>transferRDN-B Ref</td>\n",
       "      <td>0.192</td>\n",
       "    </tr>\n",
       "    <tr>\n",
       "      <th>1</th>\n",
       "      <td>transferRDN-B</td>\n",
       "      <td>0.101</td>\n",
       "    </tr>\n",
       "  </tbody>\n",
       "</table>\n",
       "</div>"
      ],
      "text/plain": [
       "             p-value  RDN-B\n",
       "0  transferRDN-B Ref  0.192\n",
       "1      transferRDN-B  0.101"
      ]
     },
     "metadata": {},
     "output_type": "display_data"
    },
    {
     "name": "stdout",
     "output_type": "stream",
     "text": [
      "\n",
      "\n",
      "Scratch: [0.794608 0.671401 0.71565 ]\n",
      "Transfer: [0.838034 0.831105 0.806487]\n",
      "Transfer & Revision: [0.802087 0.882323 0.839577]\n"
     ]
    },
    {
     "data": {
      "text/markdown": [
       "## CLL"
      ],
      "text/plain": [
       "<IPython.core.display.Markdown object>"
      ]
     },
     "metadata": {},
     "output_type": "display_data"
    },
    {
     "name": "stdout",
     "output_type": "stream",
     "text": [
      "T-test for experiment 1\n",
      "Ttest_relResult(statistic=1.9088810672449965, pvalue=0.19648862952631932)\n",
      "Ttest_relResult(statistic=4.388634551408614, pvalue=0.04819795977523454)\n"
     ]
    },
    {
     "data": {
      "text/html": [
       "<div>\n",
       "<table border=\"1\" class=\"dataframe\">\n",
       "  <thead>\n",
       "    <tr style=\"text-align: right;\">\n",
       "      <th></th>\n",
       "      <th>p-value</th>\n",
       "      <th>RDN-B</th>\n",
       "    </tr>\n",
       "  </thead>\n",
       "  <tbody>\n",
       "    <tr>\n",
       "      <th>0</th>\n",
       "      <td>transferRDN-B Ref</td>\n",
       "      <td>0.196</td>\n",
       "    </tr>\n",
       "    <tr>\n",
       "      <th>1</th>\n",
       "      <td>transferRDN-B</td>\n",
       "      <td>0.048</td>\n",
       "    </tr>\n",
       "  </tbody>\n",
       "</table>\n",
       "</div>"
      ],
      "text/plain": [
       "             p-value  RDN-B\n",
       "0  transferRDN-B Ref  0.196\n",
       "1      transferRDN-B  0.048"
      ]
     },
     "metadata": {},
     "output_type": "display_data"
    },
    {
     "name": "stdout",
     "output_type": "stream",
     "text": [
      "\n",
      "\n",
      "Scratch: [-0.576372 -0.651833 -0.622984]\n",
      "Transfer: [-0.521198 -0.535005 -0.551802]\n",
      "Transfer & Revision: [-0.5766   -0.471419 -0.496624]\n"
     ]
    },
    {
     "data": {
      "text/markdown": [
       "## Recall"
      ],
      "text/plain": [
       "<IPython.core.display.Markdown object>"
      ]
     },
     "metadata": {},
     "output_type": "display_data"
    },
    {
     "name": "stdout",
     "output_type": "stream",
     "text": [
      "T-test for experiment 1\n",
      "Ttest_relResult(statistic=1.6685143631106767, pvalue=0.2371536381699615)\n",
      "Ttest_relResult(statistic=4.73208147728844, pvalue=0.04187270992308382)\n"
     ]
    },
    {
     "data": {
      "text/html": [
       "<div>\n",
       "<table border=\"1\" class=\"dataframe\">\n",
       "  <thead>\n",
       "    <tr style=\"text-align: right;\">\n",
       "      <th></th>\n",
       "      <th>p-value</th>\n",
       "      <th>RDN-B</th>\n",
       "    </tr>\n",
       "  </thead>\n",
       "  <tbody>\n",
       "    <tr>\n",
       "      <th>0</th>\n",
       "      <td>transferRDN-B Ref</td>\n",
       "      <td>0.237</td>\n",
       "    </tr>\n",
       "    <tr>\n",
       "      <th>1</th>\n",
       "      <td>transferRDN-B</td>\n",
       "      <td>0.042</td>\n",
       "    </tr>\n",
       "  </tbody>\n",
       "</table>\n",
       "</div>"
      ],
      "text/plain": [
       "             p-value  RDN-B\n",
       "0  transferRDN-B Ref  0.237\n",
       "1      transferRDN-B  0.042"
      ]
     },
     "metadata": {},
     "output_type": "display_data"
    },
    {
     "name": "stdout",
     "output_type": "stream",
     "text": [
      "\n",
      "\n",
      "Scratch: [0.378378 0.164093 0.261538]\n",
      "Transfer: [0.635135 0.727799 0.717308]\n",
      "Transfer & Revision: [0.335907 0.611969 0.6     ]\n"
     ]
    },
    {
     "data": {
      "text/markdown": [
       "## F1"
      ],
      "text/plain": [
       "<IPython.core.display.Markdown object>"
      ]
     },
     "metadata": {},
     "output_type": "display_data"
    },
    {
     "name": "stdout",
     "output_type": "stream",
     "text": [
      "T-test for experiment 1\n",
      "Ttest_relResult(statistic=1.589238590842433, pvalue=0.25295422382905053)\n",
      "Ttest_relResult(statistic=3.810307361077676, pvalue=0.06249095614166621)\n"
     ]
    },
    {
     "data": {
      "text/html": [
       "<div>\n",
       "<table border=\"1\" class=\"dataframe\">\n",
       "  <thead>\n",
       "    <tr style=\"text-align: right;\">\n",
       "      <th></th>\n",
       "      <th>p-value</th>\n",
       "      <th>RDN-B</th>\n",
       "    </tr>\n",
       "  </thead>\n",
       "  <tbody>\n",
       "    <tr>\n",
       "      <th>0</th>\n",
       "      <td>transferRDN-B Ref</td>\n",
       "      <td>0.253</td>\n",
       "    </tr>\n",
       "    <tr>\n",
       "      <th>1</th>\n",
       "      <td>transferRDN-B</td>\n",
       "      <td>0.062</td>\n",
       "    </tr>\n",
       "  </tbody>\n",
       "</table>\n",
       "</div>"
      ],
      "text/plain": [
       "             p-value  RDN-B\n",
       "0  transferRDN-B Ref  0.253\n",
       "1      transferRDN-B  0.062"
      ]
     },
     "metadata": {},
     "output_type": "display_data"
    },
    {
     "name": "stdout",
     "output_type": "stream",
     "text": [
      "\n",
      "\n",
      "Scratch: [0.534789 0.280528 0.40118 ]\n",
      "Transfer: [0.703743 0.737048 0.725681]\n",
      "Transfer & Revision: [0.484006 0.735499 0.715596]\n"
     ]
    },
    {
     "data": {
      "text/markdown": [
       "## Precision"
      ],
      "text/plain": [
       "<IPython.core.display.Markdown object>"
      ]
     },
     "metadata": {},
     "output_type": "display_data"
    },
    {
     "name": "stdout",
     "output_type": "stream",
     "text": [
      "\n",
      "\n",
      "Scratch: [0.911628 0.965909 0.860759]\n",
      "Transfer: [0.788969 0.746535 0.734252]\n",
      "Transfer & Revision: [0.865672 0.921512 0.886364]\n"
     ]
    },
    {
     "data": {
      "text/markdown": [
       "## Learning and Revision time"
      ],
      "text/plain": [
       "<IPython.core.display.Markdown object>"
      ]
     },
     "metadata": {},
     "output_type": "display_data"
    },
    {
     "name": "stdout",
     "output_type": "stream",
     "text": [
      "\n",
      "\n",
      "Scratch: [11.381  6.031 10.964]\n",
      "Transfer: [10.425  9.366 13.368]\n",
      "Transfer & Revision: [20.769 25.739 28.76 ]\n"
     ]
    },
    {
     "data": {
      "text/markdown": [
       "## Inference time"
      ],
      "text/plain": [
       "<IPython.core.display.Markdown object>"
      ]
     },
     "metadata": {},
     "output_type": "display_data"
    },
    {
     "name": "stdout",
     "output_type": "stream",
     "text": [
      "\n",
      "\n",
      "Scratch: [1.512 1.317 1.453]\n",
      "Transfer: [10.425  9.366 13.368]\n",
      "Transfer & Revision: [1.7   2.34  2.554]\n"
     ]
    },
    {
     "data": {
      "text/markdown": [
       "# Results for 38_nell_finances_nell_sports"
      ],
      "text/plain": [
       "<IPython.core.display.Markdown object>"
      ]
     },
     "metadata": {},
     "output_type": "display_data"
    },
    {
     "data": {
      "text/markdown": [
       "## AUC ROC"
      ],
      "text/plain": [
       "<IPython.core.display.Markdown object>"
      ]
     },
     "metadata": {},
     "output_type": "display_data"
    },
    {
     "name": "stdout",
     "output_type": "stream",
     "text": [
      "T-test for experiment 1\n",
      "Ttest_relResult(statistic=-0.6985966231533668, pvalue=0.5571077878787265)\n",
      "Ttest_relResult(statistic=-28.063255616578083, pvalue=0.0012673532361468663)\n"
     ]
    },
    {
     "data": {
      "text/html": [
       "<div>\n",
       "<table border=\"1\" class=\"dataframe\">\n",
       "  <thead>\n",
       "    <tr style=\"text-align: right;\">\n",
       "      <th></th>\n",
       "      <th>p-value</th>\n",
       "      <th>RDN-B</th>\n",
       "    </tr>\n",
       "  </thead>\n",
       "  <tbody>\n",
       "    <tr>\n",
       "      <th>0</th>\n",
       "      <td>transferRDN-B Ref</td>\n",
       "      <td>0.557</td>\n",
       "    </tr>\n",
       "    <tr>\n",
       "      <th>1</th>\n",
       "      <td>transferRDN-B</td>\n",
       "      <td>0.001</td>\n",
       "    </tr>\n",
       "  </tbody>\n",
       "</table>\n",
       "</div>"
      ],
      "text/plain": [
       "             p-value  RDN-B\n",
       "0  transferRDN-B Ref  0.557\n",
       "1      transferRDN-B  0.001"
      ]
     },
     "metadata": {},
     "output_type": "display_data"
    },
    {
     "name": "stdout",
     "output_type": "stream",
     "text": [
      "\n",
      "\n",
      "Scratch: [0.925669 0.899807 0.891757]\n",
      "Transfer: [0.794229 0.779376 0.755818]\n",
      "Transfer & Revision: [0.903798 0.909206 0.88531 ]\n"
     ]
    },
    {
     "data": {
      "text/markdown": [
       "## AUC PR"
      ],
      "text/plain": [
       "<IPython.core.display.Markdown object>"
      ]
     },
     "metadata": {},
     "output_type": "display_data"
    },
    {
     "name": "stdout",
     "output_type": "stream",
     "text": [
      "T-test for experiment 1\n",
      "Ttest_relResult(statistic=0.2599117360734615, pvalue=0.8192420331002446)\n",
      "Ttest_relResult(statistic=-9.088626642382284, pvalue=0.011890586086873869)\n"
     ]
    },
    {
     "data": {
      "text/html": [
       "<div>\n",
       "<table border=\"1\" class=\"dataframe\">\n",
       "  <thead>\n",
       "    <tr style=\"text-align: right;\">\n",
       "      <th></th>\n",
       "      <th>p-value</th>\n",
       "      <th>RDN-B</th>\n",
       "    </tr>\n",
       "  </thead>\n",
       "  <tbody>\n",
       "    <tr>\n",
       "      <th>0</th>\n",
       "      <td>transferRDN-B Ref</td>\n",
       "      <td>0.819</td>\n",
       "    </tr>\n",
       "    <tr>\n",
       "      <th>1</th>\n",
       "      <td>transferRDN-B</td>\n",
       "      <td>0.012</td>\n",
       "    </tr>\n",
       "  </tbody>\n",
       "</table>\n",
       "</div>"
      ],
      "text/plain": [
       "             p-value  RDN-B\n",
       "0  transferRDN-B Ref  0.819\n",
       "1      transferRDN-B  0.012"
      ]
     },
     "metadata": {},
     "output_type": "display_data"
    },
    {
     "name": "stdout",
     "output_type": "stream",
     "text": [
      "\n",
      "\n",
      "Scratch: [0.894886 0.881768 0.86084 ]\n",
      "Transfer: [0.760692 0.756188 0.683433]\n",
      "Transfer & Revision: [0.877676 0.908555 0.861232]\n"
     ]
    },
    {
     "data": {
      "text/markdown": [
       "## CLL"
      ],
      "text/plain": [
       "<IPython.core.display.Markdown object>"
      ]
     },
     "metadata": {},
     "output_type": "display_data"
    },
    {
     "name": "stdout",
     "output_type": "stream",
     "text": [
      "T-test for experiment 1\n",
      "Ttest_relResult(statistic=-3.1936401735072644, pvalue=0.08563865354691295)\n",
      "Ttest_relResult(statistic=-21.692399193654865, pvalue=0.002118376341733907)\n"
     ]
    },
    {
     "data": {
      "text/html": [
       "<div>\n",
       "<table border=\"1\" class=\"dataframe\">\n",
       "  <thead>\n",
       "    <tr style=\"text-align: right;\">\n",
       "      <th></th>\n",
       "      <th>p-value</th>\n",
       "      <th>RDN-B</th>\n",
       "    </tr>\n",
       "  </thead>\n",
       "  <tbody>\n",
       "    <tr>\n",
       "      <th>0</th>\n",
       "      <td>transferRDN-B Ref</td>\n",
       "      <td>0.086</td>\n",
       "    </tr>\n",
       "    <tr>\n",
       "      <th>1</th>\n",
       "      <td>transferRDN-B</td>\n",
       "      <td>0.002</td>\n",
       "    </tr>\n",
       "  </tbody>\n",
       "</table>\n",
       "</div>"
      ],
      "text/plain": [
       "             p-value  RDN-B\n",
       "0  transferRDN-B Ref  0.086\n",
       "1      transferRDN-B  0.002"
      ]
     },
     "metadata": {},
     "output_type": "display_data"
    },
    {
     "name": "stdout",
     "output_type": "stream",
     "text": [
      "\n",
      "\n",
      "Scratch: [-0.362947 -0.401532 -0.411791]\n",
      "Transfer: [-0.560848 -0.574301 -0.584707]\n",
      "Transfer & Revision: [-0.406732 -0.413592 -0.445857]\n"
     ]
    },
    {
     "data": {
      "text/markdown": [
       "## Recall"
      ],
      "text/plain": [
       "<IPython.core.display.Markdown object>"
      ]
     },
     "metadata": {},
     "output_type": "display_data"
    },
    {
     "name": "stdout",
     "output_type": "stream",
     "text": [
      "T-test for experiment 1\n",
      "Ttest_relResult(statistic=-0.9534037674961091, pvalue=0.44100671633469335)\n",
      "Ttest_relResult(statistic=0.37329097649738835, pvalue=0.744784550059062)\n"
     ]
    },
    {
     "data": {
      "text/html": [
       "<div>\n",
       "<table border=\"1\" class=\"dataframe\">\n",
       "  <thead>\n",
       "    <tr style=\"text-align: right;\">\n",
       "      <th></th>\n",
       "      <th>p-value</th>\n",
       "      <th>RDN-B</th>\n",
       "    </tr>\n",
       "  </thead>\n",
       "  <tbody>\n",
       "    <tr>\n",
       "      <th>0</th>\n",
       "      <td>transferRDN-B Ref</td>\n",
       "      <td>0.441</td>\n",
       "    </tr>\n",
       "    <tr>\n",
       "      <th>1</th>\n",
       "      <td>transferRDN-B</td>\n",
       "      <td>0.745</td>\n",
       "    </tr>\n",
       "  </tbody>\n",
       "</table>\n",
       "</div>"
      ],
      "text/plain": [
       "             p-value  RDN-B\n",
       "0  transferRDN-B Ref  0.441\n",
       "1      transferRDN-B  0.745"
      ]
     },
     "metadata": {},
     "output_type": "display_data"
    },
    {
     "name": "stdout",
     "output_type": "stream",
     "text": [
      "\n",
      "\n",
      "Scratch: [0.895238 0.866667 0.740566]\n",
      "Transfer: [0.847619 0.847619 0.867925]\n",
      "Transfer & Revision: [0.761905 0.890476 0.716981]\n"
     ]
    },
    {
     "data": {
      "text/markdown": [
       "## F1"
      ],
      "text/plain": [
       "<IPython.core.display.Markdown object>"
      ]
     },
     "metadata": {},
     "output_type": "display_data"
    },
    {
     "name": "stdout",
     "output_type": "stream",
     "text": [
      "T-test for experiment 1\n",
      "Ttest_relResult(statistic=-1.0306488493224155, pvalue=0.4110325151683293)\n",
      "Ttest_relResult(statistic=-2.9257421558703074, pvalue=0.09966368968864645)\n"
     ]
    },
    {
     "data": {
      "text/html": [
       "<div>\n",
       "<table border=\"1\" class=\"dataframe\">\n",
       "  <thead>\n",
       "    <tr style=\"text-align: right;\">\n",
       "      <th></th>\n",
       "      <th>p-value</th>\n",
       "      <th>RDN-B</th>\n",
       "    </tr>\n",
       "  </thead>\n",
       "  <tbody>\n",
       "    <tr>\n",
       "      <th>0</th>\n",
       "      <td>transferRDN-B Ref</td>\n",
       "      <td>0.411</td>\n",
       "    </tr>\n",
       "    <tr>\n",
       "      <th>1</th>\n",
       "      <td>transferRDN-B</td>\n",
       "      <td>0.100</td>\n",
       "    </tr>\n",
       "  </tbody>\n",
       "</table>\n",
       "</div>"
      ],
      "text/plain": [
       "             p-value  RDN-B\n",
       "0  transferRDN-B Ref  0.411\n",
       "1      transferRDN-B  0.100"
      ]
     },
     "metadata": {},
     "output_type": "display_data"
    },
    {
     "name": "stdout",
     "output_type": "stream",
     "text": [
      "\n",
      "\n",
      "Scratch: [0.87239  0.844548 0.786967]\n",
      "Transfer: [0.762313 0.754237 0.761905]\n",
      "Transfer & Revision: [0.788177 0.848073 0.781491]\n"
     ]
    },
    {
     "data": {
      "text/markdown": [
       "## Precision"
      ],
      "text/plain": [
       "<IPython.core.display.Markdown object>"
      ]
     },
     "metadata": {},
     "output_type": "display_data"
    },
    {
     "name": "stdout",
     "output_type": "stream",
     "text": [
      "\n",
      "\n",
      "Scratch: [0.850679 0.823529 0.839572]\n",
      "Transfer: [0.692607 0.679389 0.678967]\n",
      "Transfer & Revision: [0.816327 0.809524 0.858757]\n"
     ]
    },
    {
     "data": {
      "text/markdown": [
       "## Learning and Revision time"
      ],
      "text/plain": [
       "<IPython.core.display.Markdown object>"
      ]
     },
     "metadata": {},
     "output_type": "display_data"
    },
    {
     "name": "stdout",
     "output_type": "stream",
     "text": [
      "\n",
      "\n",
      "Scratch: [ 27.085  53.446 417.972]\n",
      "Transfer: [ 9.837 76.723 93.968]\n",
      "Transfer & Revision: [ 32.841 201.322 134.748]\n"
     ]
    },
    {
     "data": {
      "text/markdown": [
       "## Inference time"
      ],
      "text/plain": [
       "<IPython.core.display.Markdown object>"
      ]
     },
     "metadata": {},
     "output_type": "display_data"
    },
    {
     "name": "stdout",
     "output_type": "stream",
     "text": [
      "\n",
      "\n",
      "Scratch: [1.492 1.697 1.897]\n",
      "Transfer: [ 9.837 76.723 93.968]\n",
      "Transfer & Revision: [2.195 4.215 2.461]\n"
     ]
    },
    {
     "data": {
      "text/markdown": [
       "# Results for 39_nell_finances_nell_sports"
      ],
      "text/plain": [
       "<IPython.core.display.Markdown object>"
      ]
     },
     "metadata": {},
     "output_type": "display_data"
    },
    {
     "data": {
      "text/markdown": [
       "## AUC ROC"
      ],
      "text/plain": [
       "<IPython.core.display.Markdown object>"
      ]
     },
     "metadata": {},
     "output_type": "display_data"
    },
    {
     "name": "stdout",
     "output_type": "stream",
     "text": [
      "T-test for experiment 1\n",
      "Ttest_relResult(statistic=-2.1956213953619197, pvalue=0.15929954423341142)\n",
      "Ttest_relResult(statistic=-5.749350231587609, pvalue=0.02894549916133521)\n"
     ]
    },
    {
     "data": {
      "text/html": [
       "<div>\n",
       "<table border=\"1\" class=\"dataframe\">\n",
       "  <thead>\n",
       "    <tr style=\"text-align: right;\">\n",
       "      <th></th>\n",
       "      <th>p-value</th>\n",
       "      <th>RDN-B</th>\n",
       "    </tr>\n",
       "  </thead>\n",
       "  <tbody>\n",
       "    <tr>\n",
       "      <th>0</th>\n",
       "      <td>transferRDN-B Ref</td>\n",
       "      <td>0.159</td>\n",
       "    </tr>\n",
       "    <tr>\n",
       "      <th>1</th>\n",
       "      <td>transferRDN-B</td>\n",
       "      <td>0.029</td>\n",
       "    </tr>\n",
       "  </tbody>\n",
       "</table>\n",
       "</div>"
      ],
      "text/plain": [
       "             p-value  RDN-B\n",
       "0  transferRDN-B Ref  0.159\n",
       "1      transferRDN-B  0.029"
      ]
     },
     "metadata": {},
     "output_type": "display_data"
    },
    {
     "name": "stdout",
     "output_type": "stream",
     "text": [
      "\n",
      "\n",
      "Scratch: [0.923453 0.918447 0.932729]\n",
      "Transfer: [0.841937 0.823936 0.79052 ]\n",
      "Transfer & Revision: [0.914872 0.914873 0.931156]\n"
     ]
    },
    {
     "data": {
      "text/markdown": [
       "## AUC PR"
      ],
      "text/plain": [
       "<IPython.core.display.Markdown object>"
      ]
     },
     "metadata": {},
     "output_type": "display_data"
    },
    {
     "name": "stdout",
     "output_type": "stream",
     "text": [
      "T-test for experiment 1\n",
      "Ttest_relResult(statistic=0.1008789430097396, pvalue=0.9288486047648312)\n",
      "Ttest_relResult(statistic=-6.252700185294647, pvalue=0.02463659565278986)\n"
     ]
    },
    {
     "data": {
      "text/html": [
       "<div>\n",
       "<table border=\"1\" class=\"dataframe\">\n",
       "  <thead>\n",
       "    <tr style=\"text-align: right;\">\n",
       "      <th></th>\n",
       "      <th>p-value</th>\n",
       "      <th>RDN-B</th>\n",
       "    </tr>\n",
       "  </thead>\n",
       "  <tbody>\n",
       "    <tr>\n",
       "      <th>0</th>\n",
       "      <td>transferRDN-B Ref</td>\n",
       "      <td>0.929</td>\n",
       "    </tr>\n",
       "    <tr>\n",
       "      <th>1</th>\n",
       "      <td>transferRDN-B</td>\n",
       "      <td>0.025</td>\n",
       "    </tr>\n",
       "  </tbody>\n",
       "</table>\n",
       "</div>"
      ],
      "text/plain": [
       "             p-value  RDN-B\n",
       "0  transferRDN-B Ref  0.929\n",
       "1      transferRDN-B  0.025"
      ]
     },
     "metadata": {},
     "output_type": "display_data"
    },
    {
     "name": "stdout",
     "output_type": "stream",
     "text": [
      "\n",
      "\n",
      "Scratch: [0.913288 0.900696 0.911631]\n",
      "Transfer: [0.835751 0.822135 0.789016]\n",
      "Transfer & Revision: [0.902394 0.905585 0.919391]\n"
     ]
    },
    {
     "data": {
      "text/markdown": [
       "## CLL"
      ],
      "text/plain": [
       "<IPython.core.display.Markdown object>"
      ]
     },
     "metadata": {},
     "output_type": "display_data"
    },
    {
     "name": "stdout",
     "output_type": "stream",
     "text": [
      "T-test for experiment 1\n",
      "Ttest_relResult(statistic=-3.0313477836087475, pvalue=0.09376927618090707)\n",
      "Ttest_relResult(statistic=-14.36310485827242, pvalue=0.004812375693811023)\n"
     ]
    },
    {
     "data": {
      "text/html": [
       "<div>\n",
       "<table border=\"1\" class=\"dataframe\">\n",
       "  <thead>\n",
       "    <tr style=\"text-align: right;\">\n",
       "      <th></th>\n",
       "      <th>p-value</th>\n",
       "      <th>RDN-B</th>\n",
       "    </tr>\n",
       "  </thead>\n",
       "  <tbody>\n",
       "    <tr>\n",
       "      <th>0</th>\n",
       "      <td>transferRDN-B Ref</td>\n",
       "      <td>0.094</td>\n",
       "    </tr>\n",
       "    <tr>\n",
       "      <th>1</th>\n",
       "      <td>transferRDN-B</td>\n",
       "      <td>0.005</td>\n",
       "    </tr>\n",
       "  </tbody>\n",
       "</table>\n",
       "</div>"
      ],
      "text/plain": [
       "             p-value  RDN-B\n",
       "0  transferRDN-B Ref  0.094\n",
       "1      transferRDN-B  0.005"
      ]
     },
     "metadata": {},
     "output_type": "display_data"
    },
    {
     "name": "stdout",
     "output_type": "stream",
     "text": [
      "\n",
      "\n",
      "Scratch: [-0.367679 -0.368641 -0.34469 ]\n",
      "Transfer: [-0.550282 -0.560927 -0.573307]\n",
      "Transfer & Revision: [-0.379375 -0.383712 -0.34844 ]\n"
     ]
    },
    {
     "data": {
      "text/markdown": [
       "## Recall"
      ],
      "text/plain": [
       "<IPython.core.display.Markdown object>"
      ]
     },
     "metadata": {},
     "output_type": "display_data"
    },
    {
     "name": "stdout",
     "output_type": "stream",
     "text": [
      "T-test for experiment 1\n",
      "Ttest_relResult(statistic=-0.5344126596970715, pvalue=0.6465101734587693)\n",
      "Ttest_relResult(statistic=-6.395190278540564, pvalue=0.02358908324131252)\n"
     ]
    },
    {
     "data": {
      "text/html": [
       "<div>\n",
       "<table border=\"1\" class=\"dataframe\">\n",
       "  <thead>\n",
       "    <tr style=\"text-align: right;\">\n",
       "      <th></th>\n",
       "      <th>p-value</th>\n",
       "      <th>RDN-B</th>\n",
       "    </tr>\n",
       "  </thead>\n",
       "  <tbody>\n",
       "    <tr>\n",
       "      <th>0</th>\n",
       "      <td>transferRDN-B Ref</td>\n",
       "      <td>0.647</td>\n",
       "    </tr>\n",
       "    <tr>\n",
       "      <th>1</th>\n",
       "      <td>transferRDN-B</td>\n",
       "      <td>0.024</td>\n",
       "    </tr>\n",
       "  </tbody>\n",
       "</table>\n",
       "</div>"
      ],
      "text/plain": [
       "             p-value  RDN-B\n",
       "0  transferRDN-B Ref  0.647\n",
       "1      transferRDN-B  0.024"
      ]
     },
     "metadata": {},
     "output_type": "display_data"
    },
    {
     "name": "stdout",
     "output_type": "stream",
     "text": [
      "\n",
      "\n",
      "Scratch: [0.83142  0.83977  0.856994]\n",
      "Transfer: [0.753653 0.720251 0.720772]\n",
      "Transfer & Revision: [0.830898 0.824635 0.862735]\n"
     ]
    },
    {
     "data": {
      "text/markdown": [
       "## F1"
      ],
      "text/plain": [
       "<IPython.core.display.Markdown object>"
      ]
     },
     "metadata": {},
     "output_type": "display_data"
    },
    {
     "name": "stdout",
     "output_type": "stream",
     "text": [
      "T-test for experiment 1\n",
      "Ttest_relResult(statistic=-0.5347677445928527, pvalue=0.6463046749635539)\n",
      "Ttest_relResult(statistic=-7.0914635623854085, pvalue=0.019310991307353004)\n"
     ]
    },
    {
     "data": {
      "text/html": [
       "<div>\n",
       "<table border=\"1\" class=\"dataframe\">\n",
       "  <thead>\n",
       "    <tr style=\"text-align: right;\">\n",
       "      <th></th>\n",
       "      <th>p-value</th>\n",
       "      <th>RDN-B</th>\n",
       "    </tr>\n",
       "  </thead>\n",
       "  <tbody>\n",
       "    <tr>\n",
       "      <th>0</th>\n",
       "      <td>transferRDN-B Ref</td>\n",
       "      <td>0.646</td>\n",
       "    </tr>\n",
       "    <tr>\n",
       "      <th>1</th>\n",
       "      <td>transferRDN-B</td>\n",
       "      <td>0.019</td>\n",
       "    </tr>\n",
       "  </tbody>\n",
       "</table>\n",
       "</div>"
      ],
      "text/plain": [
       "             p-value  RDN-B\n",
       "0  transferRDN-B Ref  0.646\n",
       "1      transferRDN-B  0.019"
      ]
     },
     "metadata": {},
     "output_type": "display_data"
    },
    {
     "name": "stdout",
     "output_type": "stream",
     "text": [
      "\n",
      "\n",
      "Scratch: [0.860848 0.86181  0.876434]\n",
      "Transfer: [0.7596   0.737771 0.71259 ]\n",
      "Transfer & Revision: [0.861239 0.856137 0.878088]\n"
     ]
    },
    {
     "data": {
      "text/markdown": [
       "## Precision"
      ],
      "text/plain": [
       "<IPython.core.display.Markdown object>"
      ]
     },
     "metadata": {},
     "output_type": "display_data"
    },
    {
     "name": "stdout",
     "output_type": "stream",
     "text": [
      "\n",
      "\n",
      "Scratch: [0.892437 0.885039 0.896778]\n",
      "Transfer: [0.765642 0.756164 0.704592]\n",
      "Transfer & Revision: [0.89388  0.890141 0.893997]\n"
     ]
    },
    {
     "data": {
      "text/markdown": [
       "## Learning and Revision time"
      ],
      "text/plain": [
       "<IPython.core.display.Markdown object>"
      ]
     },
     "metadata": {},
     "output_type": "display_data"
    },
    {
     "name": "stdout",
     "output_type": "stream",
     "text": [
      "\n",
      "\n",
      "Scratch: [169.048 337.056 528.87 ]\n",
      "Transfer: [635.02  169.91  667.943]\n",
      "Transfer & Revision: [ 906.771  479.583 1007.048]\n"
     ]
    },
    {
     "data": {
      "text/markdown": [
       "## Inference time"
      ],
      "text/plain": [
       "<IPython.core.display.Markdown object>"
      ]
     },
     "metadata": {},
     "output_type": "display_data"
    },
    {
     "name": "stdout",
     "output_type": "stream",
     "text": [
      "\n",
      "\n",
      "Scratch: [4.36  4.835 5.876]\n",
      "Transfer: [635.02  169.91  667.943]\n",
      "Transfer & Revision: [4.507 4.432 5.532]\n"
     ]
    },
    {
     "data": {
      "text/markdown": [
       "# Results for 40_nell_finances_nell_sports"
      ],
      "text/plain": [
       "<IPython.core.display.Markdown object>"
      ]
     },
     "metadata": {},
     "output_type": "display_data"
    },
    {
     "data": {
      "text/markdown": [
       "## AUC ROC"
      ],
      "text/plain": [
       "<IPython.core.display.Markdown object>"
      ]
     },
     "metadata": {},
     "output_type": "display_data"
    },
    {
     "name": "stdout",
     "output_type": "stream",
     "text": [
      "T-test for experiment 1\n",
      "Ttest_relResult(statistic=-1.4188383568010303, pvalue=0.29173985134372715)\n",
      "Ttest_relResult(statistic=-6.126144255089236, pvalue=0.025625811904989537)\n"
     ]
    },
    {
     "data": {
      "text/html": [
       "<div>\n",
       "<table border=\"1\" class=\"dataframe\">\n",
       "  <thead>\n",
       "    <tr style=\"text-align: right;\">\n",
       "      <th></th>\n",
       "      <th>p-value</th>\n",
       "      <th>RDN-B</th>\n",
       "    </tr>\n",
       "  </thead>\n",
       "  <tbody>\n",
       "    <tr>\n",
       "      <th>0</th>\n",
       "      <td>transferRDN-B Ref</td>\n",
       "      <td>0.292</td>\n",
       "    </tr>\n",
       "    <tr>\n",
       "      <th>1</th>\n",
       "      <td>transferRDN-B</td>\n",
       "      <td>0.026</td>\n",
       "    </tr>\n",
       "  </tbody>\n",
       "</table>\n",
       "</div>"
      ],
      "text/plain": [
       "             p-value  RDN-B\n",
       "0  transferRDN-B Ref  0.292\n",
       "1      transferRDN-B  0.026"
      ]
     },
     "metadata": {},
     "output_type": "display_data"
    },
    {
     "name": "stdout",
     "output_type": "stream",
     "text": [
      "\n",
      "\n",
      "Scratch: [0.929359 0.921425 0.933847]\n",
      "Transfer: [0.864714 0.878958 0.894521]\n",
      "Transfer & Revision: [0.922214 0.922264 0.930329]\n"
     ]
    },
    {
     "data": {
      "text/markdown": [
       "## AUC PR"
      ],
      "text/plain": [
       "<IPython.core.display.Markdown object>"
      ]
     },
     "metadata": {},
     "output_type": "display_data"
    },
    {
     "name": "stdout",
     "output_type": "stream",
     "text": [
      "T-test for experiment 1\n",
      "Ttest_relResult(statistic=0.11205240105649653, pvalue=0.9210145297314661)\n",
      "Ttest_relResult(statistic=-3.708338205417811, pvalue=0.0656391702817471)\n"
     ]
    },
    {
     "data": {
      "text/html": [
       "<div>\n",
       "<table border=\"1\" class=\"dataframe\">\n",
       "  <thead>\n",
       "    <tr style=\"text-align: right;\">\n",
       "      <th></th>\n",
       "      <th>p-value</th>\n",
       "      <th>RDN-B</th>\n",
       "    </tr>\n",
       "  </thead>\n",
       "  <tbody>\n",
       "    <tr>\n",
       "      <th>0</th>\n",
       "      <td>transferRDN-B Ref</td>\n",
       "      <td>0.921</td>\n",
       "    </tr>\n",
       "    <tr>\n",
       "      <th>1</th>\n",
       "      <td>transferRDN-B</td>\n",
       "      <td>0.066</td>\n",
       "    </tr>\n",
       "  </tbody>\n",
       "</table>\n",
       "</div>"
      ],
      "text/plain": [
       "             p-value  RDN-B\n",
       "0  transferRDN-B Ref  0.921\n",
       "1      transferRDN-B  0.066"
      ]
     },
     "metadata": {},
     "output_type": "display_data"
    },
    {
     "name": "stdout",
     "output_type": "stream",
     "text": [
      "\n",
      "\n",
      "Scratch: [0.921618 0.907038 0.916284]\n",
      "Transfer: [0.861133 0.87885  0.887061]\n",
      "Transfer & Revision: [0.919071 0.909617 0.916752]\n"
     ]
    },
    {
     "data": {
      "text/markdown": [
       "## CLL"
      ],
      "text/plain": [
       "<IPython.core.display.Markdown object>"
      ]
     },
     "metadata": {},
     "output_type": "display_data"
    },
    {
     "name": "stdout",
     "output_type": "stream",
     "text": [
      "T-test for experiment 1\n",
      "Ttest_relResult(statistic=-4.220926744238762, pvalue=0.05180561536146642)\n",
      "Ttest_relResult(statistic=-6.478491330572029, pvalue=0.023007000606895894)\n"
     ]
    },
    {
     "data": {
      "text/html": [
       "<div>\n",
       "<table border=\"1\" class=\"dataframe\">\n",
       "  <thead>\n",
       "    <tr style=\"text-align: right;\">\n",
       "      <th></th>\n",
       "      <th>p-value</th>\n",
       "      <th>RDN-B</th>\n",
       "    </tr>\n",
       "  </thead>\n",
       "  <tbody>\n",
       "    <tr>\n",
       "      <th>0</th>\n",
       "      <td>transferRDN-B Ref</td>\n",
       "      <td>0.052</td>\n",
       "    </tr>\n",
       "    <tr>\n",
       "      <th>1</th>\n",
       "      <td>transferRDN-B</td>\n",
       "      <td>0.023</td>\n",
       "    </tr>\n",
       "  </tbody>\n",
       "</table>\n",
       "</div>"
      ],
      "text/plain": [
       "             p-value  RDN-B\n",
       "0  transferRDN-B Ref  0.052\n",
       "1      transferRDN-B  0.023"
      ]
     },
     "metadata": {},
     "output_type": "display_data"
    },
    {
     "name": "stdout",
     "output_type": "stream",
     "text": [
      "\n",
      "\n",
      "Scratch: [-0.351998 -0.361406 -0.342541]\n",
      "Transfer: [-0.502872 -0.456201 -0.443079]\n",
      "Transfer & Revision: [-0.37259  -0.370051 -0.362553]\n"
     ]
    },
    {
     "data": {
      "text/markdown": [
       "## Recall"
      ],
      "text/plain": [
       "<IPython.core.display.Markdown object>"
      ]
     },
     "metadata": {},
     "output_type": "display_data"
    },
    {
     "name": "stdout",
     "output_type": "stream",
     "text": [
      "T-test for experiment 1\n",
      "Ttest_relResult(statistic=-1.1929285015116329, pvalue=0.35522826455653256)\n",
      "Ttest_relResult(statistic=-3.197213409149087, pvalue=0.08547116766783118)\n"
     ]
    },
    {
     "data": {
      "text/html": [
       "<div>\n",
       "<table border=\"1\" class=\"dataframe\">\n",
       "  <thead>\n",
       "    <tr style=\"text-align: right;\">\n",
       "      <th></th>\n",
       "      <th>p-value</th>\n",
       "      <th>RDN-B</th>\n",
       "    </tr>\n",
       "  </thead>\n",
       "  <tbody>\n",
       "    <tr>\n",
       "      <th>0</th>\n",
       "      <td>transferRDN-B Ref</td>\n",
       "      <td>0.355</td>\n",
       "    </tr>\n",
       "    <tr>\n",
       "      <th>1</th>\n",
       "      <td>transferRDN-B</td>\n",
       "      <td>0.085</td>\n",
       "    </tr>\n",
       "  </tbody>\n",
       "</table>\n",
       "</div>"
      ],
      "text/plain": [
       "             p-value  RDN-B\n",
       "0  transferRDN-B Ref  0.355\n",
       "1      transferRDN-B  0.085"
      ]
     },
     "metadata": {},
     "output_type": "display_data"
    },
    {
     "name": "stdout",
     "output_type": "stream",
     "text": [
      "\n",
      "\n",
      "Scratch: [0.841336 0.837683 0.854384]\n",
      "Transfer: [0.700418 0.783925 0.7881  ]\n",
      "Transfer & Revision: [0.818372 0.830376 0.857516]\n"
     ]
    },
    {
     "data": {
      "text/markdown": [
       "## F1"
      ],
      "text/plain": [
       "<IPython.core.display.Markdown object>"
      ]
     },
     "metadata": {},
     "output_type": "display_data"
    },
    {
     "name": "stdout",
     "output_type": "stream",
     "text": [
      "T-test for experiment 1\n",
      "Ttest_relResult(statistic=-1.3629673684775234, pvalue=0.3060593063378516)\n",
      "Ttest_relResult(statistic=-2.4873751392472494, pvalue=0.13068341829847693)\n"
     ]
    },
    {
     "data": {
      "text/html": [
       "<div>\n",
       "<table border=\"1\" class=\"dataframe\">\n",
       "  <thead>\n",
       "    <tr style=\"text-align: right;\">\n",
       "      <th></th>\n",
       "      <th>p-value</th>\n",
       "      <th>RDN-B</th>\n",
       "    </tr>\n",
       "  </thead>\n",
       "  <tbody>\n",
       "    <tr>\n",
       "      <th>0</th>\n",
       "      <td>transferRDN-B Ref</td>\n",
       "      <td>0.306</td>\n",
       "    </tr>\n",
       "    <tr>\n",
       "      <th>1</th>\n",
       "      <td>transferRDN-B</td>\n",
       "      <td>0.131</td>\n",
       "    </tr>\n",
       "  </tbody>\n",
       "</table>\n",
       "</div>"
      ],
      "text/plain": [
       "             p-value  RDN-B\n",
       "0  transferRDN-B Ref  0.306\n",
       "1      transferRDN-B  0.131"
      ]
     },
     "metadata": {},
     "output_type": "display_data"
    },
    {
     "name": "stdout",
     "output_type": "stream",
     "text": [
      "\n",
      "\n",
      "Scratch: [0.868534 0.860821 0.873999]\n",
      "Transfer: [0.762067 0.829376 0.834485]\n",
      "Transfer & Revision: [0.857299 0.85722  0.874634]\n"
     ]
    },
    {
     "data": {
      "text/markdown": [
       "## Precision"
      ],
      "text/plain": [
       "<IPython.core.display.Markdown object>"
      ]
     },
     "metadata": {},
     "output_type": "display_data"
    },
    {
     "name": "stdout",
     "output_type": "stream",
     "text": [
      "\n",
      "\n",
      "Scratch: [0.89755  0.885273 0.894536]\n",
      "Transfer: [0.835616 0.880422 0.886671]\n",
      "Transfer & Revision: [0.900115 0.885857 0.89245 ]\n"
     ]
    },
    {
     "data": {
      "text/markdown": [
       "## Learning and Revision time"
      ],
      "text/plain": [
       "<IPython.core.display.Markdown object>"
      ]
     },
     "metadata": {},
     "output_type": "display_data"
    },
    {
     "name": "stdout",
     "output_type": "stream",
     "text": [
      "\n",
      "\n",
      "Scratch: [196.766 169.035 555.905]\n",
      "Transfer: [428.705 208.619 345.173]\n",
      "Transfer & Revision: [767.504 400.023 856.833]\n"
     ]
    },
    {
     "data": {
      "text/markdown": [
       "## Inference time"
      ],
      "text/plain": [
       "<IPython.core.display.Markdown object>"
      ]
     },
     "metadata": {},
     "output_type": "display_data"
    },
    {
     "name": "stdout",
     "output_type": "stream",
     "text": [
      "\n",
      "\n",
      "Scratch: [4.067 3.439 5.905]\n",
      "Transfer: [428.705 208.619 345.173]\n",
      "Transfer & Revision: [4.431 4.593 5.06 ]\n"
     ]
    },
    {
     "data": {
      "text/markdown": [
       "# Results for 41_nell_finances_nell_sports"
      ],
      "text/plain": [
       "<IPython.core.display.Markdown object>"
      ]
     },
     "metadata": {},
     "output_type": "display_data"
    },
    {
     "data": {
      "text/markdown": [
       "## AUC ROC"
      ],
      "text/plain": [
       "<IPython.core.display.Markdown object>"
      ]
     },
     "metadata": {},
     "output_type": "display_data"
    },
    {
     "name": "stdout",
     "output_type": "stream",
     "text": [
      "T-test for experiment 1\n",
      "Ttest_relResult(statistic=-6.3963214257304895, pvalue=0.023581033596041027)\n",
      "Ttest_relResult(statistic=-16.23424834489215, pvalue=0.00377287483179196)\n"
     ]
    },
    {
     "data": {
      "text/html": [
       "<div>\n",
       "<table border=\"1\" class=\"dataframe\">\n",
       "  <thead>\n",
       "    <tr style=\"text-align: right;\">\n",
       "      <th></th>\n",
       "      <th>p-value</th>\n",
       "      <th>RDN-B</th>\n",
       "    </tr>\n",
       "  </thead>\n",
       "  <tbody>\n",
       "    <tr>\n",
       "      <th>0</th>\n",
       "      <td>transferRDN-B Ref</td>\n",
       "      <td>0.024</td>\n",
       "    </tr>\n",
       "    <tr>\n",
       "      <th>1</th>\n",
       "      <td>transferRDN-B</td>\n",
       "      <td>0.004</td>\n",
       "    </tr>\n",
       "  </tbody>\n",
       "</table>\n",
       "</div>"
      ],
      "text/plain": [
       "             p-value  RDN-B\n",
       "0  transferRDN-B Ref  0.024\n",
       "1      transferRDN-B  0.004"
      ]
     },
     "metadata": {},
     "output_type": "display_data"
    },
    {
     "name": "stdout",
     "output_type": "stream",
     "text": [
      "\n",
      "\n",
      "Scratch: [0.928622 0.923081 0.931672]\n",
      "Transfer: [0.742295 0.705089 0.70168 ]\n",
      "Transfer & Revision: [0.92034  0.916237 0.926951]\n"
     ]
    },
    {
     "data": {
      "text/markdown": [
       "## AUC PR"
      ],
      "text/plain": [
       "<IPython.core.display.Markdown object>"
      ]
     },
     "metadata": {},
     "output_type": "display_data"
    },
    {
     "name": "stdout",
     "output_type": "stream",
     "text": [
      "T-test for experiment 1\n",
      "Ttest_relResult(statistic=0.10286532037459595, pvalue=0.9274548861926939)\n",
      "Ttest_relResult(statistic=-14.151535391101817, pvalue=0.0049562680766915635)\n"
     ]
    },
    {
     "data": {
      "text/html": [
       "<div>\n",
       "<table border=\"1\" class=\"dataframe\">\n",
       "  <thead>\n",
       "    <tr style=\"text-align: right;\">\n",
       "      <th></th>\n",
       "      <th>p-value</th>\n",
       "      <th>RDN-B</th>\n",
       "    </tr>\n",
       "  </thead>\n",
       "  <tbody>\n",
       "    <tr>\n",
       "      <th>0</th>\n",
       "      <td>transferRDN-B Ref</td>\n",
       "      <td>0.927</td>\n",
       "    </tr>\n",
       "    <tr>\n",
       "      <th>1</th>\n",
       "      <td>transferRDN-B</td>\n",
       "      <td>0.005</td>\n",
       "    </tr>\n",
       "  </tbody>\n",
       "</table>\n",
       "</div>"
      ],
      "text/plain": [
       "             p-value  RDN-B\n",
       "0  transferRDN-B Ref  0.927\n",
       "1      transferRDN-B  0.005"
      ]
     },
     "metadata": {},
     "output_type": "display_data"
    },
    {
     "name": "stdout",
     "output_type": "stream",
     "text": [
      "\n",
      "\n",
      "Scratch: [0.92023  0.905663 0.915047]\n",
      "Transfer: [0.729317 0.683497 0.670755]\n",
      "Transfer & Revision: [0.911756 0.912254 0.918341]\n"
     ]
    },
    {
     "data": {
      "text/markdown": [
       "## CLL"
      ],
      "text/plain": [
       "<IPython.core.display.Markdown object>"
      ]
     },
     "metadata": {},
     "output_type": "display_data"
    },
    {
     "name": "stdout",
     "output_type": "stream",
     "text": [
      "T-test for experiment 1\n",
      "Ttest_relResult(statistic=-9.53780056107675, pvalue=0.010814678236299747)\n",
      "Ttest_relResult(statistic=-23.030418372427132, pvalue=0.001880053702018784)\n"
     ]
    },
    {
     "data": {
      "text/html": [
       "<div>\n",
       "<table border=\"1\" class=\"dataframe\">\n",
       "  <thead>\n",
       "    <tr style=\"text-align: right;\">\n",
       "      <th></th>\n",
       "      <th>p-value</th>\n",
       "      <th>RDN-B</th>\n",
       "    </tr>\n",
       "  </thead>\n",
       "  <tbody>\n",
       "    <tr>\n",
       "      <th>0</th>\n",
       "      <td>transferRDN-B Ref</td>\n",
       "      <td>0.011</td>\n",
       "    </tr>\n",
       "    <tr>\n",
       "      <th>1</th>\n",
       "      <td>transferRDN-B</td>\n",
       "      <td>0.002</td>\n",
       "    </tr>\n",
       "  </tbody>\n",
       "</table>\n",
       "</div>"
      ],
      "text/plain": [
       "             p-value  RDN-B\n",
       "0  transferRDN-B Ref  0.011\n",
       "1      transferRDN-B  0.002"
      ]
     },
     "metadata": {},
     "output_type": "display_data"
    },
    {
     "name": "stdout",
     "output_type": "stream",
     "text": [
      "\n",
      "\n",
      "Scratch: [-0.357271 -0.36377  -0.343399]\n",
      "Transfer: [-0.615759 -0.632351 -0.641689]\n",
      "Transfer & Revision: [-0.370414 -0.381984 -0.361916]\n"
     ]
    },
    {
     "data": {
      "text/markdown": [
       "## Recall"
      ],
      "text/plain": [
       "<IPython.core.display.Markdown object>"
      ]
     },
     "metadata": {},
     "output_type": "display_data"
    },
    {
     "name": "stdout",
     "output_type": "stream",
     "text": [
      "T-test for experiment 1\n",
      "Ttest_relResult(statistic=-6.724462183067656, pvalue=0.021407325308283102)\n",
      "Ttest_relResult(statistic=-6.490746679101274, pvalue=0.022923164076432825)\n"
     ]
    },
    {
     "data": {
      "text/html": [
       "<div>\n",
       "<table border=\"1\" class=\"dataframe\">\n",
       "  <thead>\n",
       "    <tr style=\"text-align: right;\">\n",
       "      <th></th>\n",
       "      <th>p-value</th>\n",
       "      <th>RDN-B</th>\n",
       "    </tr>\n",
       "  </thead>\n",
       "  <tbody>\n",
       "    <tr>\n",
       "      <th>0</th>\n",
       "      <td>transferRDN-B Ref</td>\n",
       "      <td>0.021</td>\n",
       "    </tr>\n",
       "    <tr>\n",
       "      <th>1</th>\n",
       "      <td>transferRDN-B</td>\n",
       "      <td>0.023</td>\n",
       "    </tr>\n",
       "  </tbody>\n",
       "</table>\n",
       "</div>"
      ],
      "text/plain": [
       "             p-value  RDN-B\n",
       "0  transferRDN-B Ref  0.021\n",
       "1      transferRDN-B  0.023"
      ]
     },
     "metadata": {},
     "output_type": "display_data"
    },
    {
     "name": "stdout",
     "output_type": "stream",
     "text": [
      "\n",
      "\n",
      "Scratch: [0.835073 0.838727 0.858038]\n",
      "Transfer: [0.665449 0.68476  0.609081]\n",
      "Transfer & Revision: [0.823591 0.825157 0.839248]\n"
     ]
    },
    {
     "data": {
      "text/markdown": [
       "## F1"
      ],
      "text/plain": [
       "<IPython.core.display.Markdown object>"
      ]
     },
     "metadata": {},
     "output_type": "display_data"
    },
    {
     "name": "stdout",
     "output_type": "stream",
     "text": [
      "T-test for experiment 1\n",
      "Ttest_relResult(statistic=-20.361654721086143, pvalue=0.002403289345006939)\n",
      "Ttest_relResult(statistic=-9.90478321514332, pvalue=0.010039938081451667)\n"
     ]
    },
    {
     "data": {
      "text/html": [
       "<div>\n",
       "<table border=\"1\" class=\"dataframe\">\n",
       "  <thead>\n",
       "    <tr style=\"text-align: right;\">\n",
       "      <th></th>\n",
       "      <th>p-value</th>\n",
       "      <th>RDN-B</th>\n",
       "    </tr>\n",
       "  </thead>\n",
       "  <tbody>\n",
       "    <tr>\n",
       "      <th>0</th>\n",
       "      <td>transferRDN-B Ref</td>\n",
       "      <td>0.002</td>\n",
       "    </tr>\n",
       "    <tr>\n",
       "      <th>1</th>\n",
       "      <td>transferRDN-B</td>\n",
       "      <td>0.010</td>\n",
       "    </tr>\n",
       "  </tbody>\n",
       "</table>\n",
       "</div>"
      ],
      "text/plain": [
       "             p-value  RDN-B\n",
       "0  transferRDN-B Ref  0.002\n",
       "1      transferRDN-B  0.010"
      ]
     },
     "metadata": {},
     "output_type": "display_data"
    },
    {
     "name": "stdout",
     "output_type": "stream",
     "text": [
      "\n",
      "\n",
      "Scratch: [0.864398 0.86097  0.875866]\n",
      "Transfer: [0.682731 0.676463 0.631152]\n",
      "Transfer & Revision: [0.857842 0.853211 0.868485]\n"
     ]
    },
    {
     "data": {
      "text/markdown": [
       "## Precision"
      ],
      "text/plain": [
       "<IPython.core.display.Markdown object>"
      ]
     },
     "metadata": {},
     "output_type": "display_data"
    },
    {
     "name": "stdout",
     "output_type": "stream",
     "text": [
      "\n",
      "\n",
      "Scratch: [0.895857 0.884425 0.89445 ]\n",
      "Transfer: [0.700935 0.668365 0.654882]\n",
      "Transfer & Revision: [0.895065 0.88324  0.899832]\n"
     ]
    },
    {
     "data": {
      "text/markdown": [
       "## Learning and Revision time"
      ],
      "text/plain": [
       "<IPython.core.display.Markdown object>"
      ]
     },
     "metadata": {},
     "output_type": "display_data"
    },
    {
     "name": "stdout",
     "output_type": "stream",
     "text": [
      "\n",
      "\n",
      "Scratch: [191.656 315.739 391.377]\n",
      "Transfer: [ 36.525 866.295 473.816]\n",
      "Transfer & Revision: [ 297.108 1179.087  979.946]\n"
     ]
    },
    {
     "data": {
      "text/markdown": [
       "## Inference time"
      ],
      "text/plain": [
       "<IPython.core.display.Markdown object>"
      ]
     },
     "metadata": {},
     "output_type": "display_data"
    },
    {
     "name": "stdout",
     "output_type": "stream",
     "text": [
      "\n",
      "\n",
      "Scratch: [4.277 3.9   6.882]\n",
      "Transfer: [ 36.525 866.295 473.816]\n",
      "Transfer & Revision: [3.373 4.019 5.186]\n"
     ]
    },
    {
     "data": {
      "text/markdown": [
       "# Results for 42_nell_finances_nell_sports"
      ],
      "text/plain": [
       "<IPython.core.display.Markdown object>"
      ]
     },
     "metadata": {},
     "output_type": "display_data"
    },
    {
     "data": {
      "text/markdown": [
       "## AUC ROC"
      ],
      "text/plain": [
       "<IPython.core.display.Markdown object>"
      ]
     },
     "metadata": {},
     "output_type": "display_data"
    },
    {
     "name": "stdout",
     "output_type": "stream",
     "text": [
      "T-test for experiment 1\n",
      "Ttest_relResult(statistic=-5.942390495440438, pvalue=0.027170133796754037)\n",
      "Ttest_relResult(statistic=-382.80357330054113, pvalue=6.824071811200605e-06)\n"
     ]
    },
    {
     "data": {
      "text/html": [
       "<div>\n",
       "<table border=\"1\" class=\"dataframe\">\n",
       "  <thead>\n",
       "    <tr style=\"text-align: right;\">\n",
       "      <th></th>\n",
       "      <th>p-value</th>\n",
       "      <th>RDN-B</th>\n",
       "    </tr>\n",
       "  </thead>\n",
       "  <tbody>\n",
       "    <tr>\n",
       "      <th>0</th>\n",
       "      <td>transferRDN-B Ref</td>\n",
       "      <td>0.027</td>\n",
       "    </tr>\n",
       "    <tr>\n",
       "      <th>1</th>\n",
       "      <td>transferRDN-B</td>\n",
       "      <td>0.000</td>\n",
       "    </tr>\n",
       "  </tbody>\n",
       "</table>\n",
       "</div>"
      ],
      "text/plain": [
       "             p-value  RDN-B\n",
       "0  transferRDN-B Ref  0.027\n",
       "1      transferRDN-B  0.000"
      ]
     },
     "metadata": {},
     "output_type": "display_data"
    },
    {
     "name": "stdout",
     "output_type": "stream",
     "text": [
      "\n",
      "\n",
      "Scratch: [0.976044 0.973256 0.97183 ]\n",
      "Transfer: [0.5 0.5 0.5]\n",
      "Transfer & Revision: [0.965702 0.959577 0.964278]\n"
     ]
    },
    {
     "data": {
      "text/markdown": [
       "## AUC PR"
      ],
      "text/plain": [
       "<IPython.core.display.Markdown object>"
      ]
     },
     "metadata": {},
     "output_type": "display_data"
    },
    {
     "name": "stdout",
     "output_type": "stream",
     "text": [
      "T-test for experiment 1\n",
      "Ttest_relResult(statistic=-2.026770693385159, pvalue=0.17990864871454784)\n",
      "Ttest_relResult(statistic=-178.39302352316747, pvalue=3.142127458513285e-05)\n"
     ]
    },
    {
     "data": {
      "text/html": [
       "<div>\n",
       "<table border=\"1\" class=\"dataframe\">\n",
       "  <thead>\n",
       "    <tr style=\"text-align: right;\">\n",
       "      <th></th>\n",
       "      <th>p-value</th>\n",
       "      <th>RDN-B</th>\n",
       "    </tr>\n",
       "  </thead>\n",
       "  <tbody>\n",
       "    <tr>\n",
       "      <th>0</th>\n",
       "      <td>transferRDN-B Ref</td>\n",
       "      <td>0.180</td>\n",
       "    </tr>\n",
       "    <tr>\n",
       "      <th>1</th>\n",
       "      <td>transferRDN-B</td>\n",
       "      <td>0.000</td>\n",
       "    </tr>\n",
       "  </tbody>\n",
       "</table>\n",
       "</div>"
      ],
      "text/plain": [
       "             p-value  RDN-B\n",
       "0  transferRDN-B Ref  0.180\n",
       "1      transferRDN-B  0.000"
      ]
     },
     "metadata": {},
     "output_type": "display_data"
    },
    {
     "name": "stdout",
     "output_type": "stream",
     "text": [
      "\n",
      "\n",
      "Scratch: [0.979752 0.974599 0.970551]\n",
      "Transfer: [0.5 0.5 0.5]\n",
      "Transfer & Revision: [0.971353 0.957113 0.968765]\n"
     ]
    },
    {
     "data": {
      "text/markdown": [
       "## CLL"
      ],
      "text/plain": [
       "<IPython.core.display.Markdown object>"
      ]
     },
     "metadata": {},
     "output_type": "display_data"
    },
    {
     "name": "stdout",
     "output_type": "stream",
     "text": [
      "T-test for experiment 1\n",
      "Ttest_relResult(statistic=-31.67063820325364, pvalue=0.000995491344833704)\n",
      "Ttest_relResult(statistic=-345.30724264168595, pvalue=8.38654654292142e-06)\n"
     ]
    },
    {
     "data": {
      "text/html": [
       "<div>\n",
       "<table border=\"1\" class=\"dataframe\">\n",
       "  <thead>\n",
       "    <tr style=\"text-align: right;\">\n",
       "      <th></th>\n",
       "      <th>p-value</th>\n",
       "      <th>RDN-B</th>\n",
       "    </tr>\n",
       "  </thead>\n",
       "  <tbody>\n",
       "    <tr>\n",
       "      <th>0</th>\n",
       "      <td>transferRDN-B Ref</td>\n",
       "      <td>0.001</td>\n",
       "    </tr>\n",
       "    <tr>\n",
       "      <th>1</th>\n",
       "      <td>transferRDN-B</td>\n",
       "      <td>0.000</td>\n",
       "    </tr>\n",
       "  </tbody>\n",
       "</table>\n",
       "</div>"
      ],
      "text/plain": [
       "             p-value  RDN-B\n",
       "0  transferRDN-B Ref  0.001\n",
       "1      transferRDN-B  0.000"
      ]
     },
     "metadata": {},
     "output_type": "display_data"
    },
    {
     "name": "stdout",
     "output_type": "stream",
     "text": [
      "\n",
      "\n",
      "Scratch: [-0.241251 -0.237784 -0.236928]\n",
      "Transfer: [-0.695026 -0.695026 -0.695026]\n",
      "Transfer & Revision: [-0.298386 -0.300798 -0.294633]\n"
     ]
    },
    {
     "data": {
      "text/markdown": [
       "## Recall"
      ],
      "text/plain": [
       "<IPython.core.display.Markdown object>"
      ]
     },
     "metadata": {},
     "output_type": "display_data"
    },
    {
     "name": "stdout",
     "output_type": "stream",
     "text": [
      "T-test for experiment 1\n",
      "Ttest_relResult(statistic=-0.8652728981354543, pvalue=0.4780971698056373)\n",
      "Ttest_relResult(statistic=-40.318138814212624, pvalue=0.0006146084448206375)\n"
     ]
    },
    {
     "data": {
      "text/html": [
       "<div>\n",
       "<table border=\"1\" class=\"dataframe\">\n",
       "  <thead>\n",
       "    <tr style=\"text-align: right;\">\n",
       "      <th></th>\n",
       "      <th>p-value</th>\n",
       "      <th>RDN-B</th>\n",
       "    </tr>\n",
       "  </thead>\n",
       "  <tbody>\n",
       "    <tr>\n",
       "      <th>0</th>\n",
       "      <td>transferRDN-B Ref</td>\n",
       "      <td>0.478</td>\n",
       "    </tr>\n",
       "    <tr>\n",
       "      <th>1</th>\n",
       "      <td>transferRDN-B</td>\n",
       "      <td>0.001</td>\n",
       "    </tr>\n",
       "  </tbody>\n",
       "</table>\n",
       "</div>"
      ],
      "text/plain": [
       "             p-value  RDN-B\n",
       "0  transferRDN-B Ref  0.478\n",
       "1      transferRDN-B  0.001"
      ]
     },
     "metadata": {},
     "output_type": "display_data"
    },
    {
     "name": "stdout",
     "output_type": "stream",
     "text": [
      "\n",
      "\n",
      "Scratch: [0.862009 0.858515 0.925829]\n",
      "Transfer: [0. 0. 0.]\n",
      "Transfer & Revision: [0.863755 0.862009 0.869983]\n"
     ]
    },
    {
     "data": {
      "text/markdown": [
       "## F1"
      ],
      "text/plain": [
       "<IPython.core.display.Markdown object>"
      ]
     },
     "metadata": {},
     "output_type": "display_data"
    },
    {
     "name": "stdout",
     "output_type": "stream",
     "text": [
      "T-test for experiment 1\n",
      "Ttest_relResult(statistic=-2.3299481483757267, pvalue=0.14514774266813912)\n",
      "Ttest_relResult(statistic=nan, pvalue=nan)\n"
     ]
    },
    {
     "data": {
      "text/html": [
       "<div>\n",
       "<table border=\"1\" class=\"dataframe\">\n",
       "  <thead>\n",
       "    <tr style=\"text-align: right;\">\n",
       "      <th></th>\n",
       "      <th>p-value</th>\n",
       "      <th>RDN-B</th>\n",
       "    </tr>\n",
       "  </thead>\n",
       "  <tbody>\n",
       "    <tr>\n",
       "      <th>0</th>\n",
       "      <td>transferRDN-B Ref</td>\n",
       "      <td>0.145</td>\n",
       "    </tr>\n",
       "    <tr>\n",
       "      <th>1</th>\n",
       "      <td>transferRDN-B</td>\n",
       "      <td>nan</td>\n",
       "    </tr>\n",
       "  </tbody>\n",
       "</table>\n",
       "</div>"
      ],
      "text/plain": [
       "             p-value  RDN-B\n",
       "0  transferRDN-B Ref  0.145\n",
       "1      transferRDN-B    nan"
      ]
     },
     "metadata": {},
     "output_type": "display_data"
    },
    {
     "name": "stdout",
     "output_type": "stream",
     "text": [
      "\n",
      "\n",
      "Scratch: [0.91814  0.913993 0.934802]\n",
      "Transfer: [nan nan nan]\n",
      "Transfer & Revision: [0.911941 0.905089 0.910502]\n"
     ]
    },
    {
     "data": {
      "text/markdown": [
       "## Precision"
      ],
      "text/plain": [
       "<IPython.core.display.Markdown object>"
      ]
     },
     "metadata": {},
     "output_type": "display_data"
    },
    {
     "name": "stdout",
     "output_type": "stream",
     "text": [
      "\n",
      "\n",
      "Scratch: [0.98209  0.977137 0.94395 ]\n",
      "Transfer: [nan nan nan]\n",
      "Transfer & Revision: [0.96582  0.952703 0.954981]\n"
     ]
    },
    {
     "data": {
      "text/markdown": [
       "## Learning and Revision time"
      ],
      "text/plain": [
       "<IPython.core.display.Markdown object>"
      ]
     },
     "metadata": {},
     "output_type": "display_data"
    },
    {
     "name": "stdout",
     "output_type": "stream",
     "text": [
      "\n",
      "\n",
      "Scratch: [360.193 316.088 310.408]\n",
      "Transfer: [175.545 620.519 333.04 ]\n",
      "Transfer & Revision: [10256.691  7136.622  6637.839]\n"
     ]
    },
    {
     "data": {
      "text/markdown": [
       "## Inference time"
      ],
      "text/plain": [
       "<IPython.core.display.Markdown object>"
      ]
     },
     "metadata": {},
     "output_type": "display_data"
    },
    {
     "name": "stdout",
     "output_type": "stream",
     "text": [
      "\n",
      "\n",
      "Scratch: [5.137 5.166 5.053]\n",
      "Transfer: [175.545 620.519 333.04 ]\n",
      "Transfer & Revision: [1232.081  933.019 1321.716]\n"
     ]
    },
    {
     "data": {
      "text/markdown": [
       "# Results for 43_nell_finances_nell_sports"
      ],
      "text/plain": [
       "<IPython.core.display.Markdown object>"
      ]
     },
     "metadata": {},
     "output_type": "display_data"
    },
    {
     "data": {
      "text/markdown": [
       "## AUC ROC"
      ],
      "text/plain": [
       "<IPython.core.display.Markdown object>"
      ]
     },
     "metadata": {},
     "output_type": "display_data"
    },
    {
     "name": "stdout",
     "output_type": "stream",
     "text": [
      "T-test for experiment 1\n",
      "Ttest_relResult(statistic=0.024254244233680233, pvalue=0.9828521811242308)\n",
      "Ttest_relResult(statistic=-3.794492393565267, pvalue=0.06296468061409256)\n"
     ]
    },
    {
     "data": {
      "text/html": [
       "<div>\n",
       "<table border=\"1\" class=\"dataframe\">\n",
       "  <thead>\n",
       "    <tr style=\"text-align: right;\">\n",
       "      <th></th>\n",
       "      <th>p-value</th>\n",
       "      <th>RDN-B</th>\n",
       "    </tr>\n",
       "  </thead>\n",
       "  <tbody>\n",
       "    <tr>\n",
       "      <th>0</th>\n",
       "      <td>transferRDN-B Ref</td>\n",
       "      <td>0.983</td>\n",
       "    </tr>\n",
       "    <tr>\n",
       "      <th>1</th>\n",
       "      <td>transferRDN-B</td>\n",
       "      <td>0.063</td>\n",
       "    </tr>\n",
       "  </tbody>\n",
       "</table>\n",
       "</div>"
      ],
      "text/plain": [
       "             p-value  RDN-B\n",
       "0  transferRDN-B Ref  0.983\n",
       "1      transferRDN-B  0.063"
      ]
     },
     "metadata": {},
     "output_type": "display_data"
    },
    {
     "name": "stdout",
     "output_type": "stream",
     "text": [
      "\n",
      "\n",
      "Scratch: [0.975269 0.972722 0.974518]\n",
      "Transfer: [0.973446 0.971728 0.971857]\n",
      "Transfer & Revision: [0.975322 0.974664 0.972604]\n"
     ]
    },
    {
     "data": {
      "text/markdown": [
       "## AUC PR"
      ],
      "text/plain": [
       "<IPython.core.display.Markdown object>"
      ]
     },
     "metadata": {},
     "output_type": "display_data"
    },
    {
     "name": "stdout",
     "output_type": "stream",
     "text": [
      "T-test for experiment 1\n",
      "Ttest_relResult(statistic=0.2905312465155422, pvalue=0.7987659630953626)\n",
      "Ttest_relResult(statistic=0.372500034921882, pvalue=0.745290191503091)\n"
     ]
    },
    {
     "data": {
      "text/html": [
       "<div>\n",
       "<table border=\"1\" class=\"dataframe\">\n",
       "  <thead>\n",
       "    <tr style=\"text-align: right;\">\n",
       "      <th></th>\n",
       "      <th>p-value</th>\n",
       "      <th>RDN-B</th>\n",
       "    </tr>\n",
       "  </thead>\n",
       "  <tbody>\n",
       "    <tr>\n",
       "      <th>0</th>\n",
       "      <td>transferRDN-B Ref</td>\n",
       "      <td>0.799</td>\n",
       "    </tr>\n",
       "    <tr>\n",
       "      <th>1</th>\n",
       "      <td>transferRDN-B</td>\n",
       "      <td>0.745</td>\n",
       "    </tr>\n",
       "  </tbody>\n",
       "</table>\n",
       "</div>"
      ],
      "text/plain": [
       "             p-value  RDN-B\n",
       "0  transferRDN-B Ref  0.799\n",
       "1      transferRDN-B  0.745"
      ]
     },
     "metadata": {},
     "output_type": "display_data"
    },
    {
     "name": "stdout",
     "output_type": "stream",
     "text": [
      "\n",
      "\n",
      "Scratch: [0.97842  0.973688 0.978459]\n",
      "Transfer: [0.978772 0.976563 0.976722]\n",
      "Transfer & Revision: [0.979684 0.976616 0.97573 ]\n"
     ]
    },
    {
     "data": {
      "text/markdown": [
       "## CLL"
      ],
      "text/plain": [
       "<IPython.core.display.Markdown object>"
      ]
     },
     "metadata": {},
     "output_type": "display_data"
    },
    {
     "name": "stdout",
     "output_type": "stream",
     "text": [
      "T-test for experiment 1\n",
      "Ttest_relResult(statistic=-1.505573320507851, pvalue=0.27112465570096217)\n",
      "Ttest_relResult(statistic=-389.6021849596898, pvalue=6.587990142349177e-06)\n"
     ]
    },
    {
     "data": {
      "text/html": [
       "<div>\n",
       "<table border=\"1\" class=\"dataframe\">\n",
       "  <thead>\n",
       "    <tr style=\"text-align: right;\">\n",
       "      <th></th>\n",
       "      <th>p-value</th>\n",
       "      <th>RDN-B</th>\n",
       "    </tr>\n",
       "  </thead>\n",
       "  <tbody>\n",
       "    <tr>\n",
       "      <th>0</th>\n",
       "      <td>transferRDN-B Ref</td>\n",
       "      <td>0.271</td>\n",
       "    </tr>\n",
       "    <tr>\n",
       "      <th>1</th>\n",
       "      <td>transferRDN-B</td>\n",
       "      <td>0.000</td>\n",
       "    </tr>\n",
       "  </tbody>\n",
       "</table>\n",
       "</div>"
      ],
      "text/plain": [
       "             p-value  RDN-B\n",
       "0  transferRDN-B Ref  0.271\n",
       "1      transferRDN-B  0.000"
      ]
     },
     "metadata": {},
     "output_type": "display_data"
    },
    {
     "name": "stdout",
     "output_type": "stream",
     "text": [
      "\n",
      "\n",
      "Scratch: [-0.23647  -0.237536 -0.23577 ]\n",
      "Transfer: [-0.42589  -0.42542  -0.423842]\n",
      "Transfer & Revision: [-0.24166  -0.23687  -0.239027]\n"
     ]
    },
    {
     "data": {
      "text/markdown": [
       "## Recall"
      ],
      "text/plain": [
       "<IPython.core.display.Markdown object>"
      ]
     },
     "metadata": {},
     "output_type": "display_data"
    },
    {
     "name": "stdout",
     "output_type": "stream",
     "text": [
      "T-test for experiment 1\n",
      "Ttest_relResult(statistic=1.0183397087636499, pvalue=0.4156552374488056)\n",
      "Ttest_relResult(statistic=-1.4052939397379054, pvalue=0.2951337060015724)\n"
     ]
    },
    {
     "data": {
      "text/html": [
       "<div>\n",
       "<table border=\"1\" class=\"dataframe\">\n",
       "  <thead>\n",
       "    <tr style=\"text-align: right;\">\n",
       "      <th></th>\n",
       "      <th>p-value</th>\n",
       "      <th>RDN-B</th>\n",
       "    </tr>\n",
       "  </thead>\n",
       "  <tbody>\n",
       "    <tr>\n",
       "      <th>0</th>\n",
       "      <td>transferRDN-B Ref</td>\n",
       "      <td>0.416</td>\n",
       "    </tr>\n",
       "    <tr>\n",
       "      <th>1</th>\n",
       "      <td>transferRDN-B</td>\n",
       "      <td>0.295</td>\n",
       "    </tr>\n",
       "  </tbody>\n",
       "</table>\n",
       "</div>"
      ],
      "text/plain": [
       "             p-value  RDN-B\n",
       "0  transferRDN-B Ref  0.416\n",
       "1      transferRDN-B  0.295"
      ]
     },
     "metadata": {},
     "output_type": "display_data"
    },
    {
     "name": "stdout",
     "output_type": "stream",
     "text": [
      "\n",
      "\n",
      "Scratch: [0.862009 0.858515 0.925829]\n",
      "Transfer: [0.852402 0.845415 0.928447]\n",
      "Transfer & Revision: [0.862882 0.930131 0.925829]\n"
     ]
    },
    {
     "data": {
      "text/markdown": [
       "## F1"
      ],
      "text/plain": [
       "<IPython.core.display.Markdown object>"
      ]
     },
     "metadata": {},
     "output_type": "display_data"
    },
    {
     "name": "stdout",
     "output_type": "stream",
     "text": [
      "T-test for experiment 1\n",
      "Ttest_relResult(statistic=0.857047489338686, pvalue=0.4817211228639888)\n",
      "Ttest_relResult(statistic=-2.3521627000453034, pvalue=0.14297615374226458)\n"
     ]
    },
    {
     "data": {
      "text/html": [
       "<div>\n",
       "<table border=\"1\" class=\"dataframe\">\n",
       "  <thead>\n",
       "    <tr style=\"text-align: right;\">\n",
       "      <th></th>\n",
       "      <th>p-value</th>\n",
       "      <th>RDN-B</th>\n",
       "    </tr>\n",
       "  </thead>\n",
       "  <tbody>\n",
       "    <tr>\n",
       "      <th>0</th>\n",
       "      <td>transferRDN-B Ref</td>\n",
       "      <td>0.482</td>\n",
       "    </tr>\n",
       "    <tr>\n",
       "      <th>1</th>\n",
       "      <td>transferRDN-B</td>\n",
       "      <td>0.143</td>\n",
       "    </tr>\n",
       "  </tbody>\n",
       "</table>\n",
       "</div>"
      ],
      "text/plain": [
       "             p-value  RDN-B\n",
       "0  transferRDN-B Ref  0.482\n",
       "1      transferRDN-B  0.143"
      ]
     },
     "metadata": {},
     "output_type": "display_data"
    },
    {
     "name": "stdout",
     "output_type": "stream",
     "text": [
      "\n",
      "\n",
      "Scratch: [0.919851 0.913993 0.934802]\n",
      "Transfer: [0.916432 0.910202 0.92321 ]\n",
      "Transfer & Revision: [0.917789 0.935031 0.934802]\n"
     ]
    },
    {
     "data": {
      "text/markdown": [
       "## Precision"
      ],
      "text/plain": [
       "<IPython.core.display.Markdown object>"
      ]
     },
     "metadata": {},
     "output_type": "display_data"
    },
    {
     "name": "stdout",
     "output_type": "stream",
     "text": [
      "\n",
      "\n",
      "Scratch: [0.986014 0.977137 0.94395 ]\n",
      "Transfer: [0.990863 0.985743 0.918033]\n",
      "Transfer & Revision: [0.980159 0.939982 0.94395 ]\n"
     ]
    },
    {
     "data": {
      "text/markdown": [
       "## Learning and Revision time"
      ],
      "text/plain": [
       "<IPython.core.display.Markdown object>"
      ]
     },
     "metadata": {},
     "output_type": "display_data"
    },
    {
     "name": "stdout",
     "output_type": "stream",
     "text": [
      "\n",
      "\n",
      "Scratch: [332.494 317.168 311.296]\n",
      "Transfer: [185.371 190.5   200.752]\n",
      "Transfer & Revision: [652.499 504.52  482.771]\n"
     ]
    },
    {
     "data": {
      "text/markdown": [
       "## Inference time"
      ],
      "text/plain": [
       "<IPython.core.display.Markdown object>"
      ]
     },
     "metadata": {},
     "output_type": "display_data"
    },
    {
     "name": "stdout",
     "output_type": "stream",
     "text": [
      "\n",
      "\n",
      "Scratch: [5.392 4.939 5.163]\n",
      "Transfer: [185.371 190.5   200.752]\n",
      "Transfer & Revision: [6.949 5.257 9.176]\n"
     ]
    },
    {
     "data": {
      "text/markdown": [
       "# Results for 44_nell_finances_nell_sports"
      ],
      "text/plain": [
       "<IPython.core.display.Markdown object>"
      ]
     },
     "metadata": {},
     "output_type": "display_data"
    },
    {
     "data": {
      "text/markdown": [
       "## AUC ROC"
      ],
      "text/plain": [
       "<IPython.core.display.Markdown object>"
      ]
     },
     "metadata": {},
     "output_type": "display_data"
    },
    {
     "name": "stdout",
     "output_type": "stream",
     "text": [
      "T-test for experiment 1\n",
      "Ttest_relResult(statistic=-1.679853662456306, pvalue=0.23499904758802384)\n",
      "Ttest_relResult(statistic=-34.06760115727467, pvalue=0.0008605102303196274)\n"
     ]
    },
    {
     "data": {
      "text/html": [
       "<div>\n",
       "<table border=\"1\" class=\"dataframe\">\n",
       "  <thead>\n",
       "    <tr style=\"text-align: right;\">\n",
       "      <th></th>\n",
       "      <th>p-value</th>\n",
       "      <th>RDN-B</th>\n",
       "    </tr>\n",
       "  </thead>\n",
       "  <tbody>\n",
       "    <tr>\n",
       "      <th>0</th>\n",
       "      <td>transferRDN-B Ref</td>\n",
       "      <td>0.235</td>\n",
       "    </tr>\n",
       "    <tr>\n",
       "      <th>1</th>\n",
       "      <td>transferRDN-B</td>\n",
       "      <td>0.001</td>\n",
       "    </tr>\n",
       "  </tbody>\n",
       "</table>\n",
       "</div>"
      ],
      "text/plain": [
       "             p-value  RDN-B\n",
       "0  transferRDN-B Ref  0.235\n",
       "1      transferRDN-B  0.001"
      ]
     },
     "metadata": {},
     "output_type": "display_data"
    },
    {
     "name": "stdout",
     "output_type": "stream",
     "text": [
      "\n",
      "\n",
      "Scratch: [0.844373 0.842373 0.847057]\n",
      "Transfer: [0.741734 0.732676 0.747697]\n",
      "Transfer & Revision: [0.840742 0.830363 0.846016]\n"
     ]
    },
    {
     "data": {
      "text/markdown": [
       "## AUC PR"
      ],
      "text/plain": [
       "<IPython.core.display.Markdown object>"
      ]
     },
     "metadata": {},
     "output_type": "display_data"
    },
    {
     "name": "stdout",
     "output_type": "stream",
     "text": [
      "T-test for experiment 1\n",
      "Ttest_relResult(statistic=-2.058432481060155, pvalue=0.17577889470709246)\n",
      "Ttest_relResult(statistic=-35.14200718156601, pvalue=0.0008087601885476715)\n"
     ]
    },
    {
     "data": {
      "text/html": [
       "<div>\n",
       "<table border=\"1\" class=\"dataframe\">\n",
       "  <thead>\n",
       "    <tr style=\"text-align: right;\">\n",
       "      <th></th>\n",
       "      <th>p-value</th>\n",
       "      <th>RDN-B</th>\n",
       "    </tr>\n",
       "  </thead>\n",
       "  <tbody>\n",
       "    <tr>\n",
       "      <th>0</th>\n",
       "      <td>transferRDN-B Ref</td>\n",
       "      <td>0.176</td>\n",
       "    </tr>\n",
       "    <tr>\n",
       "      <th>1</th>\n",
       "      <td>transferRDN-B</td>\n",
       "      <td>0.001</td>\n",
       "    </tr>\n",
       "  </tbody>\n",
       "</table>\n",
       "</div>"
      ],
      "text/plain": [
       "             p-value  RDN-B\n",
       "0  transferRDN-B Ref  0.176\n",
       "1      transferRDN-B  0.001"
      ]
     },
     "metadata": {},
     "output_type": "display_data"
    },
    {
     "name": "stdout",
     "output_type": "stream",
     "text": [
      "\n",
      "\n",
      "Scratch: [0.853229 0.847918 0.857688]\n",
      "Transfer: [0.771346 0.757553 0.77173 ]\n",
      "Transfer & Revision: [0.852903 0.841363 0.853292]\n"
     ]
    },
    {
     "data": {
      "text/markdown": [
       "## CLL"
      ],
      "text/plain": [
       "<IPython.core.display.Markdown object>"
      ]
     },
     "metadata": {},
     "output_type": "display_data"
    },
    {
     "name": "stdout",
     "output_type": "stream",
     "text": [
      "T-test for experiment 1\n",
      "Ttest_relResult(statistic=-2.0391311551396445, pvalue=0.1782809643574816)\n",
      "Ttest_relResult(statistic=-26.28771634276495, pvalue=0.001443952265213585)\n"
     ]
    },
    {
     "data": {
      "text/html": [
       "<div>\n",
       "<table border=\"1\" class=\"dataframe\">\n",
       "  <thead>\n",
       "    <tr style=\"text-align: right;\">\n",
       "      <th></th>\n",
       "      <th>p-value</th>\n",
       "      <th>RDN-B</th>\n",
       "    </tr>\n",
       "  </thead>\n",
       "  <tbody>\n",
       "    <tr>\n",
       "      <th>0</th>\n",
       "      <td>transferRDN-B Ref</td>\n",
       "      <td>0.178</td>\n",
       "    </tr>\n",
       "    <tr>\n",
       "      <th>1</th>\n",
       "      <td>transferRDN-B</td>\n",
       "      <td>0.001</td>\n",
       "    </tr>\n",
       "  </tbody>\n",
       "</table>\n",
       "</div>"
      ],
      "text/plain": [
       "             p-value  RDN-B\n",
       "0  transferRDN-B Ref  0.178\n",
       "1      transferRDN-B  0.001"
      ]
     },
     "metadata": {},
     "output_type": "display_data"
    },
    {
     "name": "stdout",
     "output_type": "stream",
     "text": [
      "\n",
      "\n",
      "Scratch: [-0.501789 -0.499435 -0.496544]\n",
      "Transfer: [-0.586724 -0.595916 -0.590356]\n",
      "Transfer & Revision: [-0.506832 -0.515597 -0.499906]\n"
     ]
    },
    {
     "data": {
      "text/markdown": [
       "## Recall"
      ],
      "text/plain": [
       "<IPython.core.display.Markdown object>"
      ]
     },
     "metadata": {},
     "output_type": "display_data"
    },
    {
     "name": "stdout",
     "output_type": "stream",
     "text": [
      "T-test for experiment 1\n",
      "Ttest_relResult(statistic=-2.016044024366981, pvalue=0.18133750972069365)\n",
      "Ttest_relResult(statistic=-0.4949639533682606, pvalue=0.6696559928004193)\n"
     ]
    },
    {
     "data": {
      "text/html": [
       "<div>\n",
       "<table border=\"1\" class=\"dataframe\">\n",
       "  <thead>\n",
       "    <tr style=\"text-align: right;\">\n",
       "      <th></th>\n",
       "      <th>p-value</th>\n",
       "      <th>RDN-B</th>\n",
       "    </tr>\n",
       "  </thead>\n",
       "  <tbody>\n",
       "    <tr>\n",
       "      <th>0</th>\n",
       "      <td>transferRDN-B Ref</td>\n",
       "      <td>0.181</td>\n",
       "    </tr>\n",
       "    <tr>\n",
       "      <th>1</th>\n",
       "      <td>transferRDN-B</td>\n",
       "      <td>0.670</td>\n",
       "    </tr>\n",
       "  </tbody>\n",
       "</table>\n",
       "</div>"
      ],
      "text/plain": [
       "             p-value  RDN-B\n",
       "0  transferRDN-B Ref  0.181\n",
       "1      transferRDN-B  0.670"
      ]
     },
     "metadata": {},
     "output_type": "display_data"
    },
    {
     "name": "stdout",
     "output_type": "stream",
     "text": [
      "\n",
      "\n",
      "Scratch: [0.697531 0.561728 0.625514]\n",
      "Transfer: [0.390947 0.66358  0.645062]\n",
      "Transfer & Revision: [0.676955 0.544239 0.550412]\n"
     ]
    },
    {
     "data": {
      "text/markdown": [
       "## F1"
      ],
      "text/plain": [
       "<IPython.core.display.Markdown object>"
      ]
     },
     "metadata": {},
     "output_type": "display_data"
    },
    {
     "name": "stdout",
     "output_type": "stream",
     "text": [
      "T-test for experiment 1\n",
      "Ttest_relResult(statistic=-1.7651096044433994, pvalue=0.2195898971924738)\n",
      "Ttest_relResult(statistic=-1.6461641774697862, pvalue=0.2414760305485291)\n"
     ]
    },
    {
     "data": {
      "text/html": [
       "<div>\n",
       "<table border=\"1\" class=\"dataframe\">\n",
       "  <thead>\n",
       "    <tr style=\"text-align: right;\">\n",
       "      <th></th>\n",
       "      <th>p-value</th>\n",
       "      <th>RDN-B</th>\n",
       "    </tr>\n",
       "  </thead>\n",
       "  <tbody>\n",
       "    <tr>\n",
       "      <th>0</th>\n",
       "      <td>transferRDN-B Ref</td>\n",
       "      <td>0.220</td>\n",
       "    </tr>\n",
       "    <tr>\n",
       "      <th>1</th>\n",
       "      <td>transferRDN-B</td>\n",
       "      <td>0.241</td>\n",
       "    </tr>\n",
       "  </tbody>\n",
       "</table>\n",
       "</div>"
      ],
      "text/plain": [
       "             p-value  RDN-B\n",
       "0  transferRDN-B Ref  0.220\n",
       "1      transferRDN-B  0.241"
      ]
     },
     "metadata": {},
     "output_type": "display_data"
    },
    {
     "name": "stdout",
     "output_type": "stream",
     "text": [
      "\n",
      "\n",
      "Scratch: [0.73816  0.670762 0.712778]\n",
      "Transfer: [0.525588 0.650858 0.654489]\n",
      "Transfer & Revision: [0.730705 0.65878  0.665423]\n"
     ]
    },
    {
     "data": {
      "text/markdown": [
       "## Precision"
      ],
      "text/plain": [
       "<IPython.core.display.Markdown object>"
      ]
     },
     "metadata": {},
     "output_type": "display_data"
    },
    {
     "name": "stdout",
     "output_type": "stream",
     "text": [
      "\n",
      "\n",
      "Scratch: [0.783815 0.832317 0.828338]\n",
      "Transfer: [0.801688 0.638614 0.664195]\n",
      "Transfer & Revision: [0.793727 0.834385 0.841195]\n"
     ]
    },
    {
     "data": {
      "text/markdown": [
       "## Learning and Revision time"
      ],
      "text/plain": [
       "<IPython.core.display.Markdown object>"
      ]
     },
     "metadata": {},
     "output_type": "display_data"
    },
    {
     "name": "stdout",
     "output_type": "stream",
     "text": [
      "\n",
      "\n",
      "Scratch: [ 78.034 102.068 106.253]\n",
      "Transfer: [33.04  53.173 22.311]\n",
      "Transfer & Revision: [ 99.255 179.09  187.562]\n"
     ]
    },
    {
     "data": {
      "text/markdown": [
       "## Inference time"
      ],
      "text/plain": [
       "<IPython.core.display.Markdown object>"
      ]
     },
     "metadata": {},
     "output_type": "display_data"
    },
    {
     "name": "stdout",
     "output_type": "stream",
     "text": [
      "\n",
      "\n",
      "Scratch: [1.856 2.    2.209]\n",
      "Transfer: [33.04  53.173 22.311]\n",
      "Transfer & Revision: [1.654 4.643 1.935]\n"
     ]
    },
    {
     "data": {
      "text/markdown": [
       "# Results for 45_nell_finances_nell_sports"
      ],
      "text/plain": [
       "<IPython.core.display.Markdown object>"
      ]
     },
     "metadata": {},
     "output_type": "display_data"
    },
    {
     "data": {
      "text/markdown": [
       "## AUC ROC"
      ],
      "text/plain": [
       "<IPython.core.display.Markdown object>"
      ]
     },
     "metadata": {},
     "output_type": "display_data"
    },
    {
     "name": "stdout",
     "output_type": "stream",
     "text": [
      "T-test for experiment 1\n",
      "Ttest_relResult(statistic=0.49182760093831024, pvalue=0.6715227302181341)\n",
      "Ttest_relResult(statistic=-16.525365335872692, pvalue=0.0036418358275688077)\n"
     ]
    },
    {
     "data": {
      "text/html": [
       "<div>\n",
       "<table border=\"1\" class=\"dataframe\">\n",
       "  <thead>\n",
       "    <tr style=\"text-align: right;\">\n",
       "      <th></th>\n",
       "      <th>p-value</th>\n",
       "      <th>RDN-B</th>\n",
       "    </tr>\n",
       "  </thead>\n",
       "  <tbody>\n",
       "    <tr>\n",
       "      <th>0</th>\n",
       "      <td>transferRDN-B Ref</td>\n",
       "      <td>0.672</td>\n",
       "    </tr>\n",
       "    <tr>\n",
       "      <th>1</th>\n",
       "      <td>transferRDN-B</td>\n",
       "      <td>0.004</td>\n",
       "    </tr>\n",
       "  </tbody>\n",
       "</table>\n",
       "</div>"
      ],
      "text/plain": [
       "             p-value  RDN-B\n",
       "0  transferRDN-B Ref  0.672\n",
       "1      transferRDN-B  0.004"
      ]
     },
     "metadata": {},
     "output_type": "display_data"
    },
    {
     "name": "stdout",
     "output_type": "stream",
     "text": [
      "\n",
      "\n",
      "Scratch: [0.839237 0.839679 0.844307]\n",
      "Transfer: [0.720968 0.711946 0.740803]\n",
      "Transfer & Revision: [0.838636 0.84604  0.842349]\n"
     ]
    },
    {
     "data": {
      "text/markdown": [
       "## AUC PR"
      ],
      "text/plain": [
       "<IPython.core.display.Markdown object>"
      ]
     },
     "metadata": {},
     "output_type": "display_data"
    },
    {
     "name": "stdout",
     "output_type": "stream",
     "text": [
      "T-test for experiment 1\n",
      "Ttest_relResult(statistic=0.7601033592259939, pvalue=0.5265744911865186)\n",
      "Ttest_relResult(statistic=-17.001700456816977, pvalue=0.0034416660057444747)\n"
     ]
    },
    {
     "data": {
      "text/html": [
       "<div>\n",
       "<table border=\"1\" class=\"dataframe\">\n",
       "  <thead>\n",
       "    <tr style=\"text-align: right;\">\n",
       "      <th></th>\n",
       "      <th>p-value</th>\n",
       "      <th>RDN-B</th>\n",
       "    </tr>\n",
       "  </thead>\n",
       "  <tbody>\n",
       "    <tr>\n",
       "      <th>0</th>\n",
       "      <td>transferRDN-B Ref</td>\n",
       "      <td>0.527</td>\n",
       "    </tr>\n",
       "    <tr>\n",
       "      <th>1</th>\n",
       "      <td>transferRDN-B</td>\n",
       "      <td>0.003</td>\n",
       "    </tr>\n",
       "  </tbody>\n",
       "</table>\n",
       "</div>"
      ],
      "text/plain": [
       "             p-value  RDN-B\n",
       "0  transferRDN-B Ref  0.527\n",
       "1      transferRDN-B  0.003"
      ]
     },
     "metadata": {},
     "output_type": "display_data"
    },
    {
     "name": "stdout",
     "output_type": "stream",
     "text": [
      "\n",
      "\n",
      "Scratch: [0.849763 0.842801 0.851324]\n",
      "Transfer: [0.749103 0.728355 0.757471]\n",
      "Transfer & Revision: [0.848551 0.850518 0.851225]\n"
     ]
    },
    {
     "data": {
      "text/markdown": [
       "## CLL"
      ],
      "text/plain": [
       "<IPython.core.display.Markdown object>"
      ]
     },
     "metadata": {},
     "output_type": "display_data"
    },
    {
     "name": "stdout",
     "output_type": "stream",
     "text": [
      "T-test for experiment 1\n",
      "Ttest_relResult(statistic=-1.5149015617570918, pvalue=0.26901825210399705)\n",
      "Ttest_relResult(statistic=-61.919054889392854, pvalue=0.00026072428783912866)\n"
     ]
    },
    {
     "data": {
      "text/html": [
       "<div>\n",
       "<table border=\"1\" class=\"dataframe\">\n",
       "  <thead>\n",
       "    <tr style=\"text-align: right;\">\n",
       "      <th></th>\n",
       "      <th>p-value</th>\n",
       "      <th>RDN-B</th>\n",
       "    </tr>\n",
       "  </thead>\n",
       "  <tbody>\n",
       "    <tr>\n",
       "      <th>0</th>\n",
       "      <td>transferRDN-B Ref</td>\n",
       "      <td>0.269</td>\n",
       "    </tr>\n",
       "    <tr>\n",
       "      <th>1</th>\n",
       "      <td>transferRDN-B</td>\n",
       "      <td>0.000</td>\n",
       "    </tr>\n",
       "  </tbody>\n",
       "</table>\n",
       "</div>"
      ],
      "text/plain": [
       "             p-value  RDN-B\n",
       "0  transferRDN-B Ref  0.269\n",
       "1      transferRDN-B  0.000"
      ]
     },
     "metadata": {},
     "output_type": "display_data"
    },
    {
     "name": "stdout",
     "output_type": "stream",
     "text": [
      "\n",
      "\n",
      "Scratch: [-0.506253 -0.505124 -0.49668 ]\n",
      "Transfer: [-0.61077  -0.604467 -0.600768]\n",
      "Transfer & Revision: [-0.512131 -0.504153 -0.501383]\n"
     ]
    },
    {
     "data": {
      "text/markdown": [
       "## Recall"
      ],
      "text/plain": [
       "<IPython.core.display.Markdown object>"
      ]
     },
     "metadata": {},
     "output_type": "display_data"
    },
    {
     "name": "stdout",
     "output_type": "stream",
     "text": [
      "T-test for experiment 1\n",
      "Ttest_relResult(statistic=-1.2847906150358168, pvalue=0.3275731284546074)\n",
      "Ttest_relResult(statistic=-1.8054679756304686, pvalue=0.21275719618004818)\n"
     ]
    },
    {
     "data": {
      "text/html": [
       "<div>\n",
       "<table border=\"1\" class=\"dataframe\">\n",
       "  <thead>\n",
       "    <tr style=\"text-align: right;\">\n",
       "      <th></th>\n",
       "      <th>p-value</th>\n",
       "      <th>RDN-B</th>\n",
       "    </tr>\n",
       "  </thead>\n",
       "  <tbody>\n",
       "    <tr>\n",
       "      <th>0</th>\n",
       "      <td>transferRDN-B Ref</td>\n",
       "      <td>0.328</td>\n",
       "    </tr>\n",
       "    <tr>\n",
       "      <th>1</th>\n",
       "      <td>transferRDN-B</td>\n",
       "      <td>0.213</td>\n",
       "    </tr>\n",
       "  </tbody>\n",
       "</table>\n",
       "</div>"
      ],
      "text/plain": [
       "             p-value  RDN-B\n",
       "0  transferRDN-B Ref  0.328\n",
       "1      transferRDN-B  0.213"
      ]
     },
     "metadata": {},
     "output_type": "display_data"
    },
    {
     "name": "stdout",
     "output_type": "stream",
     "text": [
      "\n",
      "\n",
      "Scratch: [0.685185 0.621399 0.737654]\n",
      "Transfer: [0.330247 0.559671 0.648148]\n",
      "Transfer & Revision: [0.610082 0.584362 0.751029]\n"
     ]
    },
    {
     "data": {
      "text/markdown": [
       "## F1"
      ],
      "text/plain": [
       "<IPython.core.display.Markdown object>"
      ]
     },
     "metadata": {},
     "output_type": "display_data"
    },
    {
     "name": "stdout",
     "output_type": "stream",
     "text": [
      "T-test for experiment 1\n",
      "Ttest_relResult(statistic=-1.5776383908128782, pvalue=0.25537875025348955)\n",
      "Ttest_relResult(statistic=-2.7227505288963387, pvalue=0.11256760914414699)\n"
     ]
    },
    {
     "data": {
      "text/html": [
       "<div>\n",
       "<table border=\"1\" class=\"dataframe\">\n",
       "  <thead>\n",
       "    <tr style=\"text-align: right;\">\n",
       "      <th></th>\n",
       "      <th>p-value</th>\n",
       "      <th>RDN-B</th>\n",
       "    </tr>\n",
       "  </thead>\n",
       "  <tbody>\n",
       "    <tr>\n",
       "      <th>0</th>\n",
       "      <td>transferRDN-B Ref</td>\n",
       "      <td>0.255</td>\n",
       "    </tr>\n",
       "    <tr>\n",
       "      <th>1</th>\n",
       "      <td>transferRDN-B</td>\n",
       "      <td>0.113</td>\n",
       "    </tr>\n",
       "  </tbody>\n",
       "</table>\n",
       "</div>"
      ],
      "text/plain": [
       "             p-value  RDN-B\n",
       "0  transferRDN-B Ref  0.255\n",
       "1      transferRDN-B  0.113"
      ]
     },
     "metadata": {},
     "output_type": "display_data"
    },
    {
     "name": "stdout",
     "output_type": "stream",
     "text": [
      "\n",
      "\n",
      "Scratch: [0.731868 0.701917 0.743776]\n",
      "Transfer: [0.465555 0.591948 0.657963]\n",
      "Transfer & Revision: [0.691545 0.682692 0.745659]\n"
     ]
    },
    {
     "data": {
      "text/markdown": [
       "## Precision"
      ],
      "text/plain": [
       "<IPython.core.display.Markdown object>"
      ]
     },
     "metadata": {},
     "output_type": "display_data"
    },
    {
     "name": "stdout",
     "output_type": "stream",
     "text": [
      "\n",
      "\n",
      "Scratch: [0.785377 0.806409 0.75    ]\n",
      "Transfer: [0.788698 0.628176 0.668081]\n",
      "Transfer & Revision: [0.798116 0.820809 0.740365]\n"
     ]
    },
    {
     "data": {
      "text/markdown": [
       "## Learning and Revision time"
      ],
      "text/plain": [
       "<IPython.core.display.Markdown object>"
      ]
     },
     "metadata": {},
     "output_type": "display_data"
    },
    {
     "name": "stdout",
     "output_type": "stream",
     "text": [
      "\n",
      "\n",
      "Scratch: [ 84.523 102.25   87.303]\n",
      "Transfer: [40.033 34.113 36.835]\n",
      "Transfer & Revision: [212.3   127.528 311.521]\n"
     ]
    },
    {
     "data": {
      "text/markdown": [
       "## Inference time"
      ],
      "text/plain": [
       "<IPython.core.display.Markdown object>"
      ]
     },
     "metadata": {},
     "output_type": "display_data"
    },
    {
     "name": "stdout",
     "output_type": "stream",
     "text": [
      "\n",
      "\n",
      "Scratch: [1.753 2.074 1.917]\n",
      "Transfer: [40.033 34.113 36.835]\n",
      "Transfer & Revision: [30.133  2.708 20.077]\n"
     ]
    },
    {
     "data": {
      "text/markdown": [
       "# Results for 46_nell_finances_nell_sports"
      ],
      "text/plain": [
       "<IPython.core.display.Markdown object>"
      ]
     },
     "metadata": {},
     "output_type": "display_data"
    },
    {
     "data": {
      "text/markdown": [
       "## AUC ROC"
      ],
      "text/plain": [
       "<IPython.core.display.Markdown object>"
      ]
     },
     "metadata": {},
     "output_type": "display_data"
    },
    {
     "name": "stdout",
     "output_type": "stream",
     "text": [
      "T-test for experiment 1\n",
      "Ttest_relResult(statistic=-12.342167856770883, pvalue=0.006500789196460297)\n",
      "Ttest_relResult(statistic=-77.97151752194198, pvalue=0.00016444508202966335)\n"
     ]
    },
    {
     "data": {
      "text/html": [
       "<div>\n",
       "<table border=\"1\" class=\"dataframe\">\n",
       "  <thead>\n",
       "    <tr style=\"text-align: right;\">\n",
       "      <th></th>\n",
       "      <th>p-value</th>\n",
       "      <th>RDN-B</th>\n",
       "    </tr>\n",
       "  </thead>\n",
       "  <tbody>\n",
       "    <tr>\n",
       "      <th>0</th>\n",
       "      <td>transferRDN-B Ref</td>\n",
       "      <td>0.007</td>\n",
       "    </tr>\n",
       "    <tr>\n",
       "      <th>1</th>\n",
       "      <td>transferRDN-B</td>\n",
       "      <td>0.000</td>\n",
       "    </tr>\n",
       "  </tbody>\n",
       "</table>\n",
       "</div>"
      ],
      "text/plain": [
       "             p-value  RDN-B\n",
       "0  transferRDN-B Ref  0.007\n",
       "1      transferRDN-B  0.000"
      ]
     },
     "metadata": {},
     "output_type": "display_data"
    },
    {
     "name": "stdout",
     "output_type": "stream",
     "text": [
      "\n",
      "\n",
      "Scratch: [0.944107 0.927937 0.926996]\n",
      "Transfer: [0.5 0.5 0.5]\n",
      "Transfer & Revision: [0.87561  0.852631 0.870237]\n"
     ]
    },
    {
     "data": {
      "text/markdown": [
       "## AUC PR"
      ],
      "text/plain": [
       "<IPython.core.display.Markdown object>"
      ]
     },
     "metadata": {},
     "output_type": "display_data"
    },
    {
     "name": "stdout",
     "output_type": "stream",
     "text": [
      "T-test for experiment 1\n",
      "Ttest_relResult(statistic=-15.74574693006198, pvalue=0.004009180348216398)\n",
      "Ttest_relResult(statistic=-43.85784401757068, pvalue=0.000519477725913788)\n"
     ]
    },
    {
     "data": {
      "text/html": [
       "<div>\n",
       "<table border=\"1\" class=\"dataframe\">\n",
       "  <thead>\n",
       "    <tr style=\"text-align: right;\">\n",
       "      <th></th>\n",
       "      <th>p-value</th>\n",
       "      <th>RDN-B</th>\n",
       "    </tr>\n",
       "  </thead>\n",
       "  <tbody>\n",
       "    <tr>\n",
       "      <th>0</th>\n",
       "      <td>transferRDN-B Ref</td>\n",
       "      <td>0.004</td>\n",
       "    </tr>\n",
       "    <tr>\n",
       "      <th>1</th>\n",
       "      <td>transferRDN-B</td>\n",
       "      <td>0.001</td>\n",
       "    </tr>\n",
       "  </tbody>\n",
       "</table>\n",
       "</div>"
      ],
      "text/plain": [
       "             p-value  RDN-B\n",
       "0  transferRDN-B Ref  0.004\n",
       "1      transferRDN-B  0.001"
      ]
     },
     "metadata": {},
     "output_type": "display_data"
    },
    {
     "name": "stdout",
     "output_type": "stream",
     "text": [
      "\n",
      "\n",
      "Scratch: [0.944209 0.915724 0.914605]\n",
      "Transfer: [0.5 0.5 0.5]\n",
      "Transfer & Revision: [0.878528 0.841784 0.855215]\n"
     ]
    },
    {
     "data": {
      "text/markdown": [
       "## CLL"
      ],
      "text/plain": [
       "<IPython.core.display.Markdown object>"
      ]
     },
     "metadata": {},
     "output_type": "display_data"
    },
    {
     "name": "stdout",
     "output_type": "stream",
     "text": [
      "T-test for experiment 1\n",
      "Ttest_relResult(statistic=-31.420157838577175, pvalue=0.0010114024852478747)\n",
      "Ttest_relResult(statistic=-162.34378136844387, pvalue=3.7940580236623356e-05)\n"
     ]
    },
    {
     "data": {
      "text/html": [
       "<div>\n",
       "<table border=\"1\" class=\"dataframe\">\n",
       "  <thead>\n",
       "    <tr style=\"text-align: right;\">\n",
       "      <th></th>\n",
       "      <th>p-value</th>\n",
       "      <th>RDN-B</th>\n",
       "    </tr>\n",
       "  </thead>\n",
       "  <tbody>\n",
       "    <tr>\n",
       "      <th>0</th>\n",
       "      <td>transferRDN-B Ref</td>\n",
       "      <td>0.001</td>\n",
       "    </tr>\n",
       "    <tr>\n",
       "      <th>1</th>\n",
       "      <td>transferRDN-B</td>\n",
       "      <td>0.000</td>\n",
       "    </tr>\n",
       "  </tbody>\n",
       "</table>\n",
       "</div>"
      ],
      "text/plain": [
       "             p-value  RDN-B\n",
       "0  transferRDN-B Ref  0.001\n",
       "1      transferRDN-B  0.000"
      ]
     },
     "metadata": {},
     "output_type": "display_data"
    },
    {
     "name": "stdout",
     "output_type": "stream",
     "text": [
      "\n",
      "\n",
      "Scratch: [-0.349346 -0.35235  -0.356516]\n",
      "Transfer: [-0.695765 -0.695138 -0.695621]\n",
      "Transfer & Revision: [-0.479893 -0.498129 -0.494663]\n"
     ]
    },
    {
     "data": {
      "text/markdown": [
       "## Recall"
      ],
      "text/plain": [
       "<IPython.core.display.Markdown object>"
      ]
     },
     "metadata": {},
     "output_type": "display_data"
    },
    {
     "name": "stdout",
     "output_type": "stream",
     "text": [
      "T-test for experiment 1\n",
      "Ttest_relResult(statistic=-3.014861118076011, pvalue=0.09465620392229233)\n",
      "Ttest_relResult(statistic=-27.62153241408678, pvalue=0.001308132208792305)\n"
     ]
    },
    {
     "data": {
      "text/html": [
       "<div>\n",
       "<table border=\"1\" class=\"dataframe\">\n",
       "  <thead>\n",
       "    <tr style=\"text-align: right;\">\n",
       "      <th></th>\n",
       "      <th>p-value</th>\n",
       "      <th>RDN-B</th>\n",
       "    </tr>\n",
       "  </thead>\n",
       "  <tbody>\n",
       "    <tr>\n",
       "      <th>0</th>\n",
       "      <td>transferRDN-B Ref</td>\n",
       "      <td>0.095</td>\n",
       "    </tr>\n",
       "    <tr>\n",
       "      <th>1</th>\n",
       "      <td>transferRDN-B</td>\n",
       "      <td>0.001</td>\n",
       "    </tr>\n",
       "  </tbody>\n",
       "</table>\n",
       "</div>"
      ],
      "text/plain": [
       "             p-value  RDN-B\n",
       "0  transferRDN-B Ref  0.095\n",
       "1      transferRDN-B  0.001"
      ]
     },
     "metadata": {},
     "output_type": "display_data"
    },
    {
     "name": "stdout",
     "output_type": "stream",
     "text": [
      "\n",
      "\n",
      "Scratch: [0.837121 0.878788 0.947368]\n",
      "Transfer: [0. 0. 0.]\n",
      "Transfer & Revision: [0.787879 0.82197  0.815789]\n"
     ]
    },
    {
     "data": {
      "text/markdown": [
       "## F1"
      ],
      "text/plain": [
       "<IPython.core.display.Markdown object>"
      ]
     },
     "metadata": {},
     "output_type": "display_data"
    },
    {
     "name": "stdout",
     "output_type": "stream",
     "text": [
      "T-test for experiment 1\n",
      "Ttest_relResult(statistic=-116.64031234381423, pvalue=7.349448866823485e-05)\n",
      "Ttest_relResult(statistic=nan, pvalue=nan)\n"
     ]
    },
    {
     "data": {
      "text/html": [
       "<div>\n",
       "<table border=\"1\" class=\"dataframe\">\n",
       "  <thead>\n",
       "    <tr style=\"text-align: right;\">\n",
       "      <th></th>\n",
       "      <th>p-value</th>\n",
       "      <th>RDN-B</th>\n",
       "    </tr>\n",
       "  </thead>\n",
       "  <tbody>\n",
       "    <tr>\n",
       "      <th>0</th>\n",
       "      <td>transferRDN-B Ref</td>\n",
       "      <td>0.000</td>\n",
       "    </tr>\n",
       "    <tr>\n",
       "      <th>1</th>\n",
       "      <td>transferRDN-B</td>\n",
       "      <td>nan</td>\n",
       "    </tr>\n",
       "  </tbody>\n",
       "</table>\n",
       "</div>"
      ],
      "text/plain": [
       "             p-value  RDN-B\n",
       "0  transferRDN-B Ref  0.000\n",
       "1      transferRDN-B    nan"
      ]
     },
     "metadata": {},
     "output_type": "display_data"
    },
    {
     "name": "stdout",
     "output_type": "stream",
     "text": [
      "\n",
      "\n",
      "Scratch: [0.858252 0.859259 0.863014]\n",
      "Transfer: [nan nan nan]\n",
      "Transfer & Revision: [0.789374 0.789091 0.794872]\n"
     ]
    },
    {
     "data": {
      "text/markdown": [
       "## Precision"
      ],
      "text/plain": [
       "<IPython.core.display.Markdown object>"
      ]
     },
     "metadata": {},
     "output_type": "display_data"
    },
    {
     "name": "stdout",
     "output_type": "stream",
     "text": [
      "\n",
      "\n",
      "Scratch: [0.880478 0.84058  0.792453]\n",
      "Transfer: [nan nan nan]\n",
      "Transfer & Revision: [0.790875 0.758741 0.775   ]\n"
     ]
    },
    {
     "data": {
      "text/markdown": [
       "## Learning and Revision time"
      ],
      "text/plain": [
       "<IPython.core.display.Markdown object>"
      ]
     },
     "metadata": {},
     "output_type": "display_data"
    },
    {
     "name": "stdout",
     "output_type": "stream",
     "text": [
      "\n",
      "\n",
      "Scratch: [511.501 259.098 374.09 ]\n",
      "Transfer: [126.683  78.556  79.781]\n",
      "Transfer & Revision: [317.03  195.321 190.846]\n"
     ]
    },
    {
     "data": {
      "text/markdown": [
       "## Inference time"
      ],
      "text/plain": [
       "<IPython.core.display.Markdown object>"
      ]
     },
     "metadata": {},
     "output_type": "display_data"
    },
    {
     "name": "stdout",
     "output_type": "stream",
     "text": [
      "\n",
      "\n",
      "Scratch: [4.225 3.746 4.169]\n",
      "Transfer: [126.683  78.556  79.781]\n",
      "Transfer & Revision: [3.756 2.397 1.95 ]\n"
     ]
    }
   ],
   "source": [
    "for j in range(len(experiments)):\n",
    "    dataset = experiments[j]['id'] + '_' + experiments[j]['source'] + '_' + experiments[j]['target']\n",
    "    display(Markdown('# Results for ' + dataset))\n",
    "    table = []\n",
    "    for metric in ['AUC ROC', 'AUC PR', 'CLL', 'Recall', 'F1', 'Precision', 'Learning and Revision time', 'Inference time']:\n",
    "    #for metric in ['AUC ROC', 'AUC PR']:\n",
    "        if dataset in data['results']: \n",
    "            #for metric in ['AUC ROC', 'AUC PR']:\n",
    "            display(Markdown('## ' + metric))\n",
    "            if metric == 'Precision':\n",
    "                scratch = np.array([item['scratch']['Precision'][0] for sublist in data['results'][str(dataset)] for item in sublist])\n",
    "                parameter = np.array([item['transfer']['Parameter Learning results']['Precision'][0] for sublist in data['results'][str(dataset)] for item in sublist])\n",
    "                transfer = np.array([item['transfer']['Precision'][0] for sublist in data['results'][str(dataset)] for item in sublist])\n",
    "            elif metric == 'Learning and Revision time':\n",
    "                scratch = np.array([item['scratch']['Learning time'] for sublist in data['results'][str(dataset)] for item in sublist])\n",
    "                parameter = np.array([item['transfer']['Parameter Learning results']['Learning time'] for sublist in data['results'][str(dataset)] for item in sublist])\n",
    "                transfer = np.array([item['transfer']['Learning time'] for sublist in data['results'][str(dataset)] for item in sublist])\n",
    "            elif metric == 'Inference time':\n",
    "                scratch = np.array([item['scratch']['Inference time'] for sublist in data['results'][str(dataset)] for item in sublist])\n",
    "                parameter = np.array([item['transfer']['Parameter Learning results']['Learning time'] for sublist in data['results'][str(dataset)] for item in sublist])\n",
    "                transfer = np.array([item['transfer']['Inference time'] for sublist in data['results'][str(dataset)] for item in sublist])\n",
    "            else:\n",
    "                scratch = np.array([item['scratch'][metric] for sublist in data['results'][str(dataset)] for item in sublist])\n",
    "                parameter = np.array([item['transfer']['Parameter Learning results'][metric] for sublist in data['results'][str(dataset)] for item in sublist])\n",
    "                transfer = np.array([item['transfer'][metric] for sublist in data['results'][str(dataset)] for item in sublist])\n",
    "                for m in range(len(data['results'][str(dataset)])):\n",
    "                    print('T-test for experiment %s' % (m+1))\n",
    "                    pvalue = stats.ttest_rel([item['transfer'][metric] for item in data['results'][str(dataset)][m]],[item['scratch'][metric] for item in data['results'][str(dataset)][m]])\n",
    "                    print(pvalue)\n",
    "                    pvalue_table = []\n",
    "                    pvalue_table.append(['transferRDN-B Ref', '%.3f' % (pvalue[1])])\n",
    "                    pvalue = stats.ttest_rel([item['transfer']['Parameter Learning results'][metric] for item in data['results'][str(dataset)][m]],[item['scratch'][metric] for item in data['results'][str(dataset)][m]])\n",
    "                    print(pvalue)\n",
    "                    pvalue_table.append(['transferRDN-B', '%.3f' % (pvalue[1])])\n",
    "                    display(pd.DataFrame(pvalue_table, columns=['p-value', 'RDN-B']))\n",
    "            print('\\n')\n",
    "            print('Scratch: %s' % scratch)\n",
    "            print('Transfer: %s' % parameter)\n",
    "            print('Transfer & Revision: %s' % transfer)"
   ]
  },
  {
   "cell_type": "code",
   "execution_count": 6,
   "metadata": {
    "collapsed": false
   },
   "outputs": [],
   "source": [
    "def paired_ttest_kfold_cv(estimator1, estimator2):\n",
    "    score_diff = []\n",
    "    cv = len(estimator1)\n",
    "    for i in range(len(estimator1)):\n",
    "        score_diff.append(estimator1[i] - estimator2[i])\n",
    "\n",
    "    avg_diff = np.mean(score_diff)\n",
    "\n",
    "    numerator = avg_diff * np.sqrt(cv)\n",
    "    denominator = np.sqrt(sum([(diff - avg_diff)**2 for diff in score_diff])\n",
    "                          / (cv - 1))\n",
    "    t_stat = numerator / denominator\n",
    "\n",
    "    pvalue = stats.t.sf(np.abs(t_stat), cv - 1)*2.\n",
    "    return float(t_stat), float(pvalue)"
   ]
  },
  {
   "cell_type": "code",
   "execution_count": 7,
   "metadata": {
    "collapsed": false
   },
   "outputs": [
    {
     "data": {
      "text/plain": [
       "(26.497231209975535, 0.00011793614005630308)"
      ]
     },
     "execution_count": 7,
     "metadata": {},
     "output_type": "execute_result"
    }
   ],
   "source": [
    "paired_ttest_kfold_cv([0.693686, 0.694682, 0.68722,  0.660296],\n",
    "[0.636807, 0.636639, 0.634388, 0.611234])"
   ]
  },
  {
   "cell_type": "code",
   "execution_count": null,
   "metadata": {
    "collapsed": true
   },
   "outputs": [],
   "source": []
  }
 ],
 "metadata": {
  "anaconda-cloud": {},
  "kernelspec": {
   "display_name": "Python [conda env:anaconda3]",
   "language": "python",
   "name": "conda-env-anaconda3-py"
  },
  "language_info": {
   "codemirror_mode": {
    "name": "ipython",
    "version": 3
   },
   "file_extension": ".py",
   "mimetype": "text/x-python",
   "name": "python",
   "nbconvert_exporter": "python",
   "pygments_lexer": "ipython3",
   "version": "3.5.2"
  }
 },
 "nbformat": 4,
 "nbformat_minor": 1
}
