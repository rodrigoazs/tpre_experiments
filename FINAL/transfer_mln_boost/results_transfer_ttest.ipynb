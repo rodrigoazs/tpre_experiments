{
 "cells": [
  {
   "cell_type": "code",
   "execution_count": 1,
   "metadata": {
    "collapsed": true
   },
   "outputs": [],
   "source": [
    "import matplotlib.pyplot as plt\n",
    "from IPython.display import display, Markdown, Latex\n",
    "import numpy as np\n",
    "import json\n",
    "import pandas as pd\n",
    "from scipy import stats\n",
    "import os\n",
    "%matplotlib inline\n",
    "\n",
    "#with open('transfer_experiment.json', 'r') as fp:\n",
    "#    data = json.load(fp)\n",
    "    \n",
    "def load_data(experiments):\n",
    "    data = { 'results' : {} }\n",
    "    for item in experiments:\n",
    "        experiment_title = item['id'] + '_' + item['source'] + '_' + item['target']\n",
    "        if os.path.isfile('../transfer_experiment/experiments/' + experiment_title + '/' + experiment_title + '.json'):\n",
    "            with open('../transfer_experiment/experiments/' + experiment_title + '/' + experiment_title + '.json', 'r') as fp:\n",
    "                results = json.load(fp)\n",
    "                data['results'][experiment_title] = results\n",
    "    return data\n",
    "\n",
    "def load_data_mln(experiments):\n",
    "    data = { 'results' : {} }\n",
    "    for item in experiments:\n",
    "        experiment_title = item['id'] + '_' + item['source'] + '_' + item['target']\n",
    "        if os.path.isfile('experiments/' + experiment_title + '/' + experiment_title + '.json'):\n",
    "            with open('experiments/' + experiment_title + '/' + experiment_title + '.json', 'r') as fp:\n",
    "                results = json.load(fp)\n",
    "                data['results'][experiment_title] = results\n",
    "    return data"
   ]
  },
  {
   "cell_type": "code",
   "execution_count": 6,
   "metadata": {
    "collapsed": false,
    "scrolled": false
   },
   "outputs": [
    {
     "data": {
      "text/markdown": [
       "# Results for AUC ROC"
      ],
      "text/plain": [
       "<IPython.core.display.Markdown object>"
      ]
     },
     "metadata": {},
     "output_type": "display_data"
    },
    {
     "data": {
      "text/html": [
       "<div>\n",
       "<table border=\"1\" class=\"dataframe\">\n",
       "  <thead>\n",
       "    <tr style=\"text-align: right;\">\n",
       "      <th></th>\n",
       "      <th>Experiment</th>\n",
       "      <th>Transfer Learning</th>\n",
       "      <th>Transfer Learning with Revision Theory</th>\n",
       "      <th>Learning from scratch (MLN-B)</th>\n",
       "    </tr>\n",
       "  </thead>\n",
       "  <tbody>\n",
       "    <tr>\n",
       "      <th>0</th>\n",
       "      <td>1_imdb_uwcse</td>\n",
       "      <td>0.930 +/- 0.000</td>\n",
       "      <td>0.939 +/- 0.003</td>\n",
       "      <td>0.893 +/- 0.067</td>\n",
       "    </tr>\n",
       "    <tr>\n",
       "      <th>1</th>\n",
       "      <td>2_uwcse_imdb</td>\n",
       "      <td>0.999 +/- 0.002</td>\n",
       "      <td>1.000 +/- 0.000</td>\n",
       "      <td>0.996 +/- 0.005</td>\n",
       "    </tr>\n",
       "    <tr>\n",
       "      <th>2</th>\n",
       "      <td>53_cora_imdb</td>\n",
       "      <td>0.958 +/- 0.090</td>\n",
       "      <td>0.999 +/- 0.002</td>\n",
       "      <td>0.997 +/- 0.007</td>\n",
       "    </tr>\n",
       "    <tr>\n",
       "      <th>3</th>\n",
       "      <td>15_yeast_twitter</td>\n",
       "      <td>0.986 +/- 0.016</td>\n",
       "      <td>0.993 +/- 0.001</td>\n",
       "      <td>0.819 +/- 0.017</td>\n",
       "    </tr>\n",
       "    <tr>\n",
       "      <th>4</th>\n",
       "      <td>22_twitter_yeast</td>\n",
       "      <td>0.986 +/- 0.005</td>\n",
       "      <td>0.986 +/- 0.005</td>\n",
       "      <td>0.674 +/- 0.018</td>\n",
       "    </tr>\n",
       "    <tr>\n",
       "      <th>5</th>\n",
       "      <td>37_nell_sports_nell_finances</td>\n",
       "      <td>0.976 +/- 0.005</td>\n",
       "      <td>0.976 +/- 0.004</td>\n",
       "      <td>0.503 +/- 0.004</td>\n",
       "    </tr>\n",
       "  </tbody>\n",
       "</table>\n",
       "</div>"
      ],
      "text/plain": [
       "                     Experiment Transfer Learning  \\\n",
       "0                  1_imdb_uwcse   0.930 +/- 0.000   \n",
       "1                  2_uwcse_imdb   0.999 +/- 0.002   \n",
       "2                  53_cora_imdb   0.958 +/- 0.090   \n",
       "3              15_yeast_twitter   0.986 +/- 0.016   \n",
       "4              22_twitter_yeast   0.986 +/- 0.005   \n",
       "5  37_nell_sports_nell_finances   0.976 +/- 0.005   \n",
       "\n",
       "  Transfer Learning with Revision Theory Learning from scratch (MLN-B)  \n",
       "0                        0.939 +/- 0.003               0.893 +/- 0.067  \n",
       "1                        1.000 +/- 0.000               0.996 +/- 0.005  \n",
       "2                        0.999 +/- 0.002               0.997 +/- 0.007  \n",
       "3                        0.993 +/- 0.001               0.819 +/- 0.017  \n",
       "4                        0.986 +/- 0.005               0.674 +/- 0.018  \n",
       "5                        0.976 +/- 0.004               0.503 +/- 0.004  "
      ]
     },
     "metadata": {},
     "output_type": "display_data"
    },
    {
     "data": {
      "text/markdown": [
       "# Results for AUC PR"
      ],
      "text/plain": [
       "<IPython.core.display.Markdown object>"
      ]
     },
     "metadata": {},
     "output_type": "display_data"
    },
    {
     "data": {
      "text/html": [
       "<div>\n",
       "<table border=\"1\" class=\"dataframe\">\n",
       "  <thead>\n",
       "    <tr style=\"text-align: right;\">\n",
       "      <th></th>\n",
       "      <th>Experiment</th>\n",
       "      <th>Transfer Learning</th>\n",
       "      <th>Transfer Learning with Revision Theory</th>\n",
       "      <th>Learning from scratch (MLN-B)</th>\n",
       "    </tr>\n",
       "  </thead>\n",
       "  <tbody>\n",
       "    <tr>\n",
       "      <th>0</th>\n",
       "      <td>1_imdb_uwcse</td>\n",
       "      <td>0.293 +/- 0.000</td>\n",
       "      <td>0.298 +/- 0.025</td>\n",
       "      <td>0.152 +/- 0.048</td>\n",
       "    </tr>\n",
       "    <tr>\n",
       "      <th>1</th>\n",
       "      <td>2_uwcse_imdb</td>\n",
       "      <td>0.990 +/- 0.040</td>\n",
       "      <td>1.000 +/- 0.000</td>\n",
       "      <td>0.824 +/- 0.167</td>\n",
       "    </tr>\n",
       "    <tr>\n",
       "      <th>2</th>\n",
       "      <td>53_cora_imdb</td>\n",
       "      <td>0.727 +/- 0.634</td>\n",
       "      <td>0.952 +/- 0.086</td>\n",
       "      <td>0.879 +/- 0.260</td>\n",
       "    </tr>\n",
       "    <tr>\n",
       "      <th>3</th>\n",
       "      <td>15_yeast_twitter</td>\n",
       "      <td>0.394 +/- 0.071</td>\n",
       "      <td>0.362 +/- 0.040</td>\n",
       "      <td>0.312 +/- 0.000</td>\n",
       "    </tr>\n",
       "    <tr>\n",
       "      <th>4</th>\n",
       "      <td>22_twitter_yeast</td>\n",
       "      <td>0.273 +/- 0.117</td>\n",
       "      <td>0.272 +/- 0.119</td>\n",
       "      <td>0.154 +/- 0.040</td>\n",
       "    </tr>\n",
       "    <tr>\n",
       "      <th>5</th>\n",
       "      <td>37_nell_sports_nell_finances</td>\n",
       "      <td>0.057 +/- 0.045</td>\n",
       "      <td>0.058 +/- 0.042</td>\n",
       "      <td>0.007 +/- 0.004</td>\n",
       "    </tr>\n",
       "  </tbody>\n",
       "</table>\n",
       "</div>"
      ],
      "text/plain": [
       "                     Experiment Transfer Learning  \\\n",
       "0                  1_imdb_uwcse   0.293 +/- 0.000   \n",
       "1                  2_uwcse_imdb   0.990 +/- 0.040   \n",
       "2                  53_cora_imdb   0.727 +/- 0.634   \n",
       "3              15_yeast_twitter   0.394 +/- 0.071   \n",
       "4              22_twitter_yeast   0.273 +/- 0.117   \n",
       "5  37_nell_sports_nell_finances   0.057 +/- 0.045   \n",
       "\n",
       "  Transfer Learning with Revision Theory Learning from scratch (MLN-B)  \n",
       "0                        0.298 +/- 0.025               0.152 +/- 0.048  \n",
       "1                        1.000 +/- 0.000               0.824 +/- 0.167  \n",
       "2                        0.952 +/- 0.086               0.879 +/- 0.260  \n",
       "3                        0.362 +/- 0.040               0.312 +/- 0.000  \n",
       "4                        0.272 +/- 0.119               0.154 +/- 0.040  \n",
       "5                        0.058 +/- 0.042               0.007 +/- 0.004  "
      ]
     },
     "metadata": {},
     "output_type": "display_data"
    },
    {
     "data": {
      "text/markdown": [
       "# Results for CLL"
      ],
      "text/plain": [
       "<IPython.core.display.Markdown object>"
      ]
     },
     "metadata": {},
     "output_type": "display_data"
    },
    {
     "data": {
      "text/html": [
       "<div>\n",
       "<table border=\"1\" class=\"dataframe\">\n",
       "  <thead>\n",
       "    <tr style=\"text-align: right;\">\n",
       "      <th></th>\n",
       "      <th>Experiment</th>\n",
       "      <th>Transfer Learning</th>\n",
       "      <th>Transfer Learning with Revision Theory</th>\n",
       "      <th>Learning from scratch (MLN-B)</th>\n",
       "    </tr>\n",
       "  </thead>\n",
       "  <tbody>\n",
       "    <tr>\n",
       "      <th>0</th>\n",
       "      <td>1_imdb_uwcse</td>\n",
       "      <td>-0.262 +/- 0.017</td>\n",
       "      <td>-0.241 +/- 0.010</td>\n",
       "      <td>-0.707 +/- 0.700</td>\n",
       "    </tr>\n",
       "    <tr>\n",
       "      <th>1</th>\n",
       "      <td>2_uwcse_imdb</td>\n",
       "      <td>-0.081 +/- 0.036</td>\n",
       "      <td>-0.067 +/- 0.005</td>\n",
       "      <td>-0.617 +/- 1.069</td>\n",
       "    </tr>\n",
       "    <tr>\n",
       "      <th>2</th>\n",
       "      <td>53_cora_imdb</td>\n",
       "      <td>-0.213 +/- 0.102</td>\n",
       "      <td>-0.077 +/- 0.004</td>\n",
       "      <td>-0.434 +/- 0.920</td>\n",
       "    </tr>\n",
       "    <tr>\n",
       "      <th>3</th>\n",
       "      <td>15_yeast_twitter</td>\n",
       "      <td>-0.138 +/- 0.030</td>\n",
       "      <td>-0.118 +/- 0.007</td>\n",
       "      <td>-0.249 +/- 0.002</td>\n",
       "    </tr>\n",
       "    <tr>\n",
       "      <th>4</th>\n",
       "      <td>22_twitter_yeast</td>\n",
       "      <td>-0.180 +/- 0.043</td>\n",
       "      <td>-0.180 +/- 0.042</td>\n",
       "      <td>-0.288 +/- 0.020</td>\n",
       "    </tr>\n",
       "    <tr>\n",
       "      <th>5</th>\n",
       "      <td>37_nell_sports_nell_finances</td>\n",
       "      <td>-0.172 +/- 0.012</td>\n",
       "      <td>-0.171 +/- 0.010</td>\n",
       "      <td>-0.205 +/- 0.006</td>\n",
       "    </tr>\n",
       "  </tbody>\n",
       "</table>\n",
       "</div>"
      ],
      "text/plain": [
       "                     Experiment Transfer Learning  \\\n",
       "0                  1_imdb_uwcse  -0.262 +/- 0.017   \n",
       "1                  2_uwcse_imdb  -0.081 +/- 0.036   \n",
       "2                  53_cora_imdb  -0.213 +/- 0.102   \n",
       "3              15_yeast_twitter  -0.138 +/- 0.030   \n",
       "4              22_twitter_yeast  -0.180 +/- 0.043   \n",
       "5  37_nell_sports_nell_finances  -0.172 +/- 0.012   \n",
       "\n",
       "  Transfer Learning with Revision Theory Learning from scratch (MLN-B)  \n",
       "0                       -0.241 +/- 0.010              -0.707 +/- 0.700  \n",
       "1                       -0.067 +/- 0.005              -0.617 +/- 1.069  \n",
       "2                       -0.077 +/- 0.004              -0.434 +/- 0.920  \n",
       "3                       -0.118 +/- 0.007              -0.249 +/- 0.002  \n",
       "4                       -0.180 +/- 0.042              -0.288 +/- 0.020  \n",
       "5                       -0.171 +/- 0.010              -0.205 +/- 0.006  "
      ]
     },
     "metadata": {},
     "output_type": "display_data"
    },
    {
     "data": {
      "text/markdown": [
       "# Results for Recall"
      ],
      "text/plain": [
       "<IPython.core.display.Markdown object>"
      ]
     },
     "metadata": {},
     "output_type": "display_data"
    },
    {
     "data": {
      "text/html": [
       "<div>\n",
       "<table border=\"1\" class=\"dataframe\">\n",
       "  <thead>\n",
       "    <tr style=\"text-align: right;\">\n",
       "      <th></th>\n",
       "      <th>Experiment</th>\n",
       "      <th>Transfer Learning</th>\n",
       "      <th>Transfer Learning with Revision Theory</th>\n",
       "      <th>Learning from scratch (MLN-B)</th>\n",
       "    </tr>\n",
       "  </thead>\n",
       "  <tbody>\n",
       "    <tr>\n",
       "      <th>0</th>\n",
       "      <td>1_imdb_uwcse</td>\n",
       "      <td>1.000 +/- 0.000</td>\n",
       "      <td>0.848 +/- 0.047</td>\n",
       "      <td>0.725 +/- 0.207</td>\n",
       "    </tr>\n",
       "    <tr>\n",
       "      <th>1</th>\n",
       "      <td>2_uwcse_imdb</td>\n",
       "      <td>0.978 +/- 0.086</td>\n",
       "      <td>1.000 +/- 0.000</td>\n",
       "      <td>0.880 +/- 0.320</td>\n",
       "    </tr>\n",
       "    <tr>\n",
       "      <th>2</th>\n",
       "      <td>53_cora_imdb</td>\n",
       "      <td>0.894 +/- 0.109</td>\n",
       "      <td>1.000 +/- 0.000</td>\n",
       "      <td>0.960 +/- 0.160</td>\n",
       "    </tr>\n",
       "    <tr>\n",
       "      <th>3</th>\n",
       "      <td>15_yeast_twitter</td>\n",
       "      <td>0.854 +/- 0.112</td>\n",
       "      <td>0.956 +/- 0.042</td>\n",
       "      <td>0.409 +/- 0.031</td>\n",
       "    </tr>\n",
       "    <tr>\n",
       "      <th>4</th>\n",
       "      <td>22_twitter_yeast</td>\n",
       "      <td>0.820 +/- 0.288</td>\n",
       "      <td>0.844 +/- 0.250</td>\n",
       "      <td>0.256 +/- 0.059</td>\n",
       "    </tr>\n",
       "    <tr>\n",
       "      <th>5</th>\n",
       "      <td>37_nell_sports_nell_finances</td>\n",
       "      <td>0.876 +/- 0.054</td>\n",
       "      <td>0.884 +/- 0.071</td>\n",
       "      <td>0.015 +/- 0.004</td>\n",
       "    </tr>\n",
       "  </tbody>\n",
       "</table>\n",
       "</div>"
      ],
      "text/plain": [
       "                     Experiment Transfer Learning  \\\n",
       "0                  1_imdb_uwcse   1.000 +/- 0.000   \n",
       "1                  2_uwcse_imdb   0.978 +/- 0.086   \n",
       "2                  53_cora_imdb   0.894 +/- 0.109   \n",
       "3              15_yeast_twitter   0.854 +/- 0.112   \n",
       "4              22_twitter_yeast   0.820 +/- 0.288   \n",
       "5  37_nell_sports_nell_finances   0.876 +/- 0.054   \n",
       "\n",
       "  Transfer Learning with Revision Theory Learning from scratch (MLN-B)  \n",
       "0                        0.848 +/- 0.047               0.725 +/- 0.207  \n",
       "1                        1.000 +/- 0.000               0.880 +/- 0.320  \n",
       "2                        1.000 +/- 0.000               0.960 +/- 0.160  \n",
       "3                        0.956 +/- 0.042               0.409 +/- 0.031  \n",
       "4                        0.844 +/- 0.250               0.256 +/- 0.059  \n",
       "5                        0.884 +/- 0.071               0.015 +/- 0.004  "
      ]
     },
     "metadata": {},
     "output_type": "display_data"
    },
    {
     "data": {
      "text/markdown": [
       "# Results for F1"
      ],
      "text/plain": [
       "<IPython.core.display.Markdown object>"
      ]
     },
     "metadata": {},
     "output_type": "display_data"
    },
    {
     "data": {
      "text/html": [
       "<div>\n",
       "<table border=\"1\" class=\"dataframe\">\n",
       "  <thead>\n",
       "    <tr style=\"text-align: right;\">\n",
       "      <th></th>\n",
       "      <th>Experiment</th>\n",
       "      <th>Transfer Learning</th>\n",
       "      <th>Transfer Learning with Revision Theory</th>\n",
       "      <th>Learning from scratch (MLN-B)</th>\n",
       "    </tr>\n",
       "  </thead>\n",
       "  <tbody>\n",
       "    <tr>\n",
       "      <th>0</th>\n",
       "      <td>1_imdb_uwcse</td>\n",
       "      <td>0.232 +/- 0.000</td>\n",
       "      <td>0.285 +/- 0.018</td>\n",
       "      <td>nan +/- nan</td>\n",
       "    </tr>\n",
       "    <tr>\n",
       "      <th>1</th>\n",
       "      <td>2_uwcse_imdb</td>\n",
       "      <td>0.988 +/- 0.047</td>\n",
       "      <td>1.000 +/- 0.000</td>\n",
       "      <td>nan +/- nan</td>\n",
       "    </tr>\n",
       "    <tr>\n",
       "      <th>2</th>\n",
       "      <td>53_cora_imdb</td>\n",
       "      <td>0.624 +/- 0.480</td>\n",
       "      <td>0.892 +/- 0.022</td>\n",
       "      <td>nan +/- nan</td>\n",
       "    </tr>\n",
       "    <tr>\n",
       "      <th>3</th>\n",
       "      <td>15_yeast_twitter</td>\n",
       "      <td>0.483 +/- 0.018</td>\n",
       "      <td>0.506 +/- 0.004</td>\n",
       "      <td>0.468 +/- 0.027</td>\n",
       "    </tr>\n",
       "    <tr>\n",
       "      <th>4</th>\n",
       "      <td>22_twitter_yeast</td>\n",
       "      <td>0.314 +/- 0.047</td>\n",
       "      <td>0.311 +/- 0.047</td>\n",
       "      <td>0.202 +/- 0.049</td>\n",
       "    </tr>\n",
       "    <tr>\n",
       "      <th>5</th>\n",
       "      <td>37_nell_sports_nell_finances</td>\n",
       "      <td>0.044 +/- 0.003</td>\n",
       "      <td>0.042 +/- 0.007</td>\n",
       "      <td>0.007 +/- 0.004</td>\n",
       "    </tr>\n",
       "  </tbody>\n",
       "</table>\n",
       "</div>"
      ],
      "text/plain": [
       "                     Experiment Transfer Learning  \\\n",
       "0                  1_imdb_uwcse   0.232 +/- 0.000   \n",
       "1                  2_uwcse_imdb   0.988 +/- 0.047   \n",
       "2                  53_cora_imdb   0.624 +/- 0.480   \n",
       "3              15_yeast_twitter   0.483 +/- 0.018   \n",
       "4              22_twitter_yeast   0.314 +/- 0.047   \n",
       "5  37_nell_sports_nell_finances   0.044 +/- 0.003   \n",
       "\n",
       "  Transfer Learning with Revision Theory Learning from scratch (MLN-B)  \n",
       "0                        0.285 +/- 0.018                   nan +/- nan  \n",
       "1                        1.000 +/- 0.000                   nan +/- nan  \n",
       "2                        0.892 +/- 0.022                   nan +/- nan  \n",
       "3                        0.506 +/- 0.004               0.468 +/- 0.027  \n",
       "4                        0.311 +/- 0.047               0.202 +/- 0.049  \n",
       "5                        0.042 +/- 0.007               0.007 +/- 0.004  "
      ]
     },
     "metadata": {},
     "output_type": "display_data"
    },
    {
     "data": {
      "text/markdown": [
       "# Results for Precision"
      ],
      "text/plain": [
       "<IPython.core.display.Markdown object>"
      ]
     },
     "metadata": {},
     "output_type": "display_data"
    },
    {
     "data": {
      "text/html": [
       "<div>\n",
       "<table border=\"1\" class=\"dataframe\">\n",
       "  <thead>\n",
       "    <tr style=\"text-align: right;\">\n",
       "      <th></th>\n",
       "      <th>Experiment</th>\n",
       "      <th>Transfer Learning</th>\n",
       "      <th>Transfer Learning with Revision Theory</th>\n",
       "      <th>Learning from scratch (MLN-B)</th>\n",
       "    </tr>\n",
       "  </thead>\n",
       "  <tbody>\n",
       "    <tr>\n",
       "      <th>0</th>\n",
       "      <td>1_imdb_uwcse</td>\n",
       "      <td>0.131 +/- 0.000</td>\n",
       "      <td>0.174 +/- 0.014</td>\n",
       "      <td>nan +/- nan</td>\n",
       "    </tr>\n",
       "    <tr>\n",
       "      <th>1</th>\n",
       "      <td>2_uwcse_imdb</td>\n",
       "      <td>1.000 +/- 0.000</td>\n",
       "      <td>1.000 +/- 0.000</td>\n",
       "      <td>0.324 +/- 0.068</td>\n",
       "    </tr>\n",
       "    <tr>\n",
       "      <th>2</th>\n",
       "      <td>53_cora_imdb</td>\n",
       "      <td>0.637 +/- 0.563</td>\n",
       "      <td>0.811 +/- 0.038</td>\n",
       "      <td>0.318 +/- 0.103</td>\n",
       "    </tr>\n",
       "    <tr>\n",
       "      <th>3</th>\n",
       "      <td>15_yeast_twitter</td>\n",
       "      <td>0.337 +/- 0.000</td>\n",
       "      <td>0.344 +/- 0.010</td>\n",
       "      <td>0.563 +/- 0.018</td>\n",
       "    </tr>\n",
       "    <tr>\n",
       "      <th>4</th>\n",
       "      <td>22_twitter_yeast</td>\n",
       "      <td>0.204 +/- 0.056</td>\n",
       "      <td>0.198 +/- 0.053</td>\n",
       "      <td>0.210 +/- 0.104</td>\n",
       "    </tr>\n",
       "    <tr>\n",
       "      <th>5</th>\n",
       "      <td>37_nell_sports_nell_finances</td>\n",
       "      <td>0.023 +/- 0.002</td>\n",
       "      <td>0.022 +/- 0.004</td>\n",
       "      <td>0.005 +/- 0.004</td>\n",
       "    </tr>\n",
       "  </tbody>\n",
       "</table>\n",
       "</div>"
      ],
      "text/plain": [
       "                     Experiment Transfer Learning  \\\n",
       "0                  1_imdb_uwcse   0.131 +/- 0.000   \n",
       "1                  2_uwcse_imdb   1.000 +/- 0.000   \n",
       "2                  53_cora_imdb   0.637 +/- 0.563   \n",
       "3              15_yeast_twitter   0.337 +/- 0.000   \n",
       "4              22_twitter_yeast   0.204 +/- 0.056   \n",
       "5  37_nell_sports_nell_finances   0.023 +/- 0.002   \n",
       "\n",
       "  Transfer Learning with Revision Theory Learning from scratch (MLN-B)  \n",
       "0                        0.174 +/- 0.014                   nan +/- nan  \n",
       "1                        1.000 +/- 0.000               0.324 +/- 0.068  \n",
       "2                        0.811 +/- 0.038               0.318 +/- 0.103  \n",
       "3                        0.344 +/- 0.010               0.563 +/- 0.018  \n",
       "4                        0.198 +/- 0.053               0.210 +/- 0.104  \n",
       "5                        0.022 +/- 0.004               0.005 +/- 0.004  "
      ]
     },
     "metadata": {},
     "output_type": "display_data"
    },
    {
     "data": {
      "text/markdown": [
       "# Results for Learning and Revision time"
      ],
      "text/plain": [
       "<IPython.core.display.Markdown object>"
      ]
     },
     "metadata": {},
     "output_type": "display_data"
    },
    {
     "data": {
      "text/html": [
       "<div>\n",
       "<table border=\"1\" class=\"dataframe\">\n",
       "  <thead>\n",
       "    <tr style=\"text-align: right;\">\n",
       "      <th></th>\n",
       "      <th>Experiment</th>\n",
       "      <th>Transfer Learning</th>\n",
       "      <th>Transfer Learning with Revision Theory</th>\n",
       "      <th>Learning from scratch (MLN-B)</th>\n",
       "    </tr>\n",
       "  </thead>\n",
       "  <tbody>\n",
       "    <tr>\n",
       "      <th>0</th>\n",
       "      <td>1_imdb_uwcse</td>\n",
       "      <td>1.188 +/- 0.052</td>\n",
       "      <td>9.524 +/- 0.620</td>\n",
       "      <td>4.190 +/- 1.381</td>\n",
       "    </tr>\n",
       "    <tr>\n",
       "      <th>1</th>\n",
       "      <td>2_uwcse_imdb</td>\n",
       "      <td>1.954 +/- 0.095</td>\n",
       "      <td>8.077 +/- 0.993</td>\n",
       "      <td>3.804 +/- 0.977</td>\n",
       "    </tr>\n",
       "    <tr>\n",
       "      <th>2</th>\n",
       "      <td>53_cora_imdb</td>\n",
       "      <td>2.819 +/- 4.157</td>\n",
       "      <td>10.700 +/- 5.478</td>\n",
       "      <td>3.769 +/- 0.721</td>\n",
       "    </tr>\n",
       "    <tr>\n",
       "      <th>3</th>\n",
       "      <td>15_yeast_twitter</td>\n",
       "      <td>6.115 +/- 0.371</td>\n",
       "      <td>114.712 +/- 47.800</td>\n",
       "      <td>114.099 +/- 1.769</td>\n",
       "    </tr>\n",
       "    <tr>\n",
       "      <th>4</th>\n",
       "      <td>22_twitter_yeast</td>\n",
       "      <td>4.144 +/- 1.247</td>\n",
       "      <td>60.986 +/- 47.321</td>\n",
       "      <td>9.677 +/- 2.332</td>\n",
       "    </tr>\n",
       "    <tr>\n",
       "      <th>5</th>\n",
       "      <td>37_nell_sports_nell_finances</td>\n",
       "      <td>17.959 +/- 13.438</td>\n",
       "      <td>142.102 +/- 20.253</td>\n",
       "      <td>16.223 +/- 4.794</td>\n",
       "    </tr>\n",
       "  </tbody>\n",
       "</table>\n",
       "</div>"
      ],
      "text/plain": [
       "                     Experiment  Transfer Learning  \\\n",
       "0                  1_imdb_uwcse    1.188 +/- 0.052   \n",
       "1                  2_uwcse_imdb    1.954 +/- 0.095   \n",
       "2                  53_cora_imdb    2.819 +/- 4.157   \n",
       "3              15_yeast_twitter    6.115 +/- 0.371   \n",
       "4              22_twitter_yeast    4.144 +/- 1.247   \n",
       "5  37_nell_sports_nell_finances  17.959 +/- 13.438   \n",
       "\n",
       "  Transfer Learning with Revision Theory Learning from scratch (MLN-B)  \n",
       "0                        9.524 +/- 0.620               4.190 +/- 1.381  \n",
       "1                        8.077 +/- 0.993               3.804 +/- 0.977  \n",
       "2                       10.700 +/- 5.478               3.769 +/- 0.721  \n",
       "3                     114.712 +/- 47.800             114.099 +/- 1.769  \n",
       "4                      60.986 +/- 47.321               9.677 +/- 2.332  \n",
       "5                     142.102 +/- 20.253              16.223 +/- 4.794  "
      ]
     },
     "metadata": {},
     "output_type": "display_data"
    },
    {
     "data": {
      "text/markdown": [
       "# Results for Inference time"
      ],
      "text/plain": [
       "<IPython.core.display.Markdown object>"
      ]
     },
     "metadata": {},
     "output_type": "display_data"
    },
    {
     "data": {
      "text/html": [
       "<div>\n",
       "<table border=\"1\" class=\"dataframe\">\n",
       "  <thead>\n",
       "    <tr style=\"text-align: right;\">\n",
       "      <th></th>\n",
       "      <th>Experiment</th>\n",
       "      <th>Transfer Learning</th>\n",
       "      <th>Transfer Learning with Revision Theory</th>\n",
       "      <th>Learning from scratch (MLN-B)</th>\n",
       "    </tr>\n",
       "  </thead>\n",
       "  <tbody>\n",
       "    <tr>\n",
       "      <th>0</th>\n",
       "      <td>1_imdb_uwcse</td>\n",
       "      <td>1.846 +/- 0.122</td>\n",
       "      <td>2.136 +/- 0.100</td>\n",
       "      <td>5.850 +/- 9.657</td>\n",
       "    </tr>\n",
       "    <tr>\n",
       "      <th>1</th>\n",
       "      <td>2_uwcse_imdb</td>\n",
       "      <td>3.667 +/- 0.574</td>\n",
       "      <td>3.134 +/- 0.450</td>\n",
       "      <td>5.948 +/- 5.963</td>\n",
       "    </tr>\n",
       "    <tr>\n",
       "      <th>2</th>\n",
       "      <td>53_cora_imdb</td>\n",
       "      <td>3.472 +/- 0.337</td>\n",
       "      <td>3.622 +/- 0.634</td>\n",
       "      <td>4.510 +/- 3.003</td>\n",
       "    </tr>\n",
       "    <tr>\n",
       "      <th>3</th>\n",
       "      <td>15_yeast_twitter</td>\n",
       "      <td>25.787 +/- 11.740</td>\n",
       "      <td>58.245 +/- 40.233</td>\n",
       "      <td>21.013 +/- 5.150</td>\n",
       "    </tr>\n",
       "    <tr>\n",
       "      <th>4</th>\n",
       "      <td>22_twitter_yeast</td>\n",
       "      <td>17.888 +/- 4.846</td>\n",
       "      <td>29.357 +/- 41.997</td>\n",
       "      <td>13.618 +/- 2.915</td>\n",
       "    </tr>\n",
       "    <tr>\n",
       "      <th>5</th>\n",
       "      <td>37_nell_sports_nell_finances</td>\n",
       "      <td>105.171 +/- 35.136</td>\n",
       "      <td>101.908 +/- 40.023</td>\n",
       "      <td>256.939 +/- 515.308</td>\n",
       "    </tr>\n",
       "  </tbody>\n",
       "</table>\n",
       "</div>"
      ],
      "text/plain": [
       "                     Experiment   Transfer Learning  \\\n",
       "0                  1_imdb_uwcse     1.846 +/- 0.122   \n",
       "1                  2_uwcse_imdb     3.667 +/- 0.574   \n",
       "2                  53_cora_imdb     3.472 +/- 0.337   \n",
       "3              15_yeast_twitter   25.787 +/- 11.740   \n",
       "4              22_twitter_yeast    17.888 +/- 4.846   \n",
       "5  37_nell_sports_nell_finances  105.171 +/- 35.136   \n",
       "\n",
       "  Transfer Learning with Revision Theory Learning from scratch (MLN-B)  \n",
       "0                        2.136 +/- 0.100               5.850 +/- 9.657  \n",
       "1                        3.134 +/- 0.450               5.948 +/- 5.963  \n",
       "2                        3.622 +/- 0.634               4.510 +/- 3.003  \n",
       "3                      58.245 +/- 40.233              21.013 +/- 5.150  \n",
       "4                      29.357 +/- 41.997              13.618 +/- 2.915  \n",
       "5                     101.908 +/- 40.023           256.939 +/- 515.308  "
      ]
     },
     "metadata": {},
     "output_type": "display_data"
    }
   ],
   "source": [
    "experiments = [\n",
    "            {'id': '1', 'source':'imdb', 'target':'uwcse', 'predicate':'workedunder', 'to_predicate':'advisedby'},\n",
    "            {'id': '2', 'source':'uwcse', 'target':'imdb', 'predicate':'advisedby', 'to_predicate':'workedunder'},\n",
    "            {'id': '3', 'source':'imdb', 'target':'uwcse', 'predicate':'movie', 'to_predicate':'publication'},\n",
    "            {'id': '4', 'source':'uwcse', 'target':'imdb', 'predicate':'publication', 'to_predicate':'movie'},\n",
    "            {'id': '5', 'source':'imdb', 'target':'uwcse', 'predicate':'genre', 'to_predicate':'inphase'},\n",
    "            {'id': '6', 'source':'uwcse', 'target':'imdb', 'predicate':'inphase', 'to_predicate':'genre'},\n",
    "            #{'id': '7', 'source':'imdb', 'target':'cora', 'predicate':'workedunder', 'to_predicate':'samevenue'},\n",
    "            {'id': '53', 'source':'cora', 'target':'imdb', 'predicate':'samevenue', 'to_predicate':'workedunder'},\n",
    "            {'id': '8', 'source':'imdb', 'target':'cora', 'predicate':'workedunder', 'to_predicate':'samebib'},\n",
    "            {'id': '9', 'source':'imdb', 'target':'cora', 'predicate':'workedunder', 'to_predicate':'sameauthor'},\n",
    "            {'id': '10', 'source':'imdb', 'target':'cora', 'predicate':'workedunder', 'to_predicate':'sametitle'},\n",
    "            {'id': '11', 'source':'uwcse', 'target':'cora', 'predicate':'advisedby', 'to_predicate':'samevenue'},\n",
    "            {'id': '12', 'source':'uwcse', 'target':'cora', 'predicate':'advisedby', 'to_predicate':'samebib'},\n",
    "            {'id': '13', 'source':'uwcse', 'target':'cora', 'predicate':'advisedby', 'to_predicate':'sameauthor'},\n",
    "            {'id': '14', 'source':'uwcse', 'target':'cora', 'predicate':'advisedby', 'to_predicate':'sametitle'},\n",
    "            {'id': '15', 'source':'yeast', 'target':'twitter', 'predicate':'proteinclass', 'to_predicate':'accounttype'},\n",
    "            {'id': '16', 'source':'yeast', 'target':'twitter', 'predicate':'interaction', 'to_predicate':'follows'},\n",
    "            {'id': '17', 'source':'yeast', 'target':'twitter', 'predicate':'location', 'to_predicate':'tweets'},\n",
    "            {'id': '18', 'source':'yeast', 'target':'twitter', 'predicate':'enzyme', 'to_predicate':'tweets'},\n",
    "            {'id': '19', 'source':'yeast', 'target':'twitter', 'predicate':'function', 'to_predicate':'tweets'},\n",
    "            {'id': '20', 'source':'yeast', 'target':'twitter', 'predicate':'phenotype', 'to_predicate':'tweets'},\n",
    "            {'id': '21', 'source':'yeast', 'target':'twitter', 'predicate':'complex', 'to_predicate':'tweets'},\n",
    "            {'id': '22', 'source':'twitter', 'target':'yeast', 'predicate':'accounttype', 'to_predicate':'proteinclass'},\n",
    "            {'id': '23', 'source':'twitter', 'target':'yeast', 'predicate':'follows', 'to_predicate':'interaction'},\n",
    "            {'id': '24', 'source':'twitter', 'target':'yeast', 'predicate':'tweets', 'to_predicate':'location'},\n",
    "            {'id': '25', 'source':'twitter', 'target':'yeast', 'predicate':'tweets', 'to_predicate':'enzyme'},\n",
    "            {'id': '26', 'source':'twitter', 'target':'yeast', 'predicate':'tweets', 'to_predicate':'function'},\n",
    "            {'id': '27', 'source':'twitter', 'target':'yeast', 'predicate':'tweets', 'to_predicate':'phenotype'},\n",
    "            {'id': '28', 'source':'twitter', 'target':'yeast', 'predicate':'tweets', 'to_predicate':'complex'},\n",
    "            {'id': '29', 'source':'nell_sports', 'target':'nell_finances', 'predicate':'teamalsoknownas', 'to_predicate':'companyalsoknownas'},\n",
    "            {'id': '30', 'source':'nell_sports', 'target':'nell_finances', 'predicate':'teamplaysagainstteam', 'to_predicate':'companyalsoknownas'},\n",
    "            {'id': '31', 'source':'nell_sports', 'target':'nell_finances', 'predicate':'teamplaysagainstteam', 'to_predicate':'acquired'},\n",
    "            {'id': '32', 'source':'nell_sports', 'target':'nell_finances', 'predicate':'teamplaysagainstteam', 'to_predicate':'bankboughtbank'},\n",
    "            {'id': '33', 'source':'nell_sports', 'target':'nell_finances', 'predicate':'athleteplayssport', 'to_predicate':'companyceo'},\n",
    "            {'id': '34', 'source':'nell_sports', 'target':'nell_finances', 'predicate':'athleteplayssport', 'to_predicate':'bankchiefexecutiveceo'},\n",
    "            {'id': '35', 'source':'nell_sports', 'target':'nell_finances', 'predicate':'athleteplaysforteam', 'to_predicate':'bankchiefexecutiveceo'},\n",
    "            {'id': '36', 'source':'nell_sports', 'target':'nell_finances', 'predicate':'athleteplaysforteam', 'to_predicate':'companyceo'},\n",
    "            {'id': '37', 'source':'nell_sports', 'target':'nell_finances', 'predicate':'teamplayssport', 'to_predicate':'companyeconomicsector'},\n",
    "            {'id': '38', 'source':'nell_finances', 'target':'nell_sports', 'predicate':'companyalsoknownas', 'to_predicate':'teamalsoknownas'},\n",
    "            {'id': '39', 'source':'nell_finances', 'target':'nell_sports', 'predicate':'companyalsoknownas', 'to_predicate':'teamplaysagainstteam'},\n",
    "            {'id': '40', 'source':'nell_finances', 'target':'nell_sports', 'predicate':'acquired', 'to_predicate':'teamplaysagainstteam'},\n",
    "            {'id': '41', 'source':'nell_finances', 'target':'nell_sports', 'predicate':'bankboughtbank', 'to_predicate':'teamplaysagainstteam'},\n",
    "            {'id': '42', 'source':'nell_finances', 'target':'nell_sports', 'predicate':'companyceo', 'to_predicate':'athleteplayssport'},\n",
    "            {'id': '43', 'source':'nell_finances', 'target':'nell_sports', 'predicate':'bankchiefexecutiveceo', 'to_predicate':'athleteplayssport'},\n",
    "            {'id': '44', 'source':'nell_finances', 'target':'nell_sports', 'predicate':'bankchiefexecutiveceo', 'to_predicate':'athleteplaysforteam'},\n",
    "            {'id': '45', 'source':'nell_finances', 'target':'nell_sports', 'predicate':'companyceo', 'to_predicate':'athleteplaysforteam'},\n",
    "            #{'id': '46', 'source':'nell_finances', 'target':'nell_sports', 'predicate':'companyeconomicsector', 'to_predicate':'teamplayssport'},\n",
    "            {'id': '47', 'source':'yeast', 'target':'facebook', 'predicate':'interaction', 'to_predicate':'edge'},\n",
    "            {'id': '48', 'source':'twitter', 'target':'facebook', 'predicate':'follows', 'to_predicate':'edge'},\n",
    "            {'id': '49', 'source':'imdb', 'target':'facebook', 'predicate':'workedunder', 'to_predicate':'edge'},\n",
    "            {'id': '50', 'source':'uwcse', 'target':'facebook', 'predicate':'advisedby', 'to_predicate':'edge'},\n",
    "]\n",
    "\n",
    "data = load_data(experiments)\n",
    "data_mln = load_data_mln(experiments)\n",
    "\n",
    "for metric in ['AUC ROC', 'AUC PR', 'CLL', 'Recall', 'F1', 'Precision', 'Learning and Revision time', 'Inference time']:\n",
    "    display(Markdown('# Results for ' + metric))\n",
    "    table = []\n",
    "    for j in range(len(experiments)):\n",
    "        dataset = experiments[j]['id'] + '_' + experiments[j]['source'] + '_' + experiments[j]['target']\n",
    "        if dataset in data['results']: \n",
    "            #for metric in ['AUC ROC', 'AUC PR']:\n",
    "                #display(Markdown('## ' + metric))\n",
    "            mapping_time = ''\n",
    "            if metric == 'Precision':\n",
    "                scratch = np.array([(np.array([item['mln_b']['Precision'][0] for item in sublist])).mean() for sublist in data_mln['results'][str(dataset)]])\n",
    "                scratch_rdn = np.array([(np.array([item['rdn']['Precision'][0] for item in sublist])).mean() for sublist in data['results'][str(dataset)]])\n",
    "                parameter = np.array([(np.array([item['transfer']['parameter']['Precision'][0] for item in sublist])).mean() for sublist in data['results'][str(dataset)]])\n",
    "                transfer = np.array([(np.array([item['transfer']['Precision'][0] for item in sublist])).mean() for sublist in data['results'][str(dataset)]])\n",
    "            elif metric == 'Learning and Revision time':\n",
    "                scratch = np.array([(np.array([item['mln_b']['Learning time'] for item in sublist])).mean() for sublist in data_mln['results'][str(dataset)]])\n",
    "                scratch_rdn = np.array([(np.array([item['rdn']['Learning time'] for item in sublist])).mean() for sublist in data['results'][str(dataset)]])\n",
    "                parameter = np.array([(np.array([item['transfer']['parameter']['Learning time'] for item in sublist])).mean() for sublist in data['results'][str(dataset)]])\n",
    "                transfer = np.array([(np.array([item['transfer']['Learning time'] for item in sublist])).mean() for sublist in data['results'][str(dataset)]])\n",
    "                #mapping = np.array([(np.array([item['transfer']['Mapping results']['Total time'] for item in sublist])).mean() for sublist in data['results'][str(dataset)]])\n",
    "                #mapping_time = ' (%.1f)' % mapping.mean()\n",
    "            elif metric == 'Inference time':\n",
    "                scratch = np.array([(np.array([item['mln_b']['Inference time'] for item in sublist])).mean() for sublist in data_mln['results'][str(dataset)]])\n",
    "                scratch_rdn = np.array([(np.array([item['rdn']['Inference time'] for item in sublist])).mean() for sublist in data['results'][str(dataset)]])\n",
    "                parameter = np.array([(np.array([item['transfer']['parameter']['Inference time'] for item in sublist])).mean() for sublist in data['results'][str(dataset)]])\n",
    "                transfer = np.array([(np.array([item['transfer']['Inference time'] for item in sublist])).mean() for sublist in data['results'][str(dataset)]])\n",
    "            else:\n",
    "                scratch = np.array([(np.array([item['mln_b'][metric] for item in sublist])).mean() for sublist in data_mln['results'][str(dataset)]])\n",
    "                scratch_rdn = np.array([(np.array([item['rdn'][metric] for item in sublist])).mean() for sublist in data['results'][str(dataset)]])\n",
    "                parameter = np.array([(np.array([item['transfer']['parameter'][metric] for item in sublist])).mean() for sublist in data['results'][str(dataset)]])\n",
    "                transfer = np.array([(np.array([item['transfer'][metric] for item in sublist])).mean() for sublist in data['results'][str(dataset)]])\n",
    "            table.append([dataset, '%.3f +/- %.3f' % (parameter.mean(), 2 * parameter.std()),\n",
    "            '%.3f +/- %.3f' % (transfer.mean(), 2 * transfer.std()),\n",
    "            '%.3f +/- %.3f' % (scratch.mean(), 2 * scratch.std())\n",
    "            ])\n",
    "                          #])\n",
    "    display(pd.DataFrame(table, columns=['Experiment', 'Transfer Learning', 'Transfer Learning with Revision Theory', 'Learning from scratch (MLN-B)']))\n",
    "    #display(pd.DataFrame(table, columns=['Experiment', 'Transfer Learning', 'Transfer Learning with Revision Theory']))"
   ]
  },
  {
   "cell_type": "code",
   "execution_count": 7,
   "metadata": {
    "collapsed": false
   },
   "outputs": [
    {
     "data": {
      "text/markdown": [
       "# Results in TODTLER for AUC ROC"
      ],
      "text/plain": [
       "<IPython.core.display.Markdown object>"
      ]
     },
     "metadata": {},
     "output_type": "display_data"
    },
    {
     "data": {
      "text/markdown": [
       "# Results in TODTLER for AUC PR"
      ],
      "text/plain": [
       "<IPython.core.display.Markdown object>"
      ]
     },
     "metadata": {},
     "output_type": "display_data"
    },
    {
     "data": {
      "text/markdown": [
       "# Results in TODTLER for CLL"
      ],
      "text/plain": [
       "<IPython.core.display.Markdown object>"
      ]
     },
     "metadata": {},
     "output_type": "display_data"
    }
   ],
   "source": [
    "import os\n",
    "\n",
    "path = '../transfer_experiment/todtler_scored/'\n",
    "\n",
    "todtler_results = {}\n",
    "for metric in ['AUC ROC', 'AUC PR', 'CLL']:\n",
    "    display(Markdown('# Results in TODTLER for ' + metric))\n",
    "    table = []\n",
    "    for j in range(len(experiments)):\n",
    "        dataset = experiments[j]['id'] + '_' + experiments[j]['source'] + '_' + experiments[j]['target']\n",
    "        if os.path.isfile(path + dataset + '.json'):\n",
    "            with open(path + dataset + '.json', 'r') as fp:\n",
    "                get_results = json.load(fp)\n",
    "                todtler_results[dataset] = get_results"
   ]
  },
  {
   "cell_type": "code",
   "execution_count": 10,
   "metadata": {
    "collapsed": false,
    "scrolled": false
   },
   "outputs": [
    {
     "data": {
      "text/markdown": [
       "# Results for 1_imdb_uwcse"
      ],
      "text/plain": [
       "<IPython.core.display.Markdown object>"
      ]
     },
     "metadata": {},
     "output_type": "display_data"
    },
    {
     "data": {
      "text/markdown": [
       "## AUC ROC"
      ],
      "text/plain": [
       "<IPython.core.display.Markdown object>"
      ]
     },
     "metadata": {},
     "output_type": "display_data"
    },
    {
     "data": {
      "text/html": [
       "<div>\n",
       "<table border=\"1\" class=\"dataframe\">\n",
       "  <thead>\n",
       "    <tr style=\"text-align: right;\">\n",
       "      <th></th>\n",
       "      <th>p-value</th>\n",
       "      <th>MLN-B</th>\n",
       "      <th>RDN</th>\n",
       "      <th>TODTLER</th>\n",
       "    </tr>\n",
       "  </thead>\n",
       "  <tbody>\n",
       "    <tr>\n",
       "      <th>0</th>\n",
       "      <td>TreeBoostler</td>\n",
       "      <td>0.040</td>\n",
       "      <td>0.037</td>\n",
       "      <td>0.000</td>\n",
       "    </tr>\n",
       "    <tr>\n",
       "      <th>1</th>\n",
       "      <td>TreeBoostler*</td>\n",
       "      <td>0.105</td>\n",
       "      <td>0.209</td>\n",
       "      <td>0.000</td>\n",
       "    </tr>\n",
       "  </tbody>\n",
       "</table>\n",
       "</div>"
      ],
      "text/plain": [
       "         p-value  MLN-B    RDN TODTLER\n",
       "0   TreeBoostler  0.040  0.037   0.000\n",
       "1  TreeBoostler*  0.105  0.209   0.000"
      ]
     },
     "metadata": {},
     "output_type": "display_data"
    },
    {
     "name": "stdout",
     "output_type": "stream",
     "text": [
      "Experiment 1\n",
      "Scratch MLN-B: [0.908485, 0.915571, 0.869704, 0.924414, 0.918005]\n",
      "Scratch RDN: [0.94944, 0.933575, 0.908355, 0.947766, 0.902018]\n",
      "TODTLER: [ 0.65067074  0.61530949  0.51312592  0.54518043  0.52628121]\n",
      "Transfer: [0.935982, 0.932863, 0.904213, 0.936897, 0.937621]\n",
      "Transfer & Revision: [0.953385, 0.944094, 0.904213, 0.948374, 0.951112]\n",
      "\n",
      "\n",
      "Experiment 2\n",
      "Scratch MLN-B: [0.944396, 0.916895, 0.874426, 0.937546, 0.917662]\n",
      "Scratch RDN: [0.936732, 0.930447, 0.904039, 0.953888, 0.90843]\n",
      "TODTLER: [ 0.65067074  0.61530949  0.51312592  0.54518043  0.52628121]\n",
      "Transfer: [0.935982, 0.932863, 0.904213, 0.936897, 0.937621]\n",
      "Transfer & Revision: [0.949536, 0.942017, 0.907846, 0.951339, 0.952275]\n",
      "\n",
      "\n",
      "Experiment 3\n",
      "Scratch MLN-B: [0.923015, 0.885595, 0.882279, 0.919814, 0.91892]\n",
      "Scratch RDN: [0.95392, 0.898546, 0.867506, 0.939514, 0.911397]\n",
      "TODTLER: [ 0.65067074  0.61530949  0.51312592  0.54518043  0.52628121]\n",
      "Transfer: [0.935982, 0.932863, 0.904213, 0.936897, 0.937621]\n",
      "Transfer & Revision: [0.95073, 0.943548, 0.903786, 0.936897, 0.953927]\n",
      "\n",
      "\n",
      "Experiment 4\n",
      "Scratch MLN-B: [0.914227, 0.887606, 0.5, 0.917491, 0.912134]\n",
      "Scratch RDN: [0.932278, 0.948512, 0.865033, 0.933457, 0.91385]\n",
      "TODTLER: [ 0.65067074  0.61530949  0.51312592  0.54518043  0.52628121]\n",
      "Transfer: [0.935982, 0.932863, 0.904213, 0.936897, 0.937621]\n",
      "Transfer & Revision: [0.941855, 0.945241, 0.90564, 0.943815, 0.951509]\n",
      "\n",
      "\n",
      "Experiment 5\n",
      "Scratch MLN-B: [0.927682, 0.909412, 0.860969, 0.91883, 0.908652]\n",
      "Scratch RDN: [0.929988, 0.909293, 0.830237, 0.936648, 0.904919]\n",
      "TODTLER: [ 0.65067074  0.61530949  0.51312592  0.54518043  0.52628121]\n",
      "Transfer: [0.935982, 0.932863, 0.904213, 0.936897, 0.937621]\n",
      "Transfer & Revision: [0.954313, 0.945306, 0.90667, 0.952159, 0.944616]\n",
      "\n",
      "\n"
     ]
    },
    {
     "data": {
      "text/markdown": [
       "## AUC PR"
      ],
      "text/plain": [
       "<IPython.core.display.Markdown object>"
      ]
     },
     "metadata": {},
     "output_type": "display_data"
    },
    {
     "data": {
      "text/html": [
       "<div>\n",
       "<table border=\"1\" class=\"dataframe\">\n",
       "  <thead>\n",
       "    <tr style=\"text-align: right;\">\n",
       "      <th></th>\n",
       "      <th>p-value</th>\n",
       "      <th>MLN-B</th>\n",
       "      <th>RDN</th>\n",
       "      <th>TODTLER</th>\n",
       "    </tr>\n",
       "  </thead>\n",
       "  <tbody>\n",
       "    <tr>\n",
       "      <th>0</th>\n",
       "      <td>TreeBoostler</td>\n",
       "      <td>0.009</td>\n",
       "      <td>0.281</td>\n",
       "      <td>0.007</td>\n",
       "    </tr>\n",
       "    <tr>\n",
       "      <th>1</th>\n",
       "      <td>TreeBoostler*</td>\n",
       "      <td>0.005</td>\n",
       "      <td>0.293</td>\n",
       "      <td>0.004</td>\n",
       "    </tr>\n",
       "  </tbody>\n",
       "</table>\n",
       "</div>"
      ],
      "text/plain": [
       "         p-value  MLN-B    RDN TODTLER\n",
       "0   TreeBoostler  0.009  0.281   0.007\n",
       "1  TreeBoostler*  0.005  0.293   0.004"
      ]
     },
     "metadata": {},
     "output_type": "display_data"
    },
    {
     "name": "stdout",
     "output_type": "stream",
     "text": [
      "Experiment 1\n",
      "Scratch MLN-B: [0.170844, 0.129017, 0.082963, 0.163866, 0.136943]\n",
      "Scratch RDN: [0.390172, 0.164422, 0.12889, 0.39089, 0.115896]\n",
      "TODTLER: [ 0.05955477  0.03669303  0.02634277  0.03362892  0.02672021]\n",
      "Transfer: [0.358428, 0.29479, 0.119816, 0.369816, 0.323785]\n",
      "Transfer & Revision: [0.41419, 0.231977, 0.119816, 0.418573, 0.35434]\n",
      "\n",
      "\n",
      "Experiment 2\n",
      "Scratch MLN-B: [0.300455, 0.129795, 0.090383, 0.309521, 0.134171]\n",
      "Scratch RDN: [0.337268, 0.173207, 0.119542, 0.406837, 0.124771]\n",
      "TODTLER: [ 0.05955477  0.03669303  0.02634277  0.03362892  0.02672021]\n",
      "Transfer: [0.358428, 0.29479, 0.119816, 0.369816, 0.323785]\n",
      "Transfer & Revision: [0.347208, 0.197566, 0.125425, 0.445505, 0.353739]\n",
      "\n",
      "\n",
      "Experiment 3\n",
      "Scratch MLN-B: [0.232952, 0.089783, 0.091555, 0.155695, 0.169358]\n",
      "Scratch RDN: [0.434104, 0.106884, 0.093301, 0.345333, 0.134481]\n",
      "TODTLER: [ 0.05955477  0.03669303  0.02634277  0.03362892  0.02672021]\n",
      "Transfer: [0.358428, 0.29479, 0.119816, 0.369816, 0.323785]\n",
      "Transfer & Revision: [0.363152, 0.298639, 0.116557, 0.369816, 0.357761]\n",
      "\n",
      "\n",
      "Experiment 4\n",
      "Scratch MLN-B: [0.171402, 0.090906, 0.025415, 0.182002, 0.142068]\n",
      "Scratch RDN: [0.424727, 0.327274, 0.103878, 0.366843, 0.131388]\n",
      "TODTLER: [ 0.05955477  0.03669303  0.02634277  0.03362892  0.02672021]\n",
      "Transfer: [0.358428, 0.29479, 0.119816, 0.369816, 0.323785]\n",
      "Transfer & Revision: [0.330827, 0.218023, 0.118786, 0.352979, 0.354677]\n",
      "\n",
      "\n",
      "Experiment 5\n",
      "Scratch MLN-B: [0.291975, 0.151205, 0.078348, 0.152557, 0.136985]\n",
      "Scratch RDN: [0.386581, 0.324898, 0.068876, 0.361777, 0.120766]\n",
      "TODTLER: [ 0.05955477  0.03669303  0.02634277  0.03362892  0.02672021]\n",
      "Transfer: [0.358428, 0.29479, 0.119816, 0.369816, 0.323785]\n",
      "Transfer & Revision: [0.431854, 0.231888, 0.120486, 0.430343, 0.338445]\n",
      "\n",
      "\n"
     ]
    },
    {
     "data": {
      "text/markdown": [
       "## CLL"
      ],
      "text/plain": [
       "<IPython.core.display.Markdown object>"
      ]
     },
     "metadata": {},
     "output_type": "display_data"
    },
    {
     "data": {
      "text/html": [
       "<div>\n",
       "<table border=\"1\" class=\"dataframe\">\n",
       "  <thead>\n",
       "    <tr style=\"text-align: right;\">\n",
       "      <th></th>\n",
       "      <th>p-value</th>\n",
       "      <th>MLN-B</th>\n",
       "      <th>RDN</th>\n",
       "      <th>TODTLER</th>\n",
       "    </tr>\n",
       "  </thead>\n",
       "  <tbody>\n",
       "    <tr>\n",
       "      <th>0</th>\n",
       "      <td>TreeBoostler</td>\n",
       "      <td>0.201</td>\n",
       "      <td>0.089</td>\n",
       "      <td>0.005</td>\n",
       "    </tr>\n",
       "    <tr>\n",
       "      <th>1</th>\n",
       "      <td>TreeBoostler*</td>\n",
       "      <td>0.219</td>\n",
       "      <td>0.022</td>\n",
       "      <td>0.005</td>\n",
       "    </tr>\n",
       "  </tbody>\n",
       "</table>\n",
       "</div>"
      ],
      "text/plain": [
       "         p-value  MLN-B    RDN TODTLER\n",
       "0   TreeBoostler  0.201  0.089   0.005\n",
       "1  TreeBoostler*  0.219  0.022   0.005"
      ]
     },
     "metadata": {},
     "output_type": "display_data"
    },
    {
     "name": "stdout",
     "output_type": "stream",
     "text": [
      "Experiment 1\n",
      "Scratch MLN-B: [-0.322243, -0.441574, -3.280039, -0.340629, -0.352253]\n",
      "Scratch RDN: [-0.193431, -0.187056, -0.193648, -0.192123, -0.195196]\n",
      "TODTLER: [-1.61040952 -2.96772613 -4.87916415 -4.69145833 -4.34869749]\n",
      "Transfer: [-0.241101, -0.249351, -0.31985, -0.242826, -0.259763]\n",
      "Transfer & Revision: [-0.178768, -0.249313, -0.31985, -0.229173, -0.211615]\n",
      "\n",
      "\n",
      "Experiment 2\n",
      "Scratch MLN-B: [-0.309418, -0.414581, -1.157457, -0.287698, -0.531876]\n",
      "Scratch RDN: [-0.19762, -0.187356, -0.194508, -0.19165, -0.195145]\n",
      "TODTLER: [-1.61040952 -2.96772613 -4.87916415 -4.69145833 -4.34869749]\n",
      "Transfer: [-0.225732, -0.248999, -0.350157, -0.231466, -0.227192]\n",
      "Transfer & Revision: [-0.200816, -0.253029, -0.316614, -0.214565, -0.204643]\n",
      "\n",
      "\n",
      "Experiment 3\n",
      "Scratch MLN-B: [-0.291577, -0.771704, -0.313962, -0.348756, -0.414357]\n",
      "Scratch RDN: [-0.194161, -0.195303, -0.206813, -0.193902, -0.191015]\n",
      "TODTLER: [-1.61040952 -2.96772613 -4.87916415 -4.69145833 -4.34869749]\n",
      "Transfer: [-0.213054, -0.233467, -0.334931, -0.226251, -0.243934]\n",
      "Transfer & Revision: [-0.19511, -0.233729, -0.337524, -0.226251, -0.183771]\n",
      "\n",
      "\n",
      "Experiment 4\n",
      "Scratch MLN-B: [-0.306141, -0.364428, -0.358684, -0.320363, -0.393318]\n",
      "Scratch RDN: [-0.192979, -0.185599, -0.208311, -0.198979, -0.194738]\n",
      "TODTLER: [-1.61040952 -2.96772613 -4.87916415 -4.69145833 -4.34869749]\n",
      "Transfer: [-0.226297, -0.24416, -0.330918, -0.245625, -0.273362]\n",
      "Transfer & Revision: [-0.218685, -0.234964, -0.349677, -0.226862, -0.208616]\n",
      "\n",
      "\n",
      "Experiment 5\n",
      "Scratch MLN-B: [-0.300786, -0.315755, -4.92408, -0.344209, -0.48032]\n",
      "Scratch RDN: [-0.195334, -0.180625, -0.215706, -0.194061, -0.190417]\n",
      "TODTLER: [-1.61040952 -2.96772613 -4.87916415 -4.69145833 -4.34869749]\n",
      "Transfer: [-0.248671, -0.276196, -0.373463, -0.234668, -0.243443]\n",
      "Transfer & Revision: [-0.210756, -0.246992, -0.298247, -0.245279, -0.224022]\n",
      "\n",
      "\n"
     ]
    },
    {
     "data": {
      "text/markdown": [
       "# Results for 2_uwcse_imdb"
      ],
      "text/plain": [
       "<IPython.core.display.Markdown object>"
      ]
     },
     "metadata": {},
     "output_type": "display_data"
    },
    {
     "data": {
      "text/markdown": [
       "## AUC ROC"
      ],
      "text/plain": [
       "<IPython.core.display.Markdown object>"
      ]
     },
     "metadata": {},
     "output_type": "display_data"
    },
    {
     "data": {
      "text/html": [
       "<div>\n",
       "<table border=\"1\" class=\"dataframe\">\n",
       "  <thead>\n",
       "    <tr style=\"text-align: right;\">\n",
       "      <th></th>\n",
       "      <th>p-value</th>\n",
       "      <th>MLN-B</th>\n",
       "      <th>RDN</th>\n",
       "      <th>TODTLER</th>\n",
       "    </tr>\n",
       "  </thead>\n",
       "  <tbody>\n",
       "    <tr>\n",
       "      <th>0</th>\n",
       "      <td>TreeBoostler</td>\n",
       "      <td>0.022</td>\n",
       "      <td>0.091</td>\n",
       "      <td>0.199</td>\n",
       "    </tr>\n",
       "    <tr>\n",
       "      <th>1</th>\n",
       "      <td>TreeBoostler*</td>\n",
       "      <td>0.030</td>\n",
       "      <td>0.110</td>\n",
       "      <td>0.203</td>\n",
       "    </tr>\n",
       "  </tbody>\n",
       "</table>\n",
       "</div>"
      ],
      "text/plain": [
       "         p-value  MLN-B    RDN TODTLER\n",
       "0   TreeBoostler  0.022  0.091   0.199\n",
       "1  TreeBoostler*  0.030  0.110   0.203"
      ]
     },
     "metadata": {},
     "output_type": "display_data"
    },
    {
     "name": "stdout",
     "output_type": "stream",
     "text": [
      "Experiment 1\n",
      "Scratch MLN-B: [0.999954, 0.999817, 0.999817, 0.990714, 0.995518]\n",
      "Scratch RDN: [0.994647, 0.994636, 1.0, 0.961373, 0.995191]\n",
      "TODTLER: [ 0.95547544  0.9913393   0.92396368  0.99173045  0.66324329]\n",
      "Transfer: [0.994618, 0.994586, 1.0, 0.995441, 1.0]\n",
      "Transfer & Revision: [1.0, 1.0, 1.0, 1.0, 1.0]\n",
      "\n",
      "\n",
      "Experiment 2\n",
      "Scratch MLN-B: [0.999934, 0.999844, 0.999725, 0.981963, 0.999919]\n",
      "Scratch RDN: [1.0, 0.994636, 1.0, 0.995302, 0.959638]\n",
      "TODTLER: [ 0.95547544  0.9913393   0.92396368  0.99173045  0.66324329]\n",
      "Transfer: [1.0, 1.0, 1.0, 1.0, 1.0]\n",
      "Transfer & Revision: [1.0, 1.0, 1.0, 1.0, 1.0]\n",
      "\n",
      "\n",
      "Experiment 3\n",
      "Scratch MLN-B: [0.999915, 0.999817, 0.999725, 0.999638, 0.991118]\n",
      "Scratch RDN: [1.0, 0.994636, 1.0, 1.0, 0.959638]\n",
      "TODTLER: [ 0.95547544  0.9913393   0.92396368  0.99173045  0.66324329]\n",
      "Transfer: [1.0, 1.0, 1.0, 1.0, 1.0]\n",
      "Transfer & Revision: [1.0, 1.0, 1.0, 1.0, 1.0]\n",
      "\n",
      "\n",
      "Experiment 4\n",
      "Scratch MLN-B: [0.995009, 0.989403, 0.999817, 0.99984, 1.0]\n",
      "Scratch RDN: [0.994647, 0.994636, 1.0, 1.0, 0.995191]\n",
      "TODTLER: [ 0.95547544  0.9913393   0.92396368  0.99173045  0.66324329]\n",
      "Transfer: [1.0, 1.0, 1.0, 1.0, 1.0]\n",
      "Transfer & Revision: [1.0, 1.0, 1.0, 1.0, 1.0]\n",
      "\n",
      "\n",
      "Experiment 5\n",
      "Scratch MLN-B: [0.990078, 0.980791, 0.999725, 0.99984, 0.981859]\n",
      "Scratch RDN: [0.994647, 1.0, 1.0, 0.946983, 0.995191]\n",
      "TODTLER: [ 0.95547544  0.9913393   0.92396368  0.99173045  0.66324329]\n",
      "Transfer: [1.0, 1.0, 1.0, 1.0, 1.0]\n",
      "Transfer & Revision: [1.0, 1.0, 1.0, 1.0, 1.0]\n",
      "\n",
      "\n"
     ]
    },
    {
     "data": {
      "text/markdown": [
       "## AUC PR"
      ],
      "text/plain": [
       "<IPython.core.display.Markdown object>"
      ]
     },
     "metadata": {},
     "output_type": "display_data"
    },
    {
     "data": {
      "text/html": [
       "<div>\n",
       "<table border=\"1\" class=\"dataframe\">\n",
       "  <thead>\n",
       "    <tr style=\"text-align: right;\">\n",
       "      <th></th>\n",
       "      <th>p-value</th>\n",
       "      <th>MLN-B</th>\n",
       "      <th>RDN</th>\n",
       "      <th>TODTLER</th>\n",
       "    </tr>\n",
       "  </thead>\n",
       "  <tbody>\n",
       "    <tr>\n",
       "      <th>0</th>\n",
       "      <td>TreeBoostler</td>\n",
       "      <td>0.011</td>\n",
       "      <td>0.040</td>\n",
       "      <td>0.042</td>\n",
       "    </tr>\n",
       "    <tr>\n",
       "      <th>1</th>\n",
       "      <td>TreeBoostler*</td>\n",
       "      <td>0.012</td>\n",
       "      <td>0.045</td>\n",
       "      <td>0.047</td>\n",
       "    </tr>\n",
       "  </tbody>\n",
       "</table>\n",
       "</div>"
      ],
      "text/plain": [
       "         p-value  MLN-B    RDN TODTLER\n",
       "0   TreeBoostler  0.011  0.040   0.042\n",
       "1  TreeBoostler*  0.012  0.045   0.047"
      ]
     },
     "metadata": {},
     "output_type": "display_data"
    },
    {
     "name": "stdout",
     "output_type": "stream",
     "text": [
      "Experiment 1\n",
      "Scratch MLN-B: [0.996942, 0.975324, 0.96531, 0.538788, 0.780552]\n",
      "Scratch RDN: [0.735892, 0.736364, 1.0, 0.260909, 0.742291]\n",
      "TODTLER: [ 0.45116296  0.78898734  0.75882839  0.79885772  0.03846788]\n",
      "Transfer: [0.915081, 0.91472, 1.0, 0.91966, 1.0]\n",
      "Transfer & Revision: [1.0, 1.0, 1.0, 1.0, 1.0]\n",
      "\n",
      "\n",
      "Experiment 2\n",
      "Scratch MLN-B: [0.995185, 0.988669, 0.950169, 0.389869, 0.987487]\n",
      "Scratch RDN: [1.0, 0.736364, 1.0, 0.743929, 0.255497]\n",
      "TODTLER: [ 0.45116296  0.78898734  0.75882839  0.79885772  0.03846788]\n",
      "Transfer: [1.0, 1.0, 1.0, 1.0, 1.0]\n",
      "Transfer & Revision: [1.0, 1.0, 1.0, 1.0, 1.0]\n",
      "\n",
      "\n",
      "Experiment 3\n",
      "Scratch MLN-B: [0.992113, 0.975324, 0.950169, 0.969632, 0.591529]\n",
      "Scratch RDN: [1.0, 0.736364, 1.0, 1.0, 0.255497]\n",
      "TODTLER: [ 0.45116296  0.78898734  0.75882839  0.79885772  0.03846788]\n",
      "Transfer: [1.0, 1.0, 1.0, 1.0, 1.0]\n",
      "Transfer & Revision: [1.0, 1.0, 1.0, 1.0, 1.0]\n",
      "\n",
      "\n",
      "Experiment 4\n",
      "Scratch MLN-B: [0.774767, 0.530707, 0.96531, 0.976044, 1.0]\n",
      "Scratch RDN: [0.735892, 0.736364, 1.0, 1.0, 0.742291]\n",
      "TODTLER: [ 0.45116296  0.78898734  0.75882839  0.79885772  0.03846788]\n",
      "Transfer: [1.0, 1.0, 1.0, 1.0, 1.0]\n",
      "Transfer & Revision: [1.0, 1.0, 1.0, 1.0, 1.0]\n",
      "\n",
      "\n",
      "Experiment 5\n",
      "Scratch MLN-B: [0.586187, 0.396216, 0.950169, 0.976044, 0.391763]\n",
      "Scratch RDN: [0.735892, 1.0, 1.0, 0.204739, 0.742291]\n",
      "TODTLER: [ 0.45116296  0.78898734  0.75882839  0.79885772  0.03846788]\n",
      "Transfer: [1.0, 1.0, 1.0, 1.0, 1.0]\n",
      "Transfer & Revision: [1.0, 1.0, 1.0, 1.0, 1.0]\n",
      "\n",
      "\n"
     ]
    },
    {
     "data": {
      "text/markdown": [
       "## CLL"
      ],
      "text/plain": [
       "<IPython.core.display.Markdown object>"
      ]
     },
     "metadata": {},
     "output_type": "display_data"
    },
    {
     "data": {
      "text/html": [
       "<div>\n",
       "<table border=\"1\" class=\"dataframe\">\n",
       "  <thead>\n",
       "    <tr style=\"text-align: right;\">\n",
       "      <th></th>\n",
       "      <th>p-value</th>\n",
       "      <th>MLN-B</th>\n",
       "      <th>RDN</th>\n",
       "      <th>TODTLER</th>\n",
       "    </tr>\n",
       "  </thead>\n",
       "  <tbody>\n",
       "    <tr>\n",
       "      <th>0</th>\n",
       "      <td>TreeBoostler</td>\n",
       "      <td>0.089</td>\n",
       "      <td>0.000</td>\n",
       "      <td>0.382</td>\n",
       "    </tr>\n",
       "    <tr>\n",
       "      <th>1</th>\n",
       "      <td>TreeBoostler*</td>\n",
       "      <td>0.093</td>\n",
       "      <td>0.000</td>\n",
       "      <td>0.395</td>\n",
       "    </tr>\n",
       "  </tbody>\n",
       "</table>\n",
       "</div>"
      ],
      "text/plain": [
       "         p-value  MLN-B    RDN TODTLER\n",
       "0   TreeBoostler  0.089  0.000   0.382\n",
       "1  TreeBoostler*  0.093  0.000   0.395"
      ]
     },
     "metadata": {},
     "output_type": "display_data"
    },
    {
     "name": "stdout",
     "output_type": "stream",
     "text": [
      "Experiment 1\n",
      "Scratch MLN-B: [-0.240138, -0.224529, -0.135683, -0.206584, -0.219455]\n",
      "Scratch RDN: [-0.169006, -0.169152, -0.155326, -0.178828, -0.166516]\n",
      "TODTLER: [-0.08146951 -0.06028108 -0.04877832 -0.03957681 -2.75355924]\n",
      "Transfer: [-0.168737, -0.142215, -0.066274, -0.136237, -0.068906]\n",
      "Transfer & Revision: [-0.077702, -0.077231, -0.064372, -0.068337, -0.068906]\n",
      "\n",
      "\n",
      "Experiment 2\n",
      "Scratch MLN-B: [-0.25145, -0.222295, -0.147579, -6.761321, -0.229816]\n",
      "Scratch RDN: [-0.166977, -0.169152, -0.155326, -0.16604, -0.180022]\n",
      "TODTLER: [-0.08146951 -0.06028108 -0.04877832 -0.03957681 -2.75355924]\n",
      "Transfer: [-0.073386, -0.073292, -0.071599, -0.072339, -0.07313]\n",
      "Transfer & Revision: [-0.064216, -0.064225, -0.063555, -0.065569, -0.064087]\n",
      "\n",
      "\n",
      "Experiment 3\n",
      "Scratch MLN-B: [-0.236344, -0.205343, -0.170373, -0.200264, -0.224717]\n",
      "Scratch RDN: [-0.166977, -0.169152, -0.155326, -0.164255, -0.180022]\n",
      "TODTLER: [-0.08146951 -0.06028108 -0.04877832 -0.03957681 -2.75355924]\n",
      "Transfer: [-0.076122, -0.073082, -0.068914, -0.071995, -0.076217]\n",
      "Transfer & Revision: [-0.070702, -0.066288, -0.064099, -0.066158, -0.066421]\n",
      "\n",
      "\n",
      "Experiment 4\n",
      "Scratch MLN-B: [-0.214298, -0.248366, -0.149964, -0.219725, -0.21652]\n",
      "Scratch RDN: [-0.169006, -0.169152, -0.155326, -0.164255, -0.166516]\n",
      "TODTLER: [-0.08146951 -0.06028108 -0.04877832 -0.03957681 -2.75355924]\n",
      "Transfer: [-0.069972, -0.070356, -0.067287, -0.069406, -0.072475]\n",
      "Transfer & Revision: [-0.071489, -0.067153, -0.064024, -0.066498, -0.070484]\n",
      "\n",
      "\n",
      "Experiment 5\n",
      "Scratch MLN-B: [-0.244121, -2.69305, -0.155124, -0.203776, -1.413621]\n",
      "Scratch RDN: [-0.169006, -0.167119, -0.155326, -0.184007, -0.166516]\n",
      "TODTLER: [-0.08146951 -0.06028108 -0.04877832 -0.03957681 -2.75355924]\n",
      "Transfer: [-0.074635, -0.073998, -0.065318, -0.072525, -0.075129]\n",
      "Transfer & Revision: [-0.065193, -0.065212, -0.063555, -0.064929, -0.066525]\n",
      "\n",
      "\n"
     ]
    },
    {
     "data": {
      "text/markdown": [
       "# Results for 53_cora_imdb"
      ],
      "text/plain": [
       "<IPython.core.display.Markdown object>"
      ]
     },
     "metadata": {},
     "output_type": "display_data"
    },
    {
     "data": {
      "text/markdown": [
       "## AUC ROC"
      ],
      "text/plain": [
       "<IPython.core.display.Markdown object>"
      ]
     },
     "metadata": {},
     "output_type": "display_data"
    },
    {
     "data": {
      "text/html": [
       "<div>\n",
       "<table border=\"1\" class=\"dataframe\">\n",
       "  <thead>\n",
       "    <tr style=\"text-align: right;\">\n",
       "      <th></th>\n",
       "      <th>p-value</th>\n",
       "      <th>MLN-B</th>\n",
       "      <th>RDN</th>\n",
       "      <th>TODTLER</th>\n",
       "    </tr>\n",
       "  </thead>\n",
       "  <tbody>\n",
       "    <tr>\n",
       "      <th>0</th>\n",
       "      <td>TreeBoostler</td>\n",
       "      <td>0.084</td>\n",
       "      <td>0.238</td>\n",
       "      <td>0.274</td>\n",
       "    </tr>\n",
       "    <tr>\n",
       "      <th>1</th>\n",
       "      <td>TreeBoostler*</td>\n",
       "      <td>0.000</td>\n",
       "      <td>0.001</td>\n",
       "      <td>0.466</td>\n",
       "    </tr>\n",
       "  </tbody>\n",
       "</table>\n",
       "</div>"
      ],
      "text/plain": [
       "         p-value  MLN-B    RDN TODTLER\n",
       "0   TreeBoostler  0.084  0.238   0.274\n",
       "1  TreeBoostler*  0.000  0.001   0.466"
      ]
     },
     "metadata": {},
     "output_type": "display_data"
    },
    {
     "name": "stdout",
     "output_type": "stream",
     "text": [
      "Experiment 1\n",
      "Scratch MLN-B: [0.999954, 1.0, 0.999908, 0.99984, 1.0]\n",
      "Scratch RDN: [0.994647, 0.994636, 1.0, 0.995302, 0.995191]\n",
      "TODTLER: [ 0.96084017  0.99406892  0.96025529  0.98489892  0.52735007]\n",
      "Transfer: [0.973966, 0.973223, 0.993632, 0.974863, 0.982257]\n",
      "Transfer & Revision: [0.995629, 0.998125, 1.0, 0.995335, 0.997126]\n",
      "\n",
      "\n",
      "Experiment 2\n",
      "Scratch MLN-B: [0.992828, 0.999817, 1.0, 0.99984, 1.0]\n",
      "Scratch RDN: [0.994647, 0.994636, 1.0, 1.0, 0.995191]\n",
      "TODTLER: [ 0.96084017  0.99406892  0.96025529  0.98489892  0.52735007]\n",
      "Transfer: [0.973966, 0.973223, 0.993692, 0.978805, 0.983069]\n",
      "Transfer & Revision: [0.998476, 0.99881, 1.0, 1.0, 0.999707]\n",
      "\n",
      "\n",
      "Experiment 3\n",
      "Scratch MLN-B: [0.990078, 0.992234, 0.999817, 0.981963, 0.990496]\n",
      "Scratch RDN: [0.994647, 1.0, 1.0, 0.946983, 0.995191]\n",
      "TODTLER: [ 0.96084017  0.99406892  0.96025529  0.98489892  0.52735007]\n",
      "Transfer: [0.871431, 0.86826, 0.861638, 0.870352, 0.868927]\n",
      "Transfer & Revision: [1.0, 1.0, 1.0, 1.0, 0.995191]\n",
      "\n",
      "\n",
      "Experiment 4\n",
      "Scratch MLN-B: [0.992299, 0.999817, 0.999866, 0.999839, 0.999919]\n",
      "Scratch RDN: [0.994647, 1.0, 1.0, 0.995302, 1.0]\n",
      "TODTLER: [ 0.96084017  0.99406892  0.96025529  0.98489892  0.52735007]\n",
      "Transfer: [0.973966, 0.97601, 0.993692, 0.974863, 0.983069]\n",
      "Transfer & Revision: [1.0, 0.999023, 1.0, 1.0, 0.997359]\n",
      "\n",
      "\n",
      "Experiment 5\n",
      "Scratch MLN-B: [0.999911, 0.999817, 0.999817, 0.99984, 0.995518]\n",
      "Scratch RDN: [1.0, 0.994636, 1.0, 0.953933, 1.0]\n",
      "TODTLER: [ 0.96084017  0.99406892  0.96025529  0.98489892  0.52735007]\n",
      "Transfer: [0.979497, 0.978798, 0.993692, 0.978805, 0.983069]\n",
      "Transfer & Revision: [1.0, 0.999579, 1.0, 1.0, 0.999707]\n",
      "\n",
      "\n"
     ]
    },
    {
     "data": {
      "text/markdown": [
       "## AUC PR"
      ],
      "text/plain": [
       "<IPython.core.display.Markdown object>"
      ]
     },
     "metadata": {},
     "output_type": "display_data"
    },
    {
     "data": {
      "text/html": [
       "<div>\n",
       "<table border=\"1\" class=\"dataframe\">\n",
       "  <thead>\n",
       "    <tr style=\"text-align: right;\">\n",
       "      <th></th>\n",
       "      <th>p-value</th>\n",
       "      <th>MLN-B</th>\n",
       "      <th>RDN</th>\n",
       "      <th>TODTLER</th>\n",
       "    </tr>\n",
       "  </thead>\n",
       "  <tbody>\n",
       "    <tr>\n",
       "      <th>0</th>\n",
       "      <td>TreeBoostler</td>\n",
       "      <td>0.049</td>\n",
       "      <td>0.089</td>\n",
       "      <td>0.029</td>\n",
       "    </tr>\n",
       "    <tr>\n",
       "      <th>1</th>\n",
       "      <td>TreeBoostler*</td>\n",
       "      <td>0.003</td>\n",
       "      <td>0.202</td>\n",
       "      <td>0.253</td>\n",
       "    </tr>\n",
       "  </tbody>\n",
       "</table>\n",
       "</div>"
      ],
      "text/plain": [
       "         p-value  MLN-B    RDN TODTLER\n",
       "0   TreeBoostler  0.049  0.089   0.029\n",
       "1  TreeBoostler*  0.003  0.202   0.253"
      ]
     },
     "metadata": {},
     "output_type": "display_data"
    },
    {
     "name": "stdout",
     "output_type": "stream",
     "text": [
      "Experiment 1\n",
      "Scratch MLN-B: [0.996942, 1.0, 0.98178, 0.976044, 1.0]\n",
      "Scratch RDN: [0.735892, 0.736364, 1.0, 0.743929, 0.742291]\n",
      "TODTLER: [ 0.57504961  0.86316503  0.72406761  0.49376534  0.02929356]\n",
      "Transfer: [0.853081, 0.851779, 0.960741, 0.856178, 0.888508]\n",
      "Transfer & Revision: [0.786075, 0.950144, 1.0, 0.736885, 0.889346]\n",
      "\n",
      "\n",
      "Experiment 2\n",
      "Scratch MLN-B: [0.698471, 0.975324, 1.0, 0.976044, 1.0]\n",
      "Scratch RDN: [0.735892, 0.736364, 1.0, 1.0, 0.742291]\n",
      "TODTLER: [ 0.57504961  0.86316503  0.72406761  0.49376534  0.02929356]\n",
      "Transfer: [0.853081, 0.851779, 0.961008, 0.865091, 0.891379]\n",
      "Transfer & Revision: [0.957409, 0.964909, 1.0, 1.0, 0.989873]\n",
      "\n",
      "\n",
      "Experiment 3\n",
      "Scratch MLN-B: [0.586187, 0.641679, 0.96531, 0.389869, 0.538545]\n",
      "Scratch RDN: [0.735892, 1.0, 1.0, 0.204739, 0.742291]\n",
      "TODTLER: [ 0.57504961  0.86316503  0.72406761  0.49376534  0.02929356]\n",
      "Transfer: [0.103954, 0.102112, 0.064496, 0.095252, 0.095576]\n",
      "Transfer & Revision: [1.0, 1.0, 1.0, 1.0, 0.742291]\n",
      "\n",
      "\n",
      "Experiment 4\n",
      "Scratch MLN-B: [0.64118, 0.975324, 0.97933, 0.972088, 0.987487]\n",
      "Scratch RDN: [0.735892, 1.0, 1.0, 0.743929, 1.0]\n",
      "TODTLER: [ 0.57504961  0.86316503  0.72406761  0.49376534  0.02929356]\n",
      "Transfer: [0.853081, 0.862005, 0.961008, 0.856178, 0.891379]\n",
      "Transfer & Revision: [1.0, 0.971975, 1.0, 1.0, 0.833792]\n",
      "\n",
      "\n",
      "Experiment 5\n",
      "Scratch MLN-B: [0.989593, 0.975324, 0.96531, 0.976044, 0.780552]\n",
      "Scratch RDN: [1.0, 0.736364, 1.0, 0.242522, 1.0]\n",
      "TODTLER: [ 0.57504961  0.86316503  0.72406761  0.49376534  0.02929356]\n",
      "Transfer: [0.867039, 0.865522, 0.961008, 0.865091, 0.891379]\n",
      "Transfer & Revision: [1.0, 0.986436, 1.0, 1.0, 0.989873]\n",
      "\n",
      "\n"
     ]
    },
    {
     "data": {
      "text/markdown": [
       "## CLL"
      ],
      "text/plain": [
       "<IPython.core.display.Markdown object>"
      ]
     },
     "metadata": {},
     "output_type": "display_data"
    },
    {
     "data": {
      "text/html": [
       "<div>\n",
       "<table border=\"1\" class=\"dataframe\">\n",
       "  <thead>\n",
       "    <tr style=\"text-align: right;\">\n",
       "      <th></th>\n",
       "      <th>p-value</th>\n",
       "      <th>MLN-B</th>\n",
       "      <th>RDN</th>\n",
       "      <th>TODTLER</th>\n",
       "    </tr>\n",
       "  </thead>\n",
       "  <tbody>\n",
       "    <tr>\n",
       "      <th>0</th>\n",
       "      <td>TreeBoostler</td>\n",
       "      <td>0.195</td>\n",
       "      <td>0.000</td>\n",
       "      <td>0.370</td>\n",
       "    </tr>\n",
       "    <tr>\n",
       "      <th>1</th>\n",
       "      <td>TreeBoostler*</td>\n",
       "      <td>0.406</td>\n",
       "      <td>0.081</td>\n",
       "      <td>0.444</td>\n",
       "    </tr>\n",
       "  </tbody>\n",
       "</table>\n",
       "</div>"
      ],
      "text/plain": [
       "         p-value  MLN-B    RDN TODTLER\n",
       "0   TreeBoostler  0.195  0.000   0.370\n",
       "1  TreeBoostler*  0.406  0.081   0.444"
      ]
     },
     "metadata": {},
     "output_type": "display_data"
    },
    {
     "name": "stdout",
     "output_type": "stream",
     "text": [
      "Experiment 1\n",
      "Scratch MLN-B: [-0.235026, -0.209405, -0.140576, -0.203755, -0.214576]\n",
      "Scratch RDN: [-0.169006, -0.169152, -0.155326, -0.16604, -0.166516]\n",
      "TODTLER: [-0.07490243 -0.05402602 -0.04658268 -0.15627244 -4.28567658]\n",
      "Transfer: [-0.121657, -0.121615, -0.223563, -0.117948, -0.186789]\n",
      "Transfer & Revision: [-0.082879, -0.083219, -0.065458, -0.081812, -0.085982]\n",
      "\n",
      "\n",
      "Experiment 2\n",
      "Scratch MLN-B: [-0.240763, -0.219946, -0.145659, -0.213689, -0.230357]\n",
      "Scratch RDN: [-0.169006, -0.169152, -0.155326, -0.164255, -0.166516]\n",
      "TODTLER: [-0.07490243 -0.05402602 -0.04658268 -0.15627244 -4.28567658]\n",
      "Transfer: [-0.158244, -0.160893, -0.262241, -0.159186, -0.20914]\n",
      "Transfer & Revision: [-0.079348, -0.082749, -0.064091, -0.073935, -0.083014]\n",
      "\n",
      "\n",
      "Experiment 3\n",
      "Scratch MLN-B: [-0.256364, -0.223513, -0.145161, -5.929827, -0.216952]\n",
      "Scratch RDN: [-0.169006, -0.167119, -0.155326, -0.184007, -0.166516]\n",
      "TODTLER: [-0.07490243 -0.05402602 -0.04658268 -0.15627244 -4.28567658]\n",
      "Transfer: [-0.300648, -0.298547, -0.336754, -0.285609, -0.293102]\n",
      "Transfer & Revision: [-0.076789, -0.082031, -0.06404, -0.075109, -0.083408]\n",
      "\n",
      "\n",
      "Experiment 4\n",
      "Scratch MLN-B: [-0.234523, -0.209116, -0.145158, -0.199048, -0.203014]\n",
      "Scratch RDN: [-0.169006, -0.167119, -0.155326, -0.16604, -0.16469]\n",
      "TODTLER: [-0.07490243 -0.05402602 -0.04658268 -0.15627244 -4.28567658]\n",
      "Transfer: [-0.200966, -0.20875, -0.296814, -0.202092, -0.243594]\n",
      "Transfer & Revision: [-0.079392, -0.084915, -0.064373, -0.069438, -0.082518]\n",
      "\n",
      "\n",
      "Experiment 5\n",
      "Scratch MLN-B: [-0.237746, -0.233662, -0.145557, -0.204874, -0.223393]\n",
      "Scratch RDN: [-0.166977, -0.169152, -0.155326, -0.183928, -0.16469]\n",
      "TODTLER: [-0.07490243 -0.05402602 -0.04658268 -0.15627244 -4.28567658]\n",
      "Transfer: [-0.155445, -0.161398, -0.263761, -0.163955, -0.202354]\n",
      "Transfer & Revision: [-0.077054, -0.079128, -0.064085, -0.071393, -0.080378]\n",
      "\n",
      "\n"
     ]
    },
    {
     "data": {
      "text/markdown": [
       "# Results for 15_yeast_twitter"
      ],
      "text/plain": [
       "<IPython.core.display.Markdown object>"
      ]
     },
     "metadata": {},
     "output_type": "display_data"
    },
    {
     "data": {
      "text/markdown": [
       "## AUC ROC"
      ],
      "text/plain": [
       "<IPython.core.display.Markdown object>"
      ]
     },
     "metadata": {},
     "output_type": "display_data"
    },
    {
     "data": {
      "text/html": [
       "<div>\n",
       "<table border=\"1\" class=\"dataframe\">\n",
       "  <thead>\n",
       "    <tr style=\"text-align: right;\">\n",
       "      <th></th>\n",
       "      <th>p-value</th>\n",
       "      <th>MLN-B</th>\n",
       "      <th>RDN</th>\n",
       "      <th>TODTLER</th>\n",
       "    </tr>\n",
       "  </thead>\n",
       "  <tbody>\n",
       "    <tr>\n",
       "      <th>0</th>\n",
       "      <td>TreeBoostler</td>\n",
       "      <td>0.075</td>\n",
       "      <td>0.138</td>\n",
       "      <td>0.022</td>\n",
       "    </tr>\n",
       "    <tr>\n",
       "      <th>1</th>\n",
       "      <td>TreeBoostler*</td>\n",
       "      <td>0.065</td>\n",
       "      <td>0.269</td>\n",
       "      <td>0.017</td>\n",
       "    </tr>\n",
       "  </tbody>\n",
       "</table>\n",
       "</div>"
      ],
      "text/plain": [
       "         p-value  MLN-B    RDN TODTLER\n",
       "0   TreeBoostler  0.075  0.138   0.022\n",
       "1  TreeBoostler*  0.065  0.269   0.017"
      ]
     },
     "metadata": {},
     "output_type": "display_data"
    },
    {
     "name": "stdout",
     "output_type": "stream",
     "text": [
      "Experiment 1\n",
      "Scratch MLN-B: [0.823343, 0.830316]\n",
      "Scratch RDN: [0.956132, 0.978981]\n",
      "TODTLER: [ 0.50342327  0.53735198]\n",
      "Transfer: [0.968989, 0.987034]\n",
      "Transfer & Revision: [0.990908, 0.993774]\n",
      "\n",
      "\n",
      "Experiment 2\n",
      "Scratch MLN-B: [0.77137, 0.849237]\n",
      "Scratch RDN: [0.98271, 0.936304]\n",
      "TODTLER: [ 0.50342327  0.53735198]\n",
      "Transfer: [0.994523, 0.993203]\n",
      "Transfer & Revision: [0.993479, 0.992819]\n",
      "\n",
      "\n"
     ]
    },
    {
     "data": {
      "text/markdown": [
       "## AUC PR"
      ],
      "text/plain": [
       "<IPython.core.display.Markdown object>"
      ]
     },
     "metadata": {},
     "output_type": "display_data"
    },
    {
     "data": {
      "text/html": [
       "<div>\n",
       "<table border=\"1\" class=\"dataframe\">\n",
       "  <thead>\n",
       "    <tr style=\"text-align: right;\">\n",
       "      <th></th>\n",
       "      <th>p-value</th>\n",
       "      <th>MLN-B</th>\n",
       "      <th>RDN</th>\n",
       "      <th>TODTLER</th>\n",
       "    </tr>\n",
       "  </thead>\n",
       "  <tbody>\n",
       "    <tr>\n",
       "      <th>0</th>\n",
       "      <td>TreeBoostler</td>\n",
       "      <td>0.263</td>\n",
       "      <td>0.381</td>\n",
       "      <td>0.751</td>\n",
       "    </tr>\n",
       "    <tr>\n",
       "      <th>1</th>\n",
       "      <td>TreeBoostler*</td>\n",
       "      <td>0.359</td>\n",
       "      <td>0.165</td>\n",
       "      <td>0.345</td>\n",
       "    </tr>\n",
       "  </tbody>\n",
       "</table>\n",
       "</div>"
      ],
      "text/plain": [
       "         p-value  MLN-B    RDN TODTLER\n",
       "0   TreeBoostler  0.263  0.381   0.751\n",
       "1  TreeBoostler*  0.359  0.165   0.345"
      ]
     },
     "metadata": {},
     "output_type": "display_data"
    },
    {
     "name": "stdout",
     "output_type": "stream",
     "text": [
      "Experiment 1\n",
      "Scratch MLN-B: [0.294479, 0.329066]\n",
      "Scratch RDN: [0.24853, 0.238138]\n",
      "TODTLER: [ 0.35782543  0.37878721]\n",
      "Transfer: [0.358744, 0.358508]\n",
      "Transfer & Revision: [0.352226, 0.412072]\n",
      "\n",
      "\n",
      "Experiment 2\n",
      "Scratch MLN-B: [0.23544, 0.388765]\n",
      "Scratch RDN: [0.368386, 0.228701]\n",
      "TODTLER: [ 0.35782543  0.37878721]\n",
      "Transfer: [0.439096, 0.419525]\n",
      "Transfer & Revision: [0.322786, 0.36244]\n",
      "\n",
      "\n"
     ]
    },
    {
     "data": {
      "text/markdown": [
       "## CLL"
      ],
      "text/plain": [
       "<IPython.core.display.Markdown object>"
      ]
     },
     "metadata": {},
     "output_type": "display_data"
    },
    {
     "data": {
      "text/html": [
       "<div>\n",
       "<table border=\"1\" class=\"dataframe\">\n",
       "  <thead>\n",
       "    <tr style=\"text-align: right;\">\n",
       "      <th></th>\n",
       "      <th>p-value</th>\n",
       "      <th>MLN-B</th>\n",
       "      <th>RDN</th>\n",
       "      <th>TODTLER</th>\n",
       "    </tr>\n",
       "  </thead>\n",
       "  <tbody>\n",
       "    <tr>\n",
       "      <th>0</th>\n",
       "      <td>TreeBoostler</td>\n",
       "      <td>0.130</td>\n",
       "      <td>0.101</td>\n",
       "      <td>0.126</td>\n",
       "    </tr>\n",
       "    <tr>\n",
       "      <th>1</th>\n",
       "      <td>TreeBoostler*</td>\n",
       "      <td>0.158</td>\n",
       "      <td>0.247</td>\n",
       "      <td>0.128</td>\n",
       "    </tr>\n",
       "  </tbody>\n",
       "</table>\n",
       "</div>"
      ],
      "text/plain": [
       "         p-value  MLN-B    RDN TODTLER\n",
       "0   TreeBoostler  0.130  0.101   0.126\n",
       "1  TreeBoostler*  0.158  0.247   0.128"
      ]
     },
     "metadata": {},
     "output_type": "display_data"
    },
    {
     "name": "stdout",
     "output_type": "stream",
     "text": [
      "Experiment 1\n",
      "Scratch MLN-B: [-0.225162, -0.275359]\n",
      "Scratch RDN: [-0.155694, -0.153783]\n",
      "TODTLER: [-1.49233955 -1.02563068]\n",
      "Transfer: [-0.160271, -0.14473]\n",
      "Transfer & Revision: [-0.129075, -0.11367]\n",
      "\n",
      "\n",
      "Experiment 2\n",
      "Scratch MLN-B: [-0.227711, -0.269139]\n",
      "Scratch RDN: [-0.150899, -0.159322]\n",
      "TODTLER: [-1.49233955 -1.02563068]\n",
      "Transfer: [-0.125957, -0.119917]\n",
      "Transfer & Revision: [-0.115599, -0.113826]\n",
      "\n",
      "\n"
     ]
    },
    {
     "data": {
      "text/markdown": [
       "# Results for 22_twitter_yeast"
      ],
      "text/plain": [
       "<IPython.core.display.Markdown object>"
      ]
     },
     "metadata": {},
     "output_type": "display_data"
    },
    {
     "data": {
      "text/markdown": [
       "## AUC ROC"
      ],
      "text/plain": [
       "<IPython.core.display.Markdown object>"
      ]
     },
     "metadata": {},
     "output_type": "display_data"
    },
    {
     "data": {
      "text/html": [
       "<div>\n",
       "<table border=\"1\" class=\"dataframe\">\n",
       "  <thead>\n",
       "    <tr style=\"text-align: right;\">\n",
       "      <th></th>\n",
       "      <th>p-value</th>\n",
       "      <th>MLN-B</th>\n",
       "      <th>RDN</th>\n",
       "      <th>TODTLER</th>\n",
       "    </tr>\n",
       "  </thead>\n",
       "  <tbody>\n",
       "    <tr>\n",
       "      <th>0</th>\n",
       "      <td>TreeBoostler</td>\n",
       "      <td>0.000</td>\n",
       "      <td>0.001</td>\n",
       "      <td>0.000</td>\n",
       "    </tr>\n",
       "    <tr>\n",
       "      <th>1</th>\n",
       "      <td>TreeBoostler*</td>\n",
       "      <td>0.000</td>\n",
       "      <td>0.001</td>\n",
       "      <td>0.000</td>\n",
       "    </tr>\n",
       "  </tbody>\n",
       "</table>\n",
       "</div>"
      ],
      "text/plain": [
       "         p-value  MLN-B    RDN TODTLER\n",
       "0   TreeBoostler  0.000  0.001   0.000\n",
       "1  TreeBoostler*  0.000  0.001   0.000"
      ]
     },
     "metadata": {},
     "output_type": "display_data"
    },
    {
     "name": "stdout",
     "output_type": "stream",
     "text": [
      "Experiment 1\n",
      "Scratch MLN-B: [0.710162, 0.671858, 0.676414, 0.698833]\n",
      "Scratch RDN: [0.81116, 0.68185, 0.602208, 0.800959]\n",
      "TODTLER: [ 0.5044716   0.48974037  0.48482165  0.51029014]\n",
      "Transfer: [0.985778, 0.990826, 0.973668, 0.980215]\n",
      "Transfer & Revision: [0.985778, 0.990826, 0.973668, 0.980215]\n",
      "\n",
      "\n",
      "Experiment 2\n",
      "Scratch MLN-B: [0.692601, 0.626985, 0.675862, 0.669844]\n",
      "Scratch RDN: [0.757071, 0.585709, 0.979386, 0.920144]\n",
      "TODTLER: [ 0.5044716   0.48974037  0.48482165  0.51029014]\n",
      "Transfer: [0.990656, 0.99384, 0.988197, 0.987078]\n",
      "Transfer & Revision: [0.990656, 0.99384, 0.988197, 0.987078]\n",
      "\n",
      "\n",
      "Experiment 3\n",
      "Scratch MLN-B: [0.730676, 0.694215, 0.674635, 0.592236]\n",
      "Scratch RDN: [0.66359, 0.638313, 0.62626, 0.610408]\n",
      "TODTLER: [ 0.5044716   0.48974037  0.48482165  0.51029014]\n",
      "Transfer: [0.987581, 0.989188, 0.982132, 0.984013]\n",
      "Transfer & Revision: [0.987581, 0.98451, 0.982132, 0.984013]\n",
      "\n",
      "\n",
      "Experiment 4\n",
      "Scratch MLN-B: [0.726506, 0.644385, 0.659601, 0.644092]\n",
      "Scratch RDN: [0.656101, 0.609497, 0.590048, 0.587053]\n",
      "TODTLER: [ 0.5044716   0.48974037  0.48482165  0.51029014]\n",
      "Transfer: [0.987046, 0.988175, 0.977494, 0.9872]\n",
      "Transfer & Revision: [0.987046, 0.988175, 0.977494, 0.9872]\n",
      "\n",
      "\n"
     ]
    },
    {
     "data": {
      "text/markdown": [
       "## AUC PR"
      ],
      "text/plain": [
       "<IPython.core.display.Markdown object>"
      ]
     },
     "metadata": {},
     "output_type": "display_data"
    },
    {
     "data": {
      "text/html": [
       "<div>\n",
       "<table border=\"1\" class=\"dataframe\">\n",
       "  <thead>\n",
       "    <tr style=\"text-align: right;\">\n",
       "      <th></th>\n",
       "      <th>p-value</th>\n",
       "      <th>MLN-B</th>\n",
       "      <th>RDN</th>\n",
       "      <th>TODTLER</th>\n",
       "    </tr>\n",
       "  </thead>\n",
       "  <tbody>\n",
       "    <tr>\n",
       "      <th>0</th>\n",
       "      <td>TreeBoostler</td>\n",
       "      <td>0.000</td>\n",
       "      <td>0.005</td>\n",
       "      <td>0.002</td>\n",
       "    </tr>\n",
       "    <tr>\n",
       "      <th>1</th>\n",
       "      <td>TreeBoostler*</td>\n",
       "      <td>0.000</td>\n",
       "      <td>0.005</td>\n",
       "      <td>0.002</td>\n",
       "    </tr>\n",
       "  </tbody>\n",
       "</table>\n",
       "</div>"
      ],
      "text/plain": [
       "         p-value  MLN-B    RDN TODTLER\n",
       "0   TreeBoostler  0.000  0.005   0.002\n",
       "1  TreeBoostler*  0.000  0.005   0.002"
      ]
     },
     "metadata": {},
     "output_type": "display_data"
    },
    {
     "name": "stdout",
     "output_type": "stream",
     "text": [
      "Experiment 1\n",
      "Scratch MLN-B: [0.173317, 0.203425, 0.140969, 0.233234]\n",
      "Scratch RDN: [0.167128, 0.098169, 0.042517, 0.071175]\n",
      "TODTLER: [ 0.00288783  0.00190093  0.00188667  0.00239235]\n",
      "Transfer: [0.238096, 0.327854, 0.160828, 0.179372]\n",
      "Transfer & Revision: [0.238096, 0.327854, 0.160828, 0.179372]\n",
      "\n",
      "\n",
      "Experiment 2\n",
      "Scratch MLN-B: [0.162842, 0.193778, 0.061807, 0.171818]\n",
      "Scratch RDN: [0.059358, 0.050369, 0.153321, 0.182379]\n",
      "TODTLER: [ 0.00288783  0.00190093  0.00188667  0.00239235]\n",
      "Transfer: [0.385871, 0.454975, 0.34525, 0.306092]\n",
      "Transfer & Revision: [0.385871, 0.454975, 0.34525, 0.306092]\n",
      "\n",
      "\n",
      "Experiment 3\n",
      "Scratch MLN-B: [0.206565, 0.2561, 0.068974, 0.026935]\n",
      "Scratch RDN: [0.040521, 0.101997, 0.047454, 0.043793]\n",
      "TODTLER: [ 0.00288783  0.00190093  0.00188667  0.00239235]\n",
      "Transfer: [0.239233, 0.291323, 0.196682, 0.217633]\n",
      "Transfer & Revision: [0.239233, 0.274347, 0.196682, 0.217633]\n",
      "\n",
      "\n",
      "Experiment 4\n",
      "Scratch MLN-B: [0.143005, 0.214074, 0.063715, 0.137898]\n",
      "Scratch RDN: [0.1076, 0.051657, 0.039314, 0.038665]\n",
      "TODTLER: [ 0.00288783  0.00190093  0.00188667  0.00239235]\n",
      "Transfer: [0.290348, 0.285477, 0.160712, 0.294572]\n",
      "Transfer & Revision: [0.290348, 0.285477, 0.160712, 0.294572]\n",
      "\n",
      "\n"
     ]
    },
    {
     "data": {
      "text/markdown": [
       "## CLL"
      ],
      "text/plain": [
       "<IPython.core.display.Markdown object>"
      ]
     },
     "metadata": {},
     "output_type": "display_data"
    },
    {
     "data": {
      "text/html": [
       "<div>\n",
       "<table border=\"1\" class=\"dataframe\">\n",
       "  <thead>\n",
       "    <tr style=\"text-align: right;\">\n",
       "      <th></th>\n",
       "      <th>p-value</th>\n",
       "      <th>MLN-B</th>\n",
       "      <th>RDN</th>\n",
       "      <th>TODTLER</th>\n",
       "    </tr>\n",
       "  </thead>\n",
       "  <tbody>\n",
       "    <tr>\n",
       "      <th>0</th>\n",
       "      <td>TreeBoostler</td>\n",
       "      <td>0.001</td>\n",
       "      <td>0.832</td>\n",
       "      <td>0.000</td>\n",
       "    </tr>\n",
       "    <tr>\n",
       "      <th>1</th>\n",
       "      <td>TreeBoostler*</td>\n",
       "      <td>0.001</td>\n",
       "      <td>0.854</td>\n",
       "      <td>0.000</td>\n",
       "    </tr>\n",
       "  </tbody>\n",
       "</table>\n",
       "</div>"
      ],
      "text/plain": [
       "         p-value  MLN-B    RDN TODTLER\n",
       "0   TreeBoostler  0.001  0.832   0.000\n",
       "1  TreeBoostler*  0.001  0.854   0.000"
      ]
     },
     "metadata": {},
     "output_type": "display_data"
    },
    {
     "name": "stdout",
     "output_type": "stream",
     "text": [
      "Experiment 1\n",
      "Scratch MLN-B: [-0.27815, -0.280745, -0.298941, -0.289504]\n",
      "Scratch RDN: [-0.17539, -0.186341, -0.184438, -0.183538]\n",
      "TODTLER: [-0.02496175 -0.02183103 -0.02299418 -0.02411909]\n",
      "Transfer: [-0.144977, -0.132617, -0.178498, -0.166535]\n",
      "Transfer & Revision: [-0.144977, -0.132617, -0.178498, -0.166535]\n",
      "\n",
      "\n",
      "Experiment 2\n",
      "Scratch MLN-B: [-0.293951, -0.31392, -0.263949, -0.252727]\n",
      "Scratch RDN: [-0.184229, -0.196683, -0.151035, -0.16294]\n",
      "TODTLER: [-0.02496175 -0.02183103 -0.02299418 -0.02411909]\n",
      "Transfer: [-0.152837, -0.148672, -0.177686, -0.172012]\n",
      "Transfer & Revision: [-0.152837, -0.148672, -0.177686, -0.172012]\n",
      "\n",
      "\n",
      "Experiment 3\n",
      "Scratch MLN-B: [-0.282629, -0.273858, -0.270939, -0.392205]\n",
      "Scratch RDN: [-0.18468, -0.181016, -0.186569, -0.187918]\n",
      "TODTLER: [-0.02496175 -0.02183103 -0.02299418 -0.02411909]\n",
      "Transfer: [-0.212395, -0.194853, -0.210247, -0.206223]\n",
      "Transfer & Revision: [-0.212395, -0.189148, -0.210247, -0.206223]\n",
      "\n",
      "\n",
      "Experiment 4\n",
      "Scratch MLN-B: [-0.266424, -0.265998, -0.302532, -0.286373]\n",
      "Scratch RDN: [-0.178582, -0.192826, -0.19251, -0.18858]\n",
      "TODTLER: [-0.02496175 -0.02183103 -0.02299418 -0.02411909]\n",
      "Transfer: [-0.209779, -0.168634, -0.199979, -0.21189]\n",
      "Transfer & Revision: [-0.209779, -0.168634, -0.199979, -0.21189]\n",
      "\n",
      "\n"
     ]
    },
    {
     "data": {
      "text/markdown": [
       "# Results for 37_nell_sports_nell_finances"
      ],
      "text/plain": [
       "<IPython.core.display.Markdown object>"
      ]
     },
     "metadata": {},
     "output_type": "display_data"
    },
    {
     "data": {
      "text/markdown": [
       "## AUC ROC"
      ],
      "text/plain": [
       "<IPython.core.display.Markdown object>"
      ]
     },
     "metadata": {},
     "output_type": "display_data"
    },
    {
     "data": {
      "text/html": [
       "<div>\n",
       "<table border=\"1\" class=\"dataframe\">\n",
       "  <thead>\n",
       "    <tr style=\"text-align: right;\">\n",
       "      <th></th>\n",
       "      <th>p-value</th>\n",
       "      <th>MLN-B</th>\n",
       "      <th>RDN</th>\n",
       "      <th>TODTLER</th>\n",
       "    </tr>\n",
       "  </thead>\n",
       "  <tbody>\n",
       "    <tr>\n",
       "      <th>0</th>\n",
       "      <td>TreeBoostler</td>\n",
       "      <td>0.000</td>\n",
       "      <td>0.002</td>\n",
       "      <td>nan</td>\n",
       "    </tr>\n",
       "    <tr>\n",
       "      <th>1</th>\n",
       "      <td>TreeBoostler*</td>\n",
       "      <td>0.000</td>\n",
       "      <td>0.002</td>\n",
       "      <td>nan</td>\n",
       "    </tr>\n",
       "  </tbody>\n",
       "</table>\n",
       "</div>"
      ],
      "text/plain": [
       "         p-value  MLN-B    RDN TODTLER\n",
       "0   TreeBoostler  0.000  0.002     nan\n",
       "1  TreeBoostler*  0.000  0.002     nan"
      ]
     },
     "metadata": {},
     "output_type": "display_data"
    },
    {
     "name": "stdout",
     "output_type": "stream",
     "text": [
      "Experiment 1\n",
      "Scratch MLN-B: [0.497981, 0.509313, 0.502596]\n",
      "Scratch RDN: [0.550843, 0.501164, 0.516391]\n",
      "TODTLER: [ nan  nan  nan]\n",
      "Transfer: [0.975654, 0.975367, 0.97425]\n",
      "Transfer & Revision: [0.975654, 0.975367, 0.97425]\n",
      "\n",
      "\n",
      "Experiment 2\n",
      "Scratch MLN-B: [0.505356, 0.507296, 0.502244]\n",
      "Scratch RDN: [0.689154, 0.548992, 0.528097]\n",
      "TODTLER: [ nan  nan  nan]\n",
      "Transfer: [0.97544, 0.972338, 0.971]\n",
      "Transfer & Revision: [0.979079, 0.972338, 0.971]\n",
      "\n",
      "\n",
      "Experiment 3\n",
      "Scratch MLN-B: [0.497893, 0.502212, 0.501567]\n",
      "Scratch RDN: [0.537361, 0.538905, 0.553918]\n",
      "TODTLER: [ nan  nan  nan]\n",
      "Transfer: [0.980817, 0.979245, 0.976826]\n",
      "Transfer & Revision: [0.980817, 0.979245, 0.976826]\n",
      "\n",
      "\n"
     ]
    },
    {
     "data": {
      "text/markdown": [
       "## AUC PR"
      ],
      "text/plain": [
       "<IPython.core.display.Markdown object>"
      ]
     },
     "metadata": {},
     "output_type": "display_data"
    },
    {
     "data": {
      "text/html": [
       "<div>\n",
       "<table border=\"1\" class=\"dataframe\">\n",
       "  <thead>\n",
       "    <tr style=\"text-align: right;\">\n",
       "      <th></th>\n",
       "      <th>p-value</th>\n",
       "      <th>MLN-B</th>\n",
       "      <th>RDN</th>\n",
       "      <th>TODTLER</th>\n",
       "    </tr>\n",
       "  </thead>\n",
       "  <tbody>\n",
       "    <tr>\n",
       "      <th>0</th>\n",
       "      <td>TreeBoostler</td>\n",
       "      <td>0.015</td>\n",
       "      <td>0.016</td>\n",
       "      <td>nan</td>\n",
       "    </tr>\n",
       "    <tr>\n",
       "      <th>1</th>\n",
       "      <td>TreeBoostler*</td>\n",
       "      <td>0.009</td>\n",
       "      <td>0.007</td>\n",
       "      <td>nan</td>\n",
       "    </tr>\n",
       "  </tbody>\n",
       "</table>\n",
       "</div>"
      ],
      "text/plain": [
       "         p-value  MLN-B    RDN TODTLER\n",
       "0   TreeBoostler  0.015  0.016     nan\n",
       "1  TreeBoostler*  0.009  0.007     nan"
      ]
     },
     "metadata": {},
     "output_type": "display_data"
    },
    {
     "name": "stdout",
     "output_type": "stream",
     "text": [
      "Experiment 1\n",
      "Scratch MLN-B: [0.001407, 0.01233, 0.011656]\n",
      "Scratch RDN: [0.052023, 0.021495, 0.018841]\n",
      "TODTLER: [ nan  nan  nan]\n",
      "Transfer: [0.040057, 0.035154, 0.064442]\n",
      "Transfer & Revision: [0.040057, 0.035154, 0.064442]\n",
      "\n",
      "\n",
      "Experiment 2\n",
      "Scratch MLN-B: [0.004499, 0.010602, 0.011205]\n",
      "Scratch RDN: [0.017373, 0.036108, 0.025754]\n",
      "TODTLER: [ nan  nan  nan]\n",
      "Transfer: [0.053726, 0.028349, 0.026451]\n",
      "Transfer & Revision: [0.067835, 0.028349, 0.026451]\n",
      "\n",
      "\n",
      "Experiment 3\n",
      "Scratch MLN-B: [0.0014, 0.00139, 0.011053]\n",
      "Scratch RDN: [0.027502, 0.036092, 0.043712]\n",
      "TODTLER: [ nan  nan  nan]\n",
      "Transfer: [0.090355, 0.095175, 0.078324]\n",
      "Transfer & Revision: [0.090355, 0.095175, 0.078324]\n",
      "\n",
      "\n"
     ]
    },
    {
     "data": {
      "text/markdown": [
       "## CLL"
      ],
      "text/plain": [
       "<IPython.core.display.Markdown object>"
      ]
     },
     "metadata": {},
     "output_type": "display_data"
    },
    {
     "data": {
      "text/html": [
       "<div>\n",
       "<table border=\"1\" class=\"dataframe\">\n",
       "  <thead>\n",
       "    <tr style=\"text-align: right;\">\n",
       "      <th></th>\n",
       "      <th>p-value</th>\n",
       "      <th>MLN-B</th>\n",
       "      <th>RDN</th>\n",
       "      <th>TODTLER</th>\n",
       "    </tr>\n",
       "  </thead>\n",
       "  <tbody>\n",
       "    <tr>\n",
       "      <th>0</th>\n",
       "      <td>TreeBoostler</td>\n",
       "      <td>0.006</td>\n",
       "      <td>0.005</td>\n",
       "      <td>nan</td>\n",
       "    </tr>\n",
       "    <tr>\n",
       "      <th>1</th>\n",
       "      <td>TreeBoostler*</td>\n",
       "      <td>0.002</td>\n",
       "      <td>0.039</td>\n",
       "      <td>nan</td>\n",
       "    </tr>\n",
       "  </tbody>\n",
       "</table>\n",
       "</div>"
      ],
      "text/plain": [
       "         p-value  MLN-B    RDN TODTLER\n",
       "0   TreeBoostler  0.006  0.005     nan\n",
       "1  TreeBoostler*  0.002  0.039     nan"
      ]
     },
     "metadata": {},
     "output_type": "display_data"
    },
    {
     "name": "stdout",
     "output_type": "stream",
     "text": [
      "Experiment 1\n",
      "Scratch MLN-B: [-0.208857, -0.201605, -0.19693]\n",
      "Scratch RDN: [-0.185246, -0.184561, -0.181306]\n",
      "TODTLER: [ nan  nan  nan]\n",
      "Transfer: [-0.173537, -0.179442, -0.171752]\n",
      "Transfer & Revision: [-0.173537, -0.179442, -0.171752]\n",
      "\n",
      "\n",
      "Experiment 2\n",
      "Scratch MLN-B: [-0.201995, -0.201293, -0.205931]\n",
      "Scratch RDN: [-0.172818, -0.183182, -0.183237]\n",
      "TODTLER: [ nan  nan  nan]\n",
      "Transfer: [-0.183533, -0.173178, -0.177664]\n",
      "Transfer & Revision: [-0.171747, -0.173178, -0.177664]\n",
      "\n",
      "\n",
      "Experiment 3\n",
      "Scratch MLN-B: [-0.217766, -0.208231, -0.201588]\n",
      "Scratch RDN: [-0.182412, -0.182218, -0.181042]\n",
      "TODTLER: [ nan  nan  nan]\n",
      "Transfer: [-0.16605, -0.166765, -0.159497]\n",
      "Transfer & Revision: [-0.16605, -0.166765, -0.159497]\n",
      "\n",
      "\n"
     ]
    }
   ],
   "source": [
    "for j in range(len(experiments)):\n",
    "    dataset = experiments[j]['id'] + '_' + experiments[j]['source'] + '_' + experiments[j]['target']\n",
    "    if dataset in data['results']: \n",
    "        display(Markdown('# Results for ' + dataset))\n",
    "    table = []\n",
    "    for metric in ['AUC ROC', 'AUC PR', 'CLL']: #, 'Recall', 'F1', 'Precision', 'Learning and Revision time', 'Inference time']:\n",
    "    #for metric in ['AUC ROC', 'AUC PR']:\n",
    "        if dataset in data['results']: \n",
    "            #for metric in ['AUC ROC', 'AUC PR']:\n",
    "            display(Markdown('## ' + metric))\n",
    "            if metric == 'Precision':\n",
    "                for m in range(len(data['results'][str(dataset)])):\n",
    "                    print('Experiment %s' % (m+1))\n",
    "                    sc = [item['mln_b']['Precision'][0] for item in data_mln['results'][str(dataset)][m]]\n",
    "                    sc_rdn = [item['rdn']['Precision'][0] for item in data['results'][str(dataset)][m]]\n",
    "                    pr = [item['transfer']['parameter']['Precision'][0] for item in data['results'][str(dataset)][m]]\n",
    "                    tr = [item['transfer']['Precision'][0] for item in data['results'][str(dataset)][m]] \n",
    "                    print('Scratch: %s' % sc)\n",
    "                    print('Transfer: %s' % pr)\n",
    "                    print('Transfer & Revision: %s' % tr) \n",
    "                    print('\\n')\n",
    "                #scratch = np.array([item['scratch']['Precision'][0] for sublist in data['results'][str(dataset)] for item in sublist])\n",
    "                #parameter = np.array([item['transfer']['Parameter Learning results']['Precision'][0] for sublist in data['results'][str(dataset)] for item in sublist])\n",
    "                #transfer = np.array([item['transfer']['Precision'][0] for sublist in data['results'][str(dataset)] for item in sublist])\n",
    "            #elif metric == 'Learning and Revision time':\n",
    "            #    for m in range(len(data['results'][str(dataset)])):\n",
    "            #        print('Experiment %s' % (m+1))\n",
    "            #        sc = [item['rdn_b']['Learning time'] for item in data['results'][str(dataset)][m]]\n",
    "            #        sc_rdn = [item['rdn']['Learning time'] for item in data['results'][str(dataset)][m]]\n",
    "            #        pr = ['%s (%.1f)' % (item['transfer']['parameter']['Learning time'], item['transfer']['Mapping results']['Total time']) for item in data['results'][str(dataset)][m]]\n",
    "            #        tr = ['%s (%.1f)' % (item['transfer']['Learning time'], item['transfer']['Mapping results']['Total time']) for item in data['results'][str(dataset)][m]] \n",
    "            #        print('Scratch: %s' % sc)\n",
    "            #        print('Transfer: %s' % pr)\n",
    "            #        print('Transfer & Revision: %s' % tr) \n",
    "            #        print('\\n')\n",
    "                #scratch = np.array([item['scratch']['Learning time'] for sublist in data['results'][str(dataset)] for item in sublist])\n",
    "                #parameter = np.array([item['transfer']['Parameter Learning results']['Learning time'] for sublist in data['results'][str(dataset)] for item in sublist])\n",
    "                #transfer = np.array([item['transfer']['Learning time'] for sublist in data['results'][str(dataset)] for item in sublist])\n",
    "            #elif metric == 'Inference time':\n",
    "            #    for m in range(len(data['results'][str(dataset)])):\n",
    "            #        print('Experiment %s' % (m+1))\n",
    "            #        sc = [item['rdn_b']['Inference time'] for item in data['results'][str(dataset)][m]]\n",
    "            #        sc_rdn = [item['rdn']['Inference time'] for item in data['results'][str(dataset)][m]]\n",
    "            #        pr = [item['transfer']['parameter']['Inference time'] for item in data['results'][str(dataset)][m]]\n",
    "            #        tr = [item['transfer']['Inference time'] for item in data['results'][str(dataset)][m]] \n",
    "            #        print('Scratch: %s' % sc)\n",
    "            #        print('Transfer: %s' % pr)\n",
    "            #        print('Transfer & Revision: %s' % tr) \n",
    "            #        print('\\n')\n",
    "                #scratch = np.array([item['scratch']['Inference time'] for sublist in data['results'][str(dataset)] for item in sublist])\n",
    "                #parameter = np.array([item['transfer']['Parameter Learning results']['Learning time'] for sublist in data['results'][str(dataset)] for item in sublist])\n",
    "                #transfer = np.array([item['transfer']['Inference time'] for sublist in data['results'][str(dataset)] for item in sublist])\n",
    "            else:\n",
    "                sc_sum = np.zeros(len(data['results'][str(dataset)][0]))\n",
    "                sc_rdn_sum = np.zeros(len(data['results'][str(dataset)][0]))\n",
    "                pr_sum = np.zeros(len(data['results'][str(dataset)][0]))\n",
    "                tr_sum = np.zeros(len(data['results'][str(dataset)][0]))\n",
    "                if 'nell' not in dataset:\n",
    "                    tod_sum = np.array([i[metric] for i in todtler_results[dataset]])\n",
    "                else:\n",
    "                    tod_sum = np.array([np.nan, np.nan, np.nan])\n",
    "                for m in range(len(data['results'][str(dataset)][0])):\n",
    "                    sc_sum += np.array([item['mln_b'][metric] for item in data_mln['results'][str(dataset)][m]])\n",
    "                    sc_rdn_sum += np.array([item['rdn'][metric] for item in data['results'][str(dataset)][m]])\n",
    "                    pr_sum += np.array([item['transfer']['parameter'][metric] for item in data['results'][str(dataset)][m]])\n",
    "                    tr_sum += np.array([item['transfer'][metric] for item in data['results'][str(dataset)][m]])\n",
    "                sc_sum /= len(data['results'][str(dataset)])\n",
    "                sc_rdn_sum /= len(data['results'][str(dataset)])\n",
    "                pr_sum /= len(data['results'][str(dataset)])\n",
    "                tr_sum /= len(data['results'][str(dataset)])\n",
    "                #tod_sum /= len(data['results'][str(dataset)])\n",
    "                pvalue_table = []\n",
    "                pvalue = stats.ttest_rel(tr_sum, sc_sum)\n",
    "                pvalue2 = stats.ttest_rel(tr_sum, sc_rdn_sum)\n",
    "                pvalue3 = stats.ttest_rel(tr_sum, tod_sum)\n",
    "                #print(pvalue)\n",
    "                pvalue_table.append(['TreeBoostler', '%.3f' % (pvalue[1]), '%.3f' % (pvalue2[1]), '%.3f' % (pvalue3[1])])\n",
    "                pvalue = stats.ttest_rel(pr_sum, sc_sum)\n",
    "                pvalue2 = stats.ttest_rel(pr_sum, sc_rdn_sum)\n",
    "                pvalue3 = stats.ttest_rel(pr_sum, tod_sum)\n",
    "                #print(pvalue)\n",
    "                pvalue_table.append(['TreeBoostler*', '%.3f' % (pvalue[1]), '%.3f' % (pvalue2[1]), '%.3f' % (pvalue3[1])])\n",
    "                display(pd.DataFrame(pvalue_table, columns=['p-value', 'MLN-B', 'RDN', 'TODTLER']))\n",
    "                \n",
    "                for m in range(len(data['results'][str(dataset)])):\n",
    "                    print('Experiment %s' % (m+1))\n",
    "                    sc = [item['mln_b'][metric] for item in data_mln['results'][str(dataset)][m]]\n",
    "                    sc_rdn = [item['rdn'][metric] for item in data['results'][str(dataset)][m]]\n",
    "                    pr = [item['transfer']['parameter'][metric] for item in data['results'][str(dataset)][m]]\n",
    "                    tr = [item['transfer'][metric] for item in data['results'][str(dataset)][m]] \n",
    "                    print('Scratch MLN-B: %s' % sc)\n",
    "                    print('Scratch RDN: %s' % sc_rdn)\n",
    "                    print('TODTLER: %s' % tod_sum)\n",
    "                    print('Transfer: %s' % pr)\n",
    "                    print('Transfer & Revision: %s' % tr) \n",
    "                    print('\\n')\n",
    "                #scratch = np.array([item['scratch'][metric] for sublist in data['results'][str(dataset)] for item in sublist])\n",
    "                #parameter = np.array([item['transfer']['Parameter Learning results'][metric] for sublist in data['results'][str(dataset)] for item in sublist])\n",
    "                #transfer = np.array([item['transfer'][metric] for sublist in data['results'][str(dataset)] for item in sublist])\n",
    "            #print('\\n')\n",
    "            #print('Scratch: %s' % scratch)\n",
    "            #print('Transfer: %s' % parameter)\n",
    "            #print('Transfer & Revision: %s' % transfer)"
   ]
  },
  {
   "cell_type": "code",
   "execution_count": 11,
   "metadata": {
    "collapsed": false
   },
   "outputs": [
    {
     "data": {
      "text/markdown": [
       "# Results for 1_imdb_uwcse"
      ],
      "text/plain": [
       "<IPython.core.display.Markdown object>"
      ]
     },
     "metadata": {},
     "output_type": "display_data"
    },
    {
     "name": "stdout",
     "output_type": "stream",
     "text": [
      "RDN         & -0.195 & 0.918 & 0.243 & 1.92 \\\\\n",
      "MLN-B       & -0.707 & 0.893 & 0.152 & 4.19 \\\\\n",
      "TreeBoostler*     & -0.262 & 0.930 & 0.293 & 1.19 \\\\\n",
      "TreeBoostler & -0.241 & 0.939 & 0.298 & 9.52 \\\\\n"
     ]
    },
    {
     "data": {
      "text/markdown": [
       "# Results for 2_uwcse_imdb"
      ],
      "text/plain": [
       "<IPython.core.display.Markdown object>"
      ]
     },
     "metadata": {},
     "output_type": "display_data"
    },
    {
     "name": "stdout",
     "output_type": "stream",
     "text": [
      "RDN         & -0.167 & 0.991 & 0.764 & 1.05 \\\\\n",
      "MLN-B       & -0.617 & 0.996 & 0.824 & 3.80 \\\\\n",
      "TreeBoostler*     & -0.081 & 0.999 & 0.990 & 1.95 \\\\\n",
      "TreeBoostler & -0.067 & 1.000 & 1.000 & 8.08 \\\\\n"
     ]
    },
    {
     "data": {
      "text/markdown": [
       "# Results for 53_cora_imdb"
      ],
      "text/plain": [
       "<IPython.core.display.Markdown object>"
      ]
     },
     "metadata": {},
     "output_type": "display_data"
    },
    {
     "name": "stdout",
     "output_type": "stream",
     "text": [
      "RDN         & -0.166 & 0.994 & 0.813 & 1.17 \\\\\n",
      "MLN-B       & -0.434 & 0.997 & 0.879 & 3.77 \\\\\n",
      "TreeBoostler*     & -0.213 & 0.958 & 0.727 & 2.82 \\\\\n",
      "TreeBoostler & -0.077 & 0.999 & 0.952 & 10.70 \\\\\n"
     ]
    },
    {
     "data": {
      "text/markdown": [
       "# Results for 15_yeast_twitter"
      ],
      "text/plain": [
       "<IPython.core.display.Markdown object>"
      ]
     },
     "metadata": {},
     "output_type": "display_data"
    },
    {
     "name": "stdout",
     "output_type": "stream",
     "text": [
      "RDN         & -0.155 & 0.964 & 0.271 & 4.08 \\\\\n",
      "MLN-B       & -0.249 & 0.819 & 0.312 & 114.10 \\\\\n",
      "TreeBoostler*     & -0.138 & 0.986 & 0.394 & 6.12 \\\\\n",
      "TreeBoostler & -0.118 & 0.993 & 0.362 & 114.71 \\\\\n"
     ]
    },
    {
     "data": {
      "text/markdown": [
       "# Results for 22_twitter_yeast"
      ],
      "text/plain": [
       "<IPython.core.display.Markdown object>"
      ]
     },
     "metadata": {},
     "output_type": "display_data"
    },
    {
     "name": "stdout",
     "output_type": "stream",
     "text": [
      "RDN         & -0.182 & 0.695 & 0.081 & 4.46 \\\\\n",
      "MLN-B       & -0.288 & 0.674 & 0.154 & 9.68 \\\\\n",
      "TreeBoostler*     & -0.180 & 0.986 & 0.273 & 4.14 \\\\\n",
      "TreeBoostler & -0.180 & 0.986 & 0.272 & 60.99 \\\\\n"
     ]
    },
    {
     "data": {
      "text/markdown": [
       "# Results for 37_nell_sports_nell_finances"
      ],
      "text/plain": [
       "<IPython.core.display.Markdown object>"
      ]
     },
     "metadata": {},
     "output_type": "display_data"
    },
    {
     "name": "stdout",
     "output_type": "stream",
     "text": [
      "RDN         & -0.182 & 0.552 & 0.031 & 4.74 \\\\\n",
      "MLN-B       & -0.205 & 0.503 & 0.007 & 16.22 \\\\\n",
      "TreeBoostler*     & -0.172 & 0.976 & 0.057 & 17.96 \\\\\n",
      "TreeBoostler & -0.171 & 0.976 & 0.058 & 142.10 \\\\\n"
     ]
    }
   ],
   "source": [
    "for j in range(len(experiments)):\n",
    "    table = []\n",
    "    dataset = experiments[j]['id'] + '_' + experiments[j]['source'] + '_' + experiments[j]['target']\n",
    "    if dataset in data['results']:\n",
    "        display(Markdown('# Results for ' + dataset))\n",
    "        values = {'scratch': {}, 'scratch_rdn': {}, 'parameter': {}, 'transfer': {}, 'mapping_time': {}}\n",
    "        for metric in ['CLL', 'AUC ROC', 'AUC PR', 'Learning and Revision time']:\n",
    "            mapping_time = ''\n",
    "            if metric == 'Precision':\n",
    "                values['scratch'][metric] = np.array([(np.array([item['mln_b']['Precision'][0] for item in sublist])).mean() for sublist in data_mln['results'][str(dataset)]])\n",
    "                values['scratch_rdn'][metric] = np.array([(np.array([item['rdn']['Precision'][0] for item in sublist])).mean() for sublist in data['results'][str(dataset)]])\n",
    "                values['parameter'][metric] = np.array([(np.array([item['transfer']['parameter']['Precision'][0] for item in sublist])).mean() for sublist in data['results'][str(dataset)]])\n",
    "                values['transfer'][metric] = np.array([(np.array([item['transfer']['Precision'][0] for item in sublist])).mean() for sublist in data['results'][str(dataset)]])\n",
    "            elif metric == 'Learning and Revision time':\n",
    "                values['scratch'][metric] = np.array([(np.array([item['mln_b']['Learning time'] for item in sublist])).mean() for sublist in data_mln['results'][str(dataset)]])\n",
    "                values['scratch_rdn'][metric] = np.array([(np.array([item['rdn']['Learning time'] for item in sublist])).mean() for sublist in data['results'][str(dataset)]])\n",
    "                values['parameter'][metric] = np.array([(np.array([item['transfer']['parameter']['Learning time'] for item in sublist])).mean() for sublist in data['results'][str(dataset)]])\n",
    "                values['transfer'][metric] = np.array([(np.array([item['transfer']['Learning time'] for item in sublist])).mean() for sublist in data['results'][str(dataset)]])\n",
    "                #mapping = np.array([(np.array([item['transfer']['Mapping results']['Total time'] for item in sublist])).mean() for sublist in data['results'][str(dataset)]])\n",
    "                #values['mapping_time'] = '(%.1f)' % mapping.mean()\n",
    "            elif metric == 'Inference time':\n",
    "                values['scratch'][metric] = np.array([(np.array([item['mln_b']['Inference time'] for item in sublist])).mean() for sublist in data_mln['results'][str(dataset)]])\n",
    "                values['scratch_rdn'][metric] = np.array([(np.array([item['rdn']['Inference time'] for item in sublist])).mean() for sublist in data['results'][str(dataset)]])\n",
    "                values['parameter'][metric] = np.array([(np.array([item['transfer']['parameter']['Inference time'] for item in sublist])).mean() for sublist in data['results'][str(dataset)]])\n",
    "                values['transfer'][metric] = np.array([(np.array([item['transfer']['Inference time'] for item in sublist])).mean() for sublist in data['results'][str(dataset)]])\n",
    "            else:\n",
    "                values['scratch'][metric] = np.array([(np.array([item['mln_b'][metric] for item in sublist])).mean() for sublist in data_mln['results'][str(dataset)]])\n",
    "                values['scratch_rdn'][metric] = np.array([(np.array([item['rdn'][metric] for item in sublist])).mean() for sublist in data['results'][str(dataset)]])\n",
    "                values['parameter'][metric] = np.array([(np.array([item['transfer']['parameter'][metric] for item in sublist])).mean() for sublist in data['results'][str(dataset)]])\n",
    "                values['transfer'][metric] = np.array([(np.array([item['transfer'][metric] for item in sublist])).mean() for sublist in data['results'][str(dataset)]])\n",
    "\n",
    "        print('RDN         & %.3f & %.3f & %.3f & %.2f \\\\\\\\' % (values['scratch_rdn']['CLL'].mean(), values['scratch_rdn']['AUC ROC'].mean(), values['scratch_rdn']['AUC PR'].mean(), values['scratch_rdn']['Learning and Revision time'].mean()))\n",
    "        print('MLN-B       & %.3f & %.3f & %.3f & %.2f \\\\\\\\' % (values['scratch']['CLL'].mean(), values['scratch']['AUC ROC'].mean(), values['scratch']['AUC PR'].mean(), values['scratch']['Learning and Revision time'].mean()))\n",
    "        #print('trRDN-B     & %.3f & %.3f & %.3f & %.3f%s \\\\\\\\' % (values['parameter']['CLL'].mean(), values['parameter']['AUC ROC'].mean(), values['parameter']['AUC PR'].mean(), values['parameter']['Learning and Revision time'].mean(), values['mapping_time']))\n",
    "        #print('trRDN-B Ref & %.3f & %.3f & %.3f & %.3f%s \\\\\\\\' % (values['transfer']['CLL'].mean(), values['transfer']['AUC ROC'].mean(), values['transfer']['AUC PR'].mean(), values['transfer']['Learning and Revision time'].mean(), values['mapping_time']))\n",
    "        print('TreeBoostler*     & %.3f & %.3f & %.3f & %.2f \\\\\\\\' % (values['parameter']['CLL'].mean(), values['parameter']['AUC ROC'].mean(), values['parameter']['AUC PR'].mean(), values['parameter']['Learning and Revision time'].mean()))\n",
    "        print('TreeBoostler & %.3f & %.3f & %.3f & %.2f \\\\\\\\' % (values['transfer']['CLL'].mean(), values['transfer']['AUC ROC'].mean(), values['transfer']['AUC PR'].mean(), values['transfer']['Learning and Revision time'].mean()))"
   ]
  },
  {
   "cell_type": "code",
   "execution_count": null,
   "metadata": {
    "collapsed": true
   },
   "outputs": [],
   "source": []
  },
  {
   "cell_type": "code",
   "execution_count": null,
   "metadata": {
    "collapsed": true
   },
   "outputs": [],
   "source": []
  }
 ],
 "metadata": {
  "anaconda-cloud": {},
  "kernelspec": {
   "display_name": "Python [default]",
   "language": "python",
   "name": "python3"
  },
  "language_info": {
   "codemirror_mode": {
    "name": "ipython",
    "version": 3
   },
   "file_extension": ".py",
   "mimetype": "text/x-python",
   "name": "python",
   "nbconvert_exporter": "python",
   "pygments_lexer": "ipython3",
   "version": "3.5.2"
  }
 },
 "nbformat": 4,
 "nbformat_minor": 1
}
