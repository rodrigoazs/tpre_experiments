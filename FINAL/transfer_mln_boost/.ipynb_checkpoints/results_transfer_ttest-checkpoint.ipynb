{
 "cells": [
  {
   "cell_type": "code",
   "execution_count": 1,
   "metadata": {
    "collapsed": true
   },
   "outputs": [],
   "source": [
    "import matplotlib.pyplot as plt\n",
    "from IPython.display import display, Markdown, Latex\n",
    "import numpy as np\n",
    "import json\n",
    "import pandas as pd\n",
    "from scipy import stats\n",
    "import os\n",
    "%matplotlib inline\n",
    "\n",
    "#with open('transfer_experiment.json', 'r') as fp:\n",
    "#    data = json.load(fp)\n",
    "    \n",
    "def load_data(experiments):\n",
    "    data = { 'results' : {} }\n",
    "    for item in experiments:\n",
    "        experiment_title = item['id'] + '_' + item['source'] + '_' + item['target']\n",
    "        if os.path.isfile('../transfer_experiment/experiments/' + experiment_title + '/' + experiment_title + '.json'):\n",
    "            with open('../transfer_experiment/experiments/' + experiment_title + '/' + experiment_title + '.json', 'r') as fp:\n",
    "                results = json.load(fp)\n",
    "                data['results'][experiment_title] = results\n",
    "    return data\n",
    "\n",
    "def load_data_mln(experiments):\n",
    "    data = { 'results' : {} }\n",
    "    for item in experiments:\n",
    "        experiment_title = item['id'] + '_' + item['source'] + '_' + item['target']\n",
    "        if os.path.isfile('experiments/' + experiment_title + '/' + experiment_title + '.json'):\n",
    "            with open('experiments/' + experiment_title + '/' + experiment_title + '.json', 'r') as fp:\n",
    "                results = json.load(fp)\n",
    "                data['results'][experiment_title] = results\n",
    "    return data"
   ]
  },
  {
   "cell_type": "code",
   "execution_count": null,
   "metadata": {
    "collapsed": false,
    "scrolled": false
   },
   "outputs": [],
   "source": [
    "experiments = [\n",
    "            {'id': '1', 'source':'imdb', 'target':'uwcse', 'predicate':'workedunder', 'to_predicate':'advisedby'},\n",
    "            {'id': '2', 'source':'uwcse', 'target':'imdb', 'predicate':'advisedby', 'to_predicate':'workedunder'},\n",
    "            {'id': '3', 'source':'imdb', 'target':'uwcse', 'predicate':'movie', 'to_predicate':'publication'},\n",
    "            {'id': '4', 'source':'uwcse', 'target':'imdb', 'predicate':'publication', 'to_predicate':'movie'},\n",
    "            {'id': '5', 'source':'imdb', 'target':'uwcse', 'predicate':'genre', 'to_predicate':'inphase'},\n",
    "            {'id': '6', 'source':'uwcse', 'target':'imdb', 'predicate':'inphase', 'to_predicate':'genre'},\n",
    "            {'id': '7', 'source':'imdb', 'target':'cora', 'predicate':'workedunder', 'to_predicate':'samevenue'},\n",
    "            {'id': '53', 'source':'cora', 'target':'imdb', 'predicate':'samevenue', 'to_predicate':'workedunder'},\n",
    "            {'id': '8', 'source':'imdb', 'target':'cora', 'predicate':'workedunder', 'to_predicate':'samebib'},\n",
    "            {'id': '9', 'source':'imdb', 'target':'cora', 'predicate':'workedunder', 'to_predicate':'sameauthor'},\n",
    "            {'id': '10', 'source':'imdb', 'target':'cora', 'predicate':'workedunder', 'to_predicate':'sametitle'},\n",
    "            {'id': '11', 'source':'uwcse', 'target':'cora', 'predicate':'advisedby', 'to_predicate':'samevenue'},\n",
    "            {'id': '12', 'source':'uwcse', 'target':'cora', 'predicate':'advisedby', 'to_predicate':'samebib'},\n",
    "            {'id': '13', 'source':'uwcse', 'target':'cora', 'predicate':'advisedby', 'to_predicate':'sameauthor'},\n",
    "            {'id': '14', 'source':'uwcse', 'target':'cora', 'predicate':'advisedby', 'to_predicate':'sametitle'},\n",
    "            {'id': '15', 'source':'yeast', 'target':'twitter', 'predicate':'proteinclass', 'to_predicate':'accounttype'},\n",
    "            {'id': '16', 'source':'yeast', 'target':'twitter', 'predicate':'interaction', 'to_predicate':'follows'},\n",
    "            {'id': '17', 'source':'yeast', 'target':'twitter', 'predicate':'location', 'to_predicate':'tweets'},\n",
    "            {'id': '18', 'source':'yeast', 'target':'twitter', 'predicate':'enzyme', 'to_predicate':'tweets'},\n",
    "            {'id': '19', 'source':'yeast', 'target':'twitter', 'predicate':'function', 'to_predicate':'tweets'},\n",
    "            {'id': '20', 'source':'yeast', 'target':'twitter', 'predicate':'phenotype', 'to_predicate':'tweets'},\n",
    "            {'id': '21', 'source':'yeast', 'target':'twitter', 'predicate':'complex', 'to_predicate':'tweets'},\n",
    "            {'id': '22', 'source':'twitter', 'target':'yeast', 'predicate':'accounttype', 'to_predicate':'proteinclass'},\n",
    "            {'id': '23', 'source':'twitter', 'target':'yeast', 'predicate':'follows', 'to_predicate':'interaction'},\n",
    "            {'id': '24', 'source':'twitter', 'target':'yeast', 'predicate':'tweets', 'to_predicate':'location'},\n",
    "            {'id': '25', 'source':'twitter', 'target':'yeast', 'predicate':'tweets', 'to_predicate':'enzyme'},\n",
    "            {'id': '26', 'source':'twitter', 'target':'yeast', 'predicate':'tweets', 'to_predicate':'function'},\n",
    "            {'id': '27', 'source':'twitter', 'target':'yeast', 'predicate':'tweets', 'to_predicate':'phenotype'},\n",
    "            {'id': '28', 'source':'twitter', 'target':'yeast', 'predicate':'tweets', 'to_predicate':'complex'},\n",
    "            {'id': '29', 'source':'nell_sports', 'target':'nell_finances', 'predicate':'teamalsoknownas', 'to_predicate':'companyalsoknownas'},\n",
    "            {'id': '30', 'source':'nell_sports', 'target':'nell_finances', 'predicate':'teamplaysagainstteam', 'to_predicate':'companyalsoknownas'},\n",
    "            {'id': '31', 'source':'nell_sports', 'target':'nell_finances', 'predicate':'teamplaysagainstteam', 'to_predicate':'acquired'},\n",
    "            {'id': '32', 'source':'nell_sports', 'target':'nell_finances', 'predicate':'teamplaysagainstteam', 'to_predicate':'bankboughtbank'},\n",
    "            {'id': '33', 'source':'nell_sports', 'target':'nell_finances', 'predicate':'athleteplayssport', 'to_predicate':'companyceo'},\n",
    "            {'id': '34', 'source':'nell_sports', 'target':'nell_finances', 'predicate':'athleteplayssport', 'to_predicate':'bankchiefexecutiveceo'},\n",
    "            {'id': '35', 'source':'nell_sports', 'target':'nell_finances', 'predicate':'athleteplaysforteam', 'to_predicate':'bankchiefexecutiveceo'},\n",
    "            {'id': '36', 'source':'nell_sports', 'target':'nell_finances', 'predicate':'athleteplaysforteam', 'to_predicate':'companyceo'},\n",
    "            {'id': '37', 'source':'nell_sports', 'target':'nell_finances', 'predicate':'teamplayssport', 'to_predicate':'companyeconomicsector'},\n",
    "            {'id': '38', 'source':'nell_finances', 'target':'nell_sports', 'predicate':'companyalsoknownas', 'to_predicate':'teamalsoknownas'},\n",
    "            {'id': '39', 'source':'nell_finances', 'target':'nell_sports', 'predicate':'companyalsoknownas', 'to_predicate':'teamplaysagainstteam'},\n",
    "            {'id': '40', 'source':'nell_finances', 'target':'nell_sports', 'predicate':'acquired', 'to_predicate':'teamplaysagainstteam'},\n",
    "            {'id': '41', 'source':'nell_finances', 'target':'nell_sports', 'predicate':'bankboughtbank', 'to_predicate':'teamplaysagainstteam'},\n",
    "            {'id': '42', 'source':'nell_finances', 'target':'nell_sports', 'predicate':'companyceo', 'to_predicate':'athleteplayssport'},\n",
    "            {'id': '43', 'source':'nell_finances', 'target':'nell_sports', 'predicate':'bankchiefexecutiveceo', 'to_predicate':'athleteplayssport'},\n",
    "            {'id': '44', 'source':'nell_finances', 'target':'nell_sports', 'predicate':'bankchiefexecutiveceo', 'to_predicate':'athleteplaysforteam'},\n",
    "            {'id': '45', 'source':'nell_finances', 'target':'nell_sports', 'predicate':'companyceo', 'to_predicate':'athleteplaysforteam'},\n",
    "            {'id': '46', 'source':'nell_finances', 'target':'nell_sports', 'predicate':'companyeconomicsector', 'to_predicate':'teamplayssport'},\n",
    "            {'id': '47', 'source':'yeast', 'target':'facebook', 'predicate':'interaction', 'to_predicate':'edge'},\n",
    "            {'id': '48', 'source':'twitter', 'target':'facebook', 'predicate':'follows', 'to_predicate':'edge'},\n",
    "            {'id': '49', 'source':'imdb', 'target':'facebook', 'predicate':'workedunder', 'to_predicate':'edge'},\n",
    "            {'id': '50', 'source':'uwcse', 'target':'facebook', 'predicate':'advisedby', 'to_predicate':'edge'},\n",
    "]\n",
    "\n",
    "data = load_data(experiments)\n",
    "data_mln = load_data_mln(experiments)\n",
    "\n",
    "for metric in ['AUC ROC', 'AUC PR', 'CLL', 'Recall', 'F1', 'Precision', 'Learning and Revision time', 'Inference time']:\n",
    "    display(Markdown('# Results for ' + metric))\n",
    "    table = []\n",
    "    for j in range(len(experiments)):\n",
    "        dataset = experiments[j]['id'] + '_' + experiments[j]['source'] + '_' + experiments[j]['target']\n",
    "        if dataset in data['results']: \n",
    "            #for metric in ['AUC ROC', 'AUC PR']:\n",
    "                #display(Markdown('## ' + metric))\n",
    "            mapping_time = ''\n",
    "            if metric == 'Precision':\n",
    "                scratch = np.array([(np.array([item['rdn_b']['Precision'][0] for item in sublist])).mean() for sublist in data['results'][str(dataset)]])\n",
    "                scratch_rdn = np.array([(np.array([item['rdn']['Precision'][0] for item in sublist])).mean() for sublist in data['results'][str(dataset)]])\n",
    "                parameter = np.array([(np.array([item['transfer']['parameter']['Precision'][0] for item in sublist])).mean() for sublist in data['results'][str(dataset)]])\n",
    "                transfer = np.array([(np.array([item['transfer']['Precision'][0] for item in sublist])).mean() for sublist in data['results'][str(dataset)]])\n",
    "            elif metric == 'Learning and Revision time':\n",
    "                scratch = np.array([(np.array([item['rdn_b']['Learning time'] for item in sublist])).mean() for sublist in data['results'][str(dataset)]])\n",
    "                scratch_rdn = np.array([(np.array([item['rdn']['Learning time'] for item in sublist])).mean() for sublist in data['results'][str(dataset)]])\n",
    "                parameter = np.array([(np.array([item['transfer']['parameter']['Learning time'] for item in sublist])).mean() for sublist in data['results'][str(dataset)]])\n",
    "                transfer = np.array([(np.array([item['transfer']['Learning time'] for item in sublist])).mean() for sublist in data['results'][str(dataset)]])\n",
    "                #mapping = np.array([(np.array([item['transfer']['Mapping results']['Total time'] for item in sublist])).mean() for sublist in data['results'][str(dataset)]])\n",
    "                #mapping_time = ' (%.1f)' % mapping.mean()\n",
    "            elif metric == 'Inference time':\n",
    "                scratch = np.array([(np.array([item['rdn_b']['Inference time'] for item in sublist])).mean() for sublist in data['results'][str(dataset)]])\n",
    "                scratch_rdn = np.array([(np.array([item['rdn']['Inference time'] for item in sublist])).mean() for sublist in data['results'][str(dataset)]])\n",
    "                parameter = np.array([(np.array([item['transfer']['parameter']['Inference time'] for item in sublist])).mean() for sublist in data['results'][str(dataset)]])\n",
    "                transfer = np.array([(np.array([item['transfer']['Inference time'] for item in sublist])).mean() for sublist in data['results'][str(dataset)]])\n",
    "            else:\n",
    "                scratch = np.array([(np.array([item['rdn_b'][metric] for item in sublist])).mean() for sublist in data['results'][str(dataset)]])\n",
    "                scratch_rdn = np.array([(np.array([item['rdn'][metric] for item in sublist])).mean() for sublist in data['results'][str(dataset)]])\n",
    "                parameter = np.array([(np.array([item['transfer']['parameter'][metric] for item in sublist])).mean() for sublist in data['results'][str(dataset)]])\n",
    "                transfer = np.array([(np.array([item['transfer'][metric] for item in sublist])).mean() for sublist in data['results'][str(dataset)]])\n",
    "            table.append([dataset, '%.3f +/- %.3f' % (parameter.mean(), 2 * parameter.std()),\n",
    "            '%.3f +/- %.3f' % (transfer.mean(), 2 * transfer.std()),\n",
    "            '%.3f +/- %.3f' % (scratch.mean(), 2 * scratch.std()),\n",
    "            '%.3f +/- %.3f' % (scratch_rdn.mean(), 2 * scratch_rdn.std())])\n",
    "                          #])\n",
    "    display(pd.DataFrame(table, columns=['Experiment', 'Transfer Learning', 'Transfer Learning with Revision Theory', 'Learning from scratch (RDN-B)', 'Learning from scratch (RDN)']))\n",
    "    #display(pd.DataFrame(table, columns=['Experiment', 'Transfer Learning', 'Transfer Learning with Revision Theory']))"
   ]
  },
  {
   "cell_type": "code",
   "execution_count": 7,
   "metadata": {
    "collapsed": false
   },
   "outputs": [
    {
     "data": {
      "text/markdown": [
       "# Results in TODTLER for AUC ROC"
      ],
      "text/plain": [
       "<IPython.core.display.Markdown object>"
      ]
     },
     "metadata": {},
     "output_type": "display_data"
    },
    {
     "data": {
      "text/markdown": [
       "# Results in TODTLER for AUC PR"
      ],
      "text/plain": [
       "<IPython.core.display.Markdown object>"
      ]
     },
     "metadata": {},
     "output_type": "display_data"
    },
    {
     "data": {
      "text/markdown": [
       "# Results in TODTLER for CLL"
      ],
      "text/plain": [
       "<IPython.core.display.Markdown object>"
      ]
     },
     "metadata": {},
     "output_type": "display_data"
    }
   ],
   "source": [
    "import os\n",
    "\n",
    "path = 'todtler_scored/'\n",
    "\n",
    "todtler_results = {}\n",
    "for metric in ['AUC ROC', 'AUC PR', 'CLL']:\n",
    "    display(Markdown('# Results in TODTLER for ' + metric))\n",
    "    table = []\n",
    "    for j in range(len(experiments)):\n",
    "        dataset = experiments[j]['id'] + '_' + experiments[j]['source'] + '_' + experiments[j]['target']\n",
    "        if os.path.isfile(path + dataset + '.json'):\n",
    "            with open(path + dataset + '.json', 'r') as fp:\n",
    "                get_results = json.load(fp)\n",
    "                todtler_results[dataset] = get_results"
   ]
  },
  {
   "cell_type": "code",
   "execution_count": 8,
   "metadata": {
    "collapsed": false,
    "scrolled": false
   },
   "outputs": [
    {
     "data": {
      "text/markdown": [
       "# Results for 1_imdb_uwcse"
      ],
      "text/plain": [
       "<IPython.core.display.Markdown object>"
      ]
     },
     "metadata": {},
     "output_type": "display_data"
    },
    {
     "data": {
      "text/markdown": [
       "## AUC ROC"
      ],
      "text/plain": [
       "<IPython.core.display.Markdown object>"
      ]
     },
     "metadata": {},
     "output_type": "display_data"
    },
    {
     "data": {
      "text/html": [
       "<div>\n",
       "<table border=\"1\" class=\"dataframe\">\n",
       "  <thead>\n",
       "    <tr style=\"text-align: right;\">\n",
       "      <th></th>\n",
       "      <th>p-value</th>\n",
       "      <th>RDN-B</th>\n",
       "      <th>RDN</th>\n",
       "      <th>TODTLER</th>\n",
       "    </tr>\n",
       "  </thead>\n",
       "  <tbody>\n",
       "    <tr>\n",
       "      <th>0</th>\n",
       "      <td>TreeBoostler</td>\n",
       "      <td>0.417</td>\n",
       "      <td>0.037</td>\n",
       "      <td>0.000</td>\n",
       "    </tr>\n",
       "    <tr>\n",
       "      <th>1</th>\n",
       "      <td>TreeBoostler*</td>\n",
       "      <td>0.043</td>\n",
       "      <td>0.209</td>\n",
       "      <td>0.000</td>\n",
       "    </tr>\n",
       "  </tbody>\n",
       "</table>\n",
       "</div>"
      ],
      "text/plain": [
       "         p-value  RDN-B    RDN TODTLER\n",
       "0   TreeBoostler  0.417  0.037   0.000\n",
       "1  TreeBoostler*  0.043  0.209   0.000"
      ]
     },
     "metadata": {},
     "output_type": "display_data"
    },
    {
     "name": "stdout",
     "output_type": "stream",
     "text": [
      "Experiment 1\n",
      "Scratch RDN-B: [0.94762, 0.948226, 0.902715, 0.949013, 0.930367]\n",
      "Scratch RDN: [0.94944, 0.933575, 0.908355, 0.947766, 0.902018]\n",
      "TODTLER: [ 0.65067074  0.61530949  0.51312592  0.54518043  0.52628121]\n",
      "Transfer: [0.935982, 0.932863, 0.904213, 0.936897, 0.937621]\n",
      "Transfer & Revision: [0.953385, 0.944094, 0.904213, 0.948374, 0.951112]\n",
      "\n",
      "\n",
      "Experiment 2\n",
      "Scratch RDN-B: [0.951395, 0.938568, 0.919194, 0.954245, 0.949075]\n",
      "Scratch RDN: [0.936732, 0.930447, 0.904039, 0.953888, 0.90843]\n",
      "TODTLER: [ 0.65067074  0.61530949  0.51312592  0.54518043  0.52628121]\n",
      "Transfer: [0.935982, 0.932863, 0.904213, 0.936897, 0.937621]\n",
      "Transfer & Revision: [0.949536, 0.942017, 0.907846, 0.951339, 0.952275]\n",
      "\n",
      "\n",
      "Experiment 3\n",
      "Scratch RDN-B: [0.948557, 0.939429, 0.905223, 0.944937, 0.948473]\n",
      "Scratch RDN: [0.95392, 0.898546, 0.867506, 0.939514, 0.911397]\n",
      "TODTLER: [ 0.65067074  0.61530949  0.51312592  0.54518043  0.52628121]\n",
      "Transfer: [0.935982, 0.932863, 0.904213, 0.936897, 0.937621]\n",
      "Transfer & Revision: [0.95073, 0.943548, 0.903786, 0.936897, 0.953927]\n",
      "\n",
      "\n",
      "Experiment 4\n",
      "Scratch RDN-B: [0.947742, 0.945415, 0.900289, 0.94849, 0.938347]\n",
      "Scratch RDN: [0.932278, 0.948512, 0.865033, 0.933457, 0.91385]\n",
      "TODTLER: [ 0.65067074  0.61530949  0.51312592  0.54518043  0.52628121]\n",
      "Transfer: [0.935982, 0.932863, 0.904213, 0.936897, 0.937621]\n",
      "Transfer & Revision: [0.941855, 0.945241, 0.90564, 0.943815, 0.951509]\n",
      "\n",
      "\n",
      "Experiment 5\n",
      "Scratch RDN-B: [0.948313, 0.935347, 0.90564, 0.951717, 0.925436]\n",
      "Scratch RDN: [0.929988, 0.909293, 0.830237, 0.936648, 0.904919]\n",
      "TODTLER: [ 0.65067074  0.61530949  0.51312592  0.54518043  0.52628121]\n",
      "Transfer: [0.935982, 0.932863, 0.904213, 0.936897, 0.937621]\n",
      "Transfer & Revision: [0.954313, 0.945306, 0.90667, 0.952159, 0.944616]\n",
      "\n",
      "\n"
     ]
    },
    {
     "data": {
      "text/markdown": [
       "## AUC PR"
      ],
      "text/plain": [
       "<IPython.core.display.Markdown object>"
      ]
     },
     "metadata": {},
     "output_type": "display_data"
    },
    {
     "data": {
      "text/html": [
       "<div>\n",
       "<table border=\"1\" class=\"dataframe\">\n",
       "  <thead>\n",
       "    <tr style=\"text-align: right;\">\n",
       "      <th></th>\n",
       "      <th>p-value</th>\n",
       "      <th>RDN-B</th>\n",
       "      <th>RDN</th>\n",
       "      <th>TODTLER</th>\n",
       "    </tr>\n",
       "  </thead>\n",
       "  <tbody>\n",
       "    <tr>\n",
       "      <th>0</th>\n",
       "      <td>TreeBoostler</td>\n",
       "      <td>0.374</td>\n",
       "      <td>0.281</td>\n",
       "      <td>0.007</td>\n",
       "    </tr>\n",
       "    <tr>\n",
       "      <th>1</th>\n",
       "      <td>TreeBoostler*</td>\n",
       "      <td>0.456</td>\n",
       "      <td>0.293</td>\n",
       "      <td>0.004</td>\n",
       "    </tr>\n",
       "  </tbody>\n",
       "</table>\n",
       "</div>"
      ],
      "text/plain": [
       "         p-value  RDN-B    RDN TODTLER\n",
       "0   TreeBoostler  0.374  0.281   0.007\n",
       "1  TreeBoostler*  0.456  0.293   0.004"
      ]
     },
     "metadata": {},
     "output_type": "display_data"
    },
    {
     "name": "stdout",
     "output_type": "stream",
     "text": [
      "Experiment 1\n",
      "Scratch RDN-B: [0.320228, 0.249776, 0.115781, 0.436238, 0.198874]\n",
      "Scratch RDN: [0.390172, 0.164422, 0.12889, 0.39089, 0.115896]\n",
      "TODTLER: [ 0.05955477  0.03669303  0.02634277  0.03362892  0.02672021]\n",
      "Transfer: [0.358428, 0.29479, 0.119816, 0.369816, 0.323785]\n",
      "Transfer & Revision: [0.41419, 0.231977, 0.119816, 0.418573, 0.35434]\n",
      "\n",
      "\n",
      "Experiment 2\n",
      "Scratch RDN-B: [0.416181, 0.275425, 0.135152, 0.421651, 0.256542]\n",
      "Scratch RDN: [0.337268, 0.173207, 0.119542, 0.406837, 0.124771]\n",
      "TODTLER: [ 0.05955477  0.03669303  0.02634277  0.03362892  0.02672021]\n",
      "Transfer: [0.358428, 0.29479, 0.119816, 0.369816, 0.323785]\n",
      "Transfer & Revision: [0.347208, 0.197566, 0.125425, 0.445505, 0.353739]\n",
      "\n",
      "\n",
      "Experiment 3\n",
      "Scratch RDN-B: [0.414462, 0.192956, 0.119046, 0.356632, 0.293608]\n",
      "Scratch RDN: [0.434104, 0.106884, 0.093301, 0.345333, 0.134481]\n",
      "TODTLER: [ 0.05955477  0.03669303  0.02634277  0.03362892  0.02672021]\n",
      "Transfer: [0.358428, 0.29479, 0.119816, 0.369816, 0.323785]\n",
      "Transfer & Revision: [0.363152, 0.298639, 0.116557, 0.369816, 0.357761]\n",
      "\n",
      "\n",
      "Experiment 4\n",
      "Scratch RDN-B: [0.370109, 0.252201, 0.114109, 0.383635, 0.1903]\n",
      "Scratch RDN: [0.424727, 0.327274, 0.103878, 0.366843, 0.131388]\n",
      "TODTLER: [ 0.05955477  0.03669303  0.02634277  0.03362892  0.02672021]\n",
      "Transfer: [0.358428, 0.29479, 0.119816, 0.369816, 0.323785]\n",
      "Transfer & Revision: [0.330827, 0.218023, 0.118786, 0.352979, 0.354677]\n",
      "\n",
      "\n",
      "Experiment 5\n",
      "Scratch RDN-B: [0.379977, 0.178696, 0.118786, 0.43131, 0.15802]\n",
      "Scratch RDN: [0.386581, 0.324898, 0.068876, 0.361777, 0.120766]\n",
      "TODTLER: [ 0.05955477  0.03669303  0.02634277  0.03362892  0.02672021]\n",
      "Transfer: [0.358428, 0.29479, 0.119816, 0.369816, 0.323785]\n",
      "Transfer & Revision: [0.431854, 0.231888, 0.120486, 0.430343, 0.338445]\n",
      "\n",
      "\n"
     ]
    },
    {
     "data": {
      "text/markdown": [
       "## CLL"
      ],
      "text/plain": [
       "<IPython.core.display.Markdown object>"
      ]
     },
     "metadata": {},
     "output_type": "display_data"
    },
    {
     "data": {
      "text/html": [
       "<div>\n",
       "<table border=\"1\" class=\"dataframe\">\n",
       "  <thead>\n",
       "    <tr style=\"text-align: right;\">\n",
       "      <th></th>\n",
       "      <th>p-value</th>\n",
       "      <th>RDN-B</th>\n",
       "      <th>RDN</th>\n",
       "      <th>TODTLER</th>\n",
       "    </tr>\n",
       "  </thead>\n",
       "  <tbody>\n",
       "    <tr>\n",
       "      <th>0</th>\n",
       "      <td>TreeBoostler</td>\n",
       "      <td>0.265</td>\n",
       "      <td>0.089</td>\n",
       "      <td>0.005</td>\n",
       "    </tr>\n",
       "    <tr>\n",
       "      <th>1</th>\n",
       "      <td>TreeBoostler*</td>\n",
       "      <td>0.631</td>\n",
       "      <td>0.022</td>\n",
       "      <td>0.005</td>\n",
       "    </tr>\n",
       "  </tbody>\n",
       "</table>\n",
       "</div>"
      ],
      "text/plain": [
       "         p-value  RDN-B    RDN TODTLER\n",
       "0   TreeBoostler  0.265  0.089   0.005\n",
       "1  TreeBoostler*  0.631  0.022   0.005"
      ]
     },
     "metadata": {},
     "output_type": "display_data"
    },
    {
     "name": "stdout",
     "output_type": "stream",
     "text": [
      "Experiment 1\n",
      "Scratch RDN-B: [-0.218211, -0.229512, -0.361815, -0.20265, -0.243351]\n",
      "Scratch RDN: [-0.193431, -0.187056, -0.193648, -0.192123, -0.195196]\n",
      "TODTLER: [-1.61040952 -2.96772613 -4.87916415 -4.69145833 -4.34869749]\n",
      "Transfer: [-0.241101, -0.249351, -0.31985, -0.242826, -0.259763]\n",
      "Transfer & Revision: [-0.178768, -0.249313, -0.31985, -0.229173, -0.211615]\n",
      "\n",
      "\n",
      "Experiment 2\n",
      "Scratch RDN-B: [-0.229657, -0.262207, -0.358178, -0.206168, -0.221603]\n",
      "Scratch RDN: [-0.19762, -0.187356, -0.194508, -0.19165, -0.195145]\n",
      "TODTLER: [-1.61040952 -2.96772613 -4.87916415 -4.69145833 -4.34869749]\n",
      "Transfer: [-0.225732, -0.248999, -0.350157, -0.231466, -0.227192]\n",
      "Transfer & Revision: [-0.200816, -0.253029, -0.316614, -0.214565, -0.204643]\n",
      "\n",
      "\n",
      "Experiment 3\n",
      "Scratch RDN-B: [-0.228933, -0.249735, -0.334497, -0.214503, -0.215783]\n",
      "Scratch RDN: [-0.194161, -0.195303, -0.206813, -0.193902, -0.191015]\n",
      "TODTLER: [-1.61040952 -2.96772613 -4.87916415 -4.69145833 -4.34869749]\n",
      "Transfer: [-0.213054, -0.233467, -0.334931, -0.226251, -0.243934]\n",
      "Transfer & Revision: [-0.19511, -0.233729, -0.337524, -0.226251, -0.183771]\n",
      "\n",
      "\n",
      "Experiment 4\n",
      "Scratch RDN-B: [-0.206446, -0.2214, -0.406158, -0.216383, -0.242193]\n",
      "Scratch RDN: [-0.192979, -0.185599, -0.208311, -0.198979, -0.194738]\n",
      "TODTLER: [-1.61040952 -2.96772613 -4.87916415 -4.69145833 -4.34869749]\n",
      "Transfer: [-0.226297, -0.24416, -0.330918, -0.245625, -0.273362]\n",
      "Transfer & Revision: [-0.218685, -0.234964, -0.349677, -0.226862, -0.208616]\n",
      "\n",
      "\n",
      "Experiment 5\n",
      "Scratch RDN-B: [-0.200664, -0.253611, -0.406151, -0.202234, -0.284701]\n",
      "Scratch RDN: [-0.195334, -0.180625, -0.215706, -0.194061, -0.190417]\n",
      "TODTLER: [-1.61040952 -2.96772613 -4.87916415 -4.69145833 -4.34869749]\n",
      "Transfer: [-0.248671, -0.276196, -0.373463, -0.234668, -0.243443]\n",
      "Transfer & Revision: [-0.210756, -0.246992, -0.298247, -0.245279, -0.224022]\n",
      "\n",
      "\n"
     ]
    },
    {
     "data": {
      "text/markdown": [
       "# Results for 2_uwcse_imdb"
      ],
      "text/plain": [
       "<IPython.core.display.Markdown object>"
      ]
     },
     "metadata": {},
     "output_type": "display_data"
    },
    {
     "data": {
      "text/markdown": [
       "## AUC ROC"
      ],
      "text/plain": [
       "<IPython.core.display.Markdown object>"
      ]
     },
     "metadata": {},
     "output_type": "display_data"
    },
    {
     "data": {
      "text/html": [
       "<div>\n",
       "<table border=\"1\" class=\"dataframe\">\n",
       "  <thead>\n",
       "    <tr style=\"text-align: right;\">\n",
       "      <th></th>\n",
       "      <th>p-value</th>\n",
       "      <th>RDN-B</th>\n",
       "      <th>RDN</th>\n",
       "      <th>TODTLER</th>\n",
       "    </tr>\n",
       "  </thead>\n",
       "  <tbody>\n",
       "    <tr>\n",
       "      <th>0</th>\n",
       "      <td>TreeBoostler</td>\n",
       "      <td>nan</td>\n",
       "      <td>0.091</td>\n",
       "      <td>0.199</td>\n",
       "    </tr>\n",
       "    <tr>\n",
       "      <th>1</th>\n",
       "      <td>TreeBoostler*</td>\n",
       "      <td>0.072</td>\n",
       "      <td>0.110</td>\n",
       "      <td>0.203</td>\n",
       "    </tr>\n",
       "  </tbody>\n",
       "</table>\n",
       "</div>"
      ],
      "text/plain": [
       "         p-value  RDN-B    RDN TODTLER\n",
       "0   TreeBoostler    nan  0.091   0.199\n",
       "1  TreeBoostler*  0.072  0.110   0.203"
      ]
     },
     "metadata": {},
     "output_type": "display_data"
    },
    {
     "name": "stdout",
     "output_type": "stream",
     "text": [
      "Experiment 1\n",
      "Scratch RDN-B: [1.0, 1.0, 1.0, 1.0, 1.0]\n",
      "Scratch RDN: [0.994647, 0.994636, 1.0, 0.961373, 0.995191]\n",
      "TODTLER: [ 0.95547544  0.9913393   0.92396368  0.99173045  0.66324329]\n",
      "Transfer: [0.994618, 0.994586, 1.0, 0.995441, 1.0]\n",
      "Transfer & Revision: [1.0, 1.0, 1.0, 1.0, 1.0]\n",
      "\n",
      "\n",
      "Experiment 2\n",
      "Scratch RDN-B: [1.0, 1.0, 1.0, 1.0, 1.0]\n",
      "Scratch RDN: [1.0, 0.994636, 1.0, 0.995302, 0.959638]\n",
      "TODTLER: [ 0.95547544  0.9913393   0.92396368  0.99173045  0.66324329]\n",
      "Transfer: [1.0, 1.0, 1.0, 1.0, 1.0]\n",
      "Transfer & Revision: [1.0, 1.0, 1.0, 1.0, 1.0]\n",
      "\n",
      "\n",
      "Experiment 3\n",
      "Scratch RDN-B: [1.0, 1.0, 1.0, 1.0, 1.0]\n",
      "Scratch RDN: [1.0, 0.994636, 1.0, 1.0, 0.959638]\n",
      "TODTLER: [ 0.95547544  0.9913393   0.92396368  0.99173045  0.66324329]\n",
      "Transfer: [1.0, 1.0, 1.0, 1.0, 1.0]\n",
      "Transfer & Revision: [1.0, 1.0, 1.0, 1.0, 1.0]\n",
      "\n",
      "\n",
      "Experiment 4\n",
      "Scratch RDN-B: [1.0, 1.0, 1.0, 1.0, 1.0]\n",
      "Scratch RDN: [0.994647, 0.994636, 1.0, 1.0, 0.995191]\n",
      "TODTLER: [ 0.95547544  0.9913393   0.92396368  0.99173045  0.66324329]\n",
      "Transfer: [1.0, 1.0, 1.0, 1.0, 1.0]\n",
      "Transfer & Revision: [1.0, 1.0, 1.0, 1.0, 1.0]\n",
      "\n",
      "\n",
      "Experiment 5\n",
      "Scratch RDN-B: [1.0, 1.0, 1.0, 1.0, 1.0]\n",
      "Scratch RDN: [0.994647, 1.0, 1.0, 0.946983, 0.995191]\n",
      "TODTLER: [ 0.95547544  0.9913393   0.92396368  0.99173045  0.66324329]\n",
      "Transfer: [1.0, 1.0, 1.0, 1.0, 1.0]\n",
      "Transfer & Revision: [1.0, 1.0, 1.0, 1.0, 1.0]\n",
      "\n",
      "\n"
     ]
    },
    {
     "data": {
      "text/markdown": [
       "## AUC PR"
      ],
      "text/plain": [
       "<IPython.core.display.Markdown object>"
      ]
     },
     "metadata": {},
     "output_type": "display_data"
    },
    {
     "data": {
      "text/html": [
       "<div>\n",
       "<table border=\"1\" class=\"dataframe\">\n",
       "  <thead>\n",
       "    <tr style=\"text-align: right;\">\n",
       "      <th></th>\n",
       "      <th>p-value</th>\n",
       "      <th>RDN-B</th>\n",
       "      <th>RDN</th>\n",
       "      <th>TODTLER</th>\n",
       "    </tr>\n",
       "  </thead>\n",
       "  <tbody>\n",
       "    <tr>\n",
       "      <th>0</th>\n",
       "      <td>TreeBoostler</td>\n",
       "      <td>nan</td>\n",
       "      <td>0.040</td>\n",
       "      <td>0.042</td>\n",
       "    </tr>\n",
       "    <tr>\n",
       "      <th>1</th>\n",
       "      <td>TreeBoostler*</td>\n",
       "      <td>0.071</td>\n",
       "      <td>0.045</td>\n",
       "      <td>0.047</td>\n",
       "    </tr>\n",
       "  </tbody>\n",
       "</table>\n",
       "</div>"
      ],
      "text/plain": [
       "         p-value  RDN-B    RDN TODTLER\n",
       "0   TreeBoostler    nan  0.040   0.042\n",
       "1  TreeBoostler*  0.071  0.045   0.047"
      ]
     },
     "metadata": {},
     "output_type": "display_data"
    },
    {
     "name": "stdout",
     "output_type": "stream",
     "text": [
      "Experiment 1\n",
      "Scratch RDN-B: [1.0, 1.0, 1.0, 1.0, 1.0]\n",
      "Scratch RDN: [0.735892, 0.736364, 1.0, 0.260909, 0.742291]\n",
      "TODTLER: [ 0.45116296  0.78898734  0.75882839  0.79885772  0.03846788]\n",
      "Transfer: [0.915081, 0.91472, 1.0, 0.91966, 1.0]\n",
      "Transfer & Revision: [1.0, 1.0, 1.0, 1.0, 1.0]\n",
      "\n",
      "\n",
      "Experiment 2\n",
      "Scratch RDN-B: [1.0, 1.0, 1.0, 1.0, 1.0]\n",
      "Scratch RDN: [1.0, 0.736364, 1.0, 0.743929, 0.255497]\n",
      "TODTLER: [ 0.45116296  0.78898734  0.75882839  0.79885772  0.03846788]\n",
      "Transfer: [1.0, 1.0, 1.0, 1.0, 1.0]\n",
      "Transfer & Revision: [1.0, 1.0, 1.0, 1.0, 1.0]\n",
      "\n",
      "\n",
      "Experiment 3\n",
      "Scratch RDN-B: [1.0, 1.0, 1.0, 1.0, 1.0]\n",
      "Scratch RDN: [1.0, 0.736364, 1.0, 1.0, 0.255497]\n",
      "TODTLER: [ 0.45116296  0.78898734  0.75882839  0.79885772  0.03846788]\n",
      "Transfer: [1.0, 1.0, 1.0, 1.0, 1.0]\n",
      "Transfer & Revision: [1.0, 1.0, 1.0, 1.0, 1.0]\n",
      "\n",
      "\n",
      "Experiment 4\n",
      "Scratch RDN-B: [1.0, 1.0, 1.0, 1.0, 1.0]\n",
      "Scratch RDN: [0.735892, 0.736364, 1.0, 1.0, 0.742291]\n",
      "TODTLER: [ 0.45116296  0.78898734  0.75882839  0.79885772  0.03846788]\n",
      "Transfer: [1.0, 1.0, 1.0, 1.0, 1.0]\n",
      "Transfer & Revision: [1.0, 1.0, 1.0, 1.0, 1.0]\n",
      "\n",
      "\n",
      "Experiment 5\n",
      "Scratch RDN-B: [1.0, 1.0, 1.0, 1.0, 1.0]\n",
      "Scratch RDN: [0.735892, 1.0, 1.0, 0.204739, 0.742291]\n",
      "TODTLER: [ 0.45116296  0.78898734  0.75882839  0.79885772  0.03846788]\n",
      "Transfer: [1.0, 1.0, 1.0, 1.0, 1.0]\n",
      "Transfer & Revision: [1.0, 1.0, 1.0, 1.0, 1.0]\n",
      "\n",
      "\n"
     ]
    },
    {
     "data": {
      "text/markdown": [
       "## CLL"
      ],
      "text/plain": [
       "<IPython.core.display.Markdown object>"
      ]
     },
     "metadata": {},
     "output_type": "display_data"
    },
    {
     "data": {
      "text/html": [
       "<div>\n",
       "<table border=\"1\" class=\"dataframe\">\n",
       "  <thead>\n",
       "    <tr style=\"text-align: right;\">\n",
       "      <th></th>\n",
       "      <th>p-value</th>\n",
       "      <th>RDN-B</th>\n",
       "      <th>RDN</th>\n",
       "      <th>TODTLER</th>\n",
       "    </tr>\n",
       "  </thead>\n",
       "  <tbody>\n",
       "    <tr>\n",
       "      <th>0</th>\n",
       "      <td>TreeBoostler</td>\n",
       "      <td>0.063</td>\n",
       "      <td>0.000</td>\n",
       "      <td>0.382</td>\n",
       "    </tr>\n",
       "    <tr>\n",
       "      <th>1</th>\n",
       "      <td>TreeBoostler*</td>\n",
       "      <td>0.265</td>\n",
       "      <td>0.000</td>\n",
       "      <td>0.395</td>\n",
       "    </tr>\n",
       "  </tbody>\n",
       "</table>\n",
       "</div>"
      ],
      "text/plain": [
       "         p-value  RDN-B    RDN TODTLER\n",
       "0   TreeBoostler  0.063  0.000   0.382\n",
       "1  TreeBoostler*  0.265  0.000   0.395"
      ]
     },
     "metadata": {},
     "output_type": "display_data"
    },
    {
     "name": "stdout",
     "output_type": "stream",
     "text": [
      "Experiment 1\n",
      "Scratch RDN-B: [-0.081177, -0.073863, -0.063555, -0.071956, -0.078354]\n",
      "Scratch RDN: [-0.169006, -0.169152, -0.155326, -0.178828, -0.166516]\n",
      "TODTLER: [-0.08146951 -0.06028108 -0.04877832 -0.03957681 -2.75355924]\n",
      "Transfer: [-0.168737, -0.142215, -0.066274, -0.136237, -0.068906]\n",
      "Transfer & Revision: [-0.077702, -0.077231, -0.064372, -0.068337, -0.068906]\n",
      "\n",
      "\n",
      "Experiment 2\n",
      "Scratch RDN-B: [-0.110355, -0.074066, -0.063555, -0.071803, -0.079769]\n",
      "Scratch RDN: [-0.166977, -0.169152, -0.155326, -0.16604, -0.180022]\n",
      "TODTLER: [-0.08146951 -0.06028108 -0.04877832 -0.03957681 -2.75355924]\n",
      "Transfer: [-0.073386, -0.073292, -0.071599, -0.072339, -0.07313]\n",
      "Transfer & Revision: [-0.064216, -0.064225, -0.063555, -0.065569, -0.064087]\n",
      "\n",
      "\n",
      "Experiment 3\n",
      "Scratch RDN-B: [-0.087058, -0.082675, -0.063555, -0.070406, -0.080438]\n",
      "Scratch RDN: [-0.166977, -0.169152, -0.155326, -0.164255, -0.180022]\n",
      "TODTLER: [-0.08146951 -0.06028108 -0.04877832 -0.03957681 -2.75355924]\n",
      "Transfer: [-0.076122, -0.073082, -0.068914, -0.071995, -0.076217]\n",
      "Transfer & Revision: [-0.070702, -0.066288, -0.064099, -0.066158, -0.066421]\n",
      "\n",
      "\n",
      "Experiment 4\n",
      "Scratch RDN-B: [-0.079958, -0.076387, -0.063555, -0.065303, -0.076563]\n",
      "Scratch RDN: [-0.169006, -0.169152, -0.155326, -0.164255, -0.166516]\n",
      "TODTLER: [-0.08146951 -0.06028108 -0.04877832 -0.03957681 -2.75355924]\n",
      "Transfer: [-0.069972, -0.070356, -0.067287, -0.069406, -0.072475]\n",
      "Transfer & Revision: [-0.071489, -0.067153, -0.064024, -0.066498, -0.070484]\n",
      "\n",
      "\n",
      "Experiment 5\n",
      "Scratch RDN-B: [-0.090609, -0.077284, -0.063555, -0.070991, -0.087817]\n",
      "Scratch RDN: [-0.169006, -0.167119, -0.155326, -0.184007, -0.166516]\n",
      "TODTLER: [-0.08146951 -0.06028108 -0.04877832 -0.03957681 -2.75355924]\n",
      "Transfer: [-0.074635, -0.073998, -0.065318, -0.072525, -0.075129]\n",
      "Transfer & Revision: [-0.065193, -0.065212, -0.063555, -0.064929, -0.066525]\n",
      "\n",
      "\n"
     ]
    },
    {
     "data": {
      "text/markdown": [
       "# Results for 7_imdb_cora"
      ],
      "text/plain": [
       "<IPython.core.display.Markdown object>"
      ]
     },
     "metadata": {},
     "output_type": "display_data"
    },
    {
     "data": {
      "text/markdown": [
       "## AUC ROC"
      ],
      "text/plain": [
       "<IPython.core.display.Markdown object>"
      ]
     },
     "metadata": {},
     "output_type": "display_data"
    },
    {
     "data": {
      "text/html": [
       "<div>\n",
       "<table border=\"1\" class=\"dataframe\">\n",
       "  <thead>\n",
       "    <tr style=\"text-align: right;\">\n",
       "      <th></th>\n",
       "      <th>p-value</th>\n",
       "      <th>RDN-B</th>\n",
       "      <th>RDN</th>\n",
       "      <th>TODTLER</th>\n",
       "    </tr>\n",
       "  </thead>\n",
       "  <tbody>\n",
       "    <tr>\n",
       "      <th>0</th>\n",
       "      <td>TreeBoostler</td>\n",
       "      <td>0.094</td>\n",
       "      <td>0.546</td>\n",
       "      <td>0.011</td>\n",
       "    </tr>\n",
       "    <tr>\n",
       "      <th>1</th>\n",
       "      <td>TreeBoostler*</td>\n",
       "      <td>0.015</td>\n",
       "      <td>0.491</td>\n",
       "      <td>0.000</td>\n",
       "    </tr>\n",
       "  </tbody>\n",
       "</table>\n",
       "</div>"
      ],
      "text/plain": [
       "         p-value  RDN-B    RDN TODTLER\n",
       "0   TreeBoostler  0.094  0.546   0.011\n",
       "1  TreeBoostler*  0.015  0.491   0.000"
      ]
     },
     "metadata": {},
     "output_type": "display_data"
    },
    {
     "name": "stdout",
     "output_type": "stream",
     "text": [
      "Experiment 1\n",
      "Scratch RDN-B: [0.97344, 0.947617, 0.598841, 0.610893, 0.943744]\n",
      "Scratch RDN: [0.946444, 0.554792, 0.551045, 0.563755, 0.560384]\n",
      "TODTLER: [ 0.51504357  0.51966642  0.52848416  0.50929701  0.52034859]\n",
      "Transfer: [0.575311, 0.587266, 0.581281, 0.5837, 0.583705]\n",
      "Transfer & Revision: [0.575311, 0.633858, 0.958053, 0.633098, 0.933122]\n",
      "\n",
      "\n",
      "Experiment 2\n",
      "Scratch RDN-B: [0.947561, 0.909473, 0.596678, 0.623567, 0.948452]\n",
      "Scratch RDN: [0.938495, 0.562504, 0.551065, 0.573521, 0.553764]\n",
      "TODTLER: [ 0.51504357  0.51966642  0.52848416  0.50929701  0.52034859]\n",
      "Transfer: [0.575311, 0.587266, 0.581281, 0.5837, 0.583705]\n",
      "Transfer & Revision: [0.609275, 0.640813, 0.97982, 0.63641, 0.627351]\n",
      "\n",
      "\n",
      "Experiment 3\n",
      "Scratch RDN-B: [0.961287, 0.92955, 0.979702, 0.621909, 0.953973]\n",
      "Scratch RDN: [0.94025, 0.554762, 0.575391, 0.598657, 0.54841]\n",
      "TODTLER: [ 0.51504357  0.51966642  0.52848416  0.50929701  0.52034859]\n",
      "Transfer: [0.575311, 0.587266, 0.581281, 0.5837, 0.583705]\n",
      "Transfer & Revision: [0.575311, 0.587266, 0.581281, 0.636346, 0.950198]\n",
      "\n",
      "\n",
      "Experiment 4\n",
      "Scratch RDN-B: [0.945227, 0.609997, 0.969414, 0.615646, 0.962128]\n",
      "Scratch RDN: [0.9398, 0.554762, 0.558223, 0.598696, 0.553995]\n",
      "TODTLER: [ 0.51504357  0.51966642  0.52848416  0.50929701  0.52034859]\n",
      "Transfer: [0.575311, 0.587266, 0.581281, 0.5837, 0.583705]\n",
      "Transfer & Revision: [0.925695, 0.635632, 0.611955, 0.5837, 0.913609]\n",
      "\n",
      "\n",
      "Experiment 5\n",
      "Scratch RDN-B: [0.948765, 0.910402, 0.980482, 0.600565, 0.951019]\n",
      "Scratch RDN: [0.956638, 0.554805, 0.583878, 0.598963, 0.556039]\n",
      "TODTLER: [ 0.51504357  0.51966642  0.52848416  0.50929701  0.52034859]\n",
      "Transfer: [0.575311, 0.587266, 0.581281, 0.5837, 0.583705]\n",
      "Transfer & Revision: [0.575311, 0.64124, 0.956311, 0.643252, 0.632093]\n",
      "\n",
      "\n"
     ]
    },
    {
     "data": {
      "text/markdown": [
       "## AUC PR"
      ],
      "text/plain": [
       "<IPython.core.display.Markdown object>"
      ]
     },
     "metadata": {},
     "output_type": "display_data"
    },
    {
     "data": {
      "text/html": [
       "<div>\n",
       "<table border=\"1\" class=\"dataframe\">\n",
       "  <thead>\n",
       "    <tr style=\"text-align: right;\">\n",
       "      <th></th>\n",
       "      <th>p-value</th>\n",
       "      <th>RDN-B</th>\n",
       "      <th>RDN</th>\n",
       "      <th>TODTLER</th>\n",
       "    </tr>\n",
       "  </thead>\n",
       "  <tbody>\n",
       "    <tr>\n",
       "      <th>0</th>\n",
       "      <td>TreeBoostler</td>\n",
       "      <td>0.754</td>\n",
       "      <td>0.051</td>\n",
       "      <td>0.095</td>\n",
       "    </tr>\n",
       "    <tr>\n",
       "      <th>1</th>\n",
       "      <td>TreeBoostler*</td>\n",
       "      <td>0.230</td>\n",
       "      <td>0.116</td>\n",
       "      <td>0.002</td>\n",
       "    </tr>\n",
       "  </tbody>\n",
       "</table>\n",
       "</div>"
      ],
      "text/plain": [
       "         p-value  RDN-B    RDN TODTLER\n",
       "0   TreeBoostler  0.754  0.051   0.095\n",
       "1  TreeBoostler*  0.230  0.116   0.002"
      ]
     },
     "metadata": {},
     "output_type": "display_data"
    },
    {
     "name": "stdout",
     "output_type": "stream",
     "text": [
      "Experiment 1\n",
      "Scratch RDN-B: [0.40253, 0.411348, 0.035618, 0.039775, 0.360637]\n",
      "Scratch RDN: [0.390675, 0.013437, 0.01971, 0.034329, 0.020234]\n",
      "TODTLER: [ 0.36583068  0.32617789  0.4640986   0.35311322  0.34461168]\n",
      "Transfer: [0.168925, 0.193231, 0.181212, 0.186484, 0.185174]\n",
      "Transfer & Revision: [0.168925, 0.198653, 0.585635, 0.203452, 0.519987]\n",
      "\n",
      "\n",
      "Experiment 2\n",
      "Scratch RDN-B: [0.388149, 0.415641, 0.034535, 0.041103, 0.351137]\n",
      "Scratch RDN: [0.215557, 0.02539, 0.01971, 0.026156, 0.014261]\n",
      "TODTLER: [ 0.36583068  0.32617789  0.4640986   0.35311322  0.34461168]\n",
      "Transfer: [0.168925, 0.193231, 0.181212, 0.186484, 0.185174]\n",
      "Transfer & Revision: [0.170424, 0.204067, 0.595105, 0.204489, 0.189514]\n",
      "\n",
      "\n",
      "Experiment 3\n",
      "Scratch RDN-B: [0.354552, 0.425543, 0.375601, 0.044382, 0.354298]\n",
      "Scratch RDN: [0.22828, 0.013437, 0.021809, 0.042349, 0.012616]\n",
      "TODTLER: [ 0.36583068  0.32617789  0.4640986   0.35311322  0.34461168]\n",
      "Transfer: [0.168925, 0.193231, 0.181212, 0.186484, 0.185174]\n",
      "Transfer & Revision: [0.168925, 0.193231, 0.181212, 0.205082, 0.533371]\n",
      "\n",
      "\n",
      "Experiment 4\n",
      "Scratch RDN-B: [0.316309, 0.05417, 0.402067, 0.045784, 0.378863]\n",
      "Scratch RDN: [0.227028, 0.013437, 0.028777, 0.033393, 0.014223]\n",
      "TODTLER: [ 0.36583068  0.32617789  0.4640986   0.35311322  0.34461168]\n",
      "Transfer: [0.168925, 0.193231, 0.181212, 0.186484, 0.185174]\n",
      "Transfer & Revision: [0.535101, 0.201594, 0.182333, 0.186484, 0.50658]\n",
      "\n",
      "\n",
      "Experiment 5\n",
      "Scratch RDN-B: [0.348096, 0.366431, 0.418256, 0.039057, 0.340047]\n",
      "Scratch RDN: [0.325006, 0.013437, 0.029773, 0.03749, 0.019027]\n",
      "TODTLER: [ 0.36583068  0.32617789  0.4640986   0.35311322  0.34461168]\n",
      "Transfer: [0.168925, 0.193231, 0.181212, 0.186484, 0.185174]\n",
      "Transfer & Revision: [0.168925, 0.20168, 0.591114, 0.208861, 0.192055]\n",
      "\n",
      "\n"
     ]
    },
    {
     "data": {
      "text/markdown": [
       "## CLL"
      ],
      "text/plain": [
       "<IPython.core.display.Markdown object>"
      ]
     },
     "metadata": {},
     "output_type": "display_data"
    },
    {
     "data": {
      "text/html": [
       "<div>\n",
       "<table border=\"1\" class=\"dataframe\">\n",
       "  <thead>\n",
       "    <tr style=\"text-align: right;\">\n",
       "      <th></th>\n",
       "      <th>p-value</th>\n",
       "      <th>RDN-B</th>\n",
       "      <th>RDN</th>\n",
       "      <th>TODTLER</th>\n",
       "    </tr>\n",
       "  </thead>\n",
       "  <tbody>\n",
       "    <tr>\n",
       "      <th>0</th>\n",
       "      <td>TreeBoostler</td>\n",
       "      <td>0.510</td>\n",
       "      <td>0.001</td>\n",
       "      <td>0.000</td>\n",
       "    </tr>\n",
       "    <tr>\n",
       "      <th>1</th>\n",
       "      <td>TreeBoostler*</td>\n",
       "      <td>0.137</td>\n",
       "      <td>0.000</td>\n",
       "      <td>0.000</td>\n",
       "    </tr>\n",
       "  </tbody>\n",
       "</table>\n",
       "</div>"
      ],
      "text/plain": [
       "         p-value  RDN-B    RDN TODTLER\n",
       "0   TreeBoostler  0.510  0.001   0.000\n",
       "1  TreeBoostler*  0.137  0.000   0.000"
      ]
     },
     "metadata": {},
     "output_type": "display_data"
    },
    {
     "name": "stdout",
     "output_type": "stream",
     "text": [
      "Experiment 1\n",
      "Scratch RDN-B: [-0.144661, -0.250363, -0.368999, -0.345601, -0.301034]\n",
      "Scratch RDN: [-0.160389, -0.200747, -0.200836, -0.198082, -0.200416]\n",
      "TODTLER: [-5.55592711 -5.588477   -4.59692666 -5.55698304 -4.76719883]\n",
      "Transfer: [-0.299018, -0.336362, -0.318204, -0.329545, -0.331416]\n",
      "Transfer & Revision: [-0.299018, -0.32213, -0.260692, -0.313811, -0.224462]\n",
      "\n",
      "\n",
      "Experiment 2\n",
      "Scratch RDN-B: [-0.191023, -0.294437, -0.375385, -0.344463, -0.30668]\n",
      "Scratch RDN: [-0.160957, -0.198447, -0.201606, -0.198233, -0.201547]\n",
      "TODTLER: [-5.55592711 -5.588477   -4.59692666 -5.55698304 -4.76719883]\n",
      "Transfer: [-0.298069, -0.335928, -0.323561, -0.330147, -0.327717]\n",
      "Transfer & Revision: [-0.311946, -0.321605, -0.227731, -0.307561, -0.340765]\n",
      "\n",
      "\n",
      "Experiment 3\n",
      "Scratch RDN-B: [-0.158345, -0.236049, -0.296996, -0.341362, -0.303019]\n",
      "Scratch RDN: [-0.160814, -0.198984, -0.198673, -0.198913, -0.200354]\n",
      "TODTLER: [-5.55592711 -5.588477   -4.59692666 -5.55698304 -4.76719883]\n",
      "Transfer: [-0.297977, -0.335328, -0.322917, -0.326814, -0.327978]\n",
      "Transfer & Revision: [-0.297977, -0.335328, -0.322917, -0.309405, -0.221713]\n",
      "\n",
      "\n",
      "Experiment 4\n",
      "Scratch RDN-B: [-0.167422, -0.355341, -0.291548, -0.346852, -0.21386]\n",
      "Scratch RDN: [-0.160686, -0.201913, -0.202275, -0.19669, -0.202044]\n",
      "TODTLER: [-5.55592711 -5.588477   -4.59692666 -5.55698304 -4.76719883]\n",
      "Transfer: [-0.293834, -0.336144, -0.325045, -0.324995, -0.327753]\n",
      "Transfer & Revision: [-0.26847, -0.322917, -0.32513, -0.324995, -0.273605]\n",
      "\n",
      "\n",
      "Experiment 5\n",
      "Scratch RDN-B: [-0.172749, -0.280705, -0.242396, -0.344076, -0.24979]\n",
      "Scratch RDN: [-0.159283, -0.198955, -0.198823, -0.195594, -0.201864]\n",
      "TODTLER: [-5.55592711 -5.588477   -4.59692666 -5.55698304 -4.76719883]\n",
      "Transfer: [-0.291077, -0.339873, -0.326958, -0.331087, -0.337171]\n",
      "Transfer & Revision: [-0.291077, -0.325392, -0.266706, -0.308612, -0.337455]\n",
      "\n",
      "\n"
     ]
    },
    {
     "data": {
      "text/markdown": [
       "# Results for 53_cora_imdb"
      ],
      "text/plain": [
       "<IPython.core.display.Markdown object>"
      ]
     },
     "metadata": {},
     "output_type": "display_data"
    },
    {
     "data": {
      "text/markdown": [
       "## AUC ROC"
      ],
      "text/plain": [
       "<IPython.core.display.Markdown object>"
      ]
     },
     "metadata": {},
     "output_type": "display_data"
    },
    {
     "data": {
      "text/html": [
       "<div>\n",
       "<table border=\"1\" class=\"dataframe\">\n",
       "  <thead>\n",
       "    <tr style=\"text-align: right;\">\n",
       "      <th></th>\n",
       "      <th>p-value</th>\n",
       "      <th>RDN-B</th>\n",
       "      <th>RDN</th>\n",
       "      <th>TODTLER</th>\n",
       "    </tr>\n",
       "  </thead>\n",
       "  <tbody>\n",
       "    <tr>\n",
       "      <th>0</th>\n",
       "      <td>TreeBoostler</td>\n",
       "      <td>0.041</td>\n",
       "      <td>0.238</td>\n",
       "      <td>0.274</td>\n",
       "    </tr>\n",
       "    <tr>\n",
       "      <th>1</th>\n",
       "      <td>TreeBoostler*</td>\n",
       "      <td>0.000</td>\n",
       "      <td>0.001</td>\n",
       "      <td>0.466</td>\n",
       "    </tr>\n",
       "  </tbody>\n",
       "</table>\n",
       "</div>"
      ],
      "text/plain": [
       "         p-value  RDN-B    RDN TODTLER\n",
       "0   TreeBoostler  0.041  0.238   0.274\n",
       "1  TreeBoostler*  0.000  0.001   0.466"
      ]
     },
     "metadata": {},
     "output_type": "display_data"
    },
    {
     "name": "stdout",
     "output_type": "stream",
     "text": [
      "Experiment 1\n",
      "Scratch RDN-B: [1.0, 1.0, 1.0, 1.0, 1.0]\n",
      "Scratch RDN: [0.994647, 0.994636, 1.0, 0.995302, 0.995191]\n",
      "TODTLER: [ 0.96084017  0.99406892  0.96025529  0.98489892  0.52735007]\n",
      "Transfer: [0.973966, 0.973223, 0.993632, 0.974863, 0.982257]\n",
      "Transfer & Revision: [0.995629, 0.998125, 1.0, 0.995335, 0.997126]\n",
      "\n",
      "\n",
      "Experiment 2\n",
      "Scratch RDN-B: [1.0, 1.0, 1.0, 1.0, 1.0]\n",
      "Scratch RDN: [0.994647, 0.994636, 1.0, 1.0, 0.995191]\n",
      "TODTLER: [ 0.96084017  0.99406892  0.96025529  0.98489892  0.52735007]\n",
      "Transfer: [0.973966, 0.973223, 0.993692, 0.978805, 0.983069]\n",
      "Transfer & Revision: [0.998476, 0.99881, 1.0, 1.0, 0.999707]\n",
      "\n",
      "\n",
      "Experiment 3\n",
      "Scratch RDN-B: [1.0, 1.0, 1.0, 1.0, 1.0]\n",
      "Scratch RDN: [0.994647, 1.0, 1.0, 0.946983, 0.995191]\n",
      "TODTLER: [ 0.96084017  0.99406892  0.96025529  0.98489892  0.52735007]\n",
      "Transfer: [0.871431, 0.86826, 0.861638, 0.870352, 0.868927]\n",
      "Transfer & Revision: [1.0, 1.0, 1.0, 1.0, 0.995191]\n",
      "\n",
      "\n",
      "Experiment 4\n",
      "Scratch RDN-B: [1.0, 1.0, 1.0, 1.0, 1.0]\n",
      "Scratch RDN: [0.994647, 1.0, 1.0, 0.995302, 1.0]\n",
      "TODTLER: [ 0.96084017  0.99406892  0.96025529  0.98489892  0.52735007]\n",
      "Transfer: [0.973966, 0.97601, 0.993692, 0.974863, 0.983069]\n",
      "Transfer & Revision: [1.0, 0.999023, 1.0, 1.0, 0.997359]\n",
      "\n",
      "\n",
      "Experiment 5\n",
      "Scratch RDN-B: [1.0, 1.0, 1.0, 1.0, 1.0]\n",
      "Scratch RDN: [1.0, 0.994636, 1.0, 0.953933, 1.0]\n",
      "TODTLER: [ 0.96084017  0.99406892  0.96025529  0.98489892  0.52735007]\n",
      "Transfer: [0.979497, 0.978798, 0.993692, 0.978805, 0.983069]\n",
      "Transfer & Revision: [1.0, 0.999579, 1.0, 1.0, 0.999707]\n",
      "\n",
      "\n"
     ]
    },
    {
     "data": {
      "text/markdown": [
       "## AUC PR"
      ],
      "text/plain": [
       "<IPython.core.display.Markdown object>"
      ]
     },
     "metadata": {},
     "output_type": "display_data"
    },
    {
     "data": {
      "text/html": [
       "<div>\n",
       "<table border=\"1\" class=\"dataframe\">\n",
       "  <thead>\n",
       "    <tr style=\"text-align: right;\">\n",
       "      <th></th>\n",
       "      <th>p-value</th>\n",
       "      <th>RDN-B</th>\n",
       "      <th>RDN</th>\n",
       "      <th>TODTLER</th>\n",
       "    </tr>\n",
       "  </thead>\n",
       "  <tbody>\n",
       "    <tr>\n",
       "      <th>0</th>\n",
       "      <td>TreeBoostler</td>\n",
       "      <td>0.060</td>\n",
       "      <td>0.089</td>\n",
       "      <td>0.029</td>\n",
       "    </tr>\n",
       "    <tr>\n",
       "      <th>1</th>\n",
       "      <td>TreeBoostler*</td>\n",
       "      <td>0.000</td>\n",
       "      <td>0.202</td>\n",
       "      <td>0.253</td>\n",
       "    </tr>\n",
       "  </tbody>\n",
       "</table>\n",
       "</div>"
      ],
      "text/plain": [
       "         p-value  RDN-B    RDN TODTLER\n",
       "0   TreeBoostler  0.060  0.089   0.029\n",
       "1  TreeBoostler*  0.000  0.202   0.253"
      ]
     },
     "metadata": {},
     "output_type": "display_data"
    },
    {
     "name": "stdout",
     "output_type": "stream",
     "text": [
      "Experiment 1\n",
      "Scratch RDN-B: [1.0, 1.0, 1.0, 1.0, 1.0]\n",
      "Scratch RDN: [0.735892, 0.736364, 1.0, 0.743929, 0.742291]\n",
      "TODTLER: [ 0.57504961  0.86316503  0.72406761  0.49376534  0.02929356]\n",
      "Transfer: [0.853081, 0.851779, 0.960741, 0.856178, 0.888508]\n",
      "Transfer & Revision: [0.786075, 0.950144, 1.0, 0.736885, 0.889346]\n",
      "\n",
      "\n",
      "Experiment 2\n",
      "Scratch RDN-B: [1.0, 1.0, 1.0, 1.0, 1.0]\n",
      "Scratch RDN: [0.735892, 0.736364, 1.0, 1.0, 0.742291]\n",
      "TODTLER: [ 0.57504961  0.86316503  0.72406761  0.49376534  0.02929356]\n",
      "Transfer: [0.853081, 0.851779, 0.961008, 0.865091, 0.891379]\n",
      "Transfer & Revision: [0.957409, 0.964909, 1.0, 1.0, 0.989873]\n",
      "\n",
      "\n",
      "Experiment 3\n",
      "Scratch RDN-B: [1.0, 1.0, 1.0, 1.0, 1.0]\n",
      "Scratch RDN: [0.735892, 1.0, 1.0, 0.204739, 0.742291]\n",
      "TODTLER: [ 0.57504961  0.86316503  0.72406761  0.49376534  0.02929356]\n",
      "Transfer: [0.103954, 0.102112, 0.064496, 0.095252, 0.095576]\n",
      "Transfer & Revision: [1.0, 1.0, 1.0, 1.0, 0.742291]\n",
      "\n",
      "\n",
      "Experiment 4\n",
      "Scratch RDN-B: [1.0, 1.0, 1.0, 1.0, 1.0]\n",
      "Scratch RDN: [0.735892, 1.0, 1.0, 0.743929, 1.0]\n",
      "TODTLER: [ 0.57504961  0.86316503  0.72406761  0.49376534  0.02929356]\n",
      "Transfer: [0.853081, 0.862005, 0.961008, 0.856178, 0.891379]\n",
      "Transfer & Revision: [1.0, 0.971975, 1.0, 1.0, 0.833792]\n",
      "\n",
      "\n",
      "Experiment 5\n",
      "Scratch RDN-B: [1.0, 1.0, 1.0, 1.0, 1.0]\n",
      "Scratch RDN: [1.0, 0.736364, 1.0, 0.242522, 1.0]\n",
      "TODTLER: [ 0.57504961  0.86316503  0.72406761  0.49376534  0.02929356]\n",
      "Transfer: [0.867039, 0.865522, 0.961008, 0.865091, 0.891379]\n",
      "Transfer & Revision: [1.0, 0.986436, 1.0, 1.0, 0.989873]\n",
      "\n",
      "\n"
     ]
    },
    {
     "data": {
      "text/markdown": [
       "## CLL"
      ],
      "text/plain": [
       "<IPython.core.display.Markdown object>"
      ]
     },
     "metadata": {},
     "output_type": "display_data"
    },
    {
     "data": {
      "text/html": [
       "<div>\n",
       "<table border=\"1\" class=\"dataframe\">\n",
       "  <thead>\n",
       "    <tr style=\"text-align: right;\">\n",
       "      <th></th>\n",
       "      <th>p-value</th>\n",
       "      <th>RDN-B</th>\n",
       "      <th>RDN</th>\n",
       "      <th>TODTLER</th>\n",
       "    </tr>\n",
       "  </thead>\n",
       "  <tbody>\n",
       "    <tr>\n",
       "      <th>0</th>\n",
       "      <td>TreeBoostler</td>\n",
       "      <td>0.271</td>\n",
       "      <td>0.000</td>\n",
       "      <td>0.370</td>\n",
       "    </tr>\n",
       "    <tr>\n",
       "      <th>1</th>\n",
       "      <td>TreeBoostler*</td>\n",
       "      <td>0.002</td>\n",
       "      <td>0.081</td>\n",
       "      <td>0.444</td>\n",
       "    </tr>\n",
       "  </tbody>\n",
       "</table>\n",
       "</div>"
      ],
      "text/plain": [
       "         p-value  RDN-B    RDN TODTLER\n",
       "0   TreeBoostler  0.271  0.000   0.370\n",
       "1  TreeBoostler*  0.002  0.081   0.444"
      ]
     },
     "metadata": {},
     "output_type": "display_data"
    },
    {
     "name": "stdout",
     "output_type": "stream",
     "text": [
      "Experiment 1\n",
      "Scratch RDN-B: [-0.087108, -0.071821, -0.063555, -0.068247, -0.080197]\n",
      "Scratch RDN: [-0.169006, -0.169152, -0.155326, -0.16604, -0.166516]\n",
      "TODTLER: [-0.07490243 -0.05402602 -0.04658268 -0.15627244 -4.28567658]\n",
      "Transfer: [-0.121657, -0.121615, -0.223563, -0.117948, -0.186789]\n",
      "Transfer & Revision: [-0.082879, -0.083219, -0.065458, -0.081812, -0.085982]\n",
      "\n",
      "\n",
      "Experiment 2\n",
      "Scratch RDN-B: [-0.08337, -0.067701, -0.063555, -0.065025, -0.078787]\n",
      "Scratch RDN: [-0.169006, -0.169152, -0.155326, -0.164255, -0.166516]\n",
      "TODTLER: [-0.07490243 -0.05402602 -0.04658268 -0.15627244 -4.28567658]\n",
      "Transfer: [-0.158244, -0.160893, -0.262241, -0.159186, -0.20914]\n",
      "Transfer & Revision: [-0.079348, -0.082749, -0.064091, -0.073935, -0.083014]\n",
      "\n",
      "\n",
      "Experiment 3\n",
      "Scratch RDN-B: [-0.076586, -0.080304, -0.063555, -0.076645, -0.075812]\n",
      "Scratch RDN: [-0.169006, -0.167119, -0.155326, -0.184007, -0.166516]\n",
      "TODTLER: [-0.07490243 -0.05402602 -0.04658268 -0.15627244 -4.28567658]\n",
      "Transfer: [-0.300648, -0.298547, -0.336754, -0.285609, -0.293102]\n",
      "Transfer & Revision: [-0.076789, -0.082031, -0.06404, -0.075109, -0.083408]\n",
      "\n",
      "\n",
      "Experiment 4\n",
      "Scratch RDN-B: [-0.089349, -0.070764, -0.063555, -0.069656, -0.069031]\n",
      "Scratch RDN: [-0.169006, -0.167119, -0.155326, -0.16604, -0.16469]\n",
      "TODTLER: [-0.07490243 -0.05402602 -0.04658268 -0.15627244 -4.28567658]\n",
      "Transfer: [-0.200966, -0.20875, -0.296814, -0.202092, -0.243594]\n",
      "Transfer & Revision: [-0.079392, -0.084915, -0.064373, -0.069438, -0.082518]\n",
      "\n",
      "\n",
      "Experiment 5\n",
      "Scratch RDN-B: [-0.086299, -0.077893, -0.063555, -0.066571, -0.076637]\n",
      "Scratch RDN: [-0.166977, -0.169152, -0.155326, -0.183928, -0.16469]\n",
      "TODTLER: [-0.07490243 -0.05402602 -0.04658268 -0.15627244 -4.28567658]\n",
      "Transfer: [-0.155445, -0.161398, -0.263761, -0.163955, -0.202354]\n",
      "Transfer & Revision: [-0.077054, -0.079128, -0.064085, -0.071393, -0.080378]\n",
      "\n",
      "\n"
     ]
    },
    {
     "data": {
      "text/markdown": [
       "# Results for 15_yeast_twitter"
      ],
      "text/plain": [
       "<IPython.core.display.Markdown object>"
      ]
     },
     "metadata": {},
     "output_type": "display_data"
    },
    {
     "data": {
      "text/markdown": [
       "## AUC ROC"
      ],
      "text/plain": [
       "<IPython.core.display.Markdown object>"
      ]
     },
     "metadata": {},
     "output_type": "display_data"
    },
    {
     "data": {
      "text/html": [
       "<div>\n",
       "<table border=\"1\" class=\"dataframe\">\n",
       "  <thead>\n",
       "    <tr style=\"text-align: right;\">\n",
       "      <th></th>\n",
       "      <th>p-value</th>\n",
       "      <th>RDN-B</th>\n",
       "      <th>RDN</th>\n",
       "      <th>TODTLER</th>\n",
       "    </tr>\n",
       "  </thead>\n",
       "  <tbody>\n",
       "    <tr>\n",
       "      <th>0</th>\n",
       "      <td>TreeBoostler</td>\n",
       "      <td>0.078</td>\n",
       "      <td>0.138</td>\n",
       "      <td>0.022</td>\n",
       "    </tr>\n",
       "    <tr>\n",
       "      <th>1</th>\n",
       "      <td>TreeBoostler*</td>\n",
       "      <td>0.284</td>\n",
       "      <td>0.269</td>\n",
       "      <td>0.017</td>\n",
       "    </tr>\n",
       "  </tbody>\n",
       "</table>\n",
       "</div>"
      ],
      "text/plain": [
       "         p-value  RDN-B    RDN TODTLER\n",
       "0   TreeBoostler  0.078  0.138   0.022\n",
       "1  TreeBoostler*  0.284  0.269   0.017"
      ]
     },
     "metadata": {},
     "output_type": "display_data"
    },
    {
     "name": "stdout",
     "output_type": "stream",
     "text": [
      "Experiment 1\n",
      "Scratch RDN-B: [0.992923, 0.99372]\n",
      "Scratch RDN: [0.956132, 0.978981]\n",
      "TODTLER: [ 0.50342327  0.53735198]\n",
      "Transfer: [0.968989, 0.987034]\n",
      "Transfer & Revision: [0.990908, 0.993774]\n",
      "\n",
      "\n",
      "Experiment 2\n",
      "Scratch RDN-B: [0.992561, 0.99428]\n",
      "Scratch RDN: [0.98271, 0.936304]\n",
      "TODTLER: [ 0.50342327  0.53735198]\n",
      "Transfer: [0.994523, 0.993203]\n",
      "Transfer & Revision: [0.993479, 0.992819]\n",
      "\n",
      "\n"
     ]
    },
    {
     "data": {
      "text/markdown": [
       "## AUC PR"
      ],
      "text/plain": [
       "<IPython.core.display.Markdown object>"
      ]
     },
     "metadata": {},
     "output_type": "display_data"
    },
    {
     "data": {
      "text/html": [
       "<div>\n",
       "<table border=\"1\" class=\"dataframe\">\n",
       "  <thead>\n",
       "    <tr style=\"text-align: right;\">\n",
       "      <th></th>\n",
       "      <th>p-value</th>\n",
       "      <th>RDN-B</th>\n",
       "      <th>RDN</th>\n",
       "      <th>TODTLER</th>\n",
       "    </tr>\n",
       "  </thead>\n",
       "  <tbody>\n",
       "    <tr>\n",
       "      <th>0</th>\n",
       "      <td>TreeBoostler</td>\n",
       "      <td>0.109</td>\n",
       "      <td>0.381</td>\n",
       "      <td>0.751</td>\n",
       "    </tr>\n",
       "    <tr>\n",
       "      <th>1</th>\n",
       "      <td>TreeBoostler*</td>\n",
       "      <td>0.774</td>\n",
       "      <td>0.165</td>\n",
       "      <td>0.345</td>\n",
       "    </tr>\n",
       "  </tbody>\n",
       "</table>\n",
       "</div>"
      ],
      "text/plain": [
       "         p-value  RDN-B    RDN TODTLER\n",
       "0   TreeBoostler  0.109  0.381   0.751\n",
       "1  TreeBoostler*  0.774  0.165   0.345"
      ]
     },
     "metadata": {},
     "output_type": "display_data"
    },
    {
     "name": "stdout",
     "output_type": "stream",
     "text": [
      "Experiment 1\n",
      "Scratch RDN-B: [0.364549, 0.379663]\n",
      "Scratch RDN: [0.24853, 0.238138]\n",
      "TODTLER: [ 0.35782543  0.37878721]\n",
      "Transfer: [0.358744, 0.358508]\n",
      "Transfer & Revision: [0.352226, 0.412072]\n",
      "\n",
      "\n",
      "Experiment 2\n",
      "Scratch RDN-B: [0.342308, 0.440069]\n",
      "Scratch RDN: [0.368386, 0.228701]\n",
      "TODTLER: [ 0.35782543  0.37878721]\n",
      "Transfer: [0.439096, 0.419525]\n",
      "Transfer & Revision: [0.322786, 0.36244]\n",
      "\n",
      "\n"
     ]
    },
    {
     "data": {
      "text/markdown": [
       "## CLL"
      ],
      "text/plain": [
       "<IPython.core.display.Markdown object>"
      ]
     },
     "metadata": {},
     "output_type": "display_data"
    },
    {
     "data": {
      "text/html": [
       "<div>\n",
       "<table border=\"1\" class=\"dataframe\">\n",
       "  <thead>\n",
       "    <tr style=\"text-align: right;\">\n",
       "      <th></th>\n",
       "      <th>p-value</th>\n",
       "      <th>RDN-B</th>\n",
       "      <th>RDN</th>\n",
       "      <th>TODTLER</th>\n",
       "    </tr>\n",
       "  </thead>\n",
       "  <tbody>\n",
       "    <tr>\n",
       "      <th>0</th>\n",
       "      <td>TreeBoostler</td>\n",
       "      <td>0.996</td>\n",
       "      <td>0.101</td>\n",
       "      <td>0.126</td>\n",
       "    </tr>\n",
       "    <tr>\n",
       "      <th>1</th>\n",
       "      <td>TreeBoostler*</td>\n",
       "      <td>0.191</td>\n",
       "      <td>0.247</td>\n",
       "      <td>0.128</td>\n",
       "    </tr>\n",
       "  </tbody>\n",
       "</table>\n",
       "</div>"
      ],
      "text/plain": [
       "         p-value  RDN-B    RDN TODTLER\n",
       "0   TreeBoostler  0.996  0.101   0.126\n",
       "1  TreeBoostler*  0.191  0.247   0.128"
      ]
     },
     "metadata": {},
     "output_type": "display_data"
    },
    {
     "name": "stdout",
     "output_type": "stream",
     "text": [
      "Experiment 1\n",
      "Scratch RDN-B: [-0.130915, -0.101435]\n",
      "Scratch RDN: [-0.155694, -0.153783]\n",
      "TODTLER: [-1.49233955 -1.02563068]\n",
      "Transfer: [-0.160271, -0.14473]\n",
      "Transfer & Revision: [-0.129075, -0.11367]\n",
      "\n",
      "\n",
      "Experiment 2\n",
      "Scratch RDN-B: [-0.128206, -0.111772]\n",
      "Scratch RDN: [-0.150899, -0.159322]\n",
      "TODTLER: [-1.49233955 -1.02563068]\n",
      "Transfer: [-0.125957, -0.119917]\n",
      "Transfer & Revision: [-0.115599, -0.113826]\n",
      "\n",
      "\n"
     ]
    },
    {
     "data": {
      "text/markdown": [
       "# Results for 22_twitter_yeast"
      ],
      "text/plain": [
       "<IPython.core.display.Markdown object>"
      ]
     },
     "metadata": {},
     "output_type": "display_data"
    },
    {
     "data": {
      "text/markdown": [
       "## AUC ROC"
      ],
      "text/plain": [
       "<IPython.core.display.Markdown object>"
      ]
     },
     "metadata": {},
     "output_type": "display_data"
    },
    {
     "data": {
      "text/html": [
       "<div>\n",
       "<table border=\"1\" class=\"dataframe\">\n",
       "  <thead>\n",
       "    <tr style=\"text-align: right;\">\n",
       "      <th></th>\n",
       "      <th>p-value</th>\n",
       "      <th>RDN-B</th>\n",
       "      <th>RDN</th>\n",
       "      <th>TODTLER</th>\n",
       "    </tr>\n",
       "  </thead>\n",
       "  <tbody>\n",
       "    <tr>\n",
       "      <th>0</th>\n",
       "      <td>TreeBoostler</td>\n",
       "      <td>0.014</td>\n",
       "      <td>0.001</td>\n",
       "      <td>0.000</td>\n",
       "    </tr>\n",
       "    <tr>\n",
       "      <th>1</th>\n",
       "      <td>TreeBoostler*</td>\n",
       "      <td>0.013</td>\n",
       "      <td>0.001</td>\n",
       "      <td>0.000</td>\n",
       "    </tr>\n",
       "  </tbody>\n",
       "</table>\n",
       "</div>"
      ],
      "text/plain": [
       "         p-value  RDN-B    RDN TODTLER\n",
       "0   TreeBoostler  0.014  0.001   0.000\n",
       "1  TreeBoostler*  0.013  0.001   0.000"
      ]
     },
     "metadata": {},
     "output_type": "display_data"
    },
    {
     "name": "stdout",
     "output_type": "stream",
     "text": [
      "Experiment 1\n",
      "Scratch RDN-B: [0.865486, 0.873249, 0.865933, 0.93982]\n",
      "Scratch RDN: [0.81116, 0.68185, 0.602208, 0.800959]\n",
      "TODTLER: [ 0.5044716   0.48974037  0.48482165  0.51029014]\n",
      "Transfer: [0.985778, 0.990826, 0.973668, 0.980215]\n",
      "Transfer & Revision: [0.985778, 0.990826, 0.973668, 0.980215]\n",
      "\n",
      "\n",
      "Experiment 2\n",
      "Scratch RDN-B: [0.854234, 0.946278, 0.976609, 0.946111]\n",
      "Scratch RDN: [0.757071, 0.585709, 0.979386, 0.920144]\n",
      "TODTLER: [ 0.5044716   0.48974037  0.48482165  0.51029014]\n",
      "Transfer: [0.990656, 0.99384, 0.988197, 0.987078]\n",
      "Transfer & Revision: [0.990656, 0.99384, 0.988197, 0.987078]\n",
      "\n",
      "\n",
      "Experiment 3\n",
      "Scratch RDN-B: [0.976908, 0.993591, 0.983238, 0.870388]\n",
      "Scratch RDN: [0.66359, 0.638313, 0.62626, 0.610408]\n",
      "TODTLER: [ 0.5044716   0.48974037  0.48482165  0.51029014]\n",
      "Transfer: [0.987581, 0.989188, 0.982132, 0.984013]\n",
      "Transfer & Revision: [0.987581, 0.98451, 0.982132, 0.984013]\n",
      "\n",
      "\n",
      "Experiment 4\n",
      "Scratch RDN-B: [0.879528, 0.93279, 0.94308, 0.861101]\n",
      "Scratch RDN: [0.656101, 0.609497, 0.590048, 0.587053]\n",
      "TODTLER: [ 0.5044716   0.48974037  0.48482165  0.51029014]\n",
      "Transfer: [0.987046, 0.988175, 0.977494, 0.9872]\n",
      "Transfer & Revision: [0.987046, 0.988175, 0.977494, 0.9872]\n",
      "\n",
      "\n"
     ]
    },
    {
     "data": {
      "text/markdown": [
       "## AUC PR"
      ],
      "text/plain": [
       "<IPython.core.display.Markdown object>"
      ]
     },
     "metadata": {},
     "output_type": "display_data"
    },
    {
     "data": {
      "text/html": [
       "<div>\n",
       "<table border=\"1\" class=\"dataframe\">\n",
       "  <thead>\n",
       "    <tr style=\"text-align: right;\">\n",
       "      <th></th>\n",
       "      <th>p-value</th>\n",
       "      <th>RDN-B</th>\n",
       "      <th>RDN</th>\n",
       "      <th>TODTLER</th>\n",
       "    </tr>\n",
       "  </thead>\n",
       "  <tbody>\n",
       "    <tr>\n",
       "      <th>0</th>\n",
       "      <td>TreeBoostler</td>\n",
       "      <td>0.228</td>\n",
       "      <td>0.005</td>\n",
       "      <td>0.002</td>\n",
       "    </tr>\n",
       "    <tr>\n",
       "      <th>1</th>\n",
       "      <td>TreeBoostler*</td>\n",
       "      <td>0.210</td>\n",
       "      <td>0.005</td>\n",
       "      <td>0.002</td>\n",
       "    </tr>\n",
       "  </tbody>\n",
       "</table>\n",
       "</div>"
      ],
      "text/plain": [
       "         p-value  RDN-B    RDN TODTLER\n",
       "0   TreeBoostler  0.228  0.005   0.002\n",
       "1  TreeBoostler*  0.210  0.005   0.002"
      ]
     },
     "metadata": {},
     "output_type": "display_data"
    },
    {
     "name": "stdout",
     "output_type": "stream",
     "text": [
      "Experiment 1\n",
      "Scratch RDN-B: [0.177027, 0.229657, 0.141197, 0.153368]\n",
      "Scratch RDN: [0.167128, 0.098169, 0.042517, 0.071175]\n",
      "TODTLER: [ 0.00288783  0.00190093  0.00188667  0.00239235]\n",
      "Transfer: [0.238096, 0.327854, 0.160828, 0.179372]\n",
      "Transfer & Revision: [0.238096, 0.327854, 0.160828, 0.179372]\n",
      "\n",
      "\n",
      "Experiment 2\n",
      "Scratch RDN-B: [0.147102, 0.32032, 0.204393, 0.133388]\n",
      "Scratch RDN: [0.059358, 0.050369, 0.153321, 0.182379]\n",
      "TODTLER: [ 0.00288783  0.00190093  0.00188667  0.00239235]\n",
      "Transfer: [0.385871, 0.454975, 0.34525, 0.306092]\n",
      "Transfer & Revision: [0.385871, 0.454975, 0.34525, 0.306092]\n",
      "\n",
      "\n",
      "Experiment 3\n",
      "Scratch RDN-B: [0.327795, 0.605546, 0.29128, 0.174258]\n",
      "Scratch RDN: [0.040521, 0.101997, 0.047454, 0.043793]\n",
      "TODTLER: [ 0.00288783  0.00190093  0.00188667  0.00239235]\n",
      "Transfer: [0.239233, 0.291323, 0.196682, 0.217633]\n",
      "Transfer & Revision: [0.239233, 0.274347, 0.196682, 0.217633]\n",
      "\n",
      "\n",
      "Experiment 4\n",
      "Scratch RDN-B: [0.18989, 0.256071, 0.196096, 0.155158]\n",
      "Scratch RDN: [0.1076, 0.051657, 0.039314, 0.038665]\n",
      "TODTLER: [ 0.00288783  0.00190093  0.00188667  0.00239235]\n",
      "Transfer: [0.290348, 0.285477, 0.160712, 0.294572]\n",
      "Transfer & Revision: [0.290348, 0.285477, 0.160712, 0.294572]\n",
      "\n",
      "\n"
     ]
    },
    {
     "data": {
      "text/markdown": [
       "## CLL"
      ],
      "text/plain": [
       "<IPython.core.display.Markdown object>"
      ]
     },
     "metadata": {},
     "output_type": "display_data"
    },
    {
     "data": {
      "text/html": [
       "<div>\n",
       "<table border=\"1\" class=\"dataframe\">\n",
       "  <thead>\n",
       "    <tr style=\"text-align: right;\">\n",
       "      <th></th>\n",
       "      <th>p-value</th>\n",
       "      <th>RDN-B</th>\n",
       "      <th>RDN</th>\n",
       "      <th>TODTLER</th>\n",
       "    </tr>\n",
       "  </thead>\n",
       "  <tbody>\n",
       "    <tr>\n",
       "      <th>0</th>\n",
       "      <td>TreeBoostler</td>\n",
       "      <td>0.006</td>\n",
       "      <td>0.832</td>\n",
       "      <td>0.000</td>\n",
       "    </tr>\n",
       "    <tr>\n",
       "      <th>1</th>\n",
       "      <td>TreeBoostler*</td>\n",
       "      <td>0.006</td>\n",
       "      <td>0.854</td>\n",
       "      <td>0.000</td>\n",
       "    </tr>\n",
       "  </tbody>\n",
       "</table>\n",
       "</div>"
      ],
      "text/plain": [
       "         p-value  RDN-B    RDN TODTLER\n",
       "0   TreeBoostler  0.006  0.832   0.000\n",
       "1  TreeBoostler*  0.006  0.854   0.000"
      ]
     },
     "metadata": {},
     "output_type": "display_data"
    },
    {
     "name": "stdout",
     "output_type": "stream",
     "text": [
      "Experiment 1\n",
      "Scratch RDN-B: [-0.313087, -0.266005, -0.305455, -0.261193]\n",
      "Scratch RDN: [-0.17539, -0.186341, -0.184438, -0.183538]\n",
      "TODTLER: [-0.02496175 -0.02183103 -0.02299418 -0.02411909]\n",
      "Transfer: [-0.144977, -0.132617, -0.178498, -0.166535]\n",
      "Transfer & Revision: [-0.144977, -0.132617, -0.178498, -0.166535]\n",
      "\n",
      "\n",
      "Experiment 2\n",
      "Scratch RDN-B: [-0.295935, -0.223914, -0.232469, -0.270116]\n",
      "Scratch RDN: [-0.184229, -0.196683, -0.151035, -0.16294]\n",
      "TODTLER: [-0.02496175 -0.02183103 -0.02299418 -0.02411909]\n",
      "Transfer: [-0.152837, -0.148672, -0.177686, -0.172012]\n",
      "Transfer & Revision: [-0.152837, -0.148672, -0.177686, -0.172012]\n",
      "\n",
      "\n",
      "Experiment 3\n",
      "Scratch RDN-B: [-0.233148, -0.180795, -0.21697, -0.261959]\n",
      "Scratch RDN: [-0.18468, -0.181016, -0.186569, -0.187918]\n",
      "TODTLER: [-0.02496175 -0.02183103 -0.02299418 -0.02411909]\n",
      "Transfer: [-0.212395, -0.194853, -0.210247, -0.206223]\n",
      "Transfer & Revision: [-0.212395, -0.189148, -0.210247, -0.206223]\n",
      "\n",
      "\n",
      "Experiment 4\n",
      "Scratch RDN-B: [-0.30442, -0.217307, -0.253993, -0.274269]\n",
      "Scratch RDN: [-0.178582, -0.192826, -0.19251, -0.18858]\n",
      "TODTLER: [-0.02496175 -0.02183103 -0.02299418 -0.02411909]\n",
      "Transfer: [-0.209779, -0.168634, -0.199979, -0.21189]\n",
      "Transfer & Revision: [-0.209779, -0.168634, -0.199979, -0.21189]\n",
      "\n",
      "\n"
     ]
    },
    {
     "data": {
      "text/markdown": [
       "# Results for 37_nell_sports_nell_finances"
      ],
      "text/plain": [
       "<IPython.core.display.Markdown object>"
      ]
     },
     "metadata": {},
     "output_type": "display_data"
    },
    {
     "data": {
      "text/markdown": [
       "## AUC ROC"
      ],
      "text/plain": [
       "<IPython.core.display.Markdown object>"
      ]
     },
     "metadata": {},
     "output_type": "display_data"
    },
    {
     "data": {
      "text/html": [
       "<div>\n",
       "<table border=\"1\" class=\"dataframe\">\n",
       "  <thead>\n",
       "    <tr style=\"text-align: right;\">\n",
       "      <th></th>\n",
       "      <th>p-value</th>\n",
       "      <th>RDN-B</th>\n",
       "      <th>RDN</th>\n",
       "      <th>TODTLER</th>\n",
       "    </tr>\n",
       "  </thead>\n",
       "  <tbody>\n",
       "    <tr>\n",
       "      <th>0</th>\n",
       "      <td>TreeBoostler</td>\n",
       "      <td>0.006</td>\n",
       "      <td>0.002</td>\n",
       "      <td>nan</td>\n",
       "    </tr>\n",
       "    <tr>\n",
       "      <th>1</th>\n",
       "      <td>TreeBoostler*</td>\n",
       "      <td>0.006</td>\n",
       "      <td>0.002</td>\n",
       "      <td>nan</td>\n",
       "    </tr>\n",
       "  </tbody>\n",
       "</table>\n",
       "</div>"
      ],
      "text/plain": [
       "         p-value  RDN-B    RDN TODTLER\n",
       "0   TreeBoostler  0.006  0.002     nan\n",
       "1  TreeBoostler*  0.006  0.002     nan"
      ]
     },
     "metadata": {},
     "output_type": "display_data"
    },
    {
     "name": "stdout",
     "output_type": "stream",
     "text": [
      "Experiment 1\n",
      "Scratch RDN-B: [0.757921, 0.698696, 0.684721]\n",
      "Scratch RDN: [0.550843, 0.501164, 0.516391]\n",
      "TODTLER: [ nan  nan  nan]\n",
      "Transfer: [0.975654, 0.975367, 0.97425]\n",
      "Transfer & Revision: [0.975654, 0.975367, 0.97425]\n",
      "\n",
      "\n",
      "Experiment 2\n",
      "Scratch RDN-B: [0.783194, 0.754877, 0.730207]\n",
      "Scratch RDN: [0.689154, 0.548992, 0.528097]\n",
      "TODTLER: [ nan  nan  nan]\n",
      "Transfer: [0.97544, 0.972338, 0.971]\n",
      "Transfer & Revision: [0.979079, 0.972338, 0.971]\n",
      "\n",
      "\n",
      "Experiment 3\n",
      "Scratch RDN-B: [0.786794, 0.735675, 0.710293]\n",
      "Scratch RDN: [0.537361, 0.538905, 0.553918]\n",
      "TODTLER: [ nan  nan  nan]\n",
      "Transfer: [0.980817, 0.979245, 0.976826]\n",
      "Transfer & Revision: [0.980817, 0.979245, 0.976826]\n",
      "\n",
      "\n"
     ]
    },
    {
     "data": {
      "text/markdown": [
       "## AUC PR"
      ],
      "text/plain": [
       "<IPython.core.display.Markdown object>"
      ]
     },
     "metadata": {},
     "output_type": "display_data"
    },
    {
     "data": {
      "text/html": [
       "<div>\n",
       "<table border=\"1\" class=\"dataframe\">\n",
       "  <thead>\n",
       "    <tr style=\"text-align: right;\">\n",
       "      <th></th>\n",
       "      <th>p-value</th>\n",
       "      <th>RDN-B</th>\n",
       "      <th>RDN</th>\n",
       "      <th>TODTLER</th>\n",
       "    </tr>\n",
       "  </thead>\n",
       "  <tbody>\n",
       "    <tr>\n",
       "      <th>0</th>\n",
       "      <td>TreeBoostler</td>\n",
       "      <td>0.194</td>\n",
       "      <td>0.016</td>\n",
       "      <td>nan</td>\n",
       "    </tr>\n",
       "    <tr>\n",
       "      <th>1</th>\n",
       "      <td>TreeBoostler*</td>\n",
       "      <td>0.211</td>\n",
       "      <td>0.007</td>\n",
       "      <td>nan</td>\n",
       "    </tr>\n",
       "  </tbody>\n",
       "</table>\n",
       "</div>"
      ],
      "text/plain": [
       "         p-value  RDN-B    RDN TODTLER\n",
       "0   TreeBoostler  0.194  0.016     nan\n",
       "1  TreeBoostler*  0.211  0.007     nan"
      ]
     },
     "metadata": {},
     "output_type": "display_data"
    },
    {
     "name": "stdout",
     "output_type": "stream",
     "text": [
      "Experiment 1\n",
      "Scratch RDN-B: [0.080297, 0.061426, 0.073779]\n",
      "Scratch RDN: [0.052023, 0.021495, 0.018841]\n",
      "TODTLER: [ nan  nan  nan]\n",
      "Transfer: [0.040057, 0.035154, 0.064442]\n",
      "Transfer & Revision: [0.040057, 0.035154, 0.064442]\n",
      "\n",
      "\n",
      "Experiment 2\n",
      "Scratch RDN-B: [0.120892, 0.093649, 0.024279]\n",
      "Scratch RDN: [0.017373, 0.036108, 0.025754]\n",
      "TODTLER: [ nan  nan  nan]\n",
      "Transfer: [0.053726, 0.028349, 0.026451]\n",
      "Transfer & Revision: [0.067835, 0.028349, 0.026451]\n",
      "\n",
      "\n",
      "Experiment 3\n",
      "Scratch RDN-B: [0.11533, 0.050812, 0.084451]\n",
      "Scratch RDN: [0.027502, 0.036092, 0.043712]\n",
      "TODTLER: [ nan  nan  nan]\n",
      "Transfer: [0.090355, 0.095175, 0.078324]\n",
      "Transfer & Revision: [0.090355, 0.095175, 0.078324]\n",
      "\n",
      "\n"
     ]
    },
    {
     "data": {
      "text/markdown": [
       "## CLL"
      ],
      "text/plain": [
       "<IPython.core.display.Markdown object>"
      ]
     },
     "metadata": {},
     "output_type": "display_data"
    },
    {
     "data": {
      "text/html": [
       "<div>\n",
       "<table border=\"1\" class=\"dataframe\">\n",
       "  <thead>\n",
       "    <tr style=\"text-align: right;\">\n",
       "      <th></th>\n",
       "      <th>p-value</th>\n",
       "      <th>RDN-B</th>\n",
       "      <th>RDN</th>\n",
       "      <th>TODTLER</th>\n",
       "    </tr>\n",
       "  </thead>\n",
       "  <tbody>\n",
       "    <tr>\n",
       "      <th>0</th>\n",
       "      <td>TreeBoostler</td>\n",
       "      <td>0.002</td>\n",
       "      <td>0.005</td>\n",
       "      <td>nan</td>\n",
       "    </tr>\n",
       "    <tr>\n",
       "      <th>1</th>\n",
       "      <td>TreeBoostler*</td>\n",
       "      <td>0.003</td>\n",
       "      <td>0.039</td>\n",
       "      <td>nan</td>\n",
       "    </tr>\n",
       "  </tbody>\n",
       "</table>\n",
       "</div>"
      ],
      "text/plain": [
       "         p-value  RDN-B    RDN TODTLER\n",
       "0   TreeBoostler  0.002  0.005     nan\n",
       "1  TreeBoostler*  0.003  0.039     nan"
      ]
     },
     "metadata": {},
     "output_type": "display_data"
    },
    {
     "name": "stdout",
     "output_type": "stream",
     "text": [
      "Experiment 1\n",
      "Scratch RDN-B: [-0.310541, -0.326796, -0.332282]\n",
      "Scratch RDN: [-0.185246, -0.184561, -0.181306]\n",
      "TODTLER: [ nan  nan  nan]\n",
      "Transfer: [-0.173537, -0.179442, -0.171752]\n",
      "Transfer & Revision: [-0.173537, -0.179442, -0.171752]\n",
      "\n",
      "\n",
      "Experiment 2\n",
      "Scratch RDN-B: [-0.295136, -0.318114, -0.295376]\n",
      "Scratch RDN: [-0.172818, -0.183182, -0.183237]\n",
      "TODTLER: [ nan  nan  nan]\n",
      "Transfer: [-0.183533, -0.173178, -0.177664]\n",
      "Transfer & Revision: [-0.171747, -0.173178, -0.177664]\n",
      "\n",
      "\n",
      "Experiment 3\n",
      "Scratch RDN-B: [-0.296381, -0.333043, -0.313869]\n",
      "Scratch RDN: [-0.182412, -0.182218, -0.181042]\n",
      "TODTLER: [ nan  nan  nan]\n",
      "Transfer: [-0.16605, -0.166765, -0.159497]\n",
      "Transfer & Revision: [-0.16605, -0.166765, -0.159497]\n",
      "\n",
      "\n"
     ]
    },
    {
     "data": {
      "text/markdown": [
       "# Results for 46_nell_finances_nell_sports"
      ],
      "text/plain": [
       "<IPython.core.display.Markdown object>"
      ]
     },
     "metadata": {},
     "output_type": "display_data"
    },
    {
     "data": {
      "text/markdown": [
       "## AUC ROC"
      ],
      "text/plain": [
       "<IPython.core.display.Markdown object>"
      ]
     },
     "metadata": {},
     "output_type": "display_data"
    },
    {
     "data": {
      "text/html": [
       "<div>\n",
       "<table border=\"1\" class=\"dataframe\">\n",
       "  <thead>\n",
       "    <tr style=\"text-align: right;\">\n",
       "      <th></th>\n",
       "      <th>p-value</th>\n",
       "      <th>RDN-B</th>\n",
       "      <th>RDN</th>\n",
       "      <th>TODTLER</th>\n",
       "    </tr>\n",
       "  </thead>\n",
       "  <tbody>\n",
       "    <tr>\n",
       "      <th>0</th>\n",
       "      <td>TreeBoostler</td>\n",
       "      <td>0.779</td>\n",
       "      <td>0.118</td>\n",
       "      <td>nan</td>\n",
       "    </tr>\n",
       "    <tr>\n",
       "      <th>1</th>\n",
       "      <td>TreeBoostler*</td>\n",
       "      <td>0.000</td>\n",
       "      <td>0.000</td>\n",
       "      <td>nan</td>\n",
       "    </tr>\n",
       "  </tbody>\n",
       "</table>\n",
       "</div>"
      ],
      "text/plain": [
       "         p-value  RDN-B    RDN TODTLER\n",
       "0   TreeBoostler  0.779  0.118     nan\n",
       "1  TreeBoostler*  0.000  0.000     nan"
      ]
     },
     "metadata": {},
     "output_type": "display_data"
    },
    {
     "name": "stdout",
     "output_type": "stream",
     "text": [
      "Experiment 1\n",
      "Scratch RDN-B: [0.996285, 0.991304, 0.995109]\n",
      "Scratch RDN: [0.995338, 0.989017, 0.990078]\n",
      "TODTLER: [ nan  nan  nan]\n",
      "Transfer: [0.472075, 0.482188, 0.476473]\n",
      "Transfer & Revision: [0.994177, 0.99354, 0.995309]\n",
      "\n",
      "\n",
      "Experiment 2\n",
      "Scratch RDN-B: [0.996117, 0.989336, 0.995183]\n",
      "Scratch RDN: [0.992875, 0.989501, 0.98945]\n",
      "TODTLER: [ nan  nan  nan]\n",
      "Transfer: [0.467317, 0.479409, 0.478863]\n",
      "Transfer & Revision: [0.994288, 0.995728, 0.993022]\n",
      "\n",
      "\n",
      "Experiment 3\n",
      "Scratch RDN-B: [0.993765, 0.993288, 0.993456]\n",
      "Scratch RDN: [0.991398, 0.989431, 0.989619]\n",
      "TODTLER: [ nan  nan  nan]\n",
      "Transfer: [0.471579, 0.463655, 0.488185]\n",
      "Transfer & Revision: [0.993891, 0.99034, 0.996179]\n",
      "\n",
      "\n"
     ]
    },
    {
     "data": {
      "text/markdown": [
       "## AUC PR"
      ],
      "text/plain": [
       "<IPython.core.display.Markdown object>"
      ]
     },
     "metadata": {},
     "output_type": "display_data"
    },
    {
     "data": {
      "text/html": [
       "<div>\n",
       "<table border=\"1\" class=\"dataframe\">\n",
       "  <thead>\n",
       "    <tr style=\"text-align: right;\">\n",
       "      <th></th>\n",
       "      <th>p-value</th>\n",
       "      <th>RDN-B</th>\n",
       "      <th>RDN</th>\n",
       "      <th>TODTLER</th>\n",
       "    </tr>\n",
       "  </thead>\n",
       "  <tbody>\n",
       "    <tr>\n",
       "      <th>0</th>\n",
       "      <td>TreeBoostler</td>\n",
       "      <td>0.387</td>\n",
       "      <td>0.145</td>\n",
       "      <td>nan</td>\n",
       "    </tr>\n",
       "    <tr>\n",
       "      <th>1</th>\n",
       "      <td>TreeBoostler*</td>\n",
       "      <td>0.002</td>\n",
       "      <td>0.013</td>\n",
       "      <td>nan</td>\n",
       "    </tr>\n",
       "  </tbody>\n",
       "</table>\n",
       "</div>"
      ],
      "text/plain": [
       "         p-value  RDN-B    RDN TODTLER\n",
       "0   TreeBoostler  0.387  0.145     nan\n",
       "1  TreeBoostler*  0.002  0.013     nan"
      ]
     },
     "metadata": {},
     "output_type": "display_data"
    },
    {
     "name": "stdout",
     "output_type": "stream",
     "text": [
      "Experiment 1\n",
      "Scratch RDN-B: [0.374024, 0.233475, 0.326297]\n",
      "Scratch RDN: [0.28942, 0.202147, 0.203708]\n",
      "TODTLER: [ nan  nan  nan]\n",
      "Transfer: [0.002269, 0.002302, 0.002312]\n",
      "Transfer & Revision: [0.314869, 0.31026, 0.351726]\n",
      "\n",
      "\n",
      "Experiment 2\n",
      "Scratch RDN-B: [0.357452, 0.274725, 0.243632]\n",
      "Scratch RDN: [0.227427, 0.196653, 0.128933]\n",
      "TODTLER: [ nan  nan  nan]\n",
      "Transfer: [0.002253, 0.002286, 0.002348]\n",
      "Transfer & Revision: [0.294724, 0.262177, 0.318195]\n",
      "\n",
      "\n",
      "Experiment 3\n",
      "Scratch RDN-B: [0.30688, 0.43383, 0.307985]\n",
      "Scratch RDN: [0.256945, 0.212858, 0.192491]\n",
      "TODTLER: [ nan  nan  nan]\n",
      "Transfer: [0.002253, 0.002196, 0.002351]\n",
      "Transfer & Revision: [0.259922, 0.21197, 0.278085]\n",
      "\n",
      "\n"
     ]
    },
    {
     "data": {
      "text/markdown": [
       "## CLL"
      ],
      "text/plain": [
       "<IPython.core.display.Markdown object>"
      ]
     },
     "metadata": {},
     "output_type": "display_data"
    },
    {
     "data": {
      "text/html": [
       "<div>\n",
       "<table border=\"1\" class=\"dataframe\">\n",
       "  <thead>\n",
       "    <tr style=\"text-align: right;\">\n",
       "      <th></th>\n",
       "      <th>p-value</th>\n",
       "      <th>RDN-B</th>\n",
       "      <th>RDN</th>\n",
       "      <th>TODTLER</th>\n",
       "    </tr>\n",
       "  </thead>\n",
       "  <tbody>\n",
       "    <tr>\n",
       "      <th>0</th>\n",
       "      <td>TreeBoostler</td>\n",
       "      <td>0.143</td>\n",
       "      <td>0.002</td>\n",
       "      <td>nan</td>\n",
       "    </tr>\n",
       "    <tr>\n",
       "      <th>1</th>\n",
       "      <td>TreeBoostler*</td>\n",
       "      <td>0.000</td>\n",
       "      <td>0.000</td>\n",
       "      <td>nan</td>\n",
       "    </tr>\n",
       "  </tbody>\n",
       "</table>\n",
       "</div>"
      ],
      "text/plain": [
       "         p-value  RDN-B    RDN TODTLER\n",
       "0   TreeBoostler  0.143  0.002     nan\n",
       "1  TreeBoostler*  0.000  0.000     nan"
      ]
     },
     "metadata": {},
     "output_type": "display_data"
    },
    {
     "name": "stdout",
     "output_type": "stream",
     "text": [
      "Experiment 1\n",
      "Scratch RDN-B: [-0.085901, -0.084761, -0.082053]\n",
      "Scratch RDN: [-0.139603, -0.13962, -0.13977]\n",
      "TODTLER: [ nan  nan  nan]\n",
      "Transfer: [-0.366624, -0.376329, -0.370487]\n",
      "Transfer & Revision: [-0.086135, -0.086389, -0.083352]\n",
      "\n",
      "\n",
      "Experiment 2\n",
      "Scratch RDN-B: [-0.085703, -0.085627, -0.084695]\n",
      "Scratch RDN: [-0.140099, -0.139298, -0.140317]\n",
      "TODTLER: [ nan  nan  nan]\n",
      "Transfer: [-0.367654, -0.374229, -0.370324]\n",
      "Transfer & Revision: [-0.086135, -0.086406, -0.08881]\n",
      "\n",
      "\n",
      "Experiment 3\n",
      "Scratch RDN-B: [-0.084452, -0.082455, -0.083614]\n",
      "Scratch RDN: [-0.140122, -0.139676, -0.140188]\n",
      "TODTLER: [ nan  nan  nan]\n",
      "Transfer: [-0.37074, -0.361364, -0.377042]\n",
      "Transfer & Revision: [-0.092751, -0.104615, -0.084624]\n",
      "\n",
      "\n"
     ]
    }
   ],
   "source": [
    "for j in range(len(experiments)):\n",
    "    dataset = experiments[j]['id'] + '_' + experiments[j]['source'] + '_' + experiments[j]['target']\n",
    "    if dataset in data['results']: \n",
    "        display(Markdown('# Results for ' + dataset))\n",
    "    table = []\n",
    "    for metric in ['AUC ROC', 'AUC PR', 'CLL']: #, 'Recall', 'F1', 'Precision', 'Learning and Revision time', 'Inference time']:\n",
    "    #for metric in ['AUC ROC', 'AUC PR']:\n",
    "        if dataset in data['results']: \n",
    "            #for metric in ['AUC ROC', 'AUC PR']:\n",
    "            display(Markdown('## ' + metric))\n",
    "            if metric == 'Precision':\n",
    "                for m in range(len(data['results'][str(dataset)])):\n",
    "                    print('Experiment %s' % (m+1))\n",
    "                    sc = [item['rdn_b']['Precision'][0] for item in data['results'][str(dataset)][m]]\n",
    "                    sc_rdn = [item['rdn']['Precision'][0] for item in data['results'][str(dataset)][m]]\n",
    "                    pr = [item['transfer']['parameter']['Precision'][0] for item in data['results'][str(dataset)][m]]\n",
    "                    tr = [item['transfer']['Precision'][0] for item in data['results'][str(dataset)][m]] \n",
    "                    print('Scratch: %s' % sc)\n",
    "                    print('Transfer: %s' % pr)\n",
    "                    print('Transfer & Revision: %s' % tr) \n",
    "                    print('\\n')\n",
    "                #scratch = np.array([item['scratch']['Precision'][0] for sublist in data['results'][str(dataset)] for item in sublist])\n",
    "                #parameter = np.array([item['transfer']['Parameter Learning results']['Precision'][0] for sublist in data['results'][str(dataset)] for item in sublist])\n",
    "                #transfer = np.array([item['transfer']['Precision'][0] for sublist in data['results'][str(dataset)] for item in sublist])\n",
    "            #elif metric == 'Learning and Revision time':\n",
    "            #    for m in range(len(data['results'][str(dataset)])):\n",
    "            #        print('Experiment %s' % (m+1))\n",
    "            #        sc = [item['rdn_b']['Learning time'] for item in data['results'][str(dataset)][m]]\n",
    "            #        sc_rdn = [item['rdn']['Learning time'] for item in data['results'][str(dataset)][m]]\n",
    "            #        pr = ['%s (%.1f)' % (item['transfer']['parameter']['Learning time'], item['transfer']['Mapping results']['Total time']) for item in data['results'][str(dataset)][m]]\n",
    "            #        tr = ['%s (%.1f)' % (item['transfer']['Learning time'], item['transfer']['Mapping results']['Total time']) for item in data['results'][str(dataset)][m]] \n",
    "            #        print('Scratch: %s' % sc)\n",
    "            #        print('Transfer: %s' % pr)\n",
    "            #        print('Transfer & Revision: %s' % tr) \n",
    "            #        print('\\n')\n",
    "                #scratch = np.array([item['scratch']['Learning time'] for sublist in data['results'][str(dataset)] for item in sublist])\n",
    "                #parameter = np.array([item['transfer']['Parameter Learning results']['Learning time'] for sublist in data['results'][str(dataset)] for item in sublist])\n",
    "                #transfer = np.array([item['transfer']['Learning time'] for sublist in data['results'][str(dataset)] for item in sublist])\n",
    "            #elif metric == 'Inference time':\n",
    "            #    for m in range(len(data['results'][str(dataset)])):\n",
    "            #        print('Experiment %s' % (m+1))\n",
    "            #        sc = [item['rdn_b']['Inference time'] for item in data['results'][str(dataset)][m]]\n",
    "            #        sc_rdn = [item['rdn']['Inference time'] for item in data['results'][str(dataset)][m]]\n",
    "            #        pr = [item['transfer']['parameter']['Inference time'] for item in data['results'][str(dataset)][m]]\n",
    "            #        tr = [item['transfer']['Inference time'] for item in data['results'][str(dataset)][m]] \n",
    "            #        print('Scratch: %s' % sc)\n",
    "            #        print('Transfer: %s' % pr)\n",
    "            #        print('Transfer & Revision: %s' % tr) \n",
    "            #        print('\\n')\n",
    "                #scratch = np.array([item['scratch']['Inference time'] for sublist in data['results'][str(dataset)] for item in sublist])\n",
    "                #parameter = np.array([item['transfer']['Parameter Learning results']['Learning time'] for sublist in data['results'][str(dataset)] for item in sublist])\n",
    "                #transfer = np.array([item['transfer']['Inference time'] for sublist in data['results'][str(dataset)] for item in sublist])\n",
    "            else:\n",
    "                sc_sum = np.zeros(len(data['results'][str(dataset)][0]))\n",
    "                sc_rdn_sum = np.zeros(len(data['results'][str(dataset)][0]))\n",
    "                pr_sum = np.zeros(len(data['results'][str(dataset)][0]))\n",
    "                tr_sum = np.zeros(len(data['results'][str(dataset)][0]))\n",
    "                if 'nell' not in dataset:\n",
    "                    tod_sum = np.array([i[metric] for i in todtler_results[dataset]])\n",
    "                else:\n",
    "                    tod_sum = np.array([np.nan, np.nan, np.nan])\n",
    "                for m in range(len(data['results'][str(dataset)][0])):\n",
    "                    sc_sum += np.array([item['rdn_b'][metric] for item in data['results'][str(dataset)][m]])\n",
    "                    sc_rdn_sum += np.array([item['rdn'][metric] for item in data['results'][str(dataset)][m]])\n",
    "                    pr_sum += np.array([item['transfer']['parameter'][metric] for item in data['results'][str(dataset)][m]])\n",
    "                    tr_sum += np.array([item['transfer'][metric] for item in data['results'][str(dataset)][m]])\n",
    "                sc_sum /= len(data['results'][str(dataset)])\n",
    "                sc_rdn_sum /= len(data['results'][str(dataset)])\n",
    "                pr_sum /= len(data['results'][str(dataset)])\n",
    "                tr_sum /= len(data['results'][str(dataset)])\n",
    "                #tod_sum /= len(data['results'][str(dataset)])\n",
    "                pvalue_table = []\n",
    "                pvalue = stats.ttest_rel(tr_sum, sc_sum)\n",
    "                pvalue2 = stats.ttest_rel(tr_sum, sc_rdn_sum)\n",
    "                pvalue3 = stats.ttest_rel(tr_sum, tod_sum)\n",
    "                #print(pvalue)\n",
    "                pvalue_table.append(['TreeBoostler', '%.3f' % (pvalue[1]), '%.3f' % (pvalue2[1]), '%.3f' % (pvalue3[1])])\n",
    "                pvalue = stats.ttest_rel(pr_sum, sc_sum)\n",
    "                pvalue2 = stats.ttest_rel(pr_sum, sc_rdn_sum)\n",
    "                pvalue3 = stats.ttest_rel(pr_sum, tod_sum)\n",
    "                #print(pvalue)\n",
    "                pvalue_table.append(['TreeBoostler*', '%.3f' % (pvalue[1]), '%.3f' % (pvalue2[1]), '%.3f' % (pvalue3[1])])\n",
    "                display(pd.DataFrame(pvalue_table, columns=['p-value', 'RDN-B', 'RDN', 'TODTLER']))\n",
    "                \n",
    "                for m in range(len(data['results'][str(dataset)])):\n",
    "                    print('Experiment %s' % (m+1))\n",
    "                    sc = [item['rdn_b'][metric] for item in data['results'][str(dataset)][m]]\n",
    "                    sc_rdn = [item['rdn'][metric] for item in data['results'][str(dataset)][m]]\n",
    "                    pr = [item['transfer']['parameter'][metric] for item in data['results'][str(dataset)][m]]\n",
    "                    tr = [item['transfer'][metric] for item in data['results'][str(dataset)][m]] \n",
    "                    print('Scratch RDN-B: %s' % sc)\n",
    "                    print('Scratch RDN: %s' % sc_rdn)\n",
    "                    print('TODTLER: %s' % tod_sum)\n",
    "                    print('Transfer: %s' % pr)\n",
    "                    print('Transfer & Revision: %s' % tr) \n",
    "                    print('\\n')\n",
    "                #scratch = np.array([item['scratch'][metric] for sublist in data['results'][str(dataset)] for item in sublist])\n",
    "                #parameter = np.array([item['transfer']['Parameter Learning results'][metric] for sublist in data['results'][str(dataset)] for item in sublist])\n",
    "                #transfer = np.array([item['transfer'][metric] for sublist in data['results'][str(dataset)] for item in sublist])\n",
    "            #print('\\n')\n",
    "            #print('Scratch: %s' % scratch)\n",
    "            #print('Transfer: %s' % parameter)\n",
    "            #print('Transfer & Revision: %s' % transfer)"
   ]
  },
  {
   "cell_type": "code",
   "execution_count": 9,
   "metadata": {
    "collapsed": false
   },
   "outputs": [
    {
     "data": {
      "text/markdown": [
       "# Results for 1_imdb_uwcse"
      ],
      "text/plain": [
       "<IPython.core.display.Markdown object>"
      ]
     },
     "metadata": {},
     "output_type": "display_data"
    },
    {
     "name": "stdout",
     "output_type": "stream",
     "text": [
      "RDN         & -0.195 & 0.918 & 0.243 & 1.92 \\\\\n",
      "RDN-B       & -0.257 & 0.937 & 0.271 & 7.92 \\\\\n",
      "TreeBoostler*     & -0.262 & 0.930 & 0.293 & 1.19 \\\\\n",
      "TreeBoostler & -0.241 & 0.939 & 0.298 & 9.52 \\\\\n"
     ]
    },
    {
     "data": {
      "text/markdown": [
       "# Results for 2_uwcse_imdb"
      ],
      "text/plain": [
       "<IPython.core.display.Markdown object>"
      ]
     },
     "metadata": {},
     "output_type": "display_data"
    },
    {
     "name": "stdout",
     "output_type": "stream",
     "text": [
      "RDN         & -0.167 & 0.991 & 0.764 & 1.05 \\\\\n",
      "RDN-B       & -0.076 & 1.000 & 1.000 & 2.77 \\\\\n",
      "TreeBoostler*     & -0.081 & 0.999 & 0.990 & 1.95 \\\\\n",
      "TreeBoostler & -0.067 & 1.000 & 1.000 & 8.08 \\\\\n"
     ]
    },
    {
     "data": {
      "text/markdown": [
       "# Results for 7_imdb_cora"
      ],
      "text/plain": [
       "<IPython.core.display.Markdown object>"
      ]
     },
     "metadata": {},
     "output_type": "display_data"
    },
    {
     "name": "stdout",
     "output_type": "stream",
     "text": [
      "RDN         & -0.192 & 0.641 & 0.074 & 16.70 \\\\\n",
      "RDN-B       & -0.277 & 0.842 & 0.270 & 237.47 \\\\\n",
      "TreeBoostler*     & -0.323 & 0.582 & 0.183 & 5.34 \\\\\n",
      "TreeBoostler & -0.298 & 0.707 & 0.292 & 106.39 \\\\\n"
     ]
    },
    {
     "data": {
      "text/markdown": [
       "# Results for 53_cora_imdb"
      ],
      "text/plain": [
       "<IPython.core.display.Markdown object>"
      ]
     },
     "metadata": {},
     "output_type": "display_data"
    },
    {
     "name": "stdout",
     "output_type": "stream",
     "text": [
      "RDN         & -0.166 & 0.994 & 0.813 & 1.17 \\\\\n",
      "RDN-B       & -0.073 & 1.000 & 1.000 & 3.29 \\\\\n",
      "TreeBoostler*     & -0.213 & 0.958 & 0.727 & 2.82 \\\\\n",
      "TreeBoostler & -0.077 & 0.999 & 0.952 & 10.70 \\\\\n"
     ]
    },
    {
     "data": {
      "text/markdown": [
       "# Results for 15_yeast_twitter"
      ],
      "text/plain": [
       "<IPython.core.display.Markdown object>"
      ]
     },
     "metadata": {},
     "output_type": "display_data"
    },
    {
     "name": "stdout",
     "output_type": "stream",
     "text": [
      "RDN         & -0.155 & 0.964 & 0.271 & 4.08 \\\\\n",
      "RDN-B       & -0.118 & 0.993 & 0.382 & 24.42 \\\\\n",
      "TreeBoostler*     & -0.138 & 0.986 & 0.394 & 6.12 \\\\\n",
      "TreeBoostler & -0.118 & 0.993 & 0.362 & 114.71 \\\\\n"
     ]
    },
    {
     "data": {
      "text/markdown": [
       "# Results for 22_twitter_yeast"
      ],
      "text/plain": [
       "<IPython.core.display.Markdown object>"
      ]
     },
     "metadata": {},
     "output_type": "display_data"
    },
    {
     "name": "stdout",
     "output_type": "stream",
     "text": [
      "RDN         & -0.182 & 0.695 & 0.081 & 4.46 \\\\\n",
      "RDN-B       & -0.257 & 0.919 & 0.231 & 18.80 \\\\\n",
      "TreeBoostler*     & -0.180 & 0.986 & 0.273 & 4.14 \\\\\n",
      "TreeBoostler & -0.180 & 0.986 & 0.272 & 60.99 \\\\\n"
     ]
    },
    {
     "data": {
      "text/markdown": [
       "# Results for 37_nell_sports_nell_finances"
      ],
      "text/plain": [
       "<IPython.core.display.Markdown object>"
      ]
     },
     "metadata": {},
     "output_type": "display_data"
    },
    {
     "name": "stdout",
     "output_type": "stream",
     "text": [
      "RDN         & -0.182 & 0.552 & 0.031 & 4.74 \\\\\n",
      "RDN-B       & -0.314 & 0.738 & 0.078 & 20.20 \\\\\n",
      "TreeBoostler*     & -0.172 & 0.976 & 0.057 & 17.96 \\\\\n",
      "TreeBoostler & -0.171 & 0.976 & 0.058 & 142.10 \\\\\n"
     ]
    },
    {
     "data": {
      "text/markdown": [
       "# Results for 46_nell_finances_nell_sports"
      ],
      "text/plain": [
       "<IPython.core.display.Markdown object>"
      ]
     },
     "metadata": {},
     "output_type": "display_data"
    },
    {
     "name": "stdout",
     "output_type": "stream",
     "text": [
      "RDN         & -0.140 & 0.991 & 0.212 & 20.68 \\\\\n",
      "RDN-B       & -0.084 & 0.994 & 0.318 & 294.10 \\\\\n",
      "TreeBoostler*     & -0.371 & 0.476 & 0.002 & 10.46 \\\\\n",
      "TreeBoostler & -0.089 & 0.994 & 0.289 & 1773.09 \\\\\n"
     ]
    }
   ],
   "source": [
    "for j in range(len(experiments)):\n",
    "    table = []\n",
    "    dataset = experiments[j]['id'] + '_' + experiments[j]['source'] + '_' + experiments[j]['target']\n",
    "    if dataset in data['results']:\n",
    "        display(Markdown('# Results for ' + dataset))\n",
    "        values = {'scratch': {}, 'scratch_rdn': {}, 'parameter': {}, 'transfer': {}, 'mapping_time': {}}\n",
    "        for metric in ['CLL', 'AUC ROC', 'AUC PR', 'Learning and Revision time']:\n",
    "            mapping_time = ''\n",
    "            if metric == 'Precision':\n",
    "                values['scratch'][metric] = np.array([(np.array([item['rdn_b']['Precision'][0] for item in sublist])).mean() for sublist in data['results'][str(dataset)]])\n",
    "                values['scratch_rdn'][metric] = np.array([(np.array([item['rdn']['Precision'][0] for item in sublist])).mean() for sublist in data['results'][str(dataset)]])\n",
    "                values['parameter'][metric] = np.array([(np.array([item['transfer']['parameter']['Precision'][0] for item in sublist])).mean() for sublist in data['results'][str(dataset)]])\n",
    "                values['transfer'][metric] = np.array([(np.array([item['transfer']['Precision'][0] for item in sublist])).mean() for sublist in data['results'][str(dataset)]])\n",
    "            elif metric == 'Learning and Revision time':\n",
    "                values['scratch'][metric] = np.array([(np.array([item['rdn_b']['Learning time'] for item in sublist])).mean() for sublist in data['results'][str(dataset)]])\n",
    "                values['scratch_rdn'][metric] = np.array([(np.array([item['rdn']['Learning time'] for item in sublist])).mean() for sublist in data['results'][str(dataset)]])\n",
    "                values['parameter'][metric] = np.array([(np.array([item['transfer']['parameter']['Learning time'] for item in sublist])).mean() for sublist in data['results'][str(dataset)]])\n",
    "                values['transfer'][metric] = np.array([(np.array([item['transfer']['Learning time'] for item in sublist])).mean() for sublist in data['results'][str(dataset)]])\n",
    "                #mapping = np.array([(np.array([item['transfer']['Mapping results']['Total time'] for item in sublist])).mean() for sublist in data['results'][str(dataset)]])\n",
    "                #values['mapping_time'] = '(%.1f)' % mapping.mean()\n",
    "            elif metric == 'Inference time':\n",
    "                values['scratch'][metric] = np.array([(np.array([item['rdn_b']['Inference time'] for item in sublist])).mean() for sublist in data['results'][str(dataset)]])\n",
    "                values['scratch_rdn'][metric] = np.array([(np.array([item['rdn']['Inference time'] for item in sublist])).mean() for sublist in data['results'][str(dataset)]])\n",
    "                values['parameter'][metric] = np.array([(np.array([item['transfer']['parameter']['Inference time'] for item in sublist])).mean() for sublist in data['results'][str(dataset)]])\n",
    "                values['transfer'][metric] = np.array([(np.array([item['transfer']['Inference time'] for item in sublist])).mean() for sublist in data['results'][str(dataset)]])\n",
    "            else:\n",
    "                values['scratch'][metric] = np.array([(np.array([item['rdn_b'][metric] for item in sublist])).mean() for sublist in data['results'][str(dataset)]])\n",
    "                values['scratch_rdn'][metric] = np.array([(np.array([item['rdn'][metric] for item in sublist])).mean() for sublist in data['results'][str(dataset)]])\n",
    "                values['parameter'][metric] = np.array([(np.array([item['transfer']['parameter'][metric] for item in sublist])).mean() for sublist in data['results'][str(dataset)]])\n",
    "                values['transfer'][metric] = np.array([(np.array([item['transfer'][metric] for item in sublist])).mean() for sublist in data['results'][str(dataset)]])\n",
    "\n",
    "        print('RDN         & %.3f & %.3f & %.3f & %.2f \\\\\\\\' % (values['scratch_rdn']['CLL'].mean(), values['scratch_rdn']['AUC ROC'].mean(), values['scratch_rdn']['AUC PR'].mean(), values['scratch_rdn']['Learning and Revision time'].mean()))\n",
    "        print('RDN-B       & %.3f & %.3f & %.3f & %.2f \\\\\\\\' % (values['scratch']['CLL'].mean(), values['scratch']['AUC ROC'].mean(), values['scratch']['AUC PR'].mean(), values['scratch']['Learning and Revision time'].mean()))\n",
    "        #print('trRDN-B     & %.3f & %.3f & %.3f & %.3f%s \\\\\\\\' % (values['parameter']['CLL'].mean(), values['parameter']['AUC ROC'].mean(), values['parameter']['AUC PR'].mean(), values['parameter']['Learning and Revision time'].mean(), values['mapping_time']))\n",
    "        #print('trRDN-B Ref & %.3f & %.3f & %.3f & %.3f%s \\\\\\\\' % (values['transfer']['CLL'].mean(), values['transfer']['AUC ROC'].mean(), values['transfer']['AUC PR'].mean(), values['transfer']['Learning and Revision time'].mean(), values['mapping_time']))\n",
    "        print('TreeBoostler*     & %.3f & %.3f & %.3f & %.2f \\\\\\\\' % (values['parameter']['CLL'].mean(), values['parameter']['AUC ROC'].mean(), values['parameter']['AUC PR'].mean(), values['parameter']['Learning and Revision time'].mean()))\n",
    "        print('TreeBoostler & %.3f & %.3f & %.3f & %.2f \\\\\\\\' % (values['transfer']['CLL'].mean(), values['transfer']['AUC ROC'].mean(), values['transfer']['AUC PR'].mean(), values['transfer']['Learning and Revision time'].mean()))"
   ]
  },
  {
   "cell_type": "code",
   "execution_count": null,
   "metadata": {
    "collapsed": true
   },
   "outputs": [],
   "source": []
  },
  {
   "cell_type": "code",
   "execution_count": null,
   "metadata": {
    "collapsed": true
   },
   "outputs": [],
   "source": []
  }
 ],
 "metadata": {
  "anaconda-cloud": {},
  "kernelspec": {
   "display_name": "Python [default]",
   "language": "python",
   "name": "python3"
  },
  "language_info": {
   "codemirror_mode": {
    "name": "ipython",
    "version": 3
   },
   "file_extension": ".py",
   "mimetype": "text/x-python",
   "name": "python",
   "nbconvert_exporter": "python",
   "pygments_lexer": "ipython3",
   "version": "3.5.2"
  }
 },
 "nbformat": 4,
 "nbformat_minor": 1
}
