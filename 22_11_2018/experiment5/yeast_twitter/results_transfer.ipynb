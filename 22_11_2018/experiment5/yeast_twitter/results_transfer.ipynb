{
 "cells": [
  {
   "cell_type": "code",
   "execution_count": 1,
   "metadata": {
    "collapsed": false
   },
   "outputs": [],
   "source": [
    "import matplotlib.pyplot as plt\n",
    "from IPython.display import display, Markdown, Latex\n",
    "import numpy as np\n",
    "import json\n",
    "import pandas as pd\n",
    "from scipy import stats\n",
    "\n",
    "with open('transfer_experiment.json', 'r') as fp:\n",
    "    data = json.load(fp)"
   ]
  },
  {
   "cell_type": "code",
   "execution_count": 2,
   "metadata": {
    "collapsed": false,
    "scrolled": false
   },
   "outputs": [
    {
     "data": {
      "text/markdown": [
       "# Results for AUC ROC"
      ],
      "text/plain": [
       "<IPython.core.display.Markdown object>"
      ]
     },
     "metadata": {},
     "output_type": "display_data"
    },
    {
     "data": {
      "text/html": [
       "<div>\n",
       "<table border=\"1\" class=\"dataframe\">\n",
       "  <thead>\n",
       "    <tr style=\"text-align: right;\">\n",
       "      <th></th>\n",
       "      <th>Experiment</th>\n",
       "      <th>Transfer Learning</th>\n",
       "      <th>Transfer Learning with Revision Theory</th>\n",
       "      <th>Learning from scratch</th>\n",
       "    </tr>\n",
       "  </thead>\n",
       "  <tbody>\n",
       "    <tr>\n",
       "      <th>0</th>\n",
       "      <td>47_yeast_facebook</td>\n",
       "      <td>0.587 +/- 0.107</td>\n",
       "      <td>0.578 +/- 0.062</td>\n",
       "      <td>0.584 +/- 0.058</td>\n",
       "    </tr>\n",
       "    <tr>\n",
       "      <th>1</th>\n",
       "      <td>48_twitter_facebook</td>\n",
       "      <td>0.507 +/- 0.033</td>\n",
       "      <td>0.552 +/- 0.092</td>\n",
       "      <td>0.581 +/- 0.061</td>\n",
       "    </tr>\n",
       "  </tbody>\n",
       "</table>\n",
       "</div>"
      ],
      "text/plain": [
       "            Experiment Transfer Learning  \\\n",
       "0    47_yeast_facebook   0.587 +/- 0.107   \n",
       "1  48_twitter_facebook   0.507 +/- 0.033   \n",
       "\n",
       "  Transfer Learning with Revision Theory Learning from scratch  \n",
       "0                        0.578 +/- 0.062       0.584 +/- 0.058  \n",
       "1                        0.552 +/- 0.092       0.581 +/- 0.061  "
      ]
     },
     "metadata": {},
     "output_type": "display_data"
    },
    {
     "data": {
      "text/markdown": [
       "# Results for AUC PR"
      ],
      "text/plain": [
       "<IPython.core.display.Markdown object>"
      ]
     },
     "metadata": {},
     "output_type": "display_data"
    },
    {
     "data": {
      "text/html": [
       "<div>\n",
       "<table border=\"1\" class=\"dataframe\">\n",
       "  <thead>\n",
       "    <tr style=\"text-align: right;\">\n",
       "      <th></th>\n",
       "      <th>Experiment</th>\n",
       "      <th>Transfer Learning</th>\n",
       "      <th>Transfer Learning with Revision Theory</th>\n",
       "      <th>Learning from scratch</th>\n",
       "    </tr>\n",
       "  </thead>\n",
       "  <tbody>\n",
       "    <tr>\n",
       "      <th>0</th>\n",
       "      <td>47_yeast_facebook</td>\n",
       "      <td>0.579 +/- 0.079</td>\n",
       "      <td>0.578 +/- 0.053</td>\n",
       "      <td>0.580 +/- 0.046</td>\n",
       "    </tr>\n",
       "    <tr>\n",
       "      <th>1</th>\n",
       "      <td>48_twitter_facebook</td>\n",
       "      <td>0.521 +/- 0.032</td>\n",
       "      <td>0.556 +/- 0.073</td>\n",
       "      <td>0.577 +/- 0.047</td>\n",
       "    </tr>\n",
       "  </tbody>\n",
       "</table>\n",
       "</div>"
      ],
      "text/plain": [
       "            Experiment Transfer Learning  \\\n",
       "0    47_yeast_facebook   0.579 +/- 0.079   \n",
       "1  48_twitter_facebook   0.521 +/- 0.032   \n",
       "\n",
       "  Transfer Learning with Revision Theory Learning from scratch  \n",
       "0                        0.578 +/- 0.053       0.580 +/- 0.046  \n",
       "1                        0.556 +/- 0.073       0.577 +/- 0.047  "
      ]
     },
     "metadata": {},
     "output_type": "display_data"
    },
    {
     "data": {
      "text/markdown": [
       "# Results for CLL"
      ],
      "text/plain": [
       "<IPython.core.display.Markdown object>"
      ]
     },
     "metadata": {},
     "output_type": "display_data"
    },
    {
     "data": {
      "text/html": [
       "<div>\n",
       "<table border=\"1\" class=\"dataframe\">\n",
       "  <thead>\n",
       "    <tr style=\"text-align: right;\">\n",
       "      <th></th>\n",
       "      <th>Experiment</th>\n",
       "      <th>Transfer Learning</th>\n",
       "      <th>Transfer Learning with Revision Theory</th>\n",
       "      <th>Learning from scratch</th>\n",
       "    </tr>\n",
       "  </thead>\n",
       "  <tbody>\n",
       "    <tr>\n",
       "      <th>0</th>\n",
       "      <td>47_yeast_facebook</td>\n",
       "      <td>-0.684 +/- 0.028</td>\n",
       "      <td>-0.710 +/- 0.057</td>\n",
       "      <td>-0.717 +/- 0.070</td>\n",
       "    </tr>\n",
       "    <tr>\n",
       "      <th>1</th>\n",
       "      <td>48_twitter_facebook</td>\n",
       "      <td>-0.700 +/- 0.014</td>\n",
       "      <td>-0.710 +/- 0.053</td>\n",
       "      <td>-0.719 +/- 0.067</td>\n",
       "    </tr>\n",
       "  </tbody>\n",
       "</table>\n",
       "</div>"
      ],
      "text/plain": [
       "            Experiment Transfer Learning  \\\n",
       "0    47_yeast_facebook  -0.684 +/- 0.028   \n",
       "1  48_twitter_facebook  -0.700 +/- 0.014   \n",
       "\n",
       "  Transfer Learning with Revision Theory Learning from scratch  \n",
       "0                       -0.710 +/- 0.057      -0.717 +/- 0.070  \n",
       "1                       -0.710 +/- 0.053      -0.719 +/- 0.067  "
      ]
     },
     "metadata": {},
     "output_type": "display_data"
    },
    {
     "data": {
      "text/markdown": [
       "# Results for Recall"
      ],
      "text/plain": [
       "<IPython.core.display.Markdown object>"
      ]
     },
     "metadata": {},
     "output_type": "display_data"
    },
    {
     "data": {
      "text/html": [
       "<div>\n",
       "<table border=\"1\" class=\"dataframe\">\n",
       "  <thead>\n",
       "    <tr style=\"text-align: right;\">\n",
       "      <th></th>\n",
       "      <th>Experiment</th>\n",
       "      <th>Transfer Learning</th>\n",
       "      <th>Transfer Learning with Revision Theory</th>\n",
       "      <th>Learning from scratch</th>\n",
       "    </tr>\n",
       "  </thead>\n",
       "  <tbody>\n",
       "    <tr>\n",
       "      <th>0</th>\n",
       "      <td>47_yeast_facebook</td>\n",
       "      <td>0.289 +/- 0.224</td>\n",
       "      <td>0.385 +/- 0.296</td>\n",
       "      <td>0.391 +/- 0.305</td>\n",
       "    </tr>\n",
       "    <tr>\n",
       "      <th>1</th>\n",
       "      <td>48_twitter_facebook</td>\n",
       "      <td>0.120 +/- 0.275</td>\n",
       "      <td>0.279 +/- 0.309</td>\n",
       "      <td>0.381 +/- 0.268</td>\n",
       "    </tr>\n",
       "  </tbody>\n",
       "</table>\n",
       "</div>"
      ],
      "text/plain": [
       "            Experiment Transfer Learning  \\\n",
       "0    47_yeast_facebook   0.289 +/- 0.224   \n",
       "1  48_twitter_facebook   0.120 +/- 0.275   \n",
       "\n",
       "  Transfer Learning with Revision Theory Learning from scratch  \n",
       "0                        0.385 +/- 0.296       0.391 +/- 0.305  \n",
       "1                        0.279 +/- 0.309       0.381 +/- 0.268  "
      ]
     },
     "metadata": {},
     "output_type": "display_data"
    },
    {
     "data": {
      "text/markdown": [
       "# Results for F1"
      ],
      "text/plain": [
       "<IPython.core.display.Markdown object>"
      ]
     },
     "metadata": {},
     "output_type": "display_data"
    },
    {
     "data": {
      "text/html": [
       "<div>\n",
       "<table border=\"1\" class=\"dataframe\">\n",
       "  <thead>\n",
       "    <tr style=\"text-align: right;\">\n",
       "      <th></th>\n",
       "      <th>Experiment</th>\n",
       "      <th>Transfer Learning</th>\n",
       "      <th>Transfer Learning with Revision Theory</th>\n",
       "      <th>Learning from scratch</th>\n",
       "    </tr>\n",
       "  </thead>\n",
       "  <tbody>\n",
       "    <tr>\n",
       "      <th>0</th>\n",
       "      <td>47_yeast_facebook</td>\n",
       "      <td>0.381 +/- 0.225</td>\n",
       "      <td>0.446 +/- 0.202</td>\n",
       "      <td>0.449 +/- 0.185</td>\n",
       "    </tr>\n",
       "    <tr>\n",
       "      <th>1</th>\n",
       "      <td>48_twitter_facebook</td>\n",
       "      <td>nan +/- nan</td>\n",
       "      <td>0.352 +/- 0.280</td>\n",
       "      <td>0.445 +/- 0.159</td>\n",
       "    </tr>\n",
       "  </tbody>\n",
       "</table>\n",
       "</div>"
      ],
      "text/plain": [
       "            Experiment Transfer Learning  \\\n",
       "0    47_yeast_facebook   0.381 +/- 0.225   \n",
       "1  48_twitter_facebook       nan +/- nan   \n",
       "\n",
       "  Transfer Learning with Revision Theory Learning from scratch  \n",
       "0                        0.446 +/- 0.202       0.449 +/- 0.185  \n",
       "1                        0.352 +/- 0.280       0.445 +/- 0.159  "
      ]
     },
     "metadata": {},
     "output_type": "display_data"
    },
    {
     "data": {
      "text/markdown": [
       "# Results for Precision"
      ],
      "text/plain": [
       "<IPython.core.display.Markdown object>"
      ]
     },
     "metadata": {},
     "output_type": "display_data"
    },
    {
     "data": {
      "text/html": [
       "<div>\n",
       "<table border=\"1\" class=\"dataframe\">\n",
       "  <thead>\n",
       "    <tr style=\"text-align: right;\">\n",
       "      <th></th>\n",
       "      <th>Experiment</th>\n",
       "      <th>Transfer Learning</th>\n",
       "      <th>Transfer Learning with Revision Theory</th>\n",
       "      <th>Learning from scratch</th>\n",
       "    </tr>\n",
       "  </thead>\n",
       "  <tbody>\n",
       "    <tr>\n",
       "      <th>0</th>\n",
       "      <td>47_yeast_facebook</td>\n",
       "      <td>0.615 +/- 0.110</td>\n",
       "      <td>0.596 +/- 0.102</td>\n",
       "      <td>0.592 +/- 0.093</td>\n",
       "    </tr>\n",
       "    <tr>\n",
       "      <th>1</th>\n",
       "      <td>48_twitter_facebook</td>\n",
       "      <td>nan +/- nan</td>\n",
       "      <td>0.579 +/- 0.104</td>\n",
       "      <td>0.591 +/- 0.095</td>\n",
       "    </tr>\n",
       "  </tbody>\n",
       "</table>\n",
       "</div>"
      ],
      "text/plain": [
       "            Experiment Transfer Learning  \\\n",
       "0    47_yeast_facebook   0.615 +/- 0.110   \n",
       "1  48_twitter_facebook       nan +/- nan   \n",
       "\n",
       "  Transfer Learning with Revision Theory Learning from scratch  \n",
       "0                        0.596 +/- 0.102       0.592 +/- 0.093  \n",
       "1                        0.579 +/- 0.104       0.591 +/- 0.095  "
      ]
     },
     "metadata": {},
     "output_type": "display_data"
    },
    {
     "data": {
      "text/markdown": [
       "# Results for Learning and Revision time"
      ],
      "text/plain": [
       "<IPython.core.display.Markdown object>"
      ]
     },
     "metadata": {},
     "output_type": "display_data"
    },
    {
     "data": {
      "text/html": [
       "<div>\n",
       "<table border=\"1\" class=\"dataframe\">\n",
       "  <thead>\n",
       "    <tr style=\"text-align: right;\">\n",
       "      <th></th>\n",
       "      <th>Experiment</th>\n",
       "      <th>Transfer Learning</th>\n",
       "      <th>Transfer Learning with Revision Theory</th>\n",
       "      <th>Learning from scratch</th>\n",
       "    </tr>\n",
       "  </thead>\n",
       "  <tbody>\n",
       "    <tr>\n",
       "      <th>0</th>\n",
       "      <td>47_yeast_facebook</td>\n",
       "      <td>92.525 +/- 153.669 (46.9)</td>\n",
       "      <td>213.198 +/- 325.428 (46.9)</td>\n",
       "      <td>155.187 +/- 253.917</td>\n",
       "    </tr>\n",
       "    <tr>\n",
       "      <th>1</th>\n",
       "      <td>48_twitter_facebook</td>\n",
       "      <td>77.807 +/- 127.212 (3.1)</td>\n",
       "      <td>163.760 +/- 253.139 (3.1)</td>\n",
       "      <td>159.340 +/- 259.624</td>\n",
       "    </tr>\n",
       "  </tbody>\n",
       "</table>\n",
       "</div>"
      ],
      "text/plain": [
       "            Experiment          Transfer Learning  \\\n",
       "0    47_yeast_facebook  92.525 +/- 153.669 (46.9)   \n",
       "1  48_twitter_facebook   77.807 +/- 127.212 (3.1)   \n",
       "\n",
       "  Transfer Learning with Revision Theory Learning from scratch  \n",
       "0             213.198 +/- 325.428 (46.9)   155.187 +/- 253.917  \n",
       "1              163.760 +/- 253.139 (3.1)   159.340 +/- 259.624  "
      ]
     },
     "metadata": {},
     "output_type": "display_data"
    },
    {
     "data": {
      "text/markdown": [
       "# Results for Inference time"
      ],
      "text/plain": [
       "<IPython.core.display.Markdown object>"
      ]
     },
     "metadata": {},
     "output_type": "display_data"
    },
    {
     "data": {
      "text/html": [
       "<div>\n",
       "<table border=\"1\" class=\"dataframe\">\n",
       "  <thead>\n",
       "    <tr style=\"text-align: right;\">\n",
       "      <th></th>\n",
       "      <th>Experiment</th>\n",
       "      <th>Transfer Learning</th>\n",
       "      <th>Transfer Learning with Revision Theory</th>\n",
       "      <th>Learning from scratch</th>\n",
       "    </tr>\n",
       "  </thead>\n",
       "  <tbody>\n",
       "    <tr>\n",
       "      <th>0</th>\n",
       "      <td>47_yeast_facebook</td>\n",
       "      <td>92.525 +/- 153.669</td>\n",
       "      <td>5.499 +/- 1.652</td>\n",
       "      <td>5.434 +/- 1.130</td>\n",
       "    </tr>\n",
       "    <tr>\n",
       "      <th>1</th>\n",
       "      <td>48_twitter_facebook</td>\n",
       "      <td>77.807 +/- 127.212</td>\n",
       "      <td>5.023 +/- 2.013</td>\n",
       "      <td>5.400 +/- 1.960</td>\n",
       "    </tr>\n",
       "  </tbody>\n",
       "</table>\n",
       "</div>"
      ],
      "text/plain": [
       "            Experiment   Transfer Learning  \\\n",
       "0    47_yeast_facebook  92.525 +/- 153.669   \n",
       "1  48_twitter_facebook  77.807 +/- 127.212   \n",
       "\n",
       "  Transfer Learning with Revision Theory Learning from scratch  \n",
       "0                        5.499 +/- 1.652       5.434 +/- 1.130  \n",
       "1                        5.023 +/- 2.013       5.400 +/- 1.960  "
      ]
     },
     "metadata": {},
     "output_type": "display_data"
    }
   ],
   "source": [
    "experiments = [\n",
    "            {'id': '1', 'source':'imdb', 'target':'uwcse', 'predicate':'workedunder', 'to_predicate':'advisedby'},\n",
    "            {'id': '2', 'source':'uwcse', 'target':'imdb', 'predicate':'advisedby', 'to_predicate':'workedunder'},\n",
    "            {'id': '3', 'source':'imdb', 'target':'uwcse', 'predicate':'movie', 'to_predicate':'publication'},\n",
    "            {'id': '4', 'source':'uwcse', 'target':'imdb', 'predicate':'publication', 'to_predicate':'movie'},\n",
    "            {'id': '5', 'source':'imdb', 'target':'uwcse', 'predicate':'genre', 'to_predicate':'inphase'},\n",
    "            {'id': '6', 'source':'uwcse', 'target':'imdb', 'predicate':'inphase', 'to_predicate':'genre'},\n",
    "            {'id': '7', 'source':'imdb', 'target':'cora', 'predicate':'workedunder', 'to_predicate':'samevenue'},\n",
    "            {'id': '8', 'source':'imdb', 'target':'cora', 'predicate':'workedunder', 'to_predicate':'samebib'},\n",
    "            {'id': '9', 'source':'imdb', 'target':'cora', 'predicate':'workedunder', 'to_predicate':'sameauthor'},\n",
    "            {'id': '10', 'source':'imdb', 'target':'cora', 'predicate':'workedunder', 'to_predicate':'sametitle'},\n",
    "            {'id': '11', 'source':'uwcse', 'target':'cora', 'predicate':'advisedby', 'to_predicate':'samevenue'},\n",
    "            {'id': '12', 'source':'uwcse', 'target':'cora', 'predicate':'advisedby', 'to_predicate':'samebib'},\n",
    "            {'id': '13', 'source':'uwcse', 'target':'cora', 'predicate':'advisedby', 'to_predicate':'sameauthor'},\n",
    "            {'id': '14', 'source':'uwcse', 'target':'cora', 'predicate':'advisedby', 'to_predicate':'sametitle'},\n",
    "            {'id': '15', 'source':'yeast', 'target':'twitter', 'predicate':'proteinclass', 'to_predicate':'accounttype'},\n",
    "            {'id': '16', 'source':'yeast', 'target':'twitter', 'predicate':'interaction', 'to_predicate':'follows'},\n",
    "            {'id': '17', 'source':'yeast', 'target':'twitter', 'predicate':'location', 'to_predicate':'tweets'},\n",
    "            {'id': '18', 'source':'yeast', 'target':'twitter', 'predicate':'enzyme', 'to_predicate':'tweets'},\n",
    "            {'id': '19', 'source':'yeast', 'target':'twitter', 'predicate':'function', 'to_predicate':'tweets'},\n",
    "            {'id': '20', 'source':'yeast', 'target':'twitter', 'predicate':'phenotype', 'to_predicate':'tweets'},\n",
    "            {'id': '21', 'source':'yeast', 'target':'twitter', 'predicate':'complex', 'to_predicate':'tweets'},\n",
    "            {'id': '22', 'source':'twitter', 'target':'yeast', 'predicate':'accounttype', 'to_predicate':'proteinclass'},\n",
    "            {'id': '23', 'source':'twitter', 'target':'yeast', 'predicate':'follows', 'to_predicate':'interaction'},\n",
    "            {'id': '24', 'source':'twitter', 'target':'yeast', 'predicate':'tweets', 'to_predicate':'location'},\n",
    "            {'id': '25', 'source':'twitter', 'target':'yeast', 'predicate':'tweets', 'to_predicate':'enzyme'},\n",
    "            {'id': '26', 'source':'twitter', 'target':'yeast', 'predicate':'tweets', 'to_predicate':'function'},\n",
    "            {'id': '27', 'source':'twitter', 'target':'yeast', 'predicate':'tweets', 'to_predicate':'phenotype'},\n",
    "            {'id': '28', 'source':'twitter', 'target':'yeast', 'predicate':'tweets', 'to_predicate':'complex'},\n",
    "            {'id': '29', 'source':'nell_sports', 'target':'nell_finances', 'predicate':'teamalsoknownas', 'to_predicate':'companyalsoknownas'},\n",
    "            {'id': '30', 'source':'nell_sports', 'target':'nell_finances', 'predicate':'teamplaysagainstteam', 'to_predicate':'companyalsoknownas'},\n",
    "            {'id': '31', 'source':'nell_sports', 'target':'nell_finances', 'predicate':'teamplaysagainstteam', 'to_predicate':'acquired'},\n",
    "            {'id': '32', 'source':'nell_sports', 'target':'nell_finances', 'predicate':'teamplaysagainstteam', 'to_predicate':'bankboughtbank'},\n",
    "            {'id': '33', 'source':'nell_sports', 'target':'nell_finances', 'predicate':'athleteplayssport', 'to_predicate':'companyceo'},\n",
    "            {'id': '34', 'source':'nell_sports', 'target':'nell_finances', 'predicate':'athleteplayssport', 'to_predicate':'bankchiefexecutiveceo'},\n",
    "            {'id': '35', 'source':'nell_sports', 'target':'nell_finances', 'predicate':'athleteplaysforteam', 'to_predicate':'bankchiefexecutiveceo'},\n",
    "            {'id': '36', 'source':'nell_sports', 'target':'nell_finances', 'predicate':'athleteplaysforteam', 'to_predicate':'companyceo'},\n",
    "            {'id': '37', 'source':'nell_sports', 'target':'nell_finances', 'predicate':'teamplayssport', 'to_predicate':'companyeconomicsector'},\n",
    "            {'id': '38', 'source':'nell_finances', 'target':'nell_sports', 'predicate':'companyalsoknownas', 'to_predicate':'teamalsoknownas'},\n",
    "            {'id': '39', 'source':'nell_finances', 'target':'nell_sports', 'predicate':'companyalsoknownas', 'to_predicate':'teamplaysagainstteam'},\n",
    "            {'id': '40', 'source':'nell_finances', 'target':'nell_sports', 'predicate':'acquired', 'to_predicate':'teamplaysagainstteam'},\n",
    "            {'id': '41', 'source':'nell_finances', 'target':'nell_sports', 'predicate':'bankboughtbank', 'to_predicate':'teamplaysagainstteam'},\n",
    "            {'id': '42', 'source':'nell_finances', 'target':'nell_sports', 'predicate':'companyceo', 'to_predicate':'athleteplayssport'},\n",
    "            {'id': '43', 'source':'nell_finances', 'target':'nell_sports', 'predicate':'bankchiefexecutiveceo', 'to_predicate':'athleteplayssport'},\n",
    "            {'id': '44', 'source':'nell_finances', 'target':'nell_sports', 'predicate':'bankchiefexecutiveceo', 'to_predicate':'athleteplaysforteam'},\n",
    "            {'id': '45', 'source':'nell_finances', 'target':'nell_sports', 'predicate':'companyceo', 'to_predicate':'athleteplaysforteam'},\n",
    "            {'id': '46', 'source':'nell_finances', 'target':'nell_sports', 'predicate':'companyeconomicsector', 'to_predicate':'teamplayssport'},\n",
    "            {'id': '47', 'source':'yeast', 'target':'facebook', 'predicate':'interaction', 'to_predicate':'edge'},\n",
    "            {'id': '48', 'source':'twitter', 'target':'facebook', 'predicate':'follows', 'to_predicate':'edge'},\n",
    "            {'id': '49', 'source':'imdb', 'target':'facebook', 'predicate':'workedunder', 'to_predicate':'edge'},\n",
    "            {'id': '50', 'source':'uwcse', 'target':'facebook', 'predicate':'advisedby', 'to_predicate':'edge'},\n",
    "]\n",
    "\n",
    "for metric in ['AUC ROC', 'AUC PR', 'CLL', 'Recall', 'F1', 'Precision', 'Learning and Revision time', 'Inference time']:\n",
    "    display(Markdown('# Results for ' + metric))\n",
    "    table = []\n",
    "    for j in range(len(experiments)):\n",
    "        dataset = experiments[j]['id'] + '_' + experiments[j]['source'] + '_' + experiments[j]['target']\n",
    "        if dataset in data['results']: \n",
    "            #for metric in ['AUC ROC', 'AUC PR']:\n",
    "                #display(Markdown('## ' + metric))\n",
    "            mapping_time = ''\n",
    "            if metric == 'Precision':\n",
    "                scratch = np.array([item['scratch']['Precision'][0] for sublist in data['results'][str(dataset)] for item in sublist])\n",
    "                parameter = np.array([item['transfer']['Parameter Learning results']['Precision'][0] for sublist in data['results'][str(dataset)] for item in sublist])\n",
    "                transfer = np.array([item['transfer']['Precision'][0] for sublist in data['results'][str(dataset)] for item in sublist])\n",
    "            elif metric == 'Learning and Revision time':\n",
    "                scratch = np.array([item['scratch']['Learning time'] for sublist in data['results'][str(dataset)] for item in sublist])\n",
    "                parameter = np.array([item['transfer']['Parameter Learning results']['Learning time'] for sublist in data['results'][str(dataset)] for item in sublist])\n",
    "                transfer = np.array([item['transfer']['Learning time'] for sublist in data['results'][str(dataset)] for item in sublist])\n",
    "                mapping = np.array([item['transfer']['Mapping results']['Total time'] for sublist in data['results'][str(dataset)] for item in sublist])\n",
    "                mapping_time = ' (%.1f)' % mapping.mean()\n",
    "            elif metric == 'Inference time':\n",
    "                scratch = np.array([item['scratch']['Inference time'] for sublist in data['results'][str(dataset)] for item in sublist])\n",
    "                parameter = np.array([item['transfer']['Parameter Learning results']['Learning time'] for sublist in data['results'][str(dataset)] for item in sublist])\n",
    "                transfer = np.array([item['transfer']['Inference time'] for sublist in data['results'][str(dataset)] for item in sublist])\n",
    "            else:\n",
    "                scratch = np.array([item['scratch'][metric] for sublist in data['results'][str(dataset)] for item in sublist])\n",
    "                parameter = np.array([item['transfer']['Parameter Learning results'][metric] for sublist in data['results'][str(dataset)] for item in sublist])\n",
    "                transfer = np.array([item['transfer'][metric] for sublist in data['results'][str(dataset)] for item in sublist])\n",
    "            table.append([dataset, '%.3f +/- %.3f%s' % (parameter.mean(), 2 * parameter.std(), mapping_time),\n",
    "            '%.3f +/- %.3f%s' % (transfer.mean(), 2 * transfer.std(), mapping_time),\n",
    "            '%.3f +/- %.3f' % (scratch.mean(), 2 * scratch.std())])\n",
    "    display(pd.DataFrame(table, columns=['Experiment', 'Transfer Learning', 'Transfer Learning with Revision Theory', 'Learning from scratch']))"
   ]
  },
  {
   "cell_type": "code",
   "execution_count": 3,
   "metadata": {
    "collapsed": false
   },
   "outputs": [
    {
     "data": {
      "text/markdown": [
       "# Results for 1_imdb_uwcse"
      ],
      "text/plain": [
       "<IPython.core.display.Markdown object>"
      ]
     },
     "metadata": {},
     "output_type": "display_data"
    },
    {
     "data": {
      "text/markdown": [
       "# Results for 2_uwcse_imdb"
      ],
      "text/plain": [
       "<IPython.core.display.Markdown object>"
      ]
     },
     "metadata": {},
     "output_type": "display_data"
    },
    {
     "data": {
      "text/markdown": [
       "# Results for 3_imdb_uwcse"
      ],
      "text/plain": [
       "<IPython.core.display.Markdown object>"
      ]
     },
     "metadata": {},
     "output_type": "display_data"
    },
    {
     "data": {
      "text/markdown": [
       "# Results for 4_uwcse_imdb"
      ],
      "text/plain": [
       "<IPython.core.display.Markdown object>"
      ]
     },
     "metadata": {},
     "output_type": "display_data"
    },
    {
     "data": {
      "text/markdown": [
       "# Results for 5_imdb_uwcse"
      ],
      "text/plain": [
       "<IPython.core.display.Markdown object>"
      ]
     },
     "metadata": {},
     "output_type": "display_data"
    },
    {
     "data": {
      "text/markdown": [
       "# Results for 6_uwcse_imdb"
      ],
      "text/plain": [
       "<IPython.core.display.Markdown object>"
      ]
     },
     "metadata": {},
     "output_type": "display_data"
    },
    {
     "data": {
      "text/markdown": [
       "# Results for 7_imdb_cora"
      ],
      "text/plain": [
       "<IPython.core.display.Markdown object>"
      ]
     },
     "metadata": {},
     "output_type": "display_data"
    },
    {
     "data": {
      "text/markdown": [
       "# Results for 8_imdb_cora"
      ],
      "text/plain": [
       "<IPython.core.display.Markdown object>"
      ]
     },
     "metadata": {},
     "output_type": "display_data"
    },
    {
     "data": {
      "text/markdown": [
       "# Results for 9_imdb_cora"
      ],
      "text/plain": [
       "<IPython.core.display.Markdown object>"
      ]
     },
     "metadata": {},
     "output_type": "display_data"
    },
    {
     "data": {
      "text/markdown": [
       "# Results for 10_imdb_cora"
      ],
      "text/plain": [
       "<IPython.core.display.Markdown object>"
      ]
     },
     "metadata": {},
     "output_type": "display_data"
    },
    {
     "data": {
      "text/markdown": [
       "# Results for 11_uwcse_cora"
      ],
      "text/plain": [
       "<IPython.core.display.Markdown object>"
      ]
     },
     "metadata": {},
     "output_type": "display_data"
    },
    {
     "data": {
      "text/markdown": [
       "# Results for 12_uwcse_cora"
      ],
      "text/plain": [
       "<IPython.core.display.Markdown object>"
      ]
     },
     "metadata": {},
     "output_type": "display_data"
    },
    {
     "data": {
      "text/markdown": [
       "# Results for 13_uwcse_cora"
      ],
      "text/plain": [
       "<IPython.core.display.Markdown object>"
      ]
     },
     "metadata": {},
     "output_type": "display_data"
    },
    {
     "data": {
      "text/markdown": [
       "# Results for 14_uwcse_cora"
      ],
      "text/plain": [
       "<IPython.core.display.Markdown object>"
      ]
     },
     "metadata": {},
     "output_type": "display_data"
    },
    {
     "data": {
      "text/markdown": [
       "# Results for 15_yeast_twitter"
      ],
      "text/plain": [
       "<IPython.core.display.Markdown object>"
      ]
     },
     "metadata": {},
     "output_type": "display_data"
    },
    {
     "data": {
      "text/markdown": [
       "# Results for 16_yeast_twitter"
      ],
      "text/plain": [
       "<IPython.core.display.Markdown object>"
      ]
     },
     "metadata": {},
     "output_type": "display_data"
    },
    {
     "data": {
      "text/markdown": [
       "# Results for 17_yeast_twitter"
      ],
      "text/plain": [
       "<IPython.core.display.Markdown object>"
      ]
     },
     "metadata": {},
     "output_type": "display_data"
    },
    {
     "data": {
      "text/markdown": [
       "# Results for 18_yeast_twitter"
      ],
      "text/plain": [
       "<IPython.core.display.Markdown object>"
      ]
     },
     "metadata": {},
     "output_type": "display_data"
    },
    {
     "data": {
      "text/markdown": [
       "# Results for 19_yeast_twitter"
      ],
      "text/plain": [
       "<IPython.core.display.Markdown object>"
      ]
     },
     "metadata": {},
     "output_type": "display_data"
    },
    {
     "data": {
      "text/markdown": [
       "# Results for 20_yeast_twitter"
      ],
      "text/plain": [
       "<IPython.core.display.Markdown object>"
      ]
     },
     "metadata": {},
     "output_type": "display_data"
    },
    {
     "data": {
      "text/markdown": [
       "# Results for 21_yeast_twitter"
      ],
      "text/plain": [
       "<IPython.core.display.Markdown object>"
      ]
     },
     "metadata": {},
     "output_type": "display_data"
    },
    {
     "data": {
      "text/markdown": [
       "# Results for 22_twitter_yeast"
      ],
      "text/plain": [
       "<IPython.core.display.Markdown object>"
      ]
     },
     "metadata": {},
     "output_type": "display_data"
    },
    {
     "data": {
      "text/markdown": [
       "# Results for 23_twitter_yeast"
      ],
      "text/plain": [
       "<IPython.core.display.Markdown object>"
      ]
     },
     "metadata": {},
     "output_type": "display_data"
    },
    {
     "data": {
      "text/markdown": [
       "# Results for 24_twitter_yeast"
      ],
      "text/plain": [
       "<IPython.core.display.Markdown object>"
      ]
     },
     "metadata": {},
     "output_type": "display_data"
    },
    {
     "data": {
      "text/markdown": [
       "# Results for 25_twitter_yeast"
      ],
      "text/plain": [
       "<IPython.core.display.Markdown object>"
      ]
     },
     "metadata": {},
     "output_type": "display_data"
    },
    {
     "data": {
      "text/markdown": [
       "# Results for 26_twitter_yeast"
      ],
      "text/plain": [
       "<IPython.core.display.Markdown object>"
      ]
     },
     "metadata": {},
     "output_type": "display_data"
    },
    {
     "data": {
      "text/markdown": [
       "# Results for 27_twitter_yeast"
      ],
      "text/plain": [
       "<IPython.core.display.Markdown object>"
      ]
     },
     "metadata": {},
     "output_type": "display_data"
    },
    {
     "data": {
      "text/markdown": [
       "# Results for 28_twitter_yeast"
      ],
      "text/plain": [
       "<IPython.core.display.Markdown object>"
      ]
     },
     "metadata": {},
     "output_type": "display_data"
    },
    {
     "data": {
      "text/markdown": [
       "# Results for 29_nell_sports_nell_finances"
      ],
      "text/plain": [
       "<IPython.core.display.Markdown object>"
      ]
     },
     "metadata": {},
     "output_type": "display_data"
    },
    {
     "data": {
      "text/markdown": [
       "# Results for 30_nell_sports_nell_finances"
      ],
      "text/plain": [
       "<IPython.core.display.Markdown object>"
      ]
     },
     "metadata": {},
     "output_type": "display_data"
    },
    {
     "data": {
      "text/markdown": [
       "# Results for 31_nell_sports_nell_finances"
      ],
      "text/plain": [
       "<IPython.core.display.Markdown object>"
      ]
     },
     "metadata": {},
     "output_type": "display_data"
    },
    {
     "data": {
      "text/markdown": [
       "# Results for 32_nell_sports_nell_finances"
      ],
      "text/plain": [
       "<IPython.core.display.Markdown object>"
      ]
     },
     "metadata": {},
     "output_type": "display_data"
    },
    {
     "data": {
      "text/markdown": [
       "# Results for 33_nell_sports_nell_finances"
      ],
      "text/plain": [
       "<IPython.core.display.Markdown object>"
      ]
     },
     "metadata": {},
     "output_type": "display_data"
    },
    {
     "data": {
      "text/markdown": [
       "# Results for 34_nell_sports_nell_finances"
      ],
      "text/plain": [
       "<IPython.core.display.Markdown object>"
      ]
     },
     "metadata": {},
     "output_type": "display_data"
    },
    {
     "data": {
      "text/markdown": [
       "# Results for 35_nell_sports_nell_finances"
      ],
      "text/plain": [
       "<IPython.core.display.Markdown object>"
      ]
     },
     "metadata": {},
     "output_type": "display_data"
    },
    {
     "data": {
      "text/markdown": [
       "# Results for 36_nell_sports_nell_finances"
      ],
      "text/plain": [
       "<IPython.core.display.Markdown object>"
      ]
     },
     "metadata": {},
     "output_type": "display_data"
    },
    {
     "data": {
      "text/markdown": [
       "# Results for 37_nell_sports_nell_finances"
      ],
      "text/plain": [
       "<IPython.core.display.Markdown object>"
      ]
     },
     "metadata": {},
     "output_type": "display_data"
    },
    {
     "data": {
      "text/markdown": [
       "# Results for 38_nell_finances_nell_sports"
      ],
      "text/plain": [
       "<IPython.core.display.Markdown object>"
      ]
     },
     "metadata": {},
     "output_type": "display_data"
    },
    {
     "data": {
      "text/markdown": [
       "# Results for 39_nell_finances_nell_sports"
      ],
      "text/plain": [
       "<IPython.core.display.Markdown object>"
      ]
     },
     "metadata": {},
     "output_type": "display_data"
    },
    {
     "data": {
      "text/markdown": [
       "# Results for 40_nell_finances_nell_sports"
      ],
      "text/plain": [
       "<IPython.core.display.Markdown object>"
      ]
     },
     "metadata": {},
     "output_type": "display_data"
    },
    {
     "data": {
      "text/markdown": [
       "# Results for 41_nell_finances_nell_sports"
      ],
      "text/plain": [
       "<IPython.core.display.Markdown object>"
      ]
     },
     "metadata": {},
     "output_type": "display_data"
    },
    {
     "data": {
      "text/markdown": [
       "# Results for 42_nell_finances_nell_sports"
      ],
      "text/plain": [
       "<IPython.core.display.Markdown object>"
      ]
     },
     "metadata": {},
     "output_type": "display_data"
    },
    {
     "data": {
      "text/markdown": [
       "# Results for 43_nell_finances_nell_sports"
      ],
      "text/plain": [
       "<IPython.core.display.Markdown object>"
      ]
     },
     "metadata": {},
     "output_type": "display_data"
    },
    {
     "data": {
      "text/markdown": [
       "# Results for 44_nell_finances_nell_sports"
      ],
      "text/plain": [
       "<IPython.core.display.Markdown object>"
      ]
     },
     "metadata": {},
     "output_type": "display_data"
    },
    {
     "data": {
      "text/markdown": [
       "# Results for 45_nell_finances_nell_sports"
      ],
      "text/plain": [
       "<IPython.core.display.Markdown object>"
      ]
     },
     "metadata": {},
     "output_type": "display_data"
    },
    {
     "data": {
      "text/markdown": [
       "# Results for 46_nell_finances_nell_sports"
      ],
      "text/plain": [
       "<IPython.core.display.Markdown object>"
      ]
     },
     "metadata": {},
     "output_type": "display_data"
    },
    {
     "data": {
      "text/markdown": [
       "# Results for 47_yeast_facebook"
      ],
      "text/plain": [
       "<IPython.core.display.Markdown object>"
      ]
     },
     "metadata": {},
     "output_type": "display_data"
    },
    {
     "data": {
      "text/markdown": [
       "## AUC ROC"
      ],
      "text/plain": [
       "<IPython.core.display.Markdown object>"
      ]
     },
     "metadata": {},
     "output_type": "display_data"
    },
    {
     "name": "stdout",
     "output_type": "stream",
     "text": [
      "Experiment 1\n",
      "Ttest_relResult(statistic=-0.601377920408571, pvalue=0.5800084105993575)\n",
      "Ttest_relResult(statistic=-1.463747499905601, pvalue=0.21710558588554094)\n"
     ]
    },
    {
     "data": {
      "text/html": [
       "<div>\n",
       "<table border=\"1\" class=\"dataframe\">\n",
       "  <thead>\n",
       "    <tr style=\"text-align: right;\">\n",
       "      <th></th>\n",
       "      <th>p-value</th>\n",
       "      <th>RDN-B</th>\n",
       "    </tr>\n",
       "  </thead>\n",
       "  <tbody>\n",
       "    <tr>\n",
       "      <th>0</th>\n",
       "      <td>transferRDN-B Ref</td>\n",
       "      <td>0.580</td>\n",
       "    </tr>\n",
       "    <tr>\n",
       "      <th>1</th>\n",
       "      <td>transferRDN-B</td>\n",
       "      <td>0.217</td>\n",
       "    </tr>\n",
       "  </tbody>\n",
       "</table>\n",
       "</div>"
      ],
      "text/plain": [
       "             p-value  RDN-B\n",
       "0  transferRDN-B Ref  0.580\n",
       "1      transferRDN-B  0.217"
      ]
     },
     "metadata": {},
     "output_type": "display_data"
    },
    {
     "name": "stdout",
     "output_type": "stream",
     "text": [
      "Scratch: [0.634169, 0.550837, 0.588128, 0.550634, 0.546446]\n",
      "Transfer: [0.503612, 0.588475, 0.53967, 0.5427, 0.491743]\n",
      "Transfer & Revision: [0.511744, 0.586024, 0.561172, 0.591901, 0.530857]\n",
      "\n",
      "\n",
      "Experiment 2\n",
      "Ttest_relResult(statistic=0.8222785183342126, pvalue=0.45710858170991836)\n",
      "Ttest_relResult(statistic=1.8185256990328071, pvalue=0.14312202880281155)\n"
     ]
    },
    {
     "data": {
      "text/html": [
       "<div>\n",
       "<table border=\"1\" class=\"dataframe\">\n",
       "  <thead>\n",
       "    <tr style=\"text-align: right;\">\n",
       "      <th></th>\n",
       "      <th>p-value</th>\n",
       "      <th>RDN-B</th>\n",
       "    </tr>\n",
       "  </thead>\n",
       "  <tbody>\n",
       "    <tr>\n",
       "      <th>0</th>\n",
       "      <td>transferRDN-B Ref</td>\n",
       "      <td>0.457</td>\n",
       "    </tr>\n",
       "    <tr>\n",
       "      <th>1</th>\n",
       "      <td>transferRDN-B</td>\n",
       "      <td>0.143</td>\n",
       "    </tr>\n",
       "  </tbody>\n",
       "</table>\n",
       "</div>"
      ],
      "text/plain": [
       "             p-value  RDN-B\n",
       "0  transferRDN-B Ref  0.457\n",
       "1      transferRDN-B  0.143"
      ]
     },
     "metadata": {},
     "output_type": "display_data"
    },
    {
     "name": "stdout",
     "output_type": "stream",
     "text": [
      "Scratch: [0.630672, 0.578319, 0.553553, 0.566739, 0.562314]\n",
      "Transfer: [0.628238, 0.623544, 0.645088, 0.631238, 0.546703]\n",
      "Transfer & Revision: [0.629059, 0.565649, 0.57065, 0.587512, 0.564095]\n",
      "\n",
      "\n",
      "Experiment 3\n",
      "Ttest_relResult(statistic=-0.33562442870382636, pvalue=0.7540193120176236)\n",
      "Ttest_relResult(statistic=0.589403533221543, pvalue=0.587271476484714)\n"
     ]
    },
    {
     "data": {
      "text/html": [
       "<div>\n",
       "<table border=\"1\" class=\"dataframe\">\n",
       "  <thead>\n",
       "    <tr style=\"text-align: right;\">\n",
       "      <th></th>\n",
       "      <th>p-value</th>\n",
       "      <th>RDN-B</th>\n",
       "    </tr>\n",
       "  </thead>\n",
       "  <tbody>\n",
       "    <tr>\n",
       "      <th>0</th>\n",
       "      <td>transferRDN-B Ref</td>\n",
       "      <td>0.754</td>\n",
       "    </tr>\n",
       "    <tr>\n",
       "      <th>1</th>\n",
       "      <td>transferRDN-B</td>\n",
       "      <td>0.587</td>\n",
       "    </tr>\n",
       "  </tbody>\n",
       "</table>\n",
       "</div>"
      ],
      "text/plain": [
       "             p-value  RDN-B\n",
       "0  transferRDN-B Ref  0.754\n",
       "1      transferRDN-B  0.587"
      ]
     },
     "metadata": {},
     "output_type": "display_data"
    },
    {
     "name": "stdout",
     "output_type": "stream",
     "text": [
      "Scratch: [0.6352, 0.582456, 0.601311, 0.561753, 0.55103]\n",
      "Transfer: [0.599196, 0.624664, 0.630278, 0.613519, 0.519227]\n",
      "Transfer & Revision: [0.601863, 0.558327, 0.622999, 0.582856, 0.546735]\n",
      "\n",
      "\n",
      "Experiment 4\n",
      "Ttest_relResult(statistic=-1.0239487153854336, pvalue=0.36374189771291104)\n",
      "Ttest_relResult(statistic=0.29744988482606044, pvalue=0.7809313730343361)\n"
     ]
    },
    {
     "data": {
      "text/html": [
       "<div>\n",
       "<table border=\"1\" class=\"dataframe\">\n",
       "  <thead>\n",
       "    <tr style=\"text-align: right;\">\n",
       "      <th></th>\n",
       "      <th>p-value</th>\n",
       "      <th>RDN-B</th>\n",
       "    </tr>\n",
       "  </thead>\n",
       "  <tbody>\n",
       "    <tr>\n",
       "      <th>0</th>\n",
       "      <td>transferRDN-B Ref</td>\n",
       "      <td>0.364</td>\n",
       "    </tr>\n",
       "    <tr>\n",
       "      <th>1</th>\n",
       "      <td>transferRDN-B</td>\n",
       "      <td>0.781</td>\n",
       "    </tr>\n",
       "  </tbody>\n",
       "</table>\n",
       "</div>"
      ],
      "text/plain": [
       "             p-value  RDN-B\n",
       "0  transferRDN-B Ref  0.364\n",
       "1      transferRDN-B  0.781"
      ]
     },
     "metadata": {},
     "output_type": "display_data"
    },
    {
     "name": "stdout",
     "output_type": "stream",
     "text": [
      "Scratch: [0.63285, 0.579708, 0.600861, 0.570756, 0.562249]\n",
      "Transfer: [0.599584, 0.586102, 0.65024, 0.608541, 0.527851]\n",
      "Transfer & Revision: [0.600706, 0.559075, 0.549926, 0.609618, 0.550087]\n",
      "\n",
      "\n",
      "Experiment 5\n",
      "Ttest_relResult(statistic=0.4653878084764393, pvalue=0.665862268095607)\n",
      "Ttest_relResult(statistic=0.202233448495717, pvalue=0.849603536127623)\n"
     ]
    },
    {
     "data": {
      "text/html": [
       "<div>\n",
       "<table border=\"1\" class=\"dataframe\">\n",
       "  <thead>\n",
       "    <tr style=\"text-align: right;\">\n",
       "      <th></th>\n",
       "      <th>p-value</th>\n",
       "      <th>RDN-B</th>\n",
       "    </tr>\n",
       "  </thead>\n",
       "  <tbody>\n",
       "    <tr>\n",
       "      <th>0</th>\n",
       "      <td>transferRDN-B Ref</td>\n",
       "      <td>0.666</td>\n",
       "    </tr>\n",
       "    <tr>\n",
       "      <th>1</th>\n",
       "      <td>transferRDN-B</td>\n",
       "      <td>0.850</td>\n",
       "    </tr>\n",
       "  </tbody>\n",
       "</table>\n",
       "</div>"
      ],
      "text/plain": [
       "             p-value  RDN-B\n",
       "0  transferRDN-B Ref  0.666\n",
       "1      transferRDN-B  0.850"
      ]
     },
     "metadata": {},
     "output_type": "display_data"
    },
    {
     "name": "stdout",
     "output_type": "stream",
     "text": [
      "Scratch: [0.626345, 0.586415, 0.600394, 0.583018, 0.556416]\n",
      "Transfer: [0.624745, 0.619402, 0.649159, 0.626854, 0.459737]\n",
      "Transfer & Revision: [0.625627, 0.560314, 0.635803, 0.588243, 0.565523]\n",
      "\n",
      "\n"
     ]
    },
    {
     "data": {
      "text/markdown": [
       "## AUC PR"
      ],
      "text/plain": [
       "<IPython.core.display.Markdown object>"
      ]
     },
     "metadata": {},
     "output_type": "display_data"
    },
    {
     "name": "stdout",
     "output_type": "stream",
     "text": [
      "Experiment 1\n",
      "Ttest_relResult(statistic=-0.3615781417778293, pvalue=0.7359577742193488)\n",
      "Ttest_relResult(statistic=-1.3466008288820104, pvalue=0.24935021361941923)\n"
     ]
    },
    {
     "data": {
      "text/html": [
       "<div>\n",
       "<table border=\"1\" class=\"dataframe\">\n",
       "  <thead>\n",
       "    <tr style=\"text-align: right;\">\n",
       "      <th></th>\n",
       "      <th>p-value</th>\n",
       "      <th>RDN-B</th>\n",
       "    </tr>\n",
       "  </thead>\n",
       "  <tbody>\n",
       "    <tr>\n",
       "      <th>0</th>\n",
       "      <td>transferRDN-B Ref</td>\n",
       "      <td>0.736</td>\n",
       "    </tr>\n",
       "    <tr>\n",
       "      <th>1</th>\n",
       "      <td>transferRDN-B</td>\n",
       "      <td>0.249</td>\n",
       "    </tr>\n",
       "  </tbody>\n",
       "</table>\n",
       "</div>"
      ],
      "text/plain": [
       "             p-value  RDN-B\n",
       "0  transferRDN-B Ref  0.736\n",
       "1      transferRDN-B  0.249"
      ]
     },
     "metadata": {},
     "output_type": "display_data"
    },
    {
     "name": "stdout",
     "output_type": "stream",
     "text": [
      "Scratch: [0.615437, 0.549421, 0.58611, 0.560268, 0.53364]\n",
      "Transfer: [0.51587, 0.588959, 0.53725, 0.549132, 0.500156]\n",
      "Transfer & Revision: [0.522084, 0.587781, 0.568958, 0.59806, 0.524427]\n",
      "\n",
      "\n",
      "Experiment 2\n",
      "Ttest_relResult(statistic=0.8188928705281072, pvalue=0.4588295771693455)\n",
      "Ttest_relResult(statistic=1.639807321669578, pvalue=0.17638861934777794)\n"
     ]
    },
    {
     "data": {
      "text/html": [
       "<div>\n",
       "<table border=\"1\" class=\"dataframe\">\n",
       "  <thead>\n",
       "    <tr style=\"text-align: right;\">\n",
       "      <th></th>\n",
       "      <th>p-value</th>\n",
       "      <th>RDN-B</th>\n",
       "    </tr>\n",
       "  </thead>\n",
       "  <tbody>\n",
       "    <tr>\n",
       "      <th>0</th>\n",
       "      <td>transferRDN-B Ref</td>\n",
       "      <td>0.459</td>\n",
       "    </tr>\n",
       "    <tr>\n",
       "      <th>1</th>\n",
       "      <td>transferRDN-B</td>\n",
       "      <td>0.176</td>\n",
       "    </tr>\n",
       "  </tbody>\n",
       "</table>\n",
       "</div>"
      ],
      "text/plain": [
       "             p-value  RDN-B\n",
       "0  transferRDN-B Ref  0.459\n",
       "1      transferRDN-B  0.176"
      ]
     },
     "metadata": {},
     "output_type": "display_data"
    },
    {
     "name": "stdout",
     "output_type": "stream",
     "text": [
      "Scratch: [0.610272, 0.569039, 0.557987, 0.582948, 0.563131]\n",
      "Transfer: [0.60739, 0.600838, 0.615879, 0.622818, 0.547993]\n",
      "Transfer & Revision: [0.612403, 0.56099, 0.575902, 0.596448, 0.558314]\n",
      "\n",
      "\n",
      "Experiment 3\n",
      "Ttest_relResult(statistic=-0.08805161889727593, pvalue=0.9340677366753503)\n",
      "Ttest_relResult(statistic=0.6168764000189529, pvalue=0.5706965302416722)\n"
     ]
    },
    {
     "data": {
      "text/html": [
       "<div>\n",
       "<table border=\"1\" class=\"dataframe\">\n",
       "  <thead>\n",
       "    <tr style=\"text-align: right;\">\n",
       "      <th></th>\n",
       "      <th>p-value</th>\n",
       "      <th>RDN-B</th>\n",
       "    </tr>\n",
       "  </thead>\n",
       "  <tbody>\n",
       "    <tr>\n",
       "      <th>0</th>\n",
       "      <td>transferRDN-B Ref</td>\n",
       "      <td>0.934</td>\n",
       "    </tr>\n",
       "    <tr>\n",
       "      <th>1</th>\n",
       "      <td>transferRDN-B</td>\n",
       "      <td>0.571</td>\n",
       "    </tr>\n",
       "  </tbody>\n",
       "</table>\n",
       "</div>"
      ],
      "text/plain": [
       "             p-value  RDN-B\n",
       "0  transferRDN-B Ref  0.934\n",
       "1      transferRDN-B  0.571"
      ]
     },
     "metadata": {},
     "output_type": "display_data"
    },
    {
     "name": "stdout",
     "output_type": "stream",
     "text": [
      "Scratch: [0.613092, 0.576296, 0.599021, 0.578213, 0.546756]\n",
      "Transfer: [0.591637, 0.603302, 0.604471, 0.610911, 0.535453]\n",
      "Transfer & Revision: [0.597233, 0.558952, 0.610247, 0.592583, 0.551402]\n",
      "\n",
      "\n",
      "Experiment 4\n",
      "Ttest_relResult(statistic=-0.8542363469412853, pvalue=0.4411156946189132)\n",
      "Ttest_relResult(statistic=-0.43422714914642785, pvalue=0.6865198494155378)\n"
     ]
    },
    {
     "data": {
      "text/html": [
       "<div>\n",
       "<table border=\"1\" class=\"dataframe\">\n",
       "  <thead>\n",
       "    <tr style=\"text-align: right;\">\n",
       "      <th></th>\n",
       "      <th>p-value</th>\n",
       "      <th>RDN-B</th>\n",
       "    </tr>\n",
       "  </thead>\n",
       "  <tbody>\n",
       "    <tr>\n",
       "      <th>0</th>\n",
       "      <td>transferRDN-B Ref</td>\n",
       "      <td>0.441</td>\n",
       "    </tr>\n",
       "    <tr>\n",
       "      <th>1</th>\n",
       "      <td>transferRDN-B</td>\n",
       "      <td>0.687</td>\n",
       "    </tr>\n",
       "  </tbody>\n",
       "</table>\n",
       "</div>"
      ],
      "text/plain": [
       "             p-value  RDN-B\n",
       "0  transferRDN-B Ref  0.441\n",
       "1      transferRDN-B  0.687"
      ]
     },
     "metadata": {},
     "output_type": "display_data"
    },
    {
     "name": "stdout",
     "output_type": "stream",
     "text": [
      "Scratch: [0.615039, 0.572855, 0.598681, 0.582056, 0.556939]\n",
      "Transfer: [0.587593, 0.56781, 0.618135, 0.600374, 0.529052]\n",
      "Transfer & Revision: [0.595068, 0.559571, 0.564831, 0.611009, 0.550273]\n",
      "\n",
      "\n",
      "Experiment 5\n",
      "Ttest_relResult(statistic=0.632838591547761, pvalue=0.5612116913761771)\n",
      "Ttest_relResult(statistic=0.040964375216386434, pvalue=0.9692874547179479)\n"
     ]
    },
    {
     "data": {
      "text/html": [
       "<div>\n",
       "<table border=\"1\" class=\"dataframe\">\n",
       "  <thead>\n",
       "    <tr style=\"text-align: right;\">\n",
       "      <th></th>\n",
       "      <th>p-value</th>\n",
       "      <th>RDN-B</th>\n",
       "    </tr>\n",
       "  </thead>\n",
       "  <tbody>\n",
       "    <tr>\n",
       "      <th>0</th>\n",
       "      <td>transferRDN-B Ref</td>\n",
       "      <td>0.561</td>\n",
       "    </tr>\n",
       "    <tr>\n",
       "      <th>1</th>\n",
       "      <td>transferRDN-B</td>\n",
       "      <td>0.969</td>\n",
       "    </tr>\n",
       "  </tbody>\n",
       "</table>\n",
       "</div>"
      ],
      "text/plain": [
       "             p-value  RDN-B\n",
       "0  transferRDN-B Ref  0.561\n",
       "1      transferRDN-B  0.969"
      ]
     },
     "metadata": {},
     "output_type": "display_data"
    },
    {
     "name": "stdout",
     "output_type": "stream",
     "text": [
      "Scratch: [0.605931, 0.585994, 0.595283, 0.593975, 0.548877]\n",
      "Transfer: [0.602067, 0.605978, 0.614683, 0.61744, 0.492953]\n",
      "Transfer & Revision: [0.60695, 0.560895, 0.624355, 0.5971, 0.570612]\n",
      "\n",
      "\n"
     ]
    },
    {
     "data": {
      "text/markdown": [
       "## CLL"
      ],
      "text/plain": [
       "<IPython.core.display.Markdown object>"
      ]
     },
     "metadata": {},
     "output_type": "display_data"
    },
    {
     "name": "stdout",
     "output_type": "stream",
     "text": [
      "Experiment 1\n",
      "Ttest_relResult(statistic=0.22451702064591142, pvalue=0.8333574957503818)\n",
      "Ttest_relResult(statistic=1.4742229199394132, pvalue=0.21443380796477265)\n"
     ]
    },
    {
     "data": {
      "text/html": [
       "<div>\n",
       "<table border=\"1\" class=\"dataframe\">\n",
       "  <thead>\n",
       "    <tr style=\"text-align: right;\">\n",
       "      <th></th>\n",
       "      <th>p-value</th>\n",
       "      <th>RDN-B</th>\n",
       "    </tr>\n",
       "  </thead>\n",
       "  <tbody>\n",
       "    <tr>\n",
       "      <th>0</th>\n",
       "      <td>transferRDN-B Ref</td>\n",
       "      <td>0.833</td>\n",
       "    </tr>\n",
       "    <tr>\n",
       "      <th>1</th>\n",
       "      <td>transferRDN-B</td>\n",
       "      <td>0.214</td>\n",
       "    </tr>\n",
       "  </tbody>\n",
       "</table>\n",
       "</div>"
      ],
      "text/plain": [
       "             p-value  RDN-B\n",
       "0  transferRDN-B Ref  0.833\n",
       "1      transferRDN-B  0.214"
      ]
     },
     "metadata": {},
     "output_type": "display_data"
    },
    {
     "name": "stdout",
     "output_type": "stream",
     "text": [
      "Scratch: [-0.678651, -0.714936, -0.701, -0.719296, -0.809748]\n",
      "Transfer: [-0.700956, -0.68567, -0.690921, -0.689437, -0.712506]\n",
      "Transfer & Revision: [-0.701095, -0.706108, -0.718564, -0.694721, -0.792594]\n",
      "\n",
      "\n",
      "Experiment 2\n",
      "Ttest_relResult(statistic=1.7336591557388847, pvalue=0.15800497323337057)\n",
      "Ttest_relResult(statistic=3.6920927653340327, pvalue=0.020980211260391204)\n"
     ]
    },
    {
     "data": {
      "text/html": [
       "<div>\n",
       "<table border=\"1\" class=\"dataframe\">\n",
       "  <thead>\n",
       "    <tr style=\"text-align: right;\">\n",
       "      <th></th>\n",
       "      <th>p-value</th>\n",
       "      <th>RDN-B</th>\n",
       "    </tr>\n",
       "  </thead>\n",
       "  <tbody>\n",
       "    <tr>\n",
       "      <th>0</th>\n",
       "      <td>transferRDN-B Ref</td>\n",
       "      <td>0.158</td>\n",
       "    </tr>\n",
       "    <tr>\n",
       "      <th>1</th>\n",
       "      <td>transferRDN-B</td>\n",
       "      <td>0.021</td>\n",
       "    </tr>\n",
       "  </tbody>\n",
       "</table>\n",
       "</div>"
      ],
      "text/plain": [
       "             p-value  RDN-B\n",
       "0  transferRDN-B Ref  0.158\n",
       "1      transferRDN-B  0.021"
      ]
     },
     "metadata": {},
     "output_type": "display_data"
    },
    {
     "name": "stdout",
     "output_type": "stream",
     "text": [
      "Scratch: [-0.679864, -0.69997, -0.730256, -0.727874, -0.758362]\n",
      "Transfer: [-0.675859, -0.67157, -0.66982, -0.66481, -0.697624]\n",
      "Transfer & Revision: [-0.674314, -0.707388, -0.717179, -0.713584, -0.750236]\n",
      "\n",
      "\n",
      "Experiment 3\n",
      "Ttest_relResult(statistic=1.7633398640328368, pvalue=0.15262079264458409)\n",
      "Ttest_relResult(statistic=2.5615012103281933, pvalue=0.06253859357853558)\n"
     ]
    },
    {
     "data": {
      "text/html": [
       "<div>\n",
       "<table border=\"1\" class=\"dataframe\">\n",
       "  <thead>\n",
       "    <tr style=\"text-align: right;\">\n",
       "      <th></th>\n",
       "      <th>p-value</th>\n",
       "      <th>RDN-B</th>\n",
       "    </tr>\n",
       "  </thead>\n",
       "  <tbody>\n",
       "    <tr>\n",
       "      <th>0</th>\n",
       "      <td>transferRDN-B Ref</td>\n",
       "      <td>0.153</td>\n",
       "    </tr>\n",
       "    <tr>\n",
       "      <th>1</th>\n",
       "      <td>transferRDN-B</td>\n",
       "      <td>0.063</td>\n",
       "    </tr>\n",
       "  </tbody>\n",
       "</table>\n",
       "</div>"
      ],
      "text/plain": [
       "             p-value  RDN-B\n",
       "0  transferRDN-B Ref  0.153\n",
       "1      transferRDN-B  0.063"
      ]
     },
     "metadata": {},
     "output_type": "display_data"
    },
    {
     "name": "stdout",
     "output_type": "stream",
     "text": [
      "Scratch: [-0.681239, -0.698157, -0.695432, -0.738649, -0.78546]\n",
      "Transfer: [-0.682317, -0.667739, -0.6766, -0.67923, -0.702615]\n",
      "Transfer & Revision: [-0.681398, -0.707234, -0.674809, -0.7041, -0.758636]\n",
      "\n",
      "\n",
      "Experiment 4\n",
      "Ttest_relResult(statistic=0.0157136412736475, pvalue=0.988215375253766)\n",
      "Ttest_relResult(statistic=2.63754788994456, pvalue=0.057728256374875705)\n"
     ]
    },
    {
     "data": {
      "text/html": [
       "<div>\n",
       "<table border=\"1\" class=\"dataframe\">\n",
       "  <thead>\n",
       "    <tr style=\"text-align: right;\">\n",
       "      <th></th>\n",
       "      <th>p-value</th>\n",
       "      <th>RDN-B</th>\n",
       "    </tr>\n",
       "  </thead>\n",
       "  <tbody>\n",
       "    <tr>\n",
       "      <th>0</th>\n",
       "      <td>transferRDN-B Ref</td>\n",
       "      <td>0.988</td>\n",
       "    </tr>\n",
       "    <tr>\n",
       "      <th>1</th>\n",
       "      <td>transferRDN-B</td>\n",
       "      <td>0.058</td>\n",
       "    </tr>\n",
       "  </tbody>\n",
       "</table>\n",
       "</div>"
      ],
      "text/plain": [
       "             p-value  RDN-B\n",
       "0  transferRDN-B Ref  0.988\n",
       "1      transferRDN-B  0.058"
      ]
     },
     "metadata": {},
     "output_type": "display_data"
    },
    {
     "name": "stdout",
     "output_type": "stream",
     "text": [
      "Scratch: [-0.677917, -0.69994, -0.691228, -0.724713, -0.753433]\n",
      "Transfer: [-0.6812, -0.688739, -0.660934, -0.68692, -0.702537]\n",
      "Transfer & Revision: [-0.680883, -0.711129, -0.725041, -0.690733, -0.73854]\n",
      "\n",
      "\n",
      "Experiment 5\n",
      "Ttest_relResult(statistic=1.6392437605858006, pvalue=0.17650554355692052)\n",
      "Ttest_relResult(statistic=3.18791153461766, pvalue=0.033282545461891556)\n"
     ]
    },
    {
     "data": {
      "text/html": [
       "<div>\n",
       "<table border=\"1\" class=\"dataframe\">\n",
       "  <thead>\n",
       "    <tr style=\"text-align: right;\">\n",
       "      <th></th>\n",
       "      <th>p-value</th>\n",
       "      <th>RDN-B</th>\n",
       "    </tr>\n",
       "  </thead>\n",
       "  <tbody>\n",
       "    <tr>\n",
       "      <th>0</th>\n",
       "      <td>transferRDN-B Ref</td>\n",
       "      <td>0.177</td>\n",
       "    </tr>\n",
       "    <tr>\n",
       "      <th>1</th>\n",
       "      <td>transferRDN-B</td>\n",
       "      <td>0.033</td>\n",
       "    </tr>\n",
       "  </tbody>\n",
       "</table>\n",
       "</div>"
      ],
      "text/plain": [
       "             p-value  RDN-B\n",
       "0  transferRDN-B Ref  0.177\n",
       "1      transferRDN-B  0.033"
      ]
     },
     "metadata": {},
     "output_type": "display_data"
    },
    {
     "name": "stdout",
     "output_type": "stream",
     "text": [
      "Scratch: [-0.683111, -0.699377, -0.693039, -0.704216, -0.774027]\n",
      "Transfer: [-0.677521, -0.675008, -0.669939, -0.672505, -0.712129]\n",
      "Transfer & Revision: [-0.677355, -0.706387, -0.670711, -0.700215, -0.741955]\n",
      "\n",
      "\n"
     ]
    },
    {
     "data": {
      "text/markdown": [
       "## Recall"
      ],
      "text/plain": [
       "<IPython.core.display.Markdown object>"
      ]
     },
     "metadata": {},
     "output_type": "display_data"
    },
    {
     "name": "stdout",
     "output_type": "stream",
     "text": [
      "Experiment 1\n",
      "Ttest_relResult(statistic=-0.23063524562533186, pvalue=0.8289140655481179)\n",
      "Ttest_relResult(statistic=-3.6580546026604623, pvalue=0.021617338333864287)\n"
     ]
    },
    {
     "data": {
      "text/html": [
       "<div>\n",
       "<table border=\"1\" class=\"dataframe\">\n",
       "  <thead>\n",
       "    <tr style=\"text-align: right;\">\n",
       "      <th></th>\n",
       "      <th>p-value</th>\n",
       "      <th>RDN-B</th>\n",
       "    </tr>\n",
       "  </thead>\n",
       "  <tbody>\n",
       "    <tr>\n",
       "      <th>0</th>\n",
       "      <td>transferRDN-B Ref</td>\n",
       "      <td>0.829</td>\n",
       "    </tr>\n",
       "    <tr>\n",
       "      <th>1</th>\n",
       "      <td>transferRDN-B</td>\n",
       "      <td>0.022</td>\n",
       "    </tr>\n",
       "  </tbody>\n",
       "</table>\n",
       "</div>"
      ],
      "text/plain": [
       "             p-value  RDN-B\n",
       "0  transferRDN-B Ref  0.829\n",
       "1      transferRDN-B  0.022"
      ]
     },
     "metadata": {},
     "output_type": "display_data"
    },
    {
     "name": "stdout",
     "output_type": "stream",
     "text": [
      "Scratch: [0.264011, 0.609671, 0.245895, 0.418856, 0.327305]\n",
      "Transfer: [0.084064, 0.165868, 0.1371, 0.096192, 0.204871]\n",
      "Transfer & Revision: [0.0834, 0.652799, 0.209486, 0.529847, 0.333985]\n",
      "\n",
      "\n",
      "Experiment 2\n",
      "Ttest_relResult(statistic=3.2586017553502318, pvalue=0.03112185527640688)\n",
      "Ttest_relResult(statistic=0.31725675216625887, pvalue=0.7669185197104997)\n"
     ]
    },
    {
     "data": {
      "text/html": [
       "<div>\n",
       "<table border=\"1\" class=\"dataframe\">\n",
       "  <thead>\n",
       "    <tr style=\"text-align: right;\">\n",
       "      <th></th>\n",
       "      <th>p-value</th>\n",
       "      <th>RDN-B</th>\n",
       "    </tr>\n",
       "  </thead>\n",
       "  <tbody>\n",
       "    <tr>\n",
       "      <th>0</th>\n",
       "      <td>transferRDN-B Ref</td>\n",
       "      <td>0.031</td>\n",
       "    </tr>\n",
       "    <tr>\n",
       "      <th>1</th>\n",
       "      <td>transferRDN-B</td>\n",
       "      <td>0.767</td>\n",
       "    </tr>\n",
       "  </tbody>\n",
       "</table>\n",
       "</div>"
      ],
      "text/plain": [
       "             p-value  RDN-B\n",
       "0  transferRDN-B Ref  0.031\n",
       "1      transferRDN-B  0.767"
      ]
     },
     "metadata": {},
     "output_type": "display_data"
    },
    {
     "name": "stdout",
     "output_type": "stream",
     "text": [
      "Scratch: [0.259894, 0.644304, 0.164974, 0.365314, 0.323151]\n",
      "Transfer: [0.301195, 0.347201, 0.362684, 0.397323, 0.488188]\n",
      "Transfer & Revision: [0.312085, 0.640057, 0.211646, 0.400316, 0.354268]\n",
      "\n",
      "\n",
      "Experiment 3\n",
      "Ttest_relResult(statistic=-0.0205343109990314, pvalue=0.984600619484598)\n",
      "Ttest_relResult(statistic=-1.7575740869376837, pvalue=0.15365128575553566)\n"
     ]
    },
    {
     "data": {
      "text/html": [
       "<div>\n",
       "<table border=\"1\" class=\"dataframe\">\n",
       "  <thead>\n",
       "    <tr style=\"text-align: right;\">\n",
       "      <th></th>\n",
       "      <th>p-value</th>\n",
       "      <th>RDN-B</th>\n",
       "    </tr>\n",
       "  </thead>\n",
       "  <tbody>\n",
       "    <tr>\n",
       "      <th>0</th>\n",
       "      <td>transferRDN-B Ref</td>\n",
       "      <td>0.985</td>\n",
       "    </tr>\n",
       "    <tr>\n",
       "      <th>1</th>\n",
       "      <td>transferRDN-B</td>\n",
       "      <td>0.154</td>\n",
       "    </tr>\n",
       "  </tbody>\n",
       "</table>\n",
       "</div>"
      ],
      "text/plain": [
       "             p-value  RDN-B\n",
       "0  transferRDN-B Ref  0.985\n",
       "1      transferRDN-B  0.154"
      ]
     },
     "metadata": {},
     "output_type": "display_data"
    },
    {
     "name": "stdout",
     "output_type": "stream",
     "text": [
      "Scratch: [0.279681, 0.657264, 0.251188, 0.46558, 0.325106]\n",
      "Transfer: [0.314343, 0.359943, 0.27204, 0.333472, 0.151271]\n",
      "Transfer & Revision: [0.316335, 0.593444, 0.302723, 0.356501, 0.406077]\n",
      "\n",
      "\n",
      "Experiment 4\n",
      "Ttest_relResult(statistic=-1.1869606437683184, pvalue=0.30091797725961505)\n",
      "Ttest_relResult(statistic=-0.5657311702087193, pvalue=0.6018036106527476)\n"
     ]
    },
    {
     "data": {
      "text/html": [
       "<div>\n",
       "<table border=\"1\" class=\"dataframe\">\n",
       "  <thead>\n",
       "    <tr style=\"text-align: right;\">\n",
       "      <th></th>\n",
       "      <th>p-value</th>\n",
       "      <th>RDN-B</th>\n",
       "    </tr>\n",
       "  </thead>\n",
       "  <tbody>\n",
       "    <tr>\n",
       "      <th>0</th>\n",
       "      <td>transferRDN-B Ref</td>\n",
       "      <td>0.301</td>\n",
       "    </tr>\n",
       "    <tr>\n",
       "      <th>1</th>\n",
       "      <td>transferRDN-B</td>\n",
       "      <td>0.602</td>\n",
       "    </tr>\n",
       "  </tbody>\n",
       "</table>\n",
       "</div>"
      ],
      "text/plain": [
       "             p-value  RDN-B\n",
       "0  transferRDN-B Ref  0.301\n",
       "1      transferRDN-B  0.602"
      ]
     },
     "metadata": {},
     "output_type": "display_data"
    },
    {
     "name": "stdout",
     "output_type": "stream",
     "text": [
      "Scratch: [0.274635, 0.675016, 0.253781, 0.482956, 0.386364]\n",
      "Transfer: [0.326428, 0.19266, 0.517934, 0.34137, 0.346448]\n",
      "Transfer & Revision: [0.326029, 0.646591, 0.190579, 0.420685, 0.365021]\n",
      "\n",
      "\n",
      "Experiment 5\n",
      "Ttest_relResult(statistic=-0.9897249181391455, pvalue=0.37833501055447144)\n",
      "Ttest_relResult(statistic=-1.471143282760483, pvalue=0.2152158139241924)\n"
     ]
    },
    {
     "data": {
      "text/html": [
       "<div>\n",
       "<table border=\"1\" class=\"dataframe\">\n",
       "  <thead>\n",
       "    <tr style=\"text-align: right;\">\n",
       "      <th></th>\n",
       "      <th>p-value</th>\n",
       "      <th>RDN-B</th>\n",
       "    </tr>\n",
       "  </thead>\n",
       "  <tbody>\n",
       "    <tr>\n",
       "      <th>0</th>\n",
       "      <td>transferRDN-B Ref</td>\n",
       "      <td>0.378</td>\n",
       "    </tr>\n",
       "    <tr>\n",
       "      <th>1</th>\n",
       "      <td>transferRDN-B</td>\n",
       "      <td>0.215</td>\n",
       "    </tr>\n",
       "  </tbody>\n",
       "</table>\n",
       "</div>"
      ],
      "text/plain": [
       "             p-value  RDN-B\n",
       "0  transferRDN-B Ref  0.378\n",
       "1      transferRDN-B  0.215"
      ]
     },
     "metadata": {},
     "output_type": "display_data"
    },
    {
     "name": "stdout",
     "output_type": "stream",
     "text": [
      "Scratch: [0.266401, 0.673601, 0.260264, 0.460592, 0.434343]\n",
      "Transfer: [0.307968, 0.332172, 0.318388, 0.381693, 0.147768]\n",
      "Transfer & Revision: [0.310624, 0.599216, 0.292567, 0.388094, 0.373574]\n",
      "\n",
      "\n"
     ]
    },
    {
     "data": {
      "text/markdown": [
       "## F1"
      ],
      "text/plain": [
       "<IPython.core.display.Markdown object>"
      ]
     },
     "metadata": {},
     "output_type": "display_data"
    },
    {
     "name": "stdout",
     "output_type": "stream",
     "text": [
      "Experiment 1\n",
      "Ttest_relResult(statistic=-0.6255692052350467, pvalue=0.5655178466322077)\n",
      "Ttest_relResult(statistic=-5.357733020525227, pvalue=0.005855205951363101)\n"
     ]
    },
    {
     "data": {
      "text/html": [
       "<div>\n",
       "<table border=\"1\" class=\"dataframe\">\n",
       "  <thead>\n",
       "    <tr style=\"text-align: right;\">\n",
       "      <th></th>\n",
       "      <th>p-value</th>\n",
       "      <th>RDN-B</th>\n",
       "    </tr>\n",
       "  </thead>\n",
       "  <tbody>\n",
       "    <tr>\n",
       "      <th>0</th>\n",
       "      <td>transferRDN-B Ref</td>\n",
       "      <td>0.566</td>\n",
       "    </tr>\n",
       "    <tr>\n",
       "      <th>1</th>\n",
       "      <td>transferRDN-B</td>\n",
       "      <td>0.006</td>\n",
       "    </tr>\n",
       "  </tbody>\n",
       "</table>\n",
       "</div>"
      ],
      "text/plain": [
       "             p-value  RDN-B\n",
       "0  transferRDN-B Ref  0.566\n",
       "1      transferRDN-B  0.006"
      ]
     },
     "metadata": {},
     "output_type": "display_data"
    },
    {
     "name": "stdout",
     "output_type": "stream",
     "text": [
      "Scratch: [0.375661, 0.565226, 0.356293, 0.474857, 0.407422]\n",
      "Transfer: [0.146732, 0.264387, 0.222807, 0.166271, 0.292357]\n",
      "Transfer & Revision: [0.146148, 0.593465, 0.314568, 0.550988, 0.409406]\n",
      "\n",
      "\n",
      "Experiment 2\n",
      "Ttest_relResult(statistic=2.7146083648182553, pvalue=0.05328281522268794)\n",
      "Ttest_relResult(statistic=0.875389891699714, pvalue=0.4307799691230578)\n"
     ]
    },
    {
     "data": {
      "text/html": [
       "<div>\n",
       "<table border=\"1\" class=\"dataframe\">\n",
       "  <thead>\n",
       "    <tr style=\"text-align: right;\">\n",
       "      <th></th>\n",
       "      <th>p-value</th>\n",
       "      <th>RDN-B</th>\n",
       "    </tr>\n",
       "  </thead>\n",
       "  <tbody>\n",
       "    <tr>\n",
       "      <th>0</th>\n",
       "      <td>transferRDN-B Ref</td>\n",
       "      <td>0.053</td>\n",
       "    </tr>\n",
       "    <tr>\n",
       "      <th>1</th>\n",
       "      <td>transferRDN-B</td>\n",
       "      <td>0.431</td>\n",
       "    </tr>\n",
       "  </tbody>\n",
       "</table>\n",
       "</div>"
      ],
      "text/plain": [
       "             p-value  RDN-B\n",
       "0  transferRDN-B Ref  0.053\n",
       "1      transferRDN-B  0.431"
      ]
     },
     "metadata": {},
     "output_type": "display_data"
    },
    {
     "name": "stdout",
     "output_type": "stream",
     "text": [
      "Scratch: [0.37223, 0.591511, 0.261204, 0.449101, 0.41207]\n",
      "Transfer: [0.416147, 0.450633, 0.465959, 0.489551, 0.508895]\n",
      "Transfer & Revision: [0.425918, 0.583963, 0.316657, 0.48006, 0.435793]\n",
      "\n",
      "\n",
      "Experiment 3\n",
      "Ttest_relResult(statistic=0.36514917251749496, pvalue=0.7334883533072871)\n",
      "Ttest_relResult(statistic=-1.556737338157089, pvalue=0.19452185209510608)\n"
     ]
    },
    {
     "data": {
      "text/html": [
       "<div>\n",
       "<table border=\"1\" class=\"dataframe\">\n",
       "  <thead>\n",
       "    <tr style=\"text-align: right;\">\n",
       "      <th></th>\n",
       "      <th>p-value</th>\n",
       "      <th>RDN-B</th>\n",
       "    </tr>\n",
       "  </thead>\n",
       "  <tbody>\n",
       "    <tr>\n",
       "      <th>0</th>\n",
       "      <td>transferRDN-B Ref</td>\n",
       "      <td>0.733</td>\n",
       "    </tr>\n",
       "    <tr>\n",
       "      <th>1</th>\n",
       "      <td>transferRDN-B</td>\n",
       "      <td>0.195</td>\n",
       "    </tr>\n",
       "  </tbody>\n",
       "</table>\n",
       "</div>"
      ],
      "text/plain": [
       "             p-value  RDN-B\n",
       "0  transferRDN-B Ref  0.733\n",
       "1      transferRDN-B  0.195"
      ]
     },
     "metadata": {},
     "output_type": "display_data"
    },
    {
     "name": "stdout",
     "output_type": "stream",
     "text": [
      "Scratch: [0.392435, 0.597614, 0.362009, 0.509369, 0.409985]\n",
      "Transfer: [0.428533, 0.460435, 0.380823, 0.44318, 0.238474]\n",
      "Transfer & Revision: [0.430158, 0.559072, 0.414221, 0.4459, 0.467877]\n",
      "\n",
      "\n",
      "Experiment 4\n",
      "Ttest_relResult(statistic=-0.8582270408949985, pvalue=0.43915057955184245)\n",
      "Ttest_relResult(statistic=-0.40295074872844694, pvalue=0.7075923212004934)\n"
     ]
    },
    {
     "data": {
      "text/html": [
       "<div>\n",
       "<table border=\"1\" class=\"dataframe\">\n",
       "  <thead>\n",
       "    <tr style=\"text-align: right;\">\n",
       "      <th></th>\n",
       "      <th>p-value</th>\n",
       "      <th>RDN-B</th>\n",
       "    </tr>\n",
       "  </thead>\n",
       "  <tbody>\n",
       "    <tr>\n",
       "      <th>0</th>\n",
       "      <td>transferRDN-B Ref</td>\n",
       "      <td>0.439</td>\n",
       "    </tr>\n",
       "    <tr>\n",
       "      <th>1</th>\n",
       "      <td>transferRDN-B</td>\n",
       "      <td>0.708</td>\n",
       "    </tr>\n",
       "  </tbody>\n",
       "</table>\n",
       "</div>"
      ],
      "text/plain": [
       "             p-value  RDN-B\n",
       "0  transferRDN-B Ref  0.439\n",
       "1      transferRDN-B  0.708"
      ]
     },
     "metadata": {},
     "output_type": "display_data"
    },
    {
     "name": "stdout",
     "output_type": "stream",
     "text": [
      "Scratch: [0.386976, 0.606339, 0.36396, 0.525392, 0.454855]\n",
      "Transfer: [0.438185, 0.291601, 0.57068, 0.447789, 0.417165]\n",
      "Transfer & Revision: [0.437807, 0.585532, 0.29334, 0.498694, 0.438583]\n",
      "\n",
      "\n",
      "Experiment 5\n",
      "Ttest_relResult(statistic=-0.37572615945191534, pvalue=0.7261971580999341)\n",
      "Ttest_relResult(statistic=-1.1820490948609377, pvalue=0.30265510685692054)\n"
     ]
    },
    {
     "data": {
      "text/html": [
       "<div>\n",
       "<table border=\"1\" class=\"dataframe\">\n",
       "  <thead>\n",
       "    <tr style=\"text-align: right;\">\n",
       "      <th></th>\n",
       "      <th>p-value</th>\n",
       "      <th>RDN-B</th>\n",
       "    </tr>\n",
       "  </thead>\n",
       "  <tbody>\n",
       "    <tr>\n",
       "      <th>0</th>\n",
       "      <td>transferRDN-B Ref</td>\n",
       "      <td>0.726</td>\n",
       "    </tr>\n",
       "    <tr>\n",
       "      <th>1</th>\n",
       "      <td>transferRDN-B</td>\n",
       "      <td>0.303</td>\n",
       "    </tr>\n",
       "  </tbody>\n",
       "</table>\n",
       "</div>"
      ],
      "text/plain": [
       "             p-value  RDN-B\n",
       "0  transferRDN-B Ref  0.726\n",
       "1      transferRDN-B  0.303"
      ]
     },
     "metadata": {},
     "output_type": "display_data"
    },
    {
     "name": "stdout",
     "output_type": "stream",
     "text": [
      "Scratch: [0.379063, 0.604004, 0.369139, 0.511802, 0.488189]\n",
      "Transfer: [0.42202, 0.437558, 0.423693, 0.479053, 0.224616]\n",
      "Transfer & Revision: [0.424694, 0.565671, 0.40682, 0.471253, 0.445914]\n",
      "\n",
      "\n"
     ]
    },
    {
     "data": {
      "text/markdown": [
       "## Precision"
      ],
      "text/plain": [
       "<IPython.core.display.Markdown object>"
      ]
     },
     "metadata": {},
     "output_type": "display_data"
    },
    {
     "name": "stdout",
     "output_type": "stream",
     "text": [
      "Experiment 1\n",
      "Scratch: [0.65095, 0.526821, 0.646591, 0.548145, 0.539474]\n",
      "Transfer: [0.576503, 0.651133, 0.594379, 0.612493, 0.510245]\n",
      "Transfer & Revision: [0.590226, 0.544019, 0.631185, 0.573886, 0.528828]\n",
      "\n",
      "\n",
      "Experiment 2\n",
      "Scratch: [0.655611, 0.546715, 0.626847, 0.582759, 0.568501]\n",
      "Transfer: [0.672997, 0.641836, 0.651465, 0.63754, 0.531436]\n",
      "Transfer & Revision: [0.670471, 0.536908, 0.628489, 0.599477, 0.566055]\n",
      "\n",
      "\n",
      "Experiment 3\n",
      "Scratch: [0.657509, 0.547889, 0.647813, 0.562249, 0.554845]\n",
      "Transfer: [0.673017, 0.638771, 0.634577, 0.660464, 0.563069]\n",
      "Transfer & Revision: [0.671932, 0.528465, 0.655745, 0.595142, 0.551865]\n",
      "\n",
      "\n",
      "Experiment 4\n",
      "Scratch: [0.654845, 0.550346, 0.643209, 0.576004, 0.552862]\n",
      "Transfer: [0.666305, 0.599458, 0.635388, 0.65061, 0.524156]\n",
      "Transfer & Revision: [0.666214, 0.535009, 0.636593, 0.61222, 0.549277]\n",
      "\n",
      "\n",
      "Experiment 5\n",
      "Scratch: [0.656843, 0.547442, 0.634615, 0.575824, 0.557274]\n",
      "Transfer: [0.670231, 0.640891, 0.633083, 0.643087, 0.468008]\n",
      "Transfer & Revision: [0.671162, 0.535683, 0.667488, 0.599769, 0.552997]\n",
      "\n",
      "\n"
     ]
    },
    {
     "data": {
      "text/markdown": [
       "## Learning and Revision time"
      ],
      "text/plain": [
       "<IPython.core.display.Markdown object>"
      ]
     },
     "metadata": {},
     "output_type": "display_data"
    },
    {
     "name": "stdout",
     "output_type": "stream",
     "text": [
      "Experiment 1\n",
      "Scratch: [389.749, 242.303, 123.94, 26.589, 24.144]\n",
      "Transfer: ['210.651 (50.6)', '109.041 (46.1)', '140.274 (49.9)', '12.158 (45.4)', '12.111 (44.6)']\n",
      "Transfer & Revision: ['410.019 (50.6)', '348.738 (46.1)', '262.329 (49.9)', '36.118 (45.4)', '34.156000000000006 (44.6)']\n",
      "\n",
      "\n",
      "Experiment 2\n",
      "Scratch: [326.71, 242.666, 157.917, 24.95, 23.712]\n",
      "Transfer: ['199.23 (46.2)', '168.639 (46.2)', '68.631 (45.5)', '19.065 (45.5)', '13.086 (44.5)']\n",
      "Transfer & Revision: ['409.594 (46.2)', '370.96500000000003 (46.2)', '195.921 (45.5)', '41.746 (45.5)', '47.894999999999996 (44.5)']\n",
      "\n",
      "\n",
      "Experiment 3\n",
      "Scratch: [332.473, 268.944, 113.50200000000001, 23.071, 23.204]\n",
      "Transfer: ['210.369 (59.1)', '152.89 (44.1)', '68.804 (44.6)', '23.881 (45.9)', '15.384 (48.3)']\n",
      "Transfer & Revision: ['427.533 (59.1)', '376.773 (44.1)', '158.026 (44.6)', '46.414 (45.9)', '36.842 (48.3)']\n",
      "\n",
      "\n",
      "Experiment 4\n",
      "Scratch: [333.347, 265.579, 137.855, 29.24, 19.867]\n",
      "Transfer: ['233.11599999999999 (46.8)', '108.201 (46.1)', '72.062 (46.9)', '12.857 (49.8)', '12.878 (44.9)']\n",
      "Transfer & Revision: ['436.66499999999996 (46.8)', '354.35299999999995 (46.1)', '225.35399999999998 (46.9)', '38.471999999999994 (49.8)', '32.501000000000005 (44.9)']\n",
      "\n",
      "\n",
      "Experiment 5\n",
      "Scratch: [341.411, 231.463, 125.828, 28.164, 23.052]\n",
      "Transfer: ['193.284 (49.7)', '150.186 (45.7)', '84.189 (44.6)', '12.59 (45.3)', '9.54 (46.1)']\n",
      "Transfer & Revision: ['424.238 (49.7)', '402.876 (45.7)', '149.398 (44.6)', '34.989000000000004 (45.3)', '28.041999999999998 (46.1)']\n",
      "\n",
      "\n"
     ]
    },
    {
     "data": {
      "text/markdown": [
       "## Inference time"
      ],
      "text/plain": [
       "<IPython.core.display.Markdown object>"
      ]
     },
     "metadata": {},
     "output_type": "display_data"
    },
    {
     "name": "stdout",
     "output_type": "stream",
     "text": [
      "Experiment 1\n",
      "Scratch: [4.933, 4.814, 5.426, 6.059, 6.37]\n",
      "Transfer: [4.75, 6.535, 5.103, 5.906, 5.281]\n",
      "Transfer & Revision: [4.335, 5.643, 5.174, 5.811, 6.5]\n",
      "\n",
      "\n",
      "Experiment 2\n",
      "Scratch: [4.83, 5.361, 4.894, 5.704, 5.89]\n",
      "Transfer: [4.598, 4.963, 4.636, 6.063, 6.55]\n",
      "Transfer & Revision: [4.997, 4.968, 5.027, 5.622, 6.043]\n",
      "\n",
      "\n",
      "Experiment 3\n",
      "Scratch: [4.591, 5.207, 5.634, 5.426, 6.11]\n",
      "Transfer: [4.676, 5.147, 5.134, 5.924, 6.425]\n",
      "Transfer & Revision: [4.535, 6.976, 4.593, 5.535, 6.185]\n",
      "\n",
      "\n",
      "Experiment 4\n",
      "Scratch: [4.875, 6.42, 4.751, 5.526, 5.914]\n",
      "Transfer: [4.345, 6.528, 5.114, 6.762, 6.249]\n",
      "Transfer & Revision: [3.998, 5.151, 5.335, 5.464, 6.451]\n",
      "\n",
      "\n",
      "Experiment 5\n",
      "Scratch: [4.602, 5.41, 4.891, 6.163, 6.044]\n",
      "Transfer: [4.974, 7.64, 5.275, 5.546, 5.934]\n",
      "Transfer & Revision: [4.738, 7.457, 4.744, 6.111, 6.089]\n",
      "\n",
      "\n"
     ]
    },
    {
     "data": {
      "text/markdown": [
       "# Results for 48_twitter_facebook"
      ],
      "text/plain": [
       "<IPython.core.display.Markdown object>"
      ]
     },
     "metadata": {},
     "output_type": "display_data"
    },
    {
     "data": {
      "text/markdown": [
       "## AUC ROC"
      ],
      "text/plain": [
       "<IPython.core.display.Markdown object>"
      ]
     },
     "metadata": {},
     "output_type": "display_data"
    },
    {
     "name": "stdout",
     "output_type": "stream",
     "text": [
      "Experiment 1\n",
      "Ttest_relResult(statistic=-0.5006906237098142, pvalue=0.6428849302474591)\n",
      "Ttest_relResult(statistic=-3.4122279218780553, pvalue=0.026972083627759446)\n"
     ]
    },
    {
     "data": {
      "text/html": [
       "<div>\n",
       "<table border=\"1\" class=\"dataframe\">\n",
       "  <thead>\n",
       "    <tr style=\"text-align: right;\">\n",
       "      <th></th>\n",
       "      <th>p-value</th>\n",
       "      <th>RDN-B</th>\n",
       "    </tr>\n",
       "  </thead>\n",
       "  <tbody>\n",
       "    <tr>\n",
       "      <th>0</th>\n",
       "      <td>transferRDN-B Ref</td>\n",
       "      <td>0.643</td>\n",
       "    </tr>\n",
       "    <tr>\n",
       "      <th>1</th>\n",
       "      <td>transferRDN-B</td>\n",
       "      <td>0.027</td>\n",
       "    </tr>\n",
       "  </tbody>\n",
       "</table>\n",
       "</div>"
      ],
      "text/plain": [
       "             p-value  RDN-B\n",
       "0  transferRDN-B Ref  0.643\n",
       "1      transferRDN-B  0.027"
      ]
     },
     "metadata": {},
     "output_type": "display_data"
    },
    {
     "name": "stdout",
     "output_type": "stream",
     "text": [
      "Scratch: [0.636454, 0.543524, 0.604488, 0.566464, 0.556831]\n",
      "Transfer: [0.520402, 0.538978, 0.50903, 0.514203, 0.497403]\n",
      "Transfer & Revision: [0.52037, 0.539084, 0.656902, 0.563651, 0.558524]\n",
      "\n",
      "\n",
      "Experiment 2\n",
      "Ttest_relResult(statistic=-1.7263086025956504, pvalue=0.15936923599392397)\n",
      "Ttest_relResult(statistic=-6.211613284464036, pvalue=0.003418124155068021)\n"
     ]
    },
    {
     "data": {
      "text/html": [
       "<div>\n",
       "<table border=\"1\" class=\"dataframe\">\n",
       "  <thead>\n",
       "    <tr style=\"text-align: right;\">\n",
       "      <th></th>\n",
       "      <th>p-value</th>\n",
       "      <th>RDN-B</th>\n",
       "    </tr>\n",
       "  </thead>\n",
       "  <tbody>\n",
       "    <tr>\n",
       "      <th>0</th>\n",
       "      <td>transferRDN-B Ref</td>\n",
       "      <td>0.159</td>\n",
       "    </tr>\n",
       "    <tr>\n",
       "      <th>1</th>\n",
       "      <td>transferRDN-B</td>\n",
       "      <td>0.003</td>\n",
       "    </tr>\n",
       "  </tbody>\n",
       "</table>\n",
       "</div>"
      ],
      "text/plain": [
       "             p-value  RDN-B\n",
       "0  transferRDN-B Ref  0.159\n",
       "1      transferRDN-B  0.003"
      ]
     },
     "metadata": {},
     "output_type": "display_data"
    },
    {
     "name": "stdout",
     "output_type": "stream",
     "text": [
      "Scratch: [0.623137, 0.576998, 0.588491, 0.555181, 0.557858]\n",
      "Transfer: [0.503723, 0.50282, 0.504144, 0.514203, 0.485576]\n",
      "Transfer & Revision: [0.503672, 0.505625, 0.604574, 0.567376, 0.495915]\n",
      "\n",
      "\n",
      "Experiment 3\n",
      "Ttest_relResult(statistic=-1.2388025678503254, pvalue=0.2831454767836099)\n",
      "Ttest_relResult(statistic=-4.126614540986069, pvalue=0.01453390289798641)\n"
     ]
    },
    {
     "data": {
      "text/html": [
       "<div>\n",
       "<table border=\"1\" class=\"dataframe\">\n",
       "  <thead>\n",
       "    <tr style=\"text-align: right;\">\n",
       "      <th></th>\n",
       "      <th>p-value</th>\n",
       "      <th>RDN-B</th>\n",
       "    </tr>\n",
       "  </thead>\n",
       "  <tbody>\n",
       "    <tr>\n",
       "      <th>0</th>\n",
       "      <td>transferRDN-B Ref</td>\n",
       "      <td>0.283</td>\n",
       "    </tr>\n",
       "    <tr>\n",
       "      <th>1</th>\n",
       "      <td>transferRDN-B</td>\n",
       "      <td>0.015</td>\n",
       "    </tr>\n",
       "  </tbody>\n",
       "</table>\n",
       "</div>"
      ],
      "text/plain": [
       "             p-value  RDN-B\n",
       "0  transferRDN-B Ref  0.283\n",
       "1      transferRDN-B  0.015"
      ]
     },
     "metadata": {},
     "output_type": "display_data"
    },
    {
     "name": "stdout",
     "output_type": "stream",
     "text": [
      "Scratch: [0.627729, 0.569819, 0.612359, 0.559654, 0.564573]\n",
      "Transfer: [0.503723, 0.530365, 0.475444, 0.514203, 0.495478]\n",
      "Transfer & Revision: [0.503672, 0.533905, 0.631092, 0.561246, 0.54953]\n",
      "\n",
      "\n",
      "Experiment 4\n",
      "Ttest_relResult(statistic=-0.5857569138411292, pvalue=0.58949511662049)\n",
      "Ttest_relResult(statistic=-2.9257789302223105, pvalue=0.04299456266963044)\n"
     ]
    },
    {
     "data": {
      "text/html": [
       "<div>\n",
       "<table border=\"1\" class=\"dataframe\">\n",
       "  <thead>\n",
       "    <tr style=\"text-align: right;\">\n",
       "      <th></th>\n",
       "      <th>p-value</th>\n",
       "      <th>RDN-B</th>\n",
       "    </tr>\n",
       "  </thead>\n",
       "  <tbody>\n",
       "    <tr>\n",
       "      <th>0</th>\n",
       "      <td>transferRDN-B Ref</td>\n",
       "      <td>0.589</td>\n",
       "    </tr>\n",
       "    <tr>\n",
       "      <th>1</th>\n",
       "      <td>transferRDN-B</td>\n",
       "      <td>0.043</td>\n",
       "    </tr>\n",
       "  </tbody>\n",
       "</table>\n",
       "</div>"
      ],
      "text/plain": [
       "             p-value  RDN-B\n",
       "0  transferRDN-B Ref  0.589\n",
       "1      transferRDN-B  0.043"
      ]
     },
     "metadata": {},
     "output_type": "display_data"
    },
    {
     "name": "stdout",
     "output_type": "stream",
     "text": [
      "Scratch: [0.629841, 0.518551, 0.589509, 0.563041, 0.567548]\n",
      "Transfer: [0.503723, 0.503594, 0.486615, 0.514203, 0.541906]\n",
      "Transfer & Revision: [0.503672, 0.503872, 0.650029, 0.564577, 0.557688]\n",
      "\n",
      "\n",
      "Experiment 5\n",
      "Ttest_relResult(statistic=-1.3136048385964816, pvalue=0.25925643379182134)\n",
      "Ttest_relResult(statistic=-4.702892063489273, pvalue=0.009288467557008025)\n"
     ]
    },
    {
     "data": {
      "text/html": [
       "<div>\n",
       "<table border=\"1\" class=\"dataframe\">\n",
       "  <thead>\n",
       "    <tr style=\"text-align: right;\">\n",
       "      <th></th>\n",
       "      <th>p-value</th>\n",
       "      <th>RDN-B</th>\n",
       "    </tr>\n",
       "  </thead>\n",
       "  <tbody>\n",
       "    <tr>\n",
       "      <th>0</th>\n",
       "      <td>transferRDN-B Ref</td>\n",
       "      <td>0.259</td>\n",
       "    </tr>\n",
       "    <tr>\n",
       "      <th>1</th>\n",
       "      <td>transferRDN-B</td>\n",
       "      <td>0.009</td>\n",
       "    </tr>\n",
       "  </tbody>\n",
       "</table>\n",
       "</div>"
      ],
      "text/plain": [
       "             p-value  RDN-B\n",
       "0  transferRDN-B Ref  0.259\n",
       "1      transferRDN-B  0.009"
      ]
     },
     "metadata": {},
     "output_type": "display_data"
    },
    {
     "name": "stdout",
     "output_type": "stream",
     "text": [
      "Scratch: [0.629584, 0.561699, 0.582789, 0.575119, 0.552881]\n",
      "Transfer: [0.499603, 0.517211, 0.531211, 0.483486, 0.495478]\n",
      "Transfer & Revision: [0.500496, 0.513514, 0.605493, 0.557397, 0.552373]\n",
      "\n",
      "\n"
     ]
    },
    {
     "data": {
      "text/markdown": [
       "## AUC PR"
      ],
      "text/plain": [
       "<IPython.core.display.Markdown object>"
      ]
     },
     "metadata": {},
     "output_type": "display_data"
    },
    {
     "name": "stdout",
     "output_type": "stream",
     "text": [
      "Experiment 1\n",
      "Ttest_relResult(statistic=-0.5203589983963958, pvalue=0.6302872946287268)\n",
      "Ttest_relResult(statistic=-3.311901671361767, pvalue=0.02960173699556537)\n"
     ]
    },
    {
     "data": {
      "text/html": [
       "<div>\n",
       "<table border=\"1\" class=\"dataframe\">\n",
       "  <thead>\n",
       "    <tr style=\"text-align: right;\">\n",
       "      <th></th>\n",
       "      <th>p-value</th>\n",
       "      <th>RDN-B</th>\n",
       "    </tr>\n",
       "  </thead>\n",
       "  <tbody>\n",
       "    <tr>\n",
       "      <th>0</th>\n",
       "      <td>transferRDN-B Ref</td>\n",
       "      <td>0.630</td>\n",
       "    </tr>\n",
       "    <tr>\n",
       "      <th>1</th>\n",
       "      <td>transferRDN-B</td>\n",
       "      <td>0.030</td>\n",
       "    </tr>\n",
       "  </tbody>\n",
       "</table>\n",
       "</div>"
      ],
      "text/plain": [
       "             p-value  RDN-B\n",
       "0  transferRDN-B Ref  0.630\n",
       "1      transferRDN-B  0.030"
      ]
     },
     "metadata": {},
     "output_type": "display_data"
    },
    {
     "name": "stdout",
     "output_type": "stream",
     "text": [
      "Scratch: [0.616767, 0.550602, 0.598445, 0.58265, 0.549621]\n",
      "Transfer: [0.533905, 0.542878, 0.511918, 0.533901, 0.521819]\n",
      "Transfer & Revision: [0.533814, 0.543055, 0.631602, 0.583926, 0.555111]\n",
      "\n",
      "\n",
      "Experiment 2\n",
      "Ttest_relResult(statistic=-1.7173564250624052, pvalue=0.16104759487208808)\n",
      "Ttest_relResult(statistic=-7.008932419179096, pvalue=0.0021816775310710434)\n"
     ]
    },
    {
     "data": {
      "text/html": [
       "<div>\n",
       "<table border=\"1\" class=\"dataframe\">\n",
       "  <thead>\n",
       "    <tr style=\"text-align: right;\">\n",
       "      <th></th>\n",
       "      <th>p-value</th>\n",
       "      <th>RDN-B</th>\n",
       "    </tr>\n",
       "  </thead>\n",
       "  <tbody>\n",
       "    <tr>\n",
       "      <th>0</th>\n",
       "      <td>transferRDN-B Ref</td>\n",
       "      <td>0.161</td>\n",
       "    </tr>\n",
       "    <tr>\n",
       "      <th>1</th>\n",
       "      <td>transferRDN-B</td>\n",
       "      <td>0.002</td>\n",
       "    </tr>\n",
       "  </tbody>\n",
       "</table>\n",
       "</div>"
      ],
      "text/plain": [
       "             p-value  RDN-B\n",
       "0  transferRDN-B Ref  0.161\n",
       "1      transferRDN-B  0.002"
      ]
     },
     "metadata": {},
     "output_type": "display_data"
    },
    {
     "name": "stdout",
     "output_type": "stream",
     "text": [
      "Scratch: [0.602189, 0.57149, 0.581848, 0.577785, 0.550028]\n",
      "Transfer: [0.512593, 0.512886, 0.503223, 0.533901, 0.504223]\n",
      "Transfer & Revision: [0.512732, 0.515867, 0.596364, 0.583353, 0.508569]\n",
      "\n",
      "\n",
      "Experiment 3\n",
      "Ttest_relResult(statistic=-1.102211657486452, pvalue=0.3322279373298005)\n",
      "Ttest_relResult(statistic=-3.5499968378354767, pvalue=0.02379865241557379)\n"
     ]
    },
    {
     "data": {
      "text/html": [
       "<div>\n",
       "<table border=\"1\" class=\"dataframe\">\n",
       "  <thead>\n",
       "    <tr style=\"text-align: right;\">\n",
       "      <th></th>\n",
       "      <th>p-value</th>\n",
       "      <th>RDN-B</th>\n",
       "    </tr>\n",
       "  </thead>\n",
       "  <tbody>\n",
       "    <tr>\n",
       "      <th>0</th>\n",
       "      <td>transferRDN-B Ref</td>\n",
       "      <td>0.332</td>\n",
       "    </tr>\n",
       "    <tr>\n",
       "      <th>1</th>\n",
       "      <td>transferRDN-B</td>\n",
       "      <td>0.024</td>\n",
       "    </tr>\n",
       "  </tbody>\n",
       "</table>\n",
       "</div>"
      ],
      "text/plain": [
       "             p-value  RDN-B\n",
       "0  transferRDN-B Ref  0.332\n",
       "1      transferRDN-B  0.024"
      ]
     },
     "metadata": {},
     "output_type": "display_data"
    },
    {
     "name": "stdout",
     "output_type": "stream",
     "text": [
      "Scratch: [0.608005, 0.560605, 0.603589, 0.578093, 0.557883]\n",
      "Transfer: [0.512593, 0.540775, 0.496427, 0.533901, 0.520682]\n",
      "Transfer & Revision: [0.512732, 0.542388, 0.613931, 0.580238, 0.553472]\n",
      "\n",
      "\n",
      "Experiment 4\n",
      "Ttest_relResult(statistic=-0.6472485711140992, pvalue=0.5527421207979093)\n",
      "Ttest_relResult(statistic=-2.706811837607093, pvalue=0.05371415617246878)\n"
     ]
    },
    {
     "data": {
      "text/html": [
       "<div>\n",
       "<table border=\"1\" class=\"dataframe\">\n",
       "  <thead>\n",
       "    <tr style=\"text-align: right;\">\n",
       "      <th></th>\n",
       "      <th>p-value</th>\n",
       "      <th>RDN-B</th>\n",
       "    </tr>\n",
       "  </thead>\n",
       "  <tbody>\n",
       "    <tr>\n",
       "      <th>0</th>\n",
       "      <td>transferRDN-B Ref</td>\n",
       "      <td>0.553</td>\n",
       "    </tr>\n",
       "    <tr>\n",
       "      <th>1</th>\n",
       "      <td>transferRDN-B</td>\n",
       "      <td>0.054</td>\n",
       "    </tr>\n",
       "  </tbody>\n",
       "</table>\n",
       "</div>"
      ],
      "text/plain": [
       "             p-value  RDN-B\n",
       "0  transferRDN-B Ref  0.553\n",
       "1      transferRDN-B  0.054"
      ]
     },
     "metadata": {},
     "output_type": "display_data"
    },
    {
     "name": "stdout",
     "output_type": "stream",
     "text": [
      "Scratch: [0.610438, 0.531487, 0.580882, 0.582765, 0.563199]\n",
      "Transfer: [0.512593, 0.520031, 0.483201, 0.533901, 0.554009]\n",
      "Transfer & Revision: [0.512732, 0.521426, 0.613919, 0.582598, 0.566707]\n",
      "\n",
      "\n",
      "Experiment 5\n",
      "Ttest_relResult(statistic=-1.21920547302509, pvalue=0.28974391097852387)\n",
      "Ttest_relResult(statistic=-3.3500924989493788, pvalue=0.028566392685568272)\n"
     ]
    },
    {
     "data": {
      "text/html": [
       "<div>\n",
       "<table border=\"1\" class=\"dataframe\">\n",
       "  <thead>\n",
       "    <tr style=\"text-align: right;\">\n",
       "      <th></th>\n",
       "      <th>p-value</th>\n",
       "      <th>RDN-B</th>\n",
       "    </tr>\n",
       "  </thead>\n",
       "  <tbody>\n",
       "    <tr>\n",
       "      <th>0</th>\n",
       "      <td>transferRDN-B Ref</td>\n",
       "      <td>0.290</td>\n",
       "    </tr>\n",
       "    <tr>\n",
       "      <th>1</th>\n",
       "      <td>transferRDN-B</td>\n",
       "      <td>0.029</td>\n",
       "    </tr>\n",
       "  </tbody>\n",
       "</table>\n",
       "</div>"
      ],
      "text/plain": [
       "             p-value  RDN-B\n",
       "0  transferRDN-B Ref  0.290\n",
       "1      transferRDN-B  0.029"
      ]
     },
     "metadata": {},
     "output_type": "display_data"
    },
    {
     "name": "stdout",
     "output_type": "stream",
     "text": [
      "Scratch: [0.609025, 0.555108, 0.580256, 0.587066, 0.541777]\n",
      "Transfer: [0.506419, 0.529881, 0.541023, 0.510444, 0.520682]\n",
      "Transfer & Revision: [0.507385, 0.527258, 0.594233, 0.564461, 0.552752]\n",
      "\n",
      "\n"
     ]
    },
    {
     "data": {
      "text/markdown": [
       "## CLL"
      ],
      "text/plain": [
       "<IPython.core.display.Markdown object>"
      ]
     },
     "metadata": {},
     "output_type": "display_data"
    },
    {
     "name": "stdout",
     "output_type": "stream",
     "text": [
      "Experiment 1\n",
      "Ttest_relResult(statistic=0.1473910702804675, pvalue=0.8899541642756688)\n",
      "Ttest_relResult(statistic=1.1178569323675707, pvalue=0.32623152766599167)\n"
     ]
    },
    {
     "data": {
      "text/html": [
       "<div>\n",
       "<table border=\"1\" class=\"dataframe\">\n",
       "  <thead>\n",
       "    <tr style=\"text-align: right;\">\n",
       "      <th></th>\n",
       "      <th>p-value</th>\n",
       "      <th>RDN-B</th>\n",
       "    </tr>\n",
       "  </thead>\n",
       "  <tbody>\n",
       "    <tr>\n",
       "      <th>0</th>\n",
       "      <td>transferRDN-B Ref</td>\n",
       "      <td>0.890</td>\n",
       "    </tr>\n",
       "    <tr>\n",
       "      <th>1</th>\n",
       "      <td>transferRDN-B</td>\n",
       "      <td>0.326</td>\n",
       "    </tr>\n",
       "  </tbody>\n",
       "</table>\n",
       "</div>"
      ],
      "text/plain": [
       "             p-value  RDN-B\n",
       "0  transferRDN-B Ref  0.890\n",
       "1      transferRDN-B  0.326"
      ]
     },
     "metadata": {},
     "output_type": "display_data"
    },
    {
     "name": "stdout",
     "output_type": "stream",
     "text": [
      "Scratch: [-0.679671, -0.715472, -0.688945, -0.722547, -0.766602]\n",
      "Transfer: [-0.700565, -0.692375, -0.693448, -0.703391, -0.707217]\n",
      "Transfer & Revision: [-0.70041, -0.692359, -0.671465, -0.729797, -0.773134]\n",
      "\n",
      "\n",
      "Experiment 2\n",
      "Ttest_relResult(statistic=1.2445290063021355, pvalue=0.2812444765493603)\n",
      "Ttest_relResult(statistic=1.387298492354123, pvalue=0.23764215695178786)\n"
     ]
    },
    {
     "data": {
      "text/html": [
       "<div>\n",
       "<table border=\"1\" class=\"dataframe\">\n",
       "  <thead>\n",
       "    <tr style=\"text-align: right;\">\n",
       "      <th></th>\n",
       "      <th>p-value</th>\n",
       "      <th>RDN-B</th>\n",
       "    </tr>\n",
       "  </thead>\n",
       "  <tbody>\n",
       "    <tr>\n",
       "      <th>0</th>\n",
       "      <td>transferRDN-B Ref</td>\n",
       "      <td>0.281</td>\n",
       "    </tr>\n",
       "    <tr>\n",
       "      <th>1</th>\n",
       "      <td>transferRDN-B</td>\n",
       "      <td>0.238</td>\n",
       "    </tr>\n",
       "  </tbody>\n",
       "</table>\n",
       "</div>"
      ],
      "text/plain": [
       "             p-value  RDN-B\n",
       "0  transferRDN-B Ref  0.281\n",
       "1      transferRDN-B  0.238"
      ]
     },
     "metadata": {},
     "output_type": "display_data"
    },
    {
     "name": "stdout",
     "output_type": "stream",
     "text": [
      "Scratch: [-0.68301, -0.704315, -0.705329, -0.731605, -0.786439]\n",
      "Transfer: [-0.700683, -0.695013, -0.693496, -0.703391, -0.709072]\n",
      "Transfer & Revision: [-0.700822, -0.694866, -0.686664, -0.721561, -0.709095]\n",
      "\n",
      "\n",
      "Experiment 3\n",
      "Ttest_relResult(statistic=-1.5191978118195717, pvalue=0.20333593961294602)\n",
      "Ttest_relResult(statistic=0.5436978306835443, pvalue=0.615533618449045)\n"
     ]
    },
    {
     "data": {
      "text/html": [
       "<div>\n",
       "<table border=\"1\" class=\"dataframe\">\n",
       "  <thead>\n",
       "    <tr style=\"text-align: right;\">\n",
       "      <th></th>\n",
       "      <th>p-value</th>\n",
       "      <th>RDN-B</th>\n",
       "    </tr>\n",
       "  </thead>\n",
       "  <tbody>\n",
       "    <tr>\n",
       "      <th>0</th>\n",
       "      <td>transferRDN-B Ref</td>\n",
       "      <td>0.203</td>\n",
       "    </tr>\n",
       "    <tr>\n",
       "      <th>1</th>\n",
       "      <td>transferRDN-B</td>\n",
       "      <td>0.616</td>\n",
       "    </tr>\n",
       "  </tbody>\n",
       "</table>\n",
       "</div>"
      ],
      "text/plain": [
       "             p-value  RDN-B\n",
       "0  transferRDN-B Ref  0.203\n",
       "1      transferRDN-B  0.616"
      ]
     },
     "metadata": {},
     "output_type": "display_data"
    },
    {
     "name": "stdout",
     "output_type": "stream",
     "text": [
      "Scratch: [-0.683372, -0.704116, -0.684129, -0.725155, -0.770684]\n",
      "Transfer: [-0.700683, -0.720542, -0.693431, -0.703391, -0.707352]\n",
      "Transfer & Revision: [-0.700822, -0.719032, -0.673807, -0.732563, -0.778116]\n",
      "\n",
      "\n",
      "Experiment 4\n",
      "Ttest_relResult(statistic=1.523030170339233, pvalue=0.202417706917763)\n",
      "Ttest_relResult(statistic=1.6938603737805862, pvalue=0.16554194086472399)\n"
     ]
    },
    {
     "data": {
      "text/html": [
       "<div>\n",
       "<table border=\"1\" class=\"dataframe\">\n",
       "  <thead>\n",
       "    <tr style=\"text-align: right;\">\n",
       "      <th></th>\n",
       "      <th>p-value</th>\n",
       "      <th>RDN-B</th>\n",
       "    </tr>\n",
       "  </thead>\n",
       "  <tbody>\n",
       "    <tr>\n",
       "      <th>0</th>\n",
       "      <td>transferRDN-B Ref</td>\n",
       "      <td>0.202</td>\n",
       "    </tr>\n",
       "    <tr>\n",
       "      <th>1</th>\n",
       "      <td>transferRDN-B</td>\n",
       "      <td>0.166</td>\n",
       "    </tr>\n",
       "  </tbody>\n",
       "</table>\n",
       "</div>"
      ],
      "text/plain": [
       "             p-value  RDN-B\n",
       "0  transferRDN-B Ref  0.202\n",
       "1      transferRDN-B  0.166"
      ]
     },
     "metadata": {},
     "output_type": "display_data"
    },
    {
     "name": "stdout",
     "output_type": "stream",
     "text": [
      "Scratch: [-0.681494, -0.738077, -0.704403, -0.730072, -0.766893]\n",
      "Transfer: [-0.700683, -0.697561, -0.694354, -0.703391, -0.690619]\n",
      "Transfer & Revision: [-0.700822, -0.697554, -0.680336, -0.728599, -0.71721]\n",
      "\n",
      "\n",
      "Experiment 5\n",
      "Ttest_relResult(statistic=1.2912489827909632, pvalue=0.26618472277214233)\n",
      "Ttest_relResult(statistic=1.3434630325699828, pvalue=0.2502761091826714)\n"
     ]
    },
    {
     "data": {
      "text/html": [
       "<div>\n",
       "<table border=\"1\" class=\"dataframe\">\n",
       "  <thead>\n",
       "    <tr style=\"text-align: right;\">\n",
       "      <th></th>\n",
       "      <th>p-value</th>\n",
       "      <th>RDN-B</th>\n",
       "    </tr>\n",
       "  </thead>\n",
       "  <tbody>\n",
       "    <tr>\n",
       "      <th>0</th>\n",
       "      <td>transferRDN-B Ref</td>\n",
       "      <td>0.266</td>\n",
       "    </tr>\n",
       "    <tr>\n",
       "      <th>1</th>\n",
       "      <td>transferRDN-B</td>\n",
       "      <td>0.250</td>\n",
       "    </tr>\n",
       "  </tbody>\n",
       "</table>\n",
       "</div>"
      ],
      "text/plain": [
       "             p-value  RDN-B\n",
       "0  transferRDN-B Ref  0.266\n",
       "1      transferRDN-B  0.250"
      ]
     },
     "metadata": {},
     "output_type": "display_data"
    },
    {
     "name": "stdout",
     "output_type": "stream",
     "text": [
      "Scratch: [-0.681647, -0.707617, -0.708531, -0.715058, -0.79452]\n",
      "Transfer: [-0.700257, -0.699351, -0.688448, -0.694832, -0.707352]\n",
      "Transfer & Revision: [-0.700184, -0.70016, -0.677905, -0.709154, -0.743615]\n",
      "\n",
      "\n"
     ]
    },
    {
     "data": {
      "text/markdown": [
       "## Recall"
      ],
      "text/plain": [
       "<IPython.core.display.Markdown object>"
      ]
     },
     "metadata": {},
     "output_type": "display_data"
    },
    {
     "name": "stdout",
     "output_type": "stream",
     "text": [
      "Experiment 1\n",
      "Ttest_relResult(statistic=-0.9013528421004814, pvalue=0.4183660483383085)\n",
      "Ttest_relResult(statistic=-3.782513660940843, pvalue=0.01939368346689672)\n"
     ]
    },
    {
     "data": {
      "text/html": [
       "<div>\n",
       "<table border=\"1\" class=\"dataframe\">\n",
       "  <thead>\n",
       "    <tr style=\"text-align: right;\">\n",
       "      <th></th>\n",
       "      <th>p-value</th>\n",
       "      <th>RDN-B</th>\n",
       "    </tr>\n",
       "  </thead>\n",
       "  <tbody>\n",
       "    <tr>\n",
       "      <th>0</th>\n",
       "      <td>transferRDN-B Ref</td>\n",
       "      <td>0.418</td>\n",
       "    </tr>\n",
       "    <tr>\n",
       "      <th>1</th>\n",
       "      <td>transferRDN-B</td>\n",
       "      <td>0.019</td>\n",
       "    </tr>\n",
       "  </tbody>\n",
       "</table>\n",
       "</div>"
      ],
      "text/plain": [
       "             p-value  RDN-B\n",
       "0  transferRDN-B Ref  0.418\n",
       "1      transferRDN-B  0.019"
      ]
     },
     "metadata": {},
     "output_type": "display_data"
    },
    {
     "name": "stdout",
     "output_type": "stream",
     "text": [
      "Scratch: [0.250996, 0.62372, 0.284356, 0.357499, 0.36885]\n",
      "Transfer: [0.151129, 0.086038, 0.046672, 0.040572, 0.168785]\n",
      "Transfer & Revision: [0.150996, 0.085711, 0.435393, 0.368557, 0.321277]\n",
      "\n",
      "\n",
      "Experiment 2\n",
      "Ttest_relResult(statistic=-1.156186527748117, pvalue=0.31195752367840973)\n",
      "Ttest_relResult(statistic=-3.8479029171639456, pvalue=0.01833537754463561)\n"
     ]
    },
    {
     "data": {
      "text/html": [
       "<div>\n",
       "<table border=\"1\" class=\"dataframe\">\n",
       "  <thead>\n",
       "    <tr style=\"text-align: right;\">\n",
       "      <th></th>\n",
       "      <th>p-value</th>\n",
       "      <th>RDN-B</th>\n",
       "    </tr>\n",
       "  </thead>\n",
       "  <tbody>\n",
       "    <tr>\n",
       "      <th>0</th>\n",
       "      <td>transferRDN-B Ref</td>\n",
       "      <td>0.312</td>\n",
       "    </tr>\n",
       "    <tr>\n",
       "      <th>1</th>\n",
       "      <td>transferRDN-B</td>\n",
       "      <td>0.018</td>\n",
       "    </tr>\n",
       "  </tbody>\n",
       "</table>\n",
       "</div>"
      ],
      "text/plain": [
       "             p-value  RDN-B\n",
       "0  transferRDN-B Ref  0.312\n",
       "1      transferRDN-B  0.018"
      ]
     },
     "metadata": {},
     "output_type": "display_data"
    },
    {
     "name": "stdout",
     "output_type": "stream",
     "text": [
      "Scratch: [0.277689, 0.648007, 0.245138, 0.341287, 0.435973]\n",
      "Transfer: [0.155113, 0.040514, 0.000648, 0.040572, 0.163571]\n",
      "Transfer & Revision: [0.154316, 0.04193, 0.333838, 0.467326, 0.183366]\n",
      "\n",
      "\n",
      "Experiment 3\n",
      "Ttest_relResult(statistic=-0.4652037358488577, pvalue=0.6659832777864243)\n",
      "Ttest_relResult(statistic=-2.1554400452246845, pvalue=0.09738558587544806)\n"
     ]
    },
    {
     "data": {
      "text/html": [
       "<div>\n",
       "<table border=\"1\" class=\"dataframe\">\n",
       "  <thead>\n",
       "    <tr style=\"text-align: right;\">\n",
       "      <th></th>\n",
       "      <th>p-value</th>\n",
       "      <th>RDN-B</th>\n",
       "    </tr>\n",
       "  </thead>\n",
       "  <tbody>\n",
       "    <tr>\n",
       "      <th>0</th>\n",
       "      <td>transferRDN-B Ref</td>\n",
       "      <td>0.666</td>\n",
       "    </tr>\n",
       "    <tr>\n",
       "      <th>1</th>\n",
       "      <td>transferRDN-B</td>\n",
       "      <td>0.097</td>\n",
       "    </tr>\n",
       "  </tbody>\n",
       "</table>\n",
       "</div>"
      ],
      "text/plain": [
       "             p-value  RDN-B\n",
       "0  transferRDN-B Ref  0.666\n",
       "1      transferRDN-B  0.097"
      ]
     },
     "metadata": {},
     "output_type": "display_data"
    },
    {
     "name": "stdout",
     "output_type": "stream",
     "text": [
      "Scratch: [0.260956, 0.645938, 0.331029, 0.379032, 0.315168]\n",
      "Transfer: [0.155113, 0.726857, 0.00605, 0.040572, 0.168785]\n",
      "Transfer & Revision: [0.154316, 0.712372, 0.345722, 0.343365, 0.30971]\n",
      "\n",
      "\n",
      "Experiment 4\n",
      "Ttest_relResult(statistic=-0.9031843597106587, pvalue=0.41750160377260176)\n",
      "Ttest_relResult(statistic=-5.134737074991033, pvalue=0.0068160868581090646)\n"
     ]
    },
    {
     "data": {
      "text/html": [
       "<div>\n",
       "<table border=\"1\" class=\"dataframe\">\n",
       "  <thead>\n",
       "    <tr style=\"text-align: right;\">\n",
       "      <th></th>\n",
       "      <th>p-value</th>\n",
       "      <th>RDN-B</th>\n",
       "    </tr>\n",
       "  </thead>\n",
       "  <tbody>\n",
       "    <tr>\n",
       "      <th>0</th>\n",
       "      <td>transferRDN-B Ref</td>\n",
       "      <td>0.418</td>\n",
       "    </tr>\n",
       "    <tr>\n",
       "      <th>1</th>\n",
       "      <td>transferRDN-B</td>\n",
       "      <td>0.007</td>\n",
       "    </tr>\n",
       "  </tbody>\n",
       "</table>\n",
       "</div>"
      ],
      "text/plain": [
       "             p-value  RDN-B\n",
       "0  transferRDN-B Ref  0.418\n",
       "1      transferRDN-B  0.007"
      ]
     },
     "metadata": {},
     "output_type": "display_data"
    },
    {
     "name": "stdout",
     "output_type": "stream",
     "text": [
      "Scratch: [0.29668, 0.538227, 0.235523, 0.337379, 0.380987]\n",
      "Transfer: [0.155113, 0.102265, 0.0, 0.040572, 0.188335]\n",
      "Transfer & Revision: [0.154316, 0.083751, 0.437122, 0.374875, 0.24552]\n",
      "\n",
      "\n",
      "Experiment 5\n",
      "Ttest_relResult(statistic=-1.505353904344364, pvalue=0.20668844354914287)\n",
      "Ttest_relResult(statistic=-3.620068539796065, pvalue=0.022355839398418093)\n"
     ]
    },
    {
     "data": {
      "text/html": [
       "<div>\n",
       "<table border=\"1\" class=\"dataframe\">\n",
       "  <thead>\n",
       "    <tr style=\"text-align: right;\">\n",
       "      <th></th>\n",
       "      <th>p-value</th>\n",
       "      <th>RDN-B</th>\n",
       "    </tr>\n",
       "  </thead>\n",
       "  <tbody>\n",
       "    <tr>\n",
       "      <th>0</th>\n",
       "      <td>transferRDN-B Ref</td>\n",
       "      <td>0.207</td>\n",
       "    </tr>\n",
       "    <tr>\n",
       "      <th>1</th>\n",
       "      <td>transferRDN-B</td>\n",
       "      <td>0.022</td>\n",
       "    </tr>\n",
       "  </tbody>\n",
       "</table>\n",
       "</div>"
      ],
      "text/plain": [
       "             p-value  RDN-B\n",
       "0  transferRDN-B Ref  0.207\n",
       "1      transferRDN-B  0.022"
      ]
     },
     "metadata": {},
     "output_type": "display_data"
    },
    {
     "name": "stdout",
     "output_type": "stream",
     "text": [
      "Scratch: [0.257105, 0.587127, 0.188742, 0.475224, 0.46538]\n",
      "Transfer: [0.139841, 0.088434, 0.085782, 0.049717, 0.168785]\n",
      "Transfer & Revision: [0.133865, 0.103463, 0.241465, 0.453276, 0.34767]\n",
      "\n",
      "\n"
     ]
    },
    {
     "data": {
      "text/markdown": [
       "## F1"
      ],
      "text/plain": [
       "<IPython.core.display.Markdown object>"
      ]
     },
     "metadata": {},
     "output_type": "display_data"
    },
    {
     "name": "stdout",
     "output_type": "stream",
     "text": [
      "Experiment 1\n",
      "Ttest_relResult(statistic=-0.9479547371028011, pvalue=0.3968305669569542)\n",
      "Ttest_relResult(statistic=-5.1026805386949174, pvalue=0.00696957812836119)\n"
     ]
    },
    {
     "data": {
      "text/html": [
       "<div>\n",
       "<table border=\"1\" class=\"dataframe\">\n",
       "  <thead>\n",
       "    <tr style=\"text-align: right;\">\n",
       "      <th></th>\n",
       "      <th>p-value</th>\n",
       "      <th>RDN-B</th>\n",
       "    </tr>\n",
       "  </thead>\n",
       "  <tbody>\n",
       "    <tr>\n",
       "      <th>0</th>\n",
       "      <td>transferRDN-B Ref</td>\n",
       "      <td>0.397</td>\n",
       "    </tr>\n",
       "    <tr>\n",
       "      <th>1</th>\n",
       "      <td>transferRDN-B</td>\n",
       "      <td>0.007</td>\n",
       "    </tr>\n",
       "  </tbody>\n",
       "</table>\n",
       "</div>"
      ],
      "text/plain": [
       "             p-value  RDN-B\n",
       "0  transferRDN-B Ref  0.397\n",
       "1      transferRDN-B  0.007"
      ]
     },
     "metadata": {},
     "output_type": "display_data"
    },
    {
     "name": "stdout",
     "output_type": "stream",
     "text": [
      "Scratch: [0.363916, 0.573733, 0.395403, 0.442478, 0.442252]\n",
      "Transfer: [0.236861, 0.150376, 0.086348, 0.077282, 0.257263]\n",
      "Transfer & Revision: [0.236702, 0.149919, 0.527418, 0.450691, 0.409639]\n",
      "\n",
      "\n",
      "Experiment 2\n",
      "Ttest_relResult(statistic=-1.278401557734944, pvalue=0.2702469093895683)\n",
      "Ttest_relResult(statistic=-5.2500821814874925, pvalue=0.006296848274617096)\n"
     ]
    },
    {
     "data": {
      "text/html": [
       "<div>\n",
       "<table border=\"1\" class=\"dataframe\">\n",
       "  <thead>\n",
       "    <tr style=\"text-align: right;\">\n",
       "      <th></th>\n",
       "      <th>p-value</th>\n",
       "      <th>RDN-B</th>\n",
       "    </tr>\n",
       "  </thead>\n",
       "  <tbody>\n",
       "    <tr>\n",
       "      <th>0</th>\n",
       "      <td>transferRDN-B Ref</td>\n",
       "      <td>0.270</td>\n",
       "    </tr>\n",
       "    <tr>\n",
       "      <th>1</th>\n",
       "      <td>transferRDN-B</td>\n",
       "      <td>0.006</td>\n",
       "    </tr>\n",
       "  </tbody>\n",
       "</table>\n",
       "</div>"
      ],
      "text/plain": [
       "             p-value  RDN-B\n",
       "0  transferRDN-B Ref  0.270\n",
       "1      transferRDN-B  0.006"
      ]
     },
     "metadata": {},
     "output_type": "display_data"
    },
    {
     "name": "stdout",
     "output_type": "stream",
     "text": [
      "Scratch: [0.387797, 0.589372, 0.352932, 0.429236, 0.487898]\n",
      "Transfer: [0.237543, 0.076323, 0.001295, 0.077282, 0.249643]\n",
      "Transfer & Revision: [0.236684, 0.078837, 0.43892, 0.512725, 0.274261]\n",
      "\n",
      "\n",
      "Experiment 3\n",
      "Ttest_relResult(statistic=-1.1124215903691028, pvalue=0.3283034711606528)\n",
      "Ttest_relResult(statistic=-2.7209280363915593, pvalue=0.05293611529382084)\n"
     ]
    },
    {
     "data": {
      "text/html": [
       "<div>\n",
       "<table border=\"1\" class=\"dataframe\">\n",
       "  <thead>\n",
       "    <tr style=\"text-align: right;\">\n",
       "      <th></th>\n",
       "      <th>p-value</th>\n",
       "      <th>RDN-B</th>\n",
       "    </tr>\n",
       "  </thead>\n",
       "  <tbody>\n",
       "    <tr>\n",
       "      <th>0</th>\n",
       "      <td>transferRDN-B Ref</td>\n",
       "      <td>0.328</td>\n",
       "    </tr>\n",
       "    <tr>\n",
       "      <th>1</th>\n",
       "      <td>transferRDN-B</td>\n",
       "      <td>0.053</td>\n",
       "    </tr>\n",
       "  </tbody>\n",
       "</table>\n",
       "</div>"
      ],
      "text/plain": [
       "             p-value  RDN-B\n",
       "0  transferRDN-B Ref  0.328\n",
       "1      transferRDN-B  0.053"
      ]
     },
     "metadata": {},
     "output_type": "display_data"
    },
    {
     "name": "stdout",
     "output_type": "stream",
     "text": [
      "Scratch: [0.372618, 0.593367, 0.437121, 0.454763, 0.406216]\n",
      "Transfer: [0.237543, 0.593508, 0.012015, 0.077282, 0.257263]\n",
      "Transfer & Revision: [0.236684, 0.594501, 0.452553, 0.431534, 0.397699]\n",
      "\n",
      "\n",
      "Experiment 4\n",
      "Ttest_relResult(statistic=-0.9454979367154853, pvalue=0.39794207637225004)\n",
      "Ttest_relResult(statistic=nan, pvalue=nan)\n"
     ]
    },
    {
     "data": {
      "text/html": [
       "<div>\n",
       "<table border=\"1\" class=\"dataframe\">\n",
       "  <thead>\n",
       "    <tr style=\"text-align: right;\">\n",
       "      <th></th>\n",
       "      <th>p-value</th>\n",
       "      <th>RDN-B</th>\n",
       "    </tr>\n",
       "  </thead>\n",
       "  <tbody>\n",
       "    <tr>\n",
       "      <th>0</th>\n",
       "      <td>transferRDN-B Ref</td>\n",
       "      <td>0.398</td>\n",
       "    </tr>\n",
       "    <tr>\n",
       "      <th>1</th>\n",
       "      <td>transferRDN-B</td>\n",
       "      <td>nan</td>\n",
       "    </tr>\n",
       "  </tbody>\n",
       "</table>\n",
       "</div>"
      ],
      "text/plain": [
       "             p-value  RDN-B\n",
       "0  transferRDN-B Ref  0.398\n",
       "1      transferRDN-B    nan"
      ]
     },
     "metadata": {},
     "output_type": "display_data"
    },
    {
     "name": "stdout",
     "output_type": "stream",
     "text": [
      "Scratch: [0.407962, 0.518845, 0.342956, 0.427293, 0.453703]\n",
      "Transfer: [0.237543, 0.174714, nan, 0.077282, 0.284992]\n",
      "Transfer & Revision: [0.236684, 0.147445, 0.527682, 0.453348, 0.343202]\n",
      "\n",
      "\n",
      "Experiment 5\n",
      "Ttest_relResult(statistic=-1.5202230424762277, pvalue=0.20308987901022618)\n",
      "Ttest_relResult(statistic=-4.487572408110277, pvalue=0.0109261425764124)\n"
     ]
    },
    {
     "data": {
      "text/html": [
       "<div>\n",
       "<table border=\"1\" class=\"dataframe\">\n",
       "  <thead>\n",
       "    <tr style=\"text-align: right;\">\n",
       "      <th></th>\n",
       "      <th>p-value</th>\n",
       "      <th>RDN-B</th>\n",
       "    </tr>\n",
       "  </thead>\n",
       "  <tbody>\n",
       "    <tr>\n",
       "      <th>0</th>\n",
       "      <td>transferRDN-B Ref</td>\n",
       "      <td>0.203</td>\n",
       "    </tr>\n",
       "    <tr>\n",
       "      <th>1</th>\n",
       "      <td>transferRDN-B</td>\n",
       "      <td>0.011</td>\n",
       "    </tr>\n",
       "  </tbody>\n",
       "</table>\n",
       "</div>"
      ],
      "text/plain": [
       "             p-value  RDN-B\n",
       "0  transferRDN-B Ref  0.203\n",
       "1      transferRDN-B  0.011"
      ]
     },
     "metadata": {},
     "output_type": "display_data"
    },
    {
     "name": "stdout",
     "output_type": "stream",
     "text": [
      "Scratch: [0.368797, 0.558364, 0.291045, 0.518576, 0.502595]\n",
      "Transfer: [0.2179, 0.154387, 0.152034, 0.093343, 0.257263]\n",
      "Transfer & Revision: [0.210746, 0.176876, 0.34911, 0.502026, 0.426651]\n",
      "\n",
      "\n"
     ]
    },
    {
     "data": {
      "text/markdown": [
       "## Precision"
      ],
      "text/plain": [
       "<IPython.core.display.Markdown object>"
      ]
     },
     "metadata": {},
     "output_type": "display_data"
    },
    {
     "name": "stdout",
     "output_type": "stream",
     "text": [
      "Experiment 1\n",
      "Scratch: [0.661533, 0.531163, 0.648755, 0.580454, 0.552128]\n",
      "Transfer: [0.547379, 0.596226, 0.576, 0.81198, 0.54071]\n",
      "Transfer & Revision: [0.547424, 0.59757, 0.668769, 0.579932, 0.565043]\n",
      "\n",
      "\n",
      "Experiment 2\n",
      "Scratch: [0.642594, 0.540467, 0.629928, 0.57825, 0.553865]\n",
      "Transfer: [0.506944, 0.657244, 0.75, 0.81198, 0.526896]\n",
      "Transfer & Revision: [0.507645, 0.65812, 0.640547, 0.567893, 0.543851]\n",
      "\n",
      "\n",
      "Experiment 3\n",
      "Scratch: [0.651309, 0.548709, 0.643292, 0.568312, 0.571239]\n",
      "Transfer: [0.506944, 0.501503, 0.848485, 0.81198, 0.54071]\n",
      "Transfer & Revision: [0.507645, 0.510099, 0.654932, 0.580627, 0.555523]\n",
      "\n",
      "\n",
      "Experiment 4\n",
      "Scratch: [0.652835, 0.500811, 0.630605, 0.582544, 0.560724]\n",
      "Transfer: [0.506944, 0.599234, nan, 0.81198, 0.585465]\n",
      "Transfer & Revision: [0.507645, 0.615693, 0.66557, 0.573372, 0.56997]\n",
      "\n",
      "\n",
      "Experiment 5\n",
      "Scratch: [0.652071, 0.532287, 0.635504, 0.57063, 0.54628]\n",
      "Transfer: [0.493208, 0.60733, 0.667788, 0.761783, 0.54071]\n",
      "Transfer & Revision: [0.495088, 0.608974, 0.629932, 0.562526, 0.552063]\n",
      "\n",
      "\n"
     ]
    },
    {
     "data": {
      "text/markdown": [
       "## Learning and Revision time"
      ],
      "text/plain": [
       "<IPython.core.display.Markdown object>"
      ]
     },
     "metadata": {},
     "output_type": "display_data"
    },
    {
     "name": "stdout",
     "output_type": "stream",
     "text": [
      "Experiment 1\n",
      "Scratch: [344.638, 252.8, 159.54500000000002, 25.856, 25.048]\n",
      "Transfer: ['202.65800000000002 (3.0)', '122.016 (2.9)', '77.688 (4.4)', '14.122 (2.8)', '11.654 (2.9)']\n",
      "Transfer & Revision: ['372.244 (3.0)', '246.71800000000002 (2.9)', '160.078 (4.4)', '37.945 (2.8)', '41.085 (2.9)']\n",
      "\n",
      "\n",
      "Experiment 2\n",
      "Scratch: [364.342, 244.099, 167.05599999999998, 26.311, 21.846]\n",
      "Transfer: ['160.876 (3.0)', '117.47999999999999 (3.0)', '77.911 (3.7)', '13.298 (2.9)', '11.594 (2.8)']\n",
      "Transfer & Revision: ['332.66999999999996 (3.0)', '233.624 (3.0)', '207.768 (3.7)', '37.661 (2.9)', '20.448 (2.8)']\n",
      "\n",
      "\n",
      "Experiment 3\n",
      "Scratch: [336.456, 231.639, 145.313, 35.53, 21.202]\n",
      "Transfer: ['160.56 (3.0)', '127.08 (3.0)', '70.80199999999999 (3.3)', '14.979 (2.8)', '12.945 (3.3)']\n",
      "Transfer & Revision: ['339.78999999999996 (3.0)', '238.933 (3.0)', '134.91899999999998 (3.3)', '42.480999999999995 (2.8)', '33.263000000000005 (3.3)']\n",
      "\n",
      "\n",
      "Experiment 4\n",
      "Scratch: [362.328, 270.233, 143.815, 27.044, 24.848]\n",
      "Transfer: ['159.975 (2.9)', '127.652 (4.4)', '71.751 (4.2)', '13.15 (2.8)', '11.14 (2.8)']\n",
      "Transfer & Revision: ['335.75699999999995 (2.9)', '261.579 (4.4)', '140.953 (4.2)', '36.982 (2.8)', '31.912 (2.8)']\n",
      "\n",
      "\n",
      "Experiment 5\n",
      "Scratch: [387.553, 213.476, 112.06, 20.663, 19.803]\n",
      "Transfer: ['185.371 (2.9)', '111.99199999999999 (2.7)', '48.202 (2.7)', '10.242 (2.7)', '10.048 (2.7)']\n",
      "Transfer & Revision: ['413.69100000000003 (2.9)', '222.65099999999998 (2.7)', '114.53399999999999 (2.7)', '29.07 (2.7)', '27.253 (2.7)']\n",
      "\n",
      "\n"
     ]
    },
    {
     "data": {
      "text/markdown": [
       "## Inference time"
      ],
      "text/plain": [
       "<IPython.core.display.Markdown object>"
      ]
     },
     "metadata": {},
     "output_type": "display_data"
    },
    {
     "name": "stdout",
     "output_type": "stream",
     "text": [
      "Experiment 1\n",
      "Scratch: [4.169, 7.254, 4.787, 5.432, 6.272]\n",
      "Transfer: [4.17, 4.415, 4.751, 5.186, 6.736]\n",
      "Transfer & Revision: [4.199, 5.194, 6.033, 5.358, 6.435]\n",
      "\n",
      "\n",
      "Experiment 2\n",
      "Scratch: [4.208, 5.38, 5.686, 5.502, 5.759]\n",
      "Transfer: [4.337, 4.122, 4.619, 4.922, 6.014]\n",
      "Transfer & Revision: [4.142, 4.538, 4.37, 5.633, 5.581]\n",
      "\n",
      "\n",
      "Experiment 3\n",
      "Scratch: [4.713, 6.638, 6.618, 7.067, 6.736]\n",
      "Transfer: [4.015, 4.964, 4.345, 5.545, 6.108]\n",
      "Transfer & Revision: [4.019, 4.704, 5.906, 8.009, 5.687]\n",
      "\n",
      "\n",
      "Experiment 4\n",
      "Scratch: [5.781, 5.007, 4.999, 5.478, 5.83]\n",
      "Transfer: [3.711, 4.632, 4.319, 5.708, 5.271]\n",
      "Transfer & Revision: [4.171, 6.158, 3.825, 4.963, 5.495]\n",
      "\n",
      "\n",
      "Experiment 5\n",
      "Scratch: [3.826, 4.28, 3.885, 4.16, 5.543]\n",
      "Transfer: [4.011, 3.888, 2.424, 4.444, 4.41]\n",
      "Transfer & Revision: [3.961, 3.367, 4.432, 4.607, 4.791]\n",
      "\n",
      "\n"
     ]
    },
    {
     "data": {
      "text/markdown": [
       "# Results for 49_imdb_facebook"
      ],
      "text/plain": [
       "<IPython.core.display.Markdown object>"
      ]
     },
     "metadata": {},
     "output_type": "display_data"
    },
    {
     "data": {
      "text/markdown": [
       "# Results for 50_uwcse_facebook"
      ],
      "text/plain": [
       "<IPython.core.display.Markdown object>"
      ]
     },
     "metadata": {},
     "output_type": "display_data"
    }
   ],
   "source": [
    "for j in range(len(experiments)):\n",
    "    dataset = experiments[j]['id'] + '_' + experiments[j]['source'] + '_' + experiments[j]['target']\n",
    "    display(Markdown('# Results for ' + dataset))\n",
    "    table = []\n",
    "    for metric in ['AUC ROC', 'AUC PR', 'CLL', 'Recall', 'F1', 'Precision', 'Learning and Revision time', 'Inference time']:\n",
    "    #for metric in ['AUC ROC', 'AUC PR']:\n",
    "        if dataset in data['results']: \n",
    "            #for metric in ['AUC ROC', 'AUC PR']:\n",
    "            display(Markdown('## ' + metric))\n",
    "            if metric == 'Precision':\n",
    "                for m in range(len(data['results'][str(dataset)])):\n",
    "                    print('Experiment %s' % (m+1))\n",
    "                    sc = [item['scratch']['Precision'][0] for item in data['results'][str(dataset)][m]]\n",
    "                    pr = [item['transfer']['Parameter Learning results']['Precision'][0] for item in data['results'][str(dataset)][m]]\n",
    "                    tr = [item['transfer']['Precision'][0] for item in data['results'][str(dataset)][m]] \n",
    "                    print('Scratch: %s' % sc)\n",
    "                    print('Transfer: %s' % pr)\n",
    "                    print('Transfer & Revision: %s' % tr) \n",
    "                    print('\\n')\n",
    "                #scratch = np.array([item['scratch']['Precision'][0] for sublist in data['results'][str(dataset)] for item in sublist])\n",
    "                #parameter = np.array([item['transfer']['Parameter Learning results']['Precision'][0] for sublist in data['results'][str(dataset)] for item in sublist])\n",
    "                #transfer = np.array([item['transfer']['Precision'][0] for sublist in data['results'][str(dataset)] for item in sublist])\n",
    "            elif metric == 'Learning and Revision time':\n",
    "                for m in range(len(data['results'][str(dataset)])):\n",
    "                    print('Experiment %s' % (m+1))\n",
    "                    sc = [item['scratch']['Learning time'] for item in data['results'][str(dataset)][m]]\n",
    "                    pr = ['%s (%.1f)' % (item['transfer']['Parameter Learning results']['Learning time'], item['transfer']['Mapping results']['Total time']) for item in data['results'][str(dataset)][m]]\n",
    "                    tr = ['%s (%.1f)' % (item['transfer']['Learning time'], item['transfer']['Mapping results']['Total time']) for item in data['results'][str(dataset)][m]] \n",
    "                    print('Scratch: %s' % sc)\n",
    "                    print('Transfer: %s' % pr)\n",
    "                    print('Transfer & Revision: %s' % tr) \n",
    "                    print('\\n')\n",
    "                #scratch = np.array([item['scratch']['Learning time'] for sublist in data['results'][str(dataset)] for item in sublist])\n",
    "                #parameter = np.array([item['transfer']['Parameter Learning results']['Learning time'] for sublist in data['results'][str(dataset)] for item in sublist])\n",
    "                #transfer = np.array([item['transfer']['Learning time'] for sublist in data['results'][str(dataset)] for item in sublist])\n",
    "            elif metric == 'Inference time':\n",
    "                for m in range(len(data['results'][str(dataset)])):\n",
    "                    print('Experiment %s' % (m+1))\n",
    "                    sc = [item['scratch']['Inference time'] for item in data['results'][str(dataset)][m]]\n",
    "                    pr = [item['transfer']['Parameter Learning results']['Inference time'] for item in data['results'][str(dataset)][m]]\n",
    "                    tr = [item['transfer']['Inference time'] for item in data['results'][str(dataset)][m]] \n",
    "                    print('Scratch: %s' % sc)\n",
    "                    print('Transfer: %s' % pr)\n",
    "                    print('Transfer & Revision: %s' % tr) \n",
    "                    print('\\n')\n",
    "                #scratch = np.array([item['scratch']['Inference time'] for sublist in data['results'][str(dataset)] for item in sublist])\n",
    "                #parameter = np.array([item['transfer']['Parameter Learning results']['Learning time'] for sublist in data['results'][str(dataset)] for item in sublist])\n",
    "                #transfer = np.array([item['transfer']['Inference time'] for sublist in data['results'][str(dataset)] for item in sublist])\n",
    "            else:\n",
    "                for m in range(len(data['results'][str(dataset)])):\n",
    "                    print('Experiment %s' % (m+1))\n",
    "                    sc = [item['scratch'][metric] for item in data['results'][str(dataset)][m]]\n",
    "                    pr = [item['transfer']['Parameter Learning results'][metric] for item in data['results'][str(dataset)][m]]\n",
    "                    tr = [item['transfer'][metric] for item in data['results'][str(dataset)][m]] \n",
    "                    pvalue = stats.ttest_rel(tr,sc)\n",
    "                    print(pvalue)\n",
    "                    pvalue_table = []\n",
    "                    pvalue_table.append(['transferRDN-B Ref', '%.3f' % (pvalue[1])])\n",
    "                    pvalue = stats.ttest_rel(pr, sc)\n",
    "                    print(pvalue)\n",
    "                    pvalue_table.append(['transferRDN-B', '%.3f' % (pvalue[1])])\n",
    "                    display(pd.DataFrame(pvalue_table, columns=['p-value', 'RDN-B']))\n",
    "                    print('Scratch: %s' % sc)\n",
    "                    print('Transfer: %s' % pr)\n",
    "                    print('Transfer & Revision: %s' % tr) \n",
    "                    print('\\n')\n",
    "                #scratch = np.array([item['scratch'][metric] for sublist in data['results'][str(dataset)] for item in sublist])\n",
    "                #parameter = np.array([item['transfer']['Parameter Learning results'][metric] for sublist in data['results'][str(dataset)] for item in sublist])\n",
    "                #transfer = np.array([item['transfer'][metric] for sublist in data['results'][str(dataset)] for item in sublist])\n",
    "            #print('\\n')\n",
    "            #print('Scratch: %s' % scratch)\n",
    "            #print('Transfer: %s' % parameter)\n",
    "            #print('Transfer & Revision: %s' % transfer)"
   ]
  },
  {
   "cell_type": "code",
   "execution_count": null,
   "metadata": {
    "collapsed": true
   },
   "outputs": [],
   "source": []
  }
 ],
 "metadata": {
  "anaconda-cloud": {},
  "kernelspec": {
   "display_name": "Python [conda env:anaconda3]",
   "language": "python",
   "name": "conda-env-anaconda3-py"
  },
  "language_info": {
   "codemirror_mode": {
    "name": "ipython",
    "version": 3
   },
   "file_extension": ".py",
   "mimetype": "text/x-python",
   "name": "python",
   "nbconvert_exporter": "python",
   "pygments_lexer": "ipython3",
   "version": "3.5.2"
  }
 },
 "nbformat": 4,
 "nbformat_minor": 1
}
