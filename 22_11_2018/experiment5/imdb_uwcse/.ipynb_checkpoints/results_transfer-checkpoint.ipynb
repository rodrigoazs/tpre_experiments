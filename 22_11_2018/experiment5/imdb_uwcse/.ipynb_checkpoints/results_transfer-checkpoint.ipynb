{
 "cells": [
  {
   "cell_type": "code",
   "execution_count": 13,
   "metadata": {
    "collapsed": false
   },
   "outputs": [],
   "source": [
    "import matplotlib.pyplot as plt\n",
    "from IPython.display import display, Markdown, Latex\n",
    "import numpy as np\n",
    "import json\n",
    "import pandas as pd\n",
    "from scipy import stats\n",
    "\n",
    "with open('transfer_experiment.json', 'r') as fp:\n",
    "    data = json.load(fp)"
   ]
  },
  {
   "cell_type": "code",
   "execution_count": 14,
   "metadata": {
    "collapsed": false,
    "scrolled": false
   },
   "outputs": [
    {
     "data": {
      "text/markdown": [
       "# Results for AUC ROC"
      ],
      "text/plain": [
       "<IPython.core.display.Markdown object>"
      ]
     },
     "metadata": {},
     "output_type": "display_data"
    },
    {
     "data": {
      "text/html": [
       "<div>\n",
       "<table border=\"1\" class=\"dataframe\">\n",
       "  <thead>\n",
       "    <tr style=\"text-align: right;\">\n",
       "      <th></th>\n",
       "      <th>Experiment</th>\n",
       "      <th>Transfer Learning</th>\n",
       "      <th>Transfer Learning with Revision Theory</th>\n",
       "      <th>Learning from scratch</th>\n",
       "    </tr>\n",
       "  </thead>\n",
       "  <tbody>\n",
       "    <tr>\n",
       "      <th>0</th>\n",
       "      <td>49_imdb_facebook</td>\n",
       "      <td>0.578 +/- 0.068</td>\n",
       "      <td>0.587 +/- 0.070</td>\n",
       "      <td>0.581 +/- 0.061</td>\n",
       "    </tr>\n",
       "    <tr>\n",
       "      <th>1</th>\n",
       "      <td>50_uwcse_facebook</td>\n",
       "      <td>0.574 +/- 0.125</td>\n",
       "      <td>0.583 +/- 0.061</td>\n",
       "      <td>0.582 +/- 0.063</td>\n",
       "    </tr>\n",
       "  </tbody>\n",
       "</table>\n",
       "</div>"
      ],
      "text/plain": [
       "          Experiment Transfer Learning Transfer Learning with Revision Theory  \\\n",
       "0   49_imdb_facebook   0.578 +/- 0.068                        0.587 +/- 0.070   \n",
       "1  50_uwcse_facebook   0.574 +/- 0.125                        0.583 +/- 0.061   \n",
       "\n",
       "  Learning from scratch  \n",
       "0       0.581 +/- 0.061  \n",
       "1       0.582 +/- 0.063  "
      ]
     },
     "metadata": {},
     "output_type": "display_data"
    },
    {
     "data": {
      "text/markdown": [
       "# Results for AUC PR"
      ],
      "text/plain": [
       "<IPython.core.display.Markdown object>"
      ]
     },
     "metadata": {},
     "output_type": "display_data"
    },
    {
     "data": {
      "text/html": [
       "<div>\n",
       "<table border=\"1\" class=\"dataframe\">\n",
       "  <thead>\n",
       "    <tr style=\"text-align: right;\">\n",
       "      <th></th>\n",
       "      <th>Experiment</th>\n",
       "      <th>Transfer Learning</th>\n",
       "      <th>Transfer Learning with Revision Theory</th>\n",
       "      <th>Learning from scratch</th>\n",
       "    </tr>\n",
       "  </thead>\n",
       "  <tbody>\n",
       "    <tr>\n",
       "      <th>0</th>\n",
       "      <td>49_imdb_facebook</td>\n",
       "      <td>0.578 +/- 0.061</td>\n",
       "      <td>0.578 +/- 0.059</td>\n",
       "      <td>0.578 +/- 0.050</td>\n",
       "    </tr>\n",
       "    <tr>\n",
       "      <th>1</th>\n",
       "      <td>50_uwcse_facebook</td>\n",
       "      <td>0.565 +/- 0.098</td>\n",
       "      <td>0.578 +/- 0.047</td>\n",
       "      <td>0.578 +/- 0.057</td>\n",
       "    </tr>\n",
       "  </tbody>\n",
       "</table>\n",
       "</div>"
      ],
      "text/plain": [
       "          Experiment Transfer Learning Transfer Learning with Revision Theory  \\\n",
       "0   49_imdb_facebook   0.578 +/- 0.061                        0.578 +/- 0.059   \n",
       "1  50_uwcse_facebook   0.565 +/- 0.098                        0.578 +/- 0.047   \n",
       "\n",
       "  Learning from scratch  \n",
       "0       0.578 +/- 0.050  \n",
       "1       0.578 +/- 0.057  "
      ]
     },
     "metadata": {},
     "output_type": "display_data"
    },
    {
     "data": {
      "text/markdown": [
       "# Results for CLL"
      ],
      "text/plain": [
       "<IPython.core.display.Markdown object>"
      ]
     },
     "metadata": {},
     "output_type": "display_data"
    },
    {
     "data": {
      "text/html": [
       "<div>\n",
       "<table border=\"1\" class=\"dataframe\">\n",
       "  <thead>\n",
       "    <tr style=\"text-align: right;\">\n",
       "      <th></th>\n",
       "      <th>Experiment</th>\n",
       "      <th>Transfer Learning</th>\n",
       "      <th>Transfer Learning with Revision Theory</th>\n",
       "      <th>Learning from scratch</th>\n",
       "    </tr>\n",
       "  </thead>\n",
       "  <tbody>\n",
       "    <tr>\n",
       "      <th>0</th>\n",
       "      <td>49_imdb_facebook</td>\n",
       "      <td>-0.682 +/- 0.016</td>\n",
       "      <td>-0.708 +/- 0.045</td>\n",
       "      <td>-0.715 +/- 0.055</td>\n",
       "    </tr>\n",
       "    <tr>\n",
       "      <th>1</th>\n",
       "      <td>50_uwcse_facebook</td>\n",
       "      <td>-0.685 +/- 0.024</td>\n",
       "      <td>-0.706 +/- 0.050</td>\n",
       "      <td>-0.713 +/- 0.058</td>\n",
       "    </tr>\n",
       "  </tbody>\n",
       "</table>\n",
       "</div>"
      ],
      "text/plain": [
       "          Experiment Transfer Learning Transfer Learning with Revision Theory  \\\n",
       "0   49_imdb_facebook  -0.682 +/- 0.016                       -0.708 +/- 0.045   \n",
       "1  50_uwcse_facebook  -0.685 +/- 0.024                       -0.706 +/- 0.050   \n",
       "\n",
       "  Learning from scratch  \n",
       "0      -0.715 +/- 0.055  \n",
       "1      -0.713 +/- 0.058  "
      ]
     },
     "metadata": {},
     "output_type": "display_data"
    },
    {
     "data": {
      "text/markdown": [
       "# Results for Recall"
      ],
      "text/plain": [
       "<IPython.core.display.Markdown object>"
      ]
     },
     "metadata": {},
     "output_type": "display_data"
    },
    {
     "data": {
      "text/html": [
       "<div>\n",
       "<table border=\"1\" class=\"dataframe\">\n",
       "  <thead>\n",
       "    <tr style=\"text-align: right;\">\n",
       "      <th></th>\n",
       "      <th>Experiment</th>\n",
       "      <th>Transfer Learning</th>\n",
       "      <th>Transfer Learning with Revision Theory</th>\n",
       "      <th>Learning from scratch</th>\n",
       "    </tr>\n",
       "  </thead>\n",
       "  <tbody>\n",
       "    <tr>\n",
       "      <th>0</th>\n",
       "      <td>49_imdb_facebook</td>\n",
       "      <td>0.321 +/- 0.279</td>\n",
       "      <td>0.393 +/- 0.344</td>\n",
       "      <td>0.391 +/- 0.295</td>\n",
       "    </tr>\n",
       "    <tr>\n",
       "      <th>1</th>\n",
       "      <td>50_uwcse_facebook</td>\n",
       "      <td>0.244 +/- 0.342</td>\n",
       "      <td>0.380 +/- 0.308</td>\n",
       "      <td>0.377 +/- 0.288</td>\n",
       "    </tr>\n",
       "  </tbody>\n",
       "</table>\n",
       "</div>"
      ],
      "text/plain": [
       "          Experiment Transfer Learning Transfer Learning with Revision Theory  \\\n",
       "0   49_imdb_facebook   0.321 +/- 0.279                        0.393 +/- 0.344   \n",
       "1  50_uwcse_facebook   0.244 +/- 0.342                        0.380 +/- 0.308   \n",
       "\n",
       "  Learning from scratch  \n",
       "0       0.391 +/- 0.295  \n",
       "1       0.377 +/- 0.288  "
      ]
     },
     "metadata": {},
     "output_type": "display_data"
    },
    {
     "data": {
      "text/markdown": [
       "# Results for F1"
      ],
      "text/plain": [
       "<IPython.core.display.Markdown object>"
      ]
     },
     "metadata": {},
     "output_type": "display_data"
    },
    {
     "data": {
      "text/html": [
       "<div>\n",
       "<table border=\"1\" class=\"dataframe\">\n",
       "  <thead>\n",
       "    <tr style=\"text-align: right;\">\n",
       "      <th></th>\n",
       "      <th>Experiment</th>\n",
       "      <th>Transfer Learning</th>\n",
       "      <th>Transfer Learning with Revision Theory</th>\n",
       "      <th>Learning from scratch</th>\n",
       "    </tr>\n",
       "  </thead>\n",
       "  <tbody>\n",
       "    <tr>\n",
       "      <th>0</th>\n",
       "      <td>49_imdb_facebook</td>\n",
       "      <td>nan +/- nan</td>\n",
       "      <td>0.449 +/- 0.190</td>\n",
       "      <td>0.453 +/- 0.175</td>\n",
       "    </tr>\n",
       "    <tr>\n",
       "      <th>1</th>\n",
       "      <td>50_uwcse_facebook</td>\n",
       "      <td>nan +/- nan</td>\n",
       "      <td>0.443 +/- 0.194</td>\n",
       "      <td>0.443 +/- 0.167</td>\n",
       "    </tr>\n",
       "  </tbody>\n",
       "</table>\n",
       "</div>"
      ],
      "text/plain": [
       "          Experiment Transfer Learning Transfer Learning with Revision Theory  \\\n",
       "0   49_imdb_facebook       nan +/- nan                        0.449 +/- 0.190   \n",
       "1  50_uwcse_facebook       nan +/- nan                        0.443 +/- 0.194   \n",
       "\n",
       "  Learning from scratch  \n",
       "0       0.453 +/- 0.175  \n",
       "1       0.443 +/- 0.167  "
      ]
     },
     "metadata": {},
     "output_type": "display_data"
    },
    {
     "data": {
      "text/markdown": [
       "# Results for Precision"
      ],
      "text/plain": [
       "<IPython.core.display.Markdown object>"
      ]
     },
     "metadata": {},
     "output_type": "display_data"
    },
    {
     "data": {
      "text/html": [
       "<div>\n",
       "<table border=\"1\" class=\"dataframe\">\n",
       "  <thead>\n",
       "    <tr style=\"text-align: right;\">\n",
       "      <th></th>\n",
       "      <th>Experiment</th>\n",
       "      <th>Transfer Learning</th>\n",
       "      <th>Transfer Learning with Revision Theory</th>\n",
       "      <th>Learning from scratch</th>\n",
       "    </tr>\n",
       "  </thead>\n",
       "  <tbody>\n",
       "    <tr>\n",
       "      <th>0</th>\n",
       "      <td>49_imdb_facebook</td>\n",
       "      <td>nan +/- nan</td>\n",
       "      <td>0.596 +/- 0.099</td>\n",
       "      <td>0.593 +/- 0.089</td>\n",
       "    </tr>\n",
       "    <tr>\n",
       "      <th>1</th>\n",
       "      <td>50_uwcse_facebook</td>\n",
       "      <td>nan +/- nan</td>\n",
       "      <td>0.593 +/- 0.083</td>\n",
       "      <td>0.597 +/- 0.100</td>\n",
       "    </tr>\n",
       "  </tbody>\n",
       "</table>\n",
       "</div>"
      ],
      "text/plain": [
       "          Experiment Transfer Learning Transfer Learning with Revision Theory  \\\n",
       "0   49_imdb_facebook       nan +/- nan                        0.596 +/- 0.099   \n",
       "1  50_uwcse_facebook       nan +/- nan                        0.593 +/- 0.083   \n",
       "\n",
       "  Learning from scratch  \n",
       "0       0.593 +/- 0.089  \n",
       "1       0.597 +/- 0.100  "
      ]
     },
     "metadata": {},
     "output_type": "display_data"
    },
    {
     "data": {
      "text/markdown": [
       "# Results for Learning and Revision time"
      ],
      "text/plain": [
       "<IPython.core.display.Markdown object>"
      ]
     },
     "metadata": {},
     "output_type": "display_data"
    },
    {
     "data": {
      "text/html": [
       "<div>\n",
       "<table border=\"1\" class=\"dataframe\">\n",
       "  <thead>\n",
       "    <tr style=\"text-align: right;\">\n",
       "      <th></th>\n",
       "      <th>Experiment</th>\n",
       "      <th>Transfer Learning</th>\n",
       "      <th>Transfer Learning with Revision Theory</th>\n",
       "      <th>Learning from scratch</th>\n",
       "    </tr>\n",
       "  </thead>\n",
       "  <tbody>\n",
       "    <tr>\n",
       "      <th>0</th>\n",
       "      <td>49_imdb_facebook</td>\n",
       "      <td>87.354 +/- 158.743 (2.7)</td>\n",
       "      <td>220.229 +/- 381.423 (2.7)</td>\n",
       "      <td>149.193 +/- 246.466</td>\n",
       "    </tr>\n",
       "    <tr>\n",
       "      <th>1</th>\n",
       "      <td>50_uwcse_facebook</td>\n",
       "      <td>82.445 +/- 144.029 (5.6)</td>\n",
       "      <td>229.526 +/- 393.074 (5.6)</td>\n",
       "      <td>155.405 +/- 257.726</td>\n",
       "    </tr>\n",
       "  </tbody>\n",
       "</table>\n",
       "</div>"
      ],
      "text/plain": [
       "          Experiment         Transfer Learning  \\\n",
       "0   49_imdb_facebook  87.354 +/- 158.743 (2.7)   \n",
       "1  50_uwcse_facebook  82.445 +/- 144.029 (5.6)   \n",
       "\n",
       "  Transfer Learning with Revision Theory Learning from scratch  \n",
       "0              220.229 +/- 381.423 (2.7)   149.193 +/- 246.466  \n",
       "1              229.526 +/- 393.074 (5.6)   155.405 +/- 257.726  "
      ]
     },
     "metadata": {},
     "output_type": "display_data"
    },
    {
     "data": {
      "text/markdown": [
       "# Results for Inference time"
      ],
      "text/plain": [
       "<IPython.core.display.Markdown object>"
      ]
     },
     "metadata": {},
     "output_type": "display_data"
    },
    {
     "data": {
      "text/html": [
       "<div>\n",
       "<table border=\"1\" class=\"dataframe\">\n",
       "  <thead>\n",
       "    <tr style=\"text-align: right;\">\n",
       "      <th></th>\n",
       "      <th>Experiment</th>\n",
       "      <th>Transfer Learning</th>\n",
       "      <th>Transfer Learning with Revision Theory</th>\n",
       "      <th>Learning from scratch</th>\n",
       "    </tr>\n",
       "  </thead>\n",
       "  <tbody>\n",
       "    <tr>\n",
       "      <th>0</th>\n",
       "      <td>49_imdb_facebook</td>\n",
       "      <td>87.354 +/- 158.743</td>\n",
       "      <td>5.755 +/- 1.529</td>\n",
       "      <td>5.683 +/- 1.442</td>\n",
       "    </tr>\n",
       "    <tr>\n",
       "      <th>1</th>\n",
       "      <td>50_uwcse_facebook</td>\n",
       "      <td>82.445 +/- 144.029</td>\n",
       "      <td>15.924 +/- 32.388</td>\n",
       "      <td>5.853 +/- 1.693</td>\n",
       "    </tr>\n",
       "  </tbody>\n",
       "</table>\n",
       "</div>"
      ],
      "text/plain": [
       "          Experiment   Transfer Learning  \\\n",
       "0   49_imdb_facebook  87.354 +/- 158.743   \n",
       "1  50_uwcse_facebook  82.445 +/- 144.029   \n",
       "\n",
       "  Transfer Learning with Revision Theory Learning from scratch  \n",
       "0                        5.755 +/- 1.529       5.683 +/- 1.442  \n",
       "1                      15.924 +/- 32.388       5.853 +/- 1.693  "
      ]
     },
     "metadata": {},
     "output_type": "display_data"
    }
   ],
   "source": [
    "experiments = [\n",
    "            {'id': '1', 'source':'imdb', 'target':'uwcse', 'predicate':'workedunder', 'to_predicate':'advisedby'},\n",
    "            {'id': '2', 'source':'uwcse', 'target':'imdb', 'predicate':'advisedby', 'to_predicate':'workedunder'},\n",
    "            {'id': '3', 'source':'imdb', 'target':'uwcse', 'predicate':'movie', 'to_predicate':'publication'},\n",
    "            {'id': '4', 'source':'uwcse', 'target':'imdb', 'predicate':'publication', 'to_predicate':'movie'},\n",
    "            {'id': '5', 'source':'imdb', 'target':'uwcse', 'predicate':'genre', 'to_predicate':'inphase'},\n",
    "            {'id': '6', 'source':'uwcse', 'target':'imdb', 'predicate':'inphase', 'to_predicate':'genre'},\n",
    "            {'id': '7', 'source':'imdb', 'target':'cora', 'predicate':'workedunder', 'to_predicate':'samevenue'},\n",
    "            {'id': '8', 'source':'imdb', 'target':'cora', 'predicate':'workedunder', 'to_predicate':'samebib'},\n",
    "            {'id': '9', 'source':'imdb', 'target':'cora', 'predicate':'workedunder', 'to_predicate':'sameauthor'},\n",
    "            {'id': '10', 'source':'imdb', 'target':'cora', 'predicate':'workedunder', 'to_predicate':'sametitle'},\n",
    "            {'id': '11', 'source':'uwcse', 'target':'cora', 'predicate':'advisedby', 'to_predicate':'samevenue'},\n",
    "            {'id': '12', 'source':'uwcse', 'target':'cora', 'predicate':'advisedby', 'to_predicate':'samebib'},\n",
    "            {'id': '13', 'source':'uwcse', 'target':'cora', 'predicate':'advisedby', 'to_predicate':'sameauthor'},\n",
    "            {'id': '14', 'source':'uwcse', 'target':'cora', 'predicate':'advisedby', 'to_predicate':'sametitle'},\n",
    "            {'id': '15', 'source':'yeast', 'target':'twitter', 'predicate':'proteinclass', 'to_predicate':'accounttype'},\n",
    "            {'id': '16', 'source':'yeast', 'target':'twitter', 'predicate':'interaction', 'to_predicate':'follows'},\n",
    "            {'id': '17', 'source':'yeast', 'target':'twitter', 'predicate':'location', 'to_predicate':'tweets'},\n",
    "            {'id': '18', 'source':'yeast', 'target':'twitter', 'predicate':'enzyme', 'to_predicate':'tweets'},\n",
    "            {'id': '19', 'source':'yeast', 'target':'twitter', 'predicate':'function', 'to_predicate':'tweets'},\n",
    "            {'id': '20', 'source':'yeast', 'target':'twitter', 'predicate':'phenotype', 'to_predicate':'tweets'},\n",
    "            {'id': '21', 'source':'yeast', 'target':'twitter', 'predicate':'complex', 'to_predicate':'tweets'},\n",
    "            {'id': '22', 'source':'twitter', 'target':'yeast', 'predicate':'accounttype', 'to_predicate':'proteinclass'},\n",
    "            {'id': '23', 'source':'twitter', 'target':'yeast', 'predicate':'follows', 'to_predicate':'interaction'},\n",
    "            {'id': '24', 'source':'twitter', 'target':'yeast', 'predicate':'tweets', 'to_predicate':'location'},\n",
    "            {'id': '25', 'source':'twitter', 'target':'yeast', 'predicate':'tweets', 'to_predicate':'enzyme'},\n",
    "            {'id': '26', 'source':'twitter', 'target':'yeast', 'predicate':'tweets', 'to_predicate':'function'},\n",
    "            {'id': '27', 'source':'twitter', 'target':'yeast', 'predicate':'tweets', 'to_predicate':'phenotype'},\n",
    "            {'id': '28', 'source':'twitter', 'target':'yeast', 'predicate':'tweets', 'to_predicate':'complex'},\n",
    "            {'id': '29', 'source':'nell_sports', 'target':'nell_finances', 'predicate':'teamalsoknownas', 'to_predicate':'companyalsoknownas'},\n",
    "            {'id': '30', 'source':'nell_sports', 'target':'nell_finances', 'predicate':'teamplaysagainstteam', 'to_predicate':'companyalsoknownas'},\n",
    "            {'id': '31', 'source':'nell_sports', 'target':'nell_finances', 'predicate':'teamplaysagainstteam', 'to_predicate':'acquired'},\n",
    "            {'id': '32', 'source':'nell_sports', 'target':'nell_finances', 'predicate':'teamplaysagainstteam', 'to_predicate':'bankboughtbank'},\n",
    "            {'id': '33', 'source':'nell_sports', 'target':'nell_finances', 'predicate':'athleteplayssport', 'to_predicate':'companyceo'},\n",
    "            {'id': '34', 'source':'nell_sports', 'target':'nell_finances', 'predicate':'athleteplayssport', 'to_predicate':'bankchiefexecutiveceo'},\n",
    "            {'id': '35', 'source':'nell_sports', 'target':'nell_finances', 'predicate':'athleteplaysforteam', 'to_predicate':'bankchiefexecutiveceo'},\n",
    "            {'id': '36', 'source':'nell_sports', 'target':'nell_finances', 'predicate':'athleteplaysforteam', 'to_predicate':'companyceo'},\n",
    "            {'id': '37', 'source':'nell_sports', 'target':'nell_finances', 'predicate':'teamplayssport', 'to_predicate':'companyeconomicsector'},\n",
    "            {'id': '38', 'source':'nell_finances', 'target':'nell_sports', 'predicate':'companyalsoknownas', 'to_predicate':'teamalsoknownas'},\n",
    "            {'id': '39', 'source':'nell_finances', 'target':'nell_sports', 'predicate':'companyalsoknownas', 'to_predicate':'teamplaysagainstteam'},\n",
    "            {'id': '40', 'source':'nell_finances', 'target':'nell_sports', 'predicate':'acquired', 'to_predicate':'teamplaysagainstteam'},\n",
    "            {'id': '41', 'source':'nell_finances', 'target':'nell_sports', 'predicate':'bankboughtbank', 'to_predicate':'teamplaysagainstteam'},\n",
    "            {'id': '42', 'source':'nell_finances', 'target':'nell_sports', 'predicate':'companyceo', 'to_predicate':'athleteplayssport'},\n",
    "            {'id': '43', 'source':'nell_finances', 'target':'nell_sports', 'predicate':'bankchiefexecutiveceo', 'to_predicate':'athleteplayssport'},\n",
    "            {'id': '44', 'source':'nell_finances', 'target':'nell_sports', 'predicate':'bankchiefexecutiveceo', 'to_predicate':'athleteplaysforteam'},\n",
    "            {'id': '45', 'source':'nell_finances', 'target':'nell_sports', 'predicate':'companyceo', 'to_predicate':'athleteplaysforteam'},\n",
    "            {'id': '46', 'source':'nell_finances', 'target':'nell_sports', 'predicate':'companyeconomicsector', 'to_predicate':'teamplayssport'},\n",
    "            {'id': '47', 'source':'yeast', 'target':'facebook', 'predicate':'interaction', 'to_predicate':'edge'},\n",
    "            {'id': '48', 'source':'twitter', 'target':'facebook', 'predicate':'follows', 'to_predicate':'edge'},\n",
    "            {'id': '49', 'source':'imdb', 'target':'facebook', 'predicate':'workedunder', 'to_predicate':'edge'},\n",
    "            {'id': '50', 'source':'uwcse', 'target':'facebook', 'predicate':'advisedby', 'to_predicate':'edge'},\n",
    "]\n",
    "\n",
    "for metric in ['AUC ROC', 'AUC PR', 'CLL', 'Recall', 'F1', 'Precision', 'Learning and Revision time', 'Inference time']:\n",
    "    display(Markdown('# Results for ' + metric))\n",
    "    table = []\n",
    "    for j in range(len(experiments)):\n",
    "        dataset = experiments[j]['id'] + '_' + experiments[j]['source'] + '_' + experiments[j]['target']\n",
    "        if dataset in data['results']: \n",
    "            #for metric in ['AUC ROC', 'AUC PR']:\n",
    "                #display(Markdown('## ' + metric))\n",
    "            mapping_time = ''\n",
    "            if metric == 'Precision':\n",
    "                scratch = np.array([item['scratch']['Precision'][0] for sublist in data['results'][str(dataset)] for item in sublist])\n",
    "                parameter = np.array([item['transfer']['Parameter Learning results']['Precision'][0] for sublist in data['results'][str(dataset)] for item in sublist])\n",
    "                transfer = np.array([item['transfer']['Precision'][0] for sublist in data['results'][str(dataset)] for item in sublist])\n",
    "            elif metric == 'Learning and Revision time':\n",
    "                scratch = np.array([item['scratch']['Learning time'] for sublist in data['results'][str(dataset)] for item in sublist])\n",
    "                parameter = np.array([item['transfer']['Parameter Learning results']['Learning time'] for sublist in data['results'][str(dataset)] for item in sublist])\n",
    "                transfer = np.array([item['transfer']['Learning time'] for sublist in data['results'][str(dataset)] for item in sublist])\n",
    "                mapping = np.array([item['transfer']['Mapping results']['Total time'] for sublist in data['results'][str(dataset)] for item in sublist])\n",
    "                mapping_time = ' (%.1f)' % mapping.mean()\n",
    "            elif metric == 'Inference time':\n",
    "                scratch = np.array([item['scratch']['Inference time'] for sublist in data['results'][str(dataset)] for item in sublist])\n",
    "                parameter = np.array([item['transfer']['Parameter Learning results']['Learning time'] for sublist in data['results'][str(dataset)] for item in sublist])\n",
    "                transfer = np.array([item['transfer']['Inference time'] for sublist in data['results'][str(dataset)] for item in sublist])\n",
    "            else:\n",
    "                scratch = np.array([item['scratch'][metric] for sublist in data['results'][str(dataset)] for item in sublist])\n",
    "                parameter = np.array([item['transfer']['Parameter Learning results'][metric] for sublist in data['results'][str(dataset)] for item in sublist])\n",
    "                transfer = np.array([item['transfer'][metric] for sublist in data['results'][str(dataset)] for item in sublist])\n",
    "            table.append([dataset, '%.3f +/- %.3f%s' % (parameter.mean(), 2 * parameter.std(), mapping_time),\n",
    "            '%.3f +/- %.3f%s' % (transfer.mean(), 2 * transfer.std(), mapping_time),\n",
    "            '%.3f +/- %.3f' % (scratch.mean(), 2 * scratch.std())])\n",
    "    display(pd.DataFrame(table, columns=['Experiment', 'Transfer Learning', 'Transfer Learning with Revision Theory', 'Learning from scratch']))"
   ]
  },
  {
   "cell_type": "code",
   "execution_count": 15,
   "metadata": {
    "collapsed": false
   },
   "outputs": [
    {
     "data": {
      "text/markdown": [
       "# Results for 1_imdb_uwcse"
      ],
      "text/plain": [
       "<IPython.core.display.Markdown object>"
      ]
     },
     "metadata": {},
     "output_type": "display_data"
    },
    {
     "data": {
      "text/markdown": [
       "# Results for 2_uwcse_imdb"
      ],
      "text/plain": [
       "<IPython.core.display.Markdown object>"
      ]
     },
     "metadata": {},
     "output_type": "display_data"
    },
    {
     "data": {
      "text/markdown": [
       "# Results for 3_imdb_uwcse"
      ],
      "text/plain": [
       "<IPython.core.display.Markdown object>"
      ]
     },
     "metadata": {},
     "output_type": "display_data"
    },
    {
     "data": {
      "text/markdown": [
       "# Results for 4_uwcse_imdb"
      ],
      "text/plain": [
       "<IPython.core.display.Markdown object>"
      ]
     },
     "metadata": {},
     "output_type": "display_data"
    },
    {
     "data": {
      "text/markdown": [
       "# Results for 5_imdb_uwcse"
      ],
      "text/plain": [
       "<IPython.core.display.Markdown object>"
      ]
     },
     "metadata": {},
     "output_type": "display_data"
    },
    {
     "data": {
      "text/markdown": [
       "# Results for 6_uwcse_imdb"
      ],
      "text/plain": [
       "<IPython.core.display.Markdown object>"
      ]
     },
     "metadata": {},
     "output_type": "display_data"
    },
    {
     "data": {
      "text/markdown": [
       "# Results for 7_imdb_cora"
      ],
      "text/plain": [
       "<IPython.core.display.Markdown object>"
      ]
     },
     "metadata": {},
     "output_type": "display_data"
    },
    {
     "data": {
      "text/markdown": [
       "# Results for 8_imdb_cora"
      ],
      "text/plain": [
       "<IPython.core.display.Markdown object>"
      ]
     },
     "metadata": {},
     "output_type": "display_data"
    },
    {
     "data": {
      "text/markdown": [
       "# Results for 9_imdb_cora"
      ],
      "text/plain": [
       "<IPython.core.display.Markdown object>"
      ]
     },
     "metadata": {},
     "output_type": "display_data"
    },
    {
     "data": {
      "text/markdown": [
       "# Results for 10_imdb_cora"
      ],
      "text/plain": [
       "<IPython.core.display.Markdown object>"
      ]
     },
     "metadata": {},
     "output_type": "display_data"
    },
    {
     "data": {
      "text/markdown": [
       "# Results for 11_uwcse_cora"
      ],
      "text/plain": [
       "<IPython.core.display.Markdown object>"
      ]
     },
     "metadata": {},
     "output_type": "display_data"
    },
    {
     "data": {
      "text/markdown": [
       "# Results for 12_uwcse_cora"
      ],
      "text/plain": [
       "<IPython.core.display.Markdown object>"
      ]
     },
     "metadata": {},
     "output_type": "display_data"
    },
    {
     "data": {
      "text/markdown": [
       "# Results for 13_uwcse_cora"
      ],
      "text/plain": [
       "<IPython.core.display.Markdown object>"
      ]
     },
     "metadata": {},
     "output_type": "display_data"
    },
    {
     "data": {
      "text/markdown": [
       "# Results for 14_uwcse_cora"
      ],
      "text/plain": [
       "<IPython.core.display.Markdown object>"
      ]
     },
     "metadata": {},
     "output_type": "display_data"
    },
    {
     "data": {
      "text/markdown": [
       "# Results for 15_yeast_twitter"
      ],
      "text/plain": [
       "<IPython.core.display.Markdown object>"
      ]
     },
     "metadata": {},
     "output_type": "display_data"
    },
    {
     "data": {
      "text/markdown": [
       "# Results for 16_yeast_twitter"
      ],
      "text/plain": [
       "<IPython.core.display.Markdown object>"
      ]
     },
     "metadata": {},
     "output_type": "display_data"
    },
    {
     "data": {
      "text/markdown": [
       "# Results for 17_yeast_twitter"
      ],
      "text/plain": [
       "<IPython.core.display.Markdown object>"
      ]
     },
     "metadata": {},
     "output_type": "display_data"
    },
    {
     "data": {
      "text/markdown": [
       "# Results for 18_yeast_twitter"
      ],
      "text/plain": [
       "<IPython.core.display.Markdown object>"
      ]
     },
     "metadata": {},
     "output_type": "display_data"
    },
    {
     "data": {
      "text/markdown": [
       "# Results for 19_yeast_twitter"
      ],
      "text/plain": [
       "<IPython.core.display.Markdown object>"
      ]
     },
     "metadata": {},
     "output_type": "display_data"
    },
    {
     "data": {
      "text/markdown": [
       "# Results for 20_yeast_twitter"
      ],
      "text/plain": [
       "<IPython.core.display.Markdown object>"
      ]
     },
     "metadata": {},
     "output_type": "display_data"
    },
    {
     "data": {
      "text/markdown": [
       "# Results for 21_yeast_twitter"
      ],
      "text/plain": [
       "<IPython.core.display.Markdown object>"
      ]
     },
     "metadata": {},
     "output_type": "display_data"
    },
    {
     "data": {
      "text/markdown": [
       "# Results for 22_twitter_yeast"
      ],
      "text/plain": [
       "<IPython.core.display.Markdown object>"
      ]
     },
     "metadata": {},
     "output_type": "display_data"
    },
    {
     "data": {
      "text/markdown": [
       "# Results for 23_twitter_yeast"
      ],
      "text/plain": [
       "<IPython.core.display.Markdown object>"
      ]
     },
     "metadata": {},
     "output_type": "display_data"
    },
    {
     "data": {
      "text/markdown": [
       "# Results for 24_twitter_yeast"
      ],
      "text/plain": [
       "<IPython.core.display.Markdown object>"
      ]
     },
     "metadata": {},
     "output_type": "display_data"
    },
    {
     "data": {
      "text/markdown": [
       "# Results for 25_twitter_yeast"
      ],
      "text/plain": [
       "<IPython.core.display.Markdown object>"
      ]
     },
     "metadata": {},
     "output_type": "display_data"
    },
    {
     "data": {
      "text/markdown": [
       "# Results for 26_twitter_yeast"
      ],
      "text/plain": [
       "<IPython.core.display.Markdown object>"
      ]
     },
     "metadata": {},
     "output_type": "display_data"
    },
    {
     "data": {
      "text/markdown": [
       "# Results for 27_twitter_yeast"
      ],
      "text/plain": [
       "<IPython.core.display.Markdown object>"
      ]
     },
     "metadata": {},
     "output_type": "display_data"
    },
    {
     "data": {
      "text/markdown": [
       "# Results for 28_twitter_yeast"
      ],
      "text/plain": [
       "<IPython.core.display.Markdown object>"
      ]
     },
     "metadata": {},
     "output_type": "display_data"
    },
    {
     "data": {
      "text/markdown": [
       "# Results for 29_nell_sports_nell_finances"
      ],
      "text/plain": [
       "<IPython.core.display.Markdown object>"
      ]
     },
     "metadata": {},
     "output_type": "display_data"
    },
    {
     "data": {
      "text/markdown": [
       "# Results for 30_nell_sports_nell_finances"
      ],
      "text/plain": [
       "<IPython.core.display.Markdown object>"
      ]
     },
     "metadata": {},
     "output_type": "display_data"
    },
    {
     "data": {
      "text/markdown": [
       "# Results for 31_nell_sports_nell_finances"
      ],
      "text/plain": [
       "<IPython.core.display.Markdown object>"
      ]
     },
     "metadata": {},
     "output_type": "display_data"
    },
    {
     "data": {
      "text/markdown": [
       "# Results for 32_nell_sports_nell_finances"
      ],
      "text/plain": [
       "<IPython.core.display.Markdown object>"
      ]
     },
     "metadata": {},
     "output_type": "display_data"
    },
    {
     "data": {
      "text/markdown": [
       "# Results for 33_nell_sports_nell_finances"
      ],
      "text/plain": [
       "<IPython.core.display.Markdown object>"
      ]
     },
     "metadata": {},
     "output_type": "display_data"
    },
    {
     "data": {
      "text/markdown": [
       "# Results for 34_nell_sports_nell_finances"
      ],
      "text/plain": [
       "<IPython.core.display.Markdown object>"
      ]
     },
     "metadata": {},
     "output_type": "display_data"
    },
    {
     "data": {
      "text/markdown": [
       "# Results for 35_nell_sports_nell_finances"
      ],
      "text/plain": [
       "<IPython.core.display.Markdown object>"
      ]
     },
     "metadata": {},
     "output_type": "display_data"
    },
    {
     "data": {
      "text/markdown": [
       "# Results for 36_nell_sports_nell_finances"
      ],
      "text/plain": [
       "<IPython.core.display.Markdown object>"
      ]
     },
     "metadata": {},
     "output_type": "display_data"
    },
    {
     "data": {
      "text/markdown": [
       "# Results for 37_nell_sports_nell_finances"
      ],
      "text/plain": [
       "<IPython.core.display.Markdown object>"
      ]
     },
     "metadata": {},
     "output_type": "display_data"
    },
    {
     "data": {
      "text/markdown": [
       "# Results for 38_nell_finances_nell_sports"
      ],
      "text/plain": [
       "<IPython.core.display.Markdown object>"
      ]
     },
     "metadata": {},
     "output_type": "display_data"
    },
    {
     "data": {
      "text/markdown": [
       "# Results for 39_nell_finances_nell_sports"
      ],
      "text/plain": [
       "<IPython.core.display.Markdown object>"
      ]
     },
     "metadata": {},
     "output_type": "display_data"
    },
    {
     "data": {
      "text/markdown": [
       "# Results for 40_nell_finances_nell_sports"
      ],
      "text/plain": [
       "<IPython.core.display.Markdown object>"
      ]
     },
     "metadata": {},
     "output_type": "display_data"
    },
    {
     "data": {
      "text/markdown": [
       "# Results for 41_nell_finances_nell_sports"
      ],
      "text/plain": [
       "<IPython.core.display.Markdown object>"
      ]
     },
     "metadata": {},
     "output_type": "display_data"
    },
    {
     "data": {
      "text/markdown": [
       "# Results for 42_nell_finances_nell_sports"
      ],
      "text/plain": [
       "<IPython.core.display.Markdown object>"
      ]
     },
     "metadata": {},
     "output_type": "display_data"
    },
    {
     "data": {
      "text/markdown": [
       "# Results for 43_nell_finances_nell_sports"
      ],
      "text/plain": [
       "<IPython.core.display.Markdown object>"
      ]
     },
     "metadata": {},
     "output_type": "display_data"
    },
    {
     "data": {
      "text/markdown": [
       "# Results for 44_nell_finances_nell_sports"
      ],
      "text/plain": [
       "<IPython.core.display.Markdown object>"
      ]
     },
     "metadata": {},
     "output_type": "display_data"
    },
    {
     "data": {
      "text/markdown": [
       "# Results for 45_nell_finances_nell_sports"
      ],
      "text/plain": [
       "<IPython.core.display.Markdown object>"
      ]
     },
     "metadata": {},
     "output_type": "display_data"
    },
    {
     "data": {
      "text/markdown": [
       "# Results for 46_nell_finances_nell_sports"
      ],
      "text/plain": [
       "<IPython.core.display.Markdown object>"
      ]
     },
     "metadata": {},
     "output_type": "display_data"
    },
    {
     "data": {
      "text/markdown": [
       "# Results for 47_yeast_facebook"
      ],
      "text/plain": [
       "<IPython.core.display.Markdown object>"
      ]
     },
     "metadata": {},
     "output_type": "display_data"
    },
    {
     "data": {
      "text/markdown": [
       "# Results for 48_twitter_facebook"
      ],
      "text/plain": [
       "<IPython.core.display.Markdown object>"
      ]
     },
     "metadata": {},
     "output_type": "display_data"
    },
    {
     "data": {
      "text/markdown": [
       "# Results for 49_imdb_facebook"
      ],
      "text/plain": [
       "<IPython.core.display.Markdown object>"
      ]
     },
     "metadata": {},
     "output_type": "display_data"
    },
    {
     "data": {
      "text/markdown": [
       "## AUC ROC"
      ],
      "text/plain": [
       "<IPython.core.display.Markdown object>"
      ]
     },
     "metadata": {},
     "output_type": "display_data"
    },
    {
     "name": "stdout",
     "output_type": "stream",
     "text": [
      "Experiment 1\n",
      "Ttest_relResult(statistic=1.5059795118863355, pvalue=0.20653573673928402)\n",
      "Ttest_relResult(statistic=-1.740595276268955, pvalue=0.15672895788448635)\n"
     ]
    },
    {
     "data": {
      "text/html": [
       "<div>\n",
       "<table border=\"1\" class=\"dataframe\">\n",
       "  <thead>\n",
       "    <tr style=\"text-align: right;\">\n",
       "      <th></th>\n",
       "      <th>p-value</th>\n",
       "      <th>RDN-B</th>\n",
       "    </tr>\n",
       "  </thead>\n",
       "  <tbody>\n",
       "    <tr>\n",
       "      <th>0</th>\n",
       "      <td>transferRDN-B Ref</td>\n",
       "      <td>0.207</td>\n",
       "    </tr>\n",
       "    <tr>\n",
       "      <th>1</th>\n",
       "      <td>transferRDN-B</td>\n",
       "      <td>0.157</td>\n",
       "    </tr>\n",
       "  </tbody>\n",
       "</table>\n",
       "</div>"
      ],
      "text/plain": [
       "             p-value  RDN-B\n",
       "0  transferRDN-B Ref  0.207\n",
       "1      transferRDN-B  0.157"
      ]
     },
     "metadata": {},
     "output_type": "display_data"
    },
    {
     "name": "stdout",
     "output_type": "stream",
     "text": [
      "Scratch: [0.629835, 0.539417, 0.570574, 0.576453, 0.552002]\n",
      "Transfer: [0.502324, 0.502069, 0.609875, 0.501081, 0.515152]\n",
      "Transfer & Revision: [0.624209, 0.562052, 0.580619, 0.579917, 0.55648]\n",
      "\n",
      "\n",
      "Experiment 2\n",
      "Ttest_relResult(statistic=-0.2295389666775981, pvalue=0.8297096876425258)\n",
      "Ttest_relResult(statistic=0.26606696471446695, pvalue=0.8033391225239164)\n"
     ]
    },
    {
     "data": {
      "text/html": [
       "<div>\n",
       "<table border=\"1\" class=\"dataframe\">\n",
       "  <thead>\n",
       "    <tr style=\"text-align: right;\">\n",
       "      <th></th>\n",
       "      <th>p-value</th>\n",
       "      <th>RDN-B</th>\n",
       "    </tr>\n",
       "  </thead>\n",
       "  <tbody>\n",
       "    <tr>\n",
       "      <th>0</th>\n",
       "      <td>transferRDN-B Ref</td>\n",
       "      <td>0.830</td>\n",
       "    </tr>\n",
       "    <tr>\n",
       "      <th>1</th>\n",
       "      <td>transferRDN-B</td>\n",
       "      <td>0.803</td>\n",
       "    </tr>\n",
       "  </tbody>\n",
       "</table>\n",
       "</div>"
      ],
      "text/plain": [
       "             p-value  RDN-B\n",
       "0  transferRDN-B Ref  0.830\n",
       "1      transferRDN-B  0.803"
      ]
     },
     "metadata": {},
     "output_type": "display_data"
    },
    {
     "name": "stdout",
     "output_type": "stream",
     "text": [
      "Scratch: [0.640558, 0.575559, 0.582817, 0.583814, 0.55128]\n",
      "Transfer: [0.580677, 0.577543, 0.611387, 0.59374, 0.594167]\n",
      "Transfer & Revision: [0.641789, 0.596375, 0.586816, 0.590906, 0.505045]\n",
      "\n",
      "\n",
      "Experiment 3\n",
      "Ttest_relResult(statistic=1.4469501921927637, pvalue=0.2214599629319754)\n",
      "Ttest_relResult(statistic=0.5972404497153869, pvalue=0.582511268154106)\n"
     ]
    },
    {
     "data": {
      "text/html": [
       "<div>\n",
       "<table border=\"1\" class=\"dataframe\">\n",
       "  <thead>\n",
       "    <tr style=\"text-align: right;\">\n",
       "      <th></th>\n",
       "      <th>p-value</th>\n",
       "      <th>RDN-B</th>\n",
       "    </tr>\n",
       "  </thead>\n",
       "  <tbody>\n",
       "    <tr>\n",
       "      <th>0</th>\n",
       "      <td>transferRDN-B Ref</td>\n",
       "      <td>0.221</td>\n",
       "    </tr>\n",
       "    <tr>\n",
       "      <th>1</th>\n",
       "      <td>transferRDN-B</td>\n",
       "      <td>0.583</td>\n",
       "    </tr>\n",
       "  </tbody>\n",
       "</table>\n",
       "</div>"
      ],
      "text/plain": [
       "             p-value  RDN-B\n",
       "0  transferRDN-B Ref  0.221\n",
       "1      transferRDN-B  0.583"
      ]
     },
     "metadata": {},
     "output_type": "display_data"
    },
    {
     "name": "stdout",
     "output_type": "stream",
     "text": [
      "Scratch: [0.625005, 0.584458, 0.547091, 0.602569, 0.535476]\n",
      "Transfer: [0.580677, 0.577543, 0.611387, 0.59374, 0.594167]\n",
      "Transfer & Revision: [0.64323, 0.597496, 0.584363, 0.593327, 0.534472]\n",
      "\n",
      "\n",
      "Experiment 4\n",
      "Ttest_relResult(statistic=0.38988667011765354, pvalue=0.7164904488874946)\n",
      "Ttest_relResult(statistic=0.44561792572792536, pvalue=0.6789286077278147)\n"
     ]
    },
    {
     "data": {
      "text/html": [
       "<div>\n",
       "<table border=\"1\" class=\"dataframe\">\n",
       "  <thead>\n",
       "    <tr style=\"text-align: right;\">\n",
       "      <th></th>\n",
       "      <th>p-value</th>\n",
       "      <th>RDN-B</th>\n",
       "    </tr>\n",
       "  </thead>\n",
       "  <tbody>\n",
       "    <tr>\n",
       "      <th>0</th>\n",
       "      <td>transferRDN-B Ref</td>\n",
       "      <td>0.716</td>\n",
       "    </tr>\n",
       "    <tr>\n",
       "      <th>1</th>\n",
       "      <td>transferRDN-B</td>\n",
       "      <td>0.679</td>\n",
       "    </tr>\n",
       "  </tbody>\n",
       "</table>\n",
       "</div>"
      ],
      "text/plain": [
       "             p-value  RDN-B\n",
       "0  transferRDN-B Ref  0.716\n",
       "1      transferRDN-B  0.679"
      ]
     },
     "metadata": {},
     "output_type": "display_data"
    },
    {
     "name": "stdout",
     "output_type": "stream",
     "text": [
      "Scratch: [0.622808, 0.586411, 0.554697, 0.599891, 0.553799]\n",
      "Transfer: [0.580677, 0.577543, 0.611387, 0.59374, 0.594167]\n",
      "Transfer & Revision: [0.640743, 0.596086, 0.598962, 0.58147, 0.525675]\n",
      "\n",
      "\n",
      "Experiment 5\n",
      "Ttest_relResult(statistic=2.994112548201393, pvalue=0.0401746467347872)\n",
      "Ttest_relResult(statistic=0.5491954671495934, pvalue=0.6120895771365075)\n"
     ]
    },
    {
     "data": {
      "text/html": [
       "<div>\n",
       "<table border=\"1\" class=\"dataframe\">\n",
       "  <thead>\n",
       "    <tr style=\"text-align: right;\">\n",
       "      <th></th>\n",
       "      <th>p-value</th>\n",
       "      <th>RDN-B</th>\n",
       "    </tr>\n",
       "  </thead>\n",
       "  <tbody>\n",
       "    <tr>\n",
       "      <th>0</th>\n",
       "      <td>transferRDN-B Ref</td>\n",
       "      <td>0.040</td>\n",
       "    </tr>\n",
       "    <tr>\n",
       "      <th>1</th>\n",
       "      <td>transferRDN-B</td>\n",
       "      <td>0.612</td>\n",
       "    </tr>\n",
       "  </tbody>\n",
       "</table>\n",
       "</div>"
      ],
      "text/plain": [
       "             p-value  RDN-B\n",
       "0  transferRDN-B Ref  0.040\n",
       "1      transferRDN-B  0.612"
      ]
     },
     "metadata": {},
     "output_type": "display_data"
    },
    {
     "name": "stdout",
     "output_type": "stream",
     "text": [
      "Scratch: [0.633009, 0.585872, 0.573734, 0.56985, 0.544633]\n",
      "Transfer: [0.580677, 0.577543, 0.611387, 0.59374, 0.594167]\n",
      "Transfer & Revision: [0.638654, 0.599044, 0.598533, 0.580792, 0.547301]\n",
      "\n",
      "\n"
     ]
    },
    {
     "data": {
      "text/markdown": [
       "## AUC PR"
      ],
      "text/plain": [
       "<IPython.core.display.Markdown object>"
      ]
     },
     "metadata": {},
     "output_type": "display_data"
    },
    {
     "name": "stdout",
     "output_type": "stream",
     "text": [
      "Experiment 1\n",
      "Ttest_relResult(statistic=1.4200368169607087, pvalue=0.22862018034033632)\n",
      "Ttest_relResult(statistic=-1.8071835836692127, pvalue=0.14502144428951516)\n"
     ]
    },
    {
     "data": {
      "text/html": [
       "<div>\n",
       "<table border=\"1\" class=\"dataframe\">\n",
       "  <thead>\n",
       "    <tr style=\"text-align: right;\">\n",
       "      <th></th>\n",
       "      <th>p-value</th>\n",
       "      <th>RDN-B</th>\n",
       "    </tr>\n",
       "  </thead>\n",
       "  <tbody>\n",
       "    <tr>\n",
       "      <th>0</th>\n",
       "      <td>transferRDN-B Ref</td>\n",
       "      <td>0.229</td>\n",
       "    </tr>\n",
       "    <tr>\n",
       "      <th>1</th>\n",
       "      <td>transferRDN-B</td>\n",
       "      <td>0.145</td>\n",
       "    </tr>\n",
       "  </tbody>\n",
       "</table>\n",
       "</div>"
      ],
      "text/plain": [
       "             p-value  RDN-B\n",
       "0  transferRDN-B Ref  0.229\n",
       "1      transferRDN-B  0.145"
      ]
     },
     "metadata": {},
     "output_type": "display_data"
    },
    {
     "name": "stdout",
     "output_type": "stream",
     "text": [
      "Scratch: [0.610765, 0.543415, 0.57575, 0.588117, 0.548977]\n",
      "Transfer: [0.505386, 0.50625, 0.603462, 0.503961, 0.532811]\n",
      "Transfer & Revision: [0.607902, 0.566091, 0.581682, 0.590963, 0.551325]\n",
      "\n",
      "\n",
      "Experiment 2\n",
      "Ttest_relResult(statistic=-1.2753458822776098, pvalue=0.2712218299855064)\n",
      "Ttest_relResult(statistic=0.4129963660403859, pvalue=0.7007881876209419)\n"
     ]
    },
    {
     "data": {
      "text/html": [
       "<div>\n",
       "<table border=\"1\" class=\"dataframe\">\n",
       "  <thead>\n",
       "    <tr style=\"text-align: right;\">\n",
       "      <th></th>\n",
       "      <th>p-value</th>\n",
       "      <th>RDN-B</th>\n",
       "    </tr>\n",
       "  </thead>\n",
       "  <tbody>\n",
       "    <tr>\n",
       "      <th>0</th>\n",
       "      <td>transferRDN-B Ref</td>\n",
       "      <td>0.271</td>\n",
       "    </tr>\n",
       "    <tr>\n",
       "      <th>1</th>\n",
       "      <td>transferRDN-B</td>\n",
       "      <td>0.701</td>\n",
       "    </tr>\n",
       "  </tbody>\n",
       "</table>\n",
       "</div>"
      ],
      "text/plain": [
       "             p-value  RDN-B\n",
       "0  transferRDN-B Ref  0.271\n",
       "1      transferRDN-B  0.701"
      ]
     },
     "metadata": {},
     "output_type": "display_data"
    },
    {
     "name": "stdout",
     "output_type": "stream",
     "text": [
      "Scratch: [0.62208, 0.579549, 0.595638, 0.584978, 0.540409]\n",
      "Transfer: [0.585339, 0.577454, 0.605306, 0.591415, 0.59243]\n",
      "Transfer & Revision: [0.616197, 0.592026, 0.576095, 0.581822, 0.503524]\n",
      "\n",
      "\n",
      "Experiment 3\n",
      "Ttest_relResult(statistic=0.8167958985376573, pvalue=0.4598980772231365)\n",
      "Ttest_relResult(statistic=0.8937105814665037, pvalue=0.42198908351112074)\n"
     ]
    },
    {
     "data": {
      "text/html": [
       "<div>\n",
       "<table border=\"1\" class=\"dataframe\">\n",
       "  <thead>\n",
       "    <tr style=\"text-align: right;\">\n",
       "      <th></th>\n",
       "      <th>p-value</th>\n",
       "      <th>RDN-B</th>\n",
       "    </tr>\n",
       "  </thead>\n",
       "  <tbody>\n",
       "    <tr>\n",
       "      <th>0</th>\n",
       "      <td>transferRDN-B Ref</td>\n",
       "      <td>0.460</td>\n",
       "    </tr>\n",
       "    <tr>\n",
       "      <th>1</th>\n",
       "      <td>transferRDN-B</td>\n",
       "      <td>0.422</td>\n",
       "    </tr>\n",
       "  </tbody>\n",
       "</table>\n",
       "</div>"
      ],
      "text/plain": [
       "             p-value  RDN-B\n",
       "0  transferRDN-B Ref  0.460\n",
       "1      transferRDN-B  0.422"
      ]
     },
     "metadata": {},
     "output_type": "display_data"
    },
    {
     "name": "stdout",
     "output_type": "stream",
     "text": [
      "Scratch: [0.606128, 0.583776, 0.55739, 0.597797, 0.536682]\n",
      "Transfer: [0.585339, 0.577454, 0.605306, 0.591415, 0.59243]\n",
      "Transfer & Revision: [0.619226, 0.590731, 0.572674, 0.583882, 0.536767]\n",
      "\n",
      "\n",
      "Experiment 4\n",
      "Ttest_relResult(statistic=-0.21030246692854912, pvalue=0.8437097679844592)\n",
      "Ttest_relResult(statistic=0.9307264985204271, pvalue=0.4046807340816458)\n"
     ]
    },
    {
     "data": {
      "text/html": [
       "<div>\n",
       "<table border=\"1\" class=\"dataframe\">\n",
       "  <thead>\n",
       "    <tr style=\"text-align: right;\">\n",
       "      <th></th>\n",
       "      <th>p-value</th>\n",
       "      <th>RDN-B</th>\n",
       "    </tr>\n",
       "  </thead>\n",
       "  <tbody>\n",
       "    <tr>\n",
       "      <th>0</th>\n",
       "      <td>transferRDN-B Ref</td>\n",
       "      <td>0.844</td>\n",
       "    </tr>\n",
       "    <tr>\n",
       "      <th>1</th>\n",
       "      <td>transferRDN-B</td>\n",
       "      <td>0.405</td>\n",
       "    </tr>\n",
       "  </tbody>\n",
       "</table>\n",
       "</div>"
      ],
      "text/plain": [
       "             p-value  RDN-B\n",
       "0  transferRDN-B Ref  0.844\n",
       "1      transferRDN-B  0.405"
      ]
     },
     "metadata": {},
     "output_type": "display_data"
    },
    {
     "name": "stdout",
     "output_type": "stream",
     "text": [
      "Scratch: [0.604771, 0.585293, 0.55856, 0.593726, 0.541228]\n",
      "Transfer: [0.585339, 0.577454, 0.605306, 0.591415, 0.59243]\n",
      "Transfer & Revision: [0.615477, 0.583637, 0.582723, 0.575943, 0.516337]\n",
      "\n",
      "\n",
      "Experiment 5\n",
      "Ttest_relResult(statistic=0.6519694156754396, pvalue=0.549986712586806)\n",
      "Ttest_relResult(statistic=0.7760386151715227, pvalue=0.4810553326061961)\n"
     ]
    },
    {
     "data": {
      "text/html": [
       "<div>\n",
       "<table border=\"1\" class=\"dataframe\">\n",
       "  <thead>\n",
       "    <tr style=\"text-align: right;\">\n",
       "      <th></th>\n",
       "      <th>p-value</th>\n",
       "      <th>RDN-B</th>\n",
       "    </tr>\n",
       "  </thead>\n",
       "  <tbody>\n",
       "    <tr>\n",
       "      <th>0</th>\n",
       "      <td>transferRDN-B Ref</td>\n",
       "      <td>0.550</td>\n",
       "    </tr>\n",
       "    <tr>\n",
       "      <th>1</th>\n",
       "      <td>transferRDN-B</td>\n",
       "      <td>0.481</td>\n",
       "    </tr>\n",
       "  </tbody>\n",
       "</table>\n",
       "</div>"
      ],
      "text/plain": [
       "             p-value  RDN-B\n",
       "0  transferRDN-B Ref  0.550\n",
       "1      transferRDN-B  0.481"
      ]
     },
     "metadata": {},
     "output_type": "display_data"
    },
    {
     "name": "stdout",
     "output_type": "stream",
     "text": [
      "Scratch: [0.613658, 0.585442, 0.580691, 0.578138, 0.541045]\n",
      "Transfer: [0.585339, 0.577454, 0.605306, 0.591415, 0.59243]\n",
      "Transfer & Revision: [0.617, 0.597762, 0.584439, 0.574345, 0.535705]\n",
      "\n",
      "\n"
     ]
    },
    {
     "data": {
      "text/markdown": [
       "## CLL"
      ],
      "text/plain": [
       "<IPython.core.display.Markdown object>"
      ]
     },
     "metadata": {},
     "output_type": "display_data"
    },
    {
     "name": "stdout",
     "output_type": "stream",
     "text": [
      "Experiment 1\n",
      "Ttest_relResult(statistic=1.6324795362118867, pvalue=0.17791526238194413)\n",
      "Ttest_relResult(statistic=1.9004304728296701, pvalue=0.13017420144876563)\n"
     ]
    },
    {
     "data": {
      "text/html": [
       "<div>\n",
       "<table border=\"1\" class=\"dataframe\">\n",
       "  <thead>\n",
       "    <tr style=\"text-align: right;\">\n",
       "      <th></th>\n",
       "      <th>p-value</th>\n",
       "      <th>RDN-B</th>\n",
       "    </tr>\n",
       "  </thead>\n",
       "  <tbody>\n",
       "    <tr>\n",
       "      <th>0</th>\n",
       "      <td>transferRDN-B Ref</td>\n",
       "      <td>0.178</td>\n",
       "    </tr>\n",
       "    <tr>\n",
       "      <th>1</th>\n",
       "      <td>transferRDN-B</td>\n",
       "      <td>0.130</td>\n",
       "    </tr>\n",
       "  </tbody>\n",
       "</table>\n",
       "</div>"
      ],
      "text/plain": [
       "             p-value  RDN-B\n",
       "0  transferRDN-B Ref  0.178\n",
       "1      transferRDN-B  0.130"
      ]
     },
     "metadata": {},
     "output_type": "display_data"
    },
    {
     "name": "stdout",
     "output_type": "stream",
     "text": [
      "Scratch: [-0.678832, -0.718713, -0.711369, -0.715195, -0.759432]\n",
      "Transfer: [-0.696327, -0.695006, -0.674082, -0.695014, -0.690682]\n",
      "Transfer & Revision: [-0.68228, -0.703418, -0.702765, -0.695614, -0.761816]\n",
      "\n",
      "\n",
      "Experiment 2\n",
      "Ttest_relResult(statistic=1.0269254793334501, pvalue=0.3624962356074732)\n",
      "Ttest_relResult(statistic=2.472771515424835, pvalue=0.06874197288618097)\n"
     ]
    },
    {
     "data": {
      "text/html": [
       "<div>\n",
       "<table border=\"1\" class=\"dataframe\">\n",
       "  <thead>\n",
       "    <tr style=\"text-align: right;\">\n",
       "      <th></th>\n",
       "      <th>p-value</th>\n",
       "      <th>RDN-B</th>\n",
       "    </tr>\n",
       "  </thead>\n",
       "  <tbody>\n",
       "    <tr>\n",
       "      <th>0</th>\n",
       "      <td>transferRDN-B Ref</td>\n",
       "      <td>0.362</td>\n",
       "    </tr>\n",
       "    <tr>\n",
       "      <th>1</th>\n",
       "      <td>transferRDN-B</td>\n",
       "      <td>0.069</td>\n",
       "    </tr>\n",
       "  </tbody>\n",
       "</table>\n",
       "</div>"
      ],
      "text/plain": [
       "             p-value  RDN-B\n",
       "0  transferRDN-B Ref  0.362\n",
       "1      transferRDN-B  0.069"
      ]
     },
     "metadata": {},
     "output_type": "display_data"
    },
    {
     "name": "stdout",
     "output_type": "stream",
     "text": [
      "Scratch: [-0.677215, -0.706191, -0.713275, -0.714026, -0.770553]\n",
      "Transfer: [-0.682263, -0.686206, -0.672138, -0.673217, -0.686845]\n",
      "Transfer & Revision: [-0.679405, -0.700499, -0.706811, -0.72121, -0.740405]\n",
      "\n",
      "\n",
      "Experiment 3\n",
      "Ttest_relResult(statistic=1.1944946600682989, pvalue=0.29827146029395785)\n",
      "Ttest_relResult(statistic=2.60993782051308, pvalue=0.05942386835665244)\n"
     ]
    },
    {
     "data": {
      "text/html": [
       "<div>\n",
       "<table border=\"1\" class=\"dataframe\">\n",
       "  <thead>\n",
       "    <tr style=\"text-align: right;\">\n",
       "      <th></th>\n",
       "      <th>p-value</th>\n",
       "      <th>RDN-B</th>\n",
       "    </tr>\n",
       "  </thead>\n",
       "  <tbody>\n",
       "    <tr>\n",
       "      <th>0</th>\n",
       "      <td>transferRDN-B Ref</td>\n",
       "      <td>0.298</td>\n",
       "    </tr>\n",
       "    <tr>\n",
       "      <th>1</th>\n",
       "      <td>transferRDN-B</td>\n",
       "      <td>0.059</td>\n",
       "    </tr>\n",
       "  </tbody>\n",
       "</table>\n",
       "</div>"
      ],
      "text/plain": [
       "             p-value  RDN-B\n",
       "0  transferRDN-B Ref  0.298\n",
       "1      transferRDN-B  0.059"
      ]
     },
     "metadata": {},
     "output_type": "display_data"
    },
    {
     "name": "stdout",
     "output_type": "stream",
     "text": [
      "Scratch: [-0.684508, -0.704897, -0.73497, -0.694767, -0.75979]\n",
      "Transfer: [-0.682263, -0.686206, -0.672138, -0.673217, -0.686845]\n",
      "Transfer & Revision: [-0.67695, -0.700568, -0.702699, -0.711014, -0.738714]\n",
      "\n",
      "\n",
      "Experiment 4\n",
      "Ttest_relResult(statistic=0.4516955018865187, pvalue=0.6748969492474537)\n",
      "Ttest_relResult(statistic=2.2009067760092345, pvalue=0.09255905729874853)\n"
     ]
    },
    {
     "data": {
      "text/html": [
       "<div>\n",
       "<table border=\"1\" class=\"dataframe\">\n",
       "  <thead>\n",
       "    <tr style=\"text-align: right;\">\n",
       "      <th></th>\n",
       "      <th>p-value</th>\n",
       "      <th>RDN-B</th>\n",
       "    </tr>\n",
       "  </thead>\n",
       "  <tbody>\n",
       "    <tr>\n",
       "      <th>0</th>\n",
       "      <td>transferRDN-B Ref</td>\n",
       "      <td>0.675</td>\n",
       "    </tr>\n",
       "    <tr>\n",
       "      <th>1</th>\n",
       "      <td>transferRDN-B</td>\n",
       "      <td>0.093</td>\n",
       "    </tr>\n",
       "  </tbody>\n",
       "</table>\n",
       "</div>"
      ],
      "text/plain": [
       "             p-value  RDN-B\n",
       "0  transferRDN-B Ref  0.675\n",
       "1      transferRDN-B  0.093"
      ]
     },
     "metadata": {},
     "output_type": "display_data"
    },
    {
     "name": "stdout",
     "output_type": "stream",
     "text": [
      "Scratch: [-0.679526, -0.699902, -0.725411, -0.693531, -0.767856]\n",
      "Transfer: [-0.682263, -0.686206, -0.672138, -0.673217, -0.686845]\n",
      "Transfer & Revision: [-0.679072, -0.699702, -0.694051, -0.725657, -0.742294]\n",
      "\n",
      "\n",
      "Experiment 5\n",
      "Ttest_relResult(statistic=1.0353865641645887, pvalue=0.35897611581592637)\n",
      "Ttest_relResult(statistic=2.717860647637423, pvalue=0.05310406700889371)\n"
     ]
    },
    {
     "data": {
      "text/html": [
       "<div>\n",
       "<table border=\"1\" class=\"dataframe\">\n",
       "  <thead>\n",
       "    <tr style=\"text-align: right;\">\n",
       "      <th></th>\n",
       "      <th>p-value</th>\n",
       "      <th>RDN-B</th>\n",
       "    </tr>\n",
       "  </thead>\n",
       "  <tbody>\n",
       "    <tr>\n",
       "      <th>0</th>\n",
       "      <td>transferRDN-B Ref</td>\n",
       "      <td>0.359</td>\n",
       "    </tr>\n",
       "    <tr>\n",
       "      <th>1</th>\n",
       "      <td>transferRDN-B</td>\n",
       "      <td>0.053</td>\n",
       "    </tr>\n",
       "  </tbody>\n",
       "</table>\n",
       "</div>"
      ],
      "text/plain": [
       "             p-value  RDN-B\n",
       "0  transferRDN-B Ref  0.359\n",
       "1      transferRDN-B  0.053"
      ]
     },
     "metadata": {},
     "output_type": "display_data"
    },
    {
     "name": "stdout",
     "output_type": "stream",
     "text": [
      "Scratch: [-0.677002, -0.700627, -0.717276, -0.720568, -0.74357]\n",
      "Transfer: [-0.682263, -0.686206, -0.672138, -0.673217, -0.686845]\n",
      "Transfer & Revision: [-0.679036, -0.701253, -0.697833, -0.719155, -0.741494]\n",
      "\n",
      "\n"
     ]
    },
    {
     "data": {
      "text/markdown": [
       "## Recall"
      ],
      "text/plain": [
       "<IPython.core.display.Markdown object>"
      ]
     },
     "metadata": {},
     "output_type": "display_data"
    },
    {
     "name": "stdout",
     "output_type": "stream",
     "text": [
      "Experiment 1\n",
      "Ttest_relResult(statistic=-2.072760139248803, pvalue=0.10689543979231958)\n",
      "Ttest_relResult(statistic=-2.341377067074485, pvalue=0.07925888155451004)\n"
     ]
    },
    {
     "data": {
      "text/html": [
       "<div>\n",
       "<table border=\"1\" class=\"dataframe\">\n",
       "  <thead>\n",
       "    <tr style=\"text-align: right;\">\n",
       "      <th></th>\n",
       "      <th>p-value</th>\n",
       "      <th>RDN-B</th>\n",
       "    </tr>\n",
       "  </thead>\n",
       "  <tbody>\n",
       "    <tr>\n",
       "      <th>0</th>\n",
       "      <td>transferRDN-B Ref</td>\n",
       "      <td>0.107</td>\n",
       "    </tr>\n",
       "    <tr>\n",
       "      <th>1</th>\n",
       "      <td>transferRDN-B</td>\n",
       "      <td>0.079</td>\n",
       "    </tr>\n",
       "  </tbody>\n",
       "</table>\n",
       "</div>"
      ],
      "text/plain": [
       "             p-value  RDN-B\n",
       "0  transferRDN-B Ref  0.107\n",
       "1      transferRDN-B  0.079"
      ]
     },
     "metadata": {},
     "output_type": "display_data"
    },
    {
     "name": "stdout",
     "output_type": "stream",
     "text": [
      "Scratch: [0.306242, 0.618275, 0.298185, 0.405055, 0.316878]\n",
      "Transfer: [0.014608, 0.0, 0.43885, 0.002494, 0.040404]\n",
      "Transfer & Revision: [0.244356, 0.646264, 0.213375, 0.333472, 0.294803]\n",
      "\n",
      "\n",
      "Experiment 2\n",
      "Ttest_relResult(statistic=-0.6466953500451581, pvalue=0.5530656436289703)\n",
      "Ttest_relResult(statistic=-0.5546290232020689, pvalue=0.6086975346812837)\n"
     ]
    },
    {
     "data": {
      "text/html": [
       "<div>\n",
       "<table border=\"1\" class=\"dataframe\">\n",
       "  <thead>\n",
       "    <tr style=\"text-align: right;\">\n",
       "      <th></th>\n",
       "      <th>p-value</th>\n",
       "      <th>RDN-B</th>\n",
       "    </tr>\n",
       "  </thead>\n",
       "  <tbody>\n",
       "    <tr>\n",
       "      <th>0</th>\n",
       "      <td>transferRDN-B Ref</td>\n",
       "      <td>0.553</td>\n",
       "    </tr>\n",
       "    <tr>\n",
       "      <th>1</th>\n",
       "      <td>transferRDN-B</td>\n",
       "      <td>0.609</td>\n",
       "    </tr>\n",
       "  </tbody>\n",
       "</table>\n",
       "</div>"
      ],
      "text/plain": [
       "             p-value  RDN-B\n",
       "0  transferRDN-B Ref  0.553\n",
       "1      transferRDN-B  0.609"
      ]
     },
     "metadata": {},
     "output_type": "display_data"
    },
    {
     "name": "stdout",
     "output_type": "stream",
     "text": [
      "Scratch: [0.330544, 0.660858, 0.303047, 0.362321, 0.433447]\n",
      "Transfer: [0.321912, 0.347201, 0.43885, 0.389258, 0.386119]\n",
      "Transfer & Revision: [0.364143, 0.718907, 0.223099, 0.295228, 0.400538]\n",
      "\n",
      "\n",
      "Experiment 3\n",
      "Ttest_relResult(statistic=1.5249652109629002, pvalue=0.20195567979033852)\n",
      "Ttest_relResult(statistic=0.06735854185478075, pvalue=0.9495287895178781)\n"
     ]
    },
    {
     "data": {
      "text/html": [
       "<div>\n",
       "<table border=\"1\" class=\"dataframe\">\n",
       "  <thead>\n",
       "    <tr style=\"text-align: right;\">\n",
       "      <th></th>\n",
       "      <th>p-value</th>\n",
       "      <th>RDN-B</th>\n",
       "    </tr>\n",
       "  </thead>\n",
       "  <tbody>\n",
       "    <tr>\n",
       "      <th>0</th>\n",
       "      <td>transferRDN-B Ref</td>\n",
       "      <td>0.202</td>\n",
       "    </tr>\n",
       "    <tr>\n",
       "      <th>1</th>\n",
       "      <td>transferRDN-B</td>\n",
       "      <td>0.950</td>\n",
       "    </tr>\n",
       "  </tbody>\n",
       "</table>\n",
       "</div>"
      ],
      "text/plain": [
       "             p-value  RDN-B\n",
       "0  transferRDN-B Ref  0.202\n",
       "1      transferRDN-B  0.950"
      ]
     },
     "metadata": {},
     "output_type": "display_data"
    },
    {
     "name": "stdout",
     "output_type": "stream",
     "text": [
      "Scratch: [0.299867, 0.682858, 0.187122, 0.342035, 0.339443]\n",
      "Transfer: [0.321912, 0.347201, 0.43885, 0.389258, 0.386119]\n",
      "Transfer & Revision: [0.325631, 0.749946, 0.23293, 0.324576, 0.336266]\n",
      "\n",
      "\n",
      "Experiment 4\n",
      "Ttest_relResult(statistic=1.5229817868535704, pvalue=0.20242927319207207)\n",
      "Ttest_relResult(statistic=-0.1750831439565205, pvalue=0.8695195455333876)\n"
     ]
    },
    {
     "data": {
      "text/html": [
       "<div>\n",
       "<table border=\"1\" class=\"dataframe\">\n",
       "  <thead>\n",
       "    <tr style=\"text-align: right;\">\n",
       "      <th></th>\n",
       "      <th>p-value</th>\n",
       "      <th>RDN-B</th>\n",
       "    </tr>\n",
       "  </thead>\n",
       "  <tbody>\n",
       "    <tr>\n",
       "      <th>0</th>\n",
       "      <td>transferRDN-B Ref</td>\n",
       "      <td>0.202</td>\n",
       "    </tr>\n",
       "    <tr>\n",
       "      <th>1</th>\n",
       "      <td>transferRDN-B</td>\n",
       "      <td>0.870</td>\n",
       "    </tr>\n",
       "  </tbody>\n",
       "</table>\n",
       "</div>"
      ],
      "text/plain": [
       "             p-value  RDN-B\n",
       "0  transferRDN-B Ref  0.202\n",
       "1      transferRDN-B  0.870"
      ]
     },
     "metadata": {},
     "output_type": "display_data"
    },
    {
     "name": "stdout",
     "output_type": "stream",
     "text": [
      "Scratch: [0.270518, 0.681551, 0.21035, 0.367642, 0.433529]\n",
      "Transfer: [0.321912, 0.347201, 0.43885, 0.389258, 0.386119]\n",
      "Transfer & Revision: [0.342098, 0.742649, 0.255834, 0.404889, 0.383187]\n",
      "\n",
      "\n",
      "Experiment 5\n",
      "Ttest_relResult(statistic=0.6415645703373395, pvalue=0.5560723527185912)\n",
      "Ttest_relResult(statistic=-0.09603218553066546, pvalue=0.9281139057743841)\n"
     ]
    },
    {
     "data": {
      "text/html": [
       "<div>\n",
       "<table border=\"1\" class=\"dataframe\">\n",
       "  <thead>\n",
       "    <tr style=\"text-align: right;\">\n",
       "      <th></th>\n",
       "      <th>p-value</th>\n",
       "      <th>RDN-B</th>\n",
       "    </tr>\n",
       "  </thead>\n",
       "  <tbody>\n",
       "    <tr>\n",
       "      <th>0</th>\n",
       "      <td>transferRDN-B Ref</td>\n",
       "      <td>0.556</td>\n",
       "    </tr>\n",
       "    <tr>\n",
       "      <th>1</th>\n",
       "      <td>transferRDN-B</td>\n",
       "      <td>0.928</td>\n",
       "    </tr>\n",
       "  </tbody>\n",
       "</table>\n",
       "</div>"
      ],
      "text/plain": [
       "             p-value  RDN-B\n",
       "0  transferRDN-B Ref  0.556\n",
       "1      transferRDN-B  0.928"
      ]
     },
     "metadata": {},
     "output_type": "display_data"
    },
    {
     "name": "stdout",
     "output_type": "stream",
     "text": [
      "Scratch: [0.358433, 0.669462, 0.240385, 0.323495, 0.333333]\n",
      "Transfer: [0.321912, 0.347201, 0.43885, 0.389258, 0.386119]\n",
      "Transfer & Revision: [0.335989, 0.738074, 0.250216, 0.349268, 0.307266]\n",
      "\n",
      "\n"
     ]
    },
    {
     "data": {
      "text/markdown": [
       "## F1"
      ],
      "text/plain": [
       "<IPython.core.display.Markdown object>"
      ]
     },
     "metadata": {},
     "output_type": "display_data"
    },
    {
     "name": "stdout",
     "output_type": "stream",
     "text": [
      "Experiment 1\n",
      "Ttest_relResult(statistic=-2.065667803445147, pvalue=0.10775784278404713)\n",
      "Ttest_relResult(statistic=nan, pvalue=nan)\n"
     ]
    },
    {
     "data": {
      "text/html": [
       "<div>\n",
       "<table border=\"1\" class=\"dataframe\">\n",
       "  <thead>\n",
       "    <tr style=\"text-align: right;\">\n",
       "      <th></th>\n",
       "      <th>p-value</th>\n",
       "      <th>RDN-B</th>\n",
       "    </tr>\n",
       "  </thead>\n",
       "  <tbody>\n",
       "    <tr>\n",
       "      <th>0</th>\n",
       "      <td>transferRDN-B Ref</td>\n",
       "      <td>0.108</td>\n",
       "    </tr>\n",
       "    <tr>\n",
       "      <th>1</th>\n",
       "      <td>transferRDN-B</td>\n",
       "      <td>nan</td>\n",
       "    </tr>\n",
       "  </tbody>\n",
       "</table>\n",
       "</div>"
      ],
      "text/plain": [
       "             p-value  RDN-B\n",
       "0  transferRDN-B Ref  0.108\n",
       "1      transferRDN-B    nan"
      ]
     },
     "metadata": {},
     "output_type": "display_data"
    },
    {
     "name": "stdout",
     "output_type": "stream",
     "text": [
      "Scratch: [0.41572, 0.564118, 0.398125, 0.476946, 0.402963]\n",
      "Transfer: [0.028516, nan, 0.529389, 0.004974, 0.076923]\n",
      "Transfer & Revision: [0.355659, 0.585785, 0.319502, 0.429973, 0.385389]\n",
      "\n",
      "\n",
      "Experiment 2\n",
      "Ttest_relResult(statistic=-1.1033191115190764, pvalue=0.33180020314313824)\n",
      "Ttest_relResult(statistic=0.038503263206751466, pvalue=0.9711314680530945)\n"
     ]
    },
    {
     "data": {
      "text/html": [
       "<div>\n",
       "<table border=\"1\" class=\"dataframe\">\n",
       "  <thead>\n",
       "    <tr style=\"text-align: right;\">\n",
       "      <th></th>\n",
       "      <th>p-value</th>\n",
       "      <th>RDN-B</th>\n",
       "    </tr>\n",
       "  </thead>\n",
       "  <tbody>\n",
       "    <tr>\n",
       "      <th>0</th>\n",
       "      <td>transferRDN-B Ref</td>\n",
       "      <td>0.332</td>\n",
       "    </tr>\n",
       "    <tr>\n",
       "      <th>1</th>\n",
       "      <td>transferRDN-B</td>\n",
       "      <td>0.971</td>\n",
       "    </tr>\n",
       "  </tbody>\n",
       "</table>\n",
       "</div>"
      ],
      "text/plain": [
       "             p-value  RDN-B\n",
       "0  transferRDN-B Ref  0.332\n",
       "1      transferRDN-B  0.971"
      ]
     },
     "metadata": {},
     "output_type": "display_data"
    },
    {
     "name": "stdout",
     "output_type": "stream",
     "text": [
      "Scratch: [0.439326, 0.600079, 0.413047, 0.449858, 0.481975]\n",
      "Transfer: [0.434292, 0.451111, 0.530356, 0.489314, 0.487554]\n",
      "Transfer & Revision: [0.466208, 0.6213, 0.328534, 0.403821, 0.448222]\n",
      "\n",
      "\n",
      "Experiment 3\n",
      "Ttest_relResult(statistic=1.4020460973565032, pvalue=0.23353503947824106)\n",
      "Ttest_relResult(statistic=0.7091371991590193, pvalue=0.517385025652344)\n"
     ]
    },
    {
     "data": {
      "text/html": [
       "<div>\n",
       "<table border=\"1\" class=\"dataframe\">\n",
       "  <thead>\n",
       "    <tr style=\"text-align: right;\">\n",
       "      <th></th>\n",
       "      <th>p-value</th>\n",
       "      <th>RDN-B</th>\n",
       "    </tr>\n",
       "  </thead>\n",
       "  <tbody>\n",
       "    <tr>\n",
       "      <th>0</th>\n",
       "      <td>transferRDN-B Ref</td>\n",
       "      <td>0.234</td>\n",
       "    </tr>\n",
       "    <tr>\n",
       "      <th>1</th>\n",
       "      <td>transferRDN-B</td>\n",
       "      <td>0.517</td>\n",
       "    </tr>\n",
       "  </tbody>\n",
       "</table>\n",
       "</div>"
      ],
      "text/plain": [
       "             p-value  RDN-B\n",
       "0  transferRDN-B Ref  0.234\n",
       "1      transferRDN-B  0.517"
      ]
     },
     "metadata": {},
     "output_type": "display_data"
    },
    {
     "name": "stdout",
     "output_type": "stream",
     "text": [
      "Scratch: [0.40681, 0.611946, 0.285974, 0.447125, 0.41184]\n",
      "Transfer: [0.434292, 0.451111, 0.530356, 0.489314, 0.487554]\n",
      "Transfer & Revision: [0.436144, 0.631309, 0.34009, 0.430383, 0.41134]\n",
      "\n",
      "\n",
      "Experiment 4\n",
      "Ttest_relResult(statistic=1.258221621441191, pvalue=0.27674818708870574)\n",
      "Ttest_relResult(statistic=0.4654142533449954, pvalue=0.6658448841991103)\n"
     ]
    },
    {
     "data": {
      "text/html": [
       "<div>\n",
       "<table border=\"1\" class=\"dataframe\">\n",
       "  <thead>\n",
       "    <tr style=\"text-align: right;\">\n",
       "      <th></th>\n",
       "      <th>p-value</th>\n",
       "      <th>RDN-B</th>\n",
       "    </tr>\n",
       "  </thead>\n",
       "  <tbody>\n",
       "    <tr>\n",
       "      <th>0</th>\n",
       "      <td>transferRDN-B Ref</td>\n",
       "      <td>0.277</td>\n",
       "    </tr>\n",
       "    <tr>\n",
       "      <th>1</th>\n",
       "      <td>transferRDN-B</td>\n",
       "      <td>0.666</td>\n",
       "    </tr>\n",
       "  </tbody>\n",
       "</table>\n",
       "</div>"
      ],
      "text/plain": [
       "             p-value  RDN-B\n",
       "0  transferRDN-B Ref  0.277\n",
       "1      transferRDN-B  0.666"
      ]
     },
     "metadata": {},
     "output_type": "display_data"
    },
    {
     "name": "stdout",
     "output_type": "stream",
     "text": [
      "Scratch: [0.379294, 0.613529, 0.313123, 0.463546, 0.48224]\n",
      "Transfer: [0.434292, 0.451111, 0.530356, 0.489314, 0.487554]\n",
      "Transfer & Revision: [0.451138, 0.630484, 0.36208, 0.47959, 0.444612]\n",
      "\n",
      "\n",
      "Experiment 5\n",
      "Ttest_relResult(statistic=0.2743944104860139, pvalue=0.797369744004024)\n",
      "Ttest_relResult(statistic=0.4820672714116184, pvalue=0.6549485581728174)\n"
     ]
    },
    {
     "data": {
      "text/html": [
       "<div>\n",
       "<table border=\"1\" class=\"dataframe\">\n",
       "  <thead>\n",
       "    <tr style=\"text-align: right;\">\n",
       "      <th></th>\n",
       "      <th>p-value</th>\n",
       "      <th>RDN-B</th>\n",
       "    </tr>\n",
       "  </thead>\n",
       "  <tbody>\n",
       "    <tr>\n",
       "      <th>0</th>\n",
       "      <td>transferRDN-B Ref</td>\n",
       "      <td>0.797</td>\n",
       "    </tr>\n",
       "    <tr>\n",
       "      <th>1</th>\n",
       "      <td>transferRDN-B</td>\n",
       "      <td>0.655</td>\n",
       "    </tr>\n",
       "  </tbody>\n",
       "</table>\n",
       "</div>"
      ],
      "text/plain": [
       "             p-value  RDN-B\n",
       "0  transferRDN-B Ref  0.797\n",
       "1      transferRDN-B  0.655"
      ]
     },
     "metadata": {},
     "output_type": "display_data"
    },
    {
     "name": "stdout",
     "output_type": "stream",
     "text": [
      "Scratch: [0.460816, 0.61073, 0.352168, 0.41886, 0.412958]\n",
      "Transfer: [0.434292, 0.451111, 0.530356, 0.489314, 0.487554]\n",
      "Transfer & Revision: [0.445109, 0.62663, 0.358098, 0.443869, 0.393716]\n",
      "\n",
      "\n"
     ]
    },
    {
     "data": {
      "text/markdown": [
       "## Precision"
      ],
      "text/plain": [
       "<IPython.core.display.Markdown object>"
      ]
     },
     "metadata": {},
     "output_type": "display_data"
    },
    {
     "name": "stdout",
     "output_type": "stream",
     "text": [
      "Experiment 1\n",
      "Scratch: [0.647026, 0.518684, 0.598828, 0.579862, 0.553264]\n",
      "Transfer: [0.594595, nan, 0.666995, 0.882353, 0.8]\n",
      "Transfer & Revision: [0.653177, 0.535656, 0.635661, 0.605069, 0.556341]\n",
      "\n",
      "\n",
      "Experiment 2\n",
      "Scratch: [0.654828, 0.549538, 0.648405, 0.593167, 0.542738]\n",
      "Transfer: [0.667217, 0.64378, 0.670076, 0.658602, 0.661272]\n",
      "Transfer & Revision: [0.647768, 0.547029, 0.622926, 0.638784, 0.508796]\n",
      "\n",
      "\n",
      "Experiment 3\n",
      "Scratch: [0.632316, 0.554377, 0.60623, 0.645435, 0.523492]\n",
      "Transfer: [0.667217, 0.64378, 0.670076, 0.658602, 0.661272]\n",
      "Transfer & Revision: [0.660205, 0.54508, 0.629857, 0.638535, 0.52957]\n",
      "\n",
      "\n",
      "Experiment 4\n",
      "Scratch: [0.634382, 0.557853, 0.612264, 0.627145, 0.543283]\n",
      "Transfer: [0.667217, 0.64378, 0.670076, 0.658602, 0.661272]\n",
      "Transfer & Revision: [0.662211, 0.547755, 0.619247, 0.588093, 0.529491]\n",
      "\n",
      "\n",
      "Experiment 5\n",
      "Scratch: [0.645076, 0.561472, 0.658284, 0.593955, 0.542562]\n",
      "Transfer: [0.667217, 0.64378, 0.670076, 0.658602, 0.661272]\n",
      "Transfer & Revision: [0.659197, 0.544425, 0.629519, 0.608752, 0.547858]\n",
      "\n",
      "\n"
     ]
    },
    {
     "data": {
      "text/markdown": [
       "## Learning and Revision time"
      ],
      "text/plain": [
       "<IPython.core.display.Markdown object>"
      ]
     },
     "metadata": {},
     "output_type": "display_data"
    },
    {
     "name": "stdout",
     "output_type": "stream",
     "text": [
      "Experiment 1\n",
      "Scratch: [357.948, 205.32999999999998, 134.89600000000002, 28.312, 19.227]\n",
      "Transfer: ['187.831 (2.6)', '96.53399999999999 (2.8)', '60.955 (3.7)', '11.406 (2.8)', '9.72 (2.8)']\n",
      "Transfer & Revision: ['549.415 (2.6)', '288.519 (2.8)', '172.137 (3.7)', '34.654 (2.8)', '26.784 (2.8)']\n",
      "\n",
      "\n",
      "Experiment 2\n",
      "Scratch: [342.642, 229.097, 135.22899999999998, 30.507, 17.692]\n",
      "Transfer: ['211.965 (2.9)', '145.805 (2.5)', '83.131 (2.8)', '11.949 (2.5)', '7.782 (2.7)']\n",
      "Transfer & Revision: ['500.244 (2.9)', '330.48900000000003 (2.5)', '200.535 (2.8)', '38.858 (2.5)', '24.32 (2.7)']\n",
      "\n",
      "\n",
      "Experiment 3\n",
      "Scratch: [355.273, 227.94299999999998, 130.02100000000002, 25.536, 19.415]\n",
      "Transfer: ['242.657 (2.7)', '131.345 (2.7)', '62.632 (2.7)', '10.23 (2.6)', '8.878 (2.5)']\n",
      "Transfer & Revision: ['539.71 (2.7)', '315.96799999999996 (2.7)', '171.911 (2.7)', '39.388999999999996 (2.6)', '25.419 (2.5)']\n",
      "\n",
      "\n",
      "Experiment 4\n",
      "Scratch: [345.392, 207.974, 124.215, 27.77, 27.206]\n",
      "Transfer: ['228.885 (3.0)', '143.424 (2.6)', '76.089 (3.3)', '11.575 (2.5)', '8.016 (2.7)']\n",
      "Transfer & Revision: ['550.883 (3.0)', '319.3 (2.6)', '181.984 (3.3)', '36.634 (2.5)', '25.646 (2.7)']\n",
      "\n",
      "\n",
      "Experiment 5\n",
      "Scratch: [345.24, 204.588, 138.302, 28.011, 22.054]\n",
      "Transfer: ['210.199 (2.6)', '137.108 (2.7)', '63.122 (2.5)', '13.721 (2.6)', '8.881 (2.5)']\n",
      "Transfer & Revision: ['540.664 (2.6)', '326.202 (2.7)', '196.906 (2.5)', '39.980000000000004 (2.6)', '29.186 (2.5)']\n",
      "\n",
      "\n"
     ]
    },
    {
     "data": {
      "text/markdown": [
       "## Inference time"
      ],
      "text/plain": [
       "<IPython.core.display.Markdown object>"
      ]
     },
     "metadata": {},
     "output_type": "display_data"
    },
    {
     "name": "stdout",
     "output_type": "stream",
     "text": [
      "Experiment 1\n",
      "Scratch: [5.632, 6.726, 4.725, 6.049, 6.23]\n",
      "Transfer: [3.136, 4.046, 5.014, 4.166, 3.382]\n",
      "Transfer & Revision: [4.823, 5.67, 5.418, 5.68, 6.01]\n",
      "\n",
      "\n",
      "Experiment 2\n",
      "Scratch: [4.976, 5.58, 5.334, 5.656, 7.108]\n",
      "Transfer: [3.271, 3.034, 3.503, 4.569, 3.847]\n",
      "Transfer & Revision: [4.269, 6.515, 6.223, 7.199, 6.301]\n",
      "\n",
      "\n",
      "Experiment 3\n",
      "Scratch: [4.895, 5.67, 5.384, 6.622, 6.602]\n",
      "Transfer: [3.711, 5.375, 3.154, 4.056, 4.289]\n",
      "Transfer & Revision: [5.555, 5.429, 5.36, 6.662, 5.705]\n",
      "\n",
      "\n",
      "Experiment 4\n",
      "Scratch: [4.4, 5.603, 5.192, 5.408, 6.552]\n",
      "Transfer: [3.23, 3.353, 3.406, 3.394, 3.239]\n",
      "Transfer & Revision: [4.931, 5.577, 5.437, 6.171, 6.164]\n",
      "\n",
      "\n",
      "Experiment 5\n",
      "Scratch: [4.192, 5.706, 5.664, 5.78, 6.393]\n",
      "Transfer: [3.765, 3.185, 3.026, 3.499, 4.684]\n",
      "Transfer & Revision: [5.228, 5.347, 4.835, 5.492, 7.882]\n",
      "\n",
      "\n"
     ]
    },
    {
     "data": {
      "text/markdown": [
       "# Results for 50_uwcse_facebook"
      ],
      "text/plain": [
       "<IPython.core.display.Markdown object>"
      ]
     },
     "metadata": {},
     "output_type": "display_data"
    },
    {
     "data": {
      "text/markdown": [
       "## AUC ROC"
      ],
      "text/plain": [
       "<IPython.core.display.Markdown object>"
      ]
     },
     "metadata": {},
     "output_type": "display_data"
    },
    {
     "name": "stdout",
     "output_type": "stream",
     "text": [
      "Experiment 1\n",
      "Ttest_relResult(statistic=1.8059786385763106, pvalue=0.14522481036714538)\n",
      "Ttest_relResult(statistic=0.600224510693031, pvalue=0.580705420672235)\n"
     ]
    },
    {
     "data": {
      "text/html": [
       "<div>\n",
       "<table border=\"1\" class=\"dataframe\">\n",
       "  <thead>\n",
       "    <tr style=\"text-align: right;\">\n",
       "      <th></th>\n",
       "      <th>p-value</th>\n",
       "      <th>RDN-B</th>\n",
       "    </tr>\n",
       "  </thead>\n",
       "  <tbody>\n",
       "    <tr>\n",
       "      <th>0</th>\n",
       "      <td>transferRDN-B Ref</td>\n",
       "      <td>0.145</td>\n",
       "    </tr>\n",
       "    <tr>\n",
       "      <th>1</th>\n",
       "      <td>transferRDN-B</td>\n",
       "      <td>0.581</td>\n",
       "    </tr>\n",
       "  </tbody>\n",
       "</table>\n",
       "</div>"
      ],
      "text/plain": [
       "             p-value  RDN-B\n",
       "0  transferRDN-B Ref  0.145\n",
       "1      transferRDN-B  0.581"
      ]
     },
     "metadata": {},
     "output_type": "display_data"
    },
    {
     "name": "stdout",
     "output_type": "stream",
     "text": [
      "Scratch: [0.632079, 0.574565, 0.59017, 0.578895, 0.525094]\n",
      "Transfer: [0.620036, 0.578667, 0.652183, 0.507962, 0.635702]\n",
      "Transfer & Revision: [0.636892, 0.579787, 0.590026, 0.58091, 0.544988]\n",
      "\n",
      "\n",
      "Experiment 2\n",
      "Ttest_relResult(statistic=0.7509178144024312, pvalue=0.49446421687613223)\n",
      "Ttest_relResult(statistic=1.437312941596877, pvalue=0.2239977383501067)\n"
     ]
    },
    {
     "data": {
      "text/html": [
       "<div>\n",
       "<table border=\"1\" class=\"dataframe\">\n",
       "  <thead>\n",
       "    <tr style=\"text-align: right;\">\n",
       "      <th></th>\n",
       "      <th>p-value</th>\n",
       "      <th>RDN-B</th>\n",
       "    </tr>\n",
       "  </thead>\n",
       "  <tbody>\n",
       "    <tr>\n",
       "      <th>0</th>\n",
       "      <td>transferRDN-B Ref</td>\n",
       "      <td>0.494</td>\n",
       "    </tr>\n",
       "    <tr>\n",
       "      <th>1</th>\n",
       "      <td>transferRDN-B</td>\n",
       "      <td>0.224</td>\n",
       "    </tr>\n",
       "  </tbody>\n",
       "</table>\n",
       "</div>"
      ],
      "text/plain": [
       "             p-value  RDN-B\n",
       "0  transferRDN-B Ref  0.494\n",
       "1      transferRDN-B  0.224"
      ]
     },
     "metadata": {},
     "output_type": "display_data"
    },
    {
     "name": "stdout",
     "output_type": "stream",
     "text": [
      "Scratch: [0.63255, 0.573633, 0.587255, 0.586059, 0.538292]\n",
      "Transfer: [0.626782, 0.538889, 0.655826, 0.639119, 0.615439]\n",
      "Transfer & Revision: [0.638977, 0.572724, 0.576554, 0.595378, 0.549055]\n",
      "\n",
      "\n",
      "Experiment 3\n",
      "Ttest_relResult(statistic=-1.2665347412180306, pvalue=0.2740520117488431)\n",
      "Ttest_relResult(statistic=-1.2981445896192974, pvalue=0.2640288024245155)\n"
     ]
    },
    {
     "data": {
      "text/html": [
       "<div>\n",
       "<table border=\"1\" class=\"dataframe\">\n",
       "  <thead>\n",
       "    <tr style=\"text-align: right;\">\n",
       "      <th></th>\n",
       "      <th>p-value</th>\n",
       "      <th>RDN-B</th>\n",
       "    </tr>\n",
       "  </thead>\n",
       "  <tbody>\n",
       "    <tr>\n",
       "      <th>0</th>\n",
       "      <td>transferRDN-B Ref</td>\n",
       "      <td>0.274</td>\n",
       "    </tr>\n",
       "    <tr>\n",
       "      <th>1</th>\n",
       "      <td>transferRDN-B</td>\n",
       "      <td>0.264</td>\n",
       "    </tr>\n",
       "  </tbody>\n",
       "</table>\n",
       "</div>"
      ],
      "text/plain": [
       "             p-value  RDN-B\n",
       "0  transferRDN-B Ref  0.274\n",
       "1      transferRDN-B  0.264"
      ]
     },
     "metadata": {},
     "output_type": "display_data"
    },
    {
     "name": "stdout",
     "output_type": "stream",
     "text": [
      "Scratch: [0.628214, 0.579765, 0.541336, 0.592644, 0.535909]\n",
      "Transfer: [0.513285, 0.482616, 0.62269, 0.467276, 0.533788]\n",
      "Transfer & Revision: [0.622437, 0.585445, 0.531348, 0.584713, 0.535849]\n",
      "\n",
      "\n",
      "Experiment 4\n",
      "Ttest_relResult(statistic=1.1826324018445582, pvalue=0.3024483116955432)\n",
      "Ttest_relResult(statistic=-0.31690349163962933, pvalue=0.7671675222473039)\n"
     ]
    },
    {
     "data": {
      "text/html": [
       "<div>\n",
       "<table border=\"1\" class=\"dataframe\">\n",
       "  <thead>\n",
       "    <tr style=\"text-align: right;\">\n",
       "      <th></th>\n",
       "      <th>p-value</th>\n",
       "      <th>RDN-B</th>\n",
       "    </tr>\n",
       "  </thead>\n",
       "  <tbody>\n",
       "    <tr>\n",
       "      <th>0</th>\n",
       "      <td>transferRDN-B Ref</td>\n",
       "      <td>0.302</td>\n",
       "    </tr>\n",
       "    <tr>\n",
       "      <th>1</th>\n",
       "      <td>transferRDN-B</td>\n",
       "      <td>0.767</td>\n",
       "    </tr>\n",
       "  </tbody>\n",
       "</table>\n",
       "</div>"
      ],
      "text/plain": [
       "             p-value  RDN-B\n",
       "0  transferRDN-B Ref  0.302\n",
       "1      transferRDN-B  0.767"
      ]
     },
     "metadata": {},
     "output_type": "display_data"
    },
    {
     "name": "stdout",
     "output_type": "stream",
     "text": [
      "Scratch: [0.637078, 0.576104, 0.593669, 0.577709, 0.545699]\n",
      "Transfer: [0.515327, 0.540642, 0.656846, 0.514811, 0.639271]\n",
      "Transfer & Revision: [0.625594, 0.581323, 0.611576, 0.584781, 0.555424]\n",
      "\n",
      "\n",
      "Experiment 5\n",
      "Ttest_relResult(statistic=-0.680314301520408, pvalue=0.5336445994727499)\n",
      "Ttest_relResult(statistic=-0.629003140668528, pvalue=0.5634808998672399)\n"
     ]
    },
    {
     "data": {
      "text/html": [
       "<div>\n",
       "<table border=\"1\" class=\"dataframe\">\n",
       "  <thead>\n",
       "    <tr style=\"text-align: right;\">\n",
       "      <th></th>\n",
       "      <th>p-value</th>\n",
       "      <th>RDN-B</th>\n",
       "    </tr>\n",
       "  </thead>\n",
       "  <tbody>\n",
       "    <tr>\n",
       "      <th>0</th>\n",
       "      <td>transferRDN-B Ref</td>\n",
       "      <td>0.534</td>\n",
       "    </tr>\n",
       "    <tr>\n",
       "      <th>1</th>\n",
       "      <td>transferRDN-B</td>\n",
       "      <td>0.563</td>\n",
       "    </tr>\n",
       "  </tbody>\n",
       "</table>\n",
       "</div>"
      ],
      "text/plain": [
       "             p-value  RDN-B\n",
       "0  transferRDN-B Ref  0.534\n",
       "1      transferRDN-B  0.563"
      ]
     },
     "metadata": {},
     "output_type": "display_data"
    },
    {
     "name": "stdout",
     "output_type": "stream",
     "text": [
      "Scratch: [0.634076, 0.576752, 0.591662, 0.574207, 0.546284]\n",
      "Transfer: [0.514006, 0.497547, 0.63857, 0.52768, 0.626218]\n",
      "Transfer & Revision: [0.615523, 0.574915, 0.5916, 0.590887, 0.527551]\n",
      "\n",
      "\n"
     ]
    },
    {
     "data": {
      "text/markdown": [
       "## AUC PR"
      ],
      "text/plain": [
       "<IPython.core.display.Markdown object>"
      ]
     },
     "metadata": {},
     "output_type": "display_data"
    },
    {
     "name": "stdout",
     "output_type": "stream",
     "text": [
      "Experiment 1\n",
      "Ttest_relResult(statistic=0.8122939981246361, pvalue=0.462198623738687)\n",
      "Ttest_relResult(statistic=0.18974222729857093, pvalue=0.8587507013720861)\n"
     ]
    },
    {
     "data": {
      "text/html": [
       "<div>\n",
       "<table border=\"1\" class=\"dataframe\">\n",
       "  <thead>\n",
       "    <tr style=\"text-align: right;\">\n",
       "      <th></th>\n",
       "      <th>p-value</th>\n",
       "      <th>RDN-B</th>\n",
       "    </tr>\n",
       "  </thead>\n",
       "  <tbody>\n",
       "    <tr>\n",
       "      <th>0</th>\n",
       "      <td>transferRDN-B Ref</td>\n",
       "      <td>0.462</td>\n",
       "    </tr>\n",
       "    <tr>\n",
       "      <th>1</th>\n",
       "      <td>transferRDN-B</td>\n",
       "      <td>0.859</td>\n",
       "    </tr>\n",
       "  </tbody>\n",
       "</table>\n",
       "</div>"
      ],
      "text/plain": [
       "             p-value  RDN-B\n",
       "0  transferRDN-B Ref  0.462\n",
       "1      transferRDN-B  0.859"
      ]
     },
     "metadata": {},
     "output_type": "display_data"
    },
    {
     "name": "stdout",
     "output_type": "stream",
     "text": [
      "Scratch: [0.619002, 0.580177, 0.587423, 0.579652, 0.516163]\n",
      "Transfer: [0.602684, 0.581163, 0.610618, 0.503185, 0.611219]\n",
      "Transfer & Revision: [0.61235, 0.578907, 0.593419, 0.579609, 0.53809]\n",
      "\n",
      "\n",
      "Experiment 2\n",
      "Ttest_relResult(statistic=0.26248858017739174, pvalue=0.8059092456460892)\n",
      "Ttest_relResult(statistic=1.2121849935943185, pvalue=0.29214296779468457)\n"
     ]
    },
    {
     "data": {
      "text/html": [
       "<div>\n",
       "<table border=\"1\" class=\"dataframe\">\n",
       "  <thead>\n",
       "    <tr style=\"text-align: right;\">\n",
       "      <th></th>\n",
       "      <th>p-value</th>\n",
       "      <th>RDN-B</th>\n",
       "    </tr>\n",
       "  </thead>\n",
       "  <tbody>\n",
       "    <tr>\n",
       "      <th>0</th>\n",
       "      <td>transferRDN-B Ref</td>\n",
       "      <td>0.806</td>\n",
       "    </tr>\n",
       "    <tr>\n",
       "      <th>1</th>\n",
       "      <td>transferRDN-B</td>\n",
       "      <td>0.292</td>\n",
       "    </tr>\n",
       "  </tbody>\n",
       "</table>\n",
       "</div>"
      ],
      "text/plain": [
       "             p-value  RDN-B\n",
       "0  transferRDN-B Ref  0.806\n",
       "1      transferRDN-B  0.292"
      ]
     },
     "metadata": {},
     "output_type": "display_data"
    },
    {
     "name": "stdout",
     "output_type": "stream",
     "text": [
      "Scratch: [0.611092, 0.577185, 0.586463, 0.584991, 0.5246]\n",
      "Transfer: [0.607397, 0.546509, 0.623505, 0.618467, 0.59243]\n",
      "Transfer & Revision: [0.613818, 0.567399, 0.577225, 0.588434, 0.54458]\n",
      "\n",
      "\n",
      "Experiment 3\n",
      "Ttest_relResult(statistic=-1.5679265550848267, pvalue=0.1919712034681526)\n",
      "Ttest_relResult(statistic=-1.3971477385744782, pvalue=0.23489132851513972)\n"
     ]
    },
    {
     "data": {
      "text/html": [
       "<div>\n",
       "<table border=\"1\" class=\"dataframe\">\n",
       "  <thead>\n",
       "    <tr style=\"text-align: right;\">\n",
       "      <th></th>\n",
       "      <th>p-value</th>\n",
       "      <th>RDN-B</th>\n",
       "    </tr>\n",
       "  </thead>\n",
       "  <tbody>\n",
       "    <tr>\n",
       "      <th>0</th>\n",
       "      <td>transferRDN-B Ref</td>\n",
       "      <td>0.192</td>\n",
       "    </tr>\n",
       "    <tr>\n",
       "      <th>1</th>\n",
       "      <td>transferRDN-B</td>\n",
       "      <td>0.235</td>\n",
       "    </tr>\n",
       "  </tbody>\n",
       "</table>\n",
       "</div>"
      ],
      "text/plain": [
       "             p-value  RDN-B\n",
       "0  transferRDN-B Ref  0.192\n",
       "1      transferRDN-B  0.235"
      ]
     },
     "metadata": {},
     "output_type": "display_data"
    },
    {
     "name": "stdout",
     "output_type": "stream",
     "text": [
      "Scratch: [0.609682, 0.582292, 0.560454, 0.591679, 0.532826]\n",
      "Transfer: [0.51065, 0.49082, 0.607659, 0.482091, 0.553636]\n",
      "Transfer & Revision: [0.602626, 0.579517, 0.545662, 0.58971, 0.535932]\n",
      "\n",
      "\n",
      "Experiment 4\n",
      "Ttest_relResult(statistic=0.34472148813475945, pvalue=0.7476660483198512)\n",
      "Ttest_relResult(statistic=-0.5982185121432461, pvalue=0.5819189718745599)\n"
     ]
    },
    {
     "data": {
      "text/html": [
       "<div>\n",
       "<table border=\"1\" class=\"dataframe\">\n",
       "  <thead>\n",
       "    <tr style=\"text-align: right;\">\n",
       "      <th></th>\n",
       "      <th>p-value</th>\n",
       "      <th>RDN-B</th>\n",
       "    </tr>\n",
       "  </thead>\n",
       "  <tbody>\n",
       "    <tr>\n",
       "      <th>0</th>\n",
       "      <td>transferRDN-B Ref</td>\n",
       "      <td>0.748</td>\n",
       "    </tr>\n",
       "    <tr>\n",
       "      <th>1</th>\n",
       "      <td>transferRDN-B</td>\n",
       "      <td>0.582</td>\n",
       "    </tr>\n",
       "  </tbody>\n",
       "</table>\n",
       "</div>"
      ],
      "text/plain": [
       "             p-value  RDN-B\n",
       "0  transferRDN-B Ref  0.748\n",
       "1      transferRDN-B  0.582"
      ]
     },
     "metadata": {},
     "output_type": "display_data"
    },
    {
     "name": "stdout",
     "output_type": "stream",
     "text": [
      "Scratch: [0.618577, 0.573852, 0.599486, 0.57677, 0.544263]\n",
      "Transfer: [0.512221, 0.548178, 0.624976, 0.524371, 0.612524]\n",
      "Transfer & Revision: [0.604916, 0.589919, 0.58932, 0.580858, 0.558447]\n",
      "\n",
      "\n",
      "Experiment 5\n",
      "Ttest_relResult(statistic=-0.34410033926237626, pvalue=0.7480990882278074)\n",
      "Ttest_relResult(statistic=-0.7367487706997738, pvalue=0.5021508896181639)\n"
     ]
    },
    {
     "data": {
      "text/html": [
       "<div>\n",
       "<table border=\"1\" class=\"dataframe\">\n",
       "  <thead>\n",
       "    <tr style=\"text-align: right;\">\n",
       "      <th></th>\n",
       "      <th>p-value</th>\n",
       "      <th>RDN-B</th>\n",
       "    </tr>\n",
       "  </thead>\n",
       "  <tbody>\n",
       "    <tr>\n",
       "      <th>0</th>\n",
       "      <td>transferRDN-B Ref</td>\n",
       "      <td>0.748</td>\n",
       "    </tr>\n",
       "    <tr>\n",
       "      <th>1</th>\n",
       "      <td>transferRDN-B</td>\n",
       "      <td>0.502</td>\n",
       "    </tr>\n",
       "  </tbody>\n",
       "</table>\n",
       "</div>"
      ],
      "text/plain": [
       "             p-value  RDN-B\n",
       "0  transferRDN-B Ref  0.748\n",
       "1      transferRDN-B  0.502"
      ]
     },
     "metadata": {},
     "output_type": "display_data"
    },
    {
     "name": "stdout",
     "output_type": "stream",
     "text": [
      "Scratch: [0.61118, 0.575423, 0.594755, 0.577108, 0.529744]\n",
      "Transfer: [0.51206, 0.496196, 0.622914, 0.529934, 0.60531]\n",
      "Transfer & Revision: [0.596397, 0.583128, 0.584033, 0.58876, 0.527118]\n",
      "\n",
      "\n"
     ]
    },
    {
     "data": {
      "text/markdown": [
       "## CLL"
      ],
      "text/plain": [
       "<IPython.core.display.Markdown object>"
      ]
     },
     "metadata": {},
     "output_type": "display_data"
    },
    {
     "name": "stdout",
     "output_type": "stream",
     "text": [
      "Experiment 1\n",
      "Ttest_relResult(statistic=1.5372744137787255, pvalue=0.19904174016921475)\n",
      "Ttest_relResult(statistic=2.2428578378295843, pvalue=0.0883415589515184)\n"
     ]
    },
    {
     "data": {
      "text/html": [
       "<div>\n",
       "<table border=\"1\" class=\"dataframe\">\n",
       "  <thead>\n",
       "    <tr style=\"text-align: right;\">\n",
       "      <th></th>\n",
       "      <th>p-value</th>\n",
       "      <th>RDN-B</th>\n",
       "    </tr>\n",
       "  </thead>\n",
       "  <tbody>\n",
       "    <tr>\n",
       "      <th>0</th>\n",
       "      <td>transferRDN-B Ref</td>\n",
       "      <td>0.199</td>\n",
       "    </tr>\n",
       "    <tr>\n",
       "      <th>1</th>\n",
       "      <td>transferRDN-B</td>\n",
       "      <td>0.088</td>\n",
       "    </tr>\n",
       "  </tbody>\n",
       "</table>\n",
       "</div>"
      ],
      "text/plain": [
       "             p-value  RDN-B\n",
       "0  transferRDN-B Ref  0.199\n",
       "1      transferRDN-B  0.088"
      ]
     },
     "metadata": {},
     "output_type": "display_data"
    },
    {
     "name": "stdout",
     "output_type": "stream",
     "text": [
      "Scratch: [-0.68043, -0.703991, -0.702159, -0.712072, -0.778631]\n",
      "Transfer: [-0.675982, -0.680882, -0.668925, -0.693633, -0.685587]\n",
      "Transfer & Revision: [-0.67715, -0.704454, -0.702245, -0.694869, -0.736937]\n",
      "\n",
      "\n",
      "Experiment 2\n",
      "Ttest_relResult(statistic=0.6251113983564953, pvalue=0.565789786245698)\n",
      "Ttest_relResult(statistic=3.0292077495453977, pvalue=0.038810708019115826)\n"
     ]
    },
    {
     "data": {
      "text/html": [
       "<div>\n",
       "<table border=\"1\" class=\"dataframe\">\n",
       "  <thead>\n",
       "    <tr style=\"text-align: right;\">\n",
       "      <th></th>\n",
       "      <th>p-value</th>\n",
       "      <th>RDN-B</th>\n",
       "    </tr>\n",
       "  </thead>\n",
       "  <tbody>\n",
       "    <tr>\n",
       "      <th>0</th>\n",
       "      <td>transferRDN-B Ref</td>\n",
       "      <td>0.566</td>\n",
       "    </tr>\n",
       "    <tr>\n",
       "      <th>1</th>\n",
       "      <td>transferRDN-B</td>\n",
       "      <td>0.039</td>\n",
       "    </tr>\n",
       "  </tbody>\n",
       "</table>\n",
       "</div>"
      ],
      "text/plain": [
       "             p-value  RDN-B\n",
       "0  transferRDN-B Ref  0.566\n",
       "1      transferRDN-B  0.039"
      ]
     },
     "metadata": {},
     "output_type": "display_data"
    },
    {
     "name": "stdout",
     "output_type": "stream",
     "text": [
      "Scratch: [-0.67745, -0.707622, -0.706001, -0.708321, -0.746102]\n",
      "Transfer: [-0.674213, -0.692938, -0.666482, -0.664756, -0.681006]\n",
      "Transfer & Revision: [-0.673777, -0.701683, -0.705981, -0.700254, -0.754672]\n",
      "\n",
      "\n",
      "Experiment 3\n",
      "Ttest_relResult(statistic=1.657561207532045, pvalue=0.172746227901443)\n",
      "Ttest_relResult(statistic=1.3279308703725374, pvalue=0.25490909119487587)\n"
     ]
    },
    {
     "data": {
      "text/html": [
       "<div>\n",
       "<table border=\"1\" class=\"dataframe\">\n",
       "  <thead>\n",
       "    <tr style=\"text-align: right;\">\n",
       "      <th></th>\n",
       "      <th>p-value</th>\n",
       "      <th>RDN-B</th>\n",
       "    </tr>\n",
       "  </thead>\n",
       "  <tbody>\n",
       "    <tr>\n",
       "      <th>0</th>\n",
       "      <td>transferRDN-B Ref</td>\n",
       "      <td>0.173</td>\n",
       "    </tr>\n",
       "    <tr>\n",
       "      <th>1</th>\n",
       "      <td>transferRDN-B</td>\n",
       "      <td>0.255</td>\n",
       "    </tr>\n",
       "  </tbody>\n",
       "</table>\n",
       "</div>"
      ],
      "text/plain": [
       "             p-value  RDN-B\n",
       "0  transferRDN-B Ref  0.173\n",
       "1      transferRDN-B  0.255"
      ]
     },
     "metadata": {},
     "output_type": "display_data"
    },
    {
     "name": "stdout",
     "output_type": "stream",
     "text": [
      "Scratch: [-0.67802, -0.703673, -0.742822, -0.702263, -0.771034]\n",
      "Transfer: [-0.701606, -0.697067, -0.670144, -0.700955, -0.690294]\n",
      "Transfer & Revision: [-0.679248, -0.686375, -0.746807, -0.694426, -0.748641]\n",
      "\n",
      "\n",
      "Experiment 4\n",
      "Ttest_relResult(statistic=2.094182294656287, pvalue=0.104336491644694)\n",
      "Ttest_relResult(statistic=1.4705036259703093, pvalue=0.21537860147337287)\n"
     ]
    },
    {
     "data": {
      "text/html": [
       "<div>\n",
       "<table border=\"1\" class=\"dataframe\">\n",
       "  <thead>\n",
       "    <tr style=\"text-align: right;\">\n",
       "      <th></th>\n",
       "      <th>p-value</th>\n",
       "      <th>RDN-B</th>\n",
       "    </tr>\n",
       "  </thead>\n",
       "  <tbody>\n",
       "    <tr>\n",
       "      <th>0</th>\n",
       "      <td>transferRDN-B Ref</td>\n",
       "      <td>0.104</td>\n",
       "    </tr>\n",
       "    <tr>\n",
       "      <th>1</th>\n",
       "      <td>transferRDN-B</td>\n",
       "      <td>0.215</td>\n",
       "    </tr>\n",
       "  </tbody>\n",
       "</table>\n",
       "</div>"
      ],
      "text/plain": [
       "             p-value  RDN-B\n",
       "0  transferRDN-B Ref  0.104\n",
       "1      transferRDN-B  0.215"
      ]
     },
     "metadata": {},
     "output_type": "display_data"
    },
    {
     "name": "stdout",
     "output_type": "stream",
     "text": [
      "Scratch: [-0.676926, -0.70539, -0.695498, -0.711012, -0.745226]\n",
      "Transfer: [-0.698658, -0.69235, -0.667603, -0.693453, -0.684456]\n",
      "Transfer & Revision: [-0.68063, -0.696873, -0.686033, -0.697682, -0.714283]\n",
      "\n",
      "\n",
      "Experiment 5\n",
      "Ttest_relResult(statistic=1.0979738567977875, pvalue=0.3338693399740133)\n",
      "Ttest_relResult(statistic=1.4724785114185523, pvalue=0.21487640903215444)\n"
     ]
    },
    {
     "data": {
      "text/html": [
       "<div>\n",
       "<table border=\"1\" class=\"dataframe\">\n",
       "  <thead>\n",
       "    <tr style=\"text-align: right;\">\n",
       "      <th></th>\n",
       "      <th>p-value</th>\n",
       "      <th>RDN-B</th>\n",
       "    </tr>\n",
       "  </thead>\n",
       "  <tbody>\n",
       "    <tr>\n",
       "      <th>0</th>\n",
       "      <td>transferRDN-B Ref</td>\n",
       "      <td>0.334</td>\n",
       "    </tr>\n",
       "    <tr>\n",
       "      <th>1</th>\n",
       "      <td>transferRDN-B</td>\n",
       "      <td>0.215</td>\n",
       "    </tr>\n",
       "  </tbody>\n",
       "</table>\n",
       "</div>"
      ],
      "text/plain": [
       "             p-value  RDN-B\n",
       "0  transferRDN-B Ref  0.334\n",
       "1      transferRDN-B  0.215"
      ]
     },
     "metadata": {},
     "output_type": "display_data"
    },
    {
     "name": "stdout",
     "output_type": "stream",
     "text": [
      "Scratch: [-0.677868, -0.702805, -0.703275, -0.71294, -0.769928]\n",
      "Transfer: [-0.696947, -0.69733, -0.667893, -0.69219, -0.686928]\n",
      "Transfer & Revision: [-0.682399, -0.699624, -0.702777, -0.704082, -0.765859]\n",
      "\n",
      "\n"
     ]
    },
    {
     "data": {
      "text/markdown": [
       "## Recall"
      ],
      "text/plain": [
       "<IPython.core.display.Markdown object>"
      ]
     },
     "metadata": {},
     "output_type": "display_data"
    },
    {
     "name": "stdout",
     "output_type": "stream",
     "text": [
      "Experiment 1\n",
      "Ttest_relResult(statistic=2.2797728436662017, pvalue=0.08480781411155838)\n",
      "Ttest_relResult(statistic=-0.6736624341457931, pvalue=0.5374484909867767)\n"
     ]
    },
    {
     "data": {
      "text/html": [
       "<div>\n",
       "<table border=\"1\" class=\"dataframe\">\n",
       "  <thead>\n",
       "    <tr style=\"text-align: right;\">\n",
       "      <th></th>\n",
       "      <th>p-value</th>\n",
       "      <th>RDN-B</th>\n",
       "    </tr>\n",
       "  </thead>\n",
       "  <tbody>\n",
       "    <tr>\n",
       "      <th>0</th>\n",
       "      <td>transferRDN-B Ref</td>\n",
       "      <td>0.085</td>\n",
       "    </tr>\n",
       "    <tr>\n",
       "      <th>1</th>\n",
       "      <td>transferRDN-B</td>\n",
       "      <td>0.537</td>\n",
       "    </tr>\n",
       "  </tbody>\n",
       "</table>\n",
       "</div>"
      ],
      "text/plain": [
       "             p-value  RDN-B\n",
       "0  transferRDN-B Ref  0.085\n",
       "1      transferRDN-B  0.537"
      ]
     },
     "metadata": {},
     "output_type": "display_data"
    },
    {
     "name": "stdout",
     "output_type": "stream",
     "text": [
      "Scratch: [0.340505, 0.675779, 0.271932, 0.292152, 0.266455]\n",
      "Transfer: [0.321912, 0.347201, 0.448682, 0.0, 0.380824]\n",
      "Transfer & Revision: [0.341567, 0.696798, 0.290622, 0.388427, 0.360297]\n",
      "\n",
      "\n",
      "Experiment 2\n",
      "Ttest_relResult(statistic=0.895775264993582, pvalue=0.42100771100944556)\n",
      "Ttest_relResult(statistic=-0.5082890951709019, pvalue=0.6380005115161077)\n"
     ]
    },
    {
     "data": {
      "text/html": [
       "<div>\n",
       "<table border=\"1\" class=\"dataframe\">\n",
       "  <thead>\n",
       "    <tr style=\"text-align: right;\">\n",
       "      <th></th>\n",
       "      <th>p-value</th>\n",
       "      <th>RDN-B</th>\n",
       "    </tr>\n",
       "  </thead>\n",
       "  <tbody>\n",
       "    <tr>\n",
       "      <th>0</th>\n",
       "      <td>transferRDN-B Ref</td>\n",
       "      <td>0.421</td>\n",
       "    </tr>\n",
       "    <tr>\n",
       "      <th>1</th>\n",
       "      <td>transferRDN-B</td>\n",
       "      <td>0.638</td>\n",
       "    </tr>\n",
       "  </tbody>\n",
       "</table>\n",
       "</div>"
      ],
      "text/plain": [
       "             p-value  RDN-B\n",
       "0  transferRDN-B Ref  0.421\n",
       "1      transferRDN-B  0.638"
      ]
     },
     "metadata": {},
     "output_type": "display_data"
    },
    {
     "name": "stdout",
     "output_type": "stream",
     "text": [
      "Scratch: [0.312749, 0.651819, 0.241573, 0.359744, 0.353454]\n",
      "Transfer: [0.321912, 0.177086, 0.448682, 0.389258, 0.294803]\n",
      "Transfer & Revision: [0.372112, 0.686016, 0.23185, 0.332973, 0.365021]\n",
      "\n",
      "\n",
      "Experiment 3\n",
      "Ttest_relResult(statistic=-0.8542140198873649, pvalue=0.44112670896005624)\n",
      "Ttest_relResult(statistic=-1.190200065547967, pvalue=0.299777361608095)\n"
     ]
    },
    {
     "data": {
      "text/html": [
       "<div>\n",
       "<table border=\"1\" class=\"dataframe\">\n",
       "  <thead>\n",
       "    <tr style=\"text-align: right;\">\n",
       "      <th></th>\n",
       "      <th>p-value</th>\n",
       "      <th>RDN-B</th>\n",
       "    </tr>\n",
       "  </thead>\n",
       "  <tbody>\n",
       "    <tr>\n",
       "      <th>0</th>\n",
       "      <td>transferRDN-B Ref</td>\n",
       "      <td>0.441</td>\n",
       "    </tr>\n",
       "    <tr>\n",
       "      <th>1</th>\n",
       "      <td>transferRDN-B</td>\n",
       "      <td>0.300</td>\n",
       "    </tr>\n",
       "  </tbody>\n",
       "</table>\n",
       "</div>"
      ],
      "text/plain": [
       "             p-value  RDN-B\n",
       "0  transferRDN-B Ref  0.441\n",
       "1      transferRDN-B  0.300"
      ]
     },
     "metadata": {},
     "output_type": "display_data"
    },
    {
     "name": "stdout",
     "output_type": "stream",
     "text": [
      "Scratch: [0.310226, 0.658898, 0.203003, 0.394413, 0.294884]\n",
      "Transfer: [0.086853, 0.0, 0.448682, 0.0, 0.365754]\n",
      "Transfer & Revision: [0.262284, 0.549662, 0.158168, 0.460093, 0.304985]\n",
      "\n",
      "\n",
      "Experiment 4\n",
      "Ttest_relResult(statistic=-0.3761105191414165, pvalue=0.7259328542343043)\n",
      "Ttest_relResult(statistic=-1.3290666256198007, pvalue=0.25456749353212244)\n"
     ]
    },
    {
     "data": {
      "text/html": [
       "<div>\n",
       "<table border=\"1\" class=\"dataframe\">\n",
       "  <thead>\n",
       "    <tr style=\"text-align: right;\">\n",
       "      <th></th>\n",
       "      <th>p-value</th>\n",
       "      <th>RDN-B</th>\n",
       "    </tr>\n",
       "  </thead>\n",
       "  <tbody>\n",
       "    <tr>\n",
       "      <th>0</th>\n",
       "      <td>transferRDN-B Ref</td>\n",
       "      <td>0.726</td>\n",
       "    </tr>\n",
       "    <tr>\n",
       "      <th>1</th>\n",
       "      <td>transferRDN-B</td>\n",
       "      <td>0.255</td>\n",
       "    </tr>\n",
       "  </tbody>\n",
       "</table>\n",
       "</div>"
      ],
      "text/plain": [
       "             p-value  RDN-B\n",
       "0  transferRDN-B Ref  0.726\n",
       "1      transferRDN-B  0.255"
      ]
     },
     "metadata": {},
     "output_type": "display_data"
    },
    {
     "name": "stdout",
     "output_type": "stream",
     "text": [
      "Scratch: [0.315671, 0.658898, 0.278846, 0.321334, 0.3348]\n",
      "Transfer: [0.019655, 0.139185, 0.441659, 0.119388, 0.380824]\n",
      "Transfer & Revision: [0.230279, 0.666739, 0.264585, 0.384519, 0.318508]\n",
      "\n",
      "\n",
      "Experiment 5\n",
      "Ttest_relResult(statistic=-0.3388087102509835, pvalue=0.7517927386127331)\n",
      "Ttest_relResult(statistic=-1.368583071833565, pvalue=0.2429573979822907)\n"
     ]
    },
    {
     "data": {
      "text/html": [
       "<div>\n",
       "<table border=\"1\" class=\"dataframe\">\n",
       "  <thead>\n",
       "    <tr style=\"text-align: right;\">\n",
       "      <th></th>\n",
       "      <th>p-value</th>\n",
       "      <th>RDN-B</th>\n",
       "    </tr>\n",
       "  </thead>\n",
       "  <tbody>\n",
       "    <tr>\n",
       "      <th>0</th>\n",
       "      <td>transferRDN-B Ref</td>\n",
       "      <td>0.752</td>\n",
       "    </tr>\n",
       "    <tr>\n",
       "      <th>1</th>\n",
       "      <td>transferRDN-B</td>\n",
       "      <td>0.243</td>\n",
       "    </tr>\n",
       "  </tbody>\n",
       "</table>\n",
       "</div>"
      ],
      "text/plain": [
       "             p-value  RDN-B\n",
       "0  transferRDN-B Ref  0.752\n",
       "1      transferRDN-B  0.243"
      ]
     },
     "metadata": {},
     "output_type": "display_data"
    },
    {
     "name": "stdout",
     "output_type": "stream",
     "text": [
      "Scratch: [0.301328, 0.613047, 0.257347, 0.315597, 0.38897]\n",
      "Transfer: [0.020186, 0.0, 0.43885, 0.120718, 0.380824]\n",
      "Transfer & Revision: [0.231341, 0.673601, 0.218237, 0.379199, 0.323151]\n",
      "\n",
      "\n"
     ]
    },
    {
     "data": {
      "text/markdown": [
       "## F1"
      ],
      "text/plain": [
       "<IPython.core.display.Markdown object>"
      ]
     },
     "metadata": {},
     "output_type": "display_data"
    },
    {
     "name": "stdout",
     "output_type": "stream",
     "text": [
      "Experiment 1\n",
      "Ttest_relResult(statistic=2.175152669144048, pvalue=0.09525938709761708)\n",
      "Ttest_relResult(statistic=nan, pvalue=nan)\n"
     ]
    },
    {
     "data": {
      "text/html": [
       "<div>\n",
       "<table border=\"1\" class=\"dataframe\">\n",
       "  <thead>\n",
       "    <tr style=\"text-align: right;\">\n",
       "      <th></th>\n",
       "      <th>p-value</th>\n",
       "      <th>RDN-B</th>\n",
       "    </tr>\n",
       "  </thead>\n",
       "  <tbody>\n",
       "    <tr>\n",
       "      <th>0</th>\n",
       "      <td>transferRDN-B Ref</td>\n",
       "      <td>0.095</td>\n",
       "    </tr>\n",
       "    <tr>\n",
       "      <th>1</th>\n",
       "      <td>transferRDN-B</td>\n",
       "      <td>nan</td>\n",
       "    </tr>\n",
       "  </tbody>\n",
       "</table>\n",
       "</div>"
      ],
      "text/plain": [
       "             p-value  RDN-B\n",
       "0  transferRDN-B Ref  0.095\n",
       "1      transferRDN-B    nan"
      ]
     },
     "metadata": {},
     "output_type": "display_data"
    },
    {
     "name": "stdout",
     "output_type": "stream",
     "text": [
      "Scratch: [0.449233, 0.602603, 0.381566, 0.399522, 0.353736]\n",
      "Transfer: [0.434292, 0.451111, 0.533154, nan, 0.483604]\n",
      "Transfer & Revision: [0.448435, 0.613423, 0.399762, 0.470802, 0.432314]\n",
      "\n",
      "\n",
      "Experiment 2\n",
      "Ttest_relResult(statistic=1.0133953203086954, pvalue=0.36818846784813586)\n",
      "Ttest_relResult(statistic=-0.2537825344306396, pvalue=0.8121745617072912)\n"
     ]
    },
    {
     "data": {
      "text/html": [
       "<div>\n",
       "<table border=\"1\" class=\"dataframe\">\n",
       "  <thead>\n",
       "    <tr style=\"text-align: right;\">\n",
       "      <th></th>\n",
       "      <th>p-value</th>\n",
       "      <th>RDN-B</th>\n",
       "    </tr>\n",
       "  </thead>\n",
       "  <tbody>\n",
       "    <tr>\n",
       "      <th>0</th>\n",
       "      <td>transferRDN-B Ref</td>\n",
       "      <td>0.368</td>\n",
       "    </tr>\n",
       "    <tr>\n",
       "      <th>1</th>\n",
       "      <td>transferRDN-B</td>\n",
       "      <td>0.812</td>\n",
       "    </tr>\n",
       "  </tbody>\n",
       "</table>\n",
       "</div>"
      ],
      "text/plain": [
       "             p-value  RDN-B\n",
       "0  transferRDN-B Ref  0.368\n",
       "1      transferRDN-B  0.812"
      ]
     },
     "metadata": {},
     "output_type": "display_data"
    },
    {
     "name": "stdout",
     "output_type": "stream",
     "text": [
      "Scratch: [0.420161, 0.584844, 0.352848, 0.448696, 0.423317]\n",
      "Transfer: [0.434292, 0.272522, 0.533154, 0.489314, 0.398108]\n",
      "Transfer & Revision: [0.472871, 0.609335, 0.339799, 0.433442, 0.438411]\n",
      "\n",
      "\n",
      "Experiment 3\n",
      "Ttest_relResult(statistic=-1.076454674630974, pvalue=0.3423180616334882)\n",
      "Ttest_relResult(statistic=nan, pvalue=nan)\n"
     ]
    },
    {
     "data": {
      "text/html": [
       "<div>\n",
       "<table border=\"1\" class=\"dataframe\">\n",
       "  <thead>\n",
       "    <tr style=\"text-align: right;\">\n",
       "      <th></th>\n",
       "      <th>p-value</th>\n",
       "      <th>RDN-B</th>\n",
       "    </tr>\n",
       "  </thead>\n",
       "  <tbody>\n",
       "    <tr>\n",
       "      <th>0</th>\n",
       "      <td>transferRDN-B Ref</td>\n",
       "      <td>0.342</td>\n",
       "    </tr>\n",
       "    <tr>\n",
       "      <th>1</th>\n",
       "      <td>transferRDN-B</td>\n",
       "      <td>nan</td>\n",
       "    </tr>\n",
       "  </tbody>\n",
       "</table>\n",
       "</div>"
      ],
      "text/plain": [
       "             p-value  RDN-B\n",
       "0  transferRDN-B Ref  0.342\n",
       "1      transferRDN-B    nan"
      ]
     },
     "metadata": {},
     "output_type": "display_data"
    },
    {
     "name": "stdout",
     "output_type": "stream",
     "text": [
      "Scratch: [0.420711, 0.598565, 0.307302, 0.474281, 0.380672]\n",
      "Transfer: [0.14964, nan, 0.533154, nan, 0.422449]\n",
      "Transfer & Revision: [0.373064, 0.55808, 0.25, 0.513406, 0.387718]\n",
      "\n",
      "\n",
      "Experiment 4\n",
      "Ttest_relResult(statistic=-0.5621436660130062, pvalue=0.6040258485220896)\n",
      "Ttest_relResult(statistic=-1.3957496765684143, pvalue=0.23527986580787794)\n"
     ]
    },
    {
     "data": {
      "text/html": [
       "<div>\n",
       "<table border=\"1\" class=\"dataframe\">\n",
       "  <thead>\n",
       "    <tr style=\"text-align: right;\">\n",
       "      <th></th>\n",
       "      <th>p-value</th>\n",
       "      <th>RDN-B</th>\n",
       "    </tr>\n",
       "  </thead>\n",
       "  <tbody>\n",
       "    <tr>\n",
       "      <th>0</th>\n",
       "      <td>transferRDN-B Ref</td>\n",
       "      <td>0.604</td>\n",
       "    </tr>\n",
       "    <tr>\n",
       "      <th>1</th>\n",
       "      <td>transferRDN-B</td>\n",
       "      <td>0.235</td>\n",
       "    </tr>\n",
       "  </tbody>\n",
       "</table>\n",
       "</div>"
      ],
      "text/plain": [
       "             p-value  RDN-B\n",
       "0  transferRDN-B Ref  0.604\n",
       "1      transferRDN-B  0.235"
      ]
     },
     "metadata": {},
     "output_type": "display_data"
    },
    {
     "name": "stdout",
     "output_type": "stream",
     "text": [
      "Scratch: [0.426942, 0.604849, 0.388091, 0.416599, 0.416181]\n",
      "Transfer: [0.038017, 0.229012, 0.530909, 0.19751, 0.483604]\n",
      "Transfer & Revision: [0.338176, 0.607552, 0.372783, 0.464871, 0.407186]\n",
      "\n",
      "\n",
      "Experiment 5\n",
      "Ttest_relResult(statistic=-0.7820645467212813, pvalue=0.47788059101446273)\n",
      "Ttest_relResult(statistic=nan, pvalue=nan)\n"
     ]
    },
    {
     "data": {
      "text/html": [
       "<div>\n",
       "<table border=\"1\" class=\"dataframe\">\n",
       "  <thead>\n",
       "    <tr style=\"text-align: right;\">\n",
       "      <th></th>\n",
       "      <th>p-value</th>\n",
       "      <th>RDN-B</th>\n",
       "    </tr>\n",
       "  </thead>\n",
       "  <tbody>\n",
       "    <tr>\n",
       "      <th>0</th>\n",
       "      <td>transferRDN-B Ref</td>\n",
       "      <td>0.478</td>\n",
       "    </tr>\n",
       "    <tr>\n",
       "      <th>1</th>\n",
       "      <td>transferRDN-B</td>\n",
       "      <td>nan</td>\n",
       "    </tr>\n",
       "  </tbody>\n",
       "</table>\n",
       "</div>"
      ],
      "text/plain": [
       "             p-value  RDN-B\n",
       "0  transferRDN-B Ref  0.478\n",
       "1      transferRDN-B    nan"
      ]
     },
     "metadata": {},
     "output_type": "display_data"
    },
    {
     "name": "stdout",
     "output_type": "stream",
     "text": [
      "Scratch: [0.413297, 0.582863, 0.371288, 0.415272, 0.450812]\n",
      "Transfer: [0.038979, nan, 0.530356, 0.199341, 0.483604]\n",
      "Transfer & Revision: [0.336586, 0.60861, 0.326649, 0.466527, 0.399496]\n",
      "\n",
      "\n"
     ]
    },
    {
     "data": {
      "text/markdown": [
       "## Precision"
      ],
      "text/plain": [
       "<IPython.core.display.Markdown object>"
      ]
     },
     "metadata": {},
     "output_type": "display_data"
    },
    {
     "name": "stdout",
     "output_type": "stream",
     "text": [
      "Experiment 1\n",
      "Scratch: [0.659974, 0.543726, 0.639319, 0.631674, 0.526053]\n",
      "Transfer: [0.667217, 0.64378, 0.656808, nan, 0.662369]\n",
      "Transfer & Revision: [0.652626, 0.547868, 0.640171, 0.597519, 0.540313]\n",
      "\n",
      "\n",
      "Experiment 2\n",
      "Scratch: [0.639946, 0.53035, 0.654184, 0.596088, 0.527602]\n",
      "Transfer: [0.667217, 0.591058, 0.656808, 0.658602, 0.61287]\n",
      "Transfer & Revision: [0.648461, 0.548073, 0.635852, 0.620738, 0.548739]\n",
      "\n",
      "\n",
      "Experiment 3\n",
      "Scratch: [0.653427, 0.548355, 0.632022, 0.59471, 0.536853]\n",
      "Transfer: [0.54005, nan, 0.656808, nan, 0.499944]\n",
      "Transfer & Revision: [0.645847, 0.56676, 0.596091, 0.580693, 0.532045]\n",
      "\n",
      "\n",
      "Experiment 4\n",
      "Scratch: [0.659362, 0.558995, 0.638072, 0.592156, 0.549833]\n",
      "Transfer: [0.578125, 0.645781, 0.665365, 0.571429, 0.662369]\n",
      "Transfer & Revision: [0.63633, 0.558017, 0.630698, 0.587675, 0.564295]\n",
      "\n",
      "\n",
      "Experiment 5\n",
      "Scratch: [0.657681, 0.555512, 0.666294, 0.606972, 0.536035]\n",
      "Transfer: [0.565056, nan, 0.670076, 0.571654, 0.662369]\n",
      "Transfer & Revision: [0.617512, 0.555057, 0.6491, 0.606113, 0.523075]\n",
      "\n",
      "\n"
     ]
    },
    {
     "data": {
      "text/markdown": [
       "## Learning and Revision time"
      ],
      "text/plain": [
       "<IPython.core.display.Markdown object>"
      ]
     },
     "metadata": {},
     "output_type": "display_data"
    },
    {
     "name": "stdout",
     "output_type": "stream",
     "text": [
      "Experiment 1\n",
      "Scratch: [335.679, 256.189, 141.114, 26.636, 21.939]\n",
      "Transfer: ['206.03 (5.5)', '127.452 (6.9)', '77.795 (5.7)', '14.898 (6.0)', '8.804 (5.5)']\n",
      "Transfer & Revision: ['605.262 (5.5)', '318.411 (6.9)', '217.72000000000003 (5.7)', '40.828 (6.0)', '30.415 (5.5)']\n",
      "\n",
      "\n",
      "Experiment 2\n",
      "Scratch: [357.538, 225.269, 147.532, 31.935, 22.072]\n",
      "Transfer: ['202.438 (5.4)', '80.733 (5.3)', '64.917 (5.5)', '10.881 (5.3)', '9.172 (5.6)']\n",
      "Transfer & Revision: ['528.0509999999999 (5.4)', '267.471 (5.3)', '204.333 (5.5)', '31.92 (5.3)', '30.356 (5.6)']\n",
      "\n",
      "\n",
      "Experiment 3\n",
      "Scratch: [338.979, 236.536, 143.40800000000002, 28.642, 21.674]\n",
      "Transfer: ['240.606 (5.4)', '118.529 (5.3)', '74.813 (6.3)', '11.883 (6.5)', '11.415 (5.7)']\n",
      "Transfer & Revision: ['586.304 (5.4)', '526.063 (5.3)', '197.837 (6.3)', '38.512 (6.5)', '37.26 (5.7)']\n",
      "\n",
      "\n",
      "Experiment 4\n",
      "Scratch: [399.717, 208.177, 126.645, 24.844, 20.706]\n",
      "Transfer: ['177.922 (5.4)', '128.802 (5.4)', '78.963 (5.3)', '13.861 (5.9)', '13.27 (5.4)']\n",
      "Transfer & Revision: ['471.41499999999996 (5.4)', '319.477 (5.4)', '202.475 (5.3)', '37.32 (5.9)', '31.169999999999998 (5.4)']\n",
      "\n",
      "\n",
      "Experiment 5\n",
      "Scratch: [374.551, 210.039, 138.625, 26.432, 20.246]\n",
      "Transfer: ['168.71699999999998 (5.5)', '128.105 (5.5)', '69.666 (5.4)', '12.042 (5.4)', '9.41 (5.3)']\n",
      "Transfer & Revision: ['467.465 (5.5)', '288.65599999999995 (5.5)', '191.084 (5.4)', '40.378 (5.4)', '27.978 (5.3)']\n",
      "\n",
      "\n"
     ]
    },
    {
     "data": {
      "text/markdown": [
       "## Inference time"
      ],
      "text/plain": [
       "<IPython.core.display.Markdown object>"
      ]
     },
     "metadata": {},
     "output_type": "display_data"
    },
    {
     "name": "stdout",
     "output_type": "stream",
     "text": [
      "Experiment 1\n",
      "Scratch: [4.589, 7.143, 5.151, 6.19, 6.483]\n",
      "Transfer: [5.649, 6.05, 10.92, 19.171, 13.621]\n",
      "Transfer & Revision: [8.55, 8.19, 8.911, 62.19, 7.909]\n",
      "\n",
      "\n",
      "Experiment 2\n",
      "Scratch: [4.479, 6.015, 4.532, 6.866, 6.891]\n",
      "Transfer: [3.665, 4.378, 6.953, 10.168, 10.408]\n",
      "Transfer & Revision: [4.504, 6.484, 6.695, 21.124, 7.381]\n",
      "\n",
      "\n",
      "Experiment 3\n",
      "Scratch: [4.669, 5.69, 6.691, 6.833, 6.558]\n",
      "Transfer: [8.023, 14.536, 11.654, 19.796, 26.588]\n",
      "Transfer & Revision: [10.599, 59.418, 5.947, 43.261, 9.861]\n",
      "\n",
      "\n",
      "Experiment 4\n",
      "Scratch: [4.794, 5.736, 6.783, 5.825, 6.369]\n",
      "Transfer: [4.75, 9.831, 10.531, 11.481, 14.087]\n",
      "Transfer & Revision: [5.191, 13.102, 25.07, 14.074, 34.699]\n",
      "\n",
      "\n",
      "Experiment 5\n",
      "Scratch: [5.129, 5.924, 4.7, 6.05, 6.229]\n",
      "Transfer: [4.709, 9.305, 3.841, 10.465, 8.521]\n",
      "Transfer & Revision: [4.841, 10.157, 6.208, 5.795, 7.939]\n",
      "\n",
      "\n"
     ]
    }
   ],
   "source": [
    "for j in range(len(experiments)):\n",
    "    dataset = experiments[j]['id'] + '_' + experiments[j]['source'] + '_' + experiments[j]['target']\n",
    "    display(Markdown('# Results for ' + dataset))\n",
    "    table = []\n",
    "    for metric in ['AUC ROC', 'AUC PR', 'CLL', 'Recall', 'F1', 'Precision', 'Learning and Revision time', 'Inference time']:\n",
    "    #for metric in ['AUC ROC', 'AUC PR']:\n",
    "        if dataset in data['results']: \n",
    "            #for metric in ['AUC ROC', 'AUC PR']:\n",
    "            display(Markdown('## ' + metric))\n",
    "            if metric == 'Precision':\n",
    "                for m in range(len(data['results'][str(dataset)])):\n",
    "                    print('Experiment %s' % (m+1))\n",
    "                    sc = [item['scratch']['Precision'][0] for item in data['results'][str(dataset)][m]]\n",
    "                    pr = [item['transfer']['Parameter Learning results']['Precision'][0] for item in data['results'][str(dataset)][m]]\n",
    "                    tr = [item['transfer']['Precision'][0] for item in data['results'][str(dataset)][m]] \n",
    "                    print('Scratch: %s' % sc)\n",
    "                    print('Transfer: %s' % pr)\n",
    "                    print('Transfer & Revision: %s' % tr) \n",
    "                    print('\\n')\n",
    "                #scratch = np.array([item['scratch']['Precision'][0] for sublist in data['results'][str(dataset)] for item in sublist])\n",
    "                #parameter = np.array([item['transfer']['Parameter Learning results']['Precision'][0] for sublist in data['results'][str(dataset)] for item in sublist])\n",
    "                #transfer = np.array([item['transfer']['Precision'][0] for sublist in data['results'][str(dataset)] for item in sublist])\n",
    "            elif metric == 'Learning and Revision time':\n",
    "                for m in range(len(data['results'][str(dataset)])):\n",
    "                    print('Experiment %s' % (m+1))\n",
    "                    sc = [item['scratch']['Learning time'] for item in data['results'][str(dataset)][m]]\n",
    "                    pr = ['%s (%.1f)' % (item['transfer']['Parameter Learning results']['Learning time'], item['transfer']['Mapping results']['Total time']) for item in data['results'][str(dataset)][m]]\n",
    "                    tr = ['%s (%.1f)' % (item['transfer']['Learning time'], item['transfer']['Mapping results']['Total time']) for item in data['results'][str(dataset)][m]] \n",
    "                    print('Scratch: %s' % sc)\n",
    "                    print('Transfer: %s' % pr)\n",
    "                    print('Transfer & Revision: %s' % tr) \n",
    "                    print('\\n')\n",
    "                #scratch = np.array([item['scratch']['Learning time'] for sublist in data['results'][str(dataset)] for item in sublist])\n",
    "                #parameter = np.array([item['transfer']['Parameter Learning results']['Learning time'] for sublist in data['results'][str(dataset)] for item in sublist])\n",
    "                #transfer = np.array([item['transfer']['Learning time'] for sublist in data['results'][str(dataset)] for item in sublist])\n",
    "            elif metric == 'Inference time':\n",
    "                for m in range(len(data['results'][str(dataset)])):\n",
    "                    print('Experiment %s' % (m+1))\n",
    "                    sc = [item['scratch']['Inference time'] for item in data['results'][str(dataset)][m]]\n",
    "                    pr = [item['transfer']['Parameter Learning results']['Inference time'] for item in data['results'][str(dataset)][m]]\n",
    "                    tr = [item['transfer']['Inference time'] for item in data['results'][str(dataset)][m]] \n",
    "                    print('Scratch: %s' % sc)\n",
    "                    print('Transfer: %s' % pr)\n",
    "                    print('Transfer & Revision: %s' % tr) \n",
    "                    print('\\n')\n",
    "                #scratch = np.array([item['scratch']['Inference time'] for sublist in data['results'][str(dataset)] for item in sublist])\n",
    "                #parameter = np.array([item['transfer']['Parameter Learning results']['Learning time'] for sublist in data['results'][str(dataset)] for item in sublist])\n",
    "                #transfer = np.array([item['transfer']['Inference time'] for sublist in data['results'][str(dataset)] for item in sublist])\n",
    "            else:\n",
    "                for m in range(len(data['results'][str(dataset)])):\n",
    "                    print('Experiment %s' % (m+1))\n",
    "                    sc = [item['scratch'][metric] for item in data['results'][str(dataset)][m]]\n",
    "                    pr = [item['transfer']['Parameter Learning results'][metric] for item in data['results'][str(dataset)][m]]\n",
    "                    tr = [item['transfer'][metric] for item in data['results'][str(dataset)][m]] \n",
    "                    pvalue = stats.ttest_rel(tr,sc)\n",
    "                    print(pvalue)\n",
    "                    pvalue_table = []\n",
    "                    pvalue_table.append(['transferRDN-B Ref', '%.3f' % (pvalue[1])])\n",
    "                    pvalue = stats.ttest_rel(pr, sc)\n",
    "                    print(pvalue)\n",
    "                    pvalue_table.append(['transferRDN-B', '%.3f' % (pvalue[1])])\n",
    "                    display(pd.DataFrame(pvalue_table, columns=['p-value', 'RDN-B']))\n",
    "                    print('Scratch: %s' % sc)\n",
    "                    print('Transfer: %s' % pr)\n",
    "                    print('Transfer & Revision: %s' % tr) \n",
    "                    print('\\n')\n",
    "                #scratch = np.array([item['scratch'][metric] for sublist in data['results'][str(dataset)] for item in sublist])\n",
    "                #parameter = np.array([item['transfer']['Parameter Learning results'][metric] for sublist in data['results'][str(dataset)] for item in sublist])\n",
    "                #transfer = np.array([item['transfer'][metric] for sublist in data['results'][str(dataset)] for item in sublist])\n",
    "            #print('\\n')\n",
    "            #print('Scratch: %s' % scratch)\n",
    "            #print('Transfer: %s' % parameter)\n",
    "            #print('Transfer & Revision: %s' % transfer)"
   ]
  }
 ],
 "metadata": {
  "anaconda-cloud": {},
  "kernelspec": {
   "display_name": "Python [conda env:anaconda3]",
   "language": "python",
   "name": "conda-env-anaconda3-py"
  },
  "language_info": {
   "codemirror_mode": {
    "name": "ipython",
    "version": 3
   },
   "file_extension": ".py",
   "mimetype": "text/x-python",
   "name": "python",
   "nbconvert_exporter": "python",
   "pygments_lexer": "ipython3",
   "version": "3.5.2"
  }
 },
 "nbformat": 4,
 "nbformat_minor": 1
}
