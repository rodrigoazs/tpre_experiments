{
 "cells": [
  {
   "cell_type": "code",
   "execution_count": 1,
   "metadata": {
    "collapsed": false
   },
   "outputs": [],
   "source": [
    "import matplotlib.pyplot as plt\n",
    "from IPython.display import display, Markdown, Latex\n",
    "import numpy as np\n",
    "import json\n",
    "import pandas as pd\n",
    "from scipy import stats\n",
    "\n",
    "with open('transfer_experiment.json', 'r') as fp:\n",
    "    data = json.load(fp)"
   ]
  },
  {
   "cell_type": "code",
   "execution_count": 2,
   "metadata": {
    "collapsed": false,
    "scrolled": false
   },
   "outputs": [
    {
     "data": {
      "text/markdown": [
       "# Results for AUC ROC"
      ],
      "text/plain": [
       "<IPython.core.display.Markdown object>"
      ]
     },
     "metadata": {},
     "output_type": "display_data"
    },
    {
     "data": {
      "text/html": [
       "<div>\n",
       "<table border=\"1\" class=\"dataframe\">\n",
       "  <thead>\n",
       "    <tr style=\"text-align: right;\">\n",
       "      <th></th>\n",
       "      <th>Experiment</th>\n",
       "      <th>Transfer Learning</th>\n",
       "      <th>Transfer Learning with Revision Theory</th>\n",
       "      <th>Learning from scratch</th>\n",
       "    </tr>\n",
       "  </thead>\n",
       "  <tbody>\n",
       "    <tr>\n",
       "      <th>0</th>\n",
       "      <td>35_nell_sports_nell_finances</td>\n",
       "      <td>0.730 +/- 0.097</td>\n",
       "      <td>0.714 +/- 0.141</td>\n",
       "      <td>0.633 +/- 0.214</td>\n",
       "    </tr>\n",
       "  </tbody>\n",
       "</table>\n",
       "</div>"
      ],
      "text/plain": [
       "                     Experiment Transfer Learning  \\\n",
       "0  35_nell_sports_nell_finances   0.730 +/- 0.097   \n",
       "\n",
       "  Transfer Learning with Revision Theory Learning from scratch  \n",
       "0                        0.714 +/- 0.141       0.633 +/- 0.214  "
      ]
     },
     "metadata": {},
     "output_type": "display_data"
    },
    {
     "data": {
      "text/markdown": [
       "# Results for AUC PR"
      ],
      "text/plain": [
       "<IPython.core.display.Markdown object>"
      ]
     },
     "metadata": {},
     "output_type": "display_data"
    },
    {
     "data": {
      "text/html": [
       "<div>\n",
       "<table border=\"1\" class=\"dataframe\">\n",
       "  <thead>\n",
       "    <tr style=\"text-align: right;\">\n",
       "      <th></th>\n",
       "      <th>Experiment</th>\n",
       "      <th>Transfer Learning</th>\n",
       "      <th>Transfer Learning with Revision Theory</th>\n",
       "      <th>Learning from scratch</th>\n",
       "    </tr>\n",
       "  </thead>\n",
       "  <tbody>\n",
       "    <tr>\n",
       "      <th>0</th>\n",
       "      <td>35_nell_sports_nell_finances</td>\n",
       "      <td>0.804 +/- 0.058</td>\n",
       "      <td>0.769 +/- 0.177</td>\n",
       "      <td>0.673 +/- 0.265</td>\n",
       "    </tr>\n",
       "  </tbody>\n",
       "</table>\n",
       "</div>"
      ],
      "text/plain": [
       "                     Experiment Transfer Learning  \\\n",
       "0  35_nell_sports_nell_finances   0.804 +/- 0.058   \n",
       "\n",
       "  Transfer Learning with Revision Theory Learning from scratch  \n",
       "0                        0.769 +/- 0.177       0.673 +/- 0.265  "
      ]
     },
     "metadata": {},
     "output_type": "display_data"
    },
    {
     "data": {
      "text/markdown": [
       "# Results for CLL"
      ],
      "text/plain": [
       "<IPython.core.display.Markdown object>"
      ]
     },
     "metadata": {},
     "output_type": "display_data"
    },
    {
     "data": {
      "text/html": [
       "<div>\n",
       "<table border=\"1\" class=\"dataframe\">\n",
       "  <thead>\n",
       "    <tr style=\"text-align: right;\">\n",
       "      <th></th>\n",
       "      <th>Experiment</th>\n",
       "      <th>Transfer Learning</th>\n",
       "      <th>Transfer Learning with Revision Theory</th>\n",
       "      <th>Learning from scratch</th>\n",
       "    </tr>\n",
       "  </thead>\n",
       "  <tbody>\n",
       "    <tr>\n",
       "      <th>0</th>\n",
       "      <td>35_nell_sports_nell_finances</td>\n",
       "      <td>-0.572 +/- 0.080</td>\n",
       "      <td>-0.715 +/- 0.291</td>\n",
       "      <td>-0.720 +/- 0.259</td>\n",
       "    </tr>\n",
       "  </tbody>\n",
       "</table>\n",
       "</div>"
      ],
      "text/plain": [
       "                     Experiment Transfer Learning  \\\n",
       "0  35_nell_sports_nell_finances  -0.572 +/- 0.080   \n",
       "\n",
       "  Transfer Learning with Revision Theory Learning from scratch  \n",
       "0                       -0.715 +/- 0.291      -0.720 +/- 0.259  "
      ]
     },
     "metadata": {},
     "output_type": "display_data"
    },
    {
     "data": {
      "text/markdown": [
       "# Results for Recall"
      ],
      "text/plain": [
       "<IPython.core.display.Markdown object>"
      ]
     },
     "metadata": {},
     "output_type": "display_data"
    },
    {
     "data": {
      "text/html": [
       "<div>\n",
       "<table border=\"1\" class=\"dataframe\">\n",
       "  <thead>\n",
       "    <tr style=\"text-align: right;\">\n",
       "      <th></th>\n",
       "      <th>Experiment</th>\n",
       "      <th>Transfer Learning</th>\n",
       "      <th>Transfer Learning with Revision Theory</th>\n",
       "      <th>Learning from scratch</th>\n",
       "    </tr>\n",
       "  </thead>\n",
       "  <tbody>\n",
       "    <tr>\n",
       "      <th>0</th>\n",
       "      <td>35_nell_sports_nell_finances</td>\n",
       "      <td>0.518 +/- 0.275</td>\n",
       "      <td>0.680 +/- 0.352</td>\n",
       "      <td>0.657 +/- 0.347</td>\n",
       "    </tr>\n",
       "  </tbody>\n",
       "</table>\n",
       "</div>"
      ],
      "text/plain": [
       "                     Experiment Transfer Learning  \\\n",
       "0  35_nell_sports_nell_finances   0.518 +/- 0.275   \n",
       "\n",
       "  Transfer Learning with Revision Theory Learning from scratch  \n",
       "0                        0.680 +/- 0.352       0.657 +/- 0.347  "
      ]
     },
     "metadata": {},
     "output_type": "display_data"
    },
    {
     "data": {
      "text/markdown": [
       "# Results for F1"
      ],
      "text/plain": [
       "<IPython.core.display.Markdown object>"
      ]
     },
     "metadata": {},
     "output_type": "display_data"
    },
    {
     "data": {
      "text/html": [
       "<div>\n",
       "<table border=\"1\" class=\"dataframe\">\n",
       "  <thead>\n",
       "    <tr style=\"text-align: right;\">\n",
       "      <th></th>\n",
       "      <th>Experiment</th>\n",
       "      <th>Transfer Learning</th>\n",
       "      <th>Transfer Learning with Revision Theory</th>\n",
       "      <th>Learning from scratch</th>\n",
       "    </tr>\n",
       "  </thead>\n",
       "  <tbody>\n",
       "    <tr>\n",
       "      <th>0</th>\n",
       "      <td>35_nell_sports_nell_finances</td>\n",
       "      <td>0.629 +/- 0.162</td>\n",
       "      <td>0.618 +/- 0.126</td>\n",
       "      <td>0.576 +/- 0.212</td>\n",
       "    </tr>\n",
       "  </tbody>\n",
       "</table>\n",
       "</div>"
      ],
      "text/plain": [
       "                     Experiment Transfer Learning  \\\n",
       "0  35_nell_sports_nell_finances   0.629 +/- 0.162   \n",
       "\n",
       "  Transfer Learning with Revision Theory Learning from scratch  \n",
       "0                        0.618 +/- 0.126       0.576 +/- 0.212  "
      ]
     },
     "metadata": {},
     "output_type": "display_data"
    },
    {
     "data": {
      "text/markdown": [
       "# Results for Precision"
      ],
      "text/plain": [
       "<IPython.core.display.Markdown object>"
      ]
     },
     "metadata": {},
     "output_type": "display_data"
    },
    {
     "data": {
      "text/html": [
       "<div>\n",
       "<table border=\"1\" class=\"dataframe\">\n",
       "  <thead>\n",
       "    <tr style=\"text-align: right;\">\n",
       "      <th></th>\n",
       "      <th>Experiment</th>\n",
       "      <th>Transfer Learning</th>\n",
       "      <th>Transfer Learning with Revision Theory</th>\n",
       "      <th>Learning from scratch</th>\n",
       "    </tr>\n",
       "  </thead>\n",
       "  <tbody>\n",
       "    <tr>\n",
       "      <th>0</th>\n",
       "      <td>35_nell_sports_nell_finances</td>\n",
       "      <td>0.897 +/- 0.321</td>\n",
       "      <td>0.633 +/- 0.306</td>\n",
       "      <td>0.524 +/- 0.108</td>\n",
       "    </tr>\n",
       "  </tbody>\n",
       "</table>\n",
       "</div>"
      ],
      "text/plain": [
       "                     Experiment Transfer Learning  \\\n",
       "0  35_nell_sports_nell_finances   0.897 +/- 0.321   \n",
       "\n",
       "  Transfer Learning with Revision Theory Learning from scratch  \n",
       "0                        0.633 +/- 0.306       0.524 +/- 0.108  "
      ]
     },
     "metadata": {},
     "output_type": "display_data"
    },
    {
     "data": {
      "text/markdown": [
       "# Results for Learning and Revision time"
      ],
      "text/plain": [
       "<IPython.core.display.Markdown object>"
      ]
     },
     "metadata": {},
     "output_type": "display_data"
    },
    {
     "data": {
      "text/html": [
       "<div>\n",
       "<table border=\"1\" class=\"dataframe\">\n",
       "  <thead>\n",
       "    <tr style=\"text-align: right;\">\n",
       "      <th></th>\n",
       "      <th>Experiment</th>\n",
       "      <th>Transfer Learning</th>\n",
       "      <th>Transfer Learning with Revision Theory</th>\n",
       "      <th>Learning from scratch</th>\n",
       "    </tr>\n",
       "  </thead>\n",
       "  <tbody>\n",
       "    <tr>\n",
       "      <th>0</th>\n",
       "      <td>35_nell_sports_nell_finances</td>\n",
       "      <td>4.671 +/- 10.318 (5.1)</td>\n",
       "      <td>10.217 +/- 16.036 (5.1)</td>\n",
       "      <td>4.627 +/- 1.552</td>\n",
       "    </tr>\n",
       "  </tbody>\n",
       "</table>\n",
       "</div>"
      ],
      "text/plain": [
       "                     Experiment       Transfer Learning  \\\n",
       "0  35_nell_sports_nell_finances  4.671 +/- 10.318 (5.1)   \n",
       "\n",
       "  Transfer Learning with Revision Theory Learning from scratch  \n",
       "0                10.217 +/- 16.036 (5.1)       4.627 +/- 1.552  "
      ]
     },
     "metadata": {},
     "output_type": "display_data"
    },
    {
     "data": {
      "text/markdown": [
       "# Results for Inference time"
      ],
      "text/plain": [
       "<IPython.core.display.Markdown object>"
      ]
     },
     "metadata": {},
     "output_type": "display_data"
    },
    {
     "data": {
      "text/html": [
       "<div>\n",
       "<table border=\"1\" class=\"dataframe\">\n",
       "  <thead>\n",
       "    <tr style=\"text-align: right;\">\n",
       "      <th></th>\n",
       "      <th>Experiment</th>\n",
       "      <th>Transfer Learning</th>\n",
       "      <th>Transfer Learning with Revision Theory</th>\n",
       "      <th>Learning from scratch</th>\n",
       "    </tr>\n",
       "  </thead>\n",
       "  <tbody>\n",
       "    <tr>\n",
       "      <th>0</th>\n",
       "      <td>35_nell_sports_nell_finances</td>\n",
       "      <td>4.671 +/- 10.318</td>\n",
       "      <td>1.128 +/- 0.575</td>\n",
       "      <td>1.025 +/- 0.407</td>\n",
       "    </tr>\n",
       "  </tbody>\n",
       "</table>\n",
       "</div>"
      ],
      "text/plain": [
       "                     Experiment Transfer Learning  \\\n",
       "0  35_nell_sports_nell_finances  4.671 +/- 10.318   \n",
       "\n",
       "  Transfer Learning with Revision Theory Learning from scratch  \n",
       "0                        1.128 +/- 0.575       1.025 +/- 0.407  "
      ]
     },
     "metadata": {},
     "output_type": "display_data"
    }
   ],
   "source": [
    "experiments = [\n",
    "            {'id': '1', 'source':'imdb', 'target':'uwcse', 'predicate':'workedunder', 'to_predicate':'advisedby'},\n",
    "            {'id': '2', 'source':'uwcse', 'target':'imdb', 'predicate':'advisedby', 'to_predicate':'workedunder'},\n",
    "            {'id': '3', 'source':'imdb', 'target':'uwcse', 'predicate':'movie', 'to_predicate':'publication'},\n",
    "            {'id': '4', 'source':'uwcse', 'target':'imdb', 'predicate':'publication', 'to_predicate':'movie'},\n",
    "            {'id': '5', 'source':'imdb', 'target':'uwcse', 'predicate':'genre', 'to_predicate':'inphase'},\n",
    "            {'id': '6', 'source':'uwcse', 'target':'imdb', 'predicate':'inphase', 'to_predicate':'genre'},\n",
    "            {'id': '7', 'source':'imdb', 'target':'cora', 'predicate':'workedunder', 'to_predicate':'samevenue'},\n",
    "            {'id': '8', 'source':'imdb', 'target':'cora', 'predicate':'workedunder', 'to_predicate':'samebib'},\n",
    "            {'id': '9', 'source':'imdb', 'target':'cora', 'predicate':'workedunder', 'to_predicate':'sameauthor'},\n",
    "            {'id': '10', 'source':'imdb', 'target':'cora', 'predicate':'workedunder', 'to_predicate':'sametitle'},\n",
    "            {'id': '11', 'source':'uwcse', 'target':'cora', 'predicate':'advisedby', 'to_predicate':'samevenue'},\n",
    "            {'id': '12', 'source':'uwcse', 'target':'cora', 'predicate':'advisedby', 'to_predicate':'samebib'},\n",
    "            {'id': '13', 'source':'uwcse', 'target':'cora', 'predicate':'advisedby', 'to_predicate':'sameauthor'},\n",
    "            {'id': '14', 'source':'uwcse', 'target':'cora', 'predicate':'advisedby', 'to_predicate':'sametitle'},\n",
    "            {'id': '15', 'source':'yeast', 'target':'twitter', 'predicate':'proteinclass', 'to_predicate':'accounttype'},\n",
    "            {'id': '16', 'source':'yeast', 'target':'twitter', 'predicate':'interaction', 'to_predicate':'follows'},\n",
    "            {'id': '17', 'source':'yeast', 'target':'twitter', 'predicate':'location', 'to_predicate':'tweets'},\n",
    "            {'id': '18', 'source':'yeast', 'target':'twitter', 'predicate':'enzyme', 'to_predicate':'tweets'},\n",
    "            {'id': '19', 'source':'yeast', 'target':'twitter', 'predicate':'function', 'to_predicate':'tweets'},\n",
    "            {'id': '20', 'source':'yeast', 'target':'twitter', 'predicate':'phenotype', 'to_predicate':'tweets'},\n",
    "            {'id': '21', 'source':'yeast', 'target':'twitter', 'predicate':'complex', 'to_predicate':'tweets'},\n",
    "            {'id': '22', 'source':'twitter', 'target':'yeast', 'predicate':'accounttype', 'to_predicate':'proteinclass'},\n",
    "            {'id': '23', 'source':'twitter', 'target':'yeast', 'predicate':'follows', 'to_predicate':'interaction'},\n",
    "            {'id': '24', 'source':'twitter', 'target':'yeast', 'predicate':'tweets', 'to_predicate':'location'},\n",
    "            {'id': '25', 'source':'twitter', 'target':'yeast', 'predicate':'tweets', 'to_predicate':'enzyme'},\n",
    "            {'id': '26', 'source':'twitter', 'target':'yeast', 'predicate':'tweets', 'to_predicate':'function'},\n",
    "            {'id': '27', 'source':'twitter', 'target':'yeast', 'predicate':'tweets', 'to_predicate':'phenotype'},\n",
    "            {'id': '28', 'source':'twitter', 'target':'yeast', 'predicate':'tweets', 'to_predicate':'complex'},\n",
    "            {'id': '29', 'source':'nell_sports', 'target':'nell_finances', 'predicate':'teamalsoknownas', 'to_predicate':'companyalsoknownas'},\n",
    "            {'id': '30', 'source':'nell_sports', 'target':'nell_finances', 'predicate':'teamplaysagainstteam', 'to_predicate':'companyalsoknownas'},\n",
    "            {'id': '31', 'source':'nell_sports', 'target':'nell_finances', 'predicate':'teamplaysagainstteam', 'to_predicate':'acquired'},\n",
    "            {'id': '32', 'source':'nell_sports', 'target':'nell_finances', 'predicate':'teamplaysagainstteam', 'to_predicate':'bankboughtbank'},\n",
    "            {'id': '33', 'source':'nell_sports', 'target':'nell_finances', 'predicate':'athleteplayssport', 'to_predicate':'companyceo'},\n",
    "            {'id': '34', 'source':'nell_sports', 'target':'nell_finances', 'predicate':'athleteplayssport', 'to_predicate':'bankchiefexecutiveceo'},\n",
    "            {'id': '35', 'source':'nell_sports', 'target':'nell_finances', 'predicate':'athleteplaysforteam', 'to_predicate':'bankchiefexecutiveceo'},\n",
    "            {'id': '36', 'source':'nell_sports', 'target':'nell_finances', 'predicate':'athleteplaysforteam', 'to_predicate':'companyceo'},\n",
    "            {'id': '37', 'source':'nell_sports', 'target':'nell_finances', 'predicate':'teamplayssport', 'to_predicate':'companyeconomicsector'},\n",
    "            {'id': '38', 'source':'nell_finances', 'target':'nell_sports', 'predicate':'companyalsoknownas', 'to_predicate':'teamalsoknownas'},\n",
    "            {'id': '39', 'source':'nell_finances', 'target':'nell_sports', 'predicate':'companyalsoknownas', 'to_predicate':'teamplaysagainstteam'},\n",
    "            {'id': '40', 'source':'nell_finances', 'target':'nell_sports', 'predicate':'acquired', 'to_predicate':'teamplaysagainstteam'},\n",
    "            {'id': '41', 'source':'nell_finances', 'target':'nell_sports', 'predicate':'bankboughtbank', 'to_predicate':'teamplaysagainstteam'},\n",
    "            {'id': '42', 'source':'nell_finances', 'target':'nell_sports', 'predicate':'companyceo', 'to_predicate':'athleteplayssport'},\n",
    "            {'id': '43', 'source':'nell_finances', 'target':'nell_sports', 'predicate':'bankchiefexecutiveceo', 'to_predicate':'athleteplayssport'},\n",
    "            {'id': '44', 'source':'nell_finances', 'target':'nell_sports', 'predicate':'bankchiefexecutiveceo', 'to_predicate':'athleteplaysforteam'},\n",
    "            {'id': '45', 'source':'nell_finances', 'target':'nell_sports', 'predicate':'companyceo', 'to_predicate':'athleteplaysforteam'},\n",
    "            {'id': '46', 'source':'nell_finances', 'target':'nell_sports', 'predicate':'companyeconomicsector', 'to_predicate':'teamplayssport'},\n",
    "            {'id': '47', 'source':'yeast', 'target':'facebook', 'predicate':'interaction', 'to_predicate':'edge'},\n",
    "            {'id': '48', 'source':'twitter', 'target':'facebook', 'predicate':'follows', 'to_predicate':'edge'},\n",
    "            {'id': '49', 'source':'imdb', 'target':'facebook', 'predicate':'workedunder', 'to_predicate':'edge'},\n",
    "            {'id': '50', 'source':'uwcse', 'target':'facebook', 'predicate':'advisedby', 'to_predicate':'edge'},\n",
    "]\n",
    "\n",
    "for metric in ['AUC ROC', 'AUC PR', 'CLL', 'Recall', 'F1', 'Precision', 'Learning and Revision time', 'Inference time']:\n",
    "    display(Markdown('# Results for ' + metric))\n",
    "    table = []\n",
    "    for j in range(len(experiments)):\n",
    "        dataset = experiments[j]['id'] + '_' + experiments[j]['source'] + '_' + experiments[j]['target']\n",
    "        if dataset in data['results']: \n",
    "            #for metric in ['AUC ROC', 'AUC PR']:\n",
    "                #display(Markdown('## ' + metric))\n",
    "            mapping_time = ''\n",
    "            if metric == 'Precision':\n",
    "                scratch = np.array([item['scratch']['Precision'][0] for sublist in data['results'][str(dataset)] for item in sublist])\n",
    "                parameter = np.array([item['transfer']['Parameter Learning results']['Precision'][0] for sublist in data['results'][str(dataset)] for item in sublist])\n",
    "                transfer = np.array([item['transfer']['Precision'][0] for sublist in data['results'][str(dataset)] for item in sublist])\n",
    "            elif metric == 'Learning and Revision time':\n",
    "                scratch = np.array([item['scratch']['Learning time'] for sublist in data['results'][str(dataset)] for item in sublist])\n",
    "                parameter = np.array([item['transfer']['Parameter Learning results']['Learning time'] for sublist in data['results'][str(dataset)] for item in sublist])\n",
    "                transfer = np.array([item['transfer']['Learning time'] for sublist in data['results'][str(dataset)] for item in sublist])\n",
    "                mapping = np.array([item['transfer']['Mapping results']['Total time'] for sublist in data['results'][str(dataset)] for item in sublist])\n",
    "                mapping_time = ' (%.1f)' % mapping.mean()\n",
    "            elif metric == 'Inference time':\n",
    "                scratch = np.array([item['scratch']['Inference time'] for sublist in data['results'][str(dataset)] for item in sublist])\n",
    "                parameter = np.array([item['transfer']['Parameter Learning results']['Learning time'] for sublist in data['results'][str(dataset)] for item in sublist])\n",
    "                transfer = np.array([item['transfer']['Inference time'] for sublist in data['results'][str(dataset)] for item in sublist])\n",
    "            else:\n",
    "                scratch = np.array([item['scratch'][metric] for sublist in data['results'][str(dataset)] for item in sublist])\n",
    "                parameter = np.array([item['transfer']['Parameter Learning results'][metric] for sublist in data['results'][str(dataset)] for item in sublist])\n",
    "                transfer = np.array([item['transfer'][metric] for sublist in data['results'][str(dataset)] for item in sublist])\n",
    "            table.append([dataset, '%.3f +/- %.3f%s' % (parameter.mean(), 2 * parameter.std(), mapping_time),\n",
    "            '%.3f +/- %.3f%s' % (transfer.mean(), 2 * transfer.std(), mapping_time),\n",
    "            '%.3f +/- %.3f' % (scratch.mean(), 2 * scratch.std())])\n",
    "    display(pd.DataFrame(table, columns=['Experiment', 'Transfer Learning', 'Transfer Learning with Revision Theory', 'Learning from scratch']))"
   ]
  },
  {
   "cell_type": "code",
   "execution_count": 3,
   "metadata": {
    "collapsed": false
   },
   "outputs": [
    {
     "data": {
      "text/markdown": [
       "# Results for 1_imdb_uwcse"
      ],
      "text/plain": [
       "<IPython.core.display.Markdown object>"
      ]
     },
     "metadata": {},
     "output_type": "display_data"
    },
    {
     "data": {
      "text/markdown": [
       "# Results for 2_uwcse_imdb"
      ],
      "text/plain": [
       "<IPython.core.display.Markdown object>"
      ]
     },
     "metadata": {},
     "output_type": "display_data"
    },
    {
     "data": {
      "text/markdown": [
       "# Results for 3_imdb_uwcse"
      ],
      "text/plain": [
       "<IPython.core.display.Markdown object>"
      ]
     },
     "metadata": {},
     "output_type": "display_data"
    },
    {
     "data": {
      "text/markdown": [
       "# Results for 4_uwcse_imdb"
      ],
      "text/plain": [
       "<IPython.core.display.Markdown object>"
      ]
     },
     "metadata": {},
     "output_type": "display_data"
    },
    {
     "data": {
      "text/markdown": [
       "# Results for 5_imdb_uwcse"
      ],
      "text/plain": [
       "<IPython.core.display.Markdown object>"
      ]
     },
     "metadata": {},
     "output_type": "display_data"
    },
    {
     "data": {
      "text/markdown": [
       "# Results for 6_uwcse_imdb"
      ],
      "text/plain": [
       "<IPython.core.display.Markdown object>"
      ]
     },
     "metadata": {},
     "output_type": "display_data"
    },
    {
     "data": {
      "text/markdown": [
       "# Results for 7_imdb_cora"
      ],
      "text/plain": [
       "<IPython.core.display.Markdown object>"
      ]
     },
     "metadata": {},
     "output_type": "display_data"
    },
    {
     "data": {
      "text/markdown": [
       "# Results for 8_imdb_cora"
      ],
      "text/plain": [
       "<IPython.core.display.Markdown object>"
      ]
     },
     "metadata": {},
     "output_type": "display_data"
    },
    {
     "data": {
      "text/markdown": [
       "# Results for 9_imdb_cora"
      ],
      "text/plain": [
       "<IPython.core.display.Markdown object>"
      ]
     },
     "metadata": {},
     "output_type": "display_data"
    },
    {
     "data": {
      "text/markdown": [
       "# Results for 10_imdb_cora"
      ],
      "text/plain": [
       "<IPython.core.display.Markdown object>"
      ]
     },
     "metadata": {},
     "output_type": "display_data"
    },
    {
     "data": {
      "text/markdown": [
       "# Results for 11_uwcse_cora"
      ],
      "text/plain": [
       "<IPython.core.display.Markdown object>"
      ]
     },
     "metadata": {},
     "output_type": "display_data"
    },
    {
     "data": {
      "text/markdown": [
       "# Results for 12_uwcse_cora"
      ],
      "text/plain": [
       "<IPython.core.display.Markdown object>"
      ]
     },
     "metadata": {},
     "output_type": "display_data"
    },
    {
     "data": {
      "text/markdown": [
       "# Results for 13_uwcse_cora"
      ],
      "text/plain": [
       "<IPython.core.display.Markdown object>"
      ]
     },
     "metadata": {},
     "output_type": "display_data"
    },
    {
     "data": {
      "text/markdown": [
       "# Results for 14_uwcse_cora"
      ],
      "text/plain": [
       "<IPython.core.display.Markdown object>"
      ]
     },
     "metadata": {},
     "output_type": "display_data"
    },
    {
     "data": {
      "text/markdown": [
       "# Results for 15_yeast_twitter"
      ],
      "text/plain": [
       "<IPython.core.display.Markdown object>"
      ]
     },
     "metadata": {},
     "output_type": "display_data"
    },
    {
     "data": {
      "text/markdown": [
       "# Results for 16_yeast_twitter"
      ],
      "text/plain": [
       "<IPython.core.display.Markdown object>"
      ]
     },
     "metadata": {},
     "output_type": "display_data"
    },
    {
     "data": {
      "text/markdown": [
       "# Results for 17_yeast_twitter"
      ],
      "text/plain": [
       "<IPython.core.display.Markdown object>"
      ]
     },
     "metadata": {},
     "output_type": "display_data"
    },
    {
     "data": {
      "text/markdown": [
       "# Results for 18_yeast_twitter"
      ],
      "text/plain": [
       "<IPython.core.display.Markdown object>"
      ]
     },
     "metadata": {},
     "output_type": "display_data"
    },
    {
     "data": {
      "text/markdown": [
       "# Results for 19_yeast_twitter"
      ],
      "text/plain": [
       "<IPython.core.display.Markdown object>"
      ]
     },
     "metadata": {},
     "output_type": "display_data"
    },
    {
     "data": {
      "text/markdown": [
       "# Results for 20_yeast_twitter"
      ],
      "text/plain": [
       "<IPython.core.display.Markdown object>"
      ]
     },
     "metadata": {},
     "output_type": "display_data"
    },
    {
     "data": {
      "text/markdown": [
       "# Results for 21_yeast_twitter"
      ],
      "text/plain": [
       "<IPython.core.display.Markdown object>"
      ]
     },
     "metadata": {},
     "output_type": "display_data"
    },
    {
     "data": {
      "text/markdown": [
       "# Results for 22_twitter_yeast"
      ],
      "text/plain": [
       "<IPython.core.display.Markdown object>"
      ]
     },
     "metadata": {},
     "output_type": "display_data"
    },
    {
     "data": {
      "text/markdown": [
       "# Results for 23_twitter_yeast"
      ],
      "text/plain": [
       "<IPython.core.display.Markdown object>"
      ]
     },
     "metadata": {},
     "output_type": "display_data"
    },
    {
     "data": {
      "text/markdown": [
       "# Results for 24_twitter_yeast"
      ],
      "text/plain": [
       "<IPython.core.display.Markdown object>"
      ]
     },
     "metadata": {},
     "output_type": "display_data"
    },
    {
     "data": {
      "text/markdown": [
       "# Results for 25_twitter_yeast"
      ],
      "text/plain": [
       "<IPython.core.display.Markdown object>"
      ]
     },
     "metadata": {},
     "output_type": "display_data"
    },
    {
     "data": {
      "text/markdown": [
       "# Results for 26_twitter_yeast"
      ],
      "text/plain": [
       "<IPython.core.display.Markdown object>"
      ]
     },
     "metadata": {},
     "output_type": "display_data"
    },
    {
     "data": {
      "text/markdown": [
       "# Results for 27_twitter_yeast"
      ],
      "text/plain": [
       "<IPython.core.display.Markdown object>"
      ]
     },
     "metadata": {},
     "output_type": "display_data"
    },
    {
     "data": {
      "text/markdown": [
       "# Results for 28_twitter_yeast"
      ],
      "text/plain": [
       "<IPython.core.display.Markdown object>"
      ]
     },
     "metadata": {},
     "output_type": "display_data"
    },
    {
     "data": {
      "text/markdown": [
       "# Results for 29_nell_sports_nell_finances"
      ],
      "text/plain": [
       "<IPython.core.display.Markdown object>"
      ]
     },
     "metadata": {},
     "output_type": "display_data"
    },
    {
     "data": {
      "text/markdown": [
       "# Results for 30_nell_sports_nell_finances"
      ],
      "text/plain": [
       "<IPython.core.display.Markdown object>"
      ]
     },
     "metadata": {},
     "output_type": "display_data"
    },
    {
     "data": {
      "text/markdown": [
       "# Results for 31_nell_sports_nell_finances"
      ],
      "text/plain": [
       "<IPython.core.display.Markdown object>"
      ]
     },
     "metadata": {},
     "output_type": "display_data"
    },
    {
     "data": {
      "text/markdown": [
       "# Results for 32_nell_sports_nell_finances"
      ],
      "text/plain": [
       "<IPython.core.display.Markdown object>"
      ]
     },
     "metadata": {},
     "output_type": "display_data"
    },
    {
     "data": {
      "text/markdown": [
       "# Results for 33_nell_sports_nell_finances"
      ],
      "text/plain": [
       "<IPython.core.display.Markdown object>"
      ]
     },
     "metadata": {},
     "output_type": "display_data"
    },
    {
     "data": {
      "text/markdown": [
       "# Results for 34_nell_sports_nell_finances"
      ],
      "text/plain": [
       "<IPython.core.display.Markdown object>"
      ]
     },
     "metadata": {},
     "output_type": "display_data"
    },
    {
     "data": {
      "text/markdown": [
       "# Results for 35_nell_sports_nell_finances"
      ],
      "text/plain": [
       "<IPython.core.display.Markdown object>"
      ]
     },
     "metadata": {},
     "output_type": "display_data"
    },
    {
     "data": {
      "text/markdown": [
       "## AUC ROC"
      ],
      "text/plain": [
       "<IPython.core.display.Markdown object>"
      ]
     },
     "metadata": {},
     "output_type": "display_data"
    },
    {
     "name": "stdout",
     "output_type": "stream",
     "text": [
      "Experiment 1\n",
      "Ttest_relResult(statistic=0.05795310524842755, pvalue=0.9590553306740048)\n",
      "Ttest_relResult(statistic=1.3736393223577301, pvalue=0.30325819458622294)\n"
     ]
    },
    {
     "data": {
      "text/html": [
       "<div>\n",
       "<table border=\"1\" class=\"dataframe\">\n",
       "  <thead>\n",
       "    <tr style=\"text-align: right;\">\n",
       "      <th></th>\n",
       "      <th>p-value</th>\n",
       "      <th>RDN-B</th>\n",
       "    </tr>\n",
       "  </thead>\n",
       "  <tbody>\n",
       "    <tr>\n",
       "      <th>0</th>\n",
       "      <td>transferRDN-B Ref</td>\n",
       "      <td>0.959</td>\n",
       "    </tr>\n",
       "    <tr>\n",
       "      <th>1</th>\n",
       "      <td>transferRDN-B</td>\n",
       "      <td>0.303</td>\n",
       "    </tr>\n",
       "  </tbody>\n",
       "</table>\n",
       "</div>"
      ],
      "text/plain": [
       "             p-value  RDN-B\n",
       "0  transferRDN-B Ref  0.959\n",
       "1      transferRDN-B  0.303"
      ]
     },
     "metadata": {},
     "output_type": "display_data"
    },
    {
     "name": "stdout",
     "output_type": "stream",
     "text": [
      "Scratch: [0.487245, 0.637755, 0.753906]\n",
      "Transfer: [0.673469, 0.72449, 0.730469]\n",
      "Transfer & Revision: [0.576531, 0.780612, 0.541016]\n",
      "\n",
      "\n",
      "Experiment 2\n",
      "Ttest_relResult(statistic=1.216983387856013, pvalue=0.34772668913397886)\n",
      "Ttest_relResult(statistic=2.214867414279435, pvalue=0.15715863827736165)\n"
     ]
    },
    {
     "data": {
      "text/html": [
       "<div>\n",
       "<table border=\"1\" class=\"dataframe\">\n",
       "  <thead>\n",
       "    <tr style=\"text-align: right;\">\n",
       "      <th></th>\n",
       "      <th>p-value</th>\n",
       "      <th>RDN-B</th>\n",
       "    </tr>\n",
       "  </thead>\n",
       "  <tbody>\n",
       "    <tr>\n",
       "      <th>0</th>\n",
       "      <td>transferRDN-B Ref</td>\n",
       "      <td>0.348</td>\n",
       "    </tr>\n",
       "    <tr>\n",
       "      <th>1</th>\n",
       "      <td>transferRDN-B</td>\n",
       "      <td>0.157</td>\n",
       "    </tr>\n",
       "  </tbody>\n",
       "</table>\n",
       "</div>"
      ],
      "text/plain": [
       "             p-value  RDN-B\n",
       "0  transferRDN-B Ref  0.348\n",
       "1      transferRDN-B  0.157"
      ]
     },
     "metadata": {},
     "output_type": "display_data"
    },
    {
     "name": "stdout",
     "output_type": "stream",
     "text": [
      "Scratch: [0.494898, 0.640306, 0.753906]\n",
      "Transfer: [0.660714, 0.75, 0.769531]\n",
      "Transfer & Revision: [0.762755, 0.706633, 0.732422]\n",
      "\n",
      "\n",
      "Experiment 3\n",
      "Ttest_relResult(statistic=1.5630837542942584, pvalue=0.25846302367353985)\n",
      "Ttest_relResult(statistic=1.162455459963296, pvalue=0.36500618715452116)\n"
     ]
    },
    {
     "data": {
      "text/html": [
       "<div>\n",
       "<table border=\"1\" class=\"dataframe\">\n",
       "  <thead>\n",
       "    <tr style=\"text-align: right;\">\n",
       "      <th></th>\n",
       "      <th>p-value</th>\n",
       "      <th>RDN-B</th>\n",
       "    </tr>\n",
       "  </thead>\n",
       "  <tbody>\n",
       "    <tr>\n",
       "      <th>0</th>\n",
       "      <td>transferRDN-B Ref</td>\n",
       "      <td>0.258</td>\n",
       "    </tr>\n",
       "    <tr>\n",
       "      <th>1</th>\n",
       "      <td>transferRDN-B</td>\n",
       "      <td>0.365</td>\n",
       "    </tr>\n",
       "  </tbody>\n",
       "</table>\n",
       "</div>"
      ],
      "text/plain": [
       "             p-value  RDN-B\n",
       "0  transferRDN-B Ref  0.258\n",
       "1      transferRDN-B  0.365"
      ]
     },
     "metadata": {},
     "output_type": "display_data"
    },
    {
     "name": "stdout",
     "output_type": "stream",
     "text": [
      "Scratch: [0.5, 0.637755, 0.753906]\n",
      "Transfer: [0.770408, 0.670918, 0.75]\n",
      "Transfer & Revision: [0.716837, 0.69898, 0.765625]\n",
      "\n",
      "\n",
      "Experiment 4\n",
      "Ttest_relResult(statistic=1.285442935785531, pvalue=0.3273861550841891)\n",
      "Ttest_relResult(statistic=1.6479771010353812, pvalue=0.24112163742730844)\n"
     ]
    },
    {
     "data": {
      "text/html": [
       "<div>\n",
       "<table border=\"1\" class=\"dataframe\">\n",
       "  <thead>\n",
       "    <tr style=\"text-align: right;\">\n",
       "      <th></th>\n",
       "      <th>p-value</th>\n",
       "      <th>RDN-B</th>\n",
       "    </tr>\n",
       "  </thead>\n",
       "  <tbody>\n",
       "    <tr>\n",
       "      <th>0</th>\n",
       "      <td>transferRDN-B Ref</td>\n",
       "      <td>0.327</td>\n",
       "    </tr>\n",
       "    <tr>\n",
       "      <th>1</th>\n",
       "      <td>transferRDN-B</td>\n",
       "      <td>0.241</td>\n",
       "    </tr>\n",
       "  </tbody>\n",
       "</table>\n",
       "</div>"
      ],
      "text/plain": [
       "             p-value  RDN-B\n",
       "0  transferRDN-B Ref  0.327\n",
       "1      transferRDN-B  0.241"
      ]
     },
     "metadata": {},
     "output_type": "display_data"
    },
    {
     "name": "stdout",
     "output_type": "stream",
     "text": [
      "Scratch: [0.494898, 0.637755, 0.753906]\n",
      "Transfer: [0.665816, 0.693878, 0.763672]\n",
      "Transfer & Revision: [0.780612, 0.709184, 0.740234]\n",
      "\n",
      "\n",
      "Experiment 5\n",
      "Ttest_relResult(statistic=0.33826666646759923, pvalue=0.7673713881960494)\n",
      "Ttest_relResult(statistic=1.1721138717442925, pvalue=0.36187338148806514)\n"
     ]
    },
    {
     "data": {
      "text/html": [
       "<div>\n",
       "<table border=\"1\" class=\"dataframe\">\n",
       "  <thead>\n",
       "    <tr style=\"text-align: right;\">\n",
       "      <th></th>\n",
       "      <th>p-value</th>\n",
       "      <th>RDN-B</th>\n",
       "    </tr>\n",
       "  </thead>\n",
       "  <tbody>\n",
       "    <tr>\n",
       "      <th>0</th>\n",
       "      <td>transferRDN-B Ref</td>\n",
       "      <td>0.767</td>\n",
       "    </tr>\n",
       "    <tr>\n",
       "      <th>1</th>\n",
       "      <td>transferRDN-B</td>\n",
       "      <td>0.362</td>\n",
       "    </tr>\n",
       "  </tbody>\n",
       "</table>\n",
       "</div>"
      ],
      "text/plain": [
       "             p-value  RDN-B\n",
       "0  transferRDN-B Ref  0.767\n",
       "1      transferRDN-B  0.362"
      ]
     },
     "metadata": {},
     "output_type": "display_data"
    },
    {
     "name": "stdout",
     "output_type": "stream",
     "text": [
      "Scratch: [0.5, 0.637755, 0.753906]\n",
      "Transfer: [0.714286, 0.69898, 0.726563]\n",
      "Transfer & Revision: [0.765306, 0.727041, 0.541016]\n",
      "\n",
      "\n",
      "Experiment 6\n",
      "Ttest_relResult(statistic=0.2974244830402216, pvalue=0.7941914101525107)\n",
      "Ttest_relResult(statistic=1.7387850484663732, pvalue=0.22420287757260673)\n"
     ]
    },
    {
     "data": {
      "text/html": [
       "<div>\n",
       "<table border=\"1\" class=\"dataframe\">\n",
       "  <thead>\n",
       "    <tr style=\"text-align: right;\">\n",
       "      <th></th>\n",
       "      <th>p-value</th>\n",
       "      <th>RDN-B</th>\n",
       "    </tr>\n",
       "  </thead>\n",
       "  <tbody>\n",
       "    <tr>\n",
       "      <th>0</th>\n",
       "      <td>transferRDN-B Ref</td>\n",
       "      <td>0.794</td>\n",
       "    </tr>\n",
       "    <tr>\n",
       "      <th>1</th>\n",
       "      <td>transferRDN-B</td>\n",
       "      <td>0.224</td>\n",
       "    </tr>\n",
       "  </tbody>\n",
       "</table>\n",
       "</div>"
      ],
      "text/plain": [
       "             p-value  RDN-B\n",
       "0  transferRDN-B Ref  0.794\n",
       "1      transferRDN-B  0.224"
      ]
     },
     "metadata": {},
     "output_type": "display_data"
    },
    {
     "name": "stdout",
     "output_type": "stream",
     "text": [
      "Scratch: [0.482143, 0.637755, 0.753906]\n",
      "Transfer: [0.688776, 0.772959, 0.744141]\n",
      "Transfer & Revision: [0.757653, 0.727041, 0.521484]\n",
      "\n",
      "\n",
      "Experiment 7\n",
      "Ttest_relResult(statistic=1.7747539052064887, pvalue=0.21793111556724623)\n",
      "Ttest_relResult(statistic=1.786443288631941, pvalue=0.21594263295125923)\n"
     ]
    },
    {
     "data": {
      "text/html": [
       "<div>\n",
       "<table border=\"1\" class=\"dataframe\">\n",
       "  <thead>\n",
       "    <tr style=\"text-align: right;\">\n",
       "      <th></th>\n",
       "      <th>p-value</th>\n",
       "      <th>RDN-B</th>\n",
       "    </tr>\n",
       "  </thead>\n",
       "  <tbody>\n",
       "    <tr>\n",
       "      <th>0</th>\n",
       "      <td>transferRDN-B Ref</td>\n",
       "      <td>0.218</td>\n",
       "    </tr>\n",
       "    <tr>\n",
       "      <th>1</th>\n",
       "      <td>transferRDN-B</td>\n",
       "      <td>0.216</td>\n",
       "    </tr>\n",
       "  </tbody>\n",
       "</table>\n",
       "</div>"
      ],
      "text/plain": [
       "             p-value  RDN-B\n",
       "0  transferRDN-B Ref  0.218\n",
       "1      transferRDN-B  0.216"
      ]
     },
     "metadata": {},
     "output_type": "display_data"
    },
    {
     "name": "stdout",
     "output_type": "stream",
     "text": [
      "Scratch: [0.517857, 0.637755, 0.753906]\n",
      "Transfer: [0.841837, 0.770408, 0.773438]\n",
      "Transfer & Revision: [0.767857, 0.727041, 0.775391]\n",
      "\n",
      "\n",
      "Experiment 8\n",
      "Ttest_relResult(statistic=1.3203310410799642, pvalue=0.3175717111172385)\n",
      "Ttest_relResult(statistic=1.658792922501561, pvalue=0.23902127897456463)\n"
     ]
    },
    {
     "data": {
      "text/html": [
       "<div>\n",
       "<table border=\"1\" class=\"dataframe\">\n",
       "  <thead>\n",
       "    <tr style=\"text-align: right;\">\n",
       "      <th></th>\n",
       "      <th>p-value</th>\n",
       "      <th>RDN-B</th>\n",
       "    </tr>\n",
       "  </thead>\n",
       "  <tbody>\n",
       "    <tr>\n",
       "      <th>0</th>\n",
       "      <td>transferRDN-B Ref</td>\n",
       "      <td>0.318</td>\n",
       "    </tr>\n",
       "    <tr>\n",
       "      <th>1</th>\n",
       "      <td>transferRDN-B</td>\n",
       "      <td>0.239</td>\n",
       "    </tr>\n",
       "  </tbody>\n",
       "</table>\n",
       "</div>"
      ],
      "text/plain": [
       "             p-value  RDN-B\n",
       "0  transferRDN-B Ref  0.318\n",
       "1      transferRDN-B  0.239"
      ]
     },
     "metadata": {},
     "output_type": "display_data"
    },
    {
     "name": "stdout",
     "output_type": "stream",
     "text": [
      "Scratch: [0.489796, 0.637755, 0.753906]\n",
      "Transfer: [0.808673, 0.778061, 0.753906]\n",
      "Transfer & Revision: [0.747449, 0.727041, 0.730469]\n",
      "\n",
      "\n",
      "Experiment 9\n",
      "Ttest_relResult(statistic=1.4082941958342043, pvalue=0.29437771572461635)\n",
      "Ttest_relResult(statistic=1.3261807520902718, pvalue=0.31596127537656116)\n"
     ]
    },
    {
     "data": {
      "text/html": [
       "<div>\n",
       "<table border=\"1\" class=\"dataframe\">\n",
       "  <thead>\n",
       "    <tr style=\"text-align: right;\">\n",
       "      <th></th>\n",
       "      <th>p-value</th>\n",
       "      <th>RDN-B</th>\n",
       "    </tr>\n",
       "  </thead>\n",
       "  <tbody>\n",
       "    <tr>\n",
       "      <th>0</th>\n",
       "      <td>transferRDN-B Ref</td>\n",
       "      <td>0.294</td>\n",
       "    </tr>\n",
       "    <tr>\n",
       "      <th>1</th>\n",
       "      <td>transferRDN-B</td>\n",
       "      <td>0.316</td>\n",
       "    </tr>\n",
       "  </tbody>\n",
       "</table>\n",
       "</div>"
      ],
      "text/plain": [
       "             p-value  RDN-B\n",
       "0  transferRDN-B Ref  0.294\n",
       "1      transferRDN-B  0.316"
      ]
     },
     "metadata": {},
     "output_type": "display_data"
    },
    {
     "name": "stdout",
     "output_type": "stream",
     "text": [
      "Scratch: [0.5, 0.637755, 0.753906]\n",
      "Transfer: [0.681122, 0.678571, 0.751953]\n",
      "Transfer & Revision: [0.727041, 0.706633, 0.748047]\n",
      "\n",
      "\n",
      "Experiment 10\n",
      "Ttest_relResult(statistic=0.8140017027342427, pvalue=0.5011471592728081)\n",
      "Ttest_relResult(statistic=0.9406652976857566, pvalue=0.4461739062513551)\n"
     ]
    },
    {
     "data": {
      "text/html": [
       "<div>\n",
       "<table border=\"1\" class=\"dataframe\">\n",
       "  <thead>\n",
       "    <tr style=\"text-align: right;\">\n",
       "      <th></th>\n",
       "      <th>p-value</th>\n",
       "      <th>RDN-B</th>\n",
       "    </tr>\n",
       "  </thead>\n",
       "  <tbody>\n",
       "    <tr>\n",
       "      <th>0</th>\n",
       "      <td>transferRDN-B Ref</td>\n",
       "      <td>0.501</td>\n",
       "    </tr>\n",
       "    <tr>\n",
       "      <th>1</th>\n",
       "      <td>transferRDN-B</td>\n",
       "      <td>0.446</td>\n",
       "    </tr>\n",
       "  </tbody>\n",
       "</table>\n",
       "</div>"
      ],
      "text/plain": [
       "             p-value  RDN-B\n",
       "0  transferRDN-B Ref  0.501\n",
       "1      transferRDN-B  0.446"
      ]
     },
     "metadata": {},
     "output_type": "display_data"
    },
    {
     "name": "stdout",
     "output_type": "stream",
     "text": [
      "Scratch: [0.505102, 0.734694, 0.753906]\n",
      "Transfer: [0.619898, 0.744898, 0.740234]\n",
      "Transfer & Revision: [0.767857, 0.747449, 0.708984]\n",
      "\n",
      "\n"
     ]
    },
    {
     "data": {
      "text/markdown": [
       "## AUC PR"
      ],
      "text/plain": [
       "<IPython.core.display.Markdown object>"
      ]
     },
     "metadata": {},
     "output_type": "display_data"
    },
    {
     "name": "stdout",
     "output_type": "stream",
     "text": [
      "Experiment 1\n",
      "Ttest_relResult(statistic=0.0859649637825496, pvalue=0.9393255834132024)\n",
      "Ttest_relResult(statistic=1.3539494777147183, pvalue=0.3084510945232273)\n"
     ]
    },
    {
     "data": {
      "text/html": [
       "<div>\n",
       "<table border=\"1\" class=\"dataframe\">\n",
       "  <thead>\n",
       "    <tr style=\"text-align: right;\">\n",
       "      <th></th>\n",
       "      <th>p-value</th>\n",
       "      <th>RDN-B</th>\n",
       "    </tr>\n",
       "  </thead>\n",
       "  <tbody>\n",
       "    <tr>\n",
       "      <th>0</th>\n",
       "      <td>transferRDN-B Ref</td>\n",
       "      <td>0.939</td>\n",
       "    </tr>\n",
       "    <tr>\n",
       "      <th>1</th>\n",
       "      <td>transferRDN-B</td>\n",
       "      <td>0.308</td>\n",
       "    </tr>\n",
       "  </tbody>\n",
       "</table>\n",
       "</div>"
      ],
      "text/plain": [
       "             p-value  RDN-B\n",
       "0  transferRDN-B Ref  0.939\n",
       "1      transferRDN-B  0.308"
      ]
     },
     "metadata": {},
     "output_type": "display_data"
    },
    {
     "name": "stdout",
     "output_type": "stream",
     "text": [
      "Scratch: [0.493363, 0.702897, 0.811212]\n",
      "Transfer: [0.79033, 0.789185, 0.798679]\n",
      "Transfer & Revision: [0.659248, 0.824593, 0.557924]\n",
      "\n",
      "\n",
      "Experiment 2\n",
      "Ttest_relResult(statistic=1.1393831646951336, pvalue=0.3726185122730874)\n",
      "Ttest_relResult(statistic=1.5119450786058422, pvalue=0.2696836038466401)\n"
     ]
    },
    {
     "data": {
      "text/html": [
       "<div>\n",
       "<table border=\"1\" class=\"dataframe\">\n",
       "  <thead>\n",
       "    <tr style=\"text-align: right;\">\n",
       "      <th></th>\n",
       "      <th>p-value</th>\n",
       "      <th>RDN-B</th>\n",
       "    </tr>\n",
       "  </thead>\n",
       "  <tbody>\n",
       "    <tr>\n",
       "      <th>0</th>\n",
       "      <td>transferRDN-B Ref</td>\n",
       "      <td>0.373</td>\n",
       "    </tr>\n",
       "    <tr>\n",
       "      <th>1</th>\n",
       "      <td>transferRDN-B</td>\n",
       "      <td>0.270</td>\n",
       "    </tr>\n",
       "  </tbody>\n",
       "</table>\n",
       "</div>"
      ],
      "text/plain": [
       "             p-value  RDN-B\n",
       "0  transferRDN-B Ref  0.373\n",
       "1      transferRDN-B  0.270"
      ]
     },
     "metadata": {},
     "output_type": "display_data"
    },
    {
     "name": "stdout",
     "output_type": "stream",
     "text": [
      "Scratch: [0.479955, 0.70489, 0.811212]\n",
      "Transfer: [0.798494, 0.798843, 0.818929]\n",
      "Transfer & Revision: [0.828029, 0.746824, 0.802299]\n",
      "\n",
      "\n",
      "Experiment 3\n",
      "Ttest_relResult(statistic=1.3722454727370401, pvalue=0.30362224733345156)\n",
      "Ttest_relResult(statistic=1.1773642778921825, pvalue=0.36018353982374707)\n"
     ]
    },
    {
     "data": {
      "text/html": [
       "<div>\n",
       "<table border=\"1\" class=\"dataframe\">\n",
       "  <thead>\n",
       "    <tr style=\"text-align: right;\">\n",
       "      <th></th>\n",
       "      <th>p-value</th>\n",
       "      <th>RDN-B</th>\n",
       "    </tr>\n",
       "  </thead>\n",
       "  <tbody>\n",
       "    <tr>\n",
       "      <th>0</th>\n",
       "      <td>transferRDN-B Ref</td>\n",
       "      <td>0.304</td>\n",
       "    </tr>\n",
       "    <tr>\n",
       "      <th>1</th>\n",
       "      <td>transferRDN-B</td>\n",
       "      <td>0.360</td>\n",
       "    </tr>\n",
       "  </tbody>\n",
       "</table>\n",
       "</div>"
      ],
      "text/plain": [
       "             p-value  RDN-B\n",
       "0  transferRDN-B Ref  0.304\n",
       "1      transferRDN-B  0.360"
      ]
     },
     "metadata": {},
     "output_type": "display_data"
    },
    {
     "name": "stdout",
     "output_type": "stream",
     "text": [
      "Scratch: [0.499068, 0.702897, 0.811212]\n",
      "Transfer: [0.836529, 0.741908, 0.811203]\n",
      "Transfer & Revision: [0.779931, 0.746418, 0.830419]\n",
      "\n",
      "\n",
      "Experiment 4\n",
      "Ttest_relResult(statistic=1.2913538780933052, pvalue=0.32569777195528915)\n",
      "Ttest_relResult(statistic=1.3219424855509534, pvalue=0.31712708223225083)\n"
     ]
    },
    {
     "data": {
      "text/html": [
       "<div>\n",
       "<table border=\"1\" class=\"dataframe\">\n",
       "  <thead>\n",
       "    <tr style=\"text-align: right;\">\n",
       "      <th></th>\n",
       "      <th>p-value</th>\n",
       "      <th>RDN-B</th>\n",
       "    </tr>\n",
       "  </thead>\n",
       "  <tbody>\n",
       "    <tr>\n",
       "      <th>0</th>\n",
       "      <td>transferRDN-B Ref</td>\n",
       "      <td>0.326</td>\n",
       "    </tr>\n",
       "    <tr>\n",
       "      <th>1</th>\n",
       "      <td>transferRDN-B</td>\n",
       "      <td>0.317</td>\n",
       "    </tr>\n",
       "  </tbody>\n",
       "</table>\n",
       "</div>"
      ],
      "text/plain": [
       "             p-value  RDN-B\n",
       "0  transferRDN-B Ref  0.326\n",
       "1      transferRDN-B  0.317"
      ]
     },
     "metadata": {},
     "output_type": "display_data"
    },
    {
     "name": "stdout",
     "output_type": "stream",
     "text": [
      "Scratch: [0.496477, 0.702897, 0.811212]\n",
      "Transfer: [0.790278, 0.763541, 0.811592]\n",
      "Transfer & Revision: [0.856265, 0.779196, 0.804742]\n",
      "\n",
      "\n",
      "Experiment 5\n",
      "Ttest_relResult(statistic=0.25814692218492097, pvalue=0.8204296812847638)\n",
      "Ttest_relResult(statistic=1.1834575220407177, pvalue=0.35823399871281514)\n"
     ]
    },
    {
     "data": {
      "text/html": [
       "<div>\n",
       "<table border=\"1\" class=\"dataframe\">\n",
       "  <thead>\n",
       "    <tr style=\"text-align: right;\">\n",
       "      <th></th>\n",
       "      <th>p-value</th>\n",
       "      <th>RDN-B</th>\n",
       "    </tr>\n",
       "  </thead>\n",
       "  <tbody>\n",
       "    <tr>\n",
       "      <th>0</th>\n",
       "      <td>transferRDN-B Ref</td>\n",
       "      <td>0.820</td>\n",
       "    </tr>\n",
       "    <tr>\n",
       "      <th>1</th>\n",
       "      <td>transferRDN-B</td>\n",
       "      <td>0.358</td>\n",
       "    </tr>\n",
       "  </tbody>\n",
       "</table>\n",
       "</div>"
      ],
      "text/plain": [
       "             p-value  RDN-B\n",
       "0  transferRDN-B Ref  0.820\n",
       "1      transferRDN-B  0.358"
      ]
     },
     "metadata": {},
     "output_type": "display_data"
    },
    {
     "name": "stdout",
     "output_type": "stream",
     "text": [
      "Scratch: [0.499068, 0.702897, 0.811212]\n",
      "Transfer: [0.810613, 0.764278, 0.7919]\n",
      "Transfer & Revision: [0.806125, 0.774941, 0.557924]\n",
      "\n",
      "\n",
      "Experiment 6\n",
      "Ttest_relResult(statistic=0.1302752257297353, pvalue=0.9082698847710573)\n",
      "Ttest_relResult(statistic=1.443742314273512, pvalue=0.2856254342265603)\n"
     ]
    },
    {
     "data": {
      "text/html": [
       "<div>\n",
       "<table border=\"1\" class=\"dataframe\">\n",
       "  <thead>\n",
       "    <tr style=\"text-align: right;\">\n",
       "      <th></th>\n",
       "      <th>p-value</th>\n",
       "      <th>RDN-B</th>\n",
       "    </tr>\n",
       "  </thead>\n",
       "  <tbody>\n",
       "    <tr>\n",
       "      <th>0</th>\n",
       "      <td>transferRDN-B Ref</td>\n",
       "      <td>0.908</td>\n",
       "    </tr>\n",
       "    <tr>\n",
       "      <th>1</th>\n",
       "      <td>transferRDN-B</td>\n",
       "      <td>0.286</td>\n",
       "    </tr>\n",
       "  </tbody>\n",
       "</table>\n",
       "</div>"
      ],
      "text/plain": [
       "             p-value  RDN-B\n",
       "0  transferRDN-B Ref  0.908\n",
       "1      transferRDN-B  0.286"
      ]
     },
     "metadata": {},
     "output_type": "display_data"
    },
    {
     "name": "stdout",
     "output_type": "stream",
     "text": [
      "Scratch: [0.481599, 0.702897, 0.811212]\n",
      "Transfer: [0.811229, 0.806716, 0.805436]\n",
      "Transfer & Revision: [0.812808, 0.778882, 0.47947]\n",
      "\n",
      "\n",
      "Experiment 7\n",
      "Ttest_relResult(statistic=1.3997099613967845, pvalue=0.29654715169324364)\n",
      "Ttest_relResult(statistic=1.60650080819706, pvalue=0.24940069640610638)\n"
     ]
    },
    {
     "data": {
      "text/html": [
       "<div>\n",
       "<table border=\"1\" class=\"dataframe\">\n",
       "  <thead>\n",
       "    <tr style=\"text-align: right;\">\n",
       "      <th></th>\n",
       "      <th>p-value</th>\n",
       "      <th>RDN-B</th>\n",
       "    </tr>\n",
       "  </thead>\n",
       "  <tbody>\n",
       "    <tr>\n",
       "      <th>0</th>\n",
       "      <td>transferRDN-B Ref</td>\n",
       "      <td>0.297</td>\n",
       "    </tr>\n",
       "    <tr>\n",
       "      <th>1</th>\n",
       "      <td>transferRDN-B</td>\n",
       "      <td>0.249</td>\n",
       "    </tr>\n",
       "  </tbody>\n",
       "</table>\n",
       "</div>"
      ],
      "text/plain": [
       "             p-value  RDN-B\n",
       "0  transferRDN-B Ref  0.297\n",
       "1      transferRDN-B  0.249"
      ]
     },
     "metadata": {},
     "output_type": "display_data"
    },
    {
     "name": "stdout",
     "output_type": "stream",
     "text": [
      "Scratch: [0.537995, 0.702897, 0.811212]\n",
      "Transfer: [0.880441, 0.80671, 0.830868]\n",
      "Transfer & Revision: [0.850526, 0.756792, 0.832031]\n",
      "\n",
      "\n",
      "Experiment 8\n",
      "Ttest_relResult(statistic=1.2874052272555772, pvalue=0.3268244832225319)\n",
      "Ttest_relResult(statistic=1.4773995633702668, pvalue=0.2776143395589276)\n"
     ]
    },
    {
     "data": {
      "text/html": [
       "<div>\n",
       "<table border=\"1\" class=\"dataframe\">\n",
       "  <thead>\n",
       "    <tr style=\"text-align: right;\">\n",
       "      <th></th>\n",
       "      <th>p-value</th>\n",
       "      <th>RDN-B</th>\n",
       "    </tr>\n",
       "  </thead>\n",
       "  <tbody>\n",
       "    <tr>\n",
       "      <th>0</th>\n",
       "      <td>transferRDN-B Ref</td>\n",
       "      <td>0.327</td>\n",
       "    </tr>\n",
       "    <tr>\n",
       "      <th>1</th>\n",
       "      <td>transferRDN-B</td>\n",
       "      <td>0.278</td>\n",
       "    </tr>\n",
       "  </tbody>\n",
       "</table>\n",
       "</div>"
      ],
      "text/plain": [
       "             p-value  RDN-B\n",
       "0  transferRDN-B Ref  0.327\n",
       "1      transferRDN-B  0.278"
      ]
     },
     "metadata": {},
     "output_type": "display_data"
    },
    {
     "name": "stdout",
     "output_type": "stream",
     "text": [
      "Scratch: [0.478464, 0.702897, 0.811212]\n",
      "Transfer: [0.864602, 0.810035, 0.819433]\n",
      "Transfer & Revision: [0.838424, 0.778882, 0.804296]\n",
      "\n",
      "\n",
      "Experiment 9\n",
      "Ttest_relResult(statistic=1.2157482865432174, pvalue=0.3481072715865172)\n",
      "Ttest_relResult(statistic=1.2240760914976163, pvalue=0.3455506740942431)\n"
     ]
    },
    {
     "data": {
      "text/html": [
       "<div>\n",
       "<table border=\"1\" class=\"dataframe\">\n",
       "  <thead>\n",
       "    <tr style=\"text-align: right;\">\n",
       "      <th></th>\n",
       "      <th>p-value</th>\n",
       "      <th>RDN-B</th>\n",
       "    </tr>\n",
       "  </thead>\n",
       "  <tbody>\n",
       "    <tr>\n",
       "      <th>0</th>\n",
       "      <td>transferRDN-B Ref</td>\n",
       "      <td>0.348</td>\n",
       "    </tr>\n",
       "    <tr>\n",
       "      <th>1</th>\n",
       "      <td>transferRDN-B</td>\n",
       "      <td>0.346</td>\n",
       "    </tr>\n",
       "  </tbody>\n",
       "</table>\n",
       "</div>"
      ],
      "text/plain": [
       "             p-value  RDN-B\n",
       "0  transferRDN-B Ref  0.348\n",
       "1      transferRDN-B  0.346"
      ]
     },
     "metadata": {},
     "output_type": "display_data"
    },
    {
     "name": "stdout",
     "output_type": "stream",
     "text": [
      "Scratch: [0.499068, 0.702897, 0.811212]\n",
      "Transfer: [0.803679, 0.73668, 0.820379]\n",
      "Transfer & Revision: [0.796511, 0.749513, 0.80713]\n",
      "\n",
      "\n",
      "Experiment 10\n",
      "Ttest_relResult(statistic=0.884570435986525, pvalue=0.4697049460517402)\n",
      "Ttest_relResult(statistic=1.099557240615705, pvalue=0.3861938770993316)\n"
     ]
    },
    {
     "data": {
      "text/html": [
       "<div>\n",
       "<table border=\"1\" class=\"dataframe\">\n",
       "  <thead>\n",
       "    <tr style=\"text-align: right;\">\n",
       "      <th></th>\n",
       "      <th>p-value</th>\n",
       "      <th>RDN-B</th>\n",
       "    </tr>\n",
       "  </thead>\n",
       "  <tbody>\n",
       "    <tr>\n",
       "      <th>0</th>\n",
       "      <td>transferRDN-B Ref</td>\n",
       "      <td>0.470</td>\n",
       "    </tr>\n",
       "    <tr>\n",
       "      <th>1</th>\n",
       "      <td>transferRDN-B</td>\n",
       "      <td>0.386</td>\n",
       "    </tr>\n",
       "  </tbody>\n",
       "</table>\n",
       "</div>"
      ],
      "text/plain": [
       "             p-value  RDN-B\n",
       "0  transferRDN-B Ref  0.470\n",
       "1      transferRDN-B  0.386"
      ]
     },
     "metadata": {},
     "output_type": "display_data"
    },
    {
     "name": "stdout",
     "output_type": "stream",
     "text": [
      "Scratch: [0.500559, 0.787988, 0.811212]\n",
      "Transfer: [0.779209, 0.803852, 0.813432]\n",
      "Transfer & Revision: [0.845083, 0.800396, 0.772881]\n",
      "\n",
      "\n"
     ]
    },
    {
     "data": {
      "text/markdown": [
       "## CLL"
      ],
      "text/plain": [
       "<IPython.core.display.Markdown object>"
      ]
     },
     "metadata": {},
     "output_type": "display_data"
    },
    {
     "name": "stdout",
     "output_type": "stream",
     "text": [
      "Experiment 1\n",
      "Ttest_relResult(statistic=-0.5924899422679529, pvalue=0.6135880281767652)\n",
      "Ttest_relResult(statistic=1.2153966394163123, pvalue=0.34821571784075267)\n"
     ]
    },
    {
     "data": {
      "text/html": [
       "<div>\n",
       "<table border=\"1\" class=\"dataframe\">\n",
       "  <thead>\n",
       "    <tr style=\"text-align: right;\">\n",
       "      <th></th>\n",
       "      <th>p-value</th>\n",
       "      <th>RDN-B</th>\n",
       "    </tr>\n",
       "  </thead>\n",
       "  <tbody>\n",
       "    <tr>\n",
       "      <th>0</th>\n",
       "      <td>transferRDN-B Ref</td>\n",
       "      <td>0.614</td>\n",
       "    </tr>\n",
       "    <tr>\n",
       "      <th>1</th>\n",
       "      <td>transferRDN-B</td>\n",
       "      <td>0.348</td>\n",
       "    </tr>\n",
       "  </tbody>\n",
       "</table>\n",
       "</div>"
      ],
      "text/plain": [
       "             p-value  RDN-B\n",
       "0  transferRDN-B Ref  0.614\n",
       "1      transferRDN-B  0.348"
      ]
     },
     "metadata": {},
     "output_type": "display_data"
    },
    {
     "name": "stdout",
     "output_type": "stream",
     "text": [
      "Scratch: [-0.892593, -0.591373, -0.67662]\n",
      "Transfer: [-0.573246, -0.629605, -0.577935]\n",
      "Transfer & Revision: [-0.826936, -0.576156, -0.938437]\n",
      "\n",
      "\n",
      "Experiment 2\n",
      "Ttest_relResult(statistic=0.1472244272489893, pvalue=0.8964561760663113)\n",
      "Ttest_relResult(statistic=1.214065628688142, pvalue=0.34862655734737147)\n"
     ]
    },
    {
     "data": {
      "text/html": [
       "<div>\n",
       "<table border=\"1\" class=\"dataframe\">\n",
       "  <thead>\n",
       "    <tr style=\"text-align: right;\">\n",
       "      <th></th>\n",
       "      <th>p-value</th>\n",
       "      <th>RDN-B</th>\n",
       "    </tr>\n",
       "  </thead>\n",
       "  <tbody>\n",
       "    <tr>\n",
       "      <th>0</th>\n",
       "      <td>transferRDN-B Ref</td>\n",
       "      <td>0.896</td>\n",
       "    </tr>\n",
       "    <tr>\n",
       "      <th>1</th>\n",
       "      <td>transferRDN-B</td>\n",
       "      <td>0.349</td>\n",
       "    </tr>\n",
       "  </tbody>\n",
       "</table>\n",
       "</div>"
      ],
      "text/plain": [
       "             p-value  RDN-B\n",
       "0  transferRDN-B Ref  0.896\n",
       "1      transferRDN-B  0.349"
      ]
     },
     "metadata": {},
     "output_type": "display_data"
    },
    {
     "name": "stdout",
     "output_type": "stream",
     "text": [
      "Scratch: [-0.895445, -0.59129, -0.67662]\n",
      "Transfer: [-0.55569, -0.587028, -0.634334]\n",
      "Transfer & Revision: [-0.664737, -0.565499, -0.878003]\n",
      "\n",
      "\n",
      "Experiment 3\n",
      "Ttest_relResult(statistic=-0.044039594438854496, pvalue=0.9688743923936349)\n",
      "Ttest_relResult(statistic=1.3584892199355094, pvalue=0.3072441751034456)\n"
     ]
    },
    {
     "data": {
      "text/html": [
       "<div>\n",
       "<table border=\"1\" class=\"dataframe\">\n",
       "  <thead>\n",
       "    <tr style=\"text-align: right;\">\n",
       "      <th></th>\n",
       "      <th>p-value</th>\n",
       "      <th>RDN-B</th>\n",
       "    </tr>\n",
       "  </thead>\n",
       "  <tbody>\n",
       "    <tr>\n",
       "      <th>0</th>\n",
       "      <td>transferRDN-B Ref</td>\n",
       "      <td>0.969</td>\n",
       "    </tr>\n",
       "    <tr>\n",
       "      <th>1</th>\n",
       "      <td>transferRDN-B</td>\n",
       "      <td>0.307</td>\n",
       "    </tr>\n",
       "  </tbody>\n",
       "</table>\n",
       "</div>"
      ],
      "text/plain": [
       "             p-value  RDN-B\n",
       "0  transferRDN-B Ref  0.969\n",
       "1      transferRDN-B  0.307"
      ]
     },
     "metadata": {},
     "output_type": "display_data"
    },
    {
     "name": "stdout",
     "output_type": "stream",
     "text": [
      "Scratch: [-0.913111, -0.591373, -0.67662]\n",
      "Transfer: [-0.503904, -0.609941, -0.554308]\n",
      "Transfer & Revision: [-0.71057, -0.57933, -0.907786]\n",
      "\n",
      "\n",
      "Experiment 4\n",
      "Ttest_relResult(statistic=0.15619313030074153, pvalue=0.8902222912675557)\n",
      "Ttest_relResult(statistic=1.2115422595253198, pvalue=0.349407014353903)\n"
     ]
    },
    {
     "data": {
      "text/html": [
       "<div>\n",
       "<table border=\"1\" class=\"dataframe\">\n",
       "  <thead>\n",
       "    <tr style=\"text-align: right;\">\n",
       "      <th></th>\n",
       "      <th>p-value</th>\n",
       "      <th>RDN-B</th>\n",
       "    </tr>\n",
       "  </thead>\n",
       "  <tbody>\n",
       "    <tr>\n",
       "      <th>0</th>\n",
       "      <td>transferRDN-B Ref</td>\n",
       "      <td>0.890</td>\n",
       "    </tr>\n",
       "    <tr>\n",
       "      <th>1</th>\n",
       "      <td>transferRDN-B</td>\n",
       "      <td>0.349</td>\n",
       "    </tr>\n",
       "  </tbody>\n",
       "</table>\n",
       "</div>"
      ],
      "text/plain": [
       "             p-value  RDN-B\n",
       "0  transferRDN-B Ref  0.890\n",
       "1      transferRDN-B  0.349"
      ]
     },
     "metadata": {},
     "output_type": "display_data"
    },
    {
     "name": "stdout",
     "output_type": "stream",
     "text": [
      "Scratch: [-0.893307, -0.591373, -0.67662]\n",
      "Transfer: [-0.533436, -0.636451, -0.563202]\n",
      "Transfer & Revision: [-0.66422, -0.571414, -0.868696]\n",
      "\n",
      "\n",
      "Experiment 5\n",
      "Ttest_relResult(statistic=0.0002691906392316505, pvalue=0.9998096534770157)\n",
      "Ttest_relResult(statistic=1.1679343083907108, pvalue=0.3632251991566665)\n"
     ]
    },
    {
     "data": {
      "text/html": [
       "<div>\n",
       "<table border=\"1\" class=\"dataframe\">\n",
       "  <thead>\n",
       "    <tr style=\"text-align: right;\">\n",
       "      <th></th>\n",
       "      <th>p-value</th>\n",
       "      <th>RDN-B</th>\n",
       "    </tr>\n",
       "  </thead>\n",
       "  <tbody>\n",
       "    <tr>\n",
       "      <th>0</th>\n",
       "      <td>transferRDN-B Ref</td>\n",
       "      <td>1.000</td>\n",
       "    </tr>\n",
       "    <tr>\n",
       "      <th>1</th>\n",
       "      <td>transferRDN-B</td>\n",
       "      <td>0.363</td>\n",
       "    </tr>\n",
       "  </tbody>\n",
       "</table>\n",
       "</div>"
      ],
      "text/plain": [
       "             p-value  RDN-B\n",
       "0  transferRDN-B Ref  1.000\n",
       "1      transferRDN-B  0.363"
      ]
     },
     "metadata": {},
     "output_type": "display_data"
    },
    {
     "name": "stdout",
     "output_type": "stream",
     "text": [
      "Scratch: [-0.909945, -0.591373, -0.67662]\n",
      "Transfer: [-0.532777, -0.634447, -0.578171]\n",
      "Transfer & Revision: [-0.670147, -0.551982, -0.955687]\n",
      "\n",
      "\n",
      "Experiment 6\n",
      "Ttest_relResult(statistic=-0.14018548046137702, pvalue=0.901357342074096)\n",
      "Ttest_relResult(statistic=1.6603114689131493, pvalue=0.23872828829978746)\n"
     ]
    },
    {
     "data": {
      "text/html": [
       "<div>\n",
       "<table border=\"1\" class=\"dataframe\">\n",
       "  <thead>\n",
       "    <tr style=\"text-align: right;\">\n",
       "      <th></th>\n",
       "      <th>p-value</th>\n",
       "      <th>RDN-B</th>\n",
       "    </tr>\n",
       "  </thead>\n",
       "  <tbody>\n",
       "    <tr>\n",
       "      <th>0</th>\n",
       "      <td>transferRDN-B Ref</td>\n",
       "      <td>0.901</td>\n",
       "    </tr>\n",
       "    <tr>\n",
       "      <th>1</th>\n",
       "      <td>transferRDN-B</td>\n",
       "      <td>0.239</td>\n",
       "    </tr>\n",
       "  </tbody>\n",
       "</table>\n",
       "</div>"
      ],
      "text/plain": [
       "             p-value  RDN-B\n",
       "0  transferRDN-B Ref  0.901\n",
       "1      transferRDN-B  0.239"
      ]
     },
     "metadata": {},
     "output_type": "display_data"
    },
    {
     "name": "stdout",
     "output_type": "stream",
     "text": [
      "Scratch: [-0.839454, -0.591373, -0.666408]\n",
      "Transfer: [-0.535989, -0.562304, -0.581768]\n",
      "Transfer & Revision: [-0.668562, -0.545676, -0.938437]\n",
      "\n",
      "\n",
      "Experiment 7\n",
      "Ttest_relResult(statistic=0.21989804792036244, pvalue=0.846354889242676)\n",
      "Ttest_relResult(statistic=1.2726288670149455, pvalue=0.3310827029255158)\n"
     ]
    },
    {
     "data": {
      "text/html": [
       "<div>\n",
       "<table border=\"1\" class=\"dataframe\">\n",
       "  <thead>\n",
       "    <tr style=\"text-align: right;\">\n",
       "      <th></th>\n",
       "      <th>p-value</th>\n",
       "      <th>RDN-B</th>\n",
       "    </tr>\n",
       "  </thead>\n",
       "  <tbody>\n",
       "    <tr>\n",
       "      <th>0</th>\n",
       "      <td>transferRDN-B Ref</td>\n",
       "      <td>0.846</td>\n",
       "    </tr>\n",
       "    <tr>\n",
       "      <th>1</th>\n",
       "      <td>transferRDN-B</td>\n",
       "      <td>0.331</td>\n",
       "    </tr>\n",
       "  </tbody>\n",
       "</table>\n",
       "</div>"
      ],
      "text/plain": [
       "             p-value  RDN-B\n",
       "0  transferRDN-B Ref  0.846\n",
       "1      transferRDN-B  0.331"
      ]
     },
     "metadata": {},
     "output_type": "display_data"
    },
    {
     "name": "stdout",
     "output_type": "stream",
     "text": [
      "Scratch: [-0.901044, -0.57022, -0.67662]\n",
      "Transfer: [-0.479933, -0.604322, -0.553902]\n",
      "Transfer & Revision: [-0.68577, -0.540487, -0.847978]\n",
      "\n",
      "\n",
      "Experiment 8\n",
      "Ttest_relResult(statistic=-0.0863208369086655, pvalue=0.9390753371384923)\n",
      "Ttest_relResult(statistic=1.6334116078254273, pvalue=0.2439880567071148)\n"
     ]
    },
    {
     "data": {
      "text/html": [
       "<div>\n",
       "<table border=\"1\" class=\"dataframe\">\n",
       "  <thead>\n",
       "    <tr style=\"text-align: right;\">\n",
       "      <th></th>\n",
       "      <th>p-value</th>\n",
       "      <th>RDN-B</th>\n",
       "    </tr>\n",
       "  </thead>\n",
       "  <tbody>\n",
       "    <tr>\n",
       "      <th>0</th>\n",
       "      <td>transferRDN-B Ref</td>\n",
       "      <td>0.939</td>\n",
       "    </tr>\n",
       "    <tr>\n",
       "      <th>1</th>\n",
       "      <td>transferRDN-B</td>\n",
       "      <td>0.244</td>\n",
       "    </tr>\n",
       "  </tbody>\n",
       "</table>\n",
       "</div>"
      ],
      "text/plain": [
       "             p-value  RDN-B\n",
       "0  transferRDN-B Ref  0.939\n",
       "1      transferRDN-B  0.244"
      ]
     },
     "metadata": {},
     "output_type": "display_data"
    },
    {
     "name": "stdout",
     "output_type": "stream",
     "text": [
      "Scratch: [-0.902496, -0.591373, -0.67662]\n",
      "Transfer: [-0.491803, -0.56397, -0.551316]\n",
      "Transfer & Revision: [-0.690387, -0.546945, -0.971799]\n",
      "\n",
      "\n",
      "Experiment 9\n",
      "Ttest_relResult(statistic=0.4267856248667096, pvalue=0.7110864678871538)\n",
      "Ttest_relResult(statistic=1.3081754797275864, pvalue=0.3209502041798733)\n"
     ]
    },
    {
     "data": {
      "text/html": [
       "<div>\n",
       "<table border=\"1\" class=\"dataframe\">\n",
       "  <thead>\n",
       "    <tr style=\"text-align: right;\">\n",
       "      <th></th>\n",
       "      <th>p-value</th>\n",
       "      <th>RDN-B</th>\n",
       "    </tr>\n",
       "  </thead>\n",
       "  <tbody>\n",
       "    <tr>\n",
       "      <th>0</th>\n",
       "      <td>transferRDN-B Ref</td>\n",
       "      <td>0.711</td>\n",
       "    </tr>\n",
       "    <tr>\n",
       "      <th>1</th>\n",
       "      <td>transferRDN-B</td>\n",
       "      <td>0.321</td>\n",
       "    </tr>\n",
       "  </tbody>\n",
       "</table>\n",
       "</div>"
      ],
      "text/plain": [
       "             p-value  RDN-B\n",
       "0  transferRDN-B Ref  0.711\n",
       "1      transferRDN-B  0.321"
      ]
     },
     "metadata": {},
     "output_type": "display_data"
    },
    {
     "name": "stdout",
     "output_type": "stream",
     "text": [
      "Scratch: [-0.909314, -0.591373, -0.67662]\n",
      "Transfer: [-0.55557, -0.610707, -0.578744]\n",
      "Transfer & Revision: [-0.673116, -0.566903, -0.802739]\n",
      "\n",
      "\n",
      "Experiment 10\n",
      "Ttest_relResult(statistic=0.3325936394812121, pvalue=0.7710666484736481)\n",
      "Ttest_relResult(statistic=1.1967043655749565, pvalue=0.354038217891969)\n"
     ]
    },
    {
     "data": {
      "text/html": [
       "<div>\n",
       "<table border=\"1\" class=\"dataframe\">\n",
       "  <thead>\n",
       "    <tr style=\"text-align: right;\">\n",
       "      <th></th>\n",
       "      <th>p-value</th>\n",
       "      <th>RDN-B</th>\n",
       "    </tr>\n",
       "  </thead>\n",
       "  <tbody>\n",
       "    <tr>\n",
       "      <th>0</th>\n",
       "      <td>transferRDN-B Ref</td>\n",
       "      <td>0.771</td>\n",
       "    </tr>\n",
       "    <tr>\n",
       "      <th>1</th>\n",
       "      <td>transferRDN-B</td>\n",
       "      <td>0.354</td>\n",
       "    </tr>\n",
       "  </tbody>\n",
       "</table>\n",
       "</div>"
      ],
      "text/plain": [
       "             p-value  RDN-B\n",
       "0  transferRDN-B Ref  0.771\n",
       "1      transferRDN-B  0.354"
      ]
     },
     "metadata": {},
     "output_type": "display_data"
    },
    {
     "name": "stdout",
     "output_type": "stream",
     "text": [
      "Scratch: [-0.893015, -0.590497, -0.67662]\n",
      "Transfer: [-0.563626, -0.617568, -0.599136]\n",
      "Transfer & Revision: [-0.622213, -0.548624, -0.858814]\n",
      "\n",
      "\n"
     ]
    },
    {
     "data": {
      "text/markdown": [
       "## Recall"
      ],
      "text/plain": [
       "<IPython.core.display.Markdown object>"
      ]
     },
     "metadata": {},
     "output_type": "display_data"
    },
    {
     "name": "stdout",
     "output_type": "stream",
     "text": [
      "Experiment 1\n",
      "Ttest_relResult(statistic=1.0, pvalue=0.42264973081037427)\n",
      "Ttest_relResult(statistic=-1.986798730791212, pvalue=0.1853118031937808)\n"
     ]
    },
    {
     "data": {
      "text/html": [
       "<div>\n",
       "<table border=\"1\" class=\"dataframe\">\n",
       "  <thead>\n",
       "    <tr style=\"text-align: right;\">\n",
       "      <th></th>\n",
       "      <th>p-value</th>\n",
       "      <th>RDN-B</th>\n",
       "    </tr>\n",
       "  </thead>\n",
       "  <tbody>\n",
       "    <tr>\n",
       "      <th>0</th>\n",
       "      <td>transferRDN-B Ref</td>\n",
       "      <td>0.423</td>\n",
       "    </tr>\n",
       "    <tr>\n",
       "      <th>1</th>\n",
       "      <td>transferRDN-B</td>\n",
       "      <td>0.185</td>\n",
       "    </tr>\n",
       "  </tbody>\n",
       "</table>\n",
       "</div>"
      ],
      "text/plain": [
       "             p-value  RDN-B\n",
       "0  transferRDN-B Ref  0.423\n",
       "1      transferRDN-B  0.185"
      ]
     },
     "metadata": {},
     "output_type": "display_data"
    },
    {
     "name": "stdout",
     "output_type": "stream",
     "text": [
      "Scratch: [0.714286, 0.357143, 0.8125]\n",
      "Transfer: [0.571429, 0.357143, 0.6875]\n",
      "Transfer & Revision: [0.785714, 0.357143, 0.8125]\n",
      "\n",
      "\n",
      "Experiment 2\n",
      "Ttest_relResult(statistic=-0.6546558528908072, pvalue=0.5799148216187051)\n",
      "Ttest_relResult(statistic=-1.9171749031098417, pvalue=0.19525666119956556)\n"
     ]
    },
    {
     "data": {
      "text/html": [
       "<div>\n",
       "<table border=\"1\" class=\"dataframe\">\n",
       "  <thead>\n",
       "    <tr style=\"text-align: right;\">\n",
       "      <th></th>\n",
       "      <th>p-value</th>\n",
       "      <th>RDN-B</th>\n",
       "    </tr>\n",
       "  </thead>\n",
       "  <tbody>\n",
       "    <tr>\n",
       "      <th>0</th>\n",
       "      <td>transferRDN-B Ref</td>\n",
       "      <td>0.580</td>\n",
       "    </tr>\n",
       "    <tr>\n",
       "      <th>1</th>\n",
       "      <td>transferRDN-B</td>\n",
       "      <td>0.195</td>\n",
       "    </tr>\n",
       "  </tbody>\n",
       "</table>\n",
       "</div>"
      ],
      "text/plain": [
       "             p-value  RDN-B\n",
       "0  transferRDN-B Ref  0.580\n",
       "1      transferRDN-B  0.195"
      ]
     },
     "metadata": {},
     "output_type": "display_data"
    },
    {
     "name": "stdout",
     "output_type": "stream",
     "text": [
      "Scratch: [0.714286, 0.642857, 0.8125]\n",
      "Transfer: [0.642857, 0.357143, 0.75]\n",
      "Transfer & Revision: [0.785714, 0.357143, 0.8125]\n",
      "\n",
      "\n",
      "Experiment 3\n",
      "Ttest_relResult(statistic=1.3867478023969304, pvalue=0.299860649891022)\n",
      "Ttest_relResult(statistic=-1.5797301314977996, pvalue=0.2549393675793871)\n"
     ]
    },
    {
     "data": {
      "text/html": [
       "<div>\n",
       "<table border=\"1\" class=\"dataframe\">\n",
       "  <thead>\n",
       "    <tr style=\"text-align: right;\">\n",
       "      <th></th>\n",
       "      <th>p-value</th>\n",
       "      <th>RDN-B</th>\n",
       "    </tr>\n",
       "  </thead>\n",
       "  <tbody>\n",
       "    <tr>\n",
       "      <th>0</th>\n",
       "      <td>transferRDN-B Ref</td>\n",
       "      <td>0.300</td>\n",
       "    </tr>\n",
       "    <tr>\n",
       "      <th>1</th>\n",
       "      <td>transferRDN-B</td>\n",
       "      <td>0.255</td>\n",
       "    </tr>\n",
       "  </tbody>\n",
       "</table>\n",
       "</div>"
      ],
      "text/plain": [
       "             p-value  RDN-B\n",
       "0  transferRDN-B Ref  0.300\n",
       "1      transferRDN-B  0.255"
      ]
     },
     "metadata": {},
     "output_type": "display_data"
    },
    {
     "name": "stdout",
     "output_type": "stream",
     "text": [
      "Scratch: [0.714286, 0.357143, 0.8125]\n",
      "Transfer: [0.571429, 0.357143, 0.4375]\n",
      "Transfer & Revision: [0.785714, 0.642857, 0.8125]\n",
      "\n",
      "\n",
      "Experiment 4\n",
      "Ttest_relResult(statistic=1.0, pvalue=0.42264973081037427)\n",
      "Ttest_relResult(statistic=-1.8083883005133115, pvalue=0.21227373110079562)\n"
     ]
    },
    {
     "data": {
      "text/html": [
       "<div>\n",
       "<table border=\"1\" class=\"dataframe\">\n",
       "  <thead>\n",
       "    <tr style=\"text-align: right;\">\n",
       "      <th></th>\n",
       "      <th>p-value</th>\n",
       "      <th>RDN-B</th>\n",
       "    </tr>\n",
       "  </thead>\n",
       "  <tbody>\n",
       "    <tr>\n",
       "      <th>0</th>\n",
       "      <td>transferRDN-B Ref</td>\n",
       "      <td>0.423</td>\n",
       "    </tr>\n",
       "    <tr>\n",
       "      <th>1</th>\n",
       "      <td>transferRDN-B</td>\n",
       "      <td>0.212</td>\n",
       "    </tr>\n",
       "  </tbody>\n",
       "</table>\n",
       "</div>"
      ],
      "text/plain": [
       "             p-value  RDN-B\n",
       "0  transferRDN-B Ref  0.423\n",
       "1      transferRDN-B  0.212"
      ]
     },
     "metadata": {},
     "output_type": "display_data"
    },
    {
     "name": "stdout",
     "output_type": "stream",
     "text": [
      "Scratch: [0.714286, 0.357143, 0.8125]\n",
      "Transfer: [0.571429, 0.357143, 0.5625]\n",
      "Transfer & Revision: [0.785714, 0.357143, 0.8125]\n",
      "\n",
      "\n",
      "Experiment 5\n",
      "Ttest_relResult(statistic=1.7320467660988068, pvalue=0.2254040537201793)\n",
      "Ttest_relResult(statistic=-1.986798730791212, pvalue=0.1853118031937808)\n"
     ]
    },
    {
     "data": {
      "text/html": [
       "<div>\n",
       "<table border=\"1\" class=\"dataframe\">\n",
       "  <thead>\n",
       "    <tr style=\"text-align: right;\">\n",
       "      <th></th>\n",
       "      <th>p-value</th>\n",
       "      <th>RDN-B</th>\n",
       "    </tr>\n",
       "  </thead>\n",
       "  <tbody>\n",
       "    <tr>\n",
       "      <th>0</th>\n",
       "      <td>transferRDN-B Ref</td>\n",
       "      <td>0.225</td>\n",
       "    </tr>\n",
       "    <tr>\n",
       "      <th>1</th>\n",
       "      <td>transferRDN-B</td>\n",
       "      <td>0.185</td>\n",
       "    </tr>\n",
       "  </tbody>\n",
       "</table>\n",
       "</div>"
      ],
      "text/plain": [
       "             p-value  RDN-B\n",
       "0  transferRDN-B Ref  0.225\n",
       "1      transferRDN-B  0.185"
      ]
     },
     "metadata": {},
     "output_type": "display_data"
    },
    {
     "name": "stdout",
     "output_type": "stream",
     "text": [
      "Scratch: [0.714286, 0.357143, 0.8125]\n",
      "Transfer: [0.571429, 0.357143, 0.6875]\n",
      "Transfer & Revision: [0.785714, 0.5, 0.8125]\n",
      "\n",
      "\n",
      "Experiment 6\n",
      "Ttest_relResult(statistic=1.0, pvalue=0.42264973081037427)\n",
      "Ttest_relResult(statistic=-1.6555767906402046, pvalue=0.23964334509936025)\n"
     ]
    },
    {
     "data": {
      "text/html": [
       "<div>\n",
       "<table border=\"1\" class=\"dataframe\">\n",
       "  <thead>\n",
       "    <tr style=\"text-align: right;\">\n",
       "      <th></th>\n",
       "      <th>p-value</th>\n",
       "      <th>RDN-B</th>\n",
       "    </tr>\n",
       "  </thead>\n",
       "  <tbody>\n",
       "    <tr>\n",
       "      <th>0</th>\n",
       "      <td>transferRDN-B Ref</td>\n",
       "      <td>0.423</td>\n",
       "    </tr>\n",
       "    <tr>\n",
       "      <th>1</th>\n",
       "      <td>transferRDN-B</td>\n",
       "      <td>0.240</td>\n",
       "    </tr>\n",
       "  </tbody>\n",
       "</table>\n",
       "</div>"
      ],
      "text/plain": [
       "             p-value  RDN-B\n",
       "0  transferRDN-B Ref  0.423\n",
       "1      transferRDN-B  0.240"
      ]
     },
     "metadata": {},
     "output_type": "display_data"
    },
    {
     "name": "stdout",
     "output_type": "stream",
     "text": [
      "Scratch: [0.714286, 0.357143, 0.8125]\n",
      "Transfer: [0.571429, 0.357143, 0.75]\n",
      "Transfer & Revision: [0.785714, 0.357143, 0.8125]\n",
      "\n",
      "\n",
      "Experiment 7\n",
      "Ttest_relResult(statistic=-0.6546558528908072, pvalue=0.5799148216187051)\n",
      "Ttest_relResult(statistic=-3.962025122578229, pvalue=0.058198215434287694)\n"
     ]
    },
    {
     "data": {
      "text/html": [
       "<div>\n",
       "<table border=\"1\" class=\"dataframe\">\n",
       "  <thead>\n",
       "    <tr style=\"text-align: right;\">\n",
       "      <th></th>\n",
       "      <th>p-value</th>\n",
       "      <th>RDN-B</th>\n",
       "    </tr>\n",
       "  </thead>\n",
       "  <tbody>\n",
       "    <tr>\n",
       "      <th>0</th>\n",
       "      <td>transferRDN-B Ref</td>\n",
       "      <td>0.580</td>\n",
       "    </tr>\n",
       "    <tr>\n",
       "      <th>1</th>\n",
       "      <td>transferRDN-B</td>\n",
       "      <td>0.058</td>\n",
       "    </tr>\n",
       "  </tbody>\n",
       "</table>\n",
       "</div>"
      ],
      "text/plain": [
       "             p-value  RDN-B\n",
       "0  transferRDN-B Ref  0.580\n",
       "1      transferRDN-B  0.058"
      ]
     },
     "metadata": {},
     "output_type": "display_data"
    },
    {
     "name": "stdout",
     "output_type": "stream",
     "text": [
      "Scratch: [0.714286, 0.642857, 0.8125]\n",
      "Transfer: [0.571429, 0.357143, 0.4375]\n",
      "Transfer & Revision: [0.785714, 0.357143, 0.8125]\n",
      "\n",
      "\n",
      "Experiment 8\n",
      "Ttest_relResult(statistic=0.9999999999999999, pvalue=0.42264973081037427)\n",
      "Ttest_relResult(statistic=-1.5797301314977996, pvalue=0.2549393675793871)\n"
     ]
    },
    {
     "data": {
      "text/html": [
       "<div>\n",
       "<table border=\"1\" class=\"dataframe\">\n",
       "  <thead>\n",
       "    <tr style=\"text-align: right;\">\n",
       "      <th></th>\n",
       "      <th>p-value</th>\n",
       "      <th>RDN-B</th>\n",
       "    </tr>\n",
       "  </thead>\n",
       "  <tbody>\n",
       "    <tr>\n",
       "      <th>0</th>\n",
       "      <td>transferRDN-B Ref</td>\n",
       "      <td>0.423</td>\n",
       "    </tr>\n",
       "    <tr>\n",
       "      <th>1</th>\n",
       "      <td>transferRDN-B</td>\n",
       "      <td>0.255</td>\n",
       "    </tr>\n",
       "  </tbody>\n",
       "</table>\n",
       "</div>"
      ],
      "text/plain": [
       "             p-value  RDN-B\n",
       "0  transferRDN-B Ref  0.423\n",
       "1      transferRDN-B  0.255"
      ]
     },
     "metadata": {},
     "output_type": "display_data"
    },
    {
     "name": "stdout",
     "output_type": "stream",
     "text": [
      "Scratch: [0.714286, 0.357143, 0.8125]\n",
      "Transfer: [0.571429, 0.357143, 0.4375]\n",
      "Transfer & Revision: [0.714286, 0.642857, 0.8125]\n",
      "\n",
      "\n",
      "Experiment 9\n",
      "Ttest_relResult(statistic=1.3867478023969304, pvalue=0.299860649891022)\n",
      "Ttest_relResult(statistic=-1.986798730791212, pvalue=0.1853118031937808)\n"
     ]
    },
    {
     "data": {
      "text/html": [
       "<div>\n",
       "<table border=\"1\" class=\"dataframe\">\n",
       "  <thead>\n",
       "    <tr style=\"text-align: right;\">\n",
       "      <th></th>\n",
       "      <th>p-value</th>\n",
       "      <th>RDN-B</th>\n",
       "    </tr>\n",
       "  </thead>\n",
       "  <tbody>\n",
       "    <tr>\n",
       "      <th>0</th>\n",
       "      <td>transferRDN-B Ref</td>\n",
       "      <td>0.300</td>\n",
       "    </tr>\n",
       "    <tr>\n",
       "      <th>1</th>\n",
       "      <td>transferRDN-B</td>\n",
       "      <td>0.185</td>\n",
       "    </tr>\n",
       "  </tbody>\n",
       "</table>\n",
       "</div>"
      ],
      "text/plain": [
       "             p-value  RDN-B\n",
       "0  transferRDN-B Ref  0.300\n",
       "1      transferRDN-B  0.185"
      ]
     },
     "metadata": {},
     "output_type": "display_data"
    },
    {
     "name": "stdout",
     "output_type": "stream",
     "text": [
      "Scratch: [0.714286, 0.357143, 0.8125]\n",
      "Transfer: [0.571429, 0.357143, 0.6875]\n",
      "Transfer & Revision: [0.785714, 0.642857, 0.8125]\n",
      "\n",
      "\n",
      "Experiment 10\n",
      "Ttest_relResult(statistic=-0.9999999999999999, pvalue=0.42264973081037427)\n",
      "Ttest_relResult(statistic=-2.507785078834115, pvalue=0.12895696798823383)\n"
     ]
    },
    {
     "data": {
      "text/html": [
       "<div>\n",
       "<table border=\"1\" class=\"dataframe\">\n",
       "  <thead>\n",
       "    <tr style=\"text-align: right;\">\n",
       "      <th></th>\n",
       "      <th>p-value</th>\n",
       "      <th>RDN-B</th>\n",
       "    </tr>\n",
       "  </thead>\n",
       "  <tbody>\n",
       "    <tr>\n",
       "      <th>0</th>\n",
       "      <td>transferRDN-B Ref</td>\n",
       "      <td>0.423</td>\n",
       "    </tr>\n",
       "    <tr>\n",
       "      <th>1</th>\n",
       "      <td>transferRDN-B</td>\n",
       "      <td>0.129</td>\n",
       "    </tr>\n",
       "  </tbody>\n",
       "</table>\n",
       "</div>"
      ],
      "text/plain": [
       "             p-value  RDN-B\n",
       "0  transferRDN-B Ref  0.423\n",
       "1      transferRDN-B  0.129"
      ]
     },
     "metadata": {},
     "output_type": "display_data"
    },
    {
     "name": "stdout",
     "output_type": "stream",
     "text": [
      "Scratch: [0.714286, 0.642857, 0.8125]\n",
      "Transfer: [0.571429, 0.357143, 0.75]\n",
      "Transfer & Revision: [0.714286, 0.357143, 0.8125]\n",
      "\n",
      "\n"
     ]
    },
    {
     "data": {
      "text/markdown": [
       "## F1"
      ],
      "text/plain": [
       "<IPython.core.display.Markdown object>"
      ]
     },
     "metadata": {},
     "output_type": "display_data"
    },
    {
     "name": "stdout",
     "output_type": "stream",
     "text": [
      "Experiment 1\n",
      "Ttest_relResult(statistic=1.0811078201142783, pvalue=0.3926738277299393)\n",
      "Ttest_relResult(statistic=0.9942112485220961, pvalue=0.4248842795026895)\n"
     ]
    },
    {
     "data": {
      "text/html": [
       "<div>\n",
       "<table border=\"1\" class=\"dataframe\">\n",
       "  <thead>\n",
       "    <tr style=\"text-align: right;\">\n",
       "      <th></th>\n",
       "      <th>p-value</th>\n",
       "      <th>RDN-B</th>\n",
       "    </tr>\n",
       "  </thead>\n",
       "  <tbody>\n",
       "    <tr>\n",
       "      <th>0</th>\n",
       "      <td>transferRDN-B Ref</td>\n",
       "      <td>0.393</td>\n",
       "    </tr>\n",
       "    <tr>\n",
       "      <th>1</th>\n",
       "      <td>transferRDN-B</td>\n",
       "      <td>0.425</td>\n",
       "    </tr>\n",
       "  </tbody>\n",
       "</table>\n",
       "</div>"
      ],
      "text/plain": [
       "             p-value  RDN-B\n",
       "0  transferRDN-B Ref  0.393\n",
       "1      transferRDN-B  0.425"
      ]
     },
     "metadata": {},
     "output_type": "display_data"
    },
    {
     "name": "stdout",
     "output_type": "stream",
     "text": [
      "Scratch: [0.588235, 0.4, 0.684211]\n",
      "Transfer: [0.64, 0.526316, 0.647059]\n",
      "Transfer & Revision: [0.647059, 0.526316, 0.65]\n",
      "\n",
      "\n",
      "Experiment 2\n",
      "Ttest_relResult(statistic=-0.4346840496623201, pvalue=0.7061973142182795)\n",
      "Ttest_relResult(statistic=-0.3285854705015374, pvalue=0.7736834539501286)\n"
     ]
    },
    {
     "data": {
      "text/html": [
       "<div>\n",
       "<table border=\"1\" class=\"dataframe\">\n",
       "  <thead>\n",
       "    <tr style=\"text-align: right;\">\n",
       "      <th></th>\n",
       "      <th>p-value</th>\n",
       "      <th>RDN-B</th>\n",
       "    </tr>\n",
       "  </thead>\n",
       "  <tbody>\n",
       "    <tr>\n",
       "      <th>0</th>\n",
       "      <td>transferRDN-B Ref</td>\n",
       "      <td>0.706</td>\n",
       "    </tr>\n",
       "    <tr>\n",
       "      <th>1</th>\n",
       "      <td>transferRDN-B</td>\n",
       "      <td>0.774</td>\n",
       "    </tr>\n",
       "  </tbody>\n",
       "</table>\n",
       "</div>"
      ],
      "text/plain": [
       "             p-value  RDN-B\n",
       "0  transferRDN-B Ref  0.706\n",
       "1      transferRDN-B  0.774"
      ]
     },
     "metadata": {},
     "output_type": "display_data"
    },
    {
     "name": "stdout",
     "output_type": "stream",
     "text": [
      "Scratch: [0.588235, 0.6, 0.684211]\n",
      "Transfer: [0.642857, 0.526316, 0.666667]\n",
      "Transfer & Revision: [0.666667, 0.454545, 0.666667]\n",
      "\n",
      "\n",
      "Experiment 3\n",
      "Ttest_relResult(statistic=1.1895132315239079, pvalue=0.3563087159213508)\n",
      "Ttest_relResult(statistic=0.910571635076858, pvalue=0.4586391515050867)\n"
     ]
    },
    {
     "data": {
      "text/html": [
       "<div>\n",
       "<table border=\"1\" class=\"dataframe\">\n",
       "  <thead>\n",
       "    <tr style=\"text-align: right;\">\n",
       "      <th></th>\n",
       "      <th>p-value</th>\n",
       "      <th>RDN-B</th>\n",
       "    </tr>\n",
       "  </thead>\n",
       "  <tbody>\n",
       "    <tr>\n",
       "      <th>0</th>\n",
       "      <td>transferRDN-B Ref</td>\n",
       "      <td>0.356</td>\n",
       "    </tr>\n",
       "    <tr>\n",
       "      <th>1</th>\n",
       "      <td>transferRDN-B</td>\n",
       "      <td>0.459</td>\n",
       "    </tr>\n",
       "  </tbody>\n",
       "</table>\n",
       "</div>"
      ],
      "text/plain": [
       "             p-value  RDN-B\n",
       "0  transferRDN-B Ref  0.356\n",
       "1      transferRDN-B  0.459"
      ]
     },
     "metadata": {},
     "output_type": "display_data"
    },
    {
     "name": "stdout",
     "output_type": "stream",
     "text": [
      "Scratch: [0.588235, 0.4, 0.684211]\n",
      "Transfer: [0.727273, 0.526316, 0.608696]\n",
      "Transfer & Revision: [0.666667, 0.642857, 0.65]\n",
      "\n",
      "\n",
      "Experiment 4\n",
      "Ttest_relResult(statistic=1.1947265853897424, pvalue=0.3546609727750799)\n",
      "Ttest_relResult(statistic=1.2845553839984216, pvalue=0.32764058384569184)\n"
     ]
    },
    {
     "data": {
      "text/html": [
       "<div>\n",
       "<table border=\"1\" class=\"dataframe\">\n",
       "  <thead>\n",
       "    <tr style=\"text-align: right;\">\n",
       "      <th></th>\n",
       "      <th>p-value</th>\n",
       "      <th>RDN-B</th>\n",
       "    </tr>\n",
       "  </thead>\n",
       "  <tbody>\n",
       "    <tr>\n",
       "      <th>0</th>\n",
       "      <td>transferRDN-B Ref</td>\n",
       "      <td>0.355</td>\n",
       "    </tr>\n",
       "    <tr>\n",
       "      <th>1</th>\n",
       "      <td>transferRDN-B</td>\n",
       "      <td>0.328</td>\n",
       "    </tr>\n",
       "  </tbody>\n",
       "</table>\n",
       "</div>"
      ],
      "text/plain": [
       "             p-value  RDN-B\n",
       "0  transferRDN-B Ref  0.355\n",
       "1      transferRDN-B  0.328"
      ]
     },
     "metadata": {},
     "output_type": "display_data"
    },
    {
     "name": "stdout",
     "output_type": "stream",
     "text": [
      "Scratch: [0.588235, 0.4, 0.684211]\n",
      "Transfer: [0.727273, 0.526316, 0.642857]\n",
      "Transfer & Revision: [0.666667, 0.526316, 0.65]\n",
      "\n",
      "\n",
      "Experiment 5\n",
      "Ttest_relResult(statistic=1.2012317169980464, pvalue=0.3526175064504038)\n",
      "Ttest_relResult(statistic=1.3408975689262004, pvalue=0.31195354190161273)\n"
     ]
    },
    {
     "data": {
      "text/html": [
       "<div>\n",
       "<table border=\"1\" class=\"dataframe\">\n",
       "  <thead>\n",
       "    <tr style=\"text-align: right;\">\n",
       "      <th></th>\n",
       "      <th>p-value</th>\n",
       "      <th>RDN-B</th>\n",
       "    </tr>\n",
       "  </thead>\n",
       "  <tbody>\n",
       "    <tr>\n",
       "      <th>0</th>\n",
       "      <td>transferRDN-B Ref</td>\n",
       "      <td>0.353</td>\n",
       "    </tr>\n",
       "    <tr>\n",
       "      <th>1</th>\n",
       "      <td>transferRDN-B</td>\n",
       "      <td>0.312</td>\n",
       "    </tr>\n",
       "  </tbody>\n",
       "</table>\n",
       "</div>"
      ],
      "text/plain": [
       "             p-value  RDN-B\n",
       "0  transferRDN-B Ref  0.353\n",
       "1      transferRDN-B  0.312"
      ]
     },
     "metadata": {},
     "output_type": "display_data"
    },
    {
     "name": "stdout",
     "output_type": "stream",
     "text": [
      "Scratch: [0.588235, 0.4, 0.684211]\n",
      "Transfer: [0.727273, 0.526316, 0.647059]\n",
      "Transfer & Revision: [0.666667, 0.608696, 0.65]\n",
      "\n",
      "\n",
      "Experiment 6\n",
      "Ttest_relResult(statistic=1.2704242065060507, pvalue=0.33172374822179573)\n",
      "Ttest_relResult(statistic=1.6469325986405312, pvalue=0.2413257361275126)\n"
     ]
    },
    {
     "data": {
      "text/html": [
       "<div>\n",
       "<table border=\"1\" class=\"dataframe\">\n",
       "  <thead>\n",
       "    <tr style=\"text-align: right;\">\n",
       "      <th></th>\n",
       "      <th>p-value</th>\n",
       "      <th>RDN-B</th>\n",
       "    </tr>\n",
       "  </thead>\n",
       "  <tbody>\n",
       "    <tr>\n",
       "      <th>0</th>\n",
       "      <td>transferRDN-B Ref</td>\n",
       "      <td>0.332</td>\n",
       "    </tr>\n",
       "    <tr>\n",
       "      <th>1</th>\n",
       "      <td>transferRDN-B</td>\n",
       "      <td>0.241</td>\n",
       "    </tr>\n",
       "  </tbody>\n",
       "</table>\n",
       "</div>"
      ],
      "text/plain": [
       "             p-value  RDN-B\n",
       "0  transferRDN-B Ref  0.332\n",
       "1      transferRDN-B  0.241"
      ]
     },
     "metadata": {},
     "output_type": "display_data"
    },
    {
     "name": "stdout",
     "output_type": "stream",
     "text": [
      "Scratch: [0.571429, 0.4, 0.684211]\n",
      "Transfer: [0.727273, 0.526316, 0.666667]\n",
      "Transfer & Revision: [0.666667, 0.526316, 0.65]\n",
      "\n",
      "\n",
      "Experiment 7\n",
      "Ttest_relResult(statistic=-1.060858725257027, pvalue=0.39992812322897153)\n",
      "Ttest_relResult(statistic=-0.04615151953073566, pvalue=0.9673833110392123)\n"
     ]
    },
    {
     "data": {
      "text/html": [
       "<div>\n",
       "<table border=\"1\" class=\"dataframe\">\n",
       "  <thead>\n",
       "    <tr style=\"text-align: right;\">\n",
       "      <th></th>\n",
       "      <th>p-value</th>\n",
       "      <th>RDN-B</th>\n",
       "    </tr>\n",
       "  </thead>\n",
       "  <tbody>\n",
       "    <tr>\n",
       "      <th>0</th>\n",
       "      <td>transferRDN-B Ref</td>\n",
       "      <td>0.400</td>\n",
       "    </tr>\n",
       "    <tr>\n",
       "      <th>1</th>\n",
       "      <td>transferRDN-B</td>\n",
       "      <td>0.967</td>\n",
       "    </tr>\n",
       "  </tbody>\n",
       "</table>\n",
       "</div>"
      ],
      "text/plain": [
       "             p-value  RDN-B\n",
       "0  transferRDN-B Ref  0.400\n",
       "1      transferRDN-B  0.967"
      ]
     },
     "metadata": {},
     "output_type": "display_data"
    },
    {
     "name": "stdout",
     "output_type": "stream",
     "text": [
      "Scratch: [0.606061, 0.580645, 0.684211]\n",
      "Transfer: [0.727273, 0.526316, 0.608696]\n",
      "Transfer & Revision: [0.628571, 0.454545, 0.65]\n",
      "\n",
      "\n",
      "Experiment 8\n",
      "Ttest_relResult(statistic=0.7974381731273428, pvalue=0.5088298935596426)\n",
      "Ttest_relResult(statistic=0.910571635076858, pvalue=0.4586391515050867)\n"
     ]
    },
    {
     "data": {
      "text/html": [
       "<div>\n",
       "<table border=\"1\" class=\"dataframe\">\n",
       "  <thead>\n",
       "    <tr style=\"text-align: right;\">\n",
       "      <th></th>\n",
       "      <th>p-value</th>\n",
       "      <th>RDN-B</th>\n",
       "    </tr>\n",
       "  </thead>\n",
       "  <tbody>\n",
       "    <tr>\n",
       "      <th>0</th>\n",
       "      <td>transferRDN-B Ref</td>\n",
       "      <td>0.509</td>\n",
       "    </tr>\n",
       "    <tr>\n",
       "      <th>1</th>\n",
       "      <td>transferRDN-B</td>\n",
       "      <td>0.459</td>\n",
       "    </tr>\n",
       "  </tbody>\n",
       "</table>\n",
       "</div>"
      ],
      "text/plain": [
       "             p-value  RDN-B\n",
       "0  transferRDN-B Ref  0.509\n",
       "1      transferRDN-B  0.459"
      ]
     },
     "metadata": {},
     "output_type": "display_data"
    },
    {
     "name": "stdout",
     "output_type": "stream",
     "text": [
      "Scratch: [0.588235, 0.4, 0.684211]\n",
      "Transfer: [0.727273, 0.526316, 0.608696]\n",
      "Transfer & Revision: [0.588235, 0.642857, 0.65]\n",
      "\n",
      "\n",
      "Experiment 9\n",
      "Ttest_relResult(statistic=1.3747759669446367, pvalue=0.3029617179379569)\n",
      "Ttest_relResult(statistic=2.698383778791975, pvalue=0.11427297356375507)\n"
     ]
    },
    {
     "data": {
      "text/html": [
       "<div>\n",
       "<table border=\"1\" class=\"dataframe\">\n",
       "  <thead>\n",
       "    <tr style=\"text-align: right;\">\n",
       "      <th></th>\n",
       "      <th>p-value</th>\n",
       "      <th>RDN-B</th>\n",
       "    </tr>\n",
       "  </thead>\n",
       "  <tbody>\n",
       "    <tr>\n",
       "      <th>0</th>\n",
       "      <td>transferRDN-B Ref</td>\n",
       "      <td>0.303</td>\n",
       "    </tr>\n",
       "    <tr>\n",
       "      <th>1</th>\n",
       "      <td>transferRDN-B</td>\n",
       "      <td>0.114</td>\n",
       "    </tr>\n",
       "  </tbody>\n",
       "</table>\n",
       "</div>"
      ],
      "text/plain": [
       "             p-value  RDN-B\n",
       "0  transferRDN-B Ref  0.303\n",
       "1      transferRDN-B  0.114"
      ]
     },
     "metadata": {},
     "output_type": "display_data"
    },
    {
     "name": "stdout",
     "output_type": "stream",
     "text": [
      "Scratch: [0.588235, 0.4, 0.684211]\n",
      "Transfer: [0.727273, 0.526316, 0.709677]\n",
      "Transfer & Revision: [0.647059, 0.642857, 0.684211]\n",
      "\n",
      "\n",
      "Experiment 10\n",
      "Ttest_relResult(statistic=-1.096444711276404, pvalue=0.3872784989549838)\n",
      "Ttest_relResult(statistic=0.5001522153365907, pvalue=0.6665764695626235)\n"
     ]
    },
    {
     "data": {
      "text/html": [
       "<div>\n",
       "<table border=\"1\" class=\"dataframe\">\n",
       "  <thead>\n",
       "    <tr style=\"text-align: right;\">\n",
       "      <th></th>\n",
       "      <th>p-value</th>\n",
       "      <th>RDN-B</th>\n",
       "    </tr>\n",
       "  </thead>\n",
       "  <tbody>\n",
       "    <tr>\n",
       "      <th>0</th>\n",
       "      <td>transferRDN-B Ref</td>\n",
       "      <td>0.387</td>\n",
       "    </tr>\n",
       "    <tr>\n",
       "      <th>1</th>\n",
       "      <td>transferRDN-B</td>\n",
       "      <td>0.667</td>\n",
       "    </tr>\n",
       "  </tbody>\n",
       "</table>\n",
       "</div>"
      ],
      "text/plain": [
       "             p-value  RDN-B\n",
       "0  transferRDN-B Ref  0.387\n",
       "1      transferRDN-B  0.667"
      ]
     },
     "metadata": {},
     "output_type": "display_data"
    },
    {
     "name": "stdout",
     "output_type": "stream",
     "text": [
      "Scratch: [0.588235, 0.580645, 0.684211]\n",
      "Transfer: [0.727273, 0.526316, 0.685714]\n",
      "Transfer & Revision: [0.606061, 0.526316, 0.65]\n",
      "\n",
      "\n"
     ]
    },
    {
     "data": {
      "text/markdown": [
       "## Precision"
      ],
      "text/plain": [
       "<IPython.core.display.Markdown object>"
      ]
     },
     "metadata": {},
     "output_type": "display_data"
    },
    {
     "name": "stdout",
     "output_type": "stream",
     "text": [
      "Experiment 1\n",
      "Scratch: [0.5, 0.454545, 0.590909]\n",
      "Transfer: [0.727273, 1.0, 0.611111]\n",
      "Transfer & Revision: [0.55, 1.0, 0.541667]\n",
      "\n",
      "\n",
      "Experiment 2\n",
      "Scratch: [0.5, 0.5625, 0.590909]\n",
      "Transfer: [0.642857, 1.0, 0.6]\n",
      "Transfer & Revision: [0.578947, 0.625, 0.565217]\n",
      "\n",
      "\n",
      "Experiment 3\n",
      "Scratch: [0.5, 0.454545, 0.590909]\n",
      "Transfer: [1.0, 1.0, 1.0]\n",
      "Transfer & Revision: [0.578947, 0.642857, 0.541667]\n",
      "\n",
      "\n",
      "Experiment 4\n",
      "Scratch: [0.5, 0.454545, 0.590909]\n",
      "Transfer: [1.0, 1.0, 0.75]\n",
      "Transfer & Revision: [0.578947, 1.0, 0.541667]\n",
      "\n",
      "\n",
      "Experiment 5\n",
      "Scratch: [0.5, 0.454545, 0.590909]\n",
      "Transfer: [1.0, 1.0, 0.611111]\n",
      "Transfer & Revision: [0.578947, 0.777778, 0.541667]\n",
      "\n",
      "\n",
      "Experiment 6\n",
      "Scratch: [0.47619, 0.454545, 0.590909]\n",
      "Transfer: [1.0, 1.0, 0.6]\n",
      "Transfer & Revision: [0.578947, 1.0, 0.541667]\n",
      "\n",
      "\n",
      "Experiment 7\n",
      "Scratch: [0.526316, 0.529412, 0.590909]\n",
      "Transfer: [1.0, 1.0, 1.0]\n",
      "Transfer & Revision: [0.52381, 0.625, 0.541667]\n",
      "\n",
      "\n",
      "Experiment 8\n",
      "Scratch: [0.5, 0.454545, 0.590909]\n",
      "Transfer: [1.0, 1.0, 1.0]\n",
      "Transfer & Revision: [0.5, 0.642857, 0.541667]\n",
      "\n",
      "\n",
      "Experiment 9\n",
      "Scratch: [0.5, 0.454545, 0.590909]\n",
      "Transfer: [1.0, 1.0, 0.733333]\n",
      "Transfer & Revision: [0.55, 0.642857, 0.590909]\n",
      "\n",
      "\n",
      "Experiment 10\n",
      "Scratch: [0.5, 0.529412, 0.590909]\n",
      "Transfer: [1.0, 1.0, 0.631579]\n",
      "Transfer & Revision: [0.526316, 1.0, 0.541667]\n",
      "\n",
      "\n"
     ]
    },
    {
     "data": {
      "text/markdown": [
       "## Learning and Revision time"
      ],
      "text/plain": [
       "<IPython.core.display.Markdown object>"
      ]
     },
     "metadata": {},
     "output_type": "display_data"
    },
    {
     "name": "stdout",
     "output_type": "stream",
     "text": [
      "Experiment 1\n",
      "Scratch: [4.112, 4.433, 3.711]\n",
      "Transfer: ['2.643 (4.8)', '3.098 (5.0)', '3.248 (5.0)']\n",
      "Transfer & Revision: ['6.718 (4.8)', '7.421 (5.0)', '6.907 (5.0)']\n",
      "\n",
      "\n",
      "Experiment 2\n",
      "Scratch: [5.513, 3.725, 4.355]\n",
      "Transfer: ['3.035 (5.0)', '2.872 (5.1)', '1.959 (5.0)']\n",
      "Transfer & Revision: ['7.792 (5.0)', '42.799 (5.1)', '5.291 (5.0)']\n",
      "\n",
      "\n",
      "Experiment 3\n",
      "Scratch: [3.503, 6.139, 5.074]\n",
      "Transfer: ['3.016 (5.0)', '4.386 (4.8)', '3.785 (5.8)']\n",
      "Transfer & Revision: ['6.665 (5.0)', '9.8 (4.8)', '6.84 (5.8)']\n",
      "\n",
      "\n",
      "Experiment 4\n",
      "Scratch: [4.762, 4.982, 4.335]\n",
      "Transfer: ['4.104 (5.0)', '2.557 (5.2)', '8.837 (5.1)']\n",
      "Transfer & Revision: ['8.108 (5.0)', '7.864000000000001 (5.2)', '12.713999999999999 (5.1)']\n",
      "\n",
      "\n",
      "Experiment 5\n",
      "Scratch: [4.084, 4.735, 5.02]\n",
      "Transfer: ['4.142 (4.8)', '4.019 (5.1)', '3.445 (5.2)']\n",
      "Transfer & Revision: ['8.641 (4.8)', '8.698 (5.1)', '7.863999999999999 (5.2)']\n",
      "\n",
      "\n",
      "Experiment 6\n",
      "Scratch: [3.638, 6.61, 4.038]\n",
      "Transfer: ['2.579 (5.0)', '3.146 (5.0)', '2.317 (5.0)']\n",
      "Transfer & Revision: ['6.133 (5.0)', '7.57 (5.0)', '5.291 (5.0)']\n",
      "\n",
      "\n",
      "Experiment 7\n",
      "Scratch: [4.792, 5.851, 4.525]\n",
      "Transfer: ['3.341 (4.9)', '3.998 (5.1)', '3.561 (5.1)']\n",
      "Transfer & Revision: ['8.792 (4.9)', '9.302 (5.1)', '8.84 (5.1)']\n",
      "\n",
      "\n",
      "Experiment 8\n",
      "Scratch: [4.128, 4.741, 4.869]\n",
      "Transfer: ['3.292 (4.9)', '31.541 (5.1)', '6.485 (5.1)']\n",
      "Transfer & Revision: ['6.763 (4.9)', '36.172 (5.1)', '10.842 (5.1)']\n",
      "\n",
      "\n",
      "Experiment 9\n",
      "Scratch: [4.464, 5.994, 3.728]\n",
      "Transfer: ['3.626 (5.2)', '4.002 (5.3)', '5.767 (5.1)']\n",
      "Transfer & Revision: ['8.684 (5.2)', '10.398 (5.3)', '9.167 (5.1)']\n",
      "\n",
      "\n",
      "Experiment 10\n",
      "Scratch: [4.476, 4.812, 3.658]\n",
      "Transfer: ['3.513 (4.9)', '4.389 (5.0)', '3.428 (5.0)']\n",
      "Transfer & Revision: ['8.131 (4.9)', '8.353 (5.0)', '7.938 (5.0)']\n",
      "\n",
      "\n"
     ]
    },
    {
     "data": {
      "text/markdown": [
       "## Inference time"
      ],
      "text/plain": [
       "<IPython.core.display.Markdown object>"
      ]
     },
     "metadata": {},
     "output_type": "display_data"
    },
    {
     "name": "stdout",
     "output_type": "stream",
     "text": [
      "Experiment 1\n",
      "Scratch: [0.908, 0.932, 0.897]\n",
      "Transfer: [0.89, 0.867, 1.013]\n",
      "Transfer & Revision: [0.899, 0.972, 0.96]\n",
      "\n",
      "\n",
      "Experiment 2\n",
      "Scratch: [0.945, 1.209, 1.196]\n",
      "Transfer: [0.84, 0.99, 1.767]\n",
      "Transfer & Revision: [0.901, 0.859, 1.138]\n",
      "\n",
      "\n",
      "Experiment 3\n",
      "Scratch: [0.888, 1.476, 1.686]\n",
      "Transfer: [0.91, 1.882, 1.918]\n",
      "Transfer & Revision: [0.966, 1.046, 2.198]\n",
      "\n",
      "\n",
      "Experiment 4\n",
      "Scratch: [1.285, 0.872, 0.846]\n",
      "Transfer: [0.877, 1.392, 1.007]\n",
      "Transfer & Revision: [1.037, 0.855, 0.851]\n",
      "\n",
      "\n",
      "Experiment 5\n",
      "Scratch: [1.135, 0.884, 0.876]\n",
      "Transfer: [1.268, 0.907, 0.915]\n",
      "Transfer & Revision: [1.052, 1.463, 1.387]\n",
      "\n",
      "\n",
      "Experiment 6\n",
      "Scratch: [1.215, 0.86, 1.034]\n",
      "Transfer: [1.414, 1.088, 1.382]\n",
      "Transfer & Revision: [1.083, 0.963, 1.173]\n",
      "\n",
      "\n",
      "Experiment 7\n",
      "Scratch: [1.212, 0.892, 0.966]\n",
      "Transfer: [0.956, 1.305, 0.897]\n",
      "Transfer & Revision: [1.425, 0.966, 0.889]\n",
      "\n",
      "\n",
      "Experiment 8\n",
      "Scratch: [0.82, 0.908, 0.877]\n",
      "Transfer: [0.896, 0.909, 0.928]\n",
      "Transfer & Revision: [0.873, 0.995, 1.365]\n",
      "\n",
      "\n",
      "Experiment 9\n",
      "Scratch: [0.957, 0.925, 0.951]\n",
      "Transfer: [1.054, 1.77, 0.978]\n",
      "Transfer & Revision: [0.971, 1.336, 1.419]\n",
      "\n",
      "\n",
      "Experiment 10\n",
      "Scratch: [0.892, 1.258, 0.948]\n",
      "Transfer: [1.234, 0.909, 0.95]\n",
      "Transfer & Revision: [0.953, 1.317, 1.534]\n",
      "\n",
      "\n"
     ]
    },
    {
     "data": {
      "text/markdown": [
       "# Results for 36_nell_sports_nell_finances"
      ],
      "text/plain": [
       "<IPython.core.display.Markdown object>"
      ]
     },
     "metadata": {},
     "output_type": "display_data"
    },
    {
     "data": {
      "text/markdown": [
       "# Results for 37_nell_sports_nell_finances"
      ],
      "text/plain": [
       "<IPython.core.display.Markdown object>"
      ]
     },
     "metadata": {},
     "output_type": "display_data"
    },
    {
     "data": {
      "text/markdown": [
       "# Results for 38_nell_finances_nell_sports"
      ],
      "text/plain": [
       "<IPython.core.display.Markdown object>"
      ]
     },
     "metadata": {},
     "output_type": "display_data"
    },
    {
     "data": {
      "text/markdown": [
       "# Results for 39_nell_finances_nell_sports"
      ],
      "text/plain": [
       "<IPython.core.display.Markdown object>"
      ]
     },
     "metadata": {},
     "output_type": "display_data"
    },
    {
     "data": {
      "text/markdown": [
       "# Results for 40_nell_finances_nell_sports"
      ],
      "text/plain": [
       "<IPython.core.display.Markdown object>"
      ]
     },
     "metadata": {},
     "output_type": "display_data"
    },
    {
     "data": {
      "text/markdown": [
       "# Results for 41_nell_finances_nell_sports"
      ],
      "text/plain": [
       "<IPython.core.display.Markdown object>"
      ]
     },
     "metadata": {},
     "output_type": "display_data"
    },
    {
     "data": {
      "text/markdown": [
       "# Results for 42_nell_finances_nell_sports"
      ],
      "text/plain": [
       "<IPython.core.display.Markdown object>"
      ]
     },
     "metadata": {},
     "output_type": "display_data"
    },
    {
     "data": {
      "text/markdown": [
       "# Results for 43_nell_finances_nell_sports"
      ],
      "text/plain": [
       "<IPython.core.display.Markdown object>"
      ]
     },
     "metadata": {},
     "output_type": "display_data"
    },
    {
     "data": {
      "text/markdown": [
       "# Results for 44_nell_finances_nell_sports"
      ],
      "text/plain": [
       "<IPython.core.display.Markdown object>"
      ]
     },
     "metadata": {},
     "output_type": "display_data"
    },
    {
     "data": {
      "text/markdown": [
       "# Results for 45_nell_finances_nell_sports"
      ],
      "text/plain": [
       "<IPython.core.display.Markdown object>"
      ]
     },
     "metadata": {},
     "output_type": "display_data"
    },
    {
     "data": {
      "text/markdown": [
       "# Results for 46_nell_finances_nell_sports"
      ],
      "text/plain": [
       "<IPython.core.display.Markdown object>"
      ]
     },
     "metadata": {},
     "output_type": "display_data"
    },
    {
     "data": {
      "text/markdown": [
       "# Results for 47_yeast_facebook"
      ],
      "text/plain": [
       "<IPython.core.display.Markdown object>"
      ]
     },
     "metadata": {},
     "output_type": "display_data"
    },
    {
     "data": {
      "text/markdown": [
       "# Results for 48_twitter_facebook"
      ],
      "text/plain": [
       "<IPython.core.display.Markdown object>"
      ]
     },
     "metadata": {},
     "output_type": "display_data"
    },
    {
     "data": {
      "text/markdown": [
       "# Results for 49_imdb_facebook"
      ],
      "text/plain": [
       "<IPython.core.display.Markdown object>"
      ]
     },
     "metadata": {},
     "output_type": "display_data"
    },
    {
     "data": {
      "text/markdown": [
       "# Results for 50_uwcse_facebook"
      ],
      "text/plain": [
       "<IPython.core.display.Markdown object>"
      ]
     },
     "metadata": {},
     "output_type": "display_data"
    }
   ],
   "source": [
    "for j in range(len(experiments)):\n",
    "    dataset = experiments[j]['id'] + '_' + experiments[j]['source'] + '_' + experiments[j]['target']\n",
    "    display(Markdown('# Results for ' + dataset))\n",
    "    table = []\n",
    "    for metric in ['AUC ROC', 'AUC PR', 'CLL', 'Recall', 'F1', 'Precision', 'Learning and Revision time', 'Inference time']:\n",
    "    #for metric in ['AUC ROC', 'AUC PR']:\n",
    "        if dataset in data['results']: \n",
    "            #for metric in ['AUC ROC', 'AUC PR']:\n",
    "            display(Markdown('## ' + metric))\n",
    "            if metric == 'Precision':\n",
    "                for m in range(len(data['results'][str(dataset)])):\n",
    "                    print('Experiment %s' % (m+1))\n",
    "                    sc = [item['scratch']['Precision'][0] for item in data['results'][str(dataset)][m]]\n",
    "                    pr = [item['transfer']['Parameter Learning results']['Precision'][0] for item in data['results'][str(dataset)][m]]\n",
    "                    tr = [item['transfer']['Precision'][0] for item in data['results'][str(dataset)][m]] \n",
    "                    print('Scratch: %s' % sc)\n",
    "                    print('Transfer: %s' % pr)\n",
    "                    print('Transfer & Revision: %s' % tr) \n",
    "                    print('\\n')\n",
    "                #scratch = np.array([item['scratch']['Precision'][0] for sublist in data['results'][str(dataset)] for item in sublist])\n",
    "                #parameter = np.array([item['transfer']['Parameter Learning results']['Precision'][0] for sublist in data['results'][str(dataset)] for item in sublist])\n",
    "                #transfer = np.array([item['transfer']['Precision'][0] for sublist in data['results'][str(dataset)] for item in sublist])\n",
    "            elif metric == 'Learning and Revision time':\n",
    "                for m in range(len(data['results'][str(dataset)])):\n",
    "                    print('Experiment %s' % (m+1))\n",
    "                    sc = [item['scratch']['Learning time'] for item in data['results'][str(dataset)][m]]\n",
    "                    pr = ['%s (%.1f)' % (item['transfer']['Parameter Learning results']['Learning time'], item['transfer']['Mapping results']['Total time']) for item in data['results'][str(dataset)][m]]\n",
    "                    tr = ['%s (%.1f)' % (item['transfer']['Learning time'], item['transfer']['Mapping results']['Total time']) for item in data['results'][str(dataset)][m]] \n",
    "                    print('Scratch: %s' % sc)\n",
    "                    print('Transfer: %s' % pr)\n",
    "                    print('Transfer & Revision: %s' % tr) \n",
    "                    print('\\n')\n",
    "                #scratch = np.array([item['scratch']['Learning time'] for sublist in data['results'][str(dataset)] for item in sublist])\n",
    "                #parameter = np.array([item['transfer']['Parameter Learning results']['Learning time'] for sublist in data['results'][str(dataset)] for item in sublist])\n",
    "                #transfer = np.array([item['transfer']['Learning time'] for sublist in data['results'][str(dataset)] for item in sublist])\n",
    "            elif metric == 'Inference time':\n",
    "                for m in range(len(data['results'][str(dataset)])):\n",
    "                    print('Experiment %s' % (m+1))\n",
    "                    sc = [item['scratch']['Inference time'] for item in data['results'][str(dataset)][m]]\n",
    "                    pr = [item['transfer']['Parameter Learning results']['Inference time'] for item in data['results'][str(dataset)][m]]\n",
    "                    tr = [item['transfer']['Inference time'] for item in data['results'][str(dataset)][m]] \n",
    "                    print('Scratch: %s' % sc)\n",
    "                    print('Transfer: %s' % pr)\n",
    "                    print('Transfer & Revision: %s' % tr) \n",
    "                    print('\\n')\n",
    "                #scratch = np.array([item['scratch']['Inference time'] for sublist in data['results'][str(dataset)] for item in sublist])\n",
    "                #parameter = np.array([item['transfer']['Parameter Learning results']['Learning time'] for sublist in data['results'][str(dataset)] for item in sublist])\n",
    "                #transfer = np.array([item['transfer']['Inference time'] for sublist in data['results'][str(dataset)] for item in sublist])\n",
    "            else:\n",
    "                for m in range(len(data['results'][str(dataset)])):\n",
    "                    print('Experiment %s' % (m+1))\n",
    "                    sc = [item['scratch'][metric] for item in data['results'][str(dataset)][m]]\n",
    "                    pr = [item['transfer']['Parameter Learning results'][metric] for item in data['results'][str(dataset)][m]]\n",
    "                    tr = [item['transfer'][metric] for item in data['results'][str(dataset)][m]] \n",
    "                    pvalue = stats.ttest_rel(tr,sc)\n",
    "                    print(pvalue)\n",
    "                    pvalue_table = []\n",
    "                    pvalue_table.append(['transferRDN-B Ref', '%.3f' % (pvalue[1])])\n",
    "                    pvalue = stats.ttest_rel(pr, sc)\n",
    "                    print(pvalue)\n",
    "                    pvalue_table.append(['transferRDN-B', '%.3f' % (pvalue[1])])\n",
    "                    display(pd.DataFrame(pvalue_table, columns=['p-value', 'RDN-B']))\n",
    "                    print('Scratch: %s' % sc)\n",
    "                    print('Transfer: %s' % pr)\n",
    "                    print('Transfer & Revision: %s' % tr) \n",
    "                    print('\\n')\n",
    "                #scratch = np.array([item['scratch'][metric] for sublist in data['results'][str(dataset)] for item in sublist])\n",
    "                #parameter = np.array([item['transfer']['Parameter Learning results'][metric] for sublist in data['results'][str(dataset)] for item in sublist])\n",
    "                #transfer = np.array([item['transfer'][metric] for sublist in data['results'][str(dataset)] for item in sublist])\n",
    "            #print('\\n')\n",
    "            #print('Scratch: %s' % scratch)\n",
    "            #print('Transfer: %s' % parameter)\n",
    "            #print('Transfer & Revision: %s' % transfer)"
   ]
  },
  {
   "cell_type": "code",
   "execution_count": null,
   "metadata": {
    "collapsed": true
   },
   "outputs": [],
   "source": []
  }
 ],
 "metadata": {
  "anaconda-cloud": {},
  "kernelspec": {
   "display_name": "Python [conda env:anaconda3]",
   "language": "python",
   "name": "conda-env-anaconda3-py"
  },
  "language_info": {
   "codemirror_mode": {
    "name": "ipython",
    "version": 3
   },
   "file_extension": ".py",
   "mimetype": "text/x-python",
   "name": "python",
   "nbconvert_exporter": "python",
   "pygments_lexer": "ipython3",
   "version": "3.5.2"
  }
 },
 "nbformat": 4,
 "nbformat_minor": 1
}
