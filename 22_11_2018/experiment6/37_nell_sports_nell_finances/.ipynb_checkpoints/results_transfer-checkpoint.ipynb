{
 "cells": [
  {
   "cell_type": "code",
   "execution_count": 1,
   "metadata": {
    "collapsed": false
   },
   "outputs": [],
   "source": [
    "import matplotlib.pyplot as plt\n",
    "from IPython.display import display, Markdown, Latex\n",
    "import numpy as np\n",
    "import json\n",
    "import pandas as pd\n",
    "from scipy import stats\n",
    "\n",
    "with open('transfer_experiment.json', 'r') as fp:\n",
    "    data = json.load(fp)"
   ]
  },
  {
   "cell_type": "code",
   "execution_count": 2,
   "metadata": {
    "collapsed": false,
    "scrolled": false
   },
   "outputs": [
    {
     "data": {
      "text/markdown": [
       "# Results for AUC ROC"
      ],
      "text/plain": [
       "<IPython.core.display.Markdown object>"
      ]
     },
     "metadata": {},
     "output_type": "display_data"
    },
    {
     "data": {
      "text/html": [
       "<div>\n",
       "<table border=\"1\" class=\"dataframe\">\n",
       "  <thead>\n",
       "    <tr style=\"text-align: right;\">\n",
       "      <th></th>\n",
       "      <th>Experiment</th>\n",
       "      <th>Transfer Learning</th>\n",
       "      <th>Transfer Learning with Revision Theory</th>\n",
       "      <th>Learning from scratch</th>\n",
       "    </tr>\n",
       "  </thead>\n",
       "  <tbody>\n",
       "    <tr>\n",
       "      <th>0</th>\n",
       "      <td>37_nell_sports_nell_finances</td>\n",
       "      <td>0.695 +/- 0.236</td>\n",
       "      <td>0.763 +/- 0.288</td>\n",
       "      <td>0.723 +/- 0.065</td>\n",
       "    </tr>\n",
       "  </tbody>\n",
       "</table>\n",
       "</div>"
      ],
      "text/plain": [
       "                     Experiment Transfer Learning  \\\n",
       "0  37_nell_sports_nell_finances   0.695 +/- 0.236   \n",
       "\n",
       "  Transfer Learning with Revision Theory Learning from scratch  \n",
       "0                        0.763 +/- 0.288       0.723 +/- 0.065  "
      ]
     },
     "metadata": {},
     "output_type": "display_data"
    },
    {
     "data": {
      "text/markdown": [
       "# Results for AUC PR"
      ],
      "text/plain": [
       "<IPython.core.display.Markdown object>"
      ]
     },
     "metadata": {},
     "output_type": "display_data"
    },
    {
     "data": {
      "text/html": [
       "<div>\n",
       "<table border=\"1\" class=\"dataframe\">\n",
       "  <thead>\n",
       "    <tr style=\"text-align: right;\">\n",
       "      <th></th>\n",
       "      <th>Experiment</th>\n",
       "      <th>Transfer Learning</th>\n",
       "      <th>Transfer Learning with Revision Theory</th>\n",
       "      <th>Learning from scratch</th>\n",
       "    </tr>\n",
       "  </thead>\n",
       "  <tbody>\n",
       "    <tr>\n",
       "      <th>0</th>\n",
       "      <td>37_nell_sports_nell_finances</td>\n",
       "      <td>0.710 +/- 0.255</td>\n",
       "      <td>0.767 +/- 0.288</td>\n",
       "      <td>0.745 +/- 0.060</td>\n",
       "    </tr>\n",
       "  </tbody>\n",
       "</table>\n",
       "</div>"
      ],
      "text/plain": [
       "                     Experiment Transfer Learning  \\\n",
       "0  37_nell_sports_nell_finances   0.710 +/- 0.255   \n",
       "\n",
       "  Transfer Learning with Revision Theory Learning from scratch  \n",
       "0                        0.767 +/- 0.288       0.745 +/- 0.060  "
      ]
     },
     "metadata": {},
     "output_type": "display_data"
    },
    {
     "data": {
      "text/markdown": [
       "# Results for CLL"
      ],
      "text/plain": [
       "<IPython.core.display.Markdown object>"
      ]
     },
     "metadata": {},
     "output_type": "display_data"
    },
    {
     "data": {
      "text/html": [
       "<div>\n",
       "<table border=\"1\" class=\"dataframe\">\n",
       "  <thead>\n",
       "    <tr style=\"text-align: right;\">\n",
       "      <th></th>\n",
       "      <th>Experiment</th>\n",
       "      <th>Transfer Learning</th>\n",
       "      <th>Transfer Learning with Revision Theory</th>\n",
       "      <th>Learning from scratch</th>\n",
       "    </tr>\n",
       "  </thead>\n",
       "  <tbody>\n",
       "    <tr>\n",
       "      <th>0</th>\n",
       "      <td>37_nell_sports_nell_finances</td>\n",
       "      <td>-0.604 +/- 0.113</td>\n",
       "      <td>-0.551 +/- 0.165</td>\n",
       "      <td>-0.606 +/- 0.043</td>\n",
       "    </tr>\n",
       "  </tbody>\n",
       "</table>\n",
       "</div>"
      ],
      "text/plain": [
       "                     Experiment Transfer Learning  \\\n",
       "0  37_nell_sports_nell_finances  -0.604 +/- 0.113   \n",
       "\n",
       "  Transfer Learning with Revision Theory Learning from scratch  \n",
       "0                       -0.551 +/- 0.165      -0.606 +/- 0.043  "
      ]
     },
     "metadata": {},
     "output_type": "display_data"
    },
    {
     "data": {
      "text/markdown": [
       "# Results for Recall"
      ],
      "text/plain": [
       "<IPython.core.display.Markdown object>"
      ]
     },
     "metadata": {},
     "output_type": "display_data"
    },
    {
     "data": {
      "text/html": [
       "<div>\n",
       "<table border=\"1\" class=\"dataframe\">\n",
       "  <thead>\n",
       "    <tr style=\"text-align: right;\">\n",
       "      <th></th>\n",
       "      <th>Experiment</th>\n",
       "      <th>Transfer Learning</th>\n",
       "      <th>Transfer Learning with Revision Theory</th>\n",
       "      <th>Learning from scratch</th>\n",
       "    </tr>\n",
       "  </thead>\n",
       "  <tbody>\n",
       "    <tr>\n",
       "      <th>0</th>\n",
       "      <td>37_nell_sports_nell_finances</td>\n",
       "      <td>0.452 +/- 0.545</td>\n",
       "      <td>0.484 +/- 0.546</td>\n",
       "      <td>0.292 +/- 0.104</td>\n",
       "    </tr>\n",
       "  </tbody>\n",
       "</table>\n",
       "</div>"
      ],
      "text/plain": [
       "                     Experiment Transfer Learning  \\\n",
       "0  37_nell_sports_nell_finances   0.452 +/- 0.545   \n",
       "\n",
       "  Transfer Learning with Revision Theory Learning from scratch  \n",
       "0                        0.484 +/- 0.546       0.292 +/- 0.104  "
      ]
     },
     "metadata": {},
     "output_type": "display_data"
    },
    {
     "data": {
      "text/markdown": [
       "# Results for F1"
      ],
      "text/plain": [
       "<IPython.core.display.Markdown object>"
      ]
     },
     "metadata": {},
     "output_type": "display_data"
    },
    {
     "data": {
      "text/html": [
       "<div>\n",
       "<table border=\"1\" class=\"dataframe\">\n",
       "  <thead>\n",
       "    <tr style=\"text-align: right;\">\n",
       "      <th></th>\n",
       "      <th>Experiment</th>\n",
       "      <th>Transfer Learning</th>\n",
       "      <th>Transfer Learning with Revision Theory</th>\n",
       "      <th>Learning from scratch</th>\n",
       "    </tr>\n",
       "  </thead>\n",
       "  <tbody>\n",
       "    <tr>\n",
       "      <th>0</th>\n",
       "      <td>37_nell_sports_nell_finances</td>\n",
       "      <td>nan +/- nan</td>\n",
       "      <td>nan +/- nan</td>\n",
       "      <td>0.437 +/- 0.124</td>\n",
       "    </tr>\n",
       "  </tbody>\n",
       "</table>\n",
       "</div>"
      ],
      "text/plain": [
       "                     Experiment Transfer Learning  \\\n",
       "0  37_nell_sports_nell_finances       nan +/- nan   \n",
       "\n",
       "  Transfer Learning with Revision Theory Learning from scratch  \n",
       "0                            nan +/- nan       0.437 +/- 0.124  "
      ]
     },
     "metadata": {},
     "output_type": "display_data"
    },
    {
     "data": {
      "text/markdown": [
       "# Results for Precision"
      ],
      "text/plain": [
       "<IPython.core.display.Markdown object>"
      ]
     },
     "metadata": {},
     "output_type": "display_data"
    },
    {
     "data": {
      "text/html": [
       "<div>\n",
       "<table border=\"1\" class=\"dataframe\">\n",
       "  <thead>\n",
       "    <tr style=\"text-align: right;\">\n",
       "      <th></th>\n",
       "      <th>Experiment</th>\n",
       "      <th>Transfer Learning</th>\n",
       "      <th>Transfer Learning with Revision Theory</th>\n",
       "      <th>Learning from scratch</th>\n",
       "    </tr>\n",
       "  </thead>\n",
       "  <tbody>\n",
       "    <tr>\n",
       "      <th>0</th>\n",
       "      <td>37_nell_sports_nell_finances</td>\n",
       "      <td>nan +/- nan</td>\n",
       "      <td>nan +/- nan</td>\n",
       "      <td>0.900 +/- 0.070</td>\n",
       "    </tr>\n",
       "  </tbody>\n",
       "</table>\n",
       "</div>"
      ],
      "text/plain": [
       "                     Experiment Transfer Learning  \\\n",
       "0  37_nell_sports_nell_finances       nan +/- nan   \n",
       "\n",
       "  Transfer Learning with Revision Theory Learning from scratch  \n",
       "0                            nan +/- nan       0.900 +/- 0.070  "
      ]
     },
     "metadata": {},
     "output_type": "display_data"
    },
    {
     "data": {
      "text/markdown": [
       "# Results for Learning and Revision time"
      ],
      "text/plain": [
       "<IPython.core.display.Markdown object>"
      ]
     },
     "metadata": {},
     "output_type": "display_data"
    },
    {
     "data": {
      "text/html": [
       "<div>\n",
       "<table border=\"1\" class=\"dataframe\">\n",
       "  <thead>\n",
       "    <tr style=\"text-align: right;\">\n",
       "      <th></th>\n",
       "      <th>Experiment</th>\n",
       "      <th>Transfer Learning</th>\n",
       "      <th>Transfer Learning with Revision Theory</th>\n",
       "      <th>Learning from scratch</th>\n",
       "    </tr>\n",
       "  </thead>\n",
       "  <tbody>\n",
       "    <tr>\n",
       "      <th>0</th>\n",
       "      <td>37_nell_sports_nell_finances</td>\n",
       "      <td>25.292 +/- 44.127 (27.4)</td>\n",
       "      <td>57.935 +/- 78.273 (27.4)</td>\n",
       "      <td>15.945 +/- 20.045</td>\n",
       "    </tr>\n",
       "  </tbody>\n",
       "</table>\n",
       "</div>"
      ],
      "text/plain": [
       "                     Experiment         Transfer Learning  \\\n",
       "0  37_nell_sports_nell_finances  25.292 +/- 44.127 (27.4)   \n",
       "\n",
       "  Transfer Learning with Revision Theory Learning from scratch  \n",
       "0               57.935 +/- 78.273 (27.4)     15.945 +/- 20.045  "
      ]
     },
     "metadata": {},
     "output_type": "display_data"
    },
    {
     "data": {
      "text/markdown": [
       "# Results for Inference time"
      ],
      "text/plain": [
       "<IPython.core.display.Markdown object>"
      ]
     },
     "metadata": {},
     "output_type": "display_data"
    },
    {
     "data": {
      "text/html": [
       "<div>\n",
       "<table border=\"1\" class=\"dataframe\">\n",
       "  <thead>\n",
       "    <tr style=\"text-align: right;\">\n",
       "      <th></th>\n",
       "      <th>Experiment</th>\n",
       "      <th>Transfer Learning</th>\n",
       "      <th>Transfer Learning with Revision Theory</th>\n",
       "      <th>Learning from scratch</th>\n",
       "    </tr>\n",
       "  </thead>\n",
       "  <tbody>\n",
       "    <tr>\n",
       "      <th>0</th>\n",
       "      <td>37_nell_sports_nell_finances</td>\n",
       "      <td>25.292 +/- 44.127</td>\n",
       "      <td>4.709 +/- 8.096</td>\n",
       "      <td>1.575 +/- 0.599</td>\n",
       "    </tr>\n",
       "  </tbody>\n",
       "</table>\n",
       "</div>"
      ],
      "text/plain": [
       "                     Experiment  Transfer Learning  \\\n",
       "0  37_nell_sports_nell_finances  25.292 +/- 44.127   \n",
       "\n",
       "  Transfer Learning with Revision Theory Learning from scratch  \n",
       "0                        4.709 +/- 8.096       1.575 +/- 0.599  "
      ]
     },
     "metadata": {},
     "output_type": "display_data"
    }
   ],
   "source": [
    "experiments = [\n",
    "            {'id': '1', 'source':'imdb', 'target':'uwcse', 'predicate':'workedunder', 'to_predicate':'advisedby'},\n",
    "            {'id': '2', 'source':'uwcse', 'target':'imdb', 'predicate':'advisedby', 'to_predicate':'workedunder'},\n",
    "            {'id': '3', 'source':'imdb', 'target':'uwcse', 'predicate':'movie', 'to_predicate':'publication'},\n",
    "            {'id': '4', 'source':'uwcse', 'target':'imdb', 'predicate':'publication', 'to_predicate':'movie'},\n",
    "            {'id': '5', 'source':'imdb', 'target':'uwcse', 'predicate':'genre', 'to_predicate':'inphase'},\n",
    "            {'id': '6', 'source':'uwcse', 'target':'imdb', 'predicate':'inphase', 'to_predicate':'genre'},\n",
    "            {'id': '7', 'source':'imdb', 'target':'cora', 'predicate':'workedunder', 'to_predicate':'samevenue'},\n",
    "            {'id': '8', 'source':'imdb', 'target':'cora', 'predicate':'workedunder', 'to_predicate':'samebib'},\n",
    "            {'id': '9', 'source':'imdb', 'target':'cora', 'predicate':'workedunder', 'to_predicate':'sameauthor'},\n",
    "            {'id': '10', 'source':'imdb', 'target':'cora', 'predicate':'workedunder', 'to_predicate':'sametitle'},\n",
    "            {'id': '11', 'source':'uwcse', 'target':'cora', 'predicate':'advisedby', 'to_predicate':'samevenue'},\n",
    "            {'id': '12', 'source':'uwcse', 'target':'cora', 'predicate':'advisedby', 'to_predicate':'samebib'},\n",
    "            {'id': '13', 'source':'uwcse', 'target':'cora', 'predicate':'advisedby', 'to_predicate':'sameauthor'},\n",
    "            {'id': '14', 'source':'uwcse', 'target':'cora', 'predicate':'advisedby', 'to_predicate':'sametitle'},\n",
    "            {'id': '15', 'source':'yeast', 'target':'twitter', 'predicate':'proteinclass', 'to_predicate':'accounttype'},\n",
    "            {'id': '16', 'source':'yeast', 'target':'twitter', 'predicate':'interaction', 'to_predicate':'follows'},\n",
    "            {'id': '17', 'source':'yeast', 'target':'twitter', 'predicate':'location', 'to_predicate':'tweets'},\n",
    "            {'id': '18', 'source':'yeast', 'target':'twitter', 'predicate':'enzyme', 'to_predicate':'tweets'},\n",
    "            {'id': '19', 'source':'yeast', 'target':'twitter', 'predicate':'function', 'to_predicate':'tweets'},\n",
    "            {'id': '20', 'source':'yeast', 'target':'twitter', 'predicate':'phenotype', 'to_predicate':'tweets'},\n",
    "            {'id': '21', 'source':'yeast', 'target':'twitter', 'predicate':'complex', 'to_predicate':'tweets'},\n",
    "            {'id': '22', 'source':'twitter', 'target':'yeast', 'predicate':'accounttype', 'to_predicate':'proteinclass'},\n",
    "            {'id': '23', 'source':'twitter', 'target':'yeast', 'predicate':'follows', 'to_predicate':'interaction'},\n",
    "            {'id': '24', 'source':'twitter', 'target':'yeast', 'predicate':'tweets', 'to_predicate':'location'},\n",
    "            {'id': '25', 'source':'twitter', 'target':'yeast', 'predicate':'tweets', 'to_predicate':'enzyme'},\n",
    "            {'id': '26', 'source':'twitter', 'target':'yeast', 'predicate':'tweets', 'to_predicate':'function'},\n",
    "            {'id': '27', 'source':'twitter', 'target':'yeast', 'predicate':'tweets', 'to_predicate':'phenotype'},\n",
    "            {'id': '28', 'source':'twitter', 'target':'yeast', 'predicate':'tweets', 'to_predicate':'complex'},\n",
    "            {'id': '29', 'source':'nell_sports', 'target':'nell_finances', 'predicate':'teamalsoknownas', 'to_predicate':'companyalsoknownas'},\n",
    "            {'id': '30', 'source':'nell_sports', 'target':'nell_finances', 'predicate':'teamplaysagainstteam', 'to_predicate':'companyalsoknownas'},\n",
    "            {'id': '31', 'source':'nell_sports', 'target':'nell_finances', 'predicate':'teamplaysagainstteam', 'to_predicate':'acquired'},\n",
    "            {'id': '32', 'source':'nell_sports', 'target':'nell_finances', 'predicate':'teamplaysagainstteam', 'to_predicate':'bankboughtbank'},\n",
    "            {'id': '33', 'source':'nell_sports', 'target':'nell_finances', 'predicate':'athleteplayssport', 'to_predicate':'companyceo'},\n",
    "            {'id': '34', 'source':'nell_sports', 'target':'nell_finances', 'predicate':'athleteplayssport', 'to_predicate':'bankchiefexecutiveceo'},\n",
    "            {'id': '35', 'source':'nell_sports', 'target':'nell_finances', 'predicate':'athleteplaysforteam', 'to_predicate':'bankchiefexecutiveceo'},\n",
    "            {'id': '36', 'source':'nell_sports', 'target':'nell_finances', 'predicate':'athleteplaysforteam', 'to_predicate':'companyceo'},\n",
    "            {'id': '37', 'source':'nell_sports', 'target':'nell_finances', 'predicate':'teamplayssport', 'to_predicate':'companyeconomicsector'},\n",
    "            {'id': '38', 'source':'nell_finances', 'target':'nell_sports', 'predicate':'companyalsoknownas', 'to_predicate':'teamalsoknownas'},\n",
    "            {'id': '39', 'source':'nell_finances', 'target':'nell_sports', 'predicate':'companyalsoknownas', 'to_predicate':'teamplaysagainstteam'},\n",
    "            {'id': '40', 'source':'nell_finances', 'target':'nell_sports', 'predicate':'acquired', 'to_predicate':'teamplaysagainstteam'},\n",
    "            {'id': '41', 'source':'nell_finances', 'target':'nell_sports', 'predicate':'bankboughtbank', 'to_predicate':'teamplaysagainstteam'},\n",
    "            {'id': '42', 'source':'nell_finances', 'target':'nell_sports', 'predicate':'companyceo', 'to_predicate':'athleteplayssport'},\n",
    "            {'id': '43', 'source':'nell_finances', 'target':'nell_sports', 'predicate':'bankchiefexecutiveceo', 'to_predicate':'athleteplayssport'},\n",
    "            {'id': '44', 'source':'nell_finances', 'target':'nell_sports', 'predicate':'bankchiefexecutiveceo', 'to_predicate':'athleteplaysforteam'},\n",
    "            {'id': '45', 'source':'nell_finances', 'target':'nell_sports', 'predicate':'companyceo', 'to_predicate':'athleteplaysforteam'},\n",
    "            {'id': '46', 'source':'nell_finances', 'target':'nell_sports', 'predicate':'companyeconomicsector', 'to_predicate':'teamplayssport'},\n",
    "            {'id': '47', 'source':'yeast', 'target':'facebook', 'predicate':'interaction', 'to_predicate':'edge'},\n",
    "            {'id': '48', 'source':'twitter', 'target':'facebook', 'predicate':'follows', 'to_predicate':'edge'},\n",
    "            {'id': '49', 'source':'imdb', 'target':'facebook', 'predicate':'workedunder', 'to_predicate':'edge'},\n",
    "            {'id': '50', 'source':'uwcse', 'target':'facebook', 'predicate':'advisedby', 'to_predicate':'edge'},\n",
    "]\n",
    "\n",
    "for metric in ['AUC ROC', 'AUC PR', 'CLL', 'Recall', 'F1', 'Precision', 'Learning and Revision time', 'Inference time']:\n",
    "    display(Markdown('# Results for ' + metric))\n",
    "    table = []\n",
    "    for j in range(len(experiments)):\n",
    "        dataset = experiments[j]['id'] + '_' + experiments[j]['source'] + '_' + experiments[j]['target']\n",
    "        if dataset in data['results']: \n",
    "            #for metric in ['AUC ROC', 'AUC PR']:\n",
    "                #display(Markdown('## ' + metric))\n",
    "            mapping_time = ''\n",
    "            if metric == 'Precision':\n",
    "                scratch = np.array([item['scratch']['Precision'][0] for sublist in data['results'][str(dataset)] for item in sublist])\n",
    "                parameter = np.array([item['transfer']['Parameter Learning results']['Precision'][0] for sublist in data['results'][str(dataset)] for item in sublist])\n",
    "                transfer = np.array([item['transfer']['Precision'][0] for sublist in data['results'][str(dataset)] for item in sublist])\n",
    "            elif metric == 'Learning and Revision time':\n",
    "                scratch = np.array([item['scratch']['Learning time'] for sublist in data['results'][str(dataset)] for item in sublist])\n",
    "                parameter = np.array([item['transfer']['Parameter Learning results']['Learning time'] for sublist in data['results'][str(dataset)] for item in sublist])\n",
    "                transfer = np.array([item['transfer']['Learning time'] for sublist in data['results'][str(dataset)] for item in sublist])\n",
    "                mapping = np.array([item['transfer']['Mapping results']['Total time'] for sublist in data['results'][str(dataset)] for item in sublist])\n",
    "                mapping_time = ' (%.1f)' % mapping.mean()\n",
    "            elif metric == 'Inference time':\n",
    "                scratch = np.array([item['scratch']['Inference time'] for sublist in data['results'][str(dataset)] for item in sublist])\n",
    "                parameter = np.array([item['transfer']['Parameter Learning results']['Learning time'] for sublist in data['results'][str(dataset)] for item in sublist])\n",
    "                transfer = np.array([item['transfer']['Inference time'] for sublist in data['results'][str(dataset)] for item in sublist])\n",
    "            else:\n",
    "                scratch = np.array([item['scratch'][metric] for sublist in data['results'][str(dataset)] for item in sublist])\n",
    "                parameter = np.array([item['transfer']['Parameter Learning results'][metric] for sublist in data['results'][str(dataset)] for item in sublist])\n",
    "                transfer = np.array([item['transfer'][metric] for sublist in data['results'][str(dataset)] for item in sublist])\n",
    "            table.append([dataset, '%.3f +/- %.3f%s' % (parameter.mean(), 2 * parameter.std(), mapping_time),\n",
    "            '%.3f +/- %.3f%s' % (transfer.mean(), 2 * transfer.std(), mapping_time),\n",
    "            '%.3f +/- %.3f' % (scratch.mean(), 2 * scratch.std())])\n",
    "    display(pd.DataFrame(table, columns=['Experiment', 'Transfer Learning', 'Transfer Learning with Revision Theory', 'Learning from scratch']))"
   ]
  },
  {
   "cell_type": "code",
   "execution_count": 3,
   "metadata": {
    "collapsed": false
   },
   "outputs": [
    {
     "data": {
      "text/markdown": [
       "# Results for 1_imdb_uwcse"
      ],
      "text/plain": [
       "<IPython.core.display.Markdown object>"
      ]
     },
     "metadata": {},
     "output_type": "display_data"
    },
    {
     "data": {
      "text/markdown": [
       "# Results for 2_uwcse_imdb"
      ],
      "text/plain": [
       "<IPython.core.display.Markdown object>"
      ]
     },
     "metadata": {},
     "output_type": "display_data"
    },
    {
     "data": {
      "text/markdown": [
       "# Results for 3_imdb_uwcse"
      ],
      "text/plain": [
       "<IPython.core.display.Markdown object>"
      ]
     },
     "metadata": {},
     "output_type": "display_data"
    },
    {
     "data": {
      "text/markdown": [
       "# Results for 4_uwcse_imdb"
      ],
      "text/plain": [
       "<IPython.core.display.Markdown object>"
      ]
     },
     "metadata": {},
     "output_type": "display_data"
    },
    {
     "data": {
      "text/markdown": [
       "# Results for 5_imdb_uwcse"
      ],
      "text/plain": [
       "<IPython.core.display.Markdown object>"
      ]
     },
     "metadata": {},
     "output_type": "display_data"
    },
    {
     "data": {
      "text/markdown": [
       "# Results for 6_uwcse_imdb"
      ],
      "text/plain": [
       "<IPython.core.display.Markdown object>"
      ]
     },
     "metadata": {},
     "output_type": "display_data"
    },
    {
     "data": {
      "text/markdown": [
       "# Results for 7_imdb_cora"
      ],
      "text/plain": [
       "<IPython.core.display.Markdown object>"
      ]
     },
     "metadata": {},
     "output_type": "display_data"
    },
    {
     "data": {
      "text/markdown": [
       "# Results for 8_imdb_cora"
      ],
      "text/plain": [
       "<IPython.core.display.Markdown object>"
      ]
     },
     "metadata": {},
     "output_type": "display_data"
    },
    {
     "data": {
      "text/markdown": [
       "# Results for 9_imdb_cora"
      ],
      "text/plain": [
       "<IPython.core.display.Markdown object>"
      ]
     },
     "metadata": {},
     "output_type": "display_data"
    },
    {
     "data": {
      "text/markdown": [
       "# Results for 10_imdb_cora"
      ],
      "text/plain": [
       "<IPython.core.display.Markdown object>"
      ]
     },
     "metadata": {},
     "output_type": "display_data"
    },
    {
     "data": {
      "text/markdown": [
       "# Results for 11_uwcse_cora"
      ],
      "text/plain": [
       "<IPython.core.display.Markdown object>"
      ]
     },
     "metadata": {},
     "output_type": "display_data"
    },
    {
     "data": {
      "text/markdown": [
       "# Results for 12_uwcse_cora"
      ],
      "text/plain": [
       "<IPython.core.display.Markdown object>"
      ]
     },
     "metadata": {},
     "output_type": "display_data"
    },
    {
     "data": {
      "text/markdown": [
       "# Results for 13_uwcse_cora"
      ],
      "text/plain": [
       "<IPython.core.display.Markdown object>"
      ]
     },
     "metadata": {},
     "output_type": "display_data"
    },
    {
     "data": {
      "text/markdown": [
       "# Results for 14_uwcse_cora"
      ],
      "text/plain": [
       "<IPython.core.display.Markdown object>"
      ]
     },
     "metadata": {},
     "output_type": "display_data"
    },
    {
     "data": {
      "text/markdown": [
       "# Results for 15_yeast_twitter"
      ],
      "text/plain": [
       "<IPython.core.display.Markdown object>"
      ]
     },
     "metadata": {},
     "output_type": "display_data"
    },
    {
     "data": {
      "text/markdown": [
       "# Results for 16_yeast_twitter"
      ],
      "text/plain": [
       "<IPython.core.display.Markdown object>"
      ]
     },
     "metadata": {},
     "output_type": "display_data"
    },
    {
     "data": {
      "text/markdown": [
       "# Results for 17_yeast_twitter"
      ],
      "text/plain": [
       "<IPython.core.display.Markdown object>"
      ]
     },
     "metadata": {},
     "output_type": "display_data"
    },
    {
     "data": {
      "text/markdown": [
       "# Results for 18_yeast_twitter"
      ],
      "text/plain": [
       "<IPython.core.display.Markdown object>"
      ]
     },
     "metadata": {},
     "output_type": "display_data"
    },
    {
     "data": {
      "text/markdown": [
       "# Results for 19_yeast_twitter"
      ],
      "text/plain": [
       "<IPython.core.display.Markdown object>"
      ]
     },
     "metadata": {},
     "output_type": "display_data"
    },
    {
     "data": {
      "text/markdown": [
       "# Results for 20_yeast_twitter"
      ],
      "text/plain": [
       "<IPython.core.display.Markdown object>"
      ]
     },
     "metadata": {},
     "output_type": "display_data"
    },
    {
     "data": {
      "text/markdown": [
       "# Results for 21_yeast_twitter"
      ],
      "text/plain": [
       "<IPython.core.display.Markdown object>"
      ]
     },
     "metadata": {},
     "output_type": "display_data"
    },
    {
     "data": {
      "text/markdown": [
       "# Results for 22_twitter_yeast"
      ],
      "text/plain": [
       "<IPython.core.display.Markdown object>"
      ]
     },
     "metadata": {},
     "output_type": "display_data"
    },
    {
     "data": {
      "text/markdown": [
       "# Results for 23_twitter_yeast"
      ],
      "text/plain": [
       "<IPython.core.display.Markdown object>"
      ]
     },
     "metadata": {},
     "output_type": "display_data"
    },
    {
     "data": {
      "text/markdown": [
       "# Results for 24_twitter_yeast"
      ],
      "text/plain": [
       "<IPython.core.display.Markdown object>"
      ]
     },
     "metadata": {},
     "output_type": "display_data"
    },
    {
     "data": {
      "text/markdown": [
       "# Results for 25_twitter_yeast"
      ],
      "text/plain": [
       "<IPython.core.display.Markdown object>"
      ]
     },
     "metadata": {},
     "output_type": "display_data"
    },
    {
     "data": {
      "text/markdown": [
       "# Results for 26_twitter_yeast"
      ],
      "text/plain": [
       "<IPython.core.display.Markdown object>"
      ]
     },
     "metadata": {},
     "output_type": "display_data"
    },
    {
     "data": {
      "text/markdown": [
       "# Results for 27_twitter_yeast"
      ],
      "text/plain": [
       "<IPython.core.display.Markdown object>"
      ]
     },
     "metadata": {},
     "output_type": "display_data"
    },
    {
     "data": {
      "text/markdown": [
       "# Results for 28_twitter_yeast"
      ],
      "text/plain": [
       "<IPython.core.display.Markdown object>"
      ]
     },
     "metadata": {},
     "output_type": "display_data"
    },
    {
     "data": {
      "text/markdown": [
       "# Results for 29_nell_sports_nell_finances"
      ],
      "text/plain": [
       "<IPython.core.display.Markdown object>"
      ]
     },
     "metadata": {},
     "output_type": "display_data"
    },
    {
     "data": {
      "text/markdown": [
       "# Results for 30_nell_sports_nell_finances"
      ],
      "text/plain": [
       "<IPython.core.display.Markdown object>"
      ]
     },
     "metadata": {},
     "output_type": "display_data"
    },
    {
     "data": {
      "text/markdown": [
       "# Results for 31_nell_sports_nell_finances"
      ],
      "text/plain": [
       "<IPython.core.display.Markdown object>"
      ]
     },
     "metadata": {},
     "output_type": "display_data"
    },
    {
     "data": {
      "text/markdown": [
       "# Results for 32_nell_sports_nell_finances"
      ],
      "text/plain": [
       "<IPython.core.display.Markdown object>"
      ]
     },
     "metadata": {},
     "output_type": "display_data"
    },
    {
     "data": {
      "text/markdown": [
       "# Results for 33_nell_sports_nell_finances"
      ],
      "text/plain": [
       "<IPython.core.display.Markdown object>"
      ]
     },
     "metadata": {},
     "output_type": "display_data"
    },
    {
     "data": {
      "text/markdown": [
       "# Results for 34_nell_sports_nell_finances"
      ],
      "text/plain": [
       "<IPython.core.display.Markdown object>"
      ]
     },
     "metadata": {},
     "output_type": "display_data"
    },
    {
     "data": {
      "text/markdown": [
       "# Results for 35_nell_sports_nell_finances"
      ],
      "text/plain": [
       "<IPython.core.display.Markdown object>"
      ]
     },
     "metadata": {},
     "output_type": "display_data"
    },
    {
     "data": {
      "text/markdown": [
       "# Results for 36_nell_sports_nell_finances"
      ],
      "text/plain": [
       "<IPython.core.display.Markdown object>"
      ]
     },
     "metadata": {},
     "output_type": "display_data"
    },
    {
     "data": {
      "text/markdown": [
       "# Results for 37_nell_sports_nell_finances"
      ],
      "text/plain": [
       "<IPython.core.display.Markdown object>"
      ]
     },
     "metadata": {},
     "output_type": "display_data"
    },
    {
     "data": {
      "text/markdown": [
       "## AUC ROC"
      ],
      "text/plain": [
       "<IPython.core.display.Markdown object>"
      ]
     },
     "metadata": {},
     "output_type": "display_data"
    },
    {
     "name": "stdout",
     "output_type": "stream",
     "text": [
      "Experiment 1\n",
      "Ttest_relResult(statistic=11.09985458203551, pvalue=0.008018940163342952)\n",
      "Ttest_relResult(statistic=2.9756727553859617, pvalue=0.09681297578184506)\n"
     ]
    },
    {
     "data": {
      "text/html": [
       "<div>\n",
       "<table border=\"1\" class=\"dataframe\">\n",
       "  <thead>\n",
       "    <tr style=\"text-align: right;\">\n",
       "      <th></th>\n",
       "      <th>p-value</th>\n",
       "      <th>RDN-B</th>\n",
       "    </tr>\n",
       "  </thead>\n",
       "  <tbody>\n",
       "    <tr>\n",
       "      <th>0</th>\n",
       "      <td>transferRDN-B Ref</td>\n",
       "      <td>0.008</td>\n",
       "    </tr>\n",
       "    <tr>\n",
       "      <th>1</th>\n",
       "      <td>transferRDN-B</td>\n",
       "      <td>0.097</td>\n",
       "    </tr>\n",
       "  </tbody>\n",
       "</table>\n",
       "</div>"
      ],
      "text/plain": [
       "             p-value  RDN-B\n",
       "0  transferRDN-B Ref  0.008\n",
       "1      transferRDN-B  0.097"
      ]
     },
     "metadata": {},
     "output_type": "display_data"
    },
    {
     "name": "stdout",
     "output_type": "stream",
     "text": [
      "Scratch: [0.727738, 0.765466, 0.692193]\n",
      "Transfer: [0.768343, 0.778754, 0.746953]\n",
      "Transfer & Revision: [0.841142, 0.866031, 0.828733]\n",
      "\n",
      "\n",
      "Experiment 2\n",
      "Ttest_relResult(statistic=0.33541204514812245, pvalue=0.7692295651389027)\n",
      "Ttest_relResult(statistic=-0.5132048319367344, pvalue=0.6588761563480544)\n"
     ]
    },
    {
     "data": {
      "text/html": [
       "<div>\n",
       "<table border=\"1\" class=\"dataframe\">\n",
       "  <thead>\n",
       "    <tr style=\"text-align: right;\">\n",
       "      <th></th>\n",
       "      <th>p-value</th>\n",
       "      <th>RDN-B</th>\n",
       "    </tr>\n",
       "  </thead>\n",
       "  <tbody>\n",
       "    <tr>\n",
       "      <th>0</th>\n",
       "      <td>transferRDN-B Ref</td>\n",
       "      <td>0.769</td>\n",
       "    </tr>\n",
       "    <tr>\n",
       "      <th>1</th>\n",
       "      <td>transferRDN-B</td>\n",
       "      <td>0.659</td>\n",
       "    </tr>\n",
       "  </tbody>\n",
       "</table>\n",
       "</div>"
      ],
      "text/plain": [
       "             p-value  RDN-B\n",
       "0  transferRDN-B Ref  0.769\n",
       "1      transferRDN-B  0.659"
      ]
     },
     "metadata": {},
     "output_type": "display_data"
    },
    {
     "name": "stdout",
     "output_type": "stream",
     "text": [
      "Scratch: [0.732018, 0.7262, 0.699318]\n",
      "Transfer: [0.5, 0.776828, 0.738499]\n",
      "Transfer & Revision: [0.555051, 0.869477, 0.839987]\n",
      "\n",
      "\n",
      "Experiment 3\n",
      "Ttest_relResult(statistic=0.13382614820219704, pvalue=0.9057914883964624)\n",
      "Ttest_relResult(statistic=-0.31637184633371845, pvalue=0.781687422498904)\n"
     ]
    },
    {
     "data": {
      "text/html": [
       "<div>\n",
       "<table border=\"1\" class=\"dataframe\">\n",
       "  <thead>\n",
       "    <tr style=\"text-align: right;\">\n",
       "      <th></th>\n",
       "      <th>p-value</th>\n",
       "      <th>RDN-B</th>\n",
       "    </tr>\n",
       "  </thead>\n",
       "  <tbody>\n",
       "    <tr>\n",
       "      <th>0</th>\n",
       "      <td>transferRDN-B Ref</td>\n",
       "      <td>0.906</td>\n",
       "    </tr>\n",
       "    <tr>\n",
       "      <th>1</th>\n",
       "      <td>transferRDN-B</td>\n",
       "      <td>0.782</td>\n",
       "    </tr>\n",
       "  </tbody>\n",
       "</table>\n",
       "</div>"
      ],
      "text/plain": [
       "             p-value  RDN-B\n",
       "0  transferRDN-B Ref  0.906\n",
       "1      transferRDN-B  0.782"
      ]
     },
     "metadata": {},
     "output_type": "display_data"
    },
    {
     "name": "stdout",
     "output_type": "stream",
     "text": [
      "Scratch: [0.705682, 0.714258, 0.729898]\n",
      "Transfer: [0.77734, 0.778279, 0.5]\n",
      "Transfer & Revision: [0.845329, 0.853968, 0.5]\n",
      "\n",
      "\n",
      "Experiment 4\n",
      "Ttest_relResult(statistic=-0.012854862150582746, pvalue=0.9909106152938301)\n",
      "Ttest_relResult(statistic=-0.5601998646882801, pvalue=0.6317202418022354)\n"
     ]
    },
    {
     "data": {
      "text/html": [
       "<div>\n",
       "<table border=\"1\" class=\"dataframe\">\n",
       "  <thead>\n",
       "    <tr style=\"text-align: right;\">\n",
       "      <th></th>\n",
       "      <th>p-value</th>\n",
       "      <th>RDN-B</th>\n",
       "    </tr>\n",
       "  </thead>\n",
       "  <tbody>\n",
       "    <tr>\n",
       "      <th>0</th>\n",
       "      <td>transferRDN-B Ref</td>\n",
       "      <td>0.991</td>\n",
       "    </tr>\n",
       "    <tr>\n",
       "      <th>1</th>\n",
       "      <td>transferRDN-B</td>\n",
       "      <td>0.632</td>\n",
       "    </tr>\n",
       "  </tbody>\n",
       "</table>\n",
       "</div>"
      ],
      "text/plain": [
       "             p-value  RDN-B\n",
       "0  transferRDN-B Ref  0.991\n",
       "1      transferRDN-B  0.632"
      ]
     },
     "metadata": {},
     "output_type": "display_data"
    },
    {
     "name": "stdout",
     "output_type": "stream",
     "text": [
      "Scratch: [0.683679, 0.750477, 0.751357]\n",
      "Transfer: [0.770352, 0.5, 0.746058]\n",
      "Transfer & Revision: [0.853463, 0.5, 0.827139]\n",
      "\n",
      "\n",
      "Experiment 5\n",
      "Ttest_relResult(statistic=18.272994496931137, pvalue=0.002981500551771731)\n",
      "Ttest_relResult(statistic=6.668453605033438, pvalue=0.021756737084666643)\n"
     ]
    },
    {
     "data": {
      "text/html": [
       "<div>\n",
       "<table border=\"1\" class=\"dataframe\">\n",
       "  <thead>\n",
       "    <tr style=\"text-align: right;\">\n",
       "      <th></th>\n",
       "      <th>p-value</th>\n",
       "      <th>RDN-B</th>\n",
       "    </tr>\n",
       "  </thead>\n",
       "  <tbody>\n",
       "    <tr>\n",
       "      <th>0</th>\n",
       "      <td>transferRDN-B Ref</td>\n",
       "      <td>0.003</td>\n",
       "    </tr>\n",
       "    <tr>\n",
       "      <th>1</th>\n",
       "      <td>transferRDN-B</td>\n",
       "      <td>0.022</td>\n",
       "    </tr>\n",
       "  </tbody>\n",
       "</table>\n",
       "</div>"
      ],
      "text/plain": [
       "             p-value  RDN-B\n",
       "0  transferRDN-B Ref  0.003\n",
       "1      transferRDN-B  0.022"
      ]
     },
     "metadata": {},
     "output_type": "display_data"
    },
    {
     "name": "stdout",
     "output_type": "stream",
     "text": [
      "Scratch: [0.739589, 0.759912, 0.70968]\n",
      "Transfer: [0.774646, 0.784097, 0.7511]\n",
      "Transfer & Revision: [0.860203, 0.862085, 0.831058]\n",
      "\n",
      "\n",
      "Experiment 6\n",
      "Ttest_relResult(statistic=0.21480756163055229, pvalue=0.8498305294203878)\n",
      "Ttest_relResult(statistic=-0.13469791186790117, pvalue=0.9051832994683127)\n"
     ]
    },
    {
     "data": {
      "text/html": [
       "<div>\n",
       "<table border=\"1\" class=\"dataframe\">\n",
       "  <thead>\n",
       "    <tr style=\"text-align: right;\">\n",
       "      <th></th>\n",
       "      <th>p-value</th>\n",
       "      <th>RDN-B</th>\n",
       "    </tr>\n",
       "  </thead>\n",
       "  <tbody>\n",
       "    <tr>\n",
       "      <th>0</th>\n",
       "      <td>transferRDN-B Ref</td>\n",
       "      <td>0.850</td>\n",
       "    </tr>\n",
       "    <tr>\n",
       "      <th>1</th>\n",
       "      <td>transferRDN-B</td>\n",
       "      <td>0.905</td>\n",
       "    </tr>\n",
       "  </tbody>\n",
       "</table>\n",
       "</div>"
      ],
      "text/plain": [
       "             p-value  RDN-B\n",
       "0  transferRDN-B Ref  0.850\n",
       "1      transferRDN-B  0.905"
      ]
     },
     "metadata": {},
     "output_type": "display_data"
    },
    {
     "name": "stdout",
     "output_type": "stream",
     "text": [
      "Scratch: [0.600714, 0.752178, 0.714011]\n",
      "Transfer: [0.777834, 0.5, 0.738303]\n",
      "Transfer & Revision: [0.833407, 0.5, 0.8275]\n",
      "\n",
      "\n",
      "Experiment 7\n",
      "Ttest_relResult(statistic=0.0988595005725459, pvalue=0.9302659503396334)\n",
      "Ttest_relResult(statistic=-0.4930179197068559, pvalue=0.6708138051347089)\n"
     ]
    },
    {
     "data": {
      "text/html": [
       "<div>\n",
       "<table border=\"1\" class=\"dataframe\">\n",
       "  <thead>\n",
       "    <tr style=\"text-align: right;\">\n",
       "      <th></th>\n",
       "      <th>p-value</th>\n",
       "      <th>RDN-B</th>\n",
       "    </tr>\n",
       "  </thead>\n",
       "  <tbody>\n",
       "    <tr>\n",
       "      <th>0</th>\n",
       "      <td>transferRDN-B Ref</td>\n",
       "      <td>0.930</td>\n",
       "    </tr>\n",
       "    <tr>\n",
       "      <th>1</th>\n",
       "      <td>transferRDN-B</td>\n",
       "      <td>0.671</td>\n",
       "    </tr>\n",
       "  </tbody>\n",
       "</table>\n",
       "</div>"
      ],
      "text/plain": [
       "             p-value  RDN-B\n",
       "0  transferRDN-B Ref  0.930\n",
       "1      transferRDN-B  0.671"
      ]
     },
     "metadata": {},
     "output_type": "display_data"
    },
    {
     "name": "stdout",
     "output_type": "stream",
     "text": [
      "Scratch: [0.703562, 0.739807, 0.728162]\n",
      "Transfer: [0.763963, 0.771768, 0.5]\n",
      "Transfer & Revision: [0.847405, 0.859781, 0.5]\n",
      "\n",
      "\n",
      "Experiment 8\n",
      "Ttest_relResult(statistic=1.0713029282122337, pvalue=0.39616773218939794)\n",
      "Ttest_relResult(statistic=-0.8104459296193636, pvalue=0.5027866662752487)\n"
     ]
    },
    {
     "data": {
      "text/html": [
       "<div>\n",
       "<table border=\"1\" class=\"dataframe\">\n",
       "  <thead>\n",
       "    <tr style=\"text-align: right;\">\n",
       "      <th></th>\n",
       "      <th>p-value</th>\n",
       "      <th>RDN-B</th>\n",
       "    </tr>\n",
       "  </thead>\n",
       "  <tbody>\n",
       "    <tr>\n",
       "      <th>0</th>\n",
       "      <td>transferRDN-B Ref</td>\n",
       "      <td>0.396</td>\n",
       "    </tr>\n",
       "    <tr>\n",
       "      <th>1</th>\n",
       "      <td>transferRDN-B</td>\n",
       "      <td>0.503</td>\n",
       "    </tr>\n",
       "  </tbody>\n",
       "</table>\n",
       "</div>"
      ],
      "text/plain": [
       "             p-value  RDN-B\n",
       "0  transferRDN-B Ref  0.396\n",
       "1      transferRDN-B  0.503"
      ]
     },
     "metadata": {},
     "output_type": "display_data"
    },
    {
     "name": "stdout",
     "output_type": "stream",
     "text": [
      "Scratch: [0.732288, 0.784177, 0.716224]\n",
      "Transfer: [0.5, 0.776837, 0.75319]\n",
      "Transfer & Revision: [0.693851, 0.849145, 0.853989]\n",
      "\n",
      "\n",
      "Experiment 9\n",
      "Ttest_relResult(statistic=0.04635678108502767, pvalue=0.9672384017839974)\n",
      "Ttest_relResult(statistic=-0.44156381825444574, pvalue=0.7019574061997074)\n"
     ]
    },
    {
     "data": {
      "text/html": [
       "<div>\n",
       "<table border=\"1\" class=\"dataframe\">\n",
       "  <thead>\n",
       "    <tr style=\"text-align: right;\">\n",
       "      <th></th>\n",
       "      <th>p-value</th>\n",
       "      <th>RDN-B</th>\n",
       "    </tr>\n",
       "  </thead>\n",
       "  <tbody>\n",
       "    <tr>\n",
       "      <th>0</th>\n",
       "      <td>transferRDN-B Ref</td>\n",
       "      <td>0.967</td>\n",
       "    </tr>\n",
       "    <tr>\n",
       "      <th>1</th>\n",
       "      <td>transferRDN-B</td>\n",
       "      <td>0.702</td>\n",
       "    </tr>\n",
       "  </tbody>\n",
       "</table>\n",
       "</div>"
      ],
      "text/plain": [
       "             p-value  RDN-B\n",
       "0  transferRDN-B Ref  0.967\n",
       "1      transferRDN-B  0.702"
      ]
     },
     "metadata": {},
     "output_type": "display_data"
    },
    {
     "name": "stdout",
     "output_type": "stream",
     "text": [
      "Scratch: [0.720085, 0.750518, 0.688016]\n",
      "Transfer: [0.771455, 0.5, 0.751182]\n",
      "Transfer & Revision: [0.847753, 0.5, 0.828707]\n",
      "\n",
      "\n",
      "Experiment 10\n",
      "Ttest_relResult(statistic=0.11161249052116941, pvalue=0.9213226983540868)\n",
      "Ttest_relResult(statistic=-0.5027301090356197, pvalue=0.6650502977570224)\n"
     ]
    },
    {
     "data": {
      "text/html": [
       "<div>\n",
       "<table border=\"1\" class=\"dataframe\">\n",
       "  <thead>\n",
       "    <tr style=\"text-align: right;\">\n",
       "      <th></th>\n",
       "      <th>p-value</th>\n",
       "      <th>RDN-B</th>\n",
       "    </tr>\n",
       "  </thead>\n",
       "  <tbody>\n",
       "    <tr>\n",
       "      <th>0</th>\n",
       "      <td>transferRDN-B Ref</td>\n",
       "      <td>0.921</td>\n",
       "    </tr>\n",
       "    <tr>\n",
       "      <th>1</th>\n",
       "      <td>transferRDN-B</td>\n",
       "      <td>0.665</td>\n",
       "    </tr>\n",
       "  </tbody>\n",
       "</table>\n",
       "</div>"
      ],
      "text/plain": [
       "             p-value  RDN-B\n",
       "0  transferRDN-B Ref  0.921\n",
       "1      transferRDN-B  0.665"
      ]
     },
     "metadata": {},
     "output_type": "display_data"
    },
    {
     "name": "stdout",
     "output_type": "stream",
     "text": [
      "Scratch: [0.716729, 0.746493, 0.708266]\n",
      "Transfer: [0.765444, 0.780407, 0.5]\n",
      "Transfer & Revision: [0.844889, 0.863544, 0.5]\n",
      "\n",
      "\n"
     ]
    },
    {
     "data": {
      "text/markdown": [
       "## AUC PR"
      ],
      "text/plain": [
       "<IPython.core.display.Markdown object>"
      ]
     },
     "metadata": {},
     "output_type": "display_data"
    },
    {
     "name": "stdout",
     "output_type": "stream",
     "text": [
      "Experiment 1\n",
      "Ttest_relResult(statistic=13.656001272138488, pvalue=0.005319572314566913)\n",
      "Ttest_relResult(statistic=4.432993459932884, pvalue=0.04730521533113098)\n"
     ]
    },
    {
     "data": {
      "text/html": [
       "<div>\n",
       "<table border=\"1\" class=\"dataframe\">\n",
       "  <thead>\n",
       "    <tr style=\"text-align: right;\">\n",
       "      <th></th>\n",
       "      <th>p-value</th>\n",
       "      <th>RDN-B</th>\n",
       "    </tr>\n",
       "  </thead>\n",
       "  <tbody>\n",
       "    <tr>\n",
       "      <th>0</th>\n",
       "      <td>transferRDN-B Ref</td>\n",
       "      <td>0.005</td>\n",
       "    </tr>\n",
       "    <tr>\n",
       "      <th>1</th>\n",
       "      <td>transferRDN-B</td>\n",
       "      <td>0.047</td>\n",
       "    </tr>\n",
       "  </tbody>\n",
       "</table>\n",
       "</div>"
      ],
      "text/plain": [
       "             p-value  RDN-B\n",
       "0  transferRDN-B Ref  0.005\n",
       "1      transferRDN-B  0.047"
      ]
     },
     "metadata": {},
     "output_type": "display_data"
    },
    {
     "name": "stdout",
     "output_type": "stream",
     "text": [
      "Scratch: [0.748429, 0.783514, 0.723165]\n",
      "Transfer: [0.792146, 0.802713, 0.764984]\n",
      "Transfer & Revision: [0.8521, 0.869574, 0.833888]\n",
      "\n",
      "\n",
      "Experiment 2\n",
      "Ttest_relResult(statistic=0.23841698726110977, pvalue=0.8337595674793565)\n",
      "Ttest_relResult(statistic=-0.5059049829047783, pvalue=0.6631743171587664)\n"
     ]
    },
    {
     "data": {
      "text/html": [
       "<div>\n",
       "<table border=\"1\" class=\"dataframe\">\n",
       "  <thead>\n",
       "    <tr style=\"text-align: right;\">\n",
       "      <th></th>\n",
       "      <th>p-value</th>\n",
       "      <th>RDN-B</th>\n",
       "    </tr>\n",
       "  </thead>\n",
       "  <tbody>\n",
       "    <tr>\n",
       "      <th>0</th>\n",
       "      <td>transferRDN-B Ref</td>\n",
       "      <td>0.834</td>\n",
       "    </tr>\n",
       "    <tr>\n",
       "      <th>1</th>\n",
       "      <td>transferRDN-B</td>\n",
       "      <td>0.663</td>\n",
       "    </tr>\n",
       "  </tbody>\n",
       "</table>\n",
       "</div>"
      ],
      "text/plain": [
       "             p-value  RDN-B\n",
       "0  transferRDN-B Ref  0.834\n",
       "1      transferRDN-B  0.663"
      ]
     },
     "metadata": {},
     "output_type": "display_data"
    },
    {
     "name": "stdout",
     "output_type": "stream",
     "text": [
      "Scratch: [0.75547, 0.751832, 0.723462]\n",
      "Transfer: [0.5, 0.812942, 0.762862]\n",
      "Transfer & Revision: [0.583962, 0.876307, 0.840153]\n",
      "\n",
      "\n",
      "Experiment 3\n",
      "Ttest_relResult(statistic=-0.03750988193960808, pvalue=0.9734858327795946)\n",
      "Ttest_relResult(statistic=-0.3700805977655419, pvalue=0.7468382109614905)\n"
     ]
    },
    {
     "data": {
      "text/html": [
       "<div>\n",
       "<table border=\"1\" class=\"dataframe\">\n",
       "  <thead>\n",
       "    <tr style=\"text-align: right;\">\n",
       "      <th></th>\n",
       "      <th>p-value</th>\n",
       "      <th>RDN-B</th>\n",
       "    </tr>\n",
       "  </thead>\n",
       "  <tbody>\n",
       "    <tr>\n",
       "      <th>0</th>\n",
       "      <td>transferRDN-B Ref</td>\n",
       "      <td>0.973</td>\n",
       "    </tr>\n",
       "    <tr>\n",
       "      <th>1</th>\n",
       "      <td>transferRDN-B</td>\n",
       "      <td>0.747</td>\n",
       "    </tr>\n",
       "  </tbody>\n",
       "</table>\n",
       "</div>"
      ],
      "text/plain": [
       "             p-value  RDN-B\n",
       "0  transferRDN-B Ref  0.973\n",
       "1      transferRDN-B  0.747"
      ]
     },
     "metadata": {},
     "output_type": "display_data"
    },
    {
     "name": "stdout",
     "output_type": "stream",
     "text": [
      "Scratch: [0.729646, 0.739083, 0.752426]\n",
      "Transfer: [0.798658, 0.804245, 0.5]\n",
      "Transfer & Revision: [0.853919, 0.853291, 0.5]\n",
      "\n",
      "\n",
      "Experiment 4\n",
      "Ttest_relResult(statistic=-0.18310595015629416, pvalue=0.8715963404551625)\n",
      "Ttest_relResult(statistic=-0.5810112703454802, pvalue=0.6199840161722534)\n"
     ]
    },
    {
     "data": {
      "text/html": [
       "<div>\n",
       "<table border=\"1\" class=\"dataframe\">\n",
       "  <thead>\n",
       "    <tr style=\"text-align: right;\">\n",
       "      <th></th>\n",
       "      <th>p-value</th>\n",
       "      <th>RDN-B</th>\n",
       "    </tr>\n",
       "  </thead>\n",
       "  <tbody>\n",
       "    <tr>\n",
       "      <th>0</th>\n",
       "      <td>transferRDN-B Ref</td>\n",
       "      <td>0.872</td>\n",
       "    </tr>\n",
       "    <tr>\n",
       "      <th>1</th>\n",
       "      <td>transferRDN-B</td>\n",
       "      <td>0.620</td>\n",
       "    </tr>\n",
       "  </tbody>\n",
       "</table>\n",
       "</div>"
      ],
      "text/plain": [
       "             p-value  RDN-B\n",
       "0  transferRDN-B Ref  0.872\n",
       "1      transferRDN-B  0.620"
      ]
     },
     "metadata": {},
     "output_type": "display_data"
    },
    {
     "name": "stdout",
     "output_type": "stream",
     "text": [
      "Scratch: [0.710114, 0.774619, 0.768323]\n",
      "Transfer: [0.794358, 0.5, 0.769626]\n",
      "Transfer & Revision: [0.856127, 0.5, 0.826555]\n",
      "\n",
      "\n",
      "Experiment 5\n",
      "Ttest_relResult(statistic=18.813306851081286, pvalue=0.002813415860977201)\n",
      "Ttest_relResult(statistic=5.628527909120554, pvalue=0.03014529298401746)\n"
     ]
    },
    {
     "data": {
      "text/html": [
       "<div>\n",
       "<table border=\"1\" class=\"dataframe\">\n",
       "  <thead>\n",
       "    <tr style=\"text-align: right;\">\n",
       "      <th></th>\n",
       "      <th>p-value</th>\n",
       "      <th>RDN-B</th>\n",
       "    </tr>\n",
       "  </thead>\n",
       "  <tbody>\n",
       "    <tr>\n",
       "      <th>0</th>\n",
       "      <td>transferRDN-B Ref</td>\n",
       "      <td>0.003</td>\n",
       "    </tr>\n",
       "    <tr>\n",
       "      <th>1</th>\n",
       "      <td>transferRDN-B</td>\n",
       "      <td>0.030</td>\n",
       "    </tr>\n",
       "  </tbody>\n",
       "</table>\n",
       "</div>"
      ],
      "text/plain": [
       "             p-value  RDN-B\n",
       "0  transferRDN-B Ref  0.003\n",
       "1      transferRDN-B  0.030"
      ]
     },
     "metadata": {},
     "output_type": "display_data"
    },
    {
     "name": "stdout",
     "output_type": "stream",
     "text": [
      "Scratch: [0.759947, 0.779824, 0.728956]\n",
      "Transfer: [0.791598, 0.800047, 0.76756]\n",
      "Transfer & Revision: [0.860101, 0.869198, 0.836452]\n",
      "\n",
      "\n",
      "Experiment 6\n",
      "Ttest_relResult(statistic=0.038089937765311714, pvalue=0.9730761105273342)\n",
      "Ttest_relResult(statistic=-0.2310406025573724, pvalue=0.8387670982798028)\n"
     ]
    },
    {
     "data": {
      "text/html": [
       "<div>\n",
       "<table border=\"1\" class=\"dataframe\">\n",
       "  <thead>\n",
       "    <tr style=\"text-align: right;\">\n",
       "      <th></th>\n",
       "      <th>p-value</th>\n",
       "      <th>RDN-B</th>\n",
       "    </tr>\n",
       "  </thead>\n",
       "  <tbody>\n",
       "    <tr>\n",
       "      <th>0</th>\n",
       "      <td>transferRDN-B Ref</td>\n",
       "      <td>0.973</td>\n",
       "    </tr>\n",
       "    <tr>\n",
       "      <th>1</th>\n",
       "      <td>transferRDN-B</td>\n",
       "      <td>0.839</td>\n",
       "    </tr>\n",
       "  </tbody>\n",
       "</table>\n",
       "</div>"
      ],
      "text/plain": [
       "             p-value  RDN-B\n",
       "0  transferRDN-B Ref  0.973\n",
       "1      transferRDN-B  0.839"
      ]
     },
     "metadata": {},
     "output_type": "display_data"
    },
    {
     "name": "stdout",
     "output_type": "stream",
     "text": [
      "Scratch: [0.632368, 0.770625, 0.7373]\n",
      "Transfer: [0.80417, 0.5, 0.746567]\n",
      "Transfer & Revision: [0.82987, 0.5, 0.826592]\n",
      "\n",
      "\n",
      "Experiment 7\n",
      "Ttest_relResult(statistic=-0.022651301659268416, pvalue=0.9839851650910444)\n",
      "Ttest_relResult(statistic=-0.5538657968965929, pvalue=0.6353278045493651)\n"
     ]
    },
    {
     "data": {
      "text/html": [
       "<div>\n",
       "<table border=\"1\" class=\"dataframe\">\n",
       "  <thead>\n",
       "    <tr style=\"text-align: right;\">\n",
       "      <th></th>\n",
       "      <th>p-value</th>\n",
       "      <th>RDN-B</th>\n",
       "    </tr>\n",
       "  </thead>\n",
       "  <tbody>\n",
       "    <tr>\n",
       "      <th>0</th>\n",
       "      <td>transferRDN-B Ref</td>\n",
       "      <td>0.984</td>\n",
       "    </tr>\n",
       "    <tr>\n",
       "      <th>1</th>\n",
       "      <td>transferRDN-B</td>\n",
       "      <td>0.635</td>\n",
       "    </tr>\n",
       "  </tbody>\n",
       "</table>\n",
       "</div>"
      ],
      "text/plain": [
       "             p-value  RDN-B\n",
       "0  transferRDN-B Ref  0.984\n",
       "1      transferRDN-B  0.635"
      ]
     },
     "metadata": {},
     "output_type": "display_data"
    },
    {
     "name": "stdout",
     "output_type": "stream",
     "text": [
      "Scratch: [0.724174, 0.75712, 0.750917]\n",
      "Transfer: [0.77748, 0.791277, 0.5]\n",
      "Transfer & Revision: [0.851257, 0.872521, 0.5]\n",
      "\n",
      "\n",
      "Experiment 8\n",
      "Ttest_relResult(statistic=0.8841255159526749, pvalue=0.46989670673336226)\n",
      "Ttest_relResult(statistic=-0.7633044888737212, pvalue=0.5250297524739245)\n"
     ]
    },
    {
     "data": {
      "text/html": [
       "<div>\n",
       "<table border=\"1\" class=\"dataframe\">\n",
       "  <thead>\n",
       "    <tr style=\"text-align: right;\">\n",
       "      <th></th>\n",
       "      <th>p-value</th>\n",
       "      <th>RDN-B</th>\n",
       "    </tr>\n",
       "  </thead>\n",
       "  <tbody>\n",
       "    <tr>\n",
       "      <th>0</th>\n",
       "      <td>transferRDN-B Ref</td>\n",
       "      <td>0.470</td>\n",
       "    </tr>\n",
       "    <tr>\n",
       "      <th>1</th>\n",
       "      <td>transferRDN-B</td>\n",
       "      <td>0.525</td>\n",
       "    </tr>\n",
       "  </tbody>\n",
       "</table>\n",
       "</div>"
      ],
      "text/plain": [
       "             p-value  RDN-B\n",
       "0  transferRDN-B Ref  0.470\n",
       "1      transferRDN-B  0.525"
      ]
     },
     "metadata": {},
     "output_type": "display_data"
    },
    {
     "name": "stdout",
     "output_type": "stream",
     "text": [
      "Scratch: [0.752481, 0.797643, 0.737969]\n",
      "Transfer: [0.5, 0.802525, 0.775534]\n",
      "Transfer & Revision: [0.713073, 0.841854, 0.847468]\n",
      "\n",
      "\n",
      "Experiment 9\n",
      "Ttest_relResult(statistic=-0.09356541263620648, pvalue=0.9339835894169353)\n",
      "Ttest_relResult(statistic=-0.5321557878385283, pvalue=0.6478174903944145)\n"
     ]
    },
    {
     "data": {
      "text/html": [
       "<div>\n",
       "<table border=\"1\" class=\"dataframe\">\n",
       "  <thead>\n",
       "    <tr style=\"text-align: right;\">\n",
       "      <th></th>\n",
       "      <th>p-value</th>\n",
       "      <th>RDN-B</th>\n",
       "    </tr>\n",
       "  </thead>\n",
       "  <tbody>\n",
       "    <tr>\n",
       "      <th>0</th>\n",
       "      <td>transferRDN-B Ref</td>\n",
       "      <td>0.934</td>\n",
       "    </tr>\n",
       "    <tr>\n",
       "      <th>1</th>\n",
       "      <td>transferRDN-B</td>\n",
       "      <td>0.648</td>\n",
       "    </tr>\n",
       "  </tbody>\n",
       "</table>\n",
       "</div>"
      ],
      "text/plain": [
       "             p-value  RDN-B\n",
       "0  transferRDN-B Ref  0.934\n",
       "1      transferRDN-B  0.648"
      ]
     },
     "metadata": {},
     "output_type": "display_data"
    },
    {
     "name": "stdout",
     "output_type": "stream",
     "text": [
      "Scratch: [0.737948, 0.773807, 0.712228]\n",
      "Transfer: [0.778504, 0.5, 0.772658]\n",
      "Transfer & Revision: [0.847736, 0.5, 0.83951]\n",
      "\n",
      "\n",
      "Experiment 10\n",
      "Ttest_relResult(statistic=-0.046236882134138235, pvalue=0.9673230470374401)\n",
      "Ttest_relResult(statistic=-0.5673506536578647, pvalue=0.6276674183464352)\n"
     ]
    },
    {
     "data": {
      "text/html": [
       "<div>\n",
       "<table border=\"1\" class=\"dataframe\">\n",
       "  <thead>\n",
       "    <tr style=\"text-align: right;\">\n",
       "      <th></th>\n",
       "      <th>p-value</th>\n",
       "      <th>RDN-B</th>\n",
       "    </tr>\n",
       "  </thead>\n",
       "  <tbody>\n",
       "    <tr>\n",
       "      <th>0</th>\n",
       "      <td>transferRDN-B Ref</td>\n",
       "      <td>0.967</td>\n",
       "    </tr>\n",
       "    <tr>\n",
       "      <th>1</th>\n",
       "      <td>transferRDN-B</td>\n",
       "      <td>0.628</td>\n",
       "    </tr>\n",
       "  </tbody>\n",
       "</table>\n",
       "</div>"
      ],
      "text/plain": [
       "             p-value  RDN-B\n",
       "0  transferRDN-B Ref  0.967\n",
       "1      transferRDN-B  0.628"
      ]
     },
     "metadata": {},
     "output_type": "display_data"
    },
    {
     "name": "stdout",
     "output_type": "stream",
     "text": [
      "Scratch: [0.742556, 0.763774, 0.734147]\n",
      "Transfer: [0.771754, 0.813244, 0.5]\n",
      "Transfer & Revision: [0.846862, 0.877738, 0.5]\n",
      "\n",
      "\n"
     ]
    },
    {
     "data": {
      "text/markdown": [
       "## CLL"
      ],
      "text/plain": [
       "<IPython.core.display.Markdown object>"
      ]
     },
     "metadata": {},
     "output_type": "display_data"
    },
    {
     "name": "stdout",
     "output_type": "stream",
     "text": [
      "Experiment 1\n",
      "Ttest_relResult(statistic=5.46647082002825, pvalue=0.03187331672134616)\n",
      "Ttest_relResult(statistic=2.631329256186019, pvalue=0.1191580263822502)\n"
     ]
    },
    {
     "data": {
      "text/html": [
       "<div>\n",
       "<table border=\"1\" class=\"dataframe\">\n",
       "  <thead>\n",
       "    <tr style=\"text-align: right;\">\n",
       "      <th></th>\n",
       "      <th>p-value</th>\n",
       "      <th>RDN-B</th>\n",
       "    </tr>\n",
       "  </thead>\n",
       "  <tbody>\n",
       "    <tr>\n",
       "      <th>0</th>\n",
       "      <td>transferRDN-B Ref</td>\n",
       "      <td>0.032</td>\n",
       "    </tr>\n",
       "    <tr>\n",
       "      <th>1</th>\n",
       "      <td>transferRDN-B</td>\n",
       "      <td>0.119</td>\n",
       "    </tr>\n",
       "  </tbody>\n",
       "</table>\n",
       "</div>"
      ],
      "text/plain": [
       "             p-value  RDN-B\n",
       "0  transferRDN-B Ref  0.032\n",
       "1      transferRDN-B  0.119"
      ]
     },
     "metadata": {},
     "output_type": "display_data"
    },
    {
     "name": "stdout",
     "output_type": "stream",
     "text": [
      "Scratch: [-0.601179, -0.565715, -0.634695]\n",
      "Transfer: [-0.561236, -0.558595, -0.593012]\n",
      "Transfer & Revision: [-0.503868, -0.496069, -0.501891]\n",
      "\n",
      "\n",
      "Experiment 2\n",
      "Ttest_relResult(statistic=1.0454688418843783, pvalue=0.4055425474449912)\n",
      "Ttest_relResult(statistic=0.07998665807311119, pvalue=0.9435311395984392)\n"
     ]
    },
    {
     "data": {
      "text/html": [
       "<div>\n",
       "<table border=\"1\" class=\"dataframe\">\n",
       "  <thead>\n",
       "    <tr style=\"text-align: right;\">\n",
       "      <th></th>\n",
       "      <th>p-value</th>\n",
       "      <th>RDN-B</th>\n",
       "    </tr>\n",
       "  </thead>\n",
       "  <tbody>\n",
       "    <tr>\n",
       "      <th>0</th>\n",
       "      <td>transferRDN-B Ref</td>\n",
       "      <td>0.406</td>\n",
       "    </tr>\n",
       "    <tr>\n",
       "      <th>1</th>\n",
       "      <td>transferRDN-B</td>\n",
       "      <td>0.944</td>\n",
       "    </tr>\n",
       "  </tbody>\n",
       "</table>\n",
       "</div>"
      ],
      "text/plain": [
       "             p-value  RDN-B\n",
       "0  transferRDN-B Ref  0.406\n",
       "1      transferRDN-B  0.944"
      ]
     },
     "metadata": {},
     "output_type": "display_data"
    },
    {
     "name": "stdout",
     "output_type": "stream",
     "text": [
      "Scratch: [-0.624888, -0.601661, -0.631535]\n",
      "Transfer: [-0.695026, -0.556952, -0.597309]\n",
      "Transfer & Revision: [-0.683596, -0.484546, -0.495446]\n",
      "\n",
      "\n",
      "Experiment 3\n",
      "Ttest_relResult(statistic=0.679132909494791, pvalue=0.5671081343475266)\n",
      "Ttest_relResult(statistic=0.18877361236600934, pvalue=0.8676904229921185)\n"
     ]
    },
    {
     "data": {
      "text/html": [
       "<div>\n",
       "<table border=\"1\" class=\"dataframe\">\n",
       "  <thead>\n",
       "    <tr style=\"text-align: right;\">\n",
       "      <th></th>\n",
       "      <th>p-value</th>\n",
       "      <th>RDN-B</th>\n",
       "    </tr>\n",
       "  </thead>\n",
       "  <tbody>\n",
       "    <tr>\n",
       "      <th>0</th>\n",
       "      <td>transferRDN-B Ref</td>\n",
       "      <td>0.567</td>\n",
       "    </tr>\n",
       "    <tr>\n",
       "      <th>1</th>\n",
       "      <td>transferRDN-B</td>\n",
       "      <td>0.868</td>\n",
       "    </tr>\n",
       "  </tbody>\n",
       "</table>\n",
       "</div>"
      ],
      "text/plain": [
       "             p-value  RDN-B\n",
       "0  transferRDN-B Ref  0.567\n",
       "1      transferRDN-B  0.868"
      ]
     },
     "metadata": {},
     "output_type": "display_data"
    },
    {
     "name": "stdout",
     "output_type": "stream",
     "text": [
      "Scratch: [-0.627554, -0.615294, -0.600572]\n",
      "Transfer: [-0.559196, -0.559585, -0.695026]\n",
      "Transfer & Revision: [-0.505148, -0.497515, -0.695026]\n",
      "\n",
      "\n",
      "Experiment 4\n",
      "Ttest_relResult(statistic=0.46487656210693973, pvalue=0.6877215805215947)\n",
      "Ttest_relResult(statistic=-0.33396266785761375, pvalue=0.7701739863174761)\n"
     ]
    },
    {
     "data": {
      "text/html": [
       "<div>\n",
       "<table border=\"1\" class=\"dataframe\">\n",
       "  <thead>\n",
       "    <tr style=\"text-align: right;\">\n",
       "      <th></th>\n",
       "      <th>p-value</th>\n",
       "      <th>RDN-B</th>\n",
       "    </tr>\n",
       "  </thead>\n",
       "  <tbody>\n",
       "    <tr>\n",
       "      <th>0</th>\n",
       "      <td>transferRDN-B Ref</td>\n",
       "      <td>0.688</td>\n",
       "    </tr>\n",
       "    <tr>\n",
       "      <th>1</th>\n",
       "      <td>transferRDN-B</td>\n",
       "      <td>0.770</td>\n",
       "    </tr>\n",
       "  </tbody>\n",
       "</table>\n",
       "</div>"
      ],
      "text/plain": [
       "             p-value  RDN-B\n",
       "0  transferRDN-B Ref  0.688\n",
       "1      transferRDN-B  0.770"
      ]
     },
     "metadata": {},
     "output_type": "display_data"
    },
    {
     "name": "stdout",
     "output_type": "stream",
     "text": [
      "Scratch: [-0.63069, -0.595684, -0.572004]\n",
      "Transfer: [-0.558339, -0.695032, -0.594762]\n",
      "Transfer & Revision: [-0.488175, -0.695032, -0.516532]\n",
      "\n",
      "\n",
      "Experiment 5\n",
      "Ttest_relResult(statistic=12.662837734988532, pvalue=0.006178716532122949)\n",
      "Ttest_relResult(statistic=2.0269492805158533, pvalue=0.17988498873314185)\n"
     ]
    },
    {
     "data": {
      "text/html": [
       "<div>\n",
       "<table border=\"1\" class=\"dataframe\">\n",
       "  <thead>\n",
       "    <tr style=\"text-align: right;\">\n",
       "      <th></th>\n",
       "      <th>p-value</th>\n",
       "      <th>RDN-B</th>\n",
       "    </tr>\n",
       "  </thead>\n",
       "  <tbody>\n",
       "    <tr>\n",
       "      <th>0</th>\n",
       "      <td>transferRDN-B Ref</td>\n",
       "      <td>0.006</td>\n",
       "    </tr>\n",
       "    <tr>\n",
       "      <th>1</th>\n",
       "      <td>transferRDN-B</td>\n",
       "      <td>0.180</td>\n",
       "    </tr>\n",
       "  </tbody>\n",
       "</table>\n",
       "</div>"
      ],
      "text/plain": [
       "             p-value  RDN-B\n",
       "0  transferRDN-B Ref  0.006\n",
       "1      transferRDN-B  0.180"
      ]
     },
     "metadata": {},
     "output_type": "display_data"
    },
    {
     "name": "stdout",
     "output_type": "stream",
     "text": [
      "Scratch: [-0.588016, -0.615091, -0.601129]\n",
      "Transfer: [-0.559827, -0.555533, -0.594854]\n",
      "Transfer & Revision: [-0.492614, -0.498236, -0.510114]\n",
      "\n",
      "\n",
      "Experiment 6\n",
      "Ttest_relResult(statistic=0.4248723382523092, pvalue=0.712274225495692)\n",
      "Ttest_relResult(statistic=-0.13585559416560866, pvalue=0.9043758026161641)\n"
     ]
    },
    {
     "data": {
      "text/html": [
       "<div>\n",
       "<table border=\"1\" class=\"dataframe\">\n",
       "  <thead>\n",
       "    <tr style=\"text-align: right;\">\n",
       "      <th></th>\n",
       "      <th>p-value</th>\n",
       "      <th>RDN-B</th>\n",
       "    </tr>\n",
       "  </thead>\n",
       "  <tbody>\n",
       "    <tr>\n",
       "      <th>0</th>\n",
       "      <td>transferRDN-B Ref</td>\n",
       "      <td>0.712</td>\n",
       "    </tr>\n",
       "    <tr>\n",
       "      <th>1</th>\n",
       "      <td>transferRDN-B</td>\n",
       "      <td>0.904</td>\n",
       "    </tr>\n",
       "  </tbody>\n",
       "</table>\n",
       "</div>"
      ],
      "text/plain": [
       "             p-value  RDN-B\n",
       "0  transferRDN-B Ref  0.712\n",
       "1      transferRDN-B  0.904"
      ]
     },
     "metadata": {},
     "output_type": "display_data"
    },
    {
     "name": "stdout",
     "output_type": "stream",
     "text": [
      "Scratch: [-0.65985, -0.579951, -0.587097]\n",
      "Transfer: [-0.559965, -0.695093, -0.597141]\n",
      "Transfer & Revision: [-0.518892, -0.695093, -0.51543]\n",
      "\n",
      "\n",
      "Experiment 7\n",
      "Ttest_relResult(statistic=0.5036509428436166, pvalue=0.6645057807800356)\n",
      "Ttest_relResult(statistic=-0.12372481934419956, pvalue=0.9128462392201717)\n"
     ]
    },
    {
     "data": {
      "text/html": [
       "<div>\n",
       "<table border=\"1\" class=\"dataframe\">\n",
       "  <thead>\n",
       "    <tr style=\"text-align: right;\">\n",
       "      <th></th>\n",
       "      <th>p-value</th>\n",
       "      <th>RDN-B</th>\n",
       "    </tr>\n",
       "  </thead>\n",
       "  <tbody>\n",
       "    <tr>\n",
       "      <th>0</th>\n",
       "      <td>transferRDN-B Ref</td>\n",
       "      <td>0.665</td>\n",
       "    </tr>\n",
       "    <tr>\n",
       "      <th>1</th>\n",
       "      <td>transferRDN-B</td>\n",
       "      <td>0.913</td>\n",
       "    </tr>\n",
       "  </tbody>\n",
       "</table>\n",
       "</div>"
      ],
      "text/plain": [
       "             p-value  RDN-B\n",
       "0  transferRDN-B Ref  0.665\n",
       "1      transferRDN-B  0.913"
      ]
     },
     "metadata": {},
     "output_type": "display_data"
    },
    {
     "name": "stdout",
     "output_type": "stream",
     "text": [
      "Scratch: [-0.614947, -0.603376, -0.580944]\n",
      "Transfer: [-0.564393, -0.559587, -0.695283]\n",
      "Transfer & Revision: [-0.492703, -0.495596, -0.695283]\n",
      "\n",
      "\n",
      "Experiment 8\n",
      "Ttest_relResult(statistic=1.376522969992001, pvalue=0.30250673448188836)\n",
      "Ttest_relResult(statistic=-0.5073920631533787, pvalue=0.6622970017956987)\n"
     ]
    },
    {
     "data": {
      "text/html": [
       "<div>\n",
       "<table border=\"1\" class=\"dataframe\">\n",
       "  <thead>\n",
       "    <tr style=\"text-align: right;\">\n",
       "      <th></th>\n",
       "      <th>p-value</th>\n",
       "      <th>RDN-B</th>\n",
       "    </tr>\n",
       "  </thead>\n",
       "  <tbody>\n",
       "    <tr>\n",
       "      <th>0</th>\n",
       "      <td>transferRDN-B Ref</td>\n",
       "      <td>0.303</td>\n",
       "    </tr>\n",
       "    <tr>\n",
       "      <th>1</th>\n",
       "      <td>transferRDN-B</td>\n",
       "      <td>0.662</td>\n",
       "    </tr>\n",
       "  </tbody>\n",
       "</table>\n",
       "</div>"
      ],
      "text/plain": [
       "             p-value  RDN-B\n",
       "0  transferRDN-B Ref  0.303\n",
       "1      transferRDN-B  0.662"
      ]
     },
     "metadata": {},
     "output_type": "display_data"
    },
    {
     "name": "stdout",
     "output_type": "stream",
     "text": [
      "Scratch: [-0.614029, -0.594081, -0.580068]\n",
      "Transfer: [-0.695067, -0.557688, -0.587569]\n",
      "Transfer & Revision: [-0.635309, -0.517643, -0.492188]\n",
      "\n",
      "\n",
      "Experiment 9\n",
      "Ttest_relResult(statistic=0.3792217256037188, pvalue=0.7409997678681031)\n",
      "Ttest_relResult(statistic=-0.32027022848712494, pvalue=0.7791278157359569)\n"
     ]
    },
    {
     "data": {
      "text/html": [
       "<div>\n",
       "<table border=\"1\" class=\"dataframe\">\n",
       "  <thead>\n",
       "    <tr style=\"text-align: right;\">\n",
       "      <th></th>\n",
       "      <th>p-value</th>\n",
       "      <th>RDN-B</th>\n",
       "    </tr>\n",
       "  </thead>\n",
       "  <tbody>\n",
       "    <tr>\n",
       "      <th>0</th>\n",
       "      <td>transferRDN-B Ref</td>\n",
       "      <td>0.741</td>\n",
       "    </tr>\n",
       "    <tr>\n",
       "      <th>1</th>\n",
       "      <td>transferRDN-B</td>\n",
       "      <td>0.779</td>\n",
       "    </tr>\n",
       "  </tbody>\n",
       "</table>\n",
       "</div>"
      ],
      "text/plain": [
       "             p-value  RDN-B\n",
       "0  transferRDN-B Ref  0.741\n",
       "1      transferRDN-B  0.779"
      ]
     },
     "metadata": {},
     "output_type": "display_data"
    },
    {
     "name": "stdout",
     "output_type": "stream",
     "text": [
      "Scratch: [-0.60788, -0.57524, -0.623762]\n",
      "Transfer: [-0.566389, -0.695026, -0.595181]\n",
      "Transfer & Revision: [-0.514311, -0.695026, -0.513237]\n",
      "\n",
      "\n",
      "Experiment 10\n",
      "Ttest_relResult(statistic=0.8780350566560639, pvalue=0.4725298843825184)\n",
      "Ttest_relResult(statistic=0.31543287210995696, pvalue=0.782304611985873)\n"
     ]
    },
    {
     "data": {
      "text/html": [
       "<div>\n",
       "<table border=\"1\" class=\"dataframe\">\n",
       "  <thead>\n",
       "    <tr style=\"text-align: right;\">\n",
       "      <th></th>\n",
       "      <th>p-value</th>\n",
       "      <th>RDN-B</th>\n",
       "    </tr>\n",
       "  </thead>\n",
       "  <tbody>\n",
       "    <tr>\n",
       "      <th>0</th>\n",
       "      <td>transferRDN-B Ref</td>\n",
       "      <td>0.473</td>\n",
       "    </tr>\n",
       "    <tr>\n",
       "      <th>1</th>\n",
       "      <td>transferRDN-B</td>\n",
       "      <td>0.782</td>\n",
       "    </tr>\n",
       "  </tbody>\n",
       "</table>\n",
       "</div>"
      ],
      "text/plain": [
       "             p-value  RDN-B\n",
       "0  transferRDN-B Ref  0.473\n",
       "1      transferRDN-B  0.782"
      ]
     },
     "metadata": {},
     "output_type": "display_data"
    },
    {
     "name": "stdout",
     "output_type": "stream",
     "text": [
      "Scratch: [-0.624332, -0.606165, -0.626827]\n",
      "Transfer: [-0.564737, -0.558852, -0.69517]\n",
      "Transfer & Revision: [-0.518169, -0.482559, -0.69517]\n",
      "\n",
      "\n"
     ]
    },
    {
     "data": {
      "text/markdown": [
       "## Recall"
      ],
      "text/plain": [
       "<IPython.core.display.Markdown object>"
      ]
     },
     "metadata": {},
     "output_type": "display_data"
    },
    {
     "name": "stdout",
     "output_type": "stream",
     "text": [
      "Experiment 1\n",
      "Ttest_relResult(statistic=5.077753491602765, pvalue=0.03666462871419658)\n",
      "Ttest_relResult(statistic=11.572564929699084, pvalue=0.007384302410055225)\n"
     ]
    },
    {
     "data": {
      "text/html": [
       "<div>\n",
       "<table border=\"1\" class=\"dataframe\">\n",
       "  <thead>\n",
       "    <tr style=\"text-align: right;\">\n",
       "      <th></th>\n",
       "      <th>p-value</th>\n",
       "      <th>RDN-B</th>\n",
       "    </tr>\n",
       "  </thead>\n",
       "  <tbody>\n",
       "    <tr>\n",
       "      <th>0</th>\n",
       "      <td>transferRDN-B Ref</td>\n",
       "      <td>0.037</td>\n",
       "    </tr>\n",
       "    <tr>\n",
       "      <th>1</th>\n",
       "      <td>transferRDN-B</td>\n",
       "      <td>0.007</td>\n",
       "    </tr>\n",
       "  </tbody>\n",
       "</table>\n",
       "</div>"
      ],
      "text/plain": [
       "             p-value  RDN-B\n",
       "0  transferRDN-B Ref  0.037\n",
       "1      transferRDN-B  0.007"
      ]
     },
     "metadata": {},
     "output_type": "display_data"
    },
    {
     "name": "stdout",
     "output_type": "stream",
     "text": [
      "Scratch: [0.312741, 0.374517, 0.244231]\n",
      "Transfer: [0.619691, 0.633205, 0.594231]\n",
      "Transfer & Revision: [0.611969, 0.650579, 0.742308]\n",
      "\n",
      "\n",
      "Experiment 2\n",
      "Ttest_relResult(statistic=1.0656473715265435, pvalue=0.39819901950814784)\n",
      "Ttest_relResult(statistic=0.7281263698716695, pvalue=0.5422460721940021)\n"
     ]
    },
    {
     "data": {
      "text/html": [
       "<div>\n",
       "<table border=\"1\" class=\"dataframe\">\n",
       "  <thead>\n",
       "    <tr style=\"text-align: right;\">\n",
       "      <th></th>\n",
       "      <th>p-value</th>\n",
       "      <th>RDN-B</th>\n",
       "    </tr>\n",
       "  </thead>\n",
       "  <tbody>\n",
       "    <tr>\n",
       "      <th>0</th>\n",
       "      <td>transferRDN-B Ref</td>\n",
       "      <td>0.398</td>\n",
       "    </tr>\n",
       "    <tr>\n",
       "      <th>1</th>\n",
       "      <td>transferRDN-B</td>\n",
       "      <td>0.542</td>\n",
       "    </tr>\n",
       "  </tbody>\n",
       "</table>\n",
       "</div>"
      ],
      "text/plain": [
       "             p-value  RDN-B\n",
       "0  transferRDN-B Ref  0.398\n",
       "1      transferRDN-B  0.542"
      ]
     },
     "metadata": {},
     "output_type": "display_data"
    },
    {
     "name": "stdout",
     "output_type": "stream",
     "text": [
      "Scratch: [0.250965, 0.276062, 0.263462]\n",
      "Transfer: [0.0, 0.623552, 0.598077]\n",
      "Transfer & Revision: [0.061776, 0.658301, 0.726923]\n",
      "\n",
      "\n",
      "Experiment 3\n",
      "Ttest_relResult(statistic=0.6115991109765851, pvalue=0.6030629871211185)\n",
      "Ttest_relResult(statistic=0.5511834687231679, pvalue=0.636860498154342)\n"
     ]
    },
    {
     "data": {
      "text/html": [
       "<div>\n",
       "<table border=\"1\" class=\"dataframe\">\n",
       "  <thead>\n",
       "    <tr style=\"text-align: right;\">\n",
       "      <th></th>\n",
       "      <th>p-value</th>\n",
       "      <th>RDN-B</th>\n",
       "    </tr>\n",
       "  </thead>\n",
       "  <tbody>\n",
       "    <tr>\n",
       "      <th>0</th>\n",
       "      <td>transferRDN-B Ref</td>\n",
       "      <td>0.603</td>\n",
       "    </tr>\n",
       "    <tr>\n",
       "      <th>1</th>\n",
       "      <td>transferRDN-B</td>\n",
       "      <td>0.637</td>\n",
       "    </tr>\n",
       "  </tbody>\n",
       "</table>\n",
       "</div>"
      ],
      "text/plain": [
       "             p-value  RDN-B\n",
       "0  transferRDN-B Ref  0.603\n",
       "1      transferRDN-B  0.637"
      ]
     },
     "metadata": {},
     "output_type": "display_data"
    },
    {
     "name": "stdout",
     "output_type": "stream",
     "text": [
      "Scratch: [0.250965, 0.297297, 0.325]\n",
      "Transfer: [0.623552, 0.621622, 0.0]\n",
      "Transfer & Revision: [0.594595, 0.710425, 0.0]\n",
      "\n",
      "\n",
      "Experiment 4\n",
      "Ttest_relResult(statistic=0.6169743554710717, pvalue=0.6001301436040235)\n",
      "Ttest_relResult(statistic=0.5242874533930016, pvalue=0.6523914316142024)\n"
     ]
    },
    {
     "data": {
      "text/html": [
       "<div>\n",
       "<table border=\"1\" class=\"dataframe\">\n",
       "  <thead>\n",
       "    <tr style=\"text-align: right;\">\n",
       "      <th></th>\n",
       "      <th>p-value</th>\n",
       "      <th>RDN-B</th>\n",
       "    </tr>\n",
       "  </thead>\n",
       "  <tbody>\n",
       "    <tr>\n",
       "      <th>0</th>\n",
       "      <td>transferRDN-B Ref</td>\n",
       "      <td>0.600</td>\n",
       "    </tr>\n",
       "    <tr>\n",
       "      <th>1</th>\n",
       "      <td>transferRDN-B</td>\n",
       "      <td>0.652</td>\n",
       "    </tr>\n",
       "  </tbody>\n",
       "</table>\n",
       "</div>"
      ],
      "text/plain": [
       "             p-value  RDN-B\n",
       "0  transferRDN-B Ref  0.600\n",
       "1      transferRDN-B  0.652"
      ]
     },
     "metadata": {},
     "output_type": "display_data"
    },
    {
     "name": "stdout",
     "output_type": "stream",
     "text": [
      "Scratch: [0.194981, 0.328185, 0.336538]\n",
      "Transfer: [0.619691, 0.0, 0.6]\n",
      "Transfer & Revision: [0.623552, 0.0, 0.678846]\n",
      "\n",
      "\n",
      "Experiment 5\n",
      "Ttest_relResult(statistic=17.469290816057008, pvalue=0.0032607777131112036)\n",
      "Ttest_relResult(statistic=28.602973488058396, pvalue=0.0012200630280520778)\n"
     ]
    },
    {
     "data": {
      "text/html": [
       "<div>\n",
       "<table border=\"1\" class=\"dataframe\">\n",
       "  <thead>\n",
       "    <tr style=\"text-align: right;\">\n",
       "      <th></th>\n",
       "      <th>p-value</th>\n",
       "      <th>RDN-B</th>\n",
       "    </tr>\n",
       "  </thead>\n",
       "  <tbody>\n",
       "    <tr>\n",
       "      <th>0</th>\n",
       "      <td>transferRDN-B Ref</td>\n",
       "      <td>0.003</td>\n",
       "    </tr>\n",
       "    <tr>\n",
       "      <th>1</th>\n",
       "      <td>transferRDN-B</td>\n",
       "      <td>0.001</td>\n",
       "    </tr>\n",
       "  </tbody>\n",
       "</table>\n",
       "</div>"
      ],
      "text/plain": [
       "             p-value  RDN-B\n",
       "0  transferRDN-B Ref  0.003\n",
       "1      transferRDN-B  0.001"
      ]
     },
     "metadata": {},
     "output_type": "display_data"
    },
    {
     "name": "stdout",
     "output_type": "stream",
     "text": [
      "Scratch: [0.310811, 0.291506, 0.294231]\n",
      "Transfer: [0.627413, 0.635135, 0.6]\n",
      "Transfer & Revision: [0.650579, 0.635135, 0.698077]\n",
      "\n",
      "\n",
      "Experiment 6\n",
      "Ttest_relResult(statistic=0.6234570307967642, pvalue=0.5966093356972582)\n",
      "Ttest_relResult(statistic=0.6314609006352713, pvalue=0.5922869463758773)\n"
     ]
    },
    {
     "data": {
      "text/html": [
       "<div>\n",
       "<table border=\"1\" class=\"dataframe\">\n",
       "  <thead>\n",
       "    <tr style=\"text-align: right;\">\n",
       "      <th></th>\n",
       "      <th>p-value</th>\n",
       "      <th>RDN-B</th>\n",
       "    </tr>\n",
       "  </thead>\n",
       "  <tbody>\n",
       "    <tr>\n",
       "      <th>0</th>\n",
       "      <td>transferRDN-B Ref</td>\n",
       "      <td>0.597</td>\n",
       "    </tr>\n",
       "    <tr>\n",
       "      <th>1</th>\n",
       "      <td>transferRDN-B</td>\n",
       "      <td>0.592</td>\n",
       "    </tr>\n",
       "  </tbody>\n",
       "</table>\n",
       "</div>"
      ],
      "text/plain": [
       "             p-value  RDN-B\n",
       "0  transferRDN-B Ref  0.597\n",
       "1      transferRDN-B  0.592"
      ]
     },
     "metadata": {},
     "output_type": "display_data"
    },
    {
     "name": "stdout",
     "output_type": "stream",
     "text": [
      "Scratch: [0.11583, 0.337838, 0.278846]\n",
      "Transfer: [0.611969, 0.0, 0.601923]\n",
      "Transfer & Revision: [0.596525, 0.0, 0.605769]\n",
      "\n",
      "\n",
      "Experiment 7\n",
      "Ttest_relResult(statistic=0.4659438863312886, pvalue=0.6870747456990743)\n",
      "Ttest_relResult(statistic=0.5132448228206866, pvalue=0.6588526681818292)\n"
     ]
    },
    {
     "data": {
      "text/html": [
       "<div>\n",
       "<table border=\"1\" class=\"dataframe\">\n",
       "  <thead>\n",
       "    <tr style=\"text-align: right;\">\n",
       "      <th></th>\n",
       "      <th>p-value</th>\n",
       "      <th>RDN-B</th>\n",
       "    </tr>\n",
       "  </thead>\n",
       "  <tbody>\n",
       "    <tr>\n",
       "      <th>0</th>\n",
       "      <td>transferRDN-B Ref</td>\n",
       "      <td>0.687</td>\n",
       "    </tr>\n",
       "    <tr>\n",
       "      <th>1</th>\n",
       "      <td>transferRDN-B</td>\n",
       "      <td>0.659</td>\n",
       "    </tr>\n",
       "  </tbody>\n",
       "</table>\n",
       "</div>"
      ],
      "text/plain": [
       "             p-value  RDN-B\n",
       "0  transferRDN-B Ref  0.687\n",
       "1      transferRDN-B  0.659"
      ]
     },
     "metadata": {},
     "output_type": "display_data"
    },
    {
     "name": "stdout",
     "output_type": "stream",
     "text": [
      "Scratch: [0.26834, 0.335907, 0.317308]\n",
      "Transfer: [0.6139, 0.637066, 0.0]\n",
      "Transfer & Revision: [0.606178, 0.606178, 0.0]\n",
      "\n",
      "\n",
      "Experiment 8\n",
      "Ttest_relResult(statistic=1.7321209547506187, pvalue=0.22539078290654005)\n",
      "Ttest_relResult(statistic=0.4114159412891656, pvalue=0.7206652262581889)\n"
     ]
    },
    {
     "data": {
      "text/html": [
       "<div>\n",
       "<table border=\"1\" class=\"dataframe\">\n",
       "  <thead>\n",
       "    <tr style=\"text-align: right;\">\n",
       "      <th></th>\n",
       "      <th>p-value</th>\n",
       "      <th>RDN-B</th>\n",
       "    </tr>\n",
       "  </thead>\n",
       "  <tbody>\n",
       "    <tr>\n",
       "      <th>0</th>\n",
       "      <td>transferRDN-B Ref</td>\n",
       "      <td>0.225</td>\n",
       "    </tr>\n",
       "    <tr>\n",
       "      <th>1</th>\n",
       "      <td>transferRDN-B</td>\n",
       "      <td>0.721</td>\n",
       "    </tr>\n",
       "  </tbody>\n",
       "</table>\n",
       "</div>"
      ],
      "text/plain": [
       "             p-value  RDN-B\n",
       "0  transferRDN-B Ref  0.225\n",
       "1      transferRDN-B  0.721"
      ]
     },
     "metadata": {},
     "output_type": "display_data"
    },
    {
     "name": "stdout",
     "output_type": "stream",
     "text": [
      "Scratch: [0.301158, 0.382239, 0.290385]\n",
      "Transfer: [0.0, 0.610039, 0.6]\n",
      "Transfer & Revision: [0.274131, 0.656371, 0.630769]\n",
      "\n",
      "\n",
      "Experiment 9\n",
      "Ttest_relResult(statistic=0.48079105871288075, pvalue=0.6781222026684561)\n",
      "Ttest_relResult(statistic=0.4732441599731783, pvalue=0.6826622238204628)\n"
     ]
    },
    {
     "data": {
      "text/html": [
       "<div>\n",
       "<table border=\"1\" class=\"dataframe\">\n",
       "  <thead>\n",
       "    <tr style=\"text-align: right;\">\n",
       "      <th></th>\n",
       "      <th>p-value</th>\n",
       "      <th>RDN-B</th>\n",
       "    </tr>\n",
       "  </thead>\n",
       "  <tbody>\n",
       "    <tr>\n",
       "      <th>0</th>\n",
       "      <td>transferRDN-B Ref</td>\n",
       "      <td>0.678</td>\n",
       "    </tr>\n",
       "    <tr>\n",
       "      <th>1</th>\n",
       "      <td>transferRDN-B</td>\n",
       "      <td>0.683</td>\n",
       "    </tr>\n",
       "  </tbody>\n",
       "</table>\n",
       "</div>"
      ],
      "text/plain": [
       "             p-value  RDN-B\n",
       "0  transferRDN-B Ref  0.678\n",
       "1      transferRDN-B  0.683"
      ]
     },
     "metadata": {},
     "output_type": "display_data"
    },
    {
     "name": "stdout",
     "output_type": "stream",
     "text": [
      "Scratch: [0.287645, 0.349421, 0.257692]\n",
      "Transfer: [0.621622, 0.0, 0.598077]\n",
      "Transfer & Revision: [0.604247, 0.0, 0.623077]\n",
      "\n",
      "\n",
      "Experiment 10\n",
      "Ttest_relResult(statistic=0.6262351786784631, pvalue=0.5951059495164728)\n",
      "Ttest_relResult(statistic=0.6025358145447346, pvalue=0.608035743448616)\n"
     ]
    },
    {
     "data": {
      "text/html": [
       "<div>\n",
       "<table border=\"1\" class=\"dataframe\">\n",
       "  <thead>\n",
       "    <tr style=\"text-align: right;\">\n",
       "      <th></th>\n",
       "      <th>p-value</th>\n",
       "      <th>RDN-B</th>\n",
       "    </tr>\n",
       "  </thead>\n",
       "  <tbody>\n",
       "    <tr>\n",
       "      <th>0</th>\n",
       "      <td>transferRDN-B Ref</td>\n",
       "      <td>0.595</td>\n",
       "    </tr>\n",
       "    <tr>\n",
       "      <th>1</th>\n",
       "      <td>transferRDN-B</td>\n",
       "      <td>0.608</td>\n",
       "    </tr>\n",
       "  </tbody>\n",
       "</table>\n",
       "</div>"
      ],
      "text/plain": [
       "             p-value  RDN-B\n",
       "0  transferRDN-B Ref  0.595\n",
       "1      transferRDN-B  0.608"
      ]
     },
     "metadata": {},
     "output_type": "display_data"
    },
    {
     "name": "stdout",
     "output_type": "stream",
     "text": [
      "Scratch: [0.249035, 0.337838, 0.290385]\n",
      "Transfer: [0.627413, 0.629344, 0.0]\n",
      "Transfer & Revision: [0.621622, 0.65444, 0.0]\n",
      "\n",
      "\n"
     ]
    },
    {
     "data": {
      "text/markdown": [
       "## F1"
      ],
      "text/plain": [
       "<IPython.core.display.Markdown object>"
      ]
     },
     "metadata": {},
     "output_type": "display_data"
    },
    {
     "name": "stdout",
     "output_type": "stream",
     "text": [
      "Experiment 1\n",
      "Ttest_relResult(statistic=6.034253599440386, pvalue=0.02638137287299283)\n",
      "Ttest_relResult(statistic=8.266356435784338, pvalue=0.014320688941011914)\n"
     ]
    },
    {
     "data": {
      "text/html": [
       "<div>\n",
       "<table border=\"1\" class=\"dataframe\">\n",
       "  <thead>\n",
       "    <tr style=\"text-align: right;\">\n",
       "      <th></th>\n",
       "      <th>p-value</th>\n",
       "      <th>RDN-B</th>\n",
       "    </tr>\n",
       "  </thead>\n",
       "  <tbody>\n",
       "    <tr>\n",
       "      <th>0</th>\n",
       "      <td>transferRDN-B Ref</td>\n",
       "      <td>0.026</td>\n",
       "    </tr>\n",
       "    <tr>\n",
       "      <th>1</th>\n",
       "      <td>transferRDN-B</td>\n",
       "      <td>0.014</td>\n",
       "    </tr>\n",
       "  </tbody>\n",
       "</table>\n",
       "</div>"
      ],
      "text/plain": [
       "             p-value  RDN-B\n",
       "0  transferRDN-B Ref  0.026\n",
       "1      transferRDN-B  0.014"
      ]
     },
     "metadata": {},
     "output_type": "display_data"
    },
    {
     "name": "stdout",
     "output_type": "stream",
     "text": [
      "Scratch: [0.461538, 0.526459, 0.385432]\n",
      "Transfer: [0.70472, 0.713043, 0.671739]\n",
      "Transfer & Revision: [0.7254, 0.749722, 0.768924]\n",
      "\n",
      "\n",
      "Experiment 2\n",
      "Ttest_relResult(statistic=0.6489295193340934, pvalue=0.5829478998094068)\n",
      "Ttest_relResult(statistic=nan, pvalue=nan)\n"
     ]
    },
    {
     "data": {
      "text/html": [
       "<div>\n",
       "<table border=\"1\" class=\"dataframe\">\n",
       "  <thead>\n",
       "    <tr style=\"text-align: right;\">\n",
       "      <th></th>\n",
       "      <th>p-value</th>\n",
       "      <th>RDN-B</th>\n",
       "    </tr>\n",
       "  </thead>\n",
       "  <tbody>\n",
       "    <tr>\n",
       "      <th>0</th>\n",
       "      <td>transferRDN-B Ref</td>\n",
       "      <td>0.583</td>\n",
       "    </tr>\n",
       "    <tr>\n",
       "      <th>1</th>\n",
       "      <td>transferRDN-B</td>\n",
       "      <td>nan</td>\n",
       "    </tr>\n",
       "  </tbody>\n",
       "</table>\n",
       "</div>"
      ],
      "text/plain": [
       "             p-value  RDN-B\n",
       "0  transferRDN-B Ref  0.583\n",
       "1      transferRDN-B    nan"
      ]
     },
     "metadata": {},
     "output_type": "display_data"
    },
    {
     "name": "stdout",
     "output_type": "stream",
     "text": [
      "Scratch: [0.396947, 0.428786, 0.406528]\n",
      "Transfer: [nan, 0.70989, 0.672432]\n",
      "Transfer & Revision: [0.116152, 0.756098, 0.765182]\n",
      "\n",
      "\n",
      "Experiment 3\n",
      "Ttest_relResult(statistic=nan, pvalue=nan)\n",
      "Ttest_relResult(statistic=nan, pvalue=nan)\n"
     ]
    },
    {
     "data": {
      "text/html": [
       "<div>\n",
       "<table border=\"1\" class=\"dataframe\">\n",
       "  <thead>\n",
       "    <tr style=\"text-align: right;\">\n",
       "      <th></th>\n",
       "      <th>p-value</th>\n",
       "      <th>RDN-B</th>\n",
       "    </tr>\n",
       "  </thead>\n",
       "  <tbody>\n",
       "    <tr>\n",
       "      <th>0</th>\n",
       "      <td>transferRDN-B Ref</td>\n",
       "      <td>nan</td>\n",
       "    </tr>\n",
       "    <tr>\n",
       "      <th>1</th>\n",
       "      <td>transferRDN-B</td>\n",
       "      <td>nan</td>\n",
       "    </tr>\n",
       "  </tbody>\n",
       "</table>\n",
       "</div>"
      ],
      "text/plain": [
       "             p-value RDN-B\n",
       "0  transferRDN-B Ref   nan\n",
       "1      transferRDN-B   nan"
      ]
     },
     "metadata": {},
     "output_type": "display_data"
    },
    {
     "name": "stdout",
     "output_type": "stream",
     "text": [
      "Scratch: [0.393939, 0.444444, 0.473389]\n",
      "Transfer: [0.704471, 0.70614, nan]\n",
      "Transfer & Revision: [0.711316, 0.774737, nan]\n",
      "\n",
      "\n",
      "Experiment 4\n",
      "Ttest_relResult(statistic=nan, pvalue=nan)\n",
      "Ttest_relResult(statistic=nan, pvalue=nan)\n"
     ]
    },
    {
     "data": {
      "text/html": [
       "<div>\n",
       "<table border=\"1\" class=\"dataframe\">\n",
       "  <thead>\n",
       "    <tr style=\"text-align: right;\">\n",
       "      <th></th>\n",
       "      <th>p-value</th>\n",
       "      <th>RDN-B</th>\n",
       "    </tr>\n",
       "  </thead>\n",
       "  <tbody>\n",
       "    <tr>\n",
       "      <th>0</th>\n",
       "      <td>transferRDN-B Ref</td>\n",
       "      <td>nan</td>\n",
       "    </tr>\n",
       "    <tr>\n",
       "      <th>1</th>\n",
       "      <td>transferRDN-B</td>\n",
       "      <td>nan</td>\n",
       "    </tr>\n",
       "  </tbody>\n",
       "</table>\n",
       "</div>"
      ],
      "text/plain": [
       "             p-value RDN-B\n",
       "0  transferRDN-B Ref   nan\n",
       "1      transferRDN-B   nan"
      ]
     },
     "metadata": {},
     "output_type": "display_data"
    },
    {
     "name": "stdout",
     "output_type": "stream",
     "text": [
      "Scratch: [0.324759, 0.482955, 0.486787]\n",
      "Transfer: [0.703947, nan, 0.674595]\n",
      "Transfer & Revision: [0.729944, nan, 0.738494]\n",
      "\n",
      "\n",
      "Experiment 5\n",
      "Ttest_relResult(statistic=27.236956680186506, pvalue=0.0013452586519068954)\n",
      "Ttest_relResult(statistic=25.604187837281902, pvalue=0.0015218984737683612)\n"
     ]
    },
    {
     "data": {
      "text/html": [
       "<div>\n",
       "<table border=\"1\" class=\"dataframe\">\n",
       "  <thead>\n",
       "    <tr style=\"text-align: right;\">\n",
       "      <th></th>\n",
       "      <th>p-value</th>\n",
       "      <th>RDN-B</th>\n",
       "    </tr>\n",
       "  </thead>\n",
       "  <tbody>\n",
       "    <tr>\n",
       "      <th>0</th>\n",
       "      <td>transferRDN-B Ref</td>\n",
       "      <td>0.001</td>\n",
       "    </tr>\n",
       "    <tr>\n",
       "      <th>1</th>\n",
       "      <td>transferRDN-B</td>\n",
       "      <td>0.002</td>\n",
       "    </tr>\n",
       "  </tbody>\n",
       "</table>\n",
       "</div>"
      ],
      "text/plain": [
       "             p-value  RDN-B\n",
       "0  transferRDN-B Ref  0.001\n",
       "1      transferRDN-B  0.002"
      ]
     },
     "metadata": {},
     "output_type": "display_data"
    },
    {
     "name": "stdout",
     "output_type": "stream",
     "text": [
      "Scratch: [0.463977, 0.446746, 0.437768]\n",
      "Transfer: [0.706522, 0.715217, 0.674595]\n",
      "Transfer & Revision: [0.744751, 0.742664, 0.75625]\n",
      "\n",
      "\n",
      "Experiment 6\n",
      "Ttest_relResult(statistic=nan, pvalue=nan)\n",
      "Ttest_relResult(statistic=nan, pvalue=nan)\n"
     ]
    },
    {
     "data": {
      "text/html": [
       "<div>\n",
       "<table border=\"1\" class=\"dataframe\">\n",
       "  <thead>\n",
       "    <tr style=\"text-align: right;\">\n",
       "      <th></th>\n",
       "      <th>p-value</th>\n",
       "      <th>RDN-B</th>\n",
       "    </tr>\n",
       "  </thead>\n",
       "  <tbody>\n",
       "    <tr>\n",
       "      <th>0</th>\n",
       "      <td>transferRDN-B Ref</td>\n",
       "      <td>nan</td>\n",
       "    </tr>\n",
       "    <tr>\n",
       "      <th>1</th>\n",
       "      <td>transferRDN-B</td>\n",
       "      <td>nan</td>\n",
       "    </tr>\n",
       "  </tbody>\n",
       "</table>\n",
       "</div>"
      ],
      "text/plain": [
       "             p-value RDN-B\n",
       "0  transferRDN-B Ref   nan\n",
       "1      transferRDN-B   nan"
      ]
     },
     "metadata": {},
     "output_type": "display_data"
    },
    {
     "name": "stdout",
     "output_type": "stream",
     "text": [
      "Scratch: [0.206897, 0.490196, 0.422741]\n",
      "Transfer: [0.700552, nan, 0.674569]\n",
      "Transfer & Revision: [0.714451, nan, 0.707865]\n",
      "\n",
      "\n",
      "Experiment 7\n",
      "Ttest_relResult(statistic=nan, pvalue=nan)\n",
      "Ttest_relResult(statistic=nan, pvalue=nan)\n"
     ]
    },
    {
     "data": {
      "text/html": [
       "<div>\n",
       "<table border=\"1\" class=\"dataframe\">\n",
       "  <thead>\n",
       "    <tr style=\"text-align: right;\">\n",
       "      <th></th>\n",
       "      <th>p-value</th>\n",
       "      <th>RDN-B</th>\n",
       "    </tr>\n",
       "  </thead>\n",
       "  <tbody>\n",
       "    <tr>\n",
       "      <th>0</th>\n",
       "      <td>transferRDN-B Ref</td>\n",
       "      <td>nan</td>\n",
       "    </tr>\n",
       "    <tr>\n",
       "      <th>1</th>\n",
       "      <td>transferRDN-B</td>\n",
       "      <td>nan</td>\n",
       "    </tr>\n",
       "  </tbody>\n",
       "</table>\n",
       "</div>"
      ],
      "text/plain": [
       "             p-value RDN-B\n",
       "0  transferRDN-B Ref   nan\n",
       "1      transferRDN-B   nan"
      ]
     },
     "metadata": {},
     "output_type": "display_data"
    },
    {
     "name": "stdout",
     "output_type": "stream",
     "text": [
      "Scratch: [0.411243, 0.483333, 0.461538]\n",
      "Transfer: [0.696605, 0.713514, nan]\n",
      "Transfer & Revision: [0.719359, 0.719359, nan]\n",
      "\n",
      "\n",
      "Experiment 8\n",
      "Ttest_relResult(statistic=1.4970961761825383, pvalue=0.273056997436614)\n",
      "Ttest_relResult(statistic=nan, pvalue=nan)\n"
     ]
    },
    {
     "data": {
      "text/html": [
       "<div>\n",
       "<table border=\"1\" class=\"dataframe\">\n",
       "  <thead>\n",
       "    <tr style=\"text-align: right;\">\n",
       "      <th></th>\n",
       "      <th>p-value</th>\n",
       "      <th>RDN-B</th>\n",
       "    </tr>\n",
       "  </thead>\n",
       "  <tbody>\n",
       "    <tr>\n",
       "      <th>0</th>\n",
       "      <td>transferRDN-B Ref</td>\n",
       "      <td>0.273</td>\n",
       "    </tr>\n",
       "    <tr>\n",
       "      <th>1</th>\n",
       "      <td>transferRDN-B</td>\n",
       "      <td>nan</td>\n",
       "    </tr>\n",
       "  </tbody>\n",
       "</table>\n",
       "</div>"
      ],
      "text/plain": [
       "             p-value  RDN-B\n",
       "0  transferRDN-B Ref  0.273\n",
       "1      transferRDN-B    nan"
      ]
     },
     "metadata": {},
     "output_type": "display_data"
    },
    {
     "name": "stdout",
     "output_type": "stream",
     "text": [
      "Scratch: [0.454148, 0.538776, 0.434532]\n",
      "Transfer: [nan, 0.699889, 0.674595]\n",
      "Transfer & Revision: [0.411594, 0.737527, 0.732961]\n",
      "\n",
      "\n",
      "Experiment 9\n",
      "Ttest_relResult(statistic=nan, pvalue=nan)\n",
      "Ttest_relResult(statistic=nan, pvalue=nan)\n"
     ]
    },
    {
     "data": {
      "text/html": [
       "<div>\n",
       "<table border=\"1\" class=\"dataframe\">\n",
       "  <thead>\n",
       "    <tr style=\"text-align: right;\">\n",
       "      <th></th>\n",
       "      <th>p-value</th>\n",
       "      <th>RDN-B</th>\n",
       "    </tr>\n",
       "  </thead>\n",
       "  <tbody>\n",
       "    <tr>\n",
       "      <th>0</th>\n",
       "      <td>transferRDN-B Ref</td>\n",
       "      <td>nan</td>\n",
       "    </tr>\n",
       "    <tr>\n",
       "      <th>1</th>\n",
       "      <td>transferRDN-B</td>\n",
       "      <td>nan</td>\n",
       "    </tr>\n",
       "  </tbody>\n",
       "</table>\n",
       "</div>"
      ],
      "text/plain": [
       "             p-value RDN-B\n",
       "0  transferRDN-B Ref   nan\n",
       "1      transferRDN-B   nan"
      ]
     },
     "metadata": {},
     "output_type": "display_data"
    },
    {
     "name": "stdout",
     "output_type": "stream",
     "text": [
      "Scratch: [0.435036, 0.500692, 0.397037]\n",
      "Transfer: [0.70229, nan, 0.67316]\n",
      "Transfer & Revision: [0.71789, nan, 0.722408]\n",
      "\n",
      "\n",
      "Experiment 10\n",
      "Ttest_relResult(statistic=nan, pvalue=nan)\n",
      "Ttest_relResult(statistic=nan, pvalue=nan)\n"
     ]
    },
    {
     "data": {
      "text/html": [
       "<div>\n",
       "<table border=\"1\" class=\"dataframe\">\n",
       "  <thead>\n",
       "    <tr style=\"text-align: right;\">\n",
       "      <th></th>\n",
       "      <th>p-value</th>\n",
       "      <th>RDN-B</th>\n",
       "    </tr>\n",
       "  </thead>\n",
       "  <tbody>\n",
       "    <tr>\n",
       "      <th>0</th>\n",
       "      <td>transferRDN-B Ref</td>\n",
       "      <td>nan</td>\n",
       "    </tr>\n",
       "    <tr>\n",
       "      <th>1</th>\n",
       "      <td>transferRDN-B</td>\n",
       "      <td>nan</td>\n",
       "    </tr>\n",
       "  </tbody>\n",
       "</table>\n",
       "</div>"
      ],
      "text/plain": [
       "             p-value RDN-B\n",
       "0  transferRDN-B Ref   nan\n",
       "1      transferRDN-B   nan"
      ]
     },
     "metadata": {},
     "output_type": "display_data"
    },
    {
     "name": "stdout",
     "output_type": "stream",
     "text": [
      "Scratch: [0.394495, 0.488827, 0.436416]\n",
      "Transfer: [0.706522, 0.712568, nan]\n",
      "Transfer & Revision: [0.726862, 0.752497, nan]\n",
      "\n",
      "\n"
     ]
    },
    {
     "data": {
      "text/markdown": [
       "## Precision"
      ],
      "text/plain": [
       "<IPython.core.display.Markdown object>"
      ]
     },
     "metadata": {},
     "output_type": "display_data"
    },
    {
     "name": "stdout",
     "output_type": "stream",
     "text": [
      "Experiment 1\n",
      "Scratch: [0.880435, 0.885845, 0.913669]\n",
      "Transfer: [0.816794, 0.81592, 0.7725]\n",
      "Transfer & Revision: [0.890449, 0.884514, 0.797521]\n",
      "\n",
      "\n",
      "Experiment 2\n",
      "Scratch: [0.948905, 0.959732, 0.88961]\n",
      "Transfer: [nan, 0.82398, 0.767901]\n",
      "Transfer & Revision: [0.969697, 0.888021, 0.807692]\n",
      "\n",
      "\n",
      "Experiment 3\n",
      "Scratch: [0.915493, 0.88, 0.871134]\n",
      "Transfer: [0.809524, 0.817259, nan]\n",
      "Transfer & Revision: [0.885057, 0.851852, nan]\n",
      "\n",
      "\n",
      "Experiment 4\n",
      "Scratch: [0.971154, 0.913978, 0.879397]\n",
      "Transfer: [0.814721, nan, 0.77037]\n",
      "Transfer & Revision: [0.880109, nan, 0.809633]\n",
      "\n",
      "\n",
      "Experiment 5\n",
      "Scratch: [0.914773, 0.955696, 0.854749]\n",
      "Transfer: [0.808458, 0.818408, 0.77037]\n",
      "Transfer & Revision: [0.870801, 0.894022, 0.825]\n",
      "\n",
      "\n",
      "Experiment 6\n",
      "Scratch: [0.967742, 0.892857, 0.873494]\n",
      "Transfer: [0.819121, nan, 0.767157]\n",
      "Transfer & Revision: [0.89049, nan, 0.851351]\n",
      "\n",
      "\n",
      "Experiment 7\n",
      "Scratch: [0.879747, 0.861386, 0.846154]\n",
      "Transfer: [0.805063, 0.810811, nan]\n",
      "Transfer & Revision: [0.884507, 0.884507, nan]\n",
      "\n",
      "\n",
      "Experiment 8\n",
      "Scratch: [0.923077, 0.912442, 0.862857]\n",
      "Transfer: [nan, 0.820779, 0.77037]\n",
      "Transfer & Revision: [0.825581, 0.841584, 0.874667]\n",
      "\n",
      "\n",
      "Experiment 9\n",
      "Scratch: [0.892216, 0.882927, 0.864516]\n",
      "Transfer: [0.807018, nan, 0.769802]\n",
      "Transfer & Revision: [0.884181, nan, 0.859416]\n",
      "\n",
      "\n",
      "Experiment 10\n",
      "Scratch: [0.948529, 0.883838, 0.877907]\n",
      "Transfer: [0.808458, 0.821159, nan]\n",
      "Transfer & Revision: [0.875, 0.885117, nan]\n",
      "\n",
      "\n"
     ]
    },
    {
     "data": {
      "text/markdown": [
       "## Learning and Revision time"
      ],
      "text/plain": [
       "<IPython.core.display.Markdown object>"
      ]
     },
     "metadata": {},
     "output_type": "display_data"
    },
    {
     "name": "stdout",
     "output_type": "stream",
     "text": [
      "Experiment 1\n",
      "Scratch: [16.204, 14.323, 14.35]\n",
      "Transfer: ['16.869 (39.8)', '13.512 (30.6)', '19.633 (28.8)']\n",
      "Transfer & Revision: ['37.626999999999995 (39.8)', '33.444 (30.6)', '55.476 (28.8)']\n",
      "\n",
      "\n",
      "Experiment 2\n",
      "Scratch: [11.106, 14.958, 51.758]\n",
      "Transfer: ['72.061 (30.7)', '13.477 (29.1)', '13.411 (29.0)']\n",
      "Transfer & Revision: ['134.048 (30.7)', '41.217 (29.1)', '33.93 (29.0)']\n",
      "\n",
      "\n",
      "Experiment 3\n",
      "Scratch: [45.047, 9.933, 15.403]\n",
      "Transfer: ['10.531 (32.8)', '10.507 (28.6)', '70.357 (28.9)']\n",
      "Transfer & Revision: ['56.305 (32.8)', '91.989 (28.6)', '117.79599999999999 (28.9)']\n",
      "\n",
      "\n",
      "Experiment 4\n",
      "Scratch: [7.818, 13.267, 21.967]\n",
      "Transfer: ['13.1 (24.8)', '43.328 (25.3)', '13.907 (25.0)']\n",
      "Transfer & Revision: ['26.973 (24.8)', '93.035 (25.3)', '26.761 (25.0)']\n",
      "\n",
      "\n",
      "Experiment 5\n",
      "Scratch: [17.23, 8.712, 12.305]\n",
      "Transfer: ['8.648 (25.0)', '9.164 (24.3)', '62.952 (27.7)']\n",
      "Transfer & Revision: ['22.784 (25.0)', '23.026 (24.3)', '96.55 (27.7)']\n",
      "\n",
      "\n",
      "Experiment 6\n",
      "Scratch: [7.37, 12.205, 31.709]\n",
      "Transfer: ['11.452 (26.9)', '53.642 (26.1)', '13.236 (26.0)']\n",
      "Transfer & Revision: ['23.032 (26.9)', '129.314 (26.1)', '36.872 (26.0)']\n",
      "\n",
      "\n",
      "Experiment 7\n",
      "Scratch: [10.32, 8.102, 21.078]\n",
      "Transfer: ['8.869 (24.9)', '10.704 (25.5)', '69.968 (25.0)']\n",
      "Transfer & Revision: ['24.601 (24.9)', '22.789 (25.5)', '140.98000000000002 (25.0)']\n",
      "\n",
      "\n",
      "Experiment 8\n",
      "Scratch: [9.763, 9.201, 16.899]\n",
      "Transfer: ['25.911 (28.3)', '10.247 (25.2)', '13.383 (27.5)']\n",
      "Transfer & Revision: ['71.487 (28.3)', '29.179 (25.2)', '39.861000000000004 (27.5)']\n",
      "\n",
      "\n",
      "Experiment 9\n",
      "Scratch: [15.467, 13.631, 9.571]\n",
      "Transfer: ['9.452 (24.5)', '41.14 (27.3)', '11.918 (25.3)']\n",
      "Transfer & Revision: ['21.764 (24.5)', '81.42 (27.3)', '37.922 (25.3)']\n",
      "\n",
      "\n",
      "Experiment 10\n",
      "Scratch: [14.027, 15.844, 8.787]\n",
      "Transfer: ['9.904 (24.4)', '10.453 (25.8)', '67.029 (28.0)']\n",
      "Transfer & Revision: ['28.733999999999998 (24.4)', '29.354 (25.8)', '129.786 (28.0)']\n",
      "\n",
      "\n"
     ]
    },
    {
     "data": {
      "text/markdown": [
       "## Inference time"
      ],
      "text/plain": [
       "<IPython.core.display.Markdown object>"
      ]
     },
     "metadata": {},
     "output_type": "display_data"
    },
    {
     "name": "stdout",
     "output_type": "stream",
     "text": [
      "Experiment 1\n",
      "Scratch: [2.056, 1.952, 2.428]\n",
      "Transfer: [4.586, 3.645, 3.288]\n",
      "Transfer & Revision: [3.209, 2.538, 3.011]\n",
      "\n",
      "\n",
      "Experiment 2\n",
      "Scratch: [2.093, 1.935, 1.994]\n",
      "Transfer: [12.716, 3.568, 3.502]\n",
      "Transfer & Revision: [10.431, 3.212, 2.704]\n",
      "\n",
      "\n",
      "Experiment 3\n",
      "Scratch: [1.36, 1.595, 1.721]\n",
      "Transfer: [3.016, 3.044, 9.56]\n",
      "Transfer & Revision: [3.832, 2.297, 9.739]\n",
      "\n",
      "\n",
      "Experiment 4\n",
      "Scratch: [1.266, 1.351, 1.61]\n",
      "Transfer: [3.33, 9.069, 2.842]\n",
      "Transfer & Revision: [2.54, 9.691, 1.885]\n",
      "\n",
      "\n",
      "Experiment 5\n",
      "Scratch: [1.421, 1.175, 1.534]\n",
      "Transfer: [3.092, 2.918, 2.713]\n",
      "Transfer & Revision: [2.014, 2.113, 2.138]\n",
      "\n",
      "\n",
      "Experiment 6\n",
      "Scratch: [1.361, 1.477, 1.6]\n",
      "Transfer: [2.659, 12.488, 3.132]\n",
      "Transfer & Revision: [2.326, 12.812, 2.298]\n",
      "\n",
      "\n",
      "Experiment 7\n",
      "Scratch: [1.113, 1.363, 1.789]\n",
      "Transfer: [2.897, 2.944, 13.023]\n",
      "Transfer & Revision: [2.076, 2.113, 13.672]\n",
      "\n",
      "\n",
      "Experiment 8\n",
      "Scratch: [1.391, 1.598, 1.62]\n",
      "Transfer: [4.996, 2.794, 3.808]\n",
      "Transfer & Revision: [6.792, 2.185, 1.999]\n",
      "\n",
      "\n",
      "Experiment 9\n",
      "Scratch: [1.367, 1.591, 1.432]\n",
      "Transfer: [3.013, 9.496, 3.146]\n",
      "Transfer & Revision: [2.543, 8.995, 2.155]\n",
      "\n",
      "\n",
      "Experiment 10\n",
      "Scratch: [1.276, 1.41, 1.376]\n",
      "Transfer: [3.285, 3.207, 14.616]\n",
      "Transfer & Revision: [2.072, 2.183, 15.694]\n",
      "\n",
      "\n"
     ]
    },
    {
     "data": {
      "text/markdown": [
       "# Results for 38_nell_finances_nell_sports"
      ],
      "text/plain": [
       "<IPython.core.display.Markdown object>"
      ]
     },
     "metadata": {},
     "output_type": "display_data"
    },
    {
     "data": {
      "text/markdown": [
       "# Results for 39_nell_finances_nell_sports"
      ],
      "text/plain": [
       "<IPython.core.display.Markdown object>"
      ]
     },
     "metadata": {},
     "output_type": "display_data"
    },
    {
     "data": {
      "text/markdown": [
       "# Results for 40_nell_finances_nell_sports"
      ],
      "text/plain": [
       "<IPython.core.display.Markdown object>"
      ]
     },
     "metadata": {},
     "output_type": "display_data"
    },
    {
     "data": {
      "text/markdown": [
       "# Results for 41_nell_finances_nell_sports"
      ],
      "text/plain": [
       "<IPython.core.display.Markdown object>"
      ]
     },
     "metadata": {},
     "output_type": "display_data"
    },
    {
     "data": {
      "text/markdown": [
       "# Results for 42_nell_finances_nell_sports"
      ],
      "text/plain": [
       "<IPython.core.display.Markdown object>"
      ]
     },
     "metadata": {},
     "output_type": "display_data"
    },
    {
     "data": {
      "text/markdown": [
       "# Results for 43_nell_finances_nell_sports"
      ],
      "text/plain": [
       "<IPython.core.display.Markdown object>"
      ]
     },
     "metadata": {},
     "output_type": "display_data"
    },
    {
     "data": {
      "text/markdown": [
       "# Results for 44_nell_finances_nell_sports"
      ],
      "text/plain": [
       "<IPython.core.display.Markdown object>"
      ]
     },
     "metadata": {},
     "output_type": "display_data"
    },
    {
     "data": {
      "text/markdown": [
       "# Results for 45_nell_finances_nell_sports"
      ],
      "text/plain": [
       "<IPython.core.display.Markdown object>"
      ]
     },
     "metadata": {},
     "output_type": "display_data"
    },
    {
     "data": {
      "text/markdown": [
       "# Results for 46_nell_finances_nell_sports"
      ],
      "text/plain": [
       "<IPython.core.display.Markdown object>"
      ]
     },
     "metadata": {},
     "output_type": "display_data"
    },
    {
     "data": {
      "text/markdown": [
       "# Results for 47_yeast_facebook"
      ],
      "text/plain": [
       "<IPython.core.display.Markdown object>"
      ]
     },
     "metadata": {},
     "output_type": "display_data"
    },
    {
     "data": {
      "text/markdown": [
       "# Results for 48_twitter_facebook"
      ],
      "text/plain": [
       "<IPython.core.display.Markdown object>"
      ]
     },
     "metadata": {},
     "output_type": "display_data"
    },
    {
     "data": {
      "text/markdown": [
       "# Results for 49_imdb_facebook"
      ],
      "text/plain": [
       "<IPython.core.display.Markdown object>"
      ]
     },
     "metadata": {},
     "output_type": "display_data"
    },
    {
     "data": {
      "text/markdown": [
       "# Results for 50_uwcse_facebook"
      ],
      "text/plain": [
       "<IPython.core.display.Markdown object>"
      ]
     },
     "metadata": {},
     "output_type": "display_data"
    }
   ],
   "source": [
    "for j in range(len(experiments)):\n",
    "    dataset = experiments[j]['id'] + '_' + experiments[j]['source'] + '_' + experiments[j]['target']\n",
    "    display(Markdown('# Results for ' + dataset))\n",
    "    table = []\n",
    "    for metric in ['AUC ROC', 'AUC PR', 'CLL', 'Recall', 'F1', 'Precision', 'Learning and Revision time', 'Inference time']:\n",
    "    #for metric in ['AUC ROC', 'AUC PR']:\n",
    "        if dataset in data['results']: \n",
    "            #for metric in ['AUC ROC', 'AUC PR']:\n",
    "            display(Markdown('## ' + metric))\n",
    "            if metric == 'Precision':\n",
    "                for m in range(len(data['results'][str(dataset)])):\n",
    "                    print('Experiment %s' % (m+1))\n",
    "                    sc = [item['scratch']['Precision'][0] for item in data['results'][str(dataset)][m]]\n",
    "                    pr = [item['transfer']['Parameter Learning results']['Precision'][0] for item in data['results'][str(dataset)][m]]\n",
    "                    tr = [item['transfer']['Precision'][0] for item in data['results'][str(dataset)][m]] \n",
    "                    print('Scratch: %s' % sc)\n",
    "                    print('Transfer: %s' % pr)\n",
    "                    print('Transfer & Revision: %s' % tr) \n",
    "                    print('\\n')\n",
    "                #scratch = np.array([item['scratch']['Precision'][0] for sublist in data['results'][str(dataset)] for item in sublist])\n",
    "                #parameter = np.array([item['transfer']['Parameter Learning results']['Precision'][0] for sublist in data['results'][str(dataset)] for item in sublist])\n",
    "                #transfer = np.array([item['transfer']['Precision'][0] for sublist in data['results'][str(dataset)] for item in sublist])\n",
    "            elif metric == 'Learning and Revision time':\n",
    "                for m in range(len(data['results'][str(dataset)])):\n",
    "                    print('Experiment %s' % (m+1))\n",
    "                    sc = [item['scratch']['Learning time'] for item in data['results'][str(dataset)][m]]\n",
    "                    pr = ['%s (%.1f)' % (item['transfer']['Parameter Learning results']['Learning time'], item['transfer']['Mapping results']['Total time']) for item in data['results'][str(dataset)][m]]\n",
    "                    tr = ['%s (%.1f)' % (item['transfer']['Learning time'], item['transfer']['Mapping results']['Total time']) for item in data['results'][str(dataset)][m]] \n",
    "                    print('Scratch: %s' % sc)\n",
    "                    print('Transfer: %s' % pr)\n",
    "                    print('Transfer & Revision: %s' % tr) \n",
    "                    print('\\n')\n",
    "                #scratch = np.array([item['scratch']['Learning time'] for sublist in data['results'][str(dataset)] for item in sublist])\n",
    "                #parameter = np.array([item['transfer']['Parameter Learning results']['Learning time'] for sublist in data['results'][str(dataset)] for item in sublist])\n",
    "                #transfer = np.array([item['transfer']['Learning time'] for sublist in data['results'][str(dataset)] for item in sublist])\n",
    "            elif metric == 'Inference time':\n",
    "                for m in range(len(data['results'][str(dataset)])):\n",
    "                    print('Experiment %s' % (m+1))\n",
    "                    sc = [item['scratch']['Inference time'] for item in data['results'][str(dataset)][m]]\n",
    "                    pr = [item['transfer']['Parameter Learning results']['Inference time'] for item in data['results'][str(dataset)][m]]\n",
    "                    tr = [item['transfer']['Inference time'] for item in data['results'][str(dataset)][m]] \n",
    "                    print('Scratch: %s' % sc)\n",
    "                    print('Transfer: %s' % pr)\n",
    "                    print('Transfer & Revision: %s' % tr) \n",
    "                    print('\\n')\n",
    "                #scratch = np.array([item['scratch']['Inference time'] for sublist in data['results'][str(dataset)] for item in sublist])\n",
    "                #parameter = np.array([item['transfer']['Parameter Learning results']['Learning time'] for sublist in data['results'][str(dataset)] for item in sublist])\n",
    "                #transfer = np.array([item['transfer']['Inference time'] for sublist in data['results'][str(dataset)] for item in sublist])\n",
    "            else:\n",
    "                for m in range(len(data['results'][str(dataset)])):\n",
    "                    print('Experiment %s' % (m+1))\n",
    "                    sc = [item['scratch'][metric] for item in data['results'][str(dataset)][m]]\n",
    "                    pr = [item['transfer']['Parameter Learning results'][metric] for item in data['results'][str(dataset)][m]]\n",
    "                    tr = [item['transfer'][metric] for item in data['results'][str(dataset)][m]] \n",
    "                    pvalue = stats.ttest_rel(tr,sc)\n",
    "                    print(pvalue)\n",
    "                    pvalue_table = []\n",
    "                    pvalue_table.append(['transferRDN-B Ref', '%.3f' % (pvalue[1])])\n",
    "                    pvalue = stats.ttest_rel(pr, sc)\n",
    "                    print(pvalue)\n",
    "                    pvalue_table.append(['transferRDN-B', '%.3f' % (pvalue[1])])\n",
    "                    display(pd.DataFrame(pvalue_table, columns=['p-value', 'RDN-B']))\n",
    "                    print('Scratch: %s' % sc)\n",
    "                    print('Transfer: %s' % pr)\n",
    "                    print('Transfer & Revision: %s' % tr) \n",
    "                    print('\\n')\n",
    "                #scratch = np.array([item['scratch'][metric] for sublist in data['results'][str(dataset)] for item in sublist])\n",
    "                #parameter = np.array([item['transfer']['Parameter Learning results'][metric] for sublist in data['results'][str(dataset)] for item in sublist])\n",
    "                #transfer = np.array([item['transfer'][metric] for sublist in data['results'][str(dataset)] for item in sublist])\n",
    "            #print('\\n')\n",
    "            #print('Scratch: %s' % scratch)\n",
    "            #print('Transfer: %s' % parameter)\n",
    "            #print('Transfer & Revision: %s' % transfer)"
   ]
  },
  {
   "cell_type": "code",
   "execution_count": null,
   "metadata": {
    "collapsed": true
   },
   "outputs": [],
   "source": []
  }
 ],
 "metadata": {
  "anaconda-cloud": {},
  "kernelspec": {
   "display_name": "Python [conda env:anaconda3]",
   "language": "python",
   "name": "conda-env-anaconda3-py"
  },
  "language_info": {
   "codemirror_mode": {
    "name": "ipython",
    "version": 3
   },
   "file_extension": ".py",
   "mimetype": "text/x-python",
   "name": "python",
   "nbconvert_exporter": "python",
   "pygments_lexer": "ipython3",
   "version": "3.5.2"
  }
 },
 "nbformat": 4,
 "nbformat_minor": 1
}
