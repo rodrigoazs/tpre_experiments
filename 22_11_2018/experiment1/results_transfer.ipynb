{
 "cells": [
  {
   "cell_type": "code",
   "execution_count": 9,
   "metadata": {
    "collapsed": false
   },
   "outputs": [],
   "source": [
    "import matplotlib.pyplot as plt\n",
    "from IPython.display import display, Markdown, Latex\n",
    "import numpy as np\n",
    "import json\n",
    "import pandas as pd\n",
    "from scipy import stats\n",
    "\n",
    "with open('transfer_experiment.json', 'r') as fp:\n",
    "    data = json.load(fp)"
   ]
  },
  {
   "cell_type": "code",
   "execution_count": 10,
   "metadata": {
    "collapsed": false,
    "scrolled": false
   },
   "outputs": [
    {
     "data": {
      "text/markdown": [
       "# Results for AUC ROC"
      ],
      "text/plain": [
       "<IPython.core.display.Markdown object>"
      ]
     },
     "metadata": {},
     "output_type": "display_data"
    },
    {
     "data": {
      "text/html": [
       "<div>\n",
       "<table border=\"1\" class=\"dataframe\">\n",
       "  <thead>\n",
       "    <tr style=\"text-align: right;\">\n",
       "      <th></th>\n",
       "      <th>Experiment</th>\n",
       "      <th>Transfer Learning</th>\n",
       "      <th>Transfer Learning with Revision Theory</th>\n",
       "      <th>Learning from scratch</th>\n",
       "    </tr>\n",
       "  </thead>\n",
       "  <tbody>\n",
       "    <tr>\n",
       "      <th>0</th>\n",
       "      <td>1_imdb_uwcse</td>\n",
       "      <td>0.956 +/- 0.007</td>\n",
       "      <td>0.949 +/- 0.024</td>\n",
       "      <td>0.934 +/- 0.072</td>\n",
       "    </tr>\n",
       "    <tr>\n",
       "      <th>1</th>\n",
       "      <td>2_uwcse_imdb</td>\n",
       "      <td>0.999 +/- 0.006</td>\n",
       "      <td>1.000 +/- 0.000</td>\n",
       "      <td>0.981 +/- 0.077</td>\n",
       "    </tr>\n",
       "    <tr>\n",
       "      <th>2</th>\n",
       "      <td>6_uwcse_imdb</td>\n",
       "      <td>0.907 +/- 0.063</td>\n",
       "      <td>0.907 +/- 0.063</td>\n",
       "      <td>0.827 +/- 0.333</td>\n",
       "    </tr>\n",
       "    <tr>\n",
       "      <th>3</th>\n",
       "      <td>35_nell_sports_nell_finances</td>\n",
       "      <td>0.823 +/- 0.167</td>\n",
       "      <td>0.778 +/- 0.084</td>\n",
       "      <td>0.675 +/- 0.199</td>\n",
       "    </tr>\n",
       "    <tr>\n",
       "      <th>4</th>\n",
       "      <td>37_nell_sports_nell_finances</td>\n",
       "      <td>0.795 +/- 0.041</td>\n",
       "      <td>0.840 +/- 0.044</td>\n",
       "      <td>0.702 +/- 0.074</td>\n",
       "    </tr>\n",
       "  </tbody>\n",
       "</table>\n",
       "</div>"
      ],
      "text/plain": [
       "                     Experiment Transfer Learning  \\\n",
       "0                  1_imdb_uwcse   0.956 +/- 0.007   \n",
       "1                  2_uwcse_imdb   0.999 +/- 0.006   \n",
       "2                  6_uwcse_imdb   0.907 +/- 0.063   \n",
       "3  35_nell_sports_nell_finances   0.823 +/- 0.167   \n",
       "4  37_nell_sports_nell_finances   0.795 +/- 0.041   \n",
       "\n",
       "  Transfer Learning with Revision Theory Learning from scratch  \n",
       "0                        0.949 +/- 0.024       0.934 +/- 0.072  \n",
       "1                        1.000 +/- 0.000       0.981 +/- 0.077  \n",
       "2                        0.907 +/- 0.063       0.827 +/- 0.333  \n",
       "3                        0.778 +/- 0.084       0.675 +/- 0.199  \n",
       "4                        0.840 +/- 0.044       0.702 +/- 0.074  "
      ]
     },
     "metadata": {},
     "output_type": "display_data"
    },
    {
     "data": {
      "text/markdown": [
       "# Results for AUC PR"
      ],
      "text/plain": [
       "<IPython.core.display.Markdown object>"
      ]
     },
     "metadata": {},
     "output_type": "display_data"
    },
    {
     "data": {
      "text/html": [
       "<div>\n",
       "<table border=\"1\" class=\"dataframe\">\n",
       "  <thead>\n",
       "    <tr style=\"text-align: right;\">\n",
       "      <th></th>\n",
       "      <th>Experiment</th>\n",
       "      <th>Transfer Learning</th>\n",
       "      <th>Transfer Learning with Revision Theory</th>\n",
       "      <th>Learning from scratch</th>\n",
       "    </tr>\n",
       "  </thead>\n",
       "  <tbody>\n",
       "    <tr>\n",
       "      <th>0</th>\n",
       "      <td>1_imdb_uwcse</td>\n",
       "      <td>0.939 +/- 0.015</td>\n",
       "      <td>0.912 +/- 0.044</td>\n",
       "      <td>0.885 +/- 0.119</td>\n",
       "    </tr>\n",
       "    <tr>\n",
       "      <th>1</th>\n",
       "      <td>2_uwcse_imdb</td>\n",
       "      <td>0.999 +/- 0.008</td>\n",
       "      <td>1.000 +/- 0.000</td>\n",
       "      <td>0.968 +/- 0.130</td>\n",
       "    </tr>\n",
       "    <tr>\n",
       "      <th>2</th>\n",
       "      <td>6_uwcse_imdb</td>\n",
       "      <td>0.845 +/- 0.095</td>\n",
       "      <td>0.845 +/- 0.095</td>\n",
       "      <td>0.779 +/- 0.294</td>\n",
       "    </tr>\n",
       "    <tr>\n",
       "      <th>3</th>\n",
       "      <td>35_nell_sports_nell_finances</td>\n",
       "      <td>0.864 +/- 0.119</td>\n",
       "      <td>0.821 +/- 0.049</td>\n",
       "      <td>0.712 +/- 0.239</td>\n",
       "    </tr>\n",
       "    <tr>\n",
       "      <th>4</th>\n",
       "      <td>37_nell_sports_nell_finances</td>\n",
       "      <td>0.793 +/- 0.035</td>\n",
       "      <td>0.837 +/- 0.046</td>\n",
       "      <td>0.728 +/- 0.063</td>\n",
       "    </tr>\n",
       "  </tbody>\n",
       "</table>\n",
       "</div>"
      ],
      "text/plain": [
       "                     Experiment Transfer Learning  \\\n",
       "0                  1_imdb_uwcse   0.939 +/- 0.015   \n",
       "1                  2_uwcse_imdb   0.999 +/- 0.008   \n",
       "2                  6_uwcse_imdb   0.845 +/- 0.095   \n",
       "3  35_nell_sports_nell_finances   0.864 +/- 0.119   \n",
       "4  37_nell_sports_nell_finances   0.793 +/- 0.035   \n",
       "\n",
       "  Transfer Learning with Revision Theory Learning from scratch  \n",
       "0                        0.912 +/- 0.044       0.885 +/- 0.119  \n",
       "1                        1.000 +/- 0.000       0.968 +/- 0.130  \n",
       "2                        0.845 +/- 0.095       0.779 +/- 0.294  \n",
       "3                        0.821 +/- 0.049       0.712 +/- 0.239  \n",
       "4                        0.837 +/- 0.046       0.728 +/- 0.063  "
      ]
     },
     "metadata": {},
     "output_type": "display_data"
    },
    {
     "data": {
      "text/markdown": [
       "# Results for CLL"
      ],
      "text/plain": [
       "<IPython.core.display.Markdown object>"
      ]
     },
     "metadata": {},
     "output_type": "display_data"
    },
    {
     "data": {
      "text/html": [
       "<div>\n",
       "<table border=\"1\" class=\"dataframe\">\n",
       "  <thead>\n",
       "    <tr style=\"text-align: right;\">\n",
       "      <th></th>\n",
       "      <th>Experiment</th>\n",
       "      <th>Transfer Learning</th>\n",
       "      <th>Transfer Learning with Revision Theory</th>\n",
       "      <th>Learning from scratch</th>\n",
       "    </tr>\n",
       "  </thead>\n",
       "  <tbody>\n",
       "    <tr>\n",
       "      <th>0</th>\n",
       "      <td>1_imdb_uwcse</td>\n",
       "      <td>-0.229 +/- 0.007</td>\n",
       "      <td>-0.241 +/- 0.046</td>\n",
       "      <td>-0.260 +/- 0.096</td>\n",
       "    </tr>\n",
       "    <tr>\n",
       "      <th>1</th>\n",
       "      <td>2_uwcse_imdb</td>\n",
       "      <td>-0.141 +/- 0.135</td>\n",
       "      <td>-0.125 +/- 0.033</td>\n",
       "      <td>-0.174 +/- 0.148</td>\n",
       "    </tr>\n",
       "    <tr>\n",
       "      <th>2</th>\n",
       "      <td>6_uwcse_imdb</td>\n",
       "      <td>-0.316 +/- 0.046</td>\n",
       "      <td>-0.307 +/- 0.058</td>\n",
       "      <td>-0.458 +/- 0.598</td>\n",
       "    </tr>\n",
       "    <tr>\n",
       "      <th>3</th>\n",
       "      <td>35_nell_sports_nell_finances</td>\n",
       "      <td>-0.535 +/- 0.123</td>\n",
       "      <td>-0.596 +/- 0.130</td>\n",
       "      <td>-0.704 +/- 0.142</td>\n",
       "    </tr>\n",
       "    <tr>\n",
       "      <th>4</th>\n",
       "      <td>37_nell_sports_nell_finances</td>\n",
       "      <td>-0.549 +/- 0.039</td>\n",
       "      <td>-0.521 +/- 0.029</td>\n",
       "      <td>-0.621 +/- 0.027</td>\n",
       "    </tr>\n",
       "  </tbody>\n",
       "</table>\n",
       "</div>"
      ],
      "text/plain": [
       "                     Experiment Transfer Learning  \\\n",
       "0                  1_imdb_uwcse  -0.229 +/- 0.007   \n",
       "1                  2_uwcse_imdb  -0.141 +/- 0.135   \n",
       "2                  6_uwcse_imdb  -0.316 +/- 0.046   \n",
       "3  35_nell_sports_nell_finances  -0.535 +/- 0.123   \n",
       "4  37_nell_sports_nell_finances  -0.549 +/- 0.039   \n",
       "\n",
       "  Transfer Learning with Revision Theory Learning from scratch  \n",
       "0                       -0.241 +/- 0.046      -0.260 +/- 0.096  \n",
       "1                       -0.125 +/- 0.033      -0.174 +/- 0.148  \n",
       "2                       -0.307 +/- 0.058      -0.458 +/- 0.598  \n",
       "3                       -0.596 +/- 0.130      -0.704 +/- 0.142  \n",
       "4                       -0.521 +/- 0.029      -0.621 +/- 0.027  "
      ]
     },
     "metadata": {},
     "output_type": "display_data"
    },
    {
     "data": {
      "text/markdown": [
       "# Results for Recall"
      ],
      "text/plain": [
       "<IPython.core.display.Markdown object>"
      ]
     },
     "metadata": {},
     "output_type": "display_data"
    },
    {
     "data": {
      "text/html": [
       "<div>\n",
       "<table border=\"1\" class=\"dataframe\">\n",
       "  <thead>\n",
       "    <tr style=\"text-align: right;\">\n",
       "      <th></th>\n",
       "      <th>Experiment</th>\n",
       "      <th>Transfer Learning</th>\n",
       "      <th>Transfer Learning with Revision Theory</th>\n",
       "      <th>Learning from scratch</th>\n",
       "    </tr>\n",
       "  </thead>\n",
       "  <tbody>\n",
       "    <tr>\n",
       "      <th>0</th>\n",
       "      <td>1_imdb_uwcse</td>\n",
       "      <td>1.000 +/- 0.000</td>\n",
       "      <td>0.992 +/- 0.020</td>\n",
       "      <td>0.982 +/- 0.050</td>\n",
       "    </tr>\n",
       "    <tr>\n",
       "      <th>1</th>\n",
       "      <td>2_uwcse_imdb</td>\n",
       "      <td>1.000 +/- 0.000</td>\n",
       "      <td>1.000 +/- 0.000</td>\n",
       "      <td>1.000 +/- 0.000</td>\n",
       "    </tr>\n",
       "    <tr>\n",
       "      <th>2</th>\n",
       "      <td>6_uwcse_imdb</td>\n",
       "      <td>1.000 +/- 0.000</td>\n",
       "      <td>1.000 +/- 0.000</td>\n",
       "      <td>0.800 +/- 0.800</td>\n",
       "    </tr>\n",
       "    <tr>\n",
       "      <th>3</th>\n",
       "      <td>35_nell_sports_nell_finances</td>\n",
       "      <td>0.655 +/- 0.430</td>\n",
       "      <td>0.710 +/- 0.314</td>\n",
       "      <td>0.603 +/- 0.347</td>\n",
       "    </tr>\n",
       "    <tr>\n",
       "      <th>4</th>\n",
       "      <td>37_nell_sports_nell_finances</td>\n",
       "      <td>0.703 +/- 0.150</td>\n",
       "      <td>0.692 +/- 0.167</td>\n",
       "      <td>0.251 +/- 0.096</td>\n",
       "    </tr>\n",
       "  </tbody>\n",
       "</table>\n",
       "</div>"
      ],
      "text/plain": [
       "                     Experiment Transfer Learning  \\\n",
       "0                  1_imdb_uwcse   1.000 +/- 0.000   \n",
       "1                  2_uwcse_imdb   1.000 +/- 0.000   \n",
       "2                  6_uwcse_imdb   1.000 +/- 0.000   \n",
       "3  35_nell_sports_nell_finances   0.655 +/- 0.430   \n",
       "4  37_nell_sports_nell_finances   0.703 +/- 0.150   \n",
       "\n",
       "  Transfer Learning with Revision Theory Learning from scratch  \n",
       "0                        0.992 +/- 0.020       0.982 +/- 0.050  \n",
       "1                        1.000 +/- 0.000       1.000 +/- 0.000  \n",
       "2                        1.000 +/- 0.000       0.800 +/- 0.800  \n",
       "3                        0.710 +/- 0.314       0.603 +/- 0.347  \n",
       "4                        0.692 +/- 0.167       0.251 +/- 0.096  "
      ]
     },
     "metadata": {},
     "output_type": "display_data"
    },
    {
     "data": {
      "text/markdown": [
       "# Results for F1"
      ],
      "text/plain": [
       "<IPython.core.display.Markdown object>"
      ]
     },
     "metadata": {},
     "output_type": "display_data"
    },
    {
     "data": {
      "text/html": [
       "<div>\n",
       "<table border=\"1\" class=\"dataframe\">\n",
       "  <thead>\n",
       "    <tr style=\"text-align: right;\">\n",
       "      <th></th>\n",
       "      <th>Experiment</th>\n",
       "      <th>Transfer Learning</th>\n",
       "      <th>Transfer Learning with Revision Theory</th>\n",
       "      <th>Learning from scratch</th>\n",
       "    </tr>\n",
       "  </thead>\n",
       "  <tbody>\n",
       "    <tr>\n",
       "      <th>0</th>\n",
       "      <td>1_imdb_uwcse</td>\n",
       "      <td>0.942 +/- 0.004</td>\n",
       "      <td>0.941 +/- 0.010</td>\n",
       "      <td>0.929 +/- 0.025</td>\n",
       "    </tr>\n",
       "    <tr>\n",
       "      <th>1</th>\n",
       "      <td>2_uwcse_imdb</td>\n",
       "      <td>0.998 +/- 0.010</td>\n",
       "      <td>0.997 +/- 0.018</td>\n",
       "      <td>0.949 +/- 0.084</td>\n",
       "    </tr>\n",
       "    <tr>\n",
       "      <th>2</th>\n",
       "      <td>6_uwcse_imdb</td>\n",
       "      <td>0.915 +/- 0.054</td>\n",
       "      <td>0.915 +/- 0.054</td>\n",
       "      <td>nan +/- nan</td>\n",
       "    </tr>\n",
       "    <tr>\n",
       "      <th>3</th>\n",
       "      <td>35_nell_sports_nell_finances</td>\n",
       "      <td>0.721 +/- 0.326</td>\n",
       "      <td>0.696 +/- 0.120</td>\n",
       "      <td>0.601 +/- 0.217</td>\n",
       "    </tr>\n",
       "    <tr>\n",
       "      <th>4</th>\n",
       "      <td>37_nell_sports_nell_finances</td>\n",
       "      <td>0.729 +/- 0.069</td>\n",
       "      <td>0.749 +/- 0.064</td>\n",
       "      <td>0.392 +/- 0.118</td>\n",
       "    </tr>\n",
       "  </tbody>\n",
       "</table>\n",
       "</div>"
      ],
      "text/plain": [
       "                     Experiment Transfer Learning  \\\n",
       "0                  1_imdb_uwcse   0.942 +/- 0.004   \n",
       "1                  2_uwcse_imdb   0.998 +/- 0.010   \n",
       "2                  6_uwcse_imdb   0.915 +/- 0.054   \n",
       "3  35_nell_sports_nell_finances   0.721 +/- 0.326   \n",
       "4  37_nell_sports_nell_finances   0.729 +/- 0.069   \n",
       "\n",
       "  Transfer Learning with Revision Theory Learning from scratch  \n",
       "0                        0.941 +/- 0.010       0.929 +/- 0.025  \n",
       "1                        0.997 +/- 0.018       0.949 +/- 0.084  \n",
       "2                        0.915 +/- 0.054           nan +/- nan  \n",
       "3                        0.696 +/- 0.120       0.601 +/- 0.217  \n",
       "4                        0.749 +/- 0.064       0.392 +/- 0.118  "
      ]
     },
     "metadata": {},
     "output_type": "display_data"
    },
    {
     "data": {
      "text/markdown": [
       "# Results for Precision"
      ],
      "text/plain": [
       "<IPython.core.display.Markdown object>"
      ]
     },
     "metadata": {},
     "output_type": "display_data"
    },
    {
     "data": {
      "text/html": [
       "<div>\n",
       "<table border=\"1\" class=\"dataframe\">\n",
       "  <thead>\n",
       "    <tr style=\"text-align: right;\">\n",
       "      <th></th>\n",
       "      <th>Experiment</th>\n",
       "      <th>Transfer Learning</th>\n",
       "      <th>Transfer Learning with Revision Theory</th>\n",
       "      <th>Learning from scratch</th>\n",
       "    </tr>\n",
       "  </thead>\n",
       "  <tbody>\n",
       "    <tr>\n",
       "      <th>0</th>\n",
       "      <td>1_imdb_uwcse</td>\n",
       "      <td>0.889 +/- 0.008</td>\n",
       "      <td>0.894 +/- 0.015</td>\n",
       "      <td>0.882 +/- 0.052</td>\n",
       "    </tr>\n",
       "    <tr>\n",
       "      <th>1</th>\n",
       "      <td>2_uwcse_imdb</td>\n",
       "      <td>0.997 +/- 0.020</td>\n",
       "      <td>0.994 +/- 0.035</td>\n",
       "      <td>0.905 +/- 0.155</td>\n",
       "    </tr>\n",
       "    <tr>\n",
       "      <th>2</th>\n",
       "      <td>6_uwcse_imdb</td>\n",
       "      <td>0.845 +/- 0.095</td>\n",
       "      <td>0.845 +/- 0.095</td>\n",
       "      <td>nan +/- nan</td>\n",
       "    </tr>\n",
       "    <tr>\n",
       "      <th>3</th>\n",
       "      <td>35_nell_sports_nell_finances</td>\n",
       "      <td>0.852 +/- 0.104</td>\n",
       "      <td>0.730 +/- 0.234</td>\n",
       "      <td>0.619 +/- 0.178</td>\n",
       "    </tr>\n",
       "    <tr>\n",
       "      <th>4</th>\n",
       "      <td>37_nell_sports_nell_finances</td>\n",
       "      <td>0.766 +/- 0.098</td>\n",
       "      <td>0.830 +/- 0.116</td>\n",
       "      <td>0.918 +/- 0.039</td>\n",
       "    </tr>\n",
       "  </tbody>\n",
       "</table>\n",
       "</div>"
      ],
      "text/plain": [
       "                     Experiment Transfer Learning  \\\n",
       "0                  1_imdb_uwcse   0.889 +/- 0.008   \n",
       "1                  2_uwcse_imdb   0.997 +/- 0.020   \n",
       "2                  6_uwcse_imdb   0.845 +/- 0.095   \n",
       "3  35_nell_sports_nell_finances   0.852 +/- 0.104   \n",
       "4  37_nell_sports_nell_finances   0.766 +/- 0.098   \n",
       "\n",
       "  Transfer Learning with Revision Theory Learning from scratch  \n",
       "0                        0.894 +/- 0.015       0.882 +/- 0.052  \n",
       "1                        0.994 +/- 0.035       0.905 +/- 0.155  \n",
       "2                        0.845 +/- 0.095           nan +/- nan  \n",
       "3                        0.730 +/- 0.234       0.619 +/- 0.178  \n",
       "4                        0.830 +/- 0.116       0.918 +/- 0.039  "
      ]
     },
     "metadata": {},
     "output_type": "display_data"
    },
    {
     "data": {
      "text/markdown": [
       "# Results for Learning and Revision time"
      ],
      "text/plain": [
       "<IPython.core.display.Markdown object>"
      ]
     },
     "metadata": {},
     "output_type": "display_data"
    },
    {
     "data": {
      "text/html": [
       "<div>\n",
       "<table border=\"1\" class=\"dataframe\">\n",
       "  <thead>\n",
       "    <tr style=\"text-align: right;\">\n",
       "      <th></th>\n",
       "      <th>Experiment</th>\n",
       "      <th>Transfer Learning</th>\n",
       "      <th>Transfer Learning with Revision Theory</th>\n",
       "      <th>Learning from scratch</th>\n",
       "    </tr>\n",
       "  </thead>\n",
       "  <tbody>\n",
       "    <tr>\n",
       "      <th>0</th>\n",
       "      <td>1_imdb_uwcse</td>\n",
       "      <td>6.130 +/- 5.404</td>\n",
       "      <td>11.840 +/- 8.297</td>\n",
       "      <td>7.013 +/- 4.688</td>\n",
       "    </tr>\n",
       "    <tr>\n",
       "      <th>1</th>\n",
       "      <td>2_uwcse_imdb</td>\n",
       "      <td>2.802 +/- 2.617</td>\n",
       "      <td>7.169 +/- 10.850</td>\n",
       "      <td>4.290 +/- 5.430</td>\n",
       "    </tr>\n",
       "    <tr>\n",
       "      <th>2</th>\n",
       "      <td>6_uwcse_imdb</td>\n",
       "      <td>1.500 +/- 0.993</td>\n",
       "      <td>2.707 +/- 1.463</td>\n",
       "      <td>2.351 +/- 6.096</td>\n",
       "    </tr>\n",
       "    <tr>\n",
       "      <th>3</th>\n",
       "      <td>35_nell_sports_nell_finances</td>\n",
       "      <td>2.362 +/- 0.938</td>\n",
       "      <td>5.632 +/- 2.865</td>\n",
       "      <td>3.486 +/- 2.203</td>\n",
       "    </tr>\n",
       "    <tr>\n",
       "      <th>4</th>\n",
       "      <td>37_nell_sports_nell_finances</td>\n",
       "      <td>23.341 +/- 27.499</td>\n",
       "      <td>41.116 +/- 40.507</td>\n",
       "      <td>13.779 +/- 10.957</td>\n",
       "    </tr>\n",
       "  </tbody>\n",
       "</table>\n",
       "</div>"
      ],
      "text/plain": [
       "                     Experiment  Transfer Learning  \\\n",
       "0                  1_imdb_uwcse    6.130 +/- 5.404   \n",
       "1                  2_uwcse_imdb    2.802 +/- 2.617   \n",
       "2                  6_uwcse_imdb    1.500 +/- 0.993   \n",
       "3  35_nell_sports_nell_finances    2.362 +/- 0.938   \n",
       "4  37_nell_sports_nell_finances  23.341 +/- 27.499   \n",
       "\n",
       "  Transfer Learning with Revision Theory Learning from scratch  \n",
       "0                       11.840 +/- 8.297       7.013 +/- 4.688  \n",
       "1                       7.169 +/- 10.850       4.290 +/- 5.430  \n",
       "2                        2.707 +/- 1.463       2.351 +/- 6.096  \n",
       "3                        5.632 +/- 2.865       3.486 +/- 2.203  \n",
       "4                      41.116 +/- 40.507     13.779 +/- 10.957  "
      ]
     },
     "metadata": {},
     "output_type": "display_data"
    },
    {
     "data": {
      "text/markdown": [
       "# Results for Inference time"
      ],
      "text/plain": [
       "<IPython.core.display.Markdown object>"
      ]
     },
     "metadata": {},
     "output_type": "display_data"
    },
    {
     "data": {
      "text/html": [
       "<div>\n",
       "<table border=\"1\" class=\"dataframe\">\n",
       "  <thead>\n",
       "    <tr style=\"text-align: right;\">\n",
       "      <th></th>\n",
       "      <th>Experiment</th>\n",
       "      <th>Transfer Learning</th>\n",
       "      <th>Transfer Learning with Revision Theory</th>\n",
       "      <th>Learning from scratch</th>\n",
       "    </tr>\n",
       "  </thead>\n",
       "  <tbody>\n",
       "    <tr>\n",
       "      <th>0</th>\n",
       "      <td>1_imdb_uwcse</td>\n",
       "      <td>6.130 +/- 5.404</td>\n",
       "      <td>1.024 +/- 0.685</td>\n",
       "      <td>0.845 +/- 0.314</td>\n",
       "    </tr>\n",
       "    <tr>\n",
       "      <th>1</th>\n",
       "      <td>2_uwcse_imdb</td>\n",
       "      <td>2.802 +/- 2.617</td>\n",
       "      <td>1.178 +/- 0.657</td>\n",
       "      <td>0.991 +/- 0.390</td>\n",
       "    </tr>\n",
       "    <tr>\n",
       "      <th>2</th>\n",
       "      <td>6_uwcse_imdb</td>\n",
       "      <td>1.500 +/- 0.993</td>\n",
       "      <td>0.704 +/- 0.604</td>\n",
       "      <td>0.614 +/- 0.265</td>\n",
       "    </tr>\n",
       "    <tr>\n",
       "      <th>3</th>\n",
       "      <td>35_nell_sports_nell_finances</td>\n",
       "      <td>2.362 +/- 0.938</td>\n",
       "      <td>0.835 +/- 0.336</td>\n",
       "      <td>0.738 +/- 0.160</td>\n",
       "    </tr>\n",
       "    <tr>\n",
       "      <th>4</th>\n",
       "      <td>37_nell_sports_nell_finances</td>\n",
       "      <td>23.341 +/- 27.499</td>\n",
       "      <td>2.269 +/- 1.192</td>\n",
       "      <td>1.468 +/- 0.276</td>\n",
       "    </tr>\n",
       "  </tbody>\n",
       "</table>\n",
       "</div>"
      ],
      "text/plain": [
       "                     Experiment  Transfer Learning  \\\n",
       "0                  1_imdb_uwcse    6.130 +/- 5.404   \n",
       "1                  2_uwcse_imdb    2.802 +/- 2.617   \n",
       "2                  6_uwcse_imdb    1.500 +/- 0.993   \n",
       "3  35_nell_sports_nell_finances    2.362 +/- 0.938   \n",
       "4  37_nell_sports_nell_finances  23.341 +/- 27.499   \n",
       "\n",
       "  Transfer Learning with Revision Theory Learning from scratch  \n",
       "0                        1.024 +/- 0.685       0.845 +/- 0.314  \n",
       "1                        1.178 +/- 0.657       0.991 +/- 0.390  \n",
       "2                        0.704 +/- 0.604       0.614 +/- 0.265  \n",
       "3                        0.835 +/- 0.336       0.738 +/- 0.160  \n",
       "4                        2.269 +/- 1.192       1.468 +/- 0.276  "
      ]
     },
     "metadata": {},
     "output_type": "display_data"
    }
   ],
   "source": [
    "experiments = [\n",
    "            {'id': '1', 'source':'imdb', 'target':'uwcse', 'predicate':'workedunder', 'to_predicate':'advisedby'},\n",
    "            {'id': '2', 'source':'uwcse', 'target':'imdb', 'predicate':'advisedby', 'to_predicate':'workedunder'},\n",
    "            {'id': '3', 'source':'imdb', 'target':'uwcse', 'predicate':'movie', 'to_predicate':'publication'},\n",
    "            {'id': '4', 'source':'uwcse', 'target':'imdb', 'predicate':'publication', 'to_predicate':'movie'},\n",
    "            {'id': '5', 'source':'imdb', 'target':'uwcse', 'predicate':'genre', 'to_predicate':'inphase'},\n",
    "            {'id': '6', 'source':'uwcse', 'target':'imdb', 'predicate':'inphase', 'to_predicate':'genre'},\n",
    "            {'id': '7', 'source':'imdb', 'target':'cora', 'predicate':'workedunder', 'to_predicate':'samevenue'},\n",
    "            {'id': '8', 'source':'imdb', 'target':'cora', 'predicate':'workedunder', 'to_predicate':'samebib'},\n",
    "            {'id': '9', 'source':'imdb', 'target':'cora', 'predicate':'workedunder', 'to_predicate':'sameauthor'},\n",
    "            {'id': '10', 'source':'imdb', 'target':'cora', 'predicate':'workedunder', 'to_predicate':'sametitle'},\n",
    "            {'id': '11', 'source':'uwcse', 'target':'cora', 'predicate':'advisedby', 'to_predicate':'samevenue'},\n",
    "            {'id': '12', 'source':'uwcse', 'target':'cora', 'predicate':'advisedby', 'to_predicate':'samebib'},\n",
    "            {'id': '13', 'source':'uwcse', 'target':'cora', 'predicate':'advisedby', 'to_predicate':'sameauthor'},\n",
    "            {'id': '14', 'source':'uwcse', 'target':'cora', 'predicate':'advisedby', 'to_predicate':'sametitle'},\n",
    "            {'id': '15', 'source':'yeast', 'target':'twitter', 'predicate':'proteinclass', 'to_predicate':'accounttype'},\n",
    "            {'id': '16', 'source':'yeast', 'target':'twitter', 'predicate':'interaction', 'to_predicate':'follows'},\n",
    "            {'id': '17', 'source':'yeast', 'target':'twitter', 'predicate':'location', 'to_predicate':'tweets'},\n",
    "            {'id': '18', 'source':'yeast', 'target':'twitter', 'predicate':'enzyme', 'to_predicate':'tweets'},\n",
    "            {'id': '19', 'source':'yeast', 'target':'twitter', 'predicate':'function', 'to_predicate':'tweets'},\n",
    "            {'id': '20', 'source':'yeast', 'target':'twitter', 'predicate':'phenotype', 'to_predicate':'tweets'},\n",
    "            {'id': '21', 'source':'yeast', 'target':'twitter', 'predicate':'complex', 'to_predicate':'tweets'},\n",
    "            {'id': '22', 'source':'twitter', 'target':'yeast', 'predicate':'accounttype', 'to_predicate':'proteinclass'},\n",
    "            {'id': '23', 'source':'twitter', 'target':'yeast', 'predicate':'follows', 'to_predicate':'interaction'},\n",
    "            {'id': '24', 'source':'twitter', 'target':'yeast', 'predicate':'tweets', 'to_predicate':'location'},\n",
    "            {'id': '25', 'source':'twitter', 'target':'yeast', 'predicate':'tweets', 'to_predicate':'enzyme'},\n",
    "            {'id': '26', 'source':'twitter', 'target':'yeast', 'predicate':'tweets', 'to_predicate':'function'},\n",
    "            {'id': '27', 'source':'twitter', 'target':'yeast', 'predicate':'tweets', 'to_predicate':'phenotype'},\n",
    "            {'id': '28', 'source':'twitter', 'target':'yeast', 'predicate':'tweets', 'to_predicate':'complex'},\n",
    "            {'id': '29', 'source':'nell_sports', 'target':'nell_finances', 'predicate':'teamalsoknownas', 'to_predicate':'companyalsoknownas'},\n",
    "            {'id': '30', 'source':'nell_sports', 'target':'nell_finances', 'predicate':'teamplaysagainstteam', 'to_predicate':'companyalsoknownas'},\n",
    "            {'id': '31', 'source':'nell_sports', 'target':'nell_finances', 'predicate':'teamplaysagainstteam', 'to_predicate':'acquired'},\n",
    "            {'id': '32', 'source':'nell_sports', 'target':'nell_finances', 'predicate':'teamplaysagainstteam', 'to_predicate':'bankboughtbank'},\n",
    "            {'id': '33', 'source':'nell_sports', 'target':'nell_finances', 'predicate':'athleteplayssport', 'to_predicate':'companyceo'},\n",
    "            {'id': '34', 'source':'nell_sports', 'target':'nell_finances', 'predicate':'athleteplayssport', 'to_predicate':'bankchiefexecutiveceo'},\n",
    "            {'id': '35', 'source':'nell_sports', 'target':'nell_finances', 'predicate':'athleteplaysforteam', 'to_predicate':'bankchiefexecutiveceo'},\n",
    "            {'id': '36', 'source':'nell_sports', 'target':'nell_finances', 'predicate':'athleteplaysforteam', 'to_predicate':'companyceo'},\n",
    "            {'id': '37', 'source':'nell_sports', 'target':'nell_finances', 'predicate':'teamplayssport', 'to_predicate':'companyeconomicsector'},\n",
    "            {'id': '38', 'source':'nell_finances', 'target':'nell_sports', 'predicate':'companyalsoknownas', 'to_predicate':'teamalsoknownas'},\n",
    "            {'id': '39', 'source':'nell_finances', 'target':'nell_sports', 'predicate':'companyalsoknownas', 'to_predicate':'teamplaysagainstteam'},\n",
    "            {'id': '40', 'source':'nell_finances', 'target':'nell_sports', 'predicate':'acquired', 'to_predicate':'teamplaysagainstteam'},\n",
    "            {'id': '41', 'source':'nell_finances', 'target':'nell_sports', 'predicate':'bankboughtbank', 'to_predicate':'teamplaysagainstteam'},\n",
    "            {'id': '42', 'source':'nell_finances', 'target':'nell_sports', 'predicate':'companyceo', 'to_predicate':'athleteplayssport'},\n",
    "            {'id': '43', 'source':'nell_finances', 'target':'nell_sports', 'predicate':'bankchiefexecutiveceo', 'to_predicate':'athleteplayssport'},\n",
    "            {'id': '44', 'source':'nell_finances', 'target':'nell_sports', 'predicate':'bankchiefexecutiveceo', 'to_predicate':'athleteplaysforteam'},\n",
    "            {'id': '45', 'source':'nell_finances', 'target':'nell_sports', 'predicate':'companyceo', 'to_predicate':'athleteplaysforteam'},\n",
    "            {'id': '46', 'source':'nell_finances', 'target':'nell_sports', 'predicate':'companyeconomicsector', 'to_predicate':'teamplayssport'},\n",
    "]\n",
    "\n",
    "for metric in ['AUC ROC', 'AUC PR', 'CLL', 'Recall', 'F1', 'Precision', 'Learning and Revision time', 'Inference time']:\n",
    "    display(Markdown('# Results for ' + metric))\n",
    "    table = []\n",
    "    for j in range(len(experiments)):\n",
    "        dataset = experiments[j]['id'] + '_' + experiments[j]['source'] + '_' + experiments[j]['target']\n",
    "        if dataset in data['results']: \n",
    "            #for metric in ['AUC ROC', 'AUC PR']:\n",
    "                #display(Markdown('## ' + metric))\n",
    "            if metric == 'Precision':\n",
    "                scratch = np.array([item['scratch']['Precision'][0] for sublist in data['results'][str(dataset)] for item in sublist])\n",
    "                parameter = np.array([item['transfer']['Parameter Learning results']['Precision'][0] for sublist in data['results'][str(dataset)] for item in sublist])\n",
    "                transfer = np.array([item['transfer']['Precision'][0] for sublist in data['results'][str(dataset)] for item in sublist])\n",
    "            elif metric == 'Learning and Revision time':\n",
    "                scratch = np.array([item['scratch']['Learning time'] for sublist in data['results'][str(dataset)] for item in sublist])\n",
    "                parameter = np.array([item['transfer']['Parameter Learning results']['Learning time'] for sublist in data['results'][str(dataset)] for item in sublist])\n",
    "                transfer = np.array([item['transfer']['Learning time'] for sublist in data['results'][str(dataset)] for item in sublist])\n",
    "            elif metric == 'Inference time':\n",
    "                scratch = np.array([item['scratch']['Inference time'] for sublist in data['results'][str(dataset)] for item in sublist])\n",
    "                parameter = np.array([item['transfer']['Parameter Learning results']['Learning time'] for sublist in data['results'][str(dataset)] for item in sublist])\n",
    "                transfer = np.array([item['transfer']['Inference time'] for sublist in data['results'][str(dataset)] for item in sublist])\n",
    "            else:\n",
    "                scratch = np.array([item['scratch'][metric] for sublist in data['results'][str(dataset)] for item in sublist])\n",
    "                parameter = np.array([item['transfer']['Parameter Learning results'][metric] for sublist in data['results'][str(dataset)] for item in sublist])\n",
    "                transfer = np.array([item['transfer'][metric] for sublist in data['results'][str(dataset)] for item in sublist])\n",
    "            table.append([dataset, '%.3f +/- %.3f' % (parameter.mean(), 2 * parameter.std()),\n",
    "            '%.3f +/- %.3f' % (transfer.mean(), 2 * transfer.std()),\n",
    "            '%.3f +/- %.3f' % (scratch.mean(), 2 * scratch.std())])\n",
    "    display(pd.DataFrame(table, columns=['Experiment', 'Transfer Learning', 'Transfer Learning with Revision Theory', 'Learning from scratch']))"
   ]
  },
  {
   "cell_type": "code",
   "execution_count": 11,
   "metadata": {
    "collapsed": false
   },
   "outputs": [
    {
     "data": {
      "text/markdown": [
       "# Results for 1_imdb_uwcse"
      ],
      "text/plain": [
       "<IPython.core.display.Markdown object>"
      ]
     },
     "metadata": {},
     "output_type": "display_data"
    },
    {
     "data": {
      "text/markdown": [
       "## AUC ROC"
      ],
      "text/plain": [
       "<IPython.core.display.Markdown object>"
      ]
     },
     "metadata": {},
     "output_type": "display_data"
    },
    {
     "name": "stdout",
     "output_type": "stream",
     "text": [
      "T-test for experiment 1\n",
      "Ttest_relResult(statistic=1.1917929053992558, pvalue=0.29921800189982484)\n",
      "Ttest_relResult(statistic=1.1614017476693, pvalue=0.31006055071110605)\n"
     ]
    },
    {
     "data": {
      "text/html": [
       "<div>\n",
       "<table border=\"1\" class=\"dataframe\">\n",
       "  <thead>\n",
       "    <tr style=\"text-align: right;\">\n",
       "      <th></th>\n",
       "      <th>p-value</th>\n",
       "      <th>RDN-B</th>\n",
       "    </tr>\n",
       "  </thead>\n",
       "  <tbody>\n",
       "    <tr>\n",
       "      <th>0</th>\n",
       "      <td>transferRDN-B Ref</td>\n",
       "      <td>0.299</td>\n",
       "    </tr>\n",
       "    <tr>\n",
       "      <th>1</th>\n",
       "      <td>transferRDN-B</td>\n",
       "      <td>0.310</td>\n",
       "    </tr>\n",
       "  </tbody>\n",
       "</table>\n",
       "</div>"
      ],
      "text/plain": [
       "             p-value  RDN-B\n",
       "0  transferRDN-B Ref  0.299\n",
       "1      transferRDN-B  0.310"
      ]
     },
     "metadata": {},
     "output_type": "display_data"
    },
    {
     "name": "stdout",
     "output_type": "stream",
     "text": [
      "T-test for experiment 2\n",
      "Ttest_relResult(statistic=1.134631277812482, pvalue=0.3199123877810134)\n",
      "Ttest_relResult(statistic=1.1553158060926152, pvalue=0.31227528404301436)\n"
     ]
    },
    {
     "data": {
      "text/html": [
       "<div>\n",
       "<table border=\"1\" class=\"dataframe\">\n",
       "  <thead>\n",
       "    <tr style=\"text-align: right;\">\n",
       "      <th></th>\n",
       "      <th>p-value</th>\n",
       "      <th>RDN-B</th>\n",
       "    </tr>\n",
       "  </thead>\n",
       "  <tbody>\n",
       "    <tr>\n",
       "      <th>0</th>\n",
       "      <td>transferRDN-B Ref</td>\n",
       "      <td>0.320</td>\n",
       "    </tr>\n",
       "    <tr>\n",
       "      <th>1</th>\n",
       "      <td>transferRDN-B</td>\n",
       "      <td>0.312</td>\n",
       "    </tr>\n",
       "  </tbody>\n",
       "</table>\n",
       "</div>"
      ],
      "text/plain": [
       "             p-value  RDN-B\n",
       "0  transferRDN-B Ref  0.320\n",
       "1      transferRDN-B  0.312"
      ]
     },
     "metadata": {},
     "output_type": "display_data"
    },
    {
     "name": "stdout",
     "output_type": "stream",
     "text": [
      "\n",
      "\n",
      "Scratch: [0.963922 0.963175 0.866355 0.94375  0.930758 0.962278 0.963175 0.866355\n",
      " 0.946484 0.930758]\n",
      "Transfer: [0.951677 0.952307 0.959689 0.959375 0.956584 0.951677 0.952307 0.959689\n",
      " 0.959375 0.956584]\n",
      "Transfer & Revision: [0.96573  0.959591 0.933617 0.946719 0.94027  0.964826 0.959591 0.933617\n",
      " 0.945859 0.94027 ]\n"
     ]
    },
    {
     "data": {
      "text/markdown": [
       "## AUC PR"
      ],
      "text/plain": [
       "<IPython.core.display.Markdown object>"
      ]
     },
     "metadata": {},
     "output_type": "display_data"
    },
    {
     "name": "stdout",
     "output_type": "stream",
     "text": [
      "T-test for experiment 1\n",
      "Ttest_relResult(statistic=1.4684922708408426, pvalue=0.21589128550918935)\n",
      "Ttest_relResult(statistic=1.7349502513037778, pvalue=0.15776662417341303)\n"
     ]
    },
    {
     "data": {
      "text/html": [
       "<div>\n",
       "<table border=\"1\" class=\"dataframe\">\n",
       "  <thead>\n",
       "    <tr style=\"text-align: right;\">\n",
       "      <th></th>\n",
       "      <th>p-value</th>\n",
       "      <th>RDN-B</th>\n",
       "    </tr>\n",
       "  </thead>\n",
       "  <tbody>\n",
       "    <tr>\n",
       "      <th>0</th>\n",
       "      <td>transferRDN-B Ref</td>\n",
       "      <td>0.216</td>\n",
       "    </tr>\n",
       "    <tr>\n",
       "      <th>1</th>\n",
       "      <td>transferRDN-B</td>\n",
       "      <td>0.158</td>\n",
       "    </tr>\n",
       "  </tbody>\n",
       "</table>\n",
       "</div>"
      ],
      "text/plain": [
       "             p-value  RDN-B\n",
       "0  transferRDN-B Ref  0.216\n",
       "1      transferRDN-B  0.158"
      ]
     },
     "metadata": {},
     "output_type": "display_data"
    },
    {
     "name": "stdout",
     "output_type": "stream",
     "text": [
      "T-test for experiment 2\n",
      "Ttest_relResult(statistic=1.2342674649960061, pvalue=0.284659660327558)\n",
      "Ttest_relResult(statistic=1.6595028948791966, pvalue=0.17235266512054795)\n"
     ]
    },
    {
     "data": {
      "text/html": [
       "<div>\n",
       "<table border=\"1\" class=\"dataframe\">\n",
       "  <thead>\n",
       "    <tr style=\"text-align: right;\">\n",
       "      <th></th>\n",
       "      <th>p-value</th>\n",
       "      <th>RDN-B</th>\n",
       "    </tr>\n",
       "  </thead>\n",
       "  <tbody>\n",
       "    <tr>\n",
       "      <th>0</th>\n",
       "      <td>transferRDN-B Ref</td>\n",
       "      <td>0.285</td>\n",
       "    </tr>\n",
       "    <tr>\n",
       "      <th>1</th>\n",
       "      <td>transferRDN-B</td>\n",
       "      <td>0.172</td>\n",
       "    </tr>\n",
       "  </tbody>\n",
       "</table>\n",
       "</div>"
      ],
      "text/plain": [
       "             p-value  RDN-B\n",
       "0  transferRDN-B Ref  0.285\n",
       "1      transferRDN-B  0.172"
      ]
     },
     "metadata": {},
     "output_type": "display_data"
    },
    {
     "name": "stdout",
     "output_type": "stream",
     "text": [
      "\n",
      "\n",
      "Scratch: [0.938046 0.93149  0.774746 0.901867 0.873466 0.932796 0.93149  0.774746\n",
      " 0.919846 0.873466]\n",
      "Transfer: [0.929498 0.931984 0.943146 0.95045  0.939    0.929498 0.931984 0.943146\n",
      " 0.95045  0.939   ]\n",
      "Transfer & Revision: [0.942244 0.927045 0.880096 0.920731 0.893929 0.938697 0.927045 0.880096\n",
      " 0.918908 0.893929]\n"
     ]
    },
    {
     "data": {
      "text/markdown": [
       "## CLL"
      ],
      "text/plain": [
       "<IPython.core.display.Markdown object>"
      ]
     },
     "metadata": {},
     "output_type": "display_data"
    },
    {
     "name": "stdout",
     "output_type": "stream",
     "text": [
      "T-test for experiment 1\n",
      "Ttest_relResult(statistic=1.2170089980206813, pvalue=0.29049248798508615)\n",
      "Ttest_relResult(statistic=1.2307991843955208, pvalue=0.2858228417037599)\n"
     ]
    },
    {
     "data": {
      "text/html": [
       "<div>\n",
       "<table border=\"1\" class=\"dataframe\">\n",
       "  <thead>\n",
       "    <tr style=\"text-align: right;\">\n",
       "      <th></th>\n",
       "      <th>p-value</th>\n",
       "      <th>RDN-B</th>\n",
       "    </tr>\n",
       "  </thead>\n",
       "  <tbody>\n",
       "    <tr>\n",
       "      <th>0</th>\n",
       "      <td>transferRDN-B Ref</td>\n",
       "      <td>0.290</td>\n",
       "    </tr>\n",
       "    <tr>\n",
       "      <th>1</th>\n",
       "      <td>transferRDN-B</td>\n",
       "      <td>0.286</td>\n",
       "    </tr>\n",
       "  </tbody>\n",
       "</table>\n",
       "</div>"
      ],
      "text/plain": [
       "             p-value  RDN-B\n",
       "0  transferRDN-B Ref  0.290\n",
       "1      transferRDN-B  0.286"
      ]
     },
     "metadata": {},
     "output_type": "display_data"
    },
    {
     "name": "stdout",
     "output_type": "stream",
     "text": [
      "T-test for experiment 2\n",
      "Ttest_relResult(statistic=1.131132180844137, pvalue=0.3212212059608435)\n",
      "Ttest_relResult(statistic=1.2119497029010058, pvalue=0.29222369592431313)\n"
     ]
    },
    {
     "data": {
      "text/html": [
       "<div>\n",
       "<table border=\"1\" class=\"dataframe\">\n",
       "  <thead>\n",
       "    <tr style=\"text-align: right;\">\n",
       "      <th></th>\n",
       "      <th>p-value</th>\n",
       "      <th>RDN-B</th>\n",
       "    </tr>\n",
       "  </thead>\n",
       "  <tbody>\n",
       "    <tr>\n",
       "      <th>0</th>\n",
       "      <td>transferRDN-B Ref</td>\n",
       "      <td>0.321</td>\n",
       "    </tr>\n",
       "    <tr>\n",
       "      <th>1</th>\n",
       "      <td>transferRDN-B</td>\n",
       "      <td>0.292</td>\n",
       "    </tr>\n",
       "  </tbody>\n",
       "</table>\n",
       "</div>"
      ],
      "text/plain": [
       "             p-value  RDN-B\n",
       "0  transferRDN-B Ref  0.321\n",
       "1      transferRDN-B  0.292"
      ]
     },
     "metadata": {},
     "output_type": "display_data"
    },
    {
     "name": "stdout",
     "output_type": "stream",
     "text": [
      "\n",
      "\n",
      "Scratch: [-0.210682 -0.247882 -0.351726 -0.239378 -0.250571 -0.211385 -0.247882\n",
      " -0.351726 -0.236668 -0.250571]\n",
      "Transfer: [-0.232353 -0.231667 -0.225631 -0.231815 -0.224265 -0.232353 -0.231667\n",
      " -0.225631 -0.231815 -0.224265]\n",
      "Transfer & Revision: [-0.2089   -0.223627 -0.271719 -0.235797 -0.262004 -0.210545 -0.223627\n",
      " -0.271719 -0.237443 -0.262004]\n"
     ]
    },
    {
     "data": {
      "text/markdown": [
       "## Recall"
      ],
      "text/plain": [
       "<IPython.core.display.Markdown object>"
      ]
     },
     "metadata": {},
     "output_type": "display_data"
    },
    {
     "name": "stdout",
     "output_type": "stream",
     "text": [
      "T-test for experiment 1\n",
      "Ttest_relResult(statistic=0.7508391392284557, pvalue=0.4945066522512446)\n",
      "Ttest_relResult(statistic=1.4187699559636175, pvalue=0.22896287255263786)\n"
     ]
    },
    {
     "data": {
      "text/html": [
       "<div>\n",
       "<table border=\"1\" class=\"dataframe\">\n",
       "  <thead>\n",
       "    <tr style=\"text-align: right;\">\n",
       "      <th></th>\n",
       "      <th>p-value</th>\n",
       "      <th>RDN-B</th>\n",
       "    </tr>\n",
       "  </thead>\n",
       "  <tbody>\n",
       "    <tr>\n",
       "      <th>0</th>\n",
       "      <td>transferRDN-B Ref</td>\n",
       "      <td>0.495</td>\n",
       "    </tr>\n",
       "    <tr>\n",
       "      <th>1</th>\n",
       "      <td>transferRDN-B</td>\n",
       "      <td>0.229</td>\n",
       "    </tr>\n",
       "  </tbody>\n",
       "</table>\n",
       "</div>"
      ],
      "text/plain": [
       "             p-value  RDN-B\n",
       "0  transferRDN-B Ref  0.495\n",
       "1      transferRDN-B  0.229"
      ]
     },
     "metadata": {},
     "output_type": "display_data"
    },
    {
     "name": "stdout",
     "output_type": "stream",
     "text": [
      "T-test for experiment 2\n",
      "Ttest_relResult(statistic=0.7508391392284557, pvalue=0.4945066522512446)\n",
      "Ttest_relResult(statistic=1.4187699559636175, pvalue=0.22896287255263786)\n"
     ]
    },
    {
     "data": {
      "text/html": [
       "<div>\n",
       "<table border=\"1\" class=\"dataframe\">\n",
       "  <thead>\n",
       "    <tr style=\"text-align: right;\">\n",
       "      <th></th>\n",
       "      <th>p-value</th>\n",
       "      <th>RDN-B</th>\n",
       "    </tr>\n",
       "  </thead>\n",
       "  <tbody>\n",
       "    <tr>\n",
       "      <th>0</th>\n",
       "      <td>transferRDN-B Ref</td>\n",
       "      <td>0.495</td>\n",
       "    </tr>\n",
       "    <tr>\n",
       "      <th>1</th>\n",
       "      <td>transferRDN-B</td>\n",
       "      <td>0.229</td>\n",
       "    </tr>\n",
       "  </tbody>\n",
       "</table>\n",
       "</div>"
      ],
      "text/plain": [
       "             p-value  RDN-B\n",
       "0  transferRDN-B Ref  0.495\n",
       "1      transferRDN-B  0.229"
      ]
     },
     "metadata": {},
     "output_type": "display_data"
    },
    {
     "name": "stdout",
     "output_type": "stream",
     "text": [
      "\n",
      "\n",
      "Scratch: [1.       0.935484 1.       0.975    1.       1.       0.935484 1.\n",
      " 0.975    1.      ]\n",
      "Transfer: [1. 1. 1. 1. 1. 1. 1. 1. 1. 1.]\n",
      "Transfer & Revision: [0.987179 1.       1.       0.975    1.       0.987179 1.       1.\n",
      " 0.975    1.      ]\n"
     ]
    },
    {
     "data": {
      "text/markdown": [
       "## F1"
      ],
      "text/plain": [
       "<IPython.core.display.Markdown object>"
      ]
     },
     "metadata": {},
     "output_type": "display_data"
    },
    {
     "name": "stdout",
     "output_type": "stream",
     "text": [
      "T-test for experiment 1\n",
      "Ttest_relResult(statistic=1.444862319246458, pvalue=0.22200730294727936)\n",
      "Ttest_relResult(statistic=1.790304165161057, pvalue=0.14789823332561916)\n"
     ]
    },
    {
     "data": {
      "text/html": [
       "<div>\n",
       "<table border=\"1\" class=\"dataframe\">\n",
       "  <thead>\n",
       "    <tr style=\"text-align: right;\">\n",
       "      <th></th>\n",
       "      <th>p-value</th>\n",
       "      <th>RDN-B</th>\n",
       "    </tr>\n",
       "  </thead>\n",
       "  <tbody>\n",
       "    <tr>\n",
       "      <th>0</th>\n",
       "      <td>transferRDN-B Ref</td>\n",
       "      <td>0.222</td>\n",
       "    </tr>\n",
       "    <tr>\n",
       "      <th>1</th>\n",
       "      <td>transferRDN-B</td>\n",
       "      <td>0.148</td>\n",
       "    </tr>\n",
       "  </tbody>\n",
       "</table>\n",
       "</div>"
      ],
      "text/plain": [
       "             p-value  RDN-B\n",
       "0  transferRDN-B Ref  0.222\n",
       "1      transferRDN-B  0.148"
      ]
     },
     "metadata": {},
     "output_type": "display_data"
    },
    {
     "name": "stdout",
     "output_type": "stream",
     "text": [
      "T-test for experiment 2\n",
      "Ttest_relResult(statistic=1.7108868242063406, pvalue=0.16227212856544418)\n",
      "Ttest_relResult(statistic=1.790304165161057, pvalue=0.14789823332561916)\n"
     ]
    },
    {
     "data": {
      "text/html": [
       "<div>\n",
       "<table border=\"1\" class=\"dataframe\">\n",
       "  <thead>\n",
       "    <tr style=\"text-align: right;\">\n",
       "      <th></th>\n",
       "      <th>p-value</th>\n",
       "      <th>RDN-B</th>\n",
       "    </tr>\n",
       "  </thead>\n",
       "  <tbody>\n",
       "    <tr>\n",
       "      <th>0</th>\n",
       "      <td>transferRDN-B Ref</td>\n",
       "      <td>0.162</td>\n",
       "    </tr>\n",
       "    <tr>\n",
       "      <th>1</th>\n",
       "      <td>transferRDN-B</td>\n",
       "      <td>0.148</td>\n",
       "    </tr>\n",
       "  </tbody>\n",
       "</table>\n",
       "</div>"
      ],
      "text/plain": [
       "             p-value  RDN-B\n",
       "0  transferRDN-B Ref  0.162\n",
       "1      transferRDN-B  0.148"
      ]
     },
     "metadata": {},
     "output_type": "display_data"
    },
    {
     "name": "stdout",
     "output_type": "stream",
     "text": [
      "\n",
      "\n",
      "Scratch: [0.939759 0.920635 0.908297 0.934132 0.941748 0.939759 0.920635 0.908297\n",
      " 0.934132 0.941748]\n",
      "Transfer: [0.939759 0.939394 0.945455 0.941176 0.941748 0.939759 0.939394 0.945455\n",
      " 0.941176 0.941748]\n",
      "Transfer & Revision: [0.944785 0.939394 0.945455 0.928571 0.941748 0.944785 0.939394 0.945455\n",
      " 0.934132 0.941748]\n"
     ]
    },
    {
     "data": {
      "text/markdown": [
       "## Precision"
      ],
      "text/plain": [
       "<IPython.core.display.Markdown object>"
      ]
     },
     "metadata": {},
     "output_type": "display_data"
    },
    {
     "name": "stdout",
     "output_type": "stream",
     "text": [
      "\n",
      "\n",
      "Scratch: [0.886364 0.90625  0.832    0.896552 0.889908 0.886364 0.90625  0.832\n",
      " 0.896552 0.889908]\n",
      "Transfer: [0.886364 0.885714 0.896552 0.888889 0.889908 0.886364 0.885714 0.896552\n",
      " 0.888889 0.889908]\n",
      "Transfer & Revision: [0.905882 0.885714 0.896552 0.886364 0.889908 0.905882 0.885714 0.896552\n",
      " 0.896552 0.889908]\n"
     ]
    },
    {
     "data": {
      "text/markdown": [
       "## Learning and Revision time"
      ],
      "text/plain": [
       "<IPython.core.display.Markdown object>"
      ]
     },
     "metadata": {},
     "output_type": "display_data"
    },
    {
     "name": "stdout",
     "output_type": "stream",
     "text": [
      "\n",
      "\n",
      "Scratch: [ 8.582  9.099  4.511 11.407  5.165  6.794  6.763  3.763  9.082  4.967]\n",
      "Transfer: [ 4.442  7.751 11.916  9.409  6.629  3.86   5.409  2.907  5.378  3.597]\n",
      "Transfer & Revision: [ 9.761 16.505 15.469 19.441 10.068  8.482 10.541  6.683 14.593  6.859]\n"
     ]
    },
    {
     "data": {
      "text/markdown": [
       "## Inference time"
      ],
      "text/plain": [
       "<IPython.core.display.Markdown object>"
      ]
     },
     "metadata": {},
     "output_type": "display_data"
    },
    {
     "name": "stdout",
     "output_type": "stream",
     "text": [
      "\n",
      "\n",
      "Scratch: [0.765 1.299 0.796 0.848 0.794 0.759 0.878 0.735 0.815 0.758]\n",
      "Transfer: [ 4.442  7.751 11.916  9.409  6.629  3.86   5.409  2.907  5.378  3.597]\n",
      "Transfer & Revision: [0.927 1.922 1.381 0.847 0.818 0.803 0.878 0.804 0.829 1.029]\n"
     ]
    },
    {
     "data": {
      "text/markdown": [
       "# Results for 2_uwcse_imdb"
      ],
      "text/plain": [
       "<IPython.core.display.Markdown object>"
      ]
     },
     "metadata": {},
     "output_type": "display_data"
    },
    {
     "data": {
      "text/markdown": [
       "## AUC ROC"
      ],
      "text/plain": [
       "<IPython.core.display.Markdown object>"
      ]
     },
     "metadata": {},
     "output_type": "display_data"
    },
    {
     "name": "stdout",
     "output_type": "stream",
     "text": [
      "T-test for experiment 1\n",
      "Ttest_relResult(statistic=0.9999999999999998, pvalue=0.373900966300059)\n",
      "Ttest_relResult(statistic=0.9999999999999998, pvalue=0.373900966300059)\n"
     ]
    },
    {
     "data": {
      "text/html": [
       "<div>\n",
       "<table border=\"1\" class=\"dataframe\">\n",
       "  <thead>\n",
       "    <tr style=\"text-align: right;\">\n",
       "      <th></th>\n",
       "      <th>p-value</th>\n",
       "      <th>RDN-B</th>\n",
       "    </tr>\n",
       "  </thead>\n",
       "  <tbody>\n",
       "    <tr>\n",
       "      <th>0</th>\n",
       "      <td>transferRDN-B Ref</td>\n",
       "      <td>0.374</td>\n",
       "    </tr>\n",
       "    <tr>\n",
       "      <th>1</th>\n",
       "      <td>transferRDN-B</td>\n",
       "      <td>0.374</td>\n",
       "    </tr>\n",
       "  </tbody>\n",
       "</table>\n",
       "</div>"
      ],
      "text/plain": [
       "             p-value  RDN-B\n",
       "0  transferRDN-B Ref  0.374\n",
       "1      transferRDN-B  0.374"
      ]
     },
     "metadata": {},
     "output_type": "display_data"
    },
    {
     "name": "stdout",
     "output_type": "stream",
     "text": [
      "T-test for experiment 2\n",
      "Ttest_relResult(statistic=0.9999999999999998, pvalue=0.373900966300059)\n",
      "Ttest_relResult(statistic=0.8648408992340092, pvalue=0.435909369271908)\n"
     ]
    },
    {
     "data": {
      "text/html": [
       "<div>\n",
       "<table border=\"1\" class=\"dataframe\">\n",
       "  <thead>\n",
       "    <tr style=\"text-align: right;\">\n",
       "      <th></th>\n",
       "      <th>p-value</th>\n",
       "      <th>RDN-B</th>\n",
       "    </tr>\n",
       "  </thead>\n",
       "  <tbody>\n",
       "    <tr>\n",
       "      <th>0</th>\n",
       "      <td>transferRDN-B Ref</td>\n",
       "      <td>0.374</td>\n",
       "    </tr>\n",
       "    <tr>\n",
       "      <th>1</th>\n",
       "      <td>transferRDN-B</td>\n",
       "      <td>0.436</td>\n",
       "    </tr>\n",
       "  </tbody>\n",
       "</table>\n",
       "</div>"
      ],
      "text/plain": [
       "             p-value  RDN-B\n",
       "0  transferRDN-B Ref  0.374\n",
       "1      transferRDN-B  0.436"
      ]
     },
     "metadata": {},
     "output_type": "display_data"
    },
    {
     "name": "stdout",
     "output_type": "stream",
     "text": [
      "\n",
      "\n",
      "Scratch: [0.903675 1.       1.       1.       1.       0.903675 1.       1.\n",
      " 1.       1.      ]\n",
      "Transfer: [1.       1.       1.       1.       1.       1.       1.       0.989655\n",
      " 1.       1.      ]\n",
      "Transfer & Revision: [1. 1. 1. 1. 1. 1. 1. 1. 1. 1.]\n"
     ]
    },
    {
     "data": {
      "text/markdown": [
       "## AUC PR"
      ],
      "text/plain": [
       "<IPython.core.display.Markdown object>"
      ]
     },
     "metadata": {},
     "output_type": "display_data"
    },
    {
     "name": "stdout",
     "output_type": "stream",
     "text": [
      "T-test for experiment 1\n",
      "Ttest_relResult(statistic=0.9999999999999998, pvalue=0.373900966300059)\n",
      "Ttest_relResult(statistic=0.9999999999999998, pvalue=0.373900966300059)\n"
     ]
    },
    {
     "data": {
      "text/html": [
       "<div>\n",
       "<table border=\"1\" class=\"dataframe\">\n",
       "  <thead>\n",
       "    <tr style=\"text-align: right;\">\n",
       "      <th></th>\n",
       "      <th>p-value</th>\n",
       "      <th>RDN-B</th>\n",
       "    </tr>\n",
       "  </thead>\n",
       "  <tbody>\n",
       "    <tr>\n",
       "      <th>0</th>\n",
       "      <td>transferRDN-B Ref</td>\n",
       "      <td>0.374</td>\n",
       "    </tr>\n",
       "    <tr>\n",
       "      <th>1</th>\n",
       "      <td>transferRDN-B</td>\n",
       "      <td>0.374</td>\n",
       "    </tr>\n",
       "  </tbody>\n",
       "</table>\n",
       "</div>"
      ],
      "text/plain": [
       "             p-value  RDN-B\n",
       "0  transferRDN-B Ref  0.374\n",
       "1      transferRDN-B  0.374"
      ]
     },
     "metadata": {},
     "output_type": "display_data"
    },
    {
     "name": "stdout",
     "output_type": "stream",
     "text": [
      "T-test for experiment 2\n",
      "Ttest_relResult(statistic=0.9999999999999998, pvalue=0.373900966300059)\n",
      "Ttest_relResult(statistic=0.898501355359513, pvalue=0.4197148545394023)\n"
     ]
    },
    {
     "data": {
      "text/html": [
       "<div>\n",
       "<table border=\"1\" class=\"dataframe\">\n",
       "  <thead>\n",
       "    <tr style=\"text-align: right;\">\n",
       "      <th></th>\n",
       "      <th>p-value</th>\n",
       "      <th>RDN-B</th>\n",
       "    </tr>\n",
       "  </thead>\n",
       "  <tbody>\n",
       "    <tr>\n",
       "      <th>0</th>\n",
       "      <td>transferRDN-B Ref</td>\n",
       "      <td>0.374</td>\n",
       "    </tr>\n",
       "    <tr>\n",
       "      <th>1</th>\n",
       "      <td>transferRDN-B</td>\n",
       "      <td>0.420</td>\n",
       "    </tr>\n",
       "  </tbody>\n",
       "</table>\n",
       "</div>"
      ],
      "text/plain": [
       "             p-value  RDN-B\n",
       "0  transferRDN-B Ref  0.374\n",
       "1      transferRDN-B  0.420"
      ]
     },
     "metadata": {},
     "output_type": "display_data"
    },
    {
     "name": "stdout",
     "output_type": "stream",
     "text": [
      "\n",
      "\n",
      "Scratch: [0.837662 1.       1.       1.       1.       0.837662 1.       1.\n",
      " 1.       1.      ]\n",
      "Transfer: [1.       1.       1.       1.       1.       1.       1.       0.986901\n",
      " 1.       1.      ]\n",
      "Transfer & Revision: [1. 1. 1. 1. 1. 1. 1. 1. 1. 1.]\n"
     ]
    },
    {
     "data": {
      "text/markdown": [
       "## CLL"
      ],
      "text/plain": [
       "<IPython.core.display.Markdown object>"
      ]
     },
     "metadata": {},
     "output_type": "display_data"
    },
    {
     "name": "stdout",
     "output_type": "stream",
     "text": [
      "T-test for experiment 1\n",
      "Ttest_relResult(statistic=1.3856978633473873, pvalue=0.23809220803766912)\n",
      "Ttest_relResult(statistic=1.5669459424512866, pvalue=0.192193358384968)\n"
     ]
    },
    {
     "data": {
      "text/html": [
       "<div>\n",
       "<table border=\"1\" class=\"dataframe\">\n",
       "  <thead>\n",
       "    <tr style=\"text-align: right;\">\n",
       "      <th></th>\n",
       "      <th>p-value</th>\n",
       "      <th>RDN-B</th>\n",
       "    </tr>\n",
       "  </thead>\n",
       "  <tbody>\n",
       "    <tr>\n",
       "      <th>0</th>\n",
       "      <td>transferRDN-B Ref</td>\n",
       "      <td>0.238</td>\n",
       "    </tr>\n",
       "    <tr>\n",
       "      <th>1</th>\n",
       "      <td>transferRDN-B</td>\n",
       "      <td>0.192</td>\n",
       "    </tr>\n",
       "  </tbody>\n",
       "</table>\n",
       "</div>"
      ],
      "text/plain": [
       "             p-value  RDN-B\n",
       "0  transferRDN-B Ref  0.238\n",
       "1      transferRDN-B  0.192"
      ]
     },
     "metadata": {},
     "output_type": "display_data"
    },
    {
     "name": "stdout",
     "output_type": "stream",
     "text": [
      "T-test for experiment 2\n",
      "Ttest_relResult(statistic=1.5048287213993148, pvalue=0.2068167259881989)\n",
      "Ttest_relResult(statistic=0.16726753053797272, pvalue=0.8752752532511838)\n"
     ]
    },
    {
     "data": {
      "text/html": [
       "<div>\n",
       "<table border=\"1\" class=\"dataframe\">\n",
       "  <thead>\n",
       "    <tr style=\"text-align: right;\">\n",
       "      <th></th>\n",
       "      <th>p-value</th>\n",
       "      <th>RDN-B</th>\n",
       "    </tr>\n",
       "  </thead>\n",
       "  <tbody>\n",
       "    <tr>\n",
       "      <th>0</th>\n",
       "      <td>transferRDN-B Ref</td>\n",
       "      <td>0.207</td>\n",
       "    </tr>\n",
       "    <tr>\n",
       "      <th>1</th>\n",
       "      <td>transferRDN-B</td>\n",
       "      <td>0.875</td>\n",
       "    </tr>\n",
       "  </tbody>\n",
       "</table>\n",
       "</div>"
      ],
      "text/plain": [
       "             p-value  RDN-B\n",
       "0  transferRDN-B Ref  0.207\n",
       "1      transferRDN-B  0.875"
      ]
     },
     "metadata": {},
     "output_type": "display_data"
    },
    {
     "name": "stdout",
     "output_type": "stream",
     "text": [
      "\n",
      "\n",
      "Scratch: [-0.289355 -0.179547 -0.094637 -0.094637 -0.213649 -0.289355 -0.179547\n",
      " -0.094637 -0.094637 -0.213649]\n",
      "Transfer: [-0.125718 -0.126244 -0.098728 -0.12804  -0.116906 -0.121506 -0.121913\n",
      " -0.341716 -0.120532 -0.105816]\n",
      "Transfer & Revision: [-0.140467 -0.142245 -0.097161 -0.134758 -0.126925 -0.134555 -0.134478\n",
      " -0.097894 -0.133249 -0.105495]\n"
     ]
    },
    {
     "data": {
      "text/markdown": [
       "## Recall"
      ],
      "text/plain": [
       "<IPython.core.display.Markdown object>"
      ]
     },
     "metadata": {},
     "output_type": "display_data"
    },
    {
     "name": "stdout",
     "output_type": "stream",
     "text": [
      "T-test for experiment 1\n",
      "Ttest_relResult(statistic=nan, pvalue=nan)\n",
      "Ttest_relResult(statistic=nan, pvalue=nan)\n"
     ]
    },
    {
     "data": {
      "text/html": [
       "<div>\n",
       "<table border=\"1\" class=\"dataframe\">\n",
       "  <thead>\n",
       "    <tr style=\"text-align: right;\">\n",
       "      <th></th>\n",
       "      <th>p-value</th>\n",
       "      <th>RDN-B</th>\n",
       "    </tr>\n",
       "  </thead>\n",
       "  <tbody>\n",
       "    <tr>\n",
       "      <th>0</th>\n",
       "      <td>transferRDN-B Ref</td>\n",
       "      <td>nan</td>\n",
       "    </tr>\n",
       "    <tr>\n",
       "      <th>1</th>\n",
       "      <td>transferRDN-B</td>\n",
       "      <td>nan</td>\n",
       "    </tr>\n",
       "  </tbody>\n",
       "</table>\n",
       "</div>"
      ],
      "text/plain": [
       "             p-value RDN-B\n",
       "0  transferRDN-B Ref   nan\n",
       "1      transferRDN-B   nan"
      ]
     },
     "metadata": {},
     "output_type": "display_data"
    },
    {
     "name": "stdout",
     "output_type": "stream",
     "text": [
      "T-test for experiment 2\n",
      "Ttest_relResult(statistic=nan, pvalue=nan)\n",
      "Ttest_relResult(statistic=nan, pvalue=nan)\n"
     ]
    },
    {
     "data": {
      "text/html": [
       "<div>\n",
       "<table border=\"1\" class=\"dataframe\">\n",
       "  <thead>\n",
       "    <tr style=\"text-align: right;\">\n",
       "      <th></th>\n",
       "      <th>p-value</th>\n",
       "      <th>RDN-B</th>\n",
       "    </tr>\n",
       "  </thead>\n",
       "  <tbody>\n",
       "    <tr>\n",
       "      <th>0</th>\n",
       "      <td>transferRDN-B Ref</td>\n",
       "      <td>nan</td>\n",
       "    </tr>\n",
       "    <tr>\n",
       "      <th>1</th>\n",
       "      <td>transferRDN-B</td>\n",
       "      <td>nan</td>\n",
       "    </tr>\n",
       "  </tbody>\n",
       "</table>\n",
       "</div>"
      ],
      "text/plain": [
       "             p-value RDN-B\n",
       "0  transferRDN-B Ref   nan\n",
       "1      transferRDN-B   nan"
      ]
     },
     "metadata": {},
     "output_type": "display_data"
    },
    {
     "name": "stdout",
     "output_type": "stream",
     "text": [
      "\n",
      "\n",
      "Scratch: [1. 1. 1. 1. 1. 1. 1. 1. 1. 1.]\n",
      "Transfer: [1. 1. 1. 1. 1. 1. 1. 1. 1. 1.]\n",
      "Transfer & Revision: [1. 1. 1. 1. 1. 1. 1. 1. 1. 1.]\n"
     ]
    },
    {
     "data": {
      "text/markdown": [
       "## F1"
      ],
      "text/plain": [
       "<IPython.core.display.Markdown object>"
      ]
     },
     "metadata": {},
     "output_type": "display_data"
    },
    {
     "name": "stdout",
     "output_type": "stream",
     "text": [
      "T-test for experiment 1\n",
      "Ttest_relResult(statistic=2.3332880372203038, pvalue=0.0799636124595334)\n",
      "Ttest_relResult(statistic=2.4489985172744877, pvalue=0.0705212895221997)\n"
     ]
    },
    {
     "data": {
      "text/html": [
       "<div>\n",
       "<table border=\"1\" class=\"dataframe\">\n",
       "  <thead>\n",
       "    <tr style=\"text-align: right;\">\n",
       "      <th></th>\n",
       "      <th>p-value</th>\n",
       "      <th>RDN-B</th>\n",
       "    </tr>\n",
       "  </thead>\n",
       "  <tbody>\n",
       "    <tr>\n",
       "      <th>0</th>\n",
       "      <td>transferRDN-B Ref</td>\n",
       "      <td>0.080</td>\n",
       "    </tr>\n",
       "    <tr>\n",
       "      <th>1</th>\n",
       "      <td>transferRDN-B</td>\n",
       "      <td>0.071</td>\n",
       "    </tr>\n",
       "  </tbody>\n",
       "</table>\n",
       "</div>"
      ],
      "text/plain": [
       "             p-value  RDN-B\n",
       "0  transferRDN-B Ref  0.080\n",
       "1      transferRDN-B  0.071"
      ]
     },
     "metadata": {},
     "output_type": "display_data"
    },
    {
     "name": "stdout",
     "output_type": "stream",
     "text": [
      "T-test for experiment 2\n",
      "Ttest_relResult(statistic=2.4489985172744877, pvalue=0.0705212895221997)\n",
      "Ttest_relResult(statistic=2.0696129836028474, pvalue=0.10727717991713963)\n"
     ]
    },
    {
     "data": {
      "text/html": [
       "<div>\n",
       "<table border=\"1\" class=\"dataframe\">\n",
       "  <thead>\n",
       "    <tr style=\"text-align: right;\">\n",
       "      <th></th>\n",
       "      <th>p-value</th>\n",
       "      <th>RDN-B</th>\n",
       "    </tr>\n",
       "  </thead>\n",
       "  <tbody>\n",
       "    <tr>\n",
       "      <th>0</th>\n",
       "      <td>transferRDN-B Ref</td>\n",
       "      <td>0.071</td>\n",
       "    </tr>\n",
       "    <tr>\n",
       "      <th>1</th>\n",
       "      <td>transferRDN-B</td>\n",
       "      <td>0.107</td>\n",
       "    </tr>\n",
       "  </tbody>\n",
       "</table>\n",
       "</div>"
      ],
      "text/plain": [
       "             p-value  RDN-B\n",
       "0  transferRDN-B Ref  0.071\n",
       "1      transferRDN-B  0.107"
      ]
     },
     "metadata": {},
     "output_type": "display_data"
    },
    {
     "name": "stdout",
     "output_type": "stream",
     "text": [
      "\n",
      "\n",
      "Scratch: [0.913165 0.913963 1.       1.       0.915761 0.913165 0.913963 1.\n",
      " 1.       0.915761]\n",
      "Transfer: [1.       1.       1.       1.       1.       1.       1.       0.983133\n",
      " 1.       1.      ]\n",
      "Transfer & Revision: [1.       1.       1.       1.       0.969784 1.       1.       1.\n",
      " 1.       1.      ]\n"
     ]
    },
    {
     "data": {
      "text/markdown": [
       "## Precision"
      ],
      "text/plain": [
       "<IPython.core.display.Markdown object>"
      ]
     },
     "metadata": {},
     "output_type": "display_data"
    },
    {
     "name": "stdout",
     "output_type": "stream",
     "text": [
      "\n",
      "\n",
      "Scratch: [0.840206 0.841558 1.       1.       0.844612 0.840206 0.841558 1.\n",
      " 1.       0.844612]\n",
      "Transfer: [1.       1.       1.       1.       1.       1.       1.       0.966825\n",
      " 1.       1.      ]\n",
      "Transfer & Revision: [1.       1.       1.       1.       0.941341 1.       1.       1.\n",
      " 1.       1.      ]\n"
     ]
    },
    {
     "data": {
      "text/markdown": [
       "## Learning and Revision time"
      ],
      "text/plain": [
       "<IPython.core.display.Markdown object>"
      ]
     },
     "metadata": {},
     "output_type": "display_data"
    },
    {
     "name": "stdout",
     "output_type": "stream",
     "text": [
      "\n",
      "\n",
      "Scratch: [ 3.41   8.46  10.399  3.811  2.749  2.456  2.989  4.62   1.901  2.109]\n",
      "Transfer: [2.168 2.513 6.473 2.945 2.529 1.694 2.447 3.304 2.174 1.772]\n",
      "Transfer & Revision: [ 3.995 21.72  11.46   5.425  5.165  3.37   4.186  8.598  4.107  3.666]\n"
     ]
    },
    {
     "data": {
      "text/markdown": [
       "## Inference time"
      ],
      "text/plain": [
       "<IPython.core.display.Markdown object>"
      ]
     },
     "metadata": {},
     "output_type": "display_data"
    },
    {
     "name": "stdout",
     "output_type": "stream",
     "text": [
      "\n",
      "\n",
      "Scratch: [1.002 1.291 0.759 0.823 0.791 0.79  1.117 1.214 0.902 1.224]\n",
      "Transfer: [2.168 2.513 6.473 2.945 2.529 1.694 2.447 3.304 2.174 1.772]\n",
      "Transfer & Revision: [1.935 1.116 0.993 0.896 0.996 1.63  1.224 0.842 1.164 0.985]\n"
     ]
    },
    {
     "data": {
      "text/markdown": [
       "# Results for 3_imdb_uwcse"
      ],
      "text/plain": [
       "<IPython.core.display.Markdown object>"
      ]
     },
     "metadata": {},
     "output_type": "display_data"
    },
    {
     "data": {
      "text/markdown": [
       "# Results for 4_uwcse_imdb"
      ],
      "text/plain": [
       "<IPython.core.display.Markdown object>"
      ]
     },
     "metadata": {},
     "output_type": "display_data"
    },
    {
     "data": {
      "text/markdown": [
       "# Results for 5_imdb_uwcse"
      ],
      "text/plain": [
       "<IPython.core.display.Markdown object>"
      ]
     },
     "metadata": {},
     "output_type": "display_data"
    },
    {
     "data": {
      "text/markdown": [
       "# Results for 6_uwcse_imdb"
      ],
      "text/plain": [
       "<IPython.core.display.Markdown object>"
      ]
     },
     "metadata": {},
     "output_type": "display_data"
    },
    {
     "data": {
      "text/markdown": [
       "## AUC ROC"
      ],
      "text/plain": [
       "<IPython.core.display.Markdown object>"
      ]
     },
     "metadata": {},
     "output_type": "display_data"
    },
    {
     "name": "stdout",
     "output_type": "stream",
     "text": [
      "T-test for experiment 1\n",
      "Ttest_relResult(statistic=1.0, pvalue=0.373900966300059)\n",
      "Ttest_relResult(statistic=1.0, pvalue=0.373900966300059)\n"
     ]
    },
    {
     "data": {
      "text/html": [
       "<div>\n",
       "<table border=\"1\" class=\"dataframe\">\n",
       "  <thead>\n",
       "    <tr style=\"text-align: right;\">\n",
       "      <th></th>\n",
       "      <th>p-value</th>\n",
       "      <th>RDN-B</th>\n",
       "    </tr>\n",
       "  </thead>\n",
       "  <tbody>\n",
       "    <tr>\n",
       "      <th>0</th>\n",
       "      <td>transferRDN-B Ref</td>\n",
       "      <td>0.374</td>\n",
       "    </tr>\n",
       "    <tr>\n",
       "      <th>1</th>\n",
       "      <td>transferRDN-B</td>\n",
       "      <td>0.374</td>\n",
       "    </tr>\n",
       "  </tbody>\n",
       "</table>\n",
       "</div>"
      ],
      "text/plain": [
       "             p-value  RDN-B\n",
       "0  transferRDN-B Ref  0.374\n",
       "1      transferRDN-B  0.374"
      ]
     },
     "metadata": {},
     "output_type": "display_data"
    },
    {
     "name": "stdout",
     "output_type": "stream",
     "text": [
      "T-test for experiment 2\n",
      "Ttest_relResult(statistic=1.0, pvalue=0.373900966300059)\n",
      "Ttest_relResult(statistic=1.0, pvalue=0.373900966300059)\n"
     ]
    },
    {
     "data": {
      "text/html": [
       "<div>\n",
       "<table border=\"1\" class=\"dataframe\">\n",
       "  <thead>\n",
       "    <tr style=\"text-align: right;\">\n",
       "      <th></th>\n",
       "      <th>p-value</th>\n",
       "      <th>RDN-B</th>\n",
       "    </tr>\n",
       "  </thead>\n",
       "  <tbody>\n",
       "    <tr>\n",
       "      <th>0</th>\n",
       "      <td>transferRDN-B Ref</td>\n",
       "      <td>0.374</td>\n",
       "    </tr>\n",
       "    <tr>\n",
       "      <th>1</th>\n",
       "      <td>transferRDN-B</td>\n",
       "      <td>0.374</td>\n",
       "    </tr>\n",
       "  </tbody>\n",
       "</table>\n",
       "</div>"
      ],
      "text/plain": [
       "             p-value  RDN-B\n",
       "0  transferRDN-B Ref  0.374\n",
       "1      transferRDN-B  0.374"
      ]
     },
     "metadata": {},
     "output_type": "display_data"
    },
    {
     "name": "stdout",
     "output_type": "stream",
     "text": [
      "\n",
      "\n",
      "Scratch: [0.875    0.885714 0.965517 0.906977 0.5      0.875    0.885714 0.965517\n",
      " 0.906977 0.5     ]\n",
      "Transfer: [0.875    0.885714 0.965517 0.906977 0.9      0.875    0.885714 0.965517\n",
      " 0.906977 0.9     ]\n",
      "Transfer & Revision: [0.875    0.885714 0.965517 0.906977 0.9      0.875    0.885714 0.965517\n",
      " 0.906977 0.9     ]\n"
     ]
    },
    {
     "data": {
      "text/markdown": [
       "## AUC PR"
      ],
      "text/plain": [
       "<IPython.core.display.Markdown object>"
      ]
     },
     "metadata": {},
     "output_type": "display_data"
    },
    {
     "name": "stdout",
     "output_type": "stream",
     "text": [
      "T-test for experiment 1\n",
      "Ttest_relResult(statistic=1.0, pvalue=0.373900966300059)\n",
      "Ttest_relResult(statistic=1.0, pvalue=0.373900966300059)\n"
     ]
    },
    {
     "data": {
      "text/html": [
       "<div>\n",
       "<table border=\"1\" class=\"dataframe\">\n",
       "  <thead>\n",
       "    <tr style=\"text-align: right;\">\n",
       "      <th></th>\n",
       "      <th>p-value</th>\n",
       "      <th>RDN-B</th>\n",
       "    </tr>\n",
       "  </thead>\n",
       "  <tbody>\n",
       "    <tr>\n",
       "      <th>0</th>\n",
       "      <td>transferRDN-B Ref</td>\n",
       "      <td>0.374</td>\n",
       "    </tr>\n",
       "    <tr>\n",
       "      <th>1</th>\n",
       "      <td>transferRDN-B</td>\n",
       "      <td>0.374</td>\n",
       "    </tr>\n",
       "  </tbody>\n",
       "</table>\n",
       "</div>"
      ],
      "text/plain": [
       "             p-value  RDN-B\n",
       "0  transferRDN-B Ref  0.374\n",
       "1      transferRDN-B  0.374"
      ]
     },
     "metadata": {},
     "output_type": "display_data"
    },
    {
     "name": "stdout",
     "output_type": "stream",
     "text": [
      "T-test for experiment 2\n",
      "Ttest_relResult(statistic=1.0, pvalue=0.373900966300059)\n",
      "Ttest_relResult(statistic=1.0, pvalue=0.373900966300059)\n"
     ]
    },
    {
     "data": {
      "text/html": [
       "<div>\n",
       "<table border=\"1\" class=\"dataframe\">\n",
       "  <thead>\n",
       "    <tr style=\"text-align: right;\">\n",
       "      <th></th>\n",
       "      <th>p-value</th>\n",
       "      <th>RDN-B</th>\n",
       "    </tr>\n",
       "  </thead>\n",
       "  <tbody>\n",
       "    <tr>\n",
       "      <th>0</th>\n",
       "      <td>transferRDN-B Ref</td>\n",
       "      <td>0.374</td>\n",
       "    </tr>\n",
       "    <tr>\n",
       "      <th>1</th>\n",
       "      <td>transferRDN-B</td>\n",
       "      <td>0.374</td>\n",
       "    </tr>\n",
       "  </tbody>\n",
       "</table>\n",
       "</div>"
      ],
      "text/plain": [
       "             p-value  RDN-B\n",
       "0  transferRDN-B Ref  0.374\n",
       "1      transferRDN-B  0.374"
      ]
     },
     "metadata": {},
     "output_type": "display_data"
    },
    {
     "name": "stdout",
     "output_type": "stream",
     "text": [
      "\n",
      "\n",
      "Scratch: [0.8      0.813953 0.935484 0.843137 0.5      0.8      0.813953 0.935484\n",
      " 0.843137 0.5     ]\n",
      "Transfer: [0.8      0.813953 0.935484 0.843137 0.833333 0.8      0.813953 0.935484\n",
      " 0.843137 0.833333]\n",
      "Transfer & Revision: [0.8      0.813953 0.935484 0.843137 0.833333 0.8      0.813953 0.935484\n",
      " 0.843137 0.833333]\n"
     ]
    },
    {
     "data": {
      "text/markdown": [
       "## CLL"
      ],
      "text/plain": [
       "<IPython.core.display.Markdown object>"
      ]
     },
     "metadata": {},
     "output_type": "display_data"
    },
    {
     "name": "stdout",
     "output_type": "stream",
     "text": [
      "T-test for experiment 1\n",
      "Ttest_relResult(statistic=1.0, pvalue=0.373900966300059)\n",
      "Ttest_relResult(statistic=0.9370088998261259, pvalue=0.4018030398979859)\n"
     ]
    },
    {
     "data": {
      "text/html": [
       "<div>\n",
       "<table border=\"1\" class=\"dataframe\">\n",
       "  <thead>\n",
       "    <tr style=\"text-align: right;\">\n",
       "      <th></th>\n",
       "      <th>p-value</th>\n",
       "      <th>RDN-B</th>\n",
       "    </tr>\n",
       "  </thead>\n",
       "  <tbody>\n",
       "    <tr>\n",
       "      <th>0</th>\n",
       "      <td>transferRDN-B Ref</td>\n",
       "      <td>0.374</td>\n",
       "    </tr>\n",
       "    <tr>\n",
       "      <th>1</th>\n",
       "      <td>transferRDN-B</td>\n",
       "      <td>0.402</td>\n",
       "    </tr>\n",
       "  </tbody>\n",
       "</table>\n",
       "</div>"
      ],
      "text/plain": [
       "             p-value  RDN-B\n",
       "0  transferRDN-B Ref  0.374\n",
       "1      transferRDN-B  0.402"
      ]
     },
     "metadata": {},
     "output_type": "display_data"
    },
    {
     "name": "stdout",
     "output_type": "stream",
     "text": [
      "T-test for experiment 2\n",
      "Ttest_relResult(statistic=1.0, pvalue=0.373900966300059)\n",
      "Ttest_relResult(statistic=0.9340127580731116, pvalue=0.40317328068072483)\n"
     ]
    },
    {
     "data": {
      "text/html": [
       "<div>\n",
       "<table border=\"1\" class=\"dataframe\">\n",
       "  <thead>\n",
       "    <tr style=\"text-align: right;\">\n",
       "      <th></th>\n",
       "      <th>p-value</th>\n",
       "      <th>RDN-B</th>\n",
       "    </tr>\n",
       "  </thead>\n",
       "  <tbody>\n",
       "    <tr>\n",
       "      <th>0</th>\n",
       "      <td>transferRDN-B Ref</td>\n",
       "      <td>0.374</td>\n",
       "    </tr>\n",
       "    <tr>\n",
       "      <th>1</th>\n",
       "      <td>transferRDN-B</td>\n",
       "      <td>0.403</td>\n",
       "    </tr>\n",
       "  </tbody>\n",
       "</table>\n",
       "</div>"
      ],
      "text/plain": [
       "             p-value  RDN-B\n",
       "0  transferRDN-B Ref  0.374\n",
       "1      transferRDN-B  0.403"
      ]
     },
     "metadata": {},
     "output_type": "display_data"
    },
    {
     "name": "stdout",
     "output_type": "stream",
     "text": [
      "\n",
      "\n",
      "Scratch: [-0.352709 -0.320018 -0.264596 -0.300536 -1.052978 -0.352709 -0.320018\n",
      " -0.264596 -0.300536 -1.052978]\n",
      "Transfer: [-0.351932 -0.326947 -0.282685 -0.314344 -0.304933 -0.352356 -0.327349\n",
      " -0.283226 -0.314791 -0.305401]\n",
      "Transfer & Revision: [-0.352709 -0.320018 -0.264596 -0.300536 -0.299128 -0.352709 -0.320018\n",
      " -0.264596 -0.300536 -0.299128]\n"
     ]
    },
    {
     "data": {
      "text/markdown": [
       "## Recall"
      ],
      "text/plain": [
       "<IPython.core.display.Markdown object>"
      ]
     },
     "metadata": {},
     "output_type": "display_data"
    },
    {
     "name": "stdout",
     "output_type": "stream",
     "text": [
      "T-test for experiment 1\n",
      "Ttest_relResult(statistic=1.0, pvalue=0.373900966300059)\n",
      "Ttest_relResult(statistic=1.0, pvalue=0.373900966300059)\n"
     ]
    },
    {
     "data": {
      "text/html": [
       "<div>\n",
       "<table border=\"1\" class=\"dataframe\">\n",
       "  <thead>\n",
       "    <tr style=\"text-align: right;\">\n",
       "      <th></th>\n",
       "      <th>p-value</th>\n",
       "      <th>RDN-B</th>\n",
       "    </tr>\n",
       "  </thead>\n",
       "  <tbody>\n",
       "    <tr>\n",
       "      <th>0</th>\n",
       "      <td>transferRDN-B Ref</td>\n",
       "      <td>0.374</td>\n",
       "    </tr>\n",
       "    <tr>\n",
       "      <th>1</th>\n",
       "      <td>transferRDN-B</td>\n",
       "      <td>0.374</td>\n",
       "    </tr>\n",
       "  </tbody>\n",
       "</table>\n",
       "</div>"
      ],
      "text/plain": [
       "             p-value  RDN-B\n",
       "0  transferRDN-B Ref  0.374\n",
       "1      transferRDN-B  0.374"
      ]
     },
     "metadata": {},
     "output_type": "display_data"
    },
    {
     "name": "stdout",
     "output_type": "stream",
     "text": [
      "T-test for experiment 2\n",
      "Ttest_relResult(statistic=1.0, pvalue=0.373900966300059)\n",
      "Ttest_relResult(statistic=1.0, pvalue=0.373900966300059)\n"
     ]
    },
    {
     "data": {
      "text/html": [
       "<div>\n",
       "<table border=\"1\" class=\"dataframe\">\n",
       "  <thead>\n",
       "    <tr style=\"text-align: right;\">\n",
       "      <th></th>\n",
       "      <th>p-value</th>\n",
       "      <th>RDN-B</th>\n",
       "    </tr>\n",
       "  </thead>\n",
       "  <tbody>\n",
       "    <tr>\n",
       "      <th>0</th>\n",
       "      <td>transferRDN-B Ref</td>\n",
       "      <td>0.374</td>\n",
       "    </tr>\n",
       "    <tr>\n",
       "      <th>1</th>\n",
       "      <td>transferRDN-B</td>\n",
       "      <td>0.374</td>\n",
       "    </tr>\n",
       "  </tbody>\n",
       "</table>\n",
       "</div>"
      ],
      "text/plain": [
       "             p-value  RDN-B\n",
       "0  transferRDN-B Ref  0.374\n",
       "1      transferRDN-B  0.374"
      ]
     },
     "metadata": {},
     "output_type": "display_data"
    },
    {
     "name": "stdout",
     "output_type": "stream",
     "text": [
      "\n",
      "\n",
      "Scratch: [1. 1. 1. 1. 0. 1. 1. 1. 1. 0.]\n",
      "Transfer: [1. 1. 1. 1. 1. 1. 1. 1. 1. 1.]\n",
      "Transfer & Revision: [1. 1. 1. 1. 1. 1. 1. 1. 1. 1.]\n"
     ]
    },
    {
     "data": {
      "text/markdown": [
       "## F1"
      ],
      "text/plain": [
       "<IPython.core.display.Markdown object>"
      ]
     },
     "metadata": {},
     "output_type": "display_data"
    },
    {
     "name": "stdout",
     "output_type": "stream",
     "text": [
      "T-test for experiment 1\n",
      "Ttest_relResult(statistic=nan, pvalue=nan)\n",
      "Ttest_relResult(statistic=nan, pvalue=nan)\n"
     ]
    },
    {
     "data": {
      "text/html": [
       "<div>\n",
       "<table border=\"1\" class=\"dataframe\">\n",
       "  <thead>\n",
       "    <tr style=\"text-align: right;\">\n",
       "      <th></th>\n",
       "      <th>p-value</th>\n",
       "      <th>RDN-B</th>\n",
       "    </tr>\n",
       "  </thead>\n",
       "  <tbody>\n",
       "    <tr>\n",
       "      <th>0</th>\n",
       "      <td>transferRDN-B Ref</td>\n",
       "      <td>nan</td>\n",
       "    </tr>\n",
       "    <tr>\n",
       "      <th>1</th>\n",
       "      <td>transferRDN-B</td>\n",
       "      <td>nan</td>\n",
       "    </tr>\n",
       "  </tbody>\n",
       "</table>\n",
       "</div>"
      ],
      "text/plain": [
       "             p-value RDN-B\n",
       "0  transferRDN-B Ref   nan\n",
       "1      transferRDN-B   nan"
      ]
     },
     "metadata": {},
     "output_type": "display_data"
    },
    {
     "name": "stdout",
     "output_type": "stream",
     "text": [
      "T-test for experiment 2\n",
      "Ttest_relResult(statistic=nan, pvalue=nan)\n",
      "Ttest_relResult(statistic=nan, pvalue=nan)\n"
     ]
    },
    {
     "data": {
      "text/html": [
       "<div>\n",
       "<table border=\"1\" class=\"dataframe\">\n",
       "  <thead>\n",
       "    <tr style=\"text-align: right;\">\n",
       "      <th></th>\n",
       "      <th>p-value</th>\n",
       "      <th>RDN-B</th>\n",
       "    </tr>\n",
       "  </thead>\n",
       "  <tbody>\n",
       "    <tr>\n",
       "      <th>0</th>\n",
       "      <td>transferRDN-B Ref</td>\n",
       "      <td>nan</td>\n",
       "    </tr>\n",
       "    <tr>\n",
       "      <th>1</th>\n",
       "      <td>transferRDN-B</td>\n",
       "      <td>nan</td>\n",
       "    </tr>\n",
       "  </tbody>\n",
       "</table>\n",
       "</div>"
      ],
      "text/plain": [
       "             p-value RDN-B\n",
       "0  transferRDN-B Ref   nan\n",
       "1      transferRDN-B   nan"
      ]
     },
     "metadata": {},
     "output_type": "display_data"
    },
    {
     "name": "stdout",
     "output_type": "stream",
     "text": [
      "\n",
      "\n",
      "Scratch: [0.888889 0.897436 0.966667 0.914894      nan 0.888889 0.897436 0.966667\n",
      " 0.914894      nan]\n",
      "Transfer: [0.888889 0.897436 0.966667 0.914894 0.909091 0.888889 0.897436 0.966667\n",
      " 0.914894 0.909091]\n",
      "Transfer & Revision: [0.888889 0.897436 0.966667 0.914894 0.909091 0.888889 0.897436 0.966667\n",
      " 0.914894 0.909091]\n"
     ]
    },
    {
     "data": {
      "text/markdown": [
       "## Precision"
      ],
      "text/plain": [
       "<IPython.core.display.Markdown object>"
      ]
     },
     "metadata": {},
     "output_type": "display_data"
    },
    {
     "name": "stdout",
     "output_type": "stream",
     "text": [
      "\n",
      "\n",
      "Scratch: [0.8      0.813953 0.935484 0.843137      nan 0.8      0.813953 0.935484\n",
      " 0.843137      nan]\n",
      "Transfer: [0.8      0.813953 0.935484 0.843137 0.833333 0.8      0.813953 0.935484\n",
      " 0.843137 0.833333]\n",
      "Transfer & Revision: [0.8      0.813953 0.935484 0.843137 0.833333 0.8      0.813953 0.935484\n",
      " 0.843137 0.833333]\n"
     ]
    },
    {
     "data": {
      "text/markdown": [
       "## Learning and Revision time"
      ],
      "text/plain": [
       "<IPython.core.display.Markdown object>"
      ]
     },
     "metadata": {},
     "output_type": "display_data"
    },
    {
     "name": "stdout",
     "output_type": "stream",
     "text": [
      "\n",
      "\n",
      "Scratch: [ 1.283  1.426  1.563 11.468  1.331  1.269  1.379  1.689  1.352  0.75 ]\n",
      "Transfer: [1.112 2.298 1.294 2.459 1.119 1.143 1.232 1.796 0.972 1.579]\n",
      "Transfer & Revision: [2.281 3.886 2.861 3.965 1.72  2.21  2.57  3.22  1.945 2.413]\n"
     ]
    },
    {
     "data": {
      "text/markdown": [
       "## Inference time"
      ],
      "text/plain": [
       "<IPython.core.display.Markdown object>"
      ]
     },
     "metadata": {},
     "output_type": "display_data"
    },
    {
     "name": "stdout",
     "output_type": "stream",
     "text": [
      "\n",
      "\n",
      "Scratch: [0.664 0.517 0.846 0.45  0.416 0.559 0.585 0.665 0.805 0.634]\n",
      "Transfer: [1.112 2.298 1.294 2.459 1.119 1.143 1.232 1.796 0.972 1.579]\n",
      "Transfer & Revision: [1.099 0.581 1.445 0.722 0.423 0.582 0.568 0.549 0.531 0.542]\n"
     ]
    },
    {
     "data": {
      "text/markdown": [
       "# Results for 7_imdb_cora"
      ],
      "text/plain": [
       "<IPython.core.display.Markdown object>"
      ]
     },
     "metadata": {},
     "output_type": "display_data"
    },
    {
     "data": {
      "text/markdown": [
       "# Results for 8_imdb_cora"
      ],
      "text/plain": [
       "<IPython.core.display.Markdown object>"
      ]
     },
     "metadata": {},
     "output_type": "display_data"
    },
    {
     "data": {
      "text/markdown": [
       "# Results for 9_imdb_cora"
      ],
      "text/plain": [
       "<IPython.core.display.Markdown object>"
      ]
     },
     "metadata": {},
     "output_type": "display_data"
    },
    {
     "data": {
      "text/markdown": [
       "# Results for 10_imdb_cora"
      ],
      "text/plain": [
       "<IPython.core.display.Markdown object>"
      ]
     },
     "metadata": {},
     "output_type": "display_data"
    },
    {
     "data": {
      "text/markdown": [
       "# Results for 11_uwcse_cora"
      ],
      "text/plain": [
       "<IPython.core.display.Markdown object>"
      ]
     },
     "metadata": {},
     "output_type": "display_data"
    },
    {
     "data": {
      "text/markdown": [
       "# Results for 12_uwcse_cora"
      ],
      "text/plain": [
       "<IPython.core.display.Markdown object>"
      ]
     },
     "metadata": {},
     "output_type": "display_data"
    },
    {
     "data": {
      "text/markdown": [
       "# Results for 13_uwcse_cora"
      ],
      "text/plain": [
       "<IPython.core.display.Markdown object>"
      ]
     },
     "metadata": {},
     "output_type": "display_data"
    },
    {
     "data": {
      "text/markdown": [
       "# Results for 14_uwcse_cora"
      ],
      "text/plain": [
       "<IPython.core.display.Markdown object>"
      ]
     },
     "metadata": {},
     "output_type": "display_data"
    },
    {
     "data": {
      "text/markdown": [
       "# Results for 15_yeast_twitter"
      ],
      "text/plain": [
       "<IPython.core.display.Markdown object>"
      ]
     },
     "metadata": {},
     "output_type": "display_data"
    },
    {
     "data": {
      "text/markdown": [
       "# Results for 16_yeast_twitter"
      ],
      "text/plain": [
       "<IPython.core.display.Markdown object>"
      ]
     },
     "metadata": {},
     "output_type": "display_data"
    },
    {
     "data": {
      "text/markdown": [
       "# Results for 17_yeast_twitter"
      ],
      "text/plain": [
       "<IPython.core.display.Markdown object>"
      ]
     },
     "metadata": {},
     "output_type": "display_data"
    },
    {
     "data": {
      "text/markdown": [
       "# Results for 18_yeast_twitter"
      ],
      "text/plain": [
       "<IPython.core.display.Markdown object>"
      ]
     },
     "metadata": {},
     "output_type": "display_data"
    },
    {
     "data": {
      "text/markdown": [
       "# Results for 19_yeast_twitter"
      ],
      "text/plain": [
       "<IPython.core.display.Markdown object>"
      ]
     },
     "metadata": {},
     "output_type": "display_data"
    },
    {
     "data": {
      "text/markdown": [
       "# Results for 20_yeast_twitter"
      ],
      "text/plain": [
       "<IPython.core.display.Markdown object>"
      ]
     },
     "metadata": {},
     "output_type": "display_data"
    },
    {
     "data": {
      "text/markdown": [
       "# Results for 21_yeast_twitter"
      ],
      "text/plain": [
       "<IPython.core.display.Markdown object>"
      ]
     },
     "metadata": {},
     "output_type": "display_data"
    },
    {
     "data": {
      "text/markdown": [
       "# Results for 22_twitter_yeast"
      ],
      "text/plain": [
       "<IPython.core.display.Markdown object>"
      ]
     },
     "metadata": {},
     "output_type": "display_data"
    },
    {
     "data": {
      "text/markdown": [
       "# Results for 23_twitter_yeast"
      ],
      "text/plain": [
       "<IPython.core.display.Markdown object>"
      ]
     },
     "metadata": {},
     "output_type": "display_data"
    },
    {
     "data": {
      "text/markdown": [
       "# Results for 24_twitter_yeast"
      ],
      "text/plain": [
       "<IPython.core.display.Markdown object>"
      ]
     },
     "metadata": {},
     "output_type": "display_data"
    },
    {
     "data": {
      "text/markdown": [
       "# Results for 25_twitter_yeast"
      ],
      "text/plain": [
       "<IPython.core.display.Markdown object>"
      ]
     },
     "metadata": {},
     "output_type": "display_data"
    },
    {
     "data": {
      "text/markdown": [
       "# Results for 26_twitter_yeast"
      ],
      "text/plain": [
       "<IPython.core.display.Markdown object>"
      ]
     },
     "metadata": {},
     "output_type": "display_data"
    },
    {
     "data": {
      "text/markdown": [
       "# Results for 27_twitter_yeast"
      ],
      "text/plain": [
       "<IPython.core.display.Markdown object>"
      ]
     },
     "metadata": {},
     "output_type": "display_data"
    },
    {
     "data": {
      "text/markdown": [
       "# Results for 28_twitter_yeast"
      ],
      "text/plain": [
       "<IPython.core.display.Markdown object>"
      ]
     },
     "metadata": {},
     "output_type": "display_data"
    },
    {
     "data": {
      "text/markdown": [
       "# Results for 29_nell_sports_nell_finances"
      ],
      "text/plain": [
       "<IPython.core.display.Markdown object>"
      ]
     },
     "metadata": {},
     "output_type": "display_data"
    },
    {
     "data": {
      "text/markdown": [
       "# Results for 30_nell_sports_nell_finances"
      ],
      "text/plain": [
       "<IPython.core.display.Markdown object>"
      ]
     },
     "metadata": {},
     "output_type": "display_data"
    },
    {
     "data": {
      "text/markdown": [
       "# Results for 31_nell_sports_nell_finances"
      ],
      "text/plain": [
       "<IPython.core.display.Markdown object>"
      ]
     },
     "metadata": {},
     "output_type": "display_data"
    },
    {
     "data": {
      "text/markdown": [
       "# Results for 32_nell_sports_nell_finances"
      ],
      "text/plain": [
       "<IPython.core.display.Markdown object>"
      ]
     },
     "metadata": {},
     "output_type": "display_data"
    },
    {
     "data": {
      "text/markdown": [
       "# Results for 33_nell_sports_nell_finances"
      ],
      "text/plain": [
       "<IPython.core.display.Markdown object>"
      ]
     },
     "metadata": {},
     "output_type": "display_data"
    },
    {
     "data": {
      "text/markdown": [
       "# Results for 34_nell_sports_nell_finances"
      ],
      "text/plain": [
       "<IPython.core.display.Markdown object>"
      ]
     },
     "metadata": {},
     "output_type": "display_data"
    },
    {
     "data": {
      "text/markdown": [
       "# Results for 35_nell_sports_nell_finances"
      ],
      "text/plain": [
       "<IPython.core.display.Markdown object>"
      ]
     },
     "metadata": {},
     "output_type": "display_data"
    },
    {
     "data": {
      "text/markdown": [
       "## AUC ROC"
      ],
      "text/plain": [
       "<IPython.core.display.Markdown object>"
      ]
     },
     "metadata": {},
     "output_type": "display_data"
    },
    {
     "name": "stdout",
     "output_type": "stream",
     "text": [
      "T-test for experiment 1\n",
      "Ttest_relResult(statistic=1.4419115471820416, pvalue=0.28606944512622406)\n",
      "Ttest_relResult(statistic=1.874877364354068, pvalue=0.20164949259959403)\n"
     ]
    },
    {
     "data": {
      "text/html": [
       "<div>\n",
       "<table border=\"1\" class=\"dataframe\">\n",
       "  <thead>\n",
       "    <tr style=\"text-align: right;\">\n",
       "      <th></th>\n",
       "      <th>p-value</th>\n",
       "      <th>RDN-B</th>\n",
       "    </tr>\n",
       "  </thead>\n",
       "  <tbody>\n",
       "    <tr>\n",
       "      <th>0</th>\n",
       "      <td>transferRDN-B Ref</td>\n",
       "      <td>0.286</td>\n",
       "    </tr>\n",
       "    <tr>\n",
       "      <th>1</th>\n",
       "      <td>transferRDN-B</td>\n",
       "      <td>0.202</td>\n",
       "    </tr>\n",
       "  </tbody>\n",
       "</table>\n",
       "</div>"
      ],
      "text/plain": [
       "             p-value  RDN-B\n",
       "0  transferRDN-B Ref  0.286\n",
       "1      transferRDN-B  0.202"
      ]
     },
     "metadata": {},
     "output_type": "display_data"
    },
    {
     "name": "stdout",
     "output_type": "stream",
     "text": [
      "T-test for experiment 2\n",
      "Ttest_relResult(statistic=1.3929983513315243, pvalue=0.29825714397447667)\n",
      "Ttest_relResult(statistic=1.548629751932808, pvalue=0.2615732174579369)\n"
     ]
    },
    {
     "data": {
      "text/html": [
       "<div>\n",
       "<table border=\"1\" class=\"dataframe\">\n",
       "  <thead>\n",
       "    <tr style=\"text-align: right;\">\n",
       "      <th></th>\n",
       "      <th>p-value</th>\n",
       "      <th>RDN-B</th>\n",
       "    </tr>\n",
       "  </thead>\n",
       "  <tbody>\n",
       "    <tr>\n",
       "      <th>0</th>\n",
       "      <td>transferRDN-B Ref</td>\n",
       "      <td>0.298</td>\n",
       "    </tr>\n",
       "    <tr>\n",
       "      <th>1</th>\n",
       "      <td>transferRDN-B</td>\n",
       "      <td>0.262</td>\n",
       "    </tr>\n",
       "  </tbody>\n",
       "</table>\n",
       "</div>"
      ],
      "text/plain": [
       "             p-value  RDN-B\n",
       "0  transferRDN-B Ref  0.298\n",
       "1      transferRDN-B  0.262"
      ]
     },
     "metadata": {},
     "output_type": "display_data"
    },
    {
     "name": "stdout",
     "output_type": "stream",
     "text": [
      "\n",
      "\n",
      "Scratch: [0.586735 0.653061 0.802734 0.545918 0.653061 0.808594]\n",
      "Transfer: [0.887755 0.716837 0.875    0.890306 0.693878 0.875   ]\n",
      "Transfer & Revision: [0.818878 0.732143 0.794922 0.798469 0.709184 0.814453]\n"
     ]
    },
    {
     "data": {
      "text/markdown": [
       "## AUC PR"
      ],
      "text/plain": [
       "<IPython.core.display.Markdown object>"
      ]
     },
     "metadata": {},
     "output_type": "display_data"
    },
    {
     "name": "stdout",
     "output_type": "stream",
     "text": [
      "T-test for experiment 1\n",
      "Ttest_relResult(statistic=1.18429938913556, pvalue=0.35796561585754183)\n",
      "Ttest_relResult(statistic=1.4819080411135122, pvalue=0.2765627737974175)\n"
     ]
    },
    {
     "data": {
      "text/html": [
       "<div>\n",
       "<table border=\"1\" class=\"dataframe\">\n",
       "  <thead>\n",
       "    <tr style=\"text-align: right;\">\n",
       "      <th></th>\n",
       "      <th>p-value</th>\n",
       "      <th>RDN-B</th>\n",
       "    </tr>\n",
       "  </thead>\n",
       "  <tbody>\n",
       "    <tr>\n",
       "      <th>0</th>\n",
       "      <td>transferRDN-B Ref</td>\n",
       "      <td>0.358</td>\n",
       "    </tr>\n",
       "    <tr>\n",
       "      <th>1</th>\n",
       "      <td>transferRDN-B</td>\n",
       "      <td>0.277</td>\n",
       "    </tr>\n",
       "  </tbody>\n",
       "</table>\n",
       "</div>"
      ],
      "text/plain": [
       "             p-value  RDN-B\n",
       "0  transferRDN-B Ref  0.358\n",
       "1      transferRDN-B  0.277"
      ]
     },
     "metadata": {},
     "output_type": "display_data"
    },
    {
     "name": "stdout",
     "output_type": "stream",
     "text": [
      "T-test for experiment 2\n",
      "Ttest_relResult(statistic=1.214393021500958, pvalue=0.3485254487108007)\n",
      "Ttest_relResult(statistic=1.3222028341807381, pvalue=0.317055318097611)\n"
     ]
    },
    {
     "data": {
      "text/html": [
       "<div>\n",
       "<table border=\"1\" class=\"dataframe\">\n",
       "  <thead>\n",
       "    <tr style=\"text-align: right;\">\n",
       "      <th></th>\n",
       "      <th>p-value</th>\n",
       "      <th>RDN-B</th>\n",
       "    </tr>\n",
       "  </thead>\n",
       "  <tbody>\n",
       "    <tr>\n",
       "      <th>0</th>\n",
       "      <td>transferRDN-B Ref</td>\n",
       "      <td>0.349</td>\n",
       "    </tr>\n",
       "    <tr>\n",
       "      <th>1</th>\n",
       "      <td>transferRDN-B</td>\n",
       "      <td>0.317</td>\n",
       "    </tr>\n",
       "  </tbody>\n",
       "</table>\n",
       "</div>"
      ],
      "text/plain": [
       "             p-value  RDN-B\n",
       "0  transferRDN-B Ref  0.349\n",
       "1      transferRDN-B  0.317"
      ]
     },
     "metadata": {},
     "output_type": "display_data"
    },
    {
     "name": "stdout",
     "output_type": "stream",
     "text": [
      "\n",
      "\n",
      "Scratch: [0.570559 0.730226 0.84381  0.545399 0.730226 0.853288]\n",
      "Transfer: [0.928452 0.787069 0.886249 0.922247 0.780312 0.876913]\n",
      "Transfer & Revision: [0.845443 0.792743 0.820927 0.838769 0.783905 0.842971]\n"
     ]
    },
    {
     "data": {
      "text/markdown": [
       "## CLL"
      ],
      "text/plain": [
       "<IPython.core.display.Markdown object>"
      ]
     },
     "metadata": {},
     "output_type": "display_data"
    },
    {
     "name": "stdout",
     "output_type": "stream",
     "text": [
      "T-test for experiment 1\n",
      "Ttest_relResult(statistic=1.4675471684166286, pvalue=0.27992989122829515)\n",
      "Ttest_relResult(statistic=3.0810336364333004, pvalue=0.09116694429038479)\n"
     ]
    },
    {
     "data": {
      "text/html": [
       "<div>\n",
       "<table border=\"1\" class=\"dataframe\">\n",
       "  <thead>\n",
       "    <tr style=\"text-align: right;\">\n",
       "      <th></th>\n",
       "      <th>p-value</th>\n",
       "      <th>RDN-B</th>\n",
       "    </tr>\n",
       "  </thead>\n",
       "  <tbody>\n",
       "    <tr>\n",
       "      <th>0</th>\n",
       "      <td>transferRDN-B Ref</td>\n",
       "      <td>0.280</td>\n",
       "    </tr>\n",
       "    <tr>\n",
       "      <th>1</th>\n",
       "      <td>transferRDN-B</td>\n",
       "      <td>0.091</td>\n",
       "    </tr>\n",
       "  </tbody>\n",
       "</table>\n",
       "</div>"
      ],
      "text/plain": [
       "             p-value  RDN-B\n",
       "0  transferRDN-B Ref  0.280\n",
       "1      transferRDN-B  0.091"
      ]
     },
     "metadata": {},
     "output_type": "display_data"
    },
    {
     "name": "stdout",
     "output_type": "stream",
     "text": [
      "T-test for experiment 2\n",
      "Ttest_relResult(statistic=1.4734106847244168, pvalue=0.2785489109198853)\n",
      "Ttest_relResult(statistic=3.4715891316342073, pvalue=0.07389481809393207)\n"
     ]
    },
    {
     "data": {
      "text/html": [
       "<div>\n",
       "<table border=\"1\" class=\"dataframe\">\n",
       "  <thead>\n",
       "    <tr style=\"text-align: right;\">\n",
       "      <th></th>\n",
       "      <th>p-value</th>\n",
       "      <th>RDN-B</th>\n",
       "    </tr>\n",
       "  </thead>\n",
       "  <tbody>\n",
       "    <tr>\n",
       "      <th>0</th>\n",
       "      <td>transferRDN-B Ref</td>\n",
       "      <td>0.279</td>\n",
       "    </tr>\n",
       "    <tr>\n",
       "      <th>1</th>\n",
       "      <td>transferRDN-B</td>\n",
       "      <td>0.074</td>\n",
       "    </tr>\n",
       "  </tbody>\n",
       "</table>\n",
       "</div>"
      ],
      "text/plain": [
       "             p-value  RDN-B\n",
       "0  transferRDN-B Ref  0.279\n",
       "1      transferRDN-B  0.074"
      ]
     },
     "metadata": {},
     "output_type": "display_data"
    },
    {
     "name": "stdout",
     "output_type": "stream",
     "text": [
      "\n",
      "\n",
      "Scratch: [-0.778962 -0.712691 -0.600497 -0.792655 -0.712691 -0.627312]\n",
      "Transfer: [-0.519091 -0.624733 -0.470274 -0.514962 -0.609799 -0.470019]\n",
      "Transfer & Revision: [-0.54019  -0.624647 -0.609709 -0.539966 -0.718417 -0.540207]\n"
     ]
    },
    {
     "data": {
      "text/markdown": [
       "## Recall"
      ],
      "text/plain": [
       "<IPython.core.display.Markdown object>"
      ]
     },
     "metadata": {},
     "output_type": "display_data"
    },
    {
     "name": "stdout",
     "output_type": "stream",
     "text": [
      "T-test for experiment 1\n",
      "Ttest_relResult(statistic=1.0, pvalue=0.42264973081037427)\n",
      "Ttest_relResult(statistic=0.1817286476094054, pvalue=0.8725464305171351)\n"
     ]
    },
    {
     "data": {
      "text/html": [
       "<div>\n",
       "<table border=\"1\" class=\"dataframe\">\n",
       "  <thead>\n",
       "    <tr style=\"text-align: right;\">\n",
       "      <th></th>\n",
       "      <th>p-value</th>\n",
       "      <th>RDN-B</th>\n",
       "    </tr>\n",
       "  </thead>\n",
       "  <tbody>\n",
       "    <tr>\n",
       "      <th>0</th>\n",
       "      <td>transferRDN-B Ref</td>\n",
       "      <td>0.423</td>\n",
       "    </tr>\n",
       "    <tr>\n",
       "      <th>1</th>\n",
       "      <td>transferRDN-B</td>\n",
       "      <td>0.873</td>\n",
       "    </tr>\n",
       "  </tbody>\n",
       "</table>\n",
       "</div>"
      ],
      "text/plain": [
       "             p-value  RDN-B\n",
       "0  transferRDN-B Ref  0.423\n",
       "1      transferRDN-B  0.873"
      ]
     },
     "metadata": {},
     "output_type": "display_data"
    },
    {
     "name": "stdout",
     "output_type": "stream",
     "text": [
      "T-test for experiment 2\n",
      "Ttest_relResult(statistic=0.9999999999999999, pvalue=0.42264973081037427)\n",
      "Ttest_relResult(statistic=0.4166097685044111, pvalue=0.7174188015008727)\n"
     ]
    },
    {
     "data": {
      "text/html": [
       "<div>\n",
       "<table border=\"1\" class=\"dataframe\">\n",
       "  <thead>\n",
       "    <tr style=\"text-align: right;\">\n",
       "      <th></th>\n",
       "      <th>p-value</th>\n",
       "      <th>RDN-B</th>\n",
       "    </tr>\n",
       "  </thead>\n",
       "  <tbody>\n",
       "    <tr>\n",
       "      <th>0</th>\n",
       "      <td>transferRDN-B Ref</td>\n",
       "      <td>0.423</td>\n",
       "    </tr>\n",
       "    <tr>\n",
       "      <th>1</th>\n",
       "      <td>transferRDN-B</td>\n",
       "      <td>0.717</td>\n",
       "    </tr>\n",
       "  </tbody>\n",
       "</table>\n",
       "</div>"
      ],
      "text/plain": [
       "             p-value  RDN-B\n",
       "0  transferRDN-B Ref  0.423\n",
       "1      transferRDN-B  0.717"
      ]
     },
     "metadata": {},
     "output_type": "display_data"
    },
    {
     "name": "stdout",
     "output_type": "stream",
     "text": [
      "\n",
      "\n",
      "Scratch: [0.5      0.5      0.875    0.428571 0.5      0.8125  ]\n",
      "Transfer: [0.857143 0.357143 0.75     0.857143 0.357143 0.75    ]\n",
      "Transfer & Revision: [0.857143 0.5      0.875    0.714286 0.5      0.8125  ]\n"
     ]
    },
    {
     "data": {
      "text/markdown": [
       "## F1"
      ],
      "text/plain": [
       "<IPython.core.display.Markdown object>"
      ]
     },
     "metadata": {},
     "output_type": "display_data"
    },
    {
     "name": "stdout",
     "output_type": "stream",
     "text": [
      "T-test for experiment 1\n",
      "Ttest_relResult(statistic=1.0321559009954324, pvalue=0.4104704722314203)\n",
      "Ttest_relResult(statistic=0.7378475942653685, pvalue=0.5374354519196187)\n"
     ]
    },
    {
     "data": {
      "text/html": [
       "<div>\n",
       "<table border=\"1\" class=\"dataframe\">\n",
       "  <thead>\n",
       "    <tr style=\"text-align: right;\">\n",
       "      <th></th>\n",
       "      <th>p-value</th>\n",
       "      <th>RDN-B</th>\n",
       "    </tr>\n",
       "  </thead>\n",
       "  <tbody>\n",
       "    <tr>\n",
       "      <th>0</th>\n",
       "      <td>transferRDN-B Ref</td>\n",
       "      <td>0.410</td>\n",
       "    </tr>\n",
       "    <tr>\n",
       "      <th>1</th>\n",
       "      <td>transferRDN-B</td>\n",
       "      <td>0.537</td>\n",
       "    </tr>\n",
       "  </tbody>\n",
       "</table>\n",
       "</div>"
      ],
      "text/plain": [
       "             p-value  RDN-B\n",
       "0  transferRDN-B Ref  0.410\n",
       "1      transferRDN-B  0.537"
      ]
     },
     "metadata": {},
     "output_type": "display_data"
    },
    {
     "name": "stdout",
     "output_type": "stream",
     "text": [
      "T-test for experiment 2\n",
      "Ttest_relResult(statistic=2.252579312476151, pvalue=0.15307670656845154)\n",
      "Ttest_relResult(statistic=0.8699955891710288, pvalue=0.47602912348217286)\n"
     ]
    },
    {
     "data": {
      "text/html": [
       "<div>\n",
       "<table border=\"1\" class=\"dataframe\">\n",
       "  <thead>\n",
       "    <tr style=\"text-align: right;\">\n",
       "      <th></th>\n",
       "      <th>p-value</th>\n",
       "      <th>RDN-B</th>\n",
       "    </tr>\n",
       "  </thead>\n",
       "  <tbody>\n",
       "    <tr>\n",
       "      <th>0</th>\n",
       "      <td>transferRDN-B Ref</td>\n",
       "      <td>0.153</td>\n",
       "    </tr>\n",
       "    <tr>\n",
       "      <th>1</th>\n",
       "      <td>transferRDN-B</td>\n",
       "      <td>0.476</td>\n",
       "    </tr>\n",
       "  </tbody>\n",
       "</table>\n",
       "</div>"
      ],
      "text/plain": [
       "             p-value  RDN-B\n",
       "0  transferRDN-B Ref  0.153\n",
       "1      transferRDN-B  0.476"
      ]
     },
     "metadata": {},
     "output_type": "display_data"
    },
    {
     "name": "stdout",
     "output_type": "stream",
     "text": [
      "\n",
      "\n",
      "Scratch: [0.518519 0.583333 0.756757 0.444444 0.583333 0.722222]\n",
      "Transfer: [0.888889 0.5      0.774194 0.888889 0.5      0.774194]\n",
      "Transfer & Revision: [0.75     0.636364 0.717949 0.645161 0.636364 0.787879]\n"
     ]
    },
    {
     "data": {
      "text/markdown": [
       "## Precision"
      ],
      "text/plain": [
       "<IPython.core.display.Markdown object>"
      ]
     },
     "metadata": {},
     "output_type": "display_data"
    },
    {
     "name": "stdout",
     "output_type": "stream",
     "text": [
      "\n",
      "\n",
      "Scratch: [0.538462 0.7      0.666667 0.461538 0.7      0.65    ]\n",
      "Transfer: [0.923077 0.833333 0.8      0.923077 0.833333 0.8     ]\n",
      "Transfer & Revision: [0.666667 0.875    0.608696 0.588235 0.875    0.764706]\n"
     ]
    },
    {
     "data": {
      "text/markdown": [
       "## Learning and Revision time"
      ],
      "text/plain": [
       "<IPython.core.display.Markdown object>"
      ]
     },
     "metadata": {},
     "output_type": "display_data"
    },
    {
     "name": "stdout",
     "output_type": "stream",
     "text": [
      "\n",
      "\n",
      "Scratch: [2.58  3.967 1.963 4.177 5.264 2.968]\n",
      "Transfer: [2.798 2.898 1.993 1.983 2.769 1.732]\n",
      "Transfer & Revision: [7.375 6.963 4.07  5.528 6.353 3.504]\n"
     ]
    },
    {
     "data": {
      "text/markdown": [
       "## Inference time"
      ],
      "text/plain": [
       "<IPython.core.display.Markdown object>"
      ]
     },
     "metadata": {},
     "output_type": "display_data"
    },
    {
     "name": "stdout",
     "output_type": "stream",
     "text": [
      "\n",
      "\n",
      "Scratch: [0.845 0.791 0.597 0.784 0.699 0.714]\n",
      "Transfer: [2.798 2.898 1.993 1.983 2.769 1.732]\n",
      "Transfer & Revision: [0.858 0.75  0.922 0.744 0.601 1.136]\n"
     ]
    },
    {
     "data": {
      "text/markdown": [
       "# Results for 36_nell_sports_nell_finances"
      ],
      "text/plain": [
       "<IPython.core.display.Markdown object>"
      ]
     },
     "metadata": {},
     "output_type": "display_data"
    },
    {
     "data": {
      "text/markdown": [
       "# Results for 37_nell_sports_nell_finances"
      ],
      "text/plain": [
       "<IPython.core.display.Markdown object>"
      ]
     },
     "metadata": {},
     "output_type": "display_data"
    },
    {
     "data": {
      "text/markdown": [
       "## AUC ROC"
      ],
      "text/plain": [
       "<IPython.core.display.Markdown object>"
      ]
     },
     "metadata": {},
     "output_type": "display_data"
    },
    {
     "name": "stdout",
     "output_type": "stream",
     "text": [
      "T-test for experiment 1\n",
      "Ttest_relResult(statistic=4.6362531447146385, pvalue=0.04350905001579996)\n",
      "Ttest_relResult(statistic=3.752946592381847, pvalue=0.06423425795411473)\n"
     ]
    },
    {
     "data": {
      "text/html": [
       "<div>\n",
       "<table border=\"1\" class=\"dataframe\">\n",
       "  <thead>\n",
       "    <tr style=\"text-align: right;\">\n",
       "      <th></th>\n",
       "      <th>p-value</th>\n",
       "      <th>RDN-B</th>\n",
       "    </tr>\n",
       "  </thead>\n",
       "  <tbody>\n",
       "    <tr>\n",
       "      <th>0</th>\n",
       "      <td>transferRDN-B Ref</td>\n",
       "      <td>0.044</td>\n",
       "    </tr>\n",
       "    <tr>\n",
       "      <th>1</th>\n",
       "      <td>transferRDN-B</td>\n",
       "      <td>0.064</td>\n",
       "    </tr>\n",
       "  </tbody>\n",
       "</table>\n",
       "</div>"
      ],
      "text/plain": [
       "             p-value  RDN-B\n",
       "0  transferRDN-B Ref  0.044\n",
       "1      transferRDN-B  0.064"
      ]
     },
     "metadata": {},
     "output_type": "display_data"
    },
    {
     "name": "stdout",
     "output_type": "stream",
     "text": [
      "T-test for experiment 2\n",
      "Ttest_relResult(statistic=7.856472882746483, pvalue=0.015817734097657143)\n",
      "Ttest_relResult(statistic=3.9273534185356898, pvalue=0.05914056034799987)\n"
     ]
    },
    {
     "data": {
      "text/html": [
       "<div>\n",
       "<table border=\"1\" class=\"dataframe\">\n",
       "  <thead>\n",
       "    <tr style=\"text-align: right;\">\n",
       "      <th></th>\n",
       "      <th>p-value</th>\n",
       "      <th>RDN-B</th>\n",
       "    </tr>\n",
       "  </thead>\n",
       "  <tbody>\n",
       "    <tr>\n",
       "      <th>0</th>\n",
       "      <td>transferRDN-B Ref</td>\n",
       "      <td>0.016</td>\n",
       "    </tr>\n",
       "    <tr>\n",
       "      <th>1</th>\n",
       "      <td>transferRDN-B</td>\n",
       "      <td>0.059</td>\n",
       "    </tr>\n",
       "  </tbody>\n",
       "</table>\n",
       "</div>"
      ],
      "text/plain": [
       "             p-value  RDN-B\n",
       "0  transferRDN-B Ref  0.016\n",
       "1      transferRDN-B  0.059"
      ]
     },
     "metadata": {},
     "output_type": "display_data"
    },
    {
     "name": "stdout",
     "output_type": "stream",
     "text": [
      "\n",
      "\n",
      "Scratch: [0.656561 0.746221 0.650564 0.737191 0.716032 0.704314]\n",
      "Transfer: [0.813615 0.805888 0.815971 0.770404 0.801619 0.763648]\n",
      "Transfer & Revision: [0.814689 0.826124 0.828358 0.843827 0.883056 0.84154 ]\n"
     ]
    },
    {
     "data": {
      "text/markdown": [
       "## AUC PR"
      ],
      "text/plain": [
       "<IPython.core.display.Markdown object>"
      ]
     },
     "metadata": {},
     "output_type": "display_data"
    },
    {
     "name": "stdout",
     "output_type": "stream",
     "text": [
      "T-test for experiment 1\n",
      "Ttest_relResult(statistic=4.062383441543728, pvalue=0.05559056447891556)\n",
      "Ttest_relResult(statistic=4.05941587447771, pvalue=0.05566520821013106)\n"
     ]
    },
    {
     "data": {
      "text/html": [
       "<div>\n",
       "<table border=\"1\" class=\"dataframe\">\n",
       "  <thead>\n",
       "    <tr style=\"text-align: right;\">\n",
       "      <th></th>\n",
       "      <th>p-value</th>\n",
       "      <th>RDN-B</th>\n",
       "    </tr>\n",
       "  </thead>\n",
       "  <tbody>\n",
       "    <tr>\n",
       "      <th>0</th>\n",
       "      <td>transferRDN-B Ref</td>\n",
       "      <td>0.056</td>\n",
       "    </tr>\n",
       "    <tr>\n",
       "      <th>1</th>\n",
       "      <td>transferRDN-B</td>\n",
       "      <td>0.056</td>\n",
       "    </tr>\n",
       "  </tbody>\n",
       "</table>\n",
       "</div>"
      ],
      "text/plain": [
       "             p-value  RDN-B\n",
       "0  transferRDN-B Ref  0.056\n",
       "1      transferRDN-B  0.056"
      ]
     },
     "metadata": {},
     "output_type": "display_data"
    },
    {
     "name": "stdout",
     "output_type": "stream",
     "text": [
      "T-test for experiment 2\n",
      "Ttest_relResult(statistic=6.457874200589222, pvalue=0.0231490675978073)\n",
      "Ttest_relResult(statistic=2.347637627780465, pvalue=0.14341483921237433)\n"
     ]
    },
    {
     "data": {
      "text/html": [
       "<div>\n",
       "<table border=\"1\" class=\"dataframe\">\n",
       "  <thead>\n",
       "    <tr style=\"text-align: right;\">\n",
       "      <th></th>\n",
       "      <th>p-value</th>\n",
       "      <th>RDN-B</th>\n",
       "    </tr>\n",
       "  </thead>\n",
       "  <tbody>\n",
       "    <tr>\n",
       "      <th>0</th>\n",
       "      <td>transferRDN-B Ref</td>\n",
       "      <td>0.023</td>\n",
       "    </tr>\n",
       "    <tr>\n",
       "      <th>1</th>\n",
       "      <td>transferRDN-B</td>\n",
       "      <td>0.143</td>\n",
       "    </tr>\n",
       "  </tbody>\n",
       "</table>\n",
       "</div>"
      ],
      "text/plain": [
       "             p-value  RDN-B\n",
       "0  transferRDN-B Ref  0.023\n",
       "1      transferRDN-B  0.143"
      ]
     },
     "metadata": {},
     "output_type": "display_data"
    },
    {
     "name": "stdout",
     "output_type": "stream",
     "text": [
      "\n",
      "\n",
      "Scratch: [0.687117 0.766821 0.685156 0.757499 0.737309 0.732857]\n",
      "Transfer: [0.788659 0.813193 0.804357 0.769075 0.811302 0.774232]\n",
      "Transfer & Revision: [0.822835 0.820615 0.812044 0.840975 0.881888 0.846539]\n"
     ]
    },
    {
     "data": {
      "text/markdown": [
       "## CLL"
      ],
      "text/plain": [
       "<IPython.core.display.Markdown object>"
      ]
     },
     "metadata": {},
     "output_type": "display_data"
    },
    {
     "name": "stdout",
     "output_type": "stream",
     "text": [
      "T-test for experiment 1\n",
      "Ttest_relResult(statistic=6.263897698694941, pvalue=0.02455180668145851)\n",
      "Ttest_relResult(statistic=4.658063908691707, pvalue=0.04312847091789625)\n"
     ]
    },
    {
     "data": {
      "text/html": [
       "<div>\n",
       "<table border=\"1\" class=\"dataframe\">\n",
       "  <thead>\n",
       "    <tr style=\"text-align: right;\">\n",
       "      <th></th>\n",
       "      <th>p-value</th>\n",
       "      <th>RDN-B</th>\n",
       "    </tr>\n",
       "  </thead>\n",
       "  <tbody>\n",
       "    <tr>\n",
       "      <th>0</th>\n",
       "      <td>transferRDN-B Ref</td>\n",
       "      <td>0.025</td>\n",
       "    </tr>\n",
       "    <tr>\n",
       "      <th>1</th>\n",
       "      <td>transferRDN-B</td>\n",
       "      <td>0.043</td>\n",
       "    </tr>\n",
       "  </tbody>\n",
       "</table>\n",
       "</div>"
      ],
      "text/plain": [
       "             p-value  RDN-B\n",
       "0  transferRDN-B Ref  0.025\n",
       "1      transferRDN-B  0.043"
      ]
     },
     "metadata": {},
     "output_type": "display_data"
    },
    {
     "name": "stdout",
     "output_type": "stream",
     "text": [
      "T-test for experiment 2\n",
      "Ttest_relResult(statistic=22.092695138470805, pvalue=0.0020425392820941943)\n",
      "Ttest_relResult(statistic=4.130837034837883, pvalue=0.053908459934730805)\n"
     ]
    },
    {
     "data": {
      "text/html": [
       "<div>\n",
       "<table border=\"1\" class=\"dataframe\">\n",
       "  <thead>\n",
       "    <tr style=\"text-align: right;\">\n",
       "      <th></th>\n",
       "      <th>p-value</th>\n",
       "      <th>RDN-B</th>\n",
       "    </tr>\n",
       "  </thead>\n",
       "  <tbody>\n",
       "    <tr>\n",
       "      <th>0</th>\n",
       "      <td>transferRDN-B Ref</td>\n",
       "      <td>0.002</td>\n",
       "    </tr>\n",
       "    <tr>\n",
       "      <th>1</th>\n",
       "      <td>transferRDN-B</td>\n",
       "      <td>0.054</td>\n",
       "    </tr>\n",
       "  </tbody>\n",
       "</table>\n",
       "</div>"
      ],
      "text/plain": [
       "             p-value  RDN-B\n",
       "0  transferRDN-B Ref  0.002\n",
       "1      transferRDN-B  0.054"
      ]
     },
     "metadata": {},
     "output_type": "display_data"
    },
    {
     "name": "stdout",
     "output_type": "stream",
     "text": [
      "\n",
      "\n",
      "Scratch: [-0.630559 -0.603246 -0.645568 -0.620291 -0.611903 -0.614619]\n",
      "Transfer: [-0.543589 -0.547527 -0.524482 -0.568325 -0.531832 -0.580595]\n",
      "Transfer & Revision: [-0.548248 -0.511502 -0.50975  -0.530988 -0.512988 -0.510207]\n"
     ]
    },
    {
     "data": {
      "text/markdown": [
       "## Recall"
      ],
      "text/plain": [
       "<IPython.core.display.Markdown object>"
      ]
     },
     "metadata": {},
     "output_type": "display_data"
    },
    {
     "name": "stdout",
     "output_type": "stream",
     "text": [
      "T-test for experiment 1\n",
      "Ttest_relResult(statistic=5.554909372246667, pvalue=0.03091269550912386)\n",
      "Ttest_relResult(statistic=5.508111259648495, pvalue=0.03141560894339859)\n"
     ]
    },
    {
     "data": {
      "text/html": [
       "<div>\n",
       "<table border=\"1\" class=\"dataframe\">\n",
       "  <thead>\n",
       "    <tr style=\"text-align: right;\">\n",
       "      <th></th>\n",
       "      <th>p-value</th>\n",
       "      <th>RDN-B</th>\n",
       "    </tr>\n",
       "  </thead>\n",
       "  <tbody>\n",
       "    <tr>\n",
       "      <th>0</th>\n",
       "      <td>transferRDN-B Ref</td>\n",
       "      <td>0.031</td>\n",
       "    </tr>\n",
       "    <tr>\n",
       "      <th>1</th>\n",
       "      <td>transferRDN-B</td>\n",
       "      <td>0.031</td>\n",
       "    </tr>\n",
       "  </tbody>\n",
       "</table>\n",
       "</div>"
      ],
      "text/plain": [
       "             p-value  RDN-B\n",
       "0  transferRDN-B Ref  0.031\n",
       "1      transferRDN-B  0.031"
      ]
     },
     "metadata": {},
     "output_type": "display_data"
    },
    {
     "name": "stdout",
     "output_type": "stream",
     "text": [
      "T-test for experiment 2\n",
      "Ttest_relResult(statistic=8.333924579246682, pvalue=0.014094283648443525)\n",
      "Ttest_relResult(statistic=6.8459480763101, pvalue=0.020677484680479204)\n"
     ]
    },
    {
     "data": {
      "text/html": [
       "<div>\n",
       "<table border=\"1\" class=\"dataframe\">\n",
       "  <thead>\n",
       "    <tr style=\"text-align: right;\">\n",
       "      <th></th>\n",
       "      <th>p-value</th>\n",
       "      <th>RDN-B</th>\n",
       "    </tr>\n",
       "  </thead>\n",
       "  <tbody>\n",
       "    <tr>\n",
       "      <th>0</th>\n",
       "      <td>transferRDN-B Ref</td>\n",
       "      <td>0.014</td>\n",
       "    </tr>\n",
       "    <tr>\n",
       "      <th>1</th>\n",
       "      <td>transferRDN-B</td>\n",
       "      <td>0.021</td>\n",
       "    </tr>\n",
       "  </tbody>\n",
       "</table>\n",
       "</div>"
      ],
      "text/plain": [
       "             p-value  RDN-B\n",
       "0  transferRDN-B Ref  0.014\n",
       "1      transferRDN-B  0.021"
      ]
     },
     "metadata": {},
     "output_type": "display_data"
    },
    {
     "name": "stdout",
     "output_type": "stream",
     "text": [
      "\n",
      "\n",
      "Scratch: [0.194981 0.312741 0.180769 0.27027  0.291506 0.257692]\n",
      "Transfer: [0.73166  0.637066 0.809615 0.741313 0.579151 0.717308]\n",
      "Transfer & Revision: [0.608108 0.698842 0.842308 0.604247 0.65444  0.746154]\n"
     ]
    },
    {
     "data": {
      "text/markdown": [
       "## F1"
      ],
      "text/plain": [
       "<IPython.core.display.Markdown object>"
      ]
     },
     "metadata": {},
     "output_type": "display_data"
    },
    {
     "name": "stdout",
     "output_type": "stream",
     "text": [
      "T-test for experiment 1\n",
      "Ttest_relResult(statistic=5.985977312005603, pvalue=0.026791597286138502)\n",
      "Ttest_relResult(statistic=5.054863533107251, pvalue=0.036979203774661275)\n"
     ]
    },
    {
     "data": {
      "text/html": [
       "<div>\n",
       "<table border=\"1\" class=\"dataframe\">\n",
       "  <thead>\n",
       "    <tr style=\"text-align: right;\">\n",
       "      <th></th>\n",
       "      <th>p-value</th>\n",
       "      <th>RDN-B</th>\n",
       "    </tr>\n",
       "  </thead>\n",
       "  <tbody>\n",
       "    <tr>\n",
       "      <th>0</th>\n",
       "      <td>transferRDN-B Ref</td>\n",
       "      <td>0.027</td>\n",
       "    </tr>\n",
       "    <tr>\n",
       "      <th>1</th>\n",
       "      <td>transferRDN-B</td>\n",
       "      <td>0.037</td>\n",
       "    </tr>\n",
       "  </tbody>\n",
       "</table>\n",
       "</div>"
      ],
      "text/plain": [
       "             p-value  RDN-B\n",
       "0  transferRDN-B Ref  0.027\n",
       "1      transferRDN-B  0.037"
      ]
     },
     "metadata": {},
     "output_type": "display_data"
    },
    {
     "name": "stdout",
     "output_type": "stream",
     "text": [
      "T-test for experiment 2\n",
      "Ttest_relResult(statistic=20.899442892136637, pvalue=0.0022816144610511356)\n",
      "Ttest_relResult(statistic=14.701925022987716, pvalue=0.004594628598135102)\n"
     ]
    },
    {
     "data": {
      "text/html": [
       "<div>\n",
       "<table border=\"1\" class=\"dataframe\">\n",
       "  <thead>\n",
       "    <tr style=\"text-align: right;\">\n",
       "      <th></th>\n",
       "      <th>p-value</th>\n",
       "      <th>RDN-B</th>\n",
       "    </tr>\n",
       "  </thead>\n",
       "  <tbody>\n",
       "    <tr>\n",
       "      <th>0</th>\n",
       "      <td>transferRDN-B Ref</td>\n",
       "      <td>0.002</td>\n",
       "    </tr>\n",
       "    <tr>\n",
       "      <th>1</th>\n",
       "      <td>transferRDN-B</td>\n",
       "      <td>0.005</td>\n",
       "    </tr>\n",
       "  </tbody>\n",
       "</table>\n",
       "</div>"
      ],
      "text/plain": [
       "             p-value  RDN-B\n",
       "0  transferRDN-B Ref  0.002\n",
       "1      transferRDN-B  0.005"
      ]
     },
     "metadata": {},
     "output_type": "display_data"
    },
    {
     "name": "stdout",
     "output_type": "stream",
     "text": [
      "\n",
      "\n",
      "Scratch: [0.322169 0.464183 0.303716 0.41791  0.438953 0.403008]\n",
      "Transfer: [0.755733 0.699153 0.787652 0.732126 0.689655 0.707109]\n",
      "Transfer & Revision: [0.71267  0.741803 0.807373 0.714612 0.764374 0.753398]\n"
     ]
    },
    {
     "data": {
      "text/markdown": [
       "## Precision"
      ],
      "text/plain": [
       "<IPython.core.display.Markdown object>"
      ]
     },
     "metadata": {},
     "output_type": "display_data"
    },
    {
     "name": "stdout",
     "output_type": "stream",
     "text": [
      "\n",
      "\n",
      "Scratch: [0.926606 0.9      0.949495 0.921053 0.888235 0.924138]\n",
      "Transfer: [0.781443 0.774648 0.766849 0.723164 0.852273 0.697196]\n",
      "Transfer & Revision: [0.860656 0.790393 0.775221 0.874302 0.918699 0.760784]\n"
     ]
    },
    {
     "data": {
      "text/markdown": [
       "## Learning and Revision time"
      ],
      "text/plain": [
       "<IPython.core.display.Markdown object>"
      ]
     },
     "metadata": {},
     "output_type": "display_data"
    },
    {
     "name": "stdout",
     "output_type": "stream",
     "text": [
      "\n",
      "\n",
      "Scratch: [24.324 12.578  9.775  9.586  9.131 17.278]\n",
      "Transfer: [ 8.967  9.232 30.577 18.092 24.389 48.789]\n",
      "Transfer & Revision: [18.857 21.304 51.588 31.056 46.221 77.671]\n"
     ]
    },
    {
     "data": {
      "text/markdown": [
       "## Inference time"
      ],
      "text/plain": [
       "<IPython.core.display.Markdown object>"
      ]
     },
     "metadata": {},
     "output_type": "display_data"
    },
    {
     "name": "stdout",
     "output_type": "stream",
     "text": [
      "\n",
      "\n",
      "Scratch: [1.326 1.371 1.746 1.448 1.398 1.518]\n",
      "Transfer: [ 8.967  9.232 30.577 18.092 24.389 48.789]\n",
      "Transfer & Revision: [1.762 2.11  3.403 1.98  1.699 2.66 ]\n"
     ]
    },
    {
     "data": {
      "text/markdown": [
       "# Results for 38_nell_finances_nell_sports"
      ],
      "text/plain": [
       "<IPython.core.display.Markdown object>"
      ]
     },
     "metadata": {},
     "output_type": "display_data"
    },
    {
     "data": {
      "text/markdown": [
       "# Results for 39_nell_finances_nell_sports"
      ],
      "text/plain": [
       "<IPython.core.display.Markdown object>"
      ]
     },
     "metadata": {},
     "output_type": "display_data"
    },
    {
     "data": {
      "text/markdown": [
       "# Results for 40_nell_finances_nell_sports"
      ],
      "text/plain": [
       "<IPython.core.display.Markdown object>"
      ]
     },
     "metadata": {},
     "output_type": "display_data"
    },
    {
     "data": {
      "text/markdown": [
       "# Results for 41_nell_finances_nell_sports"
      ],
      "text/plain": [
       "<IPython.core.display.Markdown object>"
      ]
     },
     "metadata": {},
     "output_type": "display_data"
    },
    {
     "data": {
      "text/markdown": [
       "# Results for 42_nell_finances_nell_sports"
      ],
      "text/plain": [
       "<IPython.core.display.Markdown object>"
      ]
     },
     "metadata": {},
     "output_type": "display_data"
    },
    {
     "data": {
      "text/markdown": [
       "# Results for 43_nell_finances_nell_sports"
      ],
      "text/plain": [
       "<IPython.core.display.Markdown object>"
      ]
     },
     "metadata": {},
     "output_type": "display_data"
    },
    {
     "data": {
      "text/markdown": [
       "# Results for 44_nell_finances_nell_sports"
      ],
      "text/plain": [
       "<IPython.core.display.Markdown object>"
      ]
     },
     "metadata": {},
     "output_type": "display_data"
    },
    {
     "data": {
      "text/markdown": [
       "# Results for 45_nell_finances_nell_sports"
      ],
      "text/plain": [
       "<IPython.core.display.Markdown object>"
      ]
     },
     "metadata": {},
     "output_type": "display_data"
    },
    {
     "data": {
      "text/markdown": [
       "# Results for 46_nell_finances_nell_sports"
      ],
      "text/plain": [
       "<IPython.core.display.Markdown object>"
      ]
     },
     "metadata": {},
     "output_type": "display_data"
    }
   ],
   "source": [
    "for j in range(len(experiments)):\n",
    "    dataset = experiments[j]['id'] + '_' + experiments[j]['source'] + '_' + experiments[j]['target']\n",
    "    display(Markdown('# Results for ' + dataset))\n",
    "    table = []\n",
    "    for metric in ['AUC ROC', 'AUC PR', 'CLL', 'Recall', 'F1', 'Precision', 'Learning and Revision time', 'Inference time']:\n",
    "    #for metric in ['AUC ROC', 'AUC PR']:\n",
    "        if dataset in data['results']: \n",
    "            #for metric in ['AUC ROC', 'AUC PR']:\n",
    "            display(Markdown('## ' + metric))\n",
    "            if metric == 'Precision':\n",
    "                scratch = np.array([item['scratch']['Precision'][0] for sublist in data['results'][str(dataset)] for item in sublist])\n",
    "                parameter = np.array([item['transfer']['Parameter Learning results']['Precision'][0] for sublist in data['results'][str(dataset)] for item in sublist])\n",
    "                transfer = np.array([item['transfer']['Precision'][0] for sublist in data['results'][str(dataset)] for item in sublist])\n",
    "            elif metric == 'Learning and Revision time':\n",
    "                scratch = np.array([item['scratch']['Learning time'] for sublist in data['results'][str(dataset)] for item in sublist])\n",
    "                parameter = np.array([item['transfer']['Parameter Learning results']['Learning time'] for sublist in data['results'][str(dataset)] for item in sublist])\n",
    "                transfer = np.array([item['transfer']['Learning time'] for sublist in data['results'][str(dataset)] for item in sublist])\n",
    "            elif metric == 'Inference time':\n",
    "                scratch = np.array([item['scratch']['Inference time'] for sublist in data['results'][str(dataset)] for item in sublist])\n",
    "                parameter = np.array([item['transfer']['Parameter Learning results']['Learning time'] for sublist in data['results'][str(dataset)] for item in sublist])\n",
    "                transfer = np.array([item['transfer']['Inference time'] for sublist in data['results'][str(dataset)] for item in sublist])\n",
    "            else:\n",
    "                scratch = np.array([item['scratch'][metric] for sublist in data['results'][str(dataset)] for item in sublist])\n",
    "                parameter = np.array([item['transfer']['Parameter Learning results'][metric] for sublist in data['results'][str(dataset)] for item in sublist])\n",
    "                transfer = np.array([item['transfer'][metric] for sublist in data['results'][str(dataset)] for item in sublist])\n",
    "                for m in range(len(data['results'][str(dataset)])):\n",
    "                    print('T-test for experiment %s' % (m+1))\n",
    "                    pvalue = stats.ttest_rel([item['transfer'][metric] for item in data['results'][str(dataset)][m]],[item['scratch'][metric] for item in data['results'][str(dataset)][m]])\n",
    "                    print(pvalue)\n",
    "                    pvalue_table = []\n",
    "                    pvalue_table.append(['transferRDN-B Ref', '%.3f' % (pvalue[1])])\n",
    "                    pvalue = stats.ttest_rel([item['transfer']['Parameter Learning results'][metric] for item in data['results'][str(dataset)][m]],[item['scratch'][metric] for item in data['results'][str(dataset)][m]])\n",
    "                    print(pvalue)\n",
    "                    pvalue_table.append(['transferRDN-B', '%.3f' % (pvalue[1])])\n",
    "                    display(pd.DataFrame(pvalue_table, columns=['p-value', 'RDN-B']))\n",
    "            print('\\n')\n",
    "            print('Scratch: %s' % scratch)\n",
    "            print('Transfer: %s' % parameter)\n",
    "            print('Transfer & Revision: %s' % transfer)"
   ]
  },
  {
   "cell_type": "code",
   "execution_count": 6,
   "metadata": {
    "collapsed": false
   },
   "outputs": [],
   "source": [
    "def paired_ttest_kfold_cv(estimator1, estimator2):\n",
    "    score_diff = []\n",
    "    cv = len(estimator1)\n",
    "    for i in range(len(estimator1)):\n",
    "        score_diff.append(estimator1[i] - estimator2[i])\n",
    "\n",
    "    avg_diff = np.mean(score_diff)\n",
    "\n",
    "    numerator = avg_diff * np.sqrt(cv)\n",
    "    denominator = np.sqrt(sum([(diff - avg_diff)**2 for diff in score_diff])\n",
    "                          / (cv - 1))\n",
    "    t_stat = numerator / denominator\n",
    "\n",
    "    pvalue = stats.t.sf(np.abs(t_stat), cv - 1)*2.\n",
    "    return float(t_stat), float(pvalue)"
   ]
  },
  {
   "cell_type": "code",
   "execution_count": 7,
   "metadata": {
    "collapsed": false
   },
   "outputs": [
    {
     "data": {
      "text/plain": [
       "(26.497231209975535, 0.00011793614005630308)"
      ]
     },
     "execution_count": 7,
     "metadata": {},
     "output_type": "execute_result"
    }
   ],
   "source": [
    "paired_ttest_kfold_cv([0.693686, 0.694682, 0.68722,  0.660296],\n",
    "[0.636807, 0.636639, 0.634388, 0.611234])"
   ]
  },
  {
   "cell_type": "code",
   "execution_count": null,
   "metadata": {
    "collapsed": true
   },
   "outputs": [],
   "source": []
  }
 ],
 "metadata": {
  "anaconda-cloud": {},
  "kernelspec": {
   "display_name": "Python [conda env:anaconda3]",
   "language": "python",
   "name": "conda-env-anaconda3-py"
  },
  "language_info": {
   "codemirror_mode": {
    "name": "ipython",
    "version": 3
   },
   "file_extension": ".py",
   "mimetype": "text/x-python",
   "name": "python",
   "nbconvert_exporter": "python",
   "pygments_lexer": "ipython3",
   "version": "3.5.2"
  }
 },
 "nbformat": 4,
 "nbformat_minor": 1
}
