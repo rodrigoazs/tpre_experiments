{
 "cells": [
  {
   "cell_type": "code",
   "execution_count": 1,
   "metadata": {
    "collapsed": true
   },
   "outputs": [],
   "source": [
    "import matplotlib.pyplot as plt\n",
    "from IPython.display import display, Markdown, Latex\n",
    "import numpy as np\n",
    "import json\n",
    "import pandas as pd\n",
    "from scipy import stats\n",
    "import os\n",
    "\n",
    "#with open('transfer_experiment.json', 'r') as fp:\n",
    "#    data = json.load(fp)\n",
    "    \n",
    "def load_data(experiments):\n",
    "    data = { 'results' : {} }\n",
    "    for item in experiments:\n",
    "        experiment_title = item['id'] + '_' + item['source'] + '_' + item['target']\n",
    "        if os.path.isfile('experiments/' + experiment_title + '/' + experiment_title + '.json'):\n",
    "            with open('experiments/' + experiment_title + '/' + experiment_title + '.json', 'r') as fp:\n",
    "                results = json.load(fp)\n",
    "                data['results'][experiment_title] = results\n",
    "    return data"
   ]
  },
  {
   "cell_type": "code",
   "execution_count": 4,
   "metadata": {
    "collapsed": false,
    "scrolled": false
   },
   "outputs": [
    {
     "data": {
      "text/markdown": [
       "# Results for AUC ROC"
      ],
      "text/plain": [
       "<IPython.core.display.Markdown object>"
      ]
     },
     "metadata": {},
     "output_type": "display_data"
    },
    {
     "data": {
      "text/html": [
       "<div>\n",
       "<table border=\"1\" class=\"dataframe\">\n",
       "  <thead>\n",
       "    <tr style=\"text-align: right;\">\n",
       "      <th></th>\n",
       "      <th>Experiment</th>\n",
       "      <th>Transfer Learning</th>\n",
       "      <th>Transfer Learning with Revision Theory</th>\n",
       "    </tr>\n",
       "  </thead>\n",
       "  <tbody>\n",
       "    <tr>\n",
       "      <th>0</th>\n",
       "      <td>1_imdb_uwcse</td>\n",
       "      <td>0.956 +/- 0.000</td>\n",
       "      <td>0.949 +/- 0.001</td>\n",
       "    </tr>\n",
       "    <tr>\n",
       "      <th>1</th>\n",
       "      <td>2_uwcse_imdb</td>\n",
       "      <td>0.976 +/- 0.000</td>\n",
       "      <td>0.965 +/- 0.010</td>\n",
       "    </tr>\n",
       "    <tr>\n",
       "      <th>2</th>\n",
       "      <td>3_imdb_uwcse</td>\n",
       "      <td>0.625 +/- 0.000</td>\n",
       "      <td>0.617 +/- 0.008</td>\n",
       "    </tr>\n",
       "    <tr>\n",
       "      <th>3</th>\n",
       "      <td>6_uwcse_imdb</td>\n",
       "      <td>0.907 +/- 0.000</td>\n",
       "      <td>0.907 +/- 0.000</td>\n",
       "    </tr>\n",
       "    <tr>\n",
       "      <th>4</th>\n",
       "      <td>7_imdb_cora</td>\n",
       "      <td>0.525 +/- 0.000</td>\n",
       "      <td>0.613 +/- 0.003</td>\n",
       "    </tr>\n",
       "    <tr>\n",
       "      <th>5</th>\n",
       "      <td>9_imdb_cora</td>\n",
       "      <td>0.675 +/- 0.000</td>\n",
       "      <td>0.646 +/- 0.021</td>\n",
       "    </tr>\n",
       "    <tr>\n",
       "      <th>6</th>\n",
       "      <td>12_uwcse_cora</td>\n",
       "      <td>0.689 +/- 0.000</td>\n",
       "      <td>0.939 +/- 0.003</td>\n",
       "    </tr>\n",
       "    <tr>\n",
       "      <th>7</th>\n",
       "      <td>13_uwcse_cora</td>\n",
       "      <td>0.675 +/- 0.000</td>\n",
       "      <td>0.651 +/- 0.007</td>\n",
       "    </tr>\n",
       "    <tr>\n",
       "      <th>8</th>\n",
       "      <td>16_yeast_twitter</td>\n",
       "      <td>0.673 +/- 0.057</td>\n",
       "      <td>0.712 +/- 0.006</td>\n",
       "    </tr>\n",
       "    <tr>\n",
       "      <th>9</th>\n",
       "      <td>23_twitter_yeast</td>\n",
       "      <td>0.547 +/- 0.027</td>\n",
       "      <td>0.655 +/- 0.011</td>\n",
       "    </tr>\n",
       "    <tr>\n",
       "      <th>10</th>\n",
       "      <td>35_nell_sports_nell_finances</td>\n",
       "      <td>0.815 +/- 0.015</td>\n",
       "      <td>0.782 +/- 0.063</td>\n",
       "    </tr>\n",
       "    <tr>\n",
       "      <th>11</th>\n",
       "      <td>37_nell_sports_nell_finances</td>\n",
       "      <td>0.794 +/- 0.012</td>\n",
       "      <td>0.847 +/- 0.020</td>\n",
       "    </tr>\n",
       "    <tr>\n",
       "      <th>12</th>\n",
       "      <td>46_nell_finances_nell_sports</td>\n",
       "      <td>0.500 +/- 0.000</td>\n",
       "      <td>0.859 +/- 0.040</td>\n",
       "    </tr>\n",
       "    <tr>\n",
       "      <th>13</th>\n",
       "      <td>47_yeast_facebook</td>\n",
       "      <td>0.569 +/- 0.032</td>\n",
       "      <td>0.582 +/- 0.017</td>\n",
       "    </tr>\n",
       "    <tr>\n",
       "      <th>14</th>\n",
       "      <td>48_twitter_facebook</td>\n",
       "      <td>0.550 +/- 0.013</td>\n",
       "      <td>0.543 +/- 0.012</td>\n",
       "    </tr>\n",
       "    <tr>\n",
       "      <th>15</th>\n",
       "      <td>49_imdb_facebook</td>\n",
       "      <td>0.504 +/- 0.000</td>\n",
       "      <td>0.590 +/- 0.007</td>\n",
       "    </tr>\n",
       "    <tr>\n",
       "      <th>16</th>\n",
       "      <td>50_uwcse_facebook</td>\n",
       "      <td>0.534 +/- 0.016</td>\n",
       "      <td>0.591 +/- 0.014</td>\n",
       "    </tr>\n",
       "  </tbody>\n",
       "</table>\n",
       "</div>"
      ],
      "text/plain": [
       "                      Experiment Transfer Learning  \\\n",
       "0                   1_imdb_uwcse   0.956 +/- 0.000   \n",
       "1                   2_uwcse_imdb   0.976 +/- 0.000   \n",
       "2                   3_imdb_uwcse   0.625 +/- 0.000   \n",
       "3                   6_uwcse_imdb   0.907 +/- 0.000   \n",
       "4                    7_imdb_cora   0.525 +/- 0.000   \n",
       "5                    9_imdb_cora   0.675 +/- 0.000   \n",
       "6                  12_uwcse_cora   0.689 +/- 0.000   \n",
       "7                  13_uwcse_cora   0.675 +/- 0.000   \n",
       "8               16_yeast_twitter   0.673 +/- 0.057   \n",
       "9               23_twitter_yeast   0.547 +/- 0.027   \n",
       "10  35_nell_sports_nell_finances   0.815 +/- 0.015   \n",
       "11  37_nell_sports_nell_finances   0.794 +/- 0.012   \n",
       "12  46_nell_finances_nell_sports   0.500 +/- 0.000   \n",
       "13             47_yeast_facebook   0.569 +/- 0.032   \n",
       "14           48_twitter_facebook   0.550 +/- 0.013   \n",
       "15              49_imdb_facebook   0.504 +/- 0.000   \n",
       "16             50_uwcse_facebook   0.534 +/- 0.016   \n",
       "\n",
       "   Transfer Learning with Revision Theory  \n",
       "0                         0.949 +/- 0.001  \n",
       "1                         0.965 +/- 0.010  \n",
       "2                         0.617 +/- 0.008  \n",
       "3                         0.907 +/- 0.000  \n",
       "4                         0.613 +/- 0.003  \n",
       "5                         0.646 +/- 0.021  \n",
       "6                         0.939 +/- 0.003  \n",
       "7                         0.651 +/- 0.007  \n",
       "8                         0.712 +/- 0.006  \n",
       "9                         0.655 +/- 0.011  \n",
       "10                        0.782 +/- 0.063  \n",
       "11                        0.847 +/- 0.020  \n",
       "12                        0.859 +/- 0.040  \n",
       "13                        0.582 +/- 0.017  \n",
       "14                        0.543 +/- 0.012  \n",
       "15                        0.590 +/- 0.007  \n",
       "16                        0.591 +/- 0.014  "
      ]
     },
     "metadata": {},
     "output_type": "display_data"
    },
    {
     "data": {
      "text/markdown": [
       "# Results for AUC PR"
      ],
      "text/plain": [
       "<IPython.core.display.Markdown object>"
      ]
     },
     "metadata": {},
     "output_type": "display_data"
    },
    {
     "data": {
      "text/html": [
       "<div>\n",
       "<table border=\"1\" class=\"dataframe\">\n",
       "  <thead>\n",
       "    <tr style=\"text-align: right;\">\n",
       "      <th></th>\n",
       "      <th>Experiment</th>\n",
       "      <th>Transfer Learning</th>\n",
       "      <th>Transfer Learning with Revision Theory</th>\n",
       "    </tr>\n",
       "  </thead>\n",
       "  <tbody>\n",
       "    <tr>\n",
       "      <th>0</th>\n",
       "      <td>1_imdb_uwcse</td>\n",
       "      <td>0.939 +/- 0.000</td>\n",
       "      <td>0.911 +/- 0.004</td>\n",
       "    </tr>\n",
       "    <tr>\n",
       "      <th>1</th>\n",
       "      <td>2_uwcse_imdb</td>\n",
       "      <td>0.972 +/- 0.000</td>\n",
       "      <td>0.941 +/- 0.015</td>\n",
       "    </tr>\n",
       "    <tr>\n",
       "      <th>2</th>\n",
       "      <td>3_imdb_uwcse</td>\n",
       "      <td>0.597 +/- 0.000</td>\n",
       "      <td>0.598 +/- 0.009</td>\n",
       "    </tr>\n",
       "    <tr>\n",
       "      <th>3</th>\n",
       "      <td>6_uwcse_imdb</td>\n",
       "      <td>0.845 +/- 0.000</td>\n",
       "      <td>0.845 +/- 0.000</td>\n",
       "    </tr>\n",
       "    <tr>\n",
       "      <th>4</th>\n",
       "      <td>7_imdb_cora</td>\n",
       "      <td>0.532 +/- 0.000</td>\n",
       "      <td>0.608 +/- 0.003</td>\n",
       "    </tr>\n",
       "    <tr>\n",
       "      <th>5</th>\n",
       "      <td>9_imdb_cora</td>\n",
       "      <td>0.944 +/- 0.000</td>\n",
       "      <td>0.940 +/- 0.009</td>\n",
       "    </tr>\n",
       "    <tr>\n",
       "      <th>6</th>\n",
       "      <td>12_uwcse_cora</td>\n",
       "      <td>0.809 +/- 0.000</td>\n",
       "      <td>0.968 +/- 0.006</td>\n",
       "    </tr>\n",
       "    <tr>\n",
       "      <th>7</th>\n",
       "      <td>13_uwcse_cora</td>\n",
       "      <td>0.944 +/- 0.000</td>\n",
       "      <td>0.942 +/- 0.004</td>\n",
       "    </tr>\n",
       "    <tr>\n",
       "      <th>8</th>\n",
       "      <td>16_yeast_twitter</td>\n",
       "      <td>0.649 +/- 0.052</td>\n",
       "      <td>0.684 +/- 0.006</td>\n",
       "    </tr>\n",
       "    <tr>\n",
       "      <th>9</th>\n",
       "      <td>23_twitter_yeast</td>\n",
       "      <td>0.557 +/- 0.014</td>\n",
       "      <td>0.682 +/- 0.011</td>\n",
       "    </tr>\n",
       "    <tr>\n",
       "      <th>10</th>\n",
       "      <td>35_nell_sports_nell_finances</td>\n",
       "      <td>0.859 +/- 0.012</td>\n",
       "      <td>0.811 +/- 0.086</td>\n",
       "    </tr>\n",
       "    <tr>\n",
       "      <th>11</th>\n",
       "      <td>37_nell_sports_nell_finances</td>\n",
       "      <td>0.791 +/- 0.017</td>\n",
       "      <td>0.843 +/- 0.016</td>\n",
       "    </tr>\n",
       "    <tr>\n",
       "      <th>12</th>\n",
       "      <td>46_nell_finances_nell_sports</td>\n",
       "      <td>0.500 +/- 0.000</td>\n",
       "      <td>0.833 +/- 0.055</td>\n",
       "    </tr>\n",
       "    <tr>\n",
       "      <th>13</th>\n",
       "      <td>47_yeast_facebook</td>\n",
       "      <td>0.562 +/- 0.018</td>\n",
       "      <td>0.575 +/- 0.012</td>\n",
       "    </tr>\n",
       "    <tr>\n",
       "      <th>14</th>\n",
       "      <td>48_twitter_facebook</td>\n",
       "      <td>0.541 +/- 0.008</td>\n",
       "      <td>0.544 +/- 0.009</td>\n",
       "    </tr>\n",
       "    <tr>\n",
       "      <th>15</th>\n",
       "      <td>49_imdb_facebook</td>\n",
       "      <td>0.516 +/- 0.000</td>\n",
       "      <td>0.582 +/- 0.006</td>\n",
       "    </tr>\n",
       "    <tr>\n",
       "      <th>16</th>\n",
       "      <td>50_uwcse_facebook</td>\n",
       "      <td>0.535 +/- 0.008</td>\n",
       "      <td>0.582 +/- 0.009</td>\n",
       "    </tr>\n",
       "  </tbody>\n",
       "</table>\n",
       "</div>"
      ],
      "text/plain": [
       "                      Experiment Transfer Learning  \\\n",
       "0                   1_imdb_uwcse   0.939 +/- 0.000   \n",
       "1                   2_uwcse_imdb   0.972 +/- 0.000   \n",
       "2                   3_imdb_uwcse   0.597 +/- 0.000   \n",
       "3                   6_uwcse_imdb   0.845 +/- 0.000   \n",
       "4                    7_imdb_cora   0.532 +/- 0.000   \n",
       "5                    9_imdb_cora   0.944 +/- 0.000   \n",
       "6                  12_uwcse_cora   0.809 +/- 0.000   \n",
       "7                  13_uwcse_cora   0.944 +/- 0.000   \n",
       "8               16_yeast_twitter   0.649 +/- 0.052   \n",
       "9               23_twitter_yeast   0.557 +/- 0.014   \n",
       "10  35_nell_sports_nell_finances   0.859 +/- 0.012   \n",
       "11  37_nell_sports_nell_finances   0.791 +/- 0.017   \n",
       "12  46_nell_finances_nell_sports   0.500 +/- 0.000   \n",
       "13             47_yeast_facebook   0.562 +/- 0.018   \n",
       "14           48_twitter_facebook   0.541 +/- 0.008   \n",
       "15              49_imdb_facebook   0.516 +/- 0.000   \n",
       "16             50_uwcse_facebook   0.535 +/- 0.008   \n",
       "\n",
       "   Transfer Learning with Revision Theory  \n",
       "0                         0.911 +/- 0.004  \n",
       "1                         0.941 +/- 0.015  \n",
       "2                         0.598 +/- 0.009  \n",
       "3                         0.845 +/- 0.000  \n",
       "4                         0.608 +/- 0.003  \n",
       "5                         0.940 +/- 0.009  \n",
       "6                         0.968 +/- 0.006  \n",
       "7                         0.942 +/- 0.004  \n",
       "8                         0.684 +/- 0.006  \n",
       "9                         0.682 +/- 0.011  \n",
       "10                        0.811 +/- 0.086  \n",
       "11                        0.843 +/- 0.016  \n",
       "12                        0.833 +/- 0.055  \n",
       "13                        0.575 +/- 0.012  \n",
       "14                        0.544 +/- 0.009  \n",
       "15                        0.582 +/- 0.006  \n",
       "16                        0.582 +/- 0.009  "
      ]
     },
     "metadata": {},
     "output_type": "display_data"
    },
    {
     "data": {
      "text/markdown": [
       "# Results for CLL"
      ],
      "text/plain": [
       "<IPython.core.display.Markdown object>"
      ]
     },
     "metadata": {},
     "output_type": "display_data"
    },
    {
     "data": {
      "text/html": [
       "<div>\n",
       "<table border=\"1\" class=\"dataframe\">\n",
       "  <thead>\n",
       "    <tr style=\"text-align: right;\">\n",
       "      <th></th>\n",
       "      <th>Experiment</th>\n",
       "      <th>Transfer Learning</th>\n",
       "      <th>Transfer Learning with Revision Theory</th>\n",
       "    </tr>\n",
       "  </thead>\n",
       "  <tbody>\n",
       "    <tr>\n",
       "      <th>0</th>\n",
       "      <td>1_imdb_uwcse</td>\n",
       "      <td>-0.229 +/- 0.001</td>\n",
       "      <td>-0.241 +/- 0.002</td>\n",
       "    </tr>\n",
       "    <tr>\n",
       "      <th>1</th>\n",
       "      <td>2_uwcse_imdb</td>\n",
       "      <td>-0.293 +/- 0.057</td>\n",
       "      <td>-0.180 +/- 0.002</td>\n",
       "    </tr>\n",
       "    <tr>\n",
       "      <th>2</th>\n",
       "      <td>3_imdb_uwcse</td>\n",
       "      <td>-0.660 +/- 0.000</td>\n",
       "      <td>-0.689 +/- 0.004</td>\n",
       "    </tr>\n",
       "    <tr>\n",
       "      <th>3</th>\n",
       "      <td>6_uwcse_imdb</td>\n",
       "      <td>-0.318 +/- 0.013</td>\n",
       "      <td>-0.308 +/- 0.000</td>\n",
       "    </tr>\n",
       "    <tr>\n",
       "      <th>4</th>\n",
       "      <td>7_imdb_cora</td>\n",
       "      <td>-0.690 +/- 0.000</td>\n",
       "      <td>-0.640 +/- 0.009</td>\n",
       "    </tr>\n",
       "    <tr>\n",
       "      <th>5</th>\n",
       "      <td>9_imdb_cora</td>\n",
       "      <td>-0.256 +/- 0.000</td>\n",
       "      <td>-0.314 +/- 0.005</td>\n",
       "    </tr>\n",
       "    <tr>\n",
       "      <th>6</th>\n",
       "      <td>12_uwcse_cora</td>\n",
       "      <td>-0.641 +/- 0.002</td>\n",
       "      <td>-0.355 +/- 0.005</td>\n",
       "    </tr>\n",
       "    <tr>\n",
       "      <th>7</th>\n",
       "      <td>13_uwcse_cora</td>\n",
       "      <td>-0.258 +/- 0.003</td>\n",
       "      <td>-0.304 +/- 0.016</td>\n",
       "    </tr>\n",
       "    <tr>\n",
       "      <th>8</th>\n",
       "      <td>16_yeast_twitter</td>\n",
       "      <td>-0.644 +/- 0.025</td>\n",
       "      <td>-0.625 +/- 0.004</td>\n",
       "    </tr>\n",
       "    <tr>\n",
       "      <th>9</th>\n",
       "      <td>23_twitter_yeast</td>\n",
       "      <td>-0.688 +/- 0.003</td>\n",
       "      <td>-0.654 +/- 0.004</td>\n",
       "    </tr>\n",
       "    <tr>\n",
       "      <th>10</th>\n",
       "      <td>35_nell_sports_nell_finances</td>\n",
       "      <td>-0.537 +/- 0.009</td>\n",
       "      <td>-0.582 +/- 0.054</td>\n",
       "    </tr>\n",
       "    <tr>\n",
       "      <th>11</th>\n",
       "      <td>37_nell_sports_nell_finances</td>\n",
       "      <td>-0.553 +/- 0.009</td>\n",
       "      <td>-0.505 +/- 0.034</td>\n",
       "    </tr>\n",
       "    <tr>\n",
       "      <th>12</th>\n",
       "      <td>46_nell_finances_nell_sports</td>\n",
       "      <td>-0.695 +/- 0.000</td>\n",
       "      <td>-0.512 +/- 0.048</td>\n",
       "    </tr>\n",
       "    <tr>\n",
       "      <th>13</th>\n",
       "      <td>47_yeast_facebook</td>\n",
       "      <td>-0.690 +/- 0.005</td>\n",
       "      <td>-0.705 +/- 0.010</td>\n",
       "    </tr>\n",
       "    <tr>\n",
       "      <th>14</th>\n",
       "      <td>48_twitter_facebook</td>\n",
       "      <td>-0.703 +/- 0.009</td>\n",
       "      <td>-0.718 +/- 0.009</td>\n",
       "    </tr>\n",
       "    <tr>\n",
       "      <th>15</th>\n",
       "      <td>49_imdb_facebook</td>\n",
       "      <td>-0.691 +/- 0.000</td>\n",
       "      <td>-0.700 +/- 0.004</td>\n",
       "    </tr>\n",
       "    <tr>\n",
       "      <th>16</th>\n",
       "      <td>50_uwcse_facebook</td>\n",
       "      <td>-0.693 +/- 0.002</td>\n",
       "      <td>-0.697 +/- 0.007</td>\n",
       "    </tr>\n",
       "  </tbody>\n",
       "</table>\n",
       "</div>"
      ],
      "text/plain": [
       "                      Experiment Transfer Learning  \\\n",
       "0                   1_imdb_uwcse  -0.229 +/- 0.001   \n",
       "1                   2_uwcse_imdb  -0.293 +/- 0.057   \n",
       "2                   3_imdb_uwcse  -0.660 +/- 0.000   \n",
       "3                   6_uwcse_imdb  -0.318 +/- 0.013   \n",
       "4                    7_imdb_cora  -0.690 +/- 0.000   \n",
       "5                    9_imdb_cora  -0.256 +/- 0.000   \n",
       "6                  12_uwcse_cora  -0.641 +/- 0.002   \n",
       "7                  13_uwcse_cora  -0.258 +/- 0.003   \n",
       "8               16_yeast_twitter  -0.644 +/- 0.025   \n",
       "9               23_twitter_yeast  -0.688 +/- 0.003   \n",
       "10  35_nell_sports_nell_finances  -0.537 +/- 0.009   \n",
       "11  37_nell_sports_nell_finances  -0.553 +/- 0.009   \n",
       "12  46_nell_finances_nell_sports  -0.695 +/- 0.000   \n",
       "13             47_yeast_facebook  -0.690 +/- 0.005   \n",
       "14           48_twitter_facebook  -0.703 +/- 0.009   \n",
       "15              49_imdb_facebook  -0.691 +/- 0.000   \n",
       "16             50_uwcse_facebook  -0.693 +/- 0.002   \n",
       "\n",
       "   Transfer Learning with Revision Theory  \n",
       "0                        -0.241 +/- 0.002  \n",
       "1                        -0.180 +/- 0.002  \n",
       "2                        -0.689 +/- 0.004  \n",
       "3                        -0.308 +/- 0.000  \n",
       "4                        -0.640 +/- 0.009  \n",
       "5                        -0.314 +/- 0.005  \n",
       "6                        -0.355 +/- 0.005  \n",
       "7                        -0.304 +/- 0.016  \n",
       "8                        -0.625 +/- 0.004  \n",
       "9                        -0.654 +/- 0.004  \n",
       "10                       -0.582 +/- 0.054  \n",
       "11                       -0.505 +/- 0.034  \n",
       "12                       -0.512 +/- 0.048  \n",
       "13                       -0.705 +/- 0.010  \n",
       "14                       -0.718 +/- 0.009  \n",
       "15                       -0.700 +/- 0.004  \n",
       "16                       -0.697 +/- 0.007  "
      ]
     },
     "metadata": {},
     "output_type": "display_data"
    },
    {
     "data": {
      "text/markdown": [
       "# Results for Recall"
      ],
      "text/plain": [
       "<IPython.core.display.Markdown object>"
      ]
     },
     "metadata": {},
     "output_type": "display_data"
    },
    {
     "data": {
      "text/html": [
       "<div>\n",
       "<table border=\"1\" class=\"dataframe\">\n",
       "  <thead>\n",
       "    <tr style=\"text-align: right;\">\n",
       "      <th></th>\n",
       "      <th>Experiment</th>\n",
       "      <th>Transfer Learning</th>\n",
       "      <th>Transfer Learning with Revision Theory</th>\n",
       "    </tr>\n",
       "  </thead>\n",
       "  <tbody>\n",
       "    <tr>\n",
       "      <th>0</th>\n",
       "      <td>1_imdb_uwcse</td>\n",
       "      <td>1.000 +/- 0.000</td>\n",
       "      <td>0.989 +/- 0.012</td>\n",
       "    </tr>\n",
       "    <tr>\n",
       "      <th>1</th>\n",
       "      <td>2_uwcse_imdb</td>\n",
       "      <td>1.000 +/- 0.000</td>\n",
       "      <td>1.000 +/- 0.000</td>\n",
       "    </tr>\n",
       "    <tr>\n",
       "      <th>2</th>\n",
       "      <td>3_imdb_uwcse</td>\n",
       "      <td>0.543 +/- 0.000</td>\n",
       "      <td>0.506 +/- 0.003</td>\n",
       "    </tr>\n",
       "    <tr>\n",
       "      <th>3</th>\n",
       "      <td>6_uwcse_imdb</td>\n",
       "      <td>1.000 +/- 0.000</td>\n",
       "      <td>1.000 +/- 0.000</td>\n",
       "    </tr>\n",
       "    <tr>\n",
       "      <th>4</th>\n",
       "      <td>7_imdb_cora</td>\n",
       "      <td>0.768 +/- 0.000</td>\n",
       "      <td>0.749 +/- 0.006</td>\n",
       "    </tr>\n",
       "    <tr>\n",
       "      <th>5</th>\n",
       "      <td>9_imdb_cora</td>\n",
       "      <td>1.000 +/- 0.000</td>\n",
       "      <td>0.972 +/- 0.012</td>\n",
       "    </tr>\n",
       "    <tr>\n",
       "      <th>6</th>\n",
       "      <td>12_uwcse_cora</td>\n",
       "      <td>0.588 +/- 0.055</td>\n",
       "      <td>0.907 +/- 0.001</td>\n",
       "    </tr>\n",
       "    <tr>\n",
       "      <th>7</th>\n",
       "      <td>13_uwcse_cora</td>\n",
       "      <td>1.000 +/- 0.000</td>\n",
       "      <td>0.967 +/- 0.012</td>\n",
       "    </tr>\n",
       "    <tr>\n",
       "      <th>8</th>\n",
       "      <td>16_yeast_twitter</td>\n",
       "      <td>0.604 +/- 0.046</td>\n",
       "      <td>0.514 +/- 0.001</td>\n",
       "    </tr>\n",
       "    <tr>\n",
       "      <th>9</th>\n",
       "      <td>23_twitter_yeast</td>\n",
       "      <td>0.310 +/- 0.223</td>\n",
       "      <td>0.426 +/- 0.047</td>\n",
       "    </tr>\n",
       "    <tr>\n",
       "      <th>10</th>\n",
       "      <td>35_nell_sports_nell_finances</td>\n",
       "      <td>0.517 +/- 0.063</td>\n",
       "      <td>0.733 +/- 0.044</td>\n",
       "    </tr>\n",
       "    <tr>\n",
       "      <th>11</th>\n",
       "      <td>37_nell_sports_nell_finances</td>\n",
       "      <td>0.669 +/- 0.313</td>\n",
       "      <td>0.727 +/- 0.180</td>\n",
       "    </tr>\n",
       "    <tr>\n",
       "      <th>12</th>\n",
       "      <td>46_nell_finances_nell_sports</td>\n",
       "      <td>0.000 +/- 0.000</td>\n",
       "      <td>0.860 +/- 0.056</td>\n",
       "    </tr>\n",
       "    <tr>\n",
       "      <th>13</th>\n",
       "      <td>47_yeast_facebook</td>\n",
       "      <td>0.282 +/- 0.034</td>\n",
       "      <td>0.390 +/- 0.026</td>\n",
       "    </tr>\n",
       "    <tr>\n",
       "      <th>14</th>\n",
       "      <td>48_twitter_facebook</td>\n",
       "      <td>0.250 +/- 0.071</td>\n",
       "      <td>0.309 +/- 0.045</td>\n",
       "    </tr>\n",
       "    <tr>\n",
       "      <th>15</th>\n",
       "      <td>49_imdb_facebook</td>\n",
       "      <td>0.098 +/- 0.000</td>\n",
       "      <td>0.391 +/- 0.030</td>\n",
       "    </tr>\n",
       "    <tr>\n",
       "      <th>16</th>\n",
       "      <td>50_uwcse_facebook</td>\n",
       "      <td>0.165 +/- 0.022</td>\n",
       "      <td>0.411 +/- 0.018</td>\n",
       "    </tr>\n",
       "  </tbody>\n",
       "</table>\n",
       "</div>"
      ],
      "text/plain": [
       "                      Experiment Transfer Learning  \\\n",
       "0                   1_imdb_uwcse   1.000 +/- 0.000   \n",
       "1                   2_uwcse_imdb   1.000 +/- 0.000   \n",
       "2                   3_imdb_uwcse   0.543 +/- 0.000   \n",
       "3                   6_uwcse_imdb   1.000 +/- 0.000   \n",
       "4                    7_imdb_cora   0.768 +/- 0.000   \n",
       "5                    9_imdb_cora   1.000 +/- 0.000   \n",
       "6                  12_uwcse_cora   0.588 +/- 0.055   \n",
       "7                  13_uwcse_cora   1.000 +/- 0.000   \n",
       "8               16_yeast_twitter   0.604 +/- 0.046   \n",
       "9               23_twitter_yeast   0.310 +/- 0.223   \n",
       "10  35_nell_sports_nell_finances   0.517 +/- 0.063   \n",
       "11  37_nell_sports_nell_finances   0.669 +/- 0.313   \n",
       "12  46_nell_finances_nell_sports   0.000 +/- 0.000   \n",
       "13             47_yeast_facebook   0.282 +/- 0.034   \n",
       "14           48_twitter_facebook   0.250 +/- 0.071   \n",
       "15              49_imdb_facebook   0.098 +/- 0.000   \n",
       "16             50_uwcse_facebook   0.165 +/- 0.022   \n",
       "\n",
       "   Transfer Learning with Revision Theory  \n",
       "0                         0.989 +/- 0.012  \n",
       "1                         1.000 +/- 0.000  \n",
       "2                         0.506 +/- 0.003  \n",
       "3                         1.000 +/- 0.000  \n",
       "4                         0.749 +/- 0.006  \n",
       "5                         0.972 +/- 0.012  \n",
       "6                         0.907 +/- 0.001  \n",
       "7                         0.967 +/- 0.012  \n",
       "8                         0.514 +/- 0.001  \n",
       "9                         0.426 +/- 0.047  \n",
       "10                        0.733 +/- 0.044  \n",
       "11                        0.727 +/- 0.180  \n",
       "12                        0.860 +/- 0.056  \n",
       "13                        0.390 +/- 0.026  \n",
       "14                        0.309 +/- 0.045  \n",
       "15                        0.391 +/- 0.030  \n",
       "16                        0.411 +/- 0.018  "
      ]
     },
     "metadata": {},
     "output_type": "display_data"
    },
    {
     "data": {
      "text/markdown": [
       "# Results for F1"
      ],
      "text/plain": [
       "<IPython.core.display.Markdown object>"
      ]
     },
     "metadata": {},
     "output_type": "display_data"
    },
    {
     "data": {
      "text/html": [
       "<div>\n",
       "<table border=\"1\" class=\"dataframe\">\n",
       "  <thead>\n",
       "    <tr style=\"text-align: right;\">\n",
       "      <th></th>\n",
       "      <th>Experiment</th>\n",
       "      <th>Transfer Learning</th>\n",
       "      <th>Transfer Learning with Revision Theory</th>\n",
       "    </tr>\n",
       "  </thead>\n",
       "  <tbody>\n",
       "    <tr>\n",
       "      <th>0</th>\n",
       "      <td>1_imdb_uwcse</td>\n",
       "      <td>0.942 +/- 0.000</td>\n",
       "      <td>0.940 +/- 0.004</td>\n",
       "    </tr>\n",
       "    <tr>\n",
       "      <th>1</th>\n",
       "      <td>2_uwcse_imdb</td>\n",
       "      <td>0.956 +/- 0.005</td>\n",
       "      <td>0.962 +/- 0.004</td>\n",
       "    </tr>\n",
       "    <tr>\n",
       "      <th>2</th>\n",
       "      <td>3_imdb_uwcse</td>\n",
       "      <td>nan +/- nan</td>\n",
       "      <td>0.553 +/- 0.001</td>\n",
       "    </tr>\n",
       "    <tr>\n",
       "      <th>3</th>\n",
       "      <td>6_uwcse_imdb</td>\n",
       "      <td>0.915 +/- 0.000</td>\n",
       "      <td>0.915 +/- 0.000</td>\n",
       "    </tr>\n",
       "    <tr>\n",
       "      <th>4</th>\n",
       "      <td>7_imdb_cora</td>\n",
       "      <td>nan +/- nan</td>\n",
       "      <td>0.602 +/- 0.013</td>\n",
       "    </tr>\n",
       "    <tr>\n",
       "      <th>5</th>\n",
       "      <td>9_imdb_cora</td>\n",
       "      <td>0.971 +/- 0.000</td>\n",
       "      <td>0.956 +/- 0.007</td>\n",
       "    </tr>\n",
       "    <tr>\n",
       "      <th>6</th>\n",
       "      <td>12_uwcse_cora</td>\n",
       "      <td>0.624 +/- 0.011</td>\n",
       "      <td>0.883 +/- 0.001</td>\n",
       "    </tr>\n",
       "    <tr>\n",
       "      <th>7</th>\n",
       "      <td>13_uwcse_cora</td>\n",
       "      <td>0.971 +/- 0.000</td>\n",
       "      <td>0.954 +/- 0.007</td>\n",
       "    </tr>\n",
       "    <tr>\n",
       "      <th>8</th>\n",
       "      <td>16_yeast_twitter</td>\n",
       "      <td>0.631 +/- 0.010</td>\n",
       "      <td>0.610 +/- 0.000</td>\n",
       "    </tr>\n",
       "    <tr>\n",
       "      <th>9</th>\n",
       "      <td>23_twitter_yeast</td>\n",
       "      <td>0.294 +/- 0.153</td>\n",
       "      <td>0.512 +/- 0.041</td>\n",
       "    </tr>\n",
       "    <tr>\n",
       "      <th>10</th>\n",
       "      <td>35_nell_sports_nell_finances</td>\n",
       "      <td>0.638 +/- 0.019</td>\n",
       "      <td>0.716 +/- 0.016</td>\n",
       "    </tr>\n",
       "    <tr>\n",
       "      <th>11</th>\n",
       "      <td>37_nell_sports_nell_finances</td>\n",
       "      <td>0.683 +/- 0.140</td>\n",
       "      <td>0.756 +/- 0.051</td>\n",
       "    </tr>\n",
       "    <tr>\n",
       "      <th>12</th>\n",
       "      <td>46_nell_finances_nell_sports</td>\n",
       "      <td>nan +/- nan</td>\n",
       "      <td>0.808 +/- 0.018</td>\n",
       "    </tr>\n",
       "    <tr>\n",
       "      <th>13</th>\n",
       "      <td>47_yeast_facebook</td>\n",
       "      <td>0.367 +/- 0.044</td>\n",
       "      <td>0.451 +/- 0.024</td>\n",
       "    </tr>\n",
       "    <tr>\n",
       "      <th>14</th>\n",
       "      <td>48_twitter_facebook</td>\n",
       "      <td>0.290 +/- 0.067</td>\n",
       "      <td>0.385 +/- 0.037</td>\n",
       "    </tr>\n",
       "    <tr>\n",
       "      <th>15</th>\n",
       "      <td>49_imdb_facebook</td>\n",
       "      <td>nan +/- nan</td>\n",
       "      <td>0.453 +/- 0.023</td>\n",
       "    </tr>\n",
       "    <tr>\n",
       "      <th>16</th>\n",
       "      <td>50_uwcse_facebook</td>\n",
       "      <td>0.222 +/- 0.024</td>\n",
       "      <td>0.469 +/- 0.016</td>\n",
       "    </tr>\n",
       "  </tbody>\n",
       "</table>\n",
       "</div>"
      ],
      "text/plain": [
       "                      Experiment Transfer Learning  \\\n",
       "0                   1_imdb_uwcse   0.942 +/- 0.000   \n",
       "1                   2_uwcse_imdb   0.956 +/- 0.005   \n",
       "2                   3_imdb_uwcse       nan +/- nan   \n",
       "3                   6_uwcse_imdb   0.915 +/- 0.000   \n",
       "4                    7_imdb_cora       nan +/- nan   \n",
       "5                    9_imdb_cora   0.971 +/- 0.000   \n",
       "6                  12_uwcse_cora   0.624 +/- 0.011   \n",
       "7                  13_uwcse_cora   0.971 +/- 0.000   \n",
       "8               16_yeast_twitter   0.631 +/- 0.010   \n",
       "9               23_twitter_yeast   0.294 +/- 0.153   \n",
       "10  35_nell_sports_nell_finances   0.638 +/- 0.019   \n",
       "11  37_nell_sports_nell_finances   0.683 +/- 0.140   \n",
       "12  46_nell_finances_nell_sports       nan +/- nan   \n",
       "13             47_yeast_facebook   0.367 +/- 0.044   \n",
       "14           48_twitter_facebook   0.290 +/- 0.067   \n",
       "15              49_imdb_facebook       nan +/- nan   \n",
       "16             50_uwcse_facebook   0.222 +/- 0.024   \n",
       "\n",
       "   Transfer Learning with Revision Theory  \n",
       "0                         0.940 +/- 0.004  \n",
       "1                         0.962 +/- 0.004  \n",
       "2                         0.553 +/- 0.001  \n",
       "3                         0.915 +/- 0.000  \n",
       "4                         0.602 +/- 0.013  \n",
       "5                         0.956 +/- 0.007  \n",
       "6                         0.883 +/- 0.001  \n",
       "7                         0.954 +/- 0.007  \n",
       "8                         0.610 +/- 0.000  \n",
       "9                         0.512 +/- 0.041  \n",
       "10                        0.716 +/- 0.016  \n",
       "11                        0.756 +/- 0.051  \n",
       "12                        0.808 +/- 0.018  \n",
       "13                        0.451 +/- 0.024  \n",
       "14                        0.385 +/- 0.037  \n",
       "15                        0.453 +/- 0.023  \n",
       "16                        0.469 +/- 0.016  "
      ]
     },
     "metadata": {},
     "output_type": "display_data"
    },
    {
     "data": {
      "text/markdown": [
       "# Results for Precision"
      ],
      "text/plain": [
       "<IPython.core.display.Markdown object>"
      ]
     },
     "metadata": {},
     "output_type": "display_data"
    },
    {
     "data": {
      "text/html": [
       "<div>\n",
       "<table border=\"1\" class=\"dataframe\">\n",
       "  <thead>\n",
       "    <tr style=\"text-align: right;\">\n",
       "      <th></th>\n",
       "      <th>Experiment</th>\n",
       "      <th>Transfer Learning</th>\n",
       "      <th>Transfer Learning with Revision Theory</th>\n",
       "    </tr>\n",
       "  </thead>\n",
       "  <tbody>\n",
       "    <tr>\n",
       "      <th>0</th>\n",
       "      <td>1_imdb_uwcse</td>\n",
       "      <td>0.889 +/- 0.000</td>\n",
       "      <td>0.896 +/- 0.003</td>\n",
       "    </tr>\n",
       "    <tr>\n",
       "      <th>1</th>\n",
       "      <td>2_uwcse_imdb</td>\n",
       "      <td>0.916 +/- 0.010</td>\n",
       "      <td>0.928 +/- 0.007</td>\n",
       "    </tr>\n",
       "    <tr>\n",
       "      <th>2</th>\n",
       "      <td>3_imdb_uwcse</td>\n",
       "      <td>nan +/- nan</td>\n",
       "      <td>0.617 +/- 0.003</td>\n",
       "    </tr>\n",
       "    <tr>\n",
       "      <th>3</th>\n",
       "      <td>6_uwcse_imdb</td>\n",
       "      <td>0.845 +/- 0.000</td>\n",
       "      <td>0.845 +/- 0.000</td>\n",
       "    </tr>\n",
       "    <tr>\n",
       "      <th>4</th>\n",
       "      <td>7_imdb_cora</td>\n",
       "      <td>nan +/- nan</td>\n",
       "      <td>0.610 +/- 0.018</td>\n",
       "    </tr>\n",
       "    <tr>\n",
       "      <th>5</th>\n",
       "      <td>9_imdb_cora</td>\n",
       "      <td>0.944 +/- 0.000</td>\n",
       "      <td>0.944 +/- 0.000</td>\n",
       "    </tr>\n",
       "    <tr>\n",
       "      <th>6</th>\n",
       "      <td>12_uwcse_cora</td>\n",
       "      <td>0.823 +/- 0.018</td>\n",
       "      <td>0.886 +/- 0.000</td>\n",
       "    </tr>\n",
       "    <tr>\n",
       "      <th>7</th>\n",
       "      <td>13_uwcse_cora</td>\n",
       "      <td>0.944 +/- 0.000</td>\n",
       "      <td>0.944 +/- 0.000</td>\n",
       "    </tr>\n",
       "    <tr>\n",
       "      <th>8</th>\n",
       "      <td>16_yeast_twitter</td>\n",
       "      <td>0.664 +/- 0.042</td>\n",
       "      <td>0.750 +/- 0.002</td>\n",
       "    </tr>\n",
       "    <tr>\n",
       "      <th>9</th>\n",
       "      <td>23_twitter_yeast</td>\n",
       "      <td>0.751 +/- 0.014</td>\n",
       "      <td>0.688 +/- 0.004</td>\n",
       "    </tr>\n",
       "    <tr>\n",
       "      <th>10</th>\n",
       "      <td>35_nell_sports_nell_finances</td>\n",
       "      <td>0.935 +/- 0.071</td>\n",
       "      <td>0.748 +/- 0.028</td>\n",
       "    </tr>\n",
       "    <tr>\n",
       "      <th>11</th>\n",
       "      <td>37_nell_sports_nell_finances</td>\n",
       "      <td>0.759 +/- 0.138</td>\n",
       "      <td>0.811 +/- 0.126</td>\n",
       "    </tr>\n",
       "    <tr>\n",
       "      <th>12</th>\n",
       "      <td>46_nell_finances_nell_sports</td>\n",
       "      <td>nan +/- nan</td>\n",
       "      <td>0.763 +/- 0.041</td>\n",
       "    </tr>\n",
       "    <tr>\n",
       "      <th>13</th>\n",
       "      <td>47_yeast_facebook</td>\n",
       "      <td>0.583 +/- 0.024</td>\n",
       "      <td>0.589 +/- 0.012</td>\n",
       "    </tr>\n",
       "    <tr>\n",
       "      <th>14</th>\n",
       "      <td>48_twitter_facebook</td>\n",
       "      <td>0.547 +/- 0.010</td>\n",
       "      <td>0.559 +/- 0.014</td>\n",
       "    </tr>\n",
       "    <tr>\n",
       "      <th>15</th>\n",
       "      <td>49_imdb_facebook</td>\n",
       "      <td>nan +/- nan</td>\n",
       "      <td>0.599 +/- 0.003</td>\n",
       "    </tr>\n",
       "    <tr>\n",
       "      <th>16</th>\n",
       "      <td>50_uwcse_facebook</td>\n",
       "      <td>0.579 +/- 0.043</td>\n",
       "      <td>0.595 +/- 0.010</td>\n",
       "    </tr>\n",
       "  </tbody>\n",
       "</table>\n",
       "</div>"
      ],
      "text/plain": [
       "                      Experiment Transfer Learning  \\\n",
       "0                   1_imdb_uwcse   0.889 +/- 0.000   \n",
       "1                   2_uwcse_imdb   0.916 +/- 0.010   \n",
       "2                   3_imdb_uwcse       nan +/- nan   \n",
       "3                   6_uwcse_imdb   0.845 +/- 0.000   \n",
       "4                    7_imdb_cora       nan +/- nan   \n",
       "5                    9_imdb_cora   0.944 +/- 0.000   \n",
       "6                  12_uwcse_cora   0.823 +/- 0.018   \n",
       "7                  13_uwcse_cora   0.944 +/- 0.000   \n",
       "8               16_yeast_twitter   0.664 +/- 0.042   \n",
       "9               23_twitter_yeast   0.751 +/- 0.014   \n",
       "10  35_nell_sports_nell_finances   0.935 +/- 0.071   \n",
       "11  37_nell_sports_nell_finances   0.759 +/- 0.138   \n",
       "12  46_nell_finances_nell_sports       nan +/- nan   \n",
       "13             47_yeast_facebook   0.583 +/- 0.024   \n",
       "14           48_twitter_facebook   0.547 +/- 0.010   \n",
       "15              49_imdb_facebook       nan +/- nan   \n",
       "16             50_uwcse_facebook   0.579 +/- 0.043   \n",
       "\n",
       "   Transfer Learning with Revision Theory  \n",
       "0                         0.896 +/- 0.003  \n",
       "1                         0.928 +/- 0.007  \n",
       "2                         0.617 +/- 0.003  \n",
       "3                         0.845 +/- 0.000  \n",
       "4                         0.610 +/- 0.018  \n",
       "5                         0.944 +/- 0.000  \n",
       "6                         0.886 +/- 0.000  \n",
       "7                         0.944 +/- 0.000  \n",
       "8                         0.750 +/- 0.002  \n",
       "9                         0.688 +/- 0.004  \n",
       "10                        0.748 +/- 0.028  \n",
       "11                        0.811 +/- 0.126  \n",
       "12                        0.763 +/- 0.041  \n",
       "13                        0.589 +/- 0.012  \n",
       "14                        0.559 +/- 0.014  \n",
       "15                        0.599 +/- 0.003  \n",
       "16                        0.595 +/- 0.010  "
      ]
     },
     "metadata": {},
     "output_type": "display_data"
    },
    {
     "data": {
      "text/markdown": [
       "# Results for Learning and Revision time"
      ],
      "text/plain": [
       "<IPython.core.display.Markdown object>"
      ]
     },
     "metadata": {},
     "output_type": "display_data"
    },
    {
     "data": {
      "text/html": [
       "<div>\n",
       "<table border=\"1\" class=\"dataframe\">\n",
       "  <thead>\n",
       "    <tr style=\"text-align: right;\">\n",
       "      <th></th>\n",
       "      <th>Experiment</th>\n",
       "      <th>Transfer Learning</th>\n",
       "      <th>Transfer Learning with Revision Theory</th>\n",
       "    </tr>\n",
       "  </thead>\n",
       "  <tbody>\n",
       "    <tr>\n",
       "      <th>0</th>\n",
       "      <td>1_imdb_uwcse</td>\n",
       "      <td>4.231 +/- 0.892 (1.9)</td>\n",
       "      <td>9.960 +/- 1.158 (1.9)</td>\n",
       "    </tr>\n",
       "    <tr>\n",
       "      <th>1</th>\n",
       "      <td>2_uwcse_imdb</td>\n",
       "      <td>2.700 +/- 0.421 (2.1)</td>\n",
       "      <td>5.892 +/- 0.837 (2.1)</td>\n",
       "    </tr>\n",
       "    <tr>\n",
       "      <th>2</th>\n",
       "      <td>3_imdb_uwcse</td>\n",
       "      <td>11.880 +/- 2.992 (1.9)</td>\n",
       "      <td>28.453 +/- 2.115 (1.9)</td>\n",
       "    </tr>\n",
       "    <tr>\n",
       "      <th>3</th>\n",
       "      <td>6_uwcse_imdb</td>\n",
       "      <td>1.170 +/- 0.104 (2.0)</td>\n",
       "      <td>2.294 +/- 0.118 (2.0)</td>\n",
       "    </tr>\n",
       "    <tr>\n",
       "      <th>4</th>\n",
       "      <td>7_imdb_cora</td>\n",
       "      <td>72.037 +/- 3.687 (1.9)</td>\n",
       "      <td>201.820 +/- 19.572 (1.9)</td>\n",
       "    </tr>\n",
       "    <tr>\n",
       "      <th>5</th>\n",
       "      <td>9_imdb_cora</td>\n",
       "      <td>4.748 +/- 0.590 (1.9)</td>\n",
       "      <td>15.797 +/- 4.215 (1.9)</td>\n",
       "    </tr>\n",
       "    <tr>\n",
       "      <th>6</th>\n",
       "      <td>12_uwcse_cora</td>\n",
       "      <td>155.088 +/- 10.274 (2.0)</td>\n",
       "      <td>528.597 +/- 224.257 (2.0)</td>\n",
       "    </tr>\n",
       "    <tr>\n",
       "      <th>7</th>\n",
       "      <td>13_uwcse_cora</td>\n",
       "      <td>4.786 +/- 0.722 (1.9)</td>\n",
       "      <td>16.695 +/- 1.979 (1.9)</td>\n",
       "    </tr>\n",
       "    <tr>\n",
       "      <th>8</th>\n",
       "      <td>16_yeast_twitter</td>\n",
       "      <td>20.940 +/- 0.681 (3.3)</td>\n",
       "      <td>52.191 +/- 3.720 (3.3)</td>\n",
       "    </tr>\n",
       "    <tr>\n",
       "      <th>9</th>\n",
       "      <td>23_twitter_yeast</td>\n",
       "      <td>28.220 +/- 4.078 (1.8)</td>\n",
       "      <td>72.159 +/- 1.550 (1.8)</td>\n",
       "    </tr>\n",
       "    <tr>\n",
       "      <th>10</th>\n",
       "      <td>35_nell_sports_nell_finances</td>\n",
       "      <td>2.341 +/- 0.223 (2.7)</td>\n",
       "      <td>5.626 +/- 0.500 (2.7)</td>\n",
       "    </tr>\n",
       "    <tr>\n",
       "      <th>11</th>\n",
       "      <td>37_nell_sports_nell_finances</td>\n",
       "      <td>96.439 +/- 202.293 (3.5)</td>\n",
       "      <td>113.477 +/- 201.128 (3.5)</td>\n",
       "    </tr>\n",
       "    <tr>\n",
       "      <th>12</th>\n",
       "      <td>46_nell_finances_nell_sports</td>\n",
       "      <td>154.841 +/- 87.933 (4.8)</td>\n",
       "      <td>403.304 +/- 279.865 (4.8)</td>\n",
       "    </tr>\n",
       "    <tr>\n",
       "      <th>13</th>\n",
       "      <td>47_yeast_facebook</td>\n",
       "      <td>70.376 +/- 7.180 (12.7)</td>\n",
       "      <td>191.941 +/- 9.521 (12.7)</td>\n",
       "    </tr>\n",
       "    <tr>\n",
       "      <th>14</th>\n",
       "      <td>48_twitter_facebook</td>\n",
       "      <td>79.817 +/- 38.243 (1.9)</td>\n",
       "      <td>176.324 +/- 44.933 (1.9)</td>\n",
       "    </tr>\n",
       "    <tr>\n",
       "      <th>15</th>\n",
       "      <td>49_imdb_facebook</td>\n",
       "      <td>66.179 +/- 8.708 (1.8)</td>\n",
       "      <td>181.418 +/- 9.191 (1.8)</td>\n",
       "    </tr>\n",
       "    <tr>\n",
       "      <th>16</th>\n",
       "      <td>50_uwcse_facebook</td>\n",
       "      <td>64.802 +/- 5.590 (2.1)</td>\n",
       "      <td>182.310 +/- 12.309 (2.1)</td>\n",
       "    </tr>\n",
       "  </tbody>\n",
       "</table>\n",
       "</div>"
      ],
      "text/plain": [
       "                      Experiment         Transfer Learning  \\\n",
       "0                   1_imdb_uwcse     4.231 +/- 0.892 (1.9)   \n",
       "1                   2_uwcse_imdb     2.700 +/- 0.421 (2.1)   \n",
       "2                   3_imdb_uwcse    11.880 +/- 2.992 (1.9)   \n",
       "3                   6_uwcse_imdb     1.170 +/- 0.104 (2.0)   \n",
       "4                    7_imdb_cora    72.037 +/- 3.687 (1.9)   \n",
       "5                    9_imdb_cora     4.748 +/- 0.590 (1.9)   \n",
       "6                  12_uwcse_cora  155.088 +/- 10.274 (2.0)   \n",
       "7                  13_uwcse_cora     4.786 +/- 0.722 (1.9)   \n",
       "8               16_yeast_twitter    20.940 +/- 0.681 (3.3)   \n",
       "9               23_twitter_yeast    28.220 +/- 4.078 (1.8)   \n",
       "10  35_nell_sports_nell_finances     2.341 +/- 0.223 (2.7)   \n",
       "11  37_nell_sports_nell_finances  96.439 +/- 202.293 (3.5)   \n",
       "12  46_nell_finances_nell_sports  154.841 +/- 87.933 (4.8)   \n",
       "13             47_yeast_facebook   70.376 +/- 7.180 (12.7)   \n",
       "14           48_twitter_facebook   79.817 +/- 38.243 (1.9)   \n",
       "15              49_imdb_facebook    66.179 +/- 8.708 (1.8)   \n",
       "16             50_uwcse_facebook    64.802 +/- 5.590 (2.1)   \n",
       "\n",
       "   Transfer Learning with Revision Theory  \n",
       "0                   9.960 +/- 1.158 (1.9)  \n",
       "1                   5.892 +/- 0.837 (2.1)  \n",
       "2                  28.453 +/- 2.115 (1.9)  \n",
       "3                   2.294 +/- 0.118 (2.0)  \n",
       "4                201.820 +/- 19.572 (1.9)  \n",
       "5                  15.797 +/- 4.215 (1.9)  \n",
       "6               528.597 +/- 224.257 (2.0)  \n",
       "7                  16.695 +/- 1.979 (1.9)  \n",
       "8                  52.191 +/- 3.720 (3.3)  \n",
       "9                  72.159 +/- 1.550 (1.8)  \n",
       "10                  5.626 +/- 0.500 (2.7)  \n",
       "11              113.477 +/- 201.128 (3.5)  \n",
       "12              403.304 +/- 279.865 (4.8)  \n",
       "13               191.941 +/- 9.521 (12.7)  \n",
       "14               176.324 +/- 44.933 (1.9)  \n",
       "15                181.418 +/- 9.191 (1.8)  \n",
       "16               182.310 +/- 12.309 (2.1)  "
      ]
     },
     "metadata": {},
     "output_type": "display_data"
    },
    {
     "data": {
      "text/markdown": [
       "# Results for Inference time"
      ],
      "text/plain": [
       "<IPython.core.display.Markdown object>"
      ]
     },
     "metadata": {},
     "output_type": "display_data"
    },
    {
     "data": {
      "text/html": [
       "<div>\n",
       "<table border=\"1\" class=\"dataframe\">\n",
       "  <thead>\n",
       "    <tr style=\"text-align: right;\">\n",
       "      <th></th>\n",
       "      <th>Experiment</th>\n",
       "      <th>Transfer Learning</th>\n",
       "      <th>Transfer Learning with Revision Theory</th>\n",
       "    </tr>\n",
       "  </thead>\n",
       "  <tbody>\n",
       "    <tr>\n",
       "      <th>0</th>\n",
       "      <td>1_imdb_uwcse</td>\n",
       "      <td>0.876 +/- 0.349</td>\n",
       "      <td>0.860 +/- 0.139</td>\n",
       "    </tr>\n",
       "    <tr>\n",
       "      <th>1</th>\n",
       "      <td>2_uwcse_imdb</td>\n",
       "      <td>1.040 +/- 0.100</td>\n",
       "      <td>1.028 +/- 0.130</td>\n",
       "    </tr>\n",
       "    <tr>\n",
       "      <th>2</th>\n",
       "      <td>3_imdb_uwcse</td>\n",
       "      <td>1.061 +/- 0.096</td>\n",
       "      <td>1.297 +/- 0.202</td>\n",
       "    </tr>\n",
       "    <tr>\n",
       "      <th>3</th>\n",
       "      <td>6_uwcse_imdb</td>\n",
       "      <td>0.735 +/- 0.281</td>\n",
       "      <td>0.599 +/- 0.088</td>\n",
       "    </tr>\n",
       "    <tr>\n",
       "      <th>4</th>\n",
       "      <td>7_imdb_cora</td>\n",
       "      <td>2.060 +/- 0.166</td>\n",
       "      <td>23.882 +/- 5.883</td>\n",
       "    </tr>\n",
       "    <tr>\n",
       "      <th>5</th>\n",
       "      <td>9_imdb_cora</td>\n",
       "      <td>1.574 +/- 0.271</td>\n",
       "      <td>8.002 +/- 1.800</td>\n",
       "    </tr>\n",
       "    <tr>\n",
       "      <th>6</th>\n",
       "      <td>12_uwcse_cora</td>\n",
       "      <td>23.150 +/- 16.600</td>\n",
       "      <td>120.524 +/- 154.722</td>\n",
       "    </tr>\n",
       "    <tr>\n",
       "      <th>7</th>\n",
       "      <td>13_uwcse_cora</td>\n",
       "      <td>2.012 +/- 0.492</td>\n",
       "      <td>47.273 +/- 72.489</td>\n",
       "    </tr>\n",
       "    <tr>\n",
       "      <th>8</th>\n",
       "      <td>16_yeast_twitter</td>\n",
       "      <td>1.340 +/- 0.163</td>\n",
       "      <td>1.501 +/- 0.038</td>\n",
       "    </tr>\n",
       "    <tr>\n",
       "      <th>9</th>\n",
       "      <td>23_twitter_yeast</td>\n",
       "      <td>2.562 +/- 0.233</td>\n",
       "      <td>2.861 +/- 0.273</td>\n",
       "    </tr>\n",
       "    <tr>\n",
       "      <th>10</th>\n",
       "      <td>35_nell_sports_nell_finances</td>\n",
       "      <td>0.872 +/- 0.096</td>\n",
       "      <td>0.882 +/- 0.170</td>\n",
       "    </tr>\n",
       "    <tr>\n",
       "      <th>11</th>\n",
       "      <td>37_nell_sports_nell_finances</td>\n",
       "      <td>3.075 +/- 0.388</td>\n",
       "      <td>2.512 +/- 0.094</td>\n",
       "    </tr>\n",
       "    <tr>\n",
       "      <th>12</th>\n",
       "      <td>46_nell_finances_nell_sports</td>\n",
       "      <td>1.269 +/- 0.136</td>\n",
       "      <td>4.744 +/- 2.831</td>\n",
       "    </tr>\n",
       "    <tr>\n",
       "      <th>13</th>\n",
       "      <td>47_yeast_facebook</td>\n",
       "      <td>4.259 +/- 0.345</td>\n",
       "      <td>4.473 +/- 0.250</td>\n",
       "    </tr>\n",
       "    <tr>\n",
       "      <th>14</th>\n",
       "      <td>48_twitter_facebook</td>\n",
       "      <td>3.921 +/- 0.218</td>\n",
       "      <td>4.218 +/- 0.238</td>\n",
       "    </tr>\n",
       "    <tr>\n",
       "      <th>15</th>\n",
       "      <td>49_imdb_facebook</td>\n",
       "      <td>2.511 +/- 0.099</td>\n",
       "      <td>4.405 +/- 0.267</td>\n",
       "    </tr>\n",
       "    <tr>\n",
       "      <th>16</th>\n",
       "      <td>50_uwcse_facebook</td>\n",
       "      <td>4.331 +/- 2.191</td>\n",
       "      <td>6.019 +/- 2.656</td>\n",
       "    </tr>\n",
       "  </tbody>\n",
       "</table>\n",
       "</div>"
      ],
      "text/plain": [
       "                      Experiment  Transfer Learning  \\\n",
       "0                   1_imdb_uwcse    0.876 +/- 0.349   \n",
       "1                   2_uwcse_imdb    1.040 +/- 0.100   \n",
       "2                   3_imdb_uwcse    1.061 +/- 0.096   \n",
       "3                   6_uwcse_imdb    0.735 +/- 0.281   \n",
       "4                    7_imdb_cora    2.060 +/- 0.166   \n",
       "5                    9_imdb_cora    1.574 +/- 0.271   \n",
       "6                  12_uwcse_cora  23.150 +/- 16.600   \n",
       "7                  13_uwcse_cora    2.012 +/- 0.492   \n",
       "8               16_yeast_twitter    1.340 +/- 0.163   \n",
       "9               23_twitter_yeast    2.562 +/- 0.233   \n",
       "10  35_nell_sports_nell_finances    0.872 +/- 0.096   \n",
       "11  37_nell_sports_nell_finances    3.075 +/- 0.388   \n",
       "12  46_nell_finances_nell_sports    1.269 +/- 0.136   \n",
       "13             47_yeast_facebook    4.259 +/- 0.345   \n",
       "14           48_twitter_facebook    3.921 +/- 0.218   \n",
       "15              49_imdb_facebook    2.511 +/- 0.099   \n",
       "16             50_uwcse_facebook    4.331 +/- 2.191   \n",
       "\n",
       "   Transfer Learning with Revision Theory  \n",
       "0                         0.860 +/- 0.139  \n",
       "1                         1.028 +/- 0.130  \n",
       "2                         1.297 +/- 0.202  \n",
       "3                         0.599 +/- 0.088  \n",
       "4                        23.882 +/- 5.883  \n",
       "5                         8.002 +/- 1.800  \n",
       "6                     120.524 +/- 154.722  \n",
       "7                       47.273 +/- 72.489  \n",
       "8                         1.501 +/- 0.038  \n",
       "9                         2.861 +/- 0.273  \n",
       "10                        0.882 +/- 0.170  \n",
       "11                        2.512 +/- 0.094  \n",
       "12                        4.744 +/- 2.831  \n",
       "13                        4.473 +/- 0.250  \n",
       "14                        4.218 +/- 0.238  \n",
       "15                        4.405 +/- 0.267  \n",
       "16                        6.019 +/- 2.656  "
      ]
     },
     "metadata": {},
     "output_type": "display_data"
    }
   ],
   "source": [
    "experiments = [\n",
    "            {'id': '1', 'source':'imdb', 'target':'uwcse', 'predicate':'workedunder', 'to_predicate':'advisedby'},\n",
    "            {'id': '2', 'source':'uwcse', 'target':'imdb', 'predicate':'advisedby', 'to_predicate':'workedunder'},\n",
    "            {'id': '3', 'source':'imdb', 'target':'uwcse', 'predicate':'movie', 'to_predicate':'publication'},\n",
    "            {'id': '4', 'source':'uwcse', 'target':'imdb', 'predicate':'publication', 'to_predicate':'movie'},\n",
    "            {'id': '5', 'source':'imdb', 'target':'uwcse', 'predicate':'genre', 'to_predicate':'inphase'},\n",
    "            {'id': '6', 'source':'uwcse', 'target':'imdb', 'predicate':'inphase', 'to_predicate':'genre'},\n",
    "            {'id': '7', 'source':'imdb', 'target':'cora', 'predicate':'workedunder', 'to_predicate':'samevenue'},\n",
    "            {'id': '8', 'source':'imdb', 'target':'cora', 'predicate':'workedunder', 'to_predicate':'samebib'},\n",
    "            {'id': '9', 'source':'imdb', 'target':'cora', 'predicate':'workedunder', 'to_predicate':'sameauthor'},\n",
    "            {'id': '10', 'source':'imdb', 'target':'cora', 'predicate':'workedunder', 'to_predicate':'sametitle'},\n",
    "            {'id': '11', 'source':'uwcse', 'target':'cora', 'predicate':'advisedby', 'to_predicate':'samevenue'},\n",
    "            {'id': '12', 'source':'uwcse', 'target':'cora', 'predicate':'advisedby', 'to_predicate':'samebib'},\n",
    "            {'id': '13', 'source':'uwcse', 'target':'cora', 'predicate':'advisedby', 'to_predicate':'sameauthor'},\n",
    "            {'id': '14', 'source':'uwcse', 'target':'cora', 'predicate':'advisedby', 'to_predicate':'sametitle'},\n",
    "            {'id': '15', 'source':'yeast', 'target':'twitter', 'predicate':'proteinclass', 'to_predicate':'accounttype'},\n",
    "            {'id': '16', 'source':'yeast', 'target':'twitter', 'predicate':'interaction', 'to_predicate':'follows'},\n",
    "            {'id': '17', 'source':'yeast', 'target':'twitter', 'predicate':'location', 'to_predicate':'tweets'},\n",
    "            {'id': '18', 'source':'yeast', 'target':'twitter', 'predicate':'enzyme', 'to_predicate':'tweets'},\n",
    "            {'id': '19', 'source':'yeast', 'target':'twitter', 'predicate':'function', 'to_predicate':'tweets'},\n",
    "            {'id': '20', 'source':'yeast', 'target':'twitter', 'predicate':'phenotype', 'to_predicate':'tweets'},\n",
    "            {'id': '21', 'source':'yeast', 'target':'twitter', 'predicate':'complex', 'to_predicate':'tweets'},\n",
    "            {'id': '22', 'source':'twitter', 'target':'yeast', 'predicate':'accounttype', 'to_predicate':'proteinclass'},\n",
    "            {'id': '23', 'source':'twitter', 'target':'yeast', 'predicate':'follows', 'to_predicate':'interaction'},\n",
    "            {'id': '24', 'source':'twitter', 'target':'yeast', 'predicate':'tweets', 'to_predicate':'location'},\n",
    "            {'id': '25', 'source':'twitter', 'target':'yeast', 'predicate':'tweets', 'to_predicate':'enzyme'},\n",
    "            {'id': '26', 'source':'twitter', 'target':'yeast', 'predicate':'tweets', 'to_predicate':'function'},\n",
    "            {'id': '27', 'source':'twitter', 'target':'yeast', 'predicate':'tweets', 'to_predicate':'phenotype'},\n",
    "            {'id': '28', 'source':'twitter', 'target':'yeast', 'predicate':'tweets', 'to_predicate':'complex'},\n",
    "            {'id': '29', 'source':'nell_sports', 'target':'nell_finances', 'predicate':'teamalsoknownas', 'to_predicate':'companyalsoknownas'},\n",
    "            {'id': '30', 'source':'nell_sports', 'target':'nell_finances', 'predicate':'teamplaysagainstteam', 'to_predicate':'companyalsoknownas'},\n",
    "            {'id': '31', 'source':'nell_sports', 'target':'nell_finances', 'predicate':'teamplaysagainstteam', 'to_predicate':'acquired'},\n",
    "            {'id': '32', 'source':'nell_sports', 'target':'nell_finances', 'predicate':'teamplaysagainstteam', 'to_predicate':'bankboughtbank'},\n",
    "            {'id': '33', 'source':'nell_sports', 'target':'nell_finances', 'predicate':'athleteplayssport', 'to_predicate':'companyceo'},\n",
    "            {'id': '34', 'source':'nell_sports', 'target':'nell_finances', 'predicate':'athleteplayssport', 'to_predicate':'bankchiefexecutiveceo'},\n",
    "            {'id': '35', 'source':'nell_sports', 'target':'nell_finances', 'predicate':'athleteplaysforteam', 'to_predicate':'bankchiefexecutiveceo'},\n",
    "            {'id': '36', 'source':'nell_sports', 'target':'nell_finances', 'predicate':'athleteplaysforteam', 'to_predicate':'companyceo'},\n",
    "            {'id': '37', 'source':'nell_sports', 'target':'nell_finances', 'predicate':'teamplayssport', 'to_predicate':'companyeconomicsector'},\n",
    "            {'id': '38', 'source':'nell_finances', 'target':'nell_sports', 'predicate':'companyalsoknownas', 'to_predicate':'teamalsoknownas'},\n",
    "            {'id': '39', 'source':'nell_finances', 'target':'nell_sports', 'predicate':'companyalsoknownas', 'to_predicate':'teamplaysagainstteam'},\n",
    "            {'id': '40', 'source':'nell_finances', 'target':'nell_sports', 'predicate':'acquired', 'to_predicate':'teamplaysagainstteam'},\n",
    "            {'id': '41', 'source':'nell_finances', 'target':'nell_sports', 'predicate':'bankboughtbank', 'to_predicate':'teamplaysagainstteam'},\n",
    "            {'id': '42', 'source':'nell_finances', 'target':'nell_sports', 'predicate':'companyceo', 'to_predicate':'athleteplayssport'},\n",
    "            {'id': '43', 'source':'nell_finances', 'target':'nell_sports', 'predicate':'bankchiefexecutiveceo', 'to_predicate':'athleteplayssport'},\n",
    "            {'id': '44', 'source':'nell_finances', 'target':'nell_sports', 'predicate':'bankchiefexecutiveceo', 'to_predicate':'athleteplaysforteam'},\n",
    "            {'id': '45', 'source':'nell_finances', 'target':'nell_sports', 'predicate':'companyceo', 'to_predicate':'athleteplaysforteam'},\n",
    "            {'id': '46', 'source':'nell_finances', 'target':'nell_sports', 'predicate':'companyeconomicsector', 'to_predicate':'teamplayssport'},\n",
    "            {'id': '47', 'source':'yeast', 'target':'facebook', 'predicate':'interaction', 'to_predicate':'edge'},\n",
    "            {'id': '48', 'source':'twitter', 'target':'facebook', 'predicate':'follows', 'to_predicate':'edge'},\n",
    "            {'id': '49', 'source':'imdb', 'target':'facebook', 'predicate':'workedunder', 'to_predicate':'edge'},\n",
    "            {'id': '50', 'source':'uwcse', 'target':'facebook', 'predicate':'advisedby', 'to_predicate':'edge'},\n",
    "]\n",
    "\n",
    "data = load_data(experiments)\n",
    "\n",
    "for metric in ['AUC ROC', 'AUC PR', 'CLL', 'Recall', 'F1', 'Precision', 'Learning and Revision time', 'Inference time']:\n",
    "    display(Markdown('# Results for ' + metric))\n",
    "    table = []\n",
    "    for j in range(len(experiments)):\n",
    "        dataset = experiments[j]['id'] + '_' + experiments[j]['source'] + '_' + experiments[j]['target']\n",
    "        if dataset in data['results']: \n",
    "            #for metric in ['AUC ROC', 'AUC PR']:\n",
    "                #display(Markdown('## ' + metric))\n",
    "            mapping_time = ''\n",
    "            if metric == 'Precision':\n",
    "                #scratch = np.array([(np.array([item['rdn_b']['Precision'][0] for item in sublist])).mean() for sublist in data['results'][str(dataset)]])\n",
    "                #scratch_rdn = np.array([(np.array([item['rdn']['Precision'][0] for item in sublist])).mean() for sublist in data['results'][str(dataset)]])\n",
    "                parameter = np.array([(np.array([item['transfer']['parameter']['Precision'][0] for item in sublist])).mean() for sublist in data['results'][str(dataset)]])\n",
    "                transfer = np.array([(np.array([item['transfer']['Precision'][0] for item in sublist])).mean() for sublist in data['results'][str(dataset)]])\n",
    "            elif metric == 'Learning and Revision time':\n",
    "                #scratch = np.array([(np.array([item['rdn_b']['Learning time'] for item in sublist])).mean() for sublist in data['results'][str(dataset)]])\n",
    "                #scratch_rdn = np.array([(np.array([item['rdn']['Learning time'] for item in sublist])).mean() for sublist in data['results'][str(dataset)]])\n",
    "                parameter = np.array([(np.array([item['transfer']['parameter']['Learning time'] for item in sublist])).mean() for sublist in data['results'][str(dataset)]])\n",
    "                transfer = np.array([(np.array([item['transfer']['Learning time'] for item in sublist])).mean() for sublist in data['results'][str(dataset)]])\n",
    "                mapping = np.array([(np.array([item['transfer']['Mapping results']['Total time'] for item in sublist])).mean() for sublist in data['results'][str(dataset)]])\n",
    "                mapping_time = ' (%.1f)' % mapping.mean()\n",
    "            elif metric == 'Inference time':\n",
    "                #scratch = np.array([(np.array([item['rdn_b']['Inference time'] for item in sublist])).mean() for sublist in data['results'][str(dataset)]])\n",
    "                #scratch_rdn = np.array([(np.array([item['rdn']['Inference time'] for item in sublist])).mean() for sublist in data['results'][str(dataset)]])\n",
    "                parameter = np.array([(np.array([item['transfer']['parameter']['Inference time'] for item in sublist])).mean() for sublist in data['results'][str(dataset)]])\n",
    "                transfer = np.array([(np.array([item['transfer']['Inference time'] for item in sublist])).mean() for sublist in data['results'][str(dataset)]])\n",
    "            else:\n",
    "                #scratch = np.array([(np.array([item['rdn_b'][metric] for item in sublist])).mean() for sublist in data['results'][str(dataset)]])\n",
    "                #scratch_rdn = np.array([(np.array([item['rdn'][metric] for item in sublist])).mean() for sublist in data['results'][str(dataset)]])\n",
    "                parameter = np.array([(np.array([item['transfer']['parameter'][metric] for item in sublist])).mean() for sublist in data['results'][str(dataset)]])\n",
    "                transfer = np.array([(np.array([item['transfer'][metric] for item in sublist])).mean() for sublist in data['results'][str(dataset)]])\n",
    "            table.append([dataset, '%.3f +/- %.3f%s' % (parameter.mean(), 2 * parameter.std(), mapping_time),\n",
    "            '%.3f +/- %.3f%s' % (transfer.mean(), 2 * transfer.std(), mapping_time),\n",
    "            #'%.3f +/- %.3f' % (scratch.mean(), 2 * scratch.std()),\n",
    "            #'%.3f +/- %.3f' % (scratch_rdn.mean(), 2 * scratch_rdn.std())\n",
    "                         ])\n",
    "    display(pd.DataFrame(table, columns=['Experiment', 'Transfer Learning', 'Transfer Learning with Revision Theory']))"
   ]
  },
  {
   "cell_type": "code",
   "execution_count": 7,
   "metadata": {
    "collapsed": false,
    "scrolled": false
   },
   "outputs": [
    {
     "data": {
      "text/markdown": [
       "# Results for 1_imdb_uwcse"
      ],
      "text/plain": [
       "<IPython.core.display.Markdown object>"
      ]
     },
     "metadata": {},
     "output_type": "display_data"
    },
    {
     "data": {
      "text/markdown": [
       "## AUC ROC"
      ],
      "text/plain": [
       "<IPython.core.display.Markdown object>"
      ]
     },
     "metadata": {},
     "output_type": "display_data"
    },
    {
     "name": "stdout",
     "output_type": "stream",
     "text": [
      "Experiment 1\n",
      "Transfer: [0.951677, 0.952307, 0.959689, 0.959375, 0.956584]\n",
      "Transfer & Revision: [0.962853, 0.958781, 0.933617, 0.943672, 0.94027]\n",
      "\n",
      "\n",
      "Experiment 2\n",
      "Transfer: [0.951677, 0.952307, 0.959689, 0.959375, 0.956584]\n",
      "Transfer & Revision: [0.965237, 0.959591, 0.933617, 0.944063, 0.94027]\n",
      "\n",
      "\n",
      "Experiment 3\n",
      "Transfer: [0.951677, 0.952307, 0.959689, 0.959375, 0.956584]\n",
      "Transfer & Revision: [0.963922, 0.959591, 0.933617, 0.945859, 0.94027]\n",
      "\n",
      "\n",
      "Experiment 4\n",
      "Transfer: [0.951677, 0.952307, 0.959689, 0.959375, 0.956584]\n",
      "Transfer & Revision: [0.965319, 0.959128, 0.933617, 0.947266, 0.94027]\n",
      "\n",
      "\n",
      "Experiment 5\n",
      "Transfer: [0.951677, 0.952307, 0.959689, 0.959375, 0.956584]\n",
      "Transfer & Revision: [0.962525, 0.959591, 0.933617, 0.946016, 0.94027]\n",
      "\n",
      "\n"
     ]
    },
    {
     "data": {
      "text/markdown": [
       "## AUC PR"
      ],
      "text/plain": [
       "<IPython.core.display.Markdown object>"
      ]
     },
     "metadata": {},
     "output_type": "display_data"
    },
    {
     "name": "stdout",
     "output_type": "stream",
     "text": [
      "Experiment 1\n",
      "Transfer: [0.929498, 0.931984, 0.943146, 0.95045, 0.939]\n",
      "Transfer & Revision: [0.936042, 0.921956, 0.880096, 0.901374, 0.893929]\n",
      "\n",
      "\n",
      "Experiment 2\n",
      "Transfer: [0.929498, 0.931984, 0.943146, 0.95045, 0.939]\n",
      "Transfer & Revision: [0.941527, 0.927045, 0.880096, 0.916728, 0.893929]\n",
      "\n",
      "\n",
      "Experiment 3\n",
      "Transfer: [0.929498, 0.931984, 0.943146, 0.95045, 0.939]\n",
      "Transfer & Revision: [0.937694, 0.927045, 0.880096, 0.918908, 0.893929]\n",
      "\n",
      "\n",
      "Experiment 4\n",
      "Transfer: [0.929498, 0.931984, 0.943146, 0.95045, 0.939]\n",
      "Transfer & Revision: [0.941714, 0.923051, 0.880096, 0.920637, 0.893929]\n",
      "\n",
      "\n",
      "Experiment 5\n",
      "Transfer: [0.929498, 0.931984, 0.943146, 0.95045, 0.939]\n",
      "Transfer & Revision: [0.935088, 0.927045, 0.880096, 0.919641, 0.893929]\n",
      "\n",
      "\n"
     ]
    },
    {
     "data": {
      "text/markdown": [
       "## CLL"
      ],
      "text/plain": [
       "<IPython.core.display.Markdown object>"
      ]
     },
     "metadata": {},
     "output_type": "display_data"
    },
    {
     "name": "stdout",
     "output_type": "stream",
     "text": [
      "Experiment 1\n",
      "Transfer: [-0.232353, -0.231667, -0.225631, -0.231815, -0.224265]\n",
      "Transfer & Revision: [-0.211338, -0.228345, -0.271719, -0.239406, -0.262004]\n",
      "\n",
      "\n",
      "Experiment 2\n",
      "Transfer: [-0.232353, -0.231667, -0.225631, -0.231815, -0.224265]\n",
      "Transfer & Revision: [-0.209151, -0.223627, -0.271719, -0.23888, -0.262004]\n",
      "\n",
      "\n",
      "Experiment 3\n",
      "Transfer: [-0.232353, -0.231667, -0.225631, -0.231815, -0.224265]\n",
      "Transfer & Revision: [-0.212643, -0.223627, -0.271719, -0.237435, -0.262004]\n",
      "\n",
      "\n",
      "Experiment 4\n",
      "Transfer: [-0.233149, -0.232604, -0.226188, -0.232464, -0.22499]\n",
      "Transfer & Revision: [-0.2108, -0.223877, -0.272457, -0.235096, -0.258416]\n",
      "\n",
      "\n",
      "Experiment 5\n",
      "Transfer: [-0.232353, -0.231667, -0.225631, -0.231815, -0.224265]\n",
      "Transfer & Revision: [-0.211608, -0.223627, -0.271719, -0.238429, -0.262004]\n",
      "\n",
      "\n"
     ]
    },
    {
     "data": {
      "text/markdown": [
       "## Recall"
      ],
      "text/plain": [
       "<IPython.core.display.Markdown object>"
      ]
     },
     "metadata": {},
     "output_type": "display_data"
    },
    {
     "name": "stdout",
     "output_type": "stream",
     "text": [
      "Experiment 1\n",
      "Transfer: [1.0, 1.0, 1.0, 1.0, 1.0]\n",
      "Transfer & Revision: [0.987179, 0.924731, 1.0, 0.975, 1.0]\n",
      "\n",
      "\n",
      "Experiment 2\n",
      "Transfer: [1.0, 1.0, 1.0, 1.0, 1.0]\n",
      "Transfer & Revision: [0.987179, 1.0, 1.0, 0.975, 1.0]\n",
      "\n",
      "\n",
      "Experiment 3\n",
      "Transfer: [1.0, 1.0, 1.0, 1.0, 1.0]\n",
      "Transfer & Revision: [0.987179, 1.0, 1.0, 0.975, 1.0]\n",
      "\n",
      "\n",
      "Experiment 4\n",
      "Transfer: [1.0, 1.0, 1.0, 1.0, 1.0]\n",
      "Transfer & Revision: [0.987179, 1.0, 1.0, 0.975, 1.0]\n",
      "\n",
      "\n",
      "Experiment 5\n",
      "Transfer: [1.0, 1.0, 1.0, 1.0, 1.0]\n",
      "Transfer & Revision: [0.987179, 1.0, 1.0, 0.975, 1.0]\n",
      "\n",
      "\n"
     ]
    },
    {
     "data": {
      "text/markdown": [
       "## F1"
      ],
      "text/plain": [
       "<IPython.core.display.Markdown object>"
      ]
     },
     "metadata": {},
     "output_type": "display_data"
    },
    {
     "name": "stdout",
     "output_type": "stream",
     "text": [
      "Experiment 1\n",
      "Transfer: [0.939759, 0.939394, 0.945455, 0.941176, 0.941748]\n",
      "Transfer & Revision: [0.944785, 0.914894, 0.945455, 0.934132, 0.941748]\n",
      "\n",
      "\n",
      "Experiment 2\n",
      "Transfer: [0.939759, 0.939394, 0.945455, 0.941176, 0.941748]\n",
      "Transfer & Revision: [0.944785, 0.939394, 0.945455, 0.934132, 0.941748]\n",
      "\n",
      "\n",
      "Experiment 3\n",
      "Transfer: [0.939759, 0.939394, 0.945455, 0.941176, 0.941748]\n",
      "Transfer & Revision: [0.944785, 0.939394, 0.945455, 0.934132, 0.941748]\n",
      "\n",
      "\n",
      "Experiment 4\n",
      "Transfer: [0.939759, 0.939394, 0.945455, 0.941176, 0.941748]\n",
      "Transfer & Revision: [0.944785, 0.939394, 0.945455, 0.934132, 0.941748]\n",
      "\n",
      "\n",
      "Experiment 5\n",
      "Transfer: [0.939759, 0.939394, 0.945455, 0.941176, 0.941748]\n",
      "Transfer & Revision: [0.944785, 0.939394, 0.945455, 0.934132, 0.941748]\n",
      "\n",
      "\n"
     ]
    },
    {
     "data": {
      "text/markdown": [
       "## Precision"
      ],
      "text/plain": [
       "<IPython.core.display.Markdown object>"
      ]
     },
     "metadata": {},
     "output_type": "display_data"
    },
    {
     "name": "stdout",
     "output_type": "stream",
     "text": [
      "Experiment 1\n",
      "Transfer: [0.886364, 0.885714, 0.896552, 0.888889, 0.889908]\n",
      "Transfer & Revision: [0.905882, 0.905263, 0.896552, 0.896552, 0.889908]\n",
      "\n",
      "\n",
      "Experiment 2\n",
      "Transfer: [0.886364, 0.885714, 0.896552, 0.888889, 0.889908]\n",
      "Transfer & Revision: [0.905882, 0.885714, 0.896552, 0.896552, 0.889908]\n",
      "\n",
      "\n",
      "Experiment 3\n",
      "Transfer: [0.886364, 0.885714, 0.896552, 0.888889, 0.889908]\n",
      "Transfer & Revision: [0.905882, 0.885714, 0.896552, 0.896552, 0.889908]\n",
      "\n",
      "\n",
      "Experiment 4\n",
      "Transfer: [0.886364, 0.885714, 0.896552, 0.888889, 0.889908]\n",
      "Transfer & Revision: [0.905882, 0.885714, 0.896552, 0.896552, 0.889908]\n",
      "\n",
      "\n",
      "Experiment 5\n",
      "Transfer: [0.886364, 0.885714, 0.896552, 0.888889, 0.889908]\n",
      "Transfer & Revision: [0.905882, 0.885714, 0.896552, 0.896552, 0.889908]\n",
      "\n",
      "\n"
     ]
    },
    {
     "data": {
      "text/markdown": [
       "## Learning and Revision time"
      ],
      "text/plain": [
       "<IPython.core.display.Markdown object>"
      ]
     },
     "metadata": {},
     "output_type": "display_data"
    },
    {
     "name": "stdout",
     "output_type": "stream",
     "text": [
      "Experiment 1\n",
      "Transfer: ['4.784 (1.9)', '6.947 (2.0)', '2.609 (2.0)', '5.754 (2.0)', '2.902 (1.9)']\n",
      "Transfer & Revision: ['10.393 (1.9)', '13.359 (2.0)', '6.045 (2.0)', '17.179000000000002 (2.0)', '6.522 (1.9)']\n",
      "\n",
      "\n",
      "Experiment 2\n",
      "Transfer: ['3.702 (1.8)', '4.738 (2.1)', '2.508 (2.0)', '5.1 (2.0)', '3.173 (1.9)']\n",
      "Transfer & Revision: ['8.118 (1.8)', '10.616 (2.1)', '6.26 (2.0)', '14.328 (2.0)', '6.929 (1.9)']\n",
      "\n",
      "\n",
      "Experiment 3\n",
      "Transfer: ['5.013 (1.8)', '6.543 (2.0)', '2.534 (2.0)', '4.844 (2.0)', '3.605 (1.9)']\n",
      "Transfer & Revision: ['9.402000000000001 (1.8)', '12.67 (2.0)', '6.0 (2.0)', '14.078 (2.0)', '7.891 (1.9)']\n",
      "\n",
      "\n",
      "Experiment 4\n",
      "Transfer: ['4.908 (1.9)', '4.603 (2.0)', '2.675 (1.9)', '6.726 (1.9)', '4.341 (1.9)']\n",
      "Transfer & Revision: ['10.368 (1.9)', '10.405999999999999 (2.0)', '6.4399999999999995 (1.9)', '17.351 (1.9)', '7.83 (1.9)']\n",
      "\n",
      "\n",
      "Experiment 5\n",
      "Transfer: ['3.75 (1.9)', '4.177 (2.0)', '2.324 (2.0)', '4.501 (2.0)', '3.022 (1.9)']\n",
      "Transfer & Revision: ['8.966000000000001 (1.9)', '9.657 (2.0)', '5.856 (2.0)', '14.966000000000001 (2.0)', '7.381 (1.9)']\n",
      "\n",
      "\n"
     ]
    },
    {
     "data": {
      "text/markdown": [
       "## Inference time"
      ],
      "text/plain": [
       "<IPython.core.display.Markdown object>"
      ]
     },
     "metadata": {},
     "output_type": "display_data"
    },
    {
     "name": "stdout",
     "output_type": "stream",
     "text": [
      "Experiment 1\n",
      "Transfer: [0.81, 0.726, 0.748, 0.713, 0.734]\n",
      "Transfer & Revision: [0.757, 1.566, 0.894, 0.879, 0.761]\n",
      "\n",
      "\n",
      "Experiment 2\n",
      "Transfer: [0.751, 0.712, 0.759, 0.675, 0.759]\n",
      "Transfer & Revision: [1.161, 0.843, 0.784, 0.784, 0.746]\n",
      "\n",
      "\n",
      "Experiment 3\n",
      "Transfer: [0.903, 0.71, 0.853, 0.939, 0.864]\n",
      "Transfer & Revision: [0.91, 0.788, 0.798, 0.743, 0.794]\n",
      "\n",
      "\n",
      "Experiment 4\n",
      "Transfer: [1.081, 0.731, 0.736, 1.227, 2.28]\n",
      "Transfer & Revision: [0.75, 0.753, 0.782, 0.809, 0.757]\n",
      "\n",
      "\n",
      "Experiment 5\n",
      "Transfer: [1.075, 0.758, 0.866, 0.696, 0.794]\n",
      "Transfer & Revision: [0.771, 0.879, 1.065, 0.861, 0.866]\n",
      "\n",
      "\n"
     ]
    },
    {
     "data": {
      "text/markdown": [
       "# Results for 2_uwcse_imdb"
      ],
      "text/plain": [
       "<IPython.core.display.Markdown object>"
      ]
     },
     "metadata": {},
     "output_type": "display_data"
    },
    {
     "data": {
      "text/markdown": [
       "## AUC ROC"
      ],
      "text/plain": [
       "<IPython.core.display.Markdown object>"
      ]
     },
     "metadata": {},
     "output_type": "display_data"
    },
    {
     "name": "stdout",
     "output_type": "stream",
     "text": [
      "Experiment 1\n",
      "Transfer: [0.970727, 0.971822, 0.989655, 0.97649, 0.970723]\n",
      "Transfer & Revision: [0.95021, 0.971822, 1.0, 1.0, 0.938363]\n",
      "\n",
      "\n",
      "Experiment 2\n",
      "Transfer: [0.970727, 0.971822, 0.989655, 0.97649, 0.970723]\n",
      "Transfer & Revision: [0.903407, 0.971822, 1.0, 1.0, 0.92542]\n",
      "\n",
      "\n",
      "Experiment 3\n",
      "Transfer: [0.970727, 0.971822, 0.989655, 0.97649, 0.970723]\n",
      "Transfer & Revision: [0.95021, 0.971822, 1.0, 1.0, 0.92542]\n",
      "\n",
      "\n",
      "Experiment 4\n",
      "Transfer: [0.970727, 0.971822, 0.989655, 0.97649, 0.970723]\n",
      "Transfer & Revision: [0.903407, 0.971822, 1.0, 1.0, 0.92542]\n",
      "\n",
      "\n",
      "Experiment 5\n",
      "Transfer: [0.970727, 0.971822, 0.989655, 0.97649, 0.970723]\n",
      "Transfer & Revision: [0.903407, 0.971822, 1.0, 1.0, 0.938363]\n",
      "\n",
      "\n"
     ]
    },
    {
     "data": {
      "text/markdown": [
       "## AUC PR"
      ],
      "text/plain": [
       "<IPython.core.display.Markdown object>"
      ]
     },
     "metadata": {},
     "output_type": "display_data"
    },
    {
     "name": "stdout",
     "output_type": "stream",
     "text": [
      "Experiment 1\n",
      "Transfer: [0.965559, 0.967285, 0.986901, 0.97253, 0.965498]\n",
      "Transfer & Revision: [0.886893, 0.967285, 1.0, 1.0, 0.908135]\n",
      "\n",
      "\n",
      "Experiment 2\n",
      "Transfer: [0.965559, 0.967285, 0.986901, 0.97253, 0.965498]\n",
      "Transfer & Revision: [0.836623, 0.967285, 1.0, 1.0, 0.860079]\n",
      "\n",
      "\n",
      "Experiment 3\n",
      "Transfer: [0.965559, 0.967285, 0.986901, 0.97253, 0.965498]\n",
      "Transfer & Revision: [0.886893, 0.967285, 1.0, 1.0, 0.860079]\n",
      "\n",
      "\n",
      "Experiment 4\n",
      "Transfer: [0.965559, 0.967285, 0.986901, 0.97253, 0.965498]\n",
      "Transfer & Revision: [0.836623, 0.967285, 1.0, 1.0, 0.860079]\n",
      "\n",
      "\n",
      "Experiment 5\n",
      "Transfer: [0.965559, 0.967285, 0.986901, 0.97253, 0.965498]\n",
      "Transfer & Revision: [0.836623, 0.967285, 1.0, 1.0, 0.908135]\n",
      "\n",
      "\n"
     ]
    },
    {
     "data": {
      "text/markdown": [
       "## CLL"
      ],
      "text/plain": [
       "<IPython.core.display.Markdown object>"
      ]
     },
     "metadata": {},
     "output_type": "display_data"
    },
    {
     "name": "stdout",
     "output_type": "stream",
     "text": [
      "Experiment 1\n",
      "Transfer: [-0.275247, -0.267491, -0.301087, -0.270388, -0.275209]\n",
      "Transfer & Revision: [-0.273197, -0.209608, -0.099518, -0.09774, -0.209682]\n",
      "\n",
      "\n",
      "Experiment 2\n",
      "Transfer: [-0.316428, -0.303738, -0.345693, -0.309513, -0.314469]\n",
      "Transfer & Revision: [-0.289171, -0.210661, -0.096258, -0.096706, -0.210665]\n",
      "\n",
      "\n",
      "Experiment 3\n",
      "Transfer: [-0.305788, -0.295348, -0.337931, -0.303008, -0.305749]\n",
      "Transfer & Revision: [-0.273246, -0.214872, -0.097809, -0.101944, -0.214623]\n",
      "\n",
      "\n",
      "Experiment 4\n",
      "Transfer: [-0.310387, -0.300589, -0.34269, -0.305205, -0.3111]\n",
      "Transfer & Revision: [-0.289171, -0.209338, -0.097223, -0.097251, -0.209333]\n",
      "\n",
      "\n",
      "Experiment 5\n",
      "Transfer: [-0.242491, -0.23778, -0.256193, -0.238332, -0.240843]\n",
      "Transfer & Revision: [-0.289133, -0.20825, -0.097761, -0.09627, -0.208331]\n",
      "\n",
      "\n"
     ]
    },
    {
     "data": {
      "text/markdown": [
       "## Recall"
      ],
      "text/plain": [
       "<IPython.core.display.Markdown object>"
      ]
     },
     "metadata": {},
     "output_type": "display_data"
    },
    {
     "name": "stdout",
     "output_type": "stream",
     "text": [
      "Experiment 1\n",
      "Transfer: [1.0, 1.0, 1.0, 1.0, 1.0]\n",
      "Transfer & Revision: [1.0, 1.0, 1.0, 1.0, 1.0]\n",
      "\n",
      "\n",
      "Experiment 2\n",
      "Transfer: [1.0, 1.0, 1.0, 1.0, 1.0]\n",
      "Transfer & Revision: [1.0, 1.0, 1.0, 1.0, 1.0]\n",
      "\n",
      "\n",
      "Experiment 3\n",
      "Transfer: [1.0, 1.0, 1.0, 1.0, 1.0]\n",
      "Transfer & Revision: [1.0, 1.0, 1.0, 1.0, 1.0]\n",
      "\n",
      "\n",
      "Experiment 4\n",
      "Transfer: [1.0, 1.0, 1.0, 1.0, 1.0]\n",
      "Transfer & Revision: [1.0, 1.0, 1.0, 1.0, 1.0]\n",
      "\n",
      "\n",
      "Experiment 5\n",
      "Transfer: [1.0, 1.0, 1.0, 1.0, 1.0]\n",
      "Transfer & Revision: [1.0, 1.0, 1.0, 1.0, 1.0]\n",
      "\n",
      "\n"
     ]
    },
    {
     "data": {
      "text/markdown": [
       "## F1"
      ],
      "text/plain": [
       "<IPython.core.display.Markdown object>"
      ]
     },
     "metadata": {},
     "output_type": "display_data"
    },
    {
     "name": "stdout",
     "output_type": "stream",
     "text": [
      "Experiment 1\n",
      "Transfer: [0.938129, 0.950147, 0.983133, 0.957386, 0.950635]\n",
      "Transfer & Revision: [0.913165, 0.950147, 1.0, 1.0, 0.950635]\n",
      "\n",
      "\n",
      "Experiment 2\n",
      "Transfer: [0.938129, 0.950147, 0.983133, 0.957386, 0.950635]\n",
      "Transfer & Revision: [0.913165, 0.950147, 1.0, 1.0, 0.950635]\n",
      "\n",
      "\n",
      "Experiment 3\n",
      "Transfer: [0.950437, 0.950147, 0.983133, 0.957386, 0.950635]\n",
      "Transfer & Revision: [0.913165, 0.937771, 1.0, 1.0, 0.938719]\n",
      "\n",
      "\n",
      "Experiment 4\n",
      "Transfer: [0.950437, 0.950147, 0.983133, 0.957386, 0.950635]\n",
      "Transfer & Revision: [0.913165, 0.950147, 1.0, 1.0, 0.950635]\n",
      "\n",
      "\n",
      "Experiment 5\n",
      "Transfer: [0.938129, 0.937771, 0.983133, 0.957386, 0.938719]\n",
      "Transfer & Revision: [0.913165, 0.950147, 1.0, 1.0, 0.950635]\n",
      "\n",
      "\n"
     ]
    },
    {
     "data": {
      "text/markdown": [
       "## Precision"
      ],
      "text/plain": [
       "<IPython.core.display.Markdown object>"
      ]
     },
     "metadata": {},
     "output_type": "display_data"
    },
    {
     "name": "stdout",
     "output_type": "stream",
     "text": [
      "Experiment 1\n",
      "Transfer: [0.883469, 0.905028, 0.966825, 0.918256, 0.905914]\n",
      "Transfer & Revision: [0.840206, 0.905028, 1.0, 1.0, 0.905914]\n",
      "\n",
      "\n",
      "Experiment 2\n",
      "Transfer: [0.883469, 0.905028, 0.966825, 0.918256, 0.905914]\n",
      "Transfer & Revision: [0.840206, 0.905028, 1.0, 1.0, 0.905914]\n",
      "\n",
      "\n",
      "Experiment 3\n",
      "Transfer: [0.905556, 0.905028, 0.966825, 0.918256, 0.905914]\n",
      "Transfer & Revision: [0.840206, 0.882834, 1.0, 1.0, 0.884514]\n",
      "\n",
      "\n",
      "Experiment 4\n",
      "Transfer: [0.905556, 0.905028, 0.966825, 0.918256, 0.905914]\n",
      "Transfer & Revision: [0.840206, 0.905028, 1.0, 1.0, 0.905914]\n",
      "\n",
      "\n",
      "Experiment 5\n",
      "Transfer: [0.883469, 0.882834, 0.966825, 0.918256, 0.884514]\n",
      "Transfer & Revision: [0.840206, 0.905028, 1.0, 1.0, 0.905914]\n",
      "\n",
      "\n"
     ]
    },
    {
     "data": {
      "text/markdown": [
       "## Learning and Revision time"
      ],
      "text/plain": [
       "<IPython.core.display.Markdown object>"
      ]
     },
     "metadata": {},
     "output_type": "display_data"
    },
    {
     "name": "stdout",
     "output_type": "stream",
     "text": [
      "Experiment 1\n",
      "Transfer: ['2.498 (2.0)', '3.451 (2.1)', '5.129 (2.1)', '1.838 (2.1)', '2.225 (2.1)']\n",
      "Transfer & Revision: ['5.963 (2.0)', '6.7989999999999995 (2.1)', '10.488 (2.1)', '5.1 (2.1)', '4.981 (2.1)']\n",
      "\n",
      "\n",
      "Experiment 2\n",
      "Transfer: ['2.273 (2.1)', '2.92 (2.3)', '3.999 (2.0)', '1.844 (2.2)', '1.861 (2.2)']\n",
      "Transfer & Revision: ['4.246 (2.1)', '5.191 (2.3)', '10.211 (2.0)', '4.333 (2.2)', '3.725 (2.2)']\n",
      "\n",
      "\n",
      "Experiment 3\n",
      "Transfer: ['2.558 (2.0)', '2.146 (2.1)', '4.317 (2.0)', '1.827 (2.0)', '2.085 (2.0)']\n",
      "Transfer & Revision: ['4.57 (2.0)', '4.417 (2.1)', '10.076 (2.0)', '4.323 (2.0)', '4.522 (2.0)']\n",
      "\n",
      "\n",
      "Experiment 4\n",
      "Transfer: ['1.49 (1.8)', '2.357 (2.0)', '4.479 (2.0)', '1.89 (2.0)', '2.029 (2.0)']\n",
      "Transfer & Revision: ['3.403 (1.8)', '5.556 (2.0)', '11.074 (2.0)', '4.366 (2.0)', '3.979 (2.0)']\n",
      "\n",
      "\n",
      "Experiment 5\n",
      "Transfer: ['2.582 (2.1)', '1.977 (2.3)', '4.502 (2.2)', '1.851 (2.1)', '3.361 (2.2)']\n",
      "Transfer & Revision: ['5.045999999999999 (2.1)', '5.246 (2.3)', '9.725999999999999 (2.2)', '4.468999999999999 (2.1)', '5.479 (2.2)']\n",
      "\n",
      "\n"
     ]
    },
    {
     "data": {
      "text/markdown": [
       "## Inference time"
      ],
      "text/plain": [
       "<IPython.core.display.Markdown object>"
      ]
     },
     "metadata": {},
     "output_type": "display_data"
    },
    {
     "name": "stdout",
     "output_type": "stream",
     "text": [
      "Experiment 1\n",
      "Transfer: [0.927, 1.013, 0.98, 1.054, 1.018]\n",
      "Transfer & Revision: [0.83, 0.907, 0.898, 1.175, 1.025]\n",
      "\n",
      "\n",
      "Experiment 2\n",
      "Transfer: [0.992, 0.92, 0.85, 0.971, 1.218]\n",
      "Transfer & Revision: [0.893, 1.632, 1.076, 0.962, 0.961]\n",
      "\n",
      "\n",
      "Experiment 3\n",
      "Transfer: [0.973, 1.098, 0.936, 1.206, 1.221]\n",
      "Transfer & Revision: [1.154, 1.172, 0.888, 1.259, 0.916]\n",
      "\n",
      "\n",
      "Experiment 4\n",
      "Transfer: [1.035, 0.969, 0.977, 1.106, 0.979]\n",
      "Transfer & Revision: [1.18, 0.813, 0.914, 1.245, 1.124]\n",
      "\n",
      "\n",
      "Experiment 5\n",
      "Transfer: [0.961, 1.11, 1.277, 1.245, 0.971]\n",
      "Transfer & Revision: [0.8, 1.093, 0.795, 0.892, 1.104]\n",
      "\n",
      "\n"
     ]
    },
    {
     "data": {
      "text/markdown": [
       "# Results for 3_imdb_uwcse"
      ],
      "text/plain": [
       "<IPython.core.display.Markdown object>"
      ]
     },
     "metadata": {},
     "output_type": "display_data"
    },
    {
     "data": {
      "text/markdown": [
       "## AUC ROC"
      ],
      "text/plain": [
       "<IPython.core.display.Markdown object>"
      ]
     },
     "metadata": {},
     "output_type": "display_data"
    },
    {
     "name": "stdout",
     "output_type": "stream",
     "text": [
      "Experiment 1\n",
      "Transfer: [0.625566, 0.659607, 0.5, 0.674538, 0.666399]\n",
      "Transfer & Revision: [0.605657, 0.62282, 0.513122, 0.64792, 0.697868]\n",
      "\n",
      "\n",
      "Experiment 2\n",
      "Transfer: [0.625566, 0.659607, 0.5, 0.674538, 0.666399]\n",
      "Transfer & Revision: [0.614269, 0.642109, 0.513122, 0.635473, 0.691538]\n",
      "\n",
      "\n",
      "Experiment 3\n",
      "Transfer: [0.625566, 0.659607, 0.5, 0.674538, 0.666399]\n",
      "Transfer & Revision: [0.602923, 0.588667, 0.513122, 0.65014, 0.69784]\n",
      "\n",
      "\n",
      "Experiment 4\n",
      "Transfer: [0.625566, 0.659607, 0.5, 0.674538, 0.666399]\n",
      "Transfer & Revision: [0.610704, 0.635218, 0.513122, 0.651955, 0.697868]\n",
      "\n",
      "\n",
      "Experiment 5\n",
      "Transfer: [0.625566, 0.659607, 0.5, 0.674538, 0.666399]\n",
      "Transfer & Revision: [0.605247, 0.633879, 0.513122, 0.636826, 0.6926]\n",
      "\n",
      "\n"
     ]
    },
    {
     "data": {
      "text/markdown": [
       "## AUC PR"
      ],
      "text/plain": [
       "<IPython.core.display.Markdown object>"
      ]
     },
     "metadata": {},
     "output_type": "display_data"
    },
    {
     "name": "stdout",
     "output_type": "stream",
     "text": [
      "Experiment 1\n",
      "Transfer: [0.591121, 0.622102, 0.5, 0.640797, 0.631753]\n",
      "Transfer & Revision: [0.607086, 0.598532, 0.509288, 0.599381, 0.675766]\n",
      "\n",
      "\n",
      "Experiment 2\n",
      "Transfer: [0.591121, 0.622102, 0.5, 0.640797, 0.631753]\n",
      "Transfer & Revision: [0.614838, 0.630911, 0.509288, 0.58494, 0.649032]\n",
      "\n",
      "\n",
      "Experiment 3\n",
      "Transfer: [0.591121, 0.622102, 0.5, 0.640797, 0.631753]\n",
      "Transfer & Revision: [0.593847, 0.587967, 0.509288, 0.600133, 0.675679]\n",
      "\n",
      "\n",
      "Experiment 4\n",
      "Transfer: [0.591121, 0.622102, 0.5, 0.640797, 0.631753]\n",
      "Transfer & Revision: [0.611219, 0.628863, 0.509288, 0.600531, 0.675766]\n",
      "\n",
      "\n",
      "Experiment 5\n",
      "Transfer: [0.591121, 0.622102, 0.5, 0.640797, 0.631753]\n",
      "Transfer & Revision: [0.596624, 0.627554, 0.509288, 0.58383, 0.649349]\n",
      "\n",
      "\n"
     ]
    },
    {
     "data": {
      "text/markdown": [
       "## CLL"
      ],
      "text/plain": [
       "<IPython.core.display.Markdown object>"
      ]
     },
     "metadata": {},
     "output_type": "display_data"
    },
    {
     "name": "stdout",
     "output_type": "stream",
     "text": [
      "Experiment 1\n",
      "Transfer: [-0.672444, -0.641436, -0.695026, -0.641755, -0.648465]\n",
      "Transfer & Revision: [-0.732208, -0.682096, -0.709482, -0.680475, -0.640471]\n",
      "\n",
      "\n",
      "Experiment 2\n",
      "Transfer: [-0.672444, -0.641436, -0.695026, -0.641755, -0.648465]\n",
      "Transfer & Revision: [-0.726823, -0.678103, -0.709482, -0.685108, -0.642146]\n",
      "\n",
      "\n",
      "Experiment 3\n",
      "Transfer: [-0.672444, -0.641436, -0.695026, -0.641755, -0.648465]\n",
      "Transfer & Revision: [-0.737667, -0.68959, -0.709482, -0.679165, -0.641066]\n",
      "\n",
      "\n",
      "Experiment 4\n",
      "Transfer: [-0.672444, -0.641436, -0.695026, -0.641755, -0.648465]\n",
      "Transfer & Revision: [-0.724006, -0.680567, -0.709482, -0.677742, -0.640547]\n",
      "\n",
      "\n",
      "Experiment 5\n",
      "Transfer: [-0.672444, -0.641436, -0.695026, -0.641755, -0.648465]\n",
      "Transfer & Revision: [-0.734846, -0.679392, -0.709482, -0.693193, -0.641989]\n",
      "\n",
      "\n"
     ]
    },
    {
     "data": {
      "text/markdown": [
       "## Recall"
      ],
      "text/plain": [
       "<IPython.core.display.Markdown object>"
      ]
     },
     "metadata": {},
     "output_type": "display_data"
    },
    {
     "name": "stdout",
     "output_type": "stream",
     "text": [
      "Experiment 1\n",
      "Transfer: [0.68552, 0.691377, 0.0, 0.667351, 0.670418]\n",
      "Transfer & Revision: [0.531674, 0.388805, 0.502762, 0.5154, 0.586817]\n",
      "\n",
      "\n",
      "Experiment 2\n",
      "Transfer: [0.68552, 0.691377, 0.0, 0.667351, 0.670418]\n",
      "Transfer & Revision: [0.531674, 0.388805, 0.502762, 0.513347, 0.586817]\n",
      "\n",
      "\n",
      "Experiment 3\n",
      "Transfer: [0.68552, 0.691377, 0.0, 0.667351, 0.670418]\n",
      "Transfer & Revision: [0.531674, 0.388805, 0.502762, 0.5154, 0.586817]\n",
      "\n",
      "\n",
      "Experiment 4\n",
      "Transfer: [0.68552, 0.691377, 0.0, 0.667351, 0.670418]\n",
      "Transfer & Revision: [0.547511, 0.388805, 0.502762, 0.5154, 0.586817]\n",
      "\n",
      "\n",
      "Experiment 5\n",
      "Transfer: [0.68552, 0.691377, 0.0, 0.667351, 0.670418]\n",
      "Transfer & Revision: [0.547511, 0.388805, 0.502762, 0.513347, 0.586817]\n",
      "\n",
      "\n"
     ]
    },
    {
     "data": {
      "text/markdown": [
       "## F1"
      ],
      "text/plain": [
       "<IPython.core.display.Markdown object>"
      ]
     },
     "metadata": {},
     "output_type": "display_data"
    },
    {
     "name": "stdout",
     "output_type": "stream",
     "text": [
      "Experiment 1\n",
      "Transfer: [0.646745, 0.670088, nan, 0.672182, 0.667734]\n",
      "Transfer & Revision: [0.568319, 0.483992, 0.508025, 0.574371, 0.625536]\n",
      "\n",
      "\n",
      "Experiment 2\n",
      "Transfer: [0.646745, 0.670088, nan, 0.672182, 0.667734]\n",
      "Transfer & Revision: [0.568319, 0.483992, 0.508025, 0.578035, 0.625536]\n",
      "\n",
      "\n",
      "Experiment 3\n",
      "Transfer: [0.646745, 0.670088, nan, 0.672182, 0.667734]\n",
      "Transfer & Revision: [0.568319, 0.483992, 0.508025, 0.574371, 0.625536]\n",
      "\n",
      "\n",
      "Experiment 4\n",
      "Transfer: [0.646745, 0.670088, nan, 0.672182, 0.667734]\n",
      "Transfer & Revision: [0.57414, 0.483992, 0.508025, 0.574371, 0.625536]\n",
      "\n",
      "\n",
      "Experiment 5\n",
      "Transfer: [0.646745, 0.670088, nan, 0.672182, 0.667734]\n",
      "Transfer & Revision: [0.57414, 0.483992, 0.508025, 0.578035, 0.625536]\n",
      "\n",
      "\n"
     ]
    },
    {
     "data": {
      "text/markdown": [
       "## Precision"
      ],
      "text/plain": [
       "<IPython.core.display.Markdown object>"
      ]
     },
     "metadata": {},
     "output_type": "display_data"
    },
    {
     "name": "stdout",
     "output_type": "stream",
     "text": [
      "Experiment 1\n",
      "Transfer: [0.612121, 0.650071, nan, 0.677083, 0.665072]\n",
      "Transfer & Revision: [0.61039, 0.640898, 0.513399, 0.648579, 0.669725]\n",
      "\n",
      "\n",
      "Experiment 2\n",
      "Transfer: [0.612121, 0.650071, nan, 0.677083, 0.665072]\n",
      "Transfer & Revision: [0.61039, 0.640898, 0.513399, 0.661376, 0.669725]\n",
      "\n",
      "\n",
      "Experiment 3\n",
      "Transfer: [0.612121, 0.650071, nan, 0.677083, 0.665072]\n",
      "Transfer & Revision: [0.61039, 0.640898, 0.513399, 0.648579, 0.669725]\n",
      "\n",
      "\n",
      "Experiment 4\n",
      "Transfer: [0.612121, 0.650071, nan, 0.677083, 0.665072]\n",
      "Transfer & Revision: [0.603491, 0.640898, 0.513399, 0.648579, 0.669725]\n",
      "\n",
      "\n",
      "Experiment 5\n",
      "Transfer: [0.612121, 0.650071, nan, 0.677083, 0.665072]\n",
      "Transfer & Revision: [0.603491, 0.640898, 0.513399, 0.661376, 0.669725]\n",
      "\n",
      "\n"
     ]
    },
    {
     "data": {
      "text/markdown": [
       "## Learning and Revision time"
      ],
      "text/plain": [
       "<IPython.core.display.Markdown object>"
      ]
     },
     "metadata": {},
     "output_type": "display_data"
    },
    {
     "name": "stdout",
     "output_type": "stream",
     "text": [
      "Experiment 1\n",
      "Transfer: ['23.188 (2.1)', '5.522 (1.9)', '1.592 (1.9)', '12.55 (2.0)', '5.521 (1.9)']\n",
      "Transfer & Revision: ['63.06399999999999 (2.1)', '16.186999999999998 (1.9)', '3.621 (1.9)', '35.821 (2.0)', '16.647 (1.9)']\n",
      "\n",
      "\n",
      "Experiment 2\n",
      "Transfer: ['37.719 (2.0)', '9.689 (2.0)', '1.735 (2.0)', '15.306 (2.0)', '6.938 (1.9)']\n",
      "Transfer & Revision: ['62.675 (2.0)', '19.091 (2.0)', '4.05 (2.0)', '38.554 (2.0)', '17.108999999999998 (1.9)']\n",
      "\n",
      "\n",
      "Experiment 3\n",
      "Transfer: ['31.424 (2.0)', '6.712 (2.0)', '1.852 (1.7)', '12.635 (1.9)', '6.902 (1.8)']\n",
      "Transfer & Revision: ['66.372 (2.0)', '17.204 (2.0)', '4.436 (1.7)', '34.267 (1.9)', '19.555 (1.8)']\n",
      "\n",
      "\n",
      "Experiment 4\n",
      "Transfer: ['30.893 (2.0)', '5.722 (1.9)', '1.928 (1.9)', '11.255 (1.9)', '6.427 (1.9)']\n",
      "Transfer & Revision: ['70.39500000000001 (2.0)', '16.274 (1.9)', '3.9739999999999998 (1.9)', '33.107 (1.9)', '17.213 (1.9)']\n",
      "\n",
      "\n",
      "Experiment 5\n",
      "Transfer: ['32.506 (1.9)', '4.835 (2.0)', '1.933 (1.9)', '13.807 (2.0)', '8.399 (1.9)']\n",
      "Transfer & Revision: ['75.475 (1.9)', '15.878 (2.0)', '4.0360000000000005 (1.9)', '37.506 (2.0)', '18.82 (1.9)']\n",
      "\n",
      "\n"
     ]
    },
    {
     "data": {
      "text/markdown": [
       "## Inference time"
      ],
      "text/plain": [
       "<IPython.core.display.Markdown object>"
      ]
     },
     "metadata": {},
     "output_type": "display_data"
    },
    {
     "name": "stdout",
     "output_type": "stream",
     "text": [
      "Experiment 1\n",
      "Transfer: [1.047, 1.128, 1.224, 0.965, 0.965]\n",
      "Transfer & Revision: [0.865, 1.41, 1.23, 1.015, 2.023]\n",
      "\n",
      "\n",
      "Experiment 2\n",
      "Transfer: [0.991, 1.119, 1.161, 0.956, 1.142]\n",
      "Transfer & Revision: [1.258, 1.505, 1.292, 1.233, 1.367]\n",
      "\n",
      "\n",
      "Experiment 3\n",
      "Transfer: [0.875, 1.254, 1.154, 1.02, 1.082]\n",
      "Transfer & Revision: [0.989, 1.134, 1.181, 0.898, 1.331]\n",
      "\n",
      "\n",
      "Experiment 4\n",
      "Transfer: [0.995, 1.213, 1.059, 1.237, 1.082]\n",
      "Transfer & Revision: [1.234, 1.433, 1.518, 1.152, 1.311]\n",
      "\n",
      "\n",
      "Experiment 5\n",
      "Transfer: [0.846, 0.972, 1.081, 0.959, 1.003]\n",
      "Transfer & Revision: [1.2, 1.387, 1.967, 1.223, 1.263]\n",
      "\n",
      "\n"
     ]
    },
    {
     "data": {
      "text/markdown": [
       "# Results for 6_uwcse_imdb"
      ],
      "text/plain": [
       "<IPython.core.display.Markdown object>"
      ]
     },
     "metadata": {},
     "output_type": "display_data"
    },
    {
     "data": {
      "text/markdown": [
       "## AUC ROC"
      ],
      "text/plain": [
       "<IPython.core.display.Markdown object>"
      ]
     },
     "metadata": {},
     "output_type": "display_data"
    },
    {
     "name": "stdout",
     "output_type": "stream",
     "text": [
      "Experiment 1\n",
      "Transfer: [0.875, 0.885714, 0.965517, 0.906977, 0.9]\n",
      "Transfer & Revision: [0.875, 0.885714, 0.965517, 0.906977, 0.9]\n",
      "\n",
      "\n",
      "Experiment 2\n",
      "Transfer: [0.875, 0.885714, 0.965517, 0.906977, 0.9]\n",
      "Transfer & Revision: [0.875, 0.885714, 0.965517, 0.906977, 0.9]\n",
      "\n",
      "\n",
      "Experiment 3\n",
      "Transfer: [0.875, 0.885714, 0.965517, 0.906977, 0.9]\n",
      "Transfer & Revision: [0.875, 0.885714, 0.965517, 0.906977, 0.9]\n",
      "\n",
      "\n",
      "Experiment 4\n",
      "Transfer: [0.875, 0.885714, 0.965517, 0.906977, 0.9]\n",
      "Transfer & Revision: [0.875, 0.885714, 0.965517, 0.906977, 0.9]\n",
      "\n",
      "\n",
      "Experiment 5\n",
      "Transfer: [0.875, 0.885714, 0.965517, 0.906977, 0.9]\n",
      "Transfer & Revision: [0.875, 0.885714, 0.965517, 0.906977, 0.9]\n",
      "\n",
      "\n"
     ]
    },
    {
     "data": {
      "text/markdown": [
       "## AUC PR"
      ],
      "text/plain": [
       "<IPython.core.display.Markdown object>"
      ]
     },
     "metadata": {},
     "output_type": "display_data"
    },
    {
     "name": "stdout",
     "output_type": "stream",
     "text": [
      "Experiment 1\n",
      "Transfer: [0.8, 0.813953, 0.935484, 0.843137, 0.833333]\n",
      "Transfer & Revision: [0.8, 0.813953, 0.935484, 0.843137, 0.833333]\n",
      "\n",
      "\n",
      "Experiment 2\n",
      "Transfer: [0.8, 0.813953, 0.935484, 0.843137, 0.833333]\n",
      "Transfer & Revision: [0.8, 0.813953, 0.935484, 0.843137, 0.833333]\n",
      "\n",
      "\n",
      "Experiment 3\n",
      "Transfer: [0.8, 0.813953, 0.935484, 0.843137, 0.833333]\n",
      "Transfer & Revision: [0.8, 0.813953, 0.935484, 0.843137, 0.833333]\n",
      "\n",
      "\n",
      "Experiment 4\n",
      "Transfer: [0.8, 0.813953, 0.935484, 0.843137, 0.833333]\n",
      "Transfer & Revision: [0.8, 0.813953, 0.935484, 0.843137, 0.833333]\n",
      "\n",
      "\n",
      "Experiment 5\n",
      "Transfer: [0.8, 0.813953, 0.935484, 0.843137, 0.833333]\n",
      "Transfer & Revision: [0.8, 0.813953, 0.935484, 0.843137, 0.833333]\n",
      "\n",
      "\n"
     ]
    },
    {
     "data": {
      "text/markdown": [
       "## CLL"
      ],
      "text/plain": [
       "<IPython.core.display.Markdown object>"
      ]
     },
     "metadata": {},
     "output_type": "display_data"
    },
    {
     "name": "stdout",
     "output_type": "stream",
     "text": [
      "Experiment 1\n",
      "Transfer: [-0.350389, -0.321558, -0.272397, -0.305911, -0.301101]\n",
      "Transfer & Revision: [-0.352709, -0.320018, -0.264596, -0.300536, -0.299463]\n",
      "\n",
      "\n",
      "Experiment 2\n",
      "Transfer: [-0.356574, -0.335562, -0.297236, -0.326403, -0.312266]\n",
      "Transfer & Revision: [-0.352709, -0.320018, -0.264596, -0.300536, -0.300991]\n",
      "\n",
      "\n",
      "Experiment 3\n",
      "Transfer: [-0.351463, -0.322522, -0.272375, -0.306342, -0.302038]\n",
      "Transfer & Revision: [-0.352709, -0.320018, -0.264596, -0.300536, -0.299463]\n",
      "\n",
      "\n",
      "Experiment 4\n",
      "Transfer: [-0.354252, -0.333495, -0.295855, -0.324815, -0.310033]\n",
      "Transfer & Revision: [-0.352709, -0.320018, -0.264596, -0.300536, -0.300991]\n",
      "\n",
      "\n",
      "Experiment 5\n",
      "Transfer: [-0.353691, -0.328551, -0.283929, -0.315668, -0.306623]\n",
      "Transfer & Revision: [-0.352709, -0.320018, -0.264596, -0.300536, -0.299128]\n",
      "\n",
      "\n"
     ]
    },
    {
     "data": {
      "text/markdown": [
       "## Recall"
      ],
      "text/plain": [
       "<IPython.core.display.Markdown object>"
      ]
     },
     "metadata": {},
     "output_type": "display_data"
    },
    {
     "name": "stdout",
     "output_type": "stream",
     "text": [
      "Experiment 1\n",
      "Transfer: [1.0, 1.0, 1.0, 1.0, 1.0]\n",
      "Transfer & Revision: [1.0, 1.0, 1.0, 1.0, 1.0]\n",
      "\n",
      "\n",
      "Experiment 2\n",
      "Transfer: [1.0, 1.0, 1.0, 1.0, 1.0]\n",
      "Transfer & Revision: [1.0, 1.0, 1.0, 1.0, 1.0]\n",
      "\n",
      "\n",
      "Experiment 3\n",
      "Transfer: [1.0, 1.0, 1.0, 1.0, 1.0]\n",
      "Transfer & Revision: [1.0, 1.0, 1.0, 1.0, 1.0]\n",
      "\n",
      "\n",
      "Experiment 4\n",
      "Transfer: [1.0, 1.0, 1.0, 1.0, 1.0]\n",
      "Transfer & Revision: [1.0, 1.0, 1.0, 1.0, 1.0]\n",
      "\n",
      "\n",
      "Experiment 5\n",
      "Transfer: [1.0, 1.0, 1.0, 1.0, 1.0]\n",
      "Transfer & Revision: [1.0, 1.0, 1.0, 1.0, 1.0]\n",
      "\n",
      "\n"
     ]
    },
    {
     "data": {
      "text/markdown": [
       "## F1"
      ],
      "text/plain": [
       "<IPython.core.display.Markdown object>"
      ]
     },
     "metadata": {},
     "output_type": "display_data"
    },
    {
     "name": "stdout",
     "output_type": "stream",
     "text": [
      "Experiment 1\n",
      "Transfer: [0.888889, 0.897436, 0.966667, 0.914894, 0.909091]\n",
      "Transfer & Revision: [0.888889, 0.897436, 0.966667, 0.914894, 0.909091]\n",
      "\n",
      "\n",
      "Experiment 2\n",
      "Transfer: [0.888889, 0.897436, 0.966667, 0.914894, 0.909091]\n",
      "Transfer & Revision: [0.888889, 0.897436, 0.966667, 0.914894, 0.909091]\n",
      "\n",
      "\n",
      "Experiment 3\n",
      "Transfer: [0.888889, 0.897436, 0.966667, 0.914894, 0.909091]\n",
      "Transfer & Revision: [0.888889, 0.897436, 0.966667, 0.914894, 0.909091]\n",
      "\n",
      "\n",
      "Experiment 4\n",
      "Transfer: [0.888889, 0.897436, 0.966667, 0.914894, 0.909091]\n",
      "Transfer & Revision: [0.888889, 0.897436, 0.966667, 0.914894, 0.909091]\n",
      "\n",
      "\n",
      "Experiment 5\n",
      "Transfer: [0.888889, 0.897436, 0.966667, 0.914894, 0.909091]\n",
      "Transfer & Revision: [0.888889, 0.897436, 0.966667, 0.914894, 0.909091]\n",
      "\n",
      "\n"
     ]
    },
    {
     "data": {
      "text/markdown": [
       "## Precision"
      ],
      "text/plain": [
       "<IPython.core.display.Markdown object>"
      ]
     },
     "metadata": {},
     "output_type": "display_data"
    },
    {
     "name": "stdout",
     "output_type": "stream",
     "text": [
      "Experiment 1\n",
      "Transfer: [0.8, 0.813953, 0.935484, 0.843137, 0.833333]\n",
      "Transfer & Revision: [0.8, 0.813953, 0.935484, 0.843137, 0.833333]\n",
      "\n",
      "\n",
      "Experiment 2\n",
      "Transfer: [0.8, 0.813953, 0.935484, 0.843137, 0.833333]\n",
      "Transfer & Revision: [0.8, 0.813953, 0.935484, 0.843137, 0.833333]\n",
      "\n",
      "\n",
      "Experiment 3\n",
      "Transfer: [0.8, 0.813953, 0.935484, 0.843137, 0.833333]\n",
      "Transfer & Revision: [0.8, 0.813953, 0.935484, 0.843137, 0.833333]\n",
      "\n",
      "\n",
      "Experiment 4\n",
      "Transfer: [0.8, 0.813953, 0.935484, 0.843137, 0.833333]\n",
      "Transfer & Revision: [0.8, 0.813953, 0.935484, 0.843137, 0.833333]\n",
      "\n",
      "\n",
      "Experiment 5\n",
      "Transfer: [0.8, 0.813953, 0.935484, 0.843137, 0.833333]\n",
      "Transfer & Revision: [0.8, 0.813953, 0.935484, 0.843137, 0.833333]\n",
      "\n",
      "\n"
     ]
    },
    {
     "data": {
      "text/markdown": [
       "## Learning and Revision time"
      ],
      "text/plain": [
       "<IPython.core.display.Markdown object>"
      ]
     },
     "metadata": {},
     "output_type": "display_data"
    },
    {
     "name": "stdout",
     "output_type": "stream",
     "text": [
      "Experiment 1\n",
      "Transfer: ['1.23 (2.0)', '1.134 (2.0)', '1.534 (2.0)', '0.945 (2.0)', '0.824 (2.0)']\n",
      "Transfer & Revision: ['2.279 (2.0)', '2.792 (2.0)', '3.6820000000000004 (2.0)', '1.77 (2.0)', '1.396 (2.0)']\n",
      "\n",
      "\n",
      "Experiment 2\n",
      "Transfer: ['2.009 (1.9)', '1.108 (1.9)', '1.388 (1.9)', '0.988 (1.9)', '0.848 (1.9)']\n",
      "Transfer & Revision: ['3.0149999999999997 (1.9)', '2.375 (1.9)', '2.843 (1.9)', '1.963 (1.9)', '1.423 (1.9)']\n",
      "\n",
      "\n",
      "Experiment 3\n",
      "Transfer: ['1.218 (2.2)', '1.238 (2.1)', '1.394 (2.2)', '0.944 (2.2)', '0.813 (2.2)']\n",
      "Transfer & Revision: ['2.283 (2.2)', '2.459 (2.1)', '3.043 (2.2)', '1.778 (2.2)', '1.491 (2.2)']\n",
      "\n",
      "\n",
      "Experiment 4\n",
      "Transfer: ['1.319 (1.5)', '1.123 (2.0)', '1.359 (1.9)', '1.139 (2.0)', '0.865 (2.0)']\n",
      "Transfer & Revision: ['2.37 (1.5)', '2.492 (2.0)', '2.809 (1.9)', '2.026 (2.0)', '1.5859999999999999 (2.0)']\n",
      "\n",
      "\n",
      "Experiment 5\n",
      "Transfer: ['1.245 (2.0)', '1.39 (2.0)', '1.498 (2.0)', '0.895 (2.0)', '0.792 (2.0)']\n",
      "Transfer & Revision: ['2.276 (2.0)', '2.88 (2.0)', '3.017 (2.0)', '1.828 (2.0)', '1.483 (2.0)']\n",
      "\n",
      "\n"
     ]
    },
    {
     "data": {
      "text/markdown": [
       "## Inference time"
      ],
      "text/plain": [
       "<IPython.core.display.Markdown object>"
      ]
     },
     "metadata": {},
     "output_type": "display_data"
    },
    {
     "name": "stdout",
     "output_type": "stream",
     "text": [
      "Experiment 1\n",
      "Transfer: [0.615, 0.631, 0.606, 0.641, 0.519]\n",
      "Transfer & Revision: [0.591, 0.611, 0.708, 0.548, 0.781]\n",
      "\n",
      "\n",
      "Experiment 2\n",
      "Transfer: [0.597, 0.662, 0.638, 0.664, 0.629]\n",
      "Transfer & Revision: [0.699, 0.707, 0.643, 0.709, 0.524]\n",
      "\n",
      "\n",
      "Experiment 3\n",
      "Transfer: [1.056, 0.567, 0.663, 0.749, 0.773]\n",
      "Transfer & Revision: [0.535, 0.589, 0.553, 0.586, 0.556]\n",
      "\n",
      "\n",
      "Experiment 4\n",
      "Transfer: [0.703, 0.631, 0.722, 0.66, 0.674]\n",
      "Transfer & Revision: [0.518, 0.565, 0.567, 0.535, 0.569]\n",
      "\n",
      "\n",
      "Experiment 5\n",
      "Transfer: [1.183, 0.763, 0.712, 0.762, 1.559]\n",
      "Transfer & Revision: [0.61, 0.554, 0.557, 0.582, 0.586]\n",
      "\n",
      "\n"
     ]
    },
    {
     "data": {
      "text/markdown": [
       "# Results for 7_imdb_cora"
      ],
      "text/plain": [
       "<IPython.core.display.Markdown object>"
      ]
     },
     "metadata": {},
     "output_type": "display_data"
    },
    {
     "data": {
      "text/markdown": [
       "## AUC ROC"
      ],
      "text/plain": [
       "<IPython.core.display.Markdown object>"
      ]
     },
     "metadata": {},
     "output_type": "display_data"
    },
    {
     "name": "stdout",
     "output_type": "stream",
     "text": [
      "Experiment 1\n",
      "Transfer: [0.546475, 0.437142, 0.547299, 0.558035, 0.535236]\n",
      "Transfer & Revision: [0.860336, 0.545898, 0.557006, 0.56685, 0.540774]\n",
      "\n",
      "\n",
      "Experiment 2\n",
      "Transfer: [0.546475, 0.437142, 0.547299, 0.558035, 0.535236]\n",
      "Transfer & Revision: [0.842698, 0.545635, 0.550405, 0.57292, 0.541507]\n",
      "\n",
      "\n",
      "Experiment 3\n",
      "Transfer: [0.546475, 0.437142, 0.547299, 0.558035, 0.535236]\n",
      "Transfer & Revision: [0.8652, 0.546298, 0.55105, 0.567075, 0.541128]\n",
      "\n",
      "\n",
      "Experiment 4\n",
      "Transfer: [0.546475, 0.437142, 0.547299, 0.558035, 0.535236]\n",
      "Transfer & Revision: [0.862918, 0.545784, 0.550858, 0.567075, 0.541137]\n",
      "\n",
      "\n",
      "Experiment 5\n",
      "Transfer: [0.546475, 0.437142, 0.547299, 0.558035, 0.535236]\n",
      "Transfer & Revision: [0.852145, 0.545915, 0.556999, 0.55823, 0.540187]\n",
      "\n",
      "\n"
     ]
    },
    {
     "data": {
      "text/markdown": [
       "## AUC PR"
      ],
      "text/plain": [
       "<IPython.core.display.Markdown object>"
      ]
     },
     "metadata": {},
     "output_type": "display_data"
    },
    {
     "name": "stdout",
     "output_type": "stream",
     "text": [
      "Experiment 1\n",
      "Transfer: [0.552575, 0.443375, 0.555563, 0.56414, 0.542776]\n",
      "Transfer & Revision: [0.824542, 0.515703, 0.565039, 0.578825, 0.561597]\n",
      "\n",
      "\n",
      "Experiment 2\n",
      "Transfer: [0.552575, 0.443375, 0.555563, 0.56414, 0.542776]\n",
      "Transfer & Revision: [0.815569, 0.515698, 0.556776, 0.588707, 0.563176]\n",
      "\n",
      "\n",
      "Experiment 3\n",
      "Transfer: [0.552575, 0.443375, 0.555563, 0.56414, 0.542776]\n",
      "Transfer & Revision: [0.826447, 0.516014, 0.556966, 0.579641, 0.562334]\n",
      "\n",
      "\n",
      "Experiment 4\n",
      "Transfer: [0.552575, 0.443375, 0.555563, 0.56414, 0.542776]\n",
      "Transfer & Revision: [0.824555, 0.515709, 0.556908, 0.579641, 0.563595]\n",
      "\n",
      "\n",
      "Experiment 5\n",
      "Transfer: [0.552575, 0.443375, 0.555563, 0.56414, 0.542776]\n",
      "Transfer & Revision: [0.818331, 0.515774, 0.565037, 0.560765, 0.562193]\n",
      "\n",
      "\n"
     ]
    },
    {
     "data": {
      "text/markdown": [
       "## CLL"
      ],
      "text/plain": [
       "<IPython.core.display.Markdown object>"
      ]
     },
     "metadata": {},
     "output_type": "display_data"
    },
    {
     "name": "stdout",
     "output_type": "stream",
     "text": [
      "Experiment 1\n",
      "Transfer: [-0.684943, -0.710286, -0.684914, -0.686242, -0.685676]\n",
      "Transfer & Revision: [-0.439439, -0.707483, -0.674198, -0.677465, -0.686226]\n",
      "\n",
      "\n",
      "Experiment 2\n",
      "Transfer: [-0.684943, -0.710286, -0.684914, -0.686242, -0.685676]\n",
      "Transfer & Revision: [-0.4784, -0.707063, -0.677739, -0.675082, -0.691443]\n",
      "\n",
      "\n",
      "Experiment 3\n",
      "Transfer: [-0.684943, -0.710286, -0.684914, -0.686242, -0.685676]\n",
      "Transfer & Revision: [-0.428274, -0.707342, -0.675218, -0.675772, -0.686605]\n",
      "\n",
      "\n",
      "Experiment 4\n",
      "Transfer: [-0.684943, -0.710286, -0.684914, -0.686242, -0.685676]\n",
      "Transfer & Revision: [-0.447751, -0.707093, -0.675198, -0.675801, -0.691074]\n",
      "\n",
      "\n",
      "Experiment 5\n",
      "Transfer: [-0.684943, -0.710286, -0.684914, -0.686242, -0.685676]\n",
      "Transfer & Revision: [-0.471961, -0.707546, -0.67439, -0.679427, -0.690811]\n",
      "\n",
      "\n"
     ]
    },
    {
     "data": {
      "text/markdown": [
       "## Recall"
      ],
      "text/plain": [
       "<IPython.core.display.Markdown object>"
      ]
     },
     "metadata": {},
     "output_type": "display_data"
    },
    {
     "name": "stdout",
     "output_type": "stream",
     "text": [
      "Experiment 1\n",
      "Transfer: [0.94413, 1.0, 0.944992, 0.0, 0.952169]\n",
      "Transfer & Revision: [0.9094, 0.954586, 0.924466, 0.04141, 0.929874]\n",
      "\n",
      "\n",
      "Experiment 2\n",
      "Transfer: [0.94413, 1.0, 0.944992, 0.0, 0.952169]\n",
      "Transfer & Revision: [0.9094, 0.957257, 0.897783, 0.066079, 0.93636]\n",
      "\n",
      "\n",
      "Experiment 3\n",
      "Transfer: [0.94413, 1.0, 0.944992, 0.0, 0.952169]\n",
      "Transfer & Revision: [0.9094, 0.954586, 0.897783, 0.04141, 0.927037]\n",
      "\n",
      "\n",
      "Experiment 4\n",
      "Transfer: [0.94413, 1.0, 0.944992, 0.0, 0.952169]\n",
      "Transfer & Revision: [0.9094, 0.954586, 0.897783, 0.04141, 0.932712]\n",
      "\n",
      "\n",
      "Experiment 5\n",
      "Transfer: [0.94413, 1.0, 0.944992, 0.0, 0.952169]\n",
      "Transfer & Revision: [0.9094, 0.954586, 0.924877, 0.00837, 0.93028]\n",
      "\n",
      "\n"
     ]
    },
    {
     "data": {
      "text/markdown": [
       "## F1"
      ],
      "text/plain": [
       "<IPython.core.display.Markdown object>"
      ]
     },
     "metadata": {},
     "output_type": "display_data"
    },
    {
     "name": "stdout",
     "output_type": "stream",
     "text": [
      "Experiment 1\n",
      "Transfer: [0.697726, 0.671651, 0.700335, nan, 0.691798]\n",
      "Transfer & Revision: [0.871248, 0.68729, 0.696782, 0.07743, 0.683756]\n",
      "\n",
      "\n",
      "Experiment 2\n",
      "Transfer: [0.697726, 0.671651, 0.700335, nan, 0.691798]\n",
      "Transfer & Revision: [0.871248, 0.688551, 0.68752, 0.119048, 0.686785]\n",
      "\n",
      "\n",
      "Experiment 3\n",
      "Transfer: [0.697726, 0.671651, 0.700335, nan, 0.691798]\n",
      "Transfer & Revision: [0.871248, 0.687179, 0.68752, 0.077494, 0.683196]\n",
      "\n",
      "\n",
      "Experiment 4\n",
      "Transfer: [0.697726, 0.671651, 0.700335, nan, 0.691798]\n",
      "Transfer & Revision: [0.871248, 0.68729, 0.68752, 0.077494, 0.684414]\n",
      "\n",
      "\n",
      "Experiment 5\n",
      "Transfer: [0.697726, 0.671651, 0.700335, nan, 0.691798]\n",
      "Transfer & Revision: [0.871248, 0.68729, 0.696553, 0.016457, 0.683748]\n",
      "\n",
      "\n"
     ]
    },
    {
     "data": {
      "text/markdown": [
       "## Precision"
      ],
      "text/plain": [
       "<IPython.core.display.Markdown object>"
      ]
     },
     "metadata": {},
     "output_type": "display_data"
    },
    {
     "name": "stdout",
     "output_type": "stream",
     "text": [
      "Experiment 1\n",
      "Transfer: [0.553319, 0.505628, 0.556307, nan, 0.543247]\n",
      "Transfer & Revision: [0.836168, 0.53694, 0.559086, 0.594937, 0.540655]\n",
      "\n",
      "\n",
      "Experiment 2\n",
      "Transfer: [0.553319, 0.505628, 0.556307, nan, 0.543247]\n",
      "Transfer & Revision: [0.836168, 0.537634, 0.557056, 0.6, 0.542254]\n",
      "\n",
      "\n",
      "Experiment 3\n",
      "Transfer: [0.553319, 0.505628, 0.556307, nan, 0.543247]\n",
      "Transfer & Revision: [0.836168, 0.536805, 0.557056, 0.602564, 0.540918]\n",
      "\n",
      "\n",
      "Experiment 4\n",
      "Transfer: [0.553319, 0.505628, 0.556307, nan, 0.543247]\n",
      "Transfer & Revision: [0.836168, 0.53694, 0.557056, 0.602564, 0.540521]\n",
      "\n",
      "\n",
      "Experiment 5\n",
      "Transfer: [0.553319, 0.505628, 0.556307, nan, 0.543247]\n",
      "Transfer & Revision: [0.836168, 0.53694, 0.558641, 0.487179, 0.540509]\n",
      "\n",
      "\n"
     ]
    },
    {
     "data": {
      "text/markdown": [
       "## Learning and Revision time"
      ],
      "text/plain": [
       "<IPython.core.display.Markdown object>"
      ]
     },
     "metadata": {},
     "output_type": "display_data"
    },
    {
     "name": "stdout",
     "output_type": "stream",
     "text": [
      "Experiment 1\n",
      "Transfer: ['167.707 (1.9)', '43.04 (2.1)', '23.239 (2.0)', '72.405 (1.9)', '45.635 (2.1)']\n",
      "Transfer & Revision: ['491.98199999999997 (1.9)', '189.213 (2.1)', '80.367 (2.0)', '171.314 (1.9)', '140.932 (2.1)']\n",
      "\n",
      "\n",
      "Experiment 2\n",
      "Transfer: ['163.738 (1.9)', '53.097 (1.9)', '27.665 (1.9)', '65.738 (1.9)', '36.036 (2.0)']\n",
      "Transfer & Revision: ['432.319 (1.9)', '154.119 (1.9)', '82.07499999999999 (1.9)', '155.832 (1.9)', '113.583 (2.0)']\n",
      "\n",
      "\n",
      "Experiment 3\n",
      "Transfer: ['165.039 (1.9)', '77.412 (2.0)', '19.198 (1.6)', '69.498 (1.9)', '36.259 (1.9)']\n",
      "Transfer & Revision: ['474.688 (1.9)', '178.555 (2.0)', '70.936 (1.6)', '207.075 (1.9)', '116.45 (1.9)']\n",
      "\n",
      "\n",
      "Experiment 4\n",
      "Transfer: ['169.492 (1.8)', '54.351 (1.6)', '22.997 (1.9)', '82.73 (1.8)', '36.954 (1.9)']\n",
      "Transfer & Revision: ['450.741 (1.8)', '157.516 (1.6)', '66.41 (1.9)', '190.263 (1.8)', '146.94400000000002 (1.9)']\n",
      "\n",
      "\n",
      "Experiment 5\n",
      "Transfer: ['175.88400000000001 (1.9)', '41.044 (1.5)', '12.209 (1.9)', '72.595 (2.0)', '66.968 (1.9)']\n",
      "Transfer & Revision: ['445.73400000000004 (1.9)', '153.345 (1.5)', '56.968 (1.9)', '166.411 (2.0)', '151.71800000000002 (1.9)']\n",
      "\n",
      "\n"
     ]
    },
    {
     "data": {
      "text/markdown": [
       "## Inference time"
      ],
      "text/plain": [
       "<IPython.core.display.Markdown object>"
      ]
     },
     "metadata": {},
     "output_type": "display_data"
    },
    {
     "name": "stdout",
     "output_type": "stream",
     "text": [
      "Experiment 1\n",
      "Transfer: [2.408, 2.042, 2.041, 1.76, 2.094]\n",
      "Transfer & Revision: [108.709, 6.391, 4.569, 6.477, 12.737]\n",
      "\n",
      "\n",
      "Experiment 2\n",
      "Transfer: [2.106, 1.891, 1.988, 2.153, 2.212]\n",
      "Transfer & Revision: [71.603, 6.271, 4.194, 5.802, 11.77]\n",
      "\n",
      "\n",
      "Experiment 3\n",
      "Transfer: [2.204, 1.552, 2.094, 2.239, 1.814]\n",
      "Transfer & Revision: [90.168, 6.926, 4.706, 6.207, 24.721]\n",
      "\n",
      "\n",
      "Experiment 4\n",
      "Transfer: [2.286, 2.3, 2.258, 2.047, 2.134]\n",
      "Transfer & Revision: [84.781, 5.625, 5.196, 5.485, 16.758]\n",
      "\n",
      "\n",
      "Experiment 5\n",
      "Transfer: [1.678, 2.161, 1.895, 2.005, 2.146]\n",
      "Transfer & Revision: [73.199, 6.026, 4.553, 5.281, 18.883]\n",
      "\n",
      "\n"
     ]
    },
    {
     "data": {
      "text/markdown": [
       "# Results for 9_imdb_cora"
      ],
      "text/plain": [
       "<IPython.core.display.Markdown object>"
      ]
     },
     "metadata": {},
     "output_type": "display_data"
    },
    {
     "data": {
      "text/markdown": [
       "## AUC ROC"
      ],
      "text/plain": [
       "<IPython.core.display.Markdown object>"
      ]
     },
     "metadata": {},
     "output_type": "display_data"
    },
    {
     "name": "stdout",
     "output_type": "stream",
     "text": [
      "Experiment 1\n",
      "Transfer: [0.724138, 0.62963, 0.685714, 0.655172, 0.678571]\n",
      "Transfer & Revision: [0.768857, 0.569243, 0.705425, 0.632342, 0.510073]\n",
      "\n",
      "\n",
      "Experiment 2\n",
      "Transfer: [0.724138, 0.62963, 0.685714, 0.655172, 0.678571]\n",
      "Transfer & Revision: [0.770172, 0.569243, 0.704679, 0.71064, 0.505497]\n",
      "\n",
      "\n",
      "Experiment 3\n",
      "Transfer: [0.724138, 0.62963, 0.685714, 0.655172, 0.678571]\n",
      "Transfer & Revision: [0.774404, 0.569243, 0.707499, 0.632342, 0.505887]\n",
      "\n",
      "\n",
      "Experiment 4\n",
      "Transfer: [0.724138, 0.62963, 0.685714, 0.655172, 0.678571]\n",
      "Transfer & Revision: [0.774404, 0.569243, 0.706008, 0.632342, 0.509849]\n",
      "\n",
      "\n",
      "Experiment 5\n",
      "Transfer: [0.724138, 0.62963, 0.685714, 0.655172, 0.678571]\n",
      "Transfer & Revision: [0.771545, 0.569243, 0.703134, 0.632342, 0.638588]\n",
      "\n",
      "\n"
     ]
    },
    {
     "data": {
      "text/markdown": [
       "## AUC PR"
      ],
      "text/plain": [
       "<IPython.core.display.Markdown object>"
      ]
     },
     "metadata": {},
     "output_type": "display_data"
    },
    {
     "name": "stdout",
     "output_type": "stream",
     "text": [
      "Experiment 1\n",
      "Transfer: [0.949606, 0.945205, 0.937589, 0.942363, 0.946746]\n",
      "Transfer & Revision: [0.963549, 0.934792, 0.957339, 0.928822, 0.896585]\n",
      "\n",
      "\n",
      "Experiment 2\n",
      "Transfer: [0.949606, 0.945205, 0.937589, 0.942363, 0.946746]\n",
      "Transfer & Revision: [0.962726, 0.934792, 0.957091, 0.952533, 0.896234]\n",
      "\n",
      "\n",
      "Experiment 3\n",
      "Transfer: [0.949606, 0.945205, 0.937589, 0.942363, 0.946746]\n",
      "Transfer & Revision: [0.966597, 0.934792, 0.957974, 0.928822, 0.896267]\n",
      "\n",
      "\n",
      "Experiment 4\n",
      "Transfer: [0.949606, 0.945205, 0.937589, 0.942363, 0.946746]\n",
      "Transfer & Revision: [0.966597, 0.934792, 0.957519, 0.928822, 0.896564]\n",
      "\n",
      "\n",
      "Experiment 5\n",
      "Transfer: [0.949606, 0.945205, 0.937589, 0.942363, 0.946746]\n",
      "Transfer & Revision: [0.965745, 0.934792, 0.956529, 0.928822, 0.952464]\n",
      "\n",
      "\n"
     ]
    },
    {
     "data": {
      "text/markdown": [
       "## CLL"
      ],
      "text/plain": [
       "<IPython.core.display.Markdown object>"
      ]
     },
     "metadata": {},
     "output_type": "display_data"
    },
    {
     "name": "stdout",
     "output_type": "stream",
     "text": [
      "Experiment 1\n",
      "Transfer: [-0.255665, -0.258457, -0.256513, -0.255786, -0.255769]\n",
      "Transfer & Revision: [-0.290748, -0.253543, -0.268735, -0.261583, -0.482776]\n",
      "\n",
      "\n",
      "Experiment 2\n",
      "Transfer: [-0.255665, -0.258457, -0.256513, -0.255786, -0.255769]\n",
      "Transfer & Revision: [-0.290182, -0.253525, -0.274426, -0.262241, -0.4984]\n",
      "\n",
      "\n",
      "Experiment 3\n",
      "Transfer: [-0.255665, -0.258457, -0.256513, -0.255786, -0.255769]\n",
      "Transfer & Revision: [-0.290582, -0.253562, -0.273112, -0.261852, -0.499349]\n",
      "\n",
      "\n",
      "Experiment 4\n",
      "Transfer: [-0.255665, -0.258457, -0.256513, -0.255786, -0.255769]\n",
      "Transfer & Revision: [-0.290278, -0.253572, -0.272494, -0.260998, -0.482174]\n",
      "\n",
      "\n",
      "Experiment 5\n",
      "Transfer: [-0.255665, -0.258457, -0.256513, -0.255786, -0.255769]\n",
      "Transfer & Revision: [-0.29079, -0.253574, -0.267369, -0.261923, -0.512444]\n",
      "\n",
      "\n"
     ]
    },
    {
     "data": {
      "text/markdown": [
       "## Recall"
      ],
      "text/plain": [
       "<IPython.core.display.Markdown object>"
      ]
     },
     "metadata": {},
     "output_type": "display_data"
    },
    {
     "name": "stdout",
     "output_type": "stream",
     "text": [
      "Experiment 1\n",
      "Transfer: [1.0, 1.0, 1.0, 1.0, 1.0]\n",
      "Transfer & Revision: [1.0, 1.0, 1.0, 1.0, 0.895313]\n",
      "\n",
      "\n",
      "Experiment 2\n",
      "Transfer: [1.0, 1.0, 1.0, 1.0, 1.0]\n",
      "Transfer & Revision: [1.0, 1.0, 1.0, 1.0, 0.835938]\n",
      "\n",
      "\n",
      "Experiment 3\n",
      "Transfer: [1.0, 1.0, 1.0, 1.0, 1.0]\n",
      "Transfer & Revision: [1.0, 1.0, 1.0, 1.0, 0.826563]\n",
      "\n",
      "\n",
      "Experiment 4\n",
      "Transfer: [1.0, 1.0, 1.0, 1.0, 1.0]\n",
      "Transfer & Revision: [1.0, 1.0, 1.0, 1.0, 0.895313]\n",
      "\n",
      "\n",
      "Experiment 5\n",
      "Transfer: [1.0, 1.0, 1.0, 1.0, 1.0]\n",
      "Transfer & Revision: [1.0, 1.0, 1.0, 1.0, 0.835938]\n",
      "\n",
      "\n"
     ]
    },
    {
     "data": {
      "text/markdown": [
       "## F1"
      ],
      "text/plain": [
       "<IPython.core.display.Markdown object>"
      ]
     },
     "metadata": {},
     "output_type": "display_data"
    },
    {
     "name": "stdout",
     "output_type": "stream",
     "text": [
      "Experiment 1\n",
      "Transfer: [0.974152, 0.971831, 0.967789, 0.970326, 0.972644]\n",
      "Transfer & Revision: [0.974152, 0.971831, 0.967789, 0.970326, 0.919006]\n",
      "\n",
      "\n",
      "Experiment 2\n",
      "Transfer: [0.974152, 0.971831, 0.967789, 0.970326, 0.972644]\n",
      "Transfer & Revision: [0.974152, 0.971831, 0.967789, 0.970326, 0.886495]\n",
      "\n",
      "\n",
      "Experiment 3\n",
      "Transfer: [0.974152, 0.971831, 0.967789, 0.970326, 0.972644]\n",
      "Transfer & Revision: [0.974152, 0.971831, 0.967789, 0.970326, 0.880933]\n",
      "\n",
      "\n",
      "Experiment 4\n",
      "Transfer: [0.974152, 0.971831, 0.967789, 0.970326, 0.972644]\n",
      "Transfer & Revision: [0.974152, 0.971831, 0.967789, 0.970326, 0.919006]\n",
      "\n",
      "\n",
      "Experiment 5\n",
      "Transfer: [0.974152, 0.971831, 0.967789, 0.970326, 0.972644]\n",
      "Transfer & Revision: [0.974152, 0.971831, 0.967789, 0.970326, 0.886495]\n",
      "\n",
      "\n"
     ]
    },
    {
     "data": {
      "text/markdown": [
       "## Precision"
      ],
      "text/plain": [
       "<IPython.core.display.Markdown object>"
      ]
     },
     "metadata": {},
     "output_type": "display_data"
    },
    {
     "name": "stdout",
     "output_type": "stream",
     "text": [
      "Experiment 1\n",
      "Transfer: [0.949606, 0.945205, 0.937589, 0.942363, 0.946746]\n",
      "Transfer & Revision: [0.949606, 0.945205, 0.937589, 0.942363, 0.943987]\n",
      "\n",
      "\n",
      "Experiment 2\n",
      "Transfer: [0.949606, 0.945205, 0.937589, 0.942363, 0.946746]\n",
      "Transfer & Revision: [0.949606, 0.945205, 0.937589, 0.942363, 0.943563]\n",
      "\n",
      "\n",
      "Experiment 3\n",
      "Transfer: [0.949606, 0.945205, 0.937589, 0.942363, 0.946746]\n",
      "Transfer & Revision: [0.949606, 0.945205, 0.937589, 0.942363, 0.942959]\n",
      "\n",
      "\n",
      "Experiment 4\n",
      "Transfer: [0.949606, 0.945205, 0.937589, 0.942363, 0.946746]\n",
      "Transfer & Revision: [0.949606, 0.945205, 0.937589, 0.942363, 0.943987]\n",
      "\n",
      "\n",
      "Experiment 5\n",
      "Transfer: [0.949606, 0.945205, 0.937589, 0.942363, 0.946746]\n",
      "Transfer & Revision: [0.949606, 0.945205, 0.937589, 0.942363, 0.943563]\n",
      "\n",
      "\n"
     ]
    },
    {
     "data": {
      "text/markdown": [
       "## Learning and Revision time"
      ],
      "text/plain": [
       "<IPython.core.display.Markdown object>"
      ]
     },
     "metadata": {},
     "output_type": "display_data"
    },
    {
     "name": "stdout",
     "output_type": "stream",
     "text": [
      "Experiment 1\n",
      "Transfer: ['5.21 (1.9)', '3.416 (2.0)', '4.627 (2.0)', '5.038 (1.9)', '4.385 (2.0)']\n",
      "Transfer & Revision: ['16.393 (1.9)', '9.126 (2.0)', '15.622 (2.0)', '15.992 (1.9)', '17.249000000000002 (2.0)']\n",
      "\n",
      "\n",
      "Experiment 2\n",
      "Transfer: ['4.68 (1.9)', '3.548 (1.7)', '4.575 (1.9)', '5.718 (1.9)', '5.312 (1.9)']\n",
      "Transfer & Revision: ['15.743 (1.9)', '8.602 (1.7)', '14.065999999999999 (1.9)', '15.741999999999999 (1.9)', '16.496 (1.9)']\n",
      "\n",
      "\n",
      "Experiment 3\n",
      "Transfer: ['5.915 (1.9)', '3.331 (1.7)', '5.688 (2.0)', '6.908 (2.0)', '4.706 (2.0)']\n",
      "Transfer & Revision: ['17.221 (1.9)', '10.215 (1.7)', '19.629 (2.0)', '32.164 (2.0)', '20.335 (2.0)']\n",
      "\n",
      "\n",
      "Experiment 4\n",
      "Transfer: ['4.991 (1.9)', '3.175 (1.8)', '4.489 (2.0)', '5.31 (1.9)', '4.58 (1.9)']\n",
      "Transfer & Revision: ['13.811 (1.9)', '8.120999999999999 (1.8)', '15.883 (2.0)', '16.893 (1.9)', '18.036 (1.9)']\n",
      "\n",
      "\n",
      "Experiment 5\n",
      "Transfer: ['4.762 (1.9)', '3.344 (1.9)', '4.846 (2.0)', '5.144 (1.9)', '5.005 (1.9)']\n",
      "Transfer & Revision: ['15.722999999999999 (1.9)', '11.036 (1.9)', '16.381 (2.0)', '17.226 (1.9)', '17.223 (1.9)']\n",
      "\n",
      "\n"
     ]
    },
    {
     "data": {
      "text/markdown": [
       "## Inference time"
      ],
      "text/plain": [
       "<IPython.core.display.Markdown object>"
      ]
     },
     "metadata": {},
     "output_type": "display_data"
    },
    {
     "name": "stdout",
     "output_type": "stream",
     "text": [
      "Experiment 1\n",
      "Transfer: [1.391, 1.61, 1.667, 1.457, 1.402]\n",
      "Transfer & Revision: [27.127, 1.942, 4.426, 3.148, 3.784]\n",
      "\n",
      "\n",
      "Experiment 2\n",
      "Transfer: [1.467, 1.891, 1.742, 1.317, 1.364]\n",
      "Transfer & Revision: [34.775, 1.624, 4.497, 3.173, 3.949]\n",
      "\n",
      "\n",
      "Experiment 3\n",
      "Transfer: [1.549, 1.397, 2.589, 1.458, 2.17]\n",
      "Transfer & Revision: [21.963, 2.133, 4.833, 2.875, 4.14]\n",
      "\n",
      "\n",
      "Experiment 4\n",
      "Transfer: [1.379, 1.543, 1.372, 1.603, 1.283]\n",
      "Transfer & Revision: [22.766, 1.895, 4.277, 3.393, 3.163]\n",
      "\n",
      "\n",
      "Experiment 5\n",
      "Transfer: [1.598, 1.37, 1.609, 1.34, 1.793]\n",
      "Transfer & Revision: [27.243, 1.818, 4.534, 3.126, 3.451]\n",
      "\n",
      "\n"
     ]
    },
    {
     "data": {
      "text/markdown": [
       "# Results for 12_uwcse_cora"
      ],
      "text/plain": [
       "<IPython.core.display.Markdown object>"
      ]
     },
     "metadata": {},
     "output_type": "display_data"
    },
    {
     "data": {
      "text/markdown": [
       "## AUC ROC"
      ],
      "text/plain": [
       "<IPython.core.display.Markdown object>"
      ]
     },
     "metadata": {},
     "output_type": "display_data"
    },
    {
     "name": "stdout",
     "output_type": "stream",
     "text": [
      "Experiment 1\n",
      "Transfer: [0.637371, 0.697325, 0.706065, 0.711318, 0.69191]\n",
      "Transfer & Revision: [0.93813, 0.944342, 0.936004, 0.935476, 0.94324]\n",
      "\n",
      "\n",
      "Experiment 2\n",
      "Transfer: [0.637371, 0.697325, 0.706065, 0.711318, 0.69191]\n",
      "Transfer & Revision: [0.936855, 0.945286, 0.935881, 0.935459, 0.943236]\n",
      "\n",
      "\n",
      "Experiment 3\n",
      "Transfer: [0.637371, 0.697325, 0.706065, 0.711318, 0.69191]\n",
      "Transfer & Revision: [0.937272, 0.944181, 0.939636, 0.93615, 0.943938]\n",
      "\n",
      "\n",
      "Experiment 4\n",
      "Transfer: [0.637371, 0.697325, 0.706065, 0.711318, 0.69191]\n",
      "Transfer & Revision: [0.936195, 0.944181, 0.936004, 0.93518, 0.943393]\n",
      "\n",
      "\n",
      "Experiment 5\n",
      "Transfer: [0.637371, 0.697325, 0.706065, 0.711318, 0.69191]\n",
      "Transfer & Revision: [0.936655, 0.940988, 0.92129, 0.934785, 0.943785]\n",
      "\n",
      "\n"
     ]
    },
    {
     "data": {
      "text/markdown": [
       "## AUC PR"
      ],
      "text/plain": [
       "<IPython.core.display.Markdown object>"
      ]
     },
     "metadata": {},
     "output_type": "display_data"
    },
    {
     "name": "stdout",
     "output_type": "stream",
     "text": [
      "Experiment 1\n",
      "Transfer: [0.800323, 0.781876, 0.837571, 0.825793, 0.798649]\n",
      "Transfer & Revision: [0.969703, 0.966334, 0.972212, 0.96885, 0.971052]\n",
      "\n",
      "\n",
      "Experiment 2\n",
      "Transfer: [0.800323, 0.781876, 0.837571, 0.825793, 0.798649]\n",
      "Transfer & Revision: [0.96816, 0.967175, 0.972145, 0.968449, 0.971]\n",
      "\n",
      "\n",
      "Experiment 3\n",
      "Transfer: [0.800323, 0.781876, 0.837571, 0.825793, 0.798649]\n",
      "Transfer & Revision: [0.968676, 0.966206, 0.973406, 0.969149, 0.971771]\n",
      "\n",
      "\n",
      "Experiment 4\n",
      "Transfer: [0.800323, 0.781876, 0.837571, 0.825793, 0.798649]\n",
      "Transfer & Revision: [0.967757, 0.966206, 0.972212, 0.968272, 0.971165]\n",
      "\n",
      "\n",
      "Experiment 5\n",
      "Transfer: [0.800323, 0.781876, 0.837571, 0.825793, 0.798649]\n",
      "Transfer & Revision: [0.968216, 0.965338, 0.935051, 0.968149, 0.971635]\n",
      "\n",
      "\n"
     ]
    },
    {
     "data": {
      "text/markdown": [
       "## CLL"
      ],
      "text/plain": [
       "<IPython.core.display.Markdown object>"
      ]
     },
     "metadata": {},
     "output_type": "display_data"
    },
    {
     "name": "stdout",
     "output_type": "stream",
     "text": [
      "Experiment 1\n",
      "Transfer: [-0.646642, -0.811247, -0.579745, -0.574054, -0.591338]\n",
      "Transfer & Revision: [-0.32089, -0.526368, -0.308776, -0.315946, -0.319339]\n",
      "\n",
      "\n",
      "Experiment 2\n",
      "Transfer: [-0.647403, -0.812376, -0.579649, -0.573972, -0.591307]\n",
      "Transfer & Revision: [-0.314063, -0.522655, -0.310946, -0.313707, -0.317835]\n",
      "\n",
      "\n",
      "Experiment 3\n",
      "Transfer: [-0.649593, -0.80779, -0.579343, -0.572527, -0.590007]\n",
      "Transfer & Revision: [-0.312857, -0.506939, -0.308967, -0.31495, -0.31357]\n",
      "\n",
      "\n",
      "Experiment 4\n",
      "Transfer: [-0.647613, -0.80901, -0.578653, -0.573012, -0.590256]\n",
      "Transfer & Revision: [-0.312545, -0.512568, -0.310801, -0.31461, -0.318969]\n",
      "\n",
      "\n",
      "Experiment 5\n",
      "Transfer: [-0.644777, -0.816118, -0.581126, -0.575529, -0.593307]\n",
      "Transfer & Revision: [-0.307255, -0.513028, -0.31638, -0.319735, -0.314888]\n",
      "\n",
      "\n"
     ]
    },
    {
     "data": {
      "text/markdown": [
       "## Recall"
      ],
      "text/plain": [
       "<IPython.core.display.Markdown object>"
      ]
     },
     "metadata": {},
     "output_type": "display_data"
    },
    {
     "name": "stdout",
     "output_type": "stream",
     "text": [
      "Experiment 1\n",
      "Transfer: [0.351904, 1.0, 0.439311, 0.422749, 0.657793]\n",
      "Transfer & Revision: [0.856255, 1.0, 0.901744, 0.892022, 0.880305]\n",
      "\n",
      "\n",
      "Experiment 2\n",
      "Transfer: [0.351904, 1.0, 0.439311, 0.422749, 0.657793]\n",
      "Transfer & Revision: [0.865035, 1.0, 0.901744, 0.892022, 0.880305]\n",
      "\n",
      "\n",
      "Experiment 3\n",
      "Transfer: [0.351904, 1.0, 0.439311, 0.422749, 0.657793]\n",
      "Transfer & Revision: [0.865035, 1.0, 0.901744, 0.892022, 0.880305]\n",
      "\n",
      "\n",
      "Experiment 4\n",
      "Transfer: [0.351904, 1.0, 0.439311, 0.422749, 0.657793]\n",
      "Transfer & Revision: [0.865035, 1.0, 0.901744, 0.892022, 0.880305]\n",
      "\n",
      "\n",
      "Experiment 5\n",
      "Transfer: [0.351904, 1.0, 0.439311, 0.422749, 1.0]\n",
      "Transfer & Revision: [0.865035, 1.0, 0.901744, 0.892022, 0.880305]\n",
      "\n",
      "\n"
     ]
    },
    {
     "data": {
      "text/markdown": [
       "## F1"
      ],
      "text/plain": [
       "<IPython.core.display.Markdown object>"
      ]
     },
     "metadata": {},
     "output_type": "display_data"
    },
    {
     "name": "stdout",
     "output_type": "stream",
     "text": [
      "Experiment 1\n",
      "Transfer: [0.518103, 0.723963, 0.597804, 0.582499, 0.685182]\n",
      "Transfer & Revision: [0.915491, 0.723963, 0.927613, 0.92137, 0.924694]\n",
      "\n",
      "\n",
      "Experiment 2\n",
      "Transfer: [0.518103, 0.723963, 0.597804, 0.582499, 0.685182]\n",
      "Transfer & Revision: [0.919342, 0.723963, 0.927613, 0.92137, 0.924694]\n",
      "\n",
      "\n",
      "Experiment 3\n",
      "Transfer: [0.518103, 0.723963, 0.597804, 0.582499, 0.685182]\n",
      "Transfer & Revision: [0.919342, 0.723963, 0.927613, 0.92137, 0.924694]\n",
      "\n",
      "\n",
      "Experiment 4\n",
      "Transfer: [0.518103, 0.723963, 0.597804, 0.582499, 0.685182]\n",
      "Transfer & Revision: [0.919342, 0.723963, 0.927613, 0.92137, 0.924694]\n",
      "\n",
      "\n",
      "Experiment 5\n",
      "Transfer: [0.518103, 0.723963, 0.597804, 0.582499, 0.751939]\n",
      "Transfer & Revision: [0.919342, 0.723963, 0.927613, 0.92137, 0.924694]\n",
      "\n",
      "\n"
     ]
    },
    {
     "data": {
      "text/markdown": [
       "## Precision"
      ],
      "text/plain": [
       "<IPython.core.display.Markdown object>"
      ]
     },
     "metadata": {},
     "output_type": "display_data"
    },
    {
     "name": "stdout",
     "output_type": "stream",
     "text": [
      "Experiment 1\n",
      "Transfer: [0.981791, 0.567352, 0.935202, 0.936319, 0.71495]\n",
      "Transfer & Revision: [0.983533, 0.567352, 0.95501, 0.952714, 0.973798]\n",
      "\n",
      "\n",
      "Experiment 2\n",
      "Transfer: [0.981791, 0.567352, 0.935202, 0.936319, 0.71495]\n",
      "Transfer & Revision: [0.980924, 0.567352, 0.95501, 0.952714, 0.973798]\n",
      "\n",
      "\n",
      "Experiment 3\n",
      "Transfer: [0.981791, 0.567352, 0.935202, 0.936319, 0.71495]\n",
      "Transfer & Revision: [0.980924, 0.567352, 0.95501, 0.952714, 0.973798]\n",
      "\n",
      "\n",
      "Experiment 4\n",
      "Transfer: [0.981791, 0.567352, 0.935202, 0.936319, 0.71495]\n",
      "Transfer & Revision: [0.980924, 0.567352, 0.95501, 0.952714, 0.973798]\n",
      "\n",
      "\n",
      "Experiment 5\n",
      "Transfer: [0.981791, 0.567352, 0.935202, 0.936319, 0.602486]\n",
      "Transfer & Revision: [0.980924, 0.567352, 0.95501, 0.952714, 0.973798]\n",
      "\n",
      "\n"
     ]
    },
    {
     "data": {
      "text/markdown": [
       "## Learning and Revision time"
      ],
      "text/plain": [
       "<IPython.core.display.Markdown object>"
      ]
     },
     "metadata": {},
     "output_type": "display_data"
    },
    {
     "name": "stdout",
     "output_type": "stream",
     "text": [
      "Experiment 1\n",
      "Transfer: ['131.494 (2.1)', '81.885 (2.1)', '226.371 (2.1)', '173.461 (1.8)', '157.40699999999998 (2.1)']\n",
      "Transfer & Revision: ['557.494 (2.1)', '262.037 (2.1)', '615.896 (2.1)', '345.818 (1.8)', '621.65 (2.1)']\n",
      "\n",
      "\n",
      "Experiment 2\n",
      "Transfer: ['121.318 (1.9)', '78.21600000000001 (2.0)', '250.425 (1.8)', '142.71 (2.0)', '158.132 (2.0)']\n",
      "Transfer & Revision: ['341.98 (1.9)', '181.263 (2.0)', '572.424 (1.8)', '317.09400000000005 (2.0)', '428.67900000000003 (2.0)']\n",
      "\n",
      "\n",
      "Experiment 3\n",
      "Transfer: ['143.924 (2.0)', '80.644 (1.6)', '216.685 (1.9)', '144.212 (1.7)', '160.018 (2.0)']\n",
      "Transfer & Revision: ['419.966 (2.0)', '213.45000000000002 (1.6)', '1386.918 (1.9)', '674.4929999999999 (1.7)', '471.317 (2.0)']\n",
      "\n",
      "\n",
      "Experiment 4\n",
      "Transfer: ['138.097 (2.0)', '91.211 (1.9)', '240.063 (2.1)', '167.627 (1.7)', '169.731 (1.9)']\n",
      "Transfer & Revision: ['620.806 (2.0)', '298.447 (1.9)', '1230.356 (2.1)', '530.8710000000001 (1.7)', '703.085 (1.9)']\n",
      "\n",
      "\n",
      "Experiment 5\n",
      "Transfer: ['123.854 (2.1)', '78.624 (2.2)', '249.694 (2.1)', '193.54 (2.2)', '157.863 (2.2)']\n",
      "Transfer & Revision: ['571.077 (2.1)', '197.401 (2.2)', '657.611 (2.1)', '341.70399999999995 (2.2)', '653.0930000000001 (2.2)']\n",
      "\n",
      "\n"
     ]
    },
    {
     "data": {
      "text/markdown": [
       "## Inference time"
      ],
      "text/plain": [
       "<IPython.core.display.Markdown object>"
      ]
     },
     "metadata": {},
     "output_type": "display_data"
    },
    {
     "name": "stdout",
     "output_type": "stream",
     "text": [
      "Experiment 1\n",
      "Transfer: [18.158, 17.69, 17.774, 18.305, 15.809]\n",
      "Transfer & Revision: [99.437, 102.263, 5.036, 4.772, 121.273]\n",
      "\n",
      "\n",
      "Experiment 2\n",
      "Transfer: [15.674, 17.209, 14.485, 14.845, 15.395]\n",
      "Transfer & Revision: [37.325, 39.315, 5.59, 4.328, 39.85]\n",
      "\n",
      "\n",
      "Experiment 3\n",
      "Transfer: [36.83, 23.179, 22.023, 24.275, 25.661]\n",
      "Transfer & Revision: [62.172, 72.901, 707.306, 188.078, 69.178]\n",
      "\n",
      "\n",
      "Experiment 4\n",
      "Transfer: [35.851, 39.721, 34.496, 39.065, 40.891]\n",
      "Transfer & Revision: [191.651, 148.508, 389.499, 99.42, 190.006]\n",
      "\n",
      "\n",
      "Experiment 5\n",
      "Transfer: [17.59, 19.275, 17.217, 18.626, 18.718]\n",
      "Transfer & Revision: [159.29, 91.144, 4.276, 4.3, 176.187]\n",
      "\n",
      "\n"
     ]
    },
    {
     "data": {
      "text/markdown": [
       "# Results for 13_uwcse_cora"
      ],
      "text/plain": [
       "<IPython.core.display.Markdown object>"
      ]
     },
     "metadata": {},
     "output_type": "display_data"
    },
    {
     "data": {
      "text/markdown": [
       "## AUC ROC"
      ],
      "text/plain": [
       "<IPython.core.display.Markdown object>"
      ]
     },
     "metadata": {},
     "output_type": "display_data"
    },
    {
     "name": "stdout",
     "output_type": "stream",
     "text": [
      "Experiment 1\n",
      "Transfer: [0.724138, 0.62963, 0.685714, 0.655172, 0.678571]\n",
      "Transfer & Revision: [0.829245, 0.569243, 0.694273, 0.633449, 0.511077]\n",
      "\n",
      "\n",
      "Experiment 2\n",
      "Transfer: [0.724138, 0.62963, 0.685714, 0.655172, 0.678571]\n",
      "Transfer & Revision: [0.786813, 0.569243, 0.709704, 0.690433, 0.509961]\n",
      "\n",
      "\n",
      "Experiment 3\n",
      "Transfer: [0.724138, 0.62963, 0.685714, 0.655172, 0.678571]\n",
      "Transfer & Revision: [0.785441, 0.569243, 0.699114, 0.627228, 0.559515]\n",
      "\n",
      "\n",
      "Experiment 4\n",
      "Transfer: [0.724138, 0.62963, 0.685714, 0.655172, 0.678571]\n",
      "Transfer & Revision: [0.786584, 0.569243, 0.684331, 0.692463, 0.510128]\n",
      "\n",
      "\n",
      "Experiment 5\n",
      "Transfer: [0.724138, 0.62963, 0.685714, 0.655172, 0.678571]\n",
      "Transfer & Revision: [0.788529, 0.569243, 0.706235, 0.71064, 0.505497]\n",
      "\n",
      "\n"
     ]
    },
    {
     "data": {
      "text/markdown": [
       "## AUC PR"
      ],
      "text/plain": [
       "<IPython.core.display.Markdown object>"
      ]
     },
     "metadata": {},
     "output_type": "display_data"
    },
    {
     "name": "stdout",
     "output_type": "stream",
     "text": [
      "Experiment 1\n",
      "Transfer: [0.949606, 0.945205, 0.937589, 0.942363, 0.946746]\n",
      "Transfer & Revision: [0.975911, 0.934792, 0.954216, 0.928923, 0.896673]\n",
      "\n",
      "\n",
      "Experiment 2\n",
      "Transfer: [0.949606, 0.945205, 0.937589, 0.942363, 0.946746]\n",
      "Transfer & Revision: [0.971324, 0.934792, 0.957541, 0.957145, 0.896575]\n",
      "\n",
      "\n",
      "Experiment 3\n",
      "Transfer: [0.949606, 0.945205, 0.937589, 0.942363, 0.946746]\n",
      "Transfer & Revision: [0.971015, 0.934792, 0.957483, 0.928312, 0.922234]\n",
      "\n",
      "\n",
      "Experiment 4\n",
      "Transfer: [0.949606, 0.945205, 0.937589, 0.942363, 0.946746]\n",
      "Transfer & Revision: [0.97123, 0.934792, 0.954514, 0.956143, 0.896589]\n",
      "\n",
      "\n",
      "Experiment 5\n",
      "Transfer: [0.949606, 0.945205, 0.937589, 0.942363, 0.946746]\n",
      "Transfer & Revision: [0.971631, 0.934792, 0.957692, 0.952533, 0.896234]\n",
      "\n",
      "\n"
     ]
    },
    {
     "data": {
      "text/markdown": [
       "## CLL"
      ],
      "text/plain": [
       "<IPython.core.display.Markdown object>"
      ]
     },
     "metadata": {},
     "output_type": "display_data"
    },
    {
     "name": "stdout",
     "output_type": "stream",
     "text": [
      "Experiment 1\n",
      "Transfer: [-0.256286, -0.260126, -0.257168, -0.256793, -0.256642]\n",
      "Transfer & Revision: [-0.281384, -0.253572, -0.275172, -0.261133, -0.41611]\n",
      "\n",
      "\n",
      "Experiment 2\n",
      "Transfer: [-0.257528, -0.260038, -0.258306, -0.256856, -0.256743]\n",
      "Transfer & Revision: [-0.28918, -0.253562, -0.267653, -0.261702, -0.468096]\n",
      "\n",
      "\n",
      "Experiment 3\n",
      "Transfer: [-0.255665, -0.258687, -0.256513, -0.255993, -0.25598]\n",
      "Transfer & Revision: [-0.287424, -0.25357, -0.266506, -0.259301, -0.406857]\n",
      "\n",
      "\n",
      "Experiment 4\n",
      "Transfer: [-0.259346, -0.264386, -0.26024, -0.259689, -0.259288]\n",
      "Transfer & Revision: [-0.289538, -0.253568, -0.275434, -0.26139, -0.427629]\n",
      "\n",
      "\n",
      "Experiment 5\n",
      "Transfer: [-0.258223, -0.260046, -0.258958, -0.256901, -0.2568]\n",
      "Transfer & Revision: [-0.289244, -0.25356, -0.274923, -0.262089, -0.506664]\n",
      "\n",
      "\n"
     ]
    },
    {
     "data": {
      "text/markdown": [
       "## Recall"
      ],
      "text/plain": [
       "<IPython.core.display.Markdown object>"
      ]
     },
     "metadata": {},
     "output_type": "display_data"
    },
    {
     "name": "stdout",
     "output_type": "stream",
     "text": [
      "Experiment 1\n",
      "Transfer: [1.0, 1.0, 1.0, 1.0, 1.0]\n",
      "Transfer & Revision: [1.0, 1.0, 1.0, 1.0, 0.828125]\n",
      "\n",
      "\n",
      "Experiment 2\n",
      "Transfer: [1.0, 1.0, 1.0, 1.0, 1.0]\n",
      "Transfer & Revision: [1.0, 1.0, 1.0, 1.0, 0.815625]\n",
      "\n",
      "\n",
      "Experiment 3\n",
      "Transfer: [1.0, 1.0, 1.0, 1.0, 1.0]\n",
      "Transfer & Revision: [1.0, 1.0, 1.0, 1.0, 0.895313]\n",
      "\n",
      "\n",
      "Experiment 4\n",
      "Transfer: [1.0, 1.0, 1.0, 1.0, 1.0]\n",
      "Transfer & Revision: [1.0, 1.0, 1.0, 1.0, 0.815625]\n",
      "\n",
      "\n",
      "Experiment 5\n",
      "Transfer: [1.0, 1.0, 1.0, 1.0, 1.0]\n",
      "Transfer & Revision: [1.0, 1.0, 1.0, 1.0, 0.83125]\n",
      "\n",
      "\n"
     ]
    },
    {
     "data": {
      "text/markdown": [
       "## F1"
      ],
      "text/plain": [
       "<IPython.core.display.Markdown object>"
      ]
     },
     "metadata": {},
     "output_type": "display_data"
    },
    {
     "name": "stdout",
     "output_type": "stream",
     "text": [
      "Experiment 1\n",
      "Transfer: [0.974152, 0.971831, 0.967789, 0.970326, 0.972644]\n",
      "Transfer & Revision: [0.974152, 0.971831, 0.967789, 0.970326, 0.881864]\n",
      "\n",
      "\n",
      "Experiment 2\n",
      "Transfer: [0.974152, 0.971831, 0.967789, 0.970326, 0.972644]\n",
      "Transfer & Revision: [0.974152, 0.971831, 0.967789, 0.970326, 0.874372]\n",
      "\n",
      "\n",
      "Experiment 3\n",
      "Transfer: [0.974152, 0.971831, 0.967789, 0.970326, 0.972644]\n",
      "Transfer & Revision: [0.974152, 0.971831, 0.967789, 0.970326, 0.919006]\n",
      "\n",
      "\n",
      "Experiment 4\n",
      "Transfer: [0.974152, 0.971831, 0.967789, 0.970326, 0.972644]\n",
      "Transfer & Revision: [0.974152, 0.971831, 0.967789, 0.970326, 0.874372]\n",
      "\n",
      "\n",
      "Experiment 5\n",
      "Transfer: [0.974152, 0.971831, 0.967789, 0.970326, 0.972644]\n",
      "Transfer & Revision: [0.974152, 0.971831, 0.967789, 0.970326, 0.883721]\n",
      "\n",
      "\n"
     ]
    },
    {
     "data": {
      "text/markdown": [
       "## Precision"
      ],
      "text/plain": [
       "<IPython.core.display.Markdown object>"
      ]
     },
     "metadata": {},
     "output_type": "display_data"
    },
    {
     "name": "stdout",
     "output_type": "stream",
     "text": [
      "Experiment 1\n",
      "Transfer: [0.949606, 0.945205, 0.937589, 0.942363, 0.946746]\n",
      "Transfer & Revision: [0.949606, 0.945205, 0.937589, 0.942363, 0.94306]\n",
      "\n",
      "\n",
      "Experiment 2\n",
      "Transfer: [0.949606, 0.945205, 0.937589, 0.942363, 0.946746]\n",
      "Transfer & Revision: [0.949606, 0.945205, 0.937589, 0.942363, 0.942238]\n",
      "\n",
      "\n",
      "Experiment 3\n",
      "Transfer: [0.949606, 0.945205, 0.937589, 0.942363, 0.946746]\n",
      "Transfer & Revision: [0.949606, 0.945205, 0.937589, 0.942363, 0.943987]\n",
      "\n",
      "\n",
      "Experiment 4\n",
      "Transfer: [0.949606, 0.945205, 0.937589, 0.942363, 0.946746]\n",
      "Transfer & Revision: [0.949606, 0.945205, 0.937589, 0.942363, 0.942238]\n",
      "\n",
      "\n",
      "Experiment 5\n",
      "Transfer: [0.949606, 0.945205, 0.937589, 0.942363, 0.946746]\n",
      "Transfer & Revision: [0.949606, 0.945205, 0.937589, 0.942363, 0.943262]\n",
      "\n",
      "\n"
     ]
    },
    {
     "data": {
      "text/markdown": [
       "## Learning and Revision time"
      ],
      "text/plain": [
       "<IPython.core.display.Markdown object>"
      ]
     },
     "metadata": {},
     "output_type": "display_data"
    },
    {
     "name": "stdout",
     "output_type": "stream",
     "text": [
      "Experiment 1\n",
      "Transfer: ['4.754 (2.0)', '3.423 (1.8)', '4.569 (1.6)', '5.809 (1.6)', '4.17 (2.0)']\n",
      "Transfer & Revision: ['18.612000000000002 (2.0)', '10.599 (1.8)', '17.221 (1.6)', '22.368000000000002 (1.6)', '18.455 (2.0)']\n",
      "\n",
      "\n",
      "Experiment 2\n",
      "Transfer: ['5.399 (1.9)', '3.131 (1.5)', '4.409 (2.0)', '6.939 (1.6)', '6.26 (2.0)']\n",
      "Transfer & Revision: ['15.725999999999999 (1.9)', '10.283999999999999 (1.5)', '15.244 (2.0)', '16.813000000000002 (1.6)', '19.461 (2.0)']\n",
      "\n",
      "\n",
      "Experiment 3\n",
      "Transfer: ['4.483 (1.9)', '3.919 (1.8)', '4.23 (1.9)', '5.512 (1.7)', '4.268 (2.0)']\n",
      "Transfer & Revision: ['17.175 (1.9)', '11.915000000000001 (1.8)', '16.436 (1.9)', '24.677 (1.7)', '20.463 (2.0)']\n",
      "\n",
      "\n",
      "Experiment 4\n",
      "Transfer: ['4.946 (1.8)', '3.138 (2.1)', '5.831 (2.1)', '6.27 (2.0)', '5.943 (2.1)']\n",
      "Transfer & Revision: ['18.372 (1.8)', '9.081 (2.1)', '21.504 (2.1)', '17.106 (2.0)', '16.945 (2.1)']\n",
      "\n",
      "\n",
      "Experiment 5\n",
      "Transfer: ['4.169 (1.9)', '3.341 (1.8)', '4.501 (2.1)', '6.291 (1.5)', '3.953 (2.0)']\n",
      "Transfer & Revision: ['17.081 (1.9)', '9.100999999999999 (1.8)', '18.481 (2.1)', '16.642000000000003 (1.5)', '17.609 (2.0)']\n",
      "\n",
      "\n"
     ]
    },
    {
     "data": {
      "text/markdown": [
       "## Inference time"
      ],
      "text/plain": [
       "<IPython.core.display.Markdown object>"
      ]
     },
     "metadata": {},
     "output_type": "display_data"
    },
    {
     "name": "stdout",
     "output_type": "stream",
     "text": [
      "Experiment 1\n",
      "Transfer: [2.061, 2.431, 2.429, 2.343, 2.061]\n",
      "Transfer & Revision: [152.974, 34.896, 31.445, 169.096, 40.287]\n",
      "\n",
      "\n",
      "Experiment 2\n",
      "Transfer: [1.545, 1.494, 1.678, 1.772, 1.94]\n",
      "Transfer & Revision: [37.264, 2.076, 16.182, 3.155, 3.162]\n",
      "\n",
      "\n",
      "Experiment 3\n",
      "Transfer: [2.311, 2.107, 2.587, 2.651, 1.965]\n",
      "Transfer & Revision: [66.595, 90.918, 66.14, 208.083, 52.087]\n",
      "\n",
      "\n",
      "Experiment 4\n",
      "Transfer: [1.745, 1.926, 2.125, 1.975, 1.982]\n",
      "Transfer & Revision: [48.275, 2.557, 33.106, 4.019, 2.821]\n",
      "\n",
      "\n",
      "Experiment 5\n",
      "Transfer: [1.782, 1.754, 1.58, 2.006, 2.061]\n",
      "Transfer & Revision: [49.85, 2.208, 58.347, 3.464, 2.808]\n",
      "\n",
      "\n"
     ]
    },
    {
     "data": {
      "text/markdown": [
       "# Results for 16_yeast_twitter"
      ],
      "text/plain": [
       "<IPython.core.display.Markdown object>"
      ]
     },
     "metadata": {},
     "output_type": "display_data"
    },
    {
     "data": {
      "text/markdown": [
       "## AUC ROC"
      ],
      "text/plain": [
       "<IPython.core.display.Markdown object>"
      ]
     },
     "metadata": {},
     "output_type": "display_data"
    },
    {
     "name": "stdout",
     "output_type": "stream",
     "text": [
      "Experiment 1\n",
      "Transfer: [0.727394, 0.693938]\n",
      "Transfer & Revision: [0.73151, 0.697985]\n",
      "\n",
      "\n",
      "Experiment 2\n",
      "Transfer: [0.726572, 0.68295]\n",
      "Transfer & Revision: [0.73151, 0.697027]\n",
      "\n",
      "\n",
      "Experiment 3\n",
      "Transfer: [0.666361, 0.626589]\n",
      "Transfer & Revision: [0.731167, 0.685041]\n",
      "\n",
      "\n",
      "Experiment 4\n",
      "Transfer: [0.668332, 0.635948]\n",
      "Transfer & Revision: [0.727306, 0.689804]\n",
      "\n",
      "\n",
      "Experiment 5\n",
      "Transfer: [0.668332, 0.635948]\n",
      "Transfer & Revision: [0.731422, 0.693573]\n",
      "\n",
      "\n"
     ]
    },
    {
     "data": {
      "text/markdown": [
       "## AUC PR"
      ],
      "text/plain": [
       "<IPython.core.display.Markdown object>"
      ]
     },
     "metadata": {},
     "output_type": "display_data"
    },
    {
     "name": "stdout",
     "output_type": "stream",
     "text": [
      "Experiment 1\n",
      "Transfer: [0.695482, 0.679392]\n",
      "Transfer & Revision: [0.698076, 0.668283]\n",
      "\n",
      "\n",
      "Experiment 2\n",
      "Transfer: [0.694451, 0.653066]\n",
      "Transfer & Revision: [0.698076, 0.667605]\n",
      "\n",
      "\n",
      "Experiment 3\n",
      "Transfer: [0.65471, 0.603031]\n",
      "Transfer & Revision: [0.697962, 0.660356]\n",
      "\n",
      "\n",
      "Experiment 4\n",
      "Transfer: [0.645353, 0.612019]\n",
      "Transfer & Revision: [0.695477, 0.677047]\n",
      "\n",
      "\n",
      "Experiment 5\n",
      "Transfer: [0.645353, 0.612019]\n",
      "Transfer & Revision: [0.69807, 0.679011]\n",
      "\n",
      "\n"
     ]
    },
    {
     "data": {
      "text/markdown": [
       "## CLL"
      ],
      "text/plain": [
       "<IPython.core.display.Markdown object>"
      ]
     },
     "metadata": {},
     "output_type": "display_data"
    },
    {
     "name": "stdout",
     "output_type": "stream",
     "text": [
      "Experiment 1\n",
      "Transfer: [-0.611996, -0.636263]\n",
      "Transfer & Revision: [-0.606766, -0.635948]\n",
      "\n",
      "\n",
      "Experiment 2\n",
      "Transfer: [-0.623623, -0.645135]\n",
      "Transfer & Revision: [-0.606459, -0.640326]\n",
      "\n",
      "\n",
      "Experiment 3\n",
      "Transfer: [-0.647074, -0.664836]\n",
      "Transfer & Revision: [-0.609297, -0.643458]\n",
      "\n",
      "\n",
      "Experiment 4\n",
      "Transfer: [-0.644737, -0.661553]\n",
      "Transfer & Revision: [-0.610794, -0.642543]\n",
      "\n",
      "\n",
      "Experiment 5\n",
      "Transfer: [-0.644736, -0.661553]\n",
      "Transfer & Revision: [-0.608426, -0.641197]\n",
      "\n",
      "\n"
     ]
    },
    {
     "data": {
      "text/markdown": [
       "## Recall"
      ],
      "text/plain": [
       "<IPython.core.display.Markdown object>"
      ]
     },
     "metadata": {},
     "output_type": "display_data"
    },
    {
     "name": "stdout",
     "output_type": "stream",
     "text": [
      "Experiment 1\n",
      "Transfer: [0.529661, 0.588462]\n",
      "Transfer & Revision: [0.529661, 0.496154]\n",
      "\n",
      "\n",
      "Experiment 2\n",
      "Transfer: [0.59887, 0.617949]\n",
      "Transfer & Revision: [0.529661, 0.498718]\n",
      "\n",
      "\n",
      "Experiment 3\n",
      "Transfer: [0.617232, 0.617949]\n",
      "Transfer & Revision: [0.529661, 0.498718]\n",
      "\n",
      "\n",
      "Experiment 4\n",
      "Transfer: [0.617232, 0.617949]\n",
      "Transfer & Revision: [0.529661, 0.498718]\n",
      "\n",
      "\n",
      "Experiment 5\n",
      "Transfer: [0.617232, 0.617949]\n",
      "Transfer & Revision: [0.529661, 0.498718]\n",
      "\n",
      "\n"
     ]
    },
    {
     "data": {
      "text/markdown": [
       "## F1"
      ],
      "text/plain": [
       "<IPython.core.display.Markdown object>"
      ]
     },
     "metadata": {},
     "output_type": "display_data"
    },
    {
     "name": "stdout",
     "output_type": "stream",
     "text": [
      "Experiment 1\n",
      "Transfer: [0.62396, 0.618598]\n",
      "Transfer & Revision: [0.62396, 0.595843]\n",
      "\n",
      "\n",
      "Experiment 2\n",
      "Transfer: [0.643399, 0.621935]\n",
      "Transfer & Revision: [0.62396, 0.595712]\n",
      "\n",
      "\n",
      "Experiment 3\n",
      "Transfer: [0.645495, 0.621935]\n",
      "Transfer & Revision: [0.62396, 0.595712]\n",
      "\n",
      "\n",
      "Experiment 4\n",
      "Transfer: [0.645495, 0.621935]\n",
      "Transfer & Revision: [0.62396, 0.595712]\n",
      "\n",
      "\n",
      "Experiment 5\n",
      "Transfer: [0.645495, 0.621935]\n",
      "Transfer & Revision: [0.62396, 0.595712]\n",
      "\n",
      "\n"
     ]
    },
    {
     "data": {
      "text/markdown": [
       "## Precision"
      ],
      "text/plain": [
       "<IPython.core.display.Markdown object>"
      ]
     },
     "metadata": {},
     "output_type": "display_data"
    },
    {
     "name": "stdout",
     "output_type": "stream",
     "text": [
      "Experiment 1\n",
      "Transfer: [0.759109, 0.651989]\n",
      "Transfer & Revision: [0.759109, 0.745665]\n",
      "\n",
      "\n",
      "Experiment 2\n",
      "Transfer: [0.695082, 0.625974]\n",
      "Transfer & Revision: [0.759109, 0.739544]\n",
      "\n",
      "\n",
      "Experiment 3\n",
      "Transfer: [0.676471, 0.625974]\n",
      "Transfer & Revision: [0.759109, 0.739544]\n",
      "\n",
      "\n",
      "Experiment 4\n",
      "Transfer: [0.676471, 0.625974]\n",
      "Transfer & Revision: [0.759109, 0.739544]\n",
      "\n",
      "\n",
      "Experiment 5\n",
      "Transfer: [0.676471, 0.625974]\n",
      "Transfer & Revision: [0.759109, 0.739544]\n",
      "\n",
      "\n"
     ]
    },
    {
     "data": {
      "text/markdown": [
       "## Learning and Revision time"
      ],
      "text/plain": [
       "<IPython.core.display.Markdown object>"
      ]
     },
     "metadata": {},
     "output_type": "display_data"
    },
    {
     "name": "stdout",
     "output_type": "stream",
     "text": [
      "Experiment 1\n",
      "Transfer: ['19.417 (3.5)', '21.867 (3.0)']\n",
      "Transfer & Revision: ['52.557 (3.5)', '56.437 (3.0)']\n",
      "\n",
      "\n",
      "Experiment 2\n",
      "Transfer: ['19.525 (2.8)', '21.897 (3.5)']\n",
      "Transfer & Revision: ['53.757999999999996 (2.8)', '54.789 (3.5)']\n",
      "\n",
      "\n",
      "Experiment 3\n",
      "Transfer: ['20.163 (3.2)', '22.251 (3.5)']\n",
      "Transfer & Revision: ['47.612 (3.2)', '52.287000000000006 (3.5)']\n",
      "\n",
      "\n",
      "Experiment 4\n",
      "Transfer: ['20.782 (3.5)', '22.175 (3.5)']\n",
      "Transfer & Revision: ['49.335 (3.5)', '53.692 (3.5)']\n",
      "\n",
      "\n",
      "Experiment 5\n",
      "Transfer: ['19.158 (3.3)', '22.169 (3.5)']\n",
      "Transfer & Revision: ['46.987 (3.3)', '54.453 (3.5)']\n",
      "\n",
      "\n"
     ]
    },
    {
     "data": {
      "text/markdown": [
       "## Inference time"
      ],
      "text/plain": [
       "<IPython.core.display.Markdown object>"
      ]
     },
     "metadata": {},
     "output_type": "display_data"
    },
    {
     "name": "stdout",
     "output_type": "stream",
     "text": [
      "Experiment 1\n",
      "Transfer: [1.293, 1.436]\n",
      "Transfer & Revision: [1.238, 1.797]\n",
      "\n",
      "\n",
      "Experiment 2\n",
      "Transfer: [1.289, 1.395]\n",
      "Transfer & Revision: [1.495, 1.447]\n",
      "\n",
      "\n",
      "Experiment 3\n",
      "Transfer: [1.574, 1.345]\n",
      "Transfer & Revision: [1.598, 1.422]\n",
      "\n",
      "\n",
      "Experiment 4\n",
      "Transfer: [1.158, 1.251]\n",
      "Transfer & Revision: [1.607, 1.366]\n",
      "\n",
      "\n",
      "Experiment 5\n",
      "Transfer: [1.31, 1.346]\n",
      "Transfer & Revision: [1.433, 1.607]\n",
      "\n",
      "\n"
     ]
    },
    {
     "data": {
      "text/markdown": [
       "# Results for 23_twitter_yeast"
      ],
      "text/plain": [
       "<IPython.core.display.Markdown object>"
      ]
     },
     "metadata": {},
     "output_type": "display_data"
    },
    {
     "data": {
      "text/markdown": [
       "## AUC ROC"
      ],
      "text/plain": [
       "<IPython.core.display.Markdown object>"
      ]
     },
     "metadata": {},
     "output_type": "display_data"
    },
    {
     "name": "stdout",
     "output_type": "stream",
     "text": [
      "Experiment 1\n",
      "Transfer: [0.544505, 0.579015, 0.541125, 0.549794]\n",
      "Transfer & Revision: [0.677996, 0.621469, 0.667098, 0.637497]\n",
      "\n",
      "\n",
      "Experiment 2\n",
      "Transfer: [0.544505, 0.579015, 0.541125, 0.549794]\n",
      "Transfer & Revision: [0.67436, 0.646278, 0.669366, 0.626445]\n",
      "\n",
      "\n",
      "Experiment 3\n",
      "Transfer: [0.530448, 0.515017, 0.512164, 0.521278]\n",
      "Transfer & Revision: [0.674426, 0.677363, 0.669245, 0.643159]\n",
      "\n",
      "\n",
      "Experiment 4\n",
      "Transfer: [0.544505, 0.579015, 0.541125, 0.549794]\n",
      "Transfer & Revision: [0.67789, 0.613063, 0.672192, 0.639455]\n",
      "\n",
      "\n",
      "Experiment 5\n",
      "Transfer: [0.544437, 0.579015, 0.541125, 0.549788]\n",
      "Transfer & Revision: [0.668713, 0.643261, 0.672113, 0.630243]\n",
      "\n",
      "\n"
     ]
    },
    {
     "data": {
      "text/markdown": [
       "## AUC PR"
      ],
      "text/plain": [
       "<IPython.core.display.Markdown object>"
      ]
     },
     "metadata": {},
     "output_type": "display_data"
    },
    {
     "name": "stdout",
     "output_type": "stream",
     "text": [
      "Experiment 1\n",
      "Transfer: [0.567246, 0.568527, 0.549089, 0.558553]\n",
      "Transfer & Revision: [0.700135, 0.649232, 0.693401, 0.669041]\n",
      "\n",
      "\n",
      "Experiment 2\n",
      "Transfer: [0.567246, 0.568527, 0.549089, 0.558553]\n",
      "Transfer & Revision: [0.695631, 0.676607, 0.693128, 0.662024]\n",
      "\n",
      "\n",
      "Experiment 3\n",
      "Transfer: [0.557162, 0.540862, 0.532963, 0.543612]\n",
      "Transfer & Revision: [0.700739, 0.704858, 0.693322, 0.672042]\n",
      "\n",
      "\n",
      "Experiment 4\n",
      "Transfer: [0.567246, 0.568527, 0.549089, 0.558553]\n",
      "Transfer & Revision: [0.699832, 0.646919, 0.696638, 0.667683]\n",
      "\n",
      "\n",
      "Experiment 5\n",
      "Transfer: [0.567224, 0.568527, 0.549089, 0.558551]\n",
      "Transfer & Revision: [0.685061, 0.669654, 0.696382, 0.662105]\n",
      "\n",
      "\n"
     ]
    },
    {
     "data": {
      "text/markdown": [
       "## CLL"
      ],
      "text/plain": [
       "<IPython.core.display.Markdown object>"
      ]
     },
     "metadata": {},
     "output_type": "display_data"
    },
    {
     "name": "stdout",
     "output_type": "stream",
     "text": [
      "Experiment 1\n",
      "Transfer: [-0.684513, -0.685029, -0.691087, -0.687444]\n",
      "Transfer & Revision: [-0.639066, -0.666401, -0.652745, -0.664113]\n",
      "\n",
      "\n",
      "Experiment 2\n",
      "Transfer: [-0.684513, -0.685029, -0.691087, -0.687444]\n",
      "Transfer & Revision: [-0.640649, -0.657417, -0.651063, -0.668164]\n",
      "\n",
      "\n",
      "Experiment 3\n",
      "Transfer: [-0.68498, -0.68812, -0.697539, -0.69118]\n",
      "Transfer & Revision: [-0.640949, -0.645187, -0.651777, -0.66344]\n",
      "\n",
      "\n",
      "Experiment 4\n",
      "Transfer: [-0.684513, -0.685029, -0.691087, -0.687444]\n",
      "Transfer & Revision: [-0.640224, -0.666375, -0.648806, -0.663353]\n",
      "\n",
      "\n",
      "Experiment 5\n",
      "Transfer: [-0.68453, -0.685046, -0.691098, -0.687453]\n",
      "Transfer & Revision: [-0.647155, -0.660442, -0.649765, -0.666583]\n",
      "\n",
      "\n"
     ]
    },
    {
     "data": {
      "text/markdown": [
       "## Recall"
      ],
      "text/plain": [
       "<IPython.core.display.Markdown object>"
      ]
     },
     "metadata": {},
     "output_type": "display_data"
    },
    {
     "name": "stdout",
     "output_type": "stream",
     "text": [
      "Experiment 1\n",
      "Transfer: [0.737007, 0.668584, 0.025607, 0.030496]\n",
      "Transfer & Revision: [0.615084, 0.348366, 0.413411, 0.290374]\n",
      "\n",
      "\n",
      "Experiment 2\n",
      "Transfer: [0.737007, 0.668584, 0.025607, 0.030496]\n",
      "Transfer & Revision: [0.620164, 0.34322, 0.437434, 0.300451]\n",
      "\n",
      "\n",
      "Experiment 3\n",
      "Transfer: [0.047675, 0.197034, 0.026135, 0.077168]\n",
      "Transfer & Revision: [0.602188, 0.498487, 0.448522, 0.334394]\n",
      "\n",
      "\n",
      "Experiment 4\n",
      "Transfer: [0.737007, 0.668584, 0.025607, 0.030496]\n",
      "Transfer & Revision: [0.608441, 0.309322, 0.459081, 0.266773]\n",
      "\n",
      "\n",
      "Experiment 5\n",
      "Transfer: [0.737007, 0.668584, 0.025607, 0.030496]\n",
      "Transfer & Revision: [0.605315, 0.252119, 0.450634, 0.31371]\n",
      "\n",
      "\n"
     ]
    },
    {
     "data": {
      "text/markdown": [
       "## F1"
      ],
      "text/plain": [
       "<IPython.core.display.Markdown object>"
      ]
     },
     "metadata": {},
     "output_type": "display_data"
    },
    {
     "name": "stdout",
     "output_type": "stream",
     "text": [
      "Experiment 1\n",
      "Transfer: [0.609764, 0.611488, 0.049859, 0.059126]\n",
      "Transfer & Revision: [0.624851, 0.453239, 0.523308, 0.419059]\n",
      "\n",
      "\n",
      "Experiment 2\n",
      "Transfer: [0.609764, 0.611488, 0.049859, 0.059126]\n",
      "Transfer & Revision: [0.626036, 0.461069, 0.539125, 0.424742]\n",
      "\n",
      "\n",
      "Experiment 3\n",
      "Transfer: [0.090875, 0.285151, 0.050861, 0.137589]\n",
      "Transfer & Revision: [0.616894, 0.57658, 0.547358, 0.459967]\n",
      "\n",
      "\n",
      "Experiment 4\n",
      "Transfer: [0.609764, 0.611488, 0.049859, 0.059126]\n",
      "Transfer & Revision: [0.616756, 0.418852, 0.555059, 0.395207]\n",
      "\n",
      "\n",
      "Experiment 5\n",
      "Transfer: [0.609764, 0.611488, 0.049859, 0.059126]\n",
      "Transfer & Revision: [0.614439, 0.371047, 0.548963, 0.437824]\n",
      "\n",
      "\n"
     ]
    },
    {
     "data": {
      "text/markdown": [
       "## Precision"
      ],
      "text/plain": [
       "<IPython.core.display.Markdown object>"
      ]
     },
     "metadata": {},
     "output_type": "display_data"
    },
    {
     "name": "stdout",
     "output_type": "stream",
     "text": [
      "Experiment 1\n",
      "Transfer: [0.519989, 0.563377, 0.941748, 0.966387]\n",
      "Transfer & Revision: [0.634933, 0.648451, 0.71279, 0.752577]\n",
      "\n",
      "\n",
      "Experiment 2\n",
      "Transfer: [0.519989, 0.563377, 0.941748, 0.966387]\n",
      "Transfer & Revision: [0.632019, 0.702167, 0.702416, 0.724425]\n",
      "\n",
      "\n",
      "Experiment 3\n",
      "Transfer: [0.968254, 0.515848, 0.942857, 0.633987]\n",
      "Transfer & Revision: [0.632335, 0.683686, 0.702066, 0.736565]\n",
      "\n",
      "\n",
      "Experiment 4\n",
      "Transfer: [0.519989, 0.563377, 0.941748, 0.966387]\n",
      "Transfer & Revision: [0.625301, 0.648477, 0.701776, 0.762121]\n",
      "\n",
      "\n",
      "Experiment 5\n",
      "Transfer: [0.519989, 0.563377, 0.941748, 0.966387]\n",
      "Transfer & Revision: [0.623842, 0.702361, 0.70218, 0.724434]\n",
      "\n",
      "\n"
     ]
    },
    {
     "data": {
      "text/markdown": [
       "## Learning and Revision time"
      ],
      "text/plain": [
       "<IPython.core.display.Markdown object>"
      ]
     },
     "metadata": {},
     "output_type": "display_data"
    },
    {
     "name": "stdout",
     "output_type": "stream",
     "text": [
      "Experiment 1\n",
      "Transfer: ['41.378 (1.8)', '30.774 (1.8)', '18.422 (1.9)', '15.788 (1.9)']\n",
      "Transfer & Revision: ['117.039 (1.8)', '78.58500000000001 (1.8)', '46.138999999999996 (1.9)', '43.364000000000004 (1.9)']\n",
      "\n",
      "\n",
      "Experiment 2\n",
      "Transfer: ['44.689 (1.5)', '26.834 (1.9)', '23.905 (2.1)', '15.349 (1.9)']\n",
      "Transfer & Revision: ['111.457 (1.5)', '70.31099999999999 (1.9)', '57.678000000000004 (2.1)', '47.476 (1.9)']\n",
      "\n",
      "\n",
      "Experiment 3\n",
      "Transfer: ['36.824 (1.5)', '32.744 (1.9)', '16.997 (1.9)', '19.471 (1.9)']\n",
      "Transfer & Revision: ['101.981 (1.5)', '98.597 (1.9)', '41.938 (1.9)', '46.414 (1.9)']\n",
      "\n",
      "\n",
      "Experiment 4\n",
      "Transfer: ['44.823 (1.6)', '31.672 (1.9)', '15.795 (1.9)', '20.606 (1.9)']\n",
      "Transfer & Revision: ['123.263 (1.6)', '75.648 (1.9)', '39.852 (1.9)', '49.127 (1.9)']\n",
      "\n",
      "\n",
      "Experiment 5\n",
      "Transfer: ['44.933 (1.4)', '39.822 (2.0)', '23.204 (2.0)', '20.378 (1.9)']\n",
      "Transfer & Revision: ['116.14599999999999 (1.4)', '81.27600000000001 (2.0)', '49.456 (2.0)', '47.43 (1.9)']\n",
      "\n",
      "\n"
     ]
    },
    {
     "data": {
      "text/markdown": [
       "## Inference time"
      ],
      "text/plain": [
       "<IPython.core.display.Markdown object>"
      ]
     },
     "metadata": {},
     "output_type": "display_data"
    },
    {
     "name": "stdout",
     "output_type": "stream",
     "text": [
      "Experiment 1\n",
      "Transfer: [1.763, 2.671, 2.658, 2.43]\n",
      "Transfer & Revision: [3.347, 2.885, 2.883, 3.03]\n",
      "\n",
      "\n",
      "Experiment 2\n",
      "Transfer: [2.274, 2.27, 2.891, 2.684]\n",
      "Transfer & Revision: [2.478, 2.569, 2.986, 2.458]\n",
      "\n",
      "\n",
      "Experiment 3\n",
      "Transfer: [2.2, 2.672, 2.547, 3.431]\n",
      "Transfer & Revision: [2.578, 2.641, 3.093, 2.996]\n",
      "\n",
      "\n",
      "Experiment 4\n",
      "Transfer: [2.81, 2.392, 2.323, 3.124]\n",
      "Transfer & Revision: [2.515, 2.847, 2.929, 3.385]\n",
      "\n",
      "\n",
      "Experiment 5\n",
      "Transfer: [2.057, 2.78, 2.708, 2.553]\n",
      "Transfer & Revision: [2.528, 3.298, 2.984, 2.789]\n",
      "\n",
      "\n"
     ]
    },
    {
     "data": {
      "text/markdown": [
       "# Results for 35_nell_sports_nell_finances"
      ],
      "text/plain": [
       "<IPython.core.display.Markdown object>"
      ]
     },
     "metadata": {},
     "output_type": "display_data"
    },
    {
     "data": {
      "text/markdown": [
       "## AUC ROC"
      ],
      "text/plain": [
       "<IPython.core.display.Markdown object>"
      ]
     },
     "metadata": {},
     "output_type": "display_data"
    },
    {
     "name": "stdout",
     "output_type": "stream",
     "text": [
      "Experiment 1\n",
      "Transfer: [0.862245, 0.734694, 0.826172]\n",
      "Transfer & Revision: [0.892857, 0.752551, 0.791016]\n",
      "\n",
      "\n",
      "Experiment 2\n",
      "Transfer: [0.887755, 0.727041, 0.8125]\n",
      "Transfer & Revision: [0.688776, 0.757653, 0.783203]\n",
      "\n",
      "\n",
      "Experiment 3\n",
      "Transfer: [0.867347, 0.732143, 0.835938]\n",
      "Transfer & Revision: [0.693878, 0.757653, 0.779297]\n",
      "\n",
      "\n",
      "Experiment 4\n",
      "Transfer: [0.887755, 0.772959, 0.822266]\n",
      "Transfer & Revision: [0.846939, 0.772959, 0.78125]\n",
      "\n",
      "\n",
      "Experiment 5\n",
      "Transfer: [0.877551, 0.744898, 0.837891]\n",
      "Transfer & Revision: [0.890306, 0.747449, 0.792969]\n",
      "\n",
      "\n"
     ]
    },
    {
     "data": {
      "text/markdown": [
       "## AUC PR"
      ],
      "text/plain": [
       "<IPython.core.display.Markdown object>"
      ]
     },
     "metadata": {},
     "output_type": "display_data"
    },
    {
     "name": "stdout",
     "output_type": "stream",
     "text": [
      "Experiment 1\n",
      "Transfer: [0.900833, 0.800689, 0.862693]\n",
      "Transfer & Revision: [0.906415, 0.814049, 0.829946]\n",
      "\n",
      "\n",
      "Experiment 2\n",
      "Transfer: [0.92413, 0.784141, 0.843928]\n",
      "Transfer & Revision: [0.640981, 0.816594, 0.828978]\n",
      "\n",
      "\n",
      "Experiment 3\n",
      "Transfer: [0.902755, 0.797153, 0.87097]\n",
      "Transfer & Revision: [0.623812, 0.816594, 0.827842]\n",
      "\n",
      "\n",
      "Experiment 4\n",
      "Transfer: [0.92413, 0.821066, 0.85735]\n",
      "Transfer & Revision: [0.863936, 0.821677, 0.827094]\n",
      "\n",
      "\n",
      "Experiment 5\n",
      "Transfer: [0.917126, 0.803852, 0.87021]\n",
      "Transfer & Revision: [0.904667, 0.81241, 0.835572]\n",
      "\n",
      "\n"
     ]
    },
    {
     "data": {
      "text/markdown": [
       "## CLL"
      ],
      "text/plain": [
       "<IPython.core.display.Markdown object>"
      ]
     },
     "metadata": {},
     "output_type": "display_data"
    },
    {
     "name": "stdout",
     "output_type": "stream",
     "text": [
      "Experiment 1\n",
      "Transfer: [-0.488776, -0.614781, -0.52214]\n",
      "Transfer & Revision: [-0.44446, -0.615206, -0.607873]\n",
      "\n",
      "\n",
      "Experiment 2\n",
      "Transfer: [-0.50099, -0.606887, -0.519845]\n",
      "Transfer & Revision: [-0.601835, -0.648288, -0.598125]\n",
      "\n",
      "\n",
      "Experiment 3\n",
      "Transfer: [-0.498813, -0.580657, -0.52685]\n",
      "Transfer & Revision: [-0.591794, -0.631567, -0.608535]\n",
      "\n",
      "\n",
      "Experiment 4\n",
      "Transfer: [-0.5024, -0.574276, -0.519674]\n",
      "Transfer & Revision: [-0.549115, -0.557803, -0.613404]\n",
      "\n",
      "\n",
      "Experiment 5\n",
      "Transfer: [-0.4637, -0.61643, -0.514701]\n",
      "Transfer & Revision: [-0.435644, -0.64043, -0.581713]\n",
      "\n",
      "\n"
     ]
    },
    {
     "data": {
      "text/markdown": [
       "## Recall"
      ],
      "text/plain": [
       "<IPython.core.display.Markdown object>"
      ]
     },
     "metadata": {},
     "output_type": "display_data"
    },
    {
     "name": "stdout",
     "output_type": "stream",
     "text": [
      "Experiment 1\n",
      "Transfer: [0.785714, 0.357143, 0.4375]\n",
      "Transfer & Revision: [0.928571, 0.5, 0.875]\n",
      "\n",
      "\n",
      "Experiment 2\n",
      "Transfer: [0.785714, 0.357143, 0.5]\n",
      "Transfer & Revision: [0.928571, 0.5, 0.75]\n",
      "\n",
      "\n",
      "Experiment 3\n",
      "Transfer: [0.785714, 0.357143, 0.4375]\n",
      "Transfer & Revision: [0.857143, 0.5, 0.75]\n",
      "\n",
      "\n",
      "Experiment 4\n",
      "Transfer: [0.785714, 0.357143, 0.4375]\n",
      "Transfer & Revision: [0.857143, 0.5, 0.875]\n",
      "\n",
      "\n",
      "Experiment 5\n",
      "Transfer: [0.571429, 0.357143, 0.4375]\n",
      "Transfer & Revision: [0.857143, 0.5, 0.8125]\n",
      "\n",
      "\n"
     ]
    },
    {
     "data": {
      "text/markdown": [
       "## F1"
      ],
      "text/plain": [
       "<IPython.core.display.Markdown object>"
      ]
     },
     "metadata": {},
     "output_type": "display_data"
    },
    {
     "name": "stdout",
     "output_type": "stream",
     "text": [
      "Experiment 1\n",
      "Transfer: [0.785714, 0.526316, 0.608696]\n",
      "Transfer & Revision: [0.8125, 0.636364, 0.717949]\n",
      "\n",
      "\n",
      "Experiment 2\n",
      "Transfer: [0.785714, 0.526316, 0.64]\n",
      "Transfer & Revision: [0.8125, 0.636364, 0.705882]\n",
      "\n",
      "\n",
      "Experiment 3\n",
      "Transfer: [0.785714, 0.526316, 0.608696]\n",
      "Transfer & Revision: [0.774194, 0.636364, 0.705882]\n",
      "\n",
      "\n",
      "Experiment 4\n",
      "Transfer: [0.785714, 0.526316, 0.608696]\n",
      "Transfer & Revision: [0.774194, 0.636364, 0.717949]\n",
      "\n",
      "\n",
      "Experiment 5\n",
      "Transfer: [0.727273, 0.526316, 0.608696]\n",
      "Transfer & Revision: [0.8, 0.636364, 0.742857]\n",
      "\n",
      "\n"
     ]
    },
    {
     "data": {
      "text/markdown": [
       "## Precision"
      ],
      "text/plain": [
       "<IPython.core.display.Markdown object>"
      ]
     },
     "metadata": {},
     "output_type": "display_data"
    },
    {
     "name": "stdout",
     "output_type": "stream",
     "text": [
      "Experiment 1\n",
      "Transfer: [0.785714, 1.0, 1.0]\n",
      "Transfer & Revision: [0.722222, 0.875, 0.608696]\n",
      "\n",
      "\n",
      "Experiment 2\n",
      "Transfer: [0.785714, 1.0, 0.888889]\n",
      "Transfer & Revision: [0.722222, 0.875, 0.666667]\n",
      "\n",
      "\n",
      "Experiment 3\n",
      "Transfer: [0.785714, 1.0, 1.0]\n",
      "Transfer & Revision: [0.705882, 0.875, 0.666667]\n",
      "\n",
      "\n",
      "Experiment 4\n",
      "Transfer: [0.785714, 1.0, 1.0]\n",
      "Transfer & Revision: [0.705882, 0.875, 0.608696]\n",
      "\n",
      "\n",
      "Experiment 5\n",
      "Transfer: [1.0, 1.0, 1.0]\n",
      "Transfer & Revision: [0.75, 0.875, 0.684211]\n",
      "\n",
      "\n"
     ]
    },
    {
     "data": {
      "text/markdown": [
       "## Learning and Revision time"
      ],
      "text/plain": [
       "<IPython.core.display.Markdown object>"
      ]
     },
     "metadata": {},
     "output_type": "display_data"
    },
    {
     "name": "stdout",
     "output_type": "stream",
     "text": [
      "Experiment 1\n",
      "Transfer: ['1.838 (2.4)', '2.588 (2.7)', '2.232 (2.6)']\n",
      "Transfer & Revision: ['5.3870000000000005 (2.4)', '6.969 (2.7)', '5.067 (2.6)']\n",
      "\n",
      "\n",
      "Experiment 2\n",
      "Transfer: ['2.484 (2.5)', '2.18 (2.8)', '1.937 (2.9)']\n",
      "Transfer & Revision: ['5.98 (2.5)', '5.772 (2.8)', '5.024 (2.9)']\n",
      "\n",
      "\n",
      "Experiment 3\n",
      "Transfer: ['2.455 (2.1)', '2.135 (2.7)', '2.743 (2.7)']\n",
      "Transfer & Revision: ['5.423 (2.1)', '6.379 (2.7)', '5.282 (2.7)']\n",
      "\n",
      "\n",
      "Experiment 4\n",
      "Transfer: ['2.818 (2.6)', '2.697 (2.7)', '1.886 (2.7)']\n",
      "Transfer & Revision: ['6.588 (2.6)', '6.282 (2.7)', '4.748 (2.7)']\n",
      "\n",
      "\n",
      "Experiment 5\n",
      "Transfer: ['2.795 (2.8)', '2.448 (2.8)', '1.874 (2.8)']\n",
      "Transfer & Revision: ['5.3740000000000006 (2.8)', '5.846 (2.8)', '4.274 (2.8)']\n",
      "\n",
      "\n"
     ]
    },
    {
     "data": {
      "text/markdown": [
       "## Inference time"
      ],
      "text/plain": [
       "<IPython.core.display.Markdown object>"
      ]
     },
     "metadata": {},
     "output_type": "display_data"
    },
    {
     "name": "stdout",
     "output_type": "stream",
     "text": [
      "Experiment 1\n",
      "Transfer: [0.998, 0.725, 0.788]\n",
      "Transfer & Revision: [0.986, 0.725, 0.734]\n",
      "\n",
      "\n",
      "Experiment 2\n",
      "Transfer: [0.834, 0.931, 0.905]\n",
      "Transfer & Revision: [0.815, 0.76, 0.867]\n",
      "\n",
      "\n",
      "Experiment 3\n",
      "Transfer: [0.925, 0.896, 0.849]\n",
      "Transfer & Revision: [0.752, 0.901, 1.079]\n",
      "\n",
      "\n",
      "Experiment 4\n",
      "Transfer: [0.854, 1.158, 0.812]\n",
      "Transfer & Revision: [0.786, 1.083, 1.242]\n",
      "\n",
      "\n",
      "Experiment 5\n",
      "Transfer: [0.735, 0.803, 0.87]\n",
      "Transfer & Revision: [0.921, 0.754, 0.829]\n",
      "\n",
      "\n"
     ]
    },
    {
     "data": {
      "text/markdown": [
       "# Results for 37_nell_sports_nell_finances"
      ],
      "text/plain": [
       "<IPython.core.display.Markdown object>"
      ]
     },
     "metadata": {},
     "output_type": "display_data"
    },
    {
     "data": {
      "text/markdown": [
       "## AUC ROC"
      ],
      "text/plain": [
       "<IPython.core.display.Markdown object>"
      ]
     },
     "metadata": {},
     "output_type": "display_data"
    },
    {
     "name": "stdout",
     "output_type": "stream",
     "text": [
      "Experiment 1\n",
      "Transfer: [0.790013, 0.811631, 0.797417]\n",
      "Transfer & Revision: [0.791472, 0.875473, 0.858484]\n",
      "\n",
      "\n",
      "Experiment 2\n",
      "Transfer: [0.783618, 0.807473, 0.77671]\n",
      "Transfer & Revision: [0.832522, 0.864604, 0.840303]\n",
      "\n",
      "\n",
      "Experiment 3\n",
      "Transfer: [0.786301, 0.807315, 0.801317]\n",
      "Transfer & Revision: [0.846197, 0.860374, 0.868918]\n",
      "\n",
      "\n",
      "Experiment 4\n",
      "Transfer: [0.807673, 0.778559, 0.770653]\n",
      "Transfer & Revision: [0.866274, 0.861022, 0.845224]\n",
      "\n",
      "\n",
      "Experiment 5\n",
      "Transfer: [0.80632, 0.798719, 0.791307]\n",
      "Transfer & Revision: [0.810706, 0.8562, 0.828966]\n",
      "\n",
      "\n"
     ]
    },
    {
     "data": {
      "text/markdown": [
       "## AUC PR"
      ],
      "text/plain": [
       "<IPython.core.display.Markdown object>"
      ]
     },
     "metadata": {},
     "output_type": "display_data"
    },
    {
     "name": "stdout",
     "output_type": "stream",
     "text": [
      "Experiment 1\n",
      "Transfer: [0.795242, 0.814382, 0.809732]\n",
      "Transfer & Revision: [0.812512, 0.86418, 0.859159]\n",
      "\n",
      "\n",
      "Experiment 2\n",
      "Transfer: [0.783028, 0.792167, 0.774733]\n",
      "Transfer & Revision: [0.833459, 0.851633, 0.840615]\n",
      "\n",
      "\n",
      "Experiment 3\n",
      "Transfer: [0.7792, 0.786678, 0.78462]\n",
      "Transfer & Revision: [0.841942, 0.841129, 0.870162]\n",
      "\n",
      "\n",
      "Experiment 4\n",
      "Transfer: [0.809329, 0.77928, 0.781813]\n",
      "Transfer & Revision: [0.847396, 0.853979, 0.840654]\n",
      "\n",
      "\n",
      "Experiment 5\n",
      "Transfer: [0.795954, 0.789342, 0.784078]\n",
      "Transfer & Revision: [0.803357, 0.853191, 0.826243]\n",
      "\n",
      "\n"
     ]
    },
    {
     "data": {
      "text/markdown": [
       "## CLL"
      ],
      "text/plain": [
       "<IPython.core.display.Markdown object>"
      ]
     },
     "metadata": {},
     "output_type": "display_data"
    },
    {
     "name": "stdout",
     "output_type": "stream",
     "text": [
      "Experiment 1\n",
      "Transfer: [-0.550703, -0.542178, -0.55082]\n",
      "Transfer & Revision: [-0.561156, -0.468345, -0.487147]\n",
      "\n",
      "\n",
      "Experiment 2\n",
      "Transfer: [-0.564912, -0.535752, -0.575315]\n",
      "Transfer & Revision: [-0.537238, -0.485644, -0.511499]\n",
      "\n",
      "\n",
      "Experiment 3\n",
      "Transfer: [-0.560517, -0.537517, -0.546245]\n",
      "Transfer & Revision: [-0.505241, -0.472739, -0.471654]\n",
      "\n",
      "\n",
      "Experiment 4\n",
      "Transfer: [-0.54815, -0.558035, -0.563114]\n",
      "Transfer & Revision: [-0.482636, -0.49538, -0.494892]\n",
      "\n",
      "\n",
      "Experiment 5\n",
      "Transfer: [-0.549128, -0.548665, -0.559306]\n",
      "Transfer & Revision: [-0.547962, -0.512894, -0.533696]\n",
      "\n",
      "\n"
     ]
    },
    {
     "data": {
      "text/markdown": [
       "## Recall"
      ],
      "text/plain": [
       "<IPython.core.display.Markdown object>"
      ]
     },
     "metadata": {},
     "output_type": "display_data"
    },
    {
     "name": "stdout",
     "output_type": "stream",
     "text": [
      "Experiment 1\n",
      "Transfer: [0.420849, 0.542471, 0.846154]\n",
      "Transfer & Revision: [0.515444, 0.65444, 0.630769]\n",
      "\n",
      "\n",
      "Experiment 2\n",
      "Transfer: [0.899614, 0.857143, 0.894231]\n",
      "Transfer & Revision: [0.849421, 0.861004, 0.819231]\n",
      "\n",
      "\n",
      "Experiment 3\n",
      "Transfer: [0.517375, 0.826255, 0.85]\n",
      "Transfer & Revision: [0.640927, 0.862934, 0.859615]\n",
      "\n",
      "\n",
      "Experiment 4\n",
      "Transfer: [0.418919, 0.416988, 0.398077]\n",
      "Transfer & Revision: [0.664093, 0.65444, 0.623077]\n",
      "\n",
      "\n",
      "Experiment 5\n",
      "Transfer: [0.710425, 0.720077, 0.709615]\n",
      "Transfer & Revision: [0.745174, 0.766409, 0.753846]\n",
      "\n",
      "\n"
     ]
    },
    {
     "data": {
      "text/markdown": [
       "## F1"
      ],
      "text/plain": [
       "<IPython.core.display.Markdown object>"
      ]
     },
     "metadata": {},
     "output_type": "display_data"
    },
    {
     "name": "stdout",
     "output_type": "stream",
     "text": [
      "Experiment 1\n",
      "Transfer: [0.567708, 0.648961, 0.758621]\n",
      "Transfer & Revision: [0.653611, 0.747519, 0.732961]\n",
      "\n",
      "\n",
      "Experiment 2\n",
      "Transfer: [0.742038, 0.777583, 0.735759]\n",
      "Transfer & Revision: [0.756664, 0.810173, 0.755989]\n",
      "\n",
      "\n",
      "Experiment 3\n",
      "Transfer: [0.631331, 0.760889, 0.763385]\n",
      "Transfer & Revision: [0.742729, 0.798928, 0.803235]\n",
      "\n",
      "\n",
      "Experiment 4\n",
      "Transfer: [0.56, 0.563969, 0.549072]\n",
      "Transfer & Revision: [0.759382, 0.749171, 0.730552]\n",
      "\n",
      "\n",
      "Experiment 5\n",
      "Transfer: [0.730884, 0.73353, 0.722821]\n",
      "Transfer & Revision: [0.745174, 0.786918, 0.771654]\n",
      "\n",
      "\n"
     ]
    },
    {
     "data": {
      "text/markdown": [
       "## Precision"
      ],
      "text/plain": [
       "<IPython.core.display.Markdown object>"
      ]
     },
     "metadata": {},
     "output_type": "display_data"
    },
    {
     "name": "stdout",
     "output_type": "stream",
     "text": [
      "Experiment 1\n",
      "Transfer: [0.872, 0.807471, 0.6875]\n",
      "Transfer & Revision: [0.892977, 0.871465, 0.874667]\n",
      "\n",
      "\n",
      "Experiment 2\n",
      "Transfer: [0.631436, 0.711538, 0.625]\n",
      "Transfer & Revision: [0.682171, 0.765009, 0.701812]\n",
      "\n",
      "\n",
      "Experiment 3\n",
      "Transfer: [0.809668, 0.705107, 0.69279]\n",
      "Transfer & Revision: [0.882979, 0.74376, 0.753794]\n",
      "\n",
      "\n",
      "Experiment 4\n",
      "Transfer: [0.844358, 0.870968, 0.884615]\n",
      "Transfer & Revision: [0.886598, 0.875969, 0.882834]\n",
      "\n",
      "\n",
      "Experiment 5\n",
      "Transfer: [0.752556, 0.747495, 0.736527]\n",
      "Transfer & Revision: [0.745174, 0.808554, 0.790323]\n",
      "\n",
      "\n"
     ]
    },
    {
     "data": {
      "text/markdown": [
       "## Learning and Revision time"
      ],
      "text/plain": [
       "<IPython.core.display.Markdown object>"
      ]
     },
     "metadata": {},
     "output_type": "display_data"
    },
    {
     "name": "stdout",
     "output_type": "stream",
     "text": [
      "Experiment 1\n",
      "Transfer: ['9.374 (3.0)', '11.403 (3.7)', '39.425 (3.8)']\n",
      "Transfer & Revision: ['22.414 (3.0)', '34.44 (3.7)', '56.068999999999996 (3.8)']\n",
      "\n",
      "\n",
      "Experiment 2\n",
      "Transfer: ['13.079 (3.2)', '10.581 (3.3)', '11.276 (3.7)']\n",
      "Transfer & Revision: ['30.962 (3.2)', '25.368000000000002 (3.3)', '26.729 (3.7)']\n",
      "\n",
      "\n",
      "Experiment 3\n",
      "Transfer: ['10.982 (3.0)', '683.122 (3.7)', '15.38 (3.2)']\n",
      "Transfer & Revision: ['30.031 (3.0)', '695.968 (3.7)', '31.726 (3.2)']\n",
      "\n",
      "\n",
      "Experiment 4\n",
      "Transfer: ['14.12 (3.7)', '9.891 (3.3)', '10.064 (3.5)']\n",
      "Transfer & Revision: ['27.258 (3.7)', '26.357 (3.3)', '37.175 (3.5)']\n",
      "\n",
      "\n",
      "Experiment 5\n",
      "Transfer: ['548.322 (3.6)', '46.219 (3.6)', '13.344 (4.1)']\n",
      "Transfer & Revision: ['563.111 (3.6)', '63.782 (3.6)', '30.772 (4.1)']\n",
      "\n",
      "\n"
     ]
    },
    {
     "data": {
      "text/markdown": [
       "## Inference time"
      ],
      "text/plain": [
       "<IPython.core.display.Markdown object>"
      ]
     },
     "metadata": {},
     "output_type": "display_data"
    },
    {
     "name": "stdout",
     "output_type": "stream",
     "text": [
      "Experiment 1\n",
      "Transfer: [2.902, 3.116, 3.094]\n",
      "Transfer & Revision: [1.642, 3.229, 2.661]\n",
      "\n",
      "\n",
      "Experiment 2\n",
      "Transfer: [3.281, 3.25, 2.551]\n",
      "Transfer & Revision: [2.507, 2.64, 2.626]\n",
      "\n",
      "\n",
      "Experiment 3\n",
      "Transfer: [2.56, 3.333, 3.419]\n",
      "Transfer & Revision: [2.434, 2.553, 2.592]\n",
      "\n",
      "\n",
      "Experiment 4\n",
      "Transfer: [3.334, 2.868, 2.205]\n",
      "Transfer & Revision: [2.479, 2.396, 2.576]\n",
      "\n",
      "\n",
      "Experiment 5\n",
      "Transfer: [3.629, 3.161, 3.428]\n",
      "Transfer & Revision: [2.567, 2.621, 2.162]\n",
      "\n",
      "\n"
     ]
    },
    {
     "data": {
      "text/markdown": [
       "# Results for 46_nell_finances_nell_sports"
      ],
      "text/plain": [
       "<IPython.core.display.Markdown object>"
      ]
     },
     "metadata": {},
     "output_type": "display_data"
    },
    {
     "data": {
      "text/markdown": [
       "## AUC ROC"
      ],
      "text/plain": [
       "<IPython.core.display.Markdown object>"
      ]
     },
     "metadata": {},
     "output_type": "display_data"
    },
    {
     "name": "stdout",
     "output_type": "stream",
     "text": [
      "Experiment 1\n",
      "Transfer: [0.5, 0.5, 0.5]\n",
      "Transfer & Revision: [0.888215, 0.877805, 0.902715]\n",
      "\n",
      "\n",
      "Experiment 2\n",
      "Transfer: [0.5, 0.5, 0.5]\n",
      "Transfer & Revision: [0.836103, 0.833757, 0.830375]\n",
      "\n",
      "\n",
      "Experiment 3\n",
      "Transfer: [0.5, 0.5, 0.5]\n",
      "Transfer & Revision: [0.876585, 0.834933, 0.865481]\n",
      "\n",
      "\n",
      "Experiment 4\n",
      "Transfer: [0.5, 0.5, 0.5]\n",
      "Transfer & Revision: [0.865121, 0.834359, 0.859545]\n",
      "\n",
      "\n"
     ]
    },
    {
     "data": {
      "text/markdown": [
       "## AUC PR"
      ],
      "text/plain": [
       "<IPython.core.display.Markdown object>"
      ]
     },
     "metadata": {},
     "output_type": "display_data"
    },
    {
     "name": "stdout",
     "output_type": "stream",
     "text": [
      "Experiment 1\n",
      "Transfer: [0.5, 0.5, 0.5]\n",
      "Transfer & Revision: [0.879713, 0.858463, 0.888001]\n",
      "\n",
      "\n",
      "Experiment 2\n",
      "Transfer: [0.5, 0.5, 0.5]\n",
      "Transfer & Revision: [0.798429, 0.80618, 0.788407]\n",
      "\n",
      "\n",
      "Experiment 3\n",
      "Transfer: [0.5, 0.5, 0.5]\n",
      "Transfer & Revision: [0.843984, 0.806958, 0.838283]\n",
      "\n",
      "\n",
      "Experiment 4\n",
      "Transfer: [0.5, 0.5, 0.5]\n",
      "Transfer & Revision: [0.850536, 0.793697, 0.84505]\n",
      "\n",
      "\n"
     ]
    },
    {
     "data": {
      "text/markdown": [
       "## CLL"
      ],
      "text/plain": [
       "<IPython.core.display.Markdown object>"
      ]
     },
     "metadata": {},
     "output_type": "display_data"
    },
    {
     "name": "stdout",
     "output_type": "stream",
     "text": [
      "Experiment 1\n",
      "Transfer: [-0.696531, -0.695158, -0.695634]\n",
      "Transfer & Revision: [-0.471047, -0.485954, -0.48041]\n",
      "\n",
      "\n",
      "Experiment 2\n",
      "Transfer: [-0.695451, -0.6952, -0.695093]\n",
      "Transfer & Revision: [-0.546737, -0.540123, -0.548391]\n",
      "\n",
      "\n",
      "Experiment 3\n",
      "Transfer: [-0.695726, -0.695132, -0.69535]\n",
      "Transfer & Revision: [-0.495944, -0.519632, -0.498926]\n",
      "\n",
      "\n",
      "Experiment 4\n",
      "Transfer: [-0.695653, -0.69515, -0.69508]\n",
      "Transfer & Revision: [-0.503397, -0.541395, -0.50858]\n",
      "\n",
      "\n"
     ]
    },
    {
     "data": {
      "text/markdown": [
       "## Recall"
      ],
      "text/plain": [
       "<IPython.core.display.Markdown object>"
      ]
     },
     "metadata": {},
     "output_type": "display_data"
    },
    {
     "name": "stdout",
     "output_type": "stream",
     "text": [
      "Experiment 1\n",
      "Transfer: [0.0, 0.0, 0.0]\n",
      "Transfer & Revision: [0.837121, 0.799242, 0.819549]\n",
      "\n",
      "\n",
      "Experiment 2\n",
      "Transfer: [0.0, 0.0, 0.0]\n",
      "Transfer & Revision: [0.859848, 0.878788, 0.834586]\n",
      "\n",
      "\n",
      "Experiment 3\n",
      "Transfer: [0.0, 0.0, 0.0]\n",
      "Transfer & Revision: [0.863636, 0.954545, 0.87218]\n",
      "\n",
      "\n",
      "Experiment 4\n",
      "Transfer: [0.0, 0.0, 0.0]\n",
      "Transfer & Revision: [0.844697, 0.912879, 0.845865]\n",
      "\n",
      "\n"
     ]
    },
    {
     "data": {
      "text/markdown": [
       "## F1"
      ],
      "text/plain": [
       "<IPython.core.display.Markdown object>"
      ]
     },
     "metadata": {},
     "output_type": "display_data"
    },
    {
     "name": "stdout",
     "output_type": "stream",
     "text": [
      "Experiment 1\n",
      "Transfer: [nan, nan, nan]\n",
      "Transfer & Revision: [0.815498, 0.784387, 0.821092]\n",
      "\n",
      "\n",
      "Experiment 2\n",
      "Transfer: [nan, nan, nan]\n",
      "Transfer & Revision: [0.80212, 0.802768, 0.778947]\n",
      "\n",
      "\n",
      "Experiment 3\n",
      "Transfer: [nan, nan, nan]\n",
      "Transfer & Revision: [0.823105, 0.82623, 0.809773]\n",
      "\n",
      "\n",
      "Experiment 4\n",
      "Transfer: [nan, nan, nan]\n",
      "Transfer & Revision: [0.812386, 0.815567, 0.800712]\n",
      "\n",
      "\n"
     ]
    },
    {
     "data": {
      "text/markdown": [
       "## Precision"
      ],
      "text/plain": [
       "<IPython.core.display.Markdown object>"
      ]
     },
     "metadata": {},
     "output_type": "display_data"
    },
    {
     "name": "stdout",
     "output_type": "stream",
     "text": [
      "Experiment 1\n",
      "Transfer: [nan, nan, nan]\n",
      "Transfer & Revision: [0.794964, 0.770073, 0.822642]\n",
      "\n",
      "\n",
      "Experiment 2\n",
      "Transfer: [nan, nan, nan]\n",
      "Transfer & Revision: [0.751656, 0.738854, 0.730263]\n",
      "\n",
      "\n",
      "Experiment 3\n",
      "Transfer: [nan, nan, nan]\n",
      "Transfer & Revision: [0.786207, 0.728324, 0.7557]\n",
      "\n",
      "\n",
      "Experiment 4\n",
      "Transfer: [nan, nan, nan]\n",
      "Transfer & Revision: [0.782456, 0.737003, 0.760135]\n",
      "\n",
      "\n"
     ]
    },
    {
     "data": {
      "text/markdown": [
       "## Learning and Revision time"
      ],
      "text/plain": [
       "<IPython.core.display.Markdown object>"
      ]
     },
     "metadata": {},
     "output_type": "display_data"
    },
    {
     "name": "stdout",
     "output_type": "stream",
     "text": [
      "Experiment 1\n",
      "Transfer: ['218.474 (5.0)', '149.001 (5.4)', '294.356 (5.0)']\n",
      "Transfer & Revision: ['520.444 (5.0)', '484.26099999999997 (5.4)', '533.884 (5.0)']\n",
      "\n",
      "\n",
      "Experiment 2\n",
      "Transfer: ['140.715 (4.7)', '60.878 (4.7)', '219.97 (4.4)']\n",
      "Transfer & Revision: ['318.77099999999996 (4.7)', '185.80599999999998 (4.7)', '259.682 (4.4)']\n",
      "\n",
      "\n",
      "Experiment 3\n",
      "Transfer: ['146.833 (4.2)', '133.692 (4.3)', '198.756 (4.3)']\n",
      "Transfer & Revision: ['423.624 (4.2)', '766.0600000000001 (4.3)', '521.117 (4.3)']\n",
      "\n",
      "\n",
      "Experiment 4\n",
      "Transfer: ['171.942 (5.5)', '120.702 (5.1)', '2.776 (5.5)']\n",
      "Transfer & Revision: ['369.966 (5.5)', '220.833 (5.1)', '235.195 (5.5)']\n",
      "\n",
      "\n"
     ]
    },
    {
     "data": {
      "text/markdown": [
       "## Inference time"
      ],
      "text/plain": [
       "<IPython.core.display.Markdown object>"
      ]
     },
     "metadata": {},
     "output_type": "display_data"
    },
    {
     "name": "stdout",
     "output_type": "stream",
     "text": [
      "Experiment 1\n",
      "Transfer: [1.083, 1.239, 1.5]\n",
      "Transfer & Revision: [8.099, 6.571, 5.239]\n",
      "\n",
      "\n",
      "Experiment 2\n",
      "Transfer: [1.446, 1.268, 1.402]\n",
      "Transfer & Revision: [1.785, 13.712, 1.208]\n",
      "\n",
      "\n",
      "Experiment 3\n",
      "Transfer: [1.253, 1.264, 1.23]\n",
      "Transfer & Revision: [2.986, 3.211, 3.406]\n",
      "\n",
      "\n",
      "Experiment 4\n",
      "Transfer: [1.164, 1.181, 1.202]\n",
      "Transfer & Revision: [5.773, 2.101, 2.84]\n",
      "\n",
      "\n"
     ]
    },
    {
     "data": {
      "text/markdown": [
       "# Results for 47_yeast_facebook"
      ],
      "text/plain": [
       "<IPython.core.display.Markdown object>"
      ]
     },
     "metadata": {},
     "output_type": "display_data"
    },
    {
     "data": {
      "text/markdown": [
       "## AUC ROC"
      ],
      "text/plain": [
       "<IPython.core.display.Markdown object>"
      ]
     },
     "metadata": {},
     "output_type": "display_data"
    },
    {
     "name": "stdout",
     "output_type": "stream",
     "text": [
      "Experiment 1\n",
      "Transfer: [0.613644, 0.498635, 0.629922, 0.589506, 0.481897]\n",
      "Transfer & Revision: [0.629512, 0.580577, 0.522941, 0.585753, 0.528781]\n",
      "\n",
      "\n",
      "Experiment 2\n",
      "Transfer: [0.62106, 0.609038, 0.665333, 0.563994, 0.525531]\n",
      "Transfer & Revision: [0.632327, 0.583287, 0.610776, 0.607819, 0.524877]\n",
      "\n",
      "\n",
      "Experiment 3\n",
      "Transfer: [0.51816, 0.616064, 0.66202, 0.622739, 0.456416]\n",
      "Transfer & Revision: [0.628321, 0.581318, 0.583164, 0.6272, 0.531367]\n",
      "\n",
      "\n",
      "Experiment 4\n",
      "Transfer: [0.50237, 0.608988, 0.661781, 0.503031, 0.477839]\n",
      "Transfer & Revision: [0.632158, 0.571539, 0.536294, 0.602686, 0.530057]\n",
      "\n",
      "\n",
      "Experiment 5\n",
      "Transfer: [0.594232, 0.604567, 0.666826, 0.511603, 0.425795]\n",
      "Transfer & Revision: [0.630814, 0.578059, 0.585453, 0.610142, 0.510311]\n",
      "\n",
      "\n"
     ]
    },
    {
     "data": {
      "text/markdown": [
       "## AUC PR"
      ],
      "text/plain": [
       "<IPython.core.display.Markdown object>"
      ]
     },
     "metadata": {},
     "output_type": "display_data"
    },
    {
     "name": "stdout",
     "output_type": "stream",
     "text": [
      "Experiment 1\n",
      "Transfer: [0.602007, 0.514284, 0.597577, 0.585388, 0.517612]\n",
      "Transfer & Revision: [0.61036, 0.576365, 0.537799, 0.592008, 0.531226]\n",
      "\n",
      "\n",
      "Experiment 2\n",
      "Transfer: [0.598877, 0.588362, 0.62361, 0.561433, 0.504599]\n",
      "Transfer & Revision: [0.608971, 0.577827, 0.588647, 0.60154, 0.518742]\n",
      "\n",
      "\n",
      "Experiment 3\n",
      "Transfer: [0.5126, 0.604365, 0.621339, 0.60489, 0.492643]\n",
      "Transfer & Revision: [0.609899, 0.580218, 0.575505, 0.609674, 0.540768]\n",
      "\n",
      "\n",
      "Experiment 4\n",
      "Transfer: [0.50437, 0.59905, 0.623882, 0.50122, 0.51108]\n",
      "Transfer & Revision: [0.610686, 0.565375, 0.539564, 0.59418, 0.526653]\n",
      "\n",
      "\n",
      "Experiment 5\n",
      "Transfer: [0.591756, 0.584326, 0.64139, 0.512096, 0.461784]\n",
      "Transfer & Revision: [0.611299, 0.568898, 0.587276, 0.598884, 0.521483]\n",
      "\n",
      "\n"
     ]
    },
    {
     "data": {
      "text/markdown": [
       "## CLL"
      ],
      "text/plain": [
       "<IPython.core.display.Markdown object>"
      ]
     },
     "metadata": {},
     "output_type": "display_data"
    },
    {
     "name": "stdout",
     "output_type": "stream",
     "text": [
      "Experiment 1\n",
      "Transfer: [-0.68485, -0.69454, -0.672177, -0.680462, -0.715242]\n",
      "Transfer & Revision: [-0.679852, -0.7005, -0.740706, -0.693294, -0.747584]\n",
      "\n",
      "\n",
      "Experiment 2\n",
      "Transfer: [-0.686858, -0.681048, -0.656918, -0.694385, -0.714186]\n",
      "Transfer & Revision: [-0.681328, -0.701981, -0.683677, -0.681523, -0.754161]\n",
      "\n",
      "\n",
      "Experiment 3\n",
      "Transfer: [-0.69901, -0.674826, -0.660754, -0.675482, -0.723295]\n",
      "Transfer & Revision: [-0.68112, -0.700504, -0.700474, -0.672758, -0.743822]\n",
      "\n",
      "\n",
      "Experiment 4\n",
      "Transfer: [-0.69952, -0.67369, -0.66019, -0.701754, -0.72837]\n",
      "Transfer & Revision: [-0.67924, -0.703643, -0.727175, -0.682743, -0.75702]\n",
      "\n",
      "\n",
      "Experiment 5\n",
      "Transfer: [-0.688324, -0.679054, -0.662956, -0.698749, -0.734169]\n",
      "Transfer & Revision: [-0.680803, -0.696217, -0.700057, -0.6773, -0.754185]\n",
      "\n",
      "\n"
     ]
    },
    {
     "data": {
      "text/markdown": [
       "## Recall"
      ],
      "text/plain": [
       "<IPython.core.display.Markdown object>"
      ]
     },
     "metadata": {},
     "output_type": "display_data"
    },
    {
     "name": "stdout",
     "output_type": "stream",
     "text": [
      "Experiment 1\n",
      "Transfer: [0.249137, 0.233609, 0.410761, 0.351929, 0.263441]\n",
      "Transfer & Revision: [0.335458, 0.62176, 0.2043, 0.391503, 0.378462]\n",
      "\n",
      "\n",
      "Experiment 2\n",
      "Transfer: [0.217663, 0.247441, 0.508535, 0.348188, 0.11274]\n",
      "Transfer & Revision: [0.266799, 0.662165, 0.299049, 0.430579, 0.342375]\n",
      "\n",
      "\n",
      "Experiment 3\n",
      "Transfer: [0.017795, 0.350904, 0.444793, 0.37845, 0.139133]\n",
      "Transfer & Revision: [0.30093, 0.658353, 0.240493, 0.497256, 0.335533]\n",
      "\n",
      "\n",
      "Experiment 4\n",
      "Transfer: [0.048207, 0.341756, 0.439499, 0.27569, 0.188661]\n",
      "Transfer & Revision: [0.287915, 0.63973, 0.19274, 0.438394, 0.283643]\n",
      "\n",
      "\n",
      "Experiment 5\n",
      "Transfer: [0.222444, 0.343607, 0.437338, 0.389591, 0.091805]\n",
      "Transfer & Revision: [0.29575, 0.665868, 0.28306, 0.452611, 0.243728]\n",
      "\n",
      "\n"
     ]
    },
    {
     "data": {
      "text/markdown": [
       "## F1"
      ],
      "text/plain": [
       "<IPython.core.display.Markdown object>"
      ]
     },
     "metadata": {},
     "output_type": "display_data"
    },
    {
     "name": "stdout",
     "output_type": "stream",
     "text": [
      "Experiment 1\n",
      "Transfer: [0.363813, 0.320341, 0.503143, 0.454233, 0.340188]\n",
      "Transfer & Revision: [0.443119, 0.58425, 0.303434, 0.474411, 0.440797]\n",
      "\n",
      "\n",
      "Experiment 2\n",
      "Transfer: [0.327964, 0.357626, 0.574199, 0.437366, 0.180396]\n",
      "Transfer & Revision: [0.381251, 0.599842, 0.406999, 0.501792, 0.415255]\n",
      "\n",
      "\n",
      "Experiment 3\n",
      "Transfer: [0.034324, 0.454315, 0.536627, 0.475802, 0.213981]\n",
      "Transfer & Revision: [0.409765, 0.603595, 0.346055, 0.547059, 0.413098]\n",
      "\n",
      "\n",
      "Experiment 4\n",
      "Transfer: [0.087893, 0.447136, 0.532008, 0.357154, 0.276125]\n",
      "Transfer & Revision: [0.397798, 0.590411, 0.289634, 0.502214, 0.371493]\n",
      "\n",
      "\n",
      "Experiment 5\n",
      "Transfer: [0.33188, 0.447708, 0.531164, 0.437862, 0.14939]\n",
      "Transfer & Revision: [0.407428, 0.604808, 0.392069, 0.515213, 0.329479]\n",
      "\n",
      "\n"
     ]
    },
    {
     "data": {
      "text/markdown": [
       "## Precision"
      ],
      "text/plain": [
       "<IPython.core.display.Markdown object>"
      ]
     },
     "metadata": {},
     "output_type": "display_data"
    },
    {
     "name": "stdout",
     "output_type": "stream",
     "text": [
      "Experiment 1\n",
      "Transfer: [0.674093, 0.509501, 0.649138, 0.640393, 0.480036]\n",
      "Transfer & Revision: [0.652545, 0.551009, 0.589464, 0.601866, 0.527715]\n",
      "\n",
      "\n",
      "Experiment 2\n",
      "Transfer: [0.664909, 0.644722, 0.659336, 0.587955, 0.451108]\n",
      "Transfer & Revision: [0.667664, 0.548242, 0.636908, 0.601231, 0.527551]\n",
      "\n",
      "\n",
      "Experiment 3\n",
      "Transfer: [0.482014, 0.644142, 0.676248, 0.640585, 0.463124]\n",
      "Transfer & Revision: [0.641926, 0.557246, 0.616791, 0.607949, 0.537308]\n",
      "\n",
      "\n",
      "Experiment 4\n",
      "Transfer: [0.49726, 0.646477, 0.673845, 0.506956, 0.514781]\n",
      "Transfer & Revision: [0.643323, 0.548152, 0.582436, 0.587783, 0.538176]\n",
      "\n",
      "\n",
      "Experiment 5\n",
      "Transfer: [0.653276, 0.642305, 0.676245, 0.499787, 0.400782]\n",
      "Transfer & Revision: [0.654615, 0.554005, 0.637625, 0.597913, 0.508325]\n",
      "\n",
      "\n"
     ]
    },
    {
     "data": {
      "text/markdown": [
       "## Learning and Revision time"
      ],
      "text/plain": [
       "<IPython.core.display.Markdown object>"
      ]
     },
     "metadata": {},
     "output_type": "display_data"
    },
    {
     "name": "stdout",
     "output_type": "stream",
     "text": [
      "Experiment 1\n",
      "Transfer: ['153.948 (13.4)', '91.715 (13.2)', '57.165 (12.9)', '18.54 (11.8)', '8.546 (12.8)']\n",
      "Transfer & Revision: ['444.64599999999996 (13.4)', '288.236 (13.2)', '174.26399999999998 (12.9)', '39.138 (11.8)', '28.802 (12.8)']\n",
      "\n",
      "\n",
      "Experiment 2\n",
      "Transfer: ['169.18 (13.0)', '73.905 (13.2)', '87.298 (13.0)', '9.58 (12.9)', '23.962 (12.7)']\n",
      "Transfer & Revision: ['429.44 (13.0)', '239.27 (13.2)', '183.219 (13.0)', '28.595999999999997 (12.9)', '42.179 (12.7)']\n",
      "\n",
      "\n",
      "Experiment 3\n",
      "Transfer: ['177.398 (13.3)', '100.45 (11.9)', '70.011 (12.9)', '20.161 (13.2)', '9.381 (12.8)']\n",
      "Transfer & Revision: ['477.84400000000005 (13.3)', '259.019 (11.9)', '188.639 (12.9)', '41.157 (13.2)', '26.487000000000002 (12.8)']\n",
      "\n",
      "\n",
      "Experiment 4\n",
      "Transfer: ['167.20600000000002 (12.6)', '96.031 (13.3)', '70.348 (12.9)', '11.239 (12.5)', '9.51 (11.5)']\n",
      "Transfer & Revision: ['428.98400000000004 (12.6)', '281.624 (13.3)', '180.244 (12.9)', '32.078 (12.5)', '26.442999999999998 (11.5)']\n",
      "\n",
      "\n",
      "Experiment 5\n",
      "Transfer: ['143.534 (12.6)', '102.104 (13.2)', '69.279 (11.7)', '10.272 (13.1)', '8.628 (12.1)']\n",
      "Transfer & Revision: ['442.498 (12.6)', '278.275 (13.2)', '181.867 (11.7)', '30.637999999999998 (13.1)', '24.946 (12.1)']\n",
      "\n",
      "\n"
     ]
    },
    {
     "data": {
      "text/markdown": [
       "## Inference time"
      ],
      "text/plain": [
       "<IPython.core.display.Markdown object>"
      ]
     },
     "metadata": {},
     "output_type": "display_data"
    },
    {
     "name": "stdout",
     "output_type": "stream",
     "text": [
      "Experiment 1\n",
      "Transfer: [3.143, 3.25, 4.215, 3.978, 5.1]\n",
      "Transfer & Revision: [3.322, 3.997, 3.815, 5.08, 5.031]\n",
      "\n",
      "\n",
      "Experiment 2\n",
      "Transfer: [3.387, 4.049, 4.124, 4.537, 5.004]\n",
      "Transfer & Revision: [3.942, 4.232, 3.928, 4.775, 5.41]\n",
      "\n",
      "\n",
      "Experiment 3\n",
      "Transfer: [3.219, 3.77, 4.366, 5.374, 5.264]\n",
      "Transfer & Revision: [3.86, 4.149, 4.202, 5.119, 5.696]\n",
      "\n",
      "\n",
      "Experiment 4\n",
      "Transfer: [2.654, 4.288, 4.755, 4.659, 5.553]\n",
      "Transfer & Revision: [3.628, 4.33, 4.013, 4.912, 5.981]\n",
      "\n",
      "\n",
      "Experiment 5\n",
      "Transfer: [3.253, 4.55, 3.803, 4.928, 5.244]\n",
      "Transfer & Revision: [3.452, 4.077, 4.332, 5.276, 5.261]\n",
      "\n",
      "\n"
     ]
    },
    {
     "data": {
      "text/markdown": [
       "# Results for 48_twitter_facebook"
      ],
      "text/plain": [
       "<IPython.core.display.Markdown object>"
      ]
     },
     "metadata": {},
     "output_type": "display_data"
    },
    {
     "data": {
      "text/markdown": [
       "## AUC ROC"
      ],
      "text/plain": [
       "<IPython.core.display.Markdown object>"
      ]
     },
     "metadata": {},
     "output_type": "display_data"
    },
    {
     "name": "stdout",
     "output_type": "stream",
     "text": [
      "Experiment 1\n",
      "Transfer: [0.500271, 0.592497, 0.63453, 0.505575, 0.534795]\n",
      "Transfer & Revision: [0.499768, 0.582912, 0.602387, 0.52177, 0.543955]\n",
      "\n",
      "\n",
      "Experiment 2\n",
      "Transfer: [0.500271, 0.510599, 0.63453, 0.505575, 0.534795]\n",
      "Transfer & Revision: [0.4993, 0.542626, 0.581435, 0.526726, 0.539699]\n",
      "\n",
      "\n",
      "Experiment 3\n",
      "Transfer: [0.500271, 0.592497, 0.63453, 0.505575, 0.534795]\n",
      "Transfer & Revision: [0.499303, 0.583487, 0.594033, 0.529142, 0.543812]\n",
      "\n",
      "\n",
      "Experiment 4\n",
      "Transfer: [0.500271, 0.592497, 0.63453, 0.505575, 0.534795]\n",
      "Transfer & Revision: [0.49981, 0.58063, 0.573117, 0.522174, 0.537808]\n",
      "\n",
      "\n",
      "Experiment 5\n",
      "Transfer: [0.500271, 0.592497, 0.63453, 0.505575, 0.534795]\n",
      "Transfer & Revision: [0.499204, 0.582268, 0.553711, 0.526414, 0.518115]\n",
      "\n",
      "\n"
     ]
    },
    {
     "data": {
      "text/markdown": [
       "## AUC PR"
      ],
      "text/plain": [
       "<IPython.core.display.Markdown object>"
      ]
     },
     "metadata": {},
     "output_type": "display_data"
    },
    {
     "name": "stdout",
     "output_type": "stream",
     "text": [
      "Experiment 1\n",
      "Transfer: [0.50392, 0.57919, 0.615746, 0.510323, 0.506051]\n",
      "Transfer & Revision: [0.502899, 0.569126, 0.59211, 0.52788, 0.546192]\n",
      "\n",
      "\n",
      "Experiment 2\n",
      "Transfer: [0.50392, 0.528481, 0.615746, 0.510323, 0.506051]\n",
      "Transfer & Revision: [0.501262, 0.559713, 0.578269, 0.532469, 0.542559]\n",
      "\n",
      "\n",
      "Experiment 3\n",
      "Transfer: [0.50392, 0.57919, 0.615746, 0.510323, 0.506051]\n",
      "Transfer & Revision: [0.501616, 0.569476, 0.592931, 0.533146, 0.550445]\n",
      "\n",
      "\n",
      "Experiment 4\n",
      "Transfer: [0.50392, 0.57919, 0.615746, 0.510323, 0.506051]\n",
      "Transfer & Revision: [0.502089, 0.5691, 0.584425, 0.529751, 0.543994]\n",
      "\n",
      "\n",
      "Experiment 5\n",
      "Transfer: [0.50392, 0.57919, 0.615746, 0.510323, 0.506051]\n",
      "Transfer & Revision: [0.500516, 0.565881, 0.565514, 0.532412, 0.515928]\n",
      "\n",
      "\n"
     ]
    },
    {
     "data": {
      "text/markdown": [
       "## CLL"
      ],
      "text/plain": [
       "<IPython.core.display.Markdown object>"
      ]
     },
     "metadata": {},
     "output_type": "display_data"
    },
    {
     "name": "stdout",
     "output_type": "stream",
     "text": [
      "Experiment 1\n",
      "Transfer: [-0.700774, -0.673524, -0.665963, -0.738207, -0.726451]\n",
      "Transfer & Revision: [-0.701289, -0.675938, -0.686485, -0.734459, -0.780453]\n",
      "\n",
      "\n",
      "Experiment 2\n",
      "Transfer: [-0.700773, -0.730438, -0.666001, -0.738207, -0.726129]\n",
      "Transfer & Revision: [-0.701625, -0.729518, -0.69634, -0.731869, -0.772001]\n",
      "\n",
      "\n",
      "Experiment 3\n",
      "Transfer: [-0.700773, -0.673543, -0.666001, -0.738207, -0.726129]\n",
      "Transfer & Revision: [-0.701423, -0.676177, -0.692142, -0.731994, -0.76161]\n",
      "\n",
      "\n",
      "Experiment 4\n",
      "Transfer: [-0.700773, -0.673543, -0.666001, -0.738207, -0.726129]\n",
      "Transfer & Revision: [-0.701491, -0.676851, -0.703831, -0.733837, -0.774382]\n",
      "\n",
      "\n",
      "Experiment 5\n",
      "Transfer: [-0.700772, -0.673473, -0.665859, -0.738207, -0.726598]\n",
      "Transfer & Revision: [-0.701431, -0.676399, -0.713624, -0.731186, -0.774048]\n",
      "\n",
      "\n"
     ]
    },
    {
     "data": {
      "text/markdown": [
       "## Recall"
      ],
      "text/plain": [
       "<IPython.core.display.Markdown object>"
      ]
     },
     "metadata": {},
     "output_type": "display_data"
    },
    {
     "name": "stdout",
     "output_type": "stream",
     "text": [
      "Experiment 1\n",
      "Transfer: [0.133466, 0.515574, 0.582325, 0.095943, 0.011404]\n",
      "Transfer & Revision: [0.126826, 0.482357, 0.308124, 0.368557, 0.365266]\n",
      "\n",
      "\n",
      "Experiment 2\n",
      "Transfer: [0.133466, 0.06981, 0.582325, 0.095943, 0.011404]\n",
      "Transfer & Revision: [0.124303, 0.219233, 0.257022, 0.339541, 0.395243]\n",
      "\n",
      "\n",
      "Experiment 3\n",
      "Transfer: [0.133466, 0.515574, 0.582325, 0.095943, 0.011404]\n",
      "Transfer & Revision: [0.126162, 0.486169, 0.290514, 0.355338, 0.367546]\n",
      "\n",
      "\n",
      "Experiment 4\n",
      "Transfer: [0.133466, 0.515574, 0.582325, 0.095943, 0.011404]\n",
      "Transfer & Revision: [0.125764, 0.476694, 0.288786, 0.34985, 0.348322]\n",
      "\n",
      "\n",
      "Experiment 5\n",
      "Transfer: [0.133466, 0.515574, 0.582325, 0.095943, 0.011404]\n",
      "Transfer & Revision: [0.122975, 0.481921, 0.205488, 0.391503, 0.318426]\n",
      "\n",
      "\n"
     ]
    },
    {
     "data": {
      "text/markdown": [
       "## F1"
      ],
      "text/plain": [
       "<IPython.core.display.Markdown object>"
      ]
     },
     "metadata": {},
     "output_type": "display_data"
    },
    {
     "name": "stdout",
     "output_type": "stream",
     "text": [
      "Experiment 1\n",
      "Transfer: [0.210493, 0.54467, 0.594923, 0.163723, 0.022282]\n",
      "Transfer & Revision: [0.201945, 0.522257, 0.414565, 0.439716, 0.437165]\n",
      "\n",
      "\n",
      "Experiment 2\n",
      "Transfer: [0.210493, 0.125896, 0.594923, 0.163723, 0.022282]\n",
      "Transfer & Revision: [0.198452, 0.324835, 0.365775, 0.423805, 0.456788]\n",
      "\n",
      "\n",
      "Experiment 3\n",
      "Transfer: [0.210493, 0.54467, 0.594923, 0.163723, 0.022282]\n",
      "Transfer & Revision: [0.200973, 0.524775, 0.398282, 0.434482, 0.440883]\n",
      "\n",
      "\n",
      "Experiment 4\n",
      "Transfer: [0.210493, 0.54467, 0.594923, 0.163723, 0.022282]\n",
      "Transfer & Revision: [0.200444, 0.518633, 0.395473, 0.426948, 0.4256]\n",
      "\n",
      "\n",
      "Experiment 5\n",
      "Transfer: [0.210493, 0.54467, 0.594923, 0.163723, 0.022282]\n",
      "Transfer & Revision: [0.196603, 0.522062, 0.310404, 0.451746, 0.394809]\n",
      "\n",
      "\n"
     ]
    },
    {
     "data": {
      "text/markdown": [
       "## Precision"
      ],
      "text/plain": [
       "<IPython.core.display.Markdown object>"
      ]
     },
     "metadata": {},
     "output_type": "display_data"
    },
    {
     "name": "stdout",
     "output_type": "stream",
     "text": [
      "Experiment 1\n",
      "Transfer: [0.497771, 0.577247, 0.608078, 0.557757, 0.482759]\n",
      "Transfer & Revision: [0.495332, 0.569353, 0.633356, 0.544929, 0.544307]\n",
      "\n",
      "\n",
      "Experiment 2\n",
      "Transfer: [0.497771, 0.64036, 0.608078, 0.557757, 0.482759]\n",
      "Transfer & Revision: [0.491855, 0.626712, 0.634062, 0.563699, 0.541035]\n",
      "\n",
      "\n",
      "Experiment 3\n",
      "Transfer: [0.497771, 0.577247, 0.608078, 0.557757, 0.482759]\n",
      "Transfer & Revision: [0.493763, 0.570042, 0.633153, 0.558985, 0.550781]\n",
      "\n",
      "\n",
      "Experiment 4\n",
      "Transfer: [0.497771, 0.577247, 0.608078, 0.557757, 0.482759]\n",
      "Transfer & Revision: [0.493486, 0.568663, 0.62717, 0.547631, 0.546943]\n",
      "\n",
      "\n",
      "Experiment 5\n",
      "Transfer: [0.497771, 0.577247, 0.608078, 0.557757, 0.482759]\n",
      "Transfer & Revision: [0.489947, 0.569498, 0.634211, 0.5339, 0.519399]\n",
      "\n",
      "\n"
     ]
    },
    {
     "data": {
      "text/markdown": [
       "## Learning and Revision time"
      ],
      "text/plain": [
       "<IPython.core.display.Markdown object>"
      ]
     },
     "metadata": {},
     "output_type": "display_data"
    },
    {
     "name": "stdout",
     "output_type": "stream",
     "text": [
      "Experiment 1\n",
      "Transfer: ['138.385 (2.1)', '113.232 (2.1)', '134.314 (2.0)', '9.691 (2.0)', '10.25 (2.0)']\n",
      "Transfer & Revision: ['295.303 (2.1)', '265.474 (2.1)', '256.693 (2.0)', '24.072000000000003 (2.0)', '24.966 (2.0)']\n",
      "\n",
      "\n",
      "Experiment 2\n",
      "Transfer: ['134.923 (1.9)', '92.289 (2.0)', '65.074 (2.0)', '10.207 (1.6)', '8.44 (2.0)']\n",
      "Transfer & Revision: ['291.879 (1.9)', '216.784 (2.0)', '181.875 (2.0)', '23.92 (1.6)', '24.686999999999998 (2.0)']\n",
      "\n",
      "\n",
      "Experiment 3\n",
      "Transfer: ['138.519 (1.7)', '91.056 (2.0)', '74.066 (2.1)', '8.452 (2.1)', '9.78 (2.0)']\n",
      "Transfer & Revision: ['302.91700000000003 (1.7)', '248.12900000000002 (2.0)', '244.218 (2.1)', '22.043 (2.1)', '25.921999999999997 (2.0)']\n",
      "\n",
      "\n",
      "Experiment 4\n",
      "Transfer: ['168.787 (1.7)', '112.833 (2.0)', '77.964 (2.0)', '10.359 (2.0)', '10.057 (2.0)']\n",
      "Transfer & Revision: ['359.475 (1.7)', '246.82 (2.0)', '219.385 (2.0)', '23.955 (2.0)', '25.348 (2.0)']\n",
      "\n",
      "\n",
      "Experiment 5\n",
      "Transfer: ['146.042 (1.6)', '118.017 (2.0)', '291.429 (2.1)', '11.224 (2.0)', '10.031 (2.0)']\n",
      "Transfer & Revision: ['340.913 (1.6)', '271.94 (2.0)', '418.68699999999995 (2.1)', '26.09 (2.0)', '26.595 (2.0)']\n",
      "\n",
      "\n"
     ]
    },
    {
     "data": {
      "text/markdown": [
       "## Inference time"
      ],
      "text/plain": [
       "<IPython.core.display.Markdown object>"
      ]
     },
     "metadata": {},
     "output_type": "display_data"
    },
    {
     "name": "stdout",
     "output_type": "stream",
     "text": [
      "Experiment 1\n",
      "Transfer: [3.186, 3.468, 3.618, 4.577, 4.57]\n",
      "Transfer & Revision: [2.901, 3.66, 4.154, 4.272, 5.37]\n",
      "\n",
      "\n",
      "Experiment 2\n",
      "Transfer: [3.013, 3.695, 3.608, 4.015, 4.55]\n",
      "Transfer & Revision: [3.709, 3.097, 4.888, 4.567, 5.852]\n",
      "\n",
      "\n",
      "Experiment 3\n",
      "Transfer: [2.799, 3.386, 3.648, 5.036, 4.847]\n",
      "Transfer & Revision: [3.235, 4.001, 4.116, 4.918, 4.999]\n",
      "\n",
      "\n",
      "Experiment 4\n",
      "Transfer: [3.492, 4.0, 3.788, 4.577, 4.692]\n",
      "Transfer & Revision: [2.943, 4.133, 4.024, 4.504, 5.111]\n",
      "\n",
      "\n",
      "Experiment 5\n",
      "Transfer: [3.525, 3.366, 3.549, 4.528, 4.483]\n",
      "Transfer & Revision: [3.665, 3.986, 3.918, 4.441, 4.989]\n",
      "\n",
      "\n"
     ]
    },
    {
     "data": {
      "text/markdown": [
       "# Results for 49_imdb_facebook"
      ],
      "text/plain": [
       "<IPython.core.display.Markdown object>"
      ]
     },
     "metadata": {},
     "output_type": "display_data"
    },
    {
     "data": {
      "text/markdown": [
       "## AUC ROC"
      ],
      "text/plain": [
       "<IPython.core.display.Markdown object>"
      ]
     },
     "metadata": {},
     "output_type": "display_data"
    },
    {
     "name": "stdout",
     "output_type": "stream",
     "text": [
      "Experiment 1\n",
      "Transfer: [0.501328, 0.513559, 0.612954, 0.49073, 0.403837]\n",
      "Transfer & Revision: [0.599738, 0.576968, 0.627754, 0.586496, 0.534832]\n",
      "\n",
      "\n",
      "Experiment 2\n",
      "Transfer: [0.501328, 0.513559, 0.612954, 0.49073, 0.403837]\n",
      "Transfer & Revision: [0.630088, 0.579398, 0.61467, 0.609393, 0.537985]\n",
      "\n",
      "\n",
      "Experiment 3\n",
      "Transfer: [0.501328, 0.513559, 0.612954, 0.49073, 0.403837]\n",
      "Transfer & Revision: [0.634623, 0.582073, 0.610773, 0.585264, 0.538563]\n",
      "\n",
      "\n",
      "Experiment 4\n",
      "Transfer: [0.501328, 0.513559, 0.612954, 0.49073, 0.403837]\n",
      "Transfer & Revision: [0.604591, 0.575125, 0.609779, 0.593874, 0.550207]\n",
      "\n",
      "\n",
      "Experiment 5\n",
      "Transfer: [0.501328, 0.513559, 0.612954, 0.49073, 0.403837]\n",
      "Transfer & Revision: [0.629489, 0.574288, 0.617487, 0.601157, 0.535687]\n",
      "\n",
      "\n"
     ]
    },
    {
     "data": {
      "text/markdown": [
       "## AUC PR"
      ],
      "text/plain": [
       "<IPython.core.display.Markdown object>"
      ]
     },
     "metadata": {},
     "output_type": "display_data"
    },
    {
     "name": "stdout",
     "output_type": "stream",
     "text": [
      "Experiment 1\n",
      "Transfer: [0.503659, 0.527191, 0.607231, 0.495297, 0.446843]\n",
      "Transfer & Revision: [0.585973, 0.563636, 0.610158, 0.588172, 0.534456]\n",
      "\n",
      "\n",
      "Experiment 2\n",
      "Transfer: [0.503659, 0.527191, 0.607231, 0.495297, 0.446843]\n",
      "Transfer & Revision: [0.611745, 0.56896, 0.603587, 0.605084, 0.538785]\n",
      "\n",
      "\n",
      "Experiment 3\n",
      "Transfer: [0.503659, 0.527191, 0.607231, 0.495297, 0.446843]\n",
      "Transfer & Revision: [0.616563, 0.574125, 0.59459, 0.590812, 0.539734]\n",
      "\n",
      "\n",
      "Experiment 4\n",
      "Transfer: [0.503659, 0.527191, 0.607231, 0.495297, 0.446843]\n",
      "Transfer & Revision: [0.58773, 0.570756, 0.590862, 0.594694, 0.554624]\n",
      "\n",
      "\n",
      "Experiment 5\n",
      "Transfer: [0.503659, 0.527191, 0.607231, 0.495297, 0.446843]\n",
      "Transfer & Revision: [0.609482, 0.563298, 0.603345, 0.597428, 0.541637]\n",
      "\n",
      "\n"
     ]
    },
    {
     "data": {
      "text/markdown": [
       "## CLL"
      ],
      "text/plain": [
       "<IPython.core.display.Markdown object>"
      ]
     },
     "metadata": {},
     "output_type": "display_data"
    },
    {
     "name": "stdout",
     "output_type": "stream",
     "text": [
      "Experiment 1\n",
      "Transfer: [-0.696518, -0.693232, -0.670814, -0.696961, -0.698521]\n",
      "Transfer & Revision: [-0.688415, -0.702454, -0.679138, -0.699404, -0.74138]\n",
      "\n",
      "\n",
      "Experiment 2\n",
      "Transfer: [-0.696518, -0.693232, -0.670814, -0.696961, -0.698521]\n",
      "Transfer & Revision: [-0.680369, -0.697486, -0.689794, -0.680613, -0.752347]\n",
      "\n",
      "\n",
      "Experiment 3\n",
      "Transfer: [-0.696518, -0.693232, -0.670814, -0.696961, -0.698521]\n",
      "Transfer & Revision: [-0.677283, -0.70044, -0.688012, -0.696846, -0.748996]\n",
      "\n",
      "\n",
      "Experiment 4\n",
      "Transfer: [-0.696518, -0.693232, -0.670814, -0.696961, -0.698521]\n",
      "Transfer & Revision: [-0.687021, -0.702246, -0.688146, -0.685677, -0.725569]\n",
      "\n",
      "\n",
      "Experiment 5\n",
      "Transfer: [-0.696518, -0.693232, -0.670814, -0.696961, -0.698521]\n",
      "Transfer & Revision: [-0.679169, -0.698389, -0.680767, -0.690224, -0.740114]\n",
      "\n",
      "\n"
     ]
    },
    {
     "data": {
      "text/markdown": [
       "## Recall"
      ],
      "text/plain": [
       "<IPython.core.display.Markdown object>"
      ]
     },
     "metadata": {},
     "output_type": "display_data"
    },
    {
     "name": "stdout",
     "output_type": "stream",
     "text": [
      "Experiment 1\n",
      "Transfer: [0.00664, 0.043999, 0.43885, 0.0, 0.0]\n",
      "Transfer & Revision: [0.186587, 0.665977, 0.330056, 0.372298, 0.338873]\n",
      "\n",
      "\n",
      "Experiment 2\n",
      "Transfer: [0.00664, 0.043999, 0.43885, 0.0, 0.0]\n",
      "Transfer & Revision: [0.238778, 0.637878, 0.266854, 0.395328, 0.367628]\n",
      "\n",
      "\n",
      "Experiment 3\n",
      "Transfer: [0.00664, 0.043999, 0.43885, 0.0, 0.0]\n",
      "Transfer & Revision: [0.274768, 0.661838, 0.266098, 0.391503, 0.362985]\n",
      "\n",
      "\n",
      "Experiment 4\n",
      "Transfer: [0.00664, 0.043999, 0.43885, 0.0, 0.0]\n",
      "Transfer & Revision: [0.217795, 0.675343, 0.319036, 0.383106, 0.323395]\n",
      "\n",
      "\n",
      "Experiment 5\n",
      "Transfer: [0.00664, 0.043999, 0.43885, 0.0, 0.0]\n",
      "Transfer & Revision: [0.27344, 0.692768, 0.33481, 0.442135, 0.355572]\n",
      "\n",
      "\n"
     ]
    },
    {
     "data": {
      "text/markdown": [
       "## F1"
      ],
      "text/plain": [
       "<IPython.core.display.Markdown object>"
      ]
     },
     "metadata": {},
     "output_type": "display_data"
    },
    {
     "name": "stdout",
     "output_type": "stream",
     "text": [
      "Experiment 1\n",
      "Transfer: [0.013141, 0.082948, 0.531362, nan, nan]\n",
      "Transfer & Revision: [0.289214, 0.604727, 0.438779, 0.460889, 0.41675]\n",
      "\n",
      "\n",
      "Experiment 2\n",
      "Transfer: [0.013141, 0.082948, 0.531362, nan, nan]\n",
      "Transfer & Revision: [0.349942, 0.590066, 0.378805, 0.480886, 0.435135]\n",
      "\n",
      "\n",
      "Experiment 3\n",
      "Transfer: [0.013141, 0.082948, 0.531362, nan, nan]\n",
      "Transfer & Revision: [0.389386, 0.60222, 0.376433, 0.472744, 0.430989]\n",
      "\n",
      "\n",
      "Experiment 4\n",
      "Transfer: [0.013141, 0.082948, 0.531362, nan, nan]\n",
      "Transfer & Revision: [0.324785, 0.609585, 0.425167, 0.469509, 0.408878]\n",
      "\n",
      "\n",
      "Experiment 5\n",
      "Transfer: [0.013141, 0.082948, 0.531362, nan, nan]\n",
      "Transfer & Revision: [0.384321, 0.608068, 0.442304, 0.506356, 0.43158]\n",
      "\n",
      "\n"
     ]
    },
    {
     "data": {
      "text/markdown": [
       "## Precision"
      ],
      "text/plain": [
       "<IPython.core.display.Markdown object>"
      ]
     },
     "metadata": {},
     "output_type": "display_data"
    },
    {
     "name": "stdout",
     "output_type": "stream",
     "text": [
      "Experiment 1\n",
      "Transfer: [0.625, 0.722719, 0.673297, nan, nan]\n",
      "Transfer & Revision: [0.642726, 0.553795, 0.654316, 0.604808, 0.541103]\n",
      "\n",
      "\n",
      "Experiment 2\n",
      "Transfer: [0.625, 0.722719, 0.673297, nan, nan]\n",
      "Transfer & Revision: [0.654771, 0.548922, 0.652576, 0.613707, 0.533011]\n",
      "\n",
      "\n",
      "Experiment 3\n",
      "Transfer: [0.625, 0.722719, 0.673297, nan, nan]\n",
      "Transfer & Revision: [0.668066, 0.552455, 0.643081, 0.596529, 0.53035]\n",
      "\n",
      "\n",
      "Experiment 4\n",
      "Transfer: [0.625, 0.722719, 0.673297, nan, nan]\n",
      "Transfer & Revision: [0.638381, 0.555496, 0.637109, 0.606236, 0.555789]\n",
      "\n",
      "\n",
      "Experiment 5\n",
      "Transfer: [0.625, 0.722719, 0.673297, nan, nan]\n",
      "Transfer & Revision: [0.646468, 0.541823, 0.651461, 0.592403, 0.548919]\n",
      "\n",
      "\n"
     ]
    },
    {
     "data": {
      "text/markdown": [
       "## Learning and Revision time"
      ],
      "text/plain": [
       "<IPython.core.display.Markdown object>"
      ]
     },
     "metadata": {},
     "output_type": "display_data"
    },
    {
     "name": "stdout",
     "output_type": "stream",
     "text": [
      "Experiment 1\n",
      "Transfer: ['188.198 (1.9)', '88.19800000000001 (1.9)', '60.46 (1.7)', '9.774 (1.9)', '8.587 (1.7)']\n",
      "Transfer & Revision: ['457.72799999999995 (1.9)', '255.679 (1.9)', '164.005 (1.7)', '29.342 (1.9)', '25.024 (1.7)']\n",
      "\n",
      "\n",
      "Experiment 2\n",
      "Transfer: ['136.145 (1.9)', '87.23 (1.8)', '52.478 (1.6)', '8.181 (1.9)', '8.72 (1.8)']\n",
      "Transfer & Revision: ['416.11 (1.9)', '270.685 (1.8)', '147.963 (1.6)', '28.607999999999997 (1.9)', '25.856 (1.8)']\n",
      "\n",
      "\n",
      "Experiment 3\n",
      "Transfer: ['152.66899999999998 (1.9)', '91.112 (1.9)', '62.403 (1.7)', '9.85 (1.8)', '8.12 (1.8)']\n",
      "Transfer & Revision: ['411.258 (1.9)', '263.565 (1.9)', '167.724 (1.7)', '31.217 (1.8)', '25.223999999999997 (1.8)']\n",
      "\n",
      "\n",
      "Experiment 4\n",
      "Transfer: ['171.145 (1.9)', '97.843 (1.9)', '49.952 (1.8)', '8.325 (1.9)', '8.143 (1.8)']\n",
      "Transfer & Revision: ['411.28700000000003 (1.9)', '265.75100000000003 (1.9)', '148.36599999999999 (1.8)', '28.814 (1.9)', '24.834 (1.8)']\n",
      "\n",
      "\n",
      "Experiment 5\n",
      "Transfer: ['178.401 (1.9)', '92.729 (1.9)', '59.547 (1.9)', '10.389 (1.8)', '5.878 (1.6)']\n",
      "Transfer & Revision: ['451.223 (1.9)', '262.325 (1.9)', '167.434 (1.9)', '30.877 (1.8)', '24.542 (1.6)']\n",
      "\n",
      "\n"
     ]
    },
    {
     "data": {
      "text/markdown": [
       "## Inference time"
      ],
      "text/plain": [
       "<IPython.core.display.Markdown object>"
      ]
     },
     "metadata": {},
     "output_type": "display_data"
    },
    {
     "name": "stdout",
     "output_type": "stream",
     "text": [
      "Experiment 1\n",
      "Transfer: [2.606, 2.602, 2.198, 2.595, 2.68]\n",
      "Transfer & Revision: [3.646, 4.634, 4.065, 4.941, 4.982]\n",
      "\n",
      "\n",
      "Experiment 2\n",
      "Transfer: [2.239, 2.252, 3.158, 2.588, 2.615]\n",
      "Transfer & Revision: [3.64, 3.808, 3.985, 4.635, 5.177]\n",
      "\n",
      "\n",
      "Experiment 3\n",
      "Transfer: [2.095, 2.109, 2.61, 2.722, 2.973]\n",
      "Transfer & Revision: [3.81, 4.208, 3.794, 4.623, 5.207]\n",
      "\n",
      "\n",
      "Experiment 4\n",
      "Transfer: [1.955, 2.413, 2.306, 2.575, 2.861]\n",
      "Transfer & Revision: [3.709, 4.149, 3.882, 4.85, 5.186]\n",
      "\n",
      "\n",
      "Experiment 5\n",
      "Transfer: [2.103, 2.084, 2.784, 2.852, 2.801]\n",
      "Transfer & Revision: [3.648, 4.19, 4.63, 5.403, 5.32]\n",
      "\n",
      "\n"
     ]
    },
    {
     "data": {
      "text/markdown": [
       "# Results for 50_uwcse_facebook"
      ],
      "text/plain": [
       "<IPython.core.display.Markdown object>"
      ]
     },
     "metadata": {},
     "output_type": "display_data"
    },
    {
     "data": {
      "text/markdown": [
       "## AUC ROC"
      ],
      "text/plain": [
       "<IPython.core.display.Markdown object>"
      ]
     },
     "metadata": {},
     "output_type": "display_data"
    },
    {
     "name": "stdout",
     "output_type": "stream",
     "text": [
      "Experiment 1\n",
      "Transfer: [0.500658, 0.535666, 0.641404, 0.493974, 0.45178]\n",
      "Transfer & Revision: [0.624282, 0.57242, 0.626389, 0.601386, 0.559363]\n",
      "\n",
      "\n",
      "Experiment 2\n",
      "Transfer: [0.499083, 0.530972, 0.610347, 0.491632, 0.524496]\n",
      "Transfer & Revision: [0.624835, 0.556482, 0.606426, 0.557811, 0.539982]\n",
      "\n",
      "\n",
      "Experiment 3\n",
      "Transfer: [0.498377, 0.54073, 0.632565, 0.507472, 0.53945]\n",
      "Transfer & Revision: [0.623253, 0.578503, 0.635852, 0.580367, 0.551683]\n",
      "\n",
      "\n",
      "Experiment 4\n",
      "Transfer: [0.499603, 0.501449, 0.606199, 0.505367, 0.524793]\n",
      "Transfer & Revision: [0.621387, 0.580254, 0.632687, 0.599448, 0.525155]\n",
      "\n",
      "\n",
      "Experiment 5\n",
      "Transfer: [0.497533, 0.510111, 0.652706, 0.495577, 0.563363]\n",
      "Transfer & Revision: [0.620676, 0.583481, 0.615222, 0.598019, 0.556917]\n",
      "\n",
      "\n"
     ]
    },
    {
     "data": {
      "text/markdown": [
       "## AUC PR"
      ],
      "text/plain": [
       "<IPython.core.display.Markdown object>"
      ]
     },
     "metadata": {},
     "output_type": "display_data"
    },
    {
     "name": "stdout",
     "output_type": "stream",
     "text": [
      "Experiment 1\n",
      "Transfer: [0.506594, 0.550424, 0.625202, 0.50657, 0.477312]\n",
      "Transfer & Revision: [0.607278, 0.565974, 0.599073, 0.599206, 0.562183]\n",
      "\n",
      "\n",
      "Experiment 2\n",
      "Transfer: [0.505864, 0.541762, 0.611684, 0.505981, 0.499122]\n",
      "Transfer & Revision: [0.600488, 0.558505, 0.59372, 0.566625, 0.549121]\n",
      "\n",
      "\n",
      "Experiment 3\n",
      "Transfer: [0.505593, 0.540554, 0.623249, 0.516637, 0.52019]\n",
      "Transfer & Revision: [0.602696, 0.565659, 0.619012, 0.585216, 0.558235]\n",
      "\n",
      "\n",
      "Experiment 4\n",
      "Transfer: [0.506172, 0.510094, 0.610634, 0.51839, 0.501732]\n",
      "Transfer & Revision: [0.598768, 0.576956, 0.620753, 0.592328, 0.517523]\n",
      "\n",
      "\n",
      "Experiment 5\n",
      "Transfer: [0.505032, 0.518767, 0.628681, 0.507195, 0.528794]\n",
      "Transfer & Revision: [0.597997, 0.574127, 0.601004, 0.590954, 0.549503]\n",
      "\n",
      "\n"
     ]
    },
    {
     "data": {
      "text/markdown": [
       "## CLL"
      ],
      "text/plain": [
       "<IPython.core.display.Markdown object>"
      ]
     },
     "metadata": {},
     "output_type": "display_data"
    },
    {
     "name": "stdout",
     "output_type": "stream",
     "text": [
      "Experiment 1\n",
      "Transfer: [-0.6998, -0.693328, -0.668698, -0.703126, -0.703097]\n",
      "Transfer & Revision: [-0.679976, -0.705797, -0.680068, -0.68148, -0.725375]\n",
      "\n",
      "\n",
      "Experiment 2\n",
      "Transfer: [-0.700011, -0.694019, -0.668509, -0.703574, -0.702673]\n",
      "Transfer & Revision: [-0.680658, -0.712553, -0.685109, -0.708103, -0.735044]\n",
      "\n",
      "\n",
      "Experiment 3\n",
      "Transfer: [-0.70004, -0.693426, -0.666268, -0.705954, -0.698996]\n",
      "Transfer & Revision: [-0.680829, -0.703538, -0.668635, -0.69469, -0.722427]\n",
      "\n",
      "\n",
      "Experiment 4\n",
      "Transfer: [-0.701196, -0.694005, -0.670775, -0.706371, -0.703727]\n",
      "Transfer & Revision: [-0.681242, -0.699576, -0.670221, -0.68587, -0.744408]\n",
      "\n",
      "\n",
      "Experiment 5\n",
      "Transfer: [-0.700064, -0.693237, -0.667039, -0.704697, -0.693843]\n",
      "Transfer & Revision: [-0.681887, -0.704387, -0.679332, -0.68729, -0.728909]\n",
      "\n",
      "\n"
     ]
    },
    {
     "data": {
      "text/markdown": [
       "## Recall"
      ],
      "text/plain": [
       "<IPython.core.display.Markdown object>"
      ]
     },
     "metadata": {},
     "output_type": "display_data"
    },
    {
     "name": "stdout",
     "output_type": "stream",
     "text": [
      "Experiment 1\n",
      "Transfer: [0.054582, 0.043999, 0.496111, 0.048221, 0.115021]\n",
      "Transfer & Revision: [0.270518, 0.641908, 0.297213, 0.47273, 0.336755]\n",
      "\n",
      "\n",
      "Experiment 2\n",
      "Transfer: [0.054316, 0.043999, 0.496111, 0.048221, 0.281281]\n",
      "Transfer & Revision: [0.260159, 0.655522, 0.337079, 0.333472, 0.41292]\n",
      "\n",
      "\n",
      "Experiment 3\n",
      "Transfer: [0.054582, 0.097691, 0.496111, 0.071749, 0.091235]\n",
      "Transfer & Revision: [0.252324, 0.669571, 0.381914, 0.434237, 0.328364]\n",
      "\n",
      "\n",
      "Experiment 4\n",
      "Transfer: [0.054316, 0.099543, 0.503133, 0.048221, 0.115021]\n",
      "Transfer & Revision: [0.264409, 0.665106, 0.38656, 0.415447, 0.393614]\n",
      "\n",
      "\n",
      "Experiment 5\n",
      "Transfer: [0.054582, 0.097691, 0.503133, 0.071749, 0.086592]\n",
      "Transfer & Revision: [0.281541, 0.680571, 0.328111, 0.427336, 0.349137]\n",
      "\n",
      "\n"
     ]
    },
    {
     "data": {
      "text/markdown": [
       "## F1"
      ],
      "text/plain": [
       "<IPython.core.display.Markdown object>"
      ]
     },
     "metadata": {},
     "output_type": "display_data"
    },
    {
     "name": "stdout",
     "output_type": "stream",
     "text": [
      "Experiment 1\n",
      "Transfer: [0.099782, 0.082948, 0.567825, 0.089101, 0.178859]\n",
      "Transfer & Revision: [0.381961, 0.593107, 0.406892, 0.523983, 0.422786]\n",
      "\n",
      "\n",
      "Experiment 2\n",
      "Transfer: [0.09932, 0.082948, 0.567825, 0.089101, 0.367399]\n",
      "Transfer & Revision: [0.371374, 0.58208, 0.441645, 0.424085, 0.465922]\n",
      "\n",
      "\n",
      "Experiment 3\n",
      "Transfer: [0.099769, 0.167773, 0.567825, 0.126512, 0.151147]\n",
      "Transfer & Revision: [0.364928, 0.60766, 0.481969, 0.493318, 0.41297]\n",
      "\n",
      "\n",
      "Experiment 4\n",
      "Transfer: [0.09932, 0.169746, 0.570816, 0.089101, 0.178859]\n",
      "Transfer & Revision: [0.374953, 0.605703, 0.485383, 0.490094, 0.448425]\n",
      "\n",
      "\n",
      "Experiment 5\n",
      "Transfer: [0.099769, 0.167773, 0.570816, 0.126512, 0.145856]\n",
      "Transfer & Revision: [0.389277, 0.608857, 0.431239, 0.497773, 0.430149]\n",
      "\n",
      "\n"
     ]
    },
    {
     "data": {
      "text/markdown": [
       "## Precision"
      ],
      "text/plain": [
       "<IPython.core.display.Markdown object>"
      ]
     },
     "metadata": {},
     "output_type": "display_data"
    },
    {
     "name": "stdout",
     "output_type": "stream",
     "text": [
      "Experiment 1\n",
      "Transfer: [0.580508, 0.722719, 0.663776, 0.585267, 0.401936]\n",
      "Transfer & Revision: [0.649554, 0.551202, 0.644866, 0.5877, 0.567857]\n",
      "\n",
      "\n",
      "Experiment 2\n",
      "Transfer: [0.57932, 0.722719, 0.663776, 0.585267, 0.52952]\n",
      "Transfer & Revision: [0.648675, 0.523437, 0.640263, 0.582317, 0.534535]\n",
      "\n",
      "\n",
      "Experiment 3\n",
      "Transfer: [0.57969, 0.593647, 0.663776, 0.534365, 0.440252]\n",
      "Transfer & Revision: [0.659036, 0.556229, 0.653057, 0.571007, 0.556307]\n",
      "\n",
      "\n",
      "Experiment 4\n",
      "Transfer: [0.57932, 0.575929, 0.659538, 0.585267, 0.401936]\n",
      "Transfer & Revision: [0.644337, 0.556041, 0.652087, 0.597441, 0.52097]\n",
      "\n",
      "\n",
      "Experiment 5\n",
      "Transfer: [0.57969, 0.593647, 0.659538, 0.534365, 0.462174]\n",
      "Transfer & Revision: [0.630577, 0.550815, 0.628909, 0.596011, 0.560115]\n",
      "\n",
      "\n"
     ]
    },
    {
     "data": {
      "text/markdown": [
       "## Learning and Revision time"
      ],
      "text/plain": [
       "<IPython.core.display.Markdown object>"
      ]
     },
     "metadata": {},
     "output_type": "display_data"
    },
    {
     "name": "stdout",
     "output_type": "stream",
     "text": [
      "Experiment 1\n",
      "Transfer: ['159.507 (2.2)', '93.50399999999999 (2.2)', '64.011 (2.2)', '9.071 (2.1)', '8.715 (2.2)']\n",
      "Transfer & Revision: ['416.041 (2.2)', '275.856 (2.2)', '176.787 (2.2)', '30.729999999999997 (2.1)', '24.956 (2.2)']\n",
      "\n",
      "\n",
      "Experiment 2\n",
      "Transfer: ['136.262 (2.1)', '86.613 (2.1)', '63.531 (1.7)', '9.093 (2.1)', '8.409 (2.1)']\n",
      "Transfer & Revision: ['374.61199999999997 (2.1)', '256.155 (2.1)', '171.261 (1.7)', '30.352 (2.1)', '24.500999999999998 (2.1)']\n",
      "\n",
      "\n",
      "Experiment 3\n",
      "Transfer: ['160.62 (2.1)', '100.62700000000001 (2.2)', '60.86 (2.1)', '9.787 (2.1)', '9.797 (2.1)']\n",
      "Transfer & Revision: ['439.534 (2.1)', '284.977 (2.2)', '166.684 (2.1)', '32.014 (2.1)', '24.41 (2.1)']\n",
      "\n",
      "\n",
      "Experiment 4\n",
      "Transfer: ['143.084 (2.1)', '92.74000000000001 (1.9)', '55.911 (2.1)', '11.019 (2.1)', '9.717 (2.1)']\n",
      "Transfer & Revision: ['420.077 (2.1)', '275.18600000000004 (1.9)', '169.154 (2.1)', '33.796 (2.1)', '27.713 (2.1)']\n",
      "\n",
      "\n",
      "Experiment 5\n",
      "Transfer: ['141.682 (2.2)', '104.62700000000001 (2.2)', '61.409 (2.1)', '8.882 (2.1)', '10.563 (2.1)']\n",
      "Transfer & Revision: ['374.567 (2.2)', '299.501 (2.2)', '169.981 (2.1)', '30.889000000000003 (2.1)', '28.019 (2.1)']\n",
      "\n",
      "\n"
     ]
    },
    {
     "data": {
      "text/markdown": [
       "## Inference time"
      ],
      "text/plain": [
       "<IPython.core.display.Markdown object>"
      ]
     },
     "metadata": {},
     "output_type": "display_data"
    },
    {
     "name": "stdout",
     "output_type": "stream",
     "text": [
      "Experiment 1\n",
      "Transfer: [2.698, 2.444, 3.385, 3.44, 4.896]\n",
      "Transfer & Revision: [3.207, 4.728, 4.903, 4.701, 7.481]\n",
      "\n",
      "\n",
      "Experiment 2\n",
      "Transfer: [2.824, 3.214, 3.423, 3.138, 4.15]\n",
      "Transfer & Revision: [3.083, 3.915, 6.271, 4.398, 6.795]\n",
      "\n",
      "\n",
      "Experiment 3\n",
      "Transfer: [2.602, 3.37, 4.616, 4.605, 7.674]\n",
      "Transfer & Revision: [3.752, 3.918, 6.218, 4.984, 8.264]\n",
      "\n",
      "\n",
      "Experiment 4\n",
      "Transfer: [2.955, 3.524, 8.1, 5.278, 11.762]\n",
      "Transfer & Revision: [3.954, 3.973, 14.892, 4.932, 14.692]\n",
      "\n",
      "\n",
      "Experiment 5\n",
      "Transfer: [2.498, 3.33, 4.741, 3.426, 6.183]\n",
      "Transfer & Revision: [3.566, 4.361, 8.792, 4.977, 9.71]\n",
      "\n",
      "\n"
     ]
    }
   ],
   "source": [
    "for j in range(len(experiments)):\n",
    "    dataset = experiments[j]['id'] + '_' + experiments[j]['source'] + '_' + experiments[j]['target']\n",
    "    if dataset in data['results']: \n",
    "        display(Markdown('# Results for ' + dataset))\n",
    "    table = []\n",
    "    for metric in ['AUC ROC', 'AUC PR', 'CLL', 'Recall', 'F1', 'Precision', 'Learning and Revision time', 'Inference time']:\n",
    "    #for metric in ['AUC ROC', 'AUC PR']:\n",
    "        if dataset in data['results']: \n",
    "            #for metric in ['AUC ROC', 'AUC PR']:\n",
    "            display(Markdown('## ' + metric))\n",
    "            if metric == 'Precision':\n",
    "                for m in range(len(data['results'][str(dataset)])):\n",
    "                    print('Experiment %s' % (m+1))\n",
    "                    #sc = [item['rdn_b']['Precision'][0] for item in data['results'][str(dataset)][m]]\n",
    "                    #sc_rdn = [item['rdn']['Precision'][0] for item in data['results'][str(dataset)][m]]\n",
    "                    pr = [item['transfer']['parameter']['Precision'][0] for item in data['results'][str(dataset)][m]]\n",
    "                    tr = [item['transfer']['Precision'][0] for item in data['results'][str(dataset)][m]] \n",
    "                    #print('Scratch: %s' % sc)\n",
    "                    print('Transfer: %s' % pr)\n",
    "                    print('Transfer & Revision: %s' % tr) \n",
    "                    print('\\n')\n",
    "                #scratch = np.array([item['scratch']['Precision'][0] for sublist in data['results'][str(dataset)] for item in sublist])\n",
    "                #parameter = np.array([item['transfer']['Parameter Learning results']['Precision'][0] for sublist in data['results'][str(dataset)] for item in sublist])\n",
    "                #transfer = np.array([item['transfer']['Precision'][0] for sublist in data['results'][str(dataset)] for item in sublist])\n",
    "            elif metric == 'Learning and Revision time':\n",
    "                for m in range(len(data['results'][str(dataset)])):\n",
    "                    print('Experiment %s' % (m+1))\n",
    "                    #sc = [item['rdn_b']['Learning time'] for item in data['results'][str(dataset)][m]]\n",
    "                    #sc_rdn = [item['rdn']['Learning time'] for item in data['results'][str(dataset)][m]]\n",
    "                    pr = ['%s (%.1f)' % (item['transfer']['parameter']['Learning time'], item['transfer']['Mapping results']['Total time']) for item in data['results'][str(dataset)][m]]\n",
    "                    tr = ['%s (%.1f)' % (item['transfer']['Learning time'], item['transfer']['Mapping results']['Total time']) for item in data['results'][str(dataset)][m]] \n",
    "                    #print('Scratch: %s' % sc)\n",
    "                    print('Transfer: %s' % pr)\n",
    "                    print('Transfer & Revision: %s' % tr) \n",
    "                    print('\\n')\n",
    "                #scratch = np.array([item['scratch']['Learning time'] for sublist in data['results'][str(dataset)] for item in sublist])\n",
    "                #parameter = np.array([item['transfer']['Parameter Learning results']['Learning time'] for sublist in data['results'][str(dataset)] for item in sublist])\n",
    "                #transfer = np.array([item['transfer']['Learning time'] for sublist in data['results'][str(dataset)] for item in sublist])\n",
    "            elif metric == 'Inference time':\n",
    "                for m in range(len(data['results'][str(dataset)])):\n",
    "                    print('Experiment %s' % (m+1))\n",
    "                    #sc = [item['rdn_b']['Inference time'] for item in data['results'][str(dataset)][m]]\n",
    "                    #sc_rdn = [item['rdn']['Inference time'] for item in data['results'][str(dataset)][m]]\n",
    "                    pr = [item['transfer']['parameter']['Inference time'] for item in data['results'][str(dataset)][m]]\n",
    "                    tr = [item['transfer']['Inference time'] for item in data['results'][str(dataset)][m]] \n",
    "                    #print('Scratch: %s' % sc)\n",
    "                    print('Transfer: %s' % pr)\n",
    "                    print('Transfer & Revision: %s' % tr) \n",
    "                    print('\\n')\n",
    "                #scratch = np.array([item['scratch']['Inference time'] for sublist in data['results'][str(dataset)] for item in sublist])\n",
    "                #parameter = np.array([item['transfer']['Parameter Learning results']['Learning time'] for sublist in data['results'][str(dataset)] for item in sublist])\n",
    "                #transfer = np.array([item['transfer']['Inference time'] for sublist in data['results'][str(dataset)] for item in sublist])\n",
    "            else:\n",
    "                #sc_sum = np.zeros(len(data['results'][str(dataset)][0]))\n",
    "                #sc_rdn_sum = np.zeros(len(data['results'][str(dataset)][0]))\n",
    "                pr_sum = np.zeros(len(data['results'][str(dataset)][0]))\n",
    "                tr_sum = np.zeros(len(data['results'][str(dataset)][0]))\n",
    "                for m in range(len(data['results'][str(dataset)][0])):\n",
    "                    #sc_sum += np.array([item['rdn_b'][metric] for item in data['results'][str(dataset)][m]])\n",
    "                    #sc_rdn_sum += np.array([item['rdn'][metric] for item in data['results'][str(dataset)][m]])\n",
    "                    pr_sum += np.array([item['transfer']['parameter'][metric] for item in data['results'][str(dataset)][m]])\n",
    "                    tr_sum += np.array([item['transfer'][metric] for item in data['results'][str(dataset)][m]])\n",
    "                #sc_sum /= len(data['results'][str(dataset)])\n",
    "                #sc_rdn_sum /= len(data['results'][str(dataset)])\n",
    "                pr_sum /= len(data['results'][str(dataset)])\n",
    "                tr_sum /= len(data['results'][str(dataset)])\n",
    "                #pvalue_table = []\n",
    "                #pvalue = stats.ttest_rel(tr_sum,sc_sum)\n",
    "                #pvalue2 = stats.ttest_rel(tr_sum,sc_rdn_sum)\n",
    "                #print(pvalue)\n",
    "                #pvalue_table.append(['transferRDN-B Ref', '%.3f' % (pvalue[1]), '%.3f' % (pvalue2[1])])\n",
    "                #pvalue = stats.ttest_rel(pr_sum, sc_sum)\n",
    "                #pvalue2 = stats.ttest_rel(pr_sum, sc_rdn_sum)\n",
    "                #print(pvalue)\n",
    "                #pvalue_table.append(['transferRDN-B', '%.3f' % (pvalue[1]), '%.3f' % (pvalue2[1])])\n",
    "                #display(pd.DataFrame(pvalue_table, columns=['p-value', 'RDN-B', 'RDN']))\n",
    "                \n",
    "                for m in range(len(data['results'][str(dataset)])):\n",
    "                    print('Experiment %s' % (m+1))\n",
    "                    #sc = [item['rdn_b'][metric] for item in data['results'][str(dataset)][m]]\n",
    "                    #sc_rdn = [item['rdn'][metric] for item in data['results'][str(dataset)][m]]\n",
    "                    pr = [item['transfer']['parameter'][metric] for item in data['results'][str(dataset)][m]]\n",
    "                    tr = [item['transfer'][metric] for item in data['results'][str(dataset)][m]] \n",
    "                    #print('Scratch RDN-B: %s' % sc)\n",
    "                    #print('Scratch RDN: %s' % sc_rdn)\n",
    "                    print('Transfer: %s' % pr)\n",
    "                    print('Transfer & Revision: %s' % tr) \n",
    "                    print('\\n')\n",
    "                #scratch = np.array([item['scratch'][metric] for sublist in data['results'][str(dataset)] for item in sublist])\n",
    "                #parameter = np.array([item['transfer']['Parameter Learning results'][metric] for sublist in data['results'][str(dataset)] for item in sublist])\n",
    "                #transfer = np.array([item['transfer'][metric] for sublist in data['results'][str(dataset)] for item in sublist])\n",
    "            #print('\\n')\n",
    "            #print('Scratch: %s' % scratch)\n",
    "            #print('Transfer: %s' % parameter)\n",
    "            #print('Transfer & Revision: %s' % transfer)"
   ]
  },
  {
   "cell_type": "code",
   "execution_count": 29,
   "metadata": {
    "collapsed": false
   },
   "outputs": [
    {
     "data": {
      "text/markdown": [
       "# Results for 1_imdb_uwcse"
      ],
      "text/plain": [
       "<IPython.core.display.Markdown object>"
      ]
     },
     "metadata": {},
     "output_type": "display_data"
    },
    {
     "name": "stdout",
     "output_type": "stream",
     "text": [
      "RDN         & -0.752 & 0.929 & 0.875 & 3.317 \\\\\n",
      "RDN-B       & -0.259 & 0.934 & 0.885 & 11.546 \\\\\n",
      "trRDN-B     & -0.229 & 0.956 & 0.939 & 7.537(3.6) \\\\\n",
      "trRDN-B Ref & -0.241 & 0.949 & 0.910 & 17.370(3.6) \\\\\n"
     ]
    },
    {
     "data": {
      "text/markdown": [
       "# Results for 2_uwcse_imdb"
      ],
      "text/plain": [
       "<IPython.core.display.Markdown object>"
      ]
     },
     "metadata": {},
     "output_type": "display_data"
    },
    {
     "name": "stdout",
     "output_type": "stream",
     "text": [
      "RDN         & -0.718 & 0.943 & 0.904 & 2.072 \\\\\n",
      "RDN-B       & -0.174 & 0.981 & 0.968 & 5.656 \\\\\n",
      "trRDN-B     & -0.124 & 0.999 & 0.999 & 4.618(3.9) \\\\\n",
      "trRDN-B Ref & -0.125 & 0.999 & 0.998 & 9.855(3.9) \\\\\n"
     ]
    },
    {
     "data": {
      "text/markdown": [
       "# Results for 3_imdb_uwcse"
      ],
      "text/plain": [
       "<IPython.core.display.Markdown object>"
      ]
     },
     "metadata": {},
     "output_type": "display_data"
    },
    {
     "name": "stdout",
     "output_type": "stream",
     "text": [
      "RDN         & -0.928 & 0.590 & 0.580 & 9.752 \\\\\n",
      "RDN-B       & -0.704 & 0.601 & 0.594 & 31.014 \\\\\n",
      "trRDN-B     & -0.660 & 0.625 & 0.597 & 16.713(3.7) \\\\\n",
      "trRDN-B Ref & -0.708 & 0.595 & 0.592 & 43.479(3.7) \\\\\n"
     ]
    },
    {
     "data": {
      "text/markdown": [
       "# Results for 4_uwcse_imdb"
      ],
      "text/plain": [
       "<IPython.core.display.Markdown object>"
      ]
     },
     "metadata": {},
     "output_type": "display_data"
    },
    {
     "data": {
      "text/markdown": [
       "# Results for 5_imdb_uwcse"
      ],
      "text/plain": [
       "<IPython.core.display.Markdown object>"
      ]
     },
     "metadata": {},
     "output_type": "display_data"
    },
    {
     "data": {
      "text/markdown": [
       "# Results for 6_uwcse_imdb"
      ],
      "text/plain": [
       "<IPython.core.display.Markdown object>"
      ]
     },
     "metadata": {},
     "output_type": "display_data"
    },
    {
     "name": "stdout",
     "output_type": "stream",
     "text": [
      "RDN         & -0.826 & 0.827 & 0.779 & 1.175 \\\\\n",
      "RDN-B       & -0.458 & 0.827 & 0.779 & 3.072 \\\\\n",
      "trRDN-B     & -0.320 & 0.907 & 0.845 & 2.869(4.7) \\\\\n",
      "trRDN-B Ref & -0.308 & 0.907 & 0.845 & 5.487(4.7) \\\\\n"
     ]
    },
    {
     "data": {
      "text/markdown": [
       "# Results for 7_imdb_cora"
      ],
      "text/plain": [
       "<IPython.core.display.Markdown object>"
      ]
     },
     "metadata": {},
     "output_type": "display_data"
    },
    {
     "name": "stdout",
     "output_type": "stream",
     "text": [
      "RDN         & -0.928 & 0.613 & 0.610 & 28.745 \\\\\n",
      "RDN-B       & -0.601 & 0.676 & 0.659 & 233.646 \\\\\n",
      "trRDN-B     & -0.690 & 0.525 & 0.532 & 105.640(3.5) \\\\\n",
      "trRDN-B Ref & -0.639 & 0.614 & 0.608 & 270.619(3.5) \\\\\n"
     ]
    },
    {
     "data": {
      "text/markdown": [
       "# Results for 8_imdb_cora"
      ],
      "text/plain": [
       "<IPython.core.display.Markdown object>"
      ]
     },
     "metadata": {},
     "output_type": "display_data"
    },
    {
     "data": {
      "text/markdown": [
       "# Results for 9_imdb_cora"
      ],
      "text/plain": [
       "<IPython.core.display.Markdown object>"
      ]
     },
     "metadata": {},
     "output_type": "display_data"
    },
    {
     "name": "stdout",
     "output_type": "stream",
     "text": [
      "RDN         & -1.242 & 0.528 & 0.913 & 5.363 \\\\\n",
      "RDN-B       & -0.324 & 0.534 & 0.919 & 17.619 \\\\\n",
      "trRDN-B     & -0.256 & 0.675 & 0.944 & 8.527(3.7) \\\\\n",
      "trRDN-B Ref & -0.313 & 0.654 & 0.941 & 25.671(3.7) \\\\\n"
     ]
    },
    {
     "data": {
      "text/markdown": [
       "# Results for 10_imdb_cora"
      ],
      "text/plain": [
       "<IPython.core.display.Markdown object>"
      ]
     },
     "metadata": {},
     "output_type": "display_data"
    },
    {
     "data": {
      "text/markdown": [
       "# Results for 11_uwcse_cora"
      ],
      "text/plain": [
       "<IPython.core.display.Markdown object>"
      ]
     },
     "metadata": {},
     "output_type": "display_data"
    },
    {
     "data": {
      "text/markdown": [
       "# Results for 12_uwcse_cora"
      ],
      "text/plain": [
       "<IPython.core.display.Markdown object>"
      ]
     },
     "metadata": {},
     "output_type": "display_data"
    },
    {
     "name": "stdout",
     "output_type": "stream",
     "text": [
      "RDN         & -0.911 & 0.926 & 0.954 & 34.996 \\\\\n",
      "RDN-B       & -0.344 & 0.935 & 0.965 & 332.257 \\\\\n",
      "trRDN-B     & -0.624 & 0.643 & 0.731 & 222.235(4.2) \\\\\n",
      "trRDN-B Ref & -0.355 & 0.938 & 0.967 & 741.002(4.2) \\\\\n"
     ]
    },
    {
     "data": {
      "text/markdown": [
       "# Results for 13_uwcse_cora"
      ],
      "text/plain": [
       "<IPython.core.display.Markdown object>"
      ]
     },
     "metadata": {},
     "output_type": "display_data"
    },
    {
     "name": "stdout",
     "output_type": "stream",
     "text": [
      "RDN         & -1.245 & 0.526 & 0.913 & 4.985 \\\\\n",
      "RDN-B       & -0.331 & 0.544 & 0.922 & 16.249 \\\\\n",
      "trRDN-B     & -0.260 & 0.675 & 0.944 & 10.065(3.8) \\\\\n",
      "trRDN-B Ref & -0.304 & 0.641 & 0.938 & 52.765(3.8) \\\\\n"
     ]
    },
    {
     "data": {
      "text/markdown": [
       "# Results for 14_uwcse_cora"
      ],
      "text/plain": [
       "<IPython.core.display.Markdown object>"
      ]
     },
     "metadata": {},
     "output_type": "display_data"
    },
    {
     "data": {
      "text/markdown": [
       "# Results for 15_yeast_twitter"
      ],
      "text/plain": [
       "<IPython.core.display.Markdown object>"
      ]
     },
     "metadata": {},
     "output_type": "display_data"
    },
    {
     "data": {
      "text/markdown": [
       "# Results for 16_yeast_twitter"
      ],
      "text/plain": [
       "<IPython.core.display.Markdown object>"
      ]
     },
     "metadata": {},
     "output_type": "display_data"
    },
    {
     "name": "stdout",
     "output_type": "stream",
     "text": [
      "RDN         & -0.896 & 0.717 & 0.682 & 10.338 \\\\\n",
      "RDN-B       & -0.620 & 0.717 & 0.682 & 60.450 \\\\\n",
      "trRDN-B     & -0.625 & 0.714 & 0.684 & 38.872(10.2) \\\\\n",
      "trRDN-B Ref & -0.618 & 0.720 & 0.693 & 89.135(10.2) \\\\\n"
     ]
    },
    {
     "data": {
      "text/markdown": [
       "# Results for 17_yeast_twitter"
      ],
      "text/plain": [
       "<IPython.core.display.Markdown object>"
      ]
     },
     "metadata": {},
     "output_type": "display_data"
    },
    {
     "data": {
      "text/markdown": [
       "# Results for 18_yeast_twitter"
      ],
      "text/plain": [
       "<IPython.core.display.Markdown object>"
      ]
     },
     "metadata": {},
     "output_type": "display_data"
    },
    {
     "data": {
      "text/markdown": [
       "# Results for 19_yeast_twitter"
      ],
      "text/plain": [
       "<IPython.core.display.Markdown object>"
      ]
     },
     "metadata": {},
     "output_type": "display_data"
    },
    {
     "data": {
      "text/markdown": [
       "# Results for 20_yeast_twitter"
      ],
      "text/plain": [
       "<IPython.core.display.Markdown object>"
      ]
     },
     "metadata": {},
     "output_type": "display_data"
    },
    {
     "data": {
      "text/markdown": [
       "# Results for 21_yeast_twitter"
      ],
      "text/plain": [
       "<IPython.core.display.Markdown object>"
      ]
     },
     "metadata": {},
     "output_type": "display_data"
    },
    {
     "data": {
      "text/markdown": [
       "# Results for 22_twitter_yeast"
      ],
      "text/plain": [
       "<IPython.core.display.Markdown object>"
      ]
     },
     "metadata": {},
     "output_type": "display_data"
    },
    {
     "data": {
      "text/markdown": [
       "# Results for 23_twitter_yeast"
      ],
      "text/plain": [
       "<IPython.core.display.Markdown object>"
      ]
     },
     "metadata": {},
     "output_type": "display_data"
    },
    {
     "name": "stdout",
     "output_type": "stream",
     "text": [
      "RDN         & -0.920 & 0.627 & 0.646 & 16.757 \\\\\n",
      "RDN-B       & -0.656 & 0.653 & 0.680 & 83.410 \\\\\n",
      "trRDN-B     & -0.673 & 0.592 & 0.606 & 43.094(3.4) \\\\\n",
      "trRDN-B Ref & -0.658 & 0.644 & 0.668 & 100.468(3.4) \\\\\n"
     ]
    },
    {
     "data": {
      "text/markdown": [
       "# Results for 24_twitter_yeast"
      ],
      "text/plain": [
       "<IPython.core.display.Markdown object>"
      ]
     },
     "metadata": {},
     "output_type": "display_data"
    },
    {
     "data": {
      "text/markdown": [
       "# Results for 25_twitter_yeast"
      ],
      "text/plain": [
       "<IPython.core.display.Markdown object>"
      ]
     },
     "metadata": {},
     "output_type": "display_data"
    },
    {
     "data": {
      "text/markdown": [
       "# Results for 26_twitter_yeast"
      ],
      "text/plain": [
       "<IPython.core.display.Markdown object>"
      ]
     },
     "metadata": {},
     "output_type": "display_data"
    },
    {
     "data": {
      "text/markdown": [
       "# Results for 27_twitter_yeast"
      ],
      "text/plain": [
       "<IPython.core.display.Markdown object>"
      ]
     },
     "metadata": {},
     "output_type": "display_data"
    },
    {
     "data": {
      "text/markdown": [
       "# Results for 28_twitter_yeast"
      ],
      "text/plain": [
       "<IPython.core.display.Markdown object>"
      ]
     },
     "metadata": {},
     "output_type": "display_data"
    },
    {
     "data": {
      "text/markdown": [
       "# Results for 29_nell_sports_nell_finances"
      ],
      "text/plain": [
       "<IPython.core.display.Markdown object>"
      ]
     },
     "metadata": {},
     "output_type": "display_data"
    },
    {
     "data": {
      "text/markdown": [
       "# Results for 30_nell_sports_nell_finances"
      ],
      "text/plain": [
       "<IPython.core.display.Markdown object>"
      ]
     },
     "metadata": {},
     "output_type": "display_data"
    },
    {
     "data": {
      "text/markdown": [
       "# Results for 31_nell_sports_nell_finances"
      ],
      "text/plain": [
       "<IPython.core.display.Markdown object>"
      ]
     },
     "metadata": {},
     "output_type": "display_data"
    },
    {
     "data": {
      "text/markdown": [
       "# Results for 32_nell_sports_nell_finances"
      ],
      "text/plain": [
       "<IPython.core.display.Markdown object>"
      ]
     },
     "metadata": {},
     "output_type": "display_data"
    },
    {
     "data": {
      "text/markdown": [
       "# Results for 33_nell_sports_nell_finances"
      ],
      "text/plain": [
       "<IPython.core.display.Markdown object>"
      ]
     },
     "metadata": {},
     "output_type": "display_data"
    },
    {
     "data": {
      "text/markdown": [
       "# Results for 34_nell_sports_nell_finances"
      ],
      "text/plain": [
       "<IPython.core.display.Markdown object>"
      ]
     },
     "metadata": {},
     "output_type": "display_data"
    },
    {
     "data": {
      "text/markdown": [
       "# Results for 35_nell_sports_nell_finances"
      ],
      "text/plain": [
       "<IPython.core.display.Markdown object>"
      ]
     },
     "metadata": {},
     "output_type": "display_data"
    },
    {
     "name": "stdout",
     "output_type": "stream",
     "text": [
      "RDN         & -0.904 & 0.600 & 0.663 & 3.293 \\\\\n",
      "RDN-B       & -0.771 & 0.592 & 0.663 & 8.705 \\\\\n",
      "trRDN-B     & -0.542 & 0.800 & 0.850 & 8.213(7.7) \\\\\n",
      "trRDN-B Ref & -0.562 & 0.765 & 0.788 & 16.436(7.7) \\\\\n"
     ]
    },
    {
     "data": {
      "text/markdown": [
       "# Results for 36_nell_sports_nell_finances"
      ],
      "text/plain": [
       "<IPython.core.display.Markdown object>"
      ]
     },
     "metadata": {},
     "output_type": "display_data"
    },
    {
     "data": {
      "text/markdown": [
       "# Results for 37_nell_sports_nell_finances"
      ],
      "text/plain": [
       "<IPython.core.display.Markdown object>"
      ]
     },
     "metadata": {},
     "output_type": "display_data"
    },
    {
     "name": "stdout",
     "output_type": "stream",
     "text": [
      "RDN         & -0.906 & 0.625 & 0.649 & 14.030 \\\\\n",
      "RDN-B       & -0.603 & 0.729 & 0.751 & 40.423 \\\\\n",
      "trRDN-B     & -0.544 & 0.798 & 0.783 & 76.005(16.8) \\\\\n",
      "trRDN-B Ref & -0.527 & 0.822 & 0.815 & 124.453(16.8) \\\\\n"
     ]
    },
    {
     "data": {
      "text/markdown": [
       "# Results for 38_nell_finances_nell_sports"
      ],
      "text/plain": [
       "<IPython.core.display.Markdown object>"
      ]
     },
     "metadata": {},
     "output_type": "display_data"
    },
    {
     "data": {
      "text/markdown": [
       "# Results for 39_nell_finances_nell_sports"
      ],
      "text/plain": [
       "<IPython.core.display.Markdown object>"
      ]
     },
     "metadata": {},
     "output_type": "display_data"
    },
    {
     "data": {
      "text/markdown": [
       "# Results for 40_nell_finances_nell_sports"
      ],
      "text/plain": [
       "<IPython.core.display.Markdown object>"
      ]
     },
     "metadata": {},
     "output_type": "display_data"
    },
    {
     "data": {
      "text/markdown": [
       "# Results for 41_nell_finances_nell_sports"
      ],
      "text/plain": [
       "<IPython.core.display.Markdown object>"
      ]
     },
     "metadata": {},
     "output_type": "display_data"
    },
    {
     "data": {
      "text/markdown": [
       "# Results for 42_nell_finances_nell_sports"
      ],
      "text/plain": [
       "<IPython.core.display.Markdown object>"
      ]
     },
     "metadata": {},
     "output_type": "display_data"
    },
    {
     "data": {
      "text/markdown": [
       "# Results for 43_nell_finances_nell_sports"
      ],
      "text/plain": [
       "<IPython.core.display.Markdown object>"
      ]
     },
     "metadata": {},
     "output_type": "display_data"
    },
    {
     "data": {
      "text/markdown": [
       "# Results for 44_nell_finances_nell_sports"
      ],
      "text/plain": [
       "<IPython.core.display.Markdown object>"
      ]
     },
     "metadata": {},
     "output_type": "display_data"
    },
    {
     "data": {
      "text/markdown": [
       "# Results for 45_nell_finances_nell_sports"
      ],
      "text/plain": [
       "<IPython.core.display.Markdown object>"
      ]
     },
     "metadata": {},
     "output_type": "display_data"
    },
    {
     "data": {
      "text/markdown": [
       "# Results for 46_nell_finances_nell_sports"
      ],
      "text/plain": [
       "<IPython.core.display.Markdown object>"
      ]
     },
     "metadata": {},
     "output_type": "display_data"
    },
    {
     "name": "stdout",
     "output_type": "stream",
     "text": [
      "RDN         & -0.792 & 0.902 & 0.883 & 114.306 \\\\\n",
      "RDN-B       & -0.343 & 0.937 & 0.932 & 715.041 \\\\\n",
      "trRDN-B     & -0.695 & 0.500 & 0.500 & 304.750(91.1) \\\\\n",
      "trRDN-B Ref & -0.471 & 0.875 & 0.852 & 985.093(91.1) \\\\\n"
     ]
    },
    {
     "data": {
      "text/markdown": [
       "# Results for 47_yeast_facebook"
      ],
      "text/plain": [
       "<IPython.core.display.Markdown object>"
      ]
     },
     "metadata": {},
     "output_type": "display_data"
    },
    {
     "name": "stdout",
     "output_type": "stream",
     "text": [
      "RDN         & -0.933 & 0.560 & 0.557 & 37.708 \\\\\n",
      "RDN-B       & -0.712 & 0.579 & 0.575 & 196.462 \\\\\n",
      "trRDN-B     & -0.678 & 0.603 & 0.590 & 110.275(67.9) \\\\\n",
      "trRDN-B Ref & -0.705 & 0.579 & 0.575 & 264.286(67.9) \\\\\n"
     ]
    },
    {
     "data": {
      "text/markdown": [
       "# Results for 48_twitter_facebook"
      ],
      "text/plain": [
       "<IPython.core.display.Markdown object>"
      ]
     },
     "metadata": {},
     "output_type": "display_data"
    },
    {
     "name": "stdout",
     "output_type": "stream",
     "text": [
      "RDN         & -0.933 & 0.555 & 0.554 & 36.053 \\\\\n",
      "RDN-B       & -0.716 & 0.576 & 0.574 & 190.316 \\\\\n",
      "trRDN-B     & -0.682 & 0.581 & 0.570 & 98.156(3.9) \\\\\n",
      "trRDN-B Ref & -0.690 & 0.600 & 0.586 & 227.177(3.9) \\\\\n"
     ]
    },
    {
     "data": {
      "text/markdown": [
       "# Results for 49_imdb_facebook"
      ],
      "text/plain": [
       "<IPython.core.display.Markdown object>"
      ]
     },
     "metadata": {},
     "output_type": "display_data"
    },
    {
     "name": "stdout",
     "output_type": "stream",
     "text": [
      "RDN         & -0.934 & 0.559 & 0.557 & 37.492 \\\\\n",
      "RDN-B       & -0.713 & 0.578 & 0.575 & 186.284 \\\\\n",
      "trRDN-B     & -0.696 & 0.500 & 0.503 & 99.208(3.5) \\\\\n",
      "trRDN-B Ref & -0.704 & 0.589 & 0.579 & 273.683(3.5) \\\\\n"
     ]
    },
    {
     "data": {
      "text/markdown": [
       "# Results for 50_uwcse_facebook"
      ],
      "text/plain": [
       "<IPython.core.display.Markdown object>"
      ]
     },
     "metadata": {},
     "output_type": "display_data"
    },
    {
     "name": "stdout",
     "output_type": "stream",
     "text": [
      "RDN         & -0.931 & 0.560 & 0.558 & 34.001 \\\\\n",
      "RDN-B       & -0.714 & 0.577 & 0.575 & 185.185 \\\\\n",
      "trRDN-B     & -0.686 & 0.549 & 0.545 & 169.410(5.7) \\\\\n",
      "trRDN-B Ref & -0.697 & 0.593 & 0.584 & 369.011(5.7) \\\\\n"
     ]
    }
   ],
   "source": [
    "for j in range(len(experiments)):\n",
    "    table = []\n",
    "    dataset = experiments[j]['id'] + '_' + experiments[j]['source'] + '_' + experiments[j]['target']\n",
    "    display(Markdown('# Results for ' + dataset))\n",
    "    if dataset in data['results']:\n",
    "        values = {'scratch': {}, 'scratch_rdn': {}, 'parameter': {}, 'transfer': {}, 'mapping_time': {}}\n",
    "        for metric in ['CLL', 'AUC ROC', 'AUC PR', 'Learning and Revision time']:\n",
    "            mapping_time = ''\n",
    "            if metric == 'Precision':\n",
    "                values['scratch'][metric] = np.array([(np.array([item['rdn_b']['Precision'][0] for item in sublist])).mean() for sublist in data['results'][str(dataset)]])\n",
    "                values['scratch_rdn'][metric] = np.array([(np.array([item['rdn']['Precision'][0] for item in sublist])).mean() for sublist in data['results'][str(dataset)]])\n",
    "                values['parameter'][metric] = np.array([(np.array([item['transfer']['parameter']['Precision'][0] for item in sublist])).mean() for sublist in data['results'][str(dataset)]])\n",
    "                values['transfer'][metric] = np.array([(np.array([item['transfer']['Precision'][0] for item in sublist])).mean() for sublist in data['results'][str(dataset)]])\n",
    "            elif metric == 'Learning and Revision time':\n",
    "                values['scratch'][metric] = np.array([(np.array([item['rdn_b']['Learning time'] for item in sublist])).mean() for sublist in data['results'][str(dataset)]])\n",
    "                values['scratch_rdn'][metric] = np.array([(np.array([item['rdn']['Learning time'] for item in sublist])).mean() for sublist in data['results'][str(dataset)]])\n",
    "                values['parameter'][metric] = np.array([(np.array([item['transfer']['parameter']['Learning time'] for item in sublist])).mean() for sublist in data['results'][str(dataset)]])\n",
    "                values['transfer'][metric] = np.array([(np.array([item['transfer']['Learning time'] for item in sublist])).mean() for sublist in data['results'][str(dataset)]])\n",
    "                mapping = np.array([(np.array([item['transfer']['Mapping results']['Total time'] for item in sublist])).mean() for sublist in data['results'][str(dataset)]])\n",
    "                values['mapping_time'] = '(%.1f)' % mapping.mean()\n",
    "            elif metric == 'Inference time':\n",
    "                values['scratch'][metric] = np.array([(np.array([item['rdn_b']['Inference time'] for item in sublist])).mean() for sublist in data['results'][str(dataset)]])\n",
    "                values['scratch_rdn'][metric] = np.array([(np.array([item['rdn']['Inference time'] for item in sublist])).mean() for sublist in data['results'][str(dataset)]])\n",
    "                values['parameter'][metric] = np.array([(np.array([item['transfer']['parameter']['Inference time'] for item in sublist])).mean() for sublist in data['results'][str(dataset)]])\n",
    "                values['transfer'][metric] = np.array([(np.array([item['transfer']['Inference time'] for item in sublist])).mean() for sublist in data['results'][str(dataset)]])\n",
    "            else:\n",
    "                values['scratch'][metric] = np.array([(np.array([item['rdn_b'][metric] for item in sublist])).mean() for sublist in data['results'][str(dataset)]])\n",
    "                values['scratch_rdn'][metric] = np.array([(np.array([item['rdn'][metric] for item in sublist])).mean() for sublist in data['results'][str(dataset)]])\n",
    "                values['parameter'][metric] = np.array([(np.array([item['transfer']['parameter'][metric] for item in sublist])).mean() for sublist in data['results'][str(dataset)]])\n",
    "                values['transfer'][metric] = np.array([(np.array([item['transfer'][metric] for item in sublist])).mean() for sublist in data['results'][str(dataset)]])\n",
    "\n",
    "        print('RDN         & %.3f & %.3f & %.3f & %.3f \\\\\\\\' % (values['scratch_rdn']['CLL'].mean(), values['scratch_rdn']['AUC ROC'].mean(), values['scratch_rdn']['AUC PR'].mean(), values['scratch_rdn']['Learning and Revision time'].mean()))\n",
    "        print('RDN-B       & %.3f & %.3f & %.3f & %.3f \\\\\\\\' % (values['scratch']['CLL'].mean(), values['scratch']['AUC ROC'].mean(), values['scratch']['AUC PR'].mean(), values['scratch']['Learning and Revision time'].mean()))\n",
    "        print('trRDN-B     & %.3f & %.3f & %.3f & %.3f%s \\\\\\\\' % (values['parameter']['CLL'].mean(), values['parameter']['AUC ROC'].mean(), values['parameter']['AUC PR'].mean(), values['parameter']['Learning and Revision time'].mean(), values['mapping_time']))\n",
    "        print('trRDN-B Ref & %.3f & %.3f & %.3f & %.3f%s \\\\\\\\' % (values['transfer']['CLL'].mean(), values['transfer']['AUC ROC'].mean(), values['transfer']['AUC PR'].mean(), values['transfer']['Learning and Revision time'].mean(), values['mapping_time']))"
   ]
  },
  {
   "cell_type": "code",
   "execution_count": null,
   "metadata": {
    "collapsed": true
   },
   "outputs": [],
   "source": []
  }
 ],
 "metadata": {
  "anaconda-cloud": {},
  "kernelspec": {
   "display_name": "Python [default]",
   "language": "python",
   "name": "python3"
  },
  "language_info": {
   "codemirror_mode": {
    "name": "ipython",
    "version": 3
   },
   "file_extension": ".py",
   "mimetype": "text/x-python",
   "name": "python",
   "nbconvert_exporter": "python",
   "pygments_lexer": "ipython3",
   "version": "3.5.2"
  }
 },
 "nbformat": 4,
 "nbformat_minor": 1
}
