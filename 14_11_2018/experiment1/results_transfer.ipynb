{
 "cells": [
  {
   "cell_type": "code",
   "execution_count": 1,
   "metadata": {
    "collapsed": true
   },
   "outputs": [],
   "source": [
    "import matplotlib.pyplot as plt\n",
    "from IPython.display import display, Markdown, Latex\n",
    "import numpy as np\n",
    "import json\n",
    "import pandas as pd\n",
    "\n",
    "with open('transfer_experiment.json', 'r') as fp:\n",
    "    data = json.load(fp)"
   ]
  },
  {
   "cell_type": "code",
   "execution_count": 2,
   "metadata": {
    "collapsed": false
   },
   "outputs": [
    {
     "data": {
      "text/markdown": [
       "# Results for AUC ROC"
      ],
      "text/plain": [
       "<IPython.core.display.Markdown object>"
      ]
     },
     "metadata": {},
     "output_type": "display_data"
    },
    {
     "data": {
      "text/html": [
       "<div>\n",
       "<table border=\"1\" class=\"dataframe\">\n",
       "  <thead>\n",
       "    <tr style=\"text-align: right;\">\n",
       "      <th></th>\n",
       "      <th>Experiment</th>\n",
       "      <th>Transfer Learning</th>\n",
       "      <th>Transfer Learning with Revision Theory</th>\n",
       "      <th>Learning from scratch</th>\n",
       "    </tr>\n",
       "  </thead>\n",
       "  <tbody>\n",
       "    <tr>\n",
       "      <th>0</th>\n",
       "      <td>6_nell_sports_nell_finances</td>\n",
       "      <td>0.798 +/- 0.010</td>\n",
       "      <td>0.836 +/- 0.007</td>\n",
       "      <td>0.847 +/- 0.017</td>\n",
       "    </tr>\n",
       "    <tr>\n",
       "      <th>1</th>\n",
       "      <td>7_nell_finances_nell_sports</td>\n",
       "      <td>0.849 +/- 0.028</td>\n",
       "      <td>0.910 +/- 0.062</td>\n",
       "      <td>0.936 +/- 0.026</td>\n",
       "    </tr>\n",
       "    <tr>\n",
       "      <th>2</th>\n",
       "      <td>12_uwcse_yago2s</td>\n",
       "      <td>0.527 +/- 0.064</td>\n",
       "      <td>0.718 +/- 0.007</td>\n",
       "      <td>0.730 +/- 0.005</td>\n",
       "    </tr>\n",
       "    <tr>\n",
       "      <th>3</th>\n",
       "      <td>13_uwcse_yago2s</td>\n",
       "      <td>0.519 +/- 0.020</td>\n",
       "      <td>0.706 +/- 0.015</td>\n",
       "      <td>0.712 +/- 0.015</td>\n",
       "    </tr>\n",
       "    <tr>\n",
       "      <th>4</th>\n",
       "      <td>14_uwcse_yago2s</td>\n",
       "      <td>0.508 +/- 0.014</td>\n",
       "      <td>0.649 +/- 0.011</td>\n",
       "      <td>0.663 +/- 0.003</td>\n",
       "    </tr>\n",
       "    <tr>\n",
       "      <th>5</th>\n",
       "      <td>15_cora_yago2s</td>\n",
       "      <td>0.558 +/- 0.083</td>\n",
       "      <td>0.723 +/- 0.006</td>\n",
       "      <td>0.725 +/- 0.004</td>\n",
       "    </tr>\n",
       "    <tr>\n",
       "      <th>6</th>\n",
       "      <td>16_cora_yago2s</td>\n",
       "      <td>0.500 +/- 0.002</td>\n",
       "      <td>0.708 +/- 0.010</td>\n",
       "      <td>0.719 +/- 0.005</td>\n",
       "    </tr>\n",
       "  </tbody>\n",
       "</table>\n",
       "</div>"
      ],
      "text/plain": [
       "                    Experiment Transfer Learning  \\\n",
       "0  6_nell_sports_nell_finances   0.798 +/- 0.010   \n",
       "1  7_nell_finances_nell_sports   0.849 +/- 0.028   \n",
       "2              12_uwcse_yago2s   0.527 +/- 0.064   \n",
       "3              13_uwcse_yago2s   0.519 +/- 0.020   \n",
       "4              14_uwcse_yago2s   0.508 +/- 0.014   \n",
       "5               15_cora_yago2s   0.558 +/- 0.083   \n",
       "6               16_cora_yago2s   0.500 +/- 0.002   \n",
       "\n",
       "  Transfer Learning with Revision Theory Learning from scratch  \n",
       "0                        0.836 +/- 0.007       0.847 +/- 0.017  \n",
       "1                        0.910 +/- 0.062       0.936 +/- 0.026  \n",
       "2                        0.718 +/- 0.007       0.730 +/- 0.005  \n",
       "3                        0.706 +/- 0.015       0.712 +/- 0.015  \n",
       "4                        0.649 +/- 0.011       0.663 +/- 0.003  \n",
       "5                        0.723 +/- 0.006       0.725 +/- 0.004  \n",
       "6                        0.708 +/- 0.010       0.719 +/- 0.005  "
      ]
     },
     "metadata": {},
     "output_type": "display_data"
    },
    {
     "data": {
      "text/markdown": [
       "# Results for AUC PR"
      ],
      "text/plain": [
       "<IPython.core.display.Markdown object>"
      ]
     },
     "metadata": {},
     "output_type": "display_data"
    },
    {
     "data": {
      "text/html": [
       "<div>\n",
       "<table border=\"1\" class=\"dataframe\">\n",
       "  <thead>\n",
       "    <tr style=\"text-align: right;\">\n",
       "      <th></th>\n",
       "      <th>Experiment</th>\n",
       "      <th>Transfer Learning</th>\n",
       "      <th>Transfer Learning with Revision Theory</th>\n",
       "      <th>Learning from scratch</th>\n",
       "    </tr>\n",
       "  </thead>\n",
       "  <tbody>\n",
       "    <tr>\n",
       "      <th>0</th>\n",
       "      <td>6_nell_sports_nell_finances</td>\n",
       "      <td>0.776 +/- 0.011</td>\n",
       "      <td>0.854 +/- 0.018</td>\n",
       "      <td>0.861 +/- 0.038</td>\n",
       "    </tr>\n",
       "    <tr>\n",
       "      <th>1</th>\n",
       "      <td>7_nell_finances_nell_sports</td>\n",
       "      <td>0.797 +/- 0.076</td>\n",
       "      <td>0.895 +/- 0.081</td>\n",
       "      <td>0.924 +/- 0.042</td>\n",
       "    </tr>\n",
       "    <tr>\n",
       "      <th>2</th>\n",
       "      <td>12_uwcse_yago2s</td>\n",
       "      <td>0.555 +/- 0.108</td>\n",
       "      <td>0.744 +/- 0.009</td>\n",
       "      <td>0.756 +/- 0.004</td>\n",
       "    </tr>\n",
       "    <tr>\n",
       "      <th>3</th>\n",
       "      <td>13_uwcse_yago2s</td>\n",
       "      <td>0.542 +/- 0.039</td>\n",
       "      <td>0.741 +/- 0.007</td>\n",
       "      <td>0.748 +/- 0.010</td>\n",
       "    </tr>\n",
       "    <tr>\n",
       "      <th>4</th>\n",
       "      <td>14_uwcse_yago2s</td>\n",
       "      <td>0.510 +/- 0.011</td>\n",
       "      <td>0.675 +/- 0.011</td>\n",
       "      <td>0.687 +/- 0.003</td>\n",
       "    </tr>\n",
       "    <tr>\n",
       "      <th>5</th>\n",
       "      <td>15_cora_yago2s</td>\n",
       "      <td>0.593 +/- 0.124</td>\n",
       "      <td>0.749 +/- 0.007</td>\n",
       "      <td>0.750 +/- 0.000</td>\n",
       "    </tr>\n",
       "    <tr>\n",
       "      <th>6</th>\n",
       "      <td>16_cora_yago2s</td>\n",
       "      <td>0.502 +/- 0.004</td>\n",
       "      <td>0.744 +/- 0.012</td>\n",
       "      <td>0.753 +/- 0.006</td>\n",
       "    </tr>\n",
       "  </tbody>\n",
       "</table>\n",
       "</div>"
      ],
      "text/plain": [
       "                    Experiment Transfer Learning  \\\n",
       "0  6_nell_sports_nell_finances   0.776 +/- 0.011   \n",
       "1  7_nell_finances_nell_sports   0.797 +/- 0.076   \n",
       "2              12_uwcse_yago2s   0.555 +/- 0.108   \n",
       "3              13_uwcse_yago2s   0.542 +/- 0.039   \n",
       "4              14_uwcse_yago2s   0.510 +/- 0.011   \n",
       "5               15_cora_yago2s   0.593 +/- 0.124   \n",
       "6               16_cora_yago2s   0.502 +/- 0.004   \n",
       "\n",
       "  Transfer Learning with Revision Theory Learning from scratch  \n",
       "0                        0.854 +/- 0.018       0.861 +/- 0.038  \n",
       "1                        0.895 +/- 0.081       0.924 +/- 0.042  \n",
       "2                        0.744 +/- 0.009       0.756 +/- 0.004  \n",
       "3                        0.741 +/- 0.007       0.748 +/- 0.010  \n",
       "4                        0.675 +/- 0.011       0.687 +/- 0.003  \n",
       "5                        0.749 +/- 0.007       0.750 +/- 0.000  \n",
       "6                        0.744 +/- 0.012       0.753 +/- 0.006  "
      ]
     },
     "metadata": {},
     "output_type": "display_data"
    },
    {
     "data": {
      "text/markdown": [
       "# Results for CLL"
      ],
      "text/plain": [
       "<IPython.core.display.Markdown object>"
      ]
     },
     "metadata": {},
     "output_type": "display_data"
    },
    {
     "data": {
      "text/html": [
       "<div>\n",
       "<table border=\"1\" class=\"dataframe\">\n",
       "  <thead>\n",
       "    <tr style=\"text-align: right;\">\n",
       "      <th></th>\n",
       "      <th>Experiment</th>\n",
       "      <th>Transfer Learning</th>\n",
       "      <th>Transfer Learning with Revision Theory</th>\n",
       "      <th>Learning from scratch</th>\n",
       "    </tr>\n",
       "  </thead>\n",
       "  <tbody>\n",
       "    <tr>\n",
       "      <th>0</th>\n",
       "      <td>6_nell_sports_nell_finances</td>\n",
       "      <td>-0.539 +/- 0.008</td>\n",
       "      <td>-0.489 +/- 0.005</td>\n",
       "      <td>-0.471 +/- 0.028</td>\n",
       "    </tr>\n",
       "    <tr>\n",
       "      <th>1</th>\n",
       "      <td>7_nell_finances_nell_sports</td>\n",
       "      <td>-0.444 +/- 0.016</td>\n",
       "      <td>-0.376 +/- 0.070</td>\n",
       "      <td>-0.342 +/- 0.039</td>\n",
       "    </tr>\n",
       "    <tr>\n",
       "      <th>2</th>\n",
       "      <td>12_uwcse_yago2s</td>\n",
       "      <td>-0.679 +/- 0.035</td>\n",
       "      <td>-0.605 +/- 0.005</td>\n",
       "      <td>-0.601 +/- 0.002</td>\n",
       "    </tr>\n",
       "    <tr>\n",
       "      <th>3</th>\n",
       "      <td>13_uwcse_yago2s</td>\n",
       "      <td>-0.687 +/- 0.009</td>\n",
       "      <td>-0.614 +/- 0.006</td>\n",
       "      <td>-0.611 +/- 0.003</td>\n",
       "    </tr>\n",
       "    <tr>\n",
       "      <th>4</th>\n",
       "      <td>14_uwcse_yago2s</td>\n",
       "      <td>-0.694 +/- 0.000</td>\n",
       "      <td>-0.659 +/- 0.002</td>\n",
       "      <td>-0.654 +/- 0.001</td>\n",
       "    </tr>\n",
       "    <tr>\n",
       "      <th>5</th>\n",
       "      <td>15_cora_yago2s</td>\n",
       "      <td>-0.664 +/- 0.043</td>\n",
       "      <td>-0.605 +/- 0.009</td>\n",
       "      <td>-0.601 +/- 0.001</td>\n",
       "    </tr>\n",
       "    <tr>\n",
       "      <th>6</th>\n",
       "      <td>16_cora_yago2s</td>\n",
       "      <td>-0.695 +/- 0.001</td>\n",
       "      <td>-0.616 +/- 0.009</td>\n",
       "      <td>-0.610 +/- 0.003</td>\n",
       "    </tr>\n",
       "  </tbody>\n",
       "</table>\n",
       "</div>"
      ],
      "text/plain": [
       "                    Experiment Transfer Learning  \\\n",
       "0  6_nell_sports_nell_finances  -0.539 +/- 0.008   \n",
       "1  7_nell_finances_nell_sports  -0.444 +/- 0.016   \n",
       "2              12_uwcse_yago2s  -0.679 +/- 0.035   \n",
       "3              13_uwcse_yago2s  -0.687 +/- 0.009   \n",
       "4              14_uwcse_yago2s  -0.694 +/- 0.000   \n",
       "5               15_cora_yago2s  -0.664 +/- 0.043   \n",
       "6               16_cora_yago2s  -0.695 +/- 0.001   \n",
       "\n",
       "  Transfer Learning with Revision Theory Learning from scratch  \n",
       "0                       -0.489 +/- 0.005      -0.471 +/- 0.028  \n",
       "1                       -0.376 +/- 0.070      -0.342 +/- 0.039  \n",
       "2                       -0.605 +/- 0.005      -0.601 +/- 0.002  \n",
       "3                       -0.614 +/- 0.006      -0.611 +/- 0.003  \n",
       "4                       -0.659 +/- 0.002      -0.654 +/- 0.001  \n",
       "5                       -0.605 +/- 0.009      -0.601 +/- 0.001  \n",
       "6                       -0.616 +/- 0.009      -0.610 +/- 0.003  "
      ]
     },
     "metadata": {},
     "output_type": "display_data"
    },
    {
     "data": {
      "text/markdown": [
       "# Results for Recall"
      ],
      "text/plain": [
       "<IPython.core.display.Markdown object>"
      ]
     },
     "metadata": {},
     "output_type": "display_data"
    },
    {
     "data": {
      "text/html": [
       "<div>\n",
       "<table border=\"1\" class=\"dataframe\">\n",
       "  <thead>\n",
       "    <tr style=\"text-align: right;\">\n",
       "      <th></th>\n",
       "      <th>Experiment</th>\n",
       "      <th>Transfer Learning</th>\n",
       "      <th>Transfer Learning with Revision Theory</th>\n",
       "      <th>Learning from scratch</th>\n",
       "    </tr>\n",
       "  </thead>\n",
       "  <tbody>\n",
       "    <tr>\n",
       "      <th>0</th>\n",
       "      <td>6_nell_sports_nell_finances</td>\n",
       "      <td>0.652 +/- 0.087</td>\n",
       "      <td>0.684 +/- 0.046</td>\n",
       "      <td>0.706 +/- 0.081</td>\n",
       "    </tr>\n",
       "    <tr>\n",
       "      <th>1</th>\n",
       "      <td>7_nell_finances_nell_sports</td>\n",
       "      <td>0.942 +/- 0.009</td>\n",
       "      <td>0.921 +/- 0.031</td>\n",
       "      <td>0.887 +/- 0.047</td>\n",
       "    </tr>\n",
       "    <tr>\n",
       "      <th>2</th>\n",
       "      <td>12_uwcse_yago2s</td>\n",
       "      <td>0.053 +/- 0.117</td>\n",
       "      <td>0.284 +/- 0.017</td>\n",
       "      <td>0.329 +/- 0.020</td>\n",
       "    </tr>\n",
       "    <tr>\n",
       "      <th>3</th>\n",
       "      <td>13_uwcse_yago2s</td>\n",
       "      <td>0.043 +/- 0.046</td>\n",
       "      <td>0.376 +/- 0.040</td>\n",
       "      <td>0.391 +/- 0.034</td>\n",
       "    </tr>\n",
       "    <tr>\n",
       "      <th>4</th>\n",
       "      <td>14_uwcse_yago2s</td>\n",
       "      <td>0.002 +/- 0.001</td>\n",
       "      <td>0.328 +/- 0.010</td>\n",
       "      <td>0.338 +/- 0.007</td>\n",
       "    </tr>\n",
       "    <tr>\n",
       "      <th>5</th>\n",
       "      <td>15_cora_yago2s</td>\n",
       "      <td>0.092 +/- 0.125</td>\n",
       "      <td>0.304 +/- 0.014</td>\n",
       "      <td>0.318 +/- 0.005</td>\n",
       "    </tr>\n",
       "    <tr>\n",
       "      <th>6</th>\n",
       "      <td>16_cora_yago2s</td>\n",
       "      <td>0.002 +/- 0.002</td>\n",
       "      <td>0.375 +/- 0.032</td>\n",
       "      <td>0.392 +/- 0.040</td>\n",
       "    </tr>\n",
       "  </tbody>\n",
       "</table>\n",
       "</div>"
      ],
      "text/plain": [
       "                    Experiment Transfer Learning  \\\n",
       "0  6_nell_sports_nell_finances   0.652 +/- 0.087   \n",
       "1  7_nell_finances_nell_sports   0.942 +/- 0.009   \n",
       "2              12_uwcse_yago2s   0.053 +/- 0.117   \n",
       "3              13_uwcse_yago2s   0.043 +/- 0.046   \n",
       "4              14_uwcse_yago2s   0.002 +/- 0.001   \n",
       "5               15_cora_yago2s   0.092 +/- 0.125   \n",
       "6               16_cora_yago2s   0.002 +/- 0.002   \n",
       "\n",
       "  Transfer Learning with Revision Theory Learning from scratch  \n",
       "0                        0.684 +/- 0.046       0.706 +/- 0.081  \n",
       "1                        0.921 +/- 0.031       0.887 +/- 0.047  \n",
       "2                        0.284 +/- 0.017       0.329 +/- 0.020  \n",
       "3                        0.376 +/- 0.040       0.391 +/- 0.034  \n",
       "4                        0.328 +/- 0.010       0.338 +/- 0.007  \n",
       "5                        0.304 +/- 0.014       0.318 +/- 0.005  \n",
       "6                        0.375 +/- 0.032       0.392 +/- 0.040  "
      ]
     },
     "metadata": {},
     "output_type": "display_data"
    },
    {
     "data": {
      "text/markdown": [
       "# Results for F1"
      ],
      "text/plain": [
       "<IPython.core.display.Markdown object>"
      ]
     },
     "metadata": {},
     "output_type": "display_data"
    },
    {
     "data": {
      "text/html": [
       "<div>\n",
       "<table border=\"1\" class=\"dataframe\">\n",
       "  <thead>\n",
       "    <tr style=\"text-align: right;\">\n",
       "      <th></th>\n",
       "      <th>Experiment</th>\n",
       "      <th>Transfer Learning</th>\n",
       "      <th>Transfer Learning with Revision Theory</th>\n",
       "      <th>Learning from scratch</th>\n",
       "    </tr>\n",
       "  </thead>\n",
       "  <tbody>\n",
       "    <tr>\n",
       "      <th>0</th>\n",
       "      <td>6_nell_sports_nell_finances</td>\n",
       "      <td>0.723 +/- 0.031</td>\n",
       "      <td>0.764 +/- 0.034</td>\n",
       "      <td>0.786 +/- 0.059</td>\n",
       "    </tr>\n",
       "    <tr>\n",
       "      <th>1</th>\n",
       "      <td>7_nell_finances_nell_sports</td>\n",
       "      <td>0.843 +/- 0.018</td>\n",
       "      <td>0.859 +/- 0.040</td>\n",
       "      <td>0.862 +/- 0.015</td>\n",
       "    </tr>\n",
       "    <tr>\n",
       "      <th>2</th>\n",
       "      <td>12_uwcse_yago2s</td>\n",
       "      <td>0.095 +/- 0.204</td>\n",
       "      <td>0.429 +/- 0.020</td>\n",
       "      <td>0.475 +/- 0.019</td>\n",
       "    </tr>\n",
       "    <tr>\n",
       "      <th>3</th>\n",
       "      <td>13_uwcse_yago2s</td>\n",
       "      <td>0.082 +/- 0.085</td>\n",
       "      <td>0.521 +/- 0.032</td>\n",
       "      <td>0.533 +/- 0.027</td>\n",
       "    </tr>\n",
       "    <tr>\n",
       "      <th>4</th>\n",
       "      <td>14_uwcse_yago2s</td>\n",
       "      <td>0.005 +/- 0.003</td>\n",
       "      <td>0.445 +/- 0.001</td>\n",
       "      <td>0.460 +/- 0.007</td>\n",
       "    </tr>\n",
       "    <tr>\n",
       "      <th>5</th>\n",
       "      <td>15_cora_yago2s</td>\n",
       "      <td>0.162 +/- 0.219</td>\n",
       "      <td>0.449 +/- 0.016</td>\n",
       "      <td>0.464 +/- 0.005</td>\n",
       "    </tr>\n",
       "    <tr>\n",
       "      <th>6</th>\n",
       "      <td>16_cora_yago2s</td>\n",
       "      <td>nan +/- nan</td>\n",
       "      <td>0.519 +/- 0.020</td>\n",
       "      <td>0.535 +/- 0.027</td>\n",
       "    </tr>\n",
       "  </tbody>\n",
       "</table>\n",
       "</div>"
      ],
      "text/plain": [
       "                    Experiment Transfer Learning  \\\n",
       "0  6_nell_sports_nell_finances   0.723 +/- 0.031   \n",
       "1  7_nell_finances_nell_sports   0.843 +/- 0.018   \n",
       "2              12_uwcse_yago2s   0.095 +/- 0.204   \n",
       "3              13_uwcse_yago2s   0.082 +/- 0.085   \n",
       "4              14_uwcse_yago2s   0.005 +/- 0.003   \n",
       "5               15_cora_yago2s   0.162 +/- 0.219   \n",
       "6               16_cora_yago2s       nan +/- nan   \n",
       "\n",
       "  Transfer Learning with Revision Theory Learning from scratch  \n",
       "0                        0.764 +/- 0.034       0.786 +/- 0.059  \n",
       "1                        0.859 +/- 0.040       0.862 +/- 0.015  \n",
       "2                        0.429 +/- 0.020       0.475 +/- 0.019  \n",
       "3                        0.521 +/- 0.032       0.533 +/- 0.027  \n",
       "4                        0.445 +/- 0.001       0.460 +/- 0.007  \n",
       "5                        0.449 +/- 0.016       0.464 +/- 0.005  \n",
       "6                        0.519 +/- 0.020       0.535 +/- 0.027  "
      ]
     },
     "metadata": {},
     "output_type": "display_data"
    },
    {
     "data": {
      "text/markdown": [
       "# Results for Precision"
      ],
      "text/plain": [
       "<IPython.core.display.Markdown object>"
      ]
     },
     "metadata": {},
     "output_type": "display_data"
    },
    {
     "data": {
      "text/html": [
       "<div>\n",
       "<table border=\"1\" class=\"dataframe\">\n",
       "  <thead>\n",
       "    <tr style=\"text-align: right;\">\n",
       "      <th></th>\n",
       "      <th>Experiment</th>\n",
       "      <th>Transfer Learning</th>\n",
       "      <th>Transfer Learning with Revision Theory</th>\n",
       "      <th>Learning from scratch</th>\n",
       "    </tr>\n",
       "  </thead>\n",
       "  <tbody>\n",
       "    <tr>\n",
       "      <th>0</th>\n",
       "      <td>6_nell_sports_nell_finances</td>\n",
       "      <td>0.817 +/- 0.068</td>\n",
       "      <td>0.867 +/- 0.052</td>\n",
       "      <td>0.887 +/- 0.027</td>\n",
       "    </tr>\n",
       "    <tr>\n",
       "      <th>1</th>\n",
       "      <td>7_nell_finances_nell_sports</td>\n",
       "      <td>0.763 +/- 0.024</td>\n",
       "      <td>0.805 +/- 0.047</td>\n",
       "      <td>0.839 +/- 0.043</td>\n",
       "    </tr>\n",
       "    <tr>\n",
       "      <th>2</th>\n",
       "      <td>12_uwcse_yago2s</td>\n",
       "      <td>1.000 +/- 0.000</td>\n",
       "      <td>0.870 +/- 0.006</td>\n",
       "      <td>0.855 +/- 0.010</td>\n",
       "    </tr>\n",
       "    <tr>\n",
       "      <th>3</th>\n",
       "      <td>13_uwcse_yago2s</td>\n",
       "      <td>0.903 +/- 0.015</td>\n",
       "      <td>0.849 +/- 0.039</td>\n",
       "      <td>0.842 +/- 0.020</td>\n",
       "    </tr>\n",
       "    <tr>\n",
       "      <th>4</th>\n",
       "      <td>14_uwcse_yago2s</td>\n",
       "      <td>1.000 +/- 0.000</td>\n",
       "      <td>0.693 +/- 0.037</td>\n",
       "      <td>0.718 +/- 0.011</td>\n",
       "    </tr>\n",
       "    <tr>\n",
       "      <th>5</th>\n",
       "      <td>15_cora_yago2s</td>\n",
       "      <td>0.988 +/- 0.033</td>\n",
       "      <td>0.860 +/- 0.012</td>\n",
       "      <td>0.852 +/- 0.002</td>\n",
       "    </tr>\n",
       "    <tr>\n",
       "      <th>6</th>\n",
       "      <td>16_cora_yago2s</td>\n",
       "      <td>nan +/- nan</td>\n",
       "      <td>0.847 +/- 0.069</td>\n",
       "      <td>0.845 +/- 0.056</td>\n",
       "    </tr>\n",
       "  </tbody>\n",
       "</table>\n",
       "</div>"
      ],
      "text/plain": [
       "                    Experiment Transfer Learning  \\\n",
       "0  6_nell_sports_nell_finances   0.817 +/- 0.068   \n",
       "1  7_nell_finances_nell_sports   0.763 +/- 0.024   \n",
       "2              12_uwcse_yago2s   1.000 +/- 0.000   \n",
       "3              13_uwcse_yago2s   0.903 +/- 0.015   \n",
       "4              14_uwcse_yago2s   1.000 +/- 0.000   \n",
       "5               15_cora_yago2s   0.988 +/- 0.033   \n",
       "6               16_cora_yago2s       nan +/- nan   \n",
       "\n",
       "  Transfer Learning with Revision Theory Learning from scratch  \n",
       "0                        0.867 +/- 0.052       0.887 +/- 0.027  \n",
       "1                        0.805 +/- 0.047       0.839 +/- 0.043  \n",
       "2                        0.870 +/- 0.006       0.855 +/- 0.010  \n",
       "3                        0.849 +/- 0.039       0.842 +/- 0.020  \n",
       "4                        0.693 +/- 0.037       0.718 +/- 0.011  \n",
       "5                        0.860 +/- 0.012       0.852 +/- 0.002  \n",
       "6                        0.847 +/- 0.069       0.845 +/- 0.056  "
      ]
     },
     "metadata": {},
     "output_type": "display_data"
    },
    {
     "data": {
      "text/markdown": [
       "# Results for Learning and Revision time"
      ],
      "text/plain": [
       "<IPython.core.display.Markdown object>"
      ]
     },
     "metadata": {},
     "output_type": "display_data"
    },
    {
     "data": {
      "text/html": [
       "<div>\n",
       "<table border=\"1\" class=\"dataframe\">\n",
       "  <thead>\n",
       "    <tr style=\"text-align: right;\">\n",
       "      <th></th>\n",
       "      <th>Experiment</th>\n",
       "      <th>Transfer Learning</th>\n",
       "      <th>Transfer Learning with Revision Theory</th>\n",
       "      <th>Learning from scratch</th>\n",
       "    </tr>\n",
       "  </thead>\n",
       "  <tbody>\n",
       "    <tr>\n",
       "      <th>0</th>\n",
       "      <td>6_nell_sports_nell_finances</td>\n",
       "      <td>19.212 +/- 33.574</td>\n",
       "      <td>36.588 +/- 33.024</td>\n",
       "      <td>15.182 +/- 2.027</td>\n",
       "    </tr>\n",
       "    <tr>\n",
       "      <th>1</th>\n",
       "      <td>7_nell_finances_nell_sports</td>\n",
       "      <td>209.832 +/- 24.814</td>\n",
       "      <td>1379.390 +/- 2219.379</td>\n",
       "      <td>411.468 +/- 162.097</td>\n",
       "    </tr>\n",
       "    <tr>\n",
       "      <th>2</th>\n",
       "      <td>12_uwcse_yago2s</td>\n",
       "      <td>423.519 +/- 116.002</td>\n",
       "      <td>1028.517 +/- 89.343</td>\n",
       "      <td>626.719 +/- 79.063</td>\n",
       "    </tr>\n",
       "    <tr>\n",
       "      <th>3</th>\n",
       "      <td>13_uwcse_yago2s</td>\n",
       "      <td>300.111 +/- 33.307</td>\n",
       "      <td>744.547 +/- 46.848</td>\n",
       "      <td>629.874 +/- 134.155</td>\n",
       "    </tr>\n",
       "    <tr>\n",
       "      <th>4</th>\n",
       "      <td>14_uwcse_yago2s</td>\n",
       "      <td>261.087 +/- 22.047</td>\n",
       "      <td>1135.429 +/- 942.581</td>\n",
       "      <td>1081.802 +/- 1149.325</td>\n",
       "    </tr>\n",
       "    <tr>\n",
       "      <th>5</th>\n",
       "      <td>15_cora_yago2s</td>\n",
       "      <td>447.502 +/- 68.723</td>\n",
       "      <td>1028.890 +/- 89.011</td>\n",
       "      <td>712.762 +/- 158.462</td>\n",
       "    </tr>\n",
       "    <tr>\n",
       "      <th>6</th>\n",
       "      <td>16_cora_yago2s</td>\n",
       "      <td>301.955 +/- 184.703</td>\n",
       "      <td>865.288 +/- 188.955</td>\n",
       "      <td>621.007 +/- 208.070</td>\n",
       "    </tr>\n",
       "  </tbody>\n",
       "</table>\n",
       "</div>"
      ],
      "text/plain": [
       "                    Experiment    Transfer Learning  \\\n",
       "0  6_nell_sports_nell_finances    19.212 +/- 33.574   \n",
       "1  7_nell_finances_nell_sports   209.832 +/- 24.814   \n",
       "2              12_uwcse_yago2s  423.519 +/- 116.002   \n",
       "3              13_uwcse_yago2s   300.111 +/- 33.307   \n",
       "4              14_uwcse_yago2s   261.087 +/- 22.047   \n",
       "5               15_cora_yago2s   447.502 +/- 68.723   \n",
       "6               16_cora_yago2s  301.955 +/- 184.703   \n",
       "\n",
       "  Transfer Learning with Revision Theory  Learning from scratch  \n",
       "0                      36.588 +/- 33.024       15.182 +/- 2.027  \n",
       "1                  1379.390 +/- 2219.379    411.468 +/- 162.097  \n",
       "2                    1028.517 +/- 89.343     626.719 +/- 79.063  \n",
       "3                     744.547 +/- 46.848    629.874 +/- 134.155  \n",
       "4                   1135.429 +/- 942.581  1081.802 +/- 1149.325  \n",
       "5                    1028.890 +/- 89.011    712.762 +/- 158.462  \n",
       "6                    865.288 +/- 188.955    621.007 +/- 208.070  "
      ]
     },
     "metadata": {},
     "output_type": "display_data"
    },
    {
     "data": {
      "text/markdown": [
       "# Results for Inference time"
      ],
      "text/plain": [
       "<IPython.core.display.Markdown object>"
      ]
     },
     "metadata": {},
     "output_type": "display_data"
    },
    {
     "data": {
      "text/html": [
       "<div>\n",
       "<table border=\"1\" class=\"dataframe\">\n",
       "  <thead>\n",
       "    <tr style=\"text-align: right;\">\n",
       "      <th></th>\n",
       "      <th>Experiment</th>\n",
       "      <th>Transfer Learning</th>\n",
       "      <th>Transfer Learning with Revision Theory</th>\n",
       "      <th>Learning from scratch</th>\n",
       "    </tr>\n",
       "  </thead>\n",
       "  <tbody>\n",
       "    <tr>\n",
       "      <th>0</th>\n",
       "      <td>6_nell_sports_nell_finances</td>\n",
       "      <td>19.212 +/- 33.574</td>\n",
       "      <td>1.414 +/- 0.060</td>\n",
       "      <td>1.463 +/- 0.115</td>\n",
       "    </tr>\n",
       "    <tr>\n",
       "      <th>1</th>\n",
       "      <td>7_nell_finances_nell_sports</td>\n",
       "      <td>209.832 +/- 24.814</td>\n",
       "      <td>90.210 +/- 210.111</td>\n",
       "      <td>5.235 +/- 1.860</td>\n",
       "    </tr>\n",
       "    <tr>\n",
       "      <th>2</th>\n",
       "      <td>12_uwcse_yago2s</td>\n",
       "      <td>423.519 +/- 116.002</td>\n",
       "      <td>80.769 +/- 7.211</td>\n",
       "      <td>90.869 +/- 35.870</td>\n",
       "    </tr>\n",
       "    <tr>\n",
       "      <th>3</th>\n",
       "      <td>13_uwcse_yago2s</td>\n",
       "      <td>300.111 +/- 33.307</td>\n",
       "      <td>92.674 +/- 16.885</td>\n",
       "      <td>92.963 +/- 17.793</td>\n",
       "    </tr>\n",
       "    <tr>\n",
       "      <th>4</th>\n",
       "      <td>14_uwcse_yago2s</td>\n",
       "      <td>261.087 +/- 22.047</td>\n",
       "      <td>108.710 +/- 18.725</td>\n",
       "      <td>96.682 +/- 13.568</td>\n",
       "    </tr>\n",
       "    <tr>\n",
       "      <th>5</th>\n",
       "      <td>15_cora_yago2s</td>\n",
       "      <td>447.502 +/- 68.723</td>\n",
       "      <td>81.602 +/- 29.415</td>\n",
       "      <td>88.973 +/- 21.167</td>\n",
       "    </tr>\n",
       "    <tr>\n",
       "      <th>6</th>\n",
       "      <td>16_cora_yago2s</td>\n",
       "      <td>301.955 +/- 184.703</td>\n",
       "      <td>93.404 +/- 18.153</td>\n",
       "      <td>77.471 +/- 29.339</td>\n",
       "    </tr>\n",
       "  </tbody>\n",
       "</table>\n",
       "</div>"
      ],
      "text/plain": [
       "                    Experiment    Transfer Learning  \\\n",
       "0  6_nell_sports_nell_finances    19.212 +/- 33.574   \n",
       "1  7_nell_finances_nell_sports   209.832 +/- 24.814   \n",
       "2              12_uwcse_yago2s  423.519 +/- 116.002   \n",
       "3              13_uwcse_yago2s   300.111 +/- 33.307   \n",
       "4              14_uwcse_yago2s   261.087 +/- 22.047   \n",
       "5               15_cora_yago2s   447.502 +/- 68.723   \n",
       "6               16_cora_yago2s  301.955 +/- 184.703   \n",
       "\n",
       "  Transfer Learning with Revision Theory Learning from scratch  \n",
       "0                        1.414 +/- 0.060       1.463 +/- 0.115  \n",
       "1                     90.210 +/- 210.111       5.235 +/- 1.860  \n",
       "2                       80.769 +/- 7.211     90.869 +/- 35.870  \n",
       "3                      92.674 +/- 16.885     92.963 +/- 17.793  \n",
       "4                     108.710 +/- 18.725     96.682 +/- 13.568  \n",
       "5                      81.602 +/- 29.415     88.973 +/- 21.167  \n",
       "6                      93.404 +/- 18.153     77.471 +/- 29.339  "
      ]
     },
     "metadata": {},
     "output_type": "display_data"
    }
   ],
   "source": [
    "experiments = [\n",
    "            #{'source':'imdb', 'target':'uwcse', 'predicate':'workedunder', 'to_predicate':'advisedby'},\n",
    "            #{'source':'uwcse', 'target':'imdb', 'predicate':'advisedby', 'to_predicate':'workedunder'},\n",
    "            #{'source':'imdb', 'target':'cora', 'predicate':'workedunder', 'to_predicate':'samevenue'},\n",
    "            #{'source':'cora', 'target':'imdb', 'predicate':'samevenue', 'to_predicate':'workedunder'},\n",
    "            #{'source':'yeast', 'target':'twitter', 'predicate':'interaction', 'to_predicate':'follows'},\n",
    "            #{'source':'twitter', 'target':'yeast', 'predicate':'follows', 'to_predicate':'interaction'},\n",
    "            {'id': '6', 'source':'nell_sports', 'target':'nell_finances', 'predicate':'teamplayssport', 'to_predicate':'companyeconomicsector'},\n",
    "            {'id': '7', 'source':'nell_finances', 'target':'nell_sports', 'predicate':'companyeconomicsector', 'to_predicate':'teamplayssport'},\n",
    "            #{'source':'yeast', 'target':'webkb', 'predicate':'proteinclass'},\n",
    "            #{'source':'webkb', 'target':'yeast', 'predicate':'departmentof'},\n",
    "            #{'source':'twitter', 'target':'webkb', 'predicate':'accounttype'},\n",
    "            #{'source':'webkb', 'target':'twitter', 'predicate':'pageclass'},\n",
    "            {'id': '12', 'source':'uwcse', 'target':'yago2s', 'predicate':'advisedby', 'to_predicate':'ismarriedto'},\n",
    "            {'id': '13', 'source':'uwcse', 'target':'yago2s', 'predicate':'advisedby', 'to_predicate':'hasacademicadvisor'},\n",
    "            {'id': '14', 'source':'uwcse', 'target':'yago2s', 'predicate':'advisedby', 'to_predicate':'haschild'},\n",
    "            {'id': '15', 'source':'cora', 'target':'yago2s', 'predicate':'samevenue', 'to_predicate':'ismarriedto'},\n",
    "            {'id': '16', 'source':'cora', 'target':'yago2s', 'predicate':'samevenue', 'to_predicate':'hasacademicadvisor'},\n",
    "            {'id': '17', 'source':'cora', 'target':'yago2s', 'predicate':'samevenue', 'to_predicate':'haschild'},\n",
    "            ]\n",
    "\n",
    "for metric in ['AUC ROC', 'AUC PR', 'CLL', 'Recall', 'F1', 'Precision', 'Learning and Revision time', 'Inference time']:\n",
    "    display(Markdown('# Results for ' + metric))\n",
    "    table = []\n",
    "    for j in range(len(experiments)):\n",
    "        dataset = experiments[j]['id'] + '_' + experiments[j]['source'] + '_' + experiments[j]['target']\n",
    "        if dataset in data['results']: \n",
    "            #for metric in ['AUC ROC', 'AUC PR']:\n",
    "                #display(Markdown('## ' + metric))\n",
    "            if metric == 'Precision':\n",
    "                scratch = np.array([item['scratch']['Precision'][0] for sublist in data['results'][str(dataset)] for item in sublist])\n",
    "                parameter = np.array([item['transfer']['Parameter Learning results']['Precision'][0] for sublist in data['results'][str(dataset)] for item in sublist])\n",
    "                transfer = np.array([item['transfer']['Precision'][0] for sublist in data['results'][str(dataset)] for item in sublist])\n",
    "            elif metric == 'Learning and Revision time':\n",
    "                scratch = np.array([item['scratch']['Learning time'] for sublist in data['results'][str(dataset)] for item in sublist])\n",
    "                parameter = np.array([item['transfer']['Parameter Learning results']['Learning time'] for sublist in data['results'][str(dataset)] for item in sublist])\n",
    "                transfer = np.array([item['transfer']['Learning time'] for sublist in data['results'][str(dataset)] for item in sublist])\n",
    "            elif metric == 'Inference time':\n",
    "                scratch = np.array([item['scratch']['Inference time'] for sublist in data['results'][str(dataset)] for item in sublist])\n",
    "                parameter = np.array([item['transfer']['Parameter Learning results']['Learning time'] for sublist in data['results'][str(dataset)] for item in sublist])\n",
    "                transfer = np.array([item['transfer']['Inference time'] for sublist in data['results'][str(dataset)] for item in sublist])\n",
    "            else:\n",
    "                scratch = np.array([item['scratch'][metric] for sublist in data['results'][str(dataset)] for item in sublist])\n",
    "                parameter = np.array([item['transfer']['Parameter Learning results'][metric] for sublist in data['results'][str(dataset)] for item in sublist])\n",
    "                transfer = np.array([item['transfer'][metric] for sublist in data['results'][str(dataset)] for item in sublist])\n",
    "            table.append([dataset, '%.3f +/- %.3f' % (parameter.mean(), 2 * parameter.std()),\n",
    "            '%.3f +/- %.3f' % (transfer.mean(), 2 * transfer.std()),\n",
    "            '%.3f +/- %.3f' % (scratch.mean(), 2 * scratch.std())])\n",
    "    display(pd.DataFrame(table, columns=['Experiment', 'Transfer Learning', 'Transfer Learning with Revision Theory', 'Learning from scratch']))"
   ]
  },
  {
   "cell_type": "code",
   "execution_count": 4,
   "metadata": {
    "collapsed": false
   },
   "outputs": [
    {
     "data": {
      "text/markdown": [
       "# Results for 6_nell_sports_nell_finances"
      ],
      "text/plain": [
       "<IPython.core.display.Markdown object>"
      ]
     },
     "metadata": {},
     "output_type": "display_data"
    },
    {
     "data": {
      "text/markdown": [
       "## AUC ROC"
      ],
      "text/plain": [
       "<IPython.core.display.Markdown object>"
      ]
     },
     "metadata": {},
     "output_type": "display_data"
    },
    {
     "name": "stdout",
     "output_type": "stream",
     "text": [
      "Scratch: [0.834944 0.849225 0.855422]\n",
      "Transfer: [0.79126  0.803817 0.799554]\n",
      "Transfer & Revision: [0.83374  0.832887 0.840527]\n"
     ]
    },
    {
     "data": {
      "text/markdown": [
       "## AUC PR"
      ],
      "text/plain": [
       "<IPython.core.display.Markdown object>"
      ]
     },
     "metadata": {},
     "output_type": "display_data"
    },
    {
     "name": "stdout",
     "output_type": "stream",
     "text": [
      "Scratch: [0.834493 0.877864 0.871121]\n",
      "Transfer: [0.767904 0.781443 0.777529]\n",
      "Transfer & Revision: [0.84134  0.862432 0.857185]\n"
     ]
    },
    {
     "data": {
      "text/markdown": [
       "## CLL"
      ],
      "text/plain": [
       "<IPython.core.display.Markdown object>"
      ]
     },
     "metadata": {},
     "output_type": "display_data"
    },
    {
     "name": "stdout",
     "output_type": "stream",
     "text": [
      "Scratch: [-0.489053 -0.467711 -0.455333]\n",
      "Transfer: [-0.544647 -0.53695  -0.536391]\n",
      "Transfer & Revision: [-0.492168 -0.486334 -0.488206]\n"
     ]
    },
    {
     "data": {
      "text/markdown": [
       "## Recall"
      ],
      "text/plain": [
       "<IPython.core.display.Markdown object>"
      ]
     },
     "metadata": {},
     "output_type": "display_data"
    },
    {
     "name": "stdout",
     "output_type": "stream",
     "text": [
      "Scratch: [0.65251  0.716216 0.75    ]\n",
      "Transfer: [0.679537 0.685328 0.590385]\n",
      "Transfer & Revision: [0.660232 0.677606 0.715385]\n"
     ]
    },
    {
     "data": {
      "text/markdown": [
       "## F1"
      ],
      "text/plain": [
       "<IPython.core.display.Markdown object>"
      ]
     },
     "metadata": {},
     "output_type": "display_data"
    },
    {
     "name": "stdout",
     "output_type": "stream",
     "text": [
      "Scratch: [0.745314 0.797849 0.815047]\n",
      "Transfer: [0.729534 0.738046 0.701714]\n",
      "Transfer & Revision: [0.74026  0.77398  0.779058]\n"
     ]
    },
    {
     "data": {
      "text/markdown": [
       "## Precision"
      ],
      "text/plain": [
       "<IPython.core.display.Markdown object>"
      ]
     },
     "metadata": {},
     "output_type": "display_data"
    },
    {
     "name": "stdout",
     "output_type": "stream",
     "text": [
      "Scratch: [0.868895 0.900485 0.892449]\n",
      "Transfer: [0.787472 0.79955  0.864789]\n",
      "Transfer & Revision: [0.842365 0.902314 0.855172]\n"
     ]
    },
    {
     "data": {
      "text/markdown": [
       "## Learning and Revision time"
      ],
      "text/plain": [
       "<IPython.core.display.Markdown object>"
      ]
     },
     "metadata": {},
     "output_type": "display_data"
    },
    {
     "name": "stdout",
     "output_type": "stream",
     "text": [
      "Scratch: [13.789 15.587 16.17 ]\n",
      "Transfer: [42.312 12.404  2.92 ]\n",
      "Transfer & Revision: [54.314 40.89  14.56 ]\n"
     ]
    },
    {
     "data": {
      "text/markdown": [
       "## Inference time"
      ],
      "text/plain": [
       "<IPython.core.display.Markdown object>"
      ]
     },
     "metadata": {},
     "output_type": "display_data"
    },
    {
     "name": "stdout",
     "output_type": "stream",
     "text": [
      "Scratch: [1.488 1.383 1.517]\n",
      "Transfer: [42.312 12.404  2.92 ]\n",
      "Transfer & Revision: [1.439 1.431 1.372]\n"
     ]
    },
    {
     "data": {
      "text/markdown": [
       "# Results for 7_nell_finances_nell_sports"
      ],
      "text/plain": [
       "<IPython.core.display.Markdown object>"
      ]
     },
     "metadata": {},
     "output_type": "display_data"
    },
    {
     "data": {
      "text/markdown": [
       "## AUC ROC"
      ],
      "text/plain": [
       "<IPython.core.display.Markdown object>"
      ]
     },
     "metadata": {},
     "output_type": "display_data"
    },
    {
     "name": "stdout",
     "output_type": "stream",
     "text": [
      "Scratch: [0.945291 0.944581 0.917717]\n",
      "Transfer: [0.849575 0.866384 0.831753]\n",
      "Transfer & Revision: [0.936108 0.926832 0.865722]\n"
     ]
    },
    {
     "data": {
      "text/markdown": [
       "## AUC PR"
      ],
      "text/plain": [
       "<IPython.core.display.Markdown object>"
      ]
     },
     "metadata": {},
     "output_type": "display_data"
    },
    {
     "name": "stdout",
     "output_type": "stream",
     "text": [
      "Scratch: [0.940838 0.936018 0.893838]\n",
      "Transfer: [0.779586 0.849671 0.761153]\n",
      "Transfer & Revision: [0.923997 0.922672 0.837121]\n"
     ]
    },
    {
     "data": {
      "text/markdown": [
       "## CLL"
      ],
      "text/plain": [
       "<IPython.core.display.Markdown object>"
      ]
     },
     "metadata": {},
     "output_type": "display_data"
    },
    {
     "name": "stdout",
     "output_type": "stream",
     "text": [
      "Scratch: [-0.325806 -0.331217 -0.369373]\n",
      "Transfer: [-0.435442 -0.443067 -0.454435]\n",
      "Transfer & Revision: [-0.341873 -0.36188  -0.424198]\n"
     ]
    },
    {
     "data": {
      "text/markdown": [
       "## Recall"
      ],
      "text/plain": [
       "<IPython.core.display.Markdown object>"
      ]
     },
     "metadata": {},
     "output_type": "display_data"
    },
    {
     "name": "stdout",
     "output_type": "stream",
     "text": [
      "Scratch: [0.859848 0.916667 0.883459]\n",
      "Transfer: [0.943182 0.94697  0.93609 ]\n",
      "Transfer & Revision: [0.931818 0.931818 0.898496]\n"
     ]
    },
    {
     "data": {
      "text/markdown": [
       "## F1"
      ],
      "text/plain": [
       "<IPython.core.display.Markdown object>"
      ]
     },
     "metadata": {},
     "output_type": "display_data"
    },
    {
     "name": "stdout",
     "output_type": "stream",
     "text": [
      "Scratch: [0.864762 0.868941 0.851449]\n",
      "Transfer: [0.845501 0.853242 0.831386]\n",
      "Transfer & Revision: [0.878571 0.866197 0.831304]\n"
     ]
    },
    {
     "data": {
      "text/markdown": [
       "## Precision"
      ],
      "text/plain": [
       "<IPython.core.display.Markdown object>"
      ]
     },
     "metadata": {},
     "output_type": "display_data"
    },
    {
     "name": "stdout",
     "output_type": "stream",
     "text": [
      "Scratch: [0.869732 0.825939 0.821678]\n",
      "Transfer: [0.766154 0.776398 0.747748]\n",
      "Transfer & Revision: [0.831081 0.809211 0.773463]\n"
     ]
    },
    {
     "data": {
      "text/markdown": [
       "## Learning and Revision time"
      ],
      "text/plain": [
       "<IPython.core.display.Markdown object>"
      ]
     },
     "metadata": {},
     "output_type": "display_data"
    },
    {
     "name": "stdout",
     "output_type": "stream",
     "text": [
      "Scratch: [424.102 503.81  306.492]\n",
      "Transfer: [208.063 195.598 225.834]\n",
      "Transfer & Revision: [ 704.842 2943.797  489.532]\n"
     ]
    },
    {
     "data": {
      "text/markdown": [
       "## Inference time"
      ],
      "text/plain": [
       "<IPython.core.display.Markdown object>"
      ]
     },
     "metadata": {},
     "output_type": "display_data"
    },
    {
     "name": "stdout",
     "output_type": "stream",
     "text": [
      "Scratch: [4.773 6.532 4.399]\n",
      "Transfer: [208.063 195.598 225.834]\n",
      "Transfer & Revision: [ 18.809 238.744  13.077]\n"
     ]
    },
    {
     "data": {
      "text/markdown": [
       "# Results for 12_uwcse_yago2s"
      ],
      "text/plain": [
       "<IPython.core.display.Markdown object>"
      ]
     },
     "metadata": {},
     "output_type": "display_data"
    },
    {
     "data": {
      "text/markdown": [
       "## AUC ROC"
      ],
      "text/plain": [
       "<IPython.core.display.Markdown object>"
      ]
     },
     "metadata": {},
     "output_type": "display_data"
    },
    {
     "name": "stdout",
     "output_type": "stream",
     "text": [
      "Scratch: [0.728048 0.727634 0.733341]\n",
      "Transfer: [0.505625 0.571948 0.501971]\n",
      "Transfer & Revision: [0.713806 0.722164 0.719025]\n"
     ]
    },
    {
     "data": {
      "text/markdown": [
       "## AUC PR"
      ],
      "text/plain": [
       "<IPython.core.display.Markdown object>"
      ]
     },
     "metadata": {},
     "output_type": "display_data"
    },
    {
     "name": "stdout",
     "output_type": "stream",
     "text": [
      "Scratch: [0.753814 0.755891 0.758476]\n",
      "Transfer: [0.517252 0.631306 0.516182]\n",
      "Transfer & Revision: [0.73862  0.749028 0.745565]\n"
     ]
    },
    {
     "data": {
      "text/markdown": [
       "## CLL"
      ],
      "text/plain": [
       "<IPython.core.display.Markdown object>"
      ]
     },
     "metadata": {},
     "output_type": "display_data"
    },
    {
     "name": "stdout",
     "output_type": "stream",
     "text": [
      "Scratch: [-0.600415 -0.602879 -0.601196]\n",
      "Transfer: [-0.691961 -0.654142 -0.691619]\n",
      "Transfer & Revision: [-0.606946 -0.601551 -0.606507]\n"
     ]
    },
    {
     "data": {
      "text/markdown": [
       "## Recall"
      ],
      "text/plain": [
       "<IPython.core.display.Markdown object>"
      ]
     },
     "metadata": {},
     "output_type": "display_data"
    },
    {
     "name": "stdout",
     "output_type": "stream",
     "text": [
      "Scratch: [0.315474 0.339455 0.330957]\n",
      "Transfer: [0.011107 0.136123 0.012052]\n",
      "Transfer & Revision: [0.27294  0.292314 0.287986]\n"
     ]
    },
    {
     "data": {
      "text/markdown": [
       "## F1"
      ],
      "text/plain": [
       "<IPython.core.display.Markdown object>"
      ]
     },
     "metadata": {},
     "output_type": "display_data"
    },
    {
     "name": "stdout",
     "output_type": "stream",
     "text": [
      "Scratch: [0.461716 0.484879 0.477252]\n",
      "Transfer: [0.02197  0.239627 0.023817]\n",
      "Transfer & Revision: [0.415047 0.437911 0.433099]\n"
     ]
    },
    {
     "data": {
      "text/markdown": [
       "## Precision"
      ],
      "text/plain": [
       "<IPython.core.display.Markdown object>"
      ]
     },
     "metadata": {},
     "output_type": "display_data"
    },
    {
     "name": "stdout",
     "output_type": "stream",
     "text": [
      "Scratch: [0.860709 0.848289 0.855349]\n",
      "Transfer: [1. 1. 1.]\n",
      "Transfer & Revision: [0.865866 0.872481 0.872992]\n"
     ]
    },
    {
     "data": {
      "text/markdown": [
       "## Learning and Revision time"
      ],
      "text/plain": [
       "<IPython.core.display.Markdown object>"
      ]
     },
     "metadata": {},
     "output_type": "display_data"
    },
    {
     "name": "stdout",
     "output_type": "stream",
     "text": [
      "Scratch: [572.201 643.258 664.699]\n",
      "Transfer: [377.3   505.314 387.942]\n",
      "Transfer & Revision: [1013.129 1089.274  983.147]\n"
     ]
    },
    {
     "data": {
      "text/markdown": [
       "## Inference time"
      ],
      "text/plain": [
       "<IPython.core.display.Markdown object>"
      ]
     },
     "metadata": {},
     "output_type": "display_data"
    },
    {
     "name": "stdout",
     "output_type": "stream",
     "text": [
      "Scratch: [103.5    65.505 103.601]\n",
      "Transfer: [377.3   505.314 387.942]\n",
      "Transfer & Revision: [80.12  85.474 76.714]\n"
     ]
    },
    {
     "data": {
      "text/markdown": [
       "# Results for 13_uwcse_yago2s"
      ],
      "text/plain": [
       "<IPython.core.display.Markdown object>"
      ]
     },
     "metadata": {},
     "output_type": "display_data"
    },
    {
     "data": {
      "text/markdown": [
       "## AUC ROC"
      ],
      "text/plain": [
       "<IPython.core.display.Markdown object>"
      ]
     },
     "metadata": {},
     "output_type": "display_data"
    },
    {
     "name": "stdout",
     "output_type": "stream",
     "text": [
      "Scratch: [0.705759 0.708393 0.723212]\n",
      "Transfer: [0.525648 0.504922 0.527202]\n",
      "Transfer & Revision: [0.698253 0.715741 0.704142]\n"
     ]
    },
    {
     "data": {
      "text/markdown": [
       "## AUC PR"
      ],
      "text/plain": [
       "<IPython.core.display.Markdown object>"
      ]
     },
     "metadata": {},
     "output_type": "display_data"
    },
    {
     "name": "stdout",
     "output_type": "stream",
     "text": [
      "Scratch: [0.745773 0.743158 0.754542]\n",
      "Transfer: [0.555101 0.514668 0.557228]\n",
      "Transfer & Revision: [0.7363   0.745475 0.74065 ]\n"
     ]
    },
    {
     "data": {
      "text/markdown": [
       "## CLL"
      ],
      "text/plain": [
       "<IPython.core.display.Markdown object>"
      ]
     },
     "metadata": {},
     "output_type": "display_data"
    },
    {
     "name": "stdout",
     "output_type": "stream",
     "text": [
      "Scratch: [-0.611705 -0.611909 -0.608657]\n",
      "Transfer: [-0.684239 -0.69283  -0.683279]\n",
      "Transfer & Revision: [-0.618234 -0.611607 -0.612543]\n"
     ]
    },
    {
     "data": {
      "text/markdown": [
       "## Recall"
      ],
      "text/plain": [
       "<IPython.core.display.Markdown object>"
      ]
     },
     "metadata": {},
     "output_type": "display_data"
    },
    {
     "name": "stdout",
     "output_type": "stream",
     "text": [
      "Scratch: [0.41399  0.374093 0.383938]\n",
      "Transfer: [0.057513 0.010881 0.061658]\n",
      "Transfer & Revision: [0.394301 0.386528 0.348187]\n"
     ]
    },
    {
     "data": {
      "text/markdown": [
       "## F1"
      ],
      "text/plain": [
       "<IPython.core.display.Markdown object>"
      ]
     },
     "metadata": {},
     "output_type": "display_data"
    },
    {
     "name": "stdout",
     "output_type": "stream",
     "text": [
      "Scratch: [0.551986 0.519238 0.528908]\n",
      "Transfer: [0.108134 0.021505 0.115366]\n",
      "Transfer & Revision: [0.53441  0.530018 0.498147]\n"
     ]
    },
    {
     "data": {
      "text/markdown": [
       "## Precision"
      ],
      "text/plain": [
       "<IPython.core.display.Markdown object>"
      ]
     },
     "metadata": {},
     "output_type": "display_data"
    },
    {
     "name": "stdout",
     "output_type": "stream",
     "text": [
      "Scratch: [0.827979 0.848414 0.849771]\n",
      "Transfer: [0.902439 0.913043 0.894737]\n",
      "Transfer & Revision: [0.828976 0.842938 0.875   ]\n"
     ]
    },
    {
     "data": {
      "text/markdown": [
       "## Learning and Revision time"
      ],
      "text/plain": [
       "<IPython.core.display.Markdown object>"
      ]
     },
     "metadata": {},
     "output_type": "display_data"
    },
    {
     "name": "stdout",
     "output_type": "stream",
     "text": [
      "Scratch: [641.67  542.461 705.492]\n",
      "Transfer: [310.915 276.586 312.833]\n",
      "Transfer & Revision: [719.883 776.031 737.726]\n"
     ]
    },
    {
     "data": {
      "text/markdown": [
       "## Inference time"
      ],
      "text/plain": [
       "<IPython.core.display.Markdown object>"
      ]
     },
     "metadata": {},
     "output_type": "display_data"
    },
    {
     "name": "stdout",
     "output_type": "stream",
     "text": [
      "Scratch: [ 97.939  80.467 100.482]\n",
      "Transfer: [310.915 276.586 312.833]\n",
      "Transfer & Revision: [99.296 97.967 80.759]\n"
     ]
    },
    {
     "data": {
      "text/markdown": [
       "# Results for 14_uwcse_yago2s"
      ],
      "text/plain": [
       "<IPython.core.display.Markdown object>"
      ]
     },
     "metadata": {},
     "output_type": "display_data"
    },
    {
     "data": {
      "text/markdown": [
       "## AUC ROC"
      ],
      "text/plain": [
       "<IPython.core.display.Markdown object>"
      ]
     },
     "metadata": {},
     "output_type": "display_data"
    },
    {
     "name": "stdout",
     "output_type": "stream",
     "text": [
      "Scratch: [0.662969 0.660959 0.665099]\n",
      "Transfer: [0.5038   0.517671 0.501169]\n",
      "Transfer & Revision: [0.646954 0.644507 0.656907]\n"
     ]
    },
    {
     "data": {
      "text/markdown": [
       "## AUC PR"
      ],
      "text/plain": [
       "<IPython.core.display.Markdown object>"
      ]
     },
     "metadata": {},
     "output_type": "display_data"
    },
    {
     "name": "stdout",
     "output_type": "stream",
     "text": [
      "Scratch: [0.686472 0.68968  0.686003]\n",
      "Transfer: [0.505963 0.517169 0.505458]\n",
      "Transfer & Revision: [0.673256 0.669945 0.682406]\n"
     ]
    },
    {
     "data": {
      "text/markdown": [
       "## CLL"
      ],
      "text/plain": [
       "<IPython.core.display.Markdown object>"
      ]
     },
     "metadata": {},
     "output_type": "display_data"
    },
    {
     "name": "stdout",
     "output_type": "stream",
     "text": [
      "Scratch: [-0.653301 -0.653872 -0.654554]\n",
      "Transfer: [-0.694306 -0.694269 -0.694163]\n",
      "Transfer & Revision: [-0.657577 -0.660295 -0.659384]\n"
     ]
    },
    {
     "data": {
      "text/markdown": [
       "## Recall"
      ],
      "text/plain": [
       "<IPython.core.display.Markdown object>"
      ]
     },
     "metadata": {},
     "output_type": "display_data"
    },
    {
     "name": "stdout",
     "output_type": "stream",
     "text": [
      "Scratch: [0.3335 0.342  0.3383]\n",
      "Transfer: [0.0024 0.0014 0.003 ]\n",
      "Transfer & Revision: [0.3283 0.334  0.3222]\n"
     ]
    },
    {
     "data": {
      "text/markdown": [
       "## F1"
      ],
      "text/plain": [
       "<IPython.core.display.Markdown object>"
      ]
     },
     "metadata": {},
     "output_type": "display_data"
    },
    {
     "name": "stdout",
     "output_type": "stream",
     "text": [
      "Scratch: [0.454824 0.4626   0.461528]\n",
      "Transfer: [0.004789 0.002796 0.005982]\n",
      "Transfer & Revision: [0.445424 0.445898 0.444291]\n"
     ]
    },
    {
     "data": {
      "text/markdown": [
       "## Precision"
      ],
      "text/plain": [
       "<IPython.core.display.Markdown object>"
      ]
     },
     "metadata": {},
     "output_type": "display_data"
    },
    {
     "name": "stdout",
     "output_type": "stream",
     "text": [
      "Scratch: [0.714898 0.714584 0.725966]\n",
      "Transfer: [1. 1. 1.]\n",
      "Transfer & Revision: [0.69247  0.670548 0.715364]\n"
     ]
    },
    {
     "data": {
      "text/markdown": [
       "## Learning and Revision time"
      ],
      "text/plain": [
       "<IPython.core.display.Markdown object>"
      ]
     },
     "metadata": {},
     "output_type": "display_data"
    },
    {
     "name": "stdout",
     "output_type": "stream",
     "text": [
      "Scratch: [1870.456  857.398  517.552]\n",
      "Transfer: [256.009 276.39  250.861]\n",
      "Transfer & Revision: [1800.038  846.633  759.615]\n"
     ]
    },
    {
     "data": {
      "text/markdown": [
       "## Inference time"
      ],
      "text/plain": [
       "<IPython.core.display.Markdown object>"
      ]
     },
     "metadata": {},
     "output_type": "display_data"
    },
    {
     "name": "stdout",
     "output_type": "stream",
     "text": [
      "Scratch: [101.803  87.095 101.147]\n",
      "Transfer: [256.009 276.39  250.861]\n",
      "Transfer & Revision: [121.894 103.178 101.058]\n"
     ]
    },
    {
     "data": {
      "text/markdown": [
       "# Results for 15_cora_yago2s"
      ],
      "text/plain": [
       "<IPython.core.display.Markdown object>"
      ]
     },
     "metadata": {},
     "output_type": "display_data"
    },
    {
     "data": {
      "text/markdown": [
       "## AUC ROC"
      ],
      "text/plain": [
       "<IPython.core.display.Markdown object>"
      ]
     },
     "metadata": {},
     "output_type": "display_data"
    },
    {
     "name": "stdout",
     "output_type": "stream",
     "text": [
      "Scratch: [0.72607  0.722551 0.727711]\n",
      "Transfer: [0.574878 0.59764  0.500822]\n",
      "Transfer & Revision: [0.725547 0.724376 0.71912 ]\n"
     ]
    },
    {
     "data": {
      "text/markdown": [
       "## AUC PR"
      ],
      "text/plain": [
       "<IPython.core.display.Markdown object>"
      ]
     },
     "metadata": {},
     "output_type": "display_data"
    },
    {
     "name": "stdout",
     "output_type": "stream",
     "text": [
      "Scratch: [0.749854 0.750208 0.750354]\n",
      "Transfer: [0.630613 0.642233 0.505554]\n",
      "Transfer & Revision: [0.748525 0.75416  0.745193]\n"
     ]
    },
    {
     "data": {
      "text/markdown": [
       "## CLL"
      ],
      "text/plain": [
       "<IPython.core.display.Markdown object>"
      ]
     },
     "metadata": {},
     "output_type": "display_data"
    },
    {
     "name": "stdout",
     "output_type": "stream",
     "text": [
      "Scratch: [-0.600603 -0.601183 -0.600169]\n",
      "Transfer: [-0.652627 -0.644813 -0.69425 ]\n",
      "Transfer & Revision: [-0.599651 -0.603956 -0.61056 ]\n"
     ]
    },
    {
     "data": {
      "text/markdown": [
       "## Recall"
      ],
      "text/plain": [
       "<IPython.core.display.Markdown object>"
      ]
     },
     "metadata": {},
     "output_type": "display_data"
    },
    {
     "name": "stdout",
     "output_type": "stream",
     "text": [
      "Scratch: [0.32027  0.319891 0.315308]\n",
      "Transfer: [0.135807 0.136312 0.003407]\n",
      "Transfer & Revision: [0.307396 0.310299 0.294107]\n"
     ]
    },
    {
     "data": {
      "text/markdown": [
       "## F1"
      ],
      "text/plain": [
       "<IPython.core.display.Markdown object>"
      ]
     },
     "metadata": {},
     "output_type": "display_data"
    },
    {
     "name": "stdout",
     "output_type": "stream",
     "text": [
      "Scratch: [0.465468 0.465046 0.460426]\n",
      "Transfer: [0.239138 0.239907 0.006791]\n",
      "Transfer & Revision: [0.452275 0.45731  0.437879]\n"
     ]
    },
    {
     "data": {
      "text/markdown": [
       "## Precision"
      ],
      "text/plain": [
       "<IPython.core.display.Markdown object>"
      ]
     },
     "metadata": {},
     "output_type": "display_data"
    },
    {
     "name": "stdout",
     "output_type": "stream",
     "text": [
      "Scratch: [0.85151  0.85136  0.853022]\n",
      "Transfer: [1.       0.999537 0.964286]\n",
      "Transfer & Revision: [0.855462 0.869035 0.856644]\n"
     ]
    },
    {
     "data": {
      "text/markdown": [
       "## Learning and Revision time"
      ],
      "text/plain": [
       "<IPython.core.display.Markdown object>"
      ]
     },
     "metadata": {},
     "output_type": "display_data"
    },
    {
     "name": "stdout",
     "output_type": "stream",
     "text": [
      "Scratch: [643.496 671.12  823.671]\n",
      "Transfer: [493.04  439.421 410.044]\n",
      "Transfer & Revision: [1076.738  969.554 1040.378]\n"
     ]
    },
    {
     "data": {
      "text/markdown": [
       "## Inference time"
      ],
      "text/plain": [
       "<IPython.core.display.Markdown object>"
      ]
     },
     "metadata": {},
     "output_type": "display_data"
    },
    {
     "name": "stdout",
     "output_type": "stream",
     "text": [
      "Scratch: [ 84.332  78.971 103.617]\n",
      "Transfer: [493.04  439.421 410.044]\n",
      "Transfer & Revision: [102.369  70.208  72.23 ]\n"
     ]
    },
    {
     "data": {
      "text/markdown": [
       "# Results for 16_cora_yago2s"
      ],
      "text/plain": [
       "<IPython.core.display.Markdown object>"
      ]
     },
     "metadata": {},
     "output_type": "display_data"
    },
    {
     "data": {
      "text/markdown": [
       "## AUC ROC"
      ],
      "text/plain": [
       "<IPython.core.display.Markdown object>"
      ]
     },
     "metadata": {},
     "output_type": "display_data"
    },
    {
     "name": "stdout",
     "output_type": "stream",
     "text": [
      "Scratch: [0.71694  0.717215 0.722693]\n",
      "Transfer: [0.50155  0.499744 0.499482]\n",
      "Transfer & Revision: [0.700749 0.713227 0.70915 ]\n"
     ]
    },
    {
     "data": {
      "text/markdown": [
       "## AUC PR"
      ],
      "text/plain": [
       "<IPython.core.display.Markdown object>"
      ]
     },
     "metadata": {},
     "output_type": "display_data"
    },
    {
     "name": "stdout",
     "output_type": "stream",
     "text": [
      "Scratch: [0.75031  0.750857 0.756494]\n",
      "Transfer: [0.504347 0.500521 0.499741]\n",
      "Transfer & Revision: [0.735529 0.750263 0.745317]\n"
     ]
    },
    {
     "data": {
      "text/markdown": [
       "## CLL"
      ],
      "text/plain": [
       "<IPython.core.display.Markdown object>"
      ]
     },
     "metadata": {},
     "output_type": "display_data"
    },
    {
     "name": "stdout",
     "output_type": "stream",
     "text": [
      "Scratch: [-0.611491 -0.60969  -0.607783]\n",
      "Transfer: [-0.694667 -0.694642 -0.695809]\n",
      "Transfer & Revision: [-0.621612 -0.611114 -0.615827]\n"
     ]
    },
    {
     "data": {
      "text/markdown": [
       "## Recall"
      ],
      "text/plain": [
       "<IPython.core.display.Markdown object>"
      ]
     },
     "metadata": {},
     "output_type": "display_data"
    },
    {
     "name": "stdout",
     "output_type": "stream",
     "text": [
      "Scratch: [0.420725 0.374611 0.381865]\n",
      "Transfer: [0.002073 0.002591 0.      ]\n",
      "Transfer & Revision: [0.395337 0.373575 0.355959]\n"
     ]
    },
    {
     "data": {
      "text/markdown": [
       "## F1"
      ],
      "text/plain": [
       "<IPython.core.display.Markdown object>"
      ]
     },
     "metadata": {},
     "output_type": "display_data"
    },
    {
     "name": "stdout",
     "output_type": "stream",
     "text": [
      "Scratch: [0.553134 0.520706 0.531554]\n",
      "Transfer: [0.004137 0.005152      nan]\n",
      "Transfer & Revision: [0.52876  0.523412 0.504961]\n"
     ]
    },
    {
     "data": {
      "text/markdown": [
       "## Precision"
      ],
      "text/plain": [
       "<IPython.core.display.Markdown object>"
      ]
     },
     "metadata": {},
     "output_type": "display_data"
    },
    {
     "name": "stdout",
     "output_type": "stream",
     "text": [
      "Scratch: [0.807157 0.853601 0.874259]\n",
      "Transfer: [1.       0.454545      nan]\n",
      "Transfer & Revision: [0.798117 0.873939 0.868521]\n"
     ]
    },
    {
     "data": {
      "text/markdown": [
       "## Learning and Revision time"
      ],
      "text/plain": [
       "<IPython.core.display.Markdown object>"
      ]
     },
     "metadata": {},
     "output_type": "display_data"
    },
    {
     "name": "stdout",
     "output_type": "stream",
     "text": [
      "Scratch: [654.276 480.256 728.488]\n",
      "Transfer: [412.223 307.435 186.208]\n",
      "Transfer & Revision: [801.306 795.697 998.86 ]\n"
     ]
    },
    {
     "data": {
      "text/markdown": [
       "## Inference time"
      ],
      "text/plain": [
       "<IPython.core.display.Markdown object>"
      ]
     },
     "metadata": {},
     "output_type": "display_data"
    },
    {
     "name": "stdout",
     "output_type": "stream",
     "text": [
      "Scratch: [67.917 98.196 66.3  ]\n",
      "Transfer: [412.223 307.435 186.208]\n",
      "Transfer & Revision: [ 80.753  97.845 101.613]\n"
     ]
    },
    {
     "data": {
      "text/markdown": [
       "# Results for 17_cora_yago2s"
      ],
      "text/plain": [
       "<IPython.core.display.Markdown object>"
      ]
     },
     "metadata": {},
     "output_type": "display_data"
    }
   ],
   "source": [
    "for j in range(len(experiments)):\n",
    "    dataset = experiments[j]['id'] + '_' + experiments[j]['source'] + '_' + experiments[j]['target']\n",
    "    display(Markdown('# Results for ' + dataset))\n",
    "    table = []\n",
    "    for metric in ['AUC ROC', 'AUC PR', 'CLL', 'Recall', 'F1', 'Precision', 'Learning and Revision time', 'Inference time']:\n",
    "    #for metric in ['AUC ROC', 'AUC PR']:\n",
    "        if dataset in data['results']: \n",
    "            #for metric in ['AUC ROC', 'AUC PR']:\n",
    "            display(Markdown('## ' + metric))\n",
    "            if metric == 'Precision':\n",
    "                scratch = np.array([item['scratch']['Precision'][0] for sublist in data['results'][str(dataset)] for item in sublist])\n",
    "                parameter = np.array([item['transfer']['Parameter Learning results']['Precision'][0] for sublist in data['results'][str(dataset)] for item in sublist])\n",
    "                transfer = np.array([item['transfer']['Precision'][0] for sublist in data['results'][str(dataset)] for item in sublist])\n",
    "            elif metric == 'Learning and Revision time':\n",
    "                scratch = np.array([item['scratch']['Learning time'] for sublist in data['results'][str(dataset)] for item in sublist])\n",
    "                parameter = np.array([item['transfer']['Parameter Learning results']['Learning time'] for sublist in data['results'][str(dataset)] for item in sublist])\n",
    "                transfer = np.array([item['transfer']['Learning time'] for sublist in data['results'][str(dataset)] for item in sublist])\n",
    "            elif metric == 'Inference time':\n",
    "                scratch = np.array([item['scratch']['Inference time'] for sublist in data['results'][str(dataset)] for item in sublist])\n",
    "                parameter = np.array([item['transfer']['Parameter Learning results']['Learning time'] for sublist in data['results'][str(dataset)] for item in sublist])\n",
    "                transfer = np.array([item['transfer']['Inference time'] for sublist in data['results'][str(dataset)] for item in sublist])\n",
    "            else:\n",
    "                scratch = np.array([item['scratch'][metric] for sublist in data['results'][str(dataset)] for item in sublist])\n",
    "                parameter = np.array([item['transfer']['Parameter Learning results'][metric] for sublist in data['results'][str(dataset)] for item in sublist])\n",
    "                transfer = np.array([item['transfer'][metric] for sublist in data['results'][str(dataset)] for item in sublist])\n",
    "            print('Scratch: %s' % scratch)\n",
    "            print('Transfer: %s' % parameter)\n",
    "            print('Transfer & Revision: %s' % transfer)"
   ]
  },
  {
   "cell_type": "code",
   "execution_count": null,
   "metadata": {
    "collapsed": true
   },
   "outputs": [],
   "source": []
  },
  {
   "cell_type": "code",
   "execution_count": null,
   "metadata": {
    "collapsed": true
   },
   "outputs": [],
   "source": []
  }
 ],
 "metadata": {
  "anaconda-cloud": {},
  "kernelspec": {
   "display_name": "Python [conda env:anaconda3]",
   "language": "python",
   "name": "conda-env-anaconda3-py"
  },
  "language_info": {
   "codemirror_mode": {
    "name": "ipython",
    "version": 3
   },
   "file_extension": ".py",
   "mimetype": "text/x-python",
   "name": "python",
   "nbconvert_exporter": "python",
   "pygments_lexer": "ipython3",
   "version": "3.5.2"
  }
 },
 "nbformat": 4,
 "nbformat_minor": 1
}
