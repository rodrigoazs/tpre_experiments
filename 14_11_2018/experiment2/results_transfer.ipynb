{
 "cells": [
  {
   "cell_type": "markdown",
   "metadata": {},
   "source": [
    "#### Considerando 10 folds talvez o aprendizado do zero se mostrasse menos eficaz. Os resultados ainda sim foram próximos."
   ]
  },
  {
   "cell_type": "code",
   "execution_count": 1,
   "metadata": {
    "collapsed": true
   },
   "outputs": [],
   "source": [
    "import matplotlib.pyplot as plt\n",
    "from IPython.display import display, Markdown, Latex\n",
    "import numpy as np\n",
    "import json\n",
    "import pandas as pd\n",
    "\n",
    "with open('transfer_experiment.json', 'r') as fp:\n",
    "    data = json.load(fp)"
   ]
  },
  {
   "cell_type": "code",
   "execution_count": 2,
   "metadata": {
    "collapsed": false
   },
   "outputs": [
    {
     "data": {
      "text/markdown": [
       "# Results for AUC ROC"
      ],
      "text/plain": [
       "<IPython.core.display.Markdown object>"
      ]
     },
     "metadata": {},
     "output_type": "display_data"
    },
    {
     "data": {
      "text/html": [
       "<div>\n",
       "<table border=\"1\" class=\"dataframe\">\n",
       "  <thead>\n",
       "    <tr style=\"text-align: right;\">\n",
       "      <th></th>\n",
       "      <th>Experiment</th>\n",
       "      <th>Transfer Learning</th>\n",
       "      <th>Transfer Learning with Revision Theory</th>\n",
       "      <th>Learning from scratch</th>\n",
       "    </tr>\n",
       "  </thead>\n",
       "  <tbody>\n",
       "    <tr>\n",
       "      <th>0</th>\n",
       "      <td>6_nell_sports_nell_finances</td>\n",
       "      <td>0.805 +/- 0.025</td>\n",
       "      <td>0.831 +/- 0.021</td>\n",
       "      <td>0.829 +/- 0.028</td>\n",
       "    </tr>\n",
       "    <tr>\n",
       "      <th>1</th>\n",
       "      <td>7_nell_finances_nell_sports</td>\n",
       "      <td>0.815 +/- 0.022</td>\n",
       "      <td>0.860 +/- 0.036</td>\n",
       "      <td>0.902 +/- 0.020</td>\n",
       "    </tr>\n",
       "  </tbody>\n",
       "</table>\n",
       "</div>"
      ],
      "text/plain": [
       "                    Experiment Transfer Learning  \\\n",
       "0  6_nell_sports_nell_finances   0.805 +/- 0.025   \n",
       "1  7_nell_finances_nell_sports   0.815 +/- 0.022   \n",
       "\n",
       "  Transfer Learning with Revision Theory Learning from scratch  \n",
       "0                        0.831 +/- 0.021       0.829 +/- 0.028  \n",
       "1                        0.860 +/- 0.036       0.902 +/- 0.020  "
      ]
     },
     "metadata": {},
     "output_type": "display_data"
    },
    {
     "data": {
      "text/markdown": [
       "# Results for AUC PR"
      ],
      "text/plain": [
       "<IPython.core.display.Markdown object>"
      ]
     },
     "metadata": {},
     "output_type": "display_data"
    },
    {
     "data": {
      "text/html": [
       "<div>\n",
       "<table border=\"1\" class=\"dataframe\">\n",
       "  <thead>\n",
       "    <tr style=\"text-align: right;\">\n",
       "      <th></th>\n",
       "      <th>Experiment</th>\n",
       "      <th>Transfer Learning</th>\n",
       "      <th>Transfer Learning with Revision Theory</th>\n",
       "      <th>Learning from scratch</th>\n",
       "    </tr>\n",
       "  </thead>\n",
       "  <tbody>\n",
       "    <tr>\n",
       "      <th>0</th>\n",
       "      <td>6_nell_sports_nell_finances</td>\n",
       "      <td>0.679 +/- 0.026</td>\n",
       "      <td>0.783 +/- 0.035</td>\n",
       "      <td>0.780 +/- 0.043</td>\n",
       "    </tr>\n",
       "    <tr>\n",
       "      <th>1</th>\n",
       "      <td>7_nell_finances_nell_sports</td>\n",
       "      <td>0.582 +/- 0.042</td>\n",
       "      <td>0.738 +/- 0.060</td>\n",
       "      <td>0.818 +/- 0.055</td>\n",
       "    </tr>\n",
       "  </tbody>\n",
       "</table>\n",
       "</div>"
      ],
      "text/plain": [
       "                    Experiment Transfer Learning  \\\n",
       "0  6_nell_sports_nell_finances   0.679 +/- 0.026   \n",
       "1  7_nell_finances_nell_sports   0.582 +/- 0.042   \n",
       "\n",
       "  Transfer Learning with Revision Theory Learning from scratch  \n",
       "0                        0.783 +/- 0.035       0.780 +/- 0.043  \n",
       "1                        0.738 +/- 0.060       0.818 +/- 0.055  "
      ]
     },
     "metadata": {},
     "output_type": "display_data"
    },
    {
     "data": {
      "text/markdown": [
       "# Results for CLL"
      ],
      "text/plain": [
       "<IPython.core.display.Markdown object>"
      ]
     },
     "metadata": {},
     "output_type": "display_data"
    },
    {
     "data": {
      "text/html": [
       "<div>\n",
       "<table border=\"1\" class=\"dataframe\">\n",
       "  <thead>\n",
       "    <tr style=\"text-align: right;\">\n",
       "      <th></th>\n",
       "      <th>Experiment</th>\n",
       "      <th>Transfer Learning</th>\n",
       "      <th>Transfer Learning with Revision Theory</th>\n",
       "      <th>Learning from scratch</th>\n",
       "    </tr>\n",
       "  </thead>\n",
       "  <tbody>\n",
       "    <tr>\n",
       "      <th>0</th>\n",
       "      <td>6_nell_sports_nell_finances</td>\n",
       "      <td>-0.481 +/- 0.021</td>\n",
       "      <td>-0.434 +/- 0.022</td>\n",
       "      <td>-0.431 +/- 0.023</td>\n",
       "    </tr>\n",
       "    <tr>\n",
       "      <th>1</th>\n",
       "      <td>7_nell_finances_nell_sports</td>\n",
       "      <td>-0.442 +/- 0.009</td>\n",
       "      <td>-0.429 +/- 0.041</td>\n",
       "      <td>-0.375 +/- 0.026</td>\n",
       "    </tr>\n",
       "  </tbody>\n",
       "</table>\n",
       "</div>"
      ],
      "text/plain": [
       "                    Experiment Transfer Learning  \\\n",
       "0  6_nell_sports_nell_finances  -0.481 +/- 0.021   \n",
       "1  7_nell_finances_nell_sports  -0.442 +/- 0.009   \n",
       "\n",
       "  Transfer Learning with Revision Theory Learning from scratch  \n",
       "0                       -0.434 +/- 0.022      -0.431 +/- 0.023  \n",
       "1                       -0.429 +/- 0.041      -0.375 +/- 0.026  "
      ]
     },
     "metadata": {},
     "output_type": "display_data"
    },
    {
     "data": {
      "text/markdown": [
       "# Results for Recall"
      ],
      "text/plain": [
       "<IPython.core.display.Markdown object>"
      ]
     },
     "metadata": {},
     "output_type": "display_data"
    },
    {
     "data": {
      "text/html": [
       "<div>\n",
       "<table border=\"1\" class=\"dataframe\">\n",
       "  <thead>\n",
       "    <tr style=\"text-align: right;\">\n",
       "      <th></th>\n",
       "      <th>Experiment</th>\n",
       "      <th>Transfer Learning</th>\n",
       "      <th>Transfer Learning with Revision Theory</th>\n",
       "      <th>Learning from scratch</th>\n",
       "    </tr>\n",
       "  </thead>\n",
       "  <tbody>\n",
       "    <tr>\n",
       "      <th>0</th>\n",
       "      <td>6_nell_sports_nell_finances</td>\n",
       "      <td>0.605 +/- 0.056</td>\n",
       "      <td>0.637 +/- 0.036</td>\n",
       "      <td>0.630 +/- 0.032</td>\n",
       "    </tr>\n",
       "    <tr>\n",
       "      <th>1</th>\n",
       "      <td>7_nell_finances_nell_sports</td>\n",
       "      <td>0.919 +/- 0.093</td>\n",
       "      <td>0.656 +/- 0.151</td>\n",
       "      <td>0.700 +/- 0.060</td>\n",
       "    </tr>\n",
       "  </tbody>\n",
       "</table>\n",
       "</div>"
      ],
      "text/plain": [
       "                    Experiment Transfer Learning  \\\n",
       "0  6_nell_sports_nell_finances   0.605 +/- 0.056   \n",
       "1  7_nell_finances_nell_sports   0.919 +/- 0.093   \n",
       "\n",
       "  Transfer Learning with Revision Theory Learning from scratch  \n",
       "0                        0.637 +/- 0.036       0.630 +/- 0.032  \n",
       "1                        0.656 +/- 0.151       0.700 +/- 0.060  "
      ]
     },
     "metadata": {},
     "output_type": "display_data"
    },
    {
     "data": {
      "text/markdown": [
       "# Results for F1"
      ],
      "text/plain": [
       "<IPython.core.display.Markdown object>"
      ]
     },
     "metadata": {},
     "output_type": "display_data"
    },
    {
     "data": {
      "text/html": [
       "<div>\n",
       "<table border=\"1\" class=\"dataframe\">\n",
       "  <thead>\n",
       "    <tr style=\"text-align: right;\">\n",
       "      <th></th>\n",
       "      <th>Experiment</th>\n",
       "      <th>Transfer Learning</th>\n",
       "      <th>Transfer Learning with Revision Theory</th>\n",
       "      <th>Learning from scratch</th>\n",
       "    </tr>\n",
       "  </thead>\n",
       "  <tbody>\n",
       "    <tr>\n",
       "      <th>0</th>\n",
       "      <td>6_nell_sports_nell_finances</td>\n",
       "      <td>0.672 +/- 0.030</td>\n",
       "      <td>0.719 +/- 0.035</td>\n",
       "      <td>0.718 +/- 0.034</td>\n",
       "    </tr>\n",
       "    <tr>\n",
       "      <th>1</th>\n",
       "      <td>7_nell_finances_nell_sports</td>\n",
       "      <td>0.722 +/- 0.030</td>\n",
       "      <td>0.660 +/- 0.066</td>\n",
       "      <td>0.737 +/- 0.051</td>\n",
       "    </tr>\n",
       "  </tbody>\n",
       "</table>\n",
       "</div>"
      ],
      "text/plain": [
       "                    Experiment Transfer Learning  \\\n",
       "0  6_nell_sports_nell_finances   0.672 +/- 0.030   \n",
       "1  7_nell_finances_nell_sports   0.722 +/- 0.030   \n",
       "\n",
       "  Transfer Learning with Revision Theory Learning from scratch  \n",
       "0                        0.719 +/- 0.035       0.718 +/- 0.034  \n",
       "1                        0.660 +/- 0.066       0.737 +/- 0.051  "
      ]
     },
     "metadata": {},
     "output_type": "display_data"
    },
    {
     "data": {
      "text/markdown": [
       "# Results for Precision"
      ],
      "text/plain": [
       "<IPython.core.display.Markdown object>"
      ]
     },
     "metadata": {},
     "output_type": "display_data"
    },
    {
     "data": {
      "text/html": [
       "<div>\n",
       "<table border=\"1\" class=\"dataframe\">\n",
       "  <thead>\n",
       "    <tr style=\"text-align: right;\">\n",
       "      <th></th>\n",
       "      <th>Experiment</th>\n",
       "      <th>Transfer Learning</th>\n",
       "      <th>Transfer Learning with Revision Theory</th>\n",
       "      <th>Learning from scratch</th>\n",
       "    </tr>\n",
       "  </thead>\n",
       "  <tbody>\n",
       "    <tr>\n",
       "      <th>0</th>\n",
       "      <td>6_nell_sports_nell_finances</td>\n",
       "      <td>0.759 +/- 0.028</td>\n",
       "      <td>0.827 +/- 0.074</td>\n",
       "      <td>0.836 +/- 0.072</td>\n",
       "    </tr>\n",
       "    <tr>\n",
       "      <th>1</th>\n",
       "      <td>7_nell_finances_nell_sports</td>\n",
       "      <td>0.596 +/- 0.012</td>\n",
       "      <td>0.671 +/- 0.078</td>\n",
       "      <td>0.780 +/- 0.075</td>\n",
       "    </tr>\n",
       "  </tbody>\n",
       "</table>\n",
       "</div>"
      ],
      "text/plain": [
       "                    Experiment Transfer Learning  \\\n",
       "0  6_nell_sports_nell_finances   0.759 +/- 0.028   \n",
       "1  7_nell_finances_nell_sports   0.596 +/- 0.012   \n",
       "\n",
       "  Transfer Learning with Revision Theory Learning from scratch  \n",
       "0                        0.827 +/- 0.074       0.836 +/- 0.072  \n",
       "1                        0.671 +/- 0.078       0.780 +/- 0.075  "
      ]
     },
     "metadata": {},
     "output_type": "display_data"
    },
    {
     "data": {
      "text/markdown": [
       "# Results for Learning and Revision time"
      ],
      "text/plain": [
       "<IPython.core.display.Markdown object>"
      ]
     },
     "metadata": {},
     "output_type": "display_data"
    },
    {
     "data": {
      "text/html": [
       "<div>\n",
       "<table border=\"1\" class=\"dataframe\">\n",
       "  <thead>\n",
       "    <tr style=\"text-align: right;\">\n",
       "      <th></th>\n",
       "      <th>Experiment</th>\n",
       "      <th>Transfer Learning</th>\n",
       "      <th>Transfer Learning with Revision Theory</th>\n",
       "      <th>Learning from scratch</th>\n",
       "    </tr>\n",
       "  </thead>\n",
       "  <tbody>\n",
       "    <tr>\n",
       "      <th>0</th>\n",
       "      <td>6_nell_sports_nell_finances</td>\n",
       "      <td>8.882 +/- 10.816</td>\n",
       "      <td>20.350 +/- 11.915</td>\n",
       "      <td>11.827 +/- 5.212</td>\n",
       "    </tr>\n",
       "    <tr>\n",
       "      <th>1</th>\n",
       "      <td>7_nell_finances_nell_sports</td>\n",
       "      <td>126.474 +/- 220.507</td>\n",
       "      <td>533.190 +/- 835.115</td>\n",
       "      <td>383.256 +/- 569.559</td>\n",
       "    </tr>\n",
       "  </tbody>\n",
       "</table>\n",
       "</div>"
      ],
      "text/plain": [
       "                    Experiment    Transfer Learning  \\\n",
       "0  6_nell_sports_nell_finances     8.882 +/- 10.816   \n",
       "1  7_nell_finances_nell_sports  126.474 +/- 220.507   \n",
       "\n",
       "  Transfer Learning with Revision Theory Learning from scratch  \n",
       "0                      20.350 +/- 11.915      11.827 +/- 5.212  \n",
       "1                    533.190 +/- 835.115   383.256 +/- 569.559  "
      ]
     },
     "metadata": {},
     "output_type": "display_data"
    },
    {
     "data": {
      "text/markdown": [
       "# Results for Inference time"
      ],
      "text/plain": [
       "<IPython.core.display.Markdown object>"
      ]
     },
     "metadata": {},
     "output_type": "display_data"
    },
    {
     "data": {
      "text/html": [
       "<div>\n",
       "<table border=\"1\" class=\"dataframe\">\n",
       "  <thead>\n",
       "    <tr style=\"text-align: right;\">\n",
       "      <th></th>\n",
       "      <th>Experiment</th>\n",
       "      <th>Transfer Learning</th>\n",
       "      <th>Transfer Learning with Revision Theory</th>\n",
       "      <th>Learning from scratch</th>\n",
       "    </tr>\n",
       "  </thead>\n",
       "  <tbody>\n",
       "    <tr>\n",
       "      <th>0</th>\n",
       "      <td>6_nell_sports_nell_finances</td>\n",
       "      <td>8.882 +/- 10.816</td>\n",
       "      <td>1.840 +/- 0.336</td>\n",
       "      <td>1.753 +/- 0.277</td>\n",
       "    </tr>\n",
       "    <tr>\n",
       "      <th>1</th>\n",
       "      <td>7_nell_finances_nell_sports</td>\n",
       "      <td>126.474 +/- 220.507</td>\n",
       "      <td>159.206 +/- 548.404</td>\n",
       "      <td>10.615 +/- 7.961</td>\n",
       "    </tr>\n",
       "  </tbody>\n",
       "</table>\n",
       "</div>"
      ],
      "text/plain": [
       "                    Experiment    Transfer Learning  \\\n",
       "0  6_nell_sports_nell_finances     8.882 +/- 10.816   \n",
       "1  7_nell_finances_nell_sports  126.474 +/- 220.507   \n",
       "\n",
       "  Transfer Learning with Revision Theory Learning from scratch  \n",
       "0                        1.840 +/- 0.336       1.753 +/- 0.277  \n",
       "1                    159.206 +/- 548.404      10.615 +/- 7.961  "
      ]
     },
     "metadata": {},
     "output_type": "display_data"
    }
   ],
   "source": [
    "experiments = [\n",
    "            #{'source':'imdb', 'target':'uwcse', 'predicate':'workedunder', 'to_predicate':'advisedby'},\n",
    "            #{'source':'uwcse', 'target':'imdb', 'predicate':'advisedby', 'to_predicate':'workedunder'},\n",
    "            #{'source':'imdb', 'target':'cora', 'predicate':'workedunder', 'to_predicate':'samevenue'},\n",
    "            #{'source':'cora', 'target':'imdb', 'predicate':'samevenue', 'to_predicate':'workedunder'},\n",
    "            #{'source':'yeast', 'target':'twitter', 'predicate':'interaction', 'to_predicate':'follows'},\n",
    "            #{'source':'twitter', 'target':'yeast', 'predicate':'follows', 'to_predicate':'interaction'},\n",
    "            {'id': '6', 'source':'nell_sports', 'target':'nell_finances', 'predicate':'teamplayssport', 'to_predicate':'companyeconomicsector'},\n",
    "            {'id': '7', 'source':'nell_finances', 'target':'nell_sports', 'predicate':'companyeconomicsector', 'to_predicate':'teamplayssport'},\n",
    "            #{'source':'yeast', 'target':'webkb', 'predicate':'proteinclass'},\n",
    "            #{'source':'webkb', 'target':'yeast', 'predicate':'departmentof'},\n",
    "            #{'source':'twitter', 'target':'webkb', 'predicate':'accounttype'},\n",
    "            #{'source':'webkb', 'target':'twitter', 'predicate':'pageclass'},\n",
    "            #{'id': '12', 'source':'uwcse', 'target':'yago2s', 'predicate':'advisedby', 'to_predicate':'ismarriedto'},\n",
    "            #{'id': '13', 'source':'uwcse', 'target':'yago2s', 'predicate':'advisedby', 'to_predicate':'hasacademicadvisor'},\n",
    "            #{'id': '14', 'source':'uwcse', 'target':'yago2s', 'predicate':'advisedby', 'to_predicate':'haschild'},\n",
    "            #{'id': '15', 'source':'cora', 'target':'yago2s', 'predicate':'samevenue', 'to_predicate':'ismarriedto'},\n",
    "            #{'id': '16', 'source':'cora', 'target':'yago2s', 'predicate':'samevenue', 'to_predicate':'hasacademicadvisor'},\n",
    "            #{'id': '17', 'source':'cora', 'target':'yago2s', 'predicate':'samevenue', 'to_predicate':'haschild'},\n",
    "            ]\n",
    "\n",
    "for metric in ['AUC ROC', 'AUC PR', 'CLL', 'Recall', 'F1', 'Precision', 'Learning and Revision time', 'Inference time']:\n",
    "    display(Markdown('# Results for ' + metric))\n",
    "    table = []\n",
    "    for j in range(len(experiments)):\n",
    "        dataset = experiments[j]['id'] + '_' + experiments[j]['source'] + '_' + experiments[j]['target']\n",
    "        if dataset in data['results']: \n",
    "            #for metric in ['AUC ROC', 'AUC PR']:\n",
    "                #display(Markdown('## ' + metric))\n",
    "            if metric == 'Precision':\n",
    "                scratch = np.array([item['scratch']['Precision'][0] for sublist in data['results'][str(dataset)] for item in sublist])\n",
    "                parameter = np.array([item['transfer']['Parameter Learning results']['Precision'][0] for sublist in data['results'][str(dataset)] for item in sublist])\n",
    "                transfer = np.array([item['transfer']['Precision'][0] for sublist in data['results'][str(dataset)] for item in sublist])\n",
    "            elif metric == 'Learning and Revision time':\n",
    "                scratch = np.array([item['scratch']['Learning time'] for sublist in data['results'][str(dataset)] for item in sublist])\n",
    "                parameter = np.array([item['transfer']['Parameter Learning results']['Learning time'] for sublist in data['results'][str(dataset)] for item in sublist])\n",
    "                transfer = np.array([item['transfer']['Learning time'] for sublist in data['results'][str(dataset)] for item in sublist])\n",
    "            elif metric == 'Inference time':\n",
    "                scratch = np.array([item['scratch']['Inference time'] for sublist in data['results'][str(dataset)] for item in sublist])\n",
    "                parameter = np.array([item['transfer']['Parameter Learning results']['Learning time'] for sublist in data['results'][str(dataset)] for item in sublist])\n",
    "                transfer = np.array([item['transfer']['Inference time'] for sublist in data['results'][str(dataset)] for item in sublist])\n",
    "            else:\n",
    "                scratch = np.array([item['scratch'][metric] for sublist in data['results'][str(dataset)] for item in sublist])\n",
    "                parameter = np.array([item['transfer']['Parameter Learning results'][metric] for sublist in data['results'][str(dataset)] for item in sublist])\n",
    "                transfer = np.array([item['transfer'][metric] for sublist in data['results'][str(dataset)] for item in sublist])\n",
    "            table.append([dataset, '%.3f +/- %.3f' % (parameter.mean(), 2 * parameter.std()),\n",
    "            '%.3f +/- %.3f' % (transfer.mean(), 2 * transfer.std()),\n",
    "            '%.3f +/- %.3f' % (scratch.mean(), 2 * scratch.std())])\n",
    "    display(pd.DataFrame(table, columns=['Experiment', 'Transfer Learning', 'Transfer Learning with Revision Theory', 'Learning from scratch']))"
   ]
  },
  {
   "cell_type": "code",
   "execution_count": 3,
   "metadata": {
    "collapsed": false
   },
   "outputs": [
    {
     "data": {
      "text/markdown": [
       "# Results for 6_nell_sports_nell_finances"
      ],
      "text/plain": [
       "<IPython.core.display.Markdown object>"
      ]
     },
     "metadata": {},
     "output_type": "display_data"
    },
    {
     "data": {
      "text/markdown": [
       "## AUC ROC"
      ],
      "text/plain": [
       "<IPython.core.display.Markdown object>"
      ]
     },
     "metadata": {},
     "output_type": "display_data"
    },
    {
     "name": "stdout",
     "output_type": "stream",
     "text": [
      "Scratch: [0.82107  0.827859 0.836696 0.827342 0.835693 0.794714 0.834437 0.838901\n",
      " 0.84982  0.81891 ]\n",
      "Transfer: [0.795992 0.813121 0.81774  0.810881 0.803735 0.772924 0.815041 0.807976\n",
      " 0.814381 0.801462]\n",
      "Transfer & Revision: [0.828112 0.829373 0.836675 0.823416 0.829773 0.807442 0.84102  0.841625\n",
      " 0.843206 0.825035]\n"
     ]
    },
    {
     "data": {
      "text/markdown": [
       "## AUC PR"
      ],
      "text/plain": [
       "<IPython.core.display.Markdown object>"
      ]
     },
     "metadata": {},
     "output_type": "display_data"
    },
    {
     "name": "stdout",
     "output_type": "stream",
     "text": [
      "Scratch: [0.73151  0.784128 0.800226 0.771451 0.758933 0.777537 0.78798  0.785786\n",
      " 0.814518 0.78371 ]\n",
      "Transfer: [0.661929 0.685175 0.691104 0.676581 0.680791 0.649902 0.690155 0.681103\n",
      " 0.69492  0.679877]\n",
      "Transfer & Revision: [0.747863 0.783926 0.793136 0.76769  0.764797 0.790681 0.79775  0.797643\n",
      " 0.807909 0.775775]\n"
     ]
    },
    {
     "data": {
      "text/markdown": [
       "## CLL"
      ],
      "text/plain": [
       "<IPython.core.display.Markdown object>"
      ]
     },
     "metadata": {},
     "output_type": "display_data"
    },
    {
     "name": "stdout",
     "output_type": "stream",
     "text": [
      "Scratch: [-0.444475 -0.426694 -0.418385 -0.439553 -0.443557 -0.442803 -0.42867\n",
      " -0.415435 -0.415227 -0.439209]\n",
      "Transfer: [-0.479496 -0.476436 -0.470664 -0.475839 -0.484864 -0.509128 -0.472018\n",
      " -0.479771 -0.483547 -0.476785]\n",
      "Transfer & Revision: [-0.441016 -0.432649 -0.421166 -0.444122 -0.450841 -0.438423 -0.427699\n",
      " -0.419503 -0.418463 -0.44445 ]\n"
     ]
    },
    {
     "data": {
      "text/markdown": [
       "## Recall"
      ],
      "text/plain": [
       "<IPython.core.display.Markdown object>"
      ]
     },
     "metadata": {},
     "output_type": "display_data"
    },
    {
     "name": "stdout",
     "output_type": "stream",
     "text": [
      "Scratch: [0.612857 0.641429 0.652857 0.645714 0.617143 0.601429 0.621429 0.64\n",
      " 0.642857 0.623932]\n",
      "Transfer: [0.611429 0.627143 0.622857 0.65     0.607143 0.56     0.605714 0.605714\n",
      " 0.55     0.605413]\n",
      "Transfer & Revision: [0.635714 0.618571 0.67     0.654286 0.604286 0.628571 0.628571 0.641429\n",
      " 0.631429 0.652422]\n"
     ]
    },
    {
     "data": {
      "text/markdown": [
       "## F1"
      ],
      "text/plain": [
       "<IPython.core.display.Markdown object>"
      ]
     },
     "metadata": {},
     "output_type": "display_data"
    },
    {
     "name": "stdout",
     "output_type": "stream",
     "text": [
      "Scratch: [0.702703 0.731866 0.740081 0.70902  0.690647 0.71843  0.717822 0.736842\n",
      " 0.735294 0.697452]\n",
      "Transfer: [0.66875  0.680093 0.68824  0.694127 0.675139 0.644207 0.671949 0.6784\n",
      " 0.647059 0.675676]\n",
      "Transfer & Revision: [0.706349 0.714521 0.745628 0.707883 0.68336  0.731505 0.714286 0.73788\n",
      " 0.731788 0.715066]\n"
     ]
    },
    {
     "data": {
      "text/markdown": [
       "## Precision"
      ],
      "text/plain": [
       "<IPython.core.display.Markdown object>"
      ]
     },
     "metadata": {},
     "output_type": "display_data"
    },
    {
     "name": "stdout",
     "output_type": "stream",
     "text": [
      "Scratch: [0.823417 0.851992 0.854206 0.786087 0.784029 0.891949 0.849609 0.868217\n",
      " 0.858779 0.790614]\n",
      "Transfer: [0.737931 0.742809 0.768959 0.744681 0.760286 0.758221 0.754448 0.770909\n",
      " 0.785714 0.764388]\n",
      "Transfer & Revision: [0.794643 0.845703 0.840502 0.771044 0.786245 0.874751 0.827068 0.868472\n",
      " 0.870079 0.791019]\n"
     ]
    },
    {
     "data": {
      "text/markdown": [
       "## Learning and Revision time"
      ],
      "text/plain": [
       "<IPython.core.display.Markdown object>"
      ]
     },
     "metadata": {},
     "output_type": "display_data"
    },
    {
     "name": "stdout",
     "output_type": "stream",
     "text": [
      "Scratch: [ 8.313 10.898  9.358 10.756 12.    14.893 13.091  9.895 17.538 11.53 ]\n",
      "Transfer: [ 4.695 17.694  5.563  4.103 11.608  6.306  6.921  5.005  6.813 20.116]\n",
      "Transfer & Revision: [12.309 30.345 14.794 15.82  23.465 21.97  20.103 13.408 22.302 28.986]\n"
     ]
    },
    {
     "data": {
      "text/markdown": [
       "## Inference time"
      ],
      "text/plain": [
       "<IPython.core.display.Markdown object>"
      ]
     },
     "metadata": {},
     "output_type": "display_data"
    },
    {
     "name": "stdout",
     "output_type": "stream",
     "text": [
      "Scratch: [1.654 1.606 1.737 2.091 1.572 1.835 1.732 1.824 1.72  1.762]\n",
      "Transfer: [ 4.695 17.694  5.563  4.103 11.608  6.306  6.921  5.005  6.813 20.116]\n",
      "Transfer & Revision: [1.691 1.905 1.602 1.848 1.695 1.695 2.065 1.779 1.995 2.122]\n"
     ]
    },
    {
     "data": {
      "text/markdown": [
       "# Results for 7_nell_finances_nell_sports"
      ],
      "text/plain": [
       "<IPython.core.display.Markdown object>"
      ]
     },
     "metadata": {},
     "output_type": "display_data"
    },
    {
     "data": {
      "text/markdown": [
       "## AUC ROC"
      ],
      "text/plain": [
       "<IPython.core.display.Markdown object>"
      ]
     },
     "metadata": {},
     "output_type": "display_data"
    },
    {
     "name": "stdout",
     "output_type": "stream",
     "text": [
      "Scratch: [0.898091 0.90794  0.911314 0.912183 0.88525  0.906702 0.88792  0.908104\n",
      " 0.914075 0.892562]\n",
      "Transfer: [0.805242 0.812521 0.818973 0.800232 0.827258 0.831597 0.798394 0.826399\n",
      " 0.807892 0.821159]\n",
      "Transfer & Revision: [0.851921 0.84779  0.878693 0.85423  0.876529 0.858518 0.822431 0.890595\n",
      " 0.865825 0.854452]\n"
     ]
    },
    {
     "data": {
      "text/markdown": [
       "## AUC PR"
      ],
      "text/plain": [
       "<IPython.core.display.Markdown object>"
      ]
     },
     "metadata": {},
     "output_type": "display_data"
    },
    {
     "name": "stdout",
     "output_type": "stream",
     "text": [
      "Scratch: [0.824345 0.838088 0.825546 0.827264 0.773197 0.845099 0.817659 0.795943\n",
      " 0.858681 0.771531]\n",
      "Transfer: [0.560839 0.58054  0.595116 0.547683 0.591755 0.615625 0.579269 0.603547\n",
      " 0.554905 0.591129]\n",
      "Transfer & Revision: [0.729731 0.687151 0.767496 0.731732 0.734761 0.738441 0.706528 0.797514\n",
      " 0.764769 0.724672]\n"
     ]
    },
    {
     "data": {
      "text/markdown": [
       "## CLL"
      ],
      "text/plain": [
       "<IPython.core.display.Markdown object>"
      ]
     },
     "metadata": {},
     "output_type": "display_data"
    },
    {
     "name": "stdout",
     "output_type": "stream",
     "text": [
      "Scratch: [-0.382762 -0.360744 -0.367381 -0.36423  -0.398089 -0.359435 -0.39213\n",
      " -0.37143  -0.365037 -0.386441]\n",
      "Transfer: [-0.442281 -0.442679 -0.439525 -0.442537 -0.435796 -0.440691 -0.448555\n",
      " -0.43642  -0.449819 -0.440119]\n",
      "Transfer & Revision: [-0.435557 -0.437423 -0.405858 -0.454841 -0.414673 -0.439143 -0.460434\n",
      " -0.390874 -0.415627 -0.431841]\n"
     ]
    },
    {
     "data": {
      "text/markdown": [
       "## Recall"
      ],
      "text/plain": [
       "<IPython.core.display.Markdown object>"
      ]
     },
     "metadata": {},
     "output_type": "display_data"
    },
    {
     "name": "stdout",
     "output_type": "stream",
     "text": [
      "Scratch: [0.72549  0.739496 0.694678 0.728291 0.647059 0.694678 0.708683 0.677871\n",
      " 0.72549  0.655556]\n",
      "Transfer: [0.938375 0.941176 0.938375 0.943978 0.941176 0.94958  0.845938 0.815126\n",
      " 0.966387 0.905556]\n",
      "Transfer & Revision: [0.728291 0.792717 0.630252 0.605042 0.582633 0.526611 0.703081 0.703081\n",
      " 0.607843 0.680556]\n"
     ]
    },
    {
     "data": {
      "text/markdown": [
       "## F1"
      ],
      "text/plain": [
       "<IPython.core.display.Markdown object>"
      ]
     },
     "metadata": {},
     "output_type": "display_data"
    },
    {
     "name": "stdout",
     "output_type": "stream",
     "text": [
      "Scratch: [0.738944 0.761905 0.743628 0.737589 0.670537 0.729412 0.76435  0.740061\n",
      " 0.759531 0.722818]\n",
      "Transfer: [0.728261 0.73123  0.730643 0.733406 0.732824 0.736156 0.699884 0.688757\n",
      " 0.724029 0.719647]\n",
      "Transfer & Revision: [0.68152  0.704857 0.669643 0.632504 0.640986 0.59306  0.641944 0.707042\n",
      " 0.651652 0.673077]\n"
     ]
    },
    {
     "data": {
      "text/markdown": [
       "## Precision"
      ],
      "text/plain": [
       "<IPython.core.display.Markdown object>"
      ]
     },
     "metadata": {},
     "output_type": "display_data"
    },
    {
     "name": "stdout",
     "output_type": "stream",
     "text": [
      "Scratch: [0.752907 0.785714 0.8      0.747126 0.695783 0.767802 0.829508 0.814815\n",
      " 0.796923 0.805461]\n",
      "Transfer: [0.595027 0.597865 0.598214 0.599644 0.6      0.601064 0.596838 0.596311\n",
      " 0.578859 0.59707 ]\n",
      "Transfer & Revision: [0.640394 0.634529 0.714286 0.662577 0.712329 0.6787   0.590588 0.711048\n",
      " 0.702265 0.665761]\n"
     ]
    },
    {
     "data": {
      "text/markdown": [
       "## Learning and Revision time"
      ],
      "text/plain": [
       "<IPython.core.display.Markdown object>"
      ]
     },
     "metadata": {},
     "output_type": "display_data"
    },
    {
     "name": "stdout",
     "output_type": "stream",
     "text": [
      "Scratch: [1202.947  201.085  364.863  396.895  290.676  357.046  191.002  385.517\n",
      "  279.075  163.458]\n",
      "Transfer: [ 76.607  60.477 194.492  39.66   53.802 139.319 325.538 318.597  52.868\n",
      "   3.382]\n",
      "Transfer & Revision: [ 281.808  227.027  510.811  271.342  283.957  375.803  585.182 1206.745\n",
      " 1441.759  147.465]\n"
     ]
    },
    {
     "data": {
      "text/markdown": [
       "## Inference time"
      ],
      "text/plain": [
       "<IPython.core.display.Markdown object>"
      ]
     },
     "metadata": {},
     "output_type": "display_data"
    },
    {
     "name": "stdout",
     "output_type": "stream",
     "text": [
      "Scratch: [20.797  7.919  9.432 14.837 10.21  10.233  8.352  7.732  9.73   6.908]\n",
      "Transfer: [ 76.607  60.477 194.492  39.66   53.802 139.319 325.538 318.597  52.868\n",
      "   3.382]\n",
      "Transfer & Revision: [ 22.46    6.895  35.571  16.116  27.317  24.238  56.119 537.24  842.368\n",
      "  23.739]\n"
     ]
    }
   ],
   "source": [
    "for j in range(len(experiments)):\n",
    "    dataset = experiments[j]['id'] + '_' + experiments[j]['source'] + '_' + experiments[j]['target']\n",
    "    display(Markdown('# Results for ' + dataset))\n",
    "    table = []\n",
    "    for metric in ['AUC ROC', 'AUC PR', 'CLL', 'Recall', 'F1', 'Precision', 'Learning and Revision time', 'Inference time']:\n",
    "    #for metric in ['AUC ROC', 'AUC PR']:\n",
    "        if dataset in data['results']: \n",
    "            #for metric in ['AUC ROC', 'AUC PR']:\n",
    "            display(Markdown('## ' + metric))\n",
    "            if metric == 'Precision':\n",
    "                scratch = np.array([item['scratch']['Precision'][0] for sublist in data['results'][str(dataset)] for item in sublist])\n",
    "                parameter = np.array([item['transfer']['Parameter Learning results']['Precision'][0] for sublist in data['results'][str(dataset)] for item in sublist])\n",
    "                transfer = np.array([item['transfer']['Precision'][0] for sublist in data['results'][str(dataset)] for item in sublist])\n",
    "            elif metric == 'Learning and Revision time':\n",
    "                scratch = np.array([item['scratch']['Learning time'] for sublist in data['results'][str(dataset)] for item in sublist])\n",
    "                parameter = np.array([item['transfer']['Parameter Learning results']['Learning time'] for sublist in data['results'][str(dataset)] for item in sublist])\n",
    "                transfer = np.array([item['transfer']['Learning time'] for sublist in data['results'][str(dataset)] for item in sublist])\n",
    "            elif metric == 'Inference time':\n",
    "                scratch = np.array([item['scratch']['Inference time'] for sublist in data['results'][str(dataset)] for item in sublist])\n",
    "                parameter = np.array([item['transfer']['Parameter Learning results']['Learning time'] for sublist in data['results'][str(dataset)] for item in sublist])\n",
    "                transfer = np.array([item['transfer']['Inference time'] for sublist in data['results'][str(dataset)] for item in sublist])\n",
    "            else:\n",
    "                scratch = np.array([item['scratch'][metric] for sublist in data['results'][str(dataset)] for item in sublist])\n",
    "                parameter = np.array([item['transfer']['Parameter Learning results'][metric] for sublist in data['results'][str(dataset)] for item in sublist])\n",
    "                transfer = np.array([item['transfer'][metric] for sublist in data['results'][str(dataset)] for item in sublist])\n",
    "            print('Scratch: %s' % scratch)\n",
    "            print('Transfer: %s' % parameter)\n",
    "            print('Transfer & Revision: %s' % transfer)"
   ]
  },
  {
   "cell_type": "code",
   "execution_count": null,
   "metadata": {
    "collapsed": true
   },
   "outputs": [],
   "source": []
  },
  {
   "cell_type": "code",
   "execution_count": null,
   "metadata": {
    "collapsed": true
   },
   "outputs": [],
   "source": []
  }
 ],
 "metadata": {
  "anaconda-cloud": {},
  "kernelspec": {
   "display_name": "Python [conda env:anaconda3]",
   "language": "python",
   "name": "conda-env-anaconda3-py"
  },
  "language_info": {
   "codemirror_mode": {
    "name": "ipython",
    "version": 3
   },
   "file_extension": ".py",
   "mimetype": "text/x-python",
   "name": "python",
   "nbconvert_exporter": "python",
   "pygments_lexer": "ipython3",
   "version": "3.5.2"
  }
 },
 "nbformat": 4,
 "nbformat_minor": 1
}
