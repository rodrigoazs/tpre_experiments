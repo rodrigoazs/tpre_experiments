{
 "cells": [
  {
   "cell_type": "markdown",
   "metadata": {},
   "source": [
    "#### Experimento com 3 folds para os datasets sem folds já definidos."
   ]
  },
  {
   "cell_type": "code",
   "execution_count": 5,
   "metadata": {
    "collapsed": true
   },
   "outputs": [],
   "source": [
    "import matplotlib.pyplot as plt\n",
    "from IPython.display import display, Markdown, Latex\n",
    "import numpy as np\n",
    "import json\n",
    "import pandas as pd\n",
    "\n",
    "with open('transfer_experiment.json', 'r') as fp:\n",
    "    data = json.load(fp)"
   ]
  },
  {
   "cell_type": "code",
   "execution_count": 6,
   "metadata": {
    "collapsed": false
   },
   "outputs": [
    {
     "data": {
      "text/markdown": [
       "# Results for AUC ROC"
      ],
      "text/plain": [
       "<IPython.core.display.Markdown object>"
      ]
     },
     "metadata": {},
     "output_type": "display_data"
    },
    {
     "data": {
      "text/html": [
       "<div>\n",
       "<table border=\"1\" class=\"dataframe\">\n",
       "  <thead>\n",
       "    <tr style=\"text-align: right;\">\n",
       "      <th></th>\n",
       "      <th>Experiment</th>\n",
       "      <th>Transfer Learning</th>\n",
       "      <th>Transfer Learning with Revision Theory</th>\n",
       "      <th>Learning from scratch</th>\n",
       "    </tr>\n",
       "  </thead>\n",
       "  <tbody>\n",
       "    <tr>\n",
       "      <th>0</th>\n",
       "      <td>1_imdb_nell_finances</td>\n",
       "      <td>0.521 +/- 0.026</td>\n",
       "      <td>0.595 +/- 0.014</td>\n",
       "      <td>0.588 +/- 0.021</td>\n",
       "    </tr>\n",
       "    <tr>\n",
       "      <th>1</th>\n",
       "      <td>2_imdb_nell_finances</td>\n",
       "      <td>0.533 +/- 0.053</td>\n",
       "      <td>0.859 +/- 0.076</td>\n",
       "      <td>0.870 +/- 0.078</td>\n",
       "    </tr>\n",
       "    <tr>\n",
       "      <th>2</th>\n",
       "      <td>3_imdb_nell_finances</td>\n",
       "      <td>0.524 +/- 0.023</td>\n",
       "      <td>0.573 +/- 0.029</td>\n",
       "      <td>0.567 +/- 0.025</td>\n",
       "    </tr>\n",
       "    <tr>\n",
       "      <th>3</th>\n",
       "      <td>4_uwcse_nell_finances</td>\n",
       "      <td>0.500 +/- 0.014</td>\n",
       "      <td>0.594 +/- 0.038</td>\n",
       "      <td>0.591 +/- 0.020</td>\n",
       "    </tr>\n",
       "    <tr>\n",
       "      <th>4</th>\n",
       "      <td>5_uwcse_nell_finances</td>\n",
       "      <td>0.580 +/- 0.089</td>\n",
       "      <td>0.853 +/- 0.108</td>\n",
       "      <td>0.882 +/- 0.059</td>\n",
       "    </tr>\n",
       "    <tr>\n",
       "      <th>5</th>\n",
       "      <td>6_uwcse_nell_finances</td>\n",
       "      <td>0.527 +/- 0.030</td>\n",
       "      <td>0.537 +/- 0.051</td>\n",
       "      <td>0.560 +/- 0.013</td>\n",
       "    </tr>\n",
       "    <tr>\n",
       "      <th>6</th>\n",
       "      <td>7_cora_nell_finances</td>\n",
       "      <td>0.582 +/- 0.027</td>\n",
       "      <td>0.604 +/- 0.030</td>\n",
       "      <td>0.594 +/- 0.012</td>\n",
       "    </tr>\n",
       "    <tr>\n",
       "      <th>7</th>\n",
       "      <td>8_cora_nell_finances</td>\n",
       "      <td>0.523 +/- 0.069</td>\n",
       "      <td>0.877 +/- 0.068</td>\n",
       "      <td>0.886 +/- 0.057</td>\n",
       "    </tr>\n",
       "    <tr>\n",
       "      <th>8</th>\n",
       "      <td>9_cora_nell_finances</td>\n",
       "      <td>0.558 +/- 0.022</td>\n",
       "      <td>0.573 +/- 0.035</td>\n",
       "      <td>0.565 +/- 0.012</td>\n",
       "    </tr>\n",
       "    <tr>\n",
       "      <th>9</th>\n",
       "      <td>10_cora_nell_finances</td>\n",
       "      <td>0.500 +/- 0.004</td>\n",
       "      <td>0.578 +/- 0.025</td>\n",
       "      <td>0.587 +/- 0.023</td>\n",
       "    </tr>\n",
       "    <tr>\n",
       "      <th>10</th>\n",
       "      <td>11_cora_nell_finances</td>\n",
       "      <td>0.500 +/- 0.000</td>\n",
       "      <td>0.874 +/- 0.073</td>\n",
       "      <td>0.891 +/- 0.058</td>\n",
       "    </tr>\n",
       "    <tr>\n",
       "      <th>11</th>\n",
       "      <td>12_cora_nell_finances</td>\n",
       "      <td>0.499 +/- 0.004</td>\n",
       "      <td>0.563 +/- 0.023</td>\n",
       "      <td>0.569 +/- 0.019</td>\n",
       "    </tr>\n",
       "    <tr>\n",
       "      <th>12</th>\n",
       "      <td>13_cora_nell_finances</td>\n",
       "      <td>0.528 +/- 0.027</td>\n",
       "      <td>0.605 +/- 0.041</td>\n",
       "      <td>0.588 +/- 0.025</td>\n",
       "    </tr>\n",
       "    <tr>\n",
       "      <th>13</th>\n",
       "      <td>14_cora_nell_finances</td>\n",
       "      <td>0.593 +/- 0.031</td>\n",
       "      <td>0.848 +/- 0.062</td>\n",
       "      <td>0.878 +/- 0.072</td>\n",
       "    </tr>\n",
       "    <tr>\n",
       "      <th>14</th>\n",
       "      <td>15_cora_nell_finances</td>\n",
       "      <td>0.530 +/- 0.004</td>\n",
       "      <td>0.558 +/- 0.010</td>\n",
       "      <td>0.557 +/- 0.036</td>\n",
       "    </tr>\n",
       "    <tr>\n",
       "      <th>15</th>\n",
       "      <td>19_uwcse_yago2s</td>\n",
       "      <td>0.539 +/- 0.061</td>\n",
       "      <td>0.717 +/- 0.019</td>\n",
       "      <td>0.729 +/- 0.004</td>\n",
       "    </tr>\n",
       "    <tr>\n",
       "      <th>16</th>\n",
       "      <td>20_uwcse_yago2s</td>\n",
       "      <td>0.509 +/- 0.022</td>\n",
       "      <td>0.719 +/- 0.019</td>\n",
       "      <td>0.729 +/- 0.013</td>\n",
       "    </tr>\n",
       "    <tr>\n",
       "      <th>17</th>\n",
       "      <td>21_uwcse_yago2s</td>\n",
       "      <td>0.501 +/- 0.000</td>\n",
       "      <td>0.649 +/- 0.003</td>\n",
       "      <td>0.652 +/- 0.006</td>\n",
       "    </tr>\n",
       "    <tr>\n",
       "      <th>18</th>\n",
       "      <td>22_cora_yago2s</td>\n",
       "      <td>0.551 +/- 0.068</td>\n",
       "      <td>0.720 +/- 0.022</td>\n",
       "      <td>0.730 +/- 0.015</td>\n",
       "    </tr>\n",
       "    <tr>\n",
       "      <th>19</th>\n",
       "      <td>23_cora_yago2s</td>\n",
       "      <td>0.500 +/- 0.001</td>\n",
       "      <td>0.705 +/- 0.036</td>\n",
       "      <td>0.719 +/- 0.013</td>\n",
       "    </tr>\n",
       "    <tr>\n",
       "      <th>20</th>\n",
       "      <td>24_cora_yago2s</td>\n",
       "      <td>0.500 +/- 0.005</td>\n",
       "      <td>0.648 +/- 0.006</td>\n",
       "      <td>0.648 +/- 0.020</td>\n",
       "    </tr>\n",
       "    <tr>\n",
       "      <th>21</th>\n",
       "      <td>26_cora_yago2s</td>\n",
       "      <td>0.504 +/- 0.004</td>\n",
       "      <td>0.712 +/- 0.002</td>\n",
       "      <td>0.726 +/- 0.020</td>\n",
       "    </tr>\n",
       "    <tr>\n",
       "      <th>22</th>\n",
       "      <td>27_cora_yago2s</td>\n",
       "      <td>0.501 +/- 0.000</td>\n",
       "      <td>0.637 +/- 0.005</td>\n",
       "      <td>0.657 +/- 0.017</td>\n",
       "    </tr>\n",
       "    <tr>\n",
       "      <th>23</th>\n",
       "      <td>28_cora_yago2s</td>\n",
       "      <td>0.558 +/- 0.045</td>\n",
       "      <td>0.691 +/- 0.008</td>\n",
       "      <td>0.725 +/- 0.008</td>\n",
       "    </tr>\n",
       "    <tr>\n",
       "      <th>24</th>\n",
       "      <td>29_cora_yago2s</td>\n",
       "      <td>0.557 +/- 0.004</td>\n",
       "      <td>0.715 +/- 0.010</td>\n",
       "      <td>0.722 +/- 0.005</td>\n",
       "    </tr>\n",
       "    <tr>\n",
       "      <th>25</th>\n",
       "      <td>30_cora_yago2s</td>\n",
       "      <td>0.503 +/- 0.000</td>\n",
       "      <td>0.608 +/- 0.013</td>\n",
       "      <td>0.653 +/- 0.001</td>\n",
       "    </tr>\n",
       "  </tbody>\n",
       "</table>\n",
       "</div>"
      ],
      "text/plain": [
       "               Experiment Transfer Learning  \\\n",
       "0    1_imdb_nell_finances   0.521 +/- 0.026   \n",
       "1    2_imdb_nell_finances   0.533 +/- 0.053   \n",
       "2    3_imdb_nell_finances   0.524 +/- 0.023   \n",
       "3   4_uwcse_nell_finances   0.500 +/- 0.014   \n",
       "4   5_uwcse_nell_finances   0.580 +/- 0.089   \n",
       "5   6_uwcse_nell_finances   0.527 +/- 0.030   \n",
       "6    7_cora_nell_finances   0.582 +/- 0.027   \n",
       "7    8_cora_nell_finances   0.523 +/- 0.069   \n",
       "8    9_cora_nell_finances   0.558 +/- 0.022   \n",
       "9   10_cora_nell_finances   0.500 +/- 0.004   \n",
       "10  11_cora_nell_finances   0.500 +/- 0.000   \n",
       "11  12_cora_nell_finances   0.499 +/- 0.004   \n",
       "12  13_cora_nell_finances   0.528 +/- 0.027   \n",
       "13  14_cora_nell_finances   0.593 +/- 0.031   \n",
       "14  15_cora_nell_finances   0.530 +/- 0.004   \n",
       "15        19_uwcse_yago2s   0.539 +/- 0.061   \n",
       "16        20_uwcse_yago2s   0.509 +/- 0.022   \n",
       "17        21_uwcse_yago2s   0.501 +/- 0.000   \n",
       "18         22_cora_yago2s   0.551 +/- 0.068   \n",
       "19         23_cora_yago2s   0.500 +/- 0.001   \n",
       "20         24_cora_yago2s   0.500 +/- 0.005   \n",
       "21         26_cora_yago2s   0.504 +/- 0.004   \n",
       "22         27_cora_yago2s   0.501 +/- 0.000   \n",
       "23         28_cora_yago2s   0.558 +/- 0.045   \n",
       "24         29_cora_yago2s   0.557 +/- 0.004   \n",
       "25         30_cora_yago2s   0.503 +/- 0.000   \n",
       "\n",
       "   Transfer Learning with Revision Theory Learning from scratch  \n",
       "0                         0.595 +/- 0.014       0.588 +/- 0.021  \n",
       "1                         0.859 +/- 0.076       0.870 +/- 0.078  \n",
       "2                         0.573 +/- 0.029       0.567 +/- 0.025  \n",
       "3                         0.594 +/- 0.038       0.591 +/- 0.020  \n",
       "4                         0.853 +/- 0.108       0.882 +/- 0.059  \n",
       "5                         0.537 +/- 0.051       0.560 +/- 0.013  \n",
       "6                         0.604 +/- 0.030       0.594 +/- 0.012  \n",
       "7                         0.877 +/- 0.068       0.886 +/- 0.057  \n",
       "8                         0.573 +/- 0.035       0.565 +/- 0.012  \n",
       "9                         0.578 +/- 0.025       0.587 +/- 0.023  \n",
       "10                        0.874 +/- 0.073       0.891 +/- 0.058  \n",
       "11                        0.563 +/- 0.023       0.569 +/- 0.019  \n",
       "12                        0.605 +/- 0.041       0.588 +/- 0.025  \n",
       "13                        0.848 +/- 0.062       0.878 +/- 0.072  \n",
       "14                        0.558 +/- 0.010       0.557 +/- 0.036  \n",
       "15                        0.717 +/- 0.019       0.729 +/- 0.004  \n",
       "16                        0.719 +/- 0.019       0.729 +/- 0.013  \n",
       "17                        0.649 +/- 0.003       0.652 +/- 0.006  \n",
       "18                        0.720 +/- 0.022       0.730 +/- 0.015  \n",
       "19                        0.705 +/- 0.036       0.719 +/- 0.013  \n",
       "20                        0.648 +/- 0.006       0.648 +/- 0.020  \n",
       "21                        0.712 +/- 0.002       0.726 +/- 0.020  \n",
       "22                        0.637 +/- 0.005       0.657 +/- 0.017  \n",
       "23                        0.691 +/- 0.008       0.725 +/- 0.008  \n",
       "24                        0.715 +/- 0.010       0.722 +/- 0.005  \n",
       "25                        0.608 +/- 0.013       0.653 +/- 0.001  "
      ]
     },
     "metadata": {},
     "output_type": "display_data"
    },
    {
     "data": {
      "text/markdown": [
       "# Results for AUC PR"
      ],
      "text/plain": [
       "<IPython.core.display.Markdown object>"
      ]
     },
     "metadata": {},
     "output_type": "display_data"
    },
    {
     "data": {
      "text/html": [
       "<div>\n",
       "<table border=\"1\" class=\"dataframe\">\n",
       "  <thead>\n",
       "    <tr style=\"text-align: right;\">\n",
       "      <th></th>\n",
       "      <th>Experiment</th>\n",
       "      <th>Transfer Learning</th>\n",
       "      <th>Transfer Learning with Revision Theory</th>\n",
       "      <th>Learning from scratch</th>\n",
       "    </tr>\n",
       "  </thead>\n",
       "  <tbody>\n",
       "    <tr>\n",
       "      <th>0</th>\n",
       "      <td>1_imdb_nell_finances</td>\n",
       "      <td>0.384 +/- 0.061</td>\n",
       "      <td>0.489 +/- 0.020</td>\n",
       "      <td>0.485 +/- 0.033</td>\n",
       "    </tr>\n",
       "    <tr>\n",
       "      <th>1</th>\n",
       "      <td>2_imdb_nell_finances</td>\n",
       "      <td>0.386 +/- 0.066</td>\n",
       "      <td>0.747 +/- 0.096</td>\n",
       "      <td>0.771 +/- 0.101</td>\n",
       "    </tr>\n",
       "    <tr>\n",
       "      <th>2</th>\n",
       "      <td>3_imdb_nell_finances</td>\n",
       "      <td>0.382 +/- 0.046</td>\n",
       "      <td>0.426 +/- 0.028</td>\n",
       "      <td>0.424 +/- 0.015</td>\n",
       "    </tr>\n",
       "    <tr>\n",
       "      <th>3</th>\n",
       "      <td>4_uwcse_nell_finances</td>\n",
       "      <td>0.344 +/- 0.022</td>\n",
       "      <td>0.491 +/- 0.053</td>\n",
       "      <td>0.476 +/- 0.046</td>\n",
       "    </tr>\n",
       "    <tr>\n",
       "      <th>4</th>\n",
       "      <td>5_uwcse_nell_finances</td>\n",
       "      <td>0.445 +/- 0.192</td>\n",
       "      <td>0.700 +/- 0.229</td>\n",
       "      <td>0.767 +/- 0.065</td>\n",
       "    </tr>\n",
       "    <tr>\n",
       "      <th>5</th>\n",
       "      <td>6_uwcse_nell_finances</td>\n",
       "      <td>0.376 +/- 0.032</td>\n",
       "      <td>0.399 +/- 0.044</td>\n",
       "      <td>0.419 +/- 0.016</td>\n",
       "    </tr>\n",
       "    <tr>\n",
       "      <th>6</th>\n",
       "      <td>7_cora_nell_finances</td>\n",
       "      <td>0.445 +/- 0.028</td>\n",
       "      <td>0.504 +/- 0.046</td>\n",
       "      <td>0.486 +/- 0.026</td>\n",
       "    </tr>\n",
       "    <tr>\n",
       "      <th>7</th>\n",
       "      <td>8_cora_nell_finances</td>\n",
       "      <td>0.362 +/- 0.095</td>\n",
       "      <td>0.760 +/- 0.064</td>\n",
       "      <td>0.775 +/- 0.057</td>\n",
       "    </tr>\n",
       "    <tr>\n",
       "      <th>8</th>\n",
       "      <td>9_cora_nell_finances</td>\n",
       "      <td>0.418 +/- 0.028</td>\n",
       "      <td>0.427 +/- 0.032</td>\n",
       "      <td>0.417 +/- 0.011</td>\n",
       "    </tr>\n",
       "    <tr>\n",
       "      <th>9</th>\n",
       "      <td>10_cora_nell_finances</td>\n",
       "      <td>0.337 +/- 0.007</td>\n",
       "      <td>0.472 +/- 0.029</td>\n",
       "      <td>0.481 +/- 0.030</td>\n",
       "    </tr>\n",
       "    <tr>\n",
       "      <th>10</th>\n",
       "      <td>11_cora_nell_finances</td>\n",
       "      <td>0.347 +/- 0.003</td>\n",
       "      <td>0.749 +/- 0.089</td>\n",
       "      <td>0.776 +/- 0.081</td>\n",
       "    </tr>\n",
       "    <tr>\n",
       "      <th>11</th>\n",
       "      <td>12_cora_nell_finances</td>\n",
       "      <td>0.335 +/- 0.007</td>\n",
       "      <td>0.426 +/- 0.010</td>\n",
       "      <td>0.424 +/- 0.018</td>\n",
       "    </tr>\n",
       "    <tr>\n",
       "      <th>12</th>\n",
       "      <td>13_cora_nell_finances</td>\n",
       "      <td>0.400 +/- 0.059</td>\n",
       "      <td>0.499 +/- 0.040</td>\n",
       "      <td>0.478 +/- 0.040</td>\n",
       "    </tr>\n",
       "    <tr>\n",
       "      <th>13</th>\n",
       "      <td>14_cora_nell_finances</td>\n",
       "      <td>0.427 +/- 0.037</td>\n",
       "      <td>0.735 +/- 0.057</td>\n",
       "      <td>0.771 +/- 0.090</td>\n",
       "    </tr>\n",
       "    <tr>\n",
       "      <th>14</th>\n",
       "      <td>15_cora_nell_finances</td>\n",
       "      <td>0.399 +/- 0.012</td>\n",
       "      <td>0.417 +/- 0.025</td>\n",
       "      <td>0.415 +/- 0.029</td>\n",
       "    </tr>\n",
       "    <tr>\n",
       "      <th>15</th>\n",
       "      <td>19_uwcse_yago2s</td>\n",
       "      <td>0.413 +/- 0.111</td>\n",
       "      <td>0.624 +/- 0.024</td>\n",
       "      <td>0.636 +/- 0.004</td>\n",
       "    </tr>\n",
       "    <tr>\n",
       "      <th>16</th>\n",
       "      <td>20_uwcse_yago2s</td>\n",
       "      <td>0.356 +/- 0.052</td>\n",
       "      <td>0.639 +/- 0.020</td>\n",
       "      <td>0.647 +/- 0.018</td>\n",
       "    </tr>\n",
       "    <tr>\n",
       "      <th>17</th>\n",
       "      <td>21_uwcse_yago2s</td>\n",
       "      <td>0.339 +/- 0.000</td>\n",
       "      <td>0.537 +/- 0.010</td>\n",
       "      <td>0.541 +/- 0.016</td>\n",
       "    </tr>\n",
       "    <tr>\n",
       "      <th>18</th>\n",
       "      <td>22_cora_yago2s</td>\n",
       "      <td>0.440 +/- 0.137</td>\n",
       "      <td>0.629 +/- 0.027</td>\n",
       "      <td>0.638 +/- 0.016</td>\n",
       "    </tr>\n",
       "    <tr>\n",
       "      <th>19</th>\n",
       "      <td>23_cora_yago2s</td>\n",
       "      <td>0.335 +/- 0.004</td>\n",
       "      <td>0.610 +/- 0.052</td>\n",
       "      <td>0.636 +/- 0.011</td>\n",
       "    </tr>\n",
       "    <tr>\n",
       "      <th>20</th>\n",
       "      <td>24_cora_yago2s</td>\n",
       "      <td>0.338 +/- 0.004</td>\n",
       "      <td>0.540 +/- 0.007</td>\n",
       "      <td>0.530 +/- 0.025</td>\n",
       "    </tr>\n",
       "    <tr>\n",
       "      <th>21</th>\n",
       "      <td>26_cora_yago2s</td>\n",
       "      <td>0.346 +/- 0.012</td>\n",
       "      <td>0.636 +/- 0.003</td>\n",
       "      <td>0.644 +/- 0.019</td>\n",
       "    </tr>\n",
       "    <tr>\n",
       "      <th>22</th>\n",
       "      <td>27_cora_yago2s</td>\n",
       "      <td>0.339 +/- 0.001</td>\n",
       "      <td>0.527 +/- 0.007</td>\n",
       "      <td>0.548 +/- 0.020</td>\n",
       "    </tr>\n",
       "    <tr>\n",
       "      <th>23</th>\n",
       "      <td>28_cora_yago2s</td>\n",
       "      <td>0.465 +/- 0.087</td>\n",
       "      <td>0.597 +/- 0.018</td>\n",
       "      <td>0.633 +/- 0.007</td>\n",
       "    </tr>\n",
       "    <tr>\n",
       "      <th>24</th>\n",
       "      <td>29_cora_yago2s</td>\n",
       "      <td>0.451 +/- 0.005</td>\n",
       "      <td>0.633 +/- 0.005</td>\n",
       "      <td>0.642 +/- 0.005</td>\n",
       "    </tr>\n",
       "    <tr>\n",
       "      <th>25</th>\n",
       "      <td>30_cora_yago2s</td>\n",
       "      <td>0.343 +/- 0.001</td>\n",
       "      <td>0.502 +/- 0.016</td>\n",
       "      <td>0.539 +/- 0.006</td>\n",
       "    </tr>\n",
       "  </tbody>\n",
       "</table>\n",
       "</div>"
      ],
      "text/plain": [
       "               Experiment Transfer Learning  \\\n",
       "0    1_imdb_nell_finances   0.384 +/- 0.061   \n",
       "1    2_imdb_nell_finances   0.386 +/- 0.066   \n",
       "2    3_imdb_nell_finances   0.382 +/- 0.046   \n",
       "3   4_uwcse_nell_finances   0.344 +/- 0.022   \n",
       "4   5_uwcse_nell_finances   0.445 +/- 0.192   \n",
       "5   6_uwcse_nell_finances   0.376 +/- 0.032   \n",
       "6    7_cora_nell_finances   0.445 +/- 0.028   \n",
       "7    8_cora_nell_finances   0.362 +/- 0.095   \n",
       "8    9_cora_nell_finances   0.418 +/- 0.028   \n",
       "9   10_cora_nell_finances   0.337 +/- 0.007   \n",
       "10  11_cora_nell_finances   0.347 +/- 0.003   \n",
       "11  12_cora_nell_finances   0.335 +/- 0.007   \n",
       "12  13_cora_nell_finances   0.400 +/- 0.059   \n",
       "13  14_cora_nell_finances   0.427 +/- 0.037   \n",
       "14  15_cora_nell_finances   0.399 +/- 0.012   \n",
       "15        19_uwcse_yago2s   0.413 +/- 0.111   \n",
       "16        20_uwcse_yago2s   0.356 +/- 0.052   \n",
       "17        21_uwcse_yago2s   0.339 +/- 0.000   \n",
       "18         22_cora_yago2s   0.440 +/- 0.137   \n",
       "19         23_cora_yago2s   0.335 +/- 0.004   \n",
       "20         24_cora_yago2s   0.338 +/- 0.004   \n",
       "21         26_cora_yago2s   0.346 +/- 0.012   \n",
       "22         27_cora_yago2s   0.339 +/- 0.001   \n",
       "23         28_cora_yago2s   0.465 +/- 0.087   \n",
       "24         29_cora_yago2s   0.451 +/- 0.005   \n",
       "25         30_cora_yago2s   0.343 +/- 0.001   \n",
       "\n",
       "   Transfer Learning with Revision Theory Learning from scratch  \n",
       "0                         0.489 +/- 0.020       0.485 +/- 0.033  \n",
       "1                         0.747 +/- 0.096       0.771 +/- 0.101  \n",
       "2                         0.426 +/- 0.028       0.424 +/- 0.015  \n",
       "3                         0.491 +/- 0.053       0.476 +/- 0.046  \n",
       "4                         0.700 +/- 0.229       0.767 +/- 0.065  \n",
       "5                         0.399 +/- 0.044       0.419 +/- 0.016  \n",
       "6                         0.504 +/- 0.046       0.486 +/- 0.026  \n",
       "7                         0.760 +/- 0.064       0.775 +/- 0.057  \n",
       "8                         0.427 +/- 0.032       0.417 +/- 0.011  \n",
       "9                         0.472 +/- 0.029       0.481 +/- 0.030  \n",
       "10                        0.749 +/- 0.089       0.776 +/- 0.081  \n",
       "11                        0.426 +/- 0.010       0.424 +/- 0.018  \n",
       "12                        0.499 +/- 0.040       0.478 +/- 0.040  \n",
       "13                        0.735 +/- 0.057       0.771 +/- 0.090  \n",
       "14                        0.417 +/- 0.025       0.415 +/- 0.029  \n",
       "15                        0.624 +/- 0.024       0.636 +/- 0.004  \n",
       "16                        0.639 +/- 0.020       0.647 +/- 0.018  \n",
       "17                        0.537 +/- 0.010       0.541 +/- 0.016  \n",
       "18                        0.629 +/- 0.027       0.638 +/- 0.016  \n",
       "19                        0.610 +/- 0.052       0.636 +/- 0.011  \n",
       "20                        0.540 +/- 0.007       0.530 +/- 0.025  \n",
       "21                        0.636 +/- 0.003       0.644 +/- 0.019  \n",
       "22                        0.527 +/- 0.007       0.548 +/- 0.020  \n",
       "23                        0.597 +/- 0.018       0.633 +/- 0.007  \n",
       "24                        0.633 +/- 0.005       0.642 +/- 0.005  \n",
       "25                        0.502 +/- 0.016       0.539 +/- 0.006  "
      ]
     },
     "metadata": {},
     "output_type": "display_data"
    },
    {
     "data": {
      "text/markdown": [
       "# Results for CLL"
      ],
      "text/plain": [
       "<IPython.core.display.Markdown object>"
      ]
     },
     "metadata": {},
     "output_type": "display_data"
    },
    {
     "data": {
      "text/html": [
       "<div>\n",
       "<table border=\"1\" class=\"dataframe\">\n",
       "  <thead>\n",
       "    <tr style=\"text-align: right;\">\n",
       "      <th></th>\n",
       "      <th>Experiment</th>\n",
       "      <th>Transfer Learning</th>\n",
       "      <th>Transfer Learning with Revision Theory</th>\n",
       "      <th>Learning from scratch</th>\n",
       "    </tr>\n",
       "  </thead>\n",
       "  <tbody>\n",
       "    <tr>\n",
       "      <th>0</th>\n",
       "      <td>1_imdb_nell_finances</td>\n",
       "      <td>-0.627 +/- 0.014</td>\n",
       "      <td>-0.606 +/- 0.012</td>\n",
       "      <td>-0.609 +/- 0.014</td>\n",
       "    </tr>\n",
       "    <tr>\n",
       "      <th>1</th>\n",
       "      <td>2_imdb_nell_finances</td>\n",
       "      <td>-0.648 +/- 0.011</td>\n",
       "      <td>-0.439 +/- 0.064</td>\n",
       "      <td>-0.419 +/- 0.092</td>\n",
       "    </tr>\n",
       "    <tr>\n",
       "      <th>2</th>\n",
       "      <td>3_imdb_nell_finances</td>\n",
       "      <td>-0.630 +/- 0.010</td>\n",
       "      <td>-0.623 +/- 0.010</td>\n",
       "      <td>-0.629 +/- 0.008</td>\n",
       "    </tr>\n",
       "    <tr>\n",
       "      <th>3</th>\n",
       "      <td>4_uwcse_nell_finances</td>\n",
       "      <td>-0.638 +/- 0.007</td>\n",
       "      <td>-0.608 +/- 0.022</td>\n",
       "      <td>-0.613 +/- 0.014</td>\n",
       "    </tr>\n",
       "    <tr>\n",
       "      <th>4</th>\n",
       "      <td>5_uwcse_nell_finances</td>\n",
       "      <td>-0.619 +/- 0.099</td>\n",
       "      <td>-0.443 +/- 0.114</td>\n",
       "      <td>-0.399 +/- 0.054</td>\n",
       "    </tr>\n",
       "    <tr>\n",
       "      <th>5</th>\n",
       "      <td>6_uwcse_nell_finances</td>\n",
       "      <td>-0.633 +/- 0.007</td>\n",
       "      <td>-0.631 +/- 0.009</td>\n",
       "      <td>-0.627 +/- 0.005</td>\n",
       "    </tr>\n",
       "    <tr>\n",
       "      <th>6</th>\n",
       "      <td>7_cora_nell_finances</td>\n",
       "      <td>-0.622 +/- 0.005</td>\n",
       "      <td>-0.606 +/- 0.018</td>\n",
       "      <td>-0.609 +/- 0.009</td>\n",
       "    </tr>\n",
       "    <tr>\n",
       "      <th>7</th>\n",
       "      <td>8_cora_nell_finances</td>\n",
       "      <td>-0.645 +/- 0.026</td>\n",
       "      <td>-0.418 +/- 0.080</td>\n",
       "      <td>-0.403 +/- 0.067</td>\n",
       "    </tr>\n",
       "    <tr>\n",
       "      <th>8</th>\n",
       "      <td>9_cora_nell_finances</td>\n",
       "      <td>-0.625 +/- 0.005</td>\n",
       "      <td>-0.623 +/- 0.010</td>\n",
       "      <td>-0.628 +/- 0.001</td>\n",
       "    </tr>\n",
       "    <tr>\n",
       "      <th>9</th>\n",
       "      <td>10_cora_nell_finances</td>\n",
       "      <td>-0.638 +/- 0.002</td>\n",
       "      <td>-0.612 +/- 0.011</td>\n",
       "      <td>-0.612 +/- 0.011</td>\n",
       "    </tr>\n",
       "    <tr>\n",
       "      <th>10</th>\n",
       "      <td>11_cora_nell_finances</td>\n",
       "      <td>-0.647 +/- 0.003</td>\n",
       "      <td>-0.420 +/- 0.053</td>\n",
       "      <td>-0.398 +/- 0.071</td>\n",
       "    </tr>\n",
       "    <tr>\n",
       "      <th>11</th>\n",
       "      <td>12_cora_nell_finances</td>\n",
       "      <td>-0.639 +/- 0.002</td>\n",
       "      <td>-0.623 +/- 0.005</td>\n",
       "      <td>-0.628 +/- 0.007</td>\n",
       "    </tr>\n",
       "    <tr>\n",
       "      <th>12</th>\n",
       "      <td>13_cora_nell_finances</td>\n",
       "      <td>-0.624 +/- 0.016</td>\n",
       "      <td>-0.602 +/- 0.013</td>\n",
       "      <td>-0.612 +/- 0.015</td>\n",
       "    </tr>\n",
       "    <tr>\n",
       "      <th>13</th>\n",
       "      <td>14_cora_nell_finances</td>\n",
       "      <td>-0.618 +/- 0.009</td>\n",
       "      <td>-0.452 +/- 0.032</td>\n",
       "      <td>-0.418 +/- 0.085</td>\n",
       "    </tr>\n",
       "    <tr>\n",
       "      <th>14</th>\n",
       "      <td>15_cora_nell_finances</td>\n",
       "      <td>-0.629 +/- 0.002</td>\n",
       "      <td>-0.627 +/- 0.006</td>\n",
       "      <td>-0.629 +/- 0.009</td>\n",
       "    </tr>\n",
       "    <tr>\n",
       "      <th>15</th>\n",
       "      <td>19_uwcse_yago2s</td>\n",
       "      <td>-0.620 +/- 0.040</td>\n",
       "      <td>-0.551 +/- 0.007</td>\n",
       "      <td>-0.547 +/- 0.002</td>\n",
       "    </tr>\n",
       "    <tr>\n",
       "      <th>16</th>\n",
       "      <td>20_uwcse_yago2s</td>\n",
       "      <td>-0.634 +/- 0.010</td>\n",
       "      <td>-0.555 +/- 0.010</td>\n",
       "      <td>-0.548 +/- 0.004</td>\n",
       "    </tr>\n",
       "    <tr>\n",
       "      <th>17</th>\n",
       "      <td>21_uwcse_yago2s</td>\n",
       "      <td>-0.637 +/- 0.000</td>\n",
       "      <td>-0.604 +/- 0.002</td>\n",
       "      <td>-0.599 +/- 0.004</td>\n",
       "    </tr>\n",
       "    <tr>\n",
       "      <th>18</th>\n",
       "      <td>22_cora_yago2s</td>\n",
       "      <td>-0.606 +/- 0.043</td>\n",
       "      <td>-0.548 +/- 0.008</td>\n",
       "      <td>-0.547 +/- 0.001</td>\n",
       "    </tr>\n",
       "    <tr>\n",
       "      <th>19</th>\n",
       "      <td>23_cora_yago2s</td>\n",
       "      <td>-0.638 +/- 0.001</td>\n",
       "      <td>-0.568 +/- 0.030</td>\n",
       "      <td>-0.551 +/- 0.005</td>\n",
       "    </tr>\n",
       "    <tr>\n",
       "      <th>20</th>\n",
       "      <td>24_cora_yago2s</td>\n",
       "      <td>-0.637 +/- 0.000</td>\n",
       "      <td>-0.602 +/- 0.000</td>\n",
       "      <td>-0.601 +/- 0.005</td>\n",
       "    </tr>\n",
       "    <tr>\n",
       "      <th>21</th>\n",
       "      <td>26_cora_yago2s</td>\n",
       "      <td>-0.636 +/- 0.002</td>\n",
       "      <td>-0.554 +/- 0.004</td>\n",
       "      <td>-0.550 +/- 0.006</td>\n",
       "    </tr>\n",
       "    <tr>\n",
       "      <th>22</th>\n",
       "      <td>27_cora_yago2s</td>\n",
       "      <td>-0.637 +/- 0.000</td>\n",
       "      <td>-0.602 +/- 0.001</td>\n",
       "      <td>-0.597 +/- 0.006</td>\n",
       "    </tr>\n",
       "    <tr>\n",
       "      <th>23</th>\n",
       "      <td>28_cora_yago2s</td>\n",
       "      <td>-0.599 +/- 0.031</td>\n",
       "      <td>-0.566 +/- 0.004</td>\n",
       "      <td>-0.547 +/- 0.001</td>\n",
       "    </tr>\n",
       "    <tr>\n",
       "      <th>24</th>\n",
       "      <td>29_cora_yago2s</td>\n",
       "      <td>-0.610 +/- 0.003</td>\n",
       "      <td>-0.555 +/- 0.003</td>\n",
       "      <td>-0.550 +/- 0.006</td>\n",
       "    </tr>\n",
       "    <tr>\n",
       "      <th>25</th>\n",
       "      <td>30_cora_yago2s</td>\n",
       "      <td>-0.636 +/- 0.000</td>\n",
       "      <td>-0.611 +/- 0.006</td>\n",
       "      <td>-0.600 +/- 0.003</td>\n",
       "    </tr>\n",
       "  </tbody>\n",
       "</table>\n",
       "</div>"
      ],
      "text/plain": [
       "               Experiment Transfer Learning  \\\n",
       "0    1_imdb_nell_finances  -0.627 +/- 0.014   \n",
       "1    2_imdb_nell_finances  -0.648 +/- 0.011   \n",
       "2    3_imdb_nell_finances  -0.630 +/- 0.010   \n",
       "3   4_uwcse_nell_finances  -0.638 +/- 0.007   \n",
       "4   5_uwcse_nell_finances  -0.619 +/- 0.099   \n",
       "5   6_uwcse_nell_finances  -0.633 +/- 0.007   \n",
       "6    7_cora_nell_finances  -0.622 +/- 0.005   \n",
       "7    8_cora_nell_finances  -0.645 +/- 0.026   \n",
       "8    9_cora_nell_finances  -0.625 +/- 0.005   \n",
       "9   10_cora_nell_finances  -0.638 +/- 0.002   \n",
       "10  11_cora_nell_finances  -0.647 +/- 0.003   \n",
       "11  12_cora_nell_finances  -0.639 +/- 0.002   \n",
       "12  13_cora_nell_finances  -0.624 +/- 0.016   \n",
       "13  14_cora_nell_finances  -0.618 +/- 0.009   \n",
       "14  15_cora_nell_finances  -0.629 +/- 0.002   \n",
       "15        19_uwcse_yago2s  -0.620 +/- 0.040   \n",
       "16        20_uwcse_yago2s  -0.634 +/- 0.010   \n",
       "17        21_uwcse_yago2s  -0.637 +/- 0.000   \n",
       "18         22_cora_yago2s  -0.606 +/- 0.043   \n",
       "19         23_cora_yago2s  -0.638 +/- 0.001   \n",
       "20         24_cora_yago2s  -0.637 +/- 0.000   \n",
       "21         26_cora_yago2s  -0.636 +/- 0.002   \n",
       "22         27_cora_yago2s  -0.637 +/- 0.000   \n",
       "23         28_cora_yago2s  -0.599 +/- 0.031   \n",
       "24         29_cora_yago2s  -0.610 +/- 0.003   \n",
       "25         30_cora_yago2s  -0.636 +/- 0.000   \n",
       "\n",
       "   Transfer Learning with Revision Theory Learning from scratch  \n",
       "0                        -0.606 +/- 0.012      -0.609 +/- 0.014  \n",
       "1                        -0.439 +/- 0.064      -0.419 +/- 0.092  \n",
       "2                        -0.623 +/- 0.010      -0.629 +/- 0.008  \n",
       "3                        -0.608 +/- 0.022      -0.613 +/- 0.014  \n",
       "4                        -0.443 +/- 0.114      -0.399 +/- 0.054  \n",
       "5                        -0.631 +/- 0.009      -0.627 +/- 0.005  \n",
       "6                        -0.606 +/- 0.018      -0.609 +/- 0.009  \n",
       "7                        -0.418 +/- 0.080      -0.403 +/- 0.067  \n",
       "8                        -0.623 +/- 0.010      -0.628 +/- 0.001  \n",
       "9                        -0.612 +/- 0.011      -0.612 +/- 0.011  \n",
       "10                       -0.420 +/- 0.053      -0.398 +/- 0.071  \n",
       "11                       -0.623 +/- 0.005      -0.628 +/- 0.007  \n",
       "12                       -0.602 +/- 0.013      -0.612 +/- 0.015  \n",
       "13                       -0.452 +/- 0.032      -0.418 +/- 0.085  \n",
       "14                       -0.627 +/- 0.006      -0.629 +/- 0.009  \n",
       "15                       -0.551 +/- 0.007      -0.547 +/- 0.002  \n",
       "16                       -0.555 +/- 0.010      -0.548 +/- 0.004  \n",
       "17                       -0.604 +/- 0.002      -0.599 +/- 0.004  \n",
       "18                       -0.548 +/- 0.008      -0.547 +/- 0.001  \n",
       "19                       -0.568 +/- 0.030      -0.551 +/- 0.005  \n",
       "20                       -0.602 +/- 0.000      -0.601 +/- 0.005  \n",
       "21                       -0.554 +/- 0.004      -0.550 +/- 0.006  \n",
       "22                       -0.602 +/- 0.001      -0.597 +/- 0.006  \n",
       "23                       -0.566 +/- 0.004      -0.547 +/- 0.001  \n",
       "24                       -0.555 +/- 0.003      -0.550 +/- 0.006  \n",
       "25                       -0.611 +/- 0.006      -0.600 +/- 0.003  "
      ]
     },
     "metadata": {},
     "output_type": "display_data"
    },
    {
     "data": {
      "text/markdown": [
       "# Results for Recall"
      ],
      "text/plain": [
       "<IPython.core.display.Markdown object>"
      ]
     },
     "metadata": {},
     "output_type": "display_data"
    },
    {
     "data": {
      "text/html": [
       "<div>\n",
       "<table border=\"1\" class=\"dataframe\">\n",
       "  <thead>\n",
       "    <tr style=\"text-align: right;\">\n",
       "      <th></th>\n",
       "      <th>Experiment</th>\n",
       "      <th>Transfer Learning</th>\n",
       "      <th>Transfer Learning with Revision Theory</th>\n",
       "      <th>Learning from scratch</th>\n",
       "    </tr>\n",
       "  </thead>\n",
       "  <tbody>\n",
       "    <tr>\n",
       "      <th>0</th>\n",
       "      <td>1_imdb_nell_finances</td>\n",
       "      <td>0.046 +/- 0.057</td>\n",
       "      <td>0.201 +/- 0.040</td>\n",
       "      <td>0.193 +/- 0.033</td>\n",
       "    </tr>\n",
       "    <tr>\n",
       "      <th>1</th>\n",
       "      <td>2_imdb_nell_finances</td>\n",
       "      <td>0.031 +/- 0.139</td>\n",
       "      <td>0.796 +/- 0.100</td>\n",
       "      <td>0.809 +/- 0.146</td>\n",
       "    </tr>\n",
       "    <tr>\n",
       "      <th>2</th>\n",
       "      <td>3_imdb_nell_finances</td>\n",
       "      <td>0.058 +/- 0.066</td>\n",
       "      <td>0.084 +/- 0.032</td>\n",
       "      <td>0.085 +/- 0.026</td>\n",
       "    </tr>\n",
       "    <tr>\n",
       "      <th>3</th>\n",
       "      <td>4_uwcse_nell_finances</td>\n",
       "      <td>0.008 +/- 0.011</td>\n",
       "      <td>0.203 +/- 0.012</td>\n",
       "      <td>0.197 +/- 0.022</td>\n",
       "    </tr>\n",
       "    <tr>\n",
       "      <th>4</th>\n",
       "      <td>5_uwcse_nell_finances</td>\n",
       "      <td>0.088 +/- 0.248</td>\n",
       "      <td>0.738 +/- 0.311</td>\n",
       "      <td>0.814 +/- 0.152</td>\n",
       "    </tr>\n",
       "    <tr>\n",
       "      <th>5</th>\n",
       "      <td>6_uwcse_nell_finances</td>\n",
       "      <td>0.035 +/- 0.060</td>\n",
       "      <td>0.074 +/- 0.059</td>\n",
       "      <td>0.092 +/- 0.026</td>\n",
       "    </tr>\n",
       "    <tr>\n",
       "      <th>6</th>\n",
       "      <td>7_cora_nell_finances</td>\n",
       "      <td>0.062 +/- 0.007</td>\n",
       "      <td>0.184 +/- 0.023</td>\n",
       "      <td>0.211 +/- 0.015</td>\n",
       "    </tr>\n",
       "    <tr>\n",
       "      <th>7</th>\n",
       "      <td>8_cora_nell_finances</td>\n",
       "      <td>0.013 +/- 0.022</td>\n",
       "      <td>0.805 +/- 0.111</td>\n",
       "      <td>0.765 +/- 0.129</td>\n",
       "    </tr>\n",
       "    <tr>\n",
       "      <th>8</th>\n",
       "      <td>9_cora_nell_finances</td>\n",
       "      <td>0.085 +/- 0.010</td>\n",
       "      <td>0.087 +/- 0.025</td>\n",
       "      <td>0.081 +/- 0.028</td>\n",
       "    </tr>\n",
       "    <tr>\n",
       "      <th>9</th>\n",
       "      <td>10_cora_nell_finances</td>\n",
       "      <td>0.002 +/- 0.003</td>\n",
       "      <td>0.178 +/- 0.030</td>\n",
       "      <td>0.185 +/- 0.017</td>\n",
       "    </tr>\n",
       "    <tr>\n",
       "      <th>10</th>\n",
       "      <td>11_cora_nell_finances</td>\n",
       "      <td>0.000 +/- 0.000</td>\n",
       "      <td>0.801 +/- 0.158</td>\n",
       "      <td>0.818 +/- 0.121</td>\n",
       "    </tr>\n",
       "    <tr>\n",
       "      <th>11</th>\n",
       "      <td>12_cora_nell_finances</td>\n",
       "      <td>0.001 +/- 0.003</td>\n",
       "      <td>0.096 +/- 0.050</td>\n",
       "      <td>0.085 +/- 0.022</td>\n",
       "    </tr>\n",
       "    <tr>\n",
       "      <th>12</th>\n",
       "      <td>13_cora_nell_finances</td>\n",
       "      <td>0.062 +/- 0.058</td>\n",
       "      <td>0.193 +/- 0.037</td>\n",
       "      <td>0.194 +/- 0.005</td>\n",
       "    </tr>\n",
       "    <tr>\n",
       "      <th>13</th>\n",
       "      <td>14_cora_nell_finances</td>\n",
       "      <td>0.150 +/- 0.221</td>\n",
       "      <td>0.599 +/- 0.424</td>\n",
       "      <td>0.792 +/- 0.141</td>\n",
       "    </tr>\n",
       "    <tr>\n",
       "      <th>14</th>\n",
       "      <td>15_cora_nell_finances</td>\n",
       "      <td>0.086 +/- 0.003</td>\n",
       "      <td>0.084 +/- 0.041</td>\n",
       "      <td>0.090 +/- 0.011</td>\n",
       "    </tr>\n",
       "    <tr>\n",
       "      <th>15</th>\n",
       "      <td>19_uwcse_yago2s</td>\n",
       "      <td>0.050 +/- 0.119</td>\n",
       "      <td>0.181 +/- 0.010</td>\n",
       "      <td>0.186 +/- 0.010</td>\n",
       "    </tr>\n",
       "    <tr>\n",
       "      <th>16</th>\n",
       "      <td>20_uwcse_yago2s</td>\n",
       "      <td>0.018 +/- 0.046</td>\n",
       "      <td>0.273 +/- 0.093</td>\n",
       "      <td>0.309 +/- 0.030</td>\n",
       "    </tr>\n",
       "    <tr>\n",
       "      <th>17</th>\n",
       "      <td>21_uwcse_yago2s</td>\n",
       "      <td>0.003 +/- 0.000</td>\n",
       "      <td>0.080 +/- 0.019</td>\n",
       "      <td>0.098 +/- 0.022</td>\n",
       "    </tr>\n",
       "    <tr>\n",
       "      <th>18</th>\n",
       "      <td>22_cora_yago2s</td>\n",
       "      <td>0.092 +/- 0.124</td>\n",
       "      <td>0.184 +/- 0.023</td>\n",
       "      <td>0.192 +/- 0.009</td>\n",
       "    </tr>\n",
       "    <tr>\n",
       "      <th>19</th>\n",
       "      <td>23_cora_yago2s</td>\n",
       "      <td>0.002 +/- 0.002</td>\n",
       "      <td>0.235 +/- 0.133</td>\n",
       "      <td>0.299 +/- 0.035</td>\n",
       "    </tr>\n",
       "    <tr>\n",
       "      <th>20</th>\n",
       "      <td>24_cora_yago2s</td>\n",
       "      <td>0.003 +/- 0.000</td>\n",
       "      <td>0.096 +/- 0.012</td>\n",
       "      <td>0.087 +/- 0.013</td>\n",
       "    </tr>\n",
       "    <tr>\n",
       "      <th>21</th>\n",
       "      <td>26_cora_yago2s</td>\n",
       "      <td>0.008 +/- 0.009</td>\n",
       "      <td>0.308 +/- 0.023</td>\n",
       "      <td>0.297 +/- 0.024</td>\n",
       "    </tr>\n",
       "    <tr>\n",
       "      <th>22</th>\n",
       "      <td>27_cora_yago2s</td>\n",
       "      <td>0.003 +/- 0.000</td>\n",
       "      <td>0.105 +/- 0.006</td>\n",
       "      <td>0.100 +/- 0.016</td>\n",
       "    </tr>\n",
       "    <tr>\n",
       "      <th>23</th>\n",
       "      <td>28_cora_yago2s</td>\n",
       "      <td>0.117 +/- 0.089</td>\n",
       "      <td>0.160 +/- 0.031</td>\n",
       "      <td>0.187 +/- 0.006</td>\n",
       "    </tr>\n",
       "    <tr>\n",
       "      <th>24</th>\n",
       "      <td>29_cora_yago2s</td>\n",
       "      <td>0.124 +/- 0.020</td>\n",
       "      <td>0.297 +/- 0.009</td>\n",
       "      <td>0.303 +/- 0.033</td>\n",
       "    </tr>\n",
       "    <tr>\n",
       "      <th>25</th>\n",
       "      <td>30_cora_yago2s</td>\n",
       "      <td>0.005 +/- 0.001</td>\n",
       "      <td>0.071 +/- 0.025</td>\n",
       "      <td>0.091 +/- 0.016</td>\n",
       "    </tr>\n",
       "  </tbody>\n",
       "</table>\n",
       "</div>"
      ],
      "text/plain": [
       "               Experiment Transfer Learning  \\\n",
       "0    1_imdb_nell_finances   0.046 +/- 0.057   \n",
       "1    2_imdb_nell_finances   0.031 +/- 0.139   \n",
       "2    3_imdb_nell_finances   0.058 +/- 0.066   \n",
       "3   4_uwcse_nell_finances   0.008 +/- 0.011   \n",
       "4   5_uwcse_nell_finances   0.088 +/- 0.248   \n",
       "5   6_uwcse_nell_finances   0.035 +/- 0.060   \n",
       "6    7_cora_nell_finances   0.062 +/- 0.007   \n",
       "7    8_cora_nell_finances   0.013 +/- 0.022   \n",
       "8    9_cora_nell_finances   0.085 +/- 0.010   \n",
       "9   10_cora_nell_finances   0.002 +/- 0.003   \n",
       "10  11_cora_nell_finances   0.000 +/- 0.000   \n",
       "11  12_cora_nell_finances   0.001 +/- 0.003   \n",
       "12  13_cora_nell_finances   0.062 +/- 0.058   \n",
       "13  14_cora_nell_finances   0.150 +/- 0.221   \n",
       "14  15_cora_nell_finances   0.086 +/- 0.003   \n",
       "15        19_uwcse_yago2s   0.050 +/- 0.119   \n",
       "16        20_uwcse_yago2s   0.018 +/- 0.046   \n",
       "17        21_uwcse_yago2s   0.003 +/- 0.000   \n",
       "18         22_cora_yago2s   0.092 +/- 0.124   \n",
       "19         23_cora_yago2s   0.002 +/- 0.002   \n",
       "20         24_cora_yago2s   0.003 +/- 0.000   \n",
       "21         26_cora_yago2s   0.008 +/- 0.009   \n",
       "22         27_cora_yago2s   0.003 +/- 0.000   \n",
       "23         28_cora_yago2s   0.117 +/- 0.089   \n",
       "24         29_cora_yago2s   0.124 +/- 0.020   \n",
       "25         30_cora_yago2s   0.005 +/- 0.001   \n",
       "\n",
       "   Transfer Learning with Revision Theory Learning from scratch  \n",
       "0                         0.201 +/- 0.040       0.193 +/- 0.033  \n",
       "1                         0.796 +/- 0.100       0.809 +/- 0.146  \n",
       "2                         0.084 +/- 0.032       0.085 +/- 0.026  \n",
       "3                         0.203 +/- 0.012       0.197 +/- 0.022  \n",
       "4                         0.738 +/- 0.311       0.814 +/- 0.152  \n",
       "5                         0.074 +/- 0.059       0.092 +/- 0.026  \n",
       "6                         0.184 +/- 0.023       0.211 +/- 0.015  \n",
       "7                         0.805 +/- 0.111       0.765 +/- 0.129  \n",
       "8                         0.087 +/- 0.025       0.081 +/- 0.028  \n",
       "9                         0.178 +/- 0.030       0.185 +/- 0.017  \n",
       "10                        0.801 +/- 0.158       0.818 +/- 0.121  \n",
       "11                        0.096 +/- 0.050       0.085 +/- 0.022  \n",
       "12                        0.193 +/- 0.037       0.194 +/- 0.005  \n",
       "13                        0.599 +/- 0.424       0.792 +/- 0.141  \n",
       "14                        0.084 +/- 0.041       0.090 +/- 0.011  \n",
       "15                        0.181 +/- 0.010       0.186 +/- 0.010  \n",
       "16                        0.273 +/- 0.093       0.309 +/- 0.030  \n",
       "17                        0.080 +/- 0.019       0.098 +/- 0.022  \n",
       "18                        0.184 +/- 0.023       0.192 +/- 0.009  \n",
       "19                        0.235 +/- 0.133       0.299 +/- 0.035  \n",
       "20                        0.096 +/- 0.012       0.087 +/- 0.013  \n",
       "21                        0.308 +/- 0.023       0.297 +/- 0.024  \n",
       "22                        0.105 +/- 0.006       0.100 +/- 0.016  \n",
       "23                        0.160 +/- 0.031       0.187 +/- 0.006  \n",
       "24                        0.297 +/- 0.009       0.303 +/- 0.033  \n",
       "25                        0.071 +/- 0.025       0.091 +/- 0.016  "
      ]
     },
     "metadata": {},
     "output_type": "display_data"
    },
    {
     "data": {
      "text/markdown": [
       "# Results for F1"
      ],
      "text/plain": [
       "<IPython.core.display.Markdown object>"
      ]
     },
     "metadata": {},
     "output_type": "display_data"
    },
    {
     "data": {
      "text/html": [
       "<div>\n",
       "<table border=\"1\" class=\"dataframe\">\n",
       "  <thead>\n",
       "    <tr style=\"text-align: right;\">\n",
       "      <th></th>\n",
       "      <th>Experiment</th>\n",
       "      <th>Transfer Learning</th>\n",
       "      <th>Transfer Learning with Revision Theory</th>\n",
       "      <th>Learning from scratch</th>\n",
       "    </tr>\n",
       "  </thead>\n",
       "  <tbody>\n",
       "    <tr>\n",
       "      <th>0</th>\n",
       "      <td>1_imdb_nell_finances</td>\n",
       "      <td>nan +/- nan</td>\n",
       "      <td>0.314 +/- 0.040</td>\n",
       "      <td>0.303 +/- 0.036</td>\n",
       "    </tr>\n",
       "    <tr>\n",
       "      <th>1</th>\n",
       "      <td>2_imdb_nell_finances</td>\n",
       "      <td>nan +/- nan</td>\n",
       "      <td>0.734 +/- 0.086</td>\n",
       "      <td>0.740 +/- 0.092</td>\n",
       "    </tr>\n",
       "    <tr>\n",
       "      <th>2</th>\n",
       "      <td>3_imdb_nell_finances</td>\n",
       "      <td>nan +/- nan</td>\n",
       "      <td>0.149 +/- 0.052</td>\n",
       "      <td>0.149 +/- 0.041</td>\n",
       "    </tr>\n",
       "    <tr>\n",
       "      <th>3</th>\n",
       "      <td>4_uwcse_nell_finances</td>\n",
       "      <td>nan +/- nan</td>\n",
       "      <td>0.316 +/- 0.026</td>\n",
       "      <td>0.307 +/- 0.024</td>\n",
       "    </tr>\n",
       "    <tr>\n",
       "      <th>4</th>\n",
       "      <td>5_uwcse_nell_finances</td>\n",
       "      <td>nan +/- nan</td>\n",
       "      <td>0.703 +/- 0.210</td>\n",
       "      <td>0.749 +/- 0.093</td>\n",
       "    </tr>\n",
       "    <tr>\n",
       "      <th>5</th>\n",
       "      <td>6_uwcse_nell_finances</td>\n",
       "      <td>nan +/- nan</td>\n",
       "      <td>0.130 +/- 0.096</td>\n",
       "      <td>0.161 +/- 0.043</td>\n",
       "    </tr>\n",
       "    <tr>\n",
       "      <th>6</th>\n",
       "      <td>7_cora_nell_finances</td>\n",
       "      <td>0.116 +/- 0.014</td>\n",
       "      <td>0.293 +/- 0.028</td>\n",
       "      <td>0.324 +/- 0.023</td>\n",
       "    </tr>\n",
       "    <tr>\n",
       "      <th>7</th>\n",
       "      <td>8_cora_nell_finances</td>\n",
       "      <td>nan +/- nan</td>\n",
       "      <td>0.754 +/- 0.081</td>\n",
       "      <td>0.738 +/- 0.092</td>\n",
       "    </tr>\n",
       "    <tr>\n",
       "      <th>8</th>\n",
       "      <td>9_cora_nell_finances</td>\n",
       "      <td>0.152 +/- 0.018</td>\n",
       "      <td>0.153 +/- 0.038</td>\n",
       "      <td>0.142 +/- 0.043</td>\n",
       "    </tr>\n",
       "    <tr>\n",
       "      <th>9</th>\n",
       "      <td>10_cora_nell_finances</td>\n",
       "      <td>nan +/- nan</td>\n",
       "      <td>0.285 +/- 0.032</td>\n",
       "      <td>0.294 +/- 0.025</td>\n",
       "    </tr>\n",
       "    <tr>\n",
       "      <th>10</th>\n",
       "      <td>11_cora_nell_finances</td>\n",
       "      <td>nan +/- nan</td>\n",
       "      <td>0.739 +/- 0.111</td>\n",
       "      <td>0.746 +/- 0.095</td>\n",
       "    </tr>\n",
       "    <tr>\n",
       "      <th>11</th>\n",
       "      <td>12_cora_nell_finances</td>\n",
       "      <td>nan +/- nan</td>\n",
       "      <td>0.167 +/- 0.077</td>\n",
       "      <td>0.151 +/- 0.034</td>\n",
       "    </tr>\n",
       "    <tr>\n",
       "      <th>12</th>\n",
       "      <td>13_cora_nell_finances</td>\n",
       "      <td>0.114 +/- 0.104</td>\n",
       "      <td>0.310 +/- 0.054</td>\n",
       "      <td>0.303 +/- 0.015</td>\n",
       "    </tr>\n",
       "    <tr>\n",
       "      <th>13</th>\n",
       "      <td>14_cora_nell_finances</td>\n",
       "      <td>nan +/- nan</td>\n",
       "      <td>0.610 +/- 0.249</td>\n",
       "      <td>0.739 +/- 0.095</td>\n",
       "    </tr>\n",
       "    <tr>\n",
       "      <th>14</th>\n",
       "      <td>15_cora_nell_finances</td>\n",
       "      <td>0.153 +/- 0.004</td>\n",
       "      <td>0.149 +/- 0.066</td>\n",
       "      <td>0.157 +/- 0.015</td>\n",
       "    </tr>\n",
       "    <tr>\n",
       "      <th>15</th>\n",
       "      <td>19_uwcse_yago2s</td>\n",
       "      <td>0.089 +/- 0.208</td>\n",
       "      <td>0.305 +/- 0.015</td>\n",
       "      <td>0.312 +/- 0.014</td>\n",
       "    </tr>\n",
       "    <tr>\n",
       "      <th>16</th>\n",
       "      <td>20_uwcse_yago2s</td>\n",
       "      <td>0.035 +/- 0.086</td>\n",
       "      <td>0.409 +/- 0.106</td>\n",
       "      <td>0.450 +/- 0.028</td>\n",
       "    </tr>\n",
       "    <tr>\n",
       "      <th>17</th>\n",
       "      <td>21_uwcse_yago2s</td>\n",
       "      <td>0.005 +/- 0.000</td>\n",
       "      <td>0.147 +/- 0.032</td>\n",
       "      <td>0.178 +/- 0.035</td>\n",
       "    </tr>\n",
       "    <tr>\n",
       "      <th>18</th>\n",
       "      <td>22_cora_yago2s</td>\n",
       "      <td>0.162 +/- 0.218</td>\n",
       "      <td>0.309 +/- 0.031</td>\n",
       "      <td>0.321 +/- 0.012</td>\n",
       "    </tr>\n",
       "    <tr>\n",
       "      <th>19</th>\n",
       "      <td>23_cora_yago2s</td>\n",
       "      <td>nan +/- nan</td>\n",
       "      <td>0.359 +/- 0.167</td>\n",
       "      <td>0.438 +/- 0.032</td>\n",
       "    </tr>\n",
       "    <tr>\n",
       "      <th>20</th>\n",
       "      <td>24_cora_yago2s</td>\n",
       "      <td>0.006 +/- 0.000</td>\n",
       "      <td>0.174 +/- 0.020</td>\n",
       "      <td>0.159 +/- 0.022</td>\n",
       "    </tr>\n",
       "    <tr>\n",
       "      <th>21</th>\n",
       "      <td>26_cora_yago2s</td>\n",
       "      <td>0.015 +/- 0.017</td>\n",
       "      <td>0.450 +/- 0.025</td>\n",
       "      <td>0.437 +/- 0.027</td>\n",
       "    </tr>\n",
       "    <tr>\n",
       "      <th>22</th>\n",
       "      <td>27_cora_yago2s</td>\n",
       "      <td>0.005 +/- 0.001</td>\n",
       "      <td>0.189 +/- 0.010</td>\n",
       "      <td>0.180 +/- 0.026</td>\n",
       "    </tr>\n",
       "    <tr>\n",
       "      <th>23</th>\n",
       "      <td>28_cora_yago2s</td>\n",
       "      <td>0.206 +/- 0.147</td>\n",
       "      <td>0.276 +/- 0.046</td>\n",
       "      <td>0.314 +/- 0.009</td>\n",
       "    </tr>\n",
       "    <tr>\n",
       "      <th>24</th>\n",
       "      <td>29_cora_yago2s</td>\n",
       "      <td>0.215 +/- 0.030</td>\n",
       "      <td>0.437 +/- 0.011</td>\n",
       "      <td>0.444 +/- 0.035</td>\n",
       "    </tr>\n",
       "    <tr>\n",
       "      <th>25</th>\n",
       "      <td>30_cora_yago2s</td>\n",
       "      <td>0.010 +/- 0.002</td>\n",
       "      <td>0.133 +/- 0.044</td>\n",
       "      <td>0.167 +/- 0.026</td>\n",
       "    </tr>\n",
       "  </tbody>\n",
       "</table>\n",
       "</div>"
      ],
      "text/plain": [
       "               Experiment Transfer Learning  \\\n",
       "0    1_imdb_nell_finances       nan +/- nan   \n",
       "1    2_imdb_nell_finances       nan +/- nan   \n",
       "2    3_imdb_nell_finances       nan +/- nan   \n",
       "3   4_uwcse_nell_finances       nan +/- nan   \n",
       "4   5_uwcse_nell_finances       nan +/- nan   \n",
       "5   6_uwcse_nell_finances       nan +/- nan   \n",
       "6    7_cora_nell_finances   0.116 +/- 0.014   \n",
       "7    8_cora_nell_finances       nan +/- nan   \n",
       "8    9_cora_nell_finances   0.152 +/- 0.018   \n",
       "9   10_cora_nell_finances       nan +/- nan   \n",
       "10  11_cora_nell_finances       nan +/- nan   \n",
       "11  12_cora_nell_finances       nan +/- nan   \n",
       "12  13_cora_nell_finances   0.114 +/- 0.104   \n",
       "13  14_cora_nell_finances       nan +/- nan   \n",
       "14  15_cora_nell_finances   0.153 +/- 0.004   \n",
       "15        19_uwcse_yago2s   0.089 +/- 0.208   \n",
       "16        20_uwcse_yago2s   0.035 +/- 0.086   \n",
       "17        21_uwcse_yago2s   0.005 +/- 0.000   \n",
       "18         22_cora_yago2s   0.162 +/- 0.218   \n",
       "19         23_cora_yago2s       nan +/- nan   \n",
       "20         24_cora_yago2s   0.006 +/- 0.000   \n",
       "21         26_cora_yago2s   0.015 +/- 0.017   \n",
       "22         27_cora_yago2s   0.005 +/- 0.001   \n",
       "23         28_cora_yago2s   0.206 +/- 0.147   \n",
       "24         29_cora_yago2s   0.215 +/- 0.030   \n",
       "25         30_cora_yago2s   0.010 +/- 0.002   \n",
       "\n",
       "   Transfer Learning with Revision Theory Learning from scratch  \n",
       "0                         0.314 +/- 0.040       0.303 +/- 0.036  \n",
       "1                         0.734 +/- 0.086       0.740 +/- 0.092  \n",
       "2                         0.149 +/- 0.052       0.149 +/- 0.041  \n",
       "3                         0.316 +/- 0.026       0.307 +/- 0.024  \n",
       "4                         0.703 +/- 0.210       0.749 +/- 0.093  \n",
       "5                         0.130 +/- 0.096       0.161 +/- 0.043  \n",
       "6                         0.293 +/- 0.028       0.324 +/- 0.023  \n",
       "7                         0.754 +/- 0.081       0.738 +/- 0.092  \n",
       "8                         0.153 +/- 0.038       0.142 +/- 0.043  \n",
       "9                         0.285 +/- 0.032       0.294 +/- 0.025  \n",
       "10                        0.739 +/- 0.111       0.746 +/- 0.095  \n",
       "11                        0.167 +/- 0.077       0.151 +/- 0.034  \n",
       "12                        0.310 +/- 0.054       0.303 +/- 0.015  \n",
       "13                        0.610 +/- 0.249       0.739 +/- 0.095  \n",
       "14                        0.149 +/- 0.066       0.157 +/- 0.015  \n",
       "15                        0.305 +/- 0.015       0.312 +/- 0.014  \n",
       "16                        0.409 +/- 0.106       0.450 +/- 0.028  \n",
       "17                        0.147 +/- 0.032       0.178 +/- 0.035  \n",
       "18                        0.309 +/- 0.031       0.321 +/- 0.012  \n",
       "19                        0.359 +/- 0.167       0.438 +/- 0.032  \n",
       "20                        0.174 +/- 0.020       0.159 +/- 0.022  \n",
       "21                        0.450 +/- 0.025       0.437 +/- 0.027  \n",
       "22                        0.189 +/- 0.010       0.180 +/- 0.026  \n",
       "23                        0.276 +/- 0.046       0.314 +/- 0.009  \n",
       "24                        0.437 +/- 0.011       0.444 +/- 0.035  \n",
       "25                        0.133 +/- 0.044       0.167 +/- 0.026  "
      ]
     },
     "metadata": {},
     "output_type": "display_data"
    },
    {
     "data": {
      "text/markdown": [
       "# Results for Precision"
      ],
      "text/plain": [
       "<IPython.core.display.Markdown object>"
      ]
     },
     "metadata": {},
     "output_type": "display_data"
    },
    {
     "data": {
      "text/html": [
       "<div>\n",
       "<table border=\"1\" class=\"dataframe\">\n",
       "  <thead>\n",
       "    <tr style=\"text-align: right;\">\n",
       "      <th></th>\n",
       "      <th>Experiment</th>\n",
       "      <th>Transfer Learning</th>\n",
       "      <th>Transfer Learning with Revision Theory</th>\n",
       "      <th>Learning from scratch</th>\n",
       "    </tr>\n",
       "  </thead>\n",
       "  <tbody>\n",
       "    <tr>\n",
       "      <th>0</th>\n",
       "      <td>1_imdb_nell_finances</td>\n",
       "      <td>nan +/- nan</td>\n",
       "      <td>0.737 +/- 0.164</td>\n",
       "      <td>0.717 +/- 0.087</td>\n",
       "    </tr>\n",
       "    <tr>\n",
       "      <th>1</th>\n",
       "      <td>2_imdb_nell_finances</td>\n",
       "      <td>nan +/- nan</td>\n",
       "      <td>0.683 +/- 0.103</td>\n",
       "      <td>0.684 +/- 0.068</td>\n",
       "    </tr>\n",
       "    <tr>\n",
       "      <th>2</th>\n",
       "      <td>3_imdb_nell_finances</td>\n",
       "      <td>nan +/- nan</td>\n",
       "      <td>0.731 +/- 0.192</td>\n",
       "      <td>0.651 +/- 0.140</td>\n",
       "    </tr>\n",
       "    <tr>\n",
       "      <th>3</th>\n",
       "      <td>4_uwcse_nell_finances</td>\n",
       "      <td>nan +/- nan</td>\n",
       "      <td>0.718 +/- 0.169</td>\n",
       "      <td>0.703 +/- 0.044</td>\n",
       "    </tr>\n",
       "    <tr>\n",
       "      <th>4</th>\n",
       "      <td>5_uwcse_nell_finances</td>\n",
       "      <td>nan +/- nan</td>\n",
       "      <td>0.680 +/- 0.138</td>\n",
       "      <td>0.697 +/- 0.095</td>\n",
       "    </tr>\n",
       "    <tr>\n",
       "      <th>5</th>\n",
       "      <td>6_uwcse_nell_finances</td>\n",
       "      <td>nan +/- nan</td>\n",
       "      <td>0.699 +/- 0.214</td>\n",
       "      <td>0.648 +/- 0.123</td>\n",
       "    </tr>\n",
       "    <tr>\n",
       "      <th>6</th>\n",
       "      <td>7_cora_nell_finances</td>\n",
       "      <td>0.885 +/- 0.084</td>\n",
       "      <td>0.733 +/- 0.137</td>\n",
       "      <td>0.703 +/- 0.089</td>\n",
       "    </tr>\n",
       "    <tr>\n",
       "      <th>7</th>\n",
       "      <td>8_cora_nell_finances</td>\n",
       "      <td>nan +/- nan</td>\n",
       "      <td>0.711 +/- 0.100</td>\n",
       "      <td>0.713 +/- 0.060</td>\n",
       "    </tr>\n",
       "    <tr>\n",
       "      <th>8</th>\n",
       "      <td>9_cora_nell_finances</td>\n",
       "      <td>0.718 +/- 0.074</td>\n",
       "      <td>0.660 +/- 0.045</td>\n",
       "      <td>0.621 +/- 0.232</td>\n",
       "    </tr>\n",
       "    <tr>\n",
       "      <th>9</th>\n",
       "      <td>10_cora_nell_finances</td>\n",
       "      <td>nan +/- nan</td>\n",
       "      <td>0.725 +/- 0.110</td>\n",
       "      <td>0.720 +/- 0.106</td>\n",
       "    </tr>\n",
       "    <tr>\n",
       "      <th>10</th>\n",
       "      <td>11_cora_nell_finances</td>\n",
       "      <td>nan +/- nan</td>\n",
       "      <td>0.691 +/- 0.111</td>\n",
       "      <td>0.687 +/- 0.103</td>\n",
       "    </tr>\n",
       "    <tr>\n",
       "      <th>11</th>\n",
       "      <td>12_cora_nell_finances</td>\n",
       "      <td>nan +/- nan</td>\n",
       "      <td>0.732 +/- 0.195</td>\n",
       "      <td>0.675 +/- 0.052</td>\n",
       "    </tr>\n",
       "    <tr>\n",
       "      <th>12</th>\n",
       "      <td>13_cora_nell_finances</td>\n",
       "      <td>0.860 +/- 0.117</td>\n",
       "      <td>0.793 +/- 0.084</td>\n",
       "      <td>0.695 +/- 0.090</td>\n",
       "    </tr>\n",
       "    <tr>\n",
       "      <th>13</th>\n",
       "      <td>14_cora_nell_finances</td>\n",
       "      <td>nan +/- nan</td>\n",
       "      <td>0.694 +/- 0.114</td>\n",
       "      <td>0.695 +/- 0.091</td>\n",
       "    </tr>\n",
       "    <tr>\n",
       "      <th>14</th>\n",
       "      <td>15_cora_nell_finances</td>\n",
       "      <td>0.686 +/- 0.130</td>\n",
       "      <td>0.681 +/- 0.252</td>\n",
       "      <td>0.612 +/- 0.098</td>\n",
       "    </tr>\n",
       "    <tr>\n",
       "      <th>15</th>\n",
       "      <td>19_uwcse_yago2s</td>\n",
       "      <td>1.000 +/- 0.000</td>\n",
       "      <td>0.986 +/- 0.007</td>\n",
       "      <td>0.980 +/- 0.006</td>\n",
       "    </tr>\n",
       "    <tr>\n",
       "      <th>16</th>\n",
       "      <td>20_uwcse_yago2s</td>\n",
       "      <td>0.951 +/- 0.139</td>\n",
       "      <td>0.845 +/- 0.035</td>\n",
       "      <td>0.834 +/- 0.050</td>\n",
       "    </tr>\n",
       "    <tr>\n",
       "      <th>17</th>\n",
       "      <td>21_uwcse_yago2s</td>\n",
       "      <td>0.976 +/- 0.034</td>\n",
       "      <td>0.952 +/- 0.033</td>\n",
       "      <td>0.962 +/- 0.011</td>\n",
       "    </tr>\n",
       "    <tr>\n",
       "      <th>18</th>\n",
       "      <td>22_cora_yago2s</td>\n",
       "      <td>1.000 +/- 0.000</td>\n",
       "      <td>0.979 +/- 0.029</td>\n",
       "      <td>0.971 +/- 0.020</td>\n",
       "    </tr>\n",
       "    <tr>\n",
       "      <th>19</th>\n",
       "      <td>23_cora_yago2s</td>\n",
       "      <td>nan +/- nan</td>\n",
       "      <td>0.812 +/- 0.038</td>\n",
       "      <td>0.828 +/- 0.052</td>\n",
       "    </tr>\n",
       "    <tr>\n",
       "      <th>20</th>\n",
       "      <td>24_cora_yago2s</td>\n",
       "      <td>1.000 +/- 0.000</td>\n",
       "      <td>0.949 +/- 0.015</td>\n",
       "      <td>0.956 +/- 0.033</td>\n",
       "    </tr>\n",
       "    <tr>\n",
       "      <th>21</th>\n",
       "      <td>26_cora_yago2s</td>\n",
       "      <td>0.889 +/- 0.162</td>\n",
       "      <td>0.834 +/- 0.013</td>\n",
       "      <td>0.832 +/- 0.009</td>\n",
       "    </tr>\n",
       "    <tr>\n",
       "      <th>22</th>\n",
       "      <td>27_cora_yago2s</td>\n",
       "      <td>1.000 +/- 0.000</td>\n",
       "      <td>0.961 +/- 0.008</td>\n",
       "      <td>0.951 +/- 0.014</td>\n",
       "    </tr>\n",
       "    <tr>\n",
       "      <th>23</th>\n",
       "      <td>28_cora_yago2s</td>\n",
       "      <td>0.995 +/- 0.015</td>\n",
       "      <td>0.998 +/- 0.005</td>\n",
       "      <td>0.972 +/- 0.015</td>\n",
       "    </tr>\n",
       "    <tr>\n",
       "      <th>24</th>\n",
       "      <td>29_cora_yago2s</td>\n",
       "      <td>0.841 +/- 0.077</td>\n",
       "      <td>0.825 +/- 0.009</td>\n",
       "      <td>0.834 +/- 0.011</td>\n",
       "    </tr>\n",
       "    <tr>\n",
       "      <th>25</th>\n",
       "      <td>30_cora_yago2s</td>\n",
       "      <td>1.000 +/- 0.000</td>\n",
       "      <td>0.960 +/- 0.032</td>\n",
       "      <td>0.953 +/- 0.008</td>\n",
       "    </tr>\n",
       "  </tbody>\n",
       "</table>\n",
       "</div>"
      ],
      "text/plain": [
       "               Experiment Transfer Learning  \\\n",
       "0    1_imdb_nell_finances       nan +/- nan   \n",
       "1    2_imdb_nell_finances       nan +/- nan   \n",
       "2    3_imdb_nell_finances       nan +/- nan   \n",
       "3   4_uwcse_nell_finances       nan +/- nan   \n",
       "4   5_uwcse_nell_finances       nan +/- nan   \n",
       "5   6_uwcse_nell_finances       nan +/- nan   \n",
       "6    7_cora_nell_finances   0.885 +/- 0.084   \n",
       "7    8_cora_nell_finances       nan +/- nan   \n",
       "8    9_cora_nell_finances   0.718 +/- 0.074   \n",
       "9   10_cora_nell_finances       nan +/- nan   \n",
       "10  11_cora_nell_finances       nan +/- nan   \n",
       "11  12_cora_nell_finances       nan +/- nan   \n",
       "12  13_cora_nell_finances   0.860 +/- 0.117   \n",
       "13  14_cora_nell_finances       nan +/- nan   \n",
       "14  15_cora_nell_finances   0.686 +/- 0.130   \n",
       "15        19_uwcse_yago2s   1.000 +/- 0.000   \n",
       "16        20_uwcse_yago2s   0.951 +/- 0.139   \n",
       "17        21_uwcse_yago2s   0.976 +/- 0.034   \n",
       "18         22_cora_yago2s   1.000 +/- 0.000   \n",
       "19         23_cora_yago2s       nan +/- nan   \n",
       "20         24_cora_yago2s   1.000 +/- 0.000   \n",
       "21         26_cora_yago2s   0.889 +/- 0.162   \n",
       "22         27_cora_yago2s   1.000 +/- 0.000   \n",
       "23         28_cora_yago2s   0.995 +/- 0.015   \n",
       "24         29_cora_yago2s   0.841 +/- 0.077   \n",
       "25         30_cora_yago2s   1.000 +/- 0.000   \n",
       "\n",
       "   Transfer Learning with Revision Theory Learning from scratch  \n",
       "0                         0.737 +/- 0.164       0.717 +/- 0.087  \n",
       "1                         0.683 +/- 0.103       0.684 +/- 0.068  \n",
       "2                         0.731 +/- 0.192       0.651 +/- 0.140  \n",
       "3                         0.718 +/- 0.169       0.703 +/- 0.044  \n",
       "4                         0.680 +/- 0.138       0.697 +/- 0.095  \n",
       "5                         0.699 +/- 0.214       0.648 +/- 0.123  \n",
       "6                         0.733 +/- 0.137       0.703 +/- 0.089  \n",
       "7                         0.711 +/- 0.100       0.713 +/- 0.060  \n",
       "8                         0.660 +/- 0.045       0.621 +/- 0.232  \n",
       "9                         0.725 +/- 0.110       0.720 +/- 0.106  \n",
       "10                        0.691 +/- 0.111       0.687 +/- 0.103  \n",
       "11                        0.732 +/- 0.195       0.675 +/- 0.052  \n",
       "12                        0.793 +/- 0.084       0.695 +/- 0.090  \n",
       "13                        0.694 +/- 0.114       0.695 +/- 0.091  \n",
       "14                        0.681 +/- 0.252       0.612 +/- 0.098  \n",
       "15                        0.986 +/- 0.007       0.980 +/- 0.006  \n",
       "16                        0.845 +/- 0.035       0.834 +/- 0.050  \n",
       "17                        0.952 +/- 0.033       0.962 +/- 0.011  \n",
       "18                        0.979 +/- 0.029       0.971 +/- 0.020  \n",
       "19                        0.812 +/- 0.038       0.828 +/- 0.052  \n",
       "20                        0.949 +/- 0.015       0.956 +/- 0.033  \n",
       "21                        0.834 +/- 0.013       0.832 +/- 0.009  \n",
       "22                        0.961 +/- 0.008       0.951 +/- 0.014  \n",
       "23                        0.998 +/- 0.005       0.972 +/- 0.015  \n",
       "24                        0.825 +/- 0.009       0.834 +/- 0.011  \n",
       "25                        0.960 +/- 0.032       0.953 +/- 0.008  "
      ]
     },
     "metadata": {},
     "output_type": "display_data"
    },
    {
     "data": {
      "text/markdown": [
       "# Results for Learning and Revision time"
      ],
      "text/plain": [
       "<IPython.core.display.Markdown object>"
      ]
     },
     "metadata": {},
     "output_type": "display_data"
    },
    {
     "data": {
      "text/html": [
       "<div>\n",
       "<table border=\"1\" class=\"dataframe\">\n",
       "  <thead>\n",
       "    <tr style=\"text-align: right;\">\n",
       "      <th></th>\n",
       "      <th>Experiment</th>\n",
       "      <th>Transfer Learning</th>\n",
       "      <th>Transfer Learning with Revision Theory</th>\n",
       "      <th>Learning from scratch</th>\n",
       "    </tr>\n",
       "  </thead>\n",
       "  <tbody>\n",
       "    <tr>\n",
       "      <th>0</th>\n",
       "      <td>1_imdb_nell_finances</td>\n",
       "      <td>5.251 +/- 0.537</td>\n",
       "      <td>16.352 +/- 1.275</td>\n",
       "      <td>11.380 +/- 2.067</td>\n",
       "    </tr>\n",
       "    <tr>\n",
       "      <th>1</th>\n",
       "      <td>2_imdb_nell_finances</td>\n",
       "      <td>34.127 +/- 22.164</td>\n",
       "      <td>119.625 +/- 84.212</td>\n",
       "      <td>130.292 +/- 87.996</td>\n",
       "    </tr>\n",
       "    <tr>\n",
       "      <th>2</th>\n",
       "      <td>3_imdb_nell_finances</td>\n",
       "      <td>6.172 +/- 1.232</td>\n",
       "      <td>17.691 +/- 2.404</td>\n",
       "      <td>14.773 +/- 6.663</td>\n",
       "    </tr>\n",
       "    <tr>\n",
       "      <th>3</th>\n",
       "      <td>4_uwcse_nell_finances</td>\n",
       "      <td>4.264 +/- 3.467</td>\n",
       "      <td>16.068 +/- 1.814</td>\n",
       "      <td>10.461 +/- 2.474</td>\n",
       "    </tr>\n",
       "    <tr>\n",
       "      <th>4</th>\n",
       "      <td>5_uwcse_nell_finances</td>\n",
       "      <td>40.944 +/- 45.178</td>\n",
       "      <td>174.964 +/- 118.278</td>\n",
       "      <td>138.552 +/- 163.268</td>\n",
       "    </tr>\n",
       "    <tr>\n",
       "      <th>5</th>\n",
       "      <td>6_uwcse_nell_finances</td>\n",
       "      <td>5.209 +/- 2.461</td>\n",
       "      <td>16.682 +/- 2.187</td>\n",
       "      <td>12.846 +/- 2.432</td>\n",
       "    </tr>\n",
       "    <tr>\n",
       "      <th>6</th>\n",
       "      <td>7_cora_nell_finances</td>\n",
       "      <td>3.616 +/- 3.241</td>\n",
       "      <td>13.457 +/- 4.300</td>\n",
       "      <td>11.195 +/- 2.278</td>\n",
       "    </tr>\n",
       "    <tr>\n",
       "      <th>7</th>\n",
       "      <td>8_cora_nell_finances</td>\n",
       "      <td>43.722 +/- 23.103</td>\n",
       "      <td>125.921 +/- 39.959</td>\n",
       "      <td>121.821 +/- 15.983</td>\n",
       "    </tr>\n",
       "    <tr>\n",
       "      <th>8</th>\n",
       "      <td>9_cora_nell_finances</td>\n",
       "      <td>5.758 +/- 1.735</td>\n",
       "      <td>15.542 +/- 1.963</td>\n",
       "      <td>13.188 +/- 1.820</td>\n",
       "    </tr>\n",
       "    <tr>\n",
       "      <th>9</th>\n",
       "      <td>10_cora_nell_finances</td>\n",
       "      <td>15.103 +/- 23.410</td>\n",
       "      <td>26.829 +/- 23.561</td>\n",
       "      <td>11.156 +/- 1.657</td>\n",
       "    </tr>\n",
       "    <tr>\n",
       "      <th>10</th>\n",
       "      <td>11_cora_nell_finances</td>\n",
       "      <td>89.197 +/- 178.628</td>\n",
       "      <td>212.015 +/- 215.496</td>\n",
       "      <td>101.124 +/- 126.634</td>\n",
       "    </tr>\n",
       "    <tr>\n",
       "      <th>11</th>\n",
       "      <td>12_cora_nell_finances</td>\n",
       "      <td>6.095 +/- 4.020</td>\n",
       "      <td>17.687 +/- 6.003</td>\n",
       "      <td>15.887 +/- 9.345</td>\n",
       "    </tr>\n",
       "    <tr>\n",
       "      <th>12</th>\n",
       "      <td>13_cora_nell_finances</td>\n",
       "      <td>24.690 +/- 44.101</td>\n",
       "      <td>35.398 +/- 42.061</td>\n",
       "      <td>10.454 +/- 1.290</td>\n",
       "    </tr>\n",
       "    <tr>\n",
       "      <th>13</th>\n",
       "      <td>14_cora_nell_finances</td>\n",
       "      <td>34.299 +/- 21.049</td>\n",
       "      <td>104.930 +/- 70.965</td>\n",
       "      <td>127.992 +/- 95.237</td>\n",
       "    </tr>\n",
       "    <tr>\n",
       "      <th>14</th>\n",
       "      <td>15_cora_nell_finances</td>\n",
       "      <td>5.654 +/- 0.345</td>\n",
       "      <td>16.360 +/- 4.136</td>\n",
       "      <td>14.209 +/- 3.690</td>\n",
       "    </tr>\n",
       "    <tr>\n",
       "      <th>15</th>\n",
       "      <td>19_uwcse_yago2s</td>\n",
       "      <td>442.504 +/- 137.633</td>\n",
       "      <td>1390.547 +/- 209.206</td>\n",
       "      <td>921.630 +/- 61.984</td>\n",
       "    </tr>\n",
       "    <tr>\n",
       "      <th>16</th>\n",
       "      <td>20_uwcse_yago2s</td>\n",
       "      <td>597.456 +/- 865.445</td>\n",
       "      <td>1127.541 +/- 891.894</td>\n",
       "      <td>831.041 +/- 461.808</td>\n",
       "    </tr>\n",
       "    <tr>\n",
       "      <th>17</th>\n",
       "      <td>21_uwcse_yago2s</td>\n",
       "      <td>306.082 +/- 19.056</td>\n",
       "      <td>979.305 +/- 252.247</td>\n",
       "      <td>953.935 +/- 520.273</td>\n",
       "    </tr>\n",
       "    <tr>\n",
       "      <th>18</th>\n",
       "      <td>22_cora_yago2s</td>\n",
       "      <td>522.616 +/- 18.853</td>\n",
       "      <td>1425.166 +/- 309.462</td>\n",
       "      <td>879.489 +/- 28.497</td>\n",
       "    </tr>\n",
       "    <tr>\n",
       "      <th>19</th>\n",
       "      <td>23_cora_yago2s</td>\n",
       "      <td>557.806 +/- 998.891</td>\n",
       "      <td>1223.594 +/- 1094.501</td>\n",
       "      <td>624.329 +/- 225.432</td>\n",
       "    </tr>\n",
       "    <tr>\n",
       "      <th>20</th>\n",
       "      <td>24_cora_yago2s</td>\n",
       "      <td>2743.800 +/- 7125.877</td>\n",
       "      <td>3652.799 +/- 7680.895</td>\n",
       "      <td>1016.420 +/- 188.844</td>\n",
       "    </tr>\n",
       "    <tr>\n",
       "      <th>21</th>\n",
       "      <td>26_cora_yago2s</td>\n",
       "      <td>301.112 +/- 89.472</td>\n",
       "      <td>757.622 +/- 249.854</td>\n",
       "      <td>579.337 +/- 149.883</td>\n",
       "    </tr>\n",
       "    <tr>\n",
       "      <th>22</th>\n",
       "      <td>27_cora_yago2s</td>\n",
       "      <td>390.398 +/- 159.102</td>\n",
       "      <td>1032.017 +/- 151.519</td>\n",
       "      <td>836.362 +/- 93.775</td>\n",
       "    </tr>\n",
       "    <tr>\n",
       "      <th>23</th>\n",
       "      <td>28_cora_yago2s</td>\n",
       "      <td>462.784 +/- 102.954</td>\n",
       "      <td>1058.183 +/- 142.256</td>\n",
       "      <td>797.867 +/- 82.729</td>\n",
       "    </tr>\n",
       "    <tr>\n",
       "      <th>24</th>\n",
       "      <td>29_cora_yago2s</td>\n",
       "      <td>180.790 +/- 42.783</td>\n",
       "      <td>561.886 +/- 51.566</td>\n",
       "      <td>581.937 +/- 302.624</td>\n",
       "    </tr>\n",
       "    <tr>\n",
       "      <th>25</th>\n",
       "      <td>30_cora_yago2s</td>\n",
       "      <td>279.866 +/- 17.369</td>\n",
       "      <td>956.817 +/- 598.149</td>\n",
       "      <td>1285.198 +/- 971.120</td>\n",
       "    </tr>\n",
       "  </tbody>\n",
       "</table>\n",
       "</div>"
      ],
      "text/plain": [
       "               Experiment      Transfer Learning  \\\n",
       "0    1_imdb_nell_finances        5.251 +/- 0.537   \n",
       "1    2_imdb_nell_finances      34.127 +/- 22.164   \n",
       "2    3_imdb_nell_finances        6.172 +/- 1.232   \n",
       "3   4_uwcse_nell_finances        4.264 +/- 3.467   \n",
       "4   5_uwcse_nell_finances      40.944 +/- 45.178   \n",
       "5   6_uwcse_nell_finances        5.209 +/- 2.461   \n",
       "6    7_cora_nell_finances        3.616 +/- 3.241   \n",
       "7    8_cora_nell_finances      43.722 +/- 23.103   \n",
       "8    9_cora_nell_finances        5.758 +/- 1.735   \n",
       "9   10_cora_nell_finances      15.103 +/- 23.410   \n",
       "10  11_cora_nell_finances     89.197 +/- 178.628   \n",
       "11  12_cora_nell_finances        6.095 +/- 4.020   \n",
       "12  13_cora_nell_finances      24.690 +/- 44.101   \n",
       "13  14_cora_nell_finances      34.299 +/- 21.049   \n",
       "14  15_cora_nell_finances        5.654 +/- 0.345   \n",
       "15        19_uwcse_yago2s    442.504 +/- 137.633   \n",
       "16        20_uwcse_yago2s    597.456 +/- 865.445   \n",
       "17        21_uwcse_yago2s     306.082 +/- 19.056   \n",
       "18         22_cora_yago2s     522.616 +/- 18.853   \n",
       "19         23_cora_yago2s    557.806 +/- 998.891   \n",
       "20         24_cora_yago2s  2743.800 +/- 7125.877   \n",
       "21         26_cora_yago2s     301.112 +/- 89.472   \n",
       "22         27_cora_yago2s    390.398 +/- 159.102   \n",
       "23         28_cora_yago2s    462.784 +/- 102.954   \n",
       "24         29_cora_yago2s     180.790 +/- 42.783   \n",
       "25         30_cora_yago2s     279.866 +/- 17.369   \n",
       "\n",
       "   Transfer Learning with Revision Theory Learning from scratch  \n",
       "0                        16.352 +/- 1.275      11.380 +/- 2.067  \n",
       "1                      119.625 +/- 84.212    130.292 +/- 87.996  \n",
       "2                        17.691 +/- 2.404      14.773 +/- 6.663  \n",
       "3                        16.068 +/- 1.814      10.461 +/- 2.474  \n",
       "4                     174.964 +/- 118.278   138.552 +/- 163.268  \n",
       "5                        16.682 +/- 2.187      12.846 +/- 2.432  \n",
       "6                        13.457 +/- 4.300      11.195 +/- 2.278  \n",
       "7                      125.921 +/- 39.959    121.821 +/- 15.983  \n",
       "8                        15.542 +/- 1.963      13.188 +/- 1.820  \n",
       "9                       26.829 +/- 23.561      11.156 +/- 1.657  \n",
       "10                    212.015 +/- 215.496   101.124 +/- 126.634  \n",
       "11                       17.687 +/- 6.003      15.887 +/- 9.345  \n",
       "12                      35.398 +/- 42.061      10.454 +/- 1.290  \n",
       "13                     104.930 +/- 70.965    127.992 +/- 95.237  \n",
       "14                       16.360 +/- 4.136      14.209 +/- 3.690  \n",
       "15                   1390.547 +/- 209.206    921.630 +/- 61.984  \n",
       "16                   1127.541 +/- 891.894   831.041 +/- 461.808  \n",
       "17                    979.305 +/- 252.247   953.935 +/- 520.273  \n",
       "18                   1425.166 +/- 309.462    879.489 +/- 28.497  \n",
       "19                  1223.594 +/- 1094.501   624.329 +/- 225.432  \n",
       "20                  3652.799 +/- 7680.895  1016.420 +/- 188.844  \n",
       "21                    757.622 +/- 249.854   579.337 +/- 149.883  \n",
       "22                   1032.017 +/- 151.519    836.362 +/- 93.775  \n",
       "23                   1058.183 +/- 142.256    797.867 +/- 82.729  \n",
       "24                     561.886 +/- 51.566   581.937 +/- 302.624  \n",
       "25                    956.817 +/- 598.149  1285.198 +/- 971.120  "
      ]
     },
     "metadata": {},
     "output_type": "display_data"
    },
    {
     "data": {
      "text/markdown": [
       "# Results for Inference time"
      ],
      "text/plain": [
       "<IPython.core.display.Markdown object>"
      ]
     },
     "metadata": {},
     "output_type": "display_data"
    },
    {
     "data": {
      "text/html": [
       "<div>\n",
       "<table border=\"1\" class=\"dataframe\">\n",
       "  <thead>\n",
       "    <tr style=\"text-align: right;\">\n",
       "      <th></th>\n",
       "      <th>Experiment</th>\n",
       "      <th>Transfer Learning</th>\n",
       "      <th>Transfer Learning with Revision Theory</th>\n",
       "      <th>Learning from scratch</th>\n",
       "    </tr>\n",
       "  </thead>\n",
       "  <tbody>\n",
       "    <tr>\n",
       "      <th>0</th>\n",
       "      <td>1_imdb_nell_finances</td>\n",
       "      <td>5.251 +/- 0.537</td>\n",
       "      <td>1.396 +/- 0.158</td>\n",
       "      <td>1.325 +/- 0.263</td>\n",
       "    </tr>\n",
       "    <tr>\n",
       "      <th>1</th>\n",
       "      <td>2_imdb_nell_finances</td>\n",
       "      <td>34.127 +/- 22.164</td>\n",
       "      <td>2.260 +/- 2.641</td>\n",
       "      <td>1.748 +/- 0.692</td>\n",
       "    </tr>\n",
       "    <tr>\n",
       "      <th>2</th>\n",
       "      <td>3_imdb_nell_finances</td>\n",
       "      <td>6.172 +/- 1.232</td>\n",
       "      <td>1.401 +/- 0.209</td>\n",
       "      <td>1.409 +/- 0.342</td>\n",
       "    </tr>\n",
       "    <tr>\n",
       "      <th>3</th>\n",
       "      <td>4_uwcse_nell_finances</td>\n",
       "      <td>4.264 +/- 3.467</td>\n",
       "      <td>1.355 +/- 0.180</td>\n",
       "      <td>1.361 +/- 0.173</td>\n",
       "    </tr>\n",
       "    <tr>\n",
       "      <th>4</th>\n",
       "      <td>5_uwcse_nell_finances</td>\n",
       "      <td>40.944 +/- 45.178</td>\n",
       "      <td>2.415 +/- 2.102</td>\n",
       "      <td>4.005 +/- 6.966</td>\n",
       "    </tr>\n",
       "    <tr>\n",
       "      <th>5</th>\n",
       "      <td>6_uwcse_nell_finances</td>\n",
       "      <td>5.209 +/- 2.461</td>\n",
       "      <td>1.498 +/- 0.173</td>\n",
       "      <td>1.299 +/- 0.216</td>\n",
       "    </tr>\n",
       "    <tr>\n",
       "      <th>6</th>\n",
       "      <td>7_cora_nell_finances</td>\n",
       "      <td>3.616 +/- 3.241</td>\n",
       "      <td>1.374 +/- 0.159</td>\n",
       "      <td>1.567 +/- 0.673</td>\n",
       "    </tr>\n",
       "    <tr>\n",
       "      <th>7</th>\n",
       "      <td>8_cora_nell_finances</td>\n",
       "      <td>43.722 +/- 23.103</td>\n",
       "      <td>1.516 +/- 0.687</td>\n",
       "      <td>1.501 +/- 0.437</td>\n",
       "    </tr>\n",
       "    <tr>\n",
       "      <th>8</th>\n",
       "      <td>9_cora_nell_finances</td>\n",
       "      <td>5.758 +/- 1.735</td>\n",
       "      <td>1.374 +/- 0.184</td>\n",
       "      <td>1.409 +/- 0.184</td>\n",
       "    </tr>\n",
       "    <tr>\n",
       "      <th>9</th>\n",
       "      <td>10_cora_nell_finances</td>\n",
       "      <td>15.103 +/- 23.410</td>\n",
       "      <td>1.356 +/- 0.078</td>\n",
       "      <td>1.741 +/- 1.031</td>\n",
       "    </tr>\n",
       "    <tr>\n",
       "      <th>10</th>\n",
       "      <td>11_cora_nell_finances</td>\n",
       "      <td>89.197 +/- 178.628</td>\n",
       "      <td>1.484 +/- 0.249</td>\n",
       "      <td>1.527 +/- 0.493</td>\n",
       "    </tr>\n",
       "    <tr>\n",
       "      <th>11</th>\n",
       "      <td>12_cora_nell_finances</td>\n",
       "      <td>6.095 +/- 4.020</td>\n",
       "      <td>1.475 +/- 0.330</td>\n",
       "      <td>1.369 +/- 0.065</td>\n",
       "    </tr>\n",
       "    <tr>\n",
       "      <th>12</th>\n",
       "      <td>13_cora_nell_finances</td>\n",
       "      <td>24.690 +/- 44.101</td>\n",
       "      <td>1.293 +/- 0.037</td>\n",
       "      <td>1.335 +/- 0.119</td>\n",
       "    </tr>\n",
       "    <tr>\n",
       "      <th>13</th>\n",
       "      <td>14_cora_nell_finances</td>\n",
       "      <td>34.299 +/- 21.049</td>\n",
       "      <td>1.846 +/- 0.487</td>\n",
       "      <td>2.188 +/- 2.081</td>\n",
       "    </tr>\n",
       "    <tr>\n",
       "      <th>14</th>\n",
       "      <td>15_cora_nell_finances</td>\n",
       "      <td>5.654 +/- 0.345</td>\n",
       "      <td>1.377 +/- 0.133</td>\n",
       "      <td>1.417 +/- 0.200</td>\n",
       "    </tr>\n",
       "    <tr>\n",
       "      <th>15</th>\n",
       "      <td>19_uwcse_yago2s</td>\n",
       "      <td>442.504 +/- 137.633</td>\n",
       "      <td>72.298 +/- 2.879</td>\n",
       "      <td>84.273 +/- 30.197</td>\n",
       "    </tr>\n",
       "    <tr>\n",
       "      <th>16</th>\n",
       "      <td>20_uwcse_yago2s</td>\n",
       "      <td>597.456 +/- 865.445</td>\n",
       "      <td>65.808 +/- 3.214</td>\n",
       "      <td>66.467 +/- 0.419</td>\n",
       "    </tr>\n",
       "    <tr>\n",
       "      <th>17</th>\n",
       "      <td>21_uwcse_yago2s</td>\n",
       "      <td>306.082 +/- 19.056</td>\n",
       "      <td>83.241 +/- 26.197</td>\n",
       "      <td>79.216 +/- 30.878</td>\n",
       "    </tr>\n",
       "    <tr>\n",
       "      <th>18</th>\n",
       "      <td>22_cora_yago2s</td>\n",
       "      <td>522.616 +/- 18.853</td>\n",
       "      <td>68.840 +/- 3.364</td>\n",
       "      <td>90.589 +/- 28.027</td>\n",
       "    </tr>\n",
       "    <tr>\n",
       "      <th>19</th>\n",
       "      <td>23_cora_yago2s</td>\n",
       "      <td>557.806 +/- 998.891</td>\n",
       "      <td>71.914 +/- 32.304</td>\n",
       "      <td>72.038 +/- 23.449</td>\n",
       "    </tr>\n",
       "    <tr>\n",
       "      <th>20</th>\n",
       "      <td>24_cora_yago2s</td>\n",
       "      <td>2743.800 +/- 7125.877</td>\n",
       "      <td>87.577 +/- 16.878</td>\n",
       "      <td>84.432 +/- 28.324</td>\n",
       "    </tr>\n",
       "    <tr>\n",
       "      <th>21</th>\n",
       "      <td>26_cora_yago2s</td>\n",
       "      <td>301.112 +/- 89.472</td>\n",
       "      <td>85.888 +/- 2.752</td>\n",
       "      <td>68.913 +/- 26.497</td>\n",
       "    </tr>\n",
       "    <tr>\n",
       "      <th>22</th>\n",
       "      <td>27_cora_yago2s</td>\n",
       "      <td>390.398 +/- 159.102</td>\n",
       "      <td>74.885 +/- 24.440</td>\n",
       "      <td>70.107 +/- 1.217</td>\n",
       "    </tr>\n",
       "    <tr>\n",
       "      <th>23</th>\n",
       "      <td>28_cora_yago2s</td>\n",
       "      <td>462.784 +/- 102.954</td>\n",
       "      <td>72.001 +/- 28.021</td>\n",
       "      <td>83.683 +/- 27.054</td>\n",
       "    </tr>\n",
       "    <tr>\n",
       "      <th>24</th>\n",
       "      <td>29_cora_yago2s</td>\n",
       "      <td>180.790 +/- 42.783</td>\n",
       "      <td>67.769 +/- 26.545</td>\n",
       "      <td>76.825 +/- 28.664</td>\n",
       "    </tr>\n",
       "    <tr>\n",
       "      <th>25</th>\n",
       "      <td>30_cora_yago2s</td>\n",
       "      <td>279.866 +/- 17.369</td>\n",
       "      <td>69.835 +/- 27.271</td>\n",
       "      <td>68.793 +/- 8.971</td>\n",
       "    </tr>\n",
       "  </tbody>\n",
       "</table>\n",
       "</div>"
      ],
      "text/plain": [
       "               Experiment      Transfer Learning  \\\n",
       "0    1_imdb_nell_finances        5.251 +/- 0.537   \n",
       "1    2_imdb_nell_finances      34.127 +/- 22.164   \n",
       "2    3_imdb_nell_finances        6.172 +/- 1.232   \n",
       "3   4_uwcse_nell_finances        4.264 +/- 3.467   \n",
       "4   5_uwcse_nell_finances      40.944 +/- 45.178   \n",
       "5   6_uwcse_nell_finances        5.209 +/- 2.461   \n",
       "6    7_cora_nell_finances        3.616 +/- 3.241   \n",
       "7    8_cora_nell_finances      43.722 +/- 23.103   \n",
       "8    9_cora_nell_finances        5.758 +/- 1.735   \n",
       "9   10_cora_nell_finances      15.103 +/- 23.410   \n",
       "10  11_cora_nell_finances     89.197 +/- 178.628   \n",
       "11  12_cora_nell_finances        6.095 +/- 4.020   \n",
       "12  13_cora_nell_finances      24.690 +/- 44.101   \n",
       "13  14_cora_nell_finances      34.299 +/- 21.049   \n",
       "14  15_cora_nell_finances        5.654 +/- 0.345   \n",
       "15        19_uwcse_yago2s    442.504 +/- 137.633   \n",
       "16        20_uwcse_yago2s    597.456 +/- 865.445   \n",
       "17        21_uwcse_yago2s     306.082 +/- 19.056   \n",
       "18         22_cora_yago2s     522.616 +/- 18.853   \n",
       "19         23_cora_yago2s    557.806 +/- 998.891   \n",
       "20         24_cora_yago2s  2743.800 +/- 7125.877   \n",
       "21         26_cora_yago2s     301.112 +/- 89.472   \n",
       "22         27_cora_yago2s    390.398 +/- 159.102   \n",
       "23         28_cora_yago2s    462.784 +/- 102.954   \n",
       "24         29_cora_yago2s     180.790 +/- 42.783   \n",
       "25         30_cora_yago2s     279.866 +/- 17.369   \n",
       "\n",
       "   Transfer Learning with Revision Theory Learning from scratch  \n",
       "0                         1.396 +/- 0.158       1.325 +/- 0.263  \n",
       "1                         2.260 +/- 2.641       1.748 +/- 0.692  \n",
       "2                         1.401 +/- 0.209       1.409 +/- 0.342  \n",
       "3                         1.355 +/- 0.180       1.361 +/- 0.173  \n",
       "4                         2.415 +/- 2.102       4.005 +/- 6.966  \n",
       "5                         1.498 +/- 0.173       1.299 +/- 0.216  \n",
       "6                         1.374 +/- 0.159       1.567 +/- 0.673  \n",
       "7                         1.516 +/- 0.687       1.501 +/- 0.437  \n",
       "8                         1.374 +/- 0.184       1.409 +/- 0.184  \n",
       "9                         1.356 +/- 0.078       1.741 +/- 1.031  \n",
       "10                        1.484 +/- 0.249       1.527 +/- 0.493  \n",
       "11                        1.475 +/- 0.330       1.369 +/- 0.065  \n",
       "12                        1.293 +/- 0.037       1.335 +/- 0.119  \n",
       "13                        1.846 +/- 0.487       2.188 +/- 2.081  \n",
       "14                        1.377 +/- 0.133       1.417 +/- 0.200  \n",
       "15                       72.298 +/- 2.879     84.273 +/- 30.197  \n",
       "16                       65.808 +/- 3.214      66.467 +/- 0.419  \n",
       "17                      83.241 +/- 26.197     79.216 +/- 30.878  \n",
       "18                       68.840 +/- 3.364     90.589 +/- 28.027  \n",
       "19                      71.914 +/- 32.304     72.038 +/- 23.449  \n",
       "20                      87.577 +/- 16.878     84.432 +/- 28.324  \n",
       "21                       85.888 +/- 2.752     68.913 +/- 26.497  \n",
       "22                      74.885 +/- 24.440      70.107 +/- 1.217  \n",
       "23                      72.001 +/- 28.021     83.683 +/- 27.054  \n",
       "24                      67.769 +/- 26.545     76.825 +/- 28.664  \n",
       "25                      69.835 +/- 27.271      68.793 +/- 8.971  "
      ]
     },
     "metadata": {},
     "output_type": "display_data"
    }
   ],
   "source": [
    "experiments = [\n",
    "            {'id': '1', 'source': 'imdb', 'target': 'nell_finances', 'predicate': 'workedunder', 'to_predicate': 'companyalsoknownas'},\n",
    "            {'id': '2', 'source': 'imdb', 'target': 'nell_finances', 'predicate': 'workedunder', 'to_predicate': 'bankboughtbank'},\n",
    "            {'id': '3', 'source': 'imdb', 'target': 'nell_finances', 'predicate': 'workedunder', 'to_predicate': 'acquired'},\n",
    "            {'id': '4', 'source': 'uwcse', 'target': 'nell_finances', 'predicate': 'advisedby', 'to_predicate': 'companyalsoknownas'},\n",
    "            {'id': '5', 'source': 'uwcse', 'target': 'nell_finances', 'predicate': 'advisedby', 'to_predicate': 'bankboughtbank'},\n",
    "            {'id': '6', 'source': 'uwcse', 'target': 'nell_finances', 'predicate': 'advisedby', 'to_predicate': 'acquired'},\n",
    "            {'id': '7', 'source': 'cora', 'target': 'nell_finances', 'predicate': 'samevenue', 'to_predicate': 'companyalsoknownas'},\n",
    "            {'id': '8', 'source': 'cora', 'target': 'nell_finances', 'predicate': 'samevenue', 'to_predicate': 'bankboughtbank'},\n",
    "            {'id': '9', 'source': 'cora', 'target': 'nell_finances', 'predicate': 'samevenue', 'to_predicate': 'acquired'},\n",
    "            {'id': '10', 'source': 'cora', 'target': 'nell_finances', 'predicate': 'sameauthor', 'to_predicate': 'companyalsoknownas'},\n",
    "            {'id': '11', 'source': 'cora', 'target': 'nell_finances', 'predicate': 'sameauthor', 'to_predicate': 'bankboughtbank'},\n",
    "            {'id': '12', 'source': 'cora', 'target': 'nell_finances', 'predicate': 'sameauthor', 'to_predicate': 'acquired'},\n",
    "            {'id': '13', 'source': 'cora', 'target': 'nell_finances', 'predicate': 'samebib', 'to_predicate': 'companyalsoknownas'},\n",
    "            {'id': '14', 'source': 'cora', 'target': 'nell_finances', 'predicate': 'samebib', 'to_predicate': 'bankboughtbank'},\n",
    "            {'id': '15', 'source': 'cora', 'target': 'nell_finances', 'predicate': 'samebib', 'to_predicate': 'acquired'},\n",
    "            {'id': '19', 'source': 'uwcse', 'target': 'yago2s', 'predicate': 'advisedby', 'to_predicate': 'ismarriedto'},\n",
    "            {'id': '20', 'source': 'uwcse', 'target': 'yago2s', 'predicate': 'advisedby', 'to_predicate': 'hasacademicadvisor'},\n",
    "            {'id': '21', 'source': 'uwcse', 'target': 'yago2s', 'predicate': 'advisedby', 'to_predicate': 'haschild'},\n",
    "            {'id': '22', 'source': 'cora', 'target': 'yago2s', 'predicate': 'samevenue', 'to_predicate': 'ismarriedto'},\n",
    "            {'id': '23', 'source': 'cora', 'target': 'yago2s', 'predicate': 'samevenue', 'to_predicate': 'hasacademicadvisor'},\n",
    "            {'id': '24', 'source': 'cora', 'target': 'yago2s', 'predicate': 'samevenue', 'to_predicate': 'haschild'},\n",
    "            #{'id': '25', 'source': 'cora', 'target': 'yago2s', 'predicate': 'sameauthor', 'to_predicate': 'ismarriedto'},\n",
    "            {'id': '26', 'source': 'cora', 'target': 'yago2s', 'predicate': 'sameauthor', 'to_predicate': 'hasacademicadvisor'},\n",
    "            {'id': '27', 'source': 'cora', 'target': 'yago2s', 'predicate': 'sameauthor', 'to_predicate': 'haschild'},\n",
    "            {'id': '28', 'source': 'cora', 'target': 'yago2s', 'predicate': 'samebib', 'to_predicate': 'ismarriedto'},\n",
    "            {'id': '29', 'source': 'cora', 'target': 'yago2s', 'predicate': 'samebib', 'to_predicate': 'hasacademicadvisor'},\n",
    "            {'id': '30', 'source': 'cora', 'target': 'yago2s', 'predicate': 'samebib', 'to_predicate': 'haschild'},\n",
    "            #{'id': '31', 'source': 'webkb', 'target': 'yeast', 'predicate': 'pageclass', 'to_predicate': 'proteinclass'},\n",
    "            #{'id': '32', 'source': 'yeast', 'target': 'webkb', 'predicate': 'proteinclass', 'to_predicate': 'pageclass'},\n",
    "            ]\n",
    "\n",
    "for metric in ['AUC ROC', 'AUC PR', 'CLL', 'Recall', 'F1', 'Precision', 'Learning and Revision time', 'Inference time']:\n",
    "    display(Markdown('# Results for ' + metric))\n",
    "    table = []\n",
    "    for j in range(len(experiments)):\n",
    "        dataset = experiments[j]['id'] + '_' + experiments[j]['source'] + '_' + experiments[j]['target']\n",
    "        if dataset in data['results']: \n",
    "            #for metric in ['AUC ROC', 'AUC PR']:\n",
    "                #display(Markdown('## ' + metric))\n",
    "            if metric == 'Precision':\n",
    "                scratch = np.array([item['scratch']['Precision'][0] for sublist in data['results'][str(dataset)] for item in sublist])\n",
    "                parameter = np.array([item['transfer']['Parameter Learning results']['Precision'][0] for sublist in data['results'][str(dataset)] for item in sublist])\n",
    "                transfer = np.array([item['transfer']['Precision'][0] for sublist in data['results'][str(dataset)] for item in sublist])\n",
    "            elif metric == 'Learning and Revision time':\n",
    "                scratch = np.array([item['scratch']['Learning time'] for sublist in data['results'][str(dataset)] for item in sublist])\n",
    "                parameter = np.array([item['transfer']['Parameter Learning results']['Learning time'] for sublist in data['results'][str(dataset)] for item in sublist])\n",
    "                transfer = np.array([item['transfer']['Learning time'] for sublist in data['results'][str(dataset)] for item in sublist])\n",
    "            elif metric == 'Inference time':\n",
    "                scratch = np.array([item['scratch']['Inference time'] for sublist in data['results'][str(dataset)] for item in sublist])\n",
    "                parameter = np.array([item['transfer']['Parameter Learning results']['Learning time'] for sublist in data['results'][str(dataset)] for item in sublist])\n",
    "                transfer = np.array([item['transfer']['Inference time'] for sublist in data['results'][str(dataset)] for item in sublist])\n",
    "            else:\n",
    "                scratch = np.array([item['scratch'][metric] for sublist in data['results'][str(dataset)] for item in sublist])\n",
    "                parameter = np.array([item['transfer']['Parameter Learning results'][metric] for sublist in data['results'][str(dataset)] for item in sublist])\n",
    "                transfer = np.array([item['transfer'][metric] for sublist in data['results'][str(dataset)] for item in sublist])\n",
    "            table.append([dataset, '%.3f +/- %.3f' % (parameter.mean(), 2 * parameter.std()),\n",
    "            '%.3f +/- %.3f' % (transfer.mean(), 2 * transfer.std()),\n",
    "            '%.3f +/- %.3f' % (scratch.mean(), 2 * scratch.std())])\n",
    "    display(pd.DataFrame(table, columns=['Experiment', 'Transfer Learning', 'Transfer Learning with Revision Theory', 'Learning from scratch']))"
   ]
  },
  {
   "cell_type": "code",
   "execution_count": 7,
   "metadata": {
    "collapsed": false
   },
   "outputs": [
    {
     "data": {
      "text/markdown": [
       "# Results for 1_imdb_nell_finances"
      ],
      "text/plain": [
       "<IPython.core.display.Markdown object>"
      ]
     },
     "metadata": {},
     "output_type": "display_data"
    },
    {
     "data": {
      "text/markdown": [
       "## AUC ROC"
      ],
      "text/plain": [
       "<IPython.core.display.Markdown object>"
      ]
     },
     "metadata": {},
     "output_type": "display_data"
    },
    {
     "name": "stdout",
     "output_type": "stream",
     "text": [
      "Scratch: [0.574304 0.607786 0.593406 0.580783 0.58564  0.588832]\n",
      "Transfer: [0.53003  0.5      0.534431 0.506757 0.525526 0.532186]\n",
      "Transfer & Revision: [0.597165 0.599575 0.60099  0.594568 0.595149 0.580052]\n"
     ]
    },
    {
     "data": {
      "text/markdown": [
       "## AUC PR"
      ],
      "text/plain": [
       "<IPython.core.display.Markdown object>"
      ]
     },
     "metadata": {},
     "output_type": "display_data"
    },
    {
     "name": "stdout",
     "output_type": "stream",
     "text": [
      "Scratch: [0.454152 0.477867 0.506695 0.489529 0.482795 0.496834]\n",
      "Transfer: [0.406521 0.333333 0.415812 0.35324  0.392782 0.405068]\n",
      "Transfer & Revision: [0.480792 0.479758 0.50611  0.48202  0.498476 0.489557]\n"
     ]
    },
    {
     "data": {
      "text/markdown": [
       "## CLL"
      ],
      "text/plain": [
       "<IPython.core.display.Markdown object>"
      ]
     },
     "metadata": {},
     "output_type": "display_data"
    },
    {
     "name": "stdout",
     "output_type": "stream",
     "text": [
      "Scratch: [-0.61871  -0.612458 -0.59822  -0.613418 -0.611513 -0.602156]\n",
      "Transfer: [-0.621931 -0.638048 -0.619534 -0.635757 -0.62667  -0.622532]\n",
      "Transfer & Revision: [-0.612194 -0.609827 -0.596145 -0.611975 -0.603089 -0.601484]\n"
     ]
    },
    {
     "data": {
      "text/markdown": [
       "## Recall"
      ],
      "text/plain": [
       "<IPython.core.display.Markdown object>"
      ]
     },
     "metadata": {},
     "output_type": "display_data"
    },
    {
     "name": "stdout",
     "output_type": "stream",
     "text": [
      "Scratch: [0.177177 0.177177 0.188623 0.225225 0.198198 0.188623]\n",
      "Transfer: [0.063063 0.       0.071856 0.015015 0.057057 0.071856]\n",
      "Transfer & Revision: [0.18018  0.201201 0.206587 0.24024  0.18018  0.197605]\n"
     ]
    },
    {
     "data": {
      "text/markdown": [
       "## F1"
      ],
      "text/plain": [
       "<IPython.core.display.Markdown object>"
      ]
     },
     "metadata": {},
     "output_type": "display_data"
    },
    {
     "name": "stdout",
     "output_type": "stream",
     "text": [
      "Scratch: [0.283654 0.281623 0.304348 0.33557  0.309133 0.302158]\n",
      "Transfer: [0.117978      nan 0.133333 0.029499 0.106742 0.132231]\n",
      "Transfer & Revision: [0.28777  0.309469 0.330935 0.347826 0.297767 0.309859]\n"
     ]
    },
    {
     "data": {
      "text/markdown": [
       "## Precision"
      ],
      "text/plain": [
       "<IPython.core.display.Markdown object>"
      ]
     },
     "metadata": {},
     "output_type": "display_data"
    },
    {
     "name": "stdout",
     "output_type": "stream",
     "text": [
      "Scratch: [0.710843 0.686047 0.7875   0.657895 0.702128 0.759036]\n",
      "Transfer: [0.913043      nan 0.923077 0.833333 0.826087 0.827586]\n",
      "Transfer & Revision: [0.714286 0.67     0.831325 0.629921 0.857143 0.717391]\n"
     ]
    },
    {
     "data": {
      "text/markdown": [
       "## Learning and Revision time"
      ],
      "text/plain": [
       "<IPython.core.display.Markdown object>"
      ]
     },
     "metadata": {},
     "output_type": "display_data"
    },
    {
     "name": "stdout",
     "output_type": "stream",
     "text": [
      "Scratch: [10.1   10.942 10.812 11.803 13.393 11.232]\n",
      "Transfer: [5.142 5.226 5.219 4.806 5.427 5.687]\n",
      "Transfer & Revision: [16.109 15.115 17.06  16.313 16.848 16.669]\n"
     ]
    },
    {
     "data": {
      "text/markdown": [
       "## Inference time"
      ],
      "text/plain": [
       "<IPython.core.display.Markdown object>"
      ]
     },
     "metadata": {},
     "output_type": "display_data"
    },
    {
     "name": "stdout",
     "output_type": "stream",
     "text": [
      "Scratch: [1.493 1.344 1.46  1.252 1.098 1.305]\n",
      "Transfer: [5.142 5.226 5.219 4.806 5.427 5.687]\n",
      "Transfer & Revision: [1.375 1.316 1.41  1.527 1.454 1.296]\n"
     ]
    },
    {
     "data": {
      "text/markdown": [
       "# Results for 2_imdb_nell_finances"
      ],
      "text/plain": [
       "<IPython.core.display.Markdown object>"
      ]
     },
     "metadata": {},
     "output_type": "display_data"
    },
    {
     "data": {
      "text/markdown": [
       "## AUC ROC"
      ],
      "text/plain": [
       "<IPython.core.display.Markdown object>"
      ]
     },
     "metadata": {},
     "output_type": "display_data"
    },
    {
     "name": "stdout",
     "output_type": "stream",
     "text": [
      "Scratch: [0.868122 0.848451 0.93245  0.821439 0.841439 0.910667]\n",
      "Transfer: [0.5      0.543286 0.5      0.528585 0.549113 0.574436]\n",
      "Transfer & Revision: [0.834601 0.862958 0.920867 0.798321 0.857074 0.880874]\n"
     ]
    },
    {
     "data": {
      "text/markdown": [
       "## AUC PR"
      ],
      "text/plain": [
       "<IPython.core.display.Markdown object>"
      ]
     },
     "metadata": {},
     "output_type": "display_data"
    },
    {
     "name": "stdout",
     "output_type": "stream",
     "text": [
      "Scratch: [0.767057 0.758329 0.830753 0.680121 0.762255 0.829018]\n",
      "Transfer: [0.345622 0.394176 0.348624 0.382086 0.407916 0.440007]\n",
      "Transfer & Revision: [0.700365 0.768102 0.785856 0.66586  0.760681 0.800485]\n"
     ]
    },
    {
     "data": {
      "text/markdown": [
       "## CLL"
      ],
      "text/plain": [
       "<IPython.core.display.Markdown object>"
      ]
     },
     "metadata": {},
     "output_type": "display_data"
    },
    {
     "name": "stdout",
     "output_type": "stream",
     "text": [
      "Scratch: [-0.425228 -0.45799  -0.358238 -0.474108 -0.443663 -0.35629 ]\n",
      "Transfer: [-0.645932 -0.643605 -0.651056 -0.657771 -0.641183 -0.649108]\n",
      "Transfer & Revision: [-0.454615 -0.434942 -0.3923   -0.49226  -0.448635 -0.412057]\n"
     ]
    },
    {
     "data": {
      "text/markdown": [
       "## Recall"
      ],
      "text/plain": [
       "<IPython.core.display.Markdown object>"
      ]
     },
     "metadata": {},
     "output_type": "display_data"
    },
    {
     "name": "stdout",
     "output_type": "stream",
     "text": [
      "Scratch: [0.853333 0.706667 0.921053 0.76     0.76     0.855263]\n",
      "Transfer: [0.       0.       0.       0.186667 0.       0.      ]\n",
      "Transfer & Revision: [0.773333 0.72     0.881579 0.826667 0.773333 0.802632]\n"
     ]
    },
    {
     "data": {
      "text/markdown": [
       "## F1"
      ],
      "text/plain": [
       "<IPython.core.display.Markdown object>"
      ]
     },
     "metadata": {},
     "output_type": "display_data"
    },
    {
     "name": "stdout",
     "output_type": "stream",
     "text": [
      "Scratch: [0.735632 0.69281  0.818713 0.703704 0.708075 0.783133]\n",
      "Transfer: [     nan      nan      nan 0.261682      nan      nan]\n",
      "Transfer & Revision: [0.686391 0.705882 0.817073 0.708571 0.72956  0.757764]\n"
     ]
    },
    {
     "data": {
      "text/markdown": [
       "## Precision"
      ],
      "text/plain": [
       "<IPython.core.display.Markdown object>"
      ]
     },
     "metadata": {},
     "output_type": "display_data"
    },
    {
     "name": "stdout",
     "output_type": "stream",
     "text": [
      "Scratch: [0.646465 0.679487 0.736842 0.655172 0.662791 0.722222]\n",
      "Transfer: [   nan    nan    nan 0.4375    nan    nan]\n",
      "Transfer & Revision: [0.617021 0.692308 0.761364 0.62     0.690476 0.717647]\n"
     ]
    },
    {
     "data": {
      "text/markdown": [
       "## Learning and Revision time"
      ],
      "text/plain": [
       "<IPython.core.display.Markdown object>"
      ]
     },
     "metadata": {},
     "output_type": "display_data"
    },
    {
     "name": "stdout",
     "output_type": "stream",
     "text": [
      "Scratch: [ 86.993 183.479  77.047  96.949 172.021 165.265]\n",
      "Transfer: [36.397 44.721 12.894 28.531 45.573 36.646]\n",
      "Transfer & Revision: [ 85.935 137.311  89.163  74.754 133.068 197.52 ]\n"
     ]
    },
    {
     "data": {
      "text/markdown": [
       "## Inference time"
      ],
      "text/plain": [
       "<IPython.core.display.Markdown object>"
      ]
     },
     "metadata": {},
     "output_type": "display_data"
    },
    {
     "name": "stdout",
     "output_type": "stream",
     "text": [
      "Scratch: [1.199 1.748 1.86  1.418 2.102 2.161]\n",
      "Transfer: [36.397 44.721 12.894 28.531 45.573 36.646]\n",
      "Transfer & Revision: [1.127 1.808 1.759 1.48  2.279 5.108]\n"
     ]
    },
    {
     "data": {
      "text/markdown": [
       "# Results for 3_imdb_nell_finances"
      ],
      "text/plain": [
       "<IPython.core.display.Markdown object>"
      ]
     },
     "metadata": {},
     "output_type": "display_data"
    },
    {
     "data": {
      "text/markdown": [
       "## AUC ROC"
      ],
      "text/plain": [
       "<IPython.core.display.Markdown object>"
      ]
     },
     "metadata": {},
     "output_type": "display_data"
    },
    {
     "name": "stdout",
     "output_type": "stream",
     "text": [
      "Scratch: [0.551605 0.565687 0.563175 0.573376 0.558656 0.590482]\n",
      "Transfer: [0.536474 0.531155 0.529545 0.532675 0.506079 0.510606]\n",
      "Transfer & Revision: [0.568036 0.57642  0.563634 0.600807 0.553723 0.578136]\n"
     ]
    },
    {
     "data": {
      "text/markdown": [
       "## AUC PR"
      ],
      "text/plain": [
       "<IPython.core.display.Markdown object>"
      ]
     },
     "metadata": {},
     "output_type": "display_data"
    },
    {
     "name": "stdout",
     "output_type": "stream",
     "text": [
      "Scratch: [0.410323 0.420919 0.421275 0.43299  0.423782 0.431805]\n",
      "Transfer: [0.408672 0.394484 0.393716 0.395239 0.345942 0.35561 ]\n",
      "Transfer & Revision: [0.425269 0.422378 0.41198  0.455128 0.413737 0.425474]\n"
     ]
    },
    {
     "data": {
      "text/markdown": [
       "## CLL"
      ],
      "text/plain": [
       "<IPython.core.display.Markdown object>"
      ]
     },
     "metadata": {},
     "output_type": "display_data"
    },
    {
     "name": "stdout",
     "output_type": "stream",
     "text": [
      "Scratch: [-0.634369 -0.632088 -0.629582 -0.621979 -0.627381 -0.629078]\n",
      "Transfer: [-0.623996 -0.62727  -0.627308 -0.626902 -0.637542 -0.636278]\n",
      "Transfer & Revision: [-0.621306 -0.620498 -0.627124 -0.613782 -0.627546 -0.627498]\n"
     ]
    },
    {
     "data": {
      "text/markdown": [
       "## Recall"
      ],
      "text/plain": [
       "<IPython.core.display.Markdown object>"
      ]
     },
     "metadata": {},
     "output_type": "display_data"
    },
    {
     "name": "stdout",
     "output_type": "stream",
     "text": [
      "Scratch: [0.079027 0.103343 0.087879 0.097264 0.072948 0.066667]\n",
      "Transfer: [0.085106 0.079027 0.072727 0.085106 0.024316 0.      ]\n",
      "Transfer & Revision: [0.072948 0.103343 0.081818 0.103343 0.057751 0.081818]\n"
     ]
    },
    {
     "data": {
      "text/markdown": [
       "## F1"
      ],
      "text/plain": [
       "<IPython.core.display.Markdown object>"
      ]
     },
     "metadata": {},
     "output_type": "display_data"
    },
    {
     "name": "stdout",
     "output_type": "stream",
     "text": [
      "Scratch: [0.13941  0.176623 0.153034 0.172973 0.132231 0.120548]\n",
      "Transfer: [0.153425 0.142077 0.132231 0.151351 0.046377      nan]\n",
      "Transfer & Revision: [0.133705 0.178478 0.145161 0.184282 0.107955 0.144385]\n"
     ]
    },
    {
     "data": {
      "text/markdown": [
       "## Precision"
      ],
      "text/plain": [
       "<IPython.core.display.Markdown object>"
      ]
     },
     "metadata": {},
     "output_type": "display_data"
    },
    {
     "name": "stdout",
     "output_type": "stream",
     "text": [
      "Scratch: [0.590909 0.607143 0.591837 0.780488 0.705882 0.628571]\n",
      "Transfer: [0.777778 0.702703 0.727273 0.682927 0.5           nan]\n",
      "Transfer & Revision: [0.8      0.653846 0.642857 0.85     0.826087 0.613636]\n"
     ]
    },
    {
     "data": {
      "text/markdown": [
       "## Learning and Revision time"
      ],
      "text/plain": [
       "<IPython.core.display.Markdown object>"
      ]
     },
     "metadata": {},
     "output_type": "display_data"
    },
    {
     "name": "stdout",
     "output_type": "stream",
     "text": [
      "Scratch: [13.846 21.624 13.48  12.264 11.64  15.781]\n",
      "Transfer: [6.663 5.402 6.454 5.278 6.905 6.33 ]\n",
      "Transfer & Revision: [19.749 16.034 18.241 16.766 17.164 18.193]\n"
     ]
    },
    {
     "data": {
      "text/markdown": [
       "## Inference time"
      ],
      "text/plain": [
       "<IPython.core.display.Markdown object>"
      ]
     },
     "metadata": {},
     "output_type": "display_data"
    },
    {
     "name": "stdout",
     "output_type": "stream",
     "text": [
      "Scratch: [1.312 1.781 1.274 1.341 1.4   1.343]\n",
      "Transfer: [6.663 5.402 6.454 5.278 6.905 6.33 ]\n",
      "Transfer & Revision: [1.419 1.329 1.619 1.305 1.391 1.346]\n"
     ]
    },
    {
     "data": {
      "text/markdown": [
       "# Results for 4_uwcse_nell_finances"
      ],
      "text/plain": [
       "<IPython.core.display.Markdown object>"
      ]
     },
     "metadata": {},
     "output_type": "display_data"
    },
    {
     "data": {
      "text/markdown": [
       "## AUC ROC"
      ],
      "text/plain": [
       "<IPython.core.display.Markdown object>"
      ]
     },
     "metadata": {},
     "output_type": "display_data"
    },
    {
     "name": "stdout",
     "output_type": "stream",
     "text": [
      "Scratch: [0.576475 0.597068 0.597973]\n",
      "Transfer: [0.504505 0.505262 0.490269]\n",
      "Transfer & Revision: [0.567056 0.608624 0.606054]\n"
     ]
    },
    {
     "data": {
      "text/markdown": [
       "## AUC PR"
      ],
      "text/plain": [
       "<IPython.core.display.Markdown object>"
      ]
     },
     "metadata": {},
     "output_type": "display_data"
    },
    {
     "name": "stdout",
     "output_type": "stream",
     "text": [
      "Scratch: [0.452173 0.469398 0.506989]\n",
      "Transfer: [0.352817 0.351138 0.32902 ]\n",
      "Transfer & Revision: [0.454683 0.499441 0.517406]\n"
     ]
    },
    {
     "data": {
      "text/markdown": [
       "## CLL"
      ],
      "text/plain": [
       "<IPython.core.display.Markdown object>"
      ]
     },
     "metadata": {},
     "output_type": "display_data"
    },
    {
     "name": "stdout",
     "output_type": "stream",
     "text": [
      "Scratch: [-0.620945 -0.614517 -0.603923]\n",
      "Transfer: [-0.635194 -0.635994 -0.643372]\n",
      "Transfer & Revision: [-0.62338  -0.602301 -0.597767]\n"
     ]
    },
    {
     "data": {
      "text/markdown": [
       "## Recall"
      ],
      "text/plain": [
       "<IPython.core.display.Markdown object>"
      ]
     },
     "metadata": {},
     "output_type": "display_data"
    },
    {
     "name": "stdout",
     "output_type": "stream",
     "text": [
      "Scratch: [0.183183 0.21021  0.197605]\n",
      "Transfer: [0.012012 0.012012 0.      ]\n",
      "Transfer & Revision: [0.195195 0.21021  0.203593]\n"
     ]
    },
    {
     "data": {
      "text/markdown": [
       "## F1"
      ],
      "text/plain": [
       "<IPython.core.display.Markdown object>"
      ]
     },
     "metadata": {},
     "output_type": "display_data"
    },
    {
     "name": "stdout",
     "output_type": "stream",
     "text": [
      "Scratch: [0.291169 0.320366 0.310588]\n",
      "Transfer: [0.023739 0.023669      nan]\n",
      "Transfer & Revision: [0.297483 0.323326 0.326923]\n"
     ]
    },
    {
     "data": {
      "text/markdown": [
       "## Precision"
      ],
      "text/plain": [
       "<IPython.core.display.Markdown object>"
      ]
     },
     "metadata": {},
     "output_type": "display_data"
    },
    {
     "name": "stdout",
     "output_type": "stream",
     "text": [
      "Scratch: [0.709302 0.673077 0.725275]\n",
      "Transfer: [1.  0.8 nan]\n",
      "Transfer & Revision: [0.625    0.7      0.829268]\n"
     ]
    },
    {
     "data": {
      "text/markdown": [
       "## Learning and Revision time"
      ],
      "text/plain": [
       "<IPython.core.display.Markdown object>"
      ]
     },
     "metadata": {},
     "output_type": "display_data"
    },
    {
     "name": "stdout",
     "output_type": "stream",
     "text": [
      "Scratch: [ 9.047 10.275 12.06 ]\n",
      "Transfer: [5.51  5.469 1.812]\n",
      "Transfer & Revision: [15.497 15.358 17.348]\n"
     ]
    },
    {
     "data": {
      "text/markdown": [
       "## Inference time"
      ],
      "text/plain": [
       "<IPython.core.display.Markdown object>"
      ]
     },
     "metadata": {},
     "output_type": "display_data"
    },
    {
     "name": "stdout",
     "output_type": "stream",
     "text": [
      "Scratch: [1.288 1.312 1.482]\n",
      "Transfer: [5.51  5.469 1.812]\n",
      "Transfer & Revision: [1.238 1.371 1.457]\n"
     ]
    },
    {
     "data": {
      "text/markdown": [
       "# Results for 5_uwcse_nell_finances"
      ],
      "text/plain": [
       "<IPython.core.display.Markdown object>"
      ]
     },
     "metadata": {},
     "output_type": "display_data"
    },
    {
     "data": {
      "text/markdown": [
       "## AUC ROC"
      ],
      "text/plain": [
       "<IPython.core.display.Markdown object>"
      ]
     },
     "metadata": {},
     "output_type": "display_data"
    },
    {
     "name": "stdout",
     "output_type": "stream",
     "text": [
      "Scratch: [0.857934 0.86446  0.923415]\n",
      "Transfer: [0.525822 0.578967 0.634822]\n",
      "Transfer & Revision: [0.809108 0.820188 0.92879 ]\n"
     ]
    },
    {
     "data": {
      "text/markdown": [
       "## AUC PR"
      ],
      "text/plain": [
       "<IPython.core.display.Markdown object>"
      ]
     },
     "metadata": {},
     "output_type": "display_data"
    },
    {
     "name": "stdout",
     "output_type": "stream",
     "text": [
      "Scratch: [0.744844 0.74303  0.812788]\n",
      "Transfer: [0.357075 0.399125 0.578516]\n",
      "Transfer & Revision: [0.608245 0.630127 0.8615  ]\n"
     ]
    },
    {
     "data": {
      "text/markdown": [
       "## CLL"
      ],
      "text/plain": [
       "<IPython.core.display.Markdown object>"
      ]
     },
     "metadata": {},
     "output_type": "display_data"
    },
    {
     "name": "stdout",
     "output_type": "stream",
     "text": [
      "Scratch: [-0.415649 -0.420744 -0.360777]\n",
      "Transfer: [-0.657248 -0.65001  -0.54875 ]\n",
      "Transfer & Revision: [-0.47852  -0.48776  -0.362641]\n"
     ]
    },
    {
     "data": {
      "text/markdown": [
       "## Recall"
      ],
      "text/plain": [
       "<IPython.core.display.Markdown object>"
      ]
     },
     "metadata": {},
     "output_type": "display_data"
    },
    {
     "name": "stdout",
     "output_type": "stream",
     "text": [
      "Scratch: [0.866667 0.706667 0.868421]\n",
      "Transfer: [0.       0.       0.263158]\n",
      "Transfer & Revision: [0.826667 0.52     0.868421]\n"
     ]
    },
    {
     "data": {
      "text/markdown": [
       "## F1"
      ],
      "text/plain": [
       "<IPython.core.display.Markdown object>"
      ]
     },
     "metadata": {},
     "output_type": "display_data"
    },
    {
     "name": "stdout",
     "output_type": "stream",
     "text": [
      "Scratch: [0.738636 0.697368 0.809816]\n",
      "Transfer: [    nan     nan 0.40404]\n",
      "Transfer & Revision: [0.725146 0.565217 0.819876]\n"
     ]
    },
    {
     "data": {
      "text/markdown": [
       "## Precision"
      ],
      "text/plain": [
       "<IPython.core.display.Markdown object>"
      ]
     },
     "metadata": {},
     "output_type": "display_data"
    },
    {
     "name": "stdout",
     "output_type": "stream",
     "text": [
      "Scratch: [0.643564 0.688312 0.758621]\n",
      "Transfer: [     nan      nan 0.869565]\n",
      "Transfer & Revision: [0.645833 0.619048 0.776471]\n"
     ]
    },
    {
     "data": {
      "text/markdown": [
       "## Learning and Revision time"
      ],
      "text/plain": [
       "<IPython.core.display.Markdown object>"
      ]
     },
     "metadata": {},
     "output_type": "display_data"
    },
    {
     "name": "stdout",
     "output_type": "stream",
     "text": [
      "Scratch: [ 98.127 252.415  65.113]\n",
      "Transfer: [40.224 68.963 13.645]\n",
      "Transfer & Revision: [186.209 241.114  97.569]\n"
     ]
    },
    {
     "data": {
      "text/markdown": [
       "## Inference time"
      ],
      "text/plain": [
       "<IPython.core.display.Markdown object>"
      ]
     },
     "metadata": {},
     "output_type": "display_data"
    },
    {
     "name": "stdout",
     "output_type": "stream",
     "text": [
      "Scratch: [1.186 8.912 1.916]\n",
      "Transfer: [40.224 68.963 13.645]\n",
      "Transfer & Revision: [1.523 3.89  1.831]\n"
     ]
    },
    {
     "data": {
      "text/markdown": [
       "# Results for 6_uwcse_nell_finances"
      ],
      "text/plain": [
       "<IPython.core.display.Markdown object>"
      ]
     },
     "metadata": {},
     "output_type": "display_data"
    },
    {
     "data": {
      "text/markdown": [
       "## AUC ROC"
      ],
      "text/plain": [
       "<IPython.core.display.Markdown object>"
      ]
     },
     "metadata": {},
     "output_type": "display_data"
    },
    {
     "name": "stdout",
     "output_type": "stream",
     "text": [
      "Scratch: [0.553284 0.557053 0.568524]\n",
      "Transfer: [0.521482 0.548302 0.512647]\n",
      "Transfer & Revision: [0.508564 0.531257 0.570383]\n"
     ]
    },
    {
     "data": {
      "text/markdown": [
       "## AUC PR"
      ],
      "text/plain": [
       "<IPython.core.display.Markdown object>"
      ]
     },
     "metadata": {},
     "output_type": "display_data"
    },
    {
     "name": "stdout",
     "output_type": "stream",
     "text": [
      "Scratch: [0.40947  0.420058 0.428451]\n",
      "Transfer: [0.374184 0.396454 0.357514]\n",
      "Transfer & Revision: [0.379786 0.387365 0.429732]\n"
     ]
    },
    {
     "data": {
      "text/markdown": [
       "## CLL"
      ],
      "text/plain": [
       "<IPython.core.display.Markdown object>"
      ]
     },
     "metadata": {},
     "output_type": "display_data"
    },
    {
     "name": "stdout",
     "output_type": "stream",
     "text": [
      "Scratch: [-0.63057  -0.625306 -0.62466 ]\n",
      "Transfer: [-0.636449 -0.628339 -0.635259]\n",
      "Transfer & Revision: [-0.636871 -0.631156 -0.625739]\n"
     ]
    },
    {
     "data": {
      "text/markdown": [
       "## Recall"
      ],
      "text/plain": [
       "<IPython.core.display.Markdown object>"
      ]
     },
     "metadata": {},
     "output_type": "display_data"
    },
    {
     "name": "stdout",
     "output_type": "stream",
     "text": [
      "Scratch: [0.079027 0.109422 0.087879]\n",
      "Transfer: [0.       0.072948 0.033333]\n",
      "Transfer & Revision: [0.033435 0.085106 0.10303 ]\n"
     ]
    },
    {
     "data": {
      "text/markdown": [
       "## F1"
      ],
      "text/plain": [
       "<IPython.core.display.Markdown object>"
      ]
     },
     "metadata": {},
     "output_type": "display_data"
    },
    {
     "name": "stdout",
     "output_type": "stream",
     "text": [
      "Scratch: [0.139785 0.190476 0.153439]\n",
      "Transfer: [     nan 0.131868 0.063218]\n",
      "Transfer & Revision: [0.064327 0.148936 0.17801 ]\n"
     ]
    },
    {
     "data": {
      "text/markdown": [
       "## Precision"
      ],
      "text/plain": [
       "<IPython.core.display.Markdown object>"
      ]
     },
     "metadata": {},
     "output_type": "display_data"
    },
    {
     "name": "stdout",
     "output_type": "stream",
     "text": [
      "Scratch: [0.604651 0.734694 0.604167]\n",
      "Transfer: [     nan 0.685714 0.611111]\n",
      "Transfer & Revision: [0.846154 0.595745 0.653846]\n"
     ]
    },
    {
     "data": {
      "text/markdown": [
       "## Learning and Revision time"
      ],
      "text/plain": [
       "<IPython.core.display.Markdown object>"
      ]
     },
     "metadata": {},
     "output_type": "display_data"
    },
    {
     "name": "stdout",
     "output_type": "stream",
     "text": [
      "Scratch: [13.588 13.818 11.131]\n",
      "Transfer: [5.838 6.3   3.49 ]\n",
      "Transfer & Revision: [18.209 15.707 16.13 ]\n"
     ]
    },
    {
     "data": {
      "text/markdown": [
       "## Inference time"
      ],
      "text/plain": [
       "<IPython.core.display.Markdown object>"
      ]
     },
     "metadata": {},
     "output_type": "display_data"
    },
    {
     "name": "stdout",
     "output_type": "stream",
     "text": [
      "Scratch: [1.203 1.45  1.243]\n",
      "Transfer: [5.838 6.3   3.49 ]\n",
      "Transfer & Revision: [1.522 1.382 1.59 ]\n"
     ]
    },
    {
     "data": {
      "text/markdown": [
       "# Results for 7_cora_nell_finances"
      ],
      "text/plain": [
       "<IPython.core.display.Markdown object>"
      ]
     },
     "metadata": {},
     "output_type": "display_data"
    },
    {
     "data": {
      "text/markdown": [
       "## AUC ROC"
      ],
      "text/plain": [
       "<IPython.core.display.Markdown object>"
      ]
     },
     "metadata": {},
     "output_type": "display_data"
    },
    {
     "name": "stdout",
     "output_type": "stream",
     "text": [
      "Scratch: [0.600632 0.593722 0.586268]\n",
      "Transfer: [0.564851 0.581286 0.598507]\n",
      "Transfer & Revision: [0.583038 0.617381 0.612119]\n"
     ]
    },
    {
     "data": {
      "text/markdown": [
       "## AUC PR"
      ],
      "text/plain": [
       "<IPython.core.display.Markdown object>"
      ]
     },
     "metadata": {},
     "output_type": "display_data"
    },
    {
     "name": "stdout",
     "output_type": "stream",
     "text": [
      "Scratch: [0.476148 0.477855 0.504365]\n",
      "Transfer: [0.432996 0.437659 0.464775]\n",
      "Transfer & Revision: [0.475375 0.504    0.531189]\n"
     ]
    },
    {
     "data": {
      "text/markdown": [
       "## CLL"
      ],
      "text/plain": [
       "<IPython.core.display.Markdown object>"
      ]
     },
     "metadata": {},
     "output_type": "display_data"
    },
    {
     "name": "stdout",
     "output_type": "stream",
     "text": [
      "Scratch: [-0.612507 -0.611579 -0.602214]\n",
      "Transfer: [-0.625324 -0.622297 -0.619526]\n",
      "Transfer & Revision: [-0.618328 -0.603367 -0.596821]\n"
     ]
    },
    {
     "data": {
      "text/markdown": [
       "## Recall"
      ],
      "text/plain": [
       "<IPython.core.display.Markdown object>"
      ]
     },
     "metadata": {},
     "output_type": "display_data"
    },
    {
     "name": "stdout",
     "output_type": "stream",
     "text": [
      "Scratch: [0.201201 0.213213 0.218563]\n",
      "Transfer: [0.063063 0.057057 0.065868]\n",
      "Transfer & Revision: [0.189189 0.168168 0.194611]\n"
     ]
    },
    {
     "data": {
      "text/markdown": [
       "## F1"
      ],
      "text/plain": [
       "<IPython.core.display.Markdown object>"
      ]
     },
     "metadata": {},
     "output_type": "display_data"
    },
    {
     "name": "stdout",
     "output_type": "stream",
     "text": [
      "Scratch: [0.312354 0.321267 0.339535]\n",
      "Transfer: [0.117978 0.106742 0.122905]\n",
      "Transfer & Revision: [0.291667 0.277228 0.311005]\n"
     ]
    },
    {
     "data": {
      "text/markdown": [
       "## Precision"
      ],
      "text/plain": [
       "<IPython.core.display.Markdown object>"
      ]
     },
     "metadata": {},
     "output_type": "display_data"
    },
    {
     "name": "stdout",
     "output_type": "stream",
     "text": [
      "Scratch: [0.697917 0.651376 0.760417]\n",
      "Transfer: [0.913043 0.826087 0.916667]\n",
      "Transfer & Revision: [0.636364 0.788732 0.77381 ]\n"
     ]
    },
    {
     "data": {
      "text/markdown": [
       "## Learning and Revision time"
      ],
      "text/plain": [
       "<IPython.core.display.Markdown object>"
      ]
     },
     "metadata": {},
     "output_type": "display_data"
    },
    {
     "name": "stdout",
     "output_type": "stream",
     "text": [
      "Scratch: [10.413 12.806 10.367]\n",
      "Transfer: [2.311 2.636 5.9  ]\n",
      "Transfer & Revision: [12.563 11.388 16.421]\n"
     ]
    },
    {
     "data": {
      "text/markdown": [
       "## Inference time"
      ],
      "text/plain": [
       "<IPython.core.display.Markdown object>"
      ]
     },
     "metadata": {},
     "output_type": "display_data"
    },
    {
     "name": "stdout",
     "output_type": "stream",
     "text": [
      "Scratch: [1.366 1.294 2.041]\n",
      "Transfer: [2.311 2.636 5.9  ]\n",
      "Transfer & Revision: [1.27  1.388 1.463]\n"
     ]
    },
    {
     "data": {
      "text/markdown": [
       "# Results for 8_cora_nell_finances"
      ],
      "text/plain": [
       "<IPython.core.display.Markdown object>"
      ]
     },
     "metadata": {},
     "output_type": "display_data"
    },
    {
     "data": {
      "text/markdown": [
       "## AUC ROC"
      ],
      "text/plain": [
       "<IPython.core.display.Markdown object>"
      ]
     },
     "metadata": {},
     "output_type": "display_data"
    },
    {
     "name": "stdout",
     "output_type": "stream",
     "text": [
      "Scratch: [0.855681 0.878685 0.924018]\n",
      "Transfer: [0.504272 0.572113 0.494023]\n",
      "Transfer & Revision: [0.845023 0.861174 0.923369]\n"
     ]
    },
    {
     "data": {
      "text/markdown": [
       "## AUC PR"
      ],
      "text/plain": [
       "<IPython.core.display.Markdown object>"
      ]
     },
     "metadata": {},
     "output_type": "display_data"
    },
    {
     "name": "stdout",
     "output_type": "stream",
     "text": [
      "Scratch: [0.737869 0.780216 0.806562]\n",
      "Transfer: [0.3242   0.429116 0.333391]\n",
      "Transfer & Revision: [0.71741  0.768972 0.793862]\n"
     ]
    },
    {
     "data": {
      "text/markdown": [
       "## CLL"
      ],
      "text/plain": [
       "<IPython.core.display.Markdown object>"
      ]
     },
     "metadata": {},
     "output_type": "display_data"
    },
    {
     "name": "stdout",
     "output_type": "stream",
     "text": [
      "Scratch: [-0.442796 -0.404621 -0.360551]\n",
      "Transfer: [-0.648059 -0.627858 -0.658899]\n",
      "Transfer & Revision: [-0.457215 -0.434943 -0.363034]\n"
     ]
    },
    {
     "data": {
      "text/markdown": [
       "## Recall"
      ],
      "text/plain": [
       "<IPython.core.display.Markdown object>"
      ]
     },
     "metadata": {},
     "output_type": "display_data"
    },
    {
     "name": "stdout",
     "output_type": "stream",
     "text": [
      "Scratch: [0.733333 0.706667 0.855263]\n",
      "Transfer: [0.       0.026667 0.013158]\n",
      "Transfer & Revision: [0.813333 0.733333 0.868421]\n"
     ]
    },
    {
     "data": {
      "text/markdown": [
       "## F1"
      ],
      "text/plain": [
       "<IPython.core.display.Markdown object>"
      ]
     },
     "metadata": {},
     "output_type": "display_data"
    },
    {
     "name": "stdout",
     "output_type": "stream",
     "text": [
      "Scratch: [0.714286 0.697368 0.802469]\n",
      "Transfer: [     nan 0.051948 0.025641]\n",
      "Transfer & Revision: [0.717647 0.733333 0.809816]\n"
     ]
    },
    {
     "data": {
      "text/markdown": [
       "## Precision"
      ],
      "text/plain": [
       "<IPython.core.display.Markdown object>"
      ]
     },
     "metadata": {},
     "output_type": "display_data"
    },
    {
     "name": "stdout",
     "output_type": "stream",
     "text": [
      "Scratch: [0.696203 0.688312 0.755814]\n",
      "Transfer: [nan 1.  0.5]\n",
      "Transfer & Revision: [0.642105 0.733333 0.758621]\n"
     ]
    },
    {
     "data": {
      "text/markdown": [
       "## Learning and Revision time"
      ],
      "text/plain": [
       "<IPython.core.display.Markdown object>"
      ]
     },
     "metadata": {},
     "output_type": "display_data"
    },
    {
     "name": "stdout",
     "output_type": "stream",
     "text": [
      "Scratch: [111.158 123.908 130.396]\n",
      "Transfer: [30.385 58.56  42.22 ]\n",
      "Transfer & Revision: [ 98.825 146.406 132.532]\n"
     ]
    },
    {
     "data": {
      "text/markdown": [
       "## Inference time"
      ],
      "text/plain": [
       "<IPython.core.display.Markdown object>"
      ]
     },
     "metadata": {},
     "output_type": "display_data"
    },
    {
     "name": "stdout",
     "output_type": "stream",
     "text": [
      "Scratch: [1.311 1.386 1.807]\n",
      "Transfer: [30.385 58.56  42.22 ]\n",
      "Transfer & Revision: [1.307 1.24  2.   ]\n"
     ]
    },
    {
     "data": {
      "text/markdown": [
       "# Results for 9_cora_nell_finances"
      ],
      "text/plain": [
       "<IPython.core.display.Markdown object>"
      ]
     },
     "metadata": {},
     "output_type": "display_data"
    },
    {
     "data": {
      "text/markdown": [
       "## AUC ROC"
      ],
      "text/plain": [
       "<IPython.core.display.Markdown object>"
      ]
     },
     "metadata": {},
     "output_type": "display_data"
    },
    {
     "name": "stdout",
     "output_type": "stream",
     "text": [
      "Scratch: [0.557929 0.572821 0.565723]\n",
      "Transfer: [0.573371 0.550189 0.549775]\n",
      "Transfer & Revision: [0.572597 0.551413 0.59435 ]\n"
     ]
    },
    {
     "data": {
      "text/markdown": [
       "## AUC PR"
      ],
      "text/plain": [
       "<IPython.core.display.Markdown object>"
      ]
     },
     "metadata": {},
     "output_type": "display_data"
    },
    {
     "name": "stdout",
     "output_type": "stream",
     "text": [
      "Scratch: [0.420218 0.421179 0.409351]\n",
      "Transfer: [0.43747  0.41233  0.404514]\n",
      "Transfer & Revision: [0.435352 0.404083 0.44101 ]\n"
     ]
    },
    {
     "data": {
      "text/markdown": [
       "## CLL"
      ],
      "text/plain": [
       "<IPython.core.display.Markdown object>"
      ]
     },
     "metadata": {},
     "output_type": "display_data"
    },
    {
     "name": "stdout",
     "output_type": "stream",
     "text": [
      "Scratch: [-0.627823 -0.628519 -0.628493]\n",
      "Transfer: [-0.62137  -0.624398 -0.627756]\n",
      "Transfer & Revision: [-0.619213 -0.630431 -0.620714]\n"
     ]
    },
    {
     "data": {
      "text/markdown": [
       "## Recall"
      ],
      "text/plain": [
       "<IPython.core.display.Markdown object>"
      ]
     },
     "metadata": {},
     "output_type": "display_data"
    },
    {
     "name": "stdout",
     "output_type": "stream",
     "text": [
      "Scratch: [0.075988 0.100304 0.066667]\n",
      "Transfer: [0.091185 0.085106 0.078788]\n",
      "Transfer & Revision: [0.072948 0.103343 0.084848]\n"
     ]
    },
    {
     "data": {
      "text/markdown": [
       "## F1"
      ],
      "text/plain": [
       "<IPython.core.display.Markdown object>"
      ]
     },
     "metadata": {},
     "output_type": "display_data"
    },
    {
     "name": "stdout",
     "output_type": "stream",
     "text": [
      "Scratch: [0.138504 0.170543 0.117962]\n",
      "Transfer: [0.163043 0.151762 0.141304]\n",
      "Transfer & Revision: [0.131507 0.177546 0.150943]\n"
     ]
    },
    {
     "data": {
      "text/markdown": [
       "## Precision"
      ],
      "text/plain": [
       "<IPython.core.display.Markdown object>"
      ]
     },
     "metadata": {},
     "output_type": "display_data"
    },
    {
     "name": "stdout",
     "output_type": "stream",
     "text": [
      "Scratch: [0.78125  0.568966 0.511628]\n",
      "Transfer: [0.769231 0.7      0.684211]\n",
      "Transfer & Revision: [0.666667 0.62963  0.682927]\n"
     ]
    },
    {
     "data": {
      "text/markdown": [
       "## Learning and Revision time"
      ],
      "text/plain": [
       "<IPython.core.display.Markdown object>"
      ]
     },
     "metadata": {},
     "output_type": "display_data"
    },
    {
     "name": "stdout",
     "output_type": "stream",
     "text": [
      "Scratch: [12.934 14.408 12.223]\n",
      "Transfer: [6.968 5.33  4.977]\n",
      "Transfer & Revision: [16.455 15.99  14.18 ]\n"
     ]
    },
    {
     "data": {
      "text/markdown": [
       "## Inference time"
      ],
      "text/plain": [
       "<IPython.core.display.Markdown object>"
      ]
     },
     "metadata": {},
     "output_type": "display_data"
    },
    {
     "name": "stdout",
     "output_type": "stream",
     "text": [
      "Scratch: [1.533 1.382 1.312]\n",
      "Transfer: [6.968 5.33  4.977]\n",
      "Transfer & Revision: [1.305 1.314 1.504]\n"
     ]
    },
    {
     "data": {
      "text/markdown": [
       "# Results for 10_cora_nell_finances"
      ],
      "text/plain": [
       "<IPython.core.display.Markdown object>"
      ]
     },
     "metadata": {},
     "output_type": "display_data"
    },
    {
     "data": {
      "text/markdown": [
       "## AUC ROC"
      ],
      "text/plain": [
       "<IPython.core.display.Markdown object>"
      ]
     },
     "metadata": {},
     "output_type": "display_data"
    },
    {
     "name": "stdout",
     "output_type": "stream",
     "text": [
      "Scratch: [0.575995 0.603141 0.582154]\n",
      "Transfer: [0.501502 0.501502 0.497006]\n",
      "Transfer & Revision: [0.566122 0.594912 0.573008]\n"
     ]
    },
    {
     "data": {
      "text/markdown": [
       "## AUC PR"
      ],
      "text/plain": [
       "<IPython.core.display.Markdown object>"
      ]
     },
     "metadata": {},
     "output_type": "display_data"
    },
    {
     "name": "stdout",
     "output_type": "stream",
     "text": [
      "Scratch: [0.463311 0.479773 0.49988 ]\n",
      "Transfer: [0.339631 0.339631 0.332004]\n",
      "Transfer & Revision: [0.45314  0.473569 0.488282]\n"
     ]
    },
    {
     "data": {
      "text/markdown": [
       "## CLL"
      ],
      "text/plain": [
       "<IPython.core.display.Markdown object>"
      ]
     },
     "metadata": {},
     "output_type": "display_data"
    },
    {
     "name": "stdout",
     "output_type": "stream",
     "text": [
      "Scratch: [-0.617982 -0.612391 -0.604371]\n",
      "Transfer: [-0.637149 -0.637149 -0.639593]\n",
      "Transfer & Revision: [-0.618024 -0.613933 -0.605143]\n"
     ]
    },
    {
     "data": {
      "text/markdown": [
       "## Recall"
      ],
      "text/plain": [
       "<IPython.core.display.Markdown object>"
      ]
     },
     "metadata": {},
     "output_type": "display_data"
    },
    {
     "name": "stdout",
     "output_type": "stream",
     "text": [
      "Scratch: [0.174174 0.195195 0.185629]\n",
      "Transfer: [0.003003 0.003003 0.      ]\n",
      "Transfer & Revision: [0.18018  0.195195 0.158683]\n"
     ]
    },
    {
     "data": {
      "text/markdown": [
       "## F1"
      ],
      "text/plain": [
       "<IPython.core.display.Markdown object>"
      ]
     },
     "metadata": {},
     "output_type": "display_data"
    },
    {
     "name": "stdout",
     "output_type": "stream",
     "text": [
      "Scratch: [0.27685  0.30445  0.300971]\n",
      "Transfer: [0.005988 0.005988      nan]\n",
      "Transfer & Revision: [0.285036 0.30445  0.265   ]\n"
     ]
    },
    {
     "data": {
      "text/markdown": [
       "## Precision"
      ],
      "text/plain": [
       "<IPython.core.display.Markdown object>"
      ]
     },
     "metadata": {},
     "output_type": "display_data"
    },
    {
     "name": "stdout",
     "output_type": "stream",
     "text": [
      "Scratch: [0.674419 0.691489 0.794872]\n",
      "Transfer: [ 1.  1. nan]\n",
      "Transfer & Revision: [0.681818 0.691489 0.80303 ]\n"
     ]
    },
    {
     "data": {
      "text/markdown": [
       "## Learning and Revision time"
      ],
      "text/plain": [
       "<IPython.core.display.Markdown object>"
      ]
     },
     "metadata": {},
     "output_type": "display_data"
    },
    {
     "name": "stdout",
     "output_type": "stream",
     "text": [
      "Scratch: [10.625 10.517 12.326]\n",
      "Transfer: [ 8.86  31.502  4.948]\n",
      "Transfer & Revision: [20.292 43.369 16.827]\n"
     ]
    },
    {
     "data": {
      "text/markdown": [
       "## Inference time"
      ],
      "text/plain": [
       "<IPython.core.display.Markdown object>"
      ]
     },
     "metadata": {},
     "output_type": "display_data"
    },
    {
     "name": "stdout",
     "output_type": "stream",
     "text": [
      "Scratch: [1.38  2.47  1.372]\n",
      "Transfer: [ 8.86  31.502  4.948]\n",
      "Transfer & Revision: [1.37  1.303 1.396]\n"
     ]
    },
    {
     "data": {
      "text/markdown": [
       "# Results for 11_cora_nell_finances"
      ],
      "text/plain": [
       "<IPython.core.display.Markdown object>"
      ]
     },
     "metadata": {},
     "output_type": "display_data"
    },
    {
     "data": {
      "text/markdown": [
       "## AUC ROC"
      ],
      "text/plain": [
       "<IPython.core.display.Markdown object>"
      ]
     },
     "metadata": {},
     "output_type": "display_data"
    },
    {
     "name": "stdout",
     "output_type": "stream",
     "text": [
      "Scratch: [0.859437 0.883146 0.929021]\n",
      "Transfer: [0.5 0.5 0.5]\n",
      "Transfer & Revision: [0.835587 0.862911 0.923462]\n"
     ]
    },
    {
     "data": {
      "text/markdown": [
       "## AUC PR"
      ],
      "text/plain": [
       "<IPython.core.display.Markdown object>"
      ]
     },
     "metadata": {},
     "output_type": "display_data"
    },
    {
     "name": "stdout",
     "output_type": "stream",
     "text": [
      "Scratch: [0.725266 0.780386 0.823719]\n",
      "Transfer: [0.345622 0.345622 0.348624]\n",
      "Transfer & Revision: [0.698688 0.7412   0.806298]\n"
     ]
    },
    {
     "data": {
      "text/markdown": [
       "## CLL"
      ],
      "text/plain": [
       "<IPython.core.display.Markdown object>"
      ]
     },
     "metadata": {},
     "output_type": "display_data"
    },
    {
     "name": "stdout",
     "output_type": "stream",
     "text": [
      "Scratch: [-0.43585  -0.408876 -0.350491]\n",
      "Transfer: [-0.645932 -0.645932 -0.648944]\n",
      "Transfer & Revision: [-0.456799 -0.409578 -0.394994]\n"
     ]
    },
    {
     "data": {
      "text/markdown": [
       "## Recall"
      ],
      "text/plain": [
       "<IPython.core.display.Markdown object>"
      ]
     },
     "metadata": {},
     "output_type": "display_data"
    },
    {
     "name": "stdout",
     "output_type": "stream",
     "text": [
      "Scratch: [0.853333 0.733333 0.868421]\n",
      "Transfer: [0. 0. 0.]\n",
      "Transfer & Revision: [0.826667 0.693333 0.881579]\n"
     ]
    },
    {
     "data": {
      "text/markdown": [
       "## F1"
      ],
      "text/plain": [
       "<IPython.core.display.Markdown object>"
      ]
     },
     "metadata": {},
     "output_type": "display_data"
    },
    {
     "name": "stdout",
     "output_type": "stream",
     "text": [
      "Scratch: [0.731429 0.696203 0.809816]\n",
      "Transfer: [nan nan nan]\n",
      "Transfer & Revision: [0.712644 0.688742 0.817073]\n"
     ]
    },
    {
     "data": {
      "text/markdown": [
       "## Precision"
      ],
      "text/plain": [
       "<IPython.core.display.Markdown object>"
      ]
     },
     "metadata": {},
     "output_type": "display_data"
    },
    {
     "name": "stdout",
     "output_type": "stream",
     "text": [
      "Scratch: [0.64     0.662651 0.758621]\n",
      "Transfer: [nan nan nan]\n",
      "Transfer & Revision: [0.626263 0.684211 0.761364]\n"
     ]
    },
    {
     "data": {
      "text/markdown": [
       "## Learning and Revision time"
      ],
      "text/plain": [
       "<IPython.core.display.Markdown object>"
      ]
     },
     "metadata": {},
     "output_type": "display_data"
    },
    {
     "name": "stdout",
     "output_type": "stream",
     "text": [
      "Scratch: [ 45.846 189.77   67.756]\n",
      "Transfer: [ 33.894 215.193  18.503]\n",
      "Transfer & Revision: [290.272 286.117  59.655]\n"
     ]
    },
    {
     "data": {
      "text/markdown": [
       "## Inference time"
      ],
      "text/plain": [
       "<IPython.core.display.Markdown object>"
      ]
     },
     "metadata": {},
     "output_type": "display_data"
    },
    {
     "name": "stdout",
     "output_type": "stream",
     "text": [
      "Scratch: [1.184 1.754 1.643]\n",
      "Transfer: [ 33.894 215.193  18.503]\n",
      "Transfer & Revision: [1.632 1.493 1.328]\n"
     ]
    },
    {
     "data": {
      "text/markdown": [
       "# Results for 12_cora_nell_finances"
      ],
      "text/plain": [
       "<IPython.core.display.Markdown object>"
      ]
     },
     "metadata": {},
     "output_type": "display_data"
    },
    {
     "data": {
      "text/markdown": [
       "## AUC ROC"
      ],
      "text/plain": [
       "<IPython.core.display.Markdown object>"
      ]
     },
     "metadata": {},
     "output_type": "display_data"
    },
    {
     "name": "stdout",
     "output_type": "stream",
     "text": [
      "Scratch: [0.559374 0.565472 0.581612]\n",
      "Transfer: [0.49696  0.50152  0.498485]\n",
      "Transfer & Revision: [0.565003 0.54881  0.576685]\n"
     ]
    },
    {
     "data": {
      "text/markdown": [
       "## AUC PR"
      ],
      "text/plain": [
       "<IPython.core.display.Markdown object>"
      ]
     },
     "metadata": {},
     "output_type": "display_data"
    },
    {
     "name": "stdout",
     "output_type": "stream",
     "text": [
      "Scratch: [0.415966 0.418273 0.436636]\n",
      "Transfer: [0.331982 0.339699 0.332659]\n",
      "Transfer & Revision: [0.430727 0.418653 0.428503]\n"
     ]
    },
    {
     "data": {
      "text/markdown": [
       "## CLL"
      ],
      "text/plain": [
       "<IPython.core.display.Markdown object>"
      ]
     },
     "metadata": {},
     "output_type": "display_data"
    },
    {
     "name": "stdout",
     "output_type": "stream",
     "text": [
      "Scratch: [-0.631541 -0.627849 -0.623269]\n",
      "Transfer: [-0.639966 -0.637316 -0.639334]\n",
      "Transfer & Revision: [-0.624115 -0.625437 -0.620063]\n"
     ]
    },
    {
     "data": {
      "text/markdown": [
       "## Recall"
      ],
      "text/plain": [
       "<IPython.core.display.Markdown object>"
      ]
     },
     "metadata": {},
     "output_type": "display_data"
    },
    {
     "name": "stdout",
     "output_type": "stream",
     "text": [
      "Scratch: [0.069909 0.094225 0.090909]\n",
      "Transfer: [0.      0.00304 0.     ]\n",
      "Transfer & Revision: [0.06079  0.109422 0.118182]\n"
     ]
    },
    {
     "data": {
      "text/markdown": [
       "## F1"
      ],
      "text/plain": [
       "<IPython.core.display.Markdown object>"
      ]
     },
     "metadata": {},
     "output_type": "display_data"
    },
    {
     "name": "stdout",
     "output_type": "stream",
     "text": [
      "Scratch: [0.127072 0.165775 0.159151]\n",
      "Transfer: [     nan 0.006061      nan]\n",
      "Transfer & Revision: [0.113636 0.1875   0.201031]\n"
     ]
    },
    {
     "data": {
      "text/markdown": [
       "## Precision"
      ],
      "text/plain": [
       "<IPython.core.display.Markdown object>"
      ]
     },
     "metadata": {},
     "output_type": "display_data"
    },
    {
     "name": "stdout",
     "output_type": "stream",
     "text": [
      "Scratch: [0.69697  0.688889 0.638298]\n",
      "Transfer: [nan  1. nan]\n",
      "Transfer & Revision: [0.869565 0.654545 0.672414]\n"
     ]
    },
    {
     "data": {
      "text/markdown": [
       "## Learning and Revision time"
      ],
      "text/plain": [
       "<IPython.core.display.Markdown object>"
      ]
     },
     "metadata": {},
     "output_type": "display_data"
    },
    {
     "name": "stdout",
     "output_type": "stream",
     "text": [
      "Scratch: [12.608 12.558 22.495]\n",
      "Transfer: [6.256 8.472 3.557]\n",
      "Transfer & Revision: [17.125 21.611 14.324]\n"
     ]
    },
    {
     "data": {
      "text/markdown": [
       "## Inference time"
      ],
      "text/plain": [
       "<IPython.core.display.Markdown object>"
      ]
     },
     "metadata": {},
     "output_type": "display_data"
    },
    {
     "name": "stdout",
     "output_type": "stream",
     "text": [
      "Scratch: [1.415 1.352 1.341]\n",
      "Transfer: [6.256 8.472 3.557]\n",
      "Transfer & Revision: [1.343 1.708 1.375]\n"
     ]
    },
    {
     "data": {
      "text/markdown": [
       "# Results for 13_cora_nell_finances"
      ],
      "text/plain": [
       "<IPython.core.display.Markdown object>"
      ]
     },
     "metadata": {},
     "output_type": "display_data"
    },
    {
     "data": {
      "text/markdown": [
       "## AUC ROC"
      ],
      "text/plain": [
       "<IPython.core.display.Markdown object>"
      ]
     },
     "metadata": {},
     "output_type": "display_data"
    },
    {
     "name": "stdout",
     "output_type": "stream",
     "text": [
      "Scratch: [0.576811 0.605802 0.58286 ]\n",
      "Transfer: [0.539747 0.509011 0.535166]\n",
      "Transfer & Revision: [0.588474 0.593165 0.634175]\n"
     ]
    },
    {
     "data": {
      "text/markdown": [
       "## AUC PR"
      ],
      "text/plain": [
       "<IPython.core.display.Markdown object>"
      ]
     },
     "metadata": {},
     "output_type": "display_data"
    },
    {
     "name": "stdout",
     "output_type": "stream",
     "text": [
      "Scratch: [0.454216 0.476121 0.502686]\n",
      "Transfer: [0.423186 0.357906 0.417772]\n",
      "Transfer & Revision: [0.487399 0.483051 0.527946]\n"
     ]
    },
    {
     "data": {
      "text/markdown": [
       "## CLL"
      ],
      "text/plain": [
       "<IPython.core.display.Markdown object>"
      ]
     },
     "metadata": {},
     "output_type": "display_data"
    },
    {
     "name": "stdout",
     "output_type": "stream",
     "text": [
      "Scratch: [-0.619336 -0.615007 -0.601321]\n",
      "Transfer: [-0.617796 -0.635239 -0.61928 ]\n",
      "Transfer & Revision: [-0.602094 -0.60921  -0.593607]\n"
     ]
    },
    {
     "data": {
      "text/markdown": [
       "## Recall"
      ],
      "text/plain": [
       "<IPython.core.display.Markdown object>"
      ]
     },
     "metadata": {},
     "output_type": "display_data"
    },
    {
     "name": "stdout",
     "output_type": "stream",
     "text": [
      "Scratch: [0.192192 0.192192 0.197605]\n",
      "Transfer: [0.084084 0.021021 0.080838]\n",
      "Transfer & Revision: [0.186186 0.174174 0.218563]\n"
     ]
    },
    {
     "data": {
      "text/markdown": [
       "## F1"
      ],
      "text/plain": [
       "<IPython.core.display.Markdown object>"
      ]
     },
     "metadata": {},
     "output_type": "display_data"
    },
    {
     "name": "stdout",
     "output_type": "stream",
     "text": [
      "Scratch: [0.297674 0.298368 0.313539]\n",
      "Transfer: [0.153846 0.040936 0.148352]\n",
      "Transfer & Revision: [0.303178 0.281553 0.345972]\n"
     ]
    },
    {
     "data": {
      "text/markdown": [
       "## Precision"
      ],
      "text/plain": [
       "<IPython.core.display.Markdown object>"
      ]
     },
     "metadata": {},
     "output_type": "display_data"
    },
    {
     "name": "stdout",
     "output_type": "stream",
     "text": [
      "Scratch: [0.659794 0.666667 0.758621]\n",
      "Transfer: [0.903226 0.777778 0.9     ]\n",
      "Transfer & Revision: [0.815789 0.734177 0.829545]\n"
     ]
    },
    {
     "data": {
      "text/markdown": [
       "## Learning and Revision time"
      ],
      "text/plain": [
       "<IPython.core.display.Markdown object>"
      ]
     },
     "metadata": {},
     "output_type": "display_data"
    },
    {
     "name": "stdout",
     "output_type": "stream",
     "text": [
      "Scratch: [ 9.553 11.029 10.779]\n",
      "Transfer: [13.566  5.023 55.482]\n",
      "Transfer & Revision: [21.102 19.959 65.132]\n"
     ]
    },
    {
     "data": {
      "text/markdown": [
       "## Inference time"
      ],
      "text/plain": [
       "<IPython.core.display.Markdown object>"
      ]
     },
     "metadata": {},
     "output_type": "display_data"
    },
    {
     "name": "stdout",
     "output_type": "stream",
     "text": [
      "Scratch: [1.282 1.305 1.418]\n",
      "Transfer: [13.566  5.023 55.482]\n",
      "Transfer & Revision: [1.314 1.297 1.269]\n"
     ]
    },
    {
     "data": {
      "text/markdown": [
       "# Results for 14_cora_nell_finances"
      ],
      "text/plain": [
       "<IPython.core.display.Markdown object>"
      ]
     },
     "metadata": {},
     "output_type": "display_data"
    },
    {
     "data": {
      "text/markdown": [
       "## AUC ROC"
      ],
      "text/plain": [
       "<IPython.core.display.Markdown object>"
      ]
     },
     "metadata": {},
     "output_type": "display_data"
    },
    {
     "name": "stdout",
     "output_type": "stream",
     "text": [
      "Scratch: [0.84662  0.858357 0.927817]\n",
      "Transfer: [0.571362 0.60662  0.600074]\n",
      "Transfer & Revision: [0.812535 0.8423   0.88839 ]\n"
     ]
    },
    {
     "data": {
      "text/markdown": [
       "## AUC PR"
      ],
      "text/plain": [
       "<IPython.core.display.Markdown object>"
      ]
     },
     "metadata": {},
     "output_type": "display_data"
    },
    {
     "name": "stdout",
     "output_type": "stream",
     "text": [
      "Scratch: [0.720895 0.762909 0.830047]\n",
      "Transfer: [0.402272 0.447024 0.430688]\n",
      "Transfer & Revision: [0.7079   0.721767 0.774137]\n"
     ]
    },
    {
     "data": {
      "text/markdown": [
       "## CLL"
      ],
      "text/plain": [
       "<IPython.core.display.Markdown object>"
      ]
     },
     "metadata": {},
     "output_type": "display_data"
    },
    {
     "name": "stdout",
     "output_type": "stream",
     "text": [
      "Scratch: [-0.440457 -0.455113 -0.358402]\n",
      "Transfer: [-0.624449 -0.616848 -0.613658]\n",
      "Transfer & Revision: [-0.474431 -0.447084 -0.435821]\n"
     ]
    },
    {
     "data": {
      "text/markdown": [
       "## Recall"
      ],
      "text/plain": [
       "<IPython.core.display.Markdown object>"
      ]
     },
     "metadata": {},
     "output_type": "display_data"
    },
    {
     "name": "stdout",
     "output_type": "stream",
     "text": [
      "Scratch: [0.826667 0.693333 0.855263]\n",
      "Transfer: [0.186667 0.       0.263158]\n",
      "Transfer & Revision: [0.786667 0.706667 0.302632]\n"
     ]
    },
    {
     "data": {
      "text/markdown": [
       "## F1"
      ],
      "text/plain": [
       "<IPython.core.display.Markdown object>"
      ]
     },
     "metadata": {},
     "output_type": "display_data"
    },
    {
     "name": "stdout",
     "output_type": "stream",
     "text": [
      "Scratch: [0.725146 0.688742 0.802469]\n",
      "Transfer: [0.266667      nan 0.344828]\n",
      "Transfer & Revision: [0.698225 0.697368 0.433962]\n"
     ]
    },
    {
     "data": {
      "text/markdown": [
       "## Precision"
      ],
      "text/plain": [
       "<IPython.core.display.Markdown object>"
      ]
     },
     "metadata": {},
     "output_type": "display_data"
    },
    {
     "name": "stdout",
     "output_type": "stream",
     "text": [
      "Scratch: [0.645833 0.684211 0.755814]\n",
      "Transfer: [0.466667      nan 0.5     ]\n",
      "Transfer & Revision: [0.62766  0.688312 0.766667]\n"
     ]
    },
    {
     "data": {
      "text/markdown": [
       "## Learning and Revision time"
      ],
      "text/plain": [
       "<IPython.core.display.Markdown object>"
      ]
     },
     "metadata": {},
     "output_type": "display_data"
    },
    {
     "name": "stdout",
     "output_type": "stream",
     "text": [
      "Scratch: [ 79.508 192.709 111.758]\n",
      "Transfer: [44.528 38.549 19.821]\n",
      "Transfer & Revision: [ 88.94  154.116  71.733]\n"
     ]
    },
    {
     "data": {
      "text/markdown": [
       "## Inference time"
      ],
      "text/plain": [
       "<IPython.core.display.Markdown object>"
      ]
     },
     "metadata": {},
     "output_type": "display_data"
    },
    {
     "name": "stdout",
     "output_type": "stream",
     "text": [
      "Scratch: [1.218 3.631 1.715]\n",
      "Transfer: [44.528 38.549 19.821]\n",
      "Transfer & Revision: [1.913 2.105 1.52 ]\n"
     ]
    },
    {
     "data": {
      "text/markdown": [
       "# Results for 15_cora_nell_finances"
      ],
      "text/plain": [
       "<IPython.core.display.Markdown object>"
      ]
     },
     "metadata": {},
     "output_type": "display_data"
    },
    {
     "data": {
      "text/markdown": [
       "## AUC ROC"
      ],
      "text/plain": [
       "<IPython.core.display.Markdown object>"
      ]
     },
     "metadata": {},
     "output_type": "display_data"
    },
    {
     "name": "stdout",
     "output_type": "stream",
     "text": [
      "Scratch: [0.53237  0.565527 0.573786]\n",
      "Transfer: [0.527282 0.531446 0.531219]\n",
      "Transfer & Revision: [0.560518 0.551466 0.563023]\n"
     ]
    },
    {
     "data": {
      "text/markdown": [
       "## AUC PR"
      ],
      "text/plain": [
       "<IPython.core.display.Markdown object>"
      ]
     },
     "metadata": {},
     "output_type": "display_data"
    },
    {
     "name": "stdout",
     "output_type": "stream",
     "text": [
      "Scratch: [0.394845 0.427941 0.421465]\n",
      "Transfer: [0.407383 0.395251 0.393472]\n",
      "Transfer & Revision: [0.434867 0.407961 0.409324]\n"
     ]
    },
    {
     "data": {
      "text/markdown": [
       "## CLL"
      ],
      "text/plain": [
       "<IPython.core.display.Markdown object>"
      ]
     },
     "metadata": {},
     "output_type": "display_data"
    },
    {
     "name": "stdout",
     "output_type": "stream",
     "text": [
      "Scratch: [-0.635631 -0.625198 -0.626646]\n",
      "Transfer: [-0.627916 -0.630298 -0.628668]\n",
      "Transfer & Revision: [-0.62266 -0.62889 -0.62861]\n"
     ]
    },
    {
     "data": {
      "text/markdown": [
       "## Recall"
      ],
      "text/plain": [
       "<IPython.core.display.Markdown object>"
      ]
     },
     "metadata": {},
     "output_type": "display_data"
    },
    {
     "name": "stdout",
     "output_type": "stream",
     "text": [
      "Scratch: [0.094225 0.082067 0.093939]\n",
      "Transfer: [0.085106 0.088146 0.084848]\n",
      "Transfer & Revision: [0.075988 0.112462 0.063636]\n"
     ]
    },
    {
     "data": {
      "text/markdown": [
       "## F1"
      ],
      "text/plain": [
       "<IPython.core.display.Markdown object>"
      ]
     },
     "metadata": {},
     "output_type": "display_data"
    },
    {
     "name": "stdout",
     "output_type": "stream",
     "text": [
      "Scratch: [0.160622 0.145946 0.163588]\n",
      "Transfer: [0.153425 0.154667 0.150134]\n",
      "Transfer & Revision: [0.139276 0.193211 0.113514]\n"
     ]
    },
    {
     "data": {
      "text/markdown": [
       "## Precision"
      ],
      "text/plain": [
       "<IPython.core.display.Markdown object>"
      ]
     },
     "metadata": {},
     "output_type": "display_data"
    },
    {
     "name": "stdout",
     "output_type": "stream",
     "text": [
      "Scratch: [0.54386  0.658537 0.632653]\n",
      "Transfer: [0.777778 0.630435 0.651163]\n",
      "Transfer & Revision: [0.833333 0.685185 0.525   ]\n"
     ]
    },
    {
     "data": {
      "text/markdown": [
       "## Learning and Revision time"
      ],
      "text/plain": [
       "<IPython.core.display.Markdown object>"
      ]
     },
     "metadata": {},
     "output_type": "display_data"
    },
    {
     "name": "stdout",
     "output_type": "stream",
     "text": [
      "Scratch: [12.414 13.467 16.747]\n",
      "Transfer: [5.458 5.626 5.878]\n",
      "Transfer & Revision: [13.523 18.395 17.161]\n"
     ]
    },
    {
     "data": {
      "text/markdown": [
       "## Inference time"
      ],
      "text/plain": [
       "<IPython.core.display.Markdown object>"
      ]
     },
     "metadata": {},
     "output_type": "display_data"
    },
    {
     "name": "stdout",
     "output_type": "stream",
     "text": [
      "Scratch: [1.354 1.339 1.558]\n",
      "Transfer: [5.458 5.626 5.878]\n",
      "Transfer & Revision: [1.305 1.465 1.36 ]\n"
     ]
    },
    {
     "data": {
      "text/markdown": [
       "# Results for 19_uwcse_yago2s"
      ],
      "text/plain": [
       "<IPython.core.display.Markdown object>"
      ]
     },
     "metadata": {},
     "output_type": "display_data"
    },
    {
     "data": {
      "text/markdown": [
       "## AUC ROC"
      ],
      "text/plain": [
       "<IPython.core.display.Markdown object>"
      ]
     },
     "metadata": {},
     "output_type": "display_data"
    },
    {
     "name": "stdout",
     "output_type": "stream",
     "text": [
      "Scratch: [0.726831 0.731486 0.729103]\n",
      "Transfer: [0.507907 0.580382 0.530138]\n",
      "Transfer & Revision: [0.712232 0.730476 0.70937 ]\n"
     ]
    },
    {
     "data": {
      "text/markdown": [
       "## AUC PR"
      ],
      "text/plain": [
       "<IPython.core.display.Markdown object>"
      ]
     },
     "metadata": {},
     "output_type": "display_data"
    },
    {
     "name": "stdout",
     "output_type": "stream",
     "text": [
      "Scratch: [0.633692 0.638862 0.636818]\n",
      "Transfer: [0.358489 0.489479 0.390665]\n",
      "Transfer & Revision: [0.620125 0.640238 0.611419]\n"
     ]
    },
    {
     "data": {
      "text/markdown": [
       "## CLL"
      ],
      "text/plain": [
       "<IPython.core.display.Markdown object>"
      ]
     },
     "metadata": {},
     "output_type": "display_data"
    },
    {
     "name": "stdout",
     "output_type": "stream",
     "text": [
      "Scratch: [-0.547637 -0.548418 -0.545902]\n",
      "Transfer: [-0.633745 -0.591475 -0.633684]\n",
      "Transfer & Revision: [-0.55392  -0.545864 -0.553083]\n"
     ]
    },
    {
     "data": {
      "text/markdown": [
       "## Recall"
      ],
      "text/plain": [
       "<IPython.core.display.Markdown object>"
      ]
     },
     "metadata": {},
     "output_type": "display_data"
    },
    {
     "name": "stdout",
     "output_type": "stream",
     "text": [
      "Scratch: [0.18156  0.183201 0.192516]\n",
      "Transfer: [0.012874 0.133535 0.003218]\n",
      "Transfer & Revision: [0.178152 0.18806  0.176047]\n"
     ]
    },
    {
     "data": {
      "text/markdown": [
       "## F1"
      ],
      "text/plain": [
       "<IPython.core.display.Markdown object>"
      ]
     },
     "metadata": {},
     "output_type": "display_data"
    },
    {
     "name": "stdout",
     "output_type": "stream",
     "text": [
      "Scratch: [0.306553 0.308518 0.321869]\n",
      "Transfer: [0.025421 0.235609 0.006415]\n",
      "Transfer & Revision: [0.301812 0.315645 0.298923]\n"
     ]
    },
    {
     "data": {
      "text/markdown": [
       "## Precision"
      ],
      "text/plain": [
       "<IPython.core.display.Markdown object>"
      ]
     },
     "metadata": {},
     "output_type": "display_data"
    },
    {
     "name": "stdout",
     "output_type": "stream",
     "text": [
      "Scratch: [0.983926 0.976455 0.981029]\n",
      "Transfer: [1. 1. 1.]\n",
      "Transfer & Revision: [0.986718 0.981555 0.989713]\n"
     ]
    },
    {
     "data": {
      "text/markdown": [
       "## Learning and Revision time"
      ],
      "text/plain": [
       "<IPython.core.display.Markdown object>"
      ]
     },
     "metadata": {},
     "output_type": "display_data"
    },
    {
     "name": "stdout",
     "output_type": "stream",
     "text": [
      "Scratch: [956.004 927.992 880.893]\n",
      "Transfer: [357.33  444.317 525.866]\n",
      "Transfer & Revision: [1519.508 1263.301 1388.833]\n"
     ]
    },
    {
     "data": {
      "text/markdown": [
       "## Inference time"
      ],
      "text/plain": [
       "<IPython.core.display.Markdown object>"
      ]
     },
     "metadata": {},
     "output_type": "display_data"
    },
    {
     "name": "stdout",
     "output_type": "stream",
     "text": [
      "Scratch: [105.625  73.435  73.759]\n",
      "Transfer: [357.33  444.317 525.866]\n",
      "Transfer & Revision: [70.264 73.247 73.383]\n"
     ]
    },
    {
     "data": {
      "text/markdown": [
       "# Results for 20_uwcse_yago2s"
      ],
      "text/plain": [
       "<IPython.core.display.Markdown object>"
      ]
     },
     "metadata": {},
     "output_type": "display_data"
    },
    {
     "data": {
      "text/markdown": [
       "## AUC ROC"
      ],
      "text/plain": [
       "<IPython.core.display.Markdown object>"
      ]
     },
     "metadata": {},
     "output_type": "display_data"
    },
    {
     "name": "stdout",
     "output_type": "stream",
     "text": [
      "Scratch: [0.738343 0.727452 0.722646]\n",
      "Transfer: [0.500777 0.524236 0.501295]\n",
      "Transfer & Revision: [0.729421 0.720877 0.706656]\n"
     ]
    },
    {
     "data": {
      "text/markdown": [
       "## AUC PR"
      ],
      "text/plain": [
       "<IPython.core.display.Markdown object>"
      ]
     },
     "metadata": {},
     "output_type": "display_data"
    },
    {
     "name": "stdout",
     "output_type": "stream",
     "text": [
      "Scratch: [0.65963  0.643498 0.638366]\n",
      "Transfer: [0.336663 0.392675 0.33856 ]\n",
      "Transfer & Revision: [0.651399 0.637752 0.627478]\n"
     ]
    },
    {
     "data": {
      "text/markdown": [
       "## CLL"
      ],
      "text/plain": [
       "<IPython.core.display.Markdown object>"
      ]
     },
     "metadata": {},
     "output_type": "display_data"
    },
    {
     "name": "stdout",
     "output_type": "stream",
     "text": [
      "Scratch: [-0.545182 -0.54995  -0.548903]\n",
      "Transfer: [-0.637583 -0.626787 -0.637263]\n",
      "Transfer & Revision: [-0.550264 -0.561507 -0.552554]\n"
     ]
    },
    {
     "data": {
      "text/markdown": [
       "## Recall"
      ],
      "text/plain": [
       "<IPython.core.display.Markdown object>"
      ]
     },
     "metadata": {},
     "output_type": "display_data"
    },
    {
     "name": "stdout",
     "output_type": "stream",
     "text": [
      "Scratch: [0.325389 0.288601 0.311917]\n",
      "Transfer: [0.001554 0.050777 0.002591]\n",
      "Transfer & Revision: [0.311399 0.207254 0.299482]\n"
     ]
    },
    {
     "data": {
      "text/markdown": [
       "## F1"
      ],
      "text/plain": [
       "<IPython.core.display.Markdown object>"
      ]
     },
     "metadata": {},
     "output_type": "display_data"
    },
    {
     "name": "stdout",
     "output_type": "stream",
     "text": [
      "Scratch: [0.467784 0.432958 0.449589]\n",
      "Transfer: [0.003104 0.095844 0.005168]\n",
      "Transfer & Revision: [0.453072 0.334728 0.440549]\n"
     ]
    },
    {
     "data": {
      "text/markdown": [
       "## Precision"
      ],
      "text/plain": [
       "<IPython.core.display.Markdown object>"
      ]
     },
     "metadata": {},
     "output_type": "display_data"
    },
    {
     "name": "stdout",
     "output_type": "stream",
     "text": [
      "Scratch: [0.831788 0.866252 0.804813]\n",
      "Transfer: [1.       0.852174 1.      ]\n",
      "Transfer & Revision: [0.831259 0.869565 0.832853]\n"
     ]
    },
    {
     "data": {
      "text/markdown": [
       "## Learning and Revision time"
      ],
      "text/plain": [
       "<IPython.core.display.Markdown object>"
      ]
     },
     "metadata": {},
     "output_type": "display_data"
    },
    {
     "name": "stdout",
     "output_type": "stream",
     "text": [
      "Scratch: [1094.722  532.379  866.021]\n",
      "Transfer: [ 231.336 1205.181  355.851]\n",
      "Transfer & Revision: [ 639.413 1717.439 1025.772]\n"
     ]
    },
    {
     "data": {
      "text/markdown": [
       "## Inference time"
      ],
      "text/plain": [
       "<IPython.core.display.Markdown object>"
      ]
     },
     "metadata": {},
     "output_type": "display_data"
    },
    {
     "name": "stdout",
     "output_type": "stream",
     "text": [
      "Scratch: [66.522 66.187 66.691]\n",
      "Transfer: [ 231.336 1205.181  355.851]\n",
      "Transfer & Revision: [66.645 63.559 67.219]\n"
     ]
    },
    {
     "data": {
      "text/markdown": [
       "# Results for 21_uwcse_yago2s"
      ],
      "text/plain": [
       "<IPython.core.display.Markdown object>"
      ]
     },
     "metadata": {},
     "output_type": "display_data"
    },
    {
     "data": {
      "text/markdown": [
       "## AUC ROC"
      ],
      "text/plain": [
       "<IPython.core.display.Markdown object>"
      ]
     },
     "metadata": {},
     "output_type": "display_data"
    },
    {
     "name": "stdout",
     "output_type": "stream",
     "text": [
      "Scratch: [0.648112 0.655871 0.650792]\n",
      "Transfer: [0.501275 0.5014   0.501375]\n",
      "Transfer & Revision: [0.646678 0.648957 0.64989 ]\n"
     ]
    },
    {
     "data": {
      "text/markdown": [
       "## AUC PR"
      ],
      "text/plain": [
       "<IPython.core.display.Markdown object>"
      ]
     },
     "metadata": {},
     "output_type": "display_data"
    },
    {
     "name": "stdout",
     "output_type": "stream",
     "text": [
      "Scratch: [0.533902 0.552091 0.535646]\n",
      "Transfer: [0.338376 0.338917 0.338732]\n",
      "Transfer & Revision: [0.53062  0.542845 0.537044]\n"
     ]
    },
    {
     "data": {
      "text/markdown": [
       "## CLL"
      ],
      "text/plain": [
       "<IPython.core.display.Markdown object>"
      ]
     },
     "metadata": {},
     "output_type": "display_data"
    },
    {
     "name": "stdout",
     "output_type": "stream",
     "text": [
      "Scratch: [-0.600318 -0.596411 -0.600902]\n",
      "Transfer: [-0.637271 -0.637177 -0.637191]\n",
      "Transfer & Revision: [-0.603033 -0.604622 -0.604677]\n"
     ]
    },
    {
     "data": {
      "text/markdown": [
       "## Recall"
      ],
      "text/plain": [
       "<IPython.core.display.Markdown object>"
      ]
     },
     "metadata": {},
     "output_type": "display_data"
    },
    {
     "name": "stdout",
     "output_type": "stream",
     "text": [
      "Scratch: [0.0924 0.1135 0.089 ]\n",
      "Transfer: [0.0026 0.0028 0.0028]\n",
      "Transfer & Revision: [0.0919 0.0691 0.0781]\n"
     ]
    },
    {
     "data": {
      "text/markdown": [
       "## F1"
      ],
      "text/plain": [
       "<IPython.core.display.Markdown object>"
      ]
     },
     "metadata": {},
     "output_type": "display_data"
    },
    {
     "name": "stdout",
     "output_type": "stream",
     "text": [
      "Scratch: [0.168675 0.20286  0.162974]\n",
      "Transfer: [0.005186 0.005584 0.005584]\n",
      "Transfer & Revision: [0.167472 0.129062 0.144202]\n"
     ]
    },
    {
     "data": {
      "text/markdown": [
       "## Precision"
      ],
      "text/plain": [
       "<IPython.core.display.Markdown object>"
      ]
     },
     "metadata": {},
     "output_type": "display_data"
    },
    {
     "name": "stdout",
     "output_type": "stream",
     "text": [
      "Scratch: [0.966527 0.953782 0.965293]\n",
      "Transfer: [0.962963 1.       0.965517]\n",
      "Transfer & Revision: [0.942564 0.975989 0.938702]\n"
     ]
    },
    {
     "data": {
      "text/markdown": [
       "## Learning and Revision time"
      ],
      "text/plain": [
       "<IPython.core.display.Markdown object>"
      ]
     },
     "metadata": {},
     "output_type": "display_data"
    },
    {
     "name": "stdout",
     "output_type": "stream",
     "text": [
      "Scratch: [ 659.995  909.317 1292.493]\n",
      "Transfer: [317.397 306.762 294.088]\n",
      "Transfer & Revision: [1088.82  1046.472  802.623]\n"
     ]
    },
    {
     "data": {
      "text/markdown": [
       "## Inference time"
      ],
      "text/plain": [
       "<IPython.core.display.Markdown object>"
      ]
     },
     "metadata": {},
     "output_type": "display_data"
    },
    {
     "name": "stdout",
     "output_type": "stream",
     "text": [
      "Scratch: [101.048  68.021  68.579]\n",
      "Transfer: [317.397 306.762 294.088]\n",
      "Transfer & Revision: [ 77.541  70.827 101.355]\n"
     ]
    },
    {
     "data": {
      "text/markdown": [
       "# Results for 22_cora_yago2s"
      ],
      "text/plain": [
       "<IPython.core.display.Markdown object>"
      ]
     },
     "metadata": {},
     "output_type": "display_data"
    },
    {
     "data": {
      "text/markdown": [
       "## AUC ROC"
      ],
      "text/plain": [
       "<IPython.core.display.Markdown object>"
      ]
     },
     "metadata": {},
     "output_type": "display_data"
    },
    {
     "name": "stdout",
     "output_type": "stream",
     "text": [
      "Scratch: [0.733065 0.737031 0.719356]\n",
      "Transfer: [0.502673 0.573729 0.575574]\n",
      "Transfer & Revision: [0.704014 0.727538 0.727322]\n"
     ]
    },
    {
     "data": {
      "text/markdown": [
       "## AUC PR"
      ],
      "text/plain": [
       "<IPython.core.display.Markdown object>"
      ]
     },
     "metadata": {},
     "output_type": "display_data"
    },
    {
     "name": "stdout",
     "output_type": "stream",
     "text": [
      "Scratch: [0.640789 0.646098 0.626784]\n",
      "Transfer: [0.342775 0.486338 0.489974]\n",
      "Transfer & Revision: [0.610183 0.640593 0.635839]\n"
     ]
    },
    {
     "data": {
      "text/markdown": [
       "## CLL"
      ],
      "text/plain": [
       "<IPython.core.display.Markdown object>"
      ]
     },
     "metadata": {},
     "output_type": "display_data"
    },
    {
     "name": "stdout",
     "output_type": "stream",
     "text": [
      "Scratch: [-0.546394 -0.547506 -0.546084]\n",
      "Transfer: [-0.636778 -0.591854 -0.589985]\n",
      "Transfer & Revision: [-0.55374  -0.544563 -0.545052]\n"
     ]
    },
    {
     "data": {
      "text/markdown": [
       "## Recall"
      ],
      "text/plain": [
       "<IPython.core.display.Markdown object>"
      ]
     },
     "metadata": {},
     "output_type": "display_data"
    },
    {
     "name": "stdout",
     "output_type": "stream",
     "text": [
      "Scratch: [0.198347 0.187745 0.190687]\n",
      "Transfer: [0.003786 0.133535 0.137746]\n",
      "Transfer & Revision: [0.172914 0.178026 0.199584]\n"
     ]
    },
    {
     "data": {
      "text/markdown": [
       "## F1"
      ],
      "text/plain": [
       "<IPython.core.display.Markdown object>"
      ]
     },
     "metadata": {},
     "output_type": "display_data"
    },
    {
     "name": "stdout",
     "output_type": "stream",
     "text": [
      "Scratch: [0.329231 0.315332 0.318206]\n",
      "Transfer: [0.007544 0.235609 0.242139]\n",
      "Transfer & Revision: [0.294402 0.301744 0.330374]\n"
     ]
    },
    {
     "data": {
      "text/markdown": [
       "## Precision"
      ],
      "text/plain": [
       "<IPython.core.display.Markdown object>"
      ]
     },
     "metadata": {},
     "output_type": "display_data"
    },
    {
     "name": "stdout",
     "output_type": "stream",
     "text": [
      "Scratch: [0.96797  0.984122 0.960585]\n",
      "Transfer: [1. 1. 1.]\n",
      "Transfer & Revision: [0.989884 0.98913  0.958485]\n"
     ]
    },
    {
     "data": {
      "text/markdown": [
       "## Learning and Revision time"
      ],
      "text/plain": [
       "<IPython.core.display.Markdown object>"
      ]
     },
     "metadata": {},
     "output_type": "display_data"
    },
    {
     "name": "stdout",
     "output_type": "stream",
     "text": [
      "Scratch: [861.904 896.803 879.759]\n",
      "Transfer: [530.997 527.403 509.447]\n",
      "Transfer & Revision: [1399.83  1626.065 1249.602]\n"
     ]
    },
    {
     "data": {
      "text/markdown": [
       "## Inference time"
      ],
      "text/plain": [
       "<IPython.core.display.Markdown object>"
      ]
     },
     "metadata": {},
     "output_type": "display_data"
    },
    {
     "name": "stdout",
     "output_type": "stream",
     "text": [
      "Scratch: [ 70.786 101.163  99.817]\n",
      "Transfer: [530.997 527.403 509.447]\n",
      "Transfer & Revision: [67.523 71.214 67.782]\n"
     ]
    },
    {
     "data": {
      "text/markdown": [
       "# Results for 23_cora_yago2s"
      ],
      "text/plain": [
       "<IPython.core.display.Markdown object>"
      ]
     },
     "metadata": {},
     "output_type": "display_data"
    },
    {
     "data": {
      "text/markdown": [
       "## AUC ROC"
      ],
      "text/plain": [
       "<IPython.core.display.Markdown object>"
      ]
     },
     "metadata": {},
     "output_type": "display_data"
    },
    {
     "name": "stdout",
     "output_type": "stream",
     "text": [
      "Scratch: [0.727405 0.71742  0.712325]\n",
      "Transfer: [0.499871 0.501033 0.499748]\n",
      "Transfer & Revision: [0.723241 0.679967 0.71061 ]\n"
     ]
    },
    {
     "data": {
      "text/markdown": [
       "## AUC PR"
      ],
      "text/plain": [
       "<IPython.core.display.Markdown object>"
      ]
     },
     "metadata": {},
     "output_type": "display_data"
    },
    {
     "name": "stdout",
     "output_type": "stream",
     "text": [
      "Scratch: [0.639244 0.640399 0.628442]\n",
      "Transfer: [0.333276 0.337624 0.334499]\n",
      "Transfer & Revision: [0.633027 0.574123 0.623818]\n"
     ]
    },
    {
     "data": {
      "text/markdown": [
       "## CLL"
      ],
      "text/plain": [
       "<IPython.core.display.Markdown object>"
      ]
     },
     "metadata": {},
     "output_type": "display_data"
    },
    {
     "name": "stdout",
     "output_type": "stream",
     "text": [
      "Scratch: [-0.548571 -0.549957 -0.554544]\n",
      "Transfer: [-0.638256 -0.63767  -0.637522]\n",
      "Transfer & Revision: [-0.556697 -0.589905 -0.558551]\n"
     ]
    },
    {
     "data": {
      "text/markdown": [
       "## Recall"
      ],
      "text/plain": [
       "<IPython.core.display.Markdown object>"
      ]
     },
     "metadata": {},
     "output_type": "display_data"
    },
    {
     "name": "stdout",
     "output_type": "stream",
     "text": [
      "Scratch: [0.314508 0.274093 0.307772]\n",
      "Transfer: [0.       0.002073 0.002591]\n",
      "Transfer & Revision: [0.281347 0.140933 0.282383]\n"
     ]
    },
    {
     "data": {
      "text/markdown": [
       "## F1"
      ],
      "text/plain": [
       "<IPython.core.display.Markdown object>"
      ]
     },
     "metadata": {},
     "output_type": "display_data"
    },
    {
     "name": "stdout",
     "output_type": "stream",
     "text": [
      "Scratch: [0.454001 0.416208 0.445277]\n",
      "Transfer: [     nan 0.004137 0.005165]\n",
      "Transfer & Revision: [0.419467 0.240815 0.415396]\n"
     ]
    },
    {
     "data": {
      "text/markdown": [
       "## Precision"
      ],
      "text/plain": [
       "<IPython.core.display.Markdown object>"
      ]
     },
     "metadata": {},
     "output_type": "display_data"
    },
    {
     "name": "stdout",
     "output_type": "stream",
     "text": [
      "Scratch: [0.81586  0.864379 0.804878]\n",
      "Transfer: [     nan 1.       0.833333]\n",
      "Transfer & Revision: [0.823976 0.826748 0.785303]\n"
     ]
    },
    {
     "data": {
      "text/markdown": [
       "## Learning and Revision time"
      ],
      "text/plain": [
       "<IPython.core.display.Markdown object>"
      ]
     },
     "metadata": {},
     "output_type": "display_data"
    },
    {
     "name": "stdout",
     "output_type": "stream",
     "text": [
      "Scratch: [592.547 504.944 775.497]\n",
      "Transfer: [ 198.025  211.306 1264.087]\n",
      "Transfer & Revision: [ 854.484  819.046 1997.253]\n"
     ]
    },
    {
     "data": {
      "text/markdown": [
       "## Inference time"
      ],
      "text/plain": [
       "<IPython.core.display.Markdown object>"
      ]
     },
     "metadata": {},
     "output_type": "display_data"
    },
    {
     "name": "stdout",
     "output_type": "stream",
     "text": [
      "Scratch: [61.811 88.454 65.849]\n",
      "Transfer: [ 198.025  211.306 1264.087]\n",
      "Transfer & Revision: [64.409 56.983 94.351]\n"
     ]
    },
    {
     "data": {
      "text/markdown": [
       "# Results for 24_cora_yago2s"
      ],
      "text/plain": [
       "<IPython.core.display.Markdown object>"
      ]
     },
     "metadata": {},
     "output_type": "display_data"
    },
    {
     "data": {
      "text/markdown": [
       "## AUC ROC"
      ],
      "text/plain": [
       "<IPython.core.display.Markdown object>"
      ]
     },
     "metadata": {},
     "output_type": "display_data"
    },
    {
     "name": "stdout",
     "output_type": "stream",
     "text": [
      "Scratch: [0.649033 0.635084 0.659163]\n",
      "Transfer: [0.503676 0.498818 0.498181]\n",
      "Transfer & Revision: [0.644046 0.649156 0.650915]\n"
     ]
    },
    {
     "data": {
      "text/markdown": [
       "## AUC PR"
      ],
      "text/plain": [
       "<IPython.core.display.Markdown object>"
      ]
     },
     "metadata": {},
     "output_type": "display_data"
    },
    {
     "name": "stdout",
     "output_type": "stream",
     "text": [
      "Scratch: [0.529638 0.514721 0.545819]\n",
      "Transfer: [0.339274 0.339371 0.335008]\n",
      "Transfer & Revision: [0.53636  0.538702 0.544767]\n"
     ]
    },
    {
     "data": {
      "text/markdown": [
       "## CLL"
      ],
      "text/plain": [
       "<IPython.core.display.Markdown object>"
      ]
     },
     "metadata": {},
     "output_type": "display_data"
    },
    {
     "name": "stdout",
     "output_type": "stream",
     "text": [
      "Scratch: [-0.601236 -0.604562 -0.597868]\n",
      "Transfer: [-0.637082 -0.63704  -0.637003]\n",
      "Transfer & Revision: [-0.601955 -0.601549 -0.601357]\n"
     ]
    },
    {
     "data": {
      "text/markdown": [
       "## Recall"
      ],
      "text/plain": [
       "<IPython.core.display.Markdown object>"
      ]
     },
     "metadata": {},
     "output_type": "display_data"
    },
    {
     "name": "stdout",
     "output_type": "stream",
     "text": [
      "Scratch: [0.0796 0.0859 0.0955]\n",
      "Transfer: [0.0031 0.003  0.0033]\n",
      "Transfer & Revision: [0.1042 0.0897 0.0928]\n"
     ]
    },
    {
     "data": {
      "text/markdown": [
       "## F1"
      ],
      "text/plain": [
       "<IPython.core.display.Markdown object>"
      ]
     },
     "metadata": {},
     "output_type": "display_data"
    },
    {
     "name": "stdout",
     "output_type": "stream",
     "text": [
      "Scratch: [0.147176 0.15734  0.173715]\n",
      "Transfer: [0.006181 0.005982 0.006578]\n",
      "Transfer & Revision: [0.187646 0.163866 0.169235]\n"
     ]
    },
    {
     "data": {
      "text/markdown": [
       "## Precision"
      ],
      "text/plain": [
       "<IPython.core.display.Markdown object>"
      ]
     },
     "metadata": {},
     "output_type": "display_data"
    },
    {
     "name": "stdout",
     "output_type": "stream",
     "text": [
      "Scratch: [0.974296 0.934712 0.959799]\n",
      "Transfer: [1. 1. 1.]\n",
      "Transfer & Revision: [0.942134 0.946203 0.959669]\n"
     ]
    },
    {
     "data": {
      "text/markdown": [
       "## Learning and Revision time"
      ],
      "text/plain": [
       "<IPython.core.display.Markdown object>"
      ]
     },
     "metadata": {},
     "output_type": "display_data"
    },
    {
     "name": "stdout",
     "output_type": "stream",
     "text": [
      "Scratch: [ 960.844  939.056 1149.359]\n",
      "Transfer: [ 137.377 7781.542  312.482]\n",
      "Transfer & Revision: [ 746.37  9079.432 1132.594]\n"
     ]
    },
    {
     "data": {
      "text/markdown": [
       "## Inference time"
      ],
      "text/plain": [
       "<IPython.core.display.Markdown object>"
      ]
     },
     "metadata": {},
     "output_type": "display_data"
    },
    {
     "name": "stdout",
     "output_type": "stream",
     "text": [
      "Scratch: [ 78.903  70.525 103.867]\n",
      "Transfer: [ 137.377 7781.542  312.482]\n",
      "Transfer & Revision: [98.411 86.495 77.825]\n"
     ]
    },
    {
     "data": {
      "text/markdown": [
       "# Results for 26_cora_yago2s"
      ],
      "text/plain": [
       "<IPython.core.display.Markdown object>"
      ]
     },
     "metadata": {},
     "output_type": "display_data"
    },
    {
     "data": {
      "text/markdown": [
       "## AUC ROC"
      ],
      "text/plain": [
       "<IPython.core.display.Markdown object>"
      ]
     },
     "metadata": {},
     "output_type": "display_data"
    },
    {
     "name": "stdout",
     "output_type": "stream",
     "text": [
      "Scratch: [0.739612 0.723682 0.715477]\n",
      "Transfer: [0.505958 0.501036 0.504276]\n",
      "Transfer & Revision: [0.710662 0.7113   0.713572]\n"
     ]
    },
    {
     "data": {
      "text/markdown": [
       "## AUC PR"
      ],
      "text/plain": [
       "<IPython.core.display.Markdown object>"
      ]
     },
     "metadata": {},
     "output_type": "display_data"
    },
    {
     "name": "stdout",
     "output_type": "stream",
     "text": [
      "Scratch: [0.654718 0.643994 0.63196 ]\n",
      "Transfer: [0.352038 0.337625 0.347026]\n",
      "Transfer & Revision: [0.634728 0.636198 0.638164]\n"
     ]
    },
    {
     "data": {
      "text/markdown": [
       "## CLL"
      ],
      "text/plain": [
       "<IPython.core.display.Markdown object>"
      ]
     },
     "metadata": {},
     "output_type": "display_data"
    },
    {
     "name": "stdout",
     "output_type": "stream",
     "text": [
      "Scratch: [-0.547127 -0.54851  -0.554469]\n",
      "Transfer: [-0.635355 -0.637374 -0.636347]\n",
      "Transfer & Revision: [-0.557454 -0.553517 -0.552505]\n"
     ]
    },
    {
     "data": {
      "text/markdown": [
       "## Recall"
      ],
      "text/plain": [
       "<IPython.core.display.Markdown object>"
      ]
     },
     "metadata": {},
     "output_type": "display_data"
    },
    {
     "name": "stdout",
     "output_type": "stream",
     "text": [
      "Scratch: [0.299482 0.309326 0.280829]\n",
      "Transfer: [0.012435 0.002073 0.008808]\n",
      "Transfer & Revision: [0.292228 0.315026 0.317098]\n"
     ]
    },
    {
     "data": {
      "text/markdown": [
       "## F1"
      ],
      "text/plain": [
       "<IPython.core.display.Markdown object>"
      ]
     },
     "metadata": {},
     "output_type": "display_data"
    },
    {
     "name": "stdout",
     "output_type": "stream",
     "text": [
      "Scratch: [0.440717 0.451589 0.41918 ]\n",
      "Transfer: [0.024515 0.004137 0.017427]\n",
      "Transfer & Revision: [0.432184 0.456456 0.460843]\n"
     ]
    },
    {
     "data": {
      "text/markdown": [
       "## Precision"
      ],
      "text/plain": [
       "<IPython.core.display.Markdown object>"
      ]
     },
     "metadata": {},
     "output_type": "display_data"
    },
    {
     "name": "stdout",
     "output_type": "stream",
     "text": [
      "Scratch: [0.834055 0.836134 0.82622 ]\n",
      "Transfer: [0.857143 1.       0.809524]\n",
      "Transfer & Revision: [0.829412 0.828338 0.842975]\n"
     ]
    },
    {
     "data": {
      "text/markdown": [
       "## Learning and Revision time"
      ],
      "text/plain": [
       "<IPython.core.display.Markdown object>"
      ]
     },
     "metadata": {},
     "output_type": "display_data"
    },
    {
     "name": "stdout",
     "output_type": "stream",
     "text": [
      "Scratch: [491.836 571.299 674.876]\n",
      "Transfer: [239.525 319.367 344.445]\n",
      "Transfer & Revision: [590.08  792.84  889.946]\n"
     ]
    },
    {
     "data": {
      "text/markdown": [
       "## Inference time"
      ],
      "text/plain": [
       "<IPython.core.display.Markdown object>"
      ]
     },
     "metadata": {},
     "output_type": "display_data"
    },
    {
     "name": "stdout",
     "output_type": "stream",
     "text": [
      "Scratch: [58.727 87.625 60.387]\n",
      "Transfer: [239.525 319.367 344.445]\n",
      "Transfer & Revision: [86.527 87.161 83.977]\n"
     ]
    },
    {
     "data": {
      "text/markdown": [
       "# Results for 27_cora_yago2s"
      ],
      "text/plain": [
       "<IPython.core.display.Markdown object>"
      ]
     },
     "metadata": {},
     "output_type": "display_data"
    },
    {
     "data": {
      "text/markdown": [
       "## AUC ROC"
      ],
      "text/plain": [
       "<IPython.core.display.Markdown object>"
      ]
     },
     "metadata": {},
     "output_type": "display_data"
    },
    {
     "name": "stdout",
     "output_type": "stream",
     "text": [
      "Scratch: [0.650257 0.652314 0.668851]\n",
      "Transfer: [0.5011 0.5014 0.5012]\n",
      "Transfer & Revision: [0.633678 0.64     0.636991]\n"
     ]
    },
    {
     "data": {
      "text/markdown": [
       "## AUC PR"
      ],
      "text/plain": [
       "<IPython.core.display.Markdown object>"
      ]
     },
     "metadata": {},
     "output_type": "display_data"
    },
    {
     "name": "stdout",
     "output_type": "stream",
     "text": [
      "Scratch: [0.539407 0.542763 0.561866]\n",
      "Transfer: [0.338157 0.338917 0.338516]\n",
      "Transfer & Revision: [0.526933 0.53203  0.523339]\n"
     ]
    },
    {
     "data": {
      "text/markdown": [
       "## CLL"
      ],
      "text/plain": [
       "<IPython.core.display.Markdown object>"
      ]
     },
     "metadata": {},
     "output_type": "display_data"
    },
    {
     "name": "stdout",
     "output_type": "stream",
     "text": [
      "Scratch: [-0.599036 -0.599807 -0.593143]\n",
      "Transfer: [-0.637334 -0.637132 -0.637288]\n",
      "Transfer & Revision: [-0.601884 -0.60247  -0.602899]\n"
     ]
    },
    {
     "data": {
      "text/markdown": [
       "## Recall"
      ],
      "text/plain": [
       "<IPython.core.display.Markdown object>"
      ]
     },
     "metadata": {},
     "output_type": "display_data"
    },
    {
     "name": "stdout",
     "output_type": "stream",
     "text": [
      "Scratch: [0.1023 0.089  0.1076]\n",
      "Transfer: [0.0024 0.0028 0.0025]\n",
      "Transfer & Revision: [0.1072 0.1006 0.1062]\n"
     ]
    },
    {
     "data": {
      "text/markdown": [
       "## F1"
      ],
      "text/plain": [
       "<IPython.core.display.Markdown object>"
      ]
     },
     "metadata": {},
     "output_type": "display_data"
    },
    {
     "name": "stdout",
     "output_type": "stream",
     "text": [
      "Scratch: [0.184857 0.162631 0.193386]\n",
      "Transfer: [0.004789 0.005584 0.004988]\n",
      "Transfer & Revision: [0.192979 0.182048 0.191265]\n"
     ]
    },
    {
     "data": {
      "text/markdown": [
       "## Precision"
      ],
      "text/plain": [
       "<IPython.core.display.Markdown object>"
      ]
     },
     "metadata": {},
     "output_type": "display_data"
    },
    {
     "name": "stdout",
     "output_type": "stream",
     "text": [
      "Scratch: [0.957865 0.941799 0.953901]\n",
      "Transfer: [1. 1. 1.]\n",
      "Transfer & Revision: [0.965766 0.956274 0.961086]\n"
     ]
    },
    {
     "data": {
      "text/markdown": [
       "## Learning and Revision time"
      ],
      "text/plain": [
       "<IPython.core.display.Markdown object>"
      ]
     },
     "metadata": {},
     "output_type": "display_data"
    },
    {
     "name": "stdout",
     "output_type": "stream",
     "text": [
      "Scratch: [787.12  822.524 899.442]\n",
      "Transfer: [502.862 331.629 336.704]\n",
      "Transfer & Revision: [1132.837  950.21  1013.005]\n"
     ]
    },
    {
     "data": {
      "text/markdown": [
       "## Inference time"
      ],
      "text/plain": [
       "<IPython.core.display.Markdown object>"
      ]
     },
     "metadata": {},
     "output_type": "display_data"
    },
    {
     "name": "stdout",
     "output_type": "stream",
     "text": [
      "Scratch: [69.894 69.492 70.936]\n",
      "Transfer: [502.862 331.629 336.704]\n",
      "Transfer & Revision: [69.618 63.265 91.773]\n"
     ]
    },
    {
     "data": {
      "text/markdown": [
       "# Results for 28_cora_yago2s"
      ],
      "text/plain": [
       "<IPython.core.display.Markdown object>"
      ]
     },
     "metadata": {},
     "output_type": "display_data"
    },
    {
     "data": {
      "text/markdown": [
       "## AUC ROC"
      ],
      "text/plain": [
       "<IPython.core.display.Markdown object>"
      ]
     },
     "metadata": {},
     "output_type": "display_data"
    },
    {
     "name": "stdout",
     "output_type": "stream",
     "text": [
      "Scratch: [0.719059 0.727384 0.72722 ]\n",
      "Transfer: [0.52667  0.572826 0.575435]\n",
      "Transfer & Revision: [0.696015 0.686469 0.691208]\n"
     ]
    },
    {
     "data": {
      "text/markdown": [
       "## AUC PR"
      ],
      "text/plain": [
       "<IPython.core.display.Markdown object>"
      ]
     },
     "metadata": {},
     "output_type": "display_data"
    },
    {
     "name": "stdout",
     "output_type": "stream",
     "text": [
      "Scratch: [0.628411 0.636683 0.632771]\n",
      "Transfer: [0.404122 0.493773 0.498323]\n",
      "Transfer & Revision: [0.607608 0.585544 0.598369]\n"
     ]
    },
    {
     "data": {
      "text/markdown": [
       "## CLL"
      ],
      "text/plain": [
       "<IPython.core.display.Markdown object>"
      ]
     },
     "metadata": {},
     "output_type": "display_data"
    },
    {
     "name": "stdout",
     "output_type": "stream",
     "text": [
      "Scratch: [-0.546877 -0.546835 -0.546046]\n",
      "Transfer: [-0.620844 -0.589359 -0.587179]\n",
      "Transfer & Revision: [-0.568045 -0.565766 -0.563644]\n"
     ]
    },
    {
     "data": {
      "text/markdown": [
       "## Recall"
      ],
      "text/plain": [
       "<IPython.core.display.Markdown object>"
      ]
     },
     "metadata": {},
     "output_type": "display_data"
    },
    {
     "name": "stdout",
     "output_type": "stream",
     "text": [
      "Scratch: [0.183138 0.189701 0.188163]\n",
      "Transfer: [0.053768 0.145652 0.150871]\n",
      "Transfer & Revision: [0.182002 0.145652 0.153142]\n"
     ]
    },
    {
     "data": {
      "text/markdown": [
       "## F1"
      ],
      "text/plain": [
       "<IPython.core.display.Markdown object>"
      ]
     },
     "metadata": {},
     "output_type": "display_data"
    },
    {
     "name": "stdout",
     "output_type": "stream",
     "text": [
      "Scratch: [0.307741 0.317927 0.315305]\n",
      "Transfer: [0.101963 0.254269 0.262185]\n",
      "Transfer & Revision: [0.307725 0.254269 0.265609]\n"
     ]
    },
    {
     "data": {
      "text/markdown": [
       "## Precision"
      ],
      "text/plain": [
       "<IPython.core.display.Markdown object>"
      ]
     },
     "metadata": {},
     "output_type": "display_data"
    },
    {
     "name": "stdout",
     "output_type": "stream",
     "text": [
      "Scratch: [0.96284  0.98107  0.972286]\n",
      "Transfer: [0.983834 1.       1.      ]\n",
      "Transfer & Revision: [0.995169 1.       1.      ]\n"
     ]
    },
    {
     "data": {
      "text/markdown": [
       "## Learning and Revision time"
      ],
      "text/plain": [
       "<IPython.core.display.Markdown object>"
      ]
     },
     "metadata": {},
     "output_type": "display_data"
    },
    {
     "name": "stdout",
     "output_type": "stream",
     "text": [
      "Scratch: [855.939 762.728 774.933]\n",
      "Transfer: [405.495 452.526 530.33 ]\n",
      "Transfer & Revision: [1026.086  991.672 1156.792]\n"
     ]
    },
    {
     "data": {
      "text/markdown": [
       "## Inference time"
      ],
      "text/plain": [
       "<IPython.core.display.Markdown object>"
      ]
     },
     "metadata": {},
     "output_type": "display_data"
    },
    {
     "name": "stdout",
     "output_type": "stream",
     "text": [
      "Scratch: [94.374 64.599 92.075]\n",
      "Transfer: [405.495 452.526 530.33 ]\n",
      "Transfer & Revision: [91.748 60.723 63.531]\n"
     ]
    },
    {
     "data": {
      "text/markdown": [
       "# Results for 29_cora_yago2s"
      ],
      "text/plain": [
       "<IPython.core.display.Markdown object>"
      ]
     },
     "metadata": {},
     "output_type": "display_data"
    },
    {
     "data": {
      "text/markdown": [
       "## AUC ROC"
      ],
      "text/plain": [
       "<IPython.core.display.Markdown object>"
      ]
     },
     "metadata": {},
     "output_type": "display_data"
    },
    {
     "name": "stdout",
     "output_type": "stream",
     "text": [
      "Scratch: [0.724367 0.721547 0.718682]\n",
      "Transfer: [0.555375 0.560391 0.556285]\n",
      "Transfer & Revision: [0.718071 0.707184 0.718515]\n"
     ]
    },
    {
     "data": {
      "text/markdown": [
       "## AUC PR"
      ],
      "text/plain": [
       "<IPython.core.display.Markdown object>"
      ]
     },
     "metadata": {},
     "output_type": "display_data"
    },
    {
     "name": "stdout",
     "output_type": "stream",
     "text": [
      "Scratch: [0.639366 0.641872 0.645332]\n",
      "Transfer: [0.453503 0.45257  0.447322]\n",
      "Transfer & Revision: [0.636523 0.630539 0.632062]\n"
     ]
    },
    {
     "data": {
      "text/markdown": [
       "## CLL"
      ],
      "text/plain": [
       "<IPython.core.display.Markdown object>"
      ]
     },
     "metadata": {},
     "output_type": "display_data"
    },
    {
     "name": "stdout",
     "output_type": "stream",
     "text": [
      "Scratch: [-0.553938 -0.549721 -0.546954]\n",
      "Transfer: [-0.609148 -0.608257 -0.61225 ]\n",
      "Transfer & Revision: [-0.556058 -0.552669 -0.556614]\n"
     ]
    },
    {
     "data": {
      "text/markdown": [
       "## Recall"
      ],
      "text/plain": [
       "<IPython.core.display.Markdown object>"
      ]
     },
     "metadata": {},
     "output_type": "display_data"
    },
    {
     "name": "stdout",
     "output_type": "stream",
     "text": [
      "Scratch: [0.280311 0.310363 0.318135]\n",
      "Transfer: [0.109326 0.132642 0.129016]\n",
      "Transfer & Revision: [0.292746 0.303627 0.295337]\n"
     ]
    },
    {
     "data": {
      "text/markdown": [
       "## F1"
      ],
      "text/plain": [
       "<IPython.core.display.Markdown object>"
      ]
     },
     "metadata": {},
     "output_type": "display_data"
    },
    {
     "name": "stdout",
     "output_type": "stream",
     "text": [
      "Scratch: [0.419868 0.451224 0.461307]\n",
      "Transfer: [0.19456  0.229494 0.221826]\n",
      "Transfer & Revision: [0.432453 0.444613 0.43412 ]\n"
     ]
    },
    {
     "data": {
      "text/markdown": [
       "## Precision"
      ],
      "text/plain": [
       "<IPython.core.display.Markdown object>"
      ]
     },
     "metadata": {},
     "output_type": "display_data"
    },
    {
     "name": "stdout",
     "output_type": "stream",
     "text": [
      "Scratch: [0.836167 0.826207 0.838798]\n",
      "Transfer: [0.882845 0.850498 0.790476]\n",
      "Transfer & Revision: [0.827233 0.830028 0.818966]\n"
     ]
    },
    {
     "data": {
      "text/markdown": [
       "## Learning and Revision time"
      ],
      "text/plain": [
       "<IPython.core.display.Markdown object>"
      ]
     },
     "metadata": {},
     "output_type": "display_data"
    },
    {
     "name": "stdout",
     "output_type": "stream",
     "text": [
      "Scratch: [758.985 389.329 597.497]\n",
      "Transfer: [171.908 160.187 210.276]\n",
      "Transfer & Revision: [532.268 558.276 595.113]\n"
     ]
    },
    {
     "data": {
      "text/markdown": [
       "## Inference time"
      ],
      "text/plain": [
       "<IPython.core.display.Markdown object>"
      ]
     },
     "metadata": {},
     "output_type": "display_data"
    },
    {
     "name": "stdout",
     "output_type": "stream",
     "text": [
      "Scratch: [56.558 86.734 87.183]\n",
      "Transfer: [171.908 160.187 210.276]\n",
      "Transfer & Revision: [86.491 57.243 59.574]\n"
     ]
    },
    {
     "data": {
      "text/markdown": [
       "# Results for 30_cora_yago2s"
      ],
      "text/plain": [
       "<IPython.core.display.Markdown object>"
      ]
     },
     "metadata": {},
     "output_type": "display_data"
    },
    {
     "data": {
      "text/markdown": [
       "## AUC ROC"
      ],
      "text/plain": [
       "<IPython.core.display.Markdown object>"
      ]
     },
     "metadata": {},
     "output_type": "display_data"
    },
    {
     "name": "stdout",
     "output_type": "stream",
     "text": [
      "Scratch: [0.654208 0.653001 0.652933]\n",
      "Transfer: [0.50235 0.50285 0.50245]\n",
      "Transfer & Revision: [0.6117   0.599016 0.613292]\n"
     ]
    },
    {
     "data": {
      "text/markdown": [
       "## AUC PR"
      ],
      "text/plain": [
       "<IPython.core.display.Markdown object>"
      ]
     },
     "metadata": {},
     "output_type": "display_data"
    },
    {
     "name": "stdout",
     "output_type": "stream",
     "text": [
      "Scratch: [0.534587 0.540606 0.540434]\n",
      "Transfer: [0.342161 0.343793 0.342491]\n",
      "Transfer & Revision: [0.510257 0.503993 0.491018]\n"
     ]
    },
    {
     "data": {
      "text/markdown": [
       "## CLL"
      ],
      "text/plain": [
       "<IPython.core.display.Markdown object>"
      ]
     },
     "metadata": {},
     "output_type": "display_data"
    },
    {
     "name": "stdout",
     "output_type": "stream",
     "text": [
      "Scratch: [-0.601662 -0.600162 -0.598394]\n",
      "Transfer: [-0.636521 -0.636215 -0.63644 ]\n",
      "Transfer & Revision: [-0.609418 -0.608834 -0.615327]\n"
     ]
    },
    {
     "data": {
      "text/markdown": [
       "## Recall"
      ],
      "text/plain": [
       "<IPython.core.display.Markdown object>"
      ]
     },
     "metadata": {},
     "output_type": "display_data"
    },
    {
     "name": "stdout",
     "output_type": "stream",
     "text": [
      "Scratch: [0.0829 0.0894 0.1018]\n",
      "Transfer: [0.0047 0.0057 0.0049]\n",
      "Transfer & Revision: [0.0726 0.0863 0.0553]\n"
     ]
    },
    {
     "data": {
      "text/markdown": [
       "## F1"
      ],
      "text/plain": [
       "<IPython.core.display.Markdown object>"
      ]
     },
     "metadata": {},
     "output_type": "display_data"
    },
    {
     "name": "stdout",
     "output_type": "stream",
     "text": [
      "Scratch: [0.15246  0.163497 0.18402 ]\n",
      "Transfer: [0.009356 0.011335 0.009752]\n",
      "Transfer & Revision: [0.13512  0.158494 0.104438]\n"
     ]
    },
    {
     "data": {
      "text/markdown": [
       "## Precision"
      ],
      "text/plain": [
       "<IPython.core.display.Markdown object>"
      ]
     },
     "metadata": {},
     "output_type": "display_data"
    },
    {
     "name": "stdout",
     "output_type": "stream",
     "text": [
      "Scratch: [0.947429 0.955128 0.956767]\n",
      "Transfer: [1. 1. 1.]\n",
      "Transfer & Revision: [0.97319  0.969663 0.937288]\n"
     ]
    },
    {
     "data": {
      "text/markdown": [
       "## Learning and Revision time"
      ],
      "text/plain": [
       "<IPython.core.display.Markdown object>"
      ]
     },
     "metadata": {},
     "output_type": "display_data"
    },
    {
     "name": "stdout",
     "output_type": "stream",
     "text": [
      "Scratch: [ 788.266 1944.087 1123.241]\n",
      "Transfer: [292.146 273.903 273.548]\n",
      "Transfer & Revision: [ 804.363  691.376 1374.711]\n"
     ]
    },
    {
     "data": {
      "text/markdown": [
       "## Inference time"
      ],
      "text/plain": [
       "<IPython.core.display.Markdown object>"
      ]
     },
     "metadata": {},
     "output_type": "display_data"
    },
    {
     "name": "stdout",
     "output_type": "stream",
     "text": [
      "Scratch: [67.597 74.786 63.996]\n",
      "Transfer: [292.146 273.903 273.548]\n",
      "Transfer & Revision: [61.291 59.136 89.079]\n"
     ]
    }
   ],
   "source": [
    "for j in range(len(experiments)):\n",
    "    dataset = experiments[j]['id'] + '_' + experiments[j]['source'] + '_' + experiments[j]['target']\n",
    "    display(Markdown('# Results for ' + dataset))\n",
    "    table = []\n",
    "    for metric in ['AUC ROC', 'AUC PR', 'CLL', 'Recall', 'F1', 'Precision', 'Learning and Revision time', 'Inference time']:\n",
    "    #for metric in ['AUC ROC', 'AUC PR']:\n",
    "        if dataset in data['results']: \n",
    "            #for metric in ['AUC ROC', 'AUC PR']:\n",
    "            display(Markdown('## ' + metric))\n",
    "            if metric == 'Precision':\n",
    "                scratch = np.array([item['scratch']['Precision'][0] for sublist in data['results'][str(dataset)] for item in sublist])\n",
    "                parameter = np.array([item['transfer']['Parameter Learning results']['Precision'][0] for sublist in data['results'][str(dataset)] for item in sublist])\n",
    "                transfer = np.array([item['transfer']['Precision'][0] for sublist in data['results'][str(dataset)] for item in sublist])\n",
    "            elif metric == 'Learning and Revision time':\n",
    "                scratch = np.array([item['scratch']['Learning time'] for sublist in data['results'][str(dataset)] for item in sublist])\n",
    "                parameter = np.array([item['transfer']['Parameter Learning results']['Learning time'] for sublist in data['results'][str(dataset)] for item in sublist])\n",
    "                transfer = np.array([item['transfer']['Learning time'] for sublist in data['results'][str(dataset)] for item in sublist])\n",
    "            elif metric == 'Inference time':\n",
    "                scratch = np.array([item['scratch']['Inference time'] for sublist in data['results'][str(dataset)] for item in sublist])\n",
    "                parameter = np.array([item['transfer']['Parameter Learning results']['Learning time'] for sublist in data['results'][str(dataset)] for item in sublist])\n",
    "                transfer = np.array([item['transfer']['Inference time'] for sublist in data['results'][str(dataset)] for item in sublist])\n",
    "            else:\n",
    "                scratch = np.array([item['scratch'][metric] for sublist in data['results'][str(dataset)] for item in sublist])\n",
    "                parameter = np.array([item['transfer']['Parameter Learning results'][metric] for sublist in data['results'][str(dataset)] for item in sublist])\n",
    "                transfer = np.array([item['transfer'][metric] for sublist in data['results'][str(dataset)] for item in sublist])\n",
    "            print('Scratch: %s' % scratch)\n",
    "            print('Transfer: %s' % parameter)\n",
    "            print('Transfer & Revision: %s' % transfer)"
   ]
  },
  {
   "cell_type": "code",
   "execution_count": null,
   "metadata": {
    "collapsed": true
   },
   "outputs": [],
   "source": []
  },
  {
   "cell_type": "code",
   "execution_count": null,
   "metadata": {
    "collapsed": true
   },
   "outputs": [],
   "source": []
  }
 ],
 "metadata": {
  "anaconda-cloud": {},
  "kernelspec": {
   "display_name": "Python [conda env:anaconda3]",
   "language": "python",
   "name": "conda-env-anaconda3-py"
  },
  "language_info": {
   "codemirror_mode": {
    "name": "ipython",
    "version": 3
   },
   "file_extension": ".py",
   "mimetype": "text/x-python",
   "name": "python",
   "nbconvert_exporter": "python",
   "pygments_lexer": "ipython3",
   "version": "3.5.2"
  }
 },
 "nbformat": 4,
 "nbformat_minor": 1
}
